{
 "cells": [
  {
   "cell_type": "code",
   "execution_count": 1,
   "id": "92c7a07a-9fbf-4126-9cac-ae09d92ac32e",
   "metadata": {},
   "outputs": [
    {
     "name": "stdout",
     "output_type": "stream",
     "text": [
      "25-08-19 23:20:46.790 pyfstat INFO    : Running PyFstat version 2.2.1+3.6fbce518.dirty\n"
     ]
    },
    {
     "name": "stderr",
     "output_type": "stream",
     "text": [
      "/home/hoitim.cheung/.conda/envs/glitch/lib/python3.10/site-packages/PyFstat-2.2.1+3.6fbce518.dirty-py3.10.egg/pyfstat/core.py:13: UserWarning: Wswiglal-redir-stdio:\n",
      "\n",
      "SWIGLAL standard output/error redirection is enabled in IPython.\n",
      "This may lead to performance penalties. To disable locally, use:\n",
      "\n",
      "with lal.no_swig_redirect_standard_output_error():\n",
      "    ...\n",
      "\n",
      "To disable globally, use:\n",
      "\n",
      "lal.swig_redirect_standard_output_error(False)\n",
      "\n",
      "Note however that this will likely lead to error messages from\n",
      "LAL functions being either misdirected or lost when called from\n",
      "Jupyter notebooks.\n",
      "\n",
      "To suppress this warning, use:\n",
      "\n",
      "import warnings\n",
      "warnings.filterwarnings(\"ignore\", \"Wswiglal-redir-stdio\")\n",
      "import lal\n",
      "\n",
      "  import lal\n"
     ]
    },
    {
     "name": "stdout",
     "output_type": "stream",
     "text": [
      "25-08-19 23:20:50.030 pyfstat.utils.importing INFO    : No $DISPLAY environment variable found, so importing matplotlib.pyplot with non-interactive 'Agg' backend.\n"
     ]
    }
   ],
   "source": [
    "import os\n",
    "from tqdm import tqdm\n",
    "import numpy as np\n",
    "\n",
    "from pyfstat import GlitchWriter, Writer\n",
    "from pyfstat.utils import get_sft_as_arrays\n",
    "import matplotlib.pyplot as plt\n",
    "from matplotlib import colors\n",
    "\n",
    "%matplotlib inline\n",
    "\n",
    "plt.rcParams[\"font.family\"] = \"serif\"\n",
    "plt.rcParams[\"font.size\"] = 20\n",
    "\n",
    "\n",
    "def normalize_array_with_nan(arr):\n",
    "    \"\"\"\n",
    "    Normalizes a 2D array while ignoring NaN values.\n",
    "    \n",
    "    Parameters:\n",
    "    arr (np.ndarray): Input 2D array with shape (m, n)\n",
    "    \n",
    "    Returns:\n",
    "    np.ndarray: Normalized array with NaN values preserved\n",
    "    \"\"\"\n",
    "    # Compute mean and standard deviation, ignoring NaN values\n",
    "    max = np.nanmax(arr)\n",
    "    min = np.nanmin(arr)\n",
    "    \n",
    "    # Normalize the array, keeping NaN values as they are\n",
    "    normalized_arr = (arr - min)/(max-min)\n",
    "    \n",
    "    return normalized_arr\n",
    "\n",
    "def plot_spectrograms(timestamps, frequency, fourier_data):\n",
    "    fig, axs = plt.subplots(1, 1, figsize=(16, 10))\n",
    "    axs = [axs]\n",
    "    for ax in axs:\n",
    "        ax.set(xlabel=\"Days\", ylabel=\"Frequency [Hz]\")\n",
    "\n",
    "    time_in_days = (timestamps - timestamps[0]) / 86400\n",
    "\n",
    "    axs[0].set_title(\"H1\")\n",
    "    c = axs[0].pcolormesh(\n",
    "        time_in_days,\n",
    "        frequency,\n",
    "        fourier_data,\n",
    "        norm=colors.CenteredNorm(),\n",
    "    )\n",
    "    fig.colorbar(c, ax=axs[0], orientation=\"horizontal\", label=\"Fourier Amplitude\")\n",
    "    return fig, axs\n",
    "\n",
    "\n",
    "\n",
    "label = \"test\"\n",
    "outdir = os.path.join(\"testdata\", label)\n"
   ]
  },
  {
   "cell_type": "code",
   "execution_count": null,
   "id": "46f5fa38-0f01-4462-b344-bbbc763d3bc3",
   "metadata": {
    "scrolled": true,
    "tags": []
   },
   "outputs": [
    {
     "name": "stderr",
     "output_type": "stream",
     "text": [
      "  0%|          | 0/7200 [00:00<?, ?it/s]"
     ]
    },
    {
     "name": "stdout",
     "output_type": "stream",
     "text": [
      "25-08-19 23:41:35.043 pyfstat.utils.sft INFO    : Loading 1 SFTs from H1...\n",
      "25-08-19 23:41:35.084 pyfstat.utils.sft INFO    : Loading 1 SFTs from H1...\n",
      "25-08-19 23:41:35.124 pyfstat.utils.sft INFO    : Loading 1 SFTs from H1...\n"
     ]
    },
    {
     "name": "stderr",
     "output_type": "stream",
     "text": [
      "  0%|          | 3/7200 [00:00<05:08, 23.33it/s]"
     ]
    },
    {
     "name": "stdout",
     "output_type": "stream",
     "text": [
      "25-08-19 23:41:35.170 pyfstat.utils.sft INFO    : Loading 1 SFTs from H1...\n",
      "25-08-19 23:41:35.208 pyfstat.utils.sft INFO    : Loading 1 SFTs from H1...\n",
      "25-08-19 23:41:35.252 pyfstat.utils.sft INFO    : Loading 1 SFTs from H1...\n"
     ]
    },
    {
     "name": "stderr",
     "output_type": "stream",
     "text": [
      "  0%|          | 6/7200 [00:00<04:56, 24.24it/s]"
     ]
    },
    {
     "name": "stdout",
     "output_type": "stream",
     "text": [
      "25-08-19 23:41:35.290 pyfstat.utils.sft INFO    : Loading 1 SFTs from H1...\n",
      "25-08-19 23:41:35.329 pyfstat.utils.sft INFO    : Loading 1 SFTs from H1...\n",
      "25-08-19 23:41:35.371 pyfstat.utils.sft INFO    : Loading 1 SFTs from H1...\n"
     ]
    },
    {
     "name": "stderr",
     "output_type": "stream",
     "text": [
      "  0%|          | 9/7200 [00:00<04:42, 25.44it/s]"
     ]
    },
    {
     "name": "stdout",
     "output_type": "stream",
     "text": [
      "25-08-19 23:41:35.401 pyfstat.utils.sft INFO    : Loading 1 SFTs from H1...\n",
      "25-08-19 23:41:35.441 pyfstat.utils.sft INFO    : Loading 1 SFTs from H1...\n",
      "25-08-19 23:41:35.477 pyfstat.utils.sft INFO    : Loading 1 SFTs from H1...\n"
     ]
    },
    {
     "name": "stderr",
     "output_type": "stream",
     "text": [
      "  0%|          | 12/7200 [00:00<04:40, 25.60it/s]"
     ]
    },
    {
     "name": "stdout",
     "output_type": "stream",
     "text": [
      "25-08-19 23:41:35.517 pyfstat.utils.sft INFO    : Loading 1 SFTs from H1...\n",
      "25-08-19 23:41:35.555 pyfstat.utils.sft INFO    : Loading 1 SFTs from H1...\n",
      "25-08-19 23:41:35.594 pyfstat.utils.sft INFO    : Loading 1 SFTs from H1...\n"
     ]
    },
    {
     "name": "stderr",
     "output_type": "stream",
     "text": [
      "  0%|          | 15/7200 [00:00<04:38, 25.77it/s]"
     ]
    },
    {
     "name": "stdout",
     "output_type": "stream",
     "text": [
      "25-08-19 23:41:35.632 pyfstat.utils.sft INFO    : Loading 1 SFTs from H1...\n",
      "25-08-19 23:41:35.670 pyfstat.utils.sft INFO    : Loading 1 SFTs from H1...\n",
      "25-08-19 23:41:35.705 pyfstat.utils.sft INFO    : Loading 1 SFTs from H1...\n"
     ]
    },
    {
     "name": "stderr",
     "output_type": "stream",
     "text": [
      "  0%|          | 18/7200 [00:00<04:35, 26.09it/s]"
     ]
    },
    {
     "name": "stdout",
     "output_type": "stream",
     "text": [
      "25-08-19 23:41:35.745 pyfstat.utils.sft INFO    : Loading 1 SFTs from H1...\n",
      "25-08-19 23:41:35.783 pyfstat.utils.sft INFO    : Loading 1 SFTs from H1...\n",
      "25-08-19 23:41:35.819 pyfstat.utils.sft INFO    : Loading 1 SFTs from H1...\n"
     ]
    },
    {
     "name": "stderr",
     "output_type": "stream",
     "text": [
      "  0%|          | 21/7200 [00:00<04:34, 26.16it/s]"
     ]
    },
    {
     "name": "stdout",
     "output_type": "stream",
     "text": [
      "25-08-19 23:41:35.859 pyfstat.utils.sft INFO    : Loading 1 SFTs from H1...\n",
      "25-08-19 23:41:35.888 pyfstat.utils.sft INFO    : Loading 1 SFTs from H1...\n",
      "25-08-19 23:41:35.925 pyfstat.utils.sft INFO    : Loading 1 SFTs from H1...\n"
     ]
    },
    {
     "name": "stderr",
     "output_type": "stream",
     "text": [
      "  0%|          | 24/7200 [00:00<04:26, 26.89it/s]"
     ]
    },
    {
     "name": "stdout",
     "output_type": "stream",
     "text": [
      "25-08-19 23:41:35.963 pyfstat.utils.sft INFO    : Loading 1 SFTs from H1...\n",
      "25-08-19 23:41:36.000 pyfstat.utils.sft INFO    : Loading 1 SFTs from H1...\n",
      "25-08-19 23:41:36.037 pyfstat.utils.sft INFO    : Loading 1 SFTs from H1...\n"
     ]
    },
    {
     "name": "stderr",
     "output_type": "stream",
     "text": [
      "  0%|          | 27/7200 [00:01<04:28, 26.68it/s]"
     ]
    },
    {
     "name": "stdout",
     "output_type": "stream",
     "text": [
      "25-08-19 23:41:36.078 pyfstat.utils.sft INFO    : Loading 1 SFTs from H1...\n",
      "25-08-19 23:41:36.117 pyfstat.utils.sft INFO    : Loading 1 SFTs from H1...\n",
      "25-08-19 23:41:36.156 pyfstat.utils.sft INFO    : Loading 1 SFTs from H1...\n"
     ]
    },
    {
     "name": "stderr",
     "output_type": "stream",
     "text": [
      "  0%|          | 30/7200 [00:01<04:33, 26.26it/s]"
     ]
    },
    {
     "name": "stdout",
     "output_type": "stream",
     "text": [
      "25-08-19 23:41:36.196 pyfstat.utils.sft INFO    : Loading 1 SFTs from H1...\n",
      "25-08-19 23:41:36.234 pyfstat.utils.sft INFO    : Loading 1 SFTs from H1...\n",
      "25-08-19 23:41:36.272 pyfstat.utils.sft INFO    : Loading 1 SFTs from H1...\n"
     ]
    },
    {
     "name": "stderr",
     "output_type": "stream",
     "text": [
      "  0%|          | 33/7200 [00:01<04:31, 26.36it/s]"
     ]
    },
    {
     "name": "stdout",
     "output_type": "stream",
     "text": [
      "25-08-19 23:41:36.309 pyfstat.utils.sft INFO    : Loading 1 SFTs from H1...\n",
      "25-08-19 23:41:36.347 pyfstat.utils.sft INFO    : Loading 1 SFTs from H1...\n",
      "25-08-19 23:41:36.385 pyfstat.utils.sft INFO    : Loading 1 SFTs from H1...\n"
     ]
    },
    {
     "name": "stderr",
     "output_type": "stream",
     "text": [
      "  0%|          | 36/7200 [00:01<04:32, 26.30it/s]"
     ]
    },
    {
     "name": "stdout",
     "output_type": "stream",
     "text": [
      "25-08-19 23:41:36.424 pyfstat.utils.sft INFO    : Loading 1 SFTs from H1...\n",
      "25-08-19 23:41:36.460 pyfstat.utils.sft INFO    : Loading 1 SFTs from H1...\n",
      "25-08-19 23:41:36.498 pyfstat.utils.sft INFO    : Loading 1 SFTs from H1...\n"
     ]
    },
    {
     "name": "stderr",
     "output_type": "stream",
     "text": [
      "  1%|          | 39/7200 [00:01<04:33, 26.17it/s]"
     ]
    },
    {
     "name": "stdout",
     "output_type": "stream",
     "text": [
      "25-08-19 23:41:36.540 pyfstat.utils.sft INFO    : Loading 1 SFTs from H1...\n",
      "25-08-19 23:41:36.578 pyfstat.utils.sft INFO    : Loading 1 SFTs from H1...\n",
      "25-08-19 23:41:36.613 pyfstat.utils.sft INFO    : Loading 1 SFTs from H1...\n"
     ]
    },
    {
     "name": "stderr",
     "output_type": "stream",
     "text": [
      "  1%|          | 42/7200 [00:01<04:30, 26.49it/s]"
     ]
    },
    {
     "name": "stdout",
     "output_type": "stream",
     "text": [
      "25-08-19 23:41:36.649 pyfstat.utils.sft INFO    : Loading 1 SFTs from H1...\n",
      "25-08-19 23:41:36.688 pyfstat.utils.sft INFO    : Loading 1 SFTs from H1...\n",
      "25-08-19 23:41:36.726 pyfstat.utils.sft INFO    : Loading 1 SFTs from H1...\n"
     ]
    },
    {
     "name": "stderr",
     "output_type": "stream",
     "text": [
      "  1%|          | 45/7200 [00:01<04:31, 26.37it/s]"
     ]
    },
    {
     "name": "stdout",
     "output_type": "stream",
     "text": [
      "25-08-19 23:41:36.765 pyfstat.utils.sft INFO    : Loading 1 SFTs from H1...\n",
      "25-08-19 23:41:36.801 pyfstat.utils.sft INFO    : Loading 1 SFTs from H1...\n",
      "25-08-19 23:41:36.839 pyfstat.utils.sft INFO    : Loading 1 SFTs from H1...\n"
     ]
    },
    {
     "name": "stderr",
     "output_type": "stream",
     "text": [
      "  1%|          | 48/7200 [00:01<04:31, 26.32it/s]"
     ]
    },
    {
     "name": "stdout",
     "output_type": "stream",
     "text": [
      "25-08-19 23:41:36.879 pyfstat.utils.sft INFO    : Loading 1 SFTs from H1...\n",
      "25-08-19 23:41:36.920 pyfstat.utils.sft INFO    : Loading 1 SFTs from H1...\n",
      "25-08-19 23:41:36.959 pyfstat.utils.sft INFO    : Loading 1 SFTs from H1...\n"
     ]
    },
    {
     "name": "stderr",
     "output_type": "stream",
     "text": [
      "  1%|          | 51/7200 [00:01<04:37, 25.80it/s]"
     ]
    },
    {
     "name": "stdout",
     "output_type": "stream",
     "text": [
      "25-08-19 23:41:37.000 pyfstat.utils.sft INFO    : Loading 1 SFTs from H1...\n",
      "25-08-19 23:41:37.038 pyfstat.utils.sft INFO    : Loading 1 SFTs from H1...\n",
      "25-08-19 23:41:37.077 pyfstat.utils.sft INFO    : Loading 1 SFTs from H1...\n"
     ]
    },
    {
     "name": "stderr",
     "output_type": "stream",
     "text": [
      "  1%|          | 54/7200 [00:02<04:36, 25.83it/s]"
     ]
    },
    {
     "name": "stdout",
     "output_type": "stream",
     "text": [
      "25-08-19 23:41:37.117 pyfstat.utils.sft INFO    : Loading 1 SFTs from H1...\n",
      "25-08-19 23:41:37.157 pyfstat.utils.sft INFO    : Loading 1 SFTs from H1...\n",
      "25-08-19 23:41:37.196 pyfstat.utils.sft INFO    : Loading 1 SFTs from H1...\n"
     ]
    },
    {
     "name": "stderr",
     "output_type": "stream",
     "text": [
      "  1%|          | 57/7200 [00:02<04:37, 25.71it/s]"
     ]
    },
    {
     "name": "stdout",
     "output_type": "stream",
     "text": [
      "25-08-19 23:41:37.235 pyfstat.utils.sft INFO    : Loading 1 SFTs from H1...\n",
      "25-08-19 23:41:37.276 pyfstat.utils.sft INFO    : Loading 1 SFTs from H1...\n",
      "25-08-19 23:41:37.318 pyfstat.utils.sft INFO    : Loading 1 SFTs from H1...\n"
     ]
    },
    {
     "name": "stderr",
     "output_type": "stream",
     "text": [
      "  1%|          | 60/7200 [00:02<04:42, 25.26it/s]"
     ]
    },
    {
     "name": "stdout",
     "output_type": "stream",
     "text": [
      "25-08-19 23:41:37.359 pyfstat.utils.sft INFO    : Loading 1 SFTs from H1...\n",
      "25-08-19 23:41:37.398 pyfstat.utils.sft INFO    : Loading 1 SFTs from H1...\n",
      "25-08-19 23:41:37.436 pyfstat.utils.sft INFO    : Loading 1 SFTs from H1...\n"
     ]
    },
    {
     "name": "stderr",
     "output_type": "stream",
     "text": [
      "  1%|          | 63/7200 [00:02<04:42, 25.30it/s]"
     ]
    },
    {
     "name": "stdout",
     "output_type": "stream",
     "text": [
      "25-08-19 23:41:37.476 pyfstat.utils.sft INFO    : Loading 1 SFTs from H1...\n",
      "25-08-19 23:41:37.515 pyfstat.utils.sft INFO    : Loading 1 SFTs from H1...\n",
      "25-08-19 23:41:37.554 pyfstat.utils.sft INFO    : Loading 1 SFTs from H1...\n"
     ]
    },
    {
     "name": "stderr",
     "output_type": "stream",
     "text": [
      "  1%|          | 66/7200 [00:02<04:41, 25.31it/s]"
     ]
    },
    {
     "name": "stdout",
     "output_type": "stream",
     "text": [
      "25-08-19 23:41:37.595 pyfstat.utils.sft INFO    : Loading 1 SFTs from H1...\n",
      "25-08-19 23:41:37.636 pyfstat.utils.sft INFO    : Loading 1 SFTs from H1...\n",
      "25-08-19 23:41:37.674 pyfstat.utils.sft INFO    : Loading 1 SFTs from H1...\n"
     ]
    },
    {
     "name": "stderr",
     "output_type": "stream",
     "text": [
      "  1%|          | 69/7200 [00:02<04:43, 25.16it/s]"
     ]
    },
    {
     "name": "stdout",
     "output_type": "stream",
     "text": [
      "25-08-19 23:41:37.716 pyfstat.utils.sft INFO    : Loading 1 SFTs from H1...\n",
      "25-08-19 23:41:37.763 pyfstat.utils.sft INFO    : Loading 1 SFTs from H1...\n",
      "25-08-19 23:41:37.804 pyfstat.utils.sft INFO    : Loading 1 SFTs from H1...\n"
     ]
    },
    {
     "name": "stderr",
     "output_type": "stream",
     "text": [
      "  1%|          | 72/7200 [00:02<04:51, 24.49it/s]"
     ]
    },
    {
     "name": "stdout",
     "output_type": "stream",
     "text": [
      "25-08-19 23:41:37.847 pyfstat.utils.sft INFO    : Loading 1 SFTs from H1...\n",
      "25-08-19 23:41:37.888 pyfstat.utils.sft INFO    : Loading 1 SFTs from H1...\n",
      "25-08-19 23:41:37.930 pyfstat.utils.sft INFO    : Loading 1 SFTs from H1...\n"
     ]
    },
    {
     "name": "stderr",
     "output_type": "stream",
     "text": [
      "  1%|          | 75/7200 [00:02<04:53, 24.30it/s]"
     ]
    },
    {
     "name": "stdout",
     "output_type": "stream",
     "text": [
      "25-08-19 23:41:37.972 pyfstat.utils.sft INFO    : Loading 1 SFTs from H1...\n",
      "25-08-19 23:41:38.010 pyfstat.utils.sft INFO    : Loading 1 SFTs from H1...\n",
      "25-08-19 23:41:38.054 pyfstat.utils.sft INFO    : Loading 1 SFTs from H1...\n"
     ]
    },
    {
     "name": "stderr",
     "output_type": "stream",
     "text": [
      "  1%|          | 78/7200 [00:03<04:52, 24.35it/s]"
     ]
    },
    {
     "name": "stdout",
     "output_type": "stream",
     "text": [
      "25-08-19 23:41:38.094 pyfstat.utils.sft INFO    : Loading 1 SFTs from H1...\n",
      "25-08-19 23:41:38.135 pyfstat.utils.sft INFO    : Loading 1 SFTs from H1...\n",
      "25-08-19 23:41:38.179 pyfstat.utils.sft INFO    : Loading 1 SFTs from H1...\n"
     ]
    },
    {
     "name": "stderr",
     "output_type": "stream",
     "text": [
      "  1%|          | 81/7200 [00:03<04:54, 24.16it/s]"
     ]
    },
    {
     "name": "stdout",
     "output_type": "stream",
     "text": [
      "25-08-19 23:41:38.220 pyfstat.utils.sft INFO    : Loading 1 SFTs from H1...\n",
      "25-08-19 23:41:38.266 pyfstat.utils.sft INFO    : Loading 1 SFTs from H1...\n",
      "25-08-19 23:41:38.306 pyfstat.utils.sft INFO    : Loading 1 SFTs from H1...\n"
     ]
    },
    {
     "name": "stderr",
     "output_type": "stream",
     "text": [
      "  1%|          | 84/7200 [00:03<04:57, 23.90it/s]"
     ]
    },
    {
     "name": "stdout",
     "output_type": "stream",
     "text": [
      "25-08-19 23:41:38.349 pyfstat.utils.sft INFO    : Loading 1 SFTs from H1...\n",
      "25-08-19 23:41:38.389 pyfstat.utils.sft INFO    : Loading 1 SFTs from H1...\n",
      "25-08-19 23:41:38.429 pyfstat.utils.sft INFO    : Loading 1 SFTs from H1...\n"
     ]
    },
    {
     "name": "stderr",
     "output_type": "stream",
     "text": [
      "  1%|          | 87/7200 [00:03<04:54, 24.14it/s]"
     ]
    },
    {
     "name": "stdout",
     "output_type": "stream",
     "text": [
      "25-08-19 23:41:38.470 pyfstat.utils.sft INFO    : Loading 1 SFTs from H1...\n",
      "25-08-19 23:41:38.509 pyfstat.utils.sft INFO    : Loading 1 SFTs from H1...\n",
      "25-08-19 23:41:38.547 pyfstat.utils.sft INFO    : Loading 1 SFTs from H1...\n"
     ]
    },
    {
     "name": "stderr",
     "output_type": "stream",
     "text": [
      "  1%|▏         | 90/7200 [00:03<04:53, 24.24it/s]"
     ]
    },
    {
     "name": "stdout",
     "output_type": "stream",
     "text": [
      "25-08-19 23:41:38.593 pyfstat.utils.sft INFO    : Loading 1 SFTs from H1...\n",
      "25-08-19 23:41:38.636 pyfstat.utils.sft INFO    : Loading 1 SFTs from H1...\n",
      "25-08-19 23:41:38.677 pyfstat.utils.sft INFO    : Loading 1 SFTs from H1...\n"
     ]
    },
    {
     "name": "stderr",
     "output_type": "stream",
     "text": [
      "  1%|▏         | 93/7200 [00:03<04:53, 24.17it/s]"
     ]
    },
    {
     "name": "stdout",
     "output_type": "stream",
     "text": [
      "25-08-19 23:41:38.718 pyfstat.utils.sft INFO    : Loading 1 SFTs from H1...\n",
      "25-08-19 23:41:38.757 pyfstat.utils.sft INFO    : Loading 1 SFTs from H1...\n",
      "25-08-19 23:41:38.796 pyfstat.utils.sft INFO    : Loading 1 SFTs from H1...\n"
     ]
    },
    {
     "name": "stderr",
     "output_type": "stream",
     "text": [
      "  1%|▏         | 96/7200 [00:03<04:49, 24.53it/s]"
     ]
    },
    {
     "name": "stdout",
     "output_type": "stream",
     "text": [
      "25-08-19 23:41:38.836 pyfstat.utils.sft INFO    : Loading 1 SFTs from H1...\n",
      "25-08-19 23:41:38.875 pyfstat.utils.sft INFO    : Loading 1 SFTs from H1...\n",
      "25-08-19 23:41:38.917 pyfstat.utils.sft INFO    : Loading 1 SFTs from H1...\n"
     ]
    },
    {
     "name": "stderr",
     "output_type": "stream",
     "text": [
      "  1%|▏         | 99/7200 [00:03<04:48, 24.58it/s]"
     ]
    },
    {
     "name": "stdout",
     "output_type": "stream",
     "text": [
      "25-08-19 23:41:38.957 pyfstat.utils.sft INFO    : Loading 1 SFTs from H1...\n",
      "25-08-19 23:41:38.995 pyfstat.utils.sft INFO    : Loading 1 SFTs from H1...\n",
      "25-08-19 23:41:39.034 pyfstat.utils.sft INFO    : Loading 1 SFTs from H1...\n"
     ]
    },
    {
     "name": "stderr",
     "output_type": "stream",
     "text": [
      "  1%|▏         | 102/7200 [00:04<04:48, 24.64it/s]"
     ]
    },
    {
     "name": "stdout",
     "output_type": "stream",
     "text": [
      "25-08-19 23:41:39.075 pyfstat.utils.sft INFO    : Loading 1 SFTs from H1...\n",
      "25-08-19 23:41:39.114 pyfstat.utils.sft INFO    : Loading 1 SFTs from H1...\n",
      "25-08-19 23:41:39.154 pyfstat.utils.sft INFO    : Loading 1 SFTs from H1...\n"
     ]
    },
    {
     "name": "stderr",
     "output_type": "stream",
     "text": [
      "  1%|▏         | 105/7200 [00:04<04:43, 25.01it/s]"
     ]
    },
    {
     "name": "stdout",
     "output_type": "stream",
     "text": [
      "25-08-19 23:41:39.195 pyfstat.utils.sft INFO    : Loading 1 SFTs from H1...\n",
      "25-08-19 23:41:39.233 pyfstat.utils.sft INFO    : Loading 1 SFTs from H1...\n",
      "25-08-19 23:41:39.272 pyfstat.utils.sft INFO    : Loading 1 SFTs from H1...\n"
     ]
    },
    {
     "name": "stderr",
     "output_type": "stream",
     "text": [
      "  2%|▏         | 108/7200 [00:04<04:42, 25.09it/s]"
     ]
    },
    {
     "name": "stdout",
     "output_type": "stream",
     "text": [
      "25-08-19 23:41:39.313 pyfstat.utils.sft INFO    : Loading 1 SFTs from H1...\n",
      "25-08-19 23:41:39.352 pyfstat.utils.sft INFO    : Loading 1 SFTs from H1...\n",
      "25-08-19 23:41:39.392 pyfstat.utils.sft INFO    : Loading 1 SFTs from H1...\n"
     ]
    },
    {
     "name": "stderr",
     "output_type": "stream",
     "text": [
      "  2%|▏         | 111/7200 [00:04<04:42, 25.07it/s]"
     ]
    },
    {
     "name": "stdout",
     "output_type": "stream",
     "text": [
      "25-08-19 23:41:39.433 pyfstat.utils.sft INFO    : Loading 1 SFTs from H1...\n",
      "25-08-19 23:41:39.471 pyfstat.utils.sft INFO    : Loading 1 SFTs from H1...\n",
      "25-08-19 23:41:39.511 pyfstat.utils.sft INFO    : Loading 1 SFTs from H1...\n"
     ]
    },
    {
     "name": "stderr",
     "output_type": "stream",
     "text": [
      "  2%|▏         | 114/7200 [00:04<04:42, 25.12it/s]"
     ]
    },
    {
     "name": "stdout",
     "output_type": "stream",
     "text": [
      "25-08-19 23:41:39.552 pyfstat.utils.sft INFO    : Loading 1 SFTs from H1...\n",
      "25-08-19 23:41:39.592 pyfstat.utils.sft INFO    : Loading 1 SFTs from H1...\n",
      "25-08-19 23:41:39.632 pyfstat.utils.sft INFO    : Loading 1 SFTs from H1...\n"
     ]
    },
    {
     "name": "stderr",
     "output_type": "stream",
     "text": [
      "  2%|▏         | 117/7200 [00:04<04:42, 25.05it/s]"
     ]
    },
    {
     "name": "stdout",
     "output_type": "stream",
     "text": [
      "25-08-19 23:41:39.672 pyfstat.utils.sft INFO    : Loading 1 SFTs from H1...\n",
      "25-08-19 23:41:39.711 pyfstat.utils.sft INFO    : Loading 1 SFTs from H1...\n",
      "25-08-19 23:41:39.751 pyfstat.utils.sft INFO    : Loading 1 SFTs from H1...\n"
     ]
    },
    {
     "name": "stderr",
     "output_type": "stream",
     "text": [
      "  2%|▏         | 120/7200 [00:04<04:41, 25.13it/s]"
     ]
    },
    {
     "name": "stdout",
     "output_type": "stream",
     "text": [
      "25-08-19 23:41:39.791 pyfstat.utils.sft INFO    : Loading 1 SFTs from H1...\n",
      "25-08-19 23:41:39.833 pyfstat.utils.sft INFO    : Loading 1 SFTs from H1...\n",
      "25-08-19 23:41:39.872 pyfstat.utils.sft INFO    : Loading 1 SFTs from H1...\n"
     ]
    },
    {
     "name": "stderr",
     "output_type": "stream",
     "text": [
      "  2%|▏         | 123/7200 [00:04<04:42, 25.09it/s]"
     ]
    },
    {
     "name": "stdout",
     "output_type": "stream",
     "text": [
      "25-08-19 23:41:39.911 pyfstat.utils.sft INFO    : Loading 1 SFTs from H1...\n",
      "25-08-19 23:41:39.949 pyfstat.utils.sft INFO    : Loading 1 SFTs from H1...\n",
      "25-08-19 23:41:39.988 pyfstat.utils.sft INFO    : Loading 1 SFTs from H1...\n"
     ]
    },
    {
     "name": "stderr",
     "output_type": "stream",
     "text": [
      "  2%|▏         | 126/7200 [00:04<04:41, 25.17it/s]"
     ]
    },
    {
     "name": "stdout",
     "output_type": "stream",
     "text": [
      "25-08-19 23:41:40.029 pyfstat.utils.sft INFO    : Loading 1 SFTs from H1...\n",
      "25-08-19 23:41:40.071 pyfstat.utils.sft INFO    : Loading 1 SFTs from H1...\n",
      "25-08-19 23:41:40.110 pyfstat.utils.sft INFO    : Loading 1 SFTs from H1...\n"
     ]
    },
    {
     "name": "stderr",
     "output_type": "stream",
     "text": [
      "  2%|▏         | 129/7200 [00:05<04:42, 25.01it/s]"
     ]
    },
    {
     "name": "stdout",
     "output_type": "stream",
     "text": [
      "25-08-19 23:41:40.151 pyfstat.utils.sft INFO    : Loading 1 SFTs from H1...\n",
      "25-08-19 23:41:40.192 pyfstat.utils.sft INFO    : Loading 1 SFTs from H1...\n",
      "25-08-19 23:41:40.232 pyfstat.utils.sft INFO    : Loading 1 SFTs from H1...\n"
     ]
    },
    {
     "name": "stderr",
     "output_type": "stream",
     "text": [
      "  2%|▏         | 132/7200 [00:05<04:44, 24.85it/s]"
     ]
    },
    {
     "name": "stdout",
     "output_type": "stream",
     "text": [
      "25-08-19 23:41:40.278 pyfstat.utils.sft INFO    : Loading 1 SFTs from H1...\n",
      "25-08-19 23:41:40.319 pyfstat.utils.sft INFO    : Loading 1 SFTs from H1...\n",
      "25-08-19 23:41:40.363 pyfstat.utils.sft INFO    : Loading 1 SFTs from H1...\n"
     ]
    },
    {
     "name": "stderr",
     "output_type": "stream",
     "text": [
      "  2%|▏         | 135/7200 [00:05<04:52, 24.12it/s]"
     ]
    },
    {
     "name": "stdout",
     "output_type": "stream",
     "text": [
      "25-08-19 23:41:40.406 pyfstat.utils.sft INFO    : Loading 1 SFTs from H1...\n",
      "25-08-19 23:41:40.445 pyfstat.utils.sft INFO    : Loading 1 SFTs from H1...\n",
      "25-08-19 23:41:40.478 pyfstat.utils.sft INFO    : Loading 1 SFTs from H1...\n"
     ]
    },
    {
     "name": "stderr",
     "output_type": "stream",
     "text": [
      "  2%|▏         | 138/7200 [00:05<04:44, 24.86it/s]"
     ]
    },
    {
     "name": "stdout",
     "output_type": "stream",
     "text": [
      "25-08-19 23:41:40.518 pyfstat.utils.sft INFO    : Loading 1 SFTs from H1...\n",
      "25-08-19 23:41:40.557 pyfstat.utils.sft INFO    : Loading 1 SFTs from H1...\n",
      "25-08-19 23:41:40.596 pyfstat.utils.sft INFO    : Loading 1 SFTs from H1...\n"
     ]
    },
    {
     "name": "stderr",
     "output_type": "stream",
     "text": [
      "  2%|▏         | 141/7200 [00:05<04:45, 24.72it/s]"
     ]
    },
    {
     "name": "stdout",
     "output_type": "stream",
     "text": [
      "25-08-19 23:41:40.641 pyfstat.utils.sft INFO    : Loading 1 SFTs from H1...\n",
      "25-08-19 23:41:40.681 pyfstat.utils.sft INFO    : Loading 1 SFTs from H1...\n",
      "25-08-19 23:41:40.717 pyfstat.utils.sft INFO    : Loading 1 SFTs from H1...\n"
     ]
    },
    {
     "name": "stderr",
     "output_type": "stream",
     "text": [
      "  2%|▏         | 144/7200 [00:05<04:41, 25.09it/s]"
     ]
    },
    {
     "name": "stdout",
     "output_type": "stream",
     "text": [
      "25-08-19 23:41:40.756 pyfstat.utils.sft INFO    : Loading 1 SFTs from H1...\n",
      "25-08-19 23:41:40.796 pyfstat.utils.sft INFO    : Loading 1 SFTs from H1...\n",
      "25-08-19 23:41:40.837 pyfstat.utils.sft INFO    : Loading 1 SFTs from H1...\n"
     ]
    },
    {
     "name": "stderr",
     "output_type": "stream",
     "text": [
      "  2%|▏         | 147/7200 [00:05<04:42, 24.98it/s]"
     ]
    },
    {
     "name": "stdout",
     "output_type": "stream",
     "text": [
      "25-08-19 23:41:40.878 pyfstat.utils.sft INFO    : Loading 1 SFTs from H1...\n",
      "25-08-19 23:41:40.917 pyfstat.utils.sft INFO    : Loading 1 SFTs from H1...\n",
      "25-08-19 23:41:40.956 pyfstat.utils.sft INFO    : Loading 1 SFTs from H1...\n"
     ]
    },
    {
     "name": "stderr",
     "output_type": "stream",
     "text": [
      "  2%|▏         | 150/7200 [00:05<04:40, 25.11it/s]"
     ]
    },
    {
     "name": "stdout",
     "output_type": "stream",
     "text": [
      "25-08-19 23:41:40.996 pyfstat.utils.sft INFO    : Loading 1 SFTs from H1...\n",
      "25-08-19 23:41:41.036 pyfstat.utils.sft INFO    : Loading 1 SFTs from H1...\n",
      "25-08-19 23:41:41.078 pyfstat.utils.sft INFO    : Loading 1 SFTs from H1...\n"
     ]
    },
    {
     "name": "stderr",
     "output_type": "stream",
     "text": [
      "  2%|▏         | 153/7200 [00:06<04:42, 24.99it/s]"
     ]
    },
    {
     "name": "stdout",
     "output_type": "stream",
     "text": [
      "25-08-19 23:41:41.118 pyfstat.utils.sft INFO    : Loading 1 SFTs from H1...\n",
      "25-08-19 23:41:41.156 pyfstat.utils.sft INFO    : Loading 1 SFTs from H1...\n",
      "25-08-19 23:41:41.197 pyfstat.utils.sft INFO    : Loading 1 SFTs from H1...\n"
     ]
    },
    {
     "name": "stderr",
     "output_type": "stream",
     "text": [
      "  2%|▏         | 156/7200 [00:06<04:42, 24.91it/s]"
     ]
    },
    {
     "name": "stdout",
     "output_type": "stream",
     "text": [
      "25-08-19 23:41:41.239 pyfstat.utils.sft INFO    : Loading 1 SFTs from H1...\n",
      "25-08-19 23:41:41.284 pyfstat.utils.sft INFO    : Loading 1 SFTs from H1...\n",
      "25-08-19 23:41:41.326 pyfstat.utils.sft INFO    : Loading 1 SFTs from H1...\n"
     ]
    },
    {
     "name": "stderr",
     "output_type": "stream",
     "text": [
      "  2%|▏         | 159/7200 [00:06<04:49, 24.31it/s]"
     ]
    },
    {
     "name": "stdout",
     "output_type": "stream",
     "text": [
      "25-08-19 23:41:41.369 pyfstat.utils.sft INFO    : Loading 1 SFTs from H1...\n",
      "25-08-19 23:41:41.411 pyfstat.utils.sft INFO    : Loading 1 SFTs from H1...\n",
      "25-08-19 23:41:41.453 pyfstat.utils.sft INFO    : Loading 1 SFTs from H1...\n"
     ]
    },
    {
     "name": "stderr",
     "output_type": "stream",
     "text": [
      "  2%|▏         | 162/7200 [00:06<04:50, 24.20it/s]"
     ]
    },
    {
     "name": "stdout",
     "output_type": "stream",
     "text": [
      "25-08-19 23:41:41.494 pyfstat.utils.sft INFO    : Loading 1 SFTs from H1...\n",
      "25-08-19 23:41:41.533 pyfstat.utils.sft INFO    : Loading 1 SFTs from H1...\n",
      "25-08-19 23:41:41.573 pyfstat.utils.sft INFO    : Loading 1 SFTs from H1...\n"
     ]
    },
    {
     "name": "stderr",
     "output_type": "stream",
     "text": [
      "  2%|▏         | 165/7200 [00:06<04:44, 24.72it/s]"
     ]
    },
    {
     "name": "stdout",
     "output_type": "stream",
     "text": [
      "25-08-19 23:41:41.610 pyfstat.utils.sft INFO    : Loading 1 SFTs from H1...\n",
      "25-08-19 23:41:41.650 pyfstat.utils.sft INFO    : Loading 1 SFTs from H1...\n",
      "25-08-19 23:41:41.689 pyfstat.utils.sft INFO    : Loading 1 SFTs from H1...\n"
     ]
    },
    {
     "name": "stderr",
     "output_type": "stream",
     "text": [
      "  2%|▏         | 168/7200 [00:06<04:41, 25.01it/s]"
     ]
    },
    {
     "name": "stdout",
     "output_type": "stream",
     "text": [
      "25-08-19 23:41:41.726 pyfstat.utils.sft INFO    : Loading 1 SFTs from H1...\n",
      "25-08-19 23:41:41.764 pyfstat.utils.sft INFO    : Loading 1 SFTs from H1...\n",
      "25-08-19 23:41:41.804 pyfstat.utils.sft INFO    : Loading 1 SFTs from H1...\n"
     ]
    },
    {
     "name": "stderr",
     "output_type": "stream",
     "text": [
      "  2%|▏         | 171/7200 [00:06<04:35, 25.52it/s]"
     ]
    },
    {
     "name": "stdout",
     "output_type": "stream",
     "text": [
      "25-08-19 23:41:41.839 pyfstat.utils.sft INFO    : Loading 1 SFTs from H1...\n",
      "25-08-19 23:41:41.878 pyfstat.utils.sft INFO    : Loading 1 SFTs from H1...\n",
      "25-08-19 23:41:41.920 pyfstat.utils.sft INFO    : Loading 1 SFTs from H1...\n"
     ]
    },
    {
     "name": "stderr",
     "output_type": "stream",
     "text": [
      "  2%|▏         | 174/7200 [00:06<04:39, 25.17it/s]"
     ]
    },
    {
     "name": "stdout",
     "output_type": "stream",
     "text": [
      "25-08-19 23:41:41.961 pyfstat.utils.sft INFO    : Loading 1 SFTs from H1...\n",
      "25-08-19 23:41:42.000 pyfstat.utils.sft INFO    : Loading 1 SFTs from H1...\n",
      "25-08-19 23:41:42.039 pyfstat.utils.sft INFO    : Loading 1 SFTs from H1...\n"
     ]
    },
    {
     "name": "stderr",
     "output_type": "stream",
     "text": [
      "  2%|▏         | 177/7200 [00:07<04:39, 25.16it/s]"
     ]
    },
    {
     "name": "stdout",
     "output_type": "stream",
     "text": [
      "25-08-19 23:41:42.081 pyfstat.utils.sft INFO    : Loading 1 SFTs from H1...\n",
      "25-08-19 23:41:42.123 pyfstat.utils.sft INFO    : Loading 1 SFTs from H1...\n",
      "25-08-19 23:41:42.162 pyfstat.utils.sft INFO    : Loading 1 SFTs from H1...\n"
     ]
    },
    {
     "name": "stderr",
     "output_type": "stream",
     "text": [
      "  2%|▎         | 180/7200 [00:07<04:41, 24.95it/s]"
     ]
    },
    {
     "name": "stdout",
     "output_type": "stream",
     "text": [
      "25-08-19 23:41:42.204 pyfstat.utils.sft INFO    : Loading 1 SFTs from H1...\n",
      "25-08-19 23:41:42.244 pyfstat.utils.sft INFO    : Loading 1 SFTs from H1...\n",
      "25-08-19 23:41:42.283 pyfstat.utils.sft INFO    : Loading 1 SFTs from H1...\n"
     ]
    },
    {
     "name": "stderr",
     "output_type": "stream",
     "text": [
      "  3%|▎         | 183/7200 [00:07<04:40, 24.99it/s]"
     ]
    },
    {
     "name": "stdout",
     "output_type": "stream",
     "text": [
      "25-08-19 23:41:42.323 pyfstat.utils.sft INFO    : Loading 1 SFTs from H1...\n",
      "25-08-19 23:41:42.359 pyfstat.utils.sft INFO    : Loading 1 SFTs from H1...\n",
      "25-08-19 23:41:42.399 pyfstat.utils.sft INFO    : Loading 1 SFTs from H1...\n"
     ]
    },
    {
     "name": "stderr",
     "output_type": "stream",
     "text": [
      "  3%|▎         | 186/7200 [00:07<04:37, 25.25it/s]"
     ]
    },
    {
     "name": "stdout",
     "output_type": "stream",
     "text": [
      "25-08-19 23:41:42.439 pyfstat.utils.sft INFO    : Loading 1 SFTs from H1...\n",
      "25-08-19 23:41:42.476 pyfstat.utils.sft INFO    : Loading 1 SFTs from H1...\n",
      "25-08-19 23:41:42.514 pyfstat.utils.sft INFO    : Loading 1 SFTs from H1...\n"
     ]
    },
    {
     "name": "stderr",
     "output_type": "stream",
     "text": [
      "  3%|▎         | 189/7200 [00:07<04:35, 25.42it/s]"
     ]
    },
    {
     "name": "stdout",
     "output_type": "stream",
     "text": [
      "25-08-19 23:41:42.555 pyfstat.utils.sft INFO    : Loading 1 SFTs from H1...\n",
      "25-08-19 23:41:42.594 pyfstat.utils.sft INFO    : Loading 1 SFTs from H1...\n",
      "25-08-19 23:41:42.633 pyfstat.utils.sft INFO    : Loading 1 SFTs from H1...\n"
     ]
    },
    {
     "name": "stderr",
     "output_type": "stream",
     "text": [
      "  3%|▎         | 192/7200 [00:07<04:36, 25.38it/s]"
     ]
    },
    {
     "name": "stdout",
     "output_type": "stream",
     "text": [
      "25-08-19 23:41:42.673 pyfstat.utils.sft INFO    : Loading 1 SFTs from H1...\n",
      "25-08-19 23:41:42.713 pyfstat.utils.sft INFO    : Loading 1 SFTs from H1...\n",
      "25-08-19 23:41:42.752 pyfstat.utils.sft INFO    : Loading 1 SFTs from H1...\n"
     ]
    },
    {
     "name": "stderr",
     "output_type": "stream",
     "text": [
      "  3%|▎         | 195/7200 [00:07<04:37, 25.28it/s]"
     ]
    },
    {
     "name": "stdout",
     "output_type": "stream",
     "text": [
      "25-08-19 23:41:42.793 pyfstat.utils.sft INFO    : Loading 1 SFTs from H1...\n",
      "25-08-19 23:41:42.834 pyfstat.utils.sft INFO    : Loading 1 SFTs from H1...\n",
      "25-08-19 23:41:42.872 pyfstat.utils.sft INFO    : Loading 1 SFTs from H1...\n"
     ]
    },
    {
     "name": "stderr",
     "output_type": "stream",
     "text": [
      "  3%|▎         | 198/7200 [00:07<04:37, 25.20it/s]"
     ]
    },
    {
     "name": "stdout",
     "output_type": "stream",
     "text": [
      "25-08-19 23:41:42.913 pyfstat.utils.sft INFO    : Loading 1 SFTs from H1...\n",
      "25-08-19 23:41:42.953 pyfstat.utils.sft INFO    : Loading 1 SFTs from H1...\n",
      "25-08-19 23:41:42.994 pyfstat.utils.sft INFO    : Loading 1 SFTs from H1...\n"
     ]
    },
    {
     "name": "stderr",
     "output_type": "stream",
     "text": [
      "  3%|▎         | 201/7200 [00:07<04:38, 25.12it/s]"
     ]
    },
    {
     "name": "stdout",
     "output_type": "stream",
     "text": [
      "25-08-19 23:41:43.033 pyfstat.utils.sft INFO    : Loading 1 SFTs from H1...\n",
      "25-08-19 23:41:43.075 pyfstat.utils.sft INFO    : Loading 1 SFTs from H1...\n",
      "25-08-19 23:41:43.118 pyfstat.utils.sft INFO    : Loading 1 SFTs from H1...\n"
     ]
    },
    {
     "name": "stderr",
     "output_type": "stream",
     "text": [
      "  3%|▎         | 204/7200 [00:08<04:43, 24.72it/s]"
     ]
    },
    {
     "name": "stdout",
     "output_type": "stream",
     "text": [
      "25-08-19 23:41:43.159 pyfstat.utils.sft INFO    : Loading 1 SFTs from H1...\n",
      "25-08-19 23:41:43.192 pyfstat.utils.sft INFO    : Loading 1 SFTs from H1...\n",
      "25-08-19 23:41:43.233 pyfstat.utils.sft INFO    : Loading 1 SFTs from H1...\n"
     ]
    },
    {
     "name": "stderr",
     "output_type": "stream",
     "text": [
      "  3%|▎         | 207/7200 [00:08<04:38, 25.12it/s]"
     ]
    },
    {
     "name": "stdout",
     "output_type": "stream",
     "text": [
      "25-08-19 23:41:43.274 pyfstat.utils.sft INFO    : Loading 1 SFTs from H1...\n",
      "25-08-19 23:41:43.318 pyfstat.utils.sft INFO    : Loading 1 SFTs from H1...\n",
      "25-08-19 23:41:43.359 pyfstat.utils.sft INFO    : Loading 1 SFTs from H1...\n"
     ]
    },
    {
     "name": "stderr",
     "output_type": "stream",
     "text": [
      "  3%|▎         | 210/7200 [00:08<04:43, 24.65it/s]"
     ]
    },
    {
     "name": "stdout",
     "output_type": "stream",
     "text": [
      "25-08-19 23:41:43.402 pyfstat.utils.sft INFO    : Loading 1 SFTs from H1...\n",
      "25-08-19 23:41:43.442 pyfstat.utils.sft INFO    : Loading 1 SFTs from H1...\n",
      "25-08-19 23:41:43.484 pyfstat.utils.sft INFO    : Loading 1 SFTs from H1...\n"
     ]
    },
    {
     "name": "stderr",
     "output_type": "stream",
     "text": [
      "  3%|▎         | 213/7200 [00:08<04:41, 24.79it/s]"
     ]
    },
    {
     "name": "stdout",
     "output_type": "stream",
     "text": [
      "25-08-19 23:41:43.521 pyfstat.utils.sft INFO    : Loading 1 SFTs from H1...\n",
      "25-08-19 23:41:43.558 pyfstat.utils.sft INFO    : Loading 1 SFTs from H1...\n",
      "25-08-19 23:41:43.599 pyfstat.utils.sft INFO    : Loading 1 SFTs from H1...\n"
     ]
    },
    {
     "name": "stderr",
     "output_type": "stream",
     "text": [
      "  3%|▎         | 216/7200 [00:08<04:40, 24.87it/s]"
     ]
    },
    {
     "name": "stdout",
     "output_type": "stream",
     "text": [
      "25-08-19 23:41:43.640 pyfstat.utils.sft INFO    : Loading 1 SFTs from H1...\n",
      "25-08-19 23:41:43.681 pyfstat.utils.sft INFO    : Loading 1 SFTs from H1...\n",
      "25-08-19 23:41:43.723 pyfstat.utils.sft INFO    : Loading 1 SFTs from H1...\n"
     ]
    },
    {
     "name": "stderr",
     "output_type": "stream",
     "text": [
      "  3%|▎         | 219/7200 [00:08<04:42, 24.71it/s]"
     ]
    },
    {
     "name": "stdout",
     "output_type": "stream",
     "text": [
      "25-08-19 23:41:43.764 pyfstat.utils.sft INFO    : Loading 1 SFTs from H1...\n",
      "25-08-19 23:41:43.804 pyfstat.utils.sft INFO    : Loading 1 SFTs from H1...\n",
      "25-08-19 23:41:43.846 pyfstat.utils.sft INFO    : Loading 1 SFTs from H1...\n"
     ]
    },
    {
     "name": "stderr",
     "output_type": "stream",
     "text": [
      "  3%|▎         | 222/7200 [00:08<04:46, 24.35it/s]"
     ]
    },
    {
     "name": "stdout",
     "output_type": "stream",
     "text": [
      "25-08-19 23:41:43.891 pyfstat.utils.sft INFO    : Loading 1 SFTs from H1...\n",
      "25-08-19 23:41:43.934 pyfstat.utils.sft INFO    : Loading 1 SFTs from H1...\n",
      "25-08-19 23:41:43.975 pyfstat.utils.sft INFO    : Loading 1 SFTs from H1...\n"
     ]
    },
    {
     "name": "stderr",
     "output_type": "stream",
     "text": [
      "  3%|▎         | 225/7200 [00:08<04:46, 24.35it/s]"
     ]
    },
    {
     "name": "stdout",
     "output_type": "stream",
     "text": [
      "25-08-19 23:41:44.014 pyfstat.utils.sft INFO    : Loading 1 SFTs from H1...\n",
      "25-08-19 23:41:44.055 pyfstat.utils.sft INFO    : Loading 1 SFTs from H1...\n",
      "25-08-19 23:41:44.095 pyfstat.utils.sft INFO    : Loading 1 SFTs from H1...\n"
     ]
    },
    {
     "name": "stderr",
     "output_type": "stream",
     "text": [
      "  3%|▎         | 228/7200 [00:09<04:46, 24.35it/s]"
     ]
    },
    {
     "name": "stdout",
     "output_type": "stream",
     "text": [
      "25-08-19 23:41:44.137 pyfstat.utils.sft INFO    : Loading 1 SFTs from H1...\n",
      "25-08-19 23:41:44.179 pyfstat.utils.sft INFO    : Loading 1 SFTs from H1...\n",
      "25-08-19 23:41:44.219 pyfstat.utils.sft INFO    : Loading 1 SFTs from H1...\n"
     ]
    },
    {
     "name": "stderr",
     "output_type": "stream",
     "text": [
      "  3%|▎         | 231/7200 [00:09<04:45, 24.37it/s]"
     ]
    },
    {
     "name": "stdout",
     "output_type": "stream",
     "text": [
      "25-08-19 23:41:44.260 pyfstat.utils.sft INFO    : Loading 1 SFTs from H1...\n",
      "25-08-19 23:41:44.304 pyfstat.utils.sft INFO    : Loading 1 SFTs from H1...\n",
      "25-08-19 23:41:44.345 pyfstat.utils.sft INFO    : Loading 1 SFTs from H1...\n"
     ]
    },
    {
     "name": "stderr",
     "output_type": "stream",
     "text": [
      "  3%|▎         | 234/7200 [00:09<04:48, 24.19it/s]"
     ]
    },
    {
     "name": "stdout",
     "output_type": "stream",
     "text": [
      "25-08-19 23:41:44.387 pyfstat.utils.sft INFO    : Loading 1 SFTs from H1...\n",
      "25-08-19 23:41:44.427 pyfstat.utils.sft INFO    : Loading 1 SFTs from H1...\n",
      "25-08-19 23:41:44.467 pyfstat.utils.sft INFO    : Loading 1 SFTs from H1...\n"
     ]
    },
    {
     "name": "stderr",
     "output_type": "stream",
     "text": [
      "  3%|▎         | 237/7200 [00:09<04:48, 24.15it/s]"
     ]
    },
    {
     "name": "stdout",
     "output_type": "stream",
     "text": [
      "25-08-19 23:41:44.511 pyfstat.utils.sft INFO    : Loading 1 SFTs from H1...\n",
      "25-08-19 23:41:44.551 pyfstat.utils.sft INFO    : Loading 1 SFTs from H1...\n",
      "25-08-19 23:41:44.591 pyfstat.utils.sft INFO    : Loading 1 SFTs from H1...\n"
     ]
    },
    {
     "name": "stderr",
     "output_type": "stream",
     "text": [
      "  3%|▎         | 240/7200 [00:09<04:47, 24.22it/s]"
     ]
    },
    {
     "name": "stdout",
     "output_type": "stream",
     "text": [
      "25-08-19 23:41:44.634 pyfstat.utils.sft INFO    : Loading 1 SFTs from H1...\n",
      "25-08-19 23:41:44.673 pyfstat.utils.sft INFO    : Loading 1 SFTs from H1...\n",
      "25-08-19 23:41:44.716 pyfstat.utils.sft INFO    : Loading 1 SFTs from H1...\n"
     ]
    },
    {
     "name": "stderr",
     "output_type": "stream",
     "text": [
      "  3%|▎         | 243/7200 [00:09<04:46, 24.26it/s]"
     ]
    },
    {
     "name": "stdout",
     "output_type": "stream",
     "text": [
      "25-08-19 23:41:44.757 pyfstat.utils.sft INFO    : Loading 1 SFTs from H1...\n",
      "25-08-19 23:41:44.798 pyfstat.utils.sft INFO    : Loading 1 SFTs from H1...\n",
      "25-08-19 23:41:44.840 pyfstat.utils.sft INFO    : Loading 1 SFTs from H1...\n"
     ]
    },
    {
     "name": "stderr",
     "output_type": "stream",
     "text": [
      "  3%|▎         | 246/7200 [00:09<04:45, 24.36it/s]"
     ]
    },
    {
     "name": "stdout",
     "output_type": "stream",
     "text": [
      "25-08-19 23:41:44.880 pyfstat.utils.sft INFO    : Loading 1 SFTs from H1...\n",
      "25-08-19 23:41:44.921 pyfstat.utils.sft INFO    : Loading 1 SFTs from H1...\n",
      "25-08-19 23:41:44.961 pyfstat.utils.sft INFO    : Loading 1 SFTs from H1...\n"
     ]
    },
    {
     "name": "stderr",
     "output_type": "stream",
     "text": [
      "  3%|▎         | 249/7200 [00:09<04:43, 24.50it/s]"
     ]
    },
    {
     "name": "stdout",
     "output_type": "stream",
     "text": [
      "25-08-19 23:41:45.000 pyfstat.utils.sft INFO    : Loading 1 SFTs from H1...\n",
      "25-08-19 23:41:45.044 pyfstat.utils.sft INFO    : Loading 1 SFTs from H1...\n",
      "25-08-19 23:41:45.084 pyfstat.utils.sft INFO    : Loading 1 SFTs from H1...\n"
     ]
    },
    {
     "name": "stderr",
     "output_type": "stream",
     "text": [
      "  4%|▎         | 252/7200 [00:10<04:44, 24.38it/s]"
     ]
    },
    {
     "name": "stdout",
     "output_type": "stream",
     "text": [
      "25-08-19 23:41:45.125 pyfstat.utils.sft INFO    : Loading 1 SFTs from H1...\n",
      "25-08-19 23:41:45.166 pyfstat.utils.sft INFO    : Loading 1 SFTs from H1...\n",
      "25-08-19 23:41:45.207 pyfstat.utils.sft INFO    : Loading 1 SFTs from H1...\n"
     ]
    },
    {
     "name": "stderr",
     "output_type": "stream",
     "text": [
      "  4%|▎         | 255/7200 [00:10<04:44, 24.37it/s]"
     ]
    },
    {
     "name": "stdout",
     "output_type": "stream",
     "text": [
      "25-08-19 23:41:45.248 pyfstat.utils.sft INFO    : Loading 1 SFTs from H1...\n",
      "25-08-19 23:41:45.285 pyfstat.utils.sft INFO    : Loading 1 SFTs from H1...\n",
      "25-08-19 23:41:45.323 pyfstat.utils.sft INFO    : Loading 1 SFTs from H1...\n"
     ]
    },
    {
     "name": "stderr",
     "output_type": "stream",
     "text": [
      "  4%|▎         | 258/7200 [00:10<04:39, 24.86it/s]"
     ]
    },
    {
     "name": "stdout",
     "output_type": "stream",
     "text": [
      "25-08-19 23:41:45.363 pyfstat.utils.sft INFO    : Loading 1 SFTs from H1...\n",
      "25-08-19 23:41:45.409 pyfstat.utils.sft INFO    : Loading 1 SFTs from H1...\n",
      "25-08-19 23:41:45.448 pyfstat.utils.sft INFO    : Loading 1 SFTs from H1...\n"
     ]
    },
    {
     "name": "stderr",
     "output_type": "stream",
     "text": [
      "  4%|▎         | 261/7200 [00:10<04:40, 24.73it/s]"
     ]
    },
    {
     "name": "stdout",
     "output_type": "stream",
     "text": [
      "25-08-19 23:41:45.486 pyfstat.utils.sft INFO    : Loading 1 SFTs from H1...\n",
      "25-08-19 23:41:45.528 pyfstat.utils.sft INFO    : Loading 1 SFTs from H1...\n",
      "25-08-19 23:41:45.568 pyfstat.utils.sft INFO    : Loading 1 SFTs from H1...\n"
     ]
    },
    {
     "name": "stderr",
     "output_type": "stream",
     "text": [
      "  4%|▎         | 264/7200 [00:10<04:40, 24.70it/s]"
     ]
    },
    {
     "name": "stdout",
     "output_type": "stream",
     "text": [
      "25-08-19 23:41:45.607 pyfstat.utils.sft INFO    : Loading 1 SFTs from H1...\n",
      "25-08-19 23:41:45.650 pyfstat.utils.sft INFO    : Loading 1 SFTs from H1...\n",
      "25-08-19 23:41:45.690 pyfstat.utils.sft INFO    : Loading 1 SFTs from H1...\n"
     ]
    },
    {
     "name": "stderr",
     "output_type": "stream",
     "text": [
      "  4%|▎         | 267/7200 [00:10<04:42, 24.50it/s]"
     ]
    },
    {
     "name": "stdout",
     "output_type": "stream",
     "text": [
      "25-08-19 23:41:45.732 pyfstat.utils.sft INFO    : Loading 1 SFTs from H1...\n",
      "25-08-19 23:41:45.771 pyfstat.utils.sft INFO    : Loading 1 SFTs from H1...\n",
      "25-08-19 23:41:45.814 pyfstat.utils.sft INFO    : Loading 1 SFTs from H1...\n"
     ]
    },
    {
     "name": "stderr",
     "output_type": "stream",
     "text": [
      "  4%|▍         | 270/7200 [00:10<04:40, 24.67it/s]"
     ]
    },
    {
     "name": "stdout",
     "output_type": "stream",
     "text": [
      "25-08-19 23:41:45.852 pyfstat.utils.sft INFO    : Loading 1 SFTs from H1...\n",
      "25-08-19 23:41:45.894 pyfstat.utils.sft INFO    : Loading 1 SFTs from H1...\n",
      "25-08-19 23:41:45.935 pyfstat.utils.sft INFO    : Loading 1 SFTs from H1...\n"
     ]
    },
    {
     "name": "stderr",
     "output_type": "stream",
     "text": [
      "  4%|▍         | 273/7200 [00:10<04:47, 24.13it/s]"
     ]
    },
    {
     "name": "stdout",
     "output_type": "stream",
     "text": [
      "25-08-19 23:41:45.979 pyfstat.utils.sft INFO    : Loading 1 SFTs from H1...\n",
      "25-08-19 23:41:46.014 pyfstat.utils.sft INFO    : Loading 1 SFTs from H1...\n",
      "25-08-19 23:41:46.053 pyfstat.utils.sft INFO    : Loading 1 SFTs from H1...\n"
     ]
    },
    {
     "name": "stderr",
     "output_type": "stream",
     "text": [
      "  4%|▍         | 276/7200 [00:11<04:39, 24.80it/s]"
     ]
    },
    {
     "name": "stdout",
     "output_type": "stream",
     "text": [
      "25-08-19 23:41:46.095 pyfstat.utils.sft INFO    : Loading 1 SFTs from H1...\n",
      "25-08-19 23:41:46.137 pyfstat.utils.sft INFO    : Loading 1 SFTs from H1...\n",
      "25-08-19 23:41:46.179 pyfstat.utils.sft INFO    : Loading 1 SFTs from H1...\n"
     ]
    },
    {
     "name": "stderr",
     "output_type": "stream",
     "text": [
      "  4%|▍         | 279/7200 [00:11<04:40, 24.67it/s]"
     ]
    },
    {
     "name": "stdout",
     "output_type": "stream",
     "text": [
      "25-08-19 23:41:46.219 pyfstat.utils.sft INFO    : Loading 1 SFTs from H1...\n",
      "25-08-19 23:41:46.251 pyfstat.utils.sft INFO    : Loading 1 SFTs from H1...\n",
      "25-08-19 23:41:46.292 pyfstat.utils.sft INFO    : Loading 1 SFTs from H1...\n"
     ]
    },
    {
     "name": "stderr",
     "output_type": "stream",
     "text": [
      "  4%|▍         | 282/7200 [00:11<04:35, 25.09it/s]"
     ]
    },
    {
     "name": "stdout",
     "output_type": "stream",
     "text": [
      "25-08-19 23:41:46.334 pyfstat.utils.sft INFO    : Loading 1 SFTs from H1...\n",
      "25-08-19 23:41:46.374 pyfstat.utils.sft INFO    : Loading 1 SFTs from H1...\n",
      "25-08-19 23:41:46.413 pyfstat.utils.sft INFO    : Loading 1 SFTs from H1...\n"
     ]
    },
    {
     "name": "stderr",
     "output_type": "stream",
     "text": [
      "  4%|▍         | 285/7200 [00:11<04:40, 24.63it/s]"
     ]
    },
    {
     "name": "stdout",
     "output_type": "stream",
     "text": [
      "25-08-19 23:41:46.461 pyfstat.utils.sft INFO    : Loading 1 SFTs from H1...\n",
      "25-08-19 23:41:46.501 pyfstat.utils.sft INFO    : Loading 1 SFTs from H1...\n",
      "25-08-19 23:41:46.544 pyfstat.utils.sft INFO    : Loading 1 SFTs from H1...\n"
     ]
    },
    {
     "name": "stderr",
     "output_type": "stream",
     "text": [
      "  4%|▍         | 288/7200 [00:11<04:44, 24.29it/s]"
     ]
    },
    {
     "name": "stdout",
     "output_type": "stream",
     "text": [
      "25-08-19 23:41:46.588 pyfstat.utils.sft INFO    : Loading 1 SFTs from H1...\n",
      "25-08-19 23:41:46.628 pyfstat.utils.sft INFO    : Loading 1 SFTs from H1...\n",
      "25-08-19 23:41:46.668 pyfstat.utils.sft INFO    : Loading 1 SFTs from H1...\n"
     ]
    },
    {
     "name": "stderr",
     "output_type": "stream",
     "text": [
      "  4%|▍         | 291/7200 [00:11<04:42, 24.47it/s]"
     ]
    },
    {
     "name": "stdout",
     "output_type": "stream",
     "text": [
      "25-08-19 23:41:46.709 pyfstat.utils.sft INFO    : Loading 1 SFTs from H1...\n",
      "25-08-19 23:41:46.748 pyfstat.utils.sft INFO    : Loading 1 SFTs from H1...\n",
      "25-08-19 23:41:46.787 pyfstat.utils.sft INFO    : Loading 1 SFTs from H1...\n"
     ]
    },
    {
     "name": "stderr",
     "output_type": "stream",
     "text": [
      "  4%|▍         | 294/7200 [00:11<04:39, 24.69it/s]"
     ]
    },
    {
     "name": "stdout",
     "output_type": "stream",
     "text": [
      "25-08-19 23:41:46.828 pyfstat.utils.sft INFO    : Loading 1 SFTs from H1...\n",
      "25-08-19 23:41:46.861 pyfstat.utils.sft INFO    : Loading 1 SFTs from H1...\n",
      "25-08-19 23:41:46.902 pyfstat.utils.sft INFO    : Loading 1 SFTs from H1...\n"
     ]
    },
    {
     "name": "stderr",
     "output_type": "stream",
     "text": [
      "  4%|▍         | 297/7200 [00:11<04:39, 24.72it/s]"
     ]
    },
    {
     "name": "stdout",
     "output_type": "stream",
     "text": [
      "25-08-19 23:41:46.951 pyfstat.utils.sft INFO    : Loading 1 SFTs from H1...\n",
      "25-08-19 23:41:46.994 pyfstat.utils.sft INFO    : Loading 1 SFTs from H1...\n",
      "25-08-19 23:41:47.034 pyfstat.utils.sft INFO    : Loading 1 SFTs from H1...\n"
     ]
    },
    {
     "name": "stderr",
     "output_type": "stream",
     "text": [
      "  4%|▍         | 300/7200 [00:12<04:42, 24.44it/s]"
     ]
    },
    {
     "name": "stdout",
     "output_type": "stream",
     "text": [
      "25-08-19 23:41:47.075 pyfstat.utils.sft INFO    : Loading 1 SFTs from H1...\n",
      "25-08-19 23:41:47.117 pyfstat.utils.sft INFO    : Loading 1 SFTs from H1...\n",
      "25-08-19 23:41:47.157 pyfstat.utils.sft INFO    : Loading 1 SFTs from H1...\n"
     ]
    },
    {
     "name": "stderr",
     "output_type": "stream",
     "text": [
      "  4%|▍         | 303/7200 [00:12<04:42, 24.38it/s]"
     ]
    },
    {
     "name": "stdout",
     "output_type": "stream",
     "text": [
      "25-08-19 23:41:47.199 pyfstat.utils.sft INFO    : Loading 1 SFTs from H1...\n",
      "25-08-19 23:41:47.239 pyfstat.utils.sft INFO    : Loading 1 SFTs from H1...\n",
      "25-08-19 23:41:47.278 pyfstat.utils.sft INFO    : Loading 1 SFTs from H1...\n"
     ]
    },
    {
     "name": "stderr",
     "output_type": "stream",
     "text": [
      "  4%|▍         | 306/7200 [00:12<04:41, 24.47it/s]"
     ]
    },
    {
     "name": "stdout",
     "output_type": "stream",
     "text": [
      "25-08-19 23:41:47.320 pyfstat.utils.sft INFO    : Loading 1 SFTs from H1...\n",
      "25-08-19 23:41:47.359 pyfstat.utils.sft INFO    : Loading 1 SFTs from H1...\n",
      "25-08-19 23:41:47.400 pyfstat.utils.sft INFO    : Loading 1 SFTs from H1...\n"
     ]
    },
    {
     "name": "stderr",
     "output_type": "stream",
     "text": [
      "  4%|▍         | 309/7200 [00:12<04:39, 24.64it/s]"
     ]
    },
    {
     "name": "stdout",
     "output_type": "stream",
     "text": [
      "25-08-19 23:41:47.439 pyfstat.utils.sft INFO    : Loading 1 SFTs from H1...\n",
      "25-08-19 23:41:47.478 pyfstat.utils.sft INFO    : Loading 1 SFTs from H1...\n",
      "25-08-19 23:41:47.519 pyfstat.utils.sft INFO    : Loading 1 SFTs from H1...\n"
     ]
    },
    {
     "name": "stderr",
     "output_type": "stream",
     "text": [
      "  4%|▍         | 312/7200 [00:12<04:37, 24.82it/s]"
     ]
    },
    {
     "name": "stdout",
     "output_type": "stream",
     "text": [
      "25-08-19 23:41:47.559 pyfstat.utils.sft INFO    : Loading 1 SFTs from H1...\n",
      "25-08-19 23:41:47.598 pyfstat.utils.sft INFO    : Loading 1 SFTs from H1...\n",
      "25-08-19 23:41:47.637 pyfstat.utils.sft INFO    : Loading 1 SFTs from H1...\n"
     ]
    },
    {
     "name": "stderr",
     "output_type": "stream",
     "text": [
      "  4%|▍         | 315/7200 [00:12<04:37, 24.78it/s]"
     ]
    },
    {
     "name": "stdout",
     "output_type": "stream",
     "text": [
      "25-08-19 23:41:47.680 pyfstat.utils.sft INFO    : Loading 1 SFTs from H1...\n",
      "25-08-19 23:41:47.718 pyfstat.utils.sft INFO    : Loading 1 SFTs from H1...\n",
      "25-08-19 23:41:47.760 pyfstat.utils.sft INFO    : Loading 1 SFTs from H1...\n"
     ]
    },
    {
     "name": "stderr",
     "output_type": "stream",
     "text": [
      "  4%|▍         | 318/7200 [00:12<04:36, 24.89it/s]"
     ]
    },
    {
     "name": "stdout",
     "output_type": "stream",
     "text": [
      "25-08-19 23:41:47.799 pyfstat.utils.sft INFO    : Loading 1 SFTs from H1...\n",
      "25-08-19 23:41:47.838 pyfstat.utils.sft INFO    : Loading 1 SFTs from H1...\n",
      "25-08-19 23:41:47.858 pyfstat.utils.sft INFO    : Loading 1 SFTs from H1...\n",
      "25-08-19 23:41:47.896 pyfstat.utils.sft INFO    : Loading 1 SFTs from H1...\n"
     ]
    },
    {
     "name": "stderr",
     "output_type": "stream",
     "text": [
      "  4%|▍         | 322/7200 [00:12<04:21, 26.32it/s]"
     ]
    },
    {
     "name": "stdout",
     "output_type": "stream",
     "text": [
      "25-08-19 23:41:47.936 pyfstat.utils.sft INFO    : Loading 1 SFTs from H1...\n",
      "25-08-19 23:41:47.979 pyfstat.utils.sft INFO    : Loading 1 SFTs from H1...\n",
      "25-08-19 23:41:48.019 pyfstat.utils.sft INFO    : Loading 1 SFTs from H1...\n"
     ]
    },
    {
     "name": "stderr",
     "output_type": "stream",
     "text": [
      "  5%|▍         | 325/7200 [00:13<04:27, 25.74it/s]"
     ]
    },
    {
     "name": "stdout",
     "output_type": "stream",
     "text": [
      "25-08-19 23:41:48.059 pyfstat.utils.sft INFO    : Loading 1 SFTs from H1...\n",
      "25-08-19 23:41:48.100 pyfstat.utils.sft INFO    : Loading 1 SFTs from H1...\n",
      "25-08-19 23:41:48.137 pyfstat.utils.sft INFO    : Loading 1 SFTs from H1...\n"
     ]
    },
    {
     "name": "stderr",
     "output_type": "stream",
     "text": [
      "  5%|▍         | 328/7200 [00:13<04:27, 25.66it/s]"
     ]
    },
    {
     "name": "stdout",
     "output_type": "stream",
     "text": [
      "25-08-19 23:41:48.177 pyfstat.utils.sft INFO    : Loading 1 SFTs from H1...\n",
      "25-08-19 23:41:48.216 pyfstat.utils.sft INFO    : Loading 1 SFTs from H1...\n",
      "25-08-19 23:41:48.253 pyfstat.utils.sft INFO    : Loading 1 SFTs from H1...\n"
     ]
    },
    {
     "name": "stderr",
     "output_type": "stream",
     "text": [
      "  5%|▍         | 331/7200 [00:13<04:26, 25.75it/s]"
     ]
    },
    {
     "name": "stdout",
     "output_type": "stream",
     "text": [
      "25-08-19 23:41:48.293 pyfstat.utils.sft INFO    : Loading 1 SFTs from H1...\n",
      "25-08-19 23:41:48.324 pyfstat.utils.sft INFO    : Loading 1 SFTs from H1...\n",
      "25-08-19 23:41:48.362 pyfstat.utils.sft INFO    : Loading 1 SFTs from H1...\n"
     ]
    },
    {
     "name": "stderr",
     "output_type": "stream",
     "text": [
      "  5%|▍         | 334/7200 [00:13<04:21, 26.22it/s]"
     ]
    },
    {
     "name": "stdout",
     "output_type": "stream",
     "text": [
      "25-08-19 23:41:48.398 pyfstat.utils.sft INFO    : Loading 1 SFTs from H1...\n",
      "25-08-19 23:41:48.437 pyfstat.utils.sft INFO    : Loading 1 SFTs from H1...\n",
      "25-08-19 23:41:48.478 pyfstat.utils.sft INFO    : Loading 1 SFTs from H1...\n"
     ]
    },
    {
     "name": "stderr",
     "output_type": "stream",
     "text": [
      "  5%|▍         | 337/7200 [00:13<04:22, 26.11it/s]"
     ]
    },
    {
     "name": "stdout",
     "output_type": "stream",
     "text": [
      "25-08-19 23:41:48.518 pyfstat.utils.sft INFO    : Loading 1 SFTs from H1...\n",
      "25-08-19 23:41:48.555 pyfstat.utils.sft INFO    : Loading 1 SFTs from H1...\n",
      "25-08-19 23:41:48.592 pyfstat.utils.sft INFO    : Loading 1 SFTs from H1...\n"
     ]
    },
    {
     "name": "stderr",
     "output_type": "stream",
     "text": [
      "  5%|▍         | 340/7200 [00:13<04:21, 26.20it/s]"
     ]
    },
    {
     "name": "stdout",
     "output_type": "stream",
     "text": [
      "25-08-19 23:41:48.632 pyfstat.utils.sft INFO    : Loading 1 SFTs from H1...\n",
      "25-08-19 23:41:48.671 pyfstat.utils.sft INFO    : Loading 1 SFTs from H1...\n",
      "25-08-19 23:41:48.705 pyfstat.utils.sft INFO    : Loading 1 SFTs from H1...\n"
     ]
    },
    {
     "name": "stderr",
     "output_type": "stream",
     "text": [
      "  5%|▍         | 343/7200 [00:13<04:21, 26.21it/s]"
     ]
    },
    {
     "name": "stdout",
     "output_type": "stream",
     "text": [
      "25-08-19 23:41:48.746 pyfstat.utils.sft INFO    : Loading 1 SFTs from H1...\n",
      "25-08-19 23:41:48.784 pyfstat.utils.sft INFO    : Loading 1 SFTs from H1...\n",
      "25-08-19 23:41:48.825 pyfstat.utils.sft INFO    : Loading 1 SFTs from H1...\n"
     ]
    },
    {
     "name": "stderr",
     "output_type": "stream",
     "text": [
      "  5%|▍         | 346/7200 [00:13<04:25, 25.78it/s]"
     ]
    },
    {
     "name": "stdout",
     "output_type": "stream",
     "text": [
      "25-08-19 23:41:48.867 pyfstat.utils.sft INFO    : Loading 1 SFTs from H1...\n",
      "25-08-19 23:41:48.911 pyfstat.utils.sft INFO    : Loading 1 SFTs from H1...\n",
      "25-08-19 23:41:48.951 pyfstat.utils.sft INFO    : Loading 1 SFTs from H1...\n"
     ]
    },
    {
     "name": "stderr",
     "output_type": "stream",
     "text": [
      "  5%|▍         | 349/7200 [00:13<04:31, 25.26it/s]"
     ]
    },
    {
     "name": "stdout",
     "output_type": "stream",
     "text": [
      "25-08-19 23:41:48.992 pyfstat.utils.sft INFO    : Loading 1 SFTs from H1...\n",
      "25-08-19 23:41:49.032 pyfstat.utils.sft INFO    : Loading 1 SFTs from H1...\n",
      "25-08-19 23:41:49.072 pyfstat.utils.sft INFO    : Loading 1 SFTs from H1...\n"
     ]
    },
    {
     "name": "stderr",
     "output_type": "stream",
     "text": [
      "  5%|▍         | 352/7200 [00:14<04:32, 25.14it/s]"
     ]
    },
    {
     "name": "stdout",
     "output_type": "stream",
     "text": [
      "25-08-19 23:41:49.111 pyfstat.utils.sft INFO    : Loading 1 SFTs from H1...\n",
      "25-08-19 23:41:49.150 pyfstat.utils.sft INFO    : Loading 1 SFTs from H1...\n",
      "25-08-19 23:41:49.191 pyfstat.utils.sft INFO    : Loading 1 SFTs from H1...\n"
     ]
    },
    {
     "name": "stderr",
     "output_type": "stream",
     "text": [
      "  5%|▍         | 355/7200 [00:14<04:33, 25.06it/s]"
     ]
    },
    {
     "name": "stdout",
     "output_type": "stream",
     "text": [
      "25-08-19 23:41:49.232 pyfstat.utils.sft INFO    : Loading 1 SFTs from H1...\n",
      "25-08-19 23:41:49.278 pyfstat.utils.sft INFO    : Loading 1 SFTs from H1...\n",
      "25-08-19 23:41:49.318 pyfstat.utils.sft INFO    : Loading 1 SFTs from H1...\n"
     ]
    },
    {
     "name": "stderr",
     "output_type": "stream",
     "text": [
      "  5%|▍         | 358/7200 [00:14<04:37, 24.62it/s]"
     ]
    },
    {
     "name": "stdout",
     "output_type": "stream",
     "text": [
      "25-08-19 23:41:49.360 pyfstat.utils.sft INFO    : Loading 1 SFTs from H1...\n",
      "25-08-19 23:41:49.403 pyfstat.utils.sft INFO    : Loading 1 SFTs from H1...\n",
      "25-08-19 23:41:49.446 pyfstat.utils.sft INFO    : Loading 1 SFTs from H1...\n"
     ]
    },
    {
     "name": "stderr",
     "output_type": "stream",
     "text": [
      "  5%|▌         | 361/7200 [00:14<04:41, 24.27it/s]"
     ]
    },
    {
     "name": "stdout",
     "output_type": "stream",
     "text": [
      "25-08-19 23:41:49.487 pyfstat.utils.sft INFO    : Loading 1 SFTs from H1...\n",
      "25-08-19 23:41:49.526 pyfstat.utils.sft INFO    : Loading 1 SFTs from H1...\n",
      "25-08-19 23:41:49.567 pyfstat.utils.sft INFO    : Loading 1 SFTs from H1...\n"
     ]
    },
    {
     "name": "stderr",
     "output_type": "stream",
     "text": [
      "  5%|▌         | 364/7200 [00:14<04:40, 24.37it/s]"
     ]
    },
    {
     "name": "stdout",
     "output_type": "stream",
     "text": [
      "25-08-19 23:41:49.610 pyfstat.utils.sft INFO    : Loading 1 SFTs from H1...\n",
      "25-08-19 23:41:49.653 pyfstat.utils.sft INFO    : Loading 1 SFTs from H1...\n",
      "25-08-19 23:41:49.692 pyfstat.utils.sft INFO    : Loading 1 SFTs from H1...\n"
     ]
    },
    {
     "name": "stderr",
     "output_type": "stream",
     "text": [
      "  5%|▌         | 367/7200 [00:14<04:39, 24.43it/s]"
     ]
    },
    {
     "name": "stdout",
     "output_type": "stream",
     "text": [
      "25-08-19 23:41:49.731 pyfstat.utils.sft INFO    : Loading 1 SFTs from H1...\n",
      "25-08-19 23:41:49.770 pyfstat.utils.sft INFO    : Loading 1 SFTs from H1...\n",
      "25-08-19 23:41:49.809 pyfstat.utils.sft INFO    : Loading 1 SFTs from H1...\n"
     ]
    },
    {
     "name": "stderr",
     "output_type": "stream",
     "text": [
      "  5%|▌         | 370/7200 [00:14<04:39, 24.41it/s]"
     ]
    },
    {
     "name": "stdout",
     "output_type": "stream",
     "text": [
      "25-08-19 23:41:49.853 pyfstat.utils.sft INFO    : Loading 1 SFTs from H1...\n",
      "25-08-19 23:41:49.896 pyfstat.utils.sft INFO    : Loading 1 SFTs from H1...\n",
      "25-08-19 23:41:49.938 pyfstat.utils.sft INFO    : Loading 1 SFTs from H1...\n"
     ]
    },
    {
     "name": "stderr",
     "output_type": "stream",
     "text": [
      "  5%|▌         | 373/7200 [00:14<04:41, 24.28it/s]"
     ]
    },
    {
     "name": "stdout",
     "output_type": "stream",
     "text": [
      "25-08-19 23:41:49.980 pyfstat.utils.sft INFO    : Loading 1 SFTs from H1...\n",
      "25-08-19 23:41:50.020 pyfstat.utils.sft INFO    : Loading 1 SFTs from H1...\n",
      "25-08-19 23:41:50.061 pyfstat.utils.sft INFO    : Loading 1 SFTs from H1...\n"
     ]
    },
    {
     "name": "stderr",
     "output_type": "stream",
     "text": [
      "  5%|▌         | 376/7200 [00:15<04:39, 24.38it/s]"
     ]
    },
    {
     "name": "stdout",
     "output_type": "stream",
     "text": [
      "25-08-19 23:41:50.102 pyfstat.utils.sft INFO    : Loading 1 SFTs from H1...\n",
      "25-08-19 23:41:50.142 pyfstat.utils.sft INFO    : Loading 1 SFTs from H1...\n",
      "25-08-19 23:41:50.182 pyfstat.utils.sft INFO    : Loading 1 SFTs from H1...\n"
     ]
    },
    {
     "name": "stderr",
     "output_type": "stream",
     "text": [
      "  5%|▌         | 379/7200 [00:15<04:40, 24.35it/s]"
     ]
    },
    {
     "name": "stdout",
     "output_type": "stream",
     "text": [
      "25-08-19 23:41:50.225 pyfstat.utils.sft INFO    : Loading 1 SFTs from H1...\n",
      "25-08-19 23:41:50.269 pyfstat.utils.sft INFO    : Loading 1 SFTs from H1...\n",
      "25-08-19 23:41:50.311 pyfstat.utils.sft INFO    : Loading 1 SFTs from H1...\n"
     ]
    },
    {
     "name": "stderr",
     "output_type": "stream",
     "text": [
      "  5%|▌         | 382/7200 [00:15<04:42, 24.11it/s]"
     ]
    },
    {
     "name": "stdout",
     "output_type": "stream",
     "text": [
      "25-08-19 23:41:50.351 pyfstat.utils.sft INFO    : Loading 1 SFTs from H1...\n",
      "25-08-19 23:41:50.392 pyfstat.utils.sft INFO    : Loading 1 SFTs from H1...\n",
      "25-08-19 23:41:50.435 pyfstat.utils.sft INFO    : Loading 1 SFTs from H1...\n"
     ]
    },
    {
     "name": "stderr",
     "output_type": "stream",
     "text": [
      "  5%|▌         | 385/7200 [00:15<04:42, 24.14it/s]"
     ]
    },
    {
     "name": "stdout",
     "output_type": "stream",
     "text": [
      "25-08-19 23:41:50.475 pyfstat.utils.sft INFO    : Loading 1 SFTs from H1...\n",
      "25-08-19 23:41:50.520 pyfstat.utils.sft INFO    : Loading 1 SFTs from H1...\n",
      "25-08-19 23:41:50.560 pyfstat.utils.sft INFO    : Loading 1 SFTs from H1...\n"
     ]
    },
    {
     "name": "stderr",
     "output_type": "stream",
     "text": [
      "  5%|▌         | 388/7200 [00:15<04:43, 24.03it/s]"
     ]
    },
    {
     "name": "stdout",
     "output_type": "stream",
     "text": [
      "25-08-19 23:41:50.602 pyfstat.utils.sft INFO    : Loading 1 SFTs from H1...\n",
      "25-08-19 23:41:50.639 pyfstat.utils.sft INFO    : Loading 1 SFTs from H1...\n",
      "25-08-19 23:41:50.682 pyfstat.utils.sft INFO    : Loading 1 SFTs from H1...\n"
     ]
    },
    {
     "name": "stderr",
     "output_type": "stream",
     "text": [
      "  5%|▌         | 391/7200 [00:15<04:41, 24.23it/s]"
     ]
    },
    {
     "name": "stdout",
     "output_type": "stream",
     "text": [
      "25-08-19 23:41:50.724 pyfstat.utils.sft INFO    : Loading 1 SFTs from H1...\n",
      "25-08-19 23:41:50.764 pyfstat.utils.sft INFO    : Loading 1 SFTs from H1...\n",
      "25-08-19 23:41:50.804 pyfstat.utils.sft INFO    : Loading 1 SFTs from H1...\n"
     ]
    },
    {
     "name": "stderr",
     "output_type": "stream",
     "text": [
      "  5%|▌         | 394/7200 [00:15<04:39, 24.33it/s]"
     ]
    },
    {
     "name": "stdout",
     "output_type": "stream",
     "text": [
      "25-08-19 23:41:50.846 pyfstat.utils.sft INFO    : Loading 1 SFTs from H1...\n",
      "25-08-19 23:41:50.886 pyfstat.utils.sft INFO    : Loading 1 SFTs from H1...\n",
      "25-08-19 23:41:50.927 pyfstat.utils.sft INFO    : Loading 1 SFTs from H1...\n"
     ]
    },
    {
     "name": "stderr",
     "output_type": "stream",
     "text": [
      "  6%|▌         | 397/7200 [00:15<04:39, 24.38it/s]"
     ]
    },
    {
     "name": "stdout",
     "output_type": "stream",
     "text": [
      "25-08-19 23:41:50.969 pyfstat.utils.sft INFO    : Loading 1 SFTs from H1...\n",
      "25-08-19 23:41:51.008 pyfstat.utils.sft INFO    : Loading 1 SFTs from H1...\n",
      "25-08-19 23:41:51.048 pyfstat.utils.sft INFO    : Loading 1 SFTs from H1...\n"
     ]
    },
    {
     "name": "stderr",
     "output_type": "stream",
     "text": [
      "  6%|▌         | 400/7200 [00:16<04:36, 24.62it/s]"
     ]
    },
    {
     "name": "stdout",
     "output_type": "stream",
     "text": [
      "25-08-19 23:41:51.087 pyfstat.utils.sft INFO    : Loading 1 SFTs from H1...\n",
      "25-08-19 23:41:51.125 pyfstat.utils.sft INFO    : Loading 1 SFTs from H1...\n",
      "25-08-19 23:41:51.165 pyfstat.utils.sft INFO    : Loading 1 SFTs from H1...\n"
     ]
    },
    {
     "name": "stderr",
     "output_type": "stream",
     "text": [
      "  6%|▌         | 403/7200 [00:16<04:34, 24.73it/s]"
     ]
    },
    {
     "name": "stdout",
     "output_type": "stream",
     "text": [
      "25-08-19 23:41:51.207 pyfstat.utils.sft INFO    : Loading 1 SFTs from H1...\n",
      "25-08-19 23:41:51.248 pyfstat.utils.sft INFO    : Loading 1 SFTs from H1...\n",
      "25-08-19 23:41:51.287 pyfstat.utils.sft INFO    : Loading 1 SFTs from H1...\n"
     ]
    },
    {
     "name": "stderr",
     "output_type": "stream",
     "text": [
      "  6%|▌         | 406/7200 [00:16<04:33, 24.85it/s]"
     ]
    },
    {
     "name": "stdout",
     "output_type": "stream",
     "text": [
      "25-08-19 23:41:51.327 pyfstat.utils.sft INFO    : Loading 1 SFTs from H1...\n",
      "25-08-19 23:41:51.367 pyfstat.utils.sft INFO    : Loading 1 SFTs from H1...\n",
      "25-08-19 23:41:51.408 pyfstat.utils.sft INFO    : Loading 1 SFTs from H1...\n"
     ]
    },
    {
     "name": "stderr",
     "output_type": "stream",
     "text": [
      "  6%|▌         | 409/7200 [00:16<04:35, 24.62it/s]"
     ]
    },
    {
     "name": "stdout",
     "output_type": "stream",
     "text": [
      "25-08-19 23:41:51.448 pyfstat.utils.sft INFO    : Loading 1 SFTs from H1...\n",
      "25-08-19 23:41:51.491 pyfstat.utils.sft INFO    : Loading 1 SFTs from H1...\n",
      "25-08-19 23:41:51.531 pyfstat.utils.sft INFO    : Loading 1 SFTs from H1...\n"
     ]
    },
    {
     "name": "stderr",
     "output_type": "stream",
     "text": [
      "  6%|▌         | 412/7200 [00:16<04:35, 24.61it/s]"
     ]
    },
    {
     "name": "stdout",
     "output_type": "stream",
     "text": [
      "25-08-19 23:41:51.573 pyfstat.utils.sft INFO    : Loading 1 SFTs from H1...\n",
      "25-08-19 23:41:51.612 pyfstat.utils.sft INFO    : Loading 1 SFTs from H1...\n",
      "25-08-19 23:41:51.651 pyfstat.utils.sft INFO    : Loading 1 SFTs from H1...\n"
     ]
    },
    {
     "name": "stderr",
     "output_type": "stream",
     "text": [
      "  6%|▌         | 415/7200 [00:16<04:32, 24.85it/s]"
     ]
    },
    {
     "name": "stdout",
     "output_type": "stream",
     "text": [
      "25-08-19 23:41:51.691 pyfstat.utils.sft INFO    : Loading 1 SFTs from H1...\n",
      "25-08-19 23:41:51.729 pyfstat.utils.sft INFO    : Loading 1 SFTs from H1...\n",
      "25-08-19 23:41:51.765 pyfstat.utils.sft INFO    : Loading 1 SFTs from H1...\n"
     ]
    },
    {
     "name": "stderr",
     "output_type": "stream",
     "text": [
      "  6%|▌         | 418/7200 [00:16<04:27, 25.33it/s]"
     ]
    },
    {
     "name": "stdout",
     "output_type": "stream",
     "text": [
      "25-08-19 23:41:51.804 pyfstat.utils.sft INFO    : Loading 1 SFTs from H1...\n",
      "25-08-19 23:41:51.830 pyfstat.utils.sft INFO    : Loading 1 SFTs from H1...\n",
      "25-08-19 23:41:51.872 pyfstat.utils.sft INFO    : Loading 1 SFTs from H1...\n"
     ]
    },
    {
     "name": "stderr",
     "output_type": "stream",
     "text": [
      "  6%|▌         | 421/7200 [00:16<04:21, 25.95it/s]"
     ]
    },
    {
     "name": "stdout",
     "output_type": "stream",
     "text": [
      "25-08-19 23:41:51.913 pyfstat.utils.sft INFO    : Loading 1 SFTs from H1...\n",
      "25-08-19 23:41:51.954 pyfstat.utils.sft INFO    : Loading 1 SFTs from H1...\n",
      "25-08-19 23:41:51.986 pyfstat.utils.sft INFO    : Loading 1 SFTs from H1...\n"
     ]
    },
    {
     "name": "stderr",
     "output_type": "stream",
     "text": [
      "  6%|▌         | 424/7200 [00:16<04:19, 26.10it/s]"
     ]
    },
    {
     "name": "stdout",
     "output_type": "stream",
     "text": [
      "25-08-19 23:41:52.026 pyfstat.utils.sft INFO    : Loading 1 SFTs from H1...\n",
      "25-08-19 23:41:52.066 pyfstat.utils.sft INFO    : Loading 1 SFTs from H1...\n",
      "25-08-19 23:41:52.089 pyfstat.utils.sft INFO    : Loading 1 SFTs from H1...\n"
     ]
    },
    {
     "name": "stderr",
     "output_type": "stream",
     "text": [
      "  6%|▌         | 427/7200 [00:17<04:13, 26.75it/s]"
     ]
    },
    {
     "name": "stdout",
     "output_type": "stream",
     "text": [
      "25-08-19 23:41:52.132 pyfstat.utils.sft INFO    : Loading 1 SFTs from H1...\n",
      "25-08-19 23:41:52.175 pyfstat.utils.sft INFO    : Loading 1 SFTs from H1...\n",
      "25-08-19 23:41:52.217 pyfstat.utils.sft INFO    : Loading 1 SFTs from H1...\n"
     ]
    },
    {
     "name": "stderr",
     "output_type": "stream",
     "text": [
      "  6%|▌         | 430/7200 [00:17<04:23, 25.71it/s]"
     ]
    },
    {
     "name": "stdout",
     "output_type": "stream",
     "text": [
      "25-08-19 23:41:52.260 pyfstat.utils.sft INFO    : Loading 1 SFTs from H1...\n",
      "25-08-19 23:41:52.311 pyfstat.utils.sft INFO    : Loading 1 SFTs from H1...\n",
      "25-08-19 23:41:52.350 pyfstat.utils.sft INFO    : Loading 1 SFTs from H1...\n"
     ]
    },
    {
     "name": "stderr",
     "output_type": "stream",
     "text": [
      "  6%|▌         | 433/7200 [00:17<04:34, 24.66it/s]"
     ]
    },
    {
     "name": "stdout",
     "output_type": "stream",
     "text": [
      "25-08-19 23:41:52.393 pyfstat.utils.sft INFO    : Loading 1 SFTs from H1...\n",
      "25-08-19 23:41:52.436 pyfstat.utils.sft INFO    : Loading 1 SFTs from H1...\n",
      "25-08-19 23:41:52.480 pyfstat.utils.sft INFO    : Loading 1 SFTs from H1...\n"
     ]
    },
    {
     "name": "stderr",
     "output_type": "stream",
     "text": [
      "  6%|▌         | 436/7200 [00:17<04:39, 24.20it/s]"
     ]
    },
    {
     "name": "stdout",
     "output_type": "stream",
     "text": [
      "25-08-19 23:41:52.522 pyfstat.utils.sft INFO    : Loading 1 SFTs from H1...\n",
      "25-08-19 23:41:52.563 pyfstat.utils.sft INFO    : Loading 1 SFTs from H1...\n",
      "25-08-19 23:41:52.605 pyfstat.utils.sft INFO    : Loading 1 SFTs from H1...\n"
     ]
    },
    {
     "name": "stderr",
     "output_type": "stream",
     "text": [
      "  6%|▌         | 439/7200 [00:17<04:41, 24.05it/s]"
     ]
    },
    {
     "name": "stdout",
     "output_type": "stream",
     "text": [
      "25-08-19 23:41:52.648 pyfstat.utils.sft INFO    : Loading 1 SFTs from H1...\n",
      "25-08-19 23:41:52.689 pyfstat.utils.sft INFO    : Loading 1 SFTs from H1...\n",
      "25-08-19 23:41:52.734 pyfstat.utils.sft INFO    : Loading 1 SFTs from H1...\n"
     ]
    },
    {
     "name": "stderr",
     "output_type": "stream",
     "text": [
      "  6%|▌         | 442/7200 [00:17<04:45, 23.66it/s]"
     ]
    },
    {
     "name": "stdout",
     "output_type": "stream",
     "text": [
      "25-08-19 23:41:52.780 pyfstat.utils.sft INFO    : Loading 1 SFTs from H1...\n",
      "25-08-19 23:41:52.823 pyfstat.utils.sft INFO    : Loading 1 SFTs from H1...\n",
      "25-08-19 23:41:52.865 pyfstat.utils.sft INFO    : Loading 1 SFTs from H1...\n"
     ]
    },
    {
     "name": "stderr",
     "output_type": "stream",
     "text": [
      "  6%|▌         | 445/7200 [00:17<04:45, 23.62it/s]"
     ]
    },
    {
     "name": "stdout",
     "output_type": "stream",
     "text": [
      "25-08-19 23:41:52.907 pyfstat.utils.sft INFO    : Loading 1 SFTs from H1...\n",
      "25-08-19 23:41:52.952 pyfstat.utils.sft INFO    : Loading 1 SFTs from H1...\n",
      "25-08-19 23:41:52.992 pyfstat.utils.sft INFO    : Loading 1 SFTs from H1...\n"
     ]
    },
    {
     "name": "stderr",
     "output_type": "stream",
     "text": [
      "  6%|▌         | 448/7200 [00:17<04:44, 23.71it/s]"
     ]
    },
    {
     "name": "stdout",
     "output_type": "stream",
     "text": [
      "25-08-19 23:41:53.033 pyfstat.utils.sft INFO    : Loading 1 SFTs from H1...\n",
      "25-08-19 23:41:53.076 pyfstat.utils.sft INFO    : Loading 1 SFTs from H1...\n",
      "25-08-19 23:41:53.117 pyfstat.utils.sft INFO    : Loading 1 SFTs from H1...\n"
     ]
    },
    {
     "name": "stderr",
     "output_type": "stream",
     "text": [
      "  6%|▋         | 451/7200 [00:18<04:44, 23.71it/s]"
     ]
    },
    {
     "name": "stdout",
     "output_type": "stream",
     "text": [
      "25-08-19 23:41:53.160 pyfstat.utils.sft INFO    : Loading 1 SFTs from H1...\n",
      "25-08-19 23:41:53.202 pyfstat.utils.sft INFO    : Loading 1 SFTs from H1...\n",
      "25-08-19 23:41:53.243 pyfstat.utils.sft INFO    : Loading 1 SFTs from H1...\n"
     ]
    },
    {
     "name": "stderr",
     "output_type": "stream",
     "text": [
      "  6%|▋         | 454/7200 [00:18<04:44, 23.73it/s]"
     ]
    },
    {
     "name": "stdout",
     "output_type": "stream",
     "text": [
      "25-08-19 23:41:53.286 pyfstat.utils.sft INFO    : Loading 1 SFTs from H1...\n",
      "25-08-19 23:41:53.326 pyfstat.utils.sft INFO    : Loading 1 SFTs from H1...\n",
      "25-08-19 23:41:53.368 pyfstat.utils.sft INFO    : Loading 1 SFTs from H1...\n"
     ]
    },
    {
     "name": "stderr",
     "output_type": "stream",
     "text": [
      "  6%|▋         | 457/7200 [00:18<04:41, 23.99it/s]"
     ]
    },
    {
     "name": "stdout",
     "output_type": "stream",
     "text": [
      "25-08-19 23:41:53.408 pyfstat.utils.sft INFO    : Loading 1 SFTs from H1...\n",
      "25-08-19 23:41:53.454 pyfstat.utils.sft INFO    : Loading 1 SFTs from H1...\n",
      "25-08-19 23:41:53.496 pyfstat.utils.sft INFO    : Loading 1 SFTs from H1...\n"
     ]
    },
    {
     "name": "stderr",
     "output_type": "stream",
     "text": [
      "  6%|▋         | 460/7200 [00:18<04:45, 23.63it/s]"
     ]
    },
    {
     "name": "stdout",
     "output_type": "stream",
     "text": [
      "25-08-19 23:41:53.539 pyfstat.utils.sft INFO    : Loading 1 SFTs from H1...\n",
      "25-08-19 23:41:53.579 pyfstat.utils.sft INFO    : Loading 1 SFTs from H1...\n",
      "25-08-19 23:41:53.619 pyfstat.utils.sft INFO    : Loading 1 SFTs from H1...\n"
     ]
    },
    {
     "name": "stderr",
     "output_type": "stream",
     "text": [
      "  6%|▋         | 463/7200 [00:18<04:42, 23.88it/s]"
     ]
    },
    {
     "name": "stdout",
     "output_type": "stream",
     "text": [
      "25-08-19 23:41:53.662 pyfstat.utils.sft INFO    : Loading 1 SFTs from H1...\n",
      "25-08-19 23:41:53.696 pyfstat.utils.sft INFO    : Loading 1 SFTs from H1...\n",
      "25-08-19 23:41:53.744 pyfstat.utils.sft INFO    : Loading 1 SFTs from H1...\n"
     ]
    },
    {
     "name": "stderr",
     "output_type": "stream",
     "text": [
      "  6%|▋         | 466/7200 [00:18<04:44, 23.64it/s]"
     ]
    },
    {
     "name": "stdout",
     "output_type": "stream",
     "text": [
      "25-08-19 23:41:53.791 pyfstat.utils.sft INFO    : Loading 1 SFTs from H1...\n",
      "25-08-19 23:41:53.833 pyfstat.utils.sft INFO    : Loading 1 SFTs from H1...\n",
      "25-08-19 23:41:53.865 pyfstat.utils.sft INFO    : Loading 1 SFTs from H1...\n"
     ]
    },
    {
     "name": "stderr",
     "output_type": "stream",
     "text": [
      "  7%|▋         | 469/7200 [00:18<04:40, 24.03it/s]"
     ]
    },
    {
     "name": "stdout",
     "output_type": "stream",
     "text": [
      "25-08-19 23:41:53.912 pyfstat.utils.sft INFO    : Loading 1 SFTs from H1...\n",
      "25-08-19 23:41:53.953 pyfstat.utils.sft INFO    : Loading 1 SFTs from H1...\n",
      "25-08-19 23:41:53.994 pyfstat.utils.sft INFO    : Loading 1 SFTs from H1...\n"
     ]
    },
    {
     "name": "stderr",
     "output_type": "stream",
     "text": [
      "  7%|▋         | 472/7200 [00:18<04:39, 24.06it/s]"
     ]
    },
    {
     "name": "stdout",
     "output_type": "stream",
     "text": [
      "25-08-19 23:41:54.036 pyfstat.utils.sft INFO    : Loading 1 SFTs from H1...\n",
      "25-08-19 23:41:54.078 pyfstat.utils.sft INFO    : Loading 1 SFTs from H1...\n",
      "25-08-19 23:41:54.120 pyfstat.utils.sft INFO    : Loading 1 SFTs from H1...\n"
     ]
    },
    {
     "name": "stderr",
     "output_type": "stream",
     "text": [
      "  7%|▋         | 475/7200 [00:19<04:38, 24.13it/s]"
     ]
    },
    {
     "name": "stdout",
     "output_type": "stream",
     "text": [
      "25-08-19 23:41:54.160 pyfstat.utils.sft INFO    : Loading 1 SFTs from H1...\n",
      "25-08-19 23:41:54.203 pyfstat.utils.sft INFO    : Loading 1 SFTs from H1...\n",
      "25-08-19 23:41:54.246 pyfstat.utils.sft INFO    : Loading 1 SFTs from H1...\n"
     ]
    },
    {
     "name": "stderr",
     "output_type": "stream",
     "text": [
      "  7%|▋         | 478/7200 [00:19<04:40, 23.94it/s]"
     ]
    },
    {
     "name": "stdout",
     "output_type": "stream",
     "text": [
      "25-08-19 23:41:54.286 pyfstat.utils.sft INFO    : Loading 1 SFTs from H1...\n",
      "25-08-19 23:41:54.328 pyfstat.utils.sft INFO    : Loading 1 SFTs from H1...\n",
      "25-08-19 23:41:54.369 pyfstat.utils.sft INFO    : Loading 1 SFTs from H1...\n"
     ]
    },
    {
     "name": "stderr",
     "output_type": "stream",
     "text": [
      "  7%|▋         | 481/7200 [00:19<04:39, 24.07it/s]"
     ]
    },
    {
     "name": "stdout",
     "output_type": "stream",
     "text": [
      "25-08-19 23:41:54.410 pyfstat.utils.sft INFO    : Loading 1 SFTs from H1...\n",
      "25-08-19 23:41:54.448 pyfstat.utils.sft INFO    : Loading 1 SFTs from H1...\n",
      "25-08-19 23:41:54.491 pyfstat.utils.sft INFO    : Loading 1 SFTs from H1...\n"
     ]
    },
    {
     "name": "stderr",
     "output_type": "stream",
     "text": [
      "  7%|▋         | 484/7200 [00:19<04:33, 24.55it/s]"
     ]
    },
    {
     "name": "stdout",
     "output_type": "stream",
     "text": [
      "25-08-19 23:41:54.527 pyfstat.utils.sft INFO    : Loading 1 SFTs from H1...\n",
      "25-08-19 23:41:54.568 pyfstat.utils.sft INFO    : Loading 1 SFTs from H1...\n",
      "25-08-19 23:41:54.610 pyfstat.utils.sft INFO    : Loading 1 SFTs from H1...\n"
     ]
    },
    {
     "name": "stderr",
     "output_type": "stream",
     "text": [
      "  7%|▋         | 487/7200 [00:19<04:34, 24.45it/s]"
     ]
    },
    {
     "name": "stdout",
     "output_type": "stream",
     "text": [
      "25-08-19 23:41:54.650 pyfstat.utils.sft INFO    : Loading 1 SFTs from H1...\n",
      "25-08-19 23:41:54.694 pyfstat.utils.sft INFO    : Loading 1 SFTs from H1...\n",
      "25-08-19 23:41:54.738 pyfstat.utils.sft INFO    : Loading 1 SFTs from H1...\n"
     ]
    },
    {
     "name": "stderr",
     "output_type": "stream",
     "text": [
      "  7%|▋         | 490/7200 [00:19<04:38, 24.08it/s]"
     ]
    },
    {
     "name": "stdout",
     "output_type": "stream",
     "text": [
      "25-08-19 23:41:54.779 pyfstat.utils.sft INFO    : Loading 1 SFTs from H1...\n",
      "25-08-19 23:41:54.820 pyfstat.utils.sft INFO    : Loading 1 SFTs from H1...\n",
      "25-08-19 23:41:54.860 pyfstat.utils.sft INFO    : Loading 1 SFTs from H1...\n"
     ]
    },
    {
     "name": "stderr",
     "output_type": "stream",
     "text": [
      "  7%|▋         | 493/7200 [00:19<04:36, 24.27it/s]"
     ]
    },
    {
     "name": "stdout",
     "output_type": "stream",
     "text": [
      "25-08-19 23:41:54.901 pyfstat.utils.sft INFO    : Loading 1 SFTs from H1...\n",
      "25-08-19 23:41:54.940 pyfstat.utils.sft INFO    : Loading 1 SFTs from H1...\n",
      "25-08-19 23:41:54.979 pyfstat.utils.sft INFO    : Loading 1 SFTs from H1...\n"
     ]
    },
    {
     "name": "stderr",
     "output_type": "stream",
     "text": [
      "  7%|▋         | 496/7200 [00:19<04:32, 24.58it/s]"
     ]
    },
    {
     "name": "stdout",
     "output_type": "stream",
     "text": [
      "25-08-19 23:41:55.018 pyfstat.utils.sft INFO    : Loading 1 SFTs from H1...\n",
      "25-08-19 23:41:55.060 pyfstat.utils.sft INFO    : Loading 1 SFTs from H1...\n",
      "25-08-19 23:41:55.098 pyfstat.utils.sft INFO    : Loading 1 SFTs from H1...\n"
     ]
    },
    {
     "name": "stderr",
     "output_type": "stream",
     "text": [
      "  7%|▋         | 499/7200 [00:20<04:31, 24.67it/s]"
     ]
    },
    {
     "name": "stdout",
     "output_type": "stream",
     "text": [
      "25-08-19 23:41:55.139 pyfstat.utils.sft INFO    : Loading 1 SFTs from H1...\n",
      "25-08-19 23:41:55.181 pyfstat.utils.sft INFO    : Loading 1 SFTs from H1...\n",
      "25-08-19 23:41:55.222 pyfstat.utils.sft INFO    : Loading 1 SFTs from H1...\n"
     ]
    },
    {
     "name": "stderr",
     "output_type": "stream",
     "text": [
      "  7%|▋         | 502/7200 [00:20<04:33, 24.53it/s]"
     ]
    },
    {
     "name": "stdout",
     "output_type": "stream",
     "text": [
      "25-08-19 23:41:55.263 pyfstat.utils.sft INFO    : Loading 1 SFTs from H1...\n",
      "25-08-19 23:41:55.305 pyfstat.utils.sft INFO    : Loading 1 SFTs from H1...\n",
      "25-08-19 23:41:55.347 pyfstat.utils.sft INFO    : Loading 1 SFTs from H1...\n"
     ]
    },
    {
     "name": "stderr",
     "output_type": "stream",
     "text": [
      "  7%|▋         | 505/7200 [00:20<04:35, 24.29it/s]"
     ]
    },
    {
     "name": "stdout",
     "output_type": "stream",
     "text": [
      "25-08-19 23:41:55.390 pyfstat.utils.sft INFO    : Loading 1 SFTs from H1...\n",
      "25-08-19 23:41:55.431 pyfstat.utils.sft INFO    : Loading 1 SFTs from H1...\n",
      "25-08-19 23:41:55.473 pyfstat.utils.sft INFO    : Loading 1 SFTs from H1...\n"
     ]
    },
    {
     "name": "stderr",
     "output_type": "stream",
     "text": [
      "  7%|▋         | 508/7200 [00:20<04:37, 24.12it/s]"
     ]
    },
    {
     "name": "stdout",
     "output_type": "stream",
     "text": [
      "25-08-19 23:41:55.516 pyfstat.utils.sft INFO    : Loading 1 SFTs from H1...\n",
      "25-08-19 23:41:55.557 pyfstat.utils.sft INFO    : Loading 1 SFTs from H1...\n",
      "25-08-19 23:41:55.595 pyfstat.utils.sft INFO    : Loading 1 SFTs from H1...\n"
     ]
    },
    {
     "name": "stderr",
     "output_type": "stream",
     "text": [
      "  7%|▋         | 511/7200 [00:20<04:34, 24.34it/s]"
     ]
    },
    {
     "name": "stdout",
     "output_type": "stream",
     "text": [
      "25-08-19 23:41:55.639 pyfstat.utils.sft INFO    : Loading 1 SFTs from H1...\n",
      "25-08-19 23:41:55.685 pyfstat.utils.sft INFO    : Loading 1 SFTs from H1...\n",
      "25-08-19 23:41:55.723 pyfstat.utils.sft INFO    : Loading 1 SFTs from H1...\n"
     ]
    },
    {
     "name": "stderr",
     "output_type": "stream",
     "text": [
      "  7%|▋         | 514/7200 [00:20<04:37, 24.11it/s]"
     ]
    },
    {
     "name": "stdout",
     "output_type": "stream",
     "text": [
      "25-08-19 23:41:55.764 pyfstat.utils.sft INFO    : Loading 1 SFTs from H1...\n",
      "25-08-19 23:41:55.805 pyfstat.utils.sft INFO    : Loading 1 SFTs from H1...\n",
      "25-08-19 23:41:55.845 pyfstat.utils.sft INFO    : Loading 1 SFTs from H1...\n"
     ]
    },
    {
     "name": "stderr",
     "output_type": "stream",
     "text": [
      "  7%|▋         | 517/7200 [00:20<04:36, 24.13it/s]"
     ]
    },
    {
     "name": "stdout",
     "output_type": "stream",
     "text": [
      "25-08-19 23:41:55.889 pyfstat.utils.sft INFO    : Loading 1 SFTs from H1...\n",
      "25-08-19 23:41:55.932 pyfstat.utils.sft INFO    : Loading 1 SFTs from H1...\n",
      "25-08-19 23:41:55.973 pyfstat.utils.sft INFO    : Loading 1 SFTs from H1...\n"
     ]
    },
    {
     "name": "stderr",
     "output_type": "stream",
     "text": [
      "  7%|▋         | 520/7200 [00:20<04:38, 24.00it/s]"
     ]
    },
    {
     "name": "stdout",
     "output_type": "stream",
     "text": [
      "25-08-19 23:41:56.015 pyfstat.utils.sft INFO    : Loading 1 SFTs from H1...\n",
      "25-08-19 23:41:56.054 pyfstat.utils.sft INFO    : Loading 1 SFTs from H1...\n",
      "25-08-19 23:41:56.095 pyfstat.utils.sft INFO    : Loading 1 SFTs from H1...\n"
     ]
    },
    {
     "name": "stderr",
     "output_type": "stream",
     "text": [
      "  7%|▋         | 523/7200 [00:21<04:36, 24.11it/s]"
     ]
    },
    {
     "name": "stdout",
     "output_type": "stream",
     "text": [
      "25-08-19 23:41:56.139 pyfstat.utils.sft INFO    : Loading 1 SFTs from H1...\n",
      "25-08-19 23:41:56.182 pyfstat.utils.sft INFO    : Loading 1 SFTs from H1...\n",
      "25-08-19 23:41:56.222 pyfstat.utils.sft INFO    : Loading 1 SFTs from H1...\n"
     ]
    },
    {
     "name": "stderr",
     "output_type": "stream",
     "text": [
      "  7%|▋         | 526/7200 [00:21<04:36, 24.16it/s]"
     ]
    },
    {
     "name": "stdout",
     "output_type": "stream",
     "text": [
      "25-08-19 23:41:56.258 pyfstat.utils.sft INFO    : Loading 1 SFTs from H1...\n",
      "25-08-19 23:41:56.287 pyfstat.utils.sft INFO    : Loading 1 SFTs from H1...\n",
      "25-08-19 23:41:56.329 pyfstat.utils.sft INFO    : Loading 1 SFTs from H1...\n"
     ]
    },
    {
     "name": "stderr",
     "output_type": "stream",
     "text": [
      "  7%|▋         | 529/7200 [00:21<04:25, 25.09it/s]"
     ]
    },
    {
     "name": "stdout",
     "output_type": "stream",
     "text": [
      "25-08-19 23:41:56.370 pyfstat.utils.sft INFO    : Loading 1 SFTs from H1...\n",
      "25-08-19 23:41:56.402 pyfstat.utils.sft INFO    : Loading 1 SFTs from H1...\n",
      "25-08-19 23:41:56.443 pyfstat.utils.sft INFO    : Loading 1 SFTs from H1...\n"
     ]
    },
    {
     "name": "stderr",
     "output_type": "stream",
     "text": [
      "  7%|▋         | 532/7200 [00:21<04:22, 25.45it/s]"
     ]
    },
    {
     "name": "stdout",
     "output_type": "stream",
     "text": [
      "25-08-19 23:41:56.484 pyfstat.utils.sft INFO    : Loading 1 SFTs from H1...\n",
      "25-08-19 23:41:56.524 pyfstat.utils.sft INFO    : Loading 1 SFTs from H1...\n",
      "25-08-19 23:41:56.564 pyfstat.utils.sft INFO    : Loading 1 SFTs from H1...\n"
     ]
    },
    {
     "name": "stderr",
     "output_type": "stream",
     "text": [
      "  7%|▋         | 535/7200 [00:21<04:22, 25.41it/s]"
     ]
    },
    {
     "name": "stdout",
     "output_type": "stream",
     "text": [
      "25-08-19 23:41:56.603 pyfstat.utils.sft INFO    : Loading 1 SFTs from H1...\n",
      "25-08-19 23:41:56.645 pyfstat.utils.sft INFO    : Loading 1 SFTs from H1...\n",
      "25-08-19 23:41:56.685 pyfstat.utils.sft INFO    : Loading 1 SFTs from H1...\n"
     ]
    },
    {
     "name": "stderr",
     "output_type": "stream",
     "text": [
      "  7%|▋         | 538/7200 [00:21<04:25, 25.13it/s]"
     ]
    },
    {
     "name": "stdout",
     "output_type": "stream",
     "text": [
      "25-08-19 23:41:56.725 pyfstat.utils.sft INFO    : Loading 1 SFTs from H1...\n",
      "25-08-19 23:41:56.764 pyfstat.utils.sft INFO    : Loading 1 SFTs from H1...\n",
      "25-08-19 23:41:56.803 pyfstat.utils.sft INFO    : Loading 1 SFTs from H1...\n"
     ]
    },
    {
     "name": "stderr",
     "output_type": "stream",
     "text": [
      "  8%|▊         | 541/7200 [00:21<04:22, 25.38it/s]"
     ]
    },
    {
     "name": "stdout",
     "output_type": "stream",
     "text": [
      "25-08-19 23:41:56.841 pyfstat.utils.sft INFO    : Loading 1 SFTs from H1...\n",
      "25-08-19 23:41:56.878 pyfstat.utils.sft INFO    : Loading 1 SFTs from H1...\n",
      "25-08-19 23:41:56.915 pyfstat.utils.sft INFO    : Loading 1 SFTs from H1...\n"
     ]
    },
    {
     "name": "stderr",
     "output_type": "stream",
     "text": [
      "  8%|▊         | 544/7200 [00:21<04:19, 25.64it/s]"
     ]
    },
    {
     "name": "stdout",
     "output_type": "stream",
     "text": [
      "25-08-19 23:41:56.955 pyfstat.utils.sft INFO    : Loading 1 SFTs from H1...\n",
      "25-08-19 23:41:56.992 pyfstat.utils.sft INFO    : Loading 1 SFTs from H1...\n",
      "25-08-19 23:41:57.029 pyfstat.utils.sft INFO    : Loading 1 SFTs from H1...\n"
     ]
    },
    {
     "name": "stderr",
     "output_type": "stream",
     "text": [
      "  8%|▊         | 547/7200 [00:22<04:17, 25.86it/s]"
     ]
    },
    {
     "name": "stdout",
     "output_type": "stream",
     "text": [
      "25-08-19 23:41:57.069 pyfstat.utils.sft INFO    : Loading 1 SFTs from H1...\n",
      "25-08-19 23:41:57.110 pyfstat.utils.sft INFO    : Loading 1 SFTs from H1...\n",
      "25-08-19 23:41:57.149 pyfstat.utils.sft INFO    : Loading 1 SFTs from H1...\n"
     ]
    },
    {
     "name": "stderr",
     "output_type": "stream",
     "text": [
      "  8%|▊         | 550/7200 [00:22<04:19, 25.59it/s]"
     ]
    },
    {
     "name": "stdout",
     "output_type": "stream",
     "text": [
      "25-08-19 23:41:57.185 pyfstat.utils.sft INFO    : Loading 1 SFTs from H1...\n",
      "25-08-19 23:41:57.219 pyfstat.utils.sft INFO    : Loading 1 SFTs from H1...\n",
      "25-08-19 23:41:57.259 pyfstat.utils.sft INFO    : Loading 1 SFTs from H1...\n"
     ]
    },
    {
     "name": "stderr",
     "output_type": "stream",
     "text": [
      "  8%|▊         | 553/7200 [00:22<04:14, 26.08it/s]"
     ]
    },
    {
     "name": "stdout",
     "output_type": "stream",
     "text": [
      "25-08-19 23:41:57.298 pyfstat.utils.sft INFO    : Loading 1 SFTs from H1...\n",
      "25-08-19 23:41:57.338 pyfstat.utils.sft INFO    : Loading 1 SFTs from H1...\n",
      "25-08-19 23:41:57.376 pyfstat.utils.sft INFO    : Loading 1 SFTs from H1...\n"
     ]
    },
    {
     "name": "stderr",
     "output_type": "stream",
     "text": [
      "  8%|▊         | 556/7200 [00:22<04:16, 25.92it/s]"
     ]
    },
    {
     "name": "stdout",
     "output_type": "stream",
     "text": [
      "25-08-19 23:41:57.412 pyfstat.utils.sft INFO    : Loading 1 SFTs from H1...\n",
      "25-08-19 23:41:57.445 pyfstat.utils.sft INFO    : Loading 1 SFTs from H1...\n",
      "25-08-19 23:41:57.477 pyfstat.utils.sft INFO    : Loading 1 SFTs from H1...\n"
     ]
    },
    {
     "name": "stderr",
     "output_type": "stream",
     "text": [
      "  8%|▊         | 559/7200 [00:22<04:06, 26.94it/s]"
     ]
    },
    {
     "name": "stdout",
     "output_type": "stream",
     "text": [
      "25-08-19 23:41:57.516 pyfstat.utils.sft INFO    : Loading 1 SFTs from H1...\n",
      "25-08-19 23:41:57.554 pyfstat.utils.sft INFO    : Loading 1 SFTs from H1...\n",
      "25-08-19 23:41:57.592 pyfstat.utils.sft INFO    : Loading 1 SFTs from H1...\n"
     ]
    },
    {
     "name": "stderr",
     "output_type": "stream",
     "text": [
      "  8%|▊         | 562/7200 [00:22<04:07, 26.87it/s]"
     ]
    },
    {
     "name": "stdout",
     "output_type": "stream",
     "text": [
      "25-08-19 23:41:57.629 pyfstat.utils.sft INFO    : Loading 1 SFTs from H1...\n",
      "25-08-19 23:41:57.668 pyfstat.utils.sft INFO    : Loading 1 SFTs from H1...\n",
      "25-08-19 23:41:57.707 pyfstat.utils.sft INFO    : Loading 1 SFTs from H1...\n"
     ]
    },
    {
     "name": "stderr",
     "output_type": "stream",
     "text": [
      "  8%|▊         | 565/7200 [00:22<04:08, 26.75it/s]"
     ]
    },
    {
     "name": "stdout",
     "output_type": "stream",
     "text": [
      "25-08-19 23:41:57.742 pyfstat.utils.sft INFO    : Loading 1 SFTs from H1...\n",
      "25-08-19 23:41:57.780 pyfstat.utils.sft INFO    : Loading 1 SFTs from H1...\n",
      "25-08-19 23:41:57.825 pyfstat.utils.sft INFO    : Loading 1 SFTs from H1...\n"
     ]
    },
    {
     "name": "stderr",
     "output_type": "stream",
     "text": [
      "  8%|▊         | 568/7200 [00:22<04:14, 26.11it/s]"
     ]
    },
    {
     "name": "stdout",
     "output_type": "stream",
     "text": [
      "25-08-19 23:41:57.861 pyfstat.utils.sft INFO    : Loading 1 SFTs from H1...\n",
      "25-08-19 23:41:57.891 pyfstat.utils.sft INFO    : Loading 1 SFTs from H1...\n",
      "25-08-19 23:41:57.930 pyfstat.utils.sft INFO    : Loading 1 SFTs from H1...\n"
     ]
    },
    {
     "name": "stderr",
     "output_type": "stream",
     "text": [
      "  8%|▊         | 571/7200 [00:22<04:10, 26.45it/s]"
     ]
    },
    {
     "name": "stdout",
     "output_type": "stream",
     "text": [
      "25-08-19 23:41:57.974 pyfstat.utils.sft INFO    : Loading 1 SFTs from H1...\n",
      "25-08-19 23:41:58.012 pyfstat.utils.sft INFO    : Loading 1 SFTs from H1...\n",
      "25-08-19 23:41:58.053 pyfstat.utils.sft INFO    : Loading 1 SFTs from H1...\n"
     ]
    },
    {
     "name": "stderr",
     "output_type": "stream",
     "text": [
      "  8%|▊         | 574/7200 [00:23<04:14, 26.03it/s]"
     ]
    },
    {
     "name": "stdout",
     "output_type": "stream",
     "text": [
      "25-08-19 23:41:58.093 pyfstat.utils.sft INFO    : Loading 1 SFTs from H1...\n",
      "25-08-19 23:41:58.133 pyfstat.utils.sft INFO    : Loading 1 SFTs from H1...\n",
      "25-08-19 23:41:58.171 pyfstat.utils.sft INFO    : Loading 1 SFTs from H1...\n"
     ]
    },
    {
     "name": "stderr",
     "output_type": "stream",
     "text": [
      "  8%|▊         | 577/7200 [00:23<04:16, 25.85it/s]"
     ]
    },
    {
     "name": "stdout",
     "output_type": "stream",
     "text": [
      "25-08-19 23:41:58.211 pyfstat.utils.sft INFO    : Loading 1 SFTs from H1...\n",
      "25-08-19 23:41:58.251 pyfstat.utils.sft INFO    : Loading 1 SFTs from H1...\n",
      "25-08-19 23:41:58.290 pyfstat.utils.sft INFO    : Loading 1 SFTs from H1...\n"
     ]
    },
    {
     "name": "stderr",
     "output_type": "stream",
     "text": [
      "  8%|▊         | 580/7200 [00:23<04:17, 25.71it/s]"
     ]
    },
    {
     "name": "stdout",
     "output_type": "stream",
     "text": [
      "25-08-19 23:41:58.329 pyfstat.utils.sft INFO    : Loading 1 SFTs from H1...\n",
      "25-08-19 23:41:58.365 pyfstat.utils.sft INFO    : Loading 1 SFTs from H1...\n",
      "25-08-19 23:41:58.393 pyfstat.utils.sft INFO    : Loading 1 SFTs from H1...\n"
     ]
    },
    {
     "name": "stderr",
     "output_type": "stream",
     "text": [
      "  8%|▊         | 583/7200 [00:23<04:09, 26.54it/s]"
     ]
    },
    {
     "name": "stdout",
     "output_type": "stream",
     "text": [
      "25-08-19 23:41:58.431 pyfstat.utils.sft INFO    : Loading 1 SFTs from H1...\n",
      "25-08-19 23:41:58.450 pyfstat.utils.sft INFO    : Loading 1 SFTs from H1...\n",
      "25-08-19 23:41:58.489 pyfstat.utils.sft INFO    : Loading 1 SFTs from H1...\n",
      "25-08-19 23:41:58.529 pyfstat.utils.sft INFO    : Loading 1 SFTs from H1...\n"
     ]
    },
    {
     "name": "stderr",
     "output_type": "stream",
     "text": [
      "  8%|▊         | 587/7200 [00:23<04:00, 27.52it/s]"
     ]
    },
    {
     "name": "stdout",
     "output_type": "stream",
     "text": [
      "25-08-19 23:41:58.570 pyfstat.utils.sft INFO    : Loading 1 SFTs from H1...\n",
      "25-08-19 23:41:58.615 pyfstat.utils.sft INFO    : Loading 1 SFTs from H1...\n",
      "25-08-19 23:41:58.657 pyfstat.utils.sft INFO    : Loading 1 SFTs from H1...\n"
     ]
    },
    {
     "name": "stderr",
     "output_type": "stream",
     "text": [
      "  8%|▊         | 590/7200 [00:23<04:08, 26.64it/s]"
     ]
    },
    {
     "name": "stdout",
     "output_type": "stream",
     "text": [
      "25-08-19 23:41:58.692 pyfstat.utils.sft INFO    : Loading 1 SFTs from H1...\n",
      "25-08-19 23:41:58.731 pyfstat.utils.sft INFO    : Loading 1 SFTs from H1...\n",
      "25-08-19 23:41:58.773 pyfstat.utils.sft INFO    : Loading 1 SFTs from H1...\n"
     ]
    },
    {
     "name": "stderr",
     "output_type": "stream",
     "text": [
      "  8%|▊         | 593/7200 [00:23<04:14, 26.01it/s]"
     ]
    },
    {
     "name": "stdout",
     "output_type": "stream",
     "text": [
      "25-08-19 23:41:58.814 pyfstat.utils.sft INFO    : Loading 1 SFTs from H1...\n",
      "25-08-19 23:41:58.854 pyfstat.utils.sft INFO    : Loading 1 SFTs from H1...\n",
      "25-08-19 23:41:58.894 pyfstat.utils.sft INFO    : Loading 1 SFTs from H1...\n"
     ]
    },
    {
     "name": "stderr",
     "output_type": "stream",
     "text": [
      "  8%|▊         | 596/7200 [00:23<04:16, 25.71it/s]"
     ]
    },
    {
     "name": "stdout",
     "output_type": "stream",
     "text": [
      "25-08-19 23:41:58.934 pyfstat.utils.sft INFO    : Loading 1 SFTs from H1...\n",
      "25-08-19 23:41:58.977 pyfstat.utils.sft INFO    : Loading 1 SFTs from H1...\n",
      "25-08-19 23:41:59.018 pyfstat.utils.sft INFO    : Loading 1 SFTs from H1...\n"
     ]
    },
    {
     "name": "stderr",
     "output_type": "stream",
     "text": [
      "  8%|▊         | 599/7200 [00:24<04:22, 25.14it/s]"
     ]
    },
    {
     "name": "stdout",
     "output_type": "stream",
     "text": [
      "25-08-19 23:41:59.060 pyfstat.utils.sft INFO    : Loading 1 SFTs from H1...\n",
      "25-08-19 23:41:59.103 pyfstat.utils.sft INFO    : Loading 1 SFTs from H1...\n",
      "25-08-19 23:41:59.142 pyfstat.utils.sft INFO    : Loading 1 SFTs from H1...\n"
     ]
    },
    {
     "name": "stderr",
     "output_type": "stream",
     "text": [
      "  8%|▊         | 602/7200 [00:24<04:25, 24.84it/s]"
     ]
    },
    {
     "name": "stdout",
     "output_type": "stream",
     "text": [
      "25-08-19 23:41:59.184 pyfstat.utils.sft INFO    : Loading 1 SFTs from H1...\n",
      "25-08-19 23:41:59.224 pyfstat.utils.sft INFO    : Loading 1 SFTs from H1...\n",
      "25-08-19 23:41:59.265 pyfstat.utils.sft INFO    : Loading 1 SFTs from H1...\n"
     ]
    },
    {
     "name": "stderr",
     "output_type": "stream",
     "text": [
      "  8%|▊         | 605/7200 [00:24<04:28, 24.57it/s]"
     ]
    },
    {
     "name": "stdout",
     "output_type": "stream",
     "text": [
      "25-08-19 23:41:59.309 pyfstat.utils.sft INFO    : Loading 1 SFTs from H1...\n",
      "25-08-19 23:41:59.351 pyfstat.utils.sft INFO    : Loading 1 SFTs from H1...\n",
      "25-08-19 23:41:59.391 pyfstat.utils.sft INFO    : Loading 1 SFTs from H1...\n"
     ]
    },
    {
     "name": "stderr",
     "output_type": "stream",
     "text": [
      "  8%|▊         | 608/7200 [00:24<04:32, 24.18it/s]"
     ]
    },
    {
     "name": "stdout",
     "output_type": "stream",
     "text": [
      "25-08-19 23:41:59.437 pyfstat.utils.sft INFO    : Loading 1 SFTs from H1...\n",
      "25-08-19 23:41:59.478 pyfstat.utils.sft INFO    : Loading 1 SFTs from H1...\n",
      "25-08-19 23:41:59.517 pyfstat.utils.sft INFO    : Loading 1 SFTs from H1...\n"
     ]
    },
    {
     "name": "stderr",
     "output_type": "stream",
     "text": [
      "  8%|▊         | 611/7200 [00:24<04:28, 24.55it/s]"
     ]
    },
    {
     "name": "stdout",
     "output_type": "stream",
     "text": [
      "25-08-19 23:41:59.555 pyfstat.utils.sft INFO    : Loading 1 SFTs from H1...\n",
      "25-08-19 23:41:59.600 pyfstat.utils.sft INFO    : Loading 1 SFTs from H1...\n",
      "25-08-19 23:41:59.641 pyfstat.utils.sft INFO    : Loading 1 SFTs from H1...\n"
     ]
    },
    {
     "name": "stderr",
     "output_type": "stream",
     "text": [
      "  9%|▊         | 614/7200 [00:24<04:33, 24.09it/s]"
     ]
    },
    {
     "name": "stdout",
     "output_type": "stream",
     "text": [
      "25-08-19 23:41:59.686 pyfstat.utils.sft INFO    : Loading 1 SFTs from H1...\n",
      "25-08-19 23:41:59.723 pyfstat.utils.sft INFO    : Loading 1 SFTs from H1...\n",
      "25-08-19 23:41:59.764 pyfstat.utils.sft INFO    : Loading 1 SFTs from H1...\n"
     ]
    },
    {
     "name": "stderr",
     "output_type": "stream",
     "text": [
      "  9%|▊         | 617/7200 [00:24<04:28, 24.53it/s]"
     ]
    },
    {
     "name": "stdout",
     "output_type": "stream",
     "text": [
      "25-08-19 23:41:59.803 pyfstat.utils.sft INFO    : Loading 1 SFTs from H1...\n",
      "25-08-19 23:41:59.842 pyfstat.utils.sft INFO    : Loading 1 SFTs from H1...\n",
      "25-08-19 23:41:59.884 pyfstat.utils.sft INFO    : Loading 1 SFTs from H1...\n"
     ]
    },
    {
     "name": "stderr",
     "output_type": "stream",
     "text": [
      "  9%|▊         | 620/7200 [00:24<04:27, 24.60it/s]"
     ]
    },
    {
     "name": "stdout",
     "output_type": "stream",
     "text": [
      "25-08-19 23:41:59.924 pyfstat.utils.sft INFO    : Loading 1 SFTs from H1...\n",
      "25-08-19 23:41:59.965 pyfstat.utils.sft INFO    : Loading 1 SFTs from H1...\n",
      "25-08-19 23:42:00.007 pyfstat.utils.sft INFO    : Loading 1 SFTs from H1...\n"
     ]
    },
    {
     "name": "stderr",
     "output_type": "stream",
     "text": [
      "  9%|▊         | 623/7200 [00:25<04:29, 24.40it/s]"
     ]
    },
    {
     "name": "stdout",
     "output_type": "stream",
     "text": [
      "25-08-19 23:42:00.049 pyfstat.utils.sft INFO    : Loading 1 SFTs from H1...\n",
      "25-08-19 23:42:00.088 pyfstat.utils.sft INFO    : Loading 1 SFTs from H1...\n",
      "25-08-19 23:42:00.133 pyfstat.utils.sft INFO    : Loading 1 SFTs from H1...\n"
     ]
    },
    {
     "name": "stderr",
     "output_type": "stream",
     "text": [
      "  9%|▊         | 626/7200 [00:25<04:30, 24.28it/s]"
     ]
    },
    {
     "name": "stdout",
     "output_type": "stream",
     "text": [
      "25-08-19 23:42:00.174 pyfstat.utils.sft INFO    : Loading 1 SFTs from H1...\n",
      "25-08-19 23:42:00.212 pyfstat.utils.sft INFO    : Loading 1 SFTs from H1...\n",
      "25-08-19 23:42:00.239 pyfstat.utils.sft INFO    : Loading 1 SFTs from H1...\n"
     ]
    },
    {
     "name": "stderr",
     "output_type": "stream",
     "text": [
      "  9%|▊         | 629/7200 [00:25<04:21, 25.15it/s]"
     ]
    },
    {
     "name": "stdout",
     "output_type": "stream",
     "text": [
      "25-08-19 23:42:00.283 pyfstat.utils.sft INFO    : Loading 1 SFTs from H1...\n",
      "25-08-19 23:42:00.329 pyfstat.utils.sft INFO    : Loading 1 SFTs from H1...\n",
      "25-08-19 23:42:00.371 pyfstat.utils.sft INFO    : Loading 1 SFTs from H1...\n"
     ]
    },
    {
     "name": "stderr",
     "output_type": "stream",
     "text": [
      "  9%|▉         | 632/7200 [00:25<04:26, 24.66it/s]"
     ]
    },
    {
     "name": "stdout",
     "output_type": "stream",
     "text": [
      "25-08-19 23:42:00.410 pyfstat.utils.sft INFO    : Loading 1 SFTs from H1...\n",
      "25-08-19 23:42:00.453 pyfstat.utils.sft INFO    : Loading 1 SFTs from H1...\n",
      "25-08-19 23:42:00.492 pyfstat.utils.sft INFO    : Loading 1 SFTs from H1...\n"
     ]
    },
    {
     "name": "stderr",
     "output_type": "stream",
     "text": [
      "  9%|▉         | 635/7200 [00:25<04:28, 24.44it/s]"
     ]
    },
    {
     "name": "stdout",
     "output_type": "stream",
     "text": [
      "25-08-19 23:42:00.536 pyfstat.utils.sft INFO    : Loading 1 SFTs from H1...\n",
      "25-08-19 23:42:00.576 pyfstat.utils.sft INFO    : Loading 1 SFTs from H1...\n",
      "25-08-19 23:42:00.619 pyfstat.utils.sft INFO    : Loading 1 SFTs from H1...\n"
     ]
    },
    {
     "name": "stderr",
     "output_type": "stream",
     "text": [
      "  9%|▉         | 638/7200 [00:25<04:29, 24.37it/s]"
     ]
    },
    {
     "name": "stdout",
     "output_type": "stream",
     "text": [
      "25-08-19 23:42:00.661 pyfstat.utils.sft INFO    : Loading 1 SFTs from H1...\n",
      "25-08-19 23:42:00.703 pyfstat.utils.sft INFO    : Loading 1 SFTs from H1...\n",
      "25-08-19 23:42:00.743 pyfstat.utils.sft INFO    : Loading 1 SFTs from H1...\n"
     ]
    },
    {
     "name": "stderr",
     "output_type": "stream",
     "text": [
      "  9%|▉         | 641/7200 [00:25<04:24, 24.76it/s]"
     ]
    },
    {
     "name": "stdout",
     "output_type": "stream",
     "text": [
      "25-08-19 23:42:00.776 pyfstat.utils.sft INFO    : Loading 1 SFTs from H1...\n",
      "25-08-19 23:42:00.820 pyfstat.utils.sft INFO    : Loading 1 SFTs from H1...\n",
      "25-08-19 23:42:00.862 pyfstat.utils.sft INFO    : Loading 1 SFTs from H1...\n"
     ]
    },
    {
     "name": "stderr",
     "output_type": "stream",
     "text": [
      "  9%|▉         | 644/7200 [00:25<04:27, 24.48it/s]"
     ]
    },
    {
     "name": "stdout",
     "output_type": "stream",
     "text": [
      "25-08-19 23:42:00.902 pyfstat.utils.sft INFO    : Loading 1 SFTs from H1...\n",
      "25-08-19 23:42:00.943 pyfstat.utils.sft INFO    : Loading 1 SFTs from H1...\n",
      "25-08-19 23:42:00.986 pyfstat.utils.sft INFO    : Loading 1 SFTs from H1...\n"
     ]
    },
    {
     "name": "stderr",
     "output_type": "stream",
     "text": [
      "  9%|▉         | 647/7200 [00:25<04:29, 24.28it/s]"
     ]
    },
    {
     "name": "stdout",
     "output_type": "stream",
     "text": [
      "25-08-19 23:42:01.028 pyfstat.utils.sft INFO    : Loading 1 SFTs from H1...\n",
      "25-08-19 23:42:01.059 pyfstat.utils.sft INFO    : Loading 1 SFTs from H1...\n",
      "25-08-19 23:42:01.102 pyfstat.utils.sft INFO    : Loading 1 SFTs from H1...\n"
     ]
    },
    {
     "name": "stderr",
     "output_type": "stream",
     "text": [
      "  9%|▉         | 650/7200 [00:26<04:25, 24.63it/s]"
     ]
    },
    {
     "name": "stdout",
     "output_type": "stream",
     "text": [
      "25-08-19 23:42:01.146 pyfstat.utils.sft INFO    : Loading 1 SFTs from H1...\n",
      "25-08-19 23:42:01.187 pyfstat.utils.sft INFO    : Loading 1 SFTs from H1...\n",
      "25-08-19 23:42:01.228 pyfstat.utils.sft INFO    : Loading 1 SFTs from H1...\n"
     ]
    },
    {
     "name": "stderr",
     "output_type": "stream",
     "text": [
      "  9%|▉         | 653/7200 [00:26<04:28, 24.36it/s]"
     ]
    },
    {
     "name": "stdout",
     "output_type": "stream",
     "text": [
      "25-08-19 23:42:01.272 pyfstat.utils.sft INFO    : Loading 1 SFTs from H1...\n",
      "25-08-19 23:42:01.312 pyfstat.utils.sft INFO    : Loading 1 SFTs from H1...\n",
      "25-08-19 23:42:01.353 pyfstat.utils.sft INFO    : Loading 1 SFTs from H1...\n"
     ]
    },
    {
     "name": "stderr",
     "output_type": "stream",
     "text": [
      "  9%|▉         | 656/7200 [00:26<04:28, 24.34it/s]"
     ]
    },
    {
     "name": "stdout",
     "output_type": "stream",
     "text": [
      "25-08-19 23:42:01.397 pyfstat.utils.sft INFO    : Loading 1 SFTs from H1...\n",
      "25-08-19 23:42:01.436 pyfstat.utils.sft INFO    : Loading 1 SFTs from H1...\n",
      "25-08-19 23:42:01.480 pyfstat.utils.sft INFO    : Loading 1 SFTs from H1...\n"
     ]
    },
    {
     "name": "stderr",
     "output_type": "stream",
     "text": [
      "  9%|▉         | 659/7200 [00:26<04:30, 24.20it/s]"
     ]
    },
    {
     "name": "stdout",
     "output_type": "stream",
     "text": [
      "25-08-19 23:42:01.521 pyfstat.utils.sft INFO    : Loading 1 SFTs from H1...\n",
      "25-08-19 23:42:01.561 pyfstat.utils.sft INFO    : Loading 1 SFTs from H1...\n",
      "25-08-19 23:42:01.603 pyfstat.utils.sft INFO    : Loading 1 SFTs from H1...\n"
     ]
    },
    {
     "name": "stderr",
     "output_type": "stream",
     "text": [
      "  9%|▉         | 662/7200 [00:26<04:29, 24.25it/s]"
     ]
    },
    {
     "name": "stdout",
     "output_type": "stream",
     "text": [
      "25-08-19 23:42:01.645 pyfstat.utils.sft INFO    : Loading 1 SFTs from H1...\n",
      "25-08-19 23:42:01.685 pyfstat.utils.sft INFO    : Loading 1 SFTs from H1...\n",
      "25-08-19 23:42:01.725 pyfstat.utils.sft INFO    : Loading 1 SFTs from H1...\n"
     ]
    },
    {
     "name": "stderr",
     "output_type": "stream",
     "text": [
      "  9%|▉         | 665/7200 [00:26<04:27, 24.46it/s]"
     ]
    },
    {
     "name": "stdout",
     "output_type": "stream",
     "text": [
      "25-08-19 23:42:01.764 pyfstat.utils.sft INFO    : Loading 1 SFTs from H1...\n",
      "25-08-19 23:42:01.802 pyfstat.utils.sft INFO    : Loading 1 SFTs from H1...\n",
      "25-08-19 23:42:01.845 pyfstat.utils.sft INFO    : Loading 1 SFTs from H1...\n"
     ]
    },
    {
     "name": "stderr",
     "output_type": "stream",
     "text": [
      "  9%|▉         | 668/7200 [00:26<04:27, 24.38it/s]"
     ]
    },
    {
     "name": "stdout",
     "output_type": "stream",
     "text": [
      "25-08-19 23:42:01.889 pyfstat.utils.sft INFO    : Loading 1 SFTs from H1...\n",
      "25-08-19 23:42:01.929 pyfstat.utils.sft INFO    : Loading 1 SFTs from H1...\n",
      "25-08-19 23:42:01.972 pyfstat.utils.sft INFO    : Loading 1 SFTs from H1...\n"
     ]
    },
    {
     "name": "stderr",
     "output_type": "stream",
     "text": [
      "  9%|▉         | 671/7200 [00:26<04:30, 24.11it/s]"
     ]
    },
    {
     "name": "stdout",
     "output_type": "stream",
     "text": [
      "25-08-19 23:42:02.016 pyfstat.utils.sft INFO    : Loading 1 SFTs from H1...\n",
      "25-08-19 23:42:02.055 pyfstat.utils.sft INFO    : Loading 1 SFTs from H1...\n",
      "25-08-19 23:42:02.097 pyfstat.utils.sft INFO    : Loading 1 SFTs from H1...\n"
     ]
    },
    {
     "name": "stderr",
     "output_type": "stream",
     "text": [
      "  9%|▉         | 674/7200 [00:27<04:29, 24.23it/s]"
     ]
    },
    {
     "name": "stdout",
     "output_type": "stream",
     "text": [
      "25-08-19 23:42:02.139 pyfstat.utils.sft INFO    : Loading 1 SFTs from H1...\n",
      "25-08-19 23:42:02.174 pyfstat.utils.sft INFO    : Loading 1 SFTs from H1...\n",
      "25-08-19 23:42:02.213 pyfstat.utils.sft INFO    : Loading 1 SFTs from H1...\n"
     ]
    },
    {
     "name": "stderr",
     "output_type": "stream",
     "text": [
      "  9%|▉         | 677/7200 [00:27<04:23, 24.80it/s]"
     ]
    },
    {
     "name": "stdout",
     "output_type": "stream",
     "text": [
      "25-08-19 23:42:02.253 pyfstat.utils.sft INFO    : Loading 1 SFTs from H1...\n",
      "25-08-19 23:42:02.293 pyfstat.utils.sft INFO    : Loading 1 SFTs from H1...\n",
      "25-08-19 23:42:02.333 pyfstat.utils.sft INFO    : Loading 1 SFTs from H1...\n"
     ]
    },
    {
     "name": "stderr",
     "output_type": "stream",
     "text": [
      "  9%|▉         | 680/7200 [00:27<04:24, 24.65it/s]"
     ]
    },
    {
     "name": "stdout",
     "output_type": "stream",
     "text": [
      "25-08-19 23:42:02.376 pyfstat.utils.sft INFO    : Loading 1 SFTs from H1...\n",
      "25-08-19 23:42:02.414 pyfstat.utils.sft INFO    : Loading 1 SFTs from H1...\n",
      "25-08-19 23:42:02.453 pyfstat.utils.sft INFO    : Loading 1 SFTs from H1...\n"
     ]
    },
    {
     "name": "stderr",
     "output_type": "stream",
     "text": [
      "  9%|▉         | 683/7200 [00:27<04:20, 25.00it/s]"
     ]
    },
    {
     "name": "stdout",
     "output_type": "stream",
     "text": [
      "25-08-19 23:42:02.492 pyfstat.utils.sft INFO    : Loading 1 SFTs from H1...\n",
      "25-08-19 23:42:02.529 pyfstat.utils.sft INFO    : Loading 1 SFTs from H1...\n",
      "25-08-19 23:42:02.562 pyfstat.utils.sft INFO    : Loading 1 SFTs from H1...\n"
     ]
    },
    {
     "name": "stderr",
     "output_type": "stream",
     "text": [
      " 10%|▉         | 686/7200 [00:27<04:13, 25.68it/s]"
     ]
    },
    {
     "name": "stdout",
     "output_type": "stream",
     "text": [
      "25-08-19 23:42:02.602 pyfstat.utils.sft INFO    : Loading 1 SFTs from H1...\n",
      "25-08-19 23:42:02.641 pyfstat.utils.sft INFO    : Loading 1 SFTs from H1...\n",
      "25-08-19 23:42:02.681 pyfstat.utils.sft INFO    : Loading 1 SFTs from H1...\n"
     ]
    },
    {
     "name": "stderr",
     "output_type": "stream",
     "text": [
      " 10%|▉         | 689/7200 [00:27<04:15, 25.46it/s]"
     ]
    },
    {
     "name": "stdout",
     "output_type": "stream",
     "text": [
      "25-08-19 23:42:02.719 pyfstat.utils.sft INFO    : Loading 1 SFTs from H1...\n",
      "25-08-19 23:42:02.758 pyfstat.utils.sft INFO    : Loading 1 SFTs from H1...\n",
      "25-08-19 23:42:02.796 pyfstat.utils.sft INFO    : Loading 1 SFTs from H1...\n"
     ]
    },
    {
     "name": "stderr",
     "output_type": "stream",
     "text": [
      " 10%|▉         | 692/7200 [00:27<04:13, 25.68it/s]"
     ]
    },
    {
     "name": "stdout",
     "output_type": "stream",
     "text": [
      "25-08-19 23:42:02.836 pyfstat.utils.sft INFO    : Loading 1 SFTs from H1...\n",
      "25-08-19 23:42:02.875 pyfstat.utils.sft INFO    : Loading 1 SFTs from H1...\n",
      "25-08-19 23:42:02.914 pyfstat.utils.sft INFO    : Loading 1 SFTs from H1...\n"
     ]
    },
    {
     "name": "stderr",
     "output_type": "stream",
     "text": [
      " 10%|▉         | 695/7200 [00:27<04:13, 25.67it/s]"
     ]
    },
    {
     "name": "stdout",
     "output_type": "stream",
     "text": [
      "25-08-19 23:42:02.953 pyfstat.utils.sft INFO    : Loading 1 SFTs from H1...\n",
      "25-08-19 23:42:02.991 pyfstat.utils.sft INFO    : Loading 1 SFTs from H1...\n",
      "25-08-19 23:42:03.028 pyfstat.utils.sft INFO    : Loading 1 SFTs from H1...\n"
     ]
    },
    {
     "name": "stderr",
     "output_type": "stream",
     "text": [
      " 10%|▉         | 698/7200 [00:28<04:11, 25.89it/s]"
     ]
    },
    {
     "name": "stdout",
     "output_type": "stream",
     "text": [
      "25-08-19 23:42:03.067 pyfstat.utils.sft INFO    : Loading 1 SFTs from H1...\n",
      "25-08-19 23:42:03.108 pyfstat.utils.sft INFO    : Loading 1 SFTs from H1...\n",
      "25-08-19 23:42:03.151 pyfstat.utils.sft INFO    : Loading 1 SFTs from H1...\n"
     ]
    },
    {
     "name": "stderr",
     "output_type": "stream",
     "text": [
      " 10%|▉         | 701/7200 [00:28<04:18, 25.10it/s]"
     ]
    },
    {
     "name": "stdout",
     "output_type": "stream",
     "text": [
      "25-08-19 23:42:03.195 pyfstat.utils.sft INFO    : Loading 1 SFTs from H1...\n",
      "25-08-19 23:42:03.238 pyfstat.utils.sft INFO    : Loading 1 SFTs from H1...\n",
      "25-08-19 23:42:03.284 pyfstat.utils.sft INFO    : Loading 1 SFTs from H1...\n"
     ]
    },
    {
     "name": "stderr",
     "output_type": "stream",
     "text": [
      " 10%|▉         | 704/7200 [00:28<04:25, 24.51it/s]"
     ]
    },
    {
     "name": "stdout",
     "output_type": "stream",
     "text": [
      "25-08-19 23:42:03.324 pyfstat.utils.sft INFO    : Loading 1 SFTs from H1...\n",
      "25-08-19 23:42:03.363 pyfstat.utils.sft INFO    : Loading 1 SFTs from H1...\n",
      "25-08-19 23:42:03.400 pyfstat.utils.sft INFO    : Loading 1 SFTs from H1...\n"
     ]
    },
    {
     "name": "stderr",
     "output_type": "stream",
     "text": [
      " 10%|▉         | 707/7200 [00:28<04:21, 24.83it/s]"
     ]
    },
    {
     "name": "stdout",
     "output_type": "stream",
     "text": [
      "25-08-19 23:42:03.441 pyfstat.utils.sft INFO    : Loading 1 SFTs from H1...\n",
      "25-08-19 23:42:03.480 pyfstat.utils.sft INFO    : Loading 1 SFTs from H1...\n",
      "25-08-19 23:42:03.520 pyfstat.utils.sft INFO    : Loading 1 SFTs from H1...\n"
     ]
    },
    {
     "name": "stderr",
     "output_type": "stream",
     "text": [
      " 10%|▉         | 710/7200 [00:28<04:20, 24.88it/s]"
     ]
    },
    {
     "name": "stdout",
     "output_type": "stream",
     "text": [
      "25-08-19 23:42:03.562 pyfstat.utils.sft INFO    : Loading 1 SFTs from H1...\n",
      "25-08-19 23:42:03.608 pyfstat.utils.sft INFO    : Loading 1 SFTs from H1...\n",
      "25-08-19 23:42:03.651 pyfstat.utils.sft INFO    : Loading 1 SFTs from H1...\n"
     ]
    },
    {
     "name": "stderr",
     "output_type": "stream",
     "text": [
      " 10%|▉         | 713/7200 [00:28<04:27, 24.23it/s]"
     ]
    },
    {
     "name": "stdout",
     "output_type": "stream",
     "text": [
      "25-08-19 23:42:03.693 pyfstat.utils.sft INFO    : Loading 1 SFTs from H1...\n",
      "25-08-19 23:42:03.733 pyfstat.utils.sft INFO    : Loading 1 SFTs from H1...\n",
      "25-08-19 23:42:03.776 pyfstat.utils.sft INFO    : Loading 1 SFTs from H1...\n"
     ]
    },
    {
     "name": "stderr",
     "output_type": "stream",
     "text": [
      " 10%|▉         | 716/7200 [00:28<04:27, 24.24it/s]"
     ]
    },
    {
     "name": "stdout",
     "output_type": "stream",
     "text": [
      "25-08-19 23:42:03.817 pyfstat.utils.sft INFO    : Loading 1 SFTs from H1...\n",
      "25-08-19 23:42:03.861 pyfstat.utils.sft INFO    : Loading 1 SFTs from H1...\n",
      "25-08-19 23:42:03.903 pyfstat.utils.sft INFO    : Loading 1 SFTs from H1...\n"
     ]
    },
    {
     "name": "stderr",
     "output_type": "stream",
     "text": [
      " 10%|▉         | 719/7200 [00:28<04:31, 23.88it/s]"
     ]
    },
    {
     "name": "stdout",
     "output_type": "stream",
     "text": [
      "25-08-19 23:42:03.947 pyfstat.utils.sft INFO    : Loading 1 SFTs from H1...\n",
      "25-08-19 23:42:03.977 pyfstat.utils.sft INFO    : Loading 1 SFTs from H1...\n",
      "25-08-19 23:42:04.019 pyfstat.utils.sft INFO    : Loading 1 SFTs from H1...\n"
     ]
    },
    {
     "name": "stderr",
     "output_type": "stream",
     "text": [
      " 10%|█         | 722/7200 [00:29<04:24, 24.51it/s]"
     ]
    },
    {
     "name": "stdout",
     "output_type": "stream",
     "text": [
      "25-08-19 23:42:04.061 pyfstat.utils.sft INFO    : Loading 1 SFTs from H1...\n",
      "25-08-19 23:42:04.102 pyfstat.utils.sft INFO    : Loading 1 SFTs from H1...\n",
      "25-08-19 23:42:04.142 pyfstat.utils.sft INFO    : Loading 1 SFTs from H1...\n"
     ]
    },
    {
     "name": "stderr",
     "output_type": "stream",
     "text": [
      " 10%|█         | 725/7200 [00:29<04:24, 24.48it/s]"
     ]
    },
    {
     "name": "stdout",
     "output_type": "stream",
     "text": [
      "25-08-19 23:42:04.183 pyfstat.utils.sft INFO    : Loading 1 SFTs from H1...\n",
      "25-08-19 23:42:04.222 pyfstat.utils.sft INFO    : Loading 1 SFTs from H1...\n",
      "25-08-19 23:42:04.265 pyfstat.utils.sft INFO    : Loading 1 SFTs from H1...\n"
     ]
    },
    {
     "name": "stderr",
     "output_type": "stream",
     "text": [
      " 10%|█         | 728/7200 [00:29<04:23, 24.54it/s]"
     ]
    },
    {
     "name": "stdout",
     "output_type": "stream",
     "text": [
      "25-08-19 23:42:04.306 pyfstat.utils.sft INFO    : Loading 1 SFTs from H1...\n",
      "25-08-19 23:42:04.347 pyfstat.utils.sft INFO    : Loading 1 SFTs from H1...\n",
      "25-08-19 23:42:04.386 pyfstat.utils.sft INFO    : Loading 1 SFTs from H1...\n"
     ]
    },
    {
     "name": "stderr",
     "output_type": "stream",
     "text": [
      " 10%|█         | 731/7200 [00:29<04:22, 24.65it/s]"
     ]
    },
    {
     "name": "stdout",
     "output_type": "stream",
     "text": [
      "25-08-19 23:42:04.426 pyfstat.utils.sft INFO    : Loading 1 SFTs from H1...\n",
      "25-08-19 23:42:04.467 pyfstat.utils.sft INFO    : Loading 1 SFTs from H1...\n",
      "25-08-19 23:42:04.508 pyfstat.utils.sft INFO    : Loading 1 SFTs from H1...\n"
     ]
    },
    {
     "name": "stderr",
     "output_type": "stream",
     "text": [
      " 10%|█         | 734/7200 [00:29<04:23, 24.54it/s]"
     ]
    },
    {
     "name": "stdout",
     "output_type": "stream",
     "text": [
      "25-08-19 23:42:04.550 pyfstat.utils.sft INFO    : Loading 1 SFTs from H1...\n",
      "25-08-19 23:42:04.588 pyfstat.utils.sft INFO    : Loading 1 SFTs from H1...\n",
      "25-08-19 23:42:04.629 pyfstat.utils.sft INFO    : Loading 1 SFTs from H1...\n"
     ]
    },
    {
     "name": "stderr",
     "output_type": "stream",
     "text": [
      " 10%|█         | 737/7200 [00:29<04:23, 24.57it/s]"
     ]
    },
    {
     "name": "stdout",
     "output_type": "stream",
     "text": [
      "25-08-19 23:42:04.668 pyfstat.utils.sft INFO    : Loading 1 SFTs from H1...\n",
      "25-08-19 23:42:04.698 pyfstat.utils.sft INFO    : Loading 1 SFTs from H1...\n",
      "25-08-19 23:42:04.740 pyfstat.utils.sft INFO    : Loading 1 SFTs from H1...\n"
     ]
    },
    {
     "name": "stderr",
     "output_type": "stream",
     "text": [
      " 10%|█         | 740/7200 [00:29<04:14, 25.39it/s]"
     ]
    },
    {
     "name": "stdout",
     "output_type": "stream",
     "text": [
      "25-08-19 23:42:04.780 pyfstat.utils.sft INFO    : Loading 1 SFTs from H1...\n",
      "25-08-19 23:42:04.821 pyfstat.utils.sft INFO    : Loading 1 SFTs from H1...\n",
      "25-08-19 23:42:04.873 pyfstat.utils.sft INFO    : Loading 1 SFTs from H1...\n"
     ]
    },
    {
     "name": "stderr",
     "output_type": "stream",
     "text": [
      " 10%|█         | 743/7200 [00:29<04:24, 24.46it/s]"
     ]
    },
    {
     "name": "stdout",
     "output_type": "stream",
     "text": [
      "25-08-19 23:42:04.914 pyfstat.utils.sft INFO    : Loading 1 SFTs from H1...\n",
      "25-08-19 23:42:04.953 pyfstat.utils.sft INFO    : Loading 1 SFTs from H1...\n",
      "25-08-19 23:42:04.994 pyfstat.utils.sft INFO    : Loading 1 SFTs from H1...\n"
     ]
    },
    {
     "name": "stderr",
     "output_type": "stream",
     "text": [
      " 10%|█         | 746/7200 [00:29<04:22, 24.59it/s]"
     ]
    },
    {
     "name": "stdout",
     "output_type": "stream",
     "text": [
      "25-08-19 23:42:05.034 pyfstat.utils.sft INFO    : Loading 1 SFTs from H1...\n",
      "25-08-19 23:42:05.079 pyfstat.utils.sft INFO    : Loading 1 SFTs from H1...\n",
      "25-08-19 23:42:05.120 pyfstat.utils.sft INFO    : Loading 1 SFTs from H1...\n"
     ]
    },
    {
     "name": "stderr",
     "output_type": "stream",
     "text": [
      " 10%|█         | 749/7200 [00:30<04:12, 25.52it/s]"
     ]
    },
    {
     "name": "stdout",
     "output_type": "stream",
     "text": [
      "25-08-19 23:42:05.141 pyfstat.utils.sft INFO    : Loading 1 SFTs from H1...\n",
      "25-08-19 23:42:05.182 pyfstat.utils.sft INFO    : Loading 1 SFTs from H1...\n",
      "25-08-19 23:42:05.221 pyfstat.utils.sft INFO    : Loading 1 SFTs from H1...\n"
     ]
    },
    {
     "name": "stderr",
     "output_type": "stream",
     "text": [
      " 10%|█         | 752/7200 [00:30<04:14, 25.33it/s]"
     ]
    },
    {
     "name": "stdout",
     "output_type": "stream",
     "text": [
      "25-08-19 23:42:05.262 pyfstat.utils.sft INFO    : Loading 1 SFTs from H1...\n",
      "25-08-19 23:42:05.306 pyfstat.utils.sft INFO    : Loading 1 SFTs from H1...\n",
      "25-08-19 23:42:05.341 pyfstat.utils.sft INFO    : Loading 1 SFTs from H1...\n"
     ]
    },
    {
     "name": "stderr",
     "output_type": "stream",
     "text": [
      " 10%|█         | 755/7200 [00:30<04:18, 24.93it/s]"
     ]
    },
    {
     "name": "stdout",
     "output_type": "stream",
     "text": [
      "25-08-19 23:42:05.386 pyfstat.utils.sft INFO    : Loading 1 SFTs from H1...\n",
      "25-08-19 23:42:05.426 pyfstat.utils.sft INFO    : Loading 1 SFTs from H1...\n",
      "25-08-19 23:42:05.470 pyfstat.utils.sft INFO    : Loading 1 SFTs from H1...\n"
     ]
    },
    {
     "name": "stderr",
     "output_type": "stream",
     "text": [
      " 11%|█         | 758/7200 [00:30<04:22, 24.58it/s]"
     ]
    },
    {
     "name": "stdout",
     "output_type": "stream",
     "text": [
      "25-08-19 23:42:05.512 pyfstat.utils.sft INFO    : Loading 1 SFTs from H1...\n",
      "25-08-19 23:42:05.558 pyfstat.utils.sft INFO    : Loading 1 SFTs from H1...\n",
      "25-08-19 23:42:05.595 pyfstat.utils.sft INFO    : Loading 1 SFTs from H1...\n"
     ]
    },
    {
     "name": "stderr",
     "output_type": "stream",
     "text": [
      " 11%|█         | 761/7200 [00:30<04:23, 24.42it/s]"
     ]
    },
    {
     "name": "stdout",
     "output_type": "stream",
     "text": [
      "25-08-19 23:42:05.636 pyfstat.utils.sft INFO    : Loading 1 SFTs from H1...\n",
      "25-08-19 23:42:05.677 pyfstat.utils.sft INFO    : Loading 1 SFTs from H1...\n",
      "25-08-19 23:42:05.706 pyfstat.utils.sft INFO    : Loading 1 SFTs from H1...\n"
     ]
    },
    {
     "name": "stderr",
     "output_type": "stream",
     "text": [
      " 11%|█         | 764/7200 [00:30<04:15, 25.24it/s]"
     ]
    },
    {
     "name": "stdout",
     "output_type": "stream",
     "text": [
      "25-08-19 23:42:05.747 pyfstat.utils.sft INFO    : Loading 1 SFTs from H1...\n",
      "25-08-19 23:42:05.786 pyfstat.utils.sft INFO    : Loading 1 SFTs from H1...\n",
      "25-08-19 23:42:05.824 pyfstat.utils.sft INFO    : Loading 1 SFTs from H1...\n"
     ]
    },
    {
     "name": "stderr",
     "output_type": "stream",
     "text": [
      " 11%|█         | 767/7200 [00:30<04:14, 25.27it/s]"
     ]
    },
    {
     "name": "stdout",
     "output_type": "stream",
     "text": [
      "25-08-19 23:42:05.865 pyfstat.utils.sft INFO    : Loading 1 SFTs from H1...\n",
      "25-08-19 23:42:05.905 pyfstat.utils.sft INFO    : Loading 1 SFTs from H1...\n",
      "25-08-19 23:42:05.948 pyfstat.utils.sft INFO    : Loading 1 SFTs from H1...\n"
     ]
    },
    {
     "name": "stderr",
     "output_type": "stream",
     "text": [
      " 11%|█         | 770/7200 [00:30<04:16, 25.06it/s]"
     ]
    },
    {
     "name": "stdout",
     "output_type": "stream",
     "text": [
      "25-08-19 23:42:05.987 pyfstat.utils.sft INFO    : Loading 1 SFTs from H1...\n",
      "25-08-19 23:42:06.025 pyfstat.utils.sft INFO    : Loading 1 SFTs from H1...\n",
      "25-08-19 23:42:06.065 pyfstat.utils.sft INFO    : Loading 1 SFTs from H1...\n"
     ]
    },
    {
     "name": "stderr",
     "output_type": "stream",
     "text": [
      " 11%|█         | 773/7200 [00:31<04:15, 25.15it/s]"
     ]
    },
    {
     "name": "stdout",
     "output_type": "stream",
     "text": [
      "25-08-19 23:42:06.105 pyfstat.utils.sft INFO    : Loading 1 SFTs from H1...\n",
      "25-08-19 23:42:06.135 pyfstat.utils.sft INFO    : Loading 1 SFTs from H1...\n",
      "25-08-19 23:42:06.177 pyfstat.utils.sft INFO    : Loading 1 SFTs from H1...\n"
     ]
    },
    {
     "name": "stderr",
     "output_type": "stream",
     "text": [
      " 11%|█         | 776/7200 [00:31<04:11, 25.51it/s]"
     ]
    },
    {
     "name": "stdout",
     "output_type": "stream",
     "text": [
      "25-08-19 23:42:06.219 pyfstat.utils.sft INFO    : Loading 1 SFTs from H1...\n",
      "25-08-19 23:42:06.260 pyfstat.utils.sft INFO    : Loading 1 SFTs from H1...\n",
      "25-08-19 23:42:06.301 pyfstat.utils.sft INFO    : Loading 1 SFTs from H1...\n"
     ]
    },
    {
     "name": "stderr",
     "output_type": "stream",
     "text": [
      " 11%|█         | 779/7200 [00:31<04:13, 25.36it/s]"
     ]
    },
    {
     "name": "stdout",
     "output_type": "stream",
     "text": [
      "25-08-19 23:42:06.338 pyfstat.utils.sft INFO    : Loading 1 SFTs from H1...\n",
      "25-08-19 23:42:06.380 pyfstat.utils.sft INFO    : Loading 1 SFTs from H1...\n",
      "25-08-19 23:42:06.419 pyfstat.utils.sft INFO    : Loading 1 SFTs from H1...\n"
     ]
    },
    {
     "name": "stderr",
     "output_type": "stream",
     "text": [
      " 11%|█         | 782/7200 [00:31<04:15, 25.08it/s]"
     ]
    },
    {
     "name": "stdout",
     "output_type": "stream",
     "text": [
      "25-08-19 23:42:06.461 pyfstat.utils.sft INFO    : Loading 1 SFTs from H1...\n",
      "25-08-19 23:42:06.503 pyfstat.utils.sft INFO    : Loading 1 SFTs from H1...\n",
      "25-08-19 23:42:06.544 pyfstat.utils.sft INFO    : Loading 1 SFTs from H1...\n"
     ]
    },
    {
     "name": "stderr",
     "output_type": "stream",
     "text": [
      " 11%|█         | 785/7200 [00:31<04:18, 24.86it/s]"
     ]
    },
    {
     "name": "stdout",
     "output_type": "stream",
     "text": [
      "25-08-19 23:42:06.585 pyfstat.utils.sft INFO    : Loading 1 SFTs from H1...\n",
      "25-08-19 23:42:06.626 pyfstat.utils.sft INFO    : Loading 1 SFTs from H1...\n",
      "25-08-19 23:42:06.657 pyfstat.utils.sft INFO    : Loading 1 SFTs from H1...\n"
     ]
    },
    {
     "name": "stderr",
     "output_type": "stream",
     "text": [
      " 11%|█         | 788/7200 [00:31<04:13, 25.28it/s]"
     ]
    },
    {
     "name": "stdout",
     "output_type": "stream",
     "text": [
      "25-08-19 23:42:06.699 pyfstat.utils.sft INFO    : Loading 1 SFTs from H1...\n",
      "25-08-19 23:42:06.743 pyfstat.utils.sft INFO    : Loading 1 SFTs from H1...\n",
      "25-08-19 23:42:06.783 pyfstat.utils.sft INFO    : Loading 1 SFTs from H1...\n"
     ]
    },
    {
     "name": "stderr",
     "output_type": "stream",
     "text": [
      " 11%|█         | 791/7200 [00:31<04:17, 24.92it/s]"
     ]
    },
    {
     "name": "stdout",
     "output_type": "stream",
     "text": [
      "25-08-19 23:42:06.823 pyfstat.utils.sft INFO    : Loading 1 SFTs from H1...\n",
      "25-08-19 23:42:06.864 pyfstat.utils.sft INFO    : Loading 1 SFTs from H1...\n",
      "25-08-19 23:42:06.904 pyfstat.utils.sft INFO    : Loading 1 SFTs from H1...\n"
     ]
    },
    {
     "name": "stderr",
     "output_type": "stream",
     "text": [
      " 11%|█         | 794/7200 [00:31<04:17, 24.89it/s]"
     ]
    },
    {
     "name": "stdout",
     "output_type": "stream",
     "text": [
      "25-08-19 23:42:06.944 pyfstat.utils.sft INFO    : Loading 1 SFTs from H1...\n",
      "25-08-19 23:42:06.987 pyfstat.utils.sft INFO    : Loading 1 SFTs from H1...\n",
      "25-08-19 23:42:07.030 pyfstat.utils.sft INFO    : Loading 1 SFTs from H1...\n"
     ]
    },
    {
     "name": "stderr",
     "output_type": "stream",
     "text": [
      " 11%|█         | 797/7200 [00:32<04:22, 24.43it/s]"
     ]
    },
    {
     "name": "stdout",
     "output_type": "stream",
     "text": [
      "25-08-19 23:42:07.072 pyfstat.utils.sft INFO    : Loading 1 SFTs from H1...\n",
      "25-08-19 23:42:07.115 pyfstat.utils.sft INFO    : Loading 1 SFTs from H1...\n",
      "25-08-19 23:42:07.157 pyfstat.utils.sft INFO    : Loading 1 SFTs from H1...\n"
     ]
    },
    {
     "name": "stderr",
     "output_type": "stream",
     "text": [
      " 11%|█         | 800/7200 [00:32<04:26, 24.02it/s]"
     ]
    },
    {
     "name": "stdout",
     "output_type": "stream",
     "text": [
      "25-08-19 23:42:07.203 pyfstat.utils.sft INFO    : Loading 1 SFTs from H1...\n",
      "25-08-19 23:42:07.244 pyfstat.utils.sft INFO    : Loading 1 SFTs from H1...\n",
      "25-08-19 23:42:07.286 pyfstat.utils.sft INFO    : Loading 1 SFTs from H1...\n"
     ]
    },
    {
     "name": "stderr",
     "output_type": "stream",
     "text": [
      " 11%|█         | 803/7200 [00:32<04:27, 23.95it/s]"
     ]
    },
    {
     "name": "stdout",
     "output_type": "stream",
     "text": [
      "25-08-19 23:42:07.328 pyfstat.utils.sft INFO    : Loading 1 SFTs from H1...\n",
      "25-08-19 23:42:07.370 pyfstat.utils.sft INFO    : Loading 1 SFTs from H1...\n",
      "25-08-19 23:42:07.411 pyfstat.utils.sft INFO    : Loading 1 SFTs from H1...\n"
     ]
    },
    {
     "name": "stderr",
     "output_type": "stream",
     "text": [
      " 11%|█         | 806/7200 [00:32<04:25, 24.04it/s]"
     ]
    },
    {
     "name": "stdout",
     "output_type": "stream",
     "text": [
      "25-08-19 23:42:07.452 pyfstat.utils.sft INFO    : Loading 1 SFTs from H1...\n",
      "25-08-19 23:42:07.491 pyfstat.utils.sft INFO    : Loading 1 SFTs from H1...\n",
      "25-08-19 23:42:07.532 pyfstat.utils.sft INFO    : Loading 1 SFTs from H1...\n"
     ]
    },
    {
     "name": "stderr",
     "output_type": "stream",
     "text": [
      " 11%|█         | 809/7200 [00:32<04:24, 24.15it/s]"
     ]
    },
    {
     "name": "stdout",
     "output_type": "stream",
     "text": [
      "25-08-19 23:42:07.576 pyfstat.utils.sft INFO    : Loading 1 SFTs from H1...\n",
      "25-08-19 23:42:07.616 pyfstat.utils.sft INFO    : Loading 1 SFTs from H1...\n",
      "25-08-19 23:42:07.657 pyfstat.utils.sft INFO    : Loading 1 SFTs from H1...\n"
     ]
    },
    {
     "name": "stderr",
     "output_type": "stream",
     "text": [
      " 11%|█▏        | 812/7200 [00:32<04:24, 24.14it/s]"
     ]
    },
    {
     "name": "stdout",
     "output_type": "stream",
     "text": [
      "25-08-19 23:42:07.699 pyfstat.utils.sft INFO    : Loading 1 SFTs from H1...\n",
      "25-08-19 23:42:07.740 pyfstat.utils.sft INFO    : Loading 1 SFTs from H1...\n",
      "25-08-19 23:42:07.783 pyfstat.utils.sft INFO    : Loading 1 SFTs from H1...\n"
     ]
    },
    {
     "name": "stderr",
     "output_type": "stream",
     "text": [
      " 11%|█▏        | 815/7200 [00:32<04:26, 23.94it/s]"
     ]
    },
    {
     "name": "stdout",
     "output_type": "stream",
     "text": [
      "25-08-19 23:42:07.827 pyfstat.utils.sft INFO    : Loading 1 SFTs from H1...\n",
      "25-08-19 23:42:07.870 pyfstat.utils.sft INFO    : Loading 1 SFTs from H1...\n",
      "25-08-19 23:42:07.906 pyfstat.utils.sft INFO    : Loading 1 SFTs from H1...\n"
     ]
    },
    {
     "name": "stderr",
     "output_type": "stream",
     "text": [
      " 11%|█▏        | 818/7200 [00:32<04:25, 24.02it/s]"
     ]
    },
    {
     "name": "stdout",
     "output_type": "stream",
     "text": [
      "25-08-19 23:42:07.951 pyfstat.utils.sft INFO    : Loading 1 SFTs from H1...\n",
      "25-08-19 23:42:07.992 pyfstat.utils.sft INFO    : Loading 1 SFTs from H1...\n",
      "25-08-19 23:42:08.032 pyfstat.utils.sft INFO    : Loading 1 SFTs from H1...\n"
     ]
    },
    {
     "name": "stderr",
     "output_type": "stream",
     "text": [
      " 11%|█▏        | 821/7200 [00:33<04:26, 23.90it/s]"
     ]
    },
    {
     "name": "stdout",
     "output_type": "stream",
     "text": [
      "25-08-19 23:42:08.077 pyfstat.utils.sft INFO    : Loading 1 SFTs from H1...\n",
      "25-08-19 23:42:08.120 pyfstat.utils.sft INFO    : Loading 1 SFTs from H1...\n",
      "25-08-19 23:42:08.162 pyfstat.utils.sft INFO    : Loading 1 SFTs from H1...\n"
     ]
    },
    {
     "name": "stderr",
     "output_type": "stream",
     "text": [
      " 11%|█▏        | 824/7200 [00:33<04:26, 23.89it/s]"
     ]
    },
    {
     "name": "stdout",
     "output_type": "stream",
     "text": [
      "25-08-19 23:42:08.204 pyfstat.utils.sft INFO    : Loading 1 SFTs from H1...\n",
      "25-08-19 23:42:08.245 pyfstat.utils.sft INFO    : Loading 1 SFTs from H1...\n",
      "25-08-19 23:42:08.286 pyfstat.utils.sft INFO    : Loading 1 SFTs from H1...\n"
     ]
    },
    {
     "name": "stderr",
     "output_type": "stream",
     "text": [
      " 11%|█▏        | 827/7200 [00:33<04:25, 24.05it/s]"
     ]
    },
    {
     "name": "stdout",
     "output_type": "stream",
     "text": [
      "25-08-19 23:42:08.326 pyfstat.utils.sft INFO    : Loading 1 SFTs from H1...\n",
      "25-08-19 23:42:08.368 pyfstat.utils.sft INFO    : Loading 1 SFTs from H1...\n",
      "25-08-19 23:42:08.406 pyfstat.utils.sft INFO    : Loading 1 SFTs from H1...\n"
     ]
    },
    {
     "name": "stderr",
     "output_type": "stream",
     "text": [
      " 12%|█▏        | 830/7200 [00:33<04:22, 24.27it/s]"
     ]
    },
    {
     "name": "stdout",
     "output_type": "stream",
     "text": [
      "25-08-19 23:42:08.448 pyfstat.utils.sft INFO    : Loading 1 SFTs from H1...\n",
      "25-08-19 23:42:08.487 pyfstat.utils.sft INFO    : Loading 1 SFTs from H1...\n",
      "25-08-19 23:42:08.525 pyfstat.utils.sft INFO    : Loading 1 SFTs from H1...\n"
     ]
    },
    {
     "name": "stderr",
     "output_type": "stream",
     "text": [
      " 12%|█▏        | 833/7200 [00:33<04:20, 24.46it/s]"
     ]
    },
    {
     "name": "stdout",
     "output_type": "stream",
     "text": [
      "25-08-19 23:42:08.568 pyfstat.utils.sft INFO    : Loading 1 SFTs from H1...\n",
      "25-08-19 23:42:08.609 pyfstat.utils.sft INFO    : Loading 1 SFTs from H1...\n",
      "25-08-19 23:42:08.648 pyfstat.utils.sft INFO    : Loading 1 SFTs from H1...\n"
     ]
    },
    {
     "name": "stderr",
     "output_type": "stream",
     "text": [
      " 12%|█▏        | 836/7200 [00:33<04:19, 24.51it/s]"
     ]
    },
    {
     "name": "stdout",
     "output_type": "stream",
     "text": [
      "25-08-19 23:42:08.689 pyfstat.utils.sft INFO    : Loading 1 SFTs from H1...\n",
      "25-08-19 23:42:08.729 pyfstat.utils.sft INFO    : Loading 1 SFTs from H1...\n",
      "25-08-19 23:42:08.769 pyfstat.utils.sft INFO    : Loading 1 SFTs from H1...\n"
     ]
    },
    {
     "name": "stderr",
     "output_type": "stream",
     "text": [
      " 12%|█▏        | 839/7200 [00:33<04:17, 24.68it/s]"
     ]
    },
    {
     "name": "stdout",
     "output_type": "stream",
     "text": [
      "25-08-19 23:42:08.808 pyfstat.utils.sft INFO    : Loading 1 SFTs from H1...\n",
      "25-08-19 23:42:08.847 pyfstat.utils.sft INFO    : Loading 1 SFTs from H1...\n",
      "25-08-19 23:42:08.887 pyfstat.utils.sft INFO    : Loading 1 SFTs from H1...\n"
     ]
    },
    {
     "name": "stderr",
     "output_type": "stream",
     "text": [
      " 12%|█▏        | 842/7200 [00:33<04:15, 24.91it/s]"
     ]
    },
    {
     "name": "stdout",
     "output_type": "stream",
     "text": [
      "25-08-19 23:42:08.927 pyfstat.utils.sft INFO    : Loading 1 SFTs from H1...\n",
      "25-08-19 23:42:08.964 pyfstat.utils.sft INFO    : Loading 1 SFTs from H1...\n",
      "25-08-19 23:42:08.988 pyfstat.utils.sft INFO    : Loading 1 SFTs from H1...\n"
     ]
    },
    {
     "name": "stderr",
     "output_type": "stream",
     "text": [
      " 12%|█▏        | 845/7200 [00:33<04:04, 26.03it/s]"
     ]
    },
    {
     "name": "stdout",
     "output_type": "stream",
     "text": [
      "25-08-19 23:42:09.030 pyfstat.utils.sft INFO    : Loading 1 SFTs from H1...\n",
      "25-08-19 23:42:09.071 pyfstat.utils.sft INFO    : Loading 1 SFTs from H1...\n",
      "25-08-19 23:42:09.111 pyfstat.utils.sft INFO    : Loading 1 SFTs from H1...\n"
     ]
    },
    {
     "name": "stderr",
     "output_type": "stream",
     "text": [
      " 12%|█▏        | 848/7200 [00:34<04:07, 25.67it/s]"
     ]
    },
    {
     "name": "stdout",
     "output_type": "stream",
     "text": [
      "25-08-19 23:42:09.152 pyfstat.utils.sft INFO    : Loading 1 SFTs from H1...\n",
      "25-08-19 23:42:09.192 pyfstat.utils.sft INFO    : Loading 1 SFTs from H1...\n",
      "25-08-19 23:42:09.234 pyfstat.utils.sft INFO    : Loading 1 SFTs from H1...\n"
     ]
    },
    {
     "name": "stderr",
     "output_type": "stream",
     "text": [
      " 12%|█▏        | 851/7200 [00:34<04:11, 25.24it/s]"
     ]
    },
    {
     "name": "stdout",
     "output_type": "stream",
     "text": [
      "25-08-19 23:42:09.274 pyfstat.utils.sft INFO    : Loading 1 SFTs from H1...\n",
      "25-08-19 23:42:09.313 pyfstat.utils.sft INFO    : Loading 1 SFTs from H1...\n",
      "25-08-19 23:42:09.353 pyfstat.utils.sft INFO    : Loading 1 SFTs from H1...\n"
     ]
    },
    {
     "name": "stderr",
     "output_type": "stream",
     "text": [
      " 12%|█▏        | 854/7200 [00:34<04:15, 24.86it/s]"
     ]
    },
    {
     "name": "stdout",
     "output_type": "stream",
     "text": [
      "25-08-19 23:42:09.399 pyfstat.utils.sft INFO    : Loading 1 SFTs from H1...\n",
      "25-08-19 23:42:09.441 pyfstat.utils.sft INFO    : Loading 1 SFTs from H1...\n",
      "25-08-19 23:42:09.482 pyfstat.utils.sft INFO    : Loading 1 SFTs from H1...\n"
     ]
    },
    {
     "name": "stderr",
     "output_type": "stream",
     "text": [
      " 12%|█▏        | 857/7200 [00:34<04:17, 24.61it/s]"
     ]
    },
    {
     "name": "stdout",
     "output_type": "stream",
     "text": [
      "25-08-19 23:42:09.525 pyfstat.utils.sft INFO    : Loading 1 SFTs from H1...\n",
      "25-08-19 23:42:09.569 pyfstat.utils.sft INFO    : Loading 1 SFTs from H1...\n",
      "25-08-19 23:42:09.609 pyfstat.utils.sft INFO    : Loading 1 SFTs from H1...\n"
     ]
    },
    {
     "name": "stderr",
     "output_type": "stream",
     "text": [
      " 12%|█▏        | 860/7200 [00:34<04:22, 24.14it/s]"
     ]
    },
    {
     "name": "stdout",
     "output_type": "stream",
     "text": [
      "25-08-19 23:42:09.653 pyfstat.utils.sft INFO    : Loading 1 SFTs from H1...\n",
      "25-08-19 23:42:09.693 pyfstat.utils.sft INFO    : Loading 1 SFTs from H1...\n",
      "25-08-19 23:42:09.738 pyfstat.utils.sft INFO    : Loading 1 SFTs from H1...\n"
     ]
    },
    {
     "name": "stderr",
     "output_type": "stream",
     "text": [
      " 12%|█▏        | 863/7200 [00:34<04:20, 24.36it/s]"
     ]
    },
    {
     "name": "stdout",
     "output_type": "stream",
     "text": [
      "25-08-19 23:42:09.775 pyfstat.utils.sft INFO    : Loading 1 SFTs from H1...\n",
      "25-08-19 23:42:09.819 pyfstat.utils.sft INFO    : Loading 1 SFTs from H1...\n",
      "25-08-19 23:42:09.865 pyfstat.utils.sft INFO    : Loading 1 SFTs from H1...\n"
     ]
    },
    {
     "name": "stderr",
     "output_type": "stream",
     "text": [
      " 12%|█▏        | 866/7200 [00:34<04:25, 23.88it/s]"
     ]
    },
    {
     "name": "stdout",
     "output_type": "stream",
     "text": [
      "25-08-19 23:42:09.905 pyfstat.utils.sft INFO    : Loading 1 SFTs from H1...\n",
      "25-08-19 23:42:09.946 pyfstat.utils.sft INFO    : Loading 1 SFTs from H1...\n",
      "25-08-19 23:42:09.989 pyfstat.utils.sft INFO    : Loading 1 SFTs from H1...\n"
     ]
    },
    {
     "name": "stderr",
     "output_type": "stream",
     "text": [
      " 12%|█▏        | 869/7200 [00:34<04:27, 23.69it/s]"
     ]
    },
    {
     "name": "stdout",
     "output_type": "stream",
     "text": [
      "25-08-19 23:42:10.036 pyfstat.utils.sft INFO    : Loading 1 SFTs from H1...\n",
      "25-08-19 23:42:10.080 pyfstat.utils.sft INFO    : Loading 1 SFTs from H1...\n",
      "25-08-19 23:42:10.124 pyfstat.utils.sft INFO    : Loading 1 SFTs from H1...\n"
     ]
    },
    {
     "name": "stderr",
     "output_type": "stream",
     "text": [
      " 12%|█▏        | 872/7200 [00:35<04:31, 23.31it/s]"
     ]
    },
    {
     "name": "stdout",
     "output_type": "stream",
     "text": [
      "25-08-19 23:42:10.169 pyfstat.utils.sft INFO    : Loading 1 SFTs from H1...\n",
      "25-08-19 23:42:10.211 pyfstat.utils.sft INFO    : Loading 1 SFTs from H1...\n",
      "25-08-19 23:42:10.251 pyfstat.utils.sft INFO    : Loading 1 SFTs from H1...\n"
     ]
    },
    {
     "name": "stderr",
     "output_type": "stream",
     "text": [
      " 12%|█▏        | 875/7200 [00:35<04:30, 23.42it/s]"
     ]
    },
    {
     "name": "stdout",
     "output_type": "stream",
     "text": [
      "25-08-19 23:42:10.296 pyfstat.utils.sft INFO    : Loading 1 SFTs from H1...\n",
      "25-08-19 23:42:10.337 pyfstat.utils.sft INFO    : Loading 1 SFTs from H1...\n",
      "25-08-19 23:42:10.379 pyfstat.utils.sft INFO    : Loading 1 SFTs from H1...\n"
     ]
    },
    {
     "name": "stderr",
     "output_type": "stream",
     "text": [
      " 12%|█▏        | 878/7200 [00:35<04:28, 23.54it/s]"
     ]
    },
    {
     "name": "stdout",
     "output_type": "stream",
     "text": [
      "25-08-19 23:42:10.421 pyfstat.utils.sft INFO    : Loading 1 SFTs from H1...\n",
      "25-08-19 23:42:10.461 pyfstat.utils.sft INFO    : Loading 1 SFTs from H1...\n",
      "25-08-19 23:42:10.507 pyfstat.utils.sft INFO    : Loading 1 SFTs from H1...\n"
     ]
    },
    {
     "name": "stderr",
     "output_type": "stream",
     "text": [
      " 12%|█▏        | 881/7200 [00:35<04:29, 23.47it/s]"
     ]
    },
    {
     "name": "stdout",
     "output_type": "stream",
     "text": [
      "25-08-19 23:42:10.549 pyfstat.utils.sft INFO    : Loading 1 SFTs from H1...\n",
      "25-08-19 23:42:10.591 pyfstat.utils.sft INFO    : Loading 1 SFTs from H1...\n",
      "25-08-19 23:42:10.631 pyfstat.utils.sft INFO    : Loading 1 SFTs from H1...\n"
     ]
    },
    {
     "name": "stderr",
     "output_type": "stream",
     "text": [
      " 12%|█▏        | 884/7200 [00:35<04:20, 24.25it/s]"
     ]
    },
    {
     "name": "stdout",
     "output_type": "stream",
     "text": [
      "25-08-19 23:42:10.665 pyfstat.utils.sft INFO    : Loading 1 SFTs from H1...\n",
      "25-08-19 23:42:10.709 pyfstat.utils.sft INFO    : Loading 1 SFTs from H1...\n",
      "25-08-19 23:42:10.751 pyfstat.utils.sft INFO    : Loading 1 SFTs from H1...\n"
     ]
    },
    {
     "name": "stderr",
     "output_type": "stream",
     "text": [
      " 12%|█▏        | 887/7200 [00:35<04:25, 23.79it/s]"
     ]
    },
    {
     "name": "stdout",
     "output_type": "stream",
     "text": [
      "25-08-19 23:42:10.796 pyfstat.utils.sft INFO    : Loading 1 SFTs from H1...\n",
      "25-08-19 23:42:10.839 pyfstat.utils.sft INFO    : Loading 1 SFTs from H1...\n",
      "25-08-19 23:42:10.881 pyfstat.utils.sft INFO    : Loading 1 SFTs from H1...\n"
     ]
    },
    {
     "name": "stderr",
     "output_type": "stream",
     "text": [
      " 12%|█▏        | 890/7200 [00:35<04:26, 23.70it/s]"
     ]
    },
    {
     "name": "stdout",
     "output_type": "stream",
     "text": [
      "25-08-19 23:42:10.923 pyfstat.utils.sft INFO    : Loading 1 SFTs from H1...\n",
      "25-08-19 23:42:10.964 pyfstat.utils.sft INFO    : Loading 1 SFTs from H1...\n",
      "25-08-19 23:42:11.009 pyfstat.utils.sft INFO    : Loading 1 SFTs from H1...\n"
     ]
    },
    {
     "name": "stderr",
     "output_type": "stream",
     "text": [
      " 12%|█▏        | 893/7200 [00:36<04:28, 23.45it/s]"
     ]
    },
    {
     "name": "stdout",
     "output_type": "stream",
     "text": [
      "25-08-19 23:42:11.054 pyfstat.utils.sft INFO    : Loading 1 SFTs from H1...\n",
      "25-08-19 23:42:11.095 pyfstat.utils.sft INFO    : Loading 1 SFTs from H1...\n",
      "25-08-19 23:42:11.136 pyfstat.utils.sft INFO    : Loading 1 SFTs from H1...\n"
     ]
    },
    {
     "name": "stderr",
     "output_type": "stream",
     "text": [
      " 12%|█▏        | 896/7200 [00:36<04:26, 23.66it/s]"
     ]
    },
    {
     "name": "stdout",
     "output_type": "stream",
     "text": [
      "25-08-19 23:42:11.178 pyfstat.utils.sft INFO    : Loading 1 SFTs from H1...\n",
      "25-08-19 23:42:11.217 pyfstat.utils.sft INFO    : Loading 1 SFTs from H1...\n",
      "25-08-19 23:42:11.261 pyfstat.utils.sft INFO    : Loading 1 SFTs from H1...\n"
     ]
    },
    {
     "name": "stderr",
     "output_type": "stream",
     "text": [
      " 12%|█▏        | 899/7200 [00:36<04:22, 23.98it/s]"
     ]
    },
    {
     "name": "stdout",
     "output_type": "stream",
     "text": [
      "25-08-19 23:42:11.300 pyfstat.utils.sft INFO    : Loading 1 SFTs from H1...\n",
      "25-08-19 23:42:11.345 pyfstat.utils.sft INFO    : Loading 1 SFTs from H1...\n",
      "25-08-19 23:42:11.387 pyfstat.utils.sft INFO    : Loading 1 SFTs from H1...\n"
     ]
    },
    {
     "name": "stderr",
     "output_type": "stream",
     "text": [
      " 13%|█▎        | 902/7200 [00:36<04:25, 23.69it/s]"
     ]
    },
    {
     "name": "stdout",
     "output_type": "stream",
     "text": [
      "25-08-19 23:42:11.429 pyfstat.utils.sft INFO    : Loading 1 SFTs from H1...\n",
      "25-08-19 23:42:11.469 pyfstat.utils.sft INFO    : Loading 1 SFTs from H1...\n",
      "25-08-19 23:42:11.509 pyfstat.utils.sft INFO    : Loading 1 SFTs from H1...\n"
     ]
    },
    {
     "name": "stderr",
     "output_type": "stream",
     "text": [
      " 13%|█▎        | 905/7200 [00:36<04:25, 23.74it/s]"
     ]
    },
    {
     "name": "stdout",
     "output_type": "stream",
     "text": [
      "25-08-19 23:42:11.556 pyfstat.utils.sft INFO    : Loading 1 SFTs from H1...\n",
      "25-08-19 23:42:11.594 pyfstat.utils.sft INFO    : Loading 1 SFTs from H1...\n",
      "25-08-19 23:42:11.635 pyfstat.utils.sft INFO    : Loading 1 SFTs from H1...\n"
     ]
    },
    {
     "name": "stderr",
     "output_type": "stream",
     "text": [
      " 13%|█▎        | 908/7200 [00:36<04:20, 24.13it/s]"
     ]
    },
    {
     "name": "stdout",
     "output_type": "stream",
     "text": [
      "25-08-19 23:42:11.675 pyfstat.utils.sft INFO    : Loading 1 SFTs from H1...\n",
      "25-08-19 23:42:11.715 pyfstat.utils.sft INFO    : Loading 1 SFTs from H1...\n",
      "25-08-19 23:42:11.754 pyfstat.utils.sft INFO    : Loading 1 SFTs from H1...\n"
     ]
    },
    {
     "name": "stderr",
     "output_type": "stream",
     "text": [
      " 13%|█▎        | 911/7200 [00:36<04:17, 24.42it/s]"
     ]
    },
    {
     "name": "stdout",
     "output_type": "stream",
     "text": [
      "25-08-19 23:42:11.795 pyfstat.utils.sft INFO    : Loading 1 SFTs from H1...\n",
      "25-08-19 23:42:11.834 pyfstat.utils.sft INFO    : Loading 1 SFTs from H1...\n",
      "25-08-19 23:42:11.873 pyfstat.utils.sft INFO    : Loading 1 SFTs from H1...\n"
     ]
    },
    {
     "name": "stderr",
     "output_type": "stream",
     "text": [
      " 13%|█▎        | 914/7200 [00:36<04:16, 24.55it/s]"
     ]
    },
    {
     "name": "stdout",
     "output_type": "stream",
     "text": [
      "25-08-19 23:42:11.914 pyfstat.utils.sft INFO    : Loading 1 SFTs from H1...\n",
      "25-08-19 23:42:11.953 pyfstat.utils.sft INFO    : Loading 1 SFTs from H1...\n",
      "25-08-19 23:42:11.993 pyfstat.utils.sft INFO    : Loading 1 SFTs from H1...\n"
     ]
    },
    {
     "name": "stderr",
     "output_type": "stream",
     "text": [
      " 13%|█▎        | 917/7200 [00:36<04:12, 24.84it/s]"
     ]
    },
    {
     "name": "stdout",
     "output_type": "stream",
     "text": [
      "25-08-19 23:42:12.032 pyfstat.utils.sft INFO    : Loading 1 SFTs from H1...\n",
      "25-08-19 23:42:12.073 pyfstat.utils.sft INFO    : Loading 1 SFTs from H1...\n",
      "25-08-19 23:42:12.115 pyfstat.utils.sft INFO    : Loading 1 SFTs from H1...\n"
     ]
    },
    {
     "name": "stderr",
     "output_type": "stream",
     "text": [
      " 13%|█▎        | 920/7200 [00:37<04:15, 24.62it/s]"
     ]
    },
    {
     "name": "stdout",
     "output_type": "stream",
     "text": [
      "25-08-19 23:42:12.157 pyfstat.utils.sft INFO    : Loading 1 SFTs from H1...\n",
      "25-08-19 23:42:12.197 pyfstat.utils.sft INFO    : Loading 1 SFTs from H1...\n",
      "25-08-19 23:42:12.238 pyfstat.utils.sft INFO    : Loading 1 SFTs from H1...\n"
     ]
    },
    {
     "name": "stderr",
     "output_type": "stream",
     "text": [
      " 13%|█▎        | 923/7200 [00:37<04:15, 24.59it/s]"
     ]
    },
    {
     "name": "stdout",
     "output_type": "stream",
     "text": [
      "25-08-19 23:42:12.279 pyfstat.utils.sft INFO    : Loading 1 SFTs from H1...\n",
      "25-08-19 23:42:12.321 pyfstat.utils.sft INFO    : Loading 1 SFTs from H1...\n",
      "25-08-19 23:42:12.361 pyfstat.utils.sft INFO    : Loading 1 SFTs from H1...\n"
     ]
    },
    {
     "name": "stderr",
     "output_type": "stream",
     "text": [
      " 13%|█▎        | 926/7200 [00:37<04:19, 24.18it/s]"
     ]
    },
    {
     "name": "stdout",
     "output_type": "stream",
     "text": [
      "25-08-19 23:42:12.408 pyfstat.utils.sft INFO    : Loading 1 SFTs from H1...\n",
      "25-08-19 23:42:12.448 pyfstat.utils.sft INFO    : Loading 1 SFTs from H1...\n",
      "25-08-19 23:42:12.489 pyfstat.utils.sft INFO    : Loading 1 SFTs from H1...\n"
     ]
    },
    {
     "name": "stderr",
     "output_type": "stream",
     "text": [
      " 13%|█▎        | 929/7200 [00:37<04:18, 24.23it/s]"
     ]
    },
    {
     "name": "stdout",
     "output_type": "stream",
     "text": [
      "25-08-19 23:42:12.531 pyfstat.utils.sft INFO    : Loading 1 SFTs from H1...\n",
      "25-08-19 23:42:12.571 pyfstat.utils.sft INFO    : Loading 1 SFTs from H1...\n",
      "25-08-19 23:42:12.604 pyfstat.utils.sft INFO    : Loading 1 SFTs from H1...\n"
     ]
    },
    {
     "name": "stderr",
     "output_type": "stream",
     "text": [
      " 13%|█▎        | 932/7200 [00:37<04:12, 24.84it/s]"
     ]
    },
    {
     "name": "stdout",
     "output_type": "stream",
     "text": [
      "25-08-19 23:42:12.644 pyfstat.utils.sft INFO    : Loading 1 SFTs from H1...\n",
      "25-08-19 23:42:12.692 pyfstat.utils.sft INFO    : Loading 1 SFTs from H1...\n",
      "25-08-19 23:42:12.733 pyfstat.utils.sft INFO    : Loading 1 SFTs from H1...\n"
     ]
    },
    {
     "name": "stderr",
     "output_type": "stream",
     "text": [
      " 13%|█▎        | 935/7200 [00:37<04:11, 24.92it/s]"
     ]
    },
    {
     "name": "stdout",
     "output_type": "stream",
     "text": [
      "25-08-19 23:42:12.766 pyfstat.utils.sft INFO    : Loading 1 SFTs from H1...\n",
      "25-08-19 23:42:12.807 pyfstat.utils.sft INFO    : Loading 1 SFTs from H1...\n",
      "25-08-19 23:42:12.851 pyfstat.utils.sft INFO    : Loading 1 SFTs from H1...\n"
     ]
    },
    {
     "name": "stderr",
     "output_type": "stream",
     "text": [
      " 13%|█▎        | 938/7200 [00:37<04:16, 24.40it/s]"
     ]
    },
    {
     "name": "stdout",
     "output_type": "stream",
     "text": [
      "25-08-19 23:42:12.893 pyfstat.utils.sft INFO    : Loading 1 SFTs from H1...\n",
      "25-08-19 23:42:12.934 pyfstat.utils.sft INFO    : Loading 1 SFTs from H1...\n",
      "25-08-19 23:42:12.977 pyfstat.utils.sft INFO    : Loading 1 SFTs from H1...\n"
     ]
    },
    {
     "name": "stderr",
     "output_type": "stream",
     "text": [
      " 13%|█▎        | 941/7200 [00:37<04:21, 23.89it/s]"
     ]
    },
    {
     "name": "stdout",
     "output_type": "stream",
     "text": [
      "25-08-19 23:42:13.025 pyfstat.utils.sft INFO    : Loading 1 SFTs from H1...\n",
      "25-08-19 23:42:13.058 pyfstat.utils.sft INFO    : Loading 1 SFTs from H1...\n",
      "25-08-19 23:42:13.103 pyfstat.utils.sft INFO    : Loading 1 SFTs from H1...\n"
     ]
    },
    {
     "name": "stderr",
     "output_type": "stream",
     "text": [
      " 13%|█▎        | 944/7200 [00:38<04:20, 24.00it/s]"
     ]
    },
    {
     "name": "stdout",
     "output_type": "stream",
     "text": [
      "25-08-19 23:42:13.150 pyfstat.utils.sft INFO    : Loading 1 SFTs from H1...\n",
      "25-08-19 23:42:13.192 pyfstat.utils.sft INFO    : Loading 1 SFTs from H1...\n",
      "25-08-19 23:42:13.232 pyfstat.utils.sft INFO    : Loading 1 SFTs from H1...\n"
     ]
    },
    {
     "name": "stderr",
     "output_type": "stream",
     "text": [
      " 13%|█▎        | 947/7200 [00:38<04:15, 24.45it/s]"
     ]
    },
    {
     "name": "stdout",
     "output_type": "stream",
     "text": [
      "25-08-19 23:42:13.266 pyfstat.utils.sft INFO    : Loading 1 SFTs from H1...\n",
      "25-08-19 23:42:13.306 pyfstat.utils.sft INFO    : Loading 1 SFTs from H1...\n",
      "25-08-19 23:42:13.347 pyfstat.utils.sft INFO    : Loading 1 SFTs from H1...\n"
     ]
    },
    {
     "name": "stderr",
     "output_type": "stream",
     "text": [
      " 13%|█▎        | 950/7200 [00:38<04:15, 24.43it/s]"
     ]
    },
    {
     "name": "stdout",
     "output_type": "stream",
     "text": [
      "25-08-19 23:42:13.390 pyfstat.utils.sft INFO    : Loading 1 SFTs from H1...\n",
      "25-08-19 23:42:13.433 pyfstat.utils.sft INFO    : Loading 1 SFTs from H1...\n",
      "25-08-19 23:42:13.477 pyfstat.utils.sft INFO    : Loading 1 SFTs from H1...\n"
     ]
    },
    {
     "name": "stderr",
     "output_type": "stream",
     "text": [
      " 13%|█▎        | 953/7200 [00:38<04:21, 23.87it/s]"
     ]
    },
    {
     "name": "stdout",
     "output_type": "stream",
     "text": [
      "25-08-19 23:42:13.522 pyfstat.utils.sft INFO    : Loading 1 SFTs from H1...\n",
      "25-08-19 23:42:13.566 pyfstat.utils.sft INFO    : Loading 1 SFTs from H1...\n",
      "25-08-19 23:42:13.606 pyfstat.utils.sft INFO    : Loading 1 SFTs from H1...\n"
     ]
    },
    {
     "name": "stderr",
     "output_type": "stream",
     "text": [
      " 13%|█▎        | 956/7200 [00:38<04:20, 23.93it/s]"
     ]
    },
    {
     "name": "stdout",
     "output_type": "stream",
     "text": [
      "25-08-19 23:42:13.646 pyfstat.utils.sft INFO    : Loading 1 SFTs from H1...\n",
      "25-08-19 23:42:13.688 pyfstat.utils.sft INFO    : Loading 1 SFTs from H1...\n",
      "25-08-19 23:42:13.730 pyfstat.utils.sft INFO    : Loading 1 SFTs from H1...\n"
     ]
    },
    {
     "name": "stderr",
     "output_type": "stream",
     "text": [
      " 13%|█▎        | 959/7200 [00:38<04:21, 23.82it/s]"
     ]
    },
    {
     "name": "stdout",
     "output_type": "stream",
     "text": [
      "25-08-19 23:42:13.773 pyfstat.utils.sft INFO    : Loading 1 SFTs from H1...\n",
      "25-08-19 23:42:13.813 pyfstat.utils.sft INFO    : Loading 1 SFTs from H1...\n",
      "25-08-19 23:42:13.858 pyfstat.utils.sft INFO    : Loading 1 SFTs from H1...\n"
     ]
    },
    {
     "name": "stderr",
     "output_type": "stream",
     "text": [
      " 13%|█▎        | 962/7200 [00:38<04:24, 23.61it/s]"
     ]
    },
    {
     "name": "stdout",
     "output_type": "stream",
     "text": [
      "25-08-19 23:42:13.903 pyfstat.utils.sft INFO    : Loading 1 SFTs from H1...\n",
      "25-08-19 23:42:13.942 pyfstat.utils.sft INFO    : Loading 1 SFTs from H1...\n",
      "25-08-19 23:42:13.981 pyfstat.utils.sft INFO    : Loading 1 SFTs from H1...\n"
     ]
    },
    {
     "name": "stderr",
     "output_type": "stream",
     "text": [
      " 13%|█▎        | 965/7200 [00:38<04:22, 23.77it/s]"
     ]
    },
    {
     "name": "stdout",
     "output_type": "stream",
     "text": [
      "25-08-19 23:42:14.027 pyfstat.utils.sft INFO    : Loading 1 SFTs from H1...\n",
      "25-08-19 23:42:14.069 pyfstat.utils.sft INFO    : Loading 1 SFTs from H1...\n",
      "25-08-19 23:42:14.110 pyfstat.utils.sft INFO    : Loading 1 SFTs from H1...\n"
     ]
    },
    {
     "name": "stderr",
     "output_type": "stream",
     "text": [
      " 13%|█▎        | 968/7200 [00:39<04:21, 23.86it/s]"
     ]
    },
    {
     "name": "stdout",
     "output_type": "stream",
     "text": [
      "25-08-19 23:42:14.152 pyfstat.utils.sft INFO    : Loading 1 SFTs from H1...\n",
      "25-08-19 23:42:14.193 pyfstat.utils.sft INFO    : Loading 1 SFTs from H1...\n",
      "25-08-19 23:42:14.234 pyfstat.utils.sft INFO    : Loading 1 SFTs from H1...\n"
     ]
    },
    {
     "name": "stderr",
     "output_type": "stream",
     "text": [
      " 13%|█▎        | 971/7200 [00:39<04:19, 23.97it/s]"
     ]
    },
    {
     "name": "stdout",
     "output_type": "stream",
     "text": [
      "25-08-19 23:42:14.276 pyfstat.utils.sft INFO    : Loading 1 SFTs from H1...\n",
      "25-08-19 23:42:14.314 pyfstat.utils.sft INFO    : Loading 1 SFTs from H1...\n",
      "25-08-19 23:42:14.352 pyfstat.utils.sft INFO    : Loading 1 SFTs from H1...\n"
     ]
    },
    {
     "name": "stderr",
     "output_type": "stream",
     "text": [
      " 14%|█▎        | 974/7200 [00:39<04:14, 24.46it/s]"
     ]
    },
    {
     "name": "stdout",
     "output_type": "stream",
     "text": [
      "25-08-19 23:42:14.393 pyfstat.utils.sft INFO    : Loading 1 SFTs from H1...\n",
      "25-08-19 23:42:14.434 pyfstat.utils.sft INFO    : Loading 1 SFTs from H1...\n",
      "25-08-19 23:42:14.473 pyfstat.utils.sft INFO    : Loading 1 SFTs from H1...\n"
     ]
    },
    {
     "name": "stderr",
     "output_type": "stream",
     "text": [
      " 14%|█▎        | 977/7200 [00:39<04:12, 24.62it/s]"
     ]
    },
    {
     "name": "stdout",
     "output_type": "stream",
     "text": [
      "25-08-19 23:42:14.512 pyfstat.utils.sft INFO    : Loading 1 SFTs from H1...\n",
      "25-08-19 23:42:14.550 pyfstat.utils.sft INFO    : Loading 1 SFTs from H1...\n",
      "25-08-19 23:42:14.588 pyfstat.utils.sft INFO    : Loading 1 SFTs from H1...\n"
     ]
    },
    {
     "name": "stderr",
     "output_type": "stream",
     "text": [
      " 14%|█▎        | 980/7200 [00:39<04:08, 25.00it/s]"
     ]
    },
    {
     "name": "stdout",
     "output_type": "stream",
     "text": [
      "25-08-19 23:42:14.628 pyfstat.utils.sft INFO    : Loading 1 SFTs from H1...\n",
      "25-08-19 23:42:14.668 pyfstat.utils.sft INFO    : Loading 1 SFTs from H1...\n",
      "25-08-19 23:42:14.708 pyfstat.utils.sft INFO    : Loading 1 SFTs from H1...\n"
     ]
    },
    {
     "name": "stderr",
     "output_type": "stream",
     "text": [
      " 14%|█▎        | 983/7200 [00:39<04:09, 24.88it/s]"
     ]
    },
    {
     "name": "stdout",
     "output_type": "stream",
     "text": [
      "25-08-19 23:42:14.750 pyfstat.utils.sft INFO    : Loading 1 SFTs from H1...\n",
      "25-08-19 23:42:14.788 pyfstat.utils.sft INFO    : Loading 1 SFTs from H1...\n",
      "25-08-19 23:42:14.828 pyfstat.utils.sft INFO    : Loading 1 SFTs from H1...\n"
     ]
    },
    {
     "name": "stderr",
     "output_type": "stream",
     "text": [
      " 14%|█▎        | 986/7200 [00:39<04:08, 24.97it/s]"
     ]
    },
    {
     "name": "stdout",
     "output_type": "stream",
     "text": [
      "25-08-19 23:42:14.870 pyfstat.utils.sft INFO    : Loading 1 SFTs from H1...\n",
      "25-08-19 23:42:14.907 pyfstat.utils.sft INFO    : Loading 1 SFTs from H1...\n",
      "25-08-19 23:42:14.941 pyfstat.utils.sft INFO    : Loading 1 SFTs from H1...\n"
     ]
    },
    {
     "name": "stderr",
     "output_type": "stream",
     "text": [
      " 14%|█▎        | 989/7200 [00:39<04:03, 25.51it/s]"
     ]
    },
    {
     "name": "stdout",
     "output_type": "stream",
     "text": [
      "25-08-19 23:42:14.981 pyfstat.utils.sft INFO    : Loading 1 SFTs from H1...\n",
      "25-08-19 23:42:15.021 pyfstat.utils.sft INFO    : Loading 1 SFTs from H1...\n",
      "25-08-19 23:42:15.062 pyfstat.utils.sft INFO    : Loading 1 SFTs from H1...\n"
     ]
    },
    {
     "name": "stderr",
     "output_type": "stream",
     "text": [
      " 14%|█▍        | 992/7200 [00:40<04:06, 25.23it/s]"
     ]
    },
    {
     "name": "stdout",
     "output_type": "stream",
     "text": [
      "25-08-19 23:42:15.103 pyfstat.utils.sft INFO    : Loading 1 SFTs from H1...\n",
      "25-08-19 23:42:15.142 pyfstat.utils.sft INFO    : Loading 1 SFTs from H1...\n",
      "25-08-19 23:42:15.182 pyfstat.utils.sft INFO    : Loading 1 SFTs from H1...\n"
     ]
    },
    {
     "name": "stderr",
     "output_type": "stream",
     "text": [
      " 14%|█▍        | 995/7200 [00:40<04:06, 25.18it/s]"
     ]
    },
    {
     "name": "stdout",
     "output_type": "stream",
     "text": [
      "25-08-19 23:42:15.222 pyfstat.utils.sft INFO    : Loading 1 SFTs from H1...\n",
      "25-08-19 23:42:15.262 pyfstat.utils.sft INFO    : Loading 1 SFTs from H1...\n",
      "25-08-19 23:42:15.302 pyfstat.utils.sft INFO    : Loading 1 SFTs from H1...\n"
     ]
    },
    {
     "name": "stderr",
     "output_type": "stream",
     "text": [
      " 14%|█▍        | 998/7200 [00:40<04:06, 25.12it/s]"
     ]
    },
    {
     "name": "stdout",
     "output_type": "stream",
     "text": [
      "25-08-19 23:42:15.342 pyfstat.utils.sft INFO    : Loading 1 SFTs from H1...\n",
      "25-08-19 23:42:15.384 pyfstat.utils.sft INFO    : Loading 1 SFTs from H1...\n",
      "25-08-19 23:42:15.427 pyfstat.utils.sft INFO    : Loading 1 SFTs from H1...\n"
     ]
    },
    {
     "name": "stderr",
     "output_type": "stream",
     "text": [
      " 14%|█▍        | 1001/7200 [00:40<04:10, 24.78it/s]"
     ]
    },
    {
     "name": "stdout",
     "output_type": "stream",
     "text": [
      "25-08-19 23:42:15.467 pyfstat.utils.sft INFO    : Loading 1 SFTs from H1...\n",
      "25-08-19 23:42:15.509 pyfstat.utils.sft INFO    : Loading 1 SFTs from H1...\n",
      "25-08-19 23:42:15.549 pyfstat.utils.sft INFO    : Loading 1 SFTs from H1...\n"
     ]
    },
    {
     "name": "stderr",
     "output_type": "stream",
     "text": [
      " 14%|█▍        | 1004/7200 [00:40<04:10, 24.71it/s]"
     ]
    },
    {
     "name": "stdout",
     "output_type": "stream",
     "text": [
      "25-08-19 23:42:15.590 pyfstat.utils.sft INFO    : Loading 1 SFTs from H1...\n",
      "25-08-19 23:42:15.631 pyfstat.utils.sft INFO    : Loading 1 SFTs from H1...\n",
      "25-08-19 23:42:15.673 pyfstat.utils.sft INFO    : Loading 1 SFTs from H1...\n"
     ]
    },
    {
     "name": "stderr",
     "output_type": "stream",
     "text": [
      " 14%|█▍        | 1007/7200 [00:40<04:04, 25.28it/s]"
     ]
    },
    {
     "name": "stdout",
     "output_type": "stream",
     "text": [
      "25-08-19 23:42:15.702 pyfstat.utils.sft INFO    : Loading 1 SFTs from H1...\n",
      "25-08-19 23:42:15.743 pyfstat.utils.sft INFO    : Loading 1 SFTs from H1...\n",
      "25-08-19 23:42:15.792 pyfstat.utils.sft INFO    : Loading 1 SFTs from H1...\n"
     ]
    },
    {
     "name": "stderr",
     "output_type": "stream",
     "text": [
      " 14%|█▍        | 1010/7200 [00:40<04:12, 24.47it/s]"
     ]
    },
    {
     "name": "stdout",
     "output_type": "stream",
     "text": [
      "25-08-19 23:42:15.833 pyfstat.utils.sft INFO    : Loading 1 SFTs from H1...\n",
      "25-08-19 23:42:15.872 pyfstat.utils.sft INFO    : Loading 1 SFTs from H1...\n",
      "25-08-19 23:42:15.910 pyfstat.utils.sft INFO    : Loading 1 SFTs from H1...\n"
     ]
    },
    {
     "name": "stderr",
     "output_type": "stream",
     "text": [
      " 14%|█▍        | 1013/7200 [00:40<04:09, 24.75it/s]"
     ]
    },
    {
     "name": "stdout",
     "output_type": "stream",
     "text": [
      "25-08-19 23:42:15.952 pyfstat.utils.sft INFO    : Loading 1 SFTs from H1...\n",
      "25-08-19 23:42:15.992 pyfstat.utils.sft INFO    : Loading 1 SFTs from H1...\n",
      "25-08-19 23:42:16.033 pyfstat.utils.sft INFO    : Loading 1 SFTs from H1...\n"
     ]
    },
    {
     "name": "stderr",
     "output_type": "stream",
     "text": [
      " 14%|█▍        | 1016/7200 [00:41<04:11, 24.60it/s]"
     ]
    },
    {
     "name": "stdout",
     "output_type": "stream",
     "text": [
      "25-08-19 23:42:16.077 pyfstat.utils.sft INFO    : Loading 1 SFTs from H1...\n",
      "25-08-19 23:42:16.123 pyfstat.utils.sft INFO    : Loading 1 SFTs from H1...\n",
      "25-08-19 23:42:16.161 pyfstat.utils.sft INFO    : Loading 1 SFTs from H1...\n"
     ]
    },
    {
     "name": "stderr",
     "output_type": "stream",
     "text": [
      " 14%|█▍        | 1019/7200 [00:41<04:08, 24.86it/s]"
     ]
    },
    {
     "name": "stdout",
     "output_type": "stream",
     "text": [
      "25-08-19 23:42:16.194 pyfstat.utils.sft INFO    : Loading 1 SFTs from H1...\n",
      "25-08-19 23:42:16.234 pyfstat.utils.sft INFO    : Loading 1 SFTs from H1...\n",
      "25-08-19 23:42:16.277 pyfstat.utils.sft INFO    : Loading 1 SFTs from H1...\n"
     ]
    },
    {
     "name": "stderr",
     "output_type": "stream",
     "text": [
      " 14%|█▍        | 1022/7200 [00:41<04:13, 24.38it/s]"
     ]
    },
    {
     "name": "stdout",
     "output_type": "stream",
     "text": [
      "25-08-19 23:42:16.322 pyfstat.utils.sft INFO    : Loading 1 SFTs from H1...\n",
      "25-08-19 23:42:16.363 pyfstat.utils.sft INFO    : Loading 1 SFTs from H1...\n",
      "25-08-19 23:42:16.404 pyfstat.utils.sft INFO    : Loading 1 SFTs from H1...\n"
     ]
    },
    {
     "name": "stderr",
     "output_type": "stream",
     "text": [
      " 14%|█▍        | 1025/7200 [00:41<04:13, 24.38it/s]"
     ]
    },
    {
     "name": "stdout",
     "output_type": "stream",
     "text": [
      "25-08-19 23:42:16.445 pyfstat.utils.sft INFO    : Loading 1 SFTs from H1...\n",
      "25-08-19 23:42:16.487 pyfstat.utils.sft INFO    : Loading 1 SFTs from H1...\n",
      "25-08-19 23:42:16.525 pyfstat.utils.sft INFO    : Loading 1 SFTs from H1...\n"
     ]
    },
    {
     "name": "stderr",
     "output_type": "stream",
     "text": [
      " 14%|█▍        | 1028/7200 [00:41<04:17, 23.97it/s]"
     ]
    },
    {
     "name": "stdout",
     "output_type": "stream",
     "text": [
      "25-08-19 23:42:16.575 pyfstat.utils.sft INFO    : Loading 1 SFTs from H1...\n",
      "25-08-19 23:42:16.616 pyfstat.utils.sft INFO    : Loading 1 SFTs from H1...\n",
      "25-08-19 23:42:16.657 pyfstat.utils.sft INFO    : Loading 1 SFTs from H1...\n"
     ]
    },
    {
     "name": "stderr",
     "output_type": "stream",
     "text": [
      " 14%|█▍        | 1031/7200 [00:41<04:16, 24.05it/s]"
     ]
    },
    {
     "name": "stdout",
     "output_type": "stream",
     "text": [
      "25-08-19 23:42:16.699 pyfstat.utils.sft INFO    : Loading 1 SFTs from H1...\n",
      "25-08-19 23:42:16.739 pyfstat.utils.sft INFO    : Loading 1 SFTs from H1...\n",
      "25-08-19 23:42:16.778 pyfstat.utils.sft INFO    : Loading 1 SFTs from H1...\n"
     ]
    },
    {
     "name": "stderr",
     "output_type": "stream",
     "text": [
      " 14%|█▍        | 1034/7200 [00:41<04:12, 24.38it/s]"
     ]
    },
    {
     "name": "stdout",
     "output_type": "stream",
     "text": [
      "25-08-19 23:42:16.820 pyfstat.utils.sft INFO    : Loading 1 SFTs from H1...\n",
      "25-08-19 23:42:16.861 pyfstat.utils.sft INFO    : Loading 1 SFTs from H1...\n",
      "25-08-19 23:42:16.899 pyfstat.utils.sft INFO    : Loading 1 SFTs from H1...\n"
     ]
    },
    {
     "name": "stderr",
     "output_type": "stream",
     "text": [
      " 14%|█▍        | 1037/7200 [00:41<04:15, 24.16it/s]"
     ]
    },
    {
     "name": "stdout",
     "output_type": "stream",
     "text": [
      "25-08-19 23:42:16.945 pyfstat.utils.sft INFO    : Loading 1 SFTs from H1...\n",
      "25-08-19 23:42:16.987 pyfstat.utils.sft INFO    : Loading 1 SFTs from H1...\n",
      "25-08-19 23:42:17.030 pyfstat.utils.sft INFO    : Loading 1 SFTs from H1...\n"
     ]
    },
    {
     "name": "stderr",
     "output_type": "stream",
     "text": [
      " 14%|█▍        | 1040/7200 [00:42<04:15, 24.12it/s]"
     ]
    },
    {
     "name": "stdout",
     "output_type": "stream",
     "text": [
      "25-08-19 23:42:17.069 pyfstat.utils.sft INFO    : Loading 1 SFTs from H1...\n",
      "25-08-19 23:42:17.114 pyfstat.utils.sft INFO    : Loading 1 SFTs from H1...\n",
      "25-08-19 23:42:17.154 pyfstat.utils.sft INFO    : Loading 1 SFTs from H1...\n"
     ]
    },
    {
     "name": "stderr",
     "output_type": "stream",
     "text": [
      " 14%|█▍        | 1043/7200 [00:42<04:17, 23.92it/s]"
     ]
    },
    {
     "name": "stdout",
     "output_type": "stream",
     "text": [
      "25-08-19 23:42:17.196 pyfstat.utils.sft INFO    : Loading 1 SFTs from H1...\n",
      "25-08-19 23:42:17.235 pyfstat.utils.sft INFO    : Loading 1 SFTs from H1...\n",
      "25-08-19 23:42:17.275 pyfstat.utils.sft INFO    : Loading 1 SFTs from H1...\n"
     ]
    },
    {
     "name": "stderr",
     "output_type": "stream",
     "text": [
      " 15%|█▍        | 1046/7200 [00:42<04:14, 24.20it/s]"
     ]
    },
    {
     "name": "stdout",
     "output_type": "stream",
     "text": [
      "25-08-19 23:42:17.319 pyfstat.utils.sft INFO    : Loading 1 SFTs from H1...\n",
      "25-08-19 23:42:17.358 pyfstat.utils.sft INFO    : Loading 1 SFTs from H1...\n",
      "25-08-19 23:42:17.398 pyfstat.utils.sft INFO    : Loading 1 SFTs from H1...\n"
     ]
    },
    {
     "name": "stderr",
     "output_type": "stream",
     "text": [
      " 15%|█▍        | 1049/7200 [00:42<04:11, 24.50it/s]"
     ]
    },
    {
     "name": "stdout",
     "output_type": "stream",
     "text": [
      "25-08-19 23:42:17.436 pyfstat.utils.sft INFO    : Loading 1 SFTs from H1...\n",
      "25-08-19 23:42:17.476 pyfstat.utils.sft INFO    : Loading 1 SFTs from H1...\n",
      "25-08-19 23:42:17.509 pyfstat.utils.sft INFO    : Loading 1 SFTs from H1...\n"
     ]
    },
    {
     "name": "stderr",
     "output_type": "stream",
     "text": [
      " 15%|█▍        | 1052/7200 [00:42<04:04, 25.18it/s]"
     ]
    },
    {
     "name": "stdout",
     "output_type": "stream",
     "text": [
      "25-08-19 23:42:17.548 pyfstat.utils.sft INFO    : Loading 1 SFTs from H1...\n",
      "25-08-19 23:42:17.588 pyfstat.utils.sft INFO    : Loading 1 SFTs from H1...\n",
      "25-08-19 23:42:17.627 pyfstat.utils.sft INFO    : Loading 1 SFTs from H1...\n"
     ]
    },
    {
     "name": "stderr",
     "output_type": "stream",
     "text": [
      " 15%|█▍        | 1055/7200 [00:42<04:03, 25.25it/s]"
     ]
    },
    {
     "name": "stdout",
     "output_type": "stream",
     "text": [
      "25-08-19 23:42:17.666 pyfstat.utils.sft INFO    : Loading 1 SFTs from H1...\n",
      "25-08-19 23:42:17.706 pyfstat.utils.sft INFO    : Loading 1 SFTs from H1...\n",
      "25-08-19 23:42:17.734 pyfstat.utils.sft INFO    : Loading 1 SFTs from H1...\n"
     ]
    },
    {
     "name": "stderr",
     "output_type": "stream",
     "text": [
      " 15%|█▍        | 1058/7200 [00:42<03:56, 25.98it/s]"
     ]
    },
    {
     "name": "stdout",
     "output_type": "stream",
     "text": [
      "25-08-19 23:42:17.773 pyfstat.utils.sft INFO    : Loading 1 SFTs from H1...\n",
      "25-08-19 23:42:17.814 pyfstat.utils.sft INFO    : Loading 1 SFTs from H1...\n",
      "25-08-19 23:42:17.853 pyfstat.utils.sft INFO    : Loading 1 SFTs from H1...\n"
     ]
    },
    {
     "name": "stderr",
     "output_type": "stream",
     "text": [
      " 15%|█▍        | 1061/7200 [00:42<03:58, 25.75it/s]"
     ]
    },
    {
     "name": "stdout",
     "output_type": "stream",
     "text": [
      "25-08-19 23:42:17.892 pyfstat.utils.sft INFO    : Loading 1 SFTs from H1...\n",
      "25-08-19 23:42:17.933 pyfstat.utils.sft INFO    : Loading 1 SFTs from H1...\n",
      "25-08-19 23:42:17.973 pyfstat.utils.sft INFO    : Loading 1 SFTs from H1...\n"
     ]
    },
    {
     "name": "stderr",
     "output_type": "stream",
     "text": [
      " 15%|█▍        | 1064/7200 [00:42<04:03, 25.24it/s]"
     ]
    },
    {
     "name": "stdout",
     "output_type": "stream",
     "text": [
      "25-08-19 23:42:18.017 pyfstat.utils.sft INFO    : Loading 1 SFTs from H1...\n",
      "25-08-19 23:42:18.050 pyfstat.utils.sft INFO    : Loading 1 SFTs from H1...\n",
      "25-08-19 23:42:18.092 pyfstat.utils.sft INFO    : Loading 1 SFTs from H1...\n"
     ]
    },
    {
     "name": "stderr",
     "output_type": "stream",
     "text": [
      " 15%|█▍        | 1067/7200 [00:43<04:01, 25.39it/s]"
     ]
    },
    {
     "name": "stdout",
     "output_type": "stream",
     "text": [
      "25-08-19 23:42:18.133 pyfstat.utils.sft INFO    : Loading 1 SFTs from H1...\n",
      "25-08-19 23:42:18.173 pyfstat.utils.sft INFO    : Loading 1 SFTs from H1...\n",
      "25-08-19 23:42:18.214 pyfstat.utils.sft INFO    : Loading 1 SFTs from H1...\n"
     ]
    },
    {
     "name": "stderr",
     "output_type": "stream",
     "text": [
      " 15%|█▍        | 1070/7200 [00:43<04:03, 25.13it/s]"
     ]
    },
    {
     "name": "stdout",
     "output_type": "stream",
     "text": [
      "25-08-19 23:42:18.256 pyfstat.utils.sft INFO    : Loading 1 SFTs from H1...\n",
      "25-08-19 23:42:18.286 pyfstat.utils.sft INFO    : Loading 1 SFTs from H1...\n",
      "25-08-19 23:42:18.327 pyfstat.utils.sft INFO    : Loading 1 SFTs from H1...\n"
     ]
    },
    {
     "name": "stderr",
     "output_type": "stream",
     "text": [
      " 15%|█▍        | 1073/7200 [00:43<03:59, 25.58it/s]"
     ]
    },
    {
     "name": "stdout",
     "output_type": "stream",
     "text": [
      "25-08-19 23:42:18.368 pyfstat.utils.sft INFO    : Loading 1 SFTs from H1...\n",
      "25-08-19 23:42:18.409 pyfstat.utils.sft INFO    : Loading 1 SFTs from H1...\n",
      "25-08-19 23:42:18.447 pyfstat.utils.sft INFO    : Loading 1 SFTs from H1...\n"
     ]
    },
    {
     "name": "stderr",
     "output_type": "stream",
     "text": [
      " 15%|█▍        | 1076/7200 [00:43<03:53, 26.18it/s]"
     ]
    },
    {
     "name": "stdout",
     "output_type": "stream",
     "text": [
      "25-08-19 23:42:18.476 pyfstat.utils.sft INFO    : Loading 1 SFTs from H1...\n",
      "25-08-19 23:42:18.514 pyfstat.utils.sft INFO    : Loading 1 SFTs from H1...\n",
      "25-08-19 23:42:18.557 pyfstat.utils.sft INFO    : Loading 1 SFTs from H1...\n"
     ]
    },
    {
     "name": "stderr",
     "output_type": "stream",
     "text": [
      " 15%|█▍        | 1079/7200 [00:43<04:02, 25.22it/s]"
     ]
    },
    {
     "name": "stdout",
     "output_type": "stream",
     "text": [
      "25-08-19 23:42:18.606 pyfstat.utils.sft INFO    : Loading 1 SFTs from H1...\n",
      "25-08-19 23:42:18.646 pyfstat.utils.sft INFO    : Loading 1 SFTs from H1...\n",
      "25-08-19 23:42:18.685 pyfstat.utils.sft INFO    : Loading 1 SFTs from H1...\n"
     ]
    },
    {
     "name": "stderr",
     "output_type": "stream",
     "text": [
      " 15%|█▌        | 1082/7200 [00:43<04:03, 25.12it/s]"
     ]
    },
    {
     "name": "stdout",
     "output_type": "stream",
     "text": [
      "25-08-19 23:42:18.727 pyfstat.utils.sft INFO    : Loading 1 SFTs from H1...\n",
      "25-08-19 23:42:18.769 pyfstat.utils.sft INFO    : Loading 1 SFTs from H1...\n",
      "25-08-19 23:42:18.812 pyfstat.utils.sft INFO    : Loading 1 SFTs from H1...\n"
     ]
    },
    {
     "name": "stderr",
     "output_type": "stream",
     "text": [
      " 15%|█▌        | 1085/7200 [00:43<04:07, 24.69it/s]"
     ]
    },
    {
     "name": "stdout",
     "output_type": "stream",
     "text": [
      "25-08-19 23:42:18.853 pyfstat.utils.sft INFO    : Loading 1 SFTs from H1...\n",
      "25-08-19 23:42:18.889 pyfstat.utils.sft INFO    : Loading 1 SFTs from H1...\n",
      "25-08-19 23:42:18.927 pyfstat.utils.sft INFO    : Loading 1 SFTs from H1...\n"
     ]
    },
    {
     "name": "stderr",
     "output_type": "stream",
     "text": [
      " 15%|█▌        | 1088/7200 [00:43<04:03, 25.10it/s]"
     ]
    },
    {
     "name": "stdout",
     "output_type": "stream",
     "text": [
      "25-08-19 23:42:18.968 pyfstat.utils.sft INFO    : Loading 1 SFTs from H1...\n",
      "25-08-19 23:42:19.008 pyfstat.utils.sft INFO    : Loading 1 SFTs from H1...\n",
      "25-08-19 23:42:19.052 pyfstat.utils.sft INFO    : Loading 1 SFTs from H1...\n"
     ]
    },
    {
     "name": "stderr",
     "output_type": "stream",
     "text": [
      " 15%|█▌        | 1091/7200 [00:44<04:08, 24.54it/s]"
     ]
    },
    {
     "name": "stdout",
     "output_type": "stream",
     "text": [
      "25-08-19 23:42:19.096 pyfstat.utils.sft INFO    : Loading 1 SFTs from H1...\n",
      "25-08-19 23:42:19.136 pyfstat.utils.sft INFO    : Loading 1 SFTs from H1...\n",
      "25-08-19 23:42:19.177 pyfstat.utils.sft INFO    : Loading 1 SFTs from H1...\n"
     ]
    },
    {
     "name": "stderr",
     "output_type": "stream",
     "text": [
      " 15%|█▌        | 1094/7200 [00:44<04:09, 24.45it/s]"
     ]
    },
    {
     "name": "stdout",
     "output_type": "stream",
     "text": [
      "25-08-19 23:42:19.220 pyfstat.utils.sft INFO    : Loading 1 SFTs from H1...\n",
      "25-08-19 23:42:19.263 pyfstat.utils.sft INFO    : Loading 1 SFTs from H1...\n",
      "25-08-19 23:42:19.311 pyfstat.utils.sft INFO    : Loading 1 SFTs from H1...\n"
     ]
    },
    {
     "name": "stderr",
     "output_type": "stream",
     "text": [
      " 15%|█▌        | 1097/7200 [00:44<04:16, 23.80it/s]"
     ]
    },
    {
     "name": "stdout",
     "output_type": "stream",
     "text": [
      "25-08-19 23:42:19.354 pyfstat.utils.sft INFO    : Loading 1 SFTs from H1...\n",
      "25-08-19 23:42:19.397 pyfstat.utils.sft INFO    : Loading 1 SFTs from H1...\n",
      "25-08-19 23:42:19.436 pyfstat.utils.sft INFO    : Loading 1 SFTs from H1...\n"
     ]
    },
    {
     "name": "stderr",
     "output_type": "stream",
     "text": [
      " 15%|█▌        | 1100/7200 [00:44<04:14, 23.93it/s]"
     ]
    },
    {
     "name": "stdout",
     "output_type": "stream",
     "text": [
      "25-08-19 23:42:19.477 pyfstat.utils.sft INFO    : Loading 1 SFTs from H1...\n",
      "25-08-19 23:42:19.522 pyfstat.utils.sft INFO    : Loading 1 SFTs from H1...\n",
      "25-08-19 23:42:19.562 pyfstat.utils.sft INFO    : Loading 1 SFTs from H1...\n"
     ]
    },
    {
     "name": "stderr",
     "output_type": "stream",
     "text": [
      " 15%|█▌        | 1103/7200 [00:44<04:14, 23.97it/s]"
     ]
    },
    {
     "name": "stdout",
     "output_type": "stream",
     "text": [
      "25-08-19 23:42:19.601 pyfstat.utils.sft INFO    : Loading 1 SFTs from H1...\n",
      "25-08-19 23:42:19.639 pyfstat.utils.sft INFO    : Loading 1 SFTs from H1...\n",
      "25-08-19 23:42:19.679 pyfstat.utils.sft INFO    : Loading 1 SFTs from H1...\n"
     ]
    },
    {
     "name": "stderr",
     "output_type": "stream",
     "text": [
      " 15%|█▌        | 1106/7200 [00:44<04:09, 24.41it/s]"
     ]
    },
    {
     "name": "stdout",
     "output_type": "stream",
     "text": [
      "25-08-19 23:42:19.719 pyfstat.utils.sft INFO    : Loading 1 SFTs from H1...\n",
      "25-08-19 23:42:19.758 pyfstat.utils.sft INFO    : Loading 1 SFTs from H1...\n",
      "25-08-19 23:42:19.793 pyfstat.utils.sft INFO    : Loading 1 SFTs from H1...\n"
     ]
    },
    {
     "name": "stderr",
     "output_type": "stream",
     "text": [
      " 15%|█▌        | 1109/7200 [00:44<04:03, 24.97it/s]"
     ]
    },
    {
     "name": "stdout",
     "output_type": "stream",
     "text": [
      "25-08-19 23:42:19.833 pyfstat.utils.sft INFO    : Loading 1 SFTs from H1...\n",
      "25-08-19 23:42:19.873 pyfstat.utils.sft INFO    : Loading 1 SFTs from H1...\n",
      "25-08-19 23:42:19.911 pyfstat.utils.sft INFO    : Loading 1 SFTs from H1...\n"
     ]
    },
    {
     "name": "stderr",
     "output_type": "stream",
     "text": [
      " 15%|█▌        | 1112/7200 [00:44<04:02, 25.13it/s]"
     ]
    },
    {
     "name": "stdout",
     "output_type": "stream",
     "text": [
      "25-08-19 23:42:19.951 pyfstat.utils.sft INFO    : Loading 1 SFTs from H1...\n",
      "25-08-19 23:42:19.987 pyfstat.utils.sft INFO    : Loading 1 SFTs from H1...\n",
      "25-08-19 23:42:20.027 pyfstat.utils.sft INFO    : Loading 1 SFTs from H1...\n"
     ]
    },
    {
     "name": "stderr",
     "output_type": "stream",
     "text": [
      " 15%|█▌        | 1115/7200 [00:45<04:00, 25.34it/s]"
     ]
    },
    {
     "name": "stdout",
     "output_type": "stream",
     "text": [
      "25-08-19 23:42:20.067 pyfstat.utils.sft INFO    : Loading 1 SFTs from H1...\n",
      "25-08-19 23:42:20.106 pyfstat.utils.sft INFO    : Loading 1 SFTs from H1...\n",
      "25-08-19 23:42:20.145 pyfstat.utils.sft INFO    : Loading 1 SFTs from H1...\n"
     ]
    },
    {
     "name": "stderr",
     "output_type": "stream",
     "text": [
      " 16%|█▌        | 1118/7200 [00:45<03:59, 25.40it/s]"
     ]
    },
    {
     "name": "stdout",
     "output_type": "stream",
     "text": [
      "25-08-19 23:42:20.184 pyfstat.utils.sft INFO    : Loading 1 SFTs from H1...\n",
      "25-08-19 23:42:20.222 pyfstat.utils.sft INFO    : Loading 1 SFTs from H1...\n",
      "25-08-19 23:42:20.260 pyfstat.utils.sft INFO    : Loading 1 SFTs from H1...\n"
     ]
    },
    {
     "name": "stderr",
     "output_type": "stream",
     "text": [
      " 16%|█▌        | 1121/7200 [00:45<03:58, 25.51it/s]"
     ]
    },
    {
     "name": "stdout",
     "output_type": "stream",
     "text": [
      "25-08-19 23:42:20.301 pyfstat.utils.sft INFO    : Loading 1 SFTs from H1...\n",
      "25-08-19 23:42:20.339 pyfstat.utils.sft INFO    : Loading 1 SFTs from H1...\n",
      "25-08-19 23:42:20.377 pyfstat.utils.sft INFO    : Loading 1 SFTs from H1...\n"
     ]
    },
    {
     "name": "stderr",
     "output_type": "stream",
     "text": [
      " 16%|█▌        | 1124/7200 [00:45<03:56, 25.71it/s]"
     ]
    },
    {
     "name": "stdout",
     "output_type": "stream",
     "text": [
      "25-08-19 23:42:20.415 pyfstat.utils.sft INFO    : Loading 1 SFTs from H1...\n",
      "25-08-19 23:42:20.455 pyfstat.utils.sft INFO    : Loading 1 SFTs from H1...\n",
      "25-08-19 23:42:20.494 pyfstat.utils.sft INFO    : Loading 1 SFTs from H1...\n"
     ]
    },
    {
     "name": "stderr",
     "output_type": "stream",
     "text": [
      " 16%|█▌        | 1127/7200 [00:45<03:58, 25.45it/s]"
     ]
    },
    {
     "name": "stdout",
     "output_type": "stream",
     "text": [
      "25-08-19 23:42:20.536 pyfstat.utils.sft INFO    : Loading 1 SFTs from H1...\n",
      "25-08-19 23:42:20.574 pyfstat.utils.sft INFO    : Loading 1 SFTs from H1...\n",
      "25-08-19 23:42:20.612 pyfstat.utils.sft INFO    : Loading 1 SFTs from H1...\n"
     ]
    },
    {
     "name": "stderr",
     "output_type": "stream",
     "text": [
      " 16%|█▌        | 1130/7200 [00:45<03:57, 25.61it/s]"
     ]
    },
    {
     "name": "stdout",
     "output_type": "stream",
     "text": [
      "25-08-19 23:42:20.651 pyfstat.utils.sft INFO    : Loading 1 SFTs from H1...\n",
      "25-08-19 23:42:20.691 pyfstat.utils.sft INFO    : Loading 1 SFTs from H1...\n",
      "25-08-19 23:42:20.728 pyfstat.utils.sft INFO    : Loading 1 SFTs from H1...\n"
     ]
    },
    {
     "name": "stderr",
     "output_type": "stream",
     "text": [
      " 16%|█▌        | 1133/7200 [00:45<03:57, 25.58it/s]"
     ]
    },
    {
     "name": "stdout",
     "output_type": "stream",
     "text": [
      "25-08-19 23:42:20.769 pyfstat.utils.sft INFO    : Loading 1 SFTs from H1...\n",
      "25-08-19 23:42:20.810 pyfstat.utils.sft INFO    : Loading 1 SFTs from H1...\n",
      "25-08-19 23:42:20.852 pyfstat.utils.sft INFO    : Loading 1 SFTs from H1...\n"
     ]
    },
    {
     "name": "stderr",
     "output_type": "stream",
     "text": [
      " 16%|█▌        | 1136/7200 [00:45<03:59, 25.30it/s]"
     ]
    },
    {
     "name": "stdout",
     "output_type": "stream",
     "text": [
      "25-08-19 23:42:20.891 pyfstat.utils.sft INFO    : Loading 1 SFTs from H1...\n",
      "25-08-19 23:42:20.931 pyfstat.utils.sft INFO    : Loading 1 SFTs from H1...\n",
      "25-08-19 23:42:20.976 pyfstat.utils.sft INFO    : Loading 1 SFTs from H1...\n"
     ]
    },
    {
     "name": "stderr",
     "output_type": "stream",
     "text": [
      " 16%|█▌        | 1139/7200 [00:45<04:04, 24.77it/s]"
     ]
    },
    {
     "name": "stdout",
     "output_type": "stream",
     "text": [
      "25-08-19 23:42:21.018 pyfstat.utils.sft INFO    : Loading 1 SFTs from H1...\n",
      "25-08-19 23:42:21.059 pyfstat.utils.sft INFO    : Loading 1 SFTs from H1...\n",
      "25-08-19 23:42:21.099 pyfstat.utils.sft INFO    : Loading 1 SFTs from H1...\n"
     ]
    },
    {
     "name": "stderr",
     "output_type": "stream",
     "text": [
      " 16%|█▌        | 1142/7200 [00:46<04:04, 24.78it/s]"
     ]
    },
    {
     "name": "stdout",
     "output_type": "stream",
     "text": [
      "25-08-19 23:42:21.139 pyfstat.utils.sft INFO    : Loading 1 SFTs from H1...\n",
      "25-08-19 23:42:21.180 pyfstat.utils.sft INFO    : Loading 1 SFTs from H1...\n",
      "25-08-19 23:42:21.218 pyfstat.utils.sft INFO    : Loading 1 SFTs from H1...\n"
     ]
    },
    {
     "name": "stderr",
     "output_type": "stream",
     "text": [
      " 16%|█▌        | 1145/7200 [00:46<04:04, 24.80it/s]"
     ]
    },
    {
     "name": "stdout",
     "output_type": "stream",
     "text": [
      "25-08-19 23:42:21.259 pyfstat.utils.sft INFO    : Loading 1 SFTs from H1...\n",
      "25-08-19 23:42:21.300 pyfstat.utils.sft INFO    : Loading 1 SFTs from H1...\n",
      "25-08-19 23:42:21.341 pyfstat.utils.sft INFO    : Loading 1 SFTs from H1...\n"
     ]
    },
    {
     "name": "stderr",
     "output_type": "stream",
     "text": [
      " 16%|█▌        | 1148/7200 [00:46<04:05, 24.66it/s]"
     ]
    },
    {
     "name": "stdout",
     "output_type": "stream",
     "text": [
      "25-08-19 23:42:21.383 pyfstat.utils.sft INFO    : Loading 1 SFTs from H1...\n",
      "25-08-19 23:42:21.420 pyfstat.utils.sft INFO    : Loading 1 SFTs from H1...\n",
      "25-08-19 23:42:21.460 pyfstat.utils.sft INFO    : Loading 1 SFTs from H1...\n"
     ]
    },
    {
     "name": "stderr",
     "output_type": "stream",
     "text": [
      " 16%|█▌        | 1151/7200 [00:46<04:07, 24.45it/s]"
     ]
    },
    {
     "name": "stdout",
     "output_type": "stream",
     "text": [
      "25-08-19 23:42:21.509 pyfstat.utils.sft INFO    : Loading 1 SFTs from H1...\n",
      "25-08-19 23:42:21.550 pyfstat.utils.sft INFO    : Loading 1 SFTs from H1...\n",
      "25-08-19 23:42:21.590 pyfstat.utils.sft INFO    : Loading 1 SFTs from H1...\n"
     ]
    },
    {
     "name": "stderr",
     "output_type": "stream",
     "text": [
      " 16%|█▌        | 1154/7200 [00:46<04:08, 24.28it/s]"
     ]
    },
    {
     "name": "stdout",
     "output_type": "stream",
     "text": [
      "25-08-19 23:42:21.633 pyfstat.utils.sft INFO    : Loading 1 SFTs from H1...\n",
      "25-08-19 23:42:21.675 pyfstat.utils.sft INFO    : Loading 1 SFTs from H1...\n",
      "25-08-19 23:42:21.717 pyfstat.utils.sft INFO    : Loading 1 SFTs from H1...\n"
     ]
    },
    {
     "name": "stderr",
     "output_type": "stream",
     "text": [
      " 16%|█▌        | 1157/7200 [00:46<04:09, 24.21it/s]"
     ]
    },
    {
     "name": "stdout",
     "output_type": "stream",
     "text": [
      "25-08-19 23:42:21.760 pyfstat.utils.sft INFO    : Loading 1 SFTs from H1...\n",
      "25-08-19 23:42:21.805 pyfstat.utils.sft INFO    : Loading 1 SFTs from H1...\n",
      "25-08-19 23:42:21.844 pyfstat.utils.sft INFO    : Loading 1 SFTs from H1...\n"
     ]
    },
    {
     "name": "stderr",
     "output_type": "stream",
     "text": [
      " 16%|█▌        | 1160/7200 [00:46<04:10, 24.09it/s]"
     ]
    },
    {
     "name": "stdout",
     "output_type": "stream",
     "text": [
      "25-08-19 23:42:21.884 pyfstat.utils.sft INFO    : Loading 1 SFTs from H1...\n",
      "25-08-19 23:42:21.926 pyfstat.utils.sft INFO    : Loading 1 SFTs from H1...\n",
      "25-08-19 23:42:21.970 pyfstat.utils.sft INFO    : Loading 1 SFTs from H1...\n"
     ]
    },
    {
     "name": "stderr",
     "output_type": "stream",
     "text": [
      " 16%|█▌        | 1163/7200 [00:46<04:11, 24.00it/s]"
     ]
    },
    {
     "name": "stdout",
     "output_type": "stream",
     "text": [
      "25-08-19 23:42:22.011 pyfstat.utils.sft INFO    : Loading 1 SFTs from H1...\n",
      "25-08-19 23:42:22.052 pyfstat.utils.sft INFO    : Loading 1 SFTs from H1...\n",
      "25-08-19 23:42:22.092 pyfstat.utils.sft INFO    : Loading 1 SFTs from H1...\n"
     ]
    },
    {
     "name": "stderr",
     "output_type": "stream",
     "text": [
      " 16%|█▌        | 1166/7200 [00:47<04:10, 24.13it/s]"
     ]
    },
    {
     "name": "stdout",
     "output_type": "stream",
     "text": [
      "25-08-19 23:42:22.133 pyfstat.utils.sft INFO    : Loading 1 SFTs from H1...\n",
      "25-08-19 23:42:22.174 pyfstat.utils.sft INFO    : Loading 1 SFTs from H1...\n",
      "25-08-19 23:42:22.213 pyfstat.utils.sft INFO    : Loading 1 SFTs from H1...\n"
     ]
    },
    {
     "name": "stderr",
     "output_type": "stream",
     "text": [
      " 16%|█▌        | 1169/7200 [00:47<04:07, 24.40it/s]"
     ]
    },
    {
     "name": "stdout",
     "output_type": "stream",
     "text": [
      "25-08-19 23:42:22.253 pyfstat.utils.sft INFO    : Loading 1 SFTs from H1...\n",
      "25-08-19 23:42:22.291 pyfstat.utils.sft INFO    : Loading 1 SFTs from H1...\n",
      "25-08-19 23:42:22.330 pyfstat.utils.sft INFO    : Loading 1 SFTs from H1...\n"
     ]
    },
    {
     "name": "stderr",
     "output_type": "stream",
     "text": [
      " 16%|█▋        | 1172/7200 [00:47<04:05, 24.59it/s]"
     ]
    },
    {
     "name": "stdout",
     "output_type": "stream",
     "text": [
      "25-08-19 23:42:22.369 pyfstat.utils.sft INFO    : Loading 1 SFTs from H1...\n",
      "25-08-19 23:42:22.397 pyfstat.utils.sft INFO    : Loading 1 SFTs from H1...\n",
      "25-08-19 23:42:22.438 pyfstat.utils.sft INFO    : Loading 1 SFTs from H1...\n"
     ]
    },
    {
     "name": "stderr",
     "output_type": "stream",
     "text": [
      " 16%|█▋        | 1175/7200 [00:47<03:55, 25.55it/s]"
     ]
    },
    {
     "name": "stdout",
     "output_type": "stream",
     "text": [
      "25-08-19 23:42:22.479 pyfstat.utils.sft INFO    : Loading 1 SFTs from H1...\n",
      "25-08-19 23:42:22.519 pyfstat.utils.sft INFO    : Loading 1 SFTs from H1...\n",
      "25-08-19 23:42:22.559 pyfstat.utils.sft INFO    : Loading 1 SFTs from H1...\n"
     ]
    },
    {
     "name": "stderr",
     "output_type": "stream",
     "text": [
      " 16%|█▋        | 1178/7200 [00:47<03:58, 25.28it/s]"
     ]
    },
    {
     "name": "stdout",
     "output_type": "stream",
     "text": [
      "25-08-19 23:42:22.601 pyfstat.utils.sft INFO    : Loading 1 SFTs from H1...\n",
      "25-08-19 23:42:22.641 pyfstat.utils.sft INFO    : Loading 1 SFTs from H1...\n",
      "25-08-19 23:42:22.680 pyfstat.utils.sft INFO    : Loading 1 SFTs from H1...\n"
     ]
    },
    {
     "name": "stderr",
     "output_type": "stream",
     "text": [
      " 16%|█▋        | 1181/7200 [00:47<04:00, 25.06it/s]"
     ]
    },
    {
     "name": "stdout",
     "output_type": "stream",
     "text": [
      "25-08-19 23:42:22.723 pyfstat.utils.sft INFO    : Loading 1 SFTs from H1...\n",
      "25-08-19 23:42:22.762 pyfstat.utils.sft INFO    : Loading 1 SFTs from H1...\n",
      "25-08-19 23:42:22.803 pyfstat.utils.sft INFO    : Loading 1 SFTs from H1...\n"
     ]
    },
    {
     "name": "stderr",
     "output_type": "stream",
     "text": [
      " 16%|█▋        | 1184/7200 [00:47<03:59, 25.08it/s]"
     ]
    },
    {
     "name": "stdout",
     "output_type": "stream",
     "text": [
      "25-08-19 23:42:22.842 pyfstat.utils.sft INFO    : Loading 1 SFTs from H1...\n",
      "25-08-19 23:42:22.884 pyfstat.utils.sft INFO    : Loading 1 SFTs from H1...\n",
      "25-08-19 23:42:22.926 pyfstat.utils.sft INFO    : Loading 1 SFTs from H1...\n"
     ]
    },
    {
     "name": "stderr",
     "output_type": "stream",
     "text": [
      " 16%|█▋        | 1187/7200 [00:47<04:02, 24.82it/s]"
     ]
    },
    {
     "name": "stdout",
     "output_type": "stream",
     "text": [
      "25-08-19 23:42:22.966 pyfstat.utils.sft INFO    : Loading 1 SFTs from H1...\n",
      "25-08-19 23:42:23.005 pyfstat.utils.sft INFO    : Loading 1 SFTs from H1...\n",
      "25-08-19 23:42:23.046 pyfstat.utils.sft INFO    : Loading 1 SFTs from H1...\n"
     ]
    },
    {
     "name": "stderr",
     "output_type": "stream",
     "text": [
      " 17%|█▋        | 1190/7200 [00:48<04:02, 24.83it/s]"
     ]
    },
    {
     "name": "stdout",
     "output_type": "stream",
     "text": [
      "25-08-19 23:42:23.086 pyfstat.utils.sft INFO    : Loading 1 SFTs from H1...\n",
      "25-08-19 23:42:23.125 pyfstat.utils.sft INFO    : Loading 1 SFTs from H1...\n",
      "25-08-19 23:42:23.166 pyfstat.utils.sft INFO    : Loading 1 SFTs from H1...\n"
     ]
    },
    {
     "name": "stderr",
     "output_type": "stream",
     "text": [
      " 17%|█▋        | 1193/7200 [00:48<04:00, 24.94it/s]"
     ]
    },
    {
     "name": "stdout",
     "output_type": "stream",
     "text": [
      "25-08-19 23:42:23.206 pyfstat.utils.sft INFO    : Loading 1 SFTs from H1...\n",
      "25-08-19 23:42:23.244 pyfstat.utils.sft INFO    : Loading 1 SFTs from H1...\n",
      "25-08-19 23:42:23.283 pyfstat.utils.sft INFO    : Loading 1 SFTs from H1...\n"
     ]
    },
    {
     "name": "stderr",
     "output_type": "stream",
     "text": [
      " 17%|█▋        | 1196/7200 [00:48<03:59, 25.04it/s]"
     ]
    },
    {
     "name": "stdout",
     "output_type": "stream",
     "text": [
      "25-08-19 23:42:23.325 pyfstat.utils.sft INFO    : Loading 1 SFTs from H1...\n",
      "25-08-19 23:42:23.364 pyfstat.utils.sft INFO    : Loading 1 SFTs from H1...\n",
      "25-08-19 23:42:23.404 pyfstat.utils.sft INFO    : Loading 1 SFTs from H1...\n"
     ]
    },
    {
     "name": "stderr",
     "output_type": "stream",
     "text": [
      " 17%|█▋        | 1199/7200 [00:48<03:59, 25.09it/s]"
     ]
    },
    {
     "name": "stdout",
     "output_type": "stream",
     "text": [
      "25-08-19 23:42:23.443 pyfstat.utils.sft INFO    : Loading 1 SFTs from H1...\n",
      "25-08-19 23:42:23.481 pyfstat.utils.sft INFO    : Loading 1 SFTs from H1...\n",
      "25-08-19 23:42:23.523 pyfstat.utils.sft INFO    : Loading 1 SFTs from H1...\n"
     ]
    },
    {
     "name": "stderr",
     "output_type": "stream",
     "text": [
      " 17%|█▋        | 1202/7200 [00:48<03:59, 25.06it/s]"
     ]
    },
    {
     "name": "stdout",
     "output_type": "stream",
     "text": [
      "25-08-19 23:42:23.563 pyfstat.utils.sft INFO    : Loading 1 SFTs from H1...\n",
      "25-08-19 23:42:23.602 pyfstat.utils.sft INFO    : Loading 1 SFTs from H1...\n",
      "25-08-19 23:42:23.642 pyfstat.utils.sft INFO    : Loading 1 SFTs from H1...\n"
     ]
    },
    {
     "name": "stderr",
     "output_type": "stream",
     "text": [
      " 17%|█▋        | 1205/7200 [00:48<03:59, 25.07it/s]"
     ]
    },
    {
     "name": "stdout",
     "output_type": "stream",
     "text": [
      "25-08-19 23:42:23.683 pyfstat.utils.sft INFO    : Loading 1 SFTs from H1...\n",
      "25-08-19 23:42:23.723 pyfstat.utils.sft INFO    : Loading 1 SFTs from H1...\n",
      "25-08-19 23:42:23.763 pyfstat.utils.sft INFO    : Loading 1 SFTs from H1...\n"
     ]
    },
    {
     "name": "stderr",
     "output_type": "stream",
     "text": [
      " 17%|█▋        | 1208/7200 [00:48<03:59, 25.05it/s]"
     ]
    },
    {
     "name": "stdout",
     "output_type": "stream",
     "text": [
      "25-08-19 23:42:23.803 pyfstat.utils.sft INFO    : Loading 1 SFTs from H1...\n",
      "25-08-19 23:42:23.848 pyfstat.utils.sft INFO    : Loading 1 SFTs from H1...\n",
      "25-08-19 23:42:23.884 pyfstat.utils.sft INFO    : Loading 1 SFTs from H1...\n"
     ]
    },
    {
     "name": "stderr",
     "output_type": "stream",
     "text": [
      " 17%|█▋        | 1211/7200 [00:48<03:54, 25.59it/s]"
     ]
    },
    {
     "name": "stdout",
     "output_type": "stream",
     "text": [
      "25-08-19 23:42:23.915 pyfstat.utils.sft INFO    : Loading 1 SFTs from H1...\n",
      "25-08-19 23:42:23.955 pyfstat.utils.sft INFO    : Loading 1 SFTs from H1...\n",
      "25-08-19 23:42:23.994 pyfstat.utils.sft INFO    : Loading 1 SFTs from H1...\n"
     ]
    },
    {
     "name": "stderr",
     "output_type": "stream",
     "text": [
      " 17%|█▋        | 1214/7200 [00:48<03:57, 25.16it/s]"
     ]
    },
    {
     "name": "stdout",
     "output_type": "stream",
     "text": [
      "25-08-19 23:42:24.039 pyfstat.utils.sft INFO    : Loading 1 SFTs from H1...\n",
      "25-08-19 23:42:24.080 pyfstat.utils.sft INFO    : Loading 1 SFTs from H1...\n",
      "25-08-19 23:42:24.119 pyfstat.utils.sft INFO    : Loading 1 SFTs from H1...\n"
     ]
    },
    {
     "name": "stderr",
     "output_type": "stream",
     "text": [
      " 17%|█▋        | 1217/7200 [00:49<04:00, 24.83it/s]"
     ]
    },
    {
     "name": "stdout",
     "output_type": "stream",
     "text": [
      "25-08-19 23:42:24.163 pyfstat.utils.sft INFO    : Loading 1 SFTs from H1...\n",
      "25-08-19 23:42:24.200 pyfstat.utils.sft INFO    : Loading 1 SFTs from H1...\n",
      "25-08-19 23:42:24.239 pyfstat.utils.sft INFO    : Loading 1 SFTs from H1...\n"
     ]
    },
    {
     "name": "stderr",
     "output_type": "stream",
     "text": [
      " 17%|█▋        | 1220/7200 [00:49<03:59, 25.01it/s]"
     ]
    },
    {
     "name": "stdout",
     "output_type": "stream",
     "text": [
      "25-08-19 23:42:24.281 pyfstat.utils.sft INFO    : Loading 1 SFTs from H1...\n",
      "25-08-19 23:42:24.324 pyfstat.utils.sft INFO    : Loading 1 SFTs from H1...\n",
      "25-08-19 23:42:24.366 pyfstat.utils.sft INFO    : Loading 1 SFTs from H1...\n"
     ]
    },
    {
     "name": "stderr",
     "output_type": "stream",
     "text": [
      " 17%|█▋        | 1223/7200 [00:49<04:02, 24.60it/s]"
     ]
    },
    {
     "name": "stdout",
     "output_type": "stream",
     "text": [
      "25-08-19 23:42:24.407 pyfstat.utils.sft INFO    : Loading 1 SFTs from H1...\n",
      "25-08-19 23:42:24.447 pyfstat.utils.sft INFO    : Loading 1 SFTs from H1...\n",
      "25-08-19 23:42:24.489 pyfstat.utils.sft INFO    : Loading 1 SFTs from H1...\n"
     ]
    },
    {
     "name": "stderr",
     "output_type": "stream",
     "text": [
      " 17%|█▋        | 1226/7200 [00:49<04:05, 24.37it/s]"
     ]
    },
    {
     "name": "stdout",
     "output_type": "stream",
     "text": [
      "25-08-19 23:42:24.533 pyfstat.utils.sft INFO    : Loading 1 SFTs from H1...\n",
      "25-08-19 23:42:24.576 pyfstat.utils.sft INFO    : Loading 1 SFTs from H1...\n",
      "25-08-19 23:42:24.618 pyfstat.utils.sft INFO    : Loading 1 SFTs from H1...\n"
     ]
    },
    {
     "name": "stderr",
     "output_type": "stream",
     "text": [
      " 17%|█▋        | 1229/7200 [00:49<04:06, 24.18it/s]"
     ]
    },
    {
     "name": "stdout",
     "output_type": "stream",
     "text": [
      "25-08-19 23:42:24.659 pyfstat.utils.sft INFO    : Loading 1 SFTs from H1...\n",
      "25-08-19 23:42:24.698 pyfstat.utils.sft INFO    : Loading 1 SFTs from H1...\n",
      "25-08-19 23:42:24.740 pyfstat.utils.sft INFO    : Loading 1 SFTs from H1...\n"
     ]
    },
    {
     "name": "stderr",
     "output_type": "stream",
     "text": [
      " 17%|█▋        | 1232/7200 [00:49<04:05, 24.32it/s]"
     ]
    },
    {
     "name": "stdout",
     "output_type": "stream",
     "text": [
      "25-08-19 23:42:24.781 pyfstat.utils.sft INFO    : Loading 1 SFTs from H1...\n",
      "25-08-19 23:42:24.823 pyfstat.utils.sft INFO    : Loading 1 SFTs from H1...\n",
      "25-08-19 23:42:24.866 pyfstat.utils.sft INFO    : Loading 1 SFTs from H1...\n"
     ]
    },
    {
     "name": "stderr",
     "output_type": "stream",
     "text": [
      " 17%|█▋        | 1235/7200 [00:49<04:06, 24.15it/s]"
     ]
    },
    {
     "name": "stdout",
     "output_type": "stream",
     "text": [
      "25-08-19 23:42:24.908 pyfstat.utils.sft INFO    : Loading 1 SFTs from H1...\n",
      "25-08-19 23:42:24.948 pyfstat.utils.sft INFO    : Loading 1 SFTs from H1...\n",
      "25-08-19 23:42:24.992 pyfstat.utils.sft INFO    : Loading 1 SFTs from H1...\n"
     ]
    },
    {
     "name": "stderr",
     "output_type": "stream",
     "text": [
      " 17%|█▋        | 1238/7200 [00:49<04:07, 24.06it/s]"
     ]
    },
    {
     "name": "stdout",
     "output_type": "stream",
     "text": [
      "25-08-19 23:42:25.033 pyfstat.utils.sft INFO    : Loading 1 SFTs from H1...\n",
      "25-08-19 23:42:25.072 pyfstat.utils.sft INFO    : Loading 1 SFTs from H1...\n",
      "25-08-19 23:42:25.108 pyfstat.utils.sft INFO    : Loading 1 SFTs from H1...\n"
     ]
    },
    {
     "name": "stderr",
     "output_type": "stream",
     "text": [
      " 17%|█▋        | 1241/7200 [00:50<04:02, 24.54it/s]"
     ]
    },
    {
     "name": "stdout",
     "output_type": "stream",
     "text": [
      "25-08-19 23:42:25.150 pyfstat.utils.sft INFO    : Loading 1 SFTs from H1...\n",
      "25-08-19 23:42:25.192 pyfstat.utils.sft INFO    : Loading 1 SFTs from H1...\n",
      "25-08-19 23:42:25.232 pyfstat.utils.sft INFO    : Loading 1 SFTs from H1...\n"
     ]
    },
    {
     "name": "stderr",
     "output_type": "stream",
     "text": [
      " 17%|█▋        | 1244/7200 [00:50<04:03, 24.47it/s]"
     ]
    },
    {
     "name": "stdout",
     "output_type": "stream",
     "text": [
      "25-08-19 23:42:25.273 pyfstat.utils.sft INFO    : Loading 1 SFTs from H1...\n",
      "25-08-19 23:42:25.315 pyfstat.utils.sft INFO    : Loading 1 SFTs from H1...\n",
      "25-08-19 23:42:25.356 pyfstat.utils.sft INFO    : Loading 1 SFTs from H1...\n"
     ]
    },
    {
     "name": "stderr",
     "output_type": "stream",
     "text": [
      " 17%|█▋        | 1247/7200 [00:50<04:03, 24.44it/s]"
     ]
    },
    {
     "name": "stdout",
     "output_type": "stream",
     "text": [
      "25-08-19 23:42:25.396 pyfstat.utils.sft INFO    : Loading 1 SFTs from H1...\n",
      "25-08-19 23:42:25.437 pyfstat.utils.sft INFO    : Loading 1 SFTs from H1...\n",
      "25-08-19 23:42:25.478 pyfstat.utils.sft INFO    : Loading 1 SFTs from H1...\n"
     ]
    },
    {
     "name": "stderr",
     "output_type": "stream",
     "text": [
      " 17%|█▋        | 1250/7200 [00:50<04:03, 24.41it/s]"
     ]
    },
    {
     "name": "stdout",
     "output_type": "stream",
     "text": [
      "25-08-19 23:42:25.519 pyfstat.utils.sft INFO    : Loading 1 SFTs from H1...\n",
      "25-08-19 23:42:25.562 pyfstat.utils.sft INFO    : Loading 1 SFTs from H1...\n",
      "25-08-19 23:42:25.602 pyfstat.utils.sft INFO    : Loading 1 SFTs from H1...\n"
     ]
    },
    {
     "name": "stderr",
     "output_type": "stream",
     "text": [
      " 17%|█▋        | 1253/7200 [00:50<04:03, 24.43it/s]"
     ]
    },
    {
     "name": "stdout",
     "output_type": "stream",
     "text": [
      "25-08-19 23:42:25.642 pyfstat.utils.sft INFO    : Loading 1 SFTs from H1...\n",
      "25-08-19 23:42:25.682 pyfstat.utils.sft INFO    : Loading 1 SFTs from H1...\n",
      "25-08-19 23:42:25.720 pyfstat.utils.sft INFO    : Loading 1 SFTs from H1...\n"
     ]
    },
    {
     "name": "stderr",
     "output_type": "stream",
     "text": [
      " 17%|█▋        | 1256/7200 [00:50<04:00, 24.75it/s]"
     ]
    },
    {
     "name": "stdout",
     "output_type": "stream",
     "text": [
      "25-08-19 23:42:25.760 pyfstat.utils.sft INFO    : Loading 1 SFTs from H1...\n",
      "25-08-19 23:42:25.800 pyfstat.utils.sft INFO    : Loading 1 SFTs from H1...\n",
      "25-08-19 23:42:25.838 pyfstat.utils.sft INFO    : Loading 1 SFTs from H1...\n"
     ]
    },
    {
     "name": "stderr",
     "output_type": "stream",
     "text": [
      " 17%|█▋        | 1259/7200 [00:50<03:59, 24.78it/s]"
     ]
    },
    {
     "name": "stdout",
     "output_type": "stream",
     "text": [
      "25-08-19 23:42:25.880 pyfstat.utils.sft INFO    : Loading 1 SFTs from H1...\n",
      "25-08-19 23:42:25.920 pyfstat.utils.sft INFO    : Loading 1 SFTs from H1...\n",
      "25-08-19 23:42:25.960 pyfstat.utils.sft INFO    : Loading 1 SFTs from H1...\n"
     ]
    },
    {
     "name": "stderr",
     "output_type": "stream",
     "text": [
      " 18%|█▊        | 1262/7200 [00:50<04:01, 24.61it/s]"
     ]
    },
    {
     "name": "stdout",
     "output_type": "stream",
     "text": [
      "25-08-19 23:42:26.004 pyfstat.utils.sft INFO    : Loading 1 SFTs from H1...\n",
      "25-08-19 23:42:26.042 pyfstat.utils.sft INFO    : Loading 1 SFTs from H1...\n",
      "25-08-19 23:42:26.081 pyfstat.utils.sft INFO    : Loading 1 SFTs from H1...\n"
     ]
    },
    {
     "name": "stderr",
     "output_type": "stream",
     "text": [
      " 18%|█▊        | 1265/7200 [00:51<03:59, 24.76it/s]"
     ]
    },
    {
     "name": "stdout",
     "output_type": "stream",
     "text": [
      "25-08-19 23:42:26.123 pyfstat.utils.sft INFO    : Loading 1 SFTs from H1...\n",
      "25-08-19 23:42:26.162 pyfstat.utils.sft INFO    : Loading 1 SFTs from H1...\n",
      "25-08-19 23:42:26.202 pyfstat.utils.sft INFO    : Loading 1 SFTs from H1...\n"
     ]
    },
    {
     "name": "stderr",
     "output_type": "stream",
     "text": [
      " 18%|█▊        | 1268/7200 [00:51<03:58, 24.82it/s]"
     ]
    },
    {
     "name": "stdout",
     "output_type": "stream",
     "text": [
      "25-08-19 23:42:26.244 pyfstat.utils.sft INFO    : Loading 1 SFTs from H1...\n",
      "25-08-19 23:42:26.285 pyfstat.utils.sft INFO    : Loading 1 SFTs from H1...\n",
      "25-08-19 23:42:26.328 pyfstat.utils.sft INFO    : Loading 1 SFTs from H1...\n"
     ]
    },
    {
     "name": "stderr",
     "output_type": "stream",
     "text": [
      " 18%|█▊        | 1271/7200 [00:51<04:02, 24.43it/s]"
     ]
    },
    {
     "name": "stdout",
     "output_type": "stream",
     "text": [
      "25-08-19 23:42:26.371 pyfstat.utils.sft INFO    : Loading 1 SFTs from H1...\n",
      "25-08-19 23:42:26.411 pyfstat.utils.sft INFO    : Loading 1 SFTs from H1...\n",
      "25-08-19 23:42:26.453 pyfstat.utils.sft INFO    : Loading 1 SFTs from H1...\n"
     ]
    },
    {
     "name": "stderr",
     "output_type": "stream",
     "text": [
      " 18%|█▊        | 1274/7200 [00:51<04:02, 24.48it/s]"
     ]
    },
    {
     "name": "stdout",
     "output_type": "stream",
     "text": [
      "25-08-19 23:42:26.493 pyfstat.utils.sft INFO    : Loading 1 SFTs from H1...\n",
      "25-08-19 23:42:26.533 pyfstat.utils.sft INFO    : Loading 1 SFTs from H1...\n",
      "25-08-19 23:42:26.573 pyfstat.utils.sft INFO    : Loading 1 SFTs from H1...\n"
     ]
    },
    {
     "name": "stderr",
     "output_type": "stream",
     "text": [
      " 18%|█▊        | 1277/7200 [00:51<04:02, 24.41it/s]"
     ]
    },
    {
     "name": "stdout",
     "output_type": "stream",
     "text": [
      "25-08-19 23:42:26.617 pyfstat.utils.sft INFO    : Loading 1 SFTs from H1...\n",
      "25-08-19 23:42:26.652 pyfstat.utils.sft INFO    : Loading 1 SFTs from H1...\n",
      "25-08-19 23:42:26.695 pyfstat.utils.sft INFO    : Loading 1 SFTs from H1...\n"
     ]
    },
    {
     "name": "stderr",
     "output_type": "stream",
     "text": [
      " 18%|█▊        | 1280/7200 [00:51<04:01, 24.55it/s]"
     ]
    },
    {
     "name": "stdout",
     "output_type": "stream",
     "text": [
      "25-08-19 23:42:26.737 pyfstat.utils.sft INFO    : Loading 1 SFTs from H1...\n",
      "25-08-19 23:42:26.783 pyfstat.utils.sft INFO    : Loading 1 SFTs from H1...\n",
      "25-08-19 23:42:26.825 pyfstat.utils.sft INFO    : Loading 1 SFTs from H1...\n"
     ]
    },
    {
     "name": "stderr",
     "output_type": "stream",
     "text": [
      " 18%|█▊        | 1283/7200 [00:51<04:06, 24.05it/s]"
     ]
    },
    {
     "name": "stdout",
     "output_type": "stream",
     "text": [
      "25-08-19 23:42:26.868 pyfstat.utils.sft INFO    : Loading 1 SFTs from H1...\n",
      "25-08-19 23:42:26.914 pyfstat.utils.sft INFO    : Loading 1 SFTs from H1...\n",
      "25-08-19 23:42:26.951 pyfstat.utils.sft INFO    : Loading 1 SFTs from H1...\n"
     ]
    },
    {
     "name": "stderr",
     "output_type": "stream",
     "text": [
      " 18%|█▊        | 1286/7200 [00:51<04:07, 23.91it/s]"
     ]
    },
    {
     "name": "stdout",
     "output_type": "stream",
     "text": [
      "25-08-19 23:42:26.995 pyfstat.utils.sft INFO    : Loading 1 SFTs from H1...\n",
      "25-08-19 23:42:27.037 pyfstat.utils.sft INFO    : Loading 1 SFTs from H1...\n",
      "25-08-19 23:42:27.077 pyfstat.utils.sft INFO    : Loading 1 SFTs from H1...\n"
     ]
    },
    {
     "name": "stderr",
     "output_type": "stream",
     "text": [
      " 18%|█▊        | 1289/7200 [00:52<04:07, 23.90it/s]"
     ]
    },
    {
     "name": "stdout",
     "output_type": "stream",
     "text": [
      "25-08-19 23:42:27.121 pyfstat.utils.sft INFO    : Loading 1 SFTs from H1...\n",
      "25-08-19 23:42:27.163 pyfstat.utils.sft INFO    : Loading 1 SFTs from H1...\n",
      "25-08-19 23:42:27.207 pyfstat.utils.sft INFO    : Loading 1 SFTs from H1...\n"
     ]
    },
    {
     "name": "stderr",
     "output_type": "stream",
     "text": [
      " 18%|█▊        | 1292/7200 [00:52<04:10, 23.61it/s]"
     ]
    },
    {
     "name": "stdout",
     "output_type": "stream",
     "text": [
      "25-08-19 23:42:27.252 pyfstat.utils.sft INFO    : Loading 1 SFTs from H1...\n",
      "25-08-19 23:42:27.297 pyfstat.utils.sft INFO    : Loading 1 SFTs from H1...\n",
      "25-08-19 23:42:27.341 pyfstat.utils.sft INFO    : Loading 1 SFTs from H1...\n"
     ]
    },
    {
     "name": "stderr",
     "output_type": "stream",
     "text": [
      " 18%|█▊        | 1295/7200 [00:52<04:13, 23.28it/s]"
     ]
    },
    {
     "name": "stdout",
     "output_type": "stream",
     "text": [
      "25-08-19 23:42:27.385 pyfstat.utils.sft INFO    : Loading 1 SFTs from H1...\n",
      "25-08-19 23:42:27.427 pyfstat.utils.sft INFO    : Loading 1 SFTs from H1...\n",
      "25-08-19 23:42:27.470 pyfstat.utils.sft INFO    : Loading 1 SFTs from H1...\n"
     ]
    },
    {
     "name": "stderr",
     "output_type": "stream",
     "text": [
      " 18%|█▊        | 1298/7200 [00:52<04:14, 23.18it/s]"
     ]
    },
    {
     "name": "stdout",
     "output_type": "stream",
     "text": [
      "25-08-19 23:42:27.516 pyfstat.utils.sft INFO    : Loading 1 SFTs from H1...\n",
      "25-08-19 23:42:27.559 pyfstat.utils.sft INFO    : Loading 1 SFTs from H1...\n",
      "25-08-19 23:42:27.599 pyfstat.utils.sft INFO    : Loading 1 SFTs from H1...\n"
     ]
    },
    {
     "name": "stderr",
     "output_type": "stream",
     "text": [
      " 18%|█▊        | 1301/7200 [00:52<04:10, 23.54it/s]"
     ]
    },
    {
     "name": "stdout",
     "output_type": "stream",
     "text": [
      "25-08-19 23:42:27.638 pyfstat.utils.sft INFO    : Loading 1 SFTs from H1...\n",
      "25-08-19 23:42:27.683 pyfstat.utils.sft INFO    : Loading 1 SFTs from H1...\n",
      "25-08-19 23:42:27.725 pyfstat.utils.sft INFO    : Loading 1 SFTs from H1...\n"
     ]
    },
    {
     "name": "stderr",
     "output_type": "stream",
     "text": [
      " 18%|█▊        | 1304/7200 [00:52<04:11, 23.49it/s]"
     ]
    },
    {
     "name": "stdout",
     "output_type": "stream",
     "text": [
      "25-08-19 23:42:27.767 pyfstat.utils.sft INFO    : Loading 1 SFTs from H1...\n",
      "25-08-19 23:42:27.809 pyfstat.utils.sft INFO    : Loading 1 SFTs from H1...\n",
      "25-08-19 23:42:27.849 pyfstat.utils.sft INFO    : Loading 1 SFTs from H1...\n"
     ]
    },
    {
     "name": "stderr",
     "output_type": "stream",
     "text": [
      " 18%|█▊        | 1307/7200 [00:52<04:08, 23.67it/s]"
     ]
    },
    {
     "name": "stdout",
     "output_type": "stream",
     "text": [
      "25-08-19 23:42:27.891 pyfstat.utils.sft INFO    : Loading 1 SFTs from H1...\n",
      "25-08-19 23:42:27.929 pyfstat.utils.sft INFO    : Loading 1 SFTs from H1...\n",
      "25-08-19 23:42:27.967 pyfstat.utils.sft INFO    : Loading 1 SFTs from H1...\n"
     ]
    },
    {
     "name": "stderr",
     "output_type": "stream",
     "text": [
      " 18%|█▊        | 1310/7200 [00:52<04:03, 24.23it/s]"
     ]
    },
    {
     "name": "stdout",
     "output_type": "stream",
     "text": [
      "25-08-19 23:42:28.007 pyfstat.utils.sft INFO    : Loading 1 SFTs from H1...\n",
      "25-08-19 23:42:28.047 pyfstat.utils.sft INFO    : Loading 1 SFTs from H1...\n",
      "25-08-19 23:42:28.086 pyfstat.utils.sft INFO    : Loading 1 SFTs from H1...\n"
     ]
    },
    {
     "name": "stderr",
     "output_type": "stream",
     "text": [
      " 18%|█▊        | 1313/7200 [00:53<04:01, 24.40it/s]"
     ]
    },
    {
     "name": "stdout",
     "output_type": "stream",
     "text": [
      "25-08-19 23:42:28.128 pyfstat.utils.sft INFO    : Loading 1 SFTs from H1...\n",
      "25-08-19 23:42:28.168 pyfstat.utils.sft INFO    : Loading 1 SFTs from H1...\n",
      "25-08-19 23:42:28.207 pyfstat.utils.sft INFO    : Loading 1 SFTs from H1...\n"
     ]
    },
    {
     "name": "stderr",
     "output_type": "stream",
     "text": [
      " 18%|█▊        | 1316/7200 [00:53<03:59, 24.61it/s]"
     ]
    },
    {
     "name": "stdout",
     "output_type": "stream",
     "text": [
      "25-08-19 23:42:28.248 pyfstat.utils.sft INFO    : Loading 1 SFTs from H1...\n",
      "25-08-19 23:42:28.286 pyfstat.utils.sft INFO    : Loading 1 SFTs from H1...\n",
      "25-08-19 23:42:28.328 pyfstat.utils.sft INFO    : Loading 1 SFTs from H1...\n"
     ]
    },
    {
     "name": "stderr",
     "output_type": "stream",
     "text": [
      " 18%|█▊        | 1319/7200 [00:53<03:58, 24.69it/s]"
     ]
    },
    {
     "name": "stdout",
     "output_type": "stream",
     "text": [
      "25-08-19 23:42:28.369 pyfstat.utils.sft INFO    : Loading 1 SFTs from H1...\n",
      "25-08-19 23:42:28.412 pyfstat.utils.sft INFO    : Loading 1 SFTs from H1...\n",
      "25-08-19 23:42:28.452 pyfstat.utils.sft INFO    : Loading 1 SFTs from H1...\n"
     ]
    },
    {
     "name": "stderr",
     "output_type": "stream",
     "text": [
      " 18%|█▊        | 1322/7200 [00:53<03:59, 24.59it/s]"
     ]
    },
    {
     "name": "stdout",
     "output_type": "stream",
     "text": [
      "25-08-19 23:42:28.492 pyfstat.utils.sft INFO    : Loading 1 SFTs from H1...\n",
      "25-08-19 23:42:28.532 pyfstat.utils.sft INFO    : Loading 1 SFTs from H1...\n",
      "25-08-19 23:42:28.572 pyfstat.utils.sft INFO    : Loading 1 SFTs from H1...\n"
     ]
    },
    {
     "name": "stderr",
     "output_type": "stream",
     "text": [
      " 18%|█▊        | 1325/7200 [00:53<03:54, 25.07it/s]"
     ]
    },
    {
     "name": "stdout",
     "output_type": "stream",
     "text": [
      "25-08-19 23:42:28.606 pyfstat.utils.sft INFO    : Loading 1 SFTs from H1...\n",
      "25-08-19 23:42:28.646 pyfstat.utils.sft INFO    : Loading 1 SFTs from H1...\n",
      "25-08-19 23:42:28.686 pyfstat.utils.sft INFO    : Loading 1 SFTs from H1...\n"
     ]
    },
    {
     "name": "stderr",
     "output_type": "stream",
     "text": [
      " 18%|█▊        | 1328/7200 [00:53<03:53, 25.13it/s]"
     ]
    },
    {
     "name": "stdout",
     "output_type": "stream",
     "text": [
      "25-08-19 23:42:28.724 pyfstat.utils.sft INFO    : Loading 1 SFTs from H1...\n",
      "25-08-19 23:42:28.764 pyfstat.utils.sft INFO    : Loading 1 SFTs from H1...\n",
      "25-08-19 23:42:28.804 pyfstat.utils.sft INFO    : Loading 1 SFTs from H1...\n"
     ]
    },
    {
     "name": "stderr",
     "output_type": "stream",
     "text": [
      " 18%|█▊        | 1331/7200 [00:53<03:54, 25.05it/s]"
     ]
    },
    {
     "name": "stdout",
     "output_type": "stream",
     "text": [
      "25-08-19 23:42:28.845 pyfstat.utils.sft INFO    : Loading 1 SFTs from H1...\n",
      "25-08-19 23:42:28.884 pyfstat.utils.sft INFO    : Loading 1 SFTs from H1...\n",
      "25-08-19 23:42:28.921 pyfstat.utils.sft INFO    : Loading 1 SFTs from H1...\n"
     ]
    },
    {
     "name": "stderr",
     "output_type": "stream",
     "text": [
      " 19%|█▊        | 1334/7200 [00:53<03:50, 25.50it/s]"
     ]
    },
    {
     "name": "stdout",
     "output_type": "stream",
     "text": [
      "25-08-19 23:42:28.959 pyfstat.utils.sft INFO    : Loading 1 SFTs from H1...\n",
      "25-08-19 23:42:28.998 pyfstat.utils.sft INFO    : Loading 1 SFTs from H1...\n",
      "25-08-19 23:42:29.038 pyfstat.utils.sft INFO    : Loading 1 SFTs from H1...\n"
     ]
    },
    {
     "name": "stderr",
     "output_type": "stream",
     "text": [
      " 19%|█▊        | 1337/7200 [00:54<03:50, 25.46it/s]"
     ]
    },
    {
     "name": "stdout",
     "output_type": "stream",
     "text": [
      "25-08-19 23:42:29.077 pyfstat.utils.sft INFO    : Loading 1 SFTs from H1...\n",
      "25-08-19 23:42:29.115 pyfstat.utils.sft INFO    : Loading 1 SFTs from H1...\n",
      "25-08-19 23:42:29.155 pyfstat.utils.sft INFO    : Loading 1 SFTs from H1...\n"
     ]
    },
    {
     "name": "stderr",
     "output_type": "stream",
     "text": [
      " 19%|█▊        | 1340/7200 [00:54<03:50, 25.47it/s]"
     ]
    },
    {
     "name": "stdout",
     "output_type": "stream",
     "text": [
      "25-08-19 23:42:29.194 pyfstat.utils.sft INFO    : Loading 1 SFTs from H1...\n",
      "25-08-19 23:42:29.231 pyfstat.utils.sft INFO    : Loading 1 SFTs from H1...\n",
      "25-08-19 23:42:29.276 pyfstat.utils.sft INFO    : Loading 1 SFTs from H1...\n"
     ]
    },
    {
     "name": "stderr",
     "output_type": "stream",
     "text": [
      " 19%|█▊        | 1343/7200 [00:54<03:52, 25.21it/s]"
     ]
    },
    {
     "name": "stdout",
     "output_type": "stream",
     "text": [
      "25-08-19 23:42:29.316 pyfstat.utils.sft INFO    : Loading 1 SFTs from H1...\n",
      "25-08-19 23:42:29.355 pyfstat.utils.sft INFO    : Loading 1 SFTs from H1...\n",
      "25-08-19 23:42:29.395 pyfstat.utils.sft INFO    : Loading 1 SFTs from H1...\n"
     ]
    },
    {
     "name": "stderr",
     "output_type": "stream",
     "text": [
      " 19%|█▊        | 1346/7200 [00:54<03:53, 25.11it/s]"
     ]
    },
    {
     "name": "stdout",
     "output_type": "stream",
     "text": [
      "25-08-19 23:42:29.436 pyfstat.utils.sft INFO    : Loading 1 SFTs from H1...\n",
      "25-08-19 23:42:29.479 pyfstat.utils.sft INFO    : Loading 1 SFTs from H1...\n",
      "25-08-19 23:42:29.519 pyfstat.utils.sft INFO    : Loading 1 SFTs from H1...\n"
     ]
    },
    {
     "name": "stderr",
     "output_type": "stream",
     "text": [
      " 19%|█▊        | 1349/7200 [00:54<03:55, 24.89it/s]"
     ]
    },
    {
     "name": "stdout",
     "output_type": "stream",
     "text": [
      "25-08-19 23:42:29.561 pyfstat.utils.sft INFO    : Loading 1 SFTs from H1...\n",
      "25-08-19 23:42:29.603 pyfstat.utils.sft INFO    : Loading 1 SFTs from H1...\n",
      "25-08-19 23:42:29.648 pyfstat.utils.sft INFO    : Loading 1 SFTs from H1...\n"
     ]
    },
    {
     "name": "stderr",
     "output_type": "stream",
     "text": [
      " 19%|█▉        | 1352/7200 [00:54<04:00, 24.33it/s]"
     ]
    },
    {
     "name": "stdout",
     "output_type": "stream",
     "text": [
      "25-08-19 23:42:29.689 pyfstat.utils.sft INFO    : Loading 1 SFTs from H1...\n",
      "25-08-19 23:42:29.729 pyfstat.utils.sft INFO    : Loading 1 SFTs from H1...\n",
      "25-08-19 23:42:29.759 pyfstat.utils.sft INFO    : Loading 1 SFTs from H1...\n"
     ]
    },
    {
     "name": "stderr",
     "output_type": "stream",
     "text": [
      " 19%|█▉        | 1355/7200 [00:54<03:51, 25.20it/s]"
     ]
    },
    {
     "name": "stdout",
     "output_type": "stream",
     "text": [
      "25-08-19 23:42:29.798 pyfstat.utils.sft INFO    : Loading 1 SFTs from H1...\n",
      "25-08-19 23:42:29.836 pyfstat.utils.sft INFO    : Loading 1 SFTs from H1...\n",
      "25-08-19 23:42:29.875 pyfstat.utils.sft INFO    : Loading 1 SFTs from H1...\n"
     ]
    },
    {
     "name": "stderr",
     "output_type": "stream",
     "text": [
      " 19%|█▉        | 1358/7200 [00:54<03:53, 25.03it/s]"
     ]
    },
    {
     "name": "stdout",
     "output_type": "stream",
     "text": [
      "25-08-19 23:42:29.920 pyfstat.utils.sft INFO    : Loading 1 SFTs from H1...\n",
      "25-08-19 23:42:29.961 pyfstat.utils.sft INFO    : Loading 1 SFTs from H1...\n",
      "25-08-19 23:42:29.997 pyfstat.utils.sft INFO    : Loading 1 SFTs from H1...\n"
     ]
    },
    {
     "name": "stderr",
     "output_type": "stream",
     "text": [
      " 19%|█▉        | 1361/7200 [00:55<03:53, 24.95it/s]"
     ]
    },
    {
     "name": "stdout",
     "output_type": "stream",
     "text": [
      "25-08-19 23:42:30.042 pyfstat.utils.sft INFO    : Loading 1 SFTs from H1...\n",
      "25-08-19 23:42:30.083 pyfstat.utils.sft INFO    : Loading 1 SFTs from H1...\n",
      "25-08-19 23:42:30.128 pyfstat.utils.sft INFO    : Loading 1 SFTs from H1...\n"
     ]
    },
    {
     "name": "stderr",
     "output_type": "stream",
     "text": [
      " 19%|█▉        | 1364/7200 [00:55<03:59, 24.40it/s]"
     ]
    },
    {
     "name": "stdout",
     "output_type": "stream",
     "text": [
      "25-08-19 23:42:30.172 pyfstat.utils.sft INFO    : Loading 1 SFTs from H1...\n",
      "25-08-19 23:42:30.219 pyfstat.utils.sft INFO    : Loading 1 SFTs from H1...\n",
      "25-08-19 23:42:30.262 pyfstat.utils.sft INFO    : Loading 1 SFTs from H1...\n"
     ]
    },
    {
     "name": "stderr",
     "output_type": "stream",
     "text": [
      " 19%|█▉        | 1367/7200 [00:55<04:04, 23.86it/s]"
     ]
    },
    {
     "name": "stdout",
     "output_type": "stream",
     "text": [
      "25-08-19 23:42:30.303 pyfstat.utils.sft INFO    : Loading 1 SFTs from H1...\n",
      "25-08-19 23:42:30.344 pyfstat.utils.sft INFO    : Loading 1 SFTs from H1...\n",
      "25-08-19 23:42:30.384 pyfstat.utils.sft INFO    : Loading 1 SFTs from H1...\n"
     ]
    },
    {
     "name": "stderr",
     "output_type": "stream",
     "text": [
      " 19%|█▉        | 1370/7200 [00:55<03:59, 24.31it/s]"
     ]
    },
    {
     "name": "stdout",
     "output_type": "stream",
     "text": [
      "25-08-19 23:42:30.421 pyfstat.utils.sft INFO    : Loading 1 SFTs from H1...\n",
      "25-08-19 23:42:30.461 pyfstat.utils.sft INFO    : Loading 1 SFTs from H1...\n",
      "25-08-19 23:42:30.503 pyfstat.utils.sft INFO    : Loading 1 SFTs from H1...\n"
     ]
    },
    {
     "name": "stderr",
     "output_type": "stream",
     "text": [
      " 19%|█▉        | 1373/7200 [00:55<03:59, 24.30it/s]"
     ]
    },
    {
     "name": "stdout",
     "output_type": "stream",
     "text": [
      "25-08-19 23:42:30.545 pyfstat.utils.sft INFO    : Loading 1 SFTs from H1...\n",
      "25-08-19 23:42:30.596 pyfstat.utils.sft INFO    : Loading 1 SFTs from H1...\n",
      "25-08-19 23:42:30.637 pyfstat.utils.sft INFO    : Loading 1 SFTs from H1...\n"
     ]
    },
    {
     "name": "stderr",
     "output_type": "stream",
     "text": [
      " 19%|█▉        | 1376/7200 [00:55<04:06, 23.65it/s]"
     ]
    },
    {
     "name": "stdout",
     "output_type": "stream",
     "text": [
      "25-08-19 23:42:30.680 pyfstat.utils.sft INFO    : Loading 1 SFTs from H1...\n",
      "25-08-19 23:42:30.714 pyfstat.utils.sft INFO    : Loading 1 SFTs from H1...\n",
      "25-08-19 23:42:30.756 pyfstat.utils.sft INFO    : Loading 1 SFTs from H1...\n"
     ]
    },
    {
     "name": "stderr",
     "output_type": "stream",
     "text": [
      " 19%|█▉        | 1379/7200 [00:55<04:02, 23.97it/s]"
     ]
    },
    {
     "name": "stdout",
     "output_type": "stream",
     "text": [
      "25-08-19 23:42:30.801 pyfstat.utils.sft INFO    : Loading 1 SFTs from H1...\n",
      "25-08-19 23:42:30.841 pyfstat.utils.sft INFO    : Loading 1 SFTs from H1...\n",
      "25-08-19 23:42:30.878 pyfstat.utils.sft INFO    : Loading 1 SFTs from H1...\n"
     ]
    },
    {
     "name": "stderr",
     "output_type": "stream",
     "text": [
      " 19%|█▉        | 1382/7200 [00:55<03:59, 24.31it/s]"
     ]
    },
    {
     "name": "stdout",
     "output_type": "stream",
     "text": [
      "25-08-19 23:42:30.920 pyfstat.utils.sft INFO    : Loading 1 SFTs from H1...\n",
      "25-08-19 23:42:30.960 pyfstat.utils.sft INFO    : Loading 1 SFTs from H1...\n",
      "25-08-19 23:42:31.002 pyfstat.utils.sft INFO    : Loading 1 SFTs from H1...\n"
     ]
    },
    {
     "name": "stderr",
     "output_type": "stream",
     "text": [
      " 19%|█▉        | 1385/7200 [00:56<04:02, 24.00it/s]"
     ]
    },
    {
     "name": "stdout",
     "output_type": "stream",
     "text": [
      "25-08-19 23:42:31.048 pyfstat.utils.sft INFO    : Loading 1 SFTs from H1...\n",
      "25-08-19 23:42:31.087 pyfstat.utils.sft INFO    : Loading 1 SFTs from H1...\n",
      "25-08-19 23:42:31.127 pyfstat.utils.sft INFO    : Loading 1 SFTs from H1...\n"
     ]
    },
    {
     "name": "stderr",
     "output_type": "stream",
     "text": [
      " 19%|█▉        | 1388/7200 [00:56<03:58, 24.40it/s]"
     ]
    },
    {
     "name": "stdout",
     "output_type": "stream",
     "text": [
      "25-08-19 23:42:31.166 pyfstat.utils.sft INFO    : Loading 1 SFTs from H1...\n",
      "25-08-19 23:42:31.209 pyfstat.utils.sft INFO    : Loading 1 SFTs from H1...\n",
      "25-08-19 23:42:31.249 pyfstat.utils.sft INFO    : Loading 1 SFTs from H1...\n"
     ]
    },
    {
     "name": "stderr",
     "output_type": "stream",
     "text": [
      " 19%|█▉        | 1391/7200 [00:56<03:58, 24.34it/s]"
     ]
    },
    {
     "name": "stdout",
     "output_type": "stream",
     "text": [
      "25-08-19 23:42:31.291 pyfstat.utils.sft INFO    : Loading 1 SFTs from H1...\n",
      "25-08-19 23:42:31.332 pyfstat.utils.sft INFO    : Loading 1 SFTs from H1...\n",
      "25-08-19 23:42:31.372 pyfstat.utils.sft INFO    : Loading 1 SFTs from H1...\n"
     ]
    },
    {
     "name": "stderr",
     "output_type": "stream",
     "text": [
      " 19%|█▉        | 1394/7200 [00:56<03:57, 24.49it/s]"
     ]
    },
    {
     "name": "stdout",
     "output_type": "stream",
     "text": [
      "25-08-19 23:42:31.412 pyfstat.utils.sft INFO    : Loading 1 SFTs from H1...\n",
      "25-08-19 23:42:31.457 pyfstat.utils.sft INFO    : Loading 1 SFTs from H1...\n",
      "25-08-19 23:42:31.493 pyfstat.utils.sft INFO    : Loading 1 SFTs from H1...\n"
     ]
    },
    {
     "name": "stderr",
     "output_type": "stream",
     "text": [
      " 19%|█▉        | 1397/7200 [00:56<03:49, 25.31it/s]"
     ]
    },
    {
     "name": "stdout",
     "output_type": "stream",
     "text": [
      "25-08-19 23:42:31.521 pyfstat.utils.sft INFO    : Loading 1 SFTs from H1...\n",
      "25-08-19 23:42:31.560 pyfstat.utils.sft INFO    : Loading 1 SFTs from H1...\n",
      "25-08-19 23:42:31.599 pyfstat.utils.sft INFO    : Loading 1 SFTs from H1...\n"
     ]
    },
    {
     "name": "stderr",
     "output_type": "stream",
     "text": [
      " 19%|█▉        | 1400/7200 [00:56<03:49, 25.29it/s]"
     ]
    },
    {
     "name": "stdout",
     "output_type": "stream",
     "text": [
      "25-08-19 23:42:31.640 pyfstat.utils.sft INFO    : Loading 1 SFTs from H1...\n",
      "25-08-19 23:42:31.679 pyfstat.utils.sft INFO    : Loading 1 SFTs from H1...\n",
      "25-08-19 23:42:31.719 pyfstat.utils.sft INFO    : Loading 1 SFTs from H1...\n"
     ]
    },
    {
     "name": "stderr",
     "output_type": "stream",
     "text": [
      " 19%|█▉        | 1403/7200 [00:56<03:50, 25.12it/s]"
     ]
    },
    {
     "name": "stdout",
     "output_type": "stream",
     "text": [
      "25-08-19 23:42:31.761 pyfstat.utils.sft INFO    : Loading 1 SFTs from H1...\n",
      "25-08-19 23:42:31.800 pyfstat.utils.sft INFO    : Loading 1 SFTs from H1...\n",
      "25-08-19 23:42:31.837 pyfstat.utils.sft INFO    : Loading 1 SFTs from H1...\n"
     ]
    },
    {
     "name": "stderr",
     "output_type": "stream",
     "text": [
      " 20%|█▉        | 1406/7200 [00:56<03:49, 25.22it/s]"
     ]
    },
    {
     "name": "stdout",
     "output_type": "stream",
     "text": [
      "25-08-19 23:42:31.878 pyfstat.utils.sft INFO    : Loading 1 SFTs from H1...\n",
      "25-08-19 23:42:31.918 pyfstat.utils.sft INFO    : Loading 1 SFTs from H1...\n",
      "25-08-19 23:42:31.962 pyfstat.utils.sft INFO    : Loading 1 SFTs from H1...\n"
     ]
    },
    {
     "name": "stderr",
     "output_type": "stream",
     "text": [
      " 20%|█▉        | 1409/7200 [00:56<03:46, 25.52it/s]"
     ]
    },
    {
     "name": "stdout",
     "output_type": "stream",
     "text": [
      "25-08-19 23:42:31.994 pyfstat.utils.sft INFO    : Loading 1 SFTs from H1...\n",
      "25-08-19 23:42:32.037 pyfstat.utils.sft INFO    : Loading 1 SFTs from H1...\n",
      "25-08-19 23:42:32.076 pyfstat.utils.sft INFO    : Loading 1 SFTs from H1...\n"
     ]
    },
    {
     "name": "stderr",
     "output_type": "stream",
     "text": [
      " 20%|█▉        | 1412/7200 [00:57<03:51, 25.01it/s]"
     ]
    },
    {
     "name": "stdout",
     "output_type": "stream",
     "text": [
      "25-08-19 23:42:32.119 pyfstat.utils.sft INFO    : Loading 1 SFTs from H1...\n",
      "25-08-19 23:42:32.159 pyfstat.utils.sft INFO    : Loading 1 SFTs from H1...\n",
      "25-08-19 23:42:32.200 pyfstat.utils.sft INFO    : Loading 1 SFTs from H1...\n"
     ]
    },
    {
     "name": "stderr",
     "output_type": "stream",
     "text": [
      " 20%|█▉        | 1415/7200 [00:57<03:53, 24.78it/s]"
     ]
    },
    {
     "name": "stdout",
     "output_type": "stream",
     "text": [
      "25-08-19 23:42:32.243 pyfstat.utils.sft INFO    : Loading 1 SFTs from H1...\n",
      "25-08-19 23:42:32.285 pyfstat.utils.sft INFO    : Loading 1 SFTs from H1...\n",
      "25-08-19 23:42:32.323 pyfstat.utils.sft INFO    : Loading 1 SFTs from H1...\n"
     ]
    },
    {
     "name": "stderr",
     "output_type": "stream",
     "text": [
      " 20%|█▉        | 1418/7200 [00:57<03:54, 24.66it/s]"
     ]
    },
    {
     "name": "stdout",
     "output_type": "stream",
     "text": [
      "25-08-19 23:42:32.365 pyfstat.utils.sft INFO    : Loading 1 SFTs from H1...\n",
      "25-08-19 23:42:32.395 pyfstat.utils.sft INFO    : Loading 1 SFTs from H1...\n",
      "25-08-19 23:42:32.438 pyfstat.utils.sft INFO    : Loading 1 SFTs from H1...\n"
     ]
    },
    {
     "name": "stderr",
     "output_type": "stream",
     "text": [
      " 20%|█▉        | 1421/7200 [00:57<03:46, 25.48it/s]"
     ]
    },
    {
     "name": "stdout",
     "output_type": "stream",
     "text": [
      "25-08-19 23:42:32.474 pyfstat.utils.sft INFO    : Loading 1 SFTs from H1...\n",
      "25-08-19 23:42:32.514 pyfstat.utils.sft INFO    : Loading 1 SFTs from H1...\n",
      "25-08-19 23:42:32.555 pyfstat.utils.sft INFO    : Loading 1 SFTs from H1...\n"
     ]
    },
    {
     "name": "stderr",
     "output_type": "stream",
     "text": [
      " 20%|█▉        | 1424/7200 [00:57<03:50, 25.06it/s]"
     ]
    },
    {
     "name": "stdout",
     "output_type": "stream",
     "text": [
      "25-08-19 23:42:32.599 pyfstat.utils.sft INFO    : Loading 1 SFTs from H1...\n",
      "25-08-19 23:42:32.640 pyfstat.utils.sft INFO    : Loading 1 SFTs from H1...\n",
      "25-08-19 23:42:32.680 pyfstat.utils.sft INFO    : Loading 1 SFTs from H1...\n"
     ]
    },
    {
     "name": "stderr",
     "output_type": "stream",
     "text": [
      " 20%|█▉        | 1427/7200 [00:57<03:53, 24.74it/s]"
     ]
    },
    {
     "name": "stdout",
     "output_type": "stream",
     "text": [
      "25-08-19 23:42:32.724 pyfstat.utils.sft INFO    : Loading 1 SFTs from H1...\n",
      "25-08-19 23:42:32.763 pyfstat.utils.sft INFO    : Loading 1 SFTs from H1...\n",
      "25-08-19 23:42:32.797 pyfstat.utils.sft INFO    : Loading 1 SFTs from H1...\n"
     ]
    },
    {
     "name": "stderr",
     "output_type": "stream",
     "text": [
      " 20%|█▉        | 1430/7200 [00:57<03:50, 25.03it/s]"
     ]
    },
    {
     "name": "stdout",
     "output_type": "stream",
     "text": [
      "25-08-19 23:42:32.840 pyfstat.utils.sft INFO    : Loading 1 SFTs from H1...\n",
      "25-08-19 23:42:32.894 pyfstat.utils.sft INFO    : Loading 1 SFTs from H1...\n",
      "25-08-19 23:42:32.933 pyfstat.utils.sft INFO    : Loading 1 SFTs from H1...\n"
     ]
    },
    {
     "name": "stderr",
     "output_type": "stream",
     "text": [
      " 20%|█▉        | 1433/7200 [00:57<03:57, 24.25it/s]"
     ]
    },
    {
     "name": "stdout",
     "output_type": "stream",
     "text": [
      "25-08-19 23:42:32.972 pyfstat.utils.sft INFO    : Loading 1 SFTs from H1...\n",
      "25-08-19 23:42:33.005 pyfstat.utils.sft INFO    : Loading 1 SFTs from H1...\n",
      "25-08-19 23:42:33.038 pyfstat.utils.sft INFO    : Loading 1 SFTs from H1...\n",
      "25-08-19 23:42:33.070 pyfstat.utils.sft INFO    : Loading 1 SFTs from H1...\n"
     ]
    },
    {
     "name": "stderr",
     "output_type": "stream",
     "text": [
      " 20%|█▉        | 1437/7200 [00:58<03:43, 25.81it/s]"
     ]
    },
    {
     "name": "stdout",
     "output_type": "stream",
     "text": [
      "25-08-19 23:42:33.109 pyfstat.utils.sft INFO    : Loading 1 SFTs from H1...\n",
      "25-08-19 23:42:33.149 pyfstat.utils.sft INFO    : Loading 1 SFTs from H1...\n",
      "25-08-19 23:42:33.194 pyfstat.utils.sft INFO    : Loading 1 SFTs from H1...\n"
     ]
    },
    {
     "name": "stderr",
     "output_type": "stream",
     "text": [
      " 20%|██        | 1440/7200 [00:58<03:49, 25.15it/s]"
     ]
    },
    {
     "name": "stdout",
     "output_type": "stream",
     "text": [
      "25-08-19 23:42:33.237 pyfstat.utils.sft INFO    : Loading 1 SFTs from H1...\n",
      "25-08-19 23:42:33.275 pyfstat.utils.sft INFO    : Loading 1 SFTs from H1...\n",
      "25-08-19 23:42:33.314 pyfstat.utils.sft INFO    : Loading 1 SFTs from H1...\n"
     ]
    },
    {
     "name": "stderr",
     "output_type": "stream",
     "text": [
      " 20%|██        | 1443/7200 [00:58<03:49, 25.04it/s]"
     ]
    },
    {
     "name": "stdout",
     "output_type": "stream",
     "text": [
      "25-08-19 23:42:33.355 pyfstat.utils.sft INFO    : Loading 1 SFTs from H1...\n",
      "25-08-19 23:42:33.384 pyfstat.utils.sft INFO    : Loading 1 SFTs from H1...\n",
      "25-08-19 23:42:33.427 pyfstat.utils.sft INFO    : Loading 1 SFTs from H1...\n"
     ]
    },
    {
     "name": "stderr",
     "output_type": "stream",
     "text": [
      " 20%|██        | 1446/7200 [00:58<03:41, 25.94it/s]"
     ]
    },
    {
     "name": "stdout",
     "output_type": "stream",
     "text": [
      "25-08-19 23:42:33.463 pyfstat.utils.sft INFO    : Loading 1 SFTs from H1...\n",
      "25-08-19 23:42:33.505 pyfstat.utils.sft INFO    : Loading 1 SFTs from H1...\n",
      "25-08-19 23:42:33.545 pyfstat.utils.sft INFO    : Loading 1 SFTs from H1...\n"
     ]
    },
    {
     "name": "stderr",
     "output_type": "stream",
     "text": [
      " 20%|██        | 1449/7200 [00:58<03:46, 25.34it/s]"
     ]
    },
    {
     "name": "stdout",
     "output_type": "stream",
     "text": [
      "25-08-19 23:42:33.588 pyfstat.utils.sft INFO    : Loading 1 SFTs from H1...\n",
      "25-08-19 23:42:33.626 pyfstat.utils.sft INFO    : Loading 1 SFTs from H1...\n",
      "25-08-19 23:42:33.665 pyfstat.utils.sft INFO    : Loading 1 SFTs from H1...\n"
     ]
    },
    {
     "name": "stderr",
     "output_type": "stream",
     "text": [
      " 20%|██        | 1452/7200 [00:58<03:45, 25.45it/s]"
     ]
    },
    {
     "name": "stdout",
     "output_type": "stream",
     "text": [
      "25-08-19 23:42:33.705 pyfstat.utils.sft INFO    : Loading 1 SFTs from H1...\n",
      "25-08-19 23:42:33.743 pyfstat.utils.sft INFO    : Loading 1 SFTs from H1...\n",
      "25-08-19 23:42:33.779 pyfstat.utils.sft INFO    : Loading 1 SFTs from H1...\n"
     ]
    },
    {
     "name": "stderr",
     "output_type": "stream",
     "text": [
      " 20%|██        | 1455/7200 [00:58<03:42, 25.80it/s]"
     ]
    },
    {
     "name": "stdout",
     "output_type": "stream",
     "text": [
      "25-08-19 23:42:33.818 pyfstat.utils.sft INFO    : Loading 1 SFTs from H1...\n",
      "25-08-19 23:42:33.857 pyfstat.utils.sft INFO    : Loading 1 SFTs from H1...\n",
      "25-08-19 23:42:33.894 pyfstat.utils.sft INFO    : Loading 1 SFTs from H1...\n"
     ]
    },
    {
     "name": "stderr",
     "output_type": "stream",
     "text": [
      " 20%|██        | 1458/7200 [00:58<03:41, 25.91it/s]"
     ]
    },
    {
     "name": "stdout",
     "output_type": "stream",
     "text": [
      "25-08-19 23:42:33.932 pyfstat.utils.sft INFO    : Loading 1 SFTs from H1...\n",
      "25-08-19 23:42:33.973 pyfstat.utils.sft INFO    : Loading 1 SFTs from H1...\n",
      "25-08-19 23:42:34.009 pyfstat.utils.sft INFO    : Loading 1 SFTs from H1...\n"
     ]
    },
    {
     "name": "stderr",
     "output_type": "stream",
     "text": [
      " 20%|██        | 1461/7200 [00:58<03:32, 26.96it/s]"
     ]
    },
    {
     "name": "stdout",
     "output_type": "stream",
     "text": [
      "25-08-19 23:42:34.033 pyfstat.utils.sft INFO    : Loading 1 SFTs from H1...\n",
      "25-08-19 23:42:34.071 pyfstat.utils.sft INFO    : Loading 1 SFTs from H1...\n",
      "25-08-19 23:42:34.110 pyfstat.utils.sft INFO    : Loading 1 SFTs from H1...\n"
     ]
    },
    {
     "name": "stderr",
     "output_type": "stream",
     "text": [
      " 20%|██        | 1464/7200 [00:59<03:35, 26.59it/s]"
     ]
    },
    {
     "name": "stdout",
     "output_type": "stream",
     "text": [
      "25-08-19 23:42:34.149 pyfstat.utils.sft INFO    : Loading 1 SFTs from H1...\n",
      "25-08-19 23:42:34.187 pyfstat.utils.sft INFO    : Loading 1 SFTs from H1...\n",
      "25-08-19 23:42:34.226 pyfstat.utils.sft INFO    : Loading 1 SFTs from H1...\n"
     ]
    },
    {
     "name": "stderr",
     "output_type": "stream",
     "text": [
      " 20%|██        | 1467/7200 [00:59<03:36, 26.49it/s]"
     ]
    },
    {
     "name": "stdout",
     "output_type": "stream",
     "text": [
      "25-08-19 23:42:34.263 pyfstat.utils.sft INFO    : Loading 1 SFTs from H1...\n",
      "25-08-19 23:42:34.301 pyfstat.utils.sft INFO    : Loading 1 SFTs from H1...\n",
      "25-08-19 23:42:34.338 pyfstat.utils.sft INFO    : Loading 1 SFTs from H1...\n"
     ]
    },
    {
     "name": "stderr",
     "output_type": "stream",
     "text": [
      " 20%|██        | 1470/7200 [00:59<03:35, 26.60it/s]"
     ]
    },
    {
     "name": "stdout",
     "output_type": "stream",
     "text": [
      "25-08-19 23:42:34.375 pyfstat.utils.sft INFO    : Loading 1 SFTs from H1...\n",
      "25-08-19 23:42:34.413 pyfstat.utils.sft INFO    : Loading 1 SFTs from H1...\n",
      "25-08-19 23:42:34.454 pyfstat.utils.sft INFO    : Loading 1 SFTs from H1...\n"
     ]
    },
    {
     "name": "stderr",
     "output_type": "stream",
     "text": [
      " 20%|██        | 1473/7200 [00:59<03:39, 26.12it/s]"
     ]
    },
    {
     "name": "stdout",
     "output_type": "stream",
     "text": [
      "25-08-19 23:42:34.495 pyfstat.utils.sft INFO    : Loading 1 SFTs from H1...\n",
      "25-08-19 23:42:34.537 pyfstat.utils.sft INFO    : Loading 1 SFTs from H1...\n",
      "25-08-19 23:42:34.575 pyfstat.utils.sft INFO    : Loading 1 SFTs from H1...\n"
     ]
    },
    {
     "name": "stderr",
     "output_type": "stream",
     "text": [
      " 20%|██        | 1476/7200 [00:59<03:40, 25.93it/s]"
     ]
    },
    {
     "name": "stdout",
     "output_type": "stream",
     "text": [
      "25-08-19 23:42:34.613 pyfstat.utils.sft INFO    : Loading 1 SFTs from H1...\n",
      "25-08-19 23:42:34.651 pyfstat.utils.sft INFO    : Loading 1 SFTs from H1...\n",
      "25-08-19 23:42:34.693 pyfstat.utils.sft INFO    : Loading 1 SFTs from H1...\n"
     ]
    },
    {
     "name": "stderr",
     "output_type": "stream",
     "text": [
      " 21%|██        | 1479/7200 [00:59<03:44, 25.48it/s]"
     ]
    },
    {
     "name": "stdout",
     "output_type": "stream",
     "text": [
      "25-08-19 23:42:34.735 pyfstat.utils.sft INFO    : Loading 1 SFTs from H1...\n",
      "25-08-19 23:42:34.776 pyfstat.utils.sft INFO    : Loading 1 SFTs from H1...\n",
      "25-08-19 23:42:34.820 pyfstat.utils.sft INFO    : Loading 1 SFTs from H1...\n"
     ]
    },
    {
     "name": "stderr",
     "output_type": "stream",
     "text": [
      " 21%|██        | 1482/7200 [00:59<03:48, 25.02it/s]"
     ]
    },
    {
     "name": "stdout",
     "output_type": "stream",
     "text": [
      "25-08-19 23:42:34.860 pyfstat.utils.sft INFO    : Loading 1 SFTs from H1...\n",
      "25-08-19 23:42:34.899 pyfstat.utils.sft INFO    : Loading 1 SFTs from H1...\n",
      "25-08-19 23:42:34.943 pyfstat.utils.sft INFO    : Loading 1 SFTs from H1...\n"
     ]
    },
    {
     "name": "stderr",
     "output_type": "stream",
     "text": [
      " 21%|██        | 1485/7200 [00:59<03:48, 25.06it/s]"
     ]
    },
    {
     "name": "stdout",
     "output_type": "stream",
     "text": [
      "25-08-19 23:42:34.980 pyfstat.utils.sft INFO    : Loading 1 SFTs from H1...\n",
      "25-08-19 23:42:35.022 pyfstat.utils.sft INFO    : Loading 1 SFTs from H1...\n",
      "25-08-19 23:42:35.061 pyfstat.utils.sft INFO    : Loading 1 SFTs from H1...\n"
     ]
    },
    {
     "name": "stderr",
     "output_type": "stream",
     "text": [
      " 21%|██        | 1488/7200 [01:00<03:49, 24.84it/s]"
     ]
    },
    {
     "name": "stdout",
     "output_type": "stream",
     "text": [
      "25-08-19 23:42:35.106 pyfstat.utils.sft INFO    : Loading 1 SFTs from H1...\n",
      "25-08-19 23:42:35.152 pyfstat.utils.sft INFO    : Loading 1 SFTs from H1...\n",
      "25-08-19 23:42:35.191 pyfstat.utils.sft INFO    : Loading 1 SFTs from H1...\n"
     ]
    },
    {
     "name": "stderr",
     "output_type": "stream",
     "text": [
      " 21%|██        | 1491/7200 [01:00<03:50, 24.80it/s]"
     ]
    },
    {
     "name": "stdout",
     "output_type": "stream",
     "text": [
      "25-08-19 23:42:35.224 pyfstat.utils.sft INFO    : Loading 1 SFTs from H1...\n",
      "25-08-19 23:42:35.264 pyfstat.utils.sft INFO    : Loading 1 SFTs from H1...\n",
      "25-08-19 23:42:35.304 pyfstat.utils.sft INFO    : Loading 1 SFTs from H1...\n"
     ]
    },
    {
     "name": "stderr",
     "output_type": "stream",
     "text": [
      " 21%|██        | 1494/7200 [01:00<03:49, 24.81it/s]"
     ]
    },
    {
     "name": "stdout",
     "output_type": "stream",
     "text": [
      "25-08-19 23:42:35.344 pyfstat.utils.sft INFO    : Loading 1 SFTs from H1...\n",
      "25-08-19 23:42:35.383 pyfstat.utils.sft INFO    : Loading 1 SFTs from H1...\n",
      "25-08-19 23:42:35.422 pyfstat.utils.sft INFO    : Loading 1 SFTs from H1...\n"
     ]
    },
    {
     "name": "stderr",
     "output_type": "stream",
     "text": [
      " 21%|██        | 1497/7200 [01:00<03:47, 25.08it/s]"
     ]
    },
    {
     "name": "stdout",
     "output_type": "stream",
     "text": [
      "25-08-19 23:42:35.461 pyfstat.utils.sft INFO    : Loading 1 SFTs from H1...\n",
      "25-08-19 23:42:35.493 pyfstat.utils.sft INFO    : Loading 1 SFTs from H1...\n",
      "25-08-19 23:42:35.532 pyfstat.utils.sft INFO    : Loading 1 SFTs from H1...\n"
     ]
    },
    {
     "name": "stderr",
     "output_type": "stream",
     "text": [
      " 21%|██        | 1500/7200 [01:00<03:42, 25.57it/s]"
     ]
    },
    {
     "name": "stdout",
     "output_type": "stream",
     "text": [
      "25-08-19 23:42:35.574 pyfstat.utils.sft INFO    : Loading 1 SFTs from H1...\n",
      "25-08-19 23:42:35.613 pyfstat.utils.sft INFO    : Loading 1 SFTs from H1...\n",
      "25-08-19 23:42:35.650 pyfstat.utils.sft INFO    : Loading 1 SFTs from H1...\n"
     ]
    },
    {
     "name": "stderr",
     "output_type": "stream",
     "text": [
      " 21%|██        | 1503/7200 [01:00<03:41, 25.71it/s]"
     ]
    },
    {
     "name": "stdout",
     "output_type": "stream",
     "text": [
      "25-08-19 23:42:35.689 pyfstat.utils.sft INFO    : Loading 1 SFTs from H1...\n",
      "25-08-19 23:42:35.731 pyfstat.utils.sft INFO    : Loading 1 SFTs from H1...\n",
      "25-08-19 23:42:35.771 pyfstat.utils.sft INFO    : Loading 1 SFTs from H1...\n"
     ]
    },
    {
     "name": "stderr",
     "output_type": "stream",
     "text": [
      " 21%|██        | 1506/7200 [01:00<03:42, 25.63it/s]"
     ]
    },
    {
     "name": "stdout",
     "output_type": "stream",
     "text": [
      "25-08-19 23:42:35.807 pyfstat.utils.sft INFO    : Loading 1 SFTs from H1...\n",
      "25-08-19 23:42:35.848 pyfstat.utils.sft INFO    : Loading 1 SFTs from H1...\n",
      "25-08-19 23:42:35.887 pyfstat.utils.sft INFO    : Loading 1 SFTs from H1...\n"
     ]
    },
    {
     "name": "stderr",
     "output_type": "stream",
     "text": [
      " 21%|██        | 1509/7200 [01:00<03:44, 25.37it/s]"
     ]
    },
    {
     "name": "stdout",
     "output_type": "stream",
     "text": [
      "25-08-19 23:42:35.927 pyfstat.utils.sft INFO    : Loading 1 SFTs from H1...\n",
      "25-08-19 23:42:35.970 pyfstat.utils.sft INFO    : Loading 1 SFTs from H1...\n",
      "25-08-19 23:42:36.009 pyfstat.utils.sft INFO    : Loading 1 SFTs from H1...\n"
     ]
    },
    {
     "name": "stderr",
     "output_type": "stream",
     "text": [
      " 21%|██        | 1512/7200 [01:01<03:44, 25.34it/s]"
     ]
    },
    {
     "name": "stdout",
     "output_type": "stream",
     "text": [
      "25-08-19 23:42:36.047 pyfstat.utils.sft INFO    : Loading 1 SFTs from H1...\n",
      "25-08-19 23:42:36.088 pyfstat.utils.sft INFO    : Loading 1 SFTs from H1...\n",
      "25-08-19 23:42:36.128 pyfstat.utils.sft INFO    : Loading 1 SFTs from H1...\n"
     ]
    },
    {
     "name": "stderr",
     "output_type": "stream",
     "text": [
      " 21%|██        | 1515/7200 [01:01<03:48, 24.88it/s]"
     ]
    },
    {
     "name": "stdout",
     "output_type": "stream",
     "text": [
      "25-08-19 23:42:36.172 pyfstat.utils.sft INFO    : Loading 1 SFTs from H1...\n",
      "25-08-19 23:42:36.214 pyfstat.utils.sft INFO    : Loading 1 SFTs from H1...\n",
      "25-08-19 23:42:36.258 pyfstat.utils.sft INFO    : Loading 1 SFTs from H1...\n"
     ]
    },
    {
     "name": "stderr",
     "output_type": "stream",
     "text": [
      " 21%|██        | 1518/7200 [01:01<03:46, 25.13it/s]"
     ]
    },
    {
     "name": "stdout",
     "output_type": "stream",
     "text": [
      "25-08-19 23:42:36.288 pyfstat.utils.sft INFO    : Loading 1 SFTs from H1...\n",
      "25-08-19 23:42:36.330 pyfstat.utils.sft INFO    : Loading 1 SFTs from H1...\n",
      "25-08-19 23:42:36.372 pyfstat.utils.sft INFO    : Loading 1 SFTs from H1...\n"
     ]
    },
    {
     "name": "stderr",
     "output_type": "stream",
     "text": [
      " 21%|██        | 1521/7200 [01:01<03:49, 24.79it/s]"
     ]
    },
    {
     "name": "stdout",
     "output_type": "stream",
     "text": [
      "25-08-19 23:42:36.414 pyfstat.utils.sft INFO    : Loading 1 SFTs from H1...\n",
      "25-08-19 23:42:36.455 pyfstat.utils.sft INFO    : Loading 1 SFTs from H1...\n",
      "25-08-19 23:42:36.496 pyfstat.utils.sft INFO    : Loading 1 SFTs from H1...\n"
     ]
    },
    {
     "name": "stderr",
     "output_type": "stream",
     "text": [
      " 21%|██        | 1524/7200 [01:01<03:54, 24.21it/s]"
     ]
    },
    {
     "name": "stdout",
     "output_type": "stream",
     "text": [
      "25-08-19 23:42:36.544 pyfstat.utils.sft INFO    : Loading 1 SFTs from H1...\n",
      "25-08-19 23:42:36.585 pyfstat.utils.sft INFO    : Loading 1 SFTs from H1...\n",
      "25-08-19 23:42:36.624 pyfstat.utils.sft INFO    : Loading 1 SFTs from H1...\n"
     ]
    },
    {
     "name": "stderr",
     "output_type": "stream",
     "text": [
      " 21%|██        | 1527/7200 [01:01<03:54, 24.18it/s]"
     ]
    },
    {
     "name": "stdout",
     "output_type": "stream",
     "text": [
      "25-08-19 23:42:36.669 pyfstat.utils.sft INFO    : Loading 1 SFTs from H1...\n",
      "25-08-19 23:42:36.708 pyfstat.utils.sft INFO    : Loading 1 SFTs from H1...\n",
      "25-08-19 23:42:36.746 pyfstat.utils.sft INFO    : Loading 1 SFTs from H1...\n"
     ]
    },
    {
     "name": "stderr",
     "output_type": "stream",
     "text": [
      " 21%|██▏       | 1530/7200 [01:01<03:51, 24.51it/s]"
     ]
    },
    {
     "name": "stdout",
     "output_type": "stream",
     "text": [
      "25-08-19 23:42:36.787 pyfstat.utils.sft INFO    : Loading 1 SFTs from H1...\n",
      "25-08-19 23:42:36.826 pyfstat.utils.sft INFO    : Loading 1 SFTs from H1...\n",
      "25-08-19 23:42:36.861 pyfstat.utils.sft INFO    : Loading 1 SFTs from H1...\n",
      "25-08-19 23:42:36.876 pyfstat.utils.sft INFO    : Loading 1 SFTs from H1...\n"
     ]
    },
    {
     "name": "stderr",
     "output_type": "stream",
     "text": [
      " 21%|██▏       | 1534/7200 [01:01<03:35, 26.29it/s]"
     ]
    },
    {
     "name": "stdout",
     "output_type": "stream",
     "text": [
      "25-08-19 23:42:36.920 pyfstat.utils.sft INFO    : Loading 1 SFTs from H1...\n",
      "25-08-19 23:42:36.961 pyfstat.utils.sft INFO    : Loading 1 SFTs from H1...\n",
      "25-08-19 23:42:36.994 pyfstat.utils.sft INFO    : Loading 1 SFTs from H1...\n"
     ]
    },
    {
     "name": "stderr",
     "output_type": "stream",
     "text": [
      " 21%|██▏       | 1537/7200 [01:01<03:35, 26.28it/s]"
     ]
    },
    {
     "name": "stdout",
     "output_type": "stream",
     "text": [
      "25-08-19 23:42:37.034 pyfstat.utils.sft INFO    : Loading 1 SFTs from H1...\n",
      "25-08-19 23:42:37.073 pyfstat.utils.sft INFO    : Loading 1 SFTs from H1...\n",
      "25-08-19 23:42:37.115 pyfstat.utils.sft INFO    : Loading 1 SFTs from H1...\n"
     ]
    },
    {
     "name": "stderr",
     "output_type": "stream",
     "text": [
      " 21%|██▏       | 1540/7200 [01:02<03:38, 25.87it/s]"
     ]
    },
    {
     "name": "stdout",
     "output_type": "stream",
     "text": [
      "25-08-19 23:42:37.154 pyfstat.utils.sft INFO    : Loading 1 SFTs from H1...\n",
      "25-08-19 23:42:37.195 pyfstat.utils.sft INFO    : Loading 1 SFTs from H1...\n",
      "25-08-19 23:42:37.238 pyfstat.utils.sft INFO    : Loading 1 SFTs from H1...\n"
     ]
    },
    {
     "name": "stderr",
     "output_type": "stream",
     "text": [
      " 21%|██▏       | 1543/7200 [01:02<03:43, 25.31it/s]"
     ]
    },
    {
     "name": "stdout",
     "output_type": "stream",
     "text": [
      "25-08-19 23:42:37.279 pyfstat.utils.sft INFO    : Loading 1 SFTs from H1...\n",
      "25-08-19 23:42:37.321 pyfstat.utils.sft INFO    : Loading 1 SFTs from H1...\n",
      "25-08-19 23:42:37.360 pyfstat.utils.sft INFO    : Loading 1 SFTs from H1...\n"
     ]
    },
    {
     "name": "stderr",
     "output_type": "stream",
     "text": [
      " 21%|██▏       | 1546/7200 [01:02<03:45, 25.04it/s]"
     ]
    },
    {
     "name": "stdout",
     "output_type": "stream",
     "text": [
      "25-08-19 23:42:37.403 pyfstat.utils.sft INFO    : Loading 1 SFTs from H1...\n",
      "25-08-19 23:42:37.439 pyfstat.utils.sft INFO    : Loading 1 SFTs from H1...\n",
      "25-08-19 23:42:37.480 pyfstat.utils.sft INFO    : Loading 1 SFTs from H1...\n"
     ]
    },
    {
     "name": "stderr",
     "output_type": "stream",
     "text": [
      " 22%|██▏       | 1549/7200 [01:02<03:45, 25.05it/s]"
     ]
    },
    {
     "name": "stdout",
     "output_type": "stream",
     "text": [
      "25-08-19 23:42:37.522 pyfstat.utils.sft INFO    : Loading 1 SFTs from H1...\n",
      "25-08-19 23:42:37.561 pyfstat.utils.sft INFO    : Loading 1 SFTs from H1...\n",
      "25-08-19 23:42:37.602 pyfstat.utils.sft INFO    : Loading 1 SFTs from H1...\n"
     ]
    },
    {
     "name": "stderr",
     "output_type": "stream",
     "text": [
      " 22%|██▏       | 1552/7200 [01:02<03:46, 24.89it/s]"
     ]
    },
    {
     "name": "stdout",
     "output_type": "stream",
     "text": [
      "25-08-19 23:42:37.644 pyfstat.utils.sft INFO    : Loading 1 SFTs from H1...\n",
      "25-08-19 23:42:37.683 pyfstat.utils.sft INFO    : Loading 1 SFTs from H1...\n",
      "25-08-19 23:42:37.722 pyfstat.utils.sft INFO    : Loading 1 SFTs from H1...\n"
     ]
    },
    {
     "name": "stderr",
     "output_type": "stream",
     "text": [
      " 22%|██▏       | 1555/7200 [01:02<03:46, 24.97it/s]"
     ]
    },
    {
     "name": "stdout",
     "output_type": "stream",
     "text": [
      "25-08-19 23:42:37.764 pyfstat.utils.sft INFO    : Loading 1 SFTs from H1...\n",
      "25-08-19 23:42:37.806 pyfstat.utils.sft INFO    : Loading 1 SFTs from H1...\n",
      "25-08-19 23:42:37.847 pyfstat.utils.sft INFO    : Loading 1 SFTs from H1...\n"
     ]
    },
    {
     "name": "stderr",
     "output_type": "stream",
     "text": [
      " 22%|██▏       | 1558/7200 [01:02<03:48, 24.74it/s]"
     ]
    },
    {
     "name": "stdout",
     "output_type": "stream",
     "text": [
      "25-08-19 23:42:37.888 pyfstat.utils.sft INFO    : Loading 1 SFTs from H1...\n",
      "25-08-19 23:42:37.930 pyfstat.utils.sft INFO    : Loading 1 SFTs from H1...\n",
      "25-08-19 23:42:37.972 pyfstat.utils.sft INFO    : Loading 1 SFTs from H1...\n"
     ]
    },
    {
     "name": "stderr",
     "output_type": "stream",
     "text": [
      " 22%|██▏       | 1561/7200 [01:02<03:49, 24.56it/s]"
     ]
    },
    {
     "name": "stdout",
     "output_type": "stream",
     "text": [
      "25-08-19 23:42:38.011 pyfstat.utils.sft INFO    : Loading 1 SFTs from H1...\n",
      "25-08-19 23:42:38.050 pyfstat.utils.sft INFO    : Loading 1 SFTs from H1...\n",
      "25-08-19 23:42:38.095 pyfstat.utils.sft INFO    : Loading 1 SFTs from H1...\n"
     ]
    },
    {
     "name": "stderr",
     "output_type": "stream",
     "text": [
      " 22%|██▏       | 1564/7200 [01:03<03:50, 24.40it/s]"
     ]
    },
    {
     "name": "stdout",
     "output_type": "stream",
     "text": [
      "25-08-19 23:42:38.136 pyfstat.utils.sft INFO    : Loading 1 SFTs from H1...\n",
      "25-08-19 23:42:38.171 pyfstat.utils.sft INFO    : Loading 1 SFTs from H1...\n",
      "25-08-19 23:42:38.209 pyfstat.utils.sft INFO    : Loading 1 SFTs from H1...\n"
     ]
    },
    {
     "name": "stderr",
     "output_type": "stream",
     "text": [
      " 22%|██▏       | 1567/7200 [01:03<03:46, 24.92it/s]"
     ]
    },
    {
     "name": "stdout",
     "output_type": "stream",
     "text": [
      "25-08-19 23:42:38.251 pyfstat.utils.sft INFO    : Loading 1 SFTs from H1...\n",
      "25-08-19 23:42:38.294 pyfstat.utils.sft INFO    : Loading 1 SFTs from H1...\n",
      "25-08-19 23:42:38.336 pyfstat.utils.sft INFO    : Loading 1 SFTs from H1...\n"
     ]
    },
    {
     "name": "stderr",
     "output_type": "stream",
     "text": [
      " 22%|██▏       | 1570/7200 [01:03<03:48, 24.65it/s]"
     ]
    },
    {
     "name": "stdout",
     "output_type": "stream",
     "text": [
      "25-08-19 23:42:38.375 pyfstat.utils.sft INFO    : Loading 1 SFTs from H1...\n",
      "25-08-19 23:42:38.414 pyfstat.utils.sft INFO    : Loading 1 SFTs from H1...\n",
      "25-08-19 23:42:38.447 pyfstat.utils.sft INFO    : Loading 1 SFTs from H1...\n"
     ]
    },
    {
     "name": "stderr",
     "output_type": "stream",
     "text": [
      " 22%|██▏       | 1573/7200 [01:03<03:43, 25.22it/s]"
     ]
    },
    {
     "name": "stdout",
     "output_type": "stream",
     "text": [
      "25-08-19 23:42:38.488 pyfstat.utils.sft INFO    : Loading 1 SFTs from H1...\n",
      "25-08-19 23:42:38.528 pyfstat.utils.sft INFO    : Loading 1 SFTs from H1...\n",
      "25-08-19 23:42:38.554 pyfstat.utils.sft INFO    : Loading 1 SFTs from H1...\n"
     ]
    },
    {
     "name": "stderr",
     "output_type": "stream",
     "text": [
      " 22%|██▏       | 1576/7200 [01:03<03:35, 26.08it/s]"
     ]
    },
    {
     "name": "stdout",
     "output_type": "stream",
     "text": [
      "25-08-19 23:42:38.594 pyfstat.utils.sft INFO    : Loading 1 SFTs from H1...\n",
      "25-08-19 23:42:38.637 pyfstat.utils.sft INFO    : Loading 1 SFTs from H1...\n",
      "25-08-19 23:42:38.678 pyfstat.utils.sft INFO    : Loading 1 SFTs from H1...\n"
     ]
    },
    {
     "name": "stderr",
     "output_type": "stream",
     "text": [
      " 22%|██▏       | 1579/7200 [01:03<03:42, 25.27it/s]"
     ]
    },
    {
     "name": "stdout",
     "output_type": "stream",
     "text": [
      "25-08-19 23:42:38.721 pyfstat.utils.sft INFO    : Loading 1 SFTs from H1...\n",
      "25-08-19 23:42:38.763 pyfstat.utils.sft INFO    : Loading 1 SFTs from H1...\n",
      "25-08-19 23:42:38.804 pyfstat.utils.sft INFO    : Loading 1 SFTs from H1...\n"
     ]
    },
    {
     "name": "stderr",
     "output_type": "stream",
     "text": [
      " 22%|██▏       | 1582/7200 [01:03<03:46, 24.83it/s]"
     ]
    },
    {
     "name": "stdout",
     "output_type": "stream",
     "text": [
      "25-08-19 23:42:38.847 pyfstat.utils.sft INFO    : Loading 1 SFTs from H1...\n",
      "25-08-19 23:42:38.886 pyfstat.utils.sft INFO    : Loading 1 SFTs from H1...\n",
      "25-08-19 23:42:38.929 pyfstat.utils.sft INFO    : Loading 1 SFTs from H1...\n"
     ]
    },
    {
     "name": "stderr",
     "output_type": "stream",
     "text": [
      " 22%|██▏       | 1585/7200 [01:03<03:39, 25.55it/s]"
     ]
    },
    {
     "name": "stdout",
     "output_type": "stream",
     "text": [
      "25-08-19 23:42:38.956 pyfstat.utils.sft INFO    : Loading 1 SFTs from H1...\n",
      "25-08-19 23:42:38.996 pyfstat.utils.sft INFO    : Loading 1 SFTs from H1...\n",
      "25-08-19 23:42:39.034 pyfstat.utils.sft INFO    : Loading 1 SFTs from H1...\n"
     ]
    },
    {
     "name": "stderr",
     "output_type": "stream",
     "text": [
      " 22%|██▏       | 1588/7200 [01:04<03:40, 25.51it/s]"
     ]
    },
    {
     "name": "stdout",
     "output_type": "stream",
     "text": [
      "25-08-19 23:42:39.074 pyfstat.utils.sft INFO    : Loading 1 SFTs from H1...\n",
      "25-08-19 23:42:39.114 pyfstat.utils.sft INFO    : Loading 1 SFTs from H1...\n",
      "25-08-19 23:42:39.154 pyfstat.utils.sft INFO    : Loading 1 SFTs from H1...\n"
     ]
    },
    {
     "name": "stderr",
     "output_type": "stream",
     "text": [
      " 22%|██▏       | 1591/7200 [01:04<03:40, 25.49it/s]"
     ]
    },
    {
     "name": "stdout",
     "output_type": "stream",
     "text": [
      "25-08-19 23:42:39.192 pyfstat.utils.sft INFO    : Loading 1 SFTs from H1...\n",
      "25-08-19 23:42:39.231 pyfstat.utils.sft INFO    : Loading 1 SFTs from H1...\n",
      "25-08-19 23:42:39.271 pyfstat.utils.sft INFO    : Loading 1 SFTs from H1...\n"
     ]
    },
    {
     "name": "stderr",
     "output_type": "stream",
     "text": [
      " 22%|██▏       | 1594/7200 [01:04<03:40, 25.48it/s]"
     ]
    },
    {
     "name": "stdout",
     "output_type": "stream",
     "text": [
      "25-08-19 23:42:39.310 pyfstat.utils.sft INFO    : Loading 1 SFTs from H1...\n",
      "25-08-19 23:42:39.346 pyfstat.utils.sft INFO    : Loading 1 SFTs from H1...\n",
      "25-08-19 23:42:39.382 pyfstat.utils.sft INFO    : Loading 1 SFTs from H1...\n"
     ]
    },
    {
     "name": "stderr",
     "output_type": "stream",
     "text": [
      " 22%|██▏       | 1597/7200 [01:04<03:37, 25.75it/s]"
     ]
    },
    {
     "name": "stdout",
     "output_type": "stream",
     "text": [
      "25-08-19 23:42:39.423 pyfstat.utils.sft INFO    : Loading 1 SFTs from H1...\n",
      "25-08-19 23:42:39.462 pyfstat.utils.sft INFO    : Loading 1 SFTs from H1...\n",
      "25-08-19 23:42:39.500 pyfstat.utils.sft INFO    : Loading 1 SFTs from H1...\n"
     ]
    },
    {
     "name": "stderr",
     "output_type": "stream",
     "text": [
      " 22%|██▏       | 1600/7200 [01:04<03:37, 25.76it/s]"
     ]
    },
    {
     "name": "stdout",
     "output_type": "stream",
     "text": [
      "25-08-19 23:42:39.541 pyfstat.utils.sft INFO    : Loading 1 SFTs from H1...\n",
      "25-08-19 23:42:39.584 pyfstat.utils.sft INFO    : Loading 1 SFTs from H1...\n",
      "25-08-19 23:42:39.622 pyfstat.utils.sft INFO    : Loading 1 SFTs from H1...\n"
     ]
    },
    {
     "name": "stderr",
     "output_type": "stream",
     "text": [
      " 22%|██▏       | 1603/7200 [01:04<03:40, 25.39it/s]"
     ]
    },
    {
     "name": "stdout",
     "output_type": "stream",
     "text": [
      "25-08-19 23:42:39.662 pyfstat.utils.sft INFO    : Loading 1 SFTs from H1...\n",
      "25-08-19 23:42:39.701 pyfstat.utils.sft INFO    : Loading 1 SFTs from H1...\n",
      "25-08-19 23:42:39.742 pyfstat.utils.sft INFO    : Loading 1 SFTs from H1...\n"
     ]
    },
    {
     "name": "stderr",
     "output_type": "stream",
     "text": [
      " 22%|██▏       | 1606/7200 [01:04<03:40, 25.35it/s]"
     ]
    },
    {
     "name": "stdout",
     "output_type": "stream",
     "text": [
      "25-08-19 23:42:39.781 pyfstat.utils.sft INFO    : Loading 1 SFTs from H1...\n",
      "25-08-19 23:42:39.815 pyfstat.utils.sft INFO    : Loading 1 SFTs from H1...\n",
      "25-08-19 23:42:39.853 pyfstat.utils.sft INFO    : Loading 1 SFTs from H1...\n"
     ]
    },
    {
     "name": "stderr",
     "output_type": "stream",
     "text": [
      " 22%|██▏       | 1609/7200 [01:04<03:36, 25.85it/s]"
     ]
    },
    {
     "name": "stdout",
     "output_type": "stream",
     "text": [
      "25-08-19 23:42:39.892 pyfstat.utils.sft INFO    : Loading 1 SFTs from H1...\n",
      "25-08-19 23:42:39.931 pyfstat.utils.sft INFO    : Loading 1 SFTs from H1...\n",
      "25-08-19 23:42:39.968 pyfstat.utils.sft INFO    : Loading 1 SFTs from H1...\n"
     ]
    },
    {
     "name": "stderr",
     "output_type": "stream",
     "text": [
      " 22%|██▏       | 1612/7200 [01:04<03:35, 25.88it/s]"
     ]
    },
    {
     "name": "stdout",
     "output_type": "stream",
     "text": [
      "25-08-19 23:42:40.007 pyfstat.utils.sft INFO    : Loading 1 SFTs from H1...\n",
      "25-08-19 23:42:40.047 pyfstat.utils.sft INFO    : Loading 1 SFTs from H1...\n",
      "25-08-19 23:42:40.083 pyfstat.utils.sft INFO    : Loading 1 SFTs from H1...\n"
     ]
    },
    {
     "name": "stderr",
     "output_type": "stream",
     "text": [
      " 22%|██▏       | 1615/7200 [01:05<03:35, 25.96it/s]"
     ]
    },
    {
     "name": "stdout",
     "output_type": "stream",
     "text": [
      "25-08-19 23:42:40.122 pyfstat.utils.sft INFO    : Loading 1 SFTs from H1...\n",
      "25-08-19 23:42:40.161 pyfstat.utils.sft INFO    : Loading 1 SFTs from H1...\n",
      "25-08-19 23:42:40.199 pyfstat.utils.sft INFO    : Loading 1 SFTs from H1...\n"
     ]
    },
    {
     "name": "stderr",
     "output_type": "stream",
     "text": [
      " 22%|██▏       | 1618/7200 [01:05<03:36, 25.79it/s]"
     ]
    },
    {
     "name": "stdout",
     "output_type": "stream",
     "text": [
      "25-08-19 23:42:40.240 pyfstat.utils.sft INFO    : Loading 1 SFTs from H1...\n",
      "25-08-19 23:42:40.281 pyfstat.utils.sft INFO    : Loading 1 SFTs from H1...\n",
      "25-08-19 23:42:40.319 pyfstat.utils.sft INFO    : Loading 1 SFTs from H1...\n"
     ]
    },
    {
     "name": "stderr",
     "output_type": "stream",
     "text": [
      " 23%|██▎       | 1621/7200 [01:05<03:37, 25.68it/s]"
     ]
    },
    {
     "name": "stdout",
     "output_type": "stream",
     "text": [
      "25-08-19 23:42:40.359 pyfstat.utils.sft INFO    : Loading 1 SFTs from H1...\n",
      "25-08-19 23:42:40.399 pyfstat.utils.sft INFO    : Loading 1 SFTs from H1...\n",
      "25-08-19 23:42:40.437 pyfstat.utils.sft INFO    : Loading 1 SFTs from H1...\n"
     ]
    },
    {
     "name": "stderr",
     "output_type": "stream",
     "text": [
      " 23%|██▎       | 1624/7200 [01:05<03:38, 25.47it/s]"
     ]
    },
    {
     "name": "stdout",
     "output_type": "stream",
     "text": [
      "25-08-19 23:42:40.478 pyfstat.utils.sft INFO    : Loading 1 SFTs from H1...\n",
      "25-08-19 23:42:40.519 pyfstat.utils.sft INFO    : Loading 1 SFTs from H1...\n",
      "25-08-19 23:42:40.559 pyfstat.utils.sft INFO    : Loading 1 SFTs from H1...\n"
     ]
    },
    {
     "name": "stderr",
     "output_type": "stream",
     "text": [
      " 23%|██▎       | 1627/7200 [01:05<03:42, 25.10it/s]"
     ]
    },
    {
     "name": "stdout",
     "output_type": "stream",
     "text": [
      "25-08-19 23:42:40.601 pyfstat.utils.sft INFO    : Loading 1 SFTs from H1...\n",
      "25-08-19 23:42:40.640 pyfstat.utils.sft INFO    : Loading 1 SFTs from H1...\n",
      "25-08-19 23:42:40.679 pyfstat.utils.sft INFO    : Loading 1 SFTs from H1...\n"
     ]
    },
    {
     "name": "stderr",
     "output_type": "stream",
     "text": [
      " 23%|██▎       | 1630/7200 [01:05<03:41, 25.17it/s]"
     ]
    },
    {
     "name": "stdout",
     "output_type": "stream",
     "text": [
      "25-08-19 23:42:40.721 pyfstat.utils.sft INFO    : Loading 1 SFTs from H1...\n",
      "25-08-19 23:42:40.762 pyfstat.utils.sft INFO    : Loading 1 SFTs from H1...\n",
      "25-08-19 23:42:40.806 pyfstat.utils.sft INFO    : Loading 1 SFTs from H1...\n"
     ]
    },
    {
     "name": "stderr",
     "output_type": "stream",
     "text": [
      " 23%|██▎       | 1633/7200 [01:05<03:48, 24.41it/s]"
     ]
    },
    {
     "name": "stdout",
     "output_type": "stream",
     "text": [
      "25-08-19 23:42:40.853 pyfstat.utils.sft INFO    : Loading 1 SFTs from H1...\n",
      "25-08-19 23:42:40.898 pyfstat.utils.sft INFO    : Loading 1 SFTs from H1...\n",
      "25-08-19 23:42:40.938 pyfstat.utils.sft INFO    : Loading 1 SFTs from H1...\n"
     ]
    },
    {
     "name": "stderr",
     "output_type": "stream",
     "text": [
      " 23%|██▎       | 1636/7200 [01:05<03:49, 24.29it/s]"
     ]
    },
    {
     "name": "stdout",
     "output_type": "stream",
     "text": [
      "25-08-19 23:42:40.977 pyfstat.utils.sft INFO    : Loading 1 SFTs from H1...\n",
      "25-08-19 23:42:41.015 pyfstat.utils.sft INFO    : Loading 1 SFTs from H1...\n",
      "25-08-19 23:42:41.055 pyfstat.utils.sft INFO    : Loading 1 SFTs from H1...\n"
     ]
    },
    {
     "name": "stderr",
     "output_type": "stream",
     "text": [
      " 23%|██▎       | 1639/7200 [01:06<03:49, 24.20it/s]"
     ]
    },
    {
     "name": "stdout",
     "output_type": "stream",
     "text": [
      "25-08-19 23:42:41.102 pyfstat.utils.sft INFO    : Loading 1 SFTs from H1...\n",
      "25-08-19 23:42:41.145 pyfstat.utils.sft INFO    : Loading 1 SFTs from H1...\n",
      "25-08-19 23:42:41.189 pyfstat.utils.sft INFO    : Loading 1 SFTs from H1...\n"
     ]
    },
    {
     "name": "stderr",
     "output_type": "stream",
     "text": [
      " 23%|██▎       | 1642/7200 [01:06<03:51, 24.04it/s]"
     ]
    },
    {
     "name": "stdout",
     "output_type": "stream",
     "text": [
      "25-08-19 23:42:41.229 pyfstat.utils.sft INFO    : Loading 1 SFTs from H1...\n",
      "25-08-19 23:42:41.261 pyfstat.utils.sft INFO    : Loading 1 SFTs from H1...\n",
      "25-08-19 23:42:41.300 pyfstat.utils.sft INFO    : Loading 1 SFTs from H1...\n",
      "25-08-19 23:42:41.322 pyfstat.utils.sft INFO    : Loading 1 SFTs from H1...\n"
     ]
    },
    {
     "name": "stderr",
     "output_type": "stream",
     "text": [
      " 23%|██▎       | 1646/7200 [01:06<03:37, 25.56it/s]"
     ]
    },
    {
     "name": "stdout",
     "output_type": "stream",
     "text": [
      "25-08-19 23:42:41.367 pyfstat.utils.sft INFO    : Loading 1 SFTs from H1...\n",
      "25-08-19 23:42:41.412 pyfstat.utils.sft INFO    : Loading 1 SFTs from H1...\n",
      "25-08-19 23:42:41.452 pyfstat.utils.sft INFO    : Loading 1 SFTs from H1...\n"
     ]
    },
    {
     "name": "stderr",
     "output_type": "stream",
     "text": [
      " 23%|██▎       | 1649/7200 [01:06<03:41, 25.09it/s]"
     ]
    },
    {
     "name": "stdout",
     "output_type": "stream",
     "text": [
      "25-08-19 23:42:41.493 pyfstat.utils.sft INFO    : Loading 1 SFTs from H1...\n",
      "25-08-19 23:42:41.532 pyfstat.utils.sft INFO    : Loading 1 SFTs from H1...\n",
      "25-08-19 23:42:41.572 pyfstat.utils.sft INFO    : Loading 1 SFTs from H1...\n"
     ]
    },
    {
     "name": "stderr",
     "output_type": "stream",
     "text": [
      " 23%|██▎       | 1652/7200 [01:06<03:38, 25.40it/s]"
     ]
    },
    {
     "name": "stdout",
     "output_type": "stream",
     "text": [
      "25-08-19 23:42:41.607 pyfstat.utils.sft INFO    : Loading 1 SFTs from H1...\n",
      "25-08-19 23:42:41.648 pyfstat.utils.sft INFO    : Loading 1 SFTs from H1...\n",
      "25-08-19 23:42:41.687 pyfstat.utils.sft INFO    : Loading 1 SFTs from H1...\n"
     ]
    },
    {
     "name": "stderr",
     "output_type": "stream",
     "text": [
      " 23%|██▎       | 1655/7200 [01:06<03:40, 25.12it/s]"
     ]
    },
    {
     "name": "stdout",
     "output_type": "stream",
     "text": [
      "25-08-19 23:42:41.729 pyfstat.utils.sft INFO    : Loading 1 SFTs from H1...\n",
      "25-08-19 23:42:41.772 pyfstat.utils.sft INFO    : Loading 1 SFTs from H1...\n",
      "25-08-19 23:42:41.803 pyfstat.utils.sft INFO    : Loading 1 SFTs from H1...\n"
     ]
    },
    {
     "name": "stderr",
     "output_type": "stream",
     "text": [
      " 23%|██▎       | 1658/7200 [01:06<03:38, 25.40it/s]"
     ]
    },
    {
     "name": "stdout",
     "output_type": "stream",
     "text": [
      "25-08-19 23:42:41.845 pyfstat.utils.sft INFO    : Loading 1 SFTs from H1...\n",
      "25-08-19 23:42:41.883 pyfstat.utils.sft INFO    : Loading 1 SFTs from H1...\n",
      "25-08-19 23:42:41.922 pyfstat.utils.sft INFO    : Loading 1 SFTs from H1...\n"
     ]
    },
    {
     "name": "stderr",
     "output_type": "stream",
     "text": [
      " 23%|██▎       | 1661/7200 [01:06<03:39, 25.22it/s]"
     ]
    },
    {
     "name": "stdout",
     "output_type": "stream",
     "text": [
      "25-08-19 23:42:41.965 pyfstat.utils.sft INFO    : Loading 1 SFTs from H1...\n",
      "25-08-19 23:42:42.004 pyfstat.utils.sft INFO    : Loading 1 SFTs from H1...\n",
      "25-08-19 23:42:42.041 pyfstat.utils.sft INFO    : Loading 1 SFTs from H1...\n"
     ]
    },
    {
     "name": "stderr",
     "output_type": "stream",
     "text": [
      " 23%|██▎       | 1664/7200 [01:07<03:38, 25.29it/s]"
     ]
    },
    {
     "name": "stdout",
     "output_type": "stream",
     "text": [
      "25-08-19 23:42:42.084 pyfstat.utils.sft INFO    : Loading 1 SFTs from H1...\n",
      "25-08-19 23:42:42.126 pyfstat.utils.sft INFO    : Loading 1 SFTs from H1...\n",
      "25-08-19 23:42:42.165 pyfstat.utils.sft INFO    : Loading 1 SFTs from H1...\n"
     ]
    },
    {
     "name": "stderr",
     "output_type": "stream",
     "text": [
      " 23%|██▎       | 1667/7200 [01:07<03:40, 25.09it/s]"
     ]
    },
    {
     "name": "stdout",
     "output_type": "stream",
     "text": [
      "25-08-19 23:42:42.206 pyfstat.utils.sft INFO    : Loading 1 SFTs from H1...\n",
      "25-08-19 23:42:42.247 pyfstat.utils.sft INFO    : Loading 1 SFTs from H1...\n",
      "25-08-19 23:42:42.284 pyfstat.utils.sft INFO    : Loading 1 SFTs from H1...\n"
     ]
    },
    {
     "name": "stderr",
     "output_type": "stream",
     "text": [
      " 23%|██▎       | 1670/7200 [01:07<03:39, 25.16it/s]"
     ]
    },
    {
     "name": "stdout",
     "output_type": "stream",
     "text": [
      "25-08-19 23:42:42.324 pyfstat.utils.sft INFO    : Loading 1 SFTs from H1...\n",
      "25-08-19 23:42:42.364 pyfstat.utils.sft INFO    : Loading 1 SFTs from H1...\n",
      "25-08-19 23:42:42.405 pyfstat.utils.sft INFO    : Loading 1 SFTs from H1...\n"
     ]
    },
    {
     "name": "stderr",
     "output_type": "stream",
     "text": [
      " 23%|██▎       | 1673/7200 [01:07<03:40, 25.02it/s]"
     ]
    },
    {
     "name": "stdout",
     "output_type": "stream",
     "text": [
      "25-08-19 23:42:42.446 pyfstat.utils.sft INFO    : Loading 1 SFTs from H1...\n",
      "25-08-19 23:42:42.487 pyfstat.utils.sft INFO    : Loading 1 SFTs from H1...\n",
      "25-08-19 23:42:42.526 pyfstat.utils.sft INFO    : Loading 1 SFTs from H1...\n"
     ]
    },
    {
     "name": "stderr",
     "output_type": "stream",
     "text": [
      " 23%|██▎       | 1676/7200 [01:07<03:40, 25.07it/s]"
     ]
    },
    {
     "name": "stdout",
     "output_type": "stream",
     "text": [
      "25-08-19 23:42:42.564 pyfstat.utils.sft INFO    : Loading 1 SFTs from H1...\n",
      "25-08-19 23:42:42.603 pyfstat.utils.sft INFO    : Loading 1 SFTs from H1...\n",
      "25-08-19 23:42:42.643 pyfstat.utils.sft INFO    : Loading 1 SFTs from H1...\n"
     ]
    },
    {
     "name": "stderr",
     "output_type": "stream",
     "text": [
      " 23%|██▎       | 1679/7200 [01:07<03:39, 25.18it/s]"
     ]
    },
    {
     "name": "stdout",
     "output_type": "stream",
     "text": [
      "25-08-19 23:42:42.682 pyfstat.utils.sft INFO    : Loading 1 SFTs from H1...\n",
      "25-08-19 23:42:42.726 pyfstat.utils.sft INFO    : Loading 1 SFTs from H1...\n",
      "25-08-19 23:42:42.767 pyfstat.utils.sft INFO    : Loading 1 SFTs from H1...\n"
     ]
    },
    {
     "name": "stderr",
     "output_type": "stream",
     "text": [
      " 23%|██▎       | 1682/7200 [01:07<03:42, 24.76it/s]"
     ]
    },
    {
     "name": "stdout",
     "output_type": "stream",
     "text": [
      "25-08-19 23:42:42.808 pyfstat.utils.sft INFO    : Loading 1 SFTs from H1...\n",
      "25-08-19 23:42:42.847 pyfstat.utils.sft INFO    : Loading 1 SFTs from H1...\n",
      "25-08-19 23:42:42.887 pyfstat.utils.sft INFO    : Loading 1 SFTs from H1...\n"
     ]
    },
    {
     "name": "stderr",
     "output_type": "stream",
     "text": [
      " 23%|██▎       | 1685/7200 [01:07<03:41, 24.94it/s]"
     ]
    },
    {
     "name": "stdout",
     "output_type": "stream",
     "text": [
      "25-08-19 23:42:42.927 pyfstat.utils.sft INFO    : Loading 1 SFTs from H1...\n",
      "25-08-19 23:42:42.968 pyfstat.utils.sft INFO    : Loading 1 SFTs from H1...\n",
      "25-08-19 23:42:43.010 pyfstat.utils.sft INFO    : Loading 1 SFTs from H1...\n"
     ]
    },
    {
     "name": "stderr",
     "output_type": "stream",
     "text": [
      " 23%|██▎       | 1688/7200 [01:08<03:43, 24.71it/s]"
     ]
    },
    {
     "name": "stdout",
     "output_type": "stream",
     "text": [
      "25-08-19 23:42:43.051 pyfstat.utils.sft INFO    : Loading 1 SFTs from H1...\n",
      "25-08-19 23:42:43.091 pyfstat.utils.sft INFO    : Loading 1 SFTs from H1...\n",
      "25-08-19 23:42:43.130 pyfstat.utils.sft INFO    : Loading 1 SFTs from H1...\n"
     ]
    },
    {
     "name": "stderr",
     "output_type": "stream",
     "text": [
      " 23%|██▎       | 1691/7200 [01:08<03:41, 24.85it/s]"
     ]
    },
    {
     "name": "stdout",
     "output_type": "stream",
     "text": [
      "25-08-19 23:42:43.169 pyfstat.utils.sft INFO    : Loading 1 SFTs from H1...\n",
      "25-08-19 23:42:43.210 pyfstat.utils.sft INFO    : Loading 1 SFTs from H1...\n",
      "25-08-19 23:42:43.252 pyfstat.utils.sft INFO    : Loading 1 SFTs from H1...\n"
     ]
    },
    {
     "name": "stderr",
     "output_type": "stream",
     "text": [
      " 24%|██▎       | 1694/7200 [01:08<03:45, 24.43it/s]"
     ]
    },
    {
     "name": "stdout",
     "output_type": "stream",
     "text": [
      "25-08-19 23:42:43.298 pyfstat.utils.sft INFO    : Loading 1 SFTs from H1...\n",
      "25-08-19 23:42:43.341 pyfstat.utils.sft INFO    : Loading 1 SFTs from H1...\n",
      "25-08-19 23:42:43.384 pyfstat.utils.sft INFO    : Loading 1 SFTs from H1...\n"
     ]
    },
    {
     "name": "stderr",
     "output_type": "stream",
     "text": [
      " 24%|██▎       | 1697/7200 [01:08<03:49, 23.95it/s]"
     ]
    },
    {
     "name": "stdout",
     "output_type": "stream",
     "text": [
      "25-08-19 23:42:43.430 pyfstat.utils.sft INFO    : Loading 1 SFTs from H1...\n",
      "25-08-19 23:42:43.473 pyfstat.utils.sft INFO    : Loading 1 SFTs from H1...\n",
      "25-08-19 23:42:43.514 pyfstat.utils.sft INFO    : Loading 1 SFTs from H1...\n"
     ]
    },
    {
     "name": "stderr",
     "output_type": "stream",
     "text": [
      " 24%|██▎       | 1700/7200 [01:08<03:51, 23.80it/s]"
     ]
    },
    {
     "name": "stdout",
     "output_type": "stream",
     "text": [
      "25-08-19 23:42:43.557 pyfstat.utils.sft INFO    : Loading 1 SFTs from H1...\n",
      "25-08-19 23:42:43.598 pyfstat.utils.sft INFO    : Loading 1 SFTs from H1...\n",
      "25-08-19 23:42:43.638 pyfstat.utils.sft INFO    : Loading 1 SFTs from H1...\n"
     ]
    },
    {
     "name": "stderr",
     "output_type": "stream",
     "text": [
      " 24%|██▎       | 1703/7200 [01:08<03:49, 23.95it/s]"
     ]
    },
    {
     "name": "stdout",
     "output_type": "stream",
     "text": [
      "25-08-19 23:42:43.680 pyfstat.utils.sft INFO    : Loading 1 SFTs from H1...\n",
      "25-08-19 23:42:43.720 pyfstat.utils.sft INFO    : Loading 1 SFTs from H1...\n",
      "25-08-19 23:42:43.759 pyfstat.utils.sft INFO    : Loading 1 SFTs from H1...\n"
     ]
    },
    {
     "name": "stderr",
     "output_type": "stream",
     "text": [
      " 24%|██▎       | 1706/7200 [01:08<03:45, 24.40it/s]"
     ]
    },
    {
     "name": "stdout",
     "output_type": "stream",
     "text": [
      "25-08-19 23:42:43.797 pyfstat.utils.sft INFO    : Loading 1 SFTs from H1...\n",
      "25-08-19 23:42:43.836 pyfstat.utils.sft INFO    : Loading 1 SFTs from H1...\n",
      "25-08-19 23:42:43.874 pyfstat.utils.sft INFO    : Loading 1 SFTs from H1...\n"
     ]
    },
    {
     "name": "stderr",
     "output_type": "stream",
     "text": [
      " 24%|██▎       | 1709/7200 [01:08<03:41, 24.79it/s]"
     ]
    },
    {
     "name": "stdout",
     "output_type": "stream",
     "text": [
      "25-08-19 23:42:43.914 pyfstat.utils.sft INFO    : Loading 1 SFTs from H1...\n",
      "25-08-19 23:42:43.949 pyfstat.utils.sft INFO    : Loading 1 SFTs from H1...\n",
      "25-08-19 23:42:43.989 pyfstat.utils.sft INFO    : Loading 1 SFTs from H1...\n"
     ]
    },
    {
     "name": "stderr",
     "output_type": "stream",
     "text": [
      " 24%|██▍       | 1712/7200 [01:08<03:39, 25.03it/s]"
     ]
    },
    {
     "name": "stdout",
     "output_type": "stream",
     "text": [
      "25-08-19 23:42:44.031 pyfstat.utils.sft INFO    : Loading 1 SFTs from H1...\n",
      "25-08-19 23:42:44.073 pyfstat.utils.sft INFO    : Loading 1 SFTs from H1...\n",
      "25-08-19 23:42:44.114 pyfstat.utils.sft INFO    : Loading 1 SFTs from H1...\n"
     ]
    },
    {
     "name": "stderr",
     "output_type": "stream",
     "text": [
      " 24%|██▍       | 1715/7200 [01:09<03:41, 24.77it/s]"
     ]
    },
    {
     "name": "stdout",
     "output_type": "stream",
     "text": [
      "25-08-19 23:42:44.155 pyfstat.utils.sft INFO    : Loading 1 SFTs from H1...\n",
      "25-08-19 23:42:44.192 pyfstat.utils.sft INFO    : Loading 1 SFTs from H1...\n",
      "25-08-19 23:42:44.233 pyfstat.utils.sft INFO    : Loading 1 SFTs from H1...\n"
     ]
    },
    {
     "name": "stderr",
     "output_type": "stream",
     "text": [
      " 24%|██▍       | 1718/7200 [01:09<03:40, 24.81it/s]"
     ]
    },
    {
     "name": "stdout",
     "output_type": "stream",
     "text": [
      "25-08-19 23:42:44.275 pyfstat.utils.sft INFO    : Loading 1 SFTs from H1...\n",
      "25-08-19 23:42:44.316 pyfstat.utils.sft INFO    : Loading 1 SFTs from H1...\n",
      "25-08-19 23:42:44.356 pyfstat.utils.sft INFO    : Loading 1 SFTs from H1...\n"
     ]
    },
    {
     "name": "stderr",
     "output_type": "stream",
     "text": [
      " 24%|██▍       | 1721/7200 [01:09<03:41, 24.79it/s]"
     ]
    },
    {
     "name": "stdout",
     "output_type": "stream",
     "text": [
      "25-08-19 23:42:44.397 pyfstat.utils.sft INFO    : Loading 1 SFTs from H1...\n",
      "25-08-19 23:42:44.437 pyfstat.utils.sft INFO    : Loading 1 SFTs from H1...\n",
      "25-08-19 23:42:44.476 pyfstat.utils.sft INFO    : Loading 1 SFTs from H1...\n"
     ]
    },
    {
     "name": "stderr",
     "output_type": "stream",
     "text": [
      " 24%|██▍       | 1724/7200 [01:09<03:40, 24.83it/s]"
     ]
    },
    {
     "name": "stdout",
     "output_type": "stream",
     "text": [
      "25-08-19 23:42:44.514 pyfstat.utils.sft INFO    : Loading 1 SFTs from H1...\n",
      "25-08-19 23:42:44.529 pyfstat.utils.sft INFO    : Loading 1 SFTs from H1...\n",
      "25-08-19 23:42:44.566 pyfstat.utils.sft INFO    : Loading 1 SFTs from H1...\n",
      "25-08-19 23:42:44.605 pyfstat.utils.sft INFO    : Loading 1 SFTs from H1...\n"
     ]
    },
    {
     "name": "stderr",
     "output_type": "stream",
     "text": [
      " 24%|██▍       | 1728/7200 [01:09<03:24, 26.80it/s]"
     ]
    },
    {
     "name": "stdout",
     "output_type": "stream",
     "text": [
      "25-08-19 23:42:44.646 pyfstat.utils.sft INFO    : Loading 1 SFTs from H1...\n",
      "25-08-19 23:42:44.681 pyfstat.utils.sft INFO    : Loading 1 SFTs from H1...\n",
      "25-08-19 23:42:44.704 pyfstat.utils.sft INFO    : Loading 1 SFTs from H1...\n",
      "25-08-19 23:42:44.744 pyfstat.utils.sft INFO    : Loading 1 SFTs from H1...\n"
     ]
    },
    {
     "name": "stderr",
     "output_type": "stream",
     "text": [
      " 24%|██▍       | 1732/7200 [01:09<03:19, 27.40it/s]"
     ]
    },
    {
     "name": "stdout",
     "output_type": "stream",
     "text": [
      "25-08-19 23:42:44.786 pyfstat.utils.sft INFO    : Loading 1 SFTs from H1...\n",
      "25-08-19 23:42:44.825 pyfstat.utils.sft INFO    : Loading 1 SFTs from H1...\n",
      "25-08-19 23:42:44.863 pyfstat.utils.sft INFO    : Loading 1 SFTs from H1...\n"
     ]
    },
    {
     "name": "stderr",
     "output_type": "stream",
     "text": [
      " 24%|██▍       | 1735/7200 [01:09<03:24, 26.72it/s]"
     ]
    },
    {
     "name": "stdout",
     "output_type": "stream",
     "text": [
      "25-08-19 23:42:44.905 pyfstat.utils.sft INFO    : Loading 1 SFTs from H1...\n",
      "25-08-19 23:42:44.945 pyfstat.utils.sft INFO    : Loading 1 SFTs from H1...\n",
      "25-08-19 23:42:44.984 pyfstat.utils.sft INFO    : Loading 1 SFTs from H1...\n"
     ]
    },
    {
     "name": "stderr",
     "output_type": "stream",
     "text": [
      " 24%|██▍       | 1738/7200 [01:09<03:27, 26.33it/s]"
     ]
    },
    {
     "name": "stdout",
     "output_type": "stream",
     "text": [
      "25-08-19 23:42:45.024 pyfstat.utils.sft INFO    : Loading 1 SFTs from H1...\n",
      "25-08-19 23:42:45.063 pyfstat.utils.sft INFO    : Loading 1 SFTs from H1...\n",
      "25-08-19 23:42:45.104 pyfstat.utils.sft INFO    : Loading 1 SFTs from H1...\n"
     ]
    },
    {
     "name": "stderr",
     "output_type": "stream",
     "text": [
      " 24%|██▍       | 1741/7200 [01:10<03:30, 25.91it/s]"
     ]
    },
    {
     "name": "stdout",
     "output_type": "stream",
     "text": [
      "25-08-19 23:42:45.144 pyfstat.utils.sft INFO    : Loading 1 SFTs from H1...\n",
      "25-08-19 23:42:45.182 pyfstat.utils.sft INFO    : Loading 1 SFTs from H1...\n",
      "25-08-19 23:42:45.221 pyfstat.utils.sft INFO    : Loading 1 SFTs from H1...\n"
     ]
    },
    {
     "name": "stderr",
     "output_type": "stream",
     "text": [
      " 24%|██▍       | 1744/7200 [01:10<03:34, 25.49it/s]"
     ]
    },
    {
     "name": "stdout",
     "output_type": "stream",
     "text": [
      "25-08-19 23:42:45.263 pyfstat.utils.sft INFO    : Loading 1 SFTs from H1...\n",
      "25-08-19 23:42:45.289 pyfstat.utils.sft INFO    : Loading 1 SFTs from H1...\n",
      "25-08-19 23:42:45.332 pyfstat.utils.sft INFO    : Loading 1 SFTs from H1...\n"
     ]
    },
    {
     "name": "stderr",
     "output_type": "stream",
     "text": [
      " 24%|██▍       | 1747/7200 [01:10<03:27, 26.30it/s]"
     ]
    },
    {
     "name": "stdout",
     "output_type": "stream",
     "text": [
      "25-08-19 23:42:45.372 pyfstat.utils.sft INFO    : Loading 1 SFTs from H1...\n",
      "25-08-19 23:42:45.413 pyfstat.utils.sft INFO    : Loading 1 SFTs from H1...\n"
     ]
    }
   ],
   "source": [
    "\n",
    "ts = 1368970000\n",
    "Tday = 150\n",
    "timestamps, fourier_data = [], []\n",
    "for i in tqdm(range(48*Tday)):\n",
    "    tstart = ts + i * 1800\n",
    "    frequency, _timestamps, _fourier_data = get_sft_as_arrays('sft2/simCW0/H-1_H1_1800SFT_simCW0-{}-1800.sft'.format(tstart))\n",
    "    idx = np.where((frequency<100.05)*(frequency>99.9))[0]\n",
    "    \n",
    "    frequency = frequency[idx]\n",
    "    timestamps.append(_timestamps['H1'])\n",
    "    fourier_data.append(_fourier_data['H1'][idx])"
   ]
  },
  {
   "cell_type": "code",
   "execution_count": null,
   "id": "9f27005e-28fe-4efe-8edc-8972022c82eb",
   "metadata": {},
   "outputs": [],
   "source": [
    "timestamps = np.concatenate(timestamps)"
   ]
  },
  {
   "cell_type": "code",
   "execution_count": null,
   "id": "3d3f9882-67b5-402d-8a71-0adda7e63ce3",
   "metadata": {},
   "outputs": [],
   "source": [
    "fourier_data = np.concatenate(fourier_data,axis=1)"
   ]
  },
  {
   "cell_type": "code",
   "execution_count": null,
   "id": "83658101-9ce1-44a1-b3f1-00dac95e3d3e",
   "metadata": {},
   "outputs": [],
   "source": [
    "data1 = fourier_data.real ** 2 + fourier_data.imag ** 2\n",
    "\n",
    "fig, ax = plot_spectrograms(\n",
    "    timestamps, frequency, data1,\n",
    ");\n"
   ]
  },
  {
   "cell_type": "code",
   "execution_count": 38,
   "id": "5afc4e9e-6f9a-4289-a627-33f72ad3cdcc",
   "metadata": {},
   "outputs": [
    {
     "data": {
      "image/png": "[encoded data removed]",
      "text/plain": [
       "<Figure size 1600x1000 with 2 Axes>"
      ]
     },
     "metadata": {},
     "output_type": "display_data"
    }
   ],
   "source": [
    "idx = np.where((frequency<20.2)*(frequency>19.9))[0]\n",
    "data1 = fourier_data.real ** 2 + fourier_data.imag ** 2\n",
    "\n",
    "fig, ax = plot_spectrograms(\n",
    "    timestamps, frequency[idx], data1[idx],\n",
    ");\n"
   ]
  },
  {
   "cell_type": "code",
   "execution_count": null,
   "id": "d705ea8d-064e-4eaf-b6dc-2137e15eeef3",
   "metadata": {},
   "outputs": [],
   "source": []
  }
 ],
 "metadata": {
  "kernelspec": {
   "display_name": "glitch",
   "language": "python",
   "name": "glitch"
  },
  "language_info": {
   "codemirror_mode": {
    "name": "ipython",
    "version": 3
   },
   "file_extension": ".py",
   "mimetype": "text/x-python",
   "name": "python",
   "nbconvert_exporter": "python",
   "pygments_lexer": "ipython3",
   "version": "3.10.16"
  }
 },
 "nbformat": 4,
 "nbformat_minor": 5
}
