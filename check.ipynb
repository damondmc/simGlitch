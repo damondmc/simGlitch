{
 "cells": [
  {
   "cell_type": "code",
   "execution_count": 16,
   "id": "316e3ba3-2fe6-4989-8e25-1f4e8b58c7fa",
   "metadata": {},
   "outputs": [],
   "source": [
    "import os\n",
    "import numpy as np\n",
    "\n",
    "directory = \"with_glitch/\"  # Replace with your directory path\n",
    "for idx in range(200):\n",
    "    dir_name = f\"simCW{idx}\"\n",
    "    dir_path = os.path.join(directory, dir_name)\n",
    "    if os.path.isdir(dir_path):\n",
    "        # Check for files starting with \"H-7488\" in this directory\n",
    "        files = [f for f in os.listdir(dir_path) if os.path.isfile(os.path.join(dir_path, f)) and f.startswith(\"H-7488\")]\n",
    "        if not files:\n",
    "            print(f\"  No files starting with 'H-7488' found in {dir_name}\")\n",
    "    else:\n",
    "        print(f\"{dir_name} does not exist\")"
   ]
  },
  {
   "cell_type": "code",
   "execution_count": 20,
   "id": "7916440c-8226-4209-9490-9faad31ee65a",
   "metadata": {},
   "outputs": [],
   "source": [
    "directory = \"no_glitch/\"  # Replace with your directory path\n",
    "for idx in range(200):\n",
    "    dir_name = f\"simCW{idx}\"\n",
    "    dir_path = os.path.join(directory, dir_name)\n",
    "    if os.path.isdir(dir_path):\n",
    "        # Check for files starting with \"H-7488\" in this directory\n",
    "        files = [f for f in os.listdir(dir_path) if os.path.isfile(os.path.join(dir_path, f)) and f.startswith(\"H-749\")]\n",
    "        if not files:\n",
    "            print(f\"  No files starting with 'H-7488' found in {dir_name}\")\n",
    "    else:\n",
    "        print(f\"{dir_name} does not exist\")"
   ]
  },
  {
   "cell_type": "code",
   "execution_count": null,
   "id": "1d22935a-4adf-41d4-9069-14e6d39282c9",
   "metadata": {},
   "outputs": [],
   "source": []
  }
 ],
 "metadata": {
  "kernelspec": {
   "display_name": "Python 3 (ipykernel)",
   "language": "python",
   "name": "python3"
  },
  "language_info": {
   "codemirror_mode": {
    "name": "ipython",
    "version": 3
   },
   "file_extension": ".py",
   "mimetype": "text/x-python",
   "name": "python",
   "nbconvert_exporter": "python",
   "pygments_lexer": "ipython3",
   "version": "3.9.13"
  }
 },
 "nbformat": 4,
 "nbformat_minor": 5
}
