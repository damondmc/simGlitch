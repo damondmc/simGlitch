{
 "cells": [
  {
   "cell_type": "code",
   "execution_count": 1,
   "id": "92c7a07a-9fbf-4126-9cac-ae09d92ac32e",
   "metadata": {},
   "outputs": [
    {
     "name": "stdout",
     "output_type": "stream",
     "text": [
      "25-08-19 17:18:18.053 pyfstat INFO    : Running PyFstat version 2.2.1+3.6fbce518.dirty\n"
     ]
    },
    {
     "name": "stderr",
     "output_type": "stream",
     "text": [
      "/home/hoitim.cheung/.conda/envs/glitch/lib/python3.10/site-packages/PyFstat-2.2.1+3.6fbce518.dirty-py3.10.egg/pyfstat/core.py:13: UserWarning: Wswiglal-redir-stdio:\n",
      "\n",
      "SWIGLAL standard output/error redirection is enabled in IPython.\n",
      "This may lead to performance penalties. To disable locally, use:\n",
      "\n",
      "with lal.no_swig_redirect_standard_output_error():\n",
      "    ...\n",
      "\n",
      "To disable globally, use:\n",
      "\n",
      "lal.swig_redirect_standard_output_error(False)\n",
      "\n",
      "Note however that this will likely lead to error messages from\n",
      "LAL functions being either misdirected or lost when called from\n",
      "Jupyter notebooks.\n",
      "\n",
      "To suppress this warning, use:\n",
      "\n",
      "import warnings\n",
      "warnings.filterwarnings(\"ignore\", \"Wswiglal-redir-stdio\")\n",
      "import lal\n",
      "\n",
      "  import lal\n"
     ]
    },
    {
     "name": "stdout",
     "output_type": "stream",
     "text": [
      "25-08-19 17:18:21.350 pyfstat.utils.importing INFO    : No $DISPLAY environment variable found, so importing matplotlib.pyplot with non-interactive 'Agg' backend.\n"
     ]
    }
   ],
   "source": [
    "import os\n",
    "from tqdm import tqdm\n",
    "import numpy as np\n",
    "\n",
    "from pyfstat import GlitchWriter, Writer\n",
    "from pyfstat.utils import get_sft_as_arrays\n",
    "import matplotlib.pyplot as plt\n",
    "from matplotlib import colors\n",
    "\n",
    "%matplotlib inline\n",
    "\n",
    "plt.rcParams[\"font.family\"] = \"serif\"\n",
    "plt.rcParams[\"font.size\"] = 20\n",
    "\n",
    "\n",
    "def normalize_array_with_nan(arr):\n",
    "    \"\"\"\n",
    "    Normalizes a 2D array while ignoring NaN values.\n",
    "    \n",
    "    Parameters:\n",
    "    arr (np.ndarray): Input 2D array with shape (m, n)\n",
    "    \n",
    "    Returns:\n",
    "    np.ndarray: Normalized array with NaN values preserved\n",
    "    \"\"\"\n",
    "    # Compute mean and standard deviation, ignoring NaN values\n",
    "    max = np.nanmax(arr)\n",
    "    min = np.nanmin(arr)\n",
    "    \n",
    "    # Normalize the array, keeping NaN values as they are\n",
    "    normalized_arr = (arr - min)/(max-min)\n",
    "    \n",
    "    return normalized_arr\n",
    "\n",
    "def plot_spectrograms(timestamps, frequency, fourier_data):\n",
    "    fig, axs = plt.subplots(1, 1, figsize=(16, 10))\n",
    "    axs = [axs]\n",
    "    for ax in axs:\n",
    "        ax.set(xlabel=\"Days\", ylabel=\"Frequency [Hz]\")\n",
    "\n",
    "    time_in_days = (timestamps - timestamps[0]) / 86400\n",
    "\n",
    "    axs[0].set_title(\"H1\")\n",
    "    c = axs[0].pcolormesh(\n",
    "        time_in_days,\n",
    "        frequency,\n",
    "        fourier_data,\n",
    "        norm=colors.CenteredNorm(),\n",
    "    )\n",
    "    fig.colorbar(c, ax=axs[0], orientation=\"horizontal\", label=\"Fourier Amplitude\")\n",
    "    return fig, axs\n",
    "\n",
    "\n",
    "\n",
    "label = \"test\"\n",
    "outdir = os.path.join(\"testdata\", label)\n"
   ]
  },
  {
   "cell_type": "code",
   "execution_count": 2,
   "id": "46f5fa38-0f01-4462-b344-bbbc763d3bc3",
   "metadata": {
    "scrolled": true,
    "tags": []
   },
   "outputs": [
    {
     "name": "stderr",
     "output_type": "stream",
     "text": [
      "  0%|          | 0/5760 [00:00<?, ?it/s]"
     ]
    },
    {
     "name": "stdout",
     "output_type": "stream",
     "text": [
      "25-08-19 17:18:23.299 pyfstat.utils.sft INFO    : Loading 1 SFTs from H1...\n",
      "25-08-19 17:18:23.318 pyfstat.utils.sft INFO    : Loading 1 SFTs from H1...\n",
      "25-08-19 17:18:23.330 pyfstat.utils.sft INFO    : Loading 1 SFTs from H1...\n",
      "25-08-19 17:18:23.341 pyfstat.utils.sft INFO    : Loading 1 SFTs from H1...\n",
      "25-08-19 17:18:23.352 pyfstat.utils.sft INFO    : Loading 1 SFTs from H1...\n",
      "25-08-19 17:18:23.367 pyfstat.utils.sft INFO    : Loading 1 SFTs from H1...\n"
     ]
    },
    {
     "name": "stderr",
     "output_type": "stream",
     "text": [
      "  0%|          | 6/5760 [00:00<01:45, 54.66it/s]"
     ]
    },
    {
     "name": "stdout",
     "output_type": "stream",
     "text": [
      "25-08-19 17:18:23.383 pyfstat.utils.sft INFO    : Loading 1 SFTs from H1...\n",
      "25-08-19 17:18:23.398 pyfstat.utils.sft INFO    : Loading 1 SFTs from H1...\n",
      "25-08-19 17:18:23.410 pyfstat.utils.sft INFO    : Loading 1 SFTs from H1...\n",
      "25-08-19 17:18:23.425 pyfstat.utils.sft INFO    : Loading 1 SFTs from H1...\n",
      "25-08-19 17:18:23.441 pyfstat.utils.sft INFO    : Loading 1 SFTs from H1...\n",
      "25-08-19 17:18:23.456 pyfstat.utils.sft INFO    : Loading 1 SFTs from H1...\n",
      "25-08-19 17:18:23.471 pyfstat.utils.sft INFO    : Loading 1 SFTs from H1...\n"
     ]
    },
    {
     "name": "stderr",
     "output_type": "stream",
     "text": [
      "  0%|          | 13/5760 [00:00<01:33, 61.61it/s]"
     ]
    },
    {
     "name": "stdout",
     "output_type": "stream",
     "text": [
      "25-08-19 17:18:23.487 pyfstat.utils.sft INFO    : Loading 1 SFTs from H1...\n",
      "25-08-19 17:18:23.504 pyfstat.utils.sft INFO    : Loading 1 SFTs from H1...\n",
      "25-08-19 17:18:23.519 pyfstat.utils.sft INFO    : Loading 1 SFTs from H1...\n",
      "25-08-19 17:18:23.534 pyfstat.utils.sft INFO    : Loading 1 SFTs from H1...\n",
      "25-08-19 17:18:23.546 pyfstat.utils.sft INFO    : Loading 1 SFTs from H1...\n",
      "25-08-19 17:18:23.565 pyfstat.utils.sft INFO    : Loading 1 SFTs from H1...\n",
      "25-08-19 17:18:23.576 pyfstat.utils.sft INFO    : Loading 1 SFTs from H1...\n"
     ]
    },
    {
     "name": "stderr",
     "output_type": "stream",
     "text": [
      "  0%|          | 20/5760 [00:00<01:29, 63.95it/s]"
     ]
    },
    {
     "name": "stdout",
     "output_type": "stream",
     "text": [
      "25-08-19 17:18:23.592 pyfstat.utils.sft INFO    : Loading 1 SFTs from H1...\n",
      "25-08-19 17:18:23.604 pyfstat.utils.sft INFO    : Loading 1 SFTs from H1...\n",
      "25-08-19 17:18:23.615 pyfstat.utils.sft INFO    : Loading 1 SFTs from H1...\n",
      "25-08-19 17:18:23.630 pyfstat.utils.sft INFO    : Loading 1 SFTs from H1...\n",
      "25-08-19 17:18:23.645 pyfstat.utils.sft INFO    : Loading 1 SFTs from H1...\n",
      "25-08-19 17:18:23.660 pyfstat.utils.sft INFO    : Loading 1 SFTs from H1...\n",
      "25-08-19 17:18:23.678 pyfstat.utils.sft INFO    : Loading 1 SFTs from H1...\n"
     ]
    },
    {
     "name": "stderr",
     "output_type": "stream",
     "text": [
      "  0%|          | 27/5760 [00:00<01:28, 64.71it/s]"
     ]
    },
    {
     "name": "stdout",
     "output_type": "stream",
     "text": [
      "25-08-19 17:18:23.698 pyfstat.utils.sft INFO    : Loading 1 SFTs from H1...\n",
      "25-08-19 17:18:23.718 pyfstat.utils.sft INFO    : Loading 1 SFTs from H1...\n",
      "25-08-19 17:18:23.729 pyfstat.utils.sft INFO    : Loading 1 SFTs from H1...\n",
      "25-08-19 17:18:23.746 pyfstat.utils.sft INFO    : Loading 1 SFTs from H1...\n",
      "25-08-19 17:18:23.760 pyfstat.utils.sft INFO    : Loading 1 SFTs from H1...\n",
      "25-08-19 17:18:23.775 pyfstat.utils.sft INFO    : Loading 1 SFTs from H1...\n",
      "25-08-19 17:18:23.788 pyfstat.utils.sft INFO    : Loading 1 SFTs from H1...\n"
     ]
    },
    {
     "name": "stderr",
     "output_type": "stream",
     "text": [
      "  1%|          | 34/5760 [00:00<01:27, 65.27it/s]"
     ]
    },
    {
     "name": "stdout",
     "output_type": "stream",
     "text": [
      "25-08-19 17:18:23.800 pyfstat.utils.sft INFO    : Loading 1 SFTs from H1...\n",
      "25-08-19 17:18:23.812 pyfstat.utils.sft INFO    : Loading 1 SFTs from H1...\n",
      "25-08-19 17:18:23.823 pyfstat.utils.sft INFO    : Loading 1 SFTs from H1...\n",
      "25-08-19 17:18:23.837 pyfstat.utils.sft INFO    : Loading 1 SFTs from H1...\n",
      "25-08-19 17:18:23.851 pyfstat.utils.sft INFO    : Loading 1 SFTs from H1...\n",
      "25-08-19 17:18:23.862 pyfstat.utils.sft INFO    : Loading 1 SFTs from H1...\n",
      "25-08-19 17:18:23.873 pyfstat.utils.sft INFO    : Loading 1 SFTs from H1...\n",
      "25-08-19 17:18:23.888 pyfstat.utils.sft INFO    : Loading 1 SFTs from H1...\n",
      "25-08-19 17:18:23.903 pyfstat.utils.sft INFO    : Loading 1 SFTs from H1...\n"
     ]
    },
    {
     "name": "stderr",
     "output_type": "stream",
     "text": [
      "  1%|          | 43/5760 [00:00<01:21, 69.86it/s]"
     ]
    },
    {
     "name": "stdout",
     "output_type": "stream",
     "text": [
      "25-08-19 17:18:23.920 pyfstat.utils.sft INFO    : Loading 1 SFTs from H1...\n",
      "25-08-19 17:18:23.936 pyfstat.utils.sft INFO    : Loading 1 SFTs from H1...\n",
      "25-08-19 17:18:23.950 pyfstat.utils.sft INFO    : Loading 1 SFTs from H1...\n",
      "25-08-19 17:18:23.964 pyfstat.utils.sft INFO    : Loading 1 SFTs from H1...\n",
      "25-08-19 17:18:23.975 pyfstat.utils.sft INFO    : Loading 1 SFTs from H1...\n",
      "25-08-19 17:18:23.986 pyfstat.utils.sft INFO    : Loading 1 SFTs from H1...\n",
      "25-08-19 17:18:23.996 pyfstat.utils.sft INFO    : Loading 1 SFTs from H1...\n",
      "25-08-19 17:18:24.011 pyfstat.utils.sft INFO    : Loading 1 SFTs from H1...\n"
     ]
    },
    {
     "name": "stderr",
     "output_type": "stream",
     "text": [
      "  1%|          | 51/5760 [00:00<01:19, 71.40it/s]"
     ]
    },
    {
     "name": "stdout",
     "output_type": "stream",
     "text": [
      "25-08-19 17:18:24.027 pyfstat.utils.sft INFO    : Loading 1 SFTs from H1...\n",
      "25-08-19 17:18:24.039 pyfstat.utils.sft INFO    : Loading 1 SFTs from H1...\n",
      "25-08-19 17:18:24.054 pyfstat.utils.sft INFO    : Loading 1 SFTs from H1...\n",
      "25-08-19 17:18:24.066 pyfstat.utils.sft INFO    : Loading 1 SFTs from H1...\n",
      "25-08-19 17:18:24.077 pyfstat.utils.sft INFO    : Loading 1 SFTs from H1...\n",
      "25-08-19 17:18:24.090 pyfstat.utils.sft INFO    : Loading 1 SFTs from H1...\n",
      "25-08-19 17:18:24.102 pyfstat.utils.sft INFO    : Loading 1 SFTs from H1...\n",
      "25-08-19 17:18:24.113 pyfstat.utils.sft INFO    : Loading 1 SFTs from H1...\n"
     ]
    },
    {
     "name": "stderr",
     "output_type": "stream",
     "text": [
      "  1%|          | 59/5760 [00:00<01:17, 73.38it/s]"
     ]
    },
    {
     "name": "stdout",
     "output_type": "stream",
     "text": [
      "25-08-19 17:18:24.127 pyfstat.utils.sft INFO    : Loading 1 SFTs from H1...\n",
      "25-08-19 17:18:24.138 pyfstat.utils.sft INFO    : Loading 1 SFTs from H1...\n",
      "25-08-19 17:18:24.150 pyfstat.utils.sft INFO    : Loading 1 SFTs from H1...\n",
      "25-08-19 17:18:24.163 pyfstat.utils.sft INFO    : Loading 1 SFTs from H1...\n",
      "25-08-19 17:18:24.177 pyfstat.utils.sft INFO    : Loading 1 SFTs from H1...\n",
      "25-08-19 17:18:24.188 pyfstat.utils.sft INFO    : Loading 1 SFTs from H1...\n",
      "25-08-19 17:18:24.203 pyfstat.utils.sft INFO    : Loading 1 SFTs from H1...\n",
      "25-08-19 17:18:24.215 pyfstat.utils.sft INFO    : Loading 1 SFTs from H1...\n"
     ]
    },
    {
     "name": "stderr",
     "output_type": "stream",
     "text": [
      "  1%|          | 67/5760 [00:00<01:16, 74.88it/s]"
     ]
    },
    {
     "name": "stdout",
     "output_type": "stream",
     "text": [
      "25-08-19 17:18:24.232 pyfstat.utils.sft INFO    : Loading 1 SFTs from H1...\n",
      "25-08-19 17:18:24.244 pyfstat.utils.sft INFO    : Loading 1 SFTs from H1...\n",
      "25-08-19 17:18:24.256 pyfstat.utils.sft INFO    : Loading 1 SFTs from H1...\n",
      "25-08-19 17:18:24.271 pyfstat.utils.sft INFO    : Loading 1 SFTs from H1...\n",
      "25-08-19 17:18:24.286 pyfstat.utils.sft INFO    : Loading 1 SFTs from H1...\n",
      "25-08-19 17:18:24.301 pyfstat.utils.sft INFO    : Loading 1 SFTs from H1...\n",
      "25-08-19 17:18:24.312 pyfstat.utils.sft INFO    : Loading 1 SFTs from H1...\n",
      "25-08-19 17:18:24.330 pyfstat.utils.sft INFO    : Loading 1 SFTs from H1...\n"
     ]
    },
    {
     "name": "stderr",
     "output_type": "stream",
     "text": [
      "  1%|▏         | 75/5760 [00:01<01:17, 73.10it/s]"
     ]
    },
    {
     "name": "stdout",
     "output_type": "stream",
     "text": [
      "25-08-19 17:18:24.343 pyfstat.utils.sft INFO    : Loading 1 SFTs from H1...\n",
      "25-08-19 17:18:24.355 pyfstat.utils.sft INFO    : Loading 1 SFTs from H1...\n",
      "25-08-19 17:18:24.370 pyfstat.utils.sft INFO    : Loading 1 SFTs from H1...\n",
      "25-08-19 17:18:24.383 pyfstat.utils.sft INFO    : Loading 1 SFTs from H1...\n",
      "25-08-19 17:18:24.398 pyfstat.utils.sft INFO    : Loading 1 SFTs from H1...\n",
      "25-08-19 17:18:24.412 pyfstat.utils.sft INFO    : Loading 1 SFTs from H1...\n",
      "25-08-19 17:18:24.423 pyfstat.utils.sft INFO    : Loading 1 SFTs from H1...\n",
      "25-08-19 17:18:24.434 pyfstat.utils.sft INFO    : Loading 1 SFTs from H1...\n"
     ]
    },
    {
     "name": "stderr",
     "output_type": "stream",
     "text": [
      "  1%|▏         | 83/5760 [00:01<01:16, 74.29it/s]"
     ]
    },
    {
     "name": "stdout",
     "output_type": "stream",
     "text": [
      "25-08-19 17:18:24.450 pyfstat.utils.sft INFO    : Loading 1 SFTs from H1...\n",
      "25-08-19 17:18:24.462 pyfstat.utils.sft INFO    : Loading 1 SFTs from H1...\n",
      "25-08-19 17:18:24.477 pyfstat.utils.sft INFO    : Loading 1 SFTs from H1...\n",
      "25-08-19 17:18:24.489 pyfstat.utils.sft INFO    : Loading 1 SFTs from H1...\n",
      "25-08-19 17:18:24.503 pyfstat.utils.sft INFO    : Loading 1 SFTs from H1...\n",
      "25-08-19 17:18:24.513 pyfstat.utils.sft INFO    : Loading 1 SFTs from H1...\n",
      "25-08-19 17:18:24.527 pyfstat.utils.sft INFO    : Loading 1 SFTs from H1...\n",
      "25-08-19 17:18:24.541 pyfstat.utils.sft INFO    : Loading 1 SFTs from H1...\n"
     ]
    },
    {
     "name": "stderr",
     "output_type": "stream",
     "text": [
      "  2%|▏         | 91/5760 [00:01<01:16, 74.39it/s]"
     ]
    },
    {
     "name": "stdout",
     "output_type": "stream",
     "text": [
      "25-08-19 17:18:24.557 pyfstat.utils.sft INFO    : Loading 1 SFTs from H1...\n",
      "25-08-19 17:18:24.568 pyfstat.utils.sft INFO    : Loading 1 SFTs from H1...\n",
      "25-08-19 17:18:24.579 pyfstat.utils.sft INFO    : Loading 1 SFTs from H1...\n",
      "25-08-19 17:18:24.591 pyfstat.utils.sft INFO    : Loading 1 SFTs from H1...\n",
      "25-08-19 17:18:24.608 pyfstat.utils.sft INFO    : Loading 1 SFTs from H1...\n",
      "25-08-19 17:18:24.623 pyfstat.utils.sft INFO    : Loading 1 SFTs from H1...\n",
      "25-08-19 17:18:24.639 pyfstat.utils.sft INFO    : Loading 1 SFTs from H1...\n",
      "25-08-19 17:18:24.654 pyfstat.utils.sft INFO    : Loading 1 SFTs from H1...\n"
     ]
    },
    {
     "name": "stderr",
     "output_type": "stream",
     "text": [
      "  2%|▏         | 99/5760 [00:01<01:17, 73.30it/s]"
     ]
    },
    {
     "name": "stdout",
     "output_type": "stream",
     "text": [
      "25-08-19 17:18:24.667 pyfstat.utils.sft INFO    : Loading 1 SFTs from H1...\n",
      "25-08-19 17:18:24.680 pyfstat.utils.sft INFO    : Loading 1 SFTs from H1...\n",
      "25-08-19 17:18:24.694 pyfstat.utils.sft INFO    : Loading 1 SFTs from H1...\n",
      "25-08-19 17:18:24.705 pyfstat.utils.sft INFO    : Loading 1 SFTs from H1...\n",
      "25-08-19 17:18:24.716 pyfstat.utils.sft INFO    : Loading 1 SFTs from H1...\n",
      "25-08-19 17:18:24.731 pyfstat.utils.sft INFO    : Loading 1 SFTs from H1...\n",
      "25-08-19 17:18:24.749 pyfstat.utils.sft INFO    : Loading 1 SFTs from H1...\n",
      "25-08-19 17:18:24.765 pyfstat.utils.sft INFO    : Loading 1 SFTs from H1...\n"
     ]
    },
    {
     "name": "stderr",
     "output_type": "stream",
     "text": [
      "  2%|▏         | 107/5760 [00:01<01:17, 73.02it/s]"
     ]
    },
    {
     "name": "stdout",
     "output_type": "stream",
     "text": [
      "25-08-19 17:18:24.783 pyfstat.utils.sft INFO    : Loading 1 SFTs from H1...\n",
      "25-08-19 17:18:24.795 pyfstat.utils.sft INFO    : Loading 1 SFTs from H1...\n",
      "25-08-19 17:18:24.806 pyfstat.utils.sft INFO    : Loading 1 SFTs from H1...\n",
      "25-08-19 17:18:24.820 pyfstat.utils.sft INFO    : Loading 1 SFTs from H1...\n",
      "25-08-19 17:18:24.834 pyfstat.utils.sft INFO    : Loading 1 SFTs from H1...\n",
      "25-08-19 17:18:24.849 pyfstat.utils.sft INFO    : Loading 1 SFTs from H1...\n",
      "25-08-19 17:18:24.859 pyfstat.utils.sft INFO    : Loading 1 SFTs from H1...\n",
      "25-08-19 17:18:24.873 pyfstat.utils.sft INFO    : Loading 1 SFTs from H1...\n"
     ]
    },
    {
     "name": "stderr",
     "output_type": "stream",
     "text": [
      "  2%|▏         | 115/5760 [00:01<01:16, 73.32it/s]"
     ]
    },
    {
     "name": "stdout",
     "output_type": "stream",
     "text": [
      "25-08-19 17:18:24.885 pyfstat.utils.sft INFO    : Loading 1 SFTs from H1...\n",
      "25-08-19 17:18:24.898 pyfstat.utils.sft INFO    : Loading 1 SFTs from H1...\n",
      "25-08-19 17:18:24.908 pyfstat.utils.sft INFO    : Loading 1 SFTs from H1...\n",
      "25-08-19 17:18:24.920 pyfstat.utils.sft INFO    : Loading 1 SFTs from H1...\n",
      "25-08-19 17:18:24.931 pyfstat.utils.sft INFO    : Loading 1 SFTs from H1...\n",
      "25-08-19 17:18:24.946 pyfstat.utils.sft INFO    : Loading 1 SFTs from H1...\n",
      "25-08-19 17:18:24.958 pyfstat.utils.sft INFO    : Loading 1 SFTs from H1...\n",
      "25-08-19 17:18:24.969 pyfstat.utils.sft INFO    : Loading 1 SFTs from H1...\n",
      "25-08-19 17:18:24.985 pyfstat.utils.sft INFO    : Loading 1 SFTs from H1...\n"
     ]
    },
    {
     "name": "stderr",
     "output_type": "stream",
     "text": [
      "  2%|▏         | 124/5760 [00:01<01:14, 75.59it/s]"
     ]
    },
    {
     "name": "stdout",
     "output_type": "stream",
     "text": [
      "25-08-19 17:18:25.000 pyfstat.utils.sft INFO    : Loading 1 SFTs from H1...\n",
      "25-08-19 17:18:25.016 pyfstat.utils.sft INFO    : Loading 1 SFTs from H1...\n",
      "25-08-19 17:18:25.031 pyfstat.utils.sft INFO    : Loading 1 SFTs from H1...\n",
      "25-08-19 17:18:25.046 pyfstat.utils.sft INFO    : Loading 1 SFTs from H1...\n",
      "25-08-19 17:18:25.058 pyfstat.utils.sft INFO    : Loading 1 SFTs from H1...\n",
      "25-08-19 17:18:25.070 pyfstat.utils.sft INFO    : Loading 1 SFTs from H1...\n",
      "25-08-19 17:18:25.081 pyfstat.utils.sft INFO    : Loading 1 SFTs from H1...\n",
      "25-08-19 17:18:25.093 pyfstat.utils.sft INFO    : Loading 1 SFTs from H1...\n"
     ]
    },
    {
     "name": "stderr",
     "output_type": "stream",
     "text": [
      "  2%|▏         | 132/5760 [00:01<01:15, 75.00it/s]"
     ]
    },
    {
     "name": "stdout",
     "output_type": "stream",
     "text": [
      "25-08-19 17:18:25.109 pyfstat.utils.sft INFO    : Loading 1 SFTs from H1...\n",
      "25-08-19 17:18:25.128 pyfstat.utils.sft INFO    : Loading 1 SFTs from H1...\n",
      "25-08-19 17:18:25.143 pyfstat.utils.sft INFO    : Loading 1 SFTs from H1...\n",
      "25-08-19 17:18:25.154 pyfstat.utils.sft INFO    : Loading 1 SFTs from H1...\n",
      "25-08-19 17:18:25.166 pyfstat.utils.sft INFO    : Loading 1 SFTs from H1...\n",
      "25-08-19 17:18:25.184 pyfstat.utils.sft INFO    : Loading 1 SFTs from H1...\n",
      "25-08-19 17:18:25.200 pyfstat.utils.sft INFO    : Loading 1 SFTs from H1...\n",
      "25-08-19 17:18:25.215 pyfstat.utils.sft INFO    : Loading 1 SFTs from H1...\n"
     ]
    },
    {
     "name": "stderr",
     "output_type": "stream",
     "text": [
      "  2%|▏         | 140/5760 [00:01<01:17, 72.07it/s]"
     ]
    },
    {
     "name": "stdout",
     "output_type": "stream",
     "text": [
      "25-08-19 17:18:25.231 pyfstat.utils.sft INFO    : Loading 1 SFTs from H1...\n",
      "25-08-19 17:18:25.247 pyfstat.utils.sft INFO    : Loading 1 SFTs from H1...\n",
      "25-08-19 17:18:25.259 pyfstat.utils.sft INFO    : Loading 1 SFTs from H1...\n",
      "25-08-19 17:18:25.274 pyfstat.utils.sft INFO    : Loading 1 SFTs from H1...\n",
      "25-08-19 17:18:25.292 pyfstat.utils.sft INFO    : Loading 1 SFTs from H1...\n",
      "25-08-19 17:18:25.307 pyfstat.utils.sft INFO    : Loading 1 SFTs from H1...\n",
      "25-08-19 17:18:25.318 pyfstat.utils.sft INFO    : Loading 1 SFTs from H1...\n",
      "25-08-19 17:18:25.333 pyfstat.utils.sft INFO    : Loading 1 SFTs from H1...\n"
     ]
    },
    {
     "name": "stderr",
     "output_type": "stream",
     "text": [
      "  3%|▎         | 148/5760 [00:02<01:19, 70.60it/s]"
     ]
    },
    {
     "name": "stdout",
     "output_type": "stream",
     "text": [
      "25-08-19 17:18:25.346 pyfstat.utils.sft INFO    : Loading 1 SFTs from H1...\n",
      "25-08-19 17:18:25.358 pyfstat.utils.sft INFO    : Loading 1 SFTs from H1...\n",
      "25-08-19 17:18:25.374 pyfstat.utils.sft INFO    : Loading 1 SFTs from H1...\n",
      "25-08-19 17:18:25.389 pyfstat.utils.sft INFO    : Loading 1 SFTs from H1...\n",
      "25-08-19 17:18:25.407 pyfstat.utils.sft INFO    : Loading 1 SFTs from H1...\n",
      "25-08-19 17:18:25.422 pyfstat.utils.sft INFO    : Loading 1 SFTs from H1...\n",
      "25-08-19 17:18:25.434 pyfstat.utils.sft INFO    : Loading 1 SFTs from H1...\n",
      "25-08-19 17:18:25.445 pyfstat.utils.sft INFO    : Loading 1 SFTs from H1...\n"
     ]
    },
    {
     "name": "stderr",
     "output_type": "stream",
     "text": [
      "  3%|▎         | 156/5760 [00:02<01:19, 70.88it/s]"
     ]
    },
    {
     "name": "stdout",
     "output_type": "stream",
     "text": [
      "25-08-19 17:18:25.462 pyfstat.utils.sft INFO    : Loading 1 SFTs from H1...\n",
      "25-08-19 17:18:25.480 pyfstat.utils.sft INFO    : Loading 1 SFTs from H1...\n",
      "25-08-19 17:18:25.492 pyfstat.utils.sft INFO    : Loading 1 SFTs from H1...\n",
      "25-08-19 17:18:25.503 pyfstat.utils.sft INFO    : Loading 1 SFTs from H1...\n",
      "25-08-19 17:18:25.515 pyfstat.utils.sft INFO    : Loading 1 SFTs from H1...\n",
      "25-08-19 17:18:25.530 pyfstat.utils.sft INFO    : Loading 1 SFTs from H1...\n",
      "25-08-19 17:18:25.542 pyfstat.utils.sft INFO    : Loading 1 SFTs from H1...\n",
      "25-08-19 17:18:25.558 pyfstat.utils.sft INFO    : Loading 1 SFTs from H1...\n"
     ]
    },
    {
     "name": "stderr",
     "output_type": "stream",
     "text": [
      "  3%|▎         | 164/5760 [00:02<01:19, 70.79it/s]"
     ]
    },
    {
     "name": "stdout",
     "output_type": "stream",
     "text": [
      "25-08-19 17:18:25.574 pyfstat.utils.sft INFO    : Loading 1 SFTs from H1...\n",
      "25-08-19 17:18:25.587 pyfstat.utils.sft INFO    : Loading 1 SFTs from H1...\n",
      "25-08-19 17:18:25.601 pyfstat.utils.sft INFO    : Loading 1 SFTs from H1...\n",
      "25-08-19 17:18:25.616 pyfstat.utils.sft INFO    : Loading 1 SFTs from H1...\n",
      "25-08-19 17:18:25.627 pyfstat.utils.sft INFO    : Loading 1 SFTs from H1...\n",
      "25-08-19 17:18:25.638 pyfstat.utils.sft INFO    : Loading 1 SFTs from H1...\n",
      "25-08-19 17:18:25.649 pyfstat.utils.sft INFO    : Loading 1 SFTs from H1...\n",
      "25-08-19 17:18:25.664 pyfstat.utils.sft INFO    : Loading 1 SFTs from H1...\n"
     ]
    },
    {
     "name": "stderr",
     "output_type": "stream",
     "text": [
      "  3%|▎         | 172/5760 [00:02<01:17, 72.14it/s]"
     ]
    },
    {
     "name": "stdout",
     "output_type": "stream",
     "text": [
      "25-08-19 17:18:25.677 pyfstat.utils.sft INFO    : Loading 1 SFTs from H1...\n",
      "25-08-19 17:18:25.693 pyfstat.utils.sft INFO    : Loading 1 SFTs from H1...\n",
      "25-08-19 17:18:25.708 pyfstat.utils.sft INFO    : Loading 1 SFTs from H1...\n",
      "25-08-19 17:18:25.720 pyfstat.utils.sft INFO    : Loading 1 SFTs from H1...\n",
      "25-08-19 17:18:25.731 pyfstat.utils.sft INFO    : Loading 1 SFTs from H1...\n",
      "25-08-19 17:18:25.747 pyfstat.utils.sft INFO    : Loading 1 SFTs from H1...\n",
      "25-08-19 17:18:25.759 pyfstat.utils.sft INFO    : Loading 1 SFTs from H1...\n",
      "25-08-19 17:18:25.778 pyfstat.utils.sft INFO    : Loading 1 SFTs from H1...\n"
     ]
    },
    {
     "name": "stderr",
     "output_type": "stream",
     "text": [
      "  3%|▎         | 180/5760 [00:02<01:17, 71.57it/s]"
     ]
    },
    {
     "name": "stdout",
     "output_type": "stream",
     "text": [
      "25-08-19 17:18:25.794 pyfstat.utils.sft INFO    : Loading 1 SFTs from H1...\n",
      "25-08-19 17:18:25.810 pyfstat.utils.sft INFO    : Loading 1 SFTs from H1...\n",
      "25-08-19 17:18:25.821 pyfstat.utils.sft INFO    : Loading 1 SFTs from H1...\n",
      "25-08-19 17:18:25.832 pyfstat.utils.sft INFO    : Loading 1 SFTs from H1...\n",
      "25-08-19 17:18:25.843 pyfstat.utils.sft INFO    : Loading 1 SFTs from H1...\n",
      "25-08-19 17:18:25.858 pyfstat.utils.sft INFO    : Loading 1 SFTs from H1...\n",
      "25-08-19 17:18:25.870 pyfstat.utils.sft INFO    : Loading 1 SFTs from H1...\n",
      "25-08-19 17:18:25.884 pyfstat.utils.sft INFO    : Loading 1 SFTs from H1...\n"
     ]
    },
    {
     "name": "stderr",
     "output_type": "stream",
     "text": [
      "  3%|▎         | 188/5760 [00:02<01:16, 72.71it/s]"
     ]
    },
    {
     "name": "stdout",
     "output_type": "stream",
     "text": [
      "25-08-19 17:18:25.900 pyfstat.utils.sft INFO    : Loading 1 SFTs from H1...\n",
      "25-08-19 17:18:25.915 pyfstat.utils.sft INFO    : Loading 1 SFTs from H1...\n",
      "25-08-19 17:18:25.930 pyfstat.utils.sft INFO    : Loading 1 SFTs from H1...\n",
      "25-08-19 17:18:25.944 pyfstat.utils.sft INFO    : Loading 1 SFTs from H1...\n",
      "25-08-19 17:18:25.959 pyfstat.utils.sft INFO    : Loading 1 SFTs from H1...\n",
      "25-08-19 17:18:25.974 pyfstat.utils.sft INFO    : Loading 1 SFTs from H1...\n",
      "25-08-19 17:18:25.990 pyfstat.utils.sft INFO    : Loading 1 SFTs from H1...\n",
      "25-08-19 17:18:26.005 pyfstat.utils.sft INFO    : Loading 1 SFTs from H1...\n"
     ]
    },
    {
     "name": "stderr",
     "output_type": "stream",
     "text": [
      "  3%|▎         | 196/5760 [00:02<01:19, 70.03it/s]"
     ]
    },
    {
     "name": "stdout",
     "output_type": "stream",
     "text": [
      "25-08-19 17:18:26.024 pyfstat.utils.sft INFO    : Loading 1 SFTs from H1...\n",
      "25-08-19 17:18:26.036 pyfstat.utils.sft INFO    : Loading 1 SFTs from H1...\n",
      "25-08-19 17:18:26.048 pyfstat.utils.sft INFO    : Loading 1 SFTs from H1...\n",
      "25-08-19 17:18:26.059 pyfstat.utils.sft INFO    : Loading 1 SFTs from H1...\n",
      "25-08-19 17:18:26.074 pyfstat.utils.sft INFO    : Loading 1 SFTs from H1...\n",
      "25-08-19 17:18:26.089 pyfstat.utils.sft INFO    : Loading 1 SFTs from H1...\n",
      "25-08-19 17:18:26.104 pyfstat.utils.sft INFO    : Loading 1 SFTs from H1...\n",
      "25-08-19 17:18:26.119 pyfstat.utils.sft INFO    : Loading 1 SFTs from H1...\n"
     ]
    },
    {
     "name": "stderr",
     "output_type": "stream",
     "text": [
      "  4%|▎         | 204/5760 [00:02<01:18, 70.72it/s]"
     ]
    },
    {
     "name": "stdout",
     "output_type": "stream",
     "text": [
      "25-08-19 17:18:26.135 pyfstat.utils.sft INFO    : Loading 1 SFTs from H1...\n",
      "25-08-19 17:18:26.150 pyfstat.utils.sft INFO    : Loading 1 SFTs from H1...\n",
      "25-08-19 17:18:26.170 pyfstat.utils.sft INFO    : Loading 1 SFTs from H1...\n",
      "25-08-19 17:18:26.181 pyfstat.utils.sft INFO    : Loading 1 SFTs from H1...\n",
      "25-08-19 17:18:26.198 pyfstat.utils.sft INFO    : Loading 1 SFTs from H1...\n",
      "25-08-19 17:18:26.212 pyfstat.utils.sft INFO    : Loading 1 SFTs from H1...\n",
      "25-08-19 17:18:26.223 pyfstat.utils.sft INFO    : Loading 1 SFTs from H1...\n",
      "25-08-19 17:18:26.235 pyfstat.utils.sft INFO    : Loading 1 SFTs from H1...\n"
     ]
    },
    {
     "name": "stderr",
     "output_type": "stream",
     "text": [
      "  4%|▎         | 212/5760 [00:02<01:19, 70.06it/s]"
     ]
    },
    {
     "name": "stdout",
     "output_type": "stream",
     "text": [
      "25-08-19 17:18:26.248 pyfstat.utils.sft INFO    : Loading 1 SFTs from H1...\n",
      "25-08-19 17:18:26.263 pyfstat.utils.sft INFO    : Loading 1 SFTs from H1...\n",
      "25-08-19 17:18:26.283 pyfstat.utils.sft INFO    : Loading 1 SFTs from H1...\n",
      "25-08-19 17:18:26.297 pyfstat.utils.sft INFO    : Loading 1 SFTs from H1...\n",
      "25-08-19 17:18:26.312 pyfstat.utils.sft INFO    : Loading 1 SFTs from H1...\n",
      "25-08-19 17:18:26.328 pyfstat.utils.sft INFO    : Loading 1 SFTs from H1...\n",
      "25-08-19 17:18:26.348 pyfstat.utils.sft INFO    : Loading 1 SFTs from H1...\n",
      "25-08-19 17:18:26.367 pyfstat.utils.sft INFO    : Loading 1 SFTs from H1...\n"
     ]
    },
    {
     "name": "stderr",
     "output_type": "stream",
     "text": [
      "  4%|▍         | 220/5760 [00:03<01:22, 66.96it/s]"
     ]
    },
    {
     "name": "stdout",
     "output_type": "stream",
     "text": [
      "25-08-19 17:18:26.384 pyfstat.utils.sft INFO    : Loading 1 SFTs from H1...\n",
      "25-08-19 17:18:26.397 pyfstat.utils.sft INFO    : Loading 1 SFTs from H1...\n",
      "25-08-19 17:18:26.408 pyfstat.utils.sft INFO    : Loading 1 SFTs from H1...\n",
      "25-08-19 17:18:26.420 pyfstat.utils.sft INFO    : Loading 1 SFTs from H1...\n",
      "25-08-19 17:18:26.438 pyfstat.utils.sft INFO    : Loading 1 SFTs from H1...\n",
      "25-08-19 17:18:26.454 pyfstat.utils.sft INFO    : Loading 1 SFTs from H1...\n",
      "25-08-19 17:18:26.468 pyfstat.utils.sft INFO    : Loading 1 SFTs from H1...\n"
     ]
    },
    {
     "name": "stderr",
     "output_type": "stream",
     "text": [
      "  4%|▍         | 227/5760 [00:03<01:21, 67.62it/s]"
     ]
    },
    {
     "name": "stdout",
     "output_type": "stream",
     "text": [
      "25-08-19 17:18:26.484 pyfstat.utils.sft INFO    : Loading 1 SFTs from H1...\n",
      "25-08-19 17:18:26.499 pyfstat.utils.sft INFO    : Loading 1 SFTs from H1...\n",
      "25-08-19 17:18:26.510 pyfstat.utils.sft INFO    : Loading 1 SFTs from H1...\n",
      "25-08-19 17:18:26.520 pyfstat.utils.sft INFO    : Loading 1 SFTs from H1...\n",
      "25-08-19 17:18:26.536 pyfstat.utils.sft INFO    : Loading 1 SFTs from H1...\n",
      "25-08-19 17:18:26.556 pyfstat.utils.sft INFO    : Loading 1 SFTs from H1...\n",
      "25-08-19 17:18:26.573 pyfstat.utils.sft INFO    : Loading 1 SFTs from H1...\n"
     ]
    },
    {
     "name": "stderr",
     "output_type": "stream",
     "text": [
      "  4%|▍         | 234/5760 [00:03<01:22, 67.20it/s]"
     ]
    },
    {
     "name": "stdout",
     "output_type": "stream",
     "text": [
      "25-08-19 17:18:26.590 pyfstat.utils.sft INFO    : Loading 1 SFTs from H1...\n",
      "25-08-19 17:18:26.605 pyfstat.utils.sft INFO    : Loading 1 SFTs from H1...\n",
      "25-08-19 17:18:26.616 pyfstat.utils.sft INFO    : Loading 1 SFTs from H1...\n",
      "25-08-19 17:18:26.630 pyfstat.utils.sft INFO    : Loading 1 SFTs from H1...\n",
      "25-08-19 17:18:26.641 pyfstat.utils.sft INFO    : Loading 1 SFTs from H1...\n",
      "25-08-19 17:18:26.656 pyfstat.utils.sft INFO    : Loading 1 SFTs from H1...\n",
      "25-08-19 17:18:26.670 pyfstat.utils.sft INFO    : Loading 1 SFTs from H1...\n",
      "25-08-19 17:18:26.682 pyfstat.utils.sft INFO    : Loading 1 SFTs from H1...\n"
     ]
    },
    {
     "name": "stderr",
     "output_type": "stream",
     "text": [
      "  4%|▍         | 242/5760 [00:03<01:19, 69.29it/s]"
     ]
    },
    {
     "name": "stdout",
     "output_type": "stream",
     "text": [
      "25-08-19 17:18:26.694 pyfstat.utils.sft INFO    : Loading 1 SFTs from H1...\n",
      "25-08-19 17:18:26.709 pyfstat.utils.sft INFO    : Loading 1 SFTs from H1...\n",
      "25-08-19 17:18:26.721 pyfstat.utils.sft INFO    : Loading 1 SFTs from H1...\n",
      "25-08-19 17:18:26.736 pyfstat.utils.sft INFO    : Loading 1 SFTs from H1...\n",
      "25-08-19 17:18:26.751 pyfstat.utils.sft INFO    : Loading 1 SFTs from H1...\n",
      "25-08-19 17:18:26.766 pyfstat.utils.sft INFO    : Loading 1 SFTs from H1...\n",
      "25-08-19 17:18:26.792 pyfstat.utils.sft INFO    : Loading 1 SFTs from H1...\n"
     ]
    },
    {
     "name": "stderr",
     "output_type": "stream",
     "text": [
      "  4%|▍         | 249/5760 [00:03<01:21, 67.34it/s]"
     ]
    },
    {
     "name": "stdout",
     "output_type": "stream",
     "text": [
      "25-08-19 17:18:26.806 pyfstat.utils.sft INFO    : Loading 1 SFTs from H1...\n",
      "25-08-19 17:18:26.825 pyfstat.utils.sft INFO    : Loading 1 SFTs from H1...\n",
      "25-08-19 17:18:26.957 pyfstat.utils.sft INFO    : Loading 1 SFTs from H1...\n",
      "25-08-19 17:18:26.973 pyfstat.utils.sft INFO    : Loading 1 SFTs from H1...\n",
      "25-08-19 17:18:26.988 pyfstat.utils.sft INFO    : Loading 1 SFTs from H1...\n",
      "25-08-19 17:18:27.006 pyfstat.utils.sft INFO    : Loading 1 SFTs from H1...\n",
      "25-08-19 17:18:27.018 pyfstat.utils.sft INFO    : Loading 1 SFTs from H1...\n"
     ]
    },
    {
     "name": "stderr",
     "output_type": "stream",
     "text": [
      "  4%|▍         | 256/5760 [00:03<01:49, 50.36it/s]"
     ]
    },
    {
     "name": "stdout",
     "output_type": "stream",
     "text": [
      "25-08-19 17:18:27.032 pyfstat.utils.sft INFO    : Loading 1 SFTs from H1...\n",
      "25-08-19 17:18:27.047 pyfstat.utils.sft INFO    : Loading 1 SFTs from H1...\n",
      "25-08-19 17:18:27.065 pyfstat.utils.sft INFO    : Loading 1 SFTs from H1...\n",
      "25-08-19 17:18:27.080 pyfstat.utils.sft INFO    : Loading 1 SFTs from H1...\n",
      "25-08-19 17:18:27.093 pyfstat.utils.sft INFO    : Loading 1 SFTs from H1...\n",
      "25-08-19 17:18:27.104 pyfstat.utils.sft INFO    : Loading 1 SFTs from H1...\n",
      "25-08-19 17:18:27.115 pyfstat.utils.sft INFO    : Loading 1 SFTs from H1...\n",
      "25-08-19 17:18:27.126 pyfstat.utils.sft INFO    : Loading 1 SFTs from H1...\n"
     ]
    },
    {
     "name": "stderr",
     "output_type": "stream",
     "text": [
      "  5%|▍         | 264/5760 [00:03<01:37, 56.19it/s]"
     ]
    },
    {
     "name": "stdout",
     "output_type": "stream",
     "text": [
      "25-08-19 17:18:27.143 pyfstat.utils.sft INFO    : Loading 1 SFTs from H1...\n",
      "25-08-19 17:18:27.155 pyfstat.utils.sft INFO    : Loading 1 SFTs from H1...\n",
      "25-08-19 17:18:27.168 pyfstat.utils.sft INFO    : Loading 1 SFTs from H1...\n",
      "25-08-19 17:18:27.184 pyfstat.utils.sft INFO    : Loading 1 SFTs from H1...\n",
      "25-08-19 17:18:27.195 pyfstat.utils.sft INFO    : Loading 1 SFTs from H1...\n",
      "25-08-19 17:18:27.206 pyfstat.utils.sft INFO    : Loading 1 SFTs from H1...\n",
      "25-08-19 17:18:27.218 pyfstat.utils.sft INFO    : Loading 1 SFTs from H1...\n",
      "25-08-19 17:18:27.233 pyfstat.utils.sft INFO    : Loading 1 SFTs from H1...\n"
     ]
    },
    {
     "name": "stderr",
     "output_type": "stream",
     "text": [
      "  5%|▍         | 272/5760 [00:03<01:29, 60.99it/s]"
     ]
    },
    {
     "name": "stdout",
     "output_type": "stream",
     "text": [
      "25-08-19 17:18:27.248 pyfstat.utils.sft INFO    : Loading 1 SFTs from H1...\n",
      "25-08-19 17:18:27.268 pyfstat.utils.sft INFO    : Loading 1 SFTs from H1...\n",
      "25-08-19 17:18:27.282 pyfstat.utils.sft INFO    : Loading 1 SFTs from H1...\n",
      "25-08-19 17:18:27.297 pyfstat.utils.sft INFO    : Loading 1 SFTs from H1...\n",
      "25-08-19 17:18:27.308 pyfstat.utils.sft INFO    : Loading 1 SFTs from H1...\n",
      "25-08-19 17:18:27.323 pyfstat.utils.sft INFO    : Loading 1 SFTs from H1...\n",
      "25-08-19 17:18:27.339 pyfstat.utils.sft INFO    : Loading 1 SFTs from H1...\n"
     ]
    },
    {
     "name": "stderr",
     "output_type": "stream",
     "text": [
      "  5%|▍         | 279/5760 [00:04<01:28, 62.21it/s]"
     ]
    },
    {
     "name": "stdout",
     "output_type": "stream",
     "text": [
      "25-08-19 17:18:27.352 pyfstat.utils.sft INFO    : Loading 1 SFTs from H1...\n",
      "25-08-19 17:18:27.367 pyfstat.utils.sft INFO    : Loading 1 SFTs from H1...\n",
      "25-08-19 17:18:27.378 pyfstat.utils.sft INFO    : Loading 1 SFTs from H1...\n",
      "25-08-19 17:18:27.393 pyfstat.utils.sft INFO    : Loading 1 SFTs from H1...\n",
      "25-08-19 17:18:27.408 pyfstat.utils.sft INFO    : Loading 1 SFTs from H1...\n",
      "25-08-19 17:18:27.419 pyfstat.utils.sft INFO    : Loading 1 SFTs from H1...\n",
      "25-08-19 17:18:27.435 pyfstat.utils.sft INFO    : Loading 1 SFTs from H1...\n",
      "25-08-19 17:18:27.450 pyfstat.utils.sft INFO    : Loading 1 SFTs from H1...\n"
     ]
    },
    {
     "name": "stderr",
     "output_type": "stream",
     "text": [
      "  5%|▍         | 287/5760 [00:04<01:24, 65.05it/s]"
     ]
    },
    {
     "name": "stdout",
     "output_type": "stream",
     "text": [
      "25-08-19 17:18:27.467 pyfstat.utils.sft INFO    : Loading 1 SFTs from H1...\n",
      "25-08-19 17:18:27.482 pyfstat.utils.sft INFO    : Loading 1 SFTs from H1...\n",
      "25-08-19 17:18:27.494 pyfstat.utils.sft INFO    : Loading 1 SFTs from H1...\n",
      "25-08-19 17:18:27.509 pyfstat.utils.sft INFO    : Loading 1 SFTs from H1...\n",
      "25-08-19 17:18:27.524 pyfstat.utils.sft INFO    : Loading 1 SFTs from H1...\n",
      "25-08-19 17:18:27.544 pyfstat.utils.sft INFO    : Loading 1 SFTs from H1...\n",
      "25-08-19 17:18:27.559 pyfstat.utils.sft INFO    : Loading 1 SFTs from H1...\n"
     ]
    },
    {
     "name": "stderr",
     "output_type": "stream",
     "text": [
      "  5%|▌         | 294/5760 [00:04<01:24, 64.85it/s]"
     ]
    },
    {
     "name": "stdout",
     "output_type": "stream",
     "text": [
      "25-08-19 17:18:27.575 pyfstat.utils.sft INFO    : Loading 1 SFTs from H1...\n",
      "25-08-19 17:18:27.586 pyfstat.utils.sft INFO    : Loading 1 SFTs from H1...\n",
      "25-08-19 17:18:27.597 pyfstat.utils.sft INFO    : Loading 1 SFTs from H1...\n",
      "25-08-19 17:18:27.611 pyfstat.utils.sft INFO    : Loading 1 SFTs from H1...\n",
      "25-08-19 17:18:27.626 pyfstat.utils.sft INFO    : Loading 1 SFTs from H1...\n",
      "25-08-19 17:18:27.640 pyfstat.utils.sft INFO    : Loading 1 SFTs from H1...\n",
      "25-08-19 17:18:27.656 pyfstat.utils.sft INFO    : Loading 1 SFTs from H1...\n",
      "25-08-19 17:18:27.671 pyfstat.utils.sft INFO    : Loading 1 SFTs from H1...\n"
     ]
    },
    {
     "name": "stderr",
     "output_type": "stream",
     "text": [
      "  5%|▌         | 302/5760 [00:04<01:22, 66.03it/s]"
     ]
    },
    {
     "name": "stdout",
     "output_type": "stream",
     "text": [
      "25-08-19 17:18:27.689 pyfstat.utils.sft INFO    : Loading 1 SFTs from H1...\n",
      "25-08-19 17:18:27.702 pyfstat.utils.sft INFO    : Loading 1 SFTs from H1...\n",
      "25-08-19 17:18:27.718 pyfstat.utils.sft INFO    : Loading 1 SFTs from H1...\n",
      "25-08-19 17:18:27.730 pyfstat.utils.sft INFO    : Loading 1 SFTs from H1...\n",
      "25-08-19 17:18:27.745 pyfstat.utils.sft INFO    : Loading 1 SFTs from H1...\n",
      "25-08-19 17:18:27.756 pyfstat.utils.sft INFO    : Loading 1 SFTs from H1...\n",
      "25-08-19 17:18:27.768 pyfstat.utils.sft INFO    : Loading 1 SFTs from H1...\n",
      "25-08-19 17:18:27.784 pyfstat.utils.sft INFO    : Loading 1 SFTs from H1...\n"
     ]
    },
    {
     "name": "stderr",
     "output_type": "stream",
     "text": [
      "  5%|▌         | 310/5760 [00:04<01:19, 68.27it/s]"
     ]
    },
    {
     "name": "stdout",
     "output_type": "stream",
     "text": [
      "25-08-19 17:18:27.800 pyfstat.utils.sft INFO    : Loading 1 SFTs from H1...\n",
      "25-08-19 17:18:27.816 pyfstat.utils.sft INFO    : Loading 1 SFTs from H1...\n",
      "25-08-19 17:18:27.829 pyfstat.utils.sft INFO    : Loading 1 SFTs from H1...\n",
      "25-08-19 17:18:27.847 pyfstat.utils.sft INFO    : Loading 1 SFTs from H1...\n",
      "25-08-19 17:18:27.863 pyfstat.utils.sft INFO    : Loading 1 SFTs from H1...\n",
      "25-08-19 17:18:27.875 pyfstat.utils.sft INFO    : Loading 1 SFTs from H1...\n",
      "25-08-19 17:18:27.890 pyfstat.utils.sft INFO    : Loading 1 SFTs from H1...\n"
     ]
    },
    {
     "name": "stderr",
     "output_type": "stream",
     "text": [
      "  6%|▌         | 317/5760 [00:04<01:21, 66.92it/s]"
     ]
    },
    {
     "name": "stdout",
     "output_type": "stream",
     "text": [
      "25-08-19 17:18:27.910 pyfstat.utils.sft INFO    : Loading 1 SFTs from H1...\n",
      "25-08-19 17:18:27.923 pyfstat.utils.sft INFO    : Loading 1 SFTs from H1...\n",
      "25-08-19 17:18:27.935 pyfstat.utils.sft INFO    : Loading 1 SFTs from H1...\n",
      "25-08-19 17:18:27.949 pyfstat.utils.sft INFO    : Loading 1 SFTs from H1...\n",
      "25-08-19 17:18:27.967 pyfstat.utils.sft INFO    : Loading 1 SFTs from H1...\n",
      "25-08-19 17:18:27.983 pyfstat.utils.sft INFO    : Loading 1 SFTs from H1...\n",
      "25-08-19 17:18:27.998 pyfstat.utils.sft INFO    : Loading 1 SFTs from H1...\n"
     ]
    },
    {
     "name": "stderr",
     "output_type": "stream",
     "text": [
      "  6%|▌         | 324/5760 [00:04<01:21, 66.38it/s]"
     ]
    },
    {
     "name": "stdout",
     "output_type": "stream",
     "text": [
      "25-08-19 17:18:28.017 pyfstat.utils.sft INFO    : Loading 1 SFTs from H1...\n",
      "25-08-19 17:18:28.036 pyfstat.utils.sft INFO    : Loading 1 SFTs from H1...\n",
      "25-08-19 17:18:28.051 pyfstat.utils.sft INFO    : Loading 1 SFTs from H1...\n",
      "25-08-19 17:18:28.070 pyfstat.utils.sft INFO    : Loading 1 SFTs from H1...\n",
      "25-08-19 17:18:28.085 pyfstat.utils.sft INFO    : Loading 1 SFTs from H1...\n",
      "25-08-19 17:18:28.096 pyfstat.utils.sft INFO    : Loading 1 SFTs from H1...\n",
      "25-08-19 17:18:28.107 pyfstat.utils.sft INFO    : Loading 1 SFTs from H1...\n"
     ]
    },
    {
     "name": "stderr",
     "output_type": "stream",
     "text": [
      "  6%|▌         | 331/5760 [00:04<01:21, 66.26it/s]"
     ]
    },
    {
     "name": "stdout",
     "output_type": "stream",
     "text": [
      "25-08-19 17:18:28.120 pyfstat.utils.sft INFO    : Loading 1 SFTs from H1...\n",
      "25-08-19 17:18:28.131 pyfstat.utils.sft INFO    : Loading 1 SFTs from H1...\n",
      "25-08-19 17:18:28.147 pyfstat.utils.sft INFO    : Loading 1 SFTs from H1...\n",
      "25-08-19 17:18:28.167 pyfstat.utils.sft INFO    : Loading 1 SFTs from H1...\n",
      "25-08-19 17:18:28.184 pyfstat.utils.sft INFO    : Loading 1 SFTs from H1...\n",
      "25-08-19 17:18:28.196 pyfstat.utils.sft INFO    : Loading 1 SFTs from H1...\n",
      "25-08-19 17:18:28.208 pyfstat.utils.sft INFO    : Loading 1 SFTs from H1...\n"
     ]
    },
    {
     "name": "stderr",
     "output_type": "stream",
     "text": [
      "  6%|▌         | 338/5760 [00:04<01:20, 67.14it/s]"
     ]
    },
    {
     "name": "stdout",
     "output_type": "stream",
     "text": [
      "25-08-19 17:18:28.221 pyfstat.utils.sft INFO    : Loading 1 SFTs from H1...\n",
      "25-08-19 17:18:28.233 pyfstat.utils.sft INFO    : Loading 1 SFTs from H1...\n",
      "25-08-19 17:18:28.248 pyfstat.utils.sft INFO    : Loading 1 SFTs from H1...\n",
      "25-08-19 17:18:28.258 pyfstat.utils.sft INFO    : Loading 1 SFTs from H1...\n",
      "25-08-19 17:18:28.271 pyfstat.utils.sft INFO    : Loading 1 SFTs from H1...\n",
      "25-08-19 17:18:28.286 pyfstat.utils.sft INFO    : Loading 1 SFTs from H1...\n",
      "25-08-19 17:18:28.298 pyfstat.utils.sft INFO    : Loading 1 SFTs from H1...\n",
      "25-08-19 17:18:28.309 pyfstat.utils.sft INFO    : Loading 1 SFTs from H1...\n"
     ]
    },
    {
     "name": "stderr",
     "output_type": "stream",
     "text": [
      "  6%|▌         | 346/5760 [00:05<01:16, 70.59it/s]"
     ]
    },
    {
     "name": "stdout",
     "output_type": "stream",
     "text": [
      "25-08-19 17:18:28.326 pyfstat.utils.sft INFO    : Loading 1 SFTs from H1...\n",
      "25-08-19 17:18:28.339 pyfstat.utils.sft INFO    : Loading 1 SFTs from H1...\n",
      "25-08-19 17:18:28.355 pyfstat.utils.sft INFO    : Loading 1 SFTs from H1...\n",
      "25-08-19 17:18:28.372 pyfstat.utils.sft INFO    : Loading 1 SFTs from H1...\n",
      "25-08-19 17:18:28.388 pyfstat.utils.sft INFO    : Loading 1 SFTs from H1...\n",
      "25-08-19 17:18:28.403 pyfstat.utils.sft INFO    : Loading 1 SFTs from H1...\n",
      "25-08-19 17:18:28.415 pyfstat.utils.sft INFO    : Loading 1 SFTs from H1...\n",
      "25-08-19 17:18:28.429 pyfstat.utils.sft INFO    : Loading 1 SFTs from H1...\n"
     ]
    },
    {
     "name": "stderr",
     "output_type": "stream",
     "text": [
      "  6%|▌         | 354/5760 [00:05<01:17, 69.36it/s]"
     ]
    },
    {
     "name": "stdout",
     "output_type": "stream",
     "text": [
      "25-08-19 17:18:28.442 pyfstat.utils.sft INFO    : Loading 1 SFTs from H1...\n",
      "25-08-19 17:18:28.453 pyfstat.utils.sft INFO    : Loading 1 SFTs from H1...\n",
      "25-08-19 17:18:28.466 pyfstat.utils.sft INFO    : Loading 1 SFTs from H1...\n",
      "25-08-19 17:18:28.478 pyfstat.utils.sft INFO    : Loading 1 SFTs from H1...\n",
      "25-08-19 17:18:28.490 pyfstat.utils.sft INFO    : Loading 1 SFTs from H1...\n",
      "25-08-19 17:18:28.502 pyfstat.utils.sft INFO    : Loading 1 SFTs from H1...\n",
      "25-08-19 17:18:28.514 pyfstat.utils.sft INFO    : Loading 1 SFTs from H1...\n",
      "25-08-19 17:18:28.530 pyfstat.utils.sft INFO    : Loading 1 SFTs from H1...\n"
     ]
    },
    {
     "name": "stderr",
     "output_type": "stream",
     "text": [
      "  6%|▋         | 362/5760 [00:05<01:14, 72.09it/s]"
     ]
    },
    {
     "name": "stdout",
     "output_type": "stream",
     "text": [
      "25-08-19 17:18:28.544 pyfstat.utils.sft INFO    : Loading 1 SFTs from H1...\n",
      "25-08-19 17:18:28.559 pyfstat.utils.sft INFO    : Loading 1 SFTs from H1...\n",
      "25-08-19 17:18:28.574 pyfstat.utils.sft INFO    : Loading 1 SFTs from H1...\n",
      "25-08-19 17:18:28.585 pyfstat.utils.sft INFO    : Loading 1 SFTs from H1...\n",
      "25-08-19 17:18:28.598 pyfstat.utils.sft INFO    : Loading 1 SFTs from H1...\n",
      "25-08-19 17:18:28.613 pyfstat.utils.sft INFO    : Loading 1 SFTs from H1...\n",
      "25-08-19 17:18:28.629 pyfstat.utils.sft INFO    : Loading 1 SFTs from H1...\n",
      "25-08-19 17:18:28.640 pyfstat.utils.sft INFO    : Loading 1 SFTs from H1...\n"
     ]
    },
    {
     "name": "stderr",
     "output_type": "stream",
     "text": [
      "  6%|▋         | 370/5760 [00:05<01:14, 72.53it/s]"
     ]
    },
    {
     "name": "stdout",
     "output_type": "stream",
     "text": [
      "25-08-19 17:18:28.655 pyfstat.utils.sft INFO    : Loading 1 SFTs from H1...\n",
      "25-08-19 17:18:28.666 pyfstat.utils.sft INFO    : Loading 1 SFTs from H1...\n",
      "25-08-19 17:18:28.681 pyfstat.utils.sft INFO    : Loading 1 SFTs from H1...\n",
      "25-08-19 17:18:28.695 pyfstat.utils.sft INFO    : Loading 1 SFTs from H1...\n",
      "25-08-19 17:18:28.711 pyfstat.utils.sft INFO    : Loading 1 SFTs from H1...\n",
      "25-08-19 17:18:28.723 pyfstat.utils.sft INFO    : Loading 1 SFTs from H1...\n",
      "25-08-19 17:18:28.739 pyfstat.utils.sft INFO    : Loading 1 SFTs from H1...\n",
      "25-08-19 17:18:28.756 pyfstat.utils.sft INFO    : Loading 1 SFTs from H1...\n"
     ]
    },
    {
     "name": "stderr",
     "output_type": "stream",
     "text": [
      "  7%|▋         | 378/5760 [00:05<01:15, 71.46it/s]"
     ]
    },
    {
     "name": "stdout",
     "output_type": "stream",
     "text": [
      "25-08-19 17:18:28.767 pyfstat.utils.sft INFO    : Loading 1 SFTs from H1...\n",
      "25-08-19 17:18:28.778 pyfstat.utils.sft INFO    : Loading 1 SFTs from H1...\n",
      "25-08-19 17:18:28.792 pyfstat.utils.sft INFO    : Loading 1 SFTs from H1...\n",
      "25-08-19 17:18:28.807 pyfstat.utils.sft INFO    : Loading 1 SFTs from H1...\n",
      "25-08-19 17:18:28.821 pyfstat.utils.sft INFO    : Loading 1 SFTs from H1...\n",
      "25-08-19 17:18:28.835 pyfstat.utils.sft INFO    : Loading 1 SFTs from H1...\n",
      "25-08-19 17:18:28.847 pyfstat.utils.sft INFO    : Loading 1 SFTs from H1...\n",
      "25-08-19 17:18:28.862 pyfstat.utils.sft INFO    : Loading 1 SFTs from H1...\n"
     ]
    },
    {
     "name": "stderr",
     "output_type": "stream",
     "text": [
      "  7%|▋         | 386/5760 [00:05<01:14, 72.32it/s]"
     ]
    },
    {
     "name": "stdout",
     "output_type": "stream",
     "text": [
      "25-08-19 17:18:28.875 pyfstat.utils.sft INFO    : Loading 1 SFTs from H1...\n",
      "25-08-19 17:18:28.886 pyfstat.utils.sft INFO    : Loading 1 SFTs from H1...\n",
      "25-08-19 17:18:28.897 pyfstat.utils.sft INFO    : Loading 1 SFTs from H1...\n",
      "25-08-19 17:18:28.911 pyfstat.utils.sft INFO    : Loading 1 SFTs from H1...\n",
      "25-08-19 17:18:28.930 pyfstat.utils.sft INFO    : Loading 1 SFTs from H1...\n",
      "25-08-19 17:18:28.946 pyfstat.utils.sft INFO    : Loading 1 SFTs from H1...\n",
      "25-08-19 17:18:28.956 pyfstat.utils.sft INFO    : Loading 1 SFTs from H1...\n",
      "25-08-19 17:18:28.971 pyfstat.utils.sft INFO    : Loading 1 SFTs from H1...\n"
     ]
    },
    {
     "name": "stderr",
     "output_type": "stream",
     "text": [
      "  7%|▋         | 394/5760 [00:05<01:13, 72.69it/s]"
     ]
    },
    {
     "name": "stdout",
     "output_type": "stream",
     "text": [
      "25-08-19 17:18:28.987 pyfstat.utils.sft INFO    : Loading 1 SFTs from H1...\n",
      "25-08-19 17:18:28.998 pyfstat.utils.sft INFO    : Loading 1 SFTs from H1...\n",
      "25-08-19 17:18:29.013 pyfstat.utils.sft INFO    : Loading 1 SFTs from H1...\n",
      "25-08-19 17:18:29.026 pyfstat.utils.sft INFO    : Loading 1 SFTs from H1...\n",
      "25-08-19 17:18:29.041 pyfstat.utils.sft INFO    : Loading 1 SFTs from H1...\n",
      "25-08-19 17:18:29.053 pyfstat.utils.sft INFO    : Loading 1 SFTs from H1...\n",
      "25-08-19 17:18:29.070 pyfstat.utils.sft INFO    : Loading 1 SFTs from H1...\n",
      "25-08-19 17:18:29.082 pyfstat.utils.sft INFO    : Loading 1 SFTs from H1...\n"
     ]
    },
    {
     "name": "stderr",
     "output_type": "stream",
     "text": [
      "  7%|▋         | 402/5760 [00:05<01:14, 72.28it/s]"
     ]
    },
    {
     "name": "stdout",
     "output_type": "stream",
     "text": [
      "25-08-19 17:18:29.098 pyfstat.utils.sft INFO    : Loading 1 SFTs from H1...\n",
      "25-08-19 17:18:29.111 pyfstat.utils.sft INFO    : Loading 1 SFTs from H1...\n",
      "25-08-19 17:18:29.123 pyfstat.utils.sft INFO    : Loading 1 SFTs from H1...\n",
      "25-08-19 17:18:29.140 pyfstat.utils.sft INFO    : Loading 1 SFTs from H1...\n",
      "25-08-19 17:18:29.153 pyfstat.utils.sft INFO    : Loading 1 SFTs from H1...\n",
      "25-08-19 17:18:29.170 pyfstat.utils.sft INFO    : Loading 1 SFTs from H1...\n",
      "25-08-19 17:18:29.182 pyfstat.utils.sft INFO    : Loading 1 SFTs from H1...\n",
      "25-08-19 17:18:29.195 pyfstat.utils.sft INFO    : Loading 1 SFTs from H1...\n"
     ]
    },
    {
     "name": "stderr",
     "output_type": "stream",
     "text": [
      "  7%|▋         | 410/5760 [00:05<01:14, 72.02it/s]"
     ]
    },
    {
     "name": "stdout",
     "output_type": "stream",
     "text": [
      "25-08-19 17:18:29.212 pyfstat.utils.sft INFO    : Loading 1 SFTs from H1...\n",
      "25-08-19 17:18:29.232 pyfstat.utils.sft INFO    : Loading 1 SFTs from H1...\n",
      "25-08-19 17:18:29.248 pyfstat.utils.sft INFO    : Loading 1 SFTs from H1...\n",
      "25-08-19 17:18:29.263 pyfstat.utils.sft INFO    : Loading 1 SFTs from H1...\n",
      "25-08-19 17:18:29.279 pyfstat.utils.sft INFO    : Loading 1 SFTs from H1...\n",
      "25-08-19 17:18:29.294 pyfstat.utils.sft INFO    : Loading 1 SFTs from H1...\n",
      "25-08-19 17:18:29.312 pyfstat.utils.sft INFO    : Loading 1 SFTs from H1...\n",
      "25-08-19 17:18:29.327 pyfstat.utils.sft INFO    : Loading 1 SFTs from H1...\n"
     ]
    },
    {
     "name": "stderr",
     "output_type": "stream",
     "text": [
      "  7%|▋         | 418/5760 [00:06<01:18, 68.28it/s]"
     ]
    },
    {
     "name": "stdout",
     "output_type": "stream",
     "text": [
      "25-08-19 17:18:29.340 pyfstat.utils.sft INFO    : Loading 1 SFTs from H1...\n",
      "25-08-19 17:18:29.354 pyfstat.utils.sft INFO    : Loading 1 SFTs from H1...\n",
      "25-08-19 17:18:29.366 pyfstat.utils.sft INFO    : Loading 1 SFTs from H1...\n",
      "25-08-19 17:18:29.381 pyfstat.utils.sft INFO    : Loading 1 SFTs from H1...\n",
      "25-08-19 17:18:29.397 pyfstat.utils.sft INFO    : Loading 1 SFTs from H1...\n",
      "25-08-19 17:18:29.412 pyfstat.utils.sft INFO    : Loading 1 SFTs from H1...\n",
      "25-08-19 17:18:29.427 pyfstat.utils.sft INFO    : Loading 1 SFTs from H1...\n"
     ]
    },
    {
     "name": "stderr",
     "output_type": "stream",
     "text": [
      "  7%|▋         | 425/5760 [00:06<01:17, 68.71it/s]"
     ]
    },
    {
     "name": "stdout",
     "output_type": "stream",
     "text": [
      "25-08-19 17:18:29.440 pyfstat.utils.sft INFO    : Loading 1 SFTs from H1...\n",
      "25-08-19 17:18:29.451 pyfstat.utils.sft INFO    : Loading 1 SFTs from H1...\n",
      "25-08-19 17:18:29.466 pyfstat.utils.sft INFO    : Loading 1 SFTs from H1...\n",
      "25-08-19 17:18:29.477 pyfstat.utils.sft INFO    : Loading 1 SFTs from H1...\n",
      "25-08-19 17:18:29.490 pyfstat.utils.sft INFO    : Loading 1 SFTs from H1...\n",
      "25-08-19 17:18:29.506 pyfstat.utils.sft INFO    : Loading 1 SFTs from H1...\n",
      "25-08-19 17:18:29.521 pyfstat.utils.sft INFO    : Loading 1 SFTs from H1...\n",
      "25-08-19 17:18:29.533 pyfstat.utils.sft INFO    : Loading 1 SFTs from H1...\n"
     ]
    },
    {
     "name": "stderr",
     "output_type": "stream",
     "text": [
      "  8%|▊         | 433/5760 [00:06<01:15, 70.69it/s]"
     ]
    },
    {
     "name": "stdout",
     "output_type": "stream",
     "text": [
      "25-08-19 17:18:29.545 pyfstat.utils.sft INFO    : Loading 1 SFTs from H1...\n",
      "25-08-19 17:18:29.557 pyfstat.utils.sft INFO    : Loading 1 SFTs from H1...\n",
      "25-08-19 17:18:29.568 pyfstat.utils.sft INFO    : Loading 1 SFTs from H1...\n",
      "25-08-19 17:18:29.584 pyfstat.utils.sft INFO    : Loading 1 SFTs from H1...\n",
      "25-08-19 17:18:29.603 pyfstat.utils.sft INFO    : Loading 1 SFTs from H1...\n",
      "25-08-19 17:18:29.614 pyfstat.utils.sft INFO    : Loading 1 SFTs from H1...\n",
      "25-08-19 17:18:29.629 pyfstat.utils.sft INFO    : Loading 1 SFTs from H1...\n",
      "25-08-19 17:18:29.644 pyfstat.utils.sft INFO    : Loading 1 SFTs from H1...\n"
     ]
    },
    {
     "name": "stderr",
     "output_type": "stream",
     "text": [
      "  8%|▊         | 441/5760 [00:06<01:15, 70.42it/s]"
     ]
    },
    {
     "name": "stdout",
     "output_type": "stream",
     "text": [
      "25-08-19 17:18:29.663 pyfstat.utils.sft INFO    : Loading 1 SFTs from H1...\n",
      "25-08-19 17:18:29.675 pyfstat.utils.sft INFO    : Loading 1 SFTs from H1...\n",
      "25-08-19 17:18:29.691 pyfstat.utils.sft INFO    : Loading 1 SFTs from H1...\n",
      "25-08-19 17:18:29.705 pyfstat.utils.sft INFO    : Loading 1 SFTs from H1...\n",
      "25-08-19 17:18:29.721 pyfstat.utils.sft INFO    : Loading 1 SFTs from H1...\n",
      "25-08-19 17:18:29.737 pyfstat.utils.sft INFO    : Loading 1 SFTs from H1...\n",
      "25-08-19 17:18:29.756 pyfstat.utils.sft INFO    : Loading 1 SFTs from H1...\n",
      "25-08-19 17:18:29.768 pyfstat.utils.sft INFO    : Loading 1 SFTs from H1...\n"
     ]
    },
    {
     "name": "stderr",
     "output_type": "stream",
     "text": [
      "  8%|▊         | 449/5760 [00:06<01:16, 69.15it/s]"
     ]
    },
    {
     "name": "stdout",
     "output_type": "stream",
     "text": [
      "25-08-19 17:18:29.781 pyfstat.utils.sft INFO    : Loading 1 SFTs from H1...\n",
      "25-08-19 17:18:29.793 pyfstat.utils.sft INFO    : Loading 1 SFTs from H1...\n",
      "25-08-19 17:18:29.808 pyfstat.utils.sft INFO    : Loading 1 SFTs from H1...\n",
      "25-08-19 17:18:29.824 pyfstat.utils.sft INFO    : Loading 1 SFTs from H1...\n",
      "25-08-19 17:18:29.839 pyfstat.utils.sft INFO    : Loading 1 SFTs from H1...\n",
      "25-08-19 17:18:29.858 pyfstat.utils.sft INFO    : Loading 1 SFTs from H1...\n",
      "25-08-19 17:18:29.873 pyfstat.utils.sft INFO    : Loading 1 SFTs from H1...\n"
     ]
    },
    {
     "name": "stderr",
     "output_type": "stream",
     "text": [
      "  8%|▊         | 456/5760 [00:06<01:17, 68.31it/s]"
     ]
    },
    {
     "name": "stdout",
     "output_type": "stream",
     "text": [
      "25-08-19 17:18:29.889 pyfstat.utils.sft INFO    : Loading 1 SFTs from H1...\n",
      "25-08-19 17:18:29.910 pyfstat.utils.sft INFO    : Loading 1 SFTs from H1...\n",
      "25-08-19 17:18:29.921 pyfstat.utils.sft INFO    : Loading 1 SFTs from H1...\n",
      "25-08-19 17:18:29.933 pyfstat.utils.sft INFO    : Loading 1 SFTs from H1...\n",
      "25-08-19 17:18:29.945 pyfstat.utils.sft INFO    : Loading 1 SFTs from H1...\n",
      "25-08-19 17:18:29.959 pyfstat.utils.sft INFO    : Loading 1 SFTs from H1...\n",
      "25-08-19 17:18:29.974 pyfstat.utils.sft INFO    : Loading 1 SFTs from H1...\n"
     ]
    },
    {
     "name": "stderr",
     "output_type": "stream",
     "text": [
      "  8%|▊         | 463/5760 [00:06<01:17, 68.08it/s]"
     ]
    },
    {
     "name": "stdout",
     "output_type": "stream",
     "text": [
      "25-08-19 17:18:29.993 pyfstat.utils.sft INFO    : Loading 1 SFTs from H1...\n",
      "25-08-19 17:18:30.008 pyfstat.utils.sft INFO    : Loading 1 SFTs from H1...\n",
      "25-08-19 17:18:30.023 pyfstat.utils.sft INFO    : Loading 1 SFTs from H1...\n",
      "25-08-19 17:18:30.034 pyfstat.utils.sft INFO    : Loading 1 SFTs from H1...\n",
      "25-08-19 17:18:30.050 pyfstat.utils.sft INFO    : Loading 1 SFTs from H1...\n",
      "25-08-19 17:18:30.065 pyfstat.utils.sft INFO    : Loading 1 SFTs from H1...\n",
      "25-08-19 17:18:30.080 pyfstat.utils.sft INFO    : Loading 1 SFTs from H1...\n"
     ]
    },
    {
     "name": "stderr",
     "output_type": "stream",
     "text": [
      "  8%|▊         | 470/5760 [00:06<01:17, 67.94it/s]"
     ]
    },
    {
     "name": "stdout",
     "output_type": "stream",
     "text": [
      "25-08-19 17:18:30.097 pyfstat.utils.sft INFO    : Loading 1 SFTs from H1...\n",
      "25-08-19 17:18:30.108 pyfstat.utils.sft INFO    : Loading 1 SFTs from H1...\n",
      "25-08-19 17:18:30.122 pyfstat.utils.sft INFO    : Loading 1 SFTs from H1...\n",
      "25-08-19 17:18:30.137 pyfstat.utils.sft INFO    : Loading 1 SFTs from H1...\n",
      "25-08-19 17:18:30.153 pyfstat.utils.sft INFO    : Loading 1 SFTs from H1...\n",
      "25-08-19 17:18:30.168 pyfstat.utils.sft INFO    : Loading 1 SFTs from H1...\n",
      "25-08-19 17:18:30.181 pyfstat.utils.sft INFO    : Loading 1 SFTs from H1...\n"
     ]
    },
    {
     "name": "stderr",
     "output_type": "stream",
     "text": [
      "  8%|▊         | 477/5760 [00:06<01:17, 68.35it/s]"
     ]
    },
    {
     "name": "stdout",
     "output_type": "stream",
     "text": [
      "25-08-19 17:18:30.194 pyfstat.utils.sft INFO    : Loading 1 SFTs from H1...\n",
      "25-08-19 17:18:30.206 pyfstat.utils.sft INFO    : Loading 1 SFTs from H1...\n",
      "25-08-19 17:18:30.222 pyfstat.utils.sft INFO    : Loading 1 SFTs from H1...\n",
      "25-08-19 17:18:30.237 pyfstat.utils.sft INFO    : Loading 1 SFTs from H1...\n",
      "25-08-19 17:18:30.255 pyfstat.utils.sft INFO    : Loading 1 SFTs from H1...\n",
      "25-08-19 17:18:30.266 pyfstat.utils.sft INFO    : Loading 1 SFTs from H1...\n",
      "25-08-19 17:18:30.280 pyfstat.utils.sft INFO    : Loading 1 SFTs from H1...\n",
      "25-08-19 17:18:30.294 pyfstat.utils.sft INFO    : Loading 1 SFTs from H1...\n"
     ]
    },
    {
     "name": "stderr",
     "output_type": "stream",
     "text": [
      "  8%|▊         | 485/5760 [00:07<01:16, 69.37it/s]"
     ]
    },
    {
     "name": "stdout",
     "output_type": "stream",
     "text": [
      "25-08-19 17:18:30.306 pyfstat.utils.sft INFO    : Loading 1 SFTs from H1...\n",
      "25-08-19 17:18:30.320 pyfstat.utils.sft INFO    : Loading 1 SFTs from H1...\n",
      "25-08-19 17:18:30.334 pyfstat.utils.sft INFO    : Loading 1 SFTs from H1...\n",
      "25-08-19 17:18:30.352 pyfstat.utils.sft INFO    : Loading 1 SFTs from H1...\n",
      "25-08-19 17:18:30.367 pyfstat.utils.sft INFO    : Loading 1 SFTs from H1...\n",
      "25-08-19 17:18:30.381 pyfstat.utils.sft INFO    : Loading 1 SFTs from H1...\n",
      "25-08-19 17:18:30.398 pyfstat.utils.sft INFO    : Loading 1 SFTs from H1...\n"
     ]
    },
    {
     "name": "stderr",
     "output_type": "stream",
     "text": [
      "  9%|▊         | 492/5760 [00:07<01:16, 68.74it/s]"
     ]
    },
    {
     "name": "stdout",
     "output_type": "stream",
     "text": [
      "25-08-19 17:18:30.410 pyfstat.utils.sft INFO    : Loading 1 SFTs from H1...\n",
      "25-08-19 17:18:30.428 pyfstat.utils.sft INFO    : Loading 1 SFTs from H1...\n",
      "25-08-19 17:18:30.439 pyfstat.utils.sft INFO    : Loading 1 SFTs from H1...\n",
      "25-08-19 17:18:30.454 pyfstat.utils.sft INFO    : Loading 1 SFTs from H1...\n",
      "25-08-19 17:18:30.468 pyfstat.utils.sft INFO    : Loading 1 SFTs from H1...\n",
      "25-08-19 17:18:30.484 pyfstat.utils.sft INFO    : Loading 1 SFTs from H1...\n",
      "25-08-19 17:18:30.496 pyfstat.utils.sft INFO    : Loading 1 SFTs from H1...\n",
      "25-08-19 17:18:30.512 pyfstat.utils.sft INFO    : Loading 1 SFTs from H1...\n"
     ]
    },
    {
     "name": "stderr",
     "output_type": "stream",
     "text": [
      "  9%|▊         | 500/5760 [00:07<01:15, 69.29it/s]"
     ]
    },
    {
     "name": "stdout",
     "output_type": "stream",
     "text": [
      "25-08-19 17:18:30.527 pyfstat.utils.sft INFO    : Loading 1 SFTs from H1...\n",
      "25-08-19 17:18:30.538 pyfstat.utils.sft INFO    : Loading 1 SFTs from H1...\n",
      "25-08-19 17:18:30.549 pyfstat.utils.sft INFO    : Loading 1 SFTs from H1...\n",
      "25-08-19 17:18:30.564 pyfstat.utils.sft INFO    : Loading 1 SFTs from H1...\n",
      "25-08-19 17:18:30.579 pyfstat.utils.sft INFO    : Loading 1 SFTs from H1...\n",
      "25-08-19 17:18:30.590 pyfstat.utils.sft INFO    : Loading 1 SFTs from H1...\n",
      "25-08-19 17:18:30.601 pyfstat.utils.sft INFO    : Loading 1 SFTs from H1...\n",
      "25-08-19 17:18:30.616 pyfstat.utils.sft INFO    : Loading 1 SFTs from H1...\n"
     ]
    },
    {
     "name": "stderr",
     "output_type": "stream",
     "text": [
      "  9%|▉         | 508/5760 [00:07<01:14, 70.54it/s]"
     ]
    },
    {
     "name": "stdout",
     "output_type": "stream",
     "text": [
      "25-08-19 17:18:30.632 pyfstat.utils.sft INFO    : Loading 1 SFTs from H1...\n",
      "25-08-19 17:18:30.647 pyfstat.utils.sft INFO    : Loading 1 SFTs from H1...\n",
      "25-08-19 17:18:30.662 pyfstat.utils.sft INFO    : Loading 1 SFTs from H1...\n",
      "25-08-19 17:18:30.674 pyfstat.utils.sft INFO    : Loading 1 SFTs from H1...\n",
      "25-08-19 17:18:30.688 pyfstat.utils.sft INFO    : Loading 1 SFTs from H1...\n",
      "25-08-19 17:18:30.703 pyfstat.utils.sft INFO    : Loading 1 SFTs from H1...\n",
      "25-08-19 17:18:30.719 pyfstat.utils.sft INFO    : Loading 1 SFTs from H1...\n",
      "25-08-19 17:18:30.734 pyfstat.utils.sft INFO    : Loading 1 SFTs from H1...\n"
     ]
    },
    {
     "name": "stderr",
     "output_type": "stream",
     "text": [
      "  9%|▉         | 516/5760 [00:07<01:15, 69.87it/s]"
     ]
    },
    {
     "name": "stdout",
     "output_type": "stream",
     "text": [
      "25-08-19 17:18:30.753 pyfstat.utils.sft INFO    : Loading 1 SFTs from H1...\n",
      "25-08-19 17:18:30.768 pyfstat.utils.sft INFO    : Loading 1 SFTs from H1...\n",
      "25-08-19 17:18:30.783 pyfstat.utils.sft INFO    : Loading 1 SFTs from H1...\n",
      "25-08-19 17:18:30.797 pyfstat.utils.sft INFO    : Loading 1 SFTs from H1...\n",
      "25-08-19 17:18:30.815 pyfstat.utils.sft INFO    : Loading 1 SFTs from H1...\n",
      "25-08-19 17:18:30.833 pyfstat.utils.sft INFO    : Loading 1 SFTs from H1...\n",
      "25-08-19 17:18:30.845 pyfstat.utils.sft INFO    : Loading 1 SFTs from H1...\n"
     ]
    },
    {
     "name": "stderr",
     "output_type": "stream",
     "text": [
      "  9%|▉         | 523/5760 [00:07<01:16, 68.15it/s]"
     ]
    },
    {
     "name": "stdout",
     "output_type": "stream",
     "text": [
      "25-08-19 17:18:30.862 pyfstat.utils.sft INFO    : Loading 1 SFTs from H1...\n",
      "25-08-19 17:18:30.874 pyfstat.utils.sft INFO    : Loading 1 SFTs from H1...\n",
      "25-08-19 17:18:30.886 pyfstat.utils.sft INFO    : Loading 1 SFTs from H1...\n",
      "25-08-19 17:18:30.900 pyfstat.utils.sft INFO    : Loading 1 SFTs from H1...\n",
      "25-08-19 17:18:30.916 pyfstat.utils.sft INFO    : Loading 1 SFTs from H1...\n",
      "25-08-19 17:18:30.927 pyfstat.utils.sft INFO    : Loading 1 SFTs from H1...\n",
      "25-08-19 17:18:30.942 pyfstat.utils.sft INFO    : Loading 1 SFTs from H1...\n",
      "25-08-19 17:18:30.953 pyfstat.utils.sft INFO    : Loading 1 SFTs from H1...\n"
     ]
    },
    {
     "name": "stderr",
     "output_type": "stream",
     "text": [
      "  9%|▉         | 531/5760 [00:07<01:14, 70.18it/s]"
     ]
    },
    {
     "name": "stdout",
     "output_type": "stream",
     "text": [
      "25-08-19 17:18:30.965 pyfstat.utils.sft INFO    : Loading 1 SFTs from H1...\n",
      "25-08-19 17:18:30.976 pyfstat.utils.sft INFO    : Loading 1 SFTs from H1...\n",
      "25-08-19 17:18:30.987 pyfstat.utils.sft INFO    : Loading 1 SFTs from H1...\n",
      "25-08-19 17:18:31.001 pyfstat.utils.sft INFO    : Loading 1 SFTs from H1...\n",
      "25-08-19 17:18:31.016 pyfstat.utils.sft INFO    : Loading 1 SFTs from H1...\n",
      "25-08-19 17:18:31.034 pyfstat.utils.sft INFO    : Loading 1 SFTs from H1...\n",
      "25-08-19 17:18:31.049 pyfstat.utils.sft INFO    : Loading 1 SFTs from H1...\n",
      "25-08-19 17:18:31.065 pyfstat.utils.sft INFO    : Loading 1 SFTs from H1...\n"
     ]
    },
    {
     "name": "stderr",
     "output_type": "stream",
     "text": [
      "  9%|▉         | 539/5760 [00:07<01:14, 70.43it/s]"
     ]
    },
    {
     "name": "stdout",
     "output_type": "stream",
     "text": [
      "25-08-19 17:18:31.078 pyfstat.utils.sft INFO    : Loading 1 SFTs from H1...\n",
      "25-08-19 17:18:31.092 pyfstat.utils.sft INFO    : Loading 1 SFTs from H1...\n",
      "25-08-19 17:18:31.108 pyfstat.utils.sft INFO    : Loading 1 SFTs from H1...\n",
      "25-08-19 17:18:31.125 pyfstat.utils.sft INFO    : Loading 1 SFTs from H1...\n",
      "25-08-19 17:18:31.143 pyfstat.utils.sft INFO    : Loading 1 SFTs from H1...\n",
      "25-08-19 17:18:31.159 pyfstat.utils.sft INFO    : Loading 1 SFTs from H1...\n",
      "25-08-19 17:18:31.175 pyfstat.utils.sft INFO    : Loading 1 SFTs from H1...\n",
      "25-08-19 17:18:31.189 pyfstat.utils.sft INFO    : Loading 1 SFTs from H1...\n"
     ]
    },
    {
     "name": "stderr",
     "output_type": "stream",
     "text": [
      "  9%|▉         | 547/5760 [00:07<01:16, 67.93it/s]"
     ]
    },
    {
     "name": "stdout",
     "output_type": "stream",
     "text": [
      "25-08-19 17:18:31.205 pyfstat.utils.sft INFO    : Loading 1 SFTs from H1...\n",
      "25-08-19 17:18:31.220 pyfstat.utils.sft INFO    : Loading 1 SFTs from H1...\n",
      "25-08-19 17:18:31.231 pyfstat.utils.sft INFO    : Loading 1 SFTs from H1...\n",
      "25-08-19 17:18:31.246 pyfstat.utils.sft INFO    : Loading 1 SFTs from H1...\n",
      "25-08-19 17:18:31.257 pyfstat.utils.sft INFO    : Loading 1 SFTs from H1...\n",
      "25-08-19 17:18:31.272 pyfstat.utils.sft INFO    : Loading 1 SFTs from H1...\n",
      "25-08-19 17:18:31.293 pyfstat.utils.sft INFO    : Loading 1 SFTs from H1...\n"
     ]
    },
    {
     "name": "stderr",
     "output_type": "stream",
     "text": [
      " 10%|▉         | 554/5760 [00:08<01:16, 68.34it/s]"
     ]
    },
    {
     "name": "stdout",
     "output_type": "stream",
     "text": [
      "25-08-19 17:18:31.310 pyfstat.utils.sft INFO    : Loading 1 SFTs from H1...\n",
      "25-08-19 17:18:31.326 pyfstat.utils.sft INFO    : Loading 1 SFTs from H1...\n",
      "25-08-19 17:18:31.341 pyfstat.utils.sft INFO    : Loading 1 SFTs from H1...\n",
      "25-08-19 17:18:31.353 pyfstat.utils.sft INFO    : Loading 1 SFTs from H1...\n",
      "25-08-19 17:18:31.365 pyfstat.utils.sft INFO    : Loading 1 SFTs from H1...\n",
      "25-08-19 17:18:31.376 pyfstat.utils.sft INFO    : Loading 1 SFTs from H1...\n",
      "25-08-19 17:18:31.390 pyfstat.utils.sft INFO    : Loading 1 SFTs from H1...\n"
     ]
    },
    {
     "name": "stderr",
     "output_type": "stream",
     "text": [
      " 10%|▉         | 561/5760 [00:08<01:15, 68.57it/s]"
     ]
    },
    {
     "name": "stdout",
     "output_type": "stream",
     "text": [
      "25-08-19 17:18:31.407 pyfstat.utils.sft INFO    : Loading 1 SFTs from H1...\n",
      "25-08-19 17:18:31.422 pyfstat.utils.sft INFO    : Loading 1 SFTs from H1...\n",
      "25-08-19 17:18:31.438 pyfstat.utils.sft INFO    : Loading 1 SFTs from H1...\n",
      "25-08-19 17:18:31.449 pyfstat.utils.sft INFO    : Loading 1 SFTs from H1...\n",
      "25-08-19 17:18:31.463 pyfstat.utils.sft INFO    : Loading 1 SFTs from H1...\n",
      "25-08-19 17:18:31.479 pyfstat.utils.sft INFO    : Loading 1 SFTs from H1...\n",
      "25-08-19 17:18:31.490 pyfstat.utils.sft INFO    : Loading 1 SFTs from H1...\n",
      "25-08-19 17:18:31.503 pyfstat.utils.sft INFO    : Loading 1 SFTs from H1...\n"
     ]
    },
    {
     "name": "stderr",
     "output_type": "stream",
     "text": [
      " 10%|▉         | 569/5760 [00:08<01:13, 70.29it/s]"
     ]
    },
    {
     "name": "stdout",
     "output_type": "stream",
     "text": [
      "25-08-19 17:18:31.518 pyfstat.utils.sft INFO    : Loading 1 SFTs from H1...\n",
      "25-08-19 17:18:31.528 pyfstat.utils.sft INFO    : Loading 1 SFTs from H1...\n",
      "25-08-19 17:18:31.542 pyfstat.utils.sft INFO    : Loading 1 SFTs from H1...\n",
      "25-08-19 17:18:31.557 pyfstat.utils.sft INFO    : Loading 1 SFTs from H1...\n",
      "25-08-19 17:18:31.569 pyfstat.utils.sft INFO    : Loading 1 SFTs from H1...\n",
      "25-08-19 17:18:31.583 pyfstat.utils.sft INFO    : Loading 1 SFTs from H1...\n",
      "25-08-19 17:18:31.599 pyfstat.utils.sft INFO    : Loading 1 SFTs from H1...\n",
      "25-08-19 17:18:31.610 pyfstat.utils.sft INFO    : Loading 1 SFTs from H1...\n"
     ]
    },
    {
     "name": "stderr",
     "output_type": "stream",
     "text": [
      " 10%|█         | 577/5760 [00:08<01:12, 71.54it/s]"
     ]
    },
    {
     "name": "stdout",
     "output_type": "stream",
     "text": [
      "25-08-19 17:18:31.622 pyfstat.utils.sft INFO    : Loading 1 SFTs from H1...\n",
      "25-08-19 17:18:31.637 pyfstat.utils.sft INFO    : Loading 1 SFTs from H1...\n",
      "25-08-19 17:18:31.652 pyfstat.utils.sft INFO    : Loading 1 SFTs from H1...\n",
      "25-08-19 17:18:31.666 pyfstat.utils.sft INFO    : Loading 1 SFTs from H1...\n",
      "25-08-19 17:18:31.680 pyfstat.utils.sft INFO    : Loading 1 SFTs from H1...\n",
      "25-08-19 17:18:31.690 pyfstat.utils.sft INFO    : Loading 1 SFTs from H1...\n",
      "25-08-19 17:18:31.704 pyfstat.utils.sft INFO    : Loading 1 SFTs from H1...\n",
      "25-08-19 17:18:31.723 pyfstat.utils.sft INFO    : Loading 1 SFTs from H1...\n"
     ]
    },
    {
     "name": "stderr",
     "output_type": "stream",
     "text": [
      " 10%|█         | 585/5760 [00:08<01:13, 70.54it/s]"
     ]
    },
    {
     "name": "stdout",
     "output_type": "stream",
     "text": [
      "25-08-19 17:18:31.743 pyfstat.utils.sft INFO    : Loading 1 SFTs from H1...\n",
      "25-08-19 17:18:31.758 pyfstat.utils.sft INFO    : Loading 1 SFTs from H1...\n",
      "25-08-19 17:18:31.778 pyfstat.utils.sft INFO    : Loading 1 SFTs from H1...\n",
      "25-08-19 17:18:31.800 pyfstat.utils.sft INFO    : Loading 1 SFTs from H1...\n",
      "25-08-19 17:18:31.822 pyfstat.utils.sft INFO    : Loading 1 SFTs from H1...\n",
      "25-08-19 17:18:31.833 pyfstat.utils.sft INFO    : Loading 1 SFTs from H1...\n",
      "25-08-19 17:18:31.848 pyfstat.utils.sft INFO    : Loading 1 SFTs from H1...\n",
      "25-08-19 17:18:31.872 pyfstat.utils.sft INFO    : Loading 1 SFTs from H1...\n"
     ]
    },
    {
     "name": "stderr",
     "output_type": "stream",
     "text": [
      " 10%|█         | 593/5760 [00:08<01:19, 64.60it/s]"
     ]
    },
    {
     "name": "stdout",
     "output_type": "stream",
     "text": [
      "25-08-19 17:18:31.887 pyfstat.utils.sft INFO    : Loading 1 SFTs from H1...\n",
      "25-08-19 17:18:31.903 pyfstat.utils.sft INFO    : Loading 1 SFTs from H1...\n",
      "25-08-19 17:18:31.918 pyfstat.utils.sft INFO    : Loading 1 SFTs from H1...\n",
      "25-08-19 17:18:31.929 pyfstat.utils.sft INFO    : Loading 1 SFTs from H1...\n",
      "25-08-19 17:18:31.945 pyfstat.utils.sft INFO    : Loading 1 SFTs from H1...\n",
      "25-08-19 17:18:31.961 pyfstat.utils.sft INFO    : Loading 1 SFTs from H1...\n",
      "25-08-19 17:18:31.976 pyfstat.utils.sft INFO    : Loading 1 SFTs from H1...\n"
     ]
    },
    {
     "name": "stderr",
     "output_type": "stream",
     "text": [
      " 10%|█         | 600/5760 [00:08<01:18, 65.69it/s]"
     ]
    },
    {
     "name": "stdout",
     "output_type": "stream",
     "text": [
      "25-08-19 17:18:31.988 pyfstat.utils.sft INFO    : Loading 1 SFTs from H1...\n",
      "25-08-19 17:18:32.004 pyfstat.utils.sft INFO    : Loading 1 SFTs from H1...\n",
      "25-08-19 17:18:32.016 pyfstat.utils.sft INFO    : Loading 1 SFTs from H1...\n",
      "25-08-19 17:18:32.028 pyfstat.utils.sft INFO    : Loading 1 SFTs from H1...\n",
      "25-08-19 17:18:32.040 pyfstat.utils.sft INFO    : Loading 1 SFTs from H1...\n",
      "25-08-19 17:18:32.052 pyfstat.utils.sft INFO    : Loading 1 SFTs from H1...\n",
      "25-08-19 17:18:32.064 pyfstat.utils.sft INFO    : Loading 1 SFTs from H1...\n",
      "25-08-19 17:18:32.075 pyfstat.utils.sft INFO    : Loading 1 SFTs from H1...\n"
     ]
    },
    {
     "name": "stderr",
     "output_type": "stream",
     "text": [
      " 11%|█         | 608/5760 [00:08<01:14, 69.27it/s]"
     ]
    },
    {
     "name": "stdout",
     "output_type": "stream",
     "text": [
      "25-08-19 17:18:32.094 pyfstat.utils.sft INFO    : Loading 1 SFTs from H1...\n",
      "25-08-19 17:18:32.114 pyfstat.utils.sft INFO    : Loading 1 SFTs from H1...\n",
      "25-08-19 17:18:32.125 pyfstat.utils.sft INFO    : Loading 1 SFTs from H1...\n",
      "25-08-19 17:18:32.136 pyfstat.utils.sft INFO    : Loading 1 SFTs from H1...\n",
      "25-08-19 17:18:32.150 pyfstat.utils.sft INFO    : Loading 1 SFTs from H1...\n",
      "25-08-19 17:18:32.166 pyfstat.utils.sft INFO    : Loading 1 SFTs from H1...\n",
      "25-08-19 17:18:32.177 pyfstat.utils.sft INFO    : Loading 1 SFTs from H1...\n",
      "25-08-19 17:18:32.193 pyfstat.utils.sft INFO    : Loading 1 SFTs from H1...\n"
     ]
    },
    {
     "name": "stderr",
     "output_type": "stream",
     "text": [
      " 11%|█         | 616/5760 [00:08<01:14, 69.13it/s]"
     ]
    },
    {
     "name": "stdout",
     "output_type": "stream",
     "text": [
      "25-08-19 17:18:32.206 pyfstat.utils.sft INFO    : Loading 1 SFTs from H1...\n",
      "25-08-19 17:18:32.222 pyfstat.utils.sft INFO    : Loading 1 SFTs from H1...\n",
      "25-08-19 17:18:32.238 pyfstat.utils.sft INFO    : Loading 1 SFTs from H1...\n",
      "25-08-19 17:18:32.249 pyfstat.utils.sft INFO    : Loading 1 SFTs from H1...\n",
      "25-08-19 17:18:32.264 pyfstat.utils.sft INFO    : Loading 1 SFTs from H1...\n",
      "25-08-19 17:18:32.276 pyfstat.utils.sft INFO    : Loading 1 SFTs from H1...\n",
      "25-08-19 17:18:32.291 pyfstat.utils.sft INFO    : Loading 1 SFTs from H1...\n",
      "25-08-19 17:18:32.303 pyfstat.utils.sft INFO    : Loading 1 SFTs from H1...\n"
     ]
    },
    {
     "name": "stderr",
     "output_type": "stream",
     "text": [
      " 11%|█         | 624/5760 [00:09<01:12, 70.42it/s]"
     ]
    },
    {
     "name": "stdout",
     "output_type": "stream",
     "text": [
      "25-08-19 17:18:32.319 pyfstat.utils.sft INFO    : Loading 1 SFTs from H1...\n",
      "25-08-19 17:18:32.330 pyfstat.utils.sft INFO    : Loading 1 SFTs from H1...\n",
      "25-08-19 17:18:32.345 pyfstat.utils.sft INFO    : Loading 1 SFTs from H1...\n",
      "25-08-19 17:18:32.362 pyfstat.utils.sft INFO    : Loading 1 SFTs from H1...\n",
      "25-08-19 17:18:32.374 pyfstat.utils.sft INFO    : Loading 1 SFTs from H1...\n",
      "25-08-19 17:18:32.386 pyfstat.utils.sft INFO    : Loading 1 SFTs from H1...\n",
      "25-08-19 17:18:32.402 pyfstat.utils.sft INFO    : Loading 1 SFTs from H1...\n",
      "25-08-19 17:18:32.417 pyfstat.utils.sft INFO    : Loading 1 SFTs from H1...\n"
     ]
    },
    {
     "name": "stderr",
     "output_type": "stream",
     "text": [
      " 11%|█         | 632/5760 [00:09<01:13, 69.65it/s]"
     ]
    },
    {
     "name": "stdout",
     "output_type": "stream",
     "text": [
      "25-08-19 17:18:32.433 pyfstat.utils.sft INFO    : Loading 1 SFTs from H1...\n",
      "25-08-19 17:18:32.450 pyfstat.utils.sft INFO    : Loading 1 SFTs from H1...\n",
      "25-08-19 17:18:32.465 pyfstat.utils.sft INFO    : Loading 1 SFTs from H1...\n",
      "25-08-19 17:18:32.481 pyfstat.utils.sft INFO    : Loading 1 SFTs from H1...\n",
      "25-08-19 17:18:32.497 pyfstat.utils.sft INFO    : Loading 1 SFTs from H1...\n",
      "25-08-19 17:18:32.512 pyfstat.utils.sft INFO    : Loading 1 SFTs from H1...\n",
      "25-08-19 17:18:32.527 pyfstat.utils.sft INFO    : Loading 1 SFTs from H1...\n",
      "25-08-19 17:18:32.545 pyfstat.utils.sft INFO    : Loading 1 SFTs from H1...\n"
     ]
    },
    {
     "name": "stderr",
     "output_type": "stream",
     "text": [
      " 11%|█         | 640/5760 [00:09<01:15, 67.93it/s]"
     ]
    },
    {
     "name": "stdout",
     "output_type": "stream",
     "text": [
      "25-08-19 17:18:32.561 pyfstat.utils.sft INFO    : Loading 1 SFTs from H1...\n",
      "25-08-19 17:18:32.576 pyfstat.utils.sft INFO    : Loading 1 SFTs from H1...\n",
      "25-08-19 17:18:32.591 pyfstat.utils.sft INFO    : Loading 1 SFTs from H1...\n",
      "25-08-19 17:18:32.606 pyfstat.utils.sft INFO    : Loading 1 SFTs from H1...\n",
      "25-08-19 17:18:32.622 pyfstat.utils.sft INFO    : Loading 1 SFTs from H1...\n",
      "25-08-19 17:18:32.640 pyfstat.utils.sft INFO    : Loading 1 SFTs from H1...\n",
      "25-08-19 17:18:32.653 pyfstat.utils.sft INFO    : Loading 1 SFTs from H1...\n"
     ]
    },
    {
     "name": "stderr",
     "output_type": "stream",
     "text": [
      " 11%|█         | 647/5760 [00:09<01:16, 67.07it/s]"
     ]
    },
    {
     "name": "stdout",
     "output_type": "stream",
     "text": [
      "25-08-19 17:18:32.669 pyfstat.utils.sft INFO    : Loading 1 SFTs from H1...\n",
      "25-08-19 17:18:32.685 pyfstat.utils.sft INFO    : Loading 1 SFTs from H1...\n",
      "25-08-19 17:18:32.697 pyfstat.utils.sft INFO    : Loading 1 SFTs from H1...\n",
      "25-08-19 17:18:32.709 pyfstat.utils.sft INFO    : Loading 1 SFTs from H1...\n",
      "25-08-19 17:18:32.720 pyfstat.utils.sft INFO    : Loading 1 SFTs from H1...\n",
      "25-08-19 17:18:32.738 pyfstat.utils.sft INFO    : Loading 1 SFTs from H1...\n",
      "25-08-19 17:18:32.753 pyfstat.utils.sft INFO    : Loading 1 SFTs from H1...\n",
      "25-08-19 17:18:32.768 pyfstat.utils.sft INFO    : Loading 1 SFTs from H1...\n"
     ]
    },
    {
     "name": "stderr",
     "output_type": "stream",
     "text": [
      " 11%|█▏        | 655/5760 [00:09<01:15, 67.92it/s]"
     ]
    },
    {
     "name": "stdout",
     "output_type": "stream",
     "text": [
      "25-08-19 17:18:32.784 pyfstat.utils.sft INFO    : Loading 1 SFTs from H1...\n",
      "25-08-19 17:18:32.803 pyfstat.utils.sft INFO    : Loading 1 SFTs from H1...\n",
      "25-08-19 17:18:32.814 pyfstat.utils.sft INFO    : Loading 1 SFTs from H1...\n",
      "25-08-19 17:18:32.825 pyfstat.utils.sft INFO    : Loading 1 SFTs from H1...\n",
      "25-08-19 17:18:32.840 pyfstat.utils.sft INFO    : Loading 1 SFTs from H1...\n",
      "25-08-19 17:18:32.855 pyfstat.utils.sft INFO    : Loading 1 SFTs from H1...\n",
      "25-08-19 17:18:32.866 pyfstat.utils.sft INFO    : Loading 1 SFTs from H1...\n",
      "25-08-19 17:18:32.880 pyfstat.utils.sft INFO    : Loading 1 SFTs from H1...\n"
     ]
    },
    {
     "name": "stderr",
     "output_type": "stream",
     "text": [
      " 12%|█▏        | 663/5760 [00:09<01:14, 68.37it/s]"
     ]
    },
    {
     "name": "stdout",
     "output_type": "stream",
     "text": [
      "25-08-19 17:18:32.895 pyfstat.utils.sft INFO    : Loading 1 SFTs from H1...\n",
      "25-08-19 17:18:32.910 pyfstat.utils.sft INFO    : Loading 1 SFTs from H1...\n",
      "25-08-19 17:18:32.925 pyfstat.utils.sft INFO    : Loading 1 SFTs from H1...\n",
      "25-08-19 17:18:32.941 pyfstat.utils.sft INFO    : Loading 1 SFTs from H1...\n",
      "25-08-19 17:18:32.956 pyfstat.utils.sft INFO    : Loading 1 SFTs from H1...\n",
      "25-08-19 17:18:32.974 pyfstat.utils.sft INFO    : Loading 1 SFTs from H1...\n",
      "25-08-19 17:18:32.990 pyfstat.utils.sft INFO    : Loading 1 SFTs from H1...\n"
     ]
    },
    {
     "name": "stderr",
     "output_type": "stream",
     "text": [
      " 12%|█▏        | 670/5760 [00:09<01:15, 67.63it/s]"
     ]
    },
    {
     "name": "stdout",
     "output_type": "stream",
     "text": [
      "25-08-19 17:18:33.005 pyfstat.utils.sft INFO    : Loading 1 SFTs from H1...\n",
      "25-08-19 17:18:33.020 pyfstat.utils.sft INFO    : Loading 1 SFTs from H1...\n",
      "25-08-19 17:18:33.035 pyfstat.utils.sft INFO    : Loading 1 SFTs from H1...\n",
      "25-08-19 17:18:33.051 pyfstat.utils.sft INFO    : Loading 1 SFTs from H1...\n",
      "25-08-19 17:18:33.065 pyfstat.utils.sft INFO    : Loading 1 SFTs from H1...\n",
      "25-08-19 17:18:33.076 pyfstat.utils.sft INFO    : Loading 1 SFTs from H1...\n",
      "25-08-19 17:18:33.089 pyfstat.utils.sft INFO    : Loading 1 SFTs from H1...\n",
      "25-08-19 17:18:33.103 pyfstat.utils.sft INFO    : Loading 1 SFTs from H1...\n"
     ]
    },
    {
     "name": "stderr",
     "output_type": "stream",
     "text": [
      " 12%|█▏        | 678/5760 [00:09<01:14, 68.33it/s]"
     ]
    },
    {
     "name": "stdout",
     "output_type": "stream",
     "text": [
      "25-08-19 17:18:33.120 pyfstat.utils.sft INFO    : Loading 1 SFTs from H1...\n",
      "25-08-19 17:18:33.135 pyfstat.utils.sft INFO    : Loading 1 SFTs from H1...\n",
      "25-08-19 17:18:33.150 pyfstat.utils.sft INFO    : Loading 1 SFTs from H1...\n",
      "25-08-19 17:18:33.161 pyfstat.utils.sft INFO    : Loading 1 SFTs from H1...\n",
      "25-08-19 17:18:33.172 pyfstat.utils.sft INFO    : Loading 1 SFTs from H1...\n",
      "25-08-19 17:18:33.186 pyfstat.utils.sft INFO    : Loading 1 SFTs from H1...\n",
      "25-08-19 17:18:33.200 pyfstat.utils.sft INFO    : Loading 1 SFTs from H1...\n",
      "25-08-19 17:18:33.213 pyfstat.utils.sft INFO    : Loading 1 SFTs from H1...\n"
     ]
    },
    {
     "name": "stderr",
     "output_type": "stream",
     "text": [
      " 12%|█▏        | 686/5760 [00:09<01:12, 69.80it/s]"
     ]
    },
    {
     "name": "stdout",
     "output_type": "stream",
     "text": [
      "25-08-19 17:18:33.225 pyfstat.utils.sft INFO    : Loading 1 SFTs from H1...\n",
      "25-08-19 17:18:33.242 pyfstat.utils.sft INFO    : Loading 1 SFTs from H1...\n",
      "25-08-19 17:18:33.257 pyfstat.utils.sft INFO    : Loading 1 SFTs from H1...\n",
      "25-08-19 17:18:33.272 pyfstat.utils.sft INFO    : Loading 1 SFTs from H1...\n",
      "25-08-19 17:18:33.291 pyfstat.utils.sft INFO    : Loading 1 SFTs from H1...\n",
      "25-08-19 17:18:33.303 pyfstat.utils.sft INFO    : Loading 1 SFTs from H1...\n",
      "25-08-19 17:18:33.314 pyfstat.utils.sft INFO    : Loading 1 SFTs from H1...\n"
     ]
    },
    {
     "name": "stderr",
     "output_type": "stream",
     "text": [
      " 12%|█▏        | 693/5760 [00:10<01:12, 69.71it/s]"
     ]
    },
    {
     "name": "stdout",
     "output_type": "stream",
     "text": [
      "25-08-19 17:18:33.326 pyfstat.utils.sft INFO    : Loading 1 SFTs from H1...\n",
      "25-08-19 17:18:33.341 pyfstat.utils.sft INFO    : Loading 1 SFTs from H1...\n",
      "25-08-19 17:18:33.356 pyfstat.utils.sft INFO    : Loading 1 SFTs from H1...\n",
      "25-08-19 17:18:33.371 pyfstat.utils.sft INFO    : Loading 1 SFTs from H1...\n",
      "25-08-19 17:18:33.386 pyfstat.utils.sft INFO    : Loading 1 SFTs from H1...\n",
      "25-08-19 17:18:33.401 pyfstat.utils.sft INFO    : Loading 1 SFTs from H1...\n",
      "25-08-19 17:18:33.411 pyfstat.utils.sft INFO    : Loading 1 SFTs from H1...\n",
      "25-08-19 17:18:33.426 pyfstat.utils.sft INFO    : Loading 1 SFTs from H1...\n"
     ]
    },
    {
     "name": "stderr",
     "output_type": "stream",
     "text": [
      " 12%|█▏        | 701/5760 [00:10<01:12, 70.21it/s]"
     ]
    },
    {
     "name": "stdout",
     "output_type": "stream",
     "text": [
      "25-08-19 17:18:33.440 pyfstat.utils.sft INFO    : Loading 1 SFTs from H1...\n",
      "25-08-19 17:18:33.455 pyfstat.utils.sft INFO    : Loading 1 SFTs from H1...\n",
      "25-08-19 17:18:33.470 pyfstat.utils.sft INFO    : Loading 1 SFTs from H1...\n",
      "25-08-19 17:18:33.487 pyfstat.utils.sft INFO    : Loading 1 SFTs from H1...\n",
      "25-08-19 17:18:33.502 pyfstat.utils.sft INFO    : Loading 1 SFTs from H1...\n",
      "25-08-19 17:18:33.520 pyfstat.utils.sft INFO    : Loading 1 SFTs from H1...\n",
      "25-08-19 17:18:33.530 pyfstat.utils.sft INFO    : Loading 1 SFTs from H1...\n",
      "25-08-19 17:18:33.540 pyfstat.utils.sft INFO    : Loading 1 SFTs from H1...\n"
     ]
    },
    {
     "name": "stderr",
     "output_type": "stream",
     "text": [
      " 12%|█▏        | 709/5760 [00:10<01:12, 70.01it/s]"
     ]
    },
    {
     "name": "stdout",
     "output_type": "stream",
     "text": [
      "25-08-19 17:18:33.557 pyfstat.utils.sft INFO    : Loading 1 SFTs from H1...\n",
      "25-08-19 17:18:33.573 pyfstat.utils.sft INFO    : Loading 1 SFTs from H1...\n",
      "25-08-19 17:18:33.589 pyfstat.utils.sft INFO    : Loading 1 SFTs from H1...\n",
      "25-08-19 17:18:33.606 pyfstat.utils.sft INFO    : Loading 1 SFTs from H1...\n",
      "25-08-19 17:18:33.621 pyfstat.utils.sft INFO    : Loading 1 SFTs from H1...\n",
      "25-08-19 17:18:33.633 pyfstat.utils.sft INFO    : Loading 1 SFTs from H1...\n",
      "25-08-19 17:18:33.648 pyfstat.utils.sft INFO    : Loading 1 SFTs from H1...\n",
      "25-08-19 17:18:33.665 pyfstat.utils.sft INFO    : Loading 1 SFTs from H1...\n"
     ]
    },
    {
     "name": "stderr",
     "output_type": "stream",
     "text": [
      " 12%|█▏        | 717/5760 [00:10<01:14, 67.60it/s]"
     ]
    },
    {
     "name": "stdout",
     "output_type": "stream",
     "text": [
      "25-08-19 17:18:33.680 pyfstat.utils.sft INFO    : Loading 1 SFTs from H1...\n",
      "25-08-19 17:18:33.696 pyfstat.utils.sft INFO    : Loading 1 SFTs from H1...\n",
      "25-08-19 17:18:33.711 pyfstat.utils.sft INFO    : Loading 1 SFTs from H1...\n",
      "25-08-19 17:18:33.722 pyfstat.utils.sft INFO    : Loading 1 SFTs from H1...\n",
      "25-08-19 17:18:33.735 pyfstat.utils.sft INFO    : Loading 1 SFTs from H1...\n",
      "25-08-19 17:18:33.747 pyfstat.utils.sft INFO    : Loading 1 SFTs from H1...\n",
      "25-08-19 17:18:33.758 pyfstat.utils.sft INFO    : Loading 1 SFTs from H1...\n",
      "25-08-19 17:18:33.773 pyfstat.utils.sft INFO    : Loading 1 SFTs from H1...\n"
     ]
    },
    {
     "name": "stderr",
     "output_type": "stream",
     "text": [
      " 13%|█▎        | 725/5760 [00:10<01:12, 69.93it/s]"
     ]
    },
    {
     "name": "stdout",
     "output_type": "stream",
     "text": [
      "25-08-19 17:18:33.786 pyfstat.utils.sft INFO    : Loading 1 SFTs from H1...\n",
      "25-08-19 17:18:33.800 pyfstat.utils.sft INFO    : Loading 1 SFTs from H1...\n",
      "25-08-19 17:18:33.816 pyfstat.utils.sft INFO    : Loading 1 SFTs from H1...\n",
      "25-08-19 17:18:33.831 pyfstat.utils.sft INFO    : Loading 1 SFTs from H1...\n",
      "25-08-19 17:18:33.847 pyfstat.utils.sft INFO    : Loading 1 SFTs from H1...\n",
      "25-08-19 17:18:33.858 pyfstat.utils.sft INFO    : Loading 1 SFTs from H1...\n",
      "25-08-19 17:18:33.870 pyfstat.utils.sft INFO    : Loading 1 SFTs from H1...\n",
      "25-08-19 17:18:33.882 pyfstat.utils.sft INFO    : Loading 1 SFTs from H1...\n"
     ]
    },
    {
     "name": "stderr",
     "output_type": "stream",
     "text": [
      " 13%|█▎        | 733/5760 [00:10<01:11, 70.45it/s]"
     ]
    },
    {
     "name": "stdout",
     "output_type": "stream",
     "text": [
      "25-08-19 17:18:33.898 pyfstat.utils.sft INFO    : Loading 1 SFTs from H1...\n",
      "25-08-19 17:18:33.914 pyfstat.utils.sft INFO    : Loading 1 SFTs from H1...\n",
      "25-08-19 17:18:33.930 pyfstat.utils.sft INFO    : Loading 1 SFTs from H1...\n",
      "25-08-19 17:18:33.941 pyfstat.utils.sft INFO    : Loading 1 SFTs from H1...\n",
      "25-08-19 17:18:33.957 pyfstat.utils.sft INFO    : Loading 1 SFTs from H1...\n",
      "25-08-19 17:18:33.975 pyfstat.utils.sft INFO    : Loading 1 SFTs from H1...\n",
      "25-08-19 17:18:33.994 pyfstat.utils.sft INFO    : Loading 1 SFTs from H1...\n",
      "25-08-19 17:18:34.006 pyfstat.utils.sft INFO    : Loading 1 SFTs from H1...\n"
     ]
    },
    {
     "name": "stderr",
     "output_type": "stream",
     "text": [
      " 13%|█▎        | 741/5760 [00:10<01:12, 69.13it/s]"
     ]
    },
    {
     "name": "stdout",
     "output_type": "stream",
     "text": [
      "25-08-19 17:18:34.022 pyfstat.utils.sft INFO    : Loading 1 SFTs from H1...\n",
      "25-08-19 17:18:34.042 pyfstat.utils.sft INFO    : Loading 1 SFTs from H1...\n",
      "25-08-19 17:18:34.057 pyfstat.utils.sft INFO    : Loading 1 SFTs from H1...\n",
      "25-08-19 17:18:34.072 pyfstat.utils.sft INFO    : Loading 1 SFTs from H1...\n",
      "25-08-19 17:18:34.087 pyfstat.utils.sft INFO    : Loading 1 SFTs from H1...\n",
      "25-08-19 17:18:34.102 pyfstat.utils.sft INFO    : Loading 1 SFTs from H1...\n",
      "25-08-19 17:18:34.121 pyfstat.utils.sft INFO    : Loading 1 SFTs from H1...\n"
     ]
    },
    {
     "name": "stderr",
     "output_type": "stream",
     "text": [
      " 13%|█▎        | 748/5760 [00:10<01:15, 66.40it/s]"
     ]
    },
    {
     "name": "stdout",
     "output_type": "stream",
     "text": [
      "25-08-19 17:18:34.139 pyfstat.utils.sft INFO    : Loading 1 SFTs from H1...\n",
      "25-08-19 17:18:34.153 pyfstat.utils.sft INFO    : Loading 1 SFTs from H1...\n",
      "25-08-19 17:18:34.173 pyfstat.utils.sft INFO    : Loading 1 SFTs from H1...\n",
      "25-08-19 17:18:34.185 pyfstat.utils.sft INFO    : Loading 1 SFTs from H1...\n",
      "25-08-19 17:18:34.196 pyfstat.utils.sft INFO    : Loading 1 SFTs from H1...\n",
      "25-08-19 17:18:34.208 pyfstat.utils.sft INFO    : Loading 1 SFTs from H1...\n",
      "25-08-19 17:18:34.224 pyfstat.utils.sft INFO    : Loading 1 SFTs from H1...\n"
     ]
    },
    {
     "name": "stderr",
     "output_type": "stream",
     "text": [
      " 13%|█▎        | 755/5760 [00:10<01:14, 67.11it/s]"
     ]
    },
    {
     "name": "stdout",
     "output_type": "stream",
     "text": [
      "25-08-19 17:18:34.236 pyfstat.utils.sft INFO    : Loading 1 SFTs from H1...\n",
      "25-08-19 17:18:34.252 pyfstat.utils.sft INFO    : Loading 1 SFTs from H1...\n",
      "25-08-19 17:18:34.265 pyfstat.utils.sft INFO    : Loading 1 SFTs from H1...\n",
      "25-08-19 17:18:34.280 pyfstat.utils.sft INFO    : Loading 1 SFTs from H1...\n",
      "25-08-19 17:18:34.296 pyfstat.utils.sft INFO    : Loading 1 SFTs from H1...\n",
      "25-08-19 17:18:34.315 pyfstat.utils.sft INFO    : Loading 1 SFTs from H1...\n",
      "25-08-19 17:18:34.330 pyfstat.utils.sft INFO    : Loading 1 SFTs from H1...\n"
     ]
    },
    {
     "name": "stderr",
     "output_type": "stream",
     "text": [
      " 13%|█▎        | 762/5760 [00:11<01:15, 66.55it/s]"
     ]
    },
    {
     "name": "stdout",
     "output_type": "stream",
     "text": [
      "25-08-19 17:18:34.347 pyfstat.utils.sft INFO    : Loading 1 SFTs from H1...\n",
      "25-08-19 17:18:34.363 pyfstat.utils.sft INFO    : Loading 1 SFTs from H1...\n",
      "25-08-19 17:18:34.377 pyfstat.utils.sft INFO    : Loading 1 SFTs from H1...\n",
      "25-08-19 17:18:34.393 pyfstat.utils.sft INFO    : Loading 1 SFTs from H1...\n",
      "25-08-19 17:18:34.405 pyfstat.utils.sft INFO    : Loading 1 SFTs from H1...\n",
      "25-08-19 17:18:34.420 pyfstat.utils.sft INFO    : Loading 1 SFTs from H1...\n",
      "25-08-19 17:18:34.438 pyfstat.utils.sft INFO    : Loading 1 SFTs from H1...\n"
     ]
    },
    {
     "name": "stderr",
     "output_type": "stream",
     "text": [
      " 13%|█▎        | 769/5760 [00:11<01:15, 66.14it/s]"
     ]
    },
    {
     "name": "stdout",
     "output_type": "stream",
     "text": [
      "25-08-19 17:18:34.451 pyfstat.utils.sft INFO    : Loading 1 SFTs from H1...\n",
      "25-08-19 17:18:34.469 pyfstat.utils.sft INFO    : Loading 1 SFTs from H1...\n",
      "25-08-19 17:18:34.481 pyfstat.utils.sft INFO    : Loading 1 SFTs from H1...\n",
      "25-08-19 17:18:34.496 pyfstat.utils.sft INFO    : Loading 1 SFTs from H1...\n",
      "25-08-19 17:18:34.517 pyfstat.utils.sft INFO    : Loading 1 SFTs from H1...\n",
      "25-08-19 17:18:34.529 pyfstat.utils.sft INFO    : Loading 1 SFTs from H1...\n",
      "25-08-19 17:18:34.545 pyfstat.utils.sft INFO    : Loading 1 SFTs from H1...\n"
     ]
    },
    {
     "name": "stderr",
     "output_type": "stream",
     "text": [
      " 13%|█▎        | 776/5760 [00:11<01:15, 66.03it/s]"
     ]
    },
    {
     "name": "stdout",
     "output_type": "stream",
     "text": [
      "25-08-19 17:18:34.564 pyfstat.utils.sft INFO    : Loading 1 SFTs from H1...\n",
      "25-08-19 17:18:34.577 pyfstat.utils.sft INFO    : Loading 1 SFTs from H1...\n",
      "25-08-19 17:18:34.589 pyfstat.utils.sft INFO    : Loading 1 SFTs from H1...\n",
      "25-08-19 17:18:34.605 pyfstat.utils.sft INFO    : Loading 1 SFTs from H1...\n",
      "25-08-19 17:18:34.619 pyfstat.utils.sft INFO    : Loading 1 SFTs from H1...\n",
      "25-08-19 17:18:34.631 pyfstat.utils.sft INFO    : Loading 1 SFTs from H1...\n",
      "25-08-19 17:18:34.645 pyfstat.utils.sft INFO    : Loading 1 SFTs from H1...\n"
     ]
    },
    {
     "name": "stderr",
     "output_type": "stream",
     "text": [
      " 14%|█▎        | 783/5760 [00:11<01:14, 67.14it/s]"
     ]
    },
    {
     "name": "stdout",
     "output_type": "stream",
     "text": [
      "25-08-19 17:18:34.657 pyfstat.utils.sft INFO    : Loading 1 SFTs from H1...\n",
      "25-08-19 17:18:34.668 pyfstat.utils.sft INFO    : Loading 1 SFTs from H1...\n",
      "25-08-19 17:18:34.683 pyfstat.utils.sft INFO    : Loading 1 SFTs from H1...\n",
      "25-08-19 17:18:34.698 pyfstat.utils.sft INFO    : Loading 1 SFTs from H1...\n",
      "25-08-19 17:18:34.712 pyfstat.utils.sft INFO    : Loading 1 SFTs from H1...\n",
      "25-08-19 17:18:34.726 pyfstat.utils.sft INFO    : Loading 1 SFTs from H1...\n",
      "25-08-19 17:18:34.741 pyfstat.utils.sft INFO    : Loading 1 SFTs from H1...\n",
      "25-08-19 17:18:34.756 pyfstat.utils.sft INFO    : Loading 1 SFTs from H1...\n"
     ]
    },
    {
     "name": "stderr",
     "output_type": "stream",
     "text": [
      " 14%|█▎        | 791/5760 [00:11<01:12, 68.77it/s]"
     ]
    },
    {
     "name": "stdout",
     "output_type": "stream",
     "text": [
      "25-08-19 17:18:34.768 pyfstat.utils.sft INFO    : Loading 1 SFTs from H1...\n",
      "25-08-19 17:18:34.779 pyfstat.utils.sft INFO    : Loading 1 SFTs from H1...\n",
      "25-08-19 17:18:34.794 pyfstat.utils.sft INFO    : Loading 1 SFTs from H1...\n",
      "25-08-19 17:18:34.806 pyfstat.utils.sft INFO    : Loading 1 SFTs from H1...\n",
      "25-08-19 17:18:34.817 pyfstat.utils.sft INFO    : Loading 1 SFTs from H1...\n",
      "25-08-19 17:18:34.831 pyfstat.utils.sft INFO    : Loading 1 SFTs from H1...\n",
      "25-08-19 17:18:34.841 pyfstat.utils.sft INFO    : Loading 1 SFTs from H1...\n",
      "25-08-19 17:18:34.853 pyfstat.utils.sft INFO    : Loading 1 SFTs from H1...\n"
     ]
    },
    {
     "name": "stderr",
     "output_type": "stream",
     "text": [
      " 14%|█▍        | 799/5760 [00:11<01:09, 71.62it/s]"
     ]
    },
    {
     "name": "stdout",
     "output_type": "stream",
     "text": [
      "25-08-19 17:18:34.869 pyfstat.utils.sft INFO    : Loading 1 SFTs from H1...\n",
      "25-08-19 17:18:34.884 pyfstat.utils.sft INFO    : Loading 1 SFTs from H1...\n",
      "25-08-19 17:18:34.903 pyfstat.utils.sft INFO    : Loading 1 SFTs from H1...\n",
      "25-08-19 17:18:34.919 pyfstat.utils.sft INFO    : Loading 1 SFTs from H1...\n",
      "25-08-19 17:18:34.934 pyfstat.utils.sft INFO    : Loading 1 SFTs from H1...\n",
      "25-08-19 17:18:34.950 pyfstat.utils.sft INFO    : Loading 1 SFTs from H1...\n",
      "25-08-19 17:18:34.968 pyfstat.utils.sft INFO    : Loading 1 SFTs from H1...\n",
      "25-08-19 17:18:34.984 pyfstat.utils.sft INFO    : Loading 1 SFTs from H1...\n"
     ]
    },
    {
     "name": "stderr",
     "output_type": "stream",
     "text": [
      " 14%|█▍        | 807/5760 [00:11<01:12, 68.76it/s]"
     ]
    },
    {
     "name": "stdout",
     "output_type": "stream",
     "text": [
      "25-08-19 17:18:35.000 pyfstat.utils.sft INFO    : Loading 1 SFTs from H1...\n",
      "25-08-19 17:18:35.019 pyfstat.utils.sft INFO    : Loading 1 SFTs from H1...\n",
      "25-08-19 17:18:35.034 pyfstat.utils.sft INFO    : Loading 1 SFTs from H1...\n",
      "25-08-19 17:18:35.050 pyfstat.utils.sft INFO    : Loading 1 SFTs from H1...\n",
      "25-08-19 17:18:35.075 pyfstat.utils.sft INFO    : Loading 1 SFTs from H1...\n",
      "25-08-19 17:18:35.100 pyfstat.utils.sft INFO    : Loading 1 SFTs from H1...\n",
      "25-08-19 17:18:35.118 pyfstat.utils.sft INFO    : Loading 1 SFTs from H1...\n"
     ]
    },
    {
     "name": "stderr",
     "output_type": "stream",
     "text": [
      " 14%|█▍        | 814/5760 [00:11<01:18, 63.04it/s]"
     ]
    },
    {
     "name": "stdout",
     "output_type": "stream",
     "text": [
      "25-08-19 17:18:35.135 pyfstat.utils.sft INFO    : Loading 1 SFTs from H1...\n",
      "25-08-19 17:18:35.150 pyfstat.utils.sft INFO    : Loading 1 SFTs from H1...\n",
      "25-08-19 17:18:35.165 pyfstat.utils.sft INFO    : Loading 1 SFTs from H1...\n",
      "25-08-19 17:18:35.177 pyfstat.utils.sft INFO    : Loading 1 SFTs from H1...\n",
      "25-08-19 17:18:35.193 pyfstat.utils.sft INFO    : Loading 1 SFTs from H1...\n",
      "25-08-19 17:18:35.208 pyfstat.utils.sft INFO    : Loading 1 SFTs from H1...\n",
      "25-08-19 17:18:35.229 pyfstat.utils.sft INFO    : Loading 1 SFTs from H1...\n"
     ]
    },
    {
     "name": "stderr",
     "output_type": "stream",
     "text": [
      " 14%|█▍        | 821/5760 [00:11<01:18, 62.75it/s]"
     ]
    },
    {
     "name": "stdout",
     "output_type": "stream",
     "text": [
      "25-08-19 17:18:35.245 pyfstat.utils.sft INFO    : Loading 1 SFTs from H1...\n",
      "25-08-19 17:18:35.257 pyfstat.utils.sft INFO    : Loading 1 SFTs from H1...\n",
      "25-08-19 17:18:35.278 pyfstat.utils.sft INFO    : Loading 1 SFTs from H1...\n",
      "25-08-19 17:18:35.291 pyfstat.utils.sft INFO    : Loading 1 SFTs from H1...\n",
      "25-08-19 17:18:35.307 pyfstat.utils.sft INFO    : Loading 1 SFTs from H1...\n",
      "25-08-19 17:18:35.327 pyfstat.utils.sft INFO    : Loading 1 SFTs from H1...\n",
      "25-08-19 17:18:35.342 pyfstat.utils.sft INFO    : Loading 1 SFTs from H1...\n"
     ]
    },
    {
     "name": "stderr",
     "output_type": "stream",
     "text": [
      " 14%|█▍        | 828/5760 [00:12<01:18, 62.75it/s]"
     ]
    },
    {
     "name": "stdout",
     "output_type": "stream",
     "text": [
      "25-08-19 17:18:35.359 pyfstat.utils.sft INFO    : Loading 1 SFTs from H1...\n",
      "25-08-19 17:18:35.374 pyfstat.utils.sft INFO    : Loading 1 SFTs from H1...\n",
      "25-08-19 17:18:35.389 pyfstat.utils.sft INFO    : Loading 1 SFTs from H1...\n",
      "25-08-19 17:18:35.407 pyfstat.utils.sft INFO    : Loading 1 SFTs from H1...\n",
      "25-08-19 17:18:35.422 pyfstat.utils.sft INFO    : Loading 1 SFTs from H1...\n",
      "25-08-19 17:18:35.438 pyfstat.utils.sft INFO    : Loading 1 SFTs from H1...\n",
      "25-08-19 17:18:35.515 pyfstat.utils.sft INFO    : Loading 1 SFTs from H1...\n"
     ]
    },
    {
     "name": "stderr",
     "output_type": "stream",
     "text": [
      " 14%|█▍        | 835/5760 [00:12<01:31, 53.60it/s]"
     ]
    },
    {
     "name": "stdout",
     "output_type": "stream",
     "text": [
      "25-08-19 17:18:35.532 pyfstat.utils.sft INFO    : Loading 1 SFTs from H1...\n",
      "25-08-19 17:18:35.548 pyfstat.utils.sft INFO    : Loading 1 SFTs from H1...\n",
      "25-08-19 17:18:35.583 pyfstat.utils.sft INFO    : Loading 1 SFTs from H1...\n",
      "25-08-19 17:18:35.598 pyfstat.utils.sft INFO    : Loading 1 SFTs from H1...\n",
      "25-08-19 17:18:35.617 pyfstat.utils.sft INFO    : Loading 1 SFTs from H1...\n",
      "25-08-19 17:18:35.631 pyfstat.utils.sft INFO    : Loading 1 SFTs from H1...\n"
     ]
    },
    {
     "name": "stderr",
     "output_type": "stream",
     "text": [
      " 15%|█▍        | 841/5760 [00:12<01:31, 53.71it/s]"
     ]
    },
    {
     "name": "stdout",
     "output_type": "stream",
     "text": [
      "25-08-19 17:18:35.647 pyfstat.utils.sft INFO    : Loading 1 SFTs from H1...\n",
      "25-08-19 17:18:35.665 pyfstat.utils.sft INFO    : Loading 1 SFTs from H1...\n",
      "25-08-19 17:18:35.678 pyfstat.utils.sft INFO    : Loading 1 SFTs from H1...\n",
      "25-08-19 17:18:35.697 pyfstat.utils.sft INFO    : Loading 1 SFTs from H1...\n",
      "25-08-19 17:18:35.719 pyfstat.utils.sft INFO    : Loading 1 SFTs from H1...\n",
      "25-08-19 17:18:35.735 pyfstat.utils.sft INFO    : Loading 1 SFTs from H1...\n"
     ]
    },
    {
     "name": "stderr",
     "output_type": "stream",
     "text": [
      " 15%|█▍        | 847/5760 [00:12<01:30, 54.17it/s]"
     ]
    },
    {
     "name": "stdout",
     "output_type": "stream",
     "text": [
      "25-08-19 17:18:35.755 pyfstat.utils.sft INFO    : Loading 1 SFTs from H1...\n",
      "25-08-19 17:18:35.771 pyfstat.utils.sft INFO    : Loading 1 SFTs from H1...\n",
      "25-08-19 17:18:35.790 pyfstat.utils.sft INFO    : Loading 1 SFTs from H1...\n",
      "25-08-19 17:18:35.808 pyfstat.utils.sft INFO    : Loading 1 SFTs from H1...\n",
      "25-08-19 17:18:35.823 pyfstat.utils.sft INFO    : Loading 1 SFTs from H1...\n",
      "25-08-19 17:18:35.839 pyfstat.utils.sft INFO    : Loading 1 SFTs from H1...\n",
      "25-08-19 17:18:35.854 pyfstat.utils.sft INFO    : Loading 1 SFTs from H1...\n"
     ]
    },
    {
     "name": "stderr",
     "output_type": "stream",
     "text": [
      " 15%|█▍        | 854/5760 [00:12<01:27, 56.16it/s]"
     ]
    },
    {
     "name": "stdout",
     "output_type": "stream",
     "text": [
      "25-08-19 17:18:35.869 pyfstat.utils.sft INFO    : Loading 1 SFTs from H1...\n",
      "25-08-19 17:18:35.885 pyfstat.utils.sft INFO    : Loading 1 SFTs from H1...\n",
      "25-08-19 17:18:35.901 pyfstat.utils.sft INFO    : Loading 1 SFTs from H1...\n",
      "25-08-19 17:18:35.913 pyfstat.utils.sft INFO    : Loading 1 SFTs from H1...\n",
      "25-08-19 17:18:35.924 pyfstat.utils.sft INFO    : Loading 1 SFTs from H1...\n",
      "25-08-19 17:18:35.939 pyfstat.utils.sft INFO    : Loading 1 SFTs from H1...\n",
      "25-08-19 17:18:35.959 pyfstat.utils.sft INFO    : Loading 1 SFTs from H1...\n"
     ]
    },
    {
     "name": "stderr",
     "output_type": "stream",
     "text": [
      " 15%|█▍        | 861/5760 [00:12<01:23, 58.44it/s]"
     ]
    },
    {
     "name": "stdout",
     "output_type": "stream",
     "text": [
      "25-08-19 17:18:35.975 pyfstat.utils.sft INFO    : Loading 1 SFTs from H1...\n",
      "25-08-19 17:18:35.990 pyfstat.utils.sft INFO    : Loading 1 SFTs from H1...\n",
      "25-08-19 17:18:36.001 pyfstat.utils.sft INFO    : Loading 1 SFTs from H1...\n",
      "25-08-19 17:18:36.016 pyfstat.utils.sft INFO    : Loading 1 SFTs from H1...\n",
      "25-08-19 17:18:36.031 pyfstat.utils.sft INFO    : Loading 1 SFTs from H1...\n",
      "25-08-19 17:18:36.046 pyfstat.utils.sft INFO    : Loading 1 SFTs from H1...\n",
      "25-08-19 17:18:36.063 pyfstat.utils.sft INFO    : Loading 1 SFTs from H1...\n"
     ]
    },
    {
     "name": "stderr",
     "output_type": "stream",
     "text": [
      " 15%|█▌        | 868/5760 [00:12<01:19, 61.43it/s]"
     ]
    },
    {
     "name": "stdout",
     "output_type": "stream",
     "text": [
      "25-08-19 17:18:36.076 pyfstat.utils.sft INFO    : Loading 1 SFTs from H1...\n",
      "25-08-19 17:18:36.089 pyfstat.utils.sft INFO    : Loading 1 SFTs from H1...\n",
      "25-08-19 17:18:36.104 pyfstat.utils.sft INFO    : Loading 1 SFTs from H1...\n",
      "25-08-19 17:18:36.119 pyfstat.utils.sft INFO    : Loading 1 SFTs from H1...\n",
      "25-08-19 17:18:36.134 pyfstat.utils.sft INFO    : Loading 1 SFTs from H1...\n",
      "25-08-19 17:18:36.148 pyfstat.utils.sft INFO    : Loading 1 SFTs from H1...\n",
      "25-08-19 17:18:36.163 pyfstat.utils.sft INFO    : Loading 1 SFTs from H1...\n"
     ]
    },
    {
     "name": "stderr",
     "output_type": "stream",
     "text": [
      " 15%|█▌        | 875/5760 [00:12<01:16, 63.64it/s]"
     ]
    },
    {
     "name": "stdout",
     "output_type": "stream",
     "text": [
      "25-08-19 17:18:36.180 pyfstat.utils.sft INFO    : Loading 1 SFTs from H1...\n",
      "25-08-19 17:18:36.192 pyfstat.utils.sft INFO    : Loading 1 SFTs from H1...\n",
      "25-08-19 17:18:36.203 pyfstat.utils.sft INFO    : Loading 1 SFTs from H1...\n",
      "25-08-19 17:18:36.219 pyfstat.utils.sft INFO    : Loading 1 SFTs from H1...\n",
      "25-08-19 17:18:36.238 pyfstat.utils.sft INFO    : Loading 1 SFTs from H1...\n",
      "25-08-19 17:18:36.253 pyfstat.utils.sft INFO    : Loading 1 SFTs from H1...\n",
      "25-08-19 17:18:36.268 pyfstat.utils.sft INFO    : Loading 1 SFTs from H1...\n"
     ]
    },
    {
     "name": "stderr",
     "output_type": "stream",
     "text": [
      " 15%|█▌        | 882/5760 [00:13<01:15, 64.69it/s]"
     ]
    },
    {
     "name": "stdout",
     "output_type": "stream",
     "text": [
      "25-08-19 17:18:36.285 pyfstat.utils.sft INFO    : Loading 1 SFTs from H1...\n",
      "25-08-19 17:18:36.297 pyfstat.utils.sft INFO    : Loading 1 SFTs from H1...\n",
      "25-08-19 17:18:36.313 pyfstat.utils.sft INFO    : Loading 1 SFTs from H1...\n",
      "25-08-19 17:18:36.327 pyfstat.utils.sft INFO    : Loading 1 SFTs from H1...\n",
      "25-08-19 17:18:36.342 pyfstat.utils.sft INFO    : Loading 1 SFTs from H1...\n",
      "25-08-19 17:18:36.354 pyfstat.utils.sft INFO    : Loading 1 SFTs from H1...\n",
      "25-08-19 17:18:36.365 pyfstat.utils.sft INFO    : Loading 1 SFTs from H1...\n",
      "25-08-19 17:18:36.380 pyfstat.utils.sft INFO    : Loading 1 SFTs from H1...\n"
     ]
    },
    {
     "name": "stderr",
     "output_type": "stream",
     "text": [
      " 15%|█▌        | 890/5760 [00:13<01:12, 67.00it/s]"
     ]
    },
    {
     "name": "stdout",
     "output_type": "stream",
     "text": [
      "25-08-19 17:18:36.395 pyfstat.utils.sft INFO    : Loading 1 SFTs from H1...\n",
      "25-08-19 17:18:36.410 pyfstat.utils.sft INFO    : Loading 1 SFTs from H1...\n",
      "25-08-19 17:18:36.425 pyfstat.utils.sft INFO    : Loading 1 SFTs from H1...\n",
      "25-08-19 17:18:36.440 pyfstat.utils.sft INFO    : Loading 1 SFTs from H1...\n",
      "25-08-19 17:18:36.457 pyfstat.utils.sft INFO    : Loading 1 SFTs from H1...\n",
      "25-08-19 17:18:36.472 pyfstat.utils.sft INFO    : Loading 1 SFTs from H1...\n",
      "25-08-19 17:18:36.487 pyfstat.utils.sft INFO    : Loading 1 SFTs from H1...\n"
     ]
    },
    {
     "name": "stderr",
     "output_type": "stream",
     "text": [
      " 16%|█▌        | 897/5760 [00:13<01:13, 66.39it/s]"
     ]
    },
    {
     "name": "stdout",
     "output_type": "stream",
     "text": [
      "25-08-19 17:18:36.503 pyfstat.utils.sft INFO    : Loading 1 SFTs from H1...\n",
      "25-08-19 17:18:36.521 pyfstat.utils.sft INFO    : Loading 1 SFTs from H1...\n",
      "25-08-19 17:18:36.539 pyfstat.utils.sft INFO    : Loading 1 SFTs from H1...\n",
      "25-08-19 17:18:36.553 pyfstat.utils.sft INFO    : Loading 1 SFTs from H1...\n",
      "25-08-19 17:18:36.568 pyfstat.utils.sft INFO    : Loading 1 SFTs from H1...\n",
      "25-08-19 17:18:36.579 pyfstat.utils.sft INFO    : Loading 1 SFTs from H1...\n",
      "25-08-19 17:18:36.595 pyfstat.utils.sft INFO    : Loading 1 SFTs from H1...\n"
     ]
    },
    {
     "name": "stderr",
     "output_type": "stream",
     "text": [
      " 16%|█▌        | 904/5760 [00:13<01:14, 65.50it/s]"
     ]
    },
    {
     "name": "stdout",
     "output_type": "stream",
     "text": [
      "25-08-19 17:18:36.610 pyfstat.utils.sft INFO    : Loading 1 SFTs from H1...\n",
      "25-08-19 17:18:36.623 pyfstat.utils.sft INFO    : Loading 1 SFTs from H1...\n",
      "25-08-19 17:18:36.634 pyfstat.utils.sft INFO    : Loading 1 SFTs from H1...\n",
      "25-08-19 17:18:36.646 pyfstat.utils.sft INFO    : Loading 1 SFTs from H1...\n",
      "25-08-19 17:18:36.660 pyfstat.utils.sft INFO    : Loading 1 SFTs from H1...\n",
      "25-08-19 17:18:36.676 pyfstat.utils.sft INFO    : Loading 1 SFTs from H1...\n",
      "25-08-19 17:18:36.691 pyfstat.utils.sft INFO    : Loading 1 SFTs from H1...\n",
      "25-08-19 17:18:36.702 pyfstat.utils.sft INFO    : Loading 1 SFTs from H1...\n"
     ]
    },
    {
     "name": "stderr",
     "output_type": "stream",
     "text": [
      " 16%|█▌        | 912/5760 [00:13<01:10, 68.57it/s]"
     ]
    },
    {
     "name": "stdout",
     "output_type": "stream",
     "text": [
      "25-08-19 17:18:36.718 pyfstat.utils.sft INFO    : Loading 1 SFTs from H1...\n",
      "25-08-19 17:18:36.730 pyfstat.utils.sft INFO    : Loading 1 SFTs from H1...\n",
      "25-08-19 17:18:36.745 pyfstat.utils.sft INFO    : Loading 1 SFTs from H1...\n",
      "25-08-19 17:18:36.763 pyfstat.utils.sft INFO    : Loading 1 SFTs from H1...\n",
      "25-08-19 17:18:36.779 pyfstat.utils.sft INFO    : Loading 1 SFTs from H1...\n",
      "25-08-19 17:18:36.794 pyfstat.utils.sft INFO    : Loading 1 SFTs from H1...\n",
      "25-08-19 17:18:36.809 pyfstat.utils.sft INFO    : Loading 1 SFTs from H1...\n"
     ]
    },
    {
     "name": "stderr",
     "output_type": "stream",
     "text": [
      " 16%|█▌        | 919/5760 [00:13<01:12, 66.94it/s]"
     ]
    },
    {
     "name": "stdout",
     "output_type": "stream",
     "text": [
      "25-08-19 17:18:36.829 pyfstat.utils.sft INFO    : Loading 1 SFTs from H1...\n",
      "25-08-19 17:18:36.840 pyfstat.utils.sft INFO    : Loading 1 SFTs from H1...\n",
      "25-08-19 17:18:36.858 pyfstat.utils.sft INFO    : Loading 1 SFTs from H1...\n",
      "25-08-19 17:18:36.869 pyfstat.utils.sft INFO    : Loading 1 SFTs from H1...\n",
      "25-08-19 17:18:36.883 pyfstat.utils.sft INFO    : Loading 1 SFTs from H1...\n",
      "25-08-19 17:18:36.902 pyfstat.utils.sft INFO    : Loading 1 SFTs from H1...\n",
      "25-08-19 17:18:36.917 pyfstat.utils.sft INFO    : Loading 1 SFTs from H1...\n"
     ]
    },
    {
     "name": "stderr",
     "output_type": "stream",
     "text": [
      " 16%|█▌        | 926/5760 [00:13<01:11, 67.24it/s]"
     ]
    },
    {
     "name": "stdout",
     "output_type": "stream",
     "text": [
      "25-08-19 17:18:36.932 pyfstat.utils.sft INFO    : Loading 1 SFTs from H1...\n",
      "25-08-19 17:18:36.948 pyfstat.utils.sft INFO    : Loading 1 SFTs from H1...\n",
      "25-08-19 17:18:36.959 pyfstat.utils.sft INFO    : Loading 1 SFTs from H1...\n",
      "25-08-19 17:18:36.974 pyfstat.utils.sft INFO    : Loading 1 SFTs from H1...\n",
      "25-08-19 17:18:36.992 pyfstat.utils.sft INFO    : Loading 1 SFTs from H1...\n",
      "25-08-19 17:18:37.004 pyfstat.utils.sft INFO    : Loading 1 SFTs from H1...\n",
      "25-08-19 17:18:37.018 pyfstat.utils.sft INFO    : Loading 1 SFTs from H1...\n"
     ]
    },
    {
     "name": "stderr",
     "output_type": "stream",
     "text": [
      " 16%|█▌        | 933/5760 [00:13<01:11, 67.73it/s]"
     ]
    },
    {
     "name": "stdout",
     "output_type": "stream",
     "text": [
      "25-08-19 17:18:37.030 pyfstat.utils.sft INFO    : Loading 1 SFTs from H1...\n",
      "25-08-19 17:18:37.041 pyfstat.utils.sft INFO    : Loading 1 SFTs from H1...\n",
      "25-08-19 17:18:37.052 pyfstat.utils.sft INFO    : Loading 1 SFTs from H1...\n",
      "25-08-19 17:18:37.067 pyfstat.utils.sft INFO    : Loading 1 SFTs from H1...\n",
      "25-08-19 17:18:37.079 pyfstat.utils.sft INFO    : Loading 1 SFTs from H1...\n",
      "25-08-19 17:18:37.094 pyfstat.utils.sft INFO    : Loading 1 SFTs from H1...\n",
      "25-08-19 17:18:37.112 pyfstat.utils.sft INFO    : Loading 1 SFTs from H1...\n",
      "25-08-19 17:18:37.126 pyfstat.utils.sft INFO    : Loading 1 SFTs from H1...\n"
     ]
    },
    {
     "name": "stderr",
     "output_type": "stream",
     "text": [
      " 16%|█▋        | 941/5760 [00:13<01:09, 69.64it/s]"
     ]
    },
    {
     "name": "stdout",
     "output_type": "stream",
     "text": [
      "25-08-19 17:18:37.138 pyfstat.utils.sft INFO    : Loading 1 SFTs from H1...\n",
      "25-08-19 17:18:37.149 pyfstat.utils.sft INFO    : Loading 1 SFTs from H1...\n",
      "25-08-19 17:18:37.163 pyfstat.utils.sft INFO    : Loading 1 SFTs from H1...\n",
      "25-08-19 17:18:37.176 pyfstat.utils.sft INFO    : Loading 1 SFTs from H1...\n",
      "25-08-19 17:18:37.191 pyfstat.utils.sft INFO    : Loading 1 SFTs from H1...\n",
      "25-08-19 17:18:37.202 pyfstat.utils.sft INFO    : Loading 1 SFTs from H1...\n",
      "25-08-19 17:18:37.218 pyfstat.utils.sft INFO    : Loading 1 SFTs from H1...\n",
      "25-08-19 17:18:37.238 pyfstat.utils.sft INFO    : Loading 1 SFTs from H1...\n"
     ]
    },
    {
     "name": "stderr",
     "output_type": "stream",
     "text": [
      " 16%|█▋        | 949/5760 [00:13<01:08, 70.17it/s]"
     ]
    },
    {
     "name": "stdout",
     "output_type": "stream",
     "text": [
      "25-08-19 17:18:37.256 pyfstat.utils.sft INFO    : Loading 1 SFTs from H1...\n",
      "25-08-19 17:18:37.271 pyfstat.utils.sft INFO    : Loading 1 SFTs from H1...\n",
      "25-08-19 17:18:37.285 pyfstat.utils.sft INFO    : Loading 1 SFTs from H1...\n",
      "25-08-19 17:18:37.300 pyfstat.utils.sft INFO    : Loading 1 SFTs from H1...\n",
      "25-08-19 17:18:37.318 pyfstat.utils.sft INFO    : Loading 1 SFTs from H1...\n",
      "25-08-19 17:18:37.329 pyfstat.utils.sft INFO    : Loading 1 SFTs from H1...\n",
      "25-08-19 17:18:37.341 pyfstat.utils.sft INFO    : Loading 1 SFTs from H1...\n",
      "25-08-19 17:18:37.355 pyfstat.utils.sft INFO    : Loading 1 SFTs from H1...\n"
     ]
    },
    {
     "name": "stderr",
     "output_type": "stream",
     "text": [
      " 17%|█▋        | 957/5760 [00:14<01:09, 68.99it/s]"
     ]
    },
    {
     "name": "stdout",
     "output_type": "stream",
     "text": [
      "25-08-19 17:18:37.370 pyfstat.utils.sft INFO    : Loading 1 SFTs from H1...\n",
      "25-08-19 17:18:37.381 pyfstat.utils.sft INFO    : Loading 1 SFTs from H1...\n",
      "25-08-19 17:18:37.395 pyfstat.utils.sft INFO    : Loading 1 SFTs from H1...\n",
      "25-08-19 17:18:37.407 pyfstat.utils.sft INFO    : Loading 1 SFTs from H1...\n",
      "25-08-19 17:18:37.423 pyfstat.utils.sft INFO    : Loading 1 SFTs from H1...\n",
      "25-08-19 17:18:37.434 pyfstat.utils.sft INFO    : Loading 1 SFTs from H1...\n",
      "25-08-19 17:18:37.450 pyfstat.utils.sft INFO    : Loading 1 SFTs from H1...\n",
      "25-08-19 17:18:37.464 pyfstat.utils.sft INFO    : Loading 1 SFTs from H1...\n"
     ]
    },
    {
     "name": "stderr",
     "output_type": "stream",
     "text": [
      " 17%|█▋        | 965/5760 [00:14<01:07, 70.84it/s]"
     ]
    },
    {
     "name": "stdout",
     "output_type": "stream",
     "text": [
      "25-08-19 17:18:37.480 pyfstat.utils.sft INFO    : Loading 1 SFTs from H1...\n",
      "25-08-19 17:18:37.499 pyfstat.utils.sft INFO    : Loading 1 SFTs from H1...\n",
      "25-08-19 17:18:37.514 pyfstat.utils.sft INFO    : Loading 1 SFTs from H1...\n",
      "25-08-19 17:18:37.534 pyfstat.utils.sft INFO    : Loading 1 SFTs from H1...\n",
      "25-08-19 17:18:37.552 pyfstat.utils.sft INFO    : Loading 1 SFTs from H1...\n",
      "25-08-19 17:18:37.571 pyfstat.utils.sft INFO    : Loading 1 SFTs from H1...\n",
      "25-08-19 17:18:37.582 pyfstat.utils.sft INFO    : Loading 1 SFTs from H1...\n",
      "25-08-19 17:18:37.594 pyfstat.utils.sft INFO    : Loading 1 SFTs from H1...\n"
     ]
    },
    {
     "name": "stderr",
     "output_type": "stream",
     "text": [
      " 17%|█▋        | 973/5760 [00:14<01:10, 67.93it/s]"
     ]
    },
    {
     "name": "stdout",
     "output_type": "stream",
     "text": [
      "25-08-19 17:18:37.605 pyfstat.utils.sft INFO    : Loading 1 SFTs from H1...\n",
      "25-08-19 17:18:37.620 pyfstat.utils.sft INFO    : Loading 1 SFTs from H1...\n",
      "25-08-19 17:18:37.631 pyfstat.utils.sft INFO    : Loading 1 SFTs from H1...\n",
      "25-08-19 17:18:37.645 pyfstat.utils.sft INFO    : Loading 1 SFTs from H1...\n",
      "25-08-19 17:18:37.662 pyfstat.utils.sft INFO    : Loading 1 SFTs from H1...\n",
      "25-08-19 17:18:37.681 pyfstat.utils.sft INFO    : Loading 1 SFTs from H1...\n",
      "25-08-19 17:18:37.696 pyfstat.utils.sft INFO    : Loading 1 SFTs from H1...\n"
     ]
    },
    {
     "name": "stderr",
     "output_type": "stream",
     "text": [
      " 17%|█▋        | 980/5760 [00:14<01:10, 68.00it/s]"
     ]
    },
    {
     "name": "stdout",
     "output_type": "stream",
     "text": [
      "25-08-19 17:18:37.708 pyfstat.utils.sft INFO    : Loading 1 SFTs from H1...\n",
      "25-08-19 17:18:37.719 pyfstat.utils.sft INFO    : Loading 1 SFTs from H1...\n",
      "25-08-19 17:18:37.730 pyfstat.utils.sft INFO    : Loading 1 SFTs from H1...\n",
      "25-08-19 17:18:37.741 pyfstat.utils.sft INFO    : Loading 1 SFTs from H1...\n",
      "25-08-19 17:18:37.755 pyfstat.utils.sft INFO    : Loading 1 SFTs from H1...\n",
      "25-08-19 17:18:37.771 pyfstat.utils.sft INFO    : Loading 1 SFTs from H1...\n",
      "25-08-19 17:18:37.785 pyfstat.utils.sft INFO    : Loading 1 SFTs from H1...\n",
      "25-08-19 17:18:37.804 pyfstat.utils.sft INFO    : Loading 1 SFTs from H1...\n"
     ]
    },
    {
     "name": "stderr",
     "output_type": "stream",
     "text": [
      " 17%|█▋        | 988/5760 [00:14<01:08, 69.68it/s]"
     ]
    },
    {
     "name": "stdout",
     "output_type": "stream",
     "text": [
      "25-08-19 17:18:37.820 pyfstat.utils.sft INFO    : Loading 1 SFTs from H1...\n",
      "25-08-19 17:18:37.836 pyfstat.utils.sft INFO    : Loading 1 SFTs from H1...\n",
      "25-08-19 17:18:37.851 pyfstat.utils.sft INFO    : Loading 1 SFTs from H1...\n",
      "25-08-19 17:18:37.866 pyfstat.utils.sft INFO    : Loading 1 SFTs from H1...\n",
      "25-08-19 17:18:37.880 pyfstat.utils.sft INFO    : Loading 1 SFTs from H1...\n",
      "25-08-19 17:18:37.895 pyfstat.utils.sft INFO    : Loading 1 SFTs from H1...\n",
      "25-08-19 17:18:37.908 pyfstat.utils.sft INFO    : Loading 1 SFTs from H1...\n"
     ]
    },
    {
     "name": "stderr",
     "output_type": "stream",
     "text": [
      " 17%|█▋        | 995/5760 [00:14<01:09, 69.00it/s]"
     ]
    },
    {
     "name": "stdout",
     "output_type": "stream",
     "text": [
      "25-08-19 17:18:37.920 pyfstat.utils.sft INFO    : Loading 1 SFTs from H1...\n",
      "25-08-19 17:18:37.936 pyfstat.utils.sft INFO    : Loading 1 SFTs from H1...\n",
      "25-08-19 17:18:37.947 pyfstat.utils.sft INFO    : Loading 1 SFTs from H1...\n",
      "25-08-19 17:18:37.962 pyfstat.utils.sft INFO    : Loading 1 SFTs from H1...\n",
      "25-08-19 17:18:37.977 pyfstat.utils.sft INFO    : Loading 1 SFTs from H1...\n",
      "25-08-19 17:18:37.988 pyfstat.utils.sft INFO    : Loading 1 SFTs from H1...\n",
      "25-08-19 17:18:38.003 pyfstat.utils.sft INFO    : Loading 1 SFTs from H1...\n",
      "25-08-19 17:18:38.018 pyfstat.utils.sft INFO    : Loading 1 SFTs from H1...\n"
     ]
    },
    {
     "name": "stderr",
     "output_type": "stream",
     "text": [
      " 17%|█▋        | 1003/5760 [00:14<01:07, 70.21it/s]"
     ]
    },
    {
     "name": "stdout",
     "output_type": "stream",
     "text": [
      "25-08-19 17:18:38.030 pyfstat.utils.sft INFO    : Loading 1 SFTs from H1...\n",
      "25-08-19 17:18:38.045 pyfstat.utils.sft INFO    : Loading 1 SFTs from H1...\n",
      "25-08-19 17:18:38.060 pyfstat.utils.sft INFO    : Loading 1 SFTs from H1...\n",
      "25-08-19 17:18:38.072 pyfstat.utils.sft INFO    : Loading 1 SFTs from H1...\n",
      "25-08-19 17:18:38.086 pyfstat.utils.sft INFO    : Loading 1 SFTs from H1...\n",
      "25-08-19 17:18:38.101 pyfstat.utils.sft INFO    : Loading 1 SFTs from H1...\n",
      "25-08-19 17:18:38.112 pyfstat.utils.sft INFO    : Loading 1 SFTs from H1...\n",
      "25-08-19 17:18:38.127 pyfstat.utils.sft INFO    : Loading 1 SFTs from H1...\n"
     ]
    },
    {
     "name": "stderr",
     "output_type": "stream",
     "text": [
      " 18%|█▊        | 1011/5760 [00:14<01:07, 70.45it/s]"
     ]
    },
    {
     "name": "stdout",
     "output_type": "stream",
     "text": [
      "25-08-19 17:18:38.147 pyfstat.utils.sft INFO    : Loading 1 SFTs from H1...\n",
      "25-08-19 17:18:38.162 pyfstat.utils.sft INFO    : Loading 1 SFTs from H1...\n",
      "25-08-19 17:18:38.177 pyfstat.utils.sft INFO    : Loading 1 SFTs from H1...\n",
      "25-08-19 17:18:38.192 pyfstat.utils.sft INFO    : Loading 1 SFTs from H1...\n",
      "25-08-19 17:18:38.204 pyfstat.utils.sft INFO    : Loading 1 SFTs from H1...\n",
      "25-08-19 17:18:38.220 pyfstat.utils.sft INFO    : Loading 1 SFTs from H1...\n",
      "25-08-19 17:18:38.235 pyfstat.utils.sft INFO    : Loading 1 SFTs from H1...\n",
      "25-08-19 17:18:38.249 pyfstat.utils.sft INFO    : Loading 1 SFTs from H1...\n"
     ]
    },
    {
     "name": "stderr",
     "output_type": "stream",
     "text": [
      " 18%|█▊        | 1019/5760 [00:14<01:08, 69.57it/s]"
     ]
    },
    {
     "name": "stdout",
     "output_type": "stream",
     "text": [
      "25-08-19 17:18:38.261 pyfstat.utils.sft INFO    : Loading 1 SFTs from H1...\n",
      "25-08-19 17:18:38.276 pyfstat.utils.sft INFO    : Loading 1 SFTs from H1...\n",
      "25-08-19 17:18:38.295 pyfstat.utils.sft INFO    : Loading 1 SFTs from H1...\n",
      "25-08-19 17:18:38.313 pyfstat.utils.sft INFO    : Loading 1 SFTs from H1...\n",
      "25-08-19 17:18:38.331 pyfstat.utils.sft INFO    : Loading 1 SFTs from H1...\n",
      "25-08-19 17:18:38.346 pyfstat.utils.sft INFO    : Loading 1 SFTs from H1...\n",
      "25-08-19 17:18:38.361 pyfstat.utils.sft INFO    : Loading 1 SFTs from H1...\n"
     ]
    },
    {
     "name": "stderr",
     "output_type": "stream",
     "text": [
      " 18%|█▊        | 1026/5760 [00:15<01:10, 67.47it/s]"
     ]
    },
    {
     "name": "stdout",
     "output_type": "stream",
     "text": [
      "25-08-19 17:18:38.377 pyfstat.utils.sft INFO    : Loading 1 SFTs from H1...\n",
      "25-08-19 17:18:38.392 pyfstat.utils.sft INFO    : Loading 1 SFTs from H1...\n",
      "25-08-19 17:18:38.407 pyfstat.utils.sft INFO    : Loading 1 SFTs from H1...\n",
      "25-08-19 17:18:38.429 pyfstat.utils.sft INFO    : Loading 1 SFTs from H1...\n",
      "25-08-19 17:18:38.441 pyfstat.utils.sft INFO    : Loading 1 SFTs from H1...\n",
      "25-08-19 17:18:38.455 pyfstat.utils.sft INFO    : Loading 1 SFTs from H1...\n",
      "25-08-19 17:18:38.467 pyfstat.utils.sft INFO    : Loading 1 SFTs from H1...\n"
     ]
    },
    {
     "name": "stderr",
     "output_type": "stream",
     "text": [
      " 18%|█▊        | 1033/5760 [00:15<01:10, 66.87it/s]"
     ]
    },
    {
     "name": "stdout",
     "output_type": "stream",
     "text": [
      "25-08-19 17:18:38.484 pyfstat.utils.sft INFO    : Loading 1 SFTs from H1...\n",
      "25-08-19 17:18:38.500 pyfstat.utils.sft INFO    : Loading 1 SFTs from H1...\n",
      "25-08-19 17:18:38.516 pyfstat.utils.sft INFO    : Loading 1 SFTs from H1...\n",
      "25-08-19 17:18:38.532 pyfstat.utils.sft INFO    : Loading 1 SFTs from H1...\n",
      "25-08-19 17:18:38.546 pyfstat.utils.sft INFO    : Loading 1 SFTs from H1...\n",
      "25-08-19 17:18:38.561 pyfstat.utils.sft INFO    : Loading 1 SFTs from H1...\n",
      "25-08-19 17:18:38.576 pyfstat.utils.sft INFO    : Loading 1 SFTs from H1...\n"
     ]
    },
    {
     "name": "stderr",
     "output_type": "stream",
     "text": [
      " 18%|█▊        | 1040/5760 [00:15<01:11, 66.11it/s]"
     ]
    },
    {
     "name": "stdout",
     "output_type": "stream",
     "text": [
      "25-08-19 17:18:38.593 pyfstat.utils.sft INFO    : Loading 1 SFTs from H1...\n",
      "25-08-19 17:18:38.605 pyfstat.utils.sft INFO    : Loading 1 SFTs from H1...\n",
      "25-08-19 17:18:38.622 pyfstat.utils.sft INFO    : Loading 1 SFTs from H1...\n",
      "25-08-19 17:18:38.637 pyfstat.utils.sft INFO    : Loading 1 SFTs from H1...\n",
      "25-08-19 17:18:38.654 pyfstat.utils.sft INFO    : Loading 1 SFTs from H1...\n",
      "25-08-19 17:18:38.669 pyfstat.utils.sft INFO    : Loading 1 SFTs from H1...\n",
      "25-08-19 17:18:38.684 pyfstat.utils.sft INFO    : Loading 1 SFTs from H1...\n"
     ]
    },
    {
     "name": "stderr",
     "output_type": "stream",
     "text": [
      " 18%|█▊        | 1047/5760 [00:15<01:12, 65.13it/s]"
     ]
    },
    {
     "name": "stdout",
     "output_type": "stream",
     "text": [
      "25-08-19 17:18:38.704 pyfstat.utils.sft INFO    : Loading 1 SFTs from H1...\n",
      "25-08-19 17:18:38.722 pyfstat.utils.sft INFO    : Loading 1 SFTs from H1...\n",
      "25-08-19 17:18:38.737 pyfstat.utils.sft INFO    : Loading 1 SFTs from H1...\n",
      "25-08-19 17:18:38.749 pyfstat.utils.sft INFO    : Loading 1 SFTs from H1...\n",
      "25-08-19 17:18:38.761 pyfstat.utils.sft INFO    : Loading 1 SFTs from H1...\n",
      "25-08-19 17:18:38.777 pyfstat.utils.sft INFO    : Loading 1 SFTs from H1...\n",
      "25-08-19 17:18:38.788 pyfstat.utils.sft INFO    : Loading 1 SFTs from H1...\n"
     ]
    },
    {
     "name": "stderr",
     "output_type": "stream",
     "text": [
      " 18%|█▊        | 1054/5760 [00:15<01:10, 66.43it/s]"
     ]
    },
    {
     "name": "stdout",
     "output_type": "stream",
     "text": [
      "25-08-19 17:18:38.804 pyfstat.utils.sft INFO    : Loading 1 SFTs from H1...\n",
      "25-08-19 17:18:38.824 pyfstat.utils.sft INFO    : Loading 1 SFTs from H1...\n",
      "25-08-19 17:18:38.843 pyfstat.utils.sft INFO    : Loading 1 SFTs from H1...\n",
      "25-08-19 17:18:38.866 pyfstat.utils.sft INFO    : Loading 1 SFTs from H1...\n",
      "25-08-19 17:18:38.887 pyfstat.utils.sft INFO    : Loading 1 SFTs from H1...\n",
      "25-08-19 17:18:38.902 pyfstat.utils.sft INFO    : Loading 1 SFTs from H1...\n",
      "25-08-19 17:18:38.917 pyfstat.utils.sft INFO    : Loading 1 SFTs from H1...\n"
     ]
    },
    {
     "name": "stderr",
     "output_type": "stream",
     "text": [
      " 18%|█▊        | 1061/5760 [00:15<01:15, 62.38it/s]"
     ]
    },
    {
     "name": "stdout",
     "output_type": "stream",
     "text": [
      "25-08-19 17:18:38.929 pyfstat.utils.sft INFO    : Loading 1 SFTs from H1...\n",
      "25-08-19 17:18:38.950 pyfstat.utils.sft INFO    : Loading 1 SFTs from H1...\n",
      "25-08-19 17:18:38.965 pyfstat.utils.sft INFO    : Loading 1 SFTs from H1...\n",
      "25-08-19 17:18:38.982 pyfstat.utils.sft INFO    : Loading 1 SFTs from H1...\n",
      "25-08-19 17:18:39.001 pyfstat.utils.sft INFO    : Loading 1 SFTs from H1...\n",
      "25-08-19 17:18:39.017 pyfstat.utils.sft INFO    : Loading 1 SFTs from H1...\n",
      "25-08-19 17:18:39.036 pyfstat.utils.sft INFO    : Loading 1 SFTs from H1...\n"
     ]
    },
    {
     "name": "stderr",
     "output_type": "stream",
     "text": [
      " 19%|█▊        | 1068/5760 [00:15<01:16, 61.15it/s]"
     ]
    },
    {
     "name": "stdout",
     "output_type": "stream",
     "text": [
      "25-08-19 17:18:39.053 pyfstat.utils.sft INFO    : Loading 1 SFTs from H1...\n",
      "25-08-19 17:18:39.072 pyfstat.utils.sft INFO    : Loading 1 SFTs from H1...\n",
      "25-08-19 17:18:39.083 pyfstat.utils.sft INFO    : Loading 1 SFTs from H1...\n",
      "25-08-19 17:18:39.095 pyfstat.utils.sft INFO    : Loading 1 SFTs from H1...\n",
      "25-08-19 17:18:39.110 pyfstat.utils.sft INFO    : Loading 1 SFTs from H1...\n",
      "25-08-19 17:18:39.120 pyfstat.utils.sft INFO    : Loading 1 SFTs from H1...\n",
      "25-08-19 17:18:39.137 pyfstat.utils.sft INFO    : Loading 1 SFTs from H1...\n"
     ]
    },
    {
     "name": "stderr",
     "output_type": "stream",
     "text": [
      " 19%|█▊        | 1075/5760 [00:15<01:14, 62.84it/s]"
     ]
    },
    {
     "name": "stdout",
     "output_type": "stream",
     "text": [
      "25-08-19 17:18:39.157 pyfstat.utils.sft INFO    : Loading 1 SFTs from H1...\n",
      "25-08-19 17:18:39.173 pyfstat.utils.sft INFO    : Loading 1 SFTs from H1...\n",
      "25-08-19 17:18:39.187 pyfstat.utils.sft INFO    : Loading 1 SFTs from H1...\n",
      "25-08-19 17:18:39.206 pyfstat.utils.sft INFO    : Loading 1 SFTs from H1...\n",
      "25-08-19 17:18:39.217 pyfstat.utils.sft INFO    : Loading 1 SFTs from H1...\n",
      "25-08-19 17:18:39.231 pyfstat.utils.sft INFO    : Loading 1 SFTs from H1...\n",
      "25-08-19 17:18:39.247 pyfstat.utils.sft INFO    : Loading 1 SFTs from H1...\n"
     ]
    },
    {
     "name": "stderr",
     "output_type": "stream",
     "text": [
      " 19%|█▉        | 1082/5760 [00:15<01:13, 63.23it/s]"
     ]
    },
    {
     "name": "stdout",
     "output_type": "stream",
     "text": [
      "25-08-19 17:18:39.262 pyfstat.utils.sft INFO    : Loading 1 SFTs from H1...\n",
      "25-08-19 17:18:39.277 pyfstat.utils.sft INFO    : Loading 1 SFTs from H1...\n",
      "25-08-19 17:18:39.295 pyfstat.utils.sft INFO    : Loading 1 SFTs from H1...\n",
      "25-08-19 17:18:39.310 pyfstat.utils.sft INFO    : Loading 1 SFTs from H1...\n",
      "25-08-19 17:18:39.324 pyfstat.utils.sft INFO    : Loading 1 SFTs from H1...\n",
      "25-08-19 17:18:39.339 pyfstat.utils.sft INFO    : Loading 1 SFTs from H1...\n",
      "25-08-19 17:18:39.358 pyfstat.utils.sft INFO    : Loading 1 SFTs from H1...\n"
     ]
    },
    {
     "name": "stderr",
     "output_type": "stream",
     "text": [
      " 19%|█▉        | 1089/5760 [00:16<01:14, 63.07it/s]"
     ]
    },
    {
     "name": "stdout",
     "output_type": "stream",
     "text": [
      "25-08-19 17:18:39.378 pyfstat.utils.sft INFO    : Loading 1 SFTs from H1...\n",
      "25-08-19 17:18:39.390 pyfstat.utils.sft INFO    : Loading 1 SFTs from H1...\n",
      "25-08-19 17:18:39.405 pyfstat.utils.sft INFO    : Loading 1 SFTs from H1...\n",
      "25-08-19 17:18:39.421 pyfstat.utils.sft INFO    : Loading 1 SFTs from H1...\n",
      "25-08-19 17:18:39.440 pyfstat.utils.sft INFO    : Loading 1 SFTs from H1...\n",
      "25-08-19 17:18:39.456 pyfstat.utils.sft INFO    : Loading 1 SFTs from H1...\n",
      "25-08-19 17:18:39.472 pyfstat.utils.sft INFO    : Loading 1 SFTs from H1...\n"
     ]
    },
    {
     "name": "stderr",
     "output_type": "stream",
     "text": [
      " 19%|█▉        | 1096/5760 [00:16<01:14, 62.60it/s]"
     ]
    },
    {
     "name": "stdout",
     "output_type": "stream",
     "text": [
      "25-08-19 17:18:39.487 pyfstat.utils.sft INFO    : Loading 1 SFTs from H1...\n",
      "25-08-19 17:18:39.504 pyfstat.utils.sft INFO    : Loading 1 SFTs from H1...\n",
      "25-08-19 17:18:39.522 pyfstat.utils.sft INFO    : Loading 1 SFTs from H1...\n",
      "25-08-19 17:18:39.537 pyfstat.utils.sft INFO    : Loading 1 SFTs from H1...\n",
      "25-08-19 17:18:39.556 pyfstat.utils.sft INFO    : Loading 1 SFTs from H1...\n",
      "25-08-19 17:18:39.571 pyfstat.utils.sft INFO    : Loading 1 SFTs from H1...\n",
      "25-08-19 17:18:39.587 pyfstat.utils.sft INFO    : Loading 1 SFTs from H1...\n"
     ]
    },
    {
     "name": "stderr",
     "output_type": "stream",
     "text": [
      " 19%|█▉        | 1103/5760 [00:16<01:14, 62.54it/s]"
     ]
    },
    {
     "name": "stdout",
     "output_type": "stream",
     "text": [
      "25-08-19 17:18:39.603 pyfstat.utils.sft INFO    : Loading 1 SFTs from H1...\n",
      "25-08-19 17:18:39.619 pyfstat.utils.sft INFO    : Loading 1 SFTs from H1...\n",
      "25-08-19 17:18:39.631 pyfstat.utils.sft INFO    : Loading 1 SFTs from H1...\n",
      "25-08-19 17:18:39.643 pyfstat.utils.sft INFO    : Loading 1 SFTs from H1...\n",
      "25-08-19 17:18:39.659 pyfstat.utils.sft INFO    : Loading 1 SFTs from H1...\n",
      "25-08-19 17:18:39.671 pyfstat.utils.sft INFO    : Loading 1 SFTs from H1...\n",
      "25-08-19 17:18:39.683 pyfstat.utils.sft INFO    : Loading 1 SFTs from H1...\n",
      "25-08-19 17:18:39.698 pyfstat.utils.sft INFO    : Loading 1 SFTs from H1...\n"
     ]
    },
    {
     "name": "stderr",
     "output_type": "stream",
     "text": [
      " 19%|█▉        | 1111/5760 [00:16<01:11, 64.86it/s]"
     ]
    },
    {
     "name": "stdout",
     "output_type": "stream",
     "text": [
      "25-08-19 17:18:39.718 pyfstat.utils.sft INFO    : Loading 1 SFTs from H1...\n",
      "25-08-19 17:18:39.732 pyfstat.utils.sft INFO    : Loading 1 SFTs from H1...\n",
      "25-08-19 17:18:39.746 pyfstat.utils.sft INFO    : Loading 1 SFTs from H1...\n",
      "25-08-19 17:18:39.765 pyfstat.utils.sft INFO    : Loading 1 SFTs from H1...\n",
      "25-08-19 17:18:39.777 pyfstat.utils.sft INFO    : Loading 1 SFTs from H1...\n",
      "25-08-19 17:18:39.792 pyfstat.utils.sft INFO    : Loading 1 SFTs from H1...\n",
      "25-08-19 17:18:39.807 pyfstat.utils.sft INFO    : Loading 1 SFTs from H1...\n"
     ]
    },
    {
     "name": "stderr",
     "output_type": "stream",
     "text": [
      " 19%|█▉        | 1118/5760 [00:16<01:11, 65.33it/s]"
     ]
    },
    {
     "name": "stdout",
     "output_type": "stream",
     "text": [
      "25-08-19 17:18:39.819 pyfstat.utils.sft INFO    : Loading 1 SFTs from H1...\n",
      "25-08-19 17:18:39.831 pyfstat.utils.sft INFO    : Loading 1 SFTs from H1...\n",
      "25-08-19 17:18:39.844 pyfstat.utils.sft INFO    : Loading 1 SFTs from H1...\n",
      "25-08-19 17:18:39.854 pyfstat.utils.sft INFO    : Loading 1 SFTs from H1...\n",
      "25-08-19 17:18:39.869 pyfstat.utils.sft INFO    : Loading 1 SFTs from H1...\n",
      "25-08-19 17:18:39.887 pyfstat.utils.sft INFO    : Loading 1 SFTs from H1...\n",
      "25-08-19 17:18:39.902 pyfstat.utils.sft INFO    : Loading 1 SFTs from H1...\n",
      "25-08-19 17:18:39.913 pyfstat.utils.sft INFO    : Loading 1 SFTs from H1...\n"
     ]
    },
    {
     "name": "stderr",
     "output_type": "stream",
     "text": [
      " 20%|█▉        | 1126/5760 [00:16<01:07, 68.27it/s]"
     ]
    },
    {
     "name": "stdout",
     "output_type": "stream",
     "text": [
      "25-08-19 17:18:39.929 pyfstat.utils.sft INFO    : Loading 1 SFTs from H1...\n",
      "25-08-19 17:18:39.943 pyfstat.utils.sft INFO    : Loading 1 SFTs from H1...\n",
      "25-08-19 17:18:39.961 pyfstat.utils.sft INFO    : Loading 1 SFTs from H1...\n",
      "25-08-19 17:18:39.978 pyfstat.utils.sft INFO    : Loading 1 SFTs from H1...\n",
      "25-08-19 17:18:39.996 pyfstat.utils.sft INFO    : Loading 1 SFTs from H1...\n",
      "25-08-19 17:18:40.010 pyfstat.utils.sft INFO    : Loading 1 SFTs from H1...\n",
      "25-08-19 17:18:40.021 pyfstat.utils.sft INFO    : Loading 1 SFTs from H1...\n"
     ]
    },
    {
     "name": "stderr",
     "output_type": "stream",
     "text": [
      " 20%|█▉        | 1133/5760 [00:16<01:09, 66.57it/s]"
     ]
    },
    {
     "name": "stdout",
     "output_type": "stream",
     "text": [
      "25-08-19 17:18:40.040 pyfstat.utils.sft INFO    : Loading 1 SFTs from H1...\n",
      "25-08-19 17:18:40.055 pyfstat.utils.sft INFO    : Loading 1 SFTs from H1...\n",
      "25-08-19 17:18:40.071 pyfstat.utils.sft INFO    : Loading 1 SFTs from H1...\n",
      "25-08-19 17:18:40.086 pyfstat.utils.sft INFO    : Loading 1 SFTs from H1...\n",
      "25-08-19 17:18:40.105 pyfstat.utils.sft INFO    : Loading 1 SFTs from H1...\n",
      "25-08-19 17:18:40.121 pyfstat.utils.sft INFO    : Loading 1 SFTs from H1...\n",
      "25-08-19 17:18:40.140 pyfstat.utils.sft INFO    : Loading 1 SFTs from H1...\n"
     ]
    },
    {
     "name": "stderr",
     "output_type": "stream",
     "text": [
      " 20%|█▉        | 1140/5760 [00:16<01:12, 64.02it/s]"
     ]
    },
    {
     "name": "stdout",
     "output_type": "stream",
     "text": [
      "25-08-19 17:18:40.160 pyfstat.utils.sft INFO    : Loading 1 SFTs from H1...\n",
      "25-08-19 17:18:40.178 pyfstat.utils.sft INFO    : Loading 1 SFTs from H1...\n",
      "25-08-19 17:18:40.189 pyfstat.utils.sft INFO    : Loading 1 SFTs from H1...\n",
      "25-08-19 17:18:40.205 pyfstat.utils.sft INFO    : Loading 1 SFTs from H1...\n",
      "25-08-19 17:18:40.224 pyfstat.utils.sft INFO    : Loading 1 SFTs from H1...\n",
      "25-08-19 17:18:40.240 pyfstat.utils.sft INFO    : Loading 1 SFTs from H1...\n",
      "25-08-19 17:18:40.255 pyfstat.utils.sft INFO    : Loading 1 SFTs from H1...\n"
     ]
    },
    {
     "name": "stderr",
     "output_type": "stream",
     "text": [
      " 20%|█▉        | 1147/5760 [00:16<01:12, 63.68it/s]"
     ]
    },
    {
     "name": "stdout",
     "output_type": "stream",
     "text": [
      "25-08-19 17:18:40.271 pyfstat.utils.sft INFO    : Loading 1 SFTs from H1...\n",
      "25-08-19 17:18:40.287 pyfstat.utils.sft INFO    : Loading 1 SFTs from H1...\n",
      "25-08-19 17:18:40.306 pyfstat.utils.sft INFO    : Loading 1 SFTs from H1...\n",
      "25-08-19 17:18:40.317 pyfstat.utils.sft INFO    : Loading 1 SFTs from H1...\n",
      "25-08-19 17:18:40.331 pyfstat.utils.sft INFO    : Loading 1 SFTs from H1...\n",
      "25-08-19 17:18:40.347 pyfstat.utils.sft INFO    : Loading 1 SFTs from H1...\n",
      "25-08-19 17:18:40.366 pyfstat.utils.sft INFO    : Loading 1 SFTs from H1...\n"
     ]
    },
    {
     "name": "stderr",
     "output_type": "stream",
     "text": [
      " 20%|██        | 1154/5760 [00:17<01:12, 63.53it/s]"
     ]
    },
    {
     "name": "stdout",
     "output_type": "stream",
     "text": [
      "25-08-19 17:18:40.382 pyfstat.utils.sft INFO    : Loading 1 SFTs from H1...\n",
      "25-08-19 17:18:40.401 pyfstat.utils.sft INFO    : Loading 1 SFTs from H1...\n",
      "25-08-19 17:18:40.416 pyfstat.utils.sft INFO    : Loading 1 SFTs from H1...\n",
      "25-08-19 17:18:40.427 pyfstat.utils.sft INFO    : Loading 1 SFTs from H1...\n",
      "25-08-19 17:18:40.438 pyfstat.utils.sft INFO    : Loading 1 SFTs from H1...\n",
      "25-08-19 17:18:40.453 pyfstat.utils.sft INFO    : Loading 1 SFTs from H1...\n",
      "25-08-19 17:18:40.471 pyfstat.utils.sft INFO    : Loading 1 SFTs from H1...\n"
     ]
    },
    {
     "name": "stderr",
     "output_type": "stream",
     "text": [
      " 20%|██        | 1161/5760 [00:17<01:11, 64.27it/s]"
     ]
    },
    {
     "name": "stdout",
     "output_type": "stream",
     "text": [
      "25-08-19 17:18:40.485 pyfstat.utils.sft INFO    : Loading 1 SFTs from H1...\n",
      "25-08-19 17:18:40.499 pyfstat.utils.sft INFO    : Loading 1 SFTs from H1...\n",
      "25-08-19 17:18:40.515 pyfstat.utils.sft INFO    : Loading 1 SFTs from H1...\n",
      "25-08-19 17:18:40.533 pyfstat.utils.sft INFO    : Loading 1 SFTs from H1...\n",
      "25-08-19 17:18:40.551 pyfstat.utils.sft INFO    : Loading 1 SFTs from H1...\n",
      "25-08-19 17:18:40.565 pyfstat.utils.sft INFO    : Loading 1 SFTs from H1...\n",
      "25-08-19 17:18:40.584 pyfstat.utils.sft INFO    : Loading 1 SFTs from H1...\n"
     ]
    },
    {
     "name": "stderr",
     "output_type": "stream",
     "text": [
      " 20%|██        | 1168/5760 [00:17<01:13, 62.79it/s]"
     ]
    },
    {
     "name": "stdout",
     "output_type": "stream",
     "text": [
      "25-08-19 17:18:40.605 pyfstat.utils.sft INFO    : Loading 1 SFTs from H1...\n",
      "25-08-19 17:18:40.625 pyfstat.utils.sft INFO    : Loading 1 SFTs from H1...\n",
      "25-08-19 17:18:40.644 pyfstat.utils.sft INFO    : Loading 1 SFTs from H1...\n",
      "25-08-19 17:18:40.666 pyfstat.utils.sft INFO    : Loading 1 SFTs from H1...\n",
      "25-08-19 17:18:40.678 pyfstat.utils.sft INFO    : Loading 1 SFTs from H1...\n",
      "25-08-19 17:18:40.692 pyfstat.utils.sft INFO    : Loading 1 SFTs from H1...\n",
      "25-08-19 17:18:40.707 pyfstat.utils.sft INFO    : Loading 1 SFTs from H1...\n"
     ]
    },
    {
     "name": "stderr",
     "output_type": "stream",
     "text": [
      " 20%|██        | 1175/5760 [00:17<01:14, 61.90it/s]"
     ]
    },
    {
     "name": "stdout",
     "output_type": "stream",
     "text": [
      "25-08-19 17:18:40.727 pyfstat.utils.sft INFO    : Loading 1 SFTs from H1...\n",
      "25-08-19 17:18:40.745 pyfstat.utils.sft INFO    : Loading 1 SFTs from H1...\n",
      "25-08-19 17:18:40.757 pyfstat.utils.sft INFO    : Loading 1 SFTs from H1...\n",
      "25-08-19 17:18:40.771 pyfstat.utils.sft INFO    : Loading 1 SFTs from H1...\n",
      "25-08-19 17:18:40.787 pyfstat.utils.sft INFO    : Loading 1 SFTs from H1...\n",
      "25-08-19 17:18:40.801 pyfstat.utils.sft INFO    : Loading 1 SFTs from H1...\n",
      "25-08-19 17:18:40.812 pyfstat.utils.sft INFO    : Loading 1 SFTs from H1...\n"
     ]
    },
    {
     "name": "stderr",
     "output_type": "stream",
     "text": [
      " 21%|██        | 1182/5760 [00:17<01:13, 62.42it/s]"
     ]
    },
    {
     "name": "stdout",
     "output_type": "stream",
     "text": [
      "25-08-19 17:18:40.832 pyfstat.utils.sft INFO    : Loading 1 SFTs from H1...\n",
      "25-08-19 17:18:40.850 pyfstat.utils.sft INFO    : Loading 1 SFTs from H1...\n",
      "25-08-19 17:18:40.866 pyfstat.utils.sft INFO    : Loading 1 SFTs from H1...\n",
      "25-08-19 17:18:40.880 pyfstat.utils.sft INFO    : Loading 1 SFTs from H1...\n",
      "25-08-19 17:18:40.896 pyfstat.utils.sft INFO    : Loading 1 SFTs from H1...\n",
      "25-08-19 17:18:40.911 pyfstat.utils.sft INFO    : Loading 1 SFTs from H1...\n",
      "25-08-19 17:18:40.929 pyfstat.utils.sft INFO    : Loading 1 SFTs from H1...\n"
     ]
    },
    {
     "name": "stderr",
     "output_type": "stream",
     "text": [
      " 21%|██        | 1189/5760 [00:17<01:13, 62.28it/s]"
     ]
    },
    {
     "name": "stdout",
     "output_type": "stream",
     "text": [
      "25-08-19 17:18:40.942 pyfstat.utils.sft INFO    : Loading 1 SFTs from H1...\n",
      "25-08-19 17:18:40.960 pyfstat.utils.sft INFO    : Loading 1 SFTs from H1...\n",
      "25-08-19 17:18:40.971 pyfstat.utils.sft INFO    : Loading 1 SFTs from H1...\n",
      "25-08-19 17:18:40.986 pyfstat.utils.sft INFO    : Loading 1 SFTs from H1...\n",
      "25-08-19 17:18:41.001 pyfstat.utils.sft INFO    : Loading 1 SFTs from H1...\n",
      "25-08-19 17:18:41.015 pyfstat.utils.sft INFO    : Loading 1 SFTs from H1...\n",
      "25-08-19 17:18:41.030 pyfstat.utils.sft INFO    : Loading 1 SFTs from H1...\n"
     ]
    },
    {
     "name": "stderr",
     "output_type": "stream",
     "text": [
      " 21%|██        | 1196/5760 [00:17<01:10, 64.36it/s]"
     ]
    },
    {
     "name": "stdout",
     "output_type": "stream",
     "text": [
      "25-08-19 17:18:41.046 pyfstat.utils.sft INFO    : Loading 1 SFTs from H1...\n",
      "25-08-19 17:18:41.062 pyfstat.utils.sft INFO    : Loading 1 SFTs from H1...\n",
      "25-08-19 17:18:41.076 pyfstat.utils.sft INFO    : Loading 1 SFTs from H1...\n",
      "25-08-19 17:18:41.088 pyfstat.utils.sft INFO    : Loading 1 SFTs from H1...\n",
      "25-08-19 17:18:41.100 pyfstat.utils.sft INFO    : Loading 1 SFTs from H1...\n",
      "25-08-19 17:18:41.119 pyfstat.utils.sft INFO    : Loading 1 SFTs from H1...\n",
      "25-08-19 17:18:41.134 pyfstat.utils.sft INFO    : Loading 1 SFTs from H1...\n"
     ]
    },
    {
     "name": "stderr",
     "output_type": "stream",
     "text": [
      " 21%|██        | 1203/5760 [00:17<01:09, 65.19it/s]"
     ]
    },
    {
     "name": "stdout",
     "output_type": "stream",
     "text": [
      "25-08-19 17:18:41.146 pyfstat.utils.sft INFO    : Loading 1 SFTs from H1...\n",
      "25-08-19 17:18:41.161 pyfstat.utils.sft INFO    : Loading 1 SFTs from H1...\n",
      "25-08-19 17:18:41.176 pyfstat.utils.sft INFO    : Loading 1 SFTs from H1...\n",
      "25-08-19 17:18:41.191 pyfstat.utils.sft INFO    : Loading 1 SFTs from H1...\n",
      "25-08-19 17:18:41.206 pyfstat.utils.sft INFO    : Loading 1 SFTs from H1...\n",
      "25-08-19 17:18:41.222 pyfstat.utils.sft INFO    : Loading 1 SFTs from H1...\n",
      "25-08-19 17:18:41.238 pyfstat.utils.sft INFO    : Loading 1 SFTs from H1...\n"
     ]
    },
    {
     "name": "stderr",
     "output_type": "stream",
     "text": [
      " 21%|██        | 1210/5760 [00:17<01:09, 65.64it/s]"
     ]
    },
    {
     "name": "stdout",
     "output_type": "stream",
     "text": [
      "25-08-19 17:18:41.255 pyfstat.utils.sft INFO    : Loading 1 SFTs from H1...\n",
      "25-08-19 17:18:41.267 pyfstat.utils.sft INFO    : Loading 1 SFTs from H1...\n",
      "25-08-19 17:18:41.278 pyfstat.utils.sft INFO    : Loading 1 SFTs from H1...\n",
      "25-08-19 17:18:41.294 pyfstat.utils.sft INFO    : Loading 1 SFTs from H1...\n",
      "25-08-19 17:18:41.306 pyfstat.utils.sft INFO    : Loading 1 SFTs from H1...\n",
      "25-08-19 17:18:41.325 pyfstat.utils.sft INFO    : Loading 1 SFTs from H1...\n",
      "25-08-19 17:18:41.338 pyfstat.utils.sft INFO    : Loading 1 SFTs from H1...\n",
      "25-08-19 17:18:41.350 pyfstat.utils.sft INFO    : Loading 1 SFTs from H1...\n"
     ]
    },
    {
     "name": "stderr",
     "output_type": "stream",
     "text": [
      " 21%|██        | 1218/5760 [00:18<01:07, 67.51it/s]"
     ]
    },
    {
     "name": "stdout",
     "output_type": "stream",
     "text": [
      "25-08-19 17:18:41.366 pyfstat.utils.sft INFO    : Loading 1 SFTs from H1...\n",
      "25-08-19 17:18:41.381 pyfstat.utils.sft INFO    : Loading 1 SFTs from H1...\n",
      "25-08-19 17:18:41.404 pyfstat.utils.sft INFO    : Loading 1 SFTs from H1...\n",
      "25-08-19 17:18:41.419 pyfstat.utils.sft INFO    : Loading 1 SFTs from H1...\n",
      "25-08-19 17:18:41.435 pyfstat.utils.sft INFO    : Loading 1 SFTs from H1...\n",
      "25-08-19 17:18:41.453 pyfstat.utils.sft INFO    : Loading 1 SFTs from H1...\n",
      "25-08-19 17:18:41.472 pyfstat.utils.sft INFO    : Loading 1 SFTs from H1...\n"
     ]
    },
    {
     "name": "stderr",
     "output_type": "stream",
     "text": [
      " 21%|██▏       | 1225/5760 [00:18<01:11, 63.68it/s]"
     ]
    },
    {
     "name": "stdout",
     "output_type": "stream",
     "text": [
      "25-08-19 17:18:41.488 pyfstat.utils.sft INFO    : Loading 1 SFTs from H1...\n",
      "25-08-19 17:18:41.504 pyfstat.utils.sft INFO    : Loading 1 SFTs from H1...\n",
      "25-08-19 17:18:41.521 pyfstat.utils.sft INFO    : Loading 1 SFTs from H1...\n",
      "25-08-19 17:18:41.539 pyfstat.utils.sft INFO    : Loading 1 SFTs from H1...\n",
      "25-08-19 17:18:41.553 pyfstat.utils.sft INFO    : Loading 1 SFTs from H1...\n",
      "25-08-19 17:18:41.569 pyfstat.utils.sft INFO    : Loading 1 SFTs from H1...\n",
      "25-08-19 17:18:41.583 pyfstat.utils.sft INFO    : Loading 1 SFTs from H1...\n"
     ]
    },
    {
     "name": "stderr",
     "output_type": "stream",
     "text": [
      " 21%|██▏       | 1232/5760 [00:18<01:10, 63.86it/s]"
     ]
    },
    {
     "name": "stdout",
     "output_type": "stream",
     "text": [
      "25-08-19 17:18:41.600 pyfstat.utils.sft INFO    : Loading 1 SFTs from H1...\n",
      "25-08-19 17:18:41.616 pyfstat.utils.sft INFO    : Loading 1 SFTs from H1...\n",
      "25-08-19 17:18:41.635 pyfstat.utils.sft INFO    : Loading 1 SFTs from H1...\n",
      "25-08-19 17:18:41.653 pyfstat.utils.sft INFO    : Loading 1 SFTs from H1...\n",
      "25-08-19 17:18:41.667 pyfstat.utils.sft INFO    : Loading 1 SFTs from H1...\n",
      "25-08-19 17:18:41.679 pyfstat.utils.sft INFO    : Loading 1 SFTs from H1...\n",
      "25-08-19 17:18:41.694 pyfstat.utils.sft INFO    : Loading 1 SFTs from H1...\n"
     ]
    },
    {
     "name": "stderr",
     "output_type": "stream",
     "text": [
      " 22%|██▏       | 1239/5760 [00:18<01:11, 63.35it/s]"
     ]
    },
    {
     "name": "stdout",
     "output_type": "stream",
     "text": [
      "25-08-19 17:18:41.713 pyfstat.utils.sft INFO    : Loading 1 SFTs from H1...\n",
      "25-08-19 17:18:41.726 pyfstat.utils.sft INFO    : Loading 1 SFTs from H1...\n",
      "25-08-19 17:18:41.741 pyfstat.utils.sft INFO    : Loading 1 SFTs from H1...\n",
      "25-08-19 17:18:41.757 pyfstat.utils.sft INFO    : Loading 1 SFTs from H1...\n",
      "25-08-19 17:18:41.772 pyfstat.utils.sft INFO    : Loading 1 SFTs from H1...\n",
      "25-08-19 17:18:41.784 pyfstat.utils.sft INFO    : Loading 1 SFTs from H1...\n",
      "25-08-19 17:18:41.795 pyfstat.utils.sft INFO    : Loading 1 SFTs from H1...\n",
      "25-08-19 17:18:41.811 pyfstat.utils.sft INFO    : Loading 1 SFTs from H1...\n"
     ]
    },
    {
     "name": "stderr",
     "output_type": "stream",
     "text": [
      " 22%|██▏       | 1247/5760 [00:18<01:09, 65.39it/s]"
     ]
    },
    {
     "name": "stdout",
     "output_type": "stream",
     "text": [
      "25-08-19 17:18:41.827 pyfstat.utils.sft INFO    : Loading 1 SFTs from H1...\n",
      "25-08-19 17:18:41.847 pyfstat.utils.sft INFO    : Loading 1 SFTs from H1...\n",
      "25-08-19 17:18:41.862 pyfstat.utils.sft INFO    : Loading 1 SFTs from H1...\n",
      "25-08-19 17:18:41.878 pyfstat.utils.sft INFO    : Loading 1 SFTs from H1...\n",
      "25-08-19 17:18:41.893 pyfstat.utils.sft INFO    : Loading 1 SFTs from H1...\n",
      "25-08-19 17:18:41.908 pyfstat.utils.sft INFO    : Loading 1 SFTs from H1...\n",
      "25-08-19 17:18:41.927 pyfstat.utils.sft INFO    : Loading 1 SFTs from H1...\n"
     ]
    },
    {
     "name": "stderr",
     "output_type": "stream",
     "text": [
      " 22%|██▏       | 1254/5760 [00:18<01:10, 63.86it/s]"
     ]
    },
    {
     "name": "stdout",
     "output_type": "stream",
     "text": [
      "25-08-19 17:18:41.943 pyfstat.utils.sft INFO    : Loading 1 SFTs from H1...\n",
      "25-08-19 17:18:41.961 pyfstat.utils.sft INFO    : Loading 1 SFTs from H1...\n",
      "25-08-19 17:18:41.973 pyfstat.utils.sft INFO    : Loading 1 SFTs from H1...\n",
      "25-08-19 17:18:41.988 pyfstat.utils.sft INFO    : Loading 1 SFTs from H1...\n",
      "25-08-19 17:18:42.003 pyfstat.utils.sft INFO    : Loading 1 SFTs from H1...\n",
      "25-08-19 17:18:42.018 pyfstat.utils.sft INFO    : Loading 1 SFTs from H1...\n",
      "25-08-19 17:18:42.036 pyfstat.utils.sft INFO    : Loading 1 SFTs from H1...\n"
     ]
    },
    {
     "name": "stderr",
     "output_type": "stream",
     "text": [
      " 22%|██▏       | 1261/5760 [00:18<01:10, 63.91it/s]"
     ]
    },
    {
     "name": "stdout",
     "output_type": "stream",
     "text": [
      "25-08-19 17:18:42.052 pyfstat.utils.sft INFO    : Loading 1 SFTs from H1...\n",
      "25-08-19 17:18:42.068 pyfstat.utils.sft INFO    : Loading 1 SFTs from H1...\n",
      "25-08-19 17:18:42.084 pyfstat.utils.sft INFO    : Loading 1 SFTs from H1...\n",
      "25-08-19 17:18:42.099 pyfstat.utils.sft INFO    : Loading 1 SFTs from H1...\n",
      "25-08-19 17:18:42.118 pyfstat.utils.sft INFO    : Loading 1 SFTs from H1...\n",
      "25-08-19 17:18:42.132 pyfstat.utils.sft INFO    : Loading 1 SFTs from H1...\n",
      "25-08-19 17:18:42.151 pyfstat.utils.sft INFO    : Loading 1 SFTs from H1...\n"
     ]
    },
    {
     "name": "stderr",
     "output_type": "stream",
     "text": [
      " 22%|██▏       | 1268/5760 [00:18<01:11, 63.08it/s]"
     ]
    },
    {
     "name": "stdout",
     "output_type": "stream",
     "text": [
      "25-08-19 17:18:42.167 pyfstat.utils.sft INFO    : Loading 1 SFTs from H1...\n",
      "25-08-19 17:18:42.178 pyfstat.utils.sft INFO    : Loading 1 SFTs from H1...\n",
      "25-08-19 17:18:42.193 pyfstat.utils.sft INFO    : Loading 1 SFTs from H1...\n",
      "25-08-19 17:18:42.208 pyfstat.utils.sft INFO    : Loading 1 SFTs from H1...\n",
      "25-08-19 17:18:42.227 pyfstat.utils.sft INFO    : Loading 1 SFTs from H1...\n",
      "25-08-19 17:18:42.245 pyfstat.utils.sft INFO    : Loading 1 SFTs from H1...\n",
      "25-08-19 17:18:42.263 pyfstat.utils.sft INFO    : Loading 1 SFTs from H1...\n"
     ]
    },
    {
     "name": "stderr",
     "output_type": "stream",
     "text": [
      " 22%|██▏       | 1275/5760 [00:19<01:11, 62.70it/s]"
     ]
    },
    {
     "name": "stdout",
     "output_type": "stream",
     "text": [
      "25-08-19 17:18:42.280 pyfstat.utils.sft INFO    : Loading 1 SFTs from H1...\n",
      "25-08-19 17:18:42.295 pyfstat.utils.sft INFO    : Loading 1 SFTs from H1...\n",
      "25-08-19 17:18:42.310 pyfstat.utils.sft INFO    : Loading 1 SFTs from H1...\n",
      "25-08-19 17:18:42.325 pyfstat.utils.sft INFO    : Loading 1 SFTs from H1...\n",
      "25-08-19 17:18:42.343 pyfstat.utils.sft INFO    : Loading 1 SFTs from H1...\n",
      "25-08-19 17:18:42.355 pyfstat.utils.sft INFO    : Loading 1 SFTs from H1...\n",
      "25-08-19 17:18:42.370 pyfstat.utils.sft INFO    : Loading 1 SFTs from H1...\n"
     ]
    },
    {
     "name": "stderr",
     "output_type": "stream",
     "text": [
      " 22%|██▏       | 1282/5760 [00:19<01:10, 63.75it/s]"
     ]
    },
    {
     "name": "stdout",
     "output_type": "stream",
     "text": [
      "25-08-19 17:18:42.386 pyfstat.utils.sft INFO    : Loading 1 SFTs from H1...\n",
      "25-08-19 17:18:42.397 pyfstat.utils.sft INFO    : Loading 1 SFTs from H1...\n",
      "25-08-19 17:18:42.411 pyfstat.utils.sft INFO    : Loading 1 SFTs from H1...\n",
      "25-08-19 17:18:42.425 pyfstat.utils.sft INFO    : Loading 1 SFTs from H1...\n",
      "25-08-19 17:18:42.443 pyfstat.utils.sft INFO    : Loading 1 SFTs from H1...\n",
      "25-08-19 17:18:42.459 pyfstat.utils.sft INFO    : Loading 1 SFTs from H1...\n",
      "25-08-19 17:18:42.474 pyfstat.utils.sft INFO    : Loading 1 SFTs from H1...\n"
     ]
    },
    {
     "name": "stderr",
     "output_type": "stream",
     "text": [
      " 22%|██▏       | 1289/5760 [00:19<01:09, 64.55it/s]"
     ]
    },
    {
     "name": "stdout",
     "output_type": "stream",
     "text": [
      "25-08-19 17:18:42.491 pyfstat.utils.sft INFO    : Loading 1 SFTs from H1...\n",
      "25-08-19 17:18:42.510 pyfstat.utils.sft INFO    : Loading 1 SFTs from H1...\n",
      "25-08-19 17:18:42.525 pyfstat.utils.sft INFO    : Loading 1 SFTs from H1...\n",
      "25-08-19 17:18:42.538 pyfstat.utils.sft INFO    : Loading 1 SFTs from H1...\n",
      "25-08-19 17:18:42.550 pyfstat.utils.sft INFO    : Loading 1 SFTs from H1...\n",
      "25-08-19 17:18:42.561 pyfstat.utils.sft INFO    : Loading 1 SFTs from H1...\n",
      "25-08-19 17:18:42.575 pyfstat.utils.sft INFO    : Loading 1 SFTs from H1...\n"
     ]
    },
    {
     "name": "stderr",
     "output_type": "stream",
     "text": [
      " 22%|██▎       | 1296/5760 [00:19<01:07, 65.94it/s]"
     ]
    },
    {
     "name": "stdout",
     "output_type": "stream",
     "text": [
      "25-08-19 17:18:42.592 pyfstat.utils.sft INFO    : Loading 1 SFTs from H1...\n",
      "25-08-19 17:18:42.607 pyfstat.utils.sft INFO    : Loading 1 SFTs from H1...\n",
      "25-08-19 17:18:42.623 pyfstat.utils.sft INFO    : Loading 1 SFTs from H1...\n",
      "25-08-19 17:18:42.640 pyfstat.utils.sft INFO    : Loading 1 SFTs from H1...\n",
      "25-08-19 17:18:42.660 pyfstat.utils.sft INFO    : Loading 1 SFTs from H1...\n",
      "25-08-19 17:18:42.672 pyfstat.utils.sft INFO    : Loading 1 SFTs from H1...\n",
      "25-08-19 17:18:42.687 pyfstat.utils.sft INFO    : Loading 1 SFTs from H1...\n"
     ]
    },
    {
     "name": "stderr",
     "output_type": "stream",
     "text": [
      " 23%|██▎       | 1303/5760 [00:19<01:08, 64.69it/s]"
     ]
    },
    {
     "name": "stdout",
     "output_type": "stream",
     "text": [
      "25-08-19 17:18:42.701 pyfstat.utils.sft INFO    : Loading 1 SFTs from H1...\n",
      "25-08-19 17:18:42.714 pyfstat.utils.sft INFO    : Loading 1 SFTs from H1...\n",
      "25-08-19 17:18:42.726 pyfstat.utils.sft INFO    : Loading 1 SFTs from H1...\n",
      "25-08-19 17:18:42.742 pyfstat.utils.sft INFO    : Loading 1 SFTs from H1...\n",
      "25-08-19 17:18:42.758 pyfstat.utils.sft INFO    : Loading 1 SFTs from H1...\n",
      "25-08-19 17:18:42.772 pyfstat.utils.sft INFO    : Loading 1 SFTs from H1...\n",
      "25-08-19 17:18:42.789 pyfstat.utils.sft INFO    : Loading 1 SFTs from H1...\n"
     ]
    },
    {
     "name": "stderr",
     "output_type": "stream",
     "text": [
      " 23%|██▎       | 1310/5760 [00:19<01:08, 65.33it/s]"
     ]
    },
    {
     "name": "stdout",
     "output_type": "stream",
     "text": [
      "25-08-19 17:18:42.810 pyfstat.utils.sft INFO    : Loading 1 SFTs from H1...\n",
      "25-08-19 17:18:42.830 pyfstat.utils.sft INFO    : Loading 1 SFTs from H1...\n",
      "25-08-19 17:18:42.845 pyfstat.utils.sft INFO    : Loading 1 SFTs from H1...\n",
      "25-08-19 17:18:42.864 pyfstat.utils.sft INFO    : Loading 1 SFTs from H1...\n",
      "25-08-19 17:18:42.883 pyfstat.utils.sft INFO    : Loading 1 SFTs from H1...\n",
      "25-08-19 17:18:42.901 pyfstat.utils.sft INFO    : Loading 1 SFTs from H1...\n",
      "25-08-19 17:18:42.919 pyfstat.utils.sft INFO    : Loading 1 SFTs from H1...\n"
     ]
    },
    {
     "name": "stderr",
     "output_type": "stream",
     "text": [
      " 23%|██▎       | 1317/5760 [00:19<01:11, 62.16it/s]"
     ]
    },
    {
     "name": "stdout",
     "output_type": "stream",
     "text": [
      "25-08-19 17:18:42.931 pyfstat.utils.sft INFO    : Loading 1 SFTs from H1...\n",
      "25-08-19 17:18:42.947 pyfstat.utils.sft INFO    : Loading 1 SFTs from H1...\n",
      "25-08-19 17:18:42.962 pyfstat.utils.sft INFO    : Loading 1 SFTs from H1...\n",
      "25-08-19 17:18:42.978 pyfstat.utils.sft INFO    : Loading 1 SFTs from H1...\n",
      "25-08-19 17:18:42.993 pyfstat.utils.sft INFO    : Loading 1 SFTs from H1...\n",
      "25-08-19 17:18:43.004 pyfstat.utils.sft INFO    : Loading 1 SFTs from H1...\n",
      "25-08-19 17:18:43.015 pyfstat.utils.sft INFO    : Loading 1 SFTs from H1...\n",
      "25-08-19 17:18:43.027 pyfstat.utils.sft INFO    : Loading 1 SFTs from H1...\n"
     ]
    },
    {
     "name": "stderr",
     "output_type": "stream",
     "text": [
      " 23%|██▎       | 1325/5760 [00:19<01:07, 65.63it/s]"
     ]
    },
    {
     "name": "stdout",
     "output_type": "stream",
     "text": [
      "25-08-19 17:18:43.039 pyfstat.utils.sft INFO    : Loading 1 SFTs from H1...\n",
      "25-08-19 17:18:43.050 pyfstat.utils.sft INFO    : Loading 1 SFTs from H1...\n",
      "25-08-19 17:18:43.062 pyfstat.utils.sft INFO    : Loading 1 SFTs from H1...\n",
      "25-08-19 17:18:43.077 pyfstat.utils.sft INFO    : Loading 1 SFTs from H1...\n",
      "25-08-19 17:18:43.095 pyfstat.utils.sft INFO    : Loading 1 SFTs from H1...\n",
      "25-08-19 17:18:43.106 pyfstat.utils.sft INFO    : Loading 1 SFTs from H1...\n",
      "25-08-19 17:18:43.118 pyfstat.utils.sft INFO    : Loading 1 SFTs from H1...\n",
      "25-08-19 17:18:43.133 pyfstat.utils.sft INFO    : Loading 1 SFTs from H1...\n"
     ]
    },
    {
     "name": "stderr",
     "output_type": "stream",
     "text": [
      " 23%|██▎       | 1333/5760 [00:19<01:04, 68.41it/s]"
     ]
    },
    {
     "name": "stdout",
     "output_type": "stream",
     "text": [
      "25-08-19 17:18:43.145 pyfstat.utils.sft INFO    : Loading 1 SFTs from H1...\n",
      "25-08-19 17:18:43.161 pyfstat.utils.sft INFO    : Loading 1 SFTs from H1...\n",
      "25-08-19 17:18:43.172 pyfstat.utils.sft INFO    : Loading 1 SFTs from H1...\n",
      "25-08-19 17:18:43.188 pyfstat.utils.sft INFO    : Loading 1 SFTs from H1...\n",
      "25-08-19 17:18:43.199 pyfstat.utils.sft INFO    : Loading 1 SFTs from H1...\n",
      "25-08-19 17:18:43.214 pyfstat.utils.sft INFO    : Loading 1 SFTs from H1...\n",
      "25-08-19 17:18:43.229 pyfstat.utils.sft INFO    : Loading 1 SFTs from H1...\n",
      "25-08-19 17:18:43.243 pyfstat.utils.sft INFO    : Loading 1 SFTs from H1...\n"
     ]
    },
    {
     "name": "stderr",
     "output_type": "stream",
     "text": [
      " 23%|██▎       | 1341/5760 [00:19<01:03, 69.07it/s]"
     ]
    },
    {
     "name": "stdout",
     "output_type": "stream",
     "text": [
      "25-08-19 17:18:43.258 pyfstat.utils.sft INFO    : Loading 1 SFTs from H1...\n",
      "25-08-19 17:18:43.269 pyfstat.utils.sft INFO    : Loading 1 SFTs from H1...\n",
      "25-08-19 17:18:43.279 pyfstat.utils.sft INFO    : Loading 1 SFTs from H1...\n",
      "25-08-19 17:18:43.295 pyfstat.utils.sft INFO    : Loading 1 SFTs from H1...\n",
      "25-08-19 17:18:43.313 pyfstat.utils.sft INFO    : Loading 1 SFTs from H1...\n",
      "25-08-19 17:18:43.329 pyfstat.utils.sft INFO    : Loading 1 SFTs from H1...\n",
      "25-08-19 17:18:43.340 pyfstat.utils.sft INFO    : Loading 1 SFTs from H1...\n",
      "25-08-19 17:18:43.352 pyfstat.utils.sft INFO    : Loading 1 SFTs from H1...\n"
     ]
    },
    {
     "name": "stderr",
     "output_type": "stream",
     "text": [
      " 23%|██▎       | 1349/5760 [00:20<01:02, 71.05it/s]"
     ]
    },
    {
     "name": "stdout",
     "output_type": "stream",
     "text": [
      "25-08-19 17:18:43.368 pyfstat.utils.sft INFO    : Loading 1 SFTs from H1...\n",
      "25-08-19 17:18:43.383 pyfstat.utils.sft INFO    : Loading 1 SFTs from H1...\n",
      "25-08-19 17:18:43.399 pyfstat.utils.sft INFO    : Loading 1 SFTs from H1...\n",
      "25-08-19 17:18:43.414 pyfstat.utils.sft INFO    : Loading 1 SFTs from H1...\n",
      "25-08-19 17:18:43.429 pyfstat.utils.sft INFO    : Loading 1 SFTs from H1...\n",
      "25-08-19 17:18:43.444 pyfstat.utils.sft INFO    : Loading 1 SFTs from H1...\n",
      "25-08-19 17:18:43.458 pyfstat.utils.sft INFO    : Loading 1 SFTs from H1...\n",
      "25-08-19 17:18:43.473 pyfstat.utils.sft INFO    : Loading 1 SFTs from H1...\n"
     ]
    },
    {
     "name": "stderr",
     "output_type": "stream",
     "text": [
      " 24%|██▎       | 1357/5760 [00:20<01:03, 69.47it/s]"
     ]
    },
    {
     "name": "stdout",
     "output_type": "stream",
     "text": [
      "25-08-19 17:18:43.485 pyfstat.utils.sft INFO    : Loading 1 SFTs from H1...\n",
      "25-08-19 17:18:43.497 pyfstat.utils.sft INFO    : Loading 1 SFTs from H1...\n",
      "25-08-19 17:18:43.508 pyfstat.utils.sft INFO    : Loading 1 SFTs from H1...\n",
      "25-08-19 17:18:43.520 pyfstat.utils.sft INFO    : Loading 1 SFTs from H1...\n",
      "25-08-19 17:18:43.535 pyfstat.utils.sft INFO    : Loading 1 SFTs from H1...\n",
      "25-08-19 17:18:43.550 pyfstat.utils.sft INFO    : Loading 1 SFTs from H1...\n",
      "25-08-19 17:18:43.565 pyfstat.utils.sft INFO    : Loading 1 SFTs from H1...\n",
      "25-08-19 17:18:43.580 pyfstat.utils.sft INFO    : Loading 1 SFTs from H1...\n"
     ]
    },
    {
     "name": "stderr",
     "output_type": "stream",
     "text": [
      " 24%|██▎       | 1365/5760 [00:20<01:01, 71.02it/s]"
     ]
    },
    {
     "name": "stdout",
     "output_type": "stream",
     "text": [
      "25-08-19 17:18:43.595 pyfstat.utils.sft INFO    : Loading 1 SFTs from H1...\n",
      "25-08-19 17:18:43.613 pyfstat.utils.sft INFO    : Loading 1 SFTs from H1...\n",
      "25-08-19 17:18:43.628 pyfstat.utils.sft INFO    : Loading 1 SFTs from H1...\n",
      "25-08-19 17:18:43.643 pyfstat.utils.sft INFO    : Loading 1 SFTs from H1...\n",
      "25-08-19 17:18:43.658 pyfstat.utils.sft INFO    : Loading 1 SFTs from H1...\n",
      "25-08-19 17:18:43.669 pyfstat.utils.sft INFO    : Loading 1 SFTs from H1...\n",
      "25-08-19 17:18:43.684 pyfstat.utils.sft INFO    : Loading 1 SFTs from H1...\n",
      "25-08-19 17:18:43.703 pyfstat.utils.sft INFO    : Loading 1 SFTs from H1...\n"
     ]
    },
    {
     "name": "stderr",
     "output_type": "stream",
     "text": [
      " 24%|██▍       | 1373/5760 [00:20<01:03, 68.91it/s]"
     ]
    },
    {
     "name": "stdout",
     "output_type": "stream",
     "text": [
      "25-08-19 17:18:43.720 pyfstat.utils.sft INFO    : Loading 1 SFTs from H1...\n",
      "25-08-19 17:18:43.735 pyfstat.utils.sft INFO    : Loading 1 SFTs from H1...\n",
      "25-08-19 17:18:43.750 pyfstat.utils.sft INFO    : Loading 1 SFTs from H1...\n",
      "25-08-19 17:18:43.770 pyfstat.utils.sft INFO    : Loading 1 SFTs from H1...\n",
      "25-08-19 17:18:43.784 pyfstat.utils.sft INFO    : Loading 1 SFTs from H1...\n",
      "25-08-19 17:18:43.799 pyfstat.utils.sft INFO    : Loading 1 SFTs from H1...\n",
      "25-08-19 17:18:43.813 pyfstat.utils.sft INFO    : Loading 1 SFTs from H1...\n"
     ]
    },
    {
     "name": "stderr",
     "output_type": "stream",
     "text": [
      " 24%|██▍       | 1380/5760 [00:20<01:04, 67.55it/s]"
     ]
    },
    {
     "name": "stdout",
     "output_type": "stream",
     "text": [
      "25-08-19 17:18:43.828 pyfstat.utils.sft INFO    : Loading 1 SFTs from H1...\n",
      "25-08-19 17:18:43.845 pyfstat.utils.sft INFO    : Loading 1 SFTs from H1...\n",
      "25-08-19 17:18:43.861 pyfstat.utils.sft INFO    : Loading 1 SFTs from H1...\n",
      "25-08-19 17:18:43.877 pyfstat.utils.sft INFO    : Loading 1 SFTs from H1...\n",
      "25-08-19 17:18:43.889 pyfstat.utils.sft INFO    : Loading 1 SFTs from H1...\n",
      "25-08-19 17:18:43.901 pyfstat.utils.sft INFO    : Loading 1 SFTs from H1...\n",
      "25-08-19 17:18:43.916 pyfstat.utils.sft INFO    : Loading 1 SFTs from H1...\n"
     ]
    },
    {
     "name": "stderr",
     "output_type": "stream",
     "text": [
      " 24%|██▍       | 1387/5760 [00:20<01:05, 66.95it/s]"
     ]
    },
    {
     "name": "stdout",
     "output_type": "stream",
     "text": [
      "25-08-19 17:18:43.936 pyfstat.utils.sft INFO    : Loading 1 SFTs from H1...\n",
      "25-08-19 17:18:43.954 pyfstat.utils.sft INFO    : Loading 1 SFTs from H1...\n",
      "25-08-19 17:18:43.972 pyfstat.utils.sft INFO    : Loading 1 SFTs from H1...\n",
      "25-08-19 17:18:43.984 pyfstat.utils.sft INFO    : Loading 1 SFTs from H1...\n",
      "25-08-19 17:18:44.000 pyfstat.utils.sft INFO    : Loading 1 SFTs from H1...\n",
      "25-08-19 17:18:44.015 pyfstat.utils.sft INFO    : Loading 1 SFTs from H1...\n",
      "25-08-19 17:18:44.030 pyfstat.utils.sft INFO    : Loading 1 SFTs from H1...\n"
     ]
    },
    {
     "name": "stderr",
     "output_type": "stream",
     "text": [
      " 24%|██▍       | 1394/5760 [00:20<01:06, 65.81it/s]"
     ]
    },
    {
     "name": "stdout",
     "output_type": "stream",
     "text": [
      "25-08-19 17:18:44.046 pyfstat.utils.sft INFO    : Loading 1 SFTs from H1...\n",
      "25-08-19 17:18:44.062 pyfstat.utils.sft INFO    : Loading 1 SFTs from H1...\n",
      "25-08-19 17:18:44.077 pyfstat.utils.sft INFO    : Loading 1 SFTs from H1...\n",
      "25-08-19 17:18:44.092 pyfstat.utils.sft INFO    : Loading 1 SFTs from H1...\n",
      "25-08-19 17:18:44.111 pyfstat.utils.sft INFO    : Loading 1 SFTs from H1...\n",
      "25-08-19 17:18:44.125 pyfstat.utils.sft INFO    : Loading 1 SFTs from H1...\n",
      "25-08-19 17:18:44.140 pyfstat.utils.sft INFO    : Loading 1 SFTs from H1...\n"
     ]
    },
    {
     "name": "stderr",
     "output_type": "stream",
     "text": [
      " 24%|██▍       | 1401/5760 [00:20<01:06, 65.24it/s]"
     ]
    },
    {
     "name": "stdout",
     "output_type": "stream",
     "text": [
      "25-08-19 17:18:44.156 pyfstat.utils.sft INFO    : Loading 1 SFTs from H1...\n",
      "25-08-19 17:18:44.168 pyfstat.utils.sft INFO    : Loading 1 SFTs from H1...\n",
      "25-08-19 17:18:44.183 pyfstat.utils.sft INFO    : Loading 1 SFTs from H1...\n",
      "25-08-19 17:18:44.202 pyfstat.utils.sft INFO    : Loading 1 SFTs from H1...\n",
      "25-08-19 17:18:44.221 pyfstat.utils.sft INFO    : Loading 1 SFTs from H1...\n",
      "25-08-19 17:18:44.240 pyfstat.utils.sft INFO    : Loading 1 SFTs from H1...\n",
      "25-08-19 17:18:44.259 pyfstat.utils.sft INFO    : Loading 1 SFTs from H1...\n"
     ]
    },
    {
     "name": "stderr",
     "output_type": "stream",
     "text": [
      " 24%|██▍       | 1408/5760 [00:21<01:09, 62.62it/s]"
     ]
    },
    {
     "name": "stdout",
     "output_type": "stream",
     "text": [
      "25-08-19 17:18:44.275 pyfstat.utils.sft INFO    : Loading 1 SFTs from H1...\n",
      "25-08-19 17:18:44.286 pyfstat.utils.sft INFO    : Loading 1 SFTs from H1...\n",
      "25-08-19 17:18:44.300 pyfstat.utils.sft INFO    : Loading 1 SFTs from H1...\n",
      "25-08-19 17:18:44.312 pyfstat.utils.sft INFO    : Loading 1 SFTs from H1...\n",
      "25-08-19 17:18:44.324 pyfstat.utils.sft INFO    : Loading 1 SFTs from H1...\n",
      "25-08-19 17:18:44.339 pyfstat.utils.sft INFO    : Loading 1 SFTs from H1...\n",
      "25-08-19 17:18:44.357 pyfstat.utils.sft INFO    : Loading 1 SFTs from H1...\n",
      "25-08-19 17:18:44.369 pyfstat.utils.sft INFO    : Loading 1 SFTs from H1...\n"
     ]
    },
    {
     "name": "stderr",
     "output_type": "stream",
     "text": [
      " 25%|██▍       | 1416/5760 [00:21<01:05, 66.31it/s]"
     ]
    },
    {
     "name": "stdout",
     "output_type": "stream",
     "text": [
      "25-08-19 17:18:44.384 pyfstat.utils.sft INFO    : Loading 1 SFTs from H1...\n",
      "25-08-19 17:18:44.399 pyfstat.utils.sft INFO    : Loading 1 SFTs from H1...\n",
      "25-08-19 17:18:44.415 pyfstat.utils.sft INFO    : Loading 1 SFTs from H1...\n",
      "25-08-19 17:18:44.426 pyfstat.utils.sft INFO    : Loading 1 SFTs from H1...\n",
      "25-08-19 17:18:44.442 pyfstat.utils.sft INFO    : Loading 1 SFTs from H1...\n",
      "25-08-19 17:18:44.457 pyfstat.utils.sft INFO    : Loading 1 SFTs from H1...\n",
      "25-08-19 17:18:44.472 pyfstat.utils.sft INFO    : Loading 1 SFTs from H1...\n"
     ]
    },
    {
     "name": "stderr",
     "output_type": "stream",
     "text": [
      " 25%|██▍       | 1423/5760 [00:21<01:04, 66.77it/s]"
     ]
    },
    {
     "name": "stdout",
     "output_type": "stream",
     "text": [
      "25-08-19 17:18:44.484 pyfstat.utils.sft INFO    : Loading 1 SFTs from H1...\n",
      "25-08-19 17:18:44.495 pyfstat.utils.sft INFO    : Loading 1 SFTs from H1...\n",
      "25-08-19 17:18:44.510 pyfstat.utils.sft INFO    : Loading 1 SFTs from H1...\n",
      "25-08-19 17:18:44.521 pyfstat.utils.sft INFO    : Loading 1 SFTs from H1...\n",
      "25-08-19 17:18:44.536 pyfstat.utils.sft INFO    : Loading 1 SFTs from H1...\n",
      "25-08-19 17:18:44.548 pyfstat.utils.sft INFO    : Loading 1 SFTs from H1...\n",
      "25-08-19 17:18:44.558 pyfstat.utils.sft INFO    : Loading 1 SFTs from H1...\n",
      "25-08-19 17:18:44.572 pyfstat.utils.sft INFO    : Loading 1 SFTs from H1...\n"
     ]
    },
    {
     "name": "stderr",
     "output_type": "stream",
     "text": [
      " 25%|██▍       | 1431/5760 [00:21<01:02, 69.71it/s]"
     ]
    },
    {
     "name": "stdout",
     "output_type": "stream",
     "text": [
      "25-08-19 17:18:44.594 pyfstat.utils.sft INFO    : Loading 1 SFTs from H1...\n",
      "25-08-19 17:18:44.610 pyfstat.utils.sft INFO    : Loading 1 SFTs from H1...\n",
      "25-08-19 17:18:44.624 pyfstat.utils.sft INFO    : Loading 1 SFTs from H1...\n",
      "25-08-19 17:18:44.635 pyfstat.utils.sft INFO    : Loading 1 SFTs from H1...\n",
      "25-08-19 17:18:44.649 pyfstat.utils.sft INFO    : Loading 1 SFTs from H1...\n",
      "25-08-19 17:18:44.665 pyfstat.utils.sft INFO    : Loading 1 SFTs from H1...\n",
      "25-08-19 17:18:44.684 pyfstat.utils.sft INFO    : Loading 1 SFTs from H1...\n",
      "25-08-19 17:18:44.698 pyfstat.utils.sft INFO    : Loading 1 SFTs from H1...\n"
     ]
    },
    {
     "name": "stderr",
     "output_type": "stream",
     "text": [
      " 25%|██▍       | 1439/5760 [00:21<01:03, 68.08it/s]"
     ]
    },
    {
     "name": "stdout",
     "output_type": "stream",
     "text": [
      "25-08-19 17:18:44.711 pyfstat.utils.sft INFO    : Loading 1 SFTs from H1...\n",
      "25-08-19 17:18:44.726 pyfstat.utils.sft INFO    : Loading 1 SFTs from H1...\n",
      "25-08-19 17:18:44.744 pyfstat.utils.sft INFO    : Loading 1 SFTs from H1...\n",
      "25-08-19 17:18:44.757 pyfstat.utils.sft INFO    : Loading 1 SFTs from H1...\n",
      "25-08-19 17:18:44.767 pyfstat.utils.sft INFO    : Loading 1 SFTs from H1...\n",
      "25-08-19 17:18:44.782 pyfstat.utils.sft INFO    : Loading 1 SFTs from H1...\n",
      "25-08-19 17:18:44.800 pyfstat.utils.sft INFO    : Loading 1 SFTs from H1...\n"
     ]
    },
    {
     "name": "stderr",
     "output_type": "stream",
     "text": [
      " 25%|██▌       | 1446/5760 [00:21<01:03, 67.90it/s]"
     ]
    },
    {
     "name": "stdout",
     "output_type": "stream",
     "text": [
      "25-08-19 17:18:44.815 pyfstat.utils.sft INFO    : Loading 1 SFTs from H1...\n",
      "25-08-19 17:18:44.826 pyfstat.utils.sft INFO    : Loading 1 SFTs from H1...\n",
      "25-08-19 17:18:44.840 pyfstat.utils.sft INFO    : Loading 1 SFTs from H1...\n",
      "25-08-19 17:18:44.855 pyfstat.utils.sft INFO    : Loading 1 SFTs from H1...\n",
      "25-08-19 17:18:44.872 pyfstat.utils.sft INFO    : Loading 1 SFTs from H1...\n",
      "25-08-19 17:18:44.887 pyfstat.utils.sft INFO    : Loading 1 SFTs from H1...\n",
      "25-08-19 17:18:44.902 pyfstat.utils.sft INFO    : Loading 1 SFTs from H1...\n"
     ]
    },
    {
     "name": "stderr",
     "output_type": "stream",
     "text": [
      " 25%|██▌       | 1453/5760 [00:21<01:03, 67.99it/s]"
     ]
    },
    {
     "name": "stdout",
     "output_type": "stream",
     "text": [
      "25-08-19 17:18:44.921 pyfstat.utils.sft INFO    : Loading 1 SFTs from H1...\n",
      "25-08-19 17:18:44.936 pyfstat.utils.sft INFO    : Loading 1 SFTs from H1...\n",
      "25-08-19 17:18:44.947 pyfstat.utils.sft INFO    : Loading 1 SFTs from H1...\n",
      "25-08-19 17:18:44.962 pyfstat.utils.sft INFO    : Loading 1 SFTs from H1...\n",
      "25-08-19 17:18:44.976 pyfstat.utils.sft INFO    : Loading 1 SFTs from H1...\n",
      "25-08-19 17:18:44.988 pyfstat.utils.sft INFO    : Loading 1 SFTs from H1...\n",
      "25-08-19 17:18:45.006 pyfstat.utils.sft INFO    : Loading 1 SFTs from H1...\n"
     ]
    },
    {
     "name": "stderr",
     "output_type": "stream",
     "text": [
      " 25%|██▌       | 1460/5760 [00:21<01:02, 68.46it/s]"
     ]
    },
    {
     "name": "stdout",
     "output_type": "stream",
     "text": [
      "25-08-19 17:18:45.021 pyfstat.utils.sft INFO    : Loading 1 SFTs from H1...\n",
      "25-08-19 17:18:45.032 pyfstat.utils.sft INFO    : Loading 1 SFTs from H1...\n",
      "25-08-19 17:18:45.047 pyfstat.utils.sft INFO    : Loading 1 SFTs from H1...\n",
      "25-08-19 17:18:45.061 pyfstat.utils.sft INFO    : Loading 1 SFTs from H1...\n",
      "25-08-19 17:18:45.076 pyfstat.utils.sft INFO    : Loading 1 SFTs from H1...\n",
      "25-08-19 17:18:45.087 pyfstat.utils.sft INFO    : Loading 1 SFTs from H1...\n",
      "25-08-19 17:18:45.106 pyfstat.utils.sft INFO    : Loading 1 SFTs from H1...\n",
      "25-08-19 17:18:45.120 pyfstat.utils.sft INFO    : Loading 1 SFTs from H1...\n"
     ]
    },
    {
     "name": "stderr",
     "output_type": "stream",
     "text": [
      " 25%|██▌       | 1468/5760 [00:21<01:02, 69.01it/s]"
     ]
    },
    {
     "name": "stdout",
     "output_type": "stream",
     "text": [
      "25-08-19 17:18:45.135 pyfstat.utils.sft INFO    : Loading 1 SFTs from H1...\n",
      "25-08-19 17:18:45.146 pyfstat.utils.sft INFO    : Loading 1 SFTs from H1...\n",
      "25-08-19 17:18:45.164 pyfstat.utils.sft INFO    : Loading 1 SFTs from H1...\n",
      "25-08-19 17:18:45.178 pyfstat.utils.sft INFO    : Loading 1 SFTs from H1...\n",
      "25-08-19 17:18:45.193 pyfstat.utils.sft INFO    : Loading 1 SFTs from H1...\n",
      "25-08-19 17:18:45.208 pyfstat.utils.sft INFO    : Loading 1 SFTs from H1...\n",
      "25-08-19 17:18:45.227 pyfstat.utils.sft INFO    : Loading 1 SFTs from H1...\n"
     ]
    },
    {
     "name": "stderr",
     "output_type": "stream",
     "text": [
      " 26%|██▌       | 1475/5760 [00:21<01:04, 66.64it/s]"
     ]
    },
    {
     "name": "stdout",
     "output_type": "stream",
     "text": [
      "25-08-19 17:18:45.249 pyfstat.utils.sft INFO    : Loading 1 SFTs from H1...\n",
      "25-08-19 17:18:45.262 pyfstat.utils.sft INFO    : Loading 1 SFTs from H1...\n",
      "25-08-19 17:18:45.276 pyfstat.utils.sft INFO    : Loading 1 SFTs from H1...\n",
      "25-08-19 17:18:45.295 pyfstat.utils.sft INFO    : Loading 1 SFTs from H1...\n",
      "25-08-19 17:18:45.313 pyfstat.utils.sft INFO    : Loading 1 SFTs from H1...\n",
      "25-08-19 17:18:45.328 pyfstat.utils.sft INFO    : Loading 1 SFTs from H1...\n",
      "25-08-19 17:18:45.339 pyfstat.utils.sft INFO    : Loading 1 SFTs from H1...\n"
     ]
    },
    {
     "name": "stderr",
     "output_type": "stream",
     "text": [
      " 26%|██▌       | 1482/5760 [00:22<01:04, 66.02it/s]"
     ]
    },
    {
     "name": "stdout",
     "output_type": "stream",
     "text": [
      "25-08-19 17:18:45.358 pyfstat.utils.sft INFO    : Loading 1 SFTs from H1...\n",
      "25-08-19 17:18:45.373 pyfstat.utils.sft INFO    : Loading 1 SFTs from H1...\n",
      "25-08-19 17:18:45.388 pyfstat.utils.sft INFO    : Loading 1 SFTs from H1...\n",
      "25-08-19 17:18:45.408 pyfstat.utils.sft INFO    : Loading 1 SFTs from H1...\n",
      "25-08-19 17:18:45.423 pyfstat.utils.sft INFO    : Loading 1 SFTs from H1...\n",
      "25-08-19 17:18:45.434 pyfstat.utils.sft INFO    : Loading 1 SFTs from H1...\n",
      "25-08-19 17:18:45.449 pyfstat.utils.sft INFO    : Loading 1 SFTs from H1...\n"
     ]
    },
    {
     "name": "stderr",
     "output_type": "stream",
     "text": [
      " 26%|██▌       | 1489/5760 [00:22<01:04, 66.01it/s]"
     ]
    },
    {
     "name": "stdout",
     "output_type": "stream",
     "text": [
      "25-08-19 17:18:45.460 pyfstat.utils.sft INFO    : Loading 1 SFTs from H1...\n",
      "25-08-19 17:18:45.475 pyfstat.utils.sft INFO    : Loading 1 SFTs from H1...\n",
      "25-08-19 17:18:45.494 pyfstat.utils.sft INFO    : Loading 1 SFTs from H1...\n",
      "25-08-19 17:18:45.509 pyfstat.utils.sft INFO    : Loading 1 SFTs from H1...\n",
      "25-08-19 17:18:45.525 pyfstat.utils.sft INFO    : Loading 1 SFTs from H1...\n",
      "25-08-19 17:18:45.541 pyfstat.utils.sft INFO    : Loading 1 SFTs from H1...\n",
      "25-08-19 17:18:45.557 pyfstat.utils.sft INFO    : Loading 1 SFTs from H1...\n"
     ]
    },
    {
     "name": "stderr",
     "output_type": "stream",
     "text": [
      " 26%|██▌       | 1496/5760 [00:22<01:05, 64.93it/s]"
     ]
    },
    {
     "name": "stdout",
     "output_type": "stream",
     "text": [
      "25-08-19 17:18:45.576 pyfstat.utils.sft INFO    : Loading 1 SFTs from H1...\n",
      "25-08-19 17:18:45.591 pyfstat.utils.sft INFO    : Loading 1 SFTs from H1...\n",
      "25-08-19 17:18:45.606 pyfstat.utils.sft INFO    : Loading 1 SFTs from H1...\n",
      "25-08-19 17:18:45.620 pyfstat.utils.sft INFO    : Loading 1 SFTs from H1...\n",
      "25-08-19 17:18:45.635 pyfstat.utils.sft INFO    : Loading 1 SFTs from H1...\n",
      "25-08-19 17:18:45.649 pyfstat.utils.sft INFO    : Loading 1 SFTs from H1...\n",
      "25-08-19 17:18:45.665 pyfstat.utils.sft INFO    : Loading 1 SFTs from H1...\n"
     ]
    },
    {
     "name": "stderr",
     "output_type": "stream",
     "text": [
      " 26%|██▌       | 1503/5760 [00:22<01:04, 65.56it/s]"
     ]
    },
    {
     "name": "stdout",
     "output_type": "stream",
     "text": [
      "25-08-19 17:18:45.677 pyfstat.utils.sft INFO    : Loading 1 SFTs from H1...\n",
      "25-08-19 17:18:45.687 pyfstat.utils.sft INFO    : Loading 1 SFTs from H1...\n",
      "25-08-19 17:18:45.701 pyfstat.utils.sft INFO    : Loading 1 SFTs from H1...\n",
      "25-08-19 17:18:45.716 pyfstat.utils.sft INFO    : Loading 1 SFTs from H1...\n",
      "25-08-19 17:18:45.731 pyfstat.utils.sft INFO    : Loading 1 SFTs from H1...\n",
      "25-08-19 17:18:45.746 pyfstat.utils.sft INFO    : Loading 1 SFTs from H1...\n",
      "25-08-19 17:18:45.761 pyfstat.utils.sft INFO    : Loading 1 SFTs from H1...\n",
      "25-08-19 17:18:45.779 pyfstat.utils.sft INFO    : Loading 1 SFTs from H1...\n"
     ]
    },
    {
     "name": "stderr",
     "output_type": "stream",
     "text": [
      " 26%|██▌       | 1511/5760 [00:22<01:04, 66.34it/s]"
     ]
    },
    {
     "name": "stdout",
     "output_type": "stream",
     "text": [
      "25-08-19 17:18:45.798 pyfstat.utils.sft INFO    : Loading 1 SFTs from H1...\n",
      "25-08-19 17:18:45.813 pyfstat.utils.sft INFO    : Loading 1 SFTs from H1...\n",
      "25-08-19 17:18:45.831 pyfstat.utils.sft INFO    : Loading 1 SFTs from H1...\n",
      "25-08-19 17:18:45.846 pyfstat.utils.sft INFO    : Loading 1 SFTs from H1...\n",
      "25-08-19 17:18:45.861 pyfstat.utils.sft INFO    : Loading 1 SFTs from H1...\n",
      "25-08-19 17:18:45.880 pyfstat.utils.sft INFO    : Loading 1 SFTs from H1...\n",
      "25-08-19 17:18:45.896 pyfstat.utils.sft INFO    : Loading 1 SFTs from H1...\n"
     ]
    },
    {
     "name": "stderr",
     "output_type": "stream",
     "text": [
      " 26%|██▋       | 1518/5760 [00:22<01:05, 64.30it/s]"
     ]
    },
    {
     "name": "stdout",
     "output_type": "stream",
     "text": [
      "25-08-19 17:18:45.916 pyfstat.utils.sft INFO    : Loading 1 SFTs from H1...\n",
      "25-08-19 17:18:45.928 pyfstat.utils.sft INFO    : Loading 1 SFTs from H1...\n",
      "25-08-19 17:18:45.940 pyfstat.utils.sft INFO    : Loading 1 SFTs from H1...\n",
      "25-08-19 17:18:45.954 pyfstat.utils.sft INFO    : Loading 1 SFTs from H1...\n",
      "25-08-19 17:18:45.965 pyfstat.utils.sft INFO    : Loading 1 SFTs from H1...\n",
      "25-08-19 17:18:45.981 pyfstat.utils.sft INFO    : Loading 1 SFTs from H1...\n",
      "25-08-19 17:18:45.995 pyfstat.utils.sft INFO    : Loading 1 SFTs from H1...\n",
      "25-08-19 17:18:46.006 pyfstat.utils.sft INFO    : Loading 1 SFTs from H1...\n"
     ]
    },
    {
     "name": "stderr",
     "output_type": "stream",
     "text": [
      " 26%|██▋       | 1526/5760 [00:22<01:02, 67.46it/s]"
     ]
    },
    {
     "name": "stdout",
     "output_type": "stream",
     "text": [
      "25-08-19 17:18:46.022 pyfstat.utils.sft INFO    : Loading 1 SFTs from H1...\n",
      "25-08-19 17:18:46.033 pyfstat.utils.sft INFO    : Loading 1 SFTs from H1...\n",
      "25-08-19 17:18:46.051 pyfstat.utils.sft INFO    : Loading 1 SFTs from H1...\n",
      "25-08-19 17:18:46.062 pyfstat.utils.sft INFO    : Loading 1 SFTs from H1...\n",
      "25-08-19 17:18:46.073 pyfstat.utils.sft INFO    : Loading 1 SFTs from H1...\n",
      "25-08-19 17:18:46.087 pyfstat.utils.sft INFO    : Loading 1 SFTs from H1...\n",
      "25-08-19 17:18:46.101 pyfstat.utils.sft INFO    : Loading 1 SFTs from H1...\n",
      "25-08-19 17:18:46.116 pyfstat.utils.sft INFO    : Loading 1 SFTs from H1...\n"
     ]
    },
    {
     "name": "stderr",
     "output_type": "stream",
     "text": [
      " 27%|██▋       | 1534/5760 [00:22<01:01, 68.54it/s]"
     ]
    },
    {
     "name": "stdout",
     "output_type": "stream",
     "text": [
      "25-08-19 17:18:46.134 pyfstat.utils.sft INFO    : Loading 1 SFTs from H1...\n",
      "25-08-19 17:18:46.148 pyfstat.utils.sft INFO    : Loading 1 SFTs from H1...\n",
      "25-08-19 17:18:46.160 pyfstat.utils.sft INFO    : Loading 1 SFTs from H1...\n",
      "25-08-19 17:18:46.178 pyfstat.utils.sft INFO    : Loading 1 SFTs from H1...\n",
      "25-08-19 17:18:46.197 pyfstat.utils.sft INFO    : Loading 1 SFTs from H1...\n",
      "25-08-19 17:18:46.211 pyfstat.utils.sft INFO    : Loading 1 SFTs from H1...\n",
      "25-08-19 17:18:46.229 pyfstat.utils.sft INFO    : Loading 1 SFTs from H1...\n"
     ]
    },
    {
     "name": "stderr",
     "output_type": "stream",
     "text": [
      " 27%|██▋       | 1541/5760 [00:22<01:03, 66.40it/s]"
     ]
    },
    {
     "name": "stdout",
     "output_type": "stream",
     "text": [
      "25-08-19 17:18:46.249 pyfstat.utils.sft INFO    : Loading 1 SFTs from H1...\n",
      "25-08-19 17:18:46.264 pyfstat.utils.sft INFO    : Loading 1 SFTs from H1...\n",
      "25-08-19 17:18:46.278 pyfstat.utils.sft INFO    : Loading 1 SFTs from H1...\n",
      "25-08-19 17:18:46.293 pyfstat.utils.sft INFO    : Loading 1 SFTs from H1...\n",
      "25-08-19 17:18:46.308 pyfstat.utils.sft INFO    : Loading 1 SFTs from H1...\n",
      "25-08-19 17:18:46.319 pyfstat.utils.sft INFO    : Loading 1 SFTs from H1...\n",
      "25-08-19 17:18:46.335 pyfstat.utils.sft INFO    : Loading 1 SFTs from H1...\n"
     ]
    },
    {
     "name": "stderr",
     "output_type": "stream",
     "text": [
      " 27%|██▋       | 1548/5760 [00:23<01:03, 66.38it/s]"
     ]
    },
    {
     "name": "stdout",
     "output_type": "stream",
     "text": [
      "25-08-19 17:18:46.353 pyfstat.utils.sft INFO    : Loading 1 SFTs from H1...\n",
      "25-08-19 17:18:46.372 pyfstat.utils.sft INFO    : Loading 1 SFTs from H1...\n",
      "25-08-19 17:18:46.387 pyfstat.utils.sft INFO    : Loading 1 SFTs from H1...\n",
      "25-08-19 17:18:46.405 pyfstat.utils.sft INFO    : Loading 1 SFTs from H1...\n",
      "25-08-19 17:18:46.424 pyfstat.utils.sft INFO    : Loading 1 SFTs from H1...\n",
      "25-08-19 17:18:46.438 pyfstat.utils.sft INFO    : Loading 1 SFTs from H1...\n",
      "25-08-19 17:18:46.453 pyfstat.utils.sft INFO    : Loading 1 SFTs from H1...\n"
     ]
    },
    {
     "name": "stderr",
     "output_type": "stream",
     "text": [
      " 27%|██▋       | 1555/5760 [00:23<01:05, 64.59it/s]"
     ]
    },
    {
     "name": "stdout",
     "output_type": "stream",
     "text": [
      "25-08-19 17:18:46.465 pyfstat.utils.sft INFO    : Loading 1 SFTs from H1...\n",
      "25-08-19 17:18:46.481 pyfstat.utils.sft INFO    : Loading 1 SFTs from H1...\n",
      "25-08-19 17:18:46.492 pyfstat.utils.sft INFO    : Loading 1 SFTs from H1...\n",
      "25-08-19 17:18:46.506 pyfstat.utils.sft INFO    : Loading 1 SFTs from H1...\n",
      "25-08-19 17:18:46.524 pyfstat.utils.sft INFO    : Loading 1 SFTs from H1...\n",
      "25-08-19 17:18:46.539 pyfstat.utils.sft INFO    : Loading 1 SFTs from H1...\n",
      "25-08-19 17:18:46.554 pyfstat.utils.sft INFO    : Loading 1 SFTs from H1...\n"
     ]
    },
    {
     "name": "stderr",
     "output_type": "stream",
     "text": [
      " 27%|██▋       | 1562/5760 [00:23<01:03, 65.96it/s]"
     ]
    },
    {
     "name": "stdout",
     "output_type": "stream",
     "text": [
      "25-08-19 17:18:46.570 pyfstat.utils.sft INFO    : Loading 1 SFTs from H1...\n",
      "25-08-19 17:18:46.588 pyfstat.utils.sft INFO    : Loading 1 SFTs from H1...\n",
      "25-08-19 17:18:46.599 pyfstat.utils.sft INFO    : Loading 1 SFTs from H1...\n",
      "25-08-19 17:18:46.614 pyfstat.utils.sft INFO    : Loading 1 SFTs from H1...\n",
      "25-08-19 17:18:46.626 pyfstat.utils.sft INFO    : Loading 1 SFTs from H1...\n",
      "25-08-19 17:18:46.640 pyfstat.utils.sft INFO    : Loading 1 SFTs from H1...\n",
      "25-08-19 17:18:46.658 pyfstat.utils.sft INFO    : Loading 1 SFTs from H1...\n"
     ]
    },
    {
     "name": "stderr",
     "output_type": "stream",
     "text": [
      " 27%|██▋       | 1569/5760 [00:23<01:03, 66.23it/s]"
     ]
    },
    {
     "name": "stdout",
     "output_type": "stream",
     "text": [
      "25-08-19 17:18:46.674 pyfstat.utils.sft INFO    : Loading 1 SFTs from H1...\n",
      "25-08-19 17:18:46.693 pyfstat.utils.sft INFO    : Loading 1 SFTs from H1...\n",
      "25-08-19 17:18:46.709 pyfstat.utils.sft INFO    : Loading 1 SFTs from H1...\n",
      "25-08-19 17:18:46.727 pyfstat.utils.sft INFO    : Loading 1 SFTs from H1...\n",
      "25-08-19 17:18:46.746 pyfstat.utils.sft INFO    : Loading 1 SFTs from H1...\n",
      "25-08-19 17:18:46.761 pyfstat.utils.sft INFO    : Loading 1 SFTs from H1...\n",
      "25-08-19 17:18:46.776 pyfstat.utils.sft INFO    : Loading 1 SFTs from H1...\n"
     ]
    },
    {
     "name": "stderr",
     "output_type": "stream",
     "text": [
      " 27%|██▋       | 1576/5760 [00:23<01:05, 64.06it/s]"
     ]
    },
    {
     "name": "stdout",
     "output_type": "stream",
     "text": [
      "25-08-19 17:18:46.788 pyfstat.utils.sft INFO    : Loading 1 SFTs from H1...\n",
      "25-08-19 17:18:46.803 pyfstat.utils.sft INFO    : Loading 1 SFTs from H1...\n",
      "25-08-19 17:18:46.821 pyfstat.utils.sft INFO    : Loading 1 SFTs from H1...\n",
      "25-08-19 17:18:46.837 pyfstat.utils.sft INFO    : Loading 1 SFTs from H1...\n",
      "25-08-19 17:18:46.852 pyfstat.utils.sft INFO    : Loading 1 SFTs from H1...\n",
      "25-08-19 17:18:46.867 pyfstat.utils.sft INFO    : Loading 1 SFTs from H1...\n",
      "25-08-19 17:18:46.882 pyfstat.utils.sft INFO    : Loading 1 SFTs from H1...\n"
     ]
    },
    {
     "name": "stderr",
     "output_type": "stream",
     "text": [
      " 27%|██▋       | 1583/5760 [00:23<01:05, 64.10it/s]"
     ]
    },
    {
     "name": "stdout",
     "output_type": "stream",
     "text": [
      "25-08-19 17:18:46.898 pyfstat.utils.sft INFO    : Loading 1 SFTs from H1...\n",
      "25-08-19 17:18:46.913 pyfstat.utils.sft INFO    : Loading 1 SFTs from H1...\n",
      "25-08-19 17:18:46.932 pyfstat.utils.sft INFO    : Loading 1 SFTs from H1...\n",
      "25-08-19 17:18:46.947 pyfstat.utils.sft INFO    : Loading 1 SFTs from H1...\n",
      "25-08-19 17:18:46.959 pyfstat.utils.sft INFO    : Loading 1 SFTs from H1...\n",
      "25-08-19 17:18:46.970 pyfstat.utils.sft INFO    : Loading 1 SFTs from H1...\n",
      "25-08-19 17:18:46.984 pyfstat.utils.sft INFO    : Loading 1 SFTs from H1...\n"
     ]
    },
    {
     "name": "stderr",
     "output_type": "stream",
     "text": [
      " 28%|██▊       | 1590/5760 [00:23<01:03, 65.38it/s]"
     ]
    },
    {
     "name": "stdout",
     "output_type": "stream",
     "text": [
      "25-08-19 17:18:47.003 pyfstat.utils.sft INFO    : Loading 1 SFTs from H1...\n",
      "25-08-19 17:18:47.018 pyfstat.utils.sft INFO    : Loading 1 SFTs from H1...\n",
      "25-08-19 17:18:47.033 pyfstat.utils.sft INFO    : Loading 1 SFTs from H1...\n",
      "25-08-19 17:18:47.051 pyfstat.utils.sft INFO    : Loading 1 SFTs from H1...\n",
      "25-08-19 17:18:47.066 pyfstat.utils.sft INFO    : Loading 1 SFTs from H1...\n",
      "25-08-19 17:18:47.085 pyfstat.utils.sft INFO    : Loading 1 SFTs from H1...\n",
      "25-08-19 17:18:47.103 pyfstat.utils.sft INFO    : Loading 1 SFTs from H1...\n"
     ]
    },
    {
     "name": "stderr",
     "output_type": "stream",
     "text": [
      " 28%|██▊       | 1597/5760 [00:23<01:05, 63.77it/s]"
     ]
    },
    {
     "name": "stdout",
     "output_type": "stream",
     "text": [
      "25-08-19 17:18:47.119 pyfstat.utils.sft INFO    : Loading 1 SFTs from H1...\n",
      "25-08-19 17:18:47.137 pyfstat.utils.sft INFO    : Loading 1 SFTs from H1...\n",
      "25-08-19 17:18:47.155 pyfstat.utils.sft INFO    : Loading 1 SFTs from H1...\n",
      "25-08-19 17:18:47.170 pyfstat.utils.sft INFO    : Loading 1 SFTs from H1...\n",
      "25-08-19 17:18:47.185 pyfstat.utils.sft INFO    : Loading 1 SFTs from H1...\n",
      "25-08-19 17:18:47.199 pyfstat.utils.sft INFO    : Loading 1 SFTs from H1...\n",
      "25-08-19 17:18:47.214 pyfstat.utils.sft INFO    : Loading 1 SFTs from H1...\n"
     ]
    },
    {
     "name": "stderr",
     "output_type": "stream",
     "text": [
      " 28%|██▊       | 1604/5760 [00:23<01:05, 63.73it/s]"
     ]
    },
    {
     "name": "stdout",
     "output_type": "stream",
     "text": [
      "25-08-19 17:18:47.230 pyfstat.utils.sft INFO    : Loading 1 SFTs from H1...\n",
      "25-08-19 17:18:47.244 pyfstat.utils.sft INFO    : Loading 1 SFTs from H1...\n",
      "25-08-19 17:18:47.261 pyfstat.utils.sft INFO    : Loading 1 SFTs from H1...\n",
      "25-08-19 17:18:47.279 pyfstat.utils.sft INFO    : Loading 1 SFTs from H1...\n",
      "25-08-19 17:18:47.290 pyfstat.utils.sft INFO    : Loading 1 SFTs from H1...\n",
      "25-08-19 17:18:47.304 pyfstat.utils.sft INFO    : Loading 1 SFTs from H1...\n",
      "25-08-19 17:18:47.315 pyfstat.utils.sft INFO    : Loading 1 SFTs from H1...\n"
     ]
    },
    {
     "name": "stderr",
     "output_type": "stream",
     "text": [
      " 28%|██▊       | 1611/5760 [00:24<01:03, 65.35it/s]"
     ]
    },
    {
     "name": "stdout",
     "output_type": "stream",
     "text": [
      "25-08-19 17:18:47.330 pyfstat.utils.sft INFO    : Loading 1 SFTs from H1...\n",
      "25-08-19 17:18:47.351 pyfstat.utils.sft INFO    : Loading 1 SFTs from H1...\n",
      "25-08-19 17:18:47.366 pyfstat.utils.sft INFO    : Loading 1 SFTs from H1...\n",
      "25-08-19 17:18:47.385 pyfstat.utils.sft INFO    : Loading 1 SFTs from H1...\n",
      "25-08-19 17:18:47.404 pyfstat.utils.sft INFO    : Loading 1 SFTs from H1...\n",
      "25-08-19 17:18:47.419 pyfstat.utils.sft INFO    : Loading 1 SFTs from H1...\n",
      "25-08-19 17:18:47.435 pyfstat.utils.sft INFO    : Loading 1 SFTs from H1...\n"
     ]
    },
    {
     "name": "stderr",
     "output_type": "stream",
     "text": [
      " 28%|██▊       | 1618/5760 [00:24<01:05, 62.92it/s]"
     ]
    },
    {
     "name": "stdout",
     "output_type": "stream",
     "text": [
      "25-08-19 17:18:47.448 pyfstat.utils.sft INFO    : Loading 1 SFTs from H1...\n",
      "25-08-19 17:18:47.463 pyfstat.utils.sft INFO    : Loading 1 SFTs from H1...\n",
      "25-08-19 17:18:47.478 pyfstat.utils.sft INFO    : Loading 1 SFTs from H1...\n",
      "25-08-19 17:18:47.494 pyfstat.utils.sft INFO    : Loading 1 SFTs from H1...\n",
      "25-08-19 17:18:47.512 pyfstat.utils.sft INFO    : Loading 1 SFTs from H1...\n",
      "25-08-19 17:18:47.528 pyfstat.utils.sft INFO    : Loading 1 SFTs from H1...\n",
      "25-08-19 17:18:47.547 pyfstat.utils.sft INFO    : Loading 1 SFTs from H1...\n"
     ]
    },
    {
     "name": "stderr",
     "output_type": "stream",
     "text": [
      " 28%|██▊       | 1625/5760 [00:24<01:05, 62.90it/s]"
     ]
    },
    {
     "name": "stdout",
     "output_type": "stream",
     "text": [
      "25-08-19 17:18:47.563 pyfstat.utils.sft INFO    : Loading 1 SFTs from H1...\n",
      "25-08-19 17:18:47.582 pyfstat.utils.sft INFO    : Loading 1 SFTs from H1...\n",
      "25-08-19 17:18:47.598 pyfstat.utils.sft INFO    : Loading 1 SFTs from H1...\n",
      "25-08-19 17:18:47.613 pyfstat.utils.sft INFO    : Loading 1 SFTs from H1...\n",
      "25-08-19 17:18:47.627 pyfstat.utils.sft INFO    : Loading 1 SFTs from H1...\n",
      "25-08-19 17:18:47.642 pyfstat.utils.sft INFO    : Loading 1 SFTs from H1...\n",
      "25-08-19 17:18:47.653 pyfstat.utils.sft INFO    : Loading 1 SFTs from H1...\n"
     ]
    },
    {
     "name": "stderr",
     "output_type": "stream",
     "text": [
      " 28%|██▊       | 1632/5760 [00:24<01:04, 63.69it/s]"
     ]
    },
    {
     "name": "stdout",
     "output_type": "stream",
     "text": [
      "25-08-19 17:18:47.665 pyfstat.utils.sft INFO    : Loading 1 SFTs from H1...\n",
      "25-08-19 17:18:47.681 pyfstat.utils.sft INFO    : Loading 1 SFTs from H1...\n",
      "25-08-19 17:18:47.700 pyfstat.utils.sft INFO    : Loading 1 SFTs from H1...\n",
      "25-08-19 17:18:47.718 pyfstat.utils.sft INFO    : Loading 1 SFTs from H1...\n",
      "25-08-19 17:18:47.737 pyfstat.utils.sft INFO    : Loading 1 SFTs from H1...\n",
      "25-08-19 17:18:47.748 pyfstat.utils.sft INFO    : Loading 1 SFTs from H1...\n",
      "25-08-19 17:18:47.762 pyfstat.utils.sft INFO    : Loading 1 SFTs from H1...\n"
     ]
    },
    {
     "name": "stderr",
     "output_type": "stream",
     "text": [
      " 28%|██▊       | 1639/5760 [00:24<01:04, 63.44it/s]"
     ]
    },
    {
     "name": "stdout",
     "output_type": "stream",
     "text": [
      "25-08-19 17:18:47.780 pyfstat.utils.sft INFO    : Loading 1 SFTs from H1...\n",
      "25-08-19 17:18:47.795 pyfstat.utils.sft INFO    : Loading 1 SFTs from H1...\n",
      "25-08-19 17:18:47.809 pyfstat.utils.sft INFO    : Loading 1 SFTs from H1...\n",
      "25-08-19 17:18:47.823 pyfstat.utils.sft INFO    : Loading 1 SFTs from H1...\n",
      "25-08-19 17:18:47.838 pyfstat.utils.sft INFO    : Loading 1 SFTs from H1...\n",
      "25-08-19 17:18:47.852 pyfstat.utils.sft INFO    : Loading 1 SFTs from H1...\n",
      "25-08-19 17:18:47.870 pyfstat.utils.sft INFO    : Loading 1 SFTs from H1...\n"
     ]
    },
    {
     "name": "stderr",
     "output_type": "stream",
     "text": [
      " 29%|██▊       | 1646/5760 [00:24<01:04, 63.62it/s]"
     ]
    },
    {
     "name": "stdout",
     "output_type": "stream",
     "text": [
      "25-08-19 17:18:47.889 pyfstat.utils.sft INFO    : Loading 1 SFTs from H1...\n",
      "25-08-19 17:18:47.911 pyfstat.utils.sft INFO    : Loading 1 SFTs from H1...\n",
      "25-08-19 17:18:47.926 pyfstat.utils.sft INFO    : Loading 1 SFTs from H1...\n",
      "25-08-19 17:18:47.941 pyfstat.utils.sft INFO    : Loading 1 SFTs from H1...\n",
      "25-08-19 17:18:47.956 pyfstat.utils.sft INFO    : Loading 1 SFTs from H1...\n",
      "25-08-19 17:18:47.970 pyfstat.utils.sft INFO    : Loading 1 SFTs from H1...\n",
      "25-08-19 17:18:47.985 pyfstat.utils.sft INFO    : Loading 1 SFTs from H1...\n"
     ]
    },
    {
     "name": "stderr",
     "output_type": "stream",
     "text": [
      " 29%|██▊       | 1653/5760 [00:24<01:04, 63.54it/s]"
     ]
    },
    {
     "name": "stdout",
     "output_type": "stream",
     "text": [
      "25-08-19 17:18:48.000 pyfstat.utils.sft INFO    : Loading 1 SFTs from H1...\n",
      "25-08-19 17:18:48.015 pyfstat.utils.sft INFO    : Loading 1 SFTs from H1...\n",
      "25-08-19 17:18:48.030 pyfstat.utils.sft INFO    : Loading 1 SFTs from H1...\n",
      "25-08-19 17:18:48.046 pyfstat.utils.sft INFO    : Loading 1 SFTs from H1...\n",
      "25-08-19 17:18:48.058 pyfstat.utils.sft INFO    : Loading 1 SFTs from H1...\n",
      "25-08-19 17:18:48.072 pyfstat.utils.sft INFO    : Loading 1 SFTs from H1...\n",
      "25-08-19 17:18:48.091 pyfstat.utils.sft INFO    : Loading 1 SFTs from H1...\n"
     ]
    },
    {
     "name": "stderr",
     "output_type": "stream",
     "text": [
      " 29%|██▉       | 1660/5760 [00:24<01:04, 63.71it/s]"
     ]
    },
    {
     "name": "stdout",
     "output_type": "stream",
     "text": [
      "25-08-19 17:18:48.106 pyfstat.utils.sft INFO    : Loading 1 SFTs from H1...\n",
      "25-08-19 17:18:48.121 pyfstat.utils.sft INFO    : Loading 1 SFTs from H1...\n",
      "25-08-19 17:18:48.136 pyfstat.utils.sft INFO    : Loading 1 SFTs from H1...\n",
      "25-08-19 17:18:48.156 pyfstat.utils.sft INFO    : Loading 1 SFTs from H1...\n",
      "25-08-19 17:18:48.170 pyfstat.utils.sft INFO    : Loading 1 SFTs from H1...\n",
      "25-08-19 17:18:48.189 pyfstat.utils.sft INFO    : Loading 1 SFTs from H1...\n",
      "25-08-19 17:18:48.203 pyfstat.utils.sft INFO    : Loading 1 SFTs from H1...\n"
     ]
    },
    {
     "name": "stderr",
     "output_type": "stream",
     "text": [
      " 29%|██▉       | 1667/5760 [00:24<01:04, 63.79it/s]"
     ]
    },
    {
     "name": "stdout",
     "output_type": "stream",
     "text": [
      "25-08-19 17:18:48.218 pyfstat.utils.sft INFO    : Loading 1 SFTs from H1...\n",
      "25-08-19 17:18:48.233 pyfstat.utils.sft INFO    : Loading 1 SFTs from H1...\n",
      "25-08-19 17:18:48.251 pyfstat.utils.sft INFO    : Loading 1 SFTs from H1...\n",
      "25-08-19 17:18:48.270 pyfstat.utils.sft INFO    : Loading 1 SFTs from H1...\n",
      "25-08-19 17:18:48.288 pyfstat.utils.sft INFO    : Loading 1 SFTs from H1...\n",
      "25-08-19 17:18:48.303 pyfstat.utils.sft INFO    : Loading 1 SFTs from H1...\n",
      "25-08-19 17:18:48.317 pyfstat.utils.sft INFO    : Loading 1 SFTs from H1...\n"
     ]
    },
    {
     "name": "stderr",
     "output_type": "stream",
     "text": [
      " 29%|██▉       | 1674/5760 [00:25<01:04, 62.97it/s]"
     ]
    },
    {
     "name": "stdout",
     "output_type": "stream",
     "text": [
      "25-08-19 17:18:48.333 pyfstat.utils.sft INFO    : Loading 1 SFTs from H1...\n",
      "25-08-19 17:18:48.348 pyfstat.utils.sft INFO    : Loading 1 SFTs from H1...\n",
      "25-08-19 17:18:48.364 pyfstat.utils.sft INFO    : Loading 1 SFTs from H1...\n",
      "25-08-19 17:18:48.383 pyfstat.utils.sft INFO    : Loading 1 SFTs from H1...\n",
      "25-08-19 17:18:48.398 pyfstat.utils.sft INFO    : Loading 1 SFTs from H1...\n",
      "25-08-19 17:18:48.409 pyfstat.utils.sft INFO    : Loading 1 SFTs from H1...\n",
      "25-08-19 17:18:48.423 pyfstat.utils.sft INFO    : Loading 1 SFTs from H1...\n"
     ]
    },
    {
     "name": "stderr",
     "output_type": "stream",
     "text": [
      " 29%|██▉       | 1681/5760 [00:25<01:03, 63.92it/s]"
     ]
    },
    {
     "name": "stdout",
     "output_type": "stream",
     "text": [
      "25-08-19 17:18:48.439 pyfstat.utils.sft INFO    : Loading 1 SFTs from H1...\n",
      "25-08-19 17:18:48.457 pyfstat.utils.sft INFO    : Loading 1 SFTs from H1...\n",
      "25-08-19 17:18:48.475 pyfstat.utils.sft INFO    : Loading 1 SFTs from H1...\n",
      "25-08-19 17:18:48.494 pyfstat.utils.sft INFO    : Loading 1 SFTs from H1...\n",
      "25-08-19 17:18:48.512 pyfstat.utils.sft INFO    : Loading 1 SFTs from H1...\n",
      "25-08-19 17:18:48.531 pyfstat.utils.sft INFO    : Loading 1 SFTs from H1...\n",
      "25-08-19 17:18:48.542 pyfstat.utils.sft INFO    : Loading 1 SFTs from H1...\n"
     ]
    },
    {
     "name": "stderr",
     "output_type": "stream",
     "text": [
      " 29%|██▉       | 1688/5760 [00:25<01:05, 62.42it/s]"
     ]
    },
    {
     "name": "stdout",
     "output_type": "stream",
     "text": [
      "25-08-19 17:18:48.558 pyfstat.utils.sft INFO    : Loading 1 SFTs from H1...\n",
      "25-08-19 17:18:48.573 pyfstat.utils.sft INFO    : Loading 1 SFTs from H1...\n",
      "25-08-19 17:18:48.588 pyfstat.utils.sft INFO    : Loading 1 SFTs from H1...\n",
      "25-08-19 17:18:48.602 pyfstat.utils.sft INFO    : Loading 1 SFTs from H1...\n",
      "25-08-19 17:18:48.621 pyfstat.utils.sft INFO    : Loading 1 SFTs from H1...\n",
      "25-08-19 17:18:48.640 pyfstat.utils.sft INFO    : Loading 1 SFTs from H1...\n",
      "25-08-19 17:18:48.658 pyfstat.utils.sft INFO    : Loading 1 SFTs from H1...\n"
     ]
    },
    {
     "name": "stderr",
     "output_type": "stream",
     "text": [
      " 29%|██▉       | 1695/5760 [00:25<01:05, 61.67it/s]"
     ]
    },
    {
     "name": "stdout",
     "output_type": "stream",
     "text": [
      "25-08-19 17:18:48.670 pyfstat.utils.sft INFO    : Loading 1 SFTs from H1...\n",
      "25-08-19 17:18:48.685 pyfstat.utils.sft INFO    : Loading 1 SFTs from H1...\n",
      "25-08-19 17:18:48.700 pyfstat.utils.sft INFO    : Loading 1 SFTs from H1...\n",
      "25-08-19 17:18:48.714 pyfstat.utils.sft INFO    : Loading 1 SFTs from H1...\n",
      "25-08-19 17:18:48.729 pyfstat.utils.sft INFO    : Loading 1 SFTs from H1...\n",
      "25-08-19 17:18:48.743 pyfstat.utils.sft INFO    : Loading 1 SFTs from H1...\n",
      "25-08-19 17:18:48.762 pyfstat.utils.sft INFO    : Loading 1 SFTs from H1...\n"
     ]
    },
    {
     "name": "stderr",
     "output_type": "stream",
     "text": [
      " 30%|██▉       | 1702/5760 [00:25<01:04, 62.74it/s]"
     ]
    },
    {
     "name": "stdout",
     "output_type": "stream",
     "text": [
      "25-08-19 17:18:48.777 pyfstat.utils.sft INFO    : Loading 1 SFTs from H1...\n",
      "25-08-19 17:18:48.789 pyfstat.utils.sft INFO    : Loading 1 SFTs from H1...\n",
      "25-08-19 17:18:48.801 pyfstat.utils.sft INFO    : Loading 1 SFTs from H1...\n",
      "25-08-19 17:18:48.812 pyfstat.utils.sft INFO    : Loading 1 SFTs from H1...\n",
      "25-08-19 17:18:48.830 pyfstat.utils.sft INFO    : Loading 1 SFTs from H1...\n",
      "25-08-19 17:18:48.850 pyfstat.utils.sft INFO    : Loading 1 SFTs from H1...\n",
      "25-08-19 17:18:48.865 pyfstat.utils.sft INFO    : Loading 1 SFTs from H1...\n",
      "25-08-19 17:18:48.880 pyfstat.utils.sft INFO    : Loading 1 SFTs from H1...\n"
     ]
    },
    {
     "name": "stderr",
     "output_type": "stream",
     "text": [
      " 30%|██▉       | 1710/5760 [00:25<01:02, 64.30it/s]"
     ]
    },
    {
     "name": "stdout",
     "output_type": "stream",
     "text": [
      "25-08-19 17:18:48.899 pyfstat.utils.sft INFO    : Loading 1 SFTs from H1...\n",
      "25-08-19 17:18:48.914 pyfstat.utils.sft INFO    : Loading 1 SFTs from H1...\n",
      "25-08-19 17:18:48.930 pyfstat.utils.sft INFO    : Loading 1 SFTs from H1...\n",
      "25-08-19 17:18:48.946 pyfstat.utils.sft INFO    : Loading 1 SFTs from H1...\n",
      "25-08-19 17:18:48.960 pyfstat.utils.sft INFO    : Loading 1 SFTs from H1...\n",
      "25-08-19 17:18:48.986 pyfstat.utils.sft INFO    : Loading 1 SFTs from H1...\n",
      "25-08-19 17:18:48.997 pyfstat.utils.sft INFO    : Loading 1 SFTs from H1...\n"
     ]
    },
    {
     "name": "stderr",
     "output_type": "stream",
     "text": [
      " 30%|██▉       | 1717/5760 [00:25<01:04, 62.90it/s]"
     ]
    },
    {
     "name": "stdout",
     "output_type": "stream",
     "text": [
      "25-08-19 17:18:49.016 pyfstat.utils.sft INFO    : Loading 1 SFTs from H1...\n",
      "25-08-19 17:18:49.032 pyfstat.utils.sft INFO    : Loading 1 SFTs from H1...\n",
      "25-08-19 17:18:49.051 pyfstat.utils.sft INFO    : Loading 1 SFTs from H1...\n",
      "25-08-19 17:18:49.066 pyfstat.utils.sft INFO    : Loading 1 SFTs from H1...\n",
      "25-08-19 17:18:49.086 pyfstat.utils.sft INFO    : Loading 1 SFTs from H1...\n",
      "25-08-19 17:18:49.101 pyfstat.utils.sft INFO    : Loading 1 SFTs from H1...\n",
      "25-08-19 17:18:49.116 pyfstat.utils.sft INFO    : Loading 1 SFTs from H1...\n"
     ]
    },
    {
     "name": "stderr",
     "output_type": "stream",
     "text": [
      " 30%|██▉       | 1724/5760 [00:25<01:05, 61.60it/s]"
     ]
    },
    {
     "name": "stdout",
     "output_type": "stream",
     "text": [
      "25-08-19 17:18:49.136 pyfstat.utils.sft INFO    : Loading 1 SFTs from H1...\n",
      "25-08-19 17:18:49.148 pyfstat.utils.sft INFO    : Loading 1 SFTs from H1...\n",
      "25-08-19 17:18:49.163 pyfstat.utils.sft INFO    : Loading 1 SFTs from H1...\n",
      "25-08-19 17:18:49.181 pyfstat.utils.sft INFO    : Loading 1 SFTs from H1...\n",
      "25-08-19 17:18:49.197 pyfstat.utils.sft INFO    : Loading 1 SFTs from H1...\n",
      "25-08-19 17:18:49.212 pyfstat.utils.sft INFO    : Loading 1 SFTs from H1...\n",
      "25-08-19 17:18:49.227 pyfstat.utils.sft INFO    : Loading 1 SFTs from H1...\n"
     ]
    },
    {
     "name": "stderr",
     "output_type": "stream",
     "text": [
      " 30%|███       | 1731/5760 [00:25<01:04, 62.66it/s]"
     ]
    },
    {
     "name": "stdout",
     "output_type": "stream",
     "text": [
      "25-08-19 17:18:49.243 pyfstat.utils.sft INFO    : Loading 1 SFTs from H1...\n",
      "25-08-19 17:18:49.265 pyfstat.utils.sft INFO    : Loading 1 SFTs from H1...\n",
      "25-08-19 17:18:49.281 pyfstat.utils.sft INFO    : Loading 1 SFTs from H1...\n",
      "25-08-19 17:18:49.297 pyfstat.utils.sft INFO    : Loading 1 SFTs from H1...\n",
      "25-08-19 17:18:49.312 pyfstat.utils.sft INFO    : Loading 1 SFTs from H1...\n",
      "25-08-19 17:18:49.327 pyfstat.utils.sft INFO    : Loading 1 SFTs from H1...\n",
      "25-08-19 17:18:49.343 pyfstat.utils.sft INFO    : Loading 1 SFTs from H1...\n"
     ]
    },
    {
     "name": "stderr",
     "output_type": "stream",
     "text": [
      " 30%|███       | 1738/5760 [00:26<01:04, 62.10it/s]"
     ]
    },
    {
     "name": "stdout",
     "output_type": "stream",
     "text": [
      "25-08-19 17:18:49.358 pyfstat.utils.sft INFO    : Loading 1 SFTs from H1...\n",
      "25-08-19 17:18:49.373 pyfstat.utils.sft INFO    : Loading 1 SFTs from H1...\n",
      "25-08-19 17:18:49.388 pyfstat.utils.sft INFO    : Loading 1 SFTs from H1...\n",
      "25-08-19 17:18:49.400 pyfstat.utils.sft INFO    : Loading 1 SFTs from H1...\n",
      "25-08-19 17:18:49.411 pyfstat.utils.sft INFO    : Loading 1 SFTs from H1...\n",
      "25-08-19 17:18:49.422 pyfstat.utils.sft INFO    : Loading 1 SFTs from H1...\n",
      "25-08-19 17:18:49.437 pyfstat.utils.sft INFO    : Loading 1 SFTs from H1...\n",
      "25-08-19 17:18:49.455 pyfstat.utils.sft INFO    : Loading 1 SFTs from H1...\n"
     ]
    },
    {
     "name": "stderr",
     "output_type": "stream",
     "text": [
      " 30%|███       | 1746/5760 [00:26<01:02, 64.06it/s]"
     ]
    },
    {
     "name": "stdout",
     "output_type": "stream",
     "text": [
      "25-08-19 17:18:49.476 pyfstat.utils.sft INFO    : Loading 1 SFTs from H1...\n",
      "25-08-19 17:18:49.494 pyfstat.utils.sft INFO    : Loading 1 SFTs from H1...\n",
      "25-08-19 17:18:49.508 pyfstat.utils.sft INFO    : Loading 1 SFTs from H1...\n",
      "25-08-19 17:18:49.519 pyfstat.utils.sft INFO    : Loading 1 SFTs from H1...\n",
      "25-08-19 17:18:49.530 pyfstat.utils.sft INFO    : Loading 1 SFTs from H1...\n",
      "25-08-19 17:18:49.541 pyfstat.utils.sft INFO    : Loading 1 SFTs from H1...\n",
      "25-08-19 17:18:49.559 pyfstat.utils.sft INFO    : Loading 1 SFTs from H1...\n"
     ]
    },
    {
     "name": "stderr",
     "output_type": "stream",
     "text": [
      " 30%|███       | 1753/5760 [00:26<01:01, 65.00it/s]"
     ]
    },
    {
     "name": "stdout",
     "output_type": "stream",
     "text": [
      "25-08-19 17:18:49.578 pyfstat.utils.sft INFO    : Loading 1 SFTs from H1...\n",
      "25-08-19 17:18:49.598 pyfstat.utils.sft INFO    : Loading 1 SFTs from H1...\n",
      "25-08-19 17:18:49.617 pyfstat.utils.sft INFO    : Loading 1 SFTs from H1...\n",
      "25-08-19 17:18:49.631 pyfstat.utils.sft INFO    : Loading 1 SFTs from H1...\n",
      "25-08-19 17:18:49.649 pyfstat.utils.sft INFO    : Loading 1 SFTs from H1...\n",
      "25-08-19 17:18:49.664 pyfstat.utils.sft INFO    : Loading 1 SFTs from H1...\n",
      "25-08-19 17:18:49.676 pyfstat.utils.sft INFO    : Loading 1 SFTs from H1...\n"
     ]
    },
    {
     "name": "stderr",
     "output_type": "stream",
     "text": [
      " 31%|███       | 1760/5760 [00:26<01:02, 64.05it/s]"
     ]
    },
    {
     "name": "stdout",
     "output_type": "stream",
     "text": [
      "25-08-19 17:18:49.688 pyfstat.utils.sft INFO    : Loading 1 SFTs from H1...\n",
      "25-08-19 17:18:49.700 pyfstat.utils.sft INFO    : Loading 1 SFTs from H1...\n",
      "25-08-19 17:18:49.712 pyfstat.utils.sft INFO    : Loading 1 SFTs from H1...\n",
      "25-08-19 17:18:49.723 pyfstat.utils.sft INFO    : Loading 1 SFTs from H1...\n",
      "25-08-19 17:18:49.735 pyfstat.utils.sft INFO    : Loading 1 SFTs from H1...\n",
      "25-08-19 17:18:49.746 pyfstat.utils.sft INFO    : Loading 1 SFTs from H1...\n",
      "25-08-19 17:18:49.761 pyfstat.utils.sft INFO    : Loading 1 SFTs from H1...\n",
      "25-08-19 17:18:49.776 pyfstat.utils.sft INFO    : Loading 1 SFTs from H1...\n",
      "25-08-19 17:18:49.791 pyfstat.utils.sft INFO    : Loading 1 SFTs from H1...\n"
     ]
    },
    {
     "name": "stderr",
     "output_type": "stream",
     "text": [
      " 31%|███       | 1769/5760 [00:26<00:58, 68.42it/s]"
     ]
    },
    {
     "name": "stdout",
     "output_type": "stream",
     "text": [
      "25-08-19 17:18:49.806 pyfstat.utils.sft INFO    : Loading 1 SFTs from H1...\n",
      "25-08-19 17:18:49.826 pyfstat.utils.sft INFO    : Loading 1 SFTs from H1...\n",
      "25-08-19 17:18:49.844 pyfstat.utils.sft INFO    : Loading 1 SFTs from H1...\n",
      "25-08-19 17:18:49.859 pyfstat.utils.sft INFO    : Loading 1 SFTs from H1...\n",
      "25-08-19 17:18:49.877 pyfstat.utils.sft INFO    : Loading 1 SFTs from H1...\n",
      "25-08-19 17:18:49.892 pyfstat.utils.sft INFO    : Loading 1 SFTs from H1...\n",
      "25-08-19 17:18:49.907 pyfstat.utils.sft INFO    : Loading 1 SFTs from H1...\n"
     ]
    },
    {
     "name": "stderr",
     "output_type": "stream",
     "text": [
      " 31%|███       | 1776/5760 [00:26<01:00, 65.87it/s]"
     ]
    },
    {
     "name": "stdout",
     "output_type": "stream",
     "text": [
      "25-08-19 17:18:49.923 pyfstat.utils.sft INFO    : Loading 1 SFTs from H1...\n",
      "25-08-19 17:18:49.938 pyfstat.utils.sft INFO    : Loading 1 SFTs from H1...\n",
      "25-08-19 17:18:49.954 pyfstat.utils.sft INFO    : Loading 1 SFTs from H1...\n",
      "25-08-19 17:18:49.973 pyfstat.utils.sft INFO    : Loading 1 SFTs from H1...\n",
      "25-08-19 17:18:49.989 pyfstat.utils.sft INFO    : Loading 1 SFTs from H1...\n",
      "25-08-19 17:18:50.004 pyfstat.utils.sft INFO    : Loading 1 SFTs from H1...\n",
      "25-08-19 17:18:50.019 pyfstat.utils.sft INFO    : Loading 1 SFTs from H1...\n"
     ]
    },
    {
     "name": "stderr",
     "output_type": "stream",
     "text": [
      " 31%|███       | 1783/5760 [00:26<01:01, 64.34it/s]"
     ]
    },
    {
     "name": "stdout",
     "output_type": "stream",
     "text": [
      "25-08-19 17:18:50.038 pyfstat.utils.sft INFO    : Loading 1 SFTs from H1...\n",
      "25-08-19 17:18:50.050 pyfstat.utils.sft INFO    : Loading 1 SFTs from H1...\n",
      "25-08-19 17:18:50.065 pyfstat.utils.sft INFO    : Loading 1 SFTs from H1...\n",
      "25-08-19 17:18:50.084 pyfstat.utils.sft INFO    : Loading 1 SFTs from H1...\n",
      "25-08-19 17:18:50.102 pyfstat.utils.sft INFO    : Loading 1 SFTs from H1...\n",
      "25-08-19 17:18:50.117 pyfstat.utils.sft INFO    : Loading 1 SFTs from H1...\n",
      "25-08-19 17:18:50.132 pyfstat.utils.sft INFO    : Loading 1 SFTs from H1...\n"
     ]
    },
    {
     "name": "stderr",
     "output_type": "stream",
     "text": [
      " 31%|███       | 1790/5760 [00:26<01:02, 63.91it/s]"
     ]
    },
    {
     "name": "stdout",
     "output_type": "stream",
     "text": [
      "25-08-19 17:18:50.149 pyfstat.utils.sft INFO    : Loading 1 SFTs from H1...\n",
      "25-08-19 17:18:50.165 pyfstat.utils.sft INFO    : Loading 1 SFTs from H1...\n",
      "25-08-19 17:18:50.180 pyfstat.utils.sft INFO    : Loading 1 SFTs from H1...\n",
      "25-08-19 17:18:50.198 pyfstat.utils.sft INFO    : Loading 1 SFTs from H1...\n",
      "25-08-19 17:18:50.212 pyfstat.utils.sft INFO    : Loading 1 SFTs from H1...\n",
      "25-08-19 17:18:50.227 pyfstat.utils.sft INFO    : Loading 1 SFTs from H1...\n",
      "25-08-19 17:18:50.246 pyfstat.utils.sft INFO    : Loading 1 SFTs from H1...\n"
     ]
    },
    {
     "name": "stderr",
     "output_type": "stream",
     "text": [
      " 31%|███       | 1797/5760 [00:26<01:02, 63.30it/s]"
     ]
    },
    {
     "name": "stdout",
     "output_type": "stream",
     "text": [
      "25-08-19 17:18:50.263 pyfstat.utils.sft INFO    : Loading 1 SFTs from H1...\n",
      "25-08-19 17:18:50.281 pyfstat.utils.sft INFO    : Loading 1 SFTs from H1...\n",
      "25-08-19 17:18:50.300 pyfstat.utils.sft INFO    : Loading 1 SFTs from H1...\n",
      "25-08-19 17:18:50.315 pyfstat.utils.sft INFO    : Loading 1 SFTs from H1...\n",
      "25-08-19 17:18:50.327 pyfstat.utils.sft INFO    : Loading 1 SFTs from H1...\n",
      "25-08-19 17:18:50.343 pyfstat.utils.sft INFO    : Loading 1 SFTs from H1...\n",
      "25-08-19 17:18:50.358 pyfstat.utils.sft INFO    : Loading 1 SFTs from H1...\n"
     ]
    },
    {
     "name": "stderr",
     "output_type": "stream",
     "text": [
      " 31%|███▏      | 1804/5760 [00:27<01:02, 63.14it/s]"
     ]
    },
    {
     "name": "stdout",
     "output_type": "stream",
     "text": [
      "25-08-19 17:18:50.374 pyfstat.utils.sft INFO    : Loading 1 SFTs from H1...\n",
      "25-08-19 17:18:50.393 pyfstat.utils.sft INFO    : Loading 1 SFTs from H1...\n",
      "25-08-19 17:18:50.407 pyfstat.utils.sft INFO    : Loading 1 SFTs from H1...\n",
      "25-08-19 17:18:50.418 pyfstat.utils.sft INFO    : Loading 1 SFTs from H1...\n",
      "25-08-19 17:18:50.433 pyfstat.utils.sft INFO    : Loading 1 SFTs from H1...\n",
      "25-08-19 17:18:50.452 pyfstat.utils.sft INFO    : Loading 1 SFTs from H1...\n",
      "25-08-19 17:18:50.467 pyfstat.utils.sft INFO    : Loading 1 SFTs from H1...\n"
     ]
    },
    {
     "name": "stderr",
     "output_type": "stream",
     "text": [
      " 31%|███▏      | 1811/5760 [00:27<01:02, 63.39it/s]"
     ]
    },
    {
     "name": "stdout",
     "output_type": "stream",
     "text": [
      "25-08-19 17:18:50.480 pyfstat.utils.sft INFO    : Loading 1 SFTs from H1...\n",
      "25-08-19 17:18:50.492 pyfstat.utils.sft INFO    : Loading 1 SFTs from H1...\n",
      "25-08-19 17:18:50.507 pyfstat.utils.sft INFO    : Loading 1 SFTs from H1...\n",
      "25-08-19 17:18:50.521 pyfstat.utils.sft INFO    : Loading 1 SFTs from H1...\n",
      "25-08-19 17:18:50.536 pyfstat.utils.sft INFO    : Loading 1 SFTs from H1...\n",
      "25-08-19 17:18:50.555 pyfstat.utils.sft INFO    : Loading 1 SFTs from H1...\n",
      "25-08-19 17:18:50.566 pyfstat.utils.sft INFO    : Loading 1 SFTs from H1...\n",
      "25-08-19 17:18:50.581 pyfstat.utils.sft INFO    : Loading 1 SFTs from H1...\n"
     ]
    },
    {
     "name": "stderr",
     "output_type": "stream",
     "text": [
      " 32%|███▏      | 1819/5760 [00:27<01:00, 64.90it/s]"
     ]
    },
    {
     "name": "stdout",
     "output_type": "stream",
     "text": [
      "25-08-19 17:18:50.601 pyfstat.utils.sft INFO    : Loading 1 SFTs from H1...\n",
      "25-08-19 17:18:50.620 pyfstat.utils.sft INFO    : Loading 1 SFTs from H1...\n",
      "25-08-19 17:18:50.639 pyfstat.utils.sft INFO    : Loading 1 SFTs from H1...\n",
      "25-08-19 17:18:50.657 pyfstat.utils.sft INFO    : Loading 1 SFTs from H1...\n",
      "25-08-19 17:18:50.676 pyfstat.utils.sft INFO    : Loading 1 SFTs from H1...\n",
      "25-08-19 17:18:50.690 pyfstat.utils.sft INFO    : Loading 1 SFTs from H1...\n",
      "25-08-19 17:18:50.706 pyfstat.utils.sft INFO    : Loading 1 SFTs from H1...\n"
     ]
    },
    {
     "name": "stderr",
     "output_type": "stream",
     "text": [
      " 32%|███▏      | 1826/5760 [00:27<01:03, 62.06it/s]"
     ]
    },
    {
     "name": "stdout",
     "output_type": "stream",
     "text": [
      "25-08-19 17:18:50.722 pyfstat.utils.sft INFO    : Loading 1 SFTs from H1...\n",
      "25-08-19 17:18:50.738 pyfstat.utils.sft INFO    : Loading 1 SFTs from H1...\n",
      "25-08-19 17:18:50.756 pyfstat.utils.sft INFO    : Loading 1 SFTs from H1...\n",
      "25-08-19 17:18:50.775 pyfstat.utils.sft INFO    : Loading 1 SFTs from H1...\n",
      "25-08-19 17:18:50.789 pyfstat.utils.sft INFO    : Loading 1 SFTs from H1...\n",
      "25-08-19 17:18:50.804 pyfstat.utils.sft INFO    : Loading 1 SFTs from H1...\n",
      "25-08-19 17:18:50.818 pyfstat.utils.sft INFO    : Loading 1 SFTs from H1...\n"
     ]
    },
    {
     "name": "stderr",
     "output_type": "stream",
     "text": [
      " 32%|███▏      | 1833/5760 [00:27<01:02, 62.75it/s]"
     ]
    },
    {
     "name": "stdout",
     "output_type": "stream",
     "text": [
      "25-08-19 17:18:50.830 pyfstat.utils.sft INFO    : Loading 1 SFTs from H1...\n",
      "25-08-19 17:18:50.845 pyfstat.utils.sft INFO    : Loading 1 SFTs from H1...\n",
      "25-08-19 17:18:50.864 pyfstat.utils.sft INFO    : Loading 1 SFTs from H1...\n",
      "25-08-19 17:18:50.883 pyfstat.utils.sft INFO    : Loading 1 SFTs from H1...\n",
      "25-08-19 17:18:50.901 pyfstat.utils.sft INFO    : Loading 1 SFTs from H1...\n",
      "25-08-19 17:18:50.916 pyfstat.utils.sft INFO    : Loading 1 SFTs from H1...\n",
      "25-08-19 17:18:50.930 pyfstat.utils.sft INFO    : Loading 1 SFTs from H1...\n"
     ]
    },
    {
     "name": "stderr",
     "output_type": "stream",
     "text": [
      " 32%|███▏      | 1840/5760 [00:27<01:03, 62.09it/s]"
     ]
    },
    {
     "name": "stdout",
     "output_type": "stream",
     "text": [
      "25-08-19 17:18:50.946 pyfstat.utils.sft INFO    : Loading 1 SFTs from H1...\n",
      "25-08-19 17:18:50.958 pyfstat.utils.sft INFO    : Loading 1 SFTs from H1...\n",
      "25-08-19 17:18:50.976 pyfstat.utils.sft INFO    : Loading 1 SFTs from H1...\n",
      "25-08-19 17:18:50.991 pyfstat.utils.sft INFO    : Loading 1 SFTs from H1...\n",
      "25-08-19 17:18:51.009 pyfstat.utils.sft INFO    : Loading 1 SFTs from H1...\n",
      "25-08-19 17:18:51.024 pyfstat.utils.sft INFO    : Loading 1 SFTs from H1...\n",
      "25-08-19 17:18:51.042 pyfstat.utils.sft INFO    : Loading 1 SFTs from H1...\n"
     ]
    },
    {
     "name": "stderr",
     "output_type": "stream",
     "text": [
      " 32%|███▏      | 1847/5760 [00:27<01:02, 62.76it/s]"
     ]
    },
    {
     "name": "stdout",
     "output_type": "stream",
     "text": [
      "25-08-19 17:18:51.055 pyfstat.utils.sft INFO    : Loading 1 SFTs from H1...\n",
      "25-08-19 17:18:51.066 pyfstat.utils.sft INFO    : Loading 1 SFTs from H1...\n",
      "25-08-19 17:18:51.083 pyfstat.utils.sft INFO    : Loading 1 SFTs from H1...\n",
      "25-08-19 17:18:51.098 pyfstat.utils.sft INFO    : Loading 1 SFTs from H1...\n",
      "25-08-19 17:18:51.113 pyfstat.utils.sft INFO    : Loading 1 SFTs from H1...\n",
      "25-08-19 17:18:51.128 pyfstat.utils.sft INFO    : Loading 1 SFTs from H1...\n",
      "25-08-19 17:18:51.144 pyfstat.utils.sft INFO    : Loading 1 SFTs from H1...\n"
     ]
    },
    {
     "name": "stderr",
     "output_type": "stream",
     "text": [
      " 32%|███▏      | 1854/5760 [00:27<01:00, 64.51it/s]"
     ]
    },
    {
     "name": "stdout",
     "output_type": "stream",
     "text": [
      "25-08-19 17:18:51.160 pyfstat.utils.sft INFO    : Loading 1 SFTs from H1...\n",
      "25-08-19 17:18:51.178 pyfstat.utils.sft INFO    : Loading 1 SFTs from H1...\n",
      "25-08-19 17:18:51.193 pyfstat.utils.sft INFO    : Loading 1 SFTs from H1...\n",
      "25-08-19 17:18:51.204 pyfstat.utils.sft INFO    : Loading 1 SFTs from H1...\n",
      "25-08-19 17:18:51.219 pyfstat.utils.sft INFO    : Loading 1 SFTs from H1...\n",
      "25-08-19 17:18:51.240 pyfstat.utils.sft INFO    : Loading 1 SFTs from H1...\n",
      "25-08-19 17:18:51.259 pyfstat.utils.sft INFO    : Loading 1 SFTs from H1...\n"
     ]
    },
    {
     "name": "stderr",
     "output_type": "stream",
     "text": [
      " 32%|███▏      | 1861/5760 [00:28<01:01, 63.37it/s]"
     ]
    },
    {
     "name": "stdout",
     "output_type": "stream",
     "text": [
      "25-08-19 17:18:51.275 pyfstat.utils.sft INFO    : Loading 1 SFTs from H1...\n",
      "25-08-19 17:18:51.291 pyfstat.utils.sft INFO    : Loading 1 SFTs from H1...\n",
      "25-08-19 17:18:51.312 pyfstat.utils.sft INFO    : Loading 1 SFTs from H1...\n",
      "25-08-19 17:18:51.331 pyfstat.utils.sft INFO    : Loading 1 SFTs from H1...\n",
      "25-08-19 17:18:51.350 pyfstat.utils.sft INFO    : Loading 1 SFTs from H1...\n",
      "25-08-19 17:18:51.366 pyfstat.utils.sft INFO    : Loading 1 SFTs from H1...\n",
      "25-08-19 17:18:51.380 pyfstat.utils.sft INFO    : Loading 1 SFTs from H1...\n"
     ]
    },
    {
     "name": "stderr",
     "output_type": "stream",
     "text": [
      " 32%|███▏      | 1868/5760 [00:28<01:03, 61.52it/s]"
     ]
    },
    {
     "name": "stdout",
     "output_type": "stream",
     "text": [
      "25-08-19 17:18:51.396 pyfstat.utils.sft INFO    : Loading 1 SFTs from H1...\n",
      "25-08-19 17:18:51.412 pyfstat.utils.sft INFO    : Loading 1 SFTs from H1...\n",
      "25-08-19 17:18:51.427 pyfstat.utils.sft INFO    : Loading 1 SFTs from H1...\n",
      "25-08-19 17:18:51.443 pyfstat.utils.sft INFO    : Loading 1 SFTs from H1...\n",
      "25-08-19 17:18:51.458 pyfstat.utils.sft INFO    : Loading 1 SFTs from H1...\n",
      "25-08-19 17:18:51.472 pyfstat.utils.sft INFO    : Loading 1 SFTs from H1...\n",
      "25-08-19 17:18:51.491 pyfstat.utils.sft INFO    : Loading 1 SFTs from H1...\n"
     ]
    },
    {
     "name": "stderr",
     "output_type": "stream",
     "text": [
      " 33%|███▎      | 1875/5760 [00:28<01:03, 61.37it/s]"
     ]
    },
    {
     "name": "stdout",
     "output_type": "stream",
     "text": [
      "25-08-19 17:18:51.511 pyfstat.utils.sft INFO    : Loading 1 SFTs from H1...\n",
      "25-08-19 17:18:51.527 pyfstat.utils.sft INFO    : Loading 1 SFTs from H1...\n",
      "25-08-19 17:18:51.545 pyfstat.utils.sft INFO    : Loading 1 SFTs from H1...\n",
      "25-08-19 17:18:51.565 pyfstat.utils.sft INFO    : Loading 1 SFTs from H1...\n",
      "25-08-19 17:18:51.579 pyfstat.utils.sft INFO    : Loading 1 SFTs from H1...\n",
      "25-08-19 17:18:51.595 pyfstat.utils.sft INFO    : Loading 1 SFTs from H1...\n",
      "25-08-19 17:18:51.616 pyfstat.utils.sft INFO    : Loading 1 SFTs from H1...\n"
     ]
    },
    {
     "name": "stderr",
     "output_type": "stream",
     "text": [
      " 33%|███▎      | 1882/5760 [00:28<01:04, 60.33it/s]"
     ]
    },
    {
     "name": "stdout",
     "output_type": "stream",
     "text": [
      "25-08-19 17:18:51.632 pyfstat.utils.sft INFO    : Loading 1 SFTs from H1...\n",
      "25-08-19 17:18:51.651 pyfstat.utils.sft INFO    : Loading 1 SFTs from H1...\n",
      "25-08-19 17:18:51.666 pyfstat.utils.sft INFO    : Loading 1 SFTs from H1...\n",
      "25-08-19 17:18:51.681 pyfstat.utils.sft INFO    : Loading 1 SFTs from H1...\n",
      "25-08-19 17:18:51.693 pyfstat.utils.sft INFO    : Loading 1 SFTs from H1...\n",
      "25-08-19 17:18:51.704 pyfstat.utils.sft INFO    : Loading 1 SFTs from H1...\n",
      "25-08-19 17:18:51.715 pyfstat.utils.sft INFO    : Loading 1 SFTs from H1...\n"
     ]
    },
    {
     "name": "stderr",
     "output_type": "stream",
     "text": [
      " 33%|███▎      | 1889/5760 [00:28<01:02, 62.29it/s]"
     ]
    },
    {
     "name": "stdout",
     "output_type": "stream",
     "text": [
      "25-08-19 17:18:51.735 pyfstat.utils.sft INFO    : Loading 1 SFTs from H1...\n",
      "25-08-19 17:18:51.751 pyfstat.utils.sft INFO    : Loading 1 SFTs from H1...\n",
      "25-08-19 17:18:51.767 pyfstat.utils.sft INFO    : Loading 1 SFTs from H1...\n",
      "25-08-19 17:18:51.782 pyfstat.utils.sft INFO    : Loading 1 SFTs from H1...\n",
      "25-08-19 17:18:51.797 pyfstat.utils.sft INFO    : Loading 1 SFTs from H1...\n",
      "25-08-19 17:18:51.816 pyfstat.utils.sft INFO    : Loading 1 SFTs from H1...\n",
      "25-08-19 17:18:51.828 pyfstat.utils.sft INFO    : Loading 1 SFTs from H1...\n"
     ]
    },
    {
     "name": "stderr",
     "output_type": "stream",
     "text": [
      " 33%|███▎      | 1896/5760 [00:28<01:01, 62.87it/s]"
     ]
    },
    {
     "name": "stdout",
     "output_type": "stream",
     "text": [
      "25-08-19 17:18:51.845 pyfstat.utils.sft INFO    : Loading 1 SFTs from H1...\n",
      "25-08-19 17:18:51.860 pyfstat.utils.sft INFO    : Loading 1 SFTs from H1...\n",
      "25-08-19 17:18:51.879 pyfstat.utils.sft INFO    : Loading 1 SFTs from H1...\n",
      "25-08-19 17:18:51.893 pyfstat.utils.sft INFO    : Loading 1 SFTs from H1...\n",
      "25-08-19 17:18:51.912 pyfstat.utils.sft INFO    : Loading 1 SFTs from H1...\n",
      "25-08-19 17:18:51.931 pyfstat.utils.sft INFO    : Loading 1 SFTs from H1...\n",
      "25-08-19 17:18:51.946 pyfstat.utils.sft INFO    : Loading 1 SFTs from H1...\n"
     ]
    },
    {
     "name": "stderr",
     "output_type": "stream",
     "text": [
      " 33%|███▎      | 1903/5760 [00:28<01:02, 61.78it/s]"
     ]
    },
    {
     "name": "stdout",
     "output_type": "stream",
     "text": [
      "25-08-19 17:18:51.959 pyfstat.utils.sft INFO    : Loading 1 SFTs from H1...\n",
      "25-08-19 17:18:51.973 pyfstat.utils.sft INFO    : Loading 1 SFTs from H1...\n",
      "25-08-19 17:18:51.988 pyfstat.utils.sft INFO    : Loading 1 SFTs from H1...\n",
      "25-08-19 17:18:52.005 pyfstat.utils.sft INFO    : Loading 1 SFTs from H1...\n",
      "25-08-19 17:18:52.024 pyfstat.utils.sft INFO    : Loading 1 SFTs from H1...\n",
      "25-08-19 17:18:52.039 pyfstat.utils.sft INFO    : Loading 1 SFTs from H1...\n",
      "25-08-19 17:18:52.057 pyfstat.utils.sft INFO    : Loading 1 SFTs from H1...\n"
     ]
    },
    {
     "name": "stderr",
     "output_type": "stream",
     "text": [
      " 33%|███▎      | 1910/5760 [00:28<01:01, 62.22it/s]"
     ]
    },
    {
     "name": "stdout",
     "output_type": "stream",
     "text": [
      "25-08-19 17:18:52.073 pyfstat.utils.sft INFO    : Loading 1 SFTs from H1...\n",
      "25-08-19 17:18:52.084 pyfstat.utils.sft INFO    : Loading 1 SFTs from H1...\n",
      "25-08-19 17:18:52.099 pyfstat.utils.sft INFO    : Loading 1 SFTs from H1...\n",
      "25-08-19 17:18:52.117 pyfstat.utils.sft INFO    : Loading 1 SFTs from H1...\n",
      "25-08-19 17:18:52.132 pyfstat.utils.sft INFO    : Loading 1 SFTs from H1...\n",
      "25-08-19 17:18:52.151 pyfstat.utils.sft INFO    : Loading 1 SFTs from H1...\n",
      "25-08-19 17:18:52.166 pyfstat.utils.sft INFO    : Loading 1 SFTs from H1...\n"
     ]
    },
    {
     "name": "stderr",
     "output_type": "stream",
     "text": [
      " 33%|███▎      | 1917/5760 [00:28<01:01, 62.35it/s]"
     ]
    },
    {
     "name": "stdout",
     "output_type": "stream",
     "text": [
      "25-08-19 17:18:52.186 pyfstat.utils.sft INFO    : Loading 1 SFTs from H1...\n",
      "25-08-19 17:18:52.204 pyfstat.utils.sft INFO    : Loading 1 SFTs from H1...\n",
      "25-08-19 17:18:52.222 pyfstat.utils.sft INFO    : Loading 1 SFTs from H1...\n",
      "25-08-19 17:18:52.236 pyfstat.utils.sft INFO    : Loading 1 SFTs from H1...\n",
      "25-08-19 17:18:52.251 pyfstat.utils.sft INFO    : Loading 1 SFTs from H1...\n",
      "25-08-19 17:18:52.269 pyfstat.utils.sft INFO    : Loading 1 SFTs from H1...\n",
      "25-08-19 17:18:52.284 pyfstat.utils.sft INFO    : Loading 1 SFTs from H1...\n"
     ]
    },
    {
     "name": "stderr",
     "output_type": "stream",
     "text": [
      " 33%|███▎      | 1924/5760 [00:29<01:02, 61.44it/s]"
     ]
    },
    {
     "name": "stdout",
     "output_type": "stream",
     "text": [
      "25-08-19 17:18:52.302 pyfstat.utils.sft INFO    : Loading 1 SFTs from H1...\n",
      "25-08-19 17:18:52.321 pyfstat.utils.sft INFO    : Loading 1 SFTs from H1...\n",
      "25-08-19 17:18:52.340 pyfstat.utils.sft INFO    : Loading 1 SFTs from H1...\n",
      "25-08-19 17:18:52.354 pyfstat.utils.sft INFO    : Loading 1 SFTs from H1...\n",
      "25-08-19 17:18:52.369 pyfstat.utils.sft INFO    : Loading 1 SFTs from H1...\n",
      "25-08-19 17:18:52.384 pyfstat.utils.sft INFO    : Loading 1 SFTs from H1...\n",
      "25-08-19 17:18:52.399 pyfstat.utils.sft INFO    : Loading 1 SFTs from H1...\n"
     ]
    },
    {
     "name": "stderr",
     "output_type": "stream",
     "text": [
      " 34%|███▎      | 1931/5760 [00:29<01:02, 61.16it/s]"
     ]
    },
    {
     "name": "stdout",
     "output_type": "stream",
     "text": [
      "25-08-19 17:18:52.416 pyfstat.utils.sft INFO    : Loading 1 SFTs from H1...\n",
      "25-08-19 17:18:52.431 pyfstat.utils.sft INFO    : Loading 1 SFTs from H1...\n",
      "25-08-19 17:18:52.442 pyfstat.utils.sft INFO    : Loading 1 SFTs from H1...\n",
      "25-08-19 17:18:52.457 pyfstat.utils.sft INFO    : Loading 1 SFTs from H1...\n",
      "25-08-19 17:18:52.471 pyfstat.utils.sft INFO    : Loading 1 SFTs from H1...\n",
      "25-08-19 17:18:52.490 pyfstat.utils.sft INFO    : Loading 1 SFTs from H1...\n",
      "25-08-19 17:18:52.508 pyfstat.utils.sft INFO    : Loading 1 SFTs from H1...\n"
     ]
    },
    {
     "name": "stderr",
     "output_type": "stream",
     "text": [
      " 34%|███▎      | 1938/5760 [00:29<01:02, 61.09it/s]"
     ]
    },
    {
     "name": "stdout",
     "output_type": "stream",
     "text": [
      "25-08-19 17:18:52.529 pyfstat.utils.sft INFO    : Loading 1 SFTs from H1...\n",
      "25-08-19 17:18:52.544 pyfstat.utils.sft INFO    : Loading 1 SFTs from H1...\n",
      "25-08-19 17:18:52.559 pyfstat.utils.sft INFO    : Loading 1 SFTs from H1...\n",
      "25-08-19 17:18:52.574 pyfstat.utils.sft INFO    : Loading 1 SFTs from H1...\n",
      "25-08-19 17:18:52.584 pyfstat.utils.sft INFO    : Loading 1 SFTs from H1...\n",
      "25-08-19 17:18:52.595 pyfstat.utils.sft INFO    : Loading 1 SFTs from H1...\n",
      "25-08-19 17:18:52.609 pyfstat.utils.sft INFO    : Loading 1 SFTs from H1...\n",
      "25-08-19 17:18:52.627 pyfstat.utils.sft INFO    : Loading 1 SFTs from H1...\n"
     ]
    },
    {
     "name": "stderr",
     "output_type": "stream",
     "text": [
      " 34%|███▍      | 1946/5760 [00:29<00:59, 63.90it/s]"
     ]
    },
    {
     "name": "stdout",
     "output_type": "stream",
     "text": [
      "25-08-19 17:18:52.647 pyfstat.utils.sft INFO    : Loading 1 SFTs from H1...\n",
      "25-08-19 17:18:52.666 pyfstat.utils.sft INFO    : Loading 1 SFTs from H1...\n",
      "25-08-19 17:18:52.681 pyfstat.utils.sft INFO    : Loading 1 SFTs from H1...\n",
      "25-08-19 17:18:52.697 pyfstat.utils.sft INFO    : Loading 1 SFTs from H1...\n",
      "25-08-19 17:18:52.712 pyfstat.utils.sft INFO    : Loading 1 SFTs from H1...\n",
      "25-08-19 17:18:52.723 pyfstat.utils.sft INFO    : Loading 1 SFTs from H1...\n",
      "25-08-19 17:18:52.739 pyfstat.utils.sft INFO    : Loading 1 SFTs from H1...\n"
     ]
    },
    {
     "name": "stderr",
     "output_type": "stream",
     "text": [
      " 34%|███▍      | 1953/5760 [00:29<00:59, 64.16it/s]"
     ]
    },
    {
     "name": "stdout",
     "output_type": "stream",
     "text": [
      "25-08-19 17:18:52.754 pyfstat.utils.sft INFO    : Loading 1 SFTs from H1...\n",
      "25-08-19 17:18:52.769 pyfstat.utils.sft INFO    : Loading 1 SFTs from H1...\n",
      "25-08-19 17:18:52.784 pyfstat.utils.sft INFO    : Loading 1 SFTs from H1...\n",
      "25-08-19 17:18:52.795 pyfstat.utils.sft INFO    : Loading 1 SFTs from H1...\n",
      "25-08-19 17:18:52.806 pyfstat.utils.sft INFO    : Loading 1 SFTs from H1...\n",
      "25-08-19 17:18:52.819 pyfstat.utils.sft INFO    : Loading 1 SFTs from H1...\n",
      "25-08-19 17:18:52.836 pyfstat.utils.sft INFO    : Loading 1 SFTs from H1...\n",
      "25-08-19 17:18:52.850 pyfstat.utils.sft INFO    : Loading 1 SFTs from H1...\n"
     ]
    },
    {
     "name": "stderr",
     "output_type": "stream",
     "text": [
      " 34%|███▍      | 1961/5760 [00:29<00:57, 65.92it/s]"
     ]
    },
    {
     "name": "stdout",
     "output_type": "stream",
     "text": [
      "25-08-19 17:18:52.865 pyfstat.utils.sft INFO    : Loading 1 SFTs from H1...\n",
      "25-08-19 17:18:52.877 pyfstat.utils.sft INFO    : Loading 1 SFTs from H1...\n",
      "25-08-19 17:18:52.891 pyfstat.utils.sft INFO    : Loading 1 SFTs from H1...\n",
      "25-08-19 17:18:52.901 pyfstat.utils.sft INFO    : Loading 1 SFTs from H1...\n",
      "25-08-19 17:18:52.912 pyfstat.utils.sft INFO    : Loading 1 SFTs from H1...\n",
      "25-08-19 17:18:52.926 pyfstat.utils.sft INFO    : Loading 1 SFTs from H1...\n",
      "25-08-19 17:18:52.944 pyfstat.utils.sft INFO    : Loading 1 SFTs from H1...\n",
      "25-08-19 17:18:52.958 pyfstat.utils.sft INFO    : Loading 1 SFTs from H1...\n"
     ]
    },
    {
     "name": "stderr",
     "output_type": "stream",
     "text": [
      " 34%|███▍      | 1969/5760 [00:29<00:55, 68.32it/s]"
     ]
    },
    {
     "name": "stdout",
     "output_type": "stream",
     "text": [
      "25-08-19 17:18:52.976 pyfstat.utils.sft INFO    : Loading 1 SFTs from H1...\n",
      "25-08-19 17:18:52.988 pyfstat.utils.sft INFO    : Loading 1 SFTs from H1...\n",
      "25-08-19 17:18:53.004 pyfstat.utils.sft INFO    : Loading 1 SFTs from H1...\n",
      "25-08-19 17:18:53.023 pyfstat.utils.sft INFO    : Loading 1 SFTs from H1...\n",
      "25-08-19 17:18:53.040 pyfstat.utils.sft INFO    : Loading 1 SFTs from H1...\n",
      "25-08-19 17:18:53.056 pyfstat.utils.sft INFO    : Loading 1 SFTs from H1...\n",
      "25-08-19 17:18:53.073 pyfstat.utils.sft INFO    : Loading 1 SFTs from H1...\n"
     ]
    },
    {
     "name": "stderr",
     "output_type": "stream",
     "text": [
      " 34%|███▍      | 1976/5760 [00:29<00:57, 65.99it/s]"
     ]
    },
    {
     "name": "stdout",
     "output_type": "stream",
     "text": [
      "25-08-19 17:18:53.092 pyfstat.utils.sft INFO    : Loading 1 SFTs from H1...\n",
      "25-08-19 17:18:53.108 pyfstat.utils.sft INFO    : Loading 1 SFTs from H1...\n",
      "25-08-19 17:18:53.127 pyfstat.utils.sft INFO    : Loading 1 SFTs from H1...\n",
      "25-08-19 17:18:53.143 pyfstat.utils.sft INFO    : Loading 1 SFTs from H1...\n",
      "25-08-19 17:18:53.159 pyfstat.utils.sft INFO    : Loading 1 SFTs from H1...\n",
      "25-08-19 17:18:53.175 pyfstat.utils.sft INFO    : Loading 1 SFTs from H1...\n",
      "25-08-19 17:18:53.198 pyfstat.utils.sft INFO    : Loading 1 SFTs from H1...\n"
     ]
    },
    {
     "name": "stderr",
     "output_type": "stream",
     "text": [
      " 34%|███▍      | 1983/5760 [00:29<01:00, 62.37it/s]"
     ]
    },
    {
     "name": "stdout",
     "output_type": "stream",
     "text": [
      "25-08-19 17:18:53.221 pyfstat.utils.sft INFO    : Loading 1 SFTs from H1...\n",
      "25-08-19 17:18:53.237 pyfstat.utils.sft INFO    : Loading 1 SFTs from H1...\n",
      "25-08-19 17:18:53.250 pyfstat.utils.sft INFO    : Loading 1 SFTs from H1...\n",
      "25-08-19 17:18:53.265 pyfstat.utils.sft INFO    : Loading 1 SFTs from H1...\n",
      "25-08-19 17:18:53.277 pyfstat.utils.sft INFO    : Loading 1 SFTs from H1...\n",
      "25-08-19 17:18:53.293 pyfstat.utils.sft INFO    : Loading 1 SFTs from H1...\n",
      "25-08-19 17:18:53.309 pyfstat.utils.sft INFO    : Loading 1 SFTs from H1...\n"
     ]
    },
    {
     "name": "stderr",
     "output_type": "stream",
     "text": [
      " 35%|███▍      | 1990/5760 [00:30<00:59, 63.01it/s]"
     ]
    },
    {
     "name": "stdout",
     "output_type": "stream",
     "text": [
      "25-08-19 17:18:53.324 pyfstat.utils.sft INFO    : Loading 1 SFTs from H1...\n",
      "25-08-19 17:18:53.343 pyfstat.utils.sft INFO    : Loading 1 SFTs from H1...\n",
      "25-08-19 17:18:53.358 pyfstat.utils.sft INFO    : Loading 1 SFTs from H1...\n",
      "25-08-19 17:18:53.373 pyfstat.utils.sft INFO    : Loading 1 SFTs from H1...\n",
      "25-08-19 17:18:53.392 pyfstat.utils.sft INFO    : Loading 1 SFTs from H1...\n",
      "25-08-19 17:18:53.408 pyfstat.utils.sft INFO    : Loading 1 SFTs from H1...\n",
      "25-08-19 17:18:53.424 pyfstat.utils.sft INFO    : Loading 1 SFTs from H1...\n"
     ]
    },
    {
     "name": "stderr",
     "output_type": "stream",
     "text": [
      " 35%|███▍      | 1997/5760 [00:30<00:59, 63.02it/s]"
     ]
    },
    {
     "name": "stdout",
     "output_type": "stream",
     "text": [
      "25-08-19 17:18:53.439 pyfstat.utils.sft INFO    : Loading 1 SFTs from H1...\n",
      "25-08-19 17:18:53.454 pyfstat.utils.sft INFO    : Loading 1 SFTs from H1...\n",
      "25-08-19 17:18:53.472 pyfstat.utils.sft INFO    : Loading 1 SFTs from H1...\n",
      "25-08-19 17:18:53.487 pyfstat.utils.sft INFO    : Loading 1 SFTs from H1...\n",
      "25-08-19 17:18:53.499 pyfstat.utils.sft INFO    : Loading 1 SFTs from H1...\n",
      "25-08-19 17:18:53.512 pyfstat.utils.sft INFO    : Loading 1 SFTs from H1...\n",
      "25-08-19 17:18:53.526 pyfstat.utils.sft INFO    : Loading 1 SFTs from H1...\n"
     ]
    },
    {
     "name": "stderr",
     "output_type": "stream",
     "text": [
      " 35%|███▍      | 2004/5760 [00:30<00:58, 64.54it/s]"
     ]
    },
    {
     "name": "stdout",
     "output_type": "stream",
     "text": [
      "25-08-19 17:18:53.537 pyfstat.utils.sft INFO    : Loading 1 SFTs from H1...\n",
      "25-08-19 17:18:53.551 pyfstat.utils.sft INFO    : Loading 1 SFTs from H1...\n",
      "25-08-19 17:18:53.569 pyfstat.utils.sft INFO    : Loading 1 SFTs from H1...\n",
      "25-08-19 17:18:53.587 pyfstat.utils.sft INFO    : Loading 1 SFTs from H1...\n",
      "25-08-19 17:18:53.602 pyfstat.utils.sft INFO    : Loading 1 SFTs from H1...\n",
      "25-08-19 17:18:53.616 pyfstat.utils.sft INFO    : Loading 1 SFTs from H1...\n",
      "25-08-19 17:18:53.635 pyfstat.utils.sft INFO    : Loading 1 SFTs from H1...\n"
     ]
    },
    {
     "name": "stderr",
     "output_type": "stream",
     "text": [
      " 35%|███▍      | 2011/5760 [00:30<00:58, 63.77it/s]"
     ]
    },
    {
     "name": "stdout",
     "output_type": "stream",
     "text": [
      "25-08-19 17:18:53.654 pyfstat.utils.sft INFO    : Loading 1 SFTs from H1...\n",
      "25-08-19 17:18:53.672 pyfstat.utils.sft INFO    : Loading 1 SFTs from H1...\n",
      "25-08-19 17:18:53.689 pyfstat.utils.sft INFO    : Loading 1 SFTs from H1...\n",
      "25-08-19 17:18:53.707 pyfstat.utils.sft INFO    : Loading 1 SFTs from H1...\n",
      "25-08-19 17:18:53.718 pyfstat.utils.sft INFO    : Loading 1 SFTs from H1...\n",
      "25-08-19 17:18:53.736 pyfstat.utils.sft INFO    : Loading 1 SFTs from H1...\n",
      "25-08-19 17:18:53.751 pyfstat.utils.sft INFO    : Loading 1 SFTs from H1...\n"
     ]
    },
    {
     "name": "stderr",
     "output_type": "stream",
     "text": [
      " 35%|███▌      | 2018/5760 [00:30<00:59, 62.74it/s]"
     ]
    },
    {
     "name": "stdout",
     "output_type": "stream",
     "text": [
      "25-08-19 17:18:53.769 pyfstat.utils.sft INFO    : Loading 1 SFTs from H1...\n",
      "25-08-19 17:18:53.781 pyfstat.utils.sft INFO    : Loading 1 SFTs from H1...\n",
      "25-08-19 17:18:53.797 pyfstat.utils.sft INFO    : Loading 1 SFTs from H1...\n",
      "25-08-19 17:18:53.816 pyfstat.utils.sft INFO    : Loading 1 SFTs from H1...\n",
      "25-08-19 17:18:53.831 pyfstat.utils.sft INFO    : Loading 1 SFTs from H1...\n",
      "25-08-19 17:18:53.846 pyfstat.utils.sft INFO    : Loading 1 SFTs from H1...\n",
      "25-08-19 17:18:53.862 pyfstat.utils.sft INFO    : Loading 1 SFTs from H1...\n"
     ]
    },
    {
     "name": "stderr",
     "output_type": "stream",
     "text": [
      " 35%|███▌      | 2025/5760 [00:30<00:58, 63.39it/s]"
     ]
    },
    {
     "name": "stdout",
     "output_type": "stream",
     "text": [
      "25-08-19 17:18:53.877 pyfstat.utils.sft INFO    : Loading 1 SFTs from H1...\n",
      "25-08-19 17:18:53.892 pyfstat.utils.sft INFO    : Loading 1 SFTs from H1...\n",
      "25-08-19 17:18:53.910 pyfstat.utils.sft INFO    : Loading 1 SFTs from H1...\n",
      "25-08-19 17:18:53.925 pyfstat.utils.sft INFO    : Loading 1 SFTs from H1...\n",
      "25-08-19 17:18:53.944 pyfstat.utils.sft INFO    : Loading 1 SFTs from H1...\n",
      "25-08-19 17:18:53.963 pyfstat.utils.sft INFO    : Loading 1 SFTs from H1...\n",
      "25-08-19 17:18:53.978 pyfstat.utils.sft INFO    : Loading 1 SFTs from H1...\n"
     ]
    },
    {
     "name": "stderr",
     "output_type": "stream",
     "text": [
      " 35%|███▌      | 2032/5760 [00:30<01:00, 61.86it/s]"
     ]
    },
    {
     "name": "stdout",
     "output_type": "stream",
     "text": [
      "25-08-19 17:18:53.997 pyfstat.utils.sft INFO    : Loading 1 SFTs from H1...\n",
      "25-08-19 17:18:54.012 pyfstat.utils.sft INFO    : Loading 1 SFTs from H1...\n",
      "25-08-19 17:18:54.027 pyfstat.utils.sft INFO    : Loading 1 SFTs from H1...\n",
      "25-08-19 17:18:54.043 pyfstat.utils.sft INFO    : Loading 1 SFTs from H1...\n",
      "25-08-19 17:18:54.058 pyfstat.utils.sft INFO    : Loading 1 SFTs from H1...\n",
      "25-08-19 17:18:54.070 pyfstat.utils.sft INFO    : Loading 1 SFTs from H1...\n",
      "25-08-19 17:18:54.085 pyfstat.utils.sft INFO    : Loading 1 SFTs from H1...\n"
     ]
    },
    {
     "name": "stderr",
     "output_type": "stream",
     "text": [
      " 35%|███▌      | 2039/5760 [00:30<00:58, 63.44it/s]"
     ]
    },
    {
     "name": "stdout",
     "output_type": "stream",
     "text": [
      "25-08-19 17:18:54.101 pyfstat.utils.sft INFO    : Loading 1 SFTs from H1...\n",
      "25-08-19 17:18:54.115 pyfstat.utils.sft INFO    : Loading 1 SFTs from H1...\n",
      "25-08-19 17:18:54.138 pyfstat.utils.sft INFO    : Loading 1 SFTs from H1...\n",
      "25-08-19 17:18:54.154 pyfstat.utils.sft INFO    : Loading 1 SFTs from H1...\n",
      "25-08-19 17:18:54.165 pyfstat.utils.sft INFO    : Loading 1 SFTs from H1...\n",
      "25-08-19 17:18:54.180 pyfstat.utils.sft INFO    : Loading 1 SFTs from H1...\n",
      "25-08-19 17:18:54.199 pyfstat.utils.sft INFO    : Loading 1 SFTs from H1...\n"
     ]
    },
    {
     "name": "stderr",
     "output_type": "stream",
     "text": [
      " 36%|███▌      | 2046/5760 [00:30<00:59, 62.36it/s]"
     ]
    },
    {
     "name": "stdout",
     "output_type": "stream",
     "text": [
      "25-08-19 17:18:54.214 pyfstat.utils.sft INFO    : Loading 1 SFTs from H1...\n",
      "25-08-19 17:18:54.228 pyfstat.utils.sft INFO    : Loading 1 SFTs from H1...\n",
      "25-08-19 17:18:54.243 pyfstat.utils.sft INFO    : Loading 1 SFTs from H1...\n",
      "25-08-19 17:18:54.260 pyfstat.utils.sft INFO    : Loading 1 SFTs from H1...\n",
      "25-08-19 17:18:54.278 pyfstat.utils.sft INFO    : Loading 1 SFTs from H1...\n",
      "25-08-19 17:18:54.292 pyfstat.utils.sft INFO    : Loading 1 SFTs from H1...\n",
      "25-08-19 17:18:54.310 pyfstat.utils.sft INFO    : Loading 1 SFTs from H1...\n"
     ]
    },
    {
     "name": "stderr",
     "output_type": "stream",
     "text": [
      " 36%|███▌      | 2053/5760 [00:31<00:58, 63.09it/s]"
     ]
    },
    {
     "name": "stdout",
     "output_type": "stream",
     "text": [
      "25-08-19 17:18:54.325 pyfstat.utils.sft INFO    : Loading 1 SFTs from H1...\n",
      "25-08-19 17:18:54.340 pyfstat.utils.sft INFO    : Loading 1 SFTs from H1...\n",
      "25-08-19 17:18:54.354 pyfstat.utils.sft INFO    : Loading 1 SFTs from H1...\n",
      "25-08-19 17:18:54.372 pyfstat.utils.sft INFO    : Loading 1 SFTs from H1...\n",
      "25-08-19 17:18:54.387 pyfstat.utils.sft INFO    : Loading 1 SFTs from H1...\n",
      "25-08-19 17:18:54.406 pyfstat.utils.sft INFO    : Loading 1 SFTs from H1...\n",
      "25-08-19 17:18:54.427 pyfstat.utils.sft INFO    : Loading 1 SFTs from H1...\n"
     ]
    },
    {
     "name": "stderr",
     "output_type": "stream",
     "text": [
      " 36%|███▌      | 2060/5760 [00:31<00:59, 61.91it/s]"
     ]
    },
    {
     "name": "stdout",
     "output_type": "stream",
     "text": [
      "25-08-19 17:18:54.443 pyfstat.utils.sft INFO    : Loading 1 SFTs from H1...\n",
      "25-08-19 17:18:54.459 pyfstat.utils.sft INFO    : Loading 1 SFTs from H1...\n",
      "25-08-19 17:18:54.474 pyfstat.utils.sft INFO    : Loading 1 SFTs from H1...\n",
      "25-08-19 17:18:54.489 pyfstat.utils.sft INFO    : Loading 1 SFTs from H1...\n",
      "25-08-19 17:18:54.504 pyfstat.utils.sft INFO    : Loading 1 SFTs from H1...\n",
      "25-08-19 17:18:54.519 pyfstat.utils.sft INFO    : Loading 1 SFTs from H1...\n",
      "25-08-19 17:18:54.534 pyfstat.utils.sft INFO    : Loading 1 SFTs from H1...\n"
     ]
    },
    {
     "name": "stderr",
     "output_type": "stream",
     "text": [
      " 36%|███▌      | 2067/5760 [00:31<00:58, 63.09it/s]"
     ]
    },
    {
     "name": "stdout",
     "output_type": "stream",
     "text": [
      "25-08-19 17:18:54.550 pyfstat.utils.sft INFO    : Loading 1 SFTs from H1...\n",
      "25-08-19 17:18:54.565 pyfstat.utils.sft INFO    : Loading 1 SFTs from H1...\n",
      "25-08-19 17:18:54.580 pyfstat.utils.sft INFO    : Loading 1 SFTs from H1...\n",
      "25-08-19 17:18:54.595 pyfstat.utils.sft INFO    : Loading 1 SFTs from H1...\n",
      "25-08-19 17:18:54.610 pyfstat.utils.sft INFO    : Loading 1 SFTs from H1...\n",
      "25-08-19 17:18:54.628 pyfstat.utils.sft INFO    : Loading 1 SFTs from H1...\n",
      "25-08-19 17:18:54.642 pyfstat.utils.sft INFO    : Loading 1 SFTs from H1...\n"
     ]
    },
    {
     "name": "stderr",
     "output_type": "stream",
     "text": [
      " 36%|███▌      | 2074/5760 [00:31<00:57, 63.55it/s]"
     ]
    },
    {
     "name": "stdout",
     "output_type": "stream",
     "text": [
      "25-08-19 17:18:54.654 pyfstat.utils.sft INFO    : Loading 1 SFTs from H1...\n",
      "25-08-19 17:18:54.669 pyfstat.utils.sft INFO    : Loading 1 SFTs from H1...\n",
      "25-08-19 17:18:54.684 pyfstat.utils.sft INFO    : Loading 1 SFTs from H1...\n",
      "25-08-19 17:18:54.699 pyfstat.utils.sft INFO    : Loading 1 SFTs from H1...\n",
      "25-08-19 17:18:54.719 pyfstat.utils.sft INFO    : Loading 1 SFTs from H1...\n",
      "25-08-19 17:18:54.736 pyfstat.utils.sft INFO    : Loading 1 SFTs from H1...\n",
      "25-08-19 17:18:54.755 pyfstat.utils.sft INFO    : Loading 1 SFTs from H1...\n"
     ]
    },
    {
     "name": "stderr",
     "output_type": "stream",
     "text": [
      " 36%|███▌      | 2081/5760 [00:31<00:58, 62.59it/s]"
     ]
    },
    {
     "name": "stdout",
     "output_type": "stream",
     "text": [
      "25-08-19 17:18:54.774 pyfstat.utils.sft INFO    : Loading 1 SFTs from H1...\n",
      "25-08-19 17:18:54.788 pyfstat.utils.sft INFO    : Loading 1 SFTs from H1...\n",
      "25-08-19 17:18:54.799 pyfstat.utils.sft INFO    : Loading 1 SFTs from H1...\n",
      "25-08-19 17:18:54.819 pyfstat.utils.sft INFO    : Loading 1 SFTs from H1...\n",
      "25-08-19 17:18:54.837 pyfstat.utils.sft INFO    : Loading 1 SFTs from H1...\n",
      "25-08-19 17:18:54.855 pyfstat.utils.sft INFO    : Loading 1 SFTs from H1...\n",
      "25-08-19 17:18:54.874 pyfstat.utils.sft INFO    : Loading 1 SFTs from H1...\n"
     ]
    },
    {
     "name": "stderr",
     "output_type": "stream",
     "text": [
      " 36%|███▋      | 2088/5760 [00:31<00:59, 61.71it/s]"
     ]
    },
    {
     "name": "stdout",
     "output_type": "stream",
     "text": [
      "25-08-19 17:18:54.887 pyfstat.utils.sft INFO    : Loading 1 SFTs from H1...\n",
      "25-08-19 17:18:54.901 pyfstat.utils.sft INFO    : Loading 1 SFTs from H1...\n",
      "25-08-19 17:18:54.919 pyfstat.utils.sft INFO    : Loading 1 SFTs from H1...\n",
      "25-08-19 17:18:54.939 pyfstat.utils.sft INFO    : Loading 1 SFTs from H1...\n",
      "25-08-19 17:18:54.953 pyfstat.utils.sft INFO    : Loading 1 SFTs from H1...\n",
      "25-08-19 17:18:54.968 pyfstat.utils.sft INFO    : Loading 1 SFTs from H1...\n",
      "25-08-19 17:18:54.983 pyfstat.utils.sft INFO    : Loading 1 SFTs from H1...\n"
     ]
    },
    {
     "name": "stderr",
     "output_type": "stream",
     "text": [
      " 36%|███▋      | 2095/5760 [00:31<00:59, 61.92it/s]"
     ]
    },
    {
     "name": "stdout",
     "output_type": "stream",
     "text": [
      "25-08-19 17:18:54.999 pyfstat.utils.sft INFO    : Loading 1 SFTs from H1...\n",
      "25-08-19 17:18:55.015 pyfstat.utils.sft INFO    : Loading 1 SFTs from H1...\n",
      "25-08-19 17:18:55.030 pyfstat.utils.sft INFO    : Loading 1 SFTs from H1...\n",
      "25-08-19 17:18:55.044 pyfstat.utils.sft INFO    : Loading 1 SFTs from H1...\n",
      "25-08-19 17:18:55.060 pyfstat.utils.sft INFO    : Loading 1 SFTs from H1...\n",
      "25-08-19 17:18:55.075 pyfstat.utils.sft INFO    : Loading 1 SFTs from H1...\n",
      "25-08-19 17:18:55.091 pyfstat.utils.sft INFO    : Loading 1 SFTs from H1...\n"
     ]
    },
    {
     "name": "stderr",
     "output_type": "stream",
     "text": [
      " 36%|███▋      | 2102/5760 [00:31<00:57, 63.51it/s]"
     ]
    },
    {
     "name": "stdout",
     "output_type": "stream",
     "text": [
      "25-08-19 17:18:55.107 pyfstat.utils.sft INFO    : Loading 1 SFTs from H1...\n",
      "25-08-19 17:18:55.121 pyfstat.utils.sft INFO    : Loading 1 SFTs from H1...\n",
      "25-08-19 17:18:55.132 pyfstat.utils.sft INFO    : Loading 1 SFTs from H1...\n",
      "25-08-19 17:18:55.147 pyfstat.utils.sft INFO    : Loading 1 SFTs from H1...\n",
      "25-08-19 17:18:55.167 pyfstat.utils.sft INFO    : Loading 1 SFTs from H1...\n",
      "25-08-19 17:18:55.185 pyfstat.utils.sft INFO    : Loading 1 SFTs from H1...\n",
      "25-08-19 17:18:55.200 pyfstat.utils.sft INFO    : Loading 1 SFTs from H1...\n"
     ]
    },
    {
     "name": "stderr",
     "output_type": "stream",
     "text": [
      " 37%|███▋      | 2109/5760 [00:31<00:57, 63.03it/s]"
     ]
    },
    {
     "name": "stdout",
     "output_type": "stream",
     "text": [
      "25-08-19 17:18:55.220 pyfstat.utils.sft INFO    : Loading 1 SFTs from H1...\n",
      "25-08-19 17:18:55.235 pyfstat.utils.sft INFO    : Loading 1 SFTs from H1...\n",
      "25-08-19 17:18:55.246 pyfstat.utils.sft INFO    : Loading 1 SFTs from H1...\n",
      "25-08-19 17:18:55.261 pyfstat.utils.sft INFO    : Loading 1 SFTs from H1...\n",
      "25-08-19 17:18:55.279 pyfstat.utils.sft INFO    : Loading 1 SFTs from H1...\n",
      "25-08-19 17:18:55.297 pyfstat.utils.sft INFO    : Loading 1 SFTs from H1...\n",
      "25-08-19 17:18:55.312 pyfstat.utils.sft INFO    : Loading 1 SFTs from H1...\n"
     ]
    },
    {
     "name": "stderr",
     "output_type": "stream",
     "text": [
      " 37%|███▋      | 2116/5760 [00:32<00:57, 63.40it/s]"
     ]
    },
    {
     "name": "stdout",
     "output_type": "stream",
     "text": [
      "25-08-19 17:18:55.329 pyfstat.utils.sft INFO    : Loading 1 SFTs from H1...\n",
      "25-08-19 17:18:55.341 pyfstat.utils.sft INFO    : Loading 1 SFTs from H1...\n",
      "25-08-19 17:18:55.355 pyfstat.utils.sft INFO    : Loading 1 SFTs from H1...\n",
      "25-08-19 17:18:55.367 pyfstat.utils.sft INFO    : Loading 1 SFTs from H1...\n",
      "25-08-19 17:18:55.380 pyfstat.utils.sft INFO    : Loading 1 SFTs from H1...\n",
      "25-08-19 17:18:55.399 pyfstat.utils.sft INFO    : Loading 1 SFTs from H1...\n",
      "25-08-19 17:18:55.417 pyfstat.utils.sft INFO    : Loading 1 SFTs from H1...\n"
     ]
    },
    {
     "name": "stderr",
     "output_type": "stream",
     "text": [
      " 37%|███▋      | 2123/5760 [00:32<00:56, 64.14it/s]"
     ]
    },
    {
     "name": "stdout",
     "output_type": "stream",
     "text": [
      "25-08-19 17:18:55.435 pyfstat.utils.sft INFO    : Loading 1 SFTs from H1...\n",
      "25-08-19 17:18:55.455 pyfstat.utils.sft INFO    : Loading 1 SFTs from H1...\n",
      "25-08-19 17:18:55.471 pyfstat.utils.sft INFO    : Loading 1 SFTs from H1...\n",
      "25-08-19 17:18:55.490 pyfstat.utils.sft INFO    : Loading 1 SFTs from H1...\n",
      "25-08-19 17:18:55.509 pyfstat.utils.sft INFO    : Loading 1 SFTs from H1...\n",
      "25-08-19 17:18:55.524 pyfstat.utils.sft INFO    : Loading 1 SFTs from H1...\n",
      "25-08-19 17:18:55.539 pyfstat.utils.sft INFO    : Loading 1 SFTs from H1...\n"
     ]
    },
    {
     "name": "stderr",
     "output_type": "stream",
     "text": [
      " 37%|███▋      | 2130/5760 [00:32<00:58, 62.23it/s]"
     ]
    },
    {
     "name": "stdout",
     "output_type": "stream",
     "text": [
      "25-08-19 17:18:55.551 pyfstat.utils.sft INFO    : Loading 1 SFTs from H1...\n",
      "25-08-19 17:18:55.567 pyfstat.utils.sft INFO    : Loading 1 SFTs from H1...\n",
      "25-08-19 17:18:55.578 pyfstat.utils.sft INFO    : Loading 1 SFTs from H1...\n",
      "25-08-19 17:18:55.593 pyfstat.utils.sft INFO    : Loading 1 SFTs from H1...\n",
      "25-08-19 17:18:55.605 pyfstat.utils.sft INFO    : Loading 1 SFTs from H1...\n",
      "25-08-19 17:18:55.636 pyfstat.utils.sft INFO    : Loading 1 SFTs from H1...\n",
      "25-08-19 17:18:55.651 pyfstat.utils.sft INFO    : Loading 1 SFTs from H1...\n"
     ]
    },
    {
     "name": "stderr",
     "output_type": "stream",
     "text": [
      " 37%|███▋      | 2137/5760 [00:32<00:58, 62.35it/s]"
     ]
    },
    {
     "name": "stdout",
     "output_type": "stream",
     "text": [
      "25-08-19 17:18:55.666 pyfstat.utils.sft INFO    : Loading 1 SFTs from H1...\n",
      "25-08-19 17:18:55.681 pyfstat.utils.sft INFO    : Loading 1 SFTs from H1...\n",
      "25-08-19 17:18:55.696 pyfstat.utils.sft INFO    : Loading 1 SFTs from H1...\n",
      "25-08-19 17:18:55.711 pyfstat.utils.sft INFO    : Loading 1 SFTs from H1...\n",
      "25-08-19 17:18:55.731 pyfstat.utils.sft INFO    : Loading 1 SFTs from H1...\n",
      "25-08-19 17:18:55.749 pyfstat.utils.sft INFO    : Loading 1 SFTs from H1...\n",
      "25-08-19 17:18:55.768 pyfstat.utils.sft INFO    : Loading 1 SFTs from H1...\n"
     ]
    },
    {
     "name": "stderr",
     "output_type": "stream",
     "text": [
      " 37%|███▋      | 2144/5760 [00:32<00:58, 61.33it/s]"
     ]
    },
    {
     "name": "stdout",
     "output_type": "stream",
     "text": [
      "25-08-19 17:18:55.786 pyfstat.utils.sft INFO    : Loading 1 SFTs from H1...\n",
      "25-08-19 17:18:55.805 pyfstat.utils.sft INFO    : Loading 1 SFTs from H1...\n",
      "25-08-19 17:18:55.823 pyfstat.utils.sft INFO    : Loading 1 SFTs from H1...\n",
      "25-08-19 17:18:55.838 pyfstat.utils.sft INFO    : Loading 1 SFTs from H1...\n",
      "25-08-19 17:18:55.856 pyfstat.utils.sft INFO    : Loading 1 SFTs from H1...\n",
      "25-08-19 17:18:55.874 pyfstat.utils.sft INFO    : Loading 1 SFTs from H1...\n",
      "25-08-19 17:18:55.889 pyfstat.utils.sft INFO    : Loading 1 SFTs from H1...\n"
     ]
    },
    {
     "name": "stderr",
     "output_type": "stream",
     "text": [
      " 37%|███▋      | 2151/5760 [00:32<01:00, 59.66it/s]"
     ]
    },
    {
     "name": "stdout",
     "output_type": "stream",
     "text": [
      "25-08-19 17:18:55.906 pyfstat.utils.sft INFO    : Loading 1 SFTs from H1...\n",
      "25-08-19 17:18:55.921 pyfstat.utils.sft INFO    : Loading 1 SFTs from H1...\n",
      "25-08-19 17:18:55.938 pyfstat.utils.sft INFO    : Loading 1 SFTs from H1...\n",
      "25-08-19 17:18:55.954 pyfstat.utils.sft INFO    : Loading 1 SFTs from H1...\n",
      "25-08-19 17:18:55.969 pyfstat.utils.sft INFO    : Loading 1 SFTs from H1...\n",
      "25-08-19 17:18:55.990 pyfstat.utils.sft INFO    : Loading 1 SFTs from H1...\n"
     ]
    },
    {
     "name": "stderr",
     "output_type": "stream",
     "text": [
      " 37%|███▋      | 2157/5760 [00:32<01:00, 59.60it/s]"
     ]
    },
    {
     "name": "stdout",
     "output_type": "stream",
     "text": [
      "25-08-19 17:18:56.007 pyfstat.utils.sft INFO    : Loading 1 SFTs from H1...\n",
      "25-08-19 17:18:56.024 pyfstat.utils.sft INFO    : Loading 1 SFTs from H1...\n",
      "25-08-19 17:18:56.039 pyfstat.utils.sft INFO    : Loading 1 SFTs from H1...\n",
      "25-08-19 17:18:56.056 pyfstat.utils.sft INFO    : Loading 1 SFTs from H1...\n",
      "25-08-19 17:18:56.072 pyfstat.utils.sft INFO    : Loading 1 SFTs from H1...\n",
      "25-08-19 17:18:56.084 pyfstat.utils.sft INFO    : Loading 1 SFTs from H1...\n",
      "25-08-19 17:18:56.101 pyfstat.utils.sft INFO    : Loading 1 SFTs from H1...\n"
     ]
    },
    {
     "name": "stderr",
     "output_type": "stream",
     "text": [
      " 38%|███▊      | 2164/5760 [00:32<00:58, 61.43it/s]"
     ]
    },
    {
     "name": "stdout",
     "output_type": "stream",
     "text": [
      "25-08-19 17:18:56.116 pyfstat.utils.sft INFO    : Loading 1 SFTs from H1...\n",
      "25-08-19 17:18:56.136 pyfstat.utils.sft INFO    : Loading 1 SFTs from H1...\n",
      "25-08-19 17:18:56.153 pyfstat.utils.sft INFO    : Loading 1 SFTs from H1...\n",
      "25-08-19 17:18:56.167 pyfstat.utils.sft INFO    : Loading 1 SFTs from H1...\n",
      "25-08-19 17:18:56.183 pyfstat.utils.sft INFO    : Loading 1 SFTs from H1...\n",
      "25-08-19 17:18:56.201 pyfstat.utils.sft INFO    : Loading 1 SFTs from H1...\n",
      "25-08-19 17:18:56.216 pyfstat.utils.sft INFO    : Loading 1 SFTs from H1...\n"
     ]
    },
    {
     "name": "stderr",
     "output_type": "stream",
     "text": [
      " 38%|███▊      | 2171/5760 [00:32<00:59, 60.65it/s]"
     ]
    },
    {
     "name": "stdout",
     "output_type": "stream",
     "text": [
      "25-08-19 17:18:56.237 pyfstat.utils.sft INFO    : Loading 1 SFTs from H1...\n",
      "25-08-19 17:18:56.251 pyfstat.utils.sft INFO    : Loading 1 SFTs from H1...\n",
      "25-08-19 17:18:56.268 pyfstat.utils.sft INFO    : Loading 1 SFTs from H1...\n",
      "25-08-19 17:18:56.282 pyfstat.utils.sft INFO    : Loading 1 SFTs from H1...\n",
      "25-08-19 17:18:56.300 pyfstat.utils.sft INFO    : Loading 1 SFTs from H1...\n",
      "25-08-19 17:18:56.319 pyfstat.utils.sft INFO    : Loading 1 SFTs from H1...\n",
      "25-08-19 17:18:56.340 pyfstat.utils.sft INFO    : Loading 1 SFTs from H1...\n"
     ]
    },
    {
     "name": "stderr",
     "output_type": "stream",
     "text": [
      " 38%|███▊      | 2178/5760 [00:33<00:59, 59.89it/s]"
     ]
    },
    {
     "name": "stdout",
     "output_type": "stream",
     "text": [
      "25-08-19 17:18:56.356 pyfstat.utils.sft INFO    : Loading 1 SFTs from H1...\n",
      "25-08-19 17:18:56.370 pyfstat.utils.sft INFO    : Loading 1 SFTs from H1...\n",
      "25-08-19 17:18:56.381 pyfstat.utils.sft INFO    : Loading 1 SFTs from H1...\n",
      "25-08-19 17:18:56.396 pyfstat.utils.sft INFO    : Loading 1 SFTs from H1...\n",
      "25-08-19 17:18:56.409 pyfstat.utils.sft INFO    : Loading 1 SFTs from H1...\n",
      "25-08-19 17:18:56.423 pyfstat.utils.sft INFO    : Loading 1 SFTs from H1...\n",
      "25-08-19 17:18:56.441 pyfstat.utils.sft INFO    : Loading 1 SFTs from H1...\n"
     ]
    },
    {
     "name": "stderr",
     "output_type": "stream",
     "text": [
      " 38%|███▊      | 2185/5760 [00:33<00:57, 62.50it/s]"
     ]
    },
    {
     "name": "stdout",
     "output_type": "stream",
     "text": [
      "25-08-19 17:18:56.457 pyfstat.utils.sft INFO    : Loading 1 SFTs from H1...\n",
      "25-08-19 17:18:56.476 pyfstat.utils.sft INFO    : Loading 1 SFTs from H1...\n",
      "25-08-19 17:18:56.495 pyfstat.utils.sft INFO    : Loading 1 SFTs from H1...\n",
      "25-08-19 17:18:56.513 pyfstat.utils.sft INFO    : Loading 1 SFTs from H1...\n",
      "25-08-19 17:18:56.535 pyfstat.utils.sft INFO    : Loading 1 SFTs from H1...\n",
      "25-08-19 17:18:56.553 pyfstat.utils.sft INFO    : Loading 1 SFTs from H1...\n",
      "25-08-19 17:18:56.570 pyfstat.utils.sft INFO    : Loading 1 SFTs from H1...\n"
     ]
    },
    {
     "name": "stderr",
     "output_type": "stream",
     "text": [
      " 38%|███▊      | 2192/5760 [00:33<00:59, 59.75it/s]"
     ]
    },
    {
     "name": "stdout",
     "output_type": "stream",
     "text": [
      "25-08-19 17:18:56.586 pyfstat.utils.sft INFO    : Loading 1 SFTs from H1...\n",
      "25-08-19 17:18:56.602 pyfstat.utils.sft INFO    : Loading 1 SFTs from H1...\n",
      "25-08-19 17:18:56.618 pyfstat.utils.sft INFO    : Loading 1 SFTs from H1...\n",
      "25-08-19 17:18:56.632 pyfstat.utils.sft INFO    : Loading 1 SFTs from H1...\n",
      "25-08-19 17:18:56.650 pyfstat.utils.sft INFO    : Loading 1 SFTs from H1...\n",
      "25-08-19 17:18:56.662 pyfstat.utils.sft INFO    : Loading 1 SFTs from H1...\n",
      "25-08-19 17:18:56.676 pyfstat.utils.sft INFO    : Loading 1 SFTs from H1...\n"
     ]
    },
    {
     "name": "stderr",
     "output_type": "stream",
     "text": [
      " 38%|███▊      | 2199/5760 [00:33<00:58, 60.90it/s]"
     ]
    },
    {
     "name": "stdout",
     "output_type": "stream",
     "text": [
      "25-08-19 17:18:56.696 pyfstat.utils.sft INFO    : Loading 1 SFTs from H1...\n",
      "25-08-19 17:18:56.707 pyfstat.utils.sft INFO    : Loading 1 SFTs from H1...\n",
      "25-08-19 17:18:56.726 pyfstat.utils.sft INFO    : Loading 1 SFTs from H1...\n",
      "25-08-19 17:18:56.744 pyfstat.utils.sft INFO    : Loading 1 SFTs from H1...\n",
      "25-08-19 17:18:56.759 pyfstat.utils.sft INFO    : Loading 1 SFTs from H1...\n",
      "25-08-19 17:18:56.774 pyfstat.utils.sft INFO    : Loading 1 SFTs from H1...\n",
      "25-08-19 17:18:56.789 pyfstat.utils.sft INFO    : Loading 1 SFTs from H1...\n"
     ]
    },
    {
     "name": "stderr",
     "output_type": "stream",
     "text": [
      " 38%|███▊      | 2206/5760 [00:33<00:57, 61.84it/s]"
     ]
    },
    {
     "name": "stdout",
     "output_type": "stream",
     "text": [
      "25-08-19 17:18:56.805 pyfstat.utils.sft INFO    : Loading 1 SFTs from H1...\n",
      "25-08-19 17:18:56.820 pyfstat.utils.sft INFO    : Loading 1 SFTs from H1...\n",
      "25-08-19 17:18:56.839 pyfstat.utils.sft INFO    : Loading 1 SFTs from H1...\n",
      "25-08-19 17:18:56.858 pyfstat.utils.sft INFO    : Loading 1 SFTs from H1...\n",
      "25-08-19 17:18:56.876 pyfstat.utils.sft INFO    : Loading 1 SFTs from H1...\n",
      "25-08-19 17:18:56.895 pyfstat.utils.sft INFO    : Loading 1 SFTs from H1...\n",
      "25-08-19 17:18:56.909 pyfstat.utils.sft INFO    : Loading 1 SFTs from H1...\n"
     ]
    },
    {
     "name": "stderr",
     "output_type": "stream",
     "text": [
      " 38%|███▊      | 2213/5760 [00:33<00:58, 60.81it/s]"
     ]
    },
    {
     "name": "stdout",
     "output_type": "stream",
     "text": [
      "25-08-19 17:18:56.921 pyfstat.utils.sft INFO    : Loading 1 SFTs from H1...\n",
      "25-08-19 17:18:56.935 pyfstat.utils.sft INFO    : Loading 1 SFTs from H1...\n",
      "25-08-19 17:18:56.945 pyfstat.utils.sft INFO    : Loading 1 SFTs from H1...\n",
      "25-08-19 17:18:56.961 pyfstat.utils.sft INFO    : Loading 1 SFTs from H1...\n",
      "25-08-19 17:18:56.977 pyfstat.utils.sft INFO    : Loading 1 SFTs from H1...\n",
      "25-08-19 17:18:56.993 pyfstat.utils.sft INFO    : Loading 1 SFTs from H1...\n",
      "25-08-19 17:18:57.006 pyfstat.utils.sft INFO    : Loading 1 SFTs from H1...\n",
      "25-08-19 17:18:57.022 pyfstat.utils.sft INFO    : Loading 1 SFTs from H1...\n"
     ]
    },
    {
     "name": "stderr",
     "output_type": "stream",
     "text": [
      " 39%|███▊      | 2221/5760 [00:33<00:55, 63.48it/s]"
     ]
    },
    {
     "name": "stdout",
     "output_type": "stream",
     "text": [
      "25-08-19 17:18:57.039 pyfstat.utils.sft INFO    : Loading 1 SFTs from H1...\n",
      "25-08-19 17:18:57.056 pyfstat.utils.sft INFO    : Loading 1 SFTs from H1...\n",
      "25-08-19 17:18:57.069 pyfstat.utils.sft INFO    : Loading 1 SFTs from H1...\n",
      "25-08-19 17:18:57.088 pyfstat.utils.sft INFO    : Loading 1 SFTs from H1...\n",
      "25-08-19 17:18:57.103 pyfstat.utils.sft INFO    : Loading 1 SFTs from H1...\n",
      "25-08-19 17:18:57.117 pyfstat.utils.sft INFO    : Loading 1 SFTs from H1...\n",
      "25-08-19 17:18:57.132 pyfstat.utils.sft INFO    : Loading 1 SFTs from H1...\n"
     ]
    },
    {
     "name": "stderr",
     "output_type": "stream",
     "text": [
      " 39%|███▊      | 2228/5760 [00:33<00:55, 63.13it/s]"
     ]
    },
    {
     "name": "stdout",
     "output_type": "stream",
     "text": [
      "25-08-19 17:18:57.151 pyfstat.utils.sft INFO    : Loading 1 SFTs from H1...\n",
      "25-08-19 17:18:57.170 pyfstat.utils.sft INFO    : Loading 1 SFTs from H1...\n",
      "25-08-19 17:18:57.183 pyfstat.utils.sft INFO    : Loading 1 SFTs from H1...\n",
      "25-08-19 17:18:57.200 pyfstat.utils.sft INFO    : Loading 1 SFTs from H1...\n",
      "25-08-19 17:18:57.222 pyfstat.utils.sft INFO    : Loading 1 SFTs from H1...\n",
      "25-08-19 17:18:57.239 pyfstat.utils.sft INFO    : Loading 1 SFTs from H1...\n",
      "25-08-19 17:18:57.262 pyfstat.utils.sft INFO    : Loading 1 SFTs from H1...\n"
     ]
    },
    {
     "name": "stderr",
     "output_type": "stream",
     "text": [
      " 39%|███▉      | 2235/5760 [00:34<00:58, 59.89it/s]"
     ]
    },
    {
     "name": "stdout",
     "output_type": "stream",
     "text": [
      "25-08-19 17:18:57.283 pyfstat.utils.sft INFO    : Loading 1 SFTs from H1...\n",
      "25-08-19 17:18:57.302 pyfstat.utils.sft INFO    : Loading 1 SFTs from H1...\n",
      "25-08-19 17:18:57.323 pyfstat.utils.sft INFO    : Loading 1 SFTs from H1...\n",
      "25-08-19 17:18:57.339 pyfstat.utils.sft INFO    : Loading 1 SFTs from H1...\n",
      "25-08-19 17:18:57.354 pyfstat.utils.sft INFO    : Loading 1 SFTs from H1...\n",
      "25-08-19 17:18:57.369 pyfstat.utils.sft INFO    : Loading 1 SFTs from H1...\n",
      "25-08-19 17:18:57.385 pyfstat.utils.sft INFO    : Loading 1 SFTs from H1...\n"
     ]
    },
    {
     "name": "stderr",
     "output_type": "stream",
     "text": [
      " 39%|███▉      | 2242/5760 [00:34<00:58, 59.71it/s]"
     ]
    },
    {
     "name": "stdout",
     "output_type": "stream",
     "text": [
      "25-08-19 17:18:57.398 pyfstat.utils.sft INFO    : Loading 1 SFTs from H1...\n",
      "25-08-19 17:18:57.412 pyfstat.utils.sft INFO    : Loading 1 SFTs from H1...\n",
      "25-08-19 17:18:57.434 pyfstat.utils.sft INFO    : Loading 1 SFTs from H1...\n",
      "25-08-19 17:18:57.457 pyfstat.utils.sft INFO    : Loading 1 SFTs from H1...\n",
      "25-08-19 17:18:57.474 pyfstat.utils.sft INFO    : Loading 1 SFTs from H1...\n",
      "25-08-19 17:18:57.491 pyfstat.utils.sft INFO    : Loading 1 SFTs from H1...\n"
     ]
    },
    {
     "name": "stderr",
     "output_type": "stream",
     "text": [
      " 39%|███▉      | 2248/5760 [00:34<01:00, 58.21it/s]"
     ]
    },
    {
     "name": "stdout",
     "output_type": "stream",
     "text": [
      "25-08-19 17:18:57.512 pyfstat.utils.sft INFO    : Loading 1 SFTs from H1...\n",
      "25-08-19 17:18:57.528 pyfstat.utils.sft INFO    : Loading 1 SFTs from H1...\n",
      "25-08-19 17:18:57.544 pyfstat.utils.sft INFO    : Loading 1 SFTs from H1...\n",
      "25-08-19 17:18:57.562 pyfstat.utils.sft INFO    : Loading 1 SFTs from H1...\n",
      "25-08-19 17:18:57.581 pyfstat.utils.sft INFO    : Loading 1 SFTs from H1...\n",
      "25-08-19 17:18:57.595 pyfstat.utils.sft INFO    : Loading 1 SFTs from H1...\n"
     ]
    },
    {
     "name": "stderr",
     "output_type": "stream",
     "text": [
      " 39%|███▉      | 2254/5760 [00:34<00:59, 58.65it/s]"
     ]
    },
    {
     "name": "stdout",
     "output_type": "stream",
     "text": [
      "25-08-19 17:18:57.611 pyfstat.utils.sft INFO    : Loading 1 SFTs from H1...\n",
      "25-08-19 17:18:57.630 pyfstat.utils.sft INFO    : Loading 1 SFTs from H1...\n",
      "25-08-19 17:18:57.648 pyfstat.utils.sft INFO    : Loading 1 SFTs from H1...\n",
      "25-08-19 17:18:57.663 pyfstat.utils.sft INFO    : Loading 1 SFTs from H1...\n",
      "25-08-19 17:18:57.682 pyfstat.utils.sft INFO    : Loading 1 SFTs from H1...\n",
      "25-08-19 17:18:57.698 pyfstat.utils.sft INFO    : Loading 1 SFTs from H1...\n"
     ]
    },
    {
     "name": "stderr",
     "output_type": "stream",
     "text": [
      " 39%|███▉      | 2260/5760 [00:34<00:59, 58.49it/s]"
     ]
    },
    {
     "name": "stdout",
     "output_type": "stream",
     "text": [
      "25-08-19 17:18:57.712 pyfstat.utils.sft INFO    : Loading 1 SFTs from H1...\n",
      "25-08-19 17:18:57.724 pyfstat.utils.sft INFO    : Loading 1 SFTs from H1...\n",
      "25-08-19 17:18:57.740 pyfstat.utils.sft INFO    : Loading 1 SFTs from H1...\n",
      "25-08-19 17:18:57.754 pyfstat.utils.sft INFO    : Loading 1 SFTs from H1...\n",
      "25-08-19 17:18:57.769 pyfstat.utils.sft INFO    : Loading 1 SFTs from H1...\n",
      "25-08-19 17:18:57.785 pyfstat.utils.sft INFO    : Loading 1 SFTs from H1...\n",
      "25-08-19 17:18:57.807 pyfstat.utils.sft INFO    : Loading 1 SFTs from H1...\n"
     ]
    },
    {
     "name": "stderr",
     "output_type": "stream",
     "text": [
      " 39%|███▉      | 2267/5760 [00:34<00:58, 60.05it/s]"
     ]
    },
    {
     "name": "stdout",
     "output_type": "stream",
     "text": [
      "25-08-19 17:18:57.824 pyfstat.utils.sft INFO    : Loading 1 SFTs from H1...\n",
      "25-08-19 17:18:57.845 pyfstat.utils.sft INFO    : Loading 1 SFTs from H1...\n",
      "25-08-19 17:18:57.861 pyfstat.utils.sft INFO    : Loading 1 SFTs from H1...\n",
      "25-08-19 17:18:57.872 pyfstat.utils.sft INFO    : Loading 1 SFTs from H1...\n",
      "25-08-19 17:18:57.884 pyfstat.utils.sft INFO    : Loading 1 SFTs from H1...\n",
      "25-08-19 17:18:57.904 pyfstat.utils.sft INFO    : Loading 1 SFTs from H1...\n",
      "25-08-19 17:18:57.919 pyfstat.utils.sft INFO    : Loading 1 SFTs from H1...\n"
     ]
    },
    {
     "name": "stderr",
     "output_type": "stream",
     "text": [
      " 39%|███▉      | 2274/5760 [00:34<00:57, 60.92it/s]"
     ]
    },
    {
     "name": "stdout",
     "output_type": "stream",
     "text": [
      "25-08-19 17:18:57.937 pyfstat.utils.sft INFO    : Loading 1 SFTs from H1...\n",
      "25-08-19 17:18:57.958 pyfstat.utils.sft INFO    : Loading 1 SFTs from H1...\n",
      "25-08-19 17:18:57.974 pyfstat.utils.sft INFO    : Loading 1 SFTs from H1...\n",
      "25-08-19 17:18:57.989 pyfstat.utils.sft INFO    : Loading 1 SFTs from H1...\n",
      "25-08-19 17:18:58.008 pyfstat.utils.sft INFO    : Loading 1 SFTs from H1...\n",
      "25-08-19 17:18:58.024 pyfstat.utils.sft INFO    : Loading 1 SFTs from H1...\n",
      "25-08-19 17:18:58.044 pyfstat.utils.sft INFO    : Loading 1 SFTs from H1...\n"
     ]
    },
    {
     "name": "stderr",
     "output_type": "stream",
     "text": [
      " 40%|███▉      | 2281/5760 [00:34<00:58, 59.50it/s]"
     ]
    },
    {
     "name": "stdout",
     "output_type": "stream",
     "text": [
      "25-08-19 17:18:58.060 pyfstat.utils.sft INFO    : Loading 1 SFTs from H1...\n",
      "25-08-19 17:18:58.075 pyfstat.utils.sft INFO    : Loading 1 SFTs from H1...\n",
      "25-08-19 17:18:58.090 pyfstat.utils.sft INFO    : Loading 1 SFTs from H1...\n",
      "25-08-19 17:18:58.105 pyfstat.utils.sft INFO    : Loading 1 SFTs from H1...\n",
      "25-08-19 17:18:58.124 pyfstat.utils.sft INFO    : Loading 1 SFTs from H1...\n",
      "25-08-19 17:18:58.139 pyfstat.utils.sft INFO    : Loading 1 SFTs from H1...\n",
      "25-08-19 17:18:58.151 pyfstat.utils.sft INFO    : Loading 1 SFTs from H1...\n"
     ]
    },
    {
     "name": "stderr",
     "output_type": "stream",
     "text": [
      " 40%|███▉      | 2288/5760 [00:34<00:56, 61.15it/s]"
     ]
    },
    {
     "name": "stdout",
     "output_type": "stream",
     "text": [
      "25-08-19 17:18:58.165 pyfstat.utils.sft INFO    : Loading 1 SFTs from H1...\n",
      "25-08-19 17:18:58.177 pyfstat.utils.sft INFO    : Loading 1 SFTs from H1...\n",
      "25-08-19 17:18:58.188 pyfstat.utils.sft INFO    : Loading 1 SFTs from H1...\n",
      "25-08-19 17:18:58.203 pyfstat.utils.sft INFO    : Loading 1 SFTs from H1...\n",
      "25-08-19 17:18:58.218 pyfstat.utils.sft INFO    : Loading 1 SFTs from H1...\n",
      "25-08-19 17:18:58.236 pyfstat.utils.sft INFO    : Loading 1 SFTs from H1...\n",
      "25-08-19 17:18:58.255 pyfstat.utils.sft INFO    : Loading 1 SFTs from H1...\n"
     ]
    },
    {
     "name": "stderr",
     "output_type": "stream",
     "text": [
      " 40%|███▉      | 2295/5760 [00:34<00:54, 63.02it/s]"
     ]
    },
    {
     "name": "stdout",
     "output_type": "stream",
     "text": [
      "25-08-19 17:18:58.270 pyfstat.utils.sft INFO    : Loading 1 SFTs from H1...\n",
      "25-08-19 17:18:58.286 pyfstat.utils.sft INFO    : Loading 1 SFTs from H1...\n",
      "25-08-19 17:18:58.301 pyfstat.utils.sft INFO    : Loading 1 SFTs from H1...\n",
      "25-08-19 17:18:58.321 pyfstat.utils.sft INFO    : Loading 1 SFTs from H1...\n",
      "25-08-19 17:18:58.336 pyfstat.utils.sft INFO    : Loading 1 SFTs from H1...\n",
      "25-08-19 17:18:58.355 pyfstat.utils.sft INFO    : Loading 1 SFTs from H1...\n",
      "25-08-19 17:18:58.374 pyfstat.utils.sft INFO    : Loading 1 SFTs from H1...\n"
     ]
    },
    {
     "name": "stderr",
     "output_type": "stream",
     "text": [
      " 40%|███▉      | 2302/5760 [00:35<00:56, 61.59it/s]"
     ]
    },
    {
     "name": "stdout",
     "output_type": "stream",
     "text": [
      "25-08-19 17:18:58.386 pyfstat.utils.sft INFO    : Loading 1 SFTs from H1...\n",
      "25-08-19 17:18:58.397 pyfstat.utils.sft INFO    : Loading 1 SFTs from H1...\n",
      "25-08-19 17:18:58.409 pyfstat.utils.sft INFO    : Loading 1 SFTs from H1...\n",
      "25-08-19 17:18:58.421 pyfstat.utils.sft INFO    : Loading 1 SFTs from H1...\n",
      "25-08-19 17:18:58.437 pyfstat.utils.sft INFO    : Loading 1 SFTs from H1...\n",
      "25-08-19 17:18:58.451 pyfstat.utils.sft INFO    : Loading 1 SFTs from H1...\n",
      "25-08-19 17:18:58.466 pyfstat.utils.sft INFO    : Loading 1 SFTs from H1...\n",
      "25-08-19 17:18:58.485 pyfstat.utils.sft INFO    : Loading 1 SFTs from H1...\n"
     ]
    },
    {
     "name": "stderr",
     "output_type": "stream",
     "text": [
      " 40%|████      | 2310/5760 [00:35<00:53, 64.80it/s]"
     ]
    },
    {
     "name": "stdout",
     "output_type": "stream",
     "text": [
      "25-08-19 17:18:58.501 pyfstat.utils.sft INFO    : Loading 1 SFTs from H1...\n",
      "25-08-19 17:18:58.515 pyfstat.utils.sft INFO    : Loading 1 SFTs from H1...\n",
      "25-08-19 17:18:58.534 pyfstat.utils.sft INFO    : Loading 1 SFTs from H1...\n",
      "25-08-19 17:18:58.548 pyfstat.utils.sft INFO    : Loading 1 SFTs from H1...\n",
      "25-08-19 17:18:58.562 pyfstat.utils.sft INFO    : Loading 1 SFTs from H1...\n",
      "25-08-19 17:18:58.580 pyfstat.utils.sft INFO    : Loading 1 SFTs from H1...\n",
      "25-08-19 17:18:58.599 pyfstat.utils.sft INFO    : Loading 1 SFTs from H1...\n"
     ]
    },
    {
     "name": "stderr",
     "output_type": "stream",
     "text": [
      " 40%|████      | 2317/5760 [00:35<00:53, 63.81it/s]"
     ]
    },
    {
     "name": "stdout",
     "output_type": "stream",
     "text": [
      "25-08-19 17:18:58.614 pyfstat.utils.sft INFO    : Loading 1 SFTs from H1...\n",
      "25-08-19 17:18:58.631 pyfstat.utils.sft INFO    : Loading 1 SFTs from H1...\n",
      "25-08-19 17:18:58.648 pyfstat.utils.sft INFO    : Loading 1 SFTs from H1...\n",
      "25-08-19 17:18:58.663 pyfstat.utils.sft INFO    : Loading 1 SFTs from H1...\n",
      "25-08-19 17:18:58.681 pyfstat.utils.sft INFO    : Loading 1 SFTs from H1...\n",
      "25-08-19 17:18:58.696 pyfstat.utils.sft INFO    : Loading 1 SFTs from H1...\n",
      "25-08-19 17:18:58.710 pyfstat.utils.sft INFO    : Loading 1 SFTs from H1...\n"
     ]
    },
    {
     "name": "stderr",
     "output_type": "stream",
     "text": [
      " 40%|████      | 2324/5760 [00:35<00:54, 62.88it/s]"
     ]
    },
    {
     "name": "stdout",
     "output_type": "stream",
     "text": [
      "25-08-19 17:18:58.729 pyfstat.utils.sft INFO    : Loading 1 SFTs from H1...\n",
      "25-08-19 17:18:58.750 pyfstat.utils.sft INFO    : Loading 1 SFTs from H1...\n",
      "25-08-19 17:18:58.768 pyfstat.utils.sft INFO    : Loading 1 SFTs from H1...\n",
      "25-08-19 17:18:58.783 pyfstat.utils.sft INFO    : Loading 1 SFTs from H1...\n",
      "25-08-19 17:18:58.807 pyfstat.utils.sft INFO    : Loading 1 SFTs from H1...\n",
      "25-08-19 17:18:58.822 pyfstat.utils.sft INFO    : Loading 1 SFTs from H1...\n",
      "25-08-19 17:18:58.838 pyfstat.utils.sft INFO    : Loading 1 SFTs from H1...\n"
     ]
    },
    {
     "name": "stderr",
     "output_type": "stream",
     "text": [
      " 40%|████      | 2331/5760 [00:35<00:56, 60.18it/s]"
     ]
    },
    {
     "name": "stdout",
     "output_type": "stream",
     "text": [
      "25-08-19 17:18:58.859 pyfstat.utils.sft INFO    : Loading 1 SFTs from H1...\n",
      "25-08-19 17:18:58.871 pyfstat.utils.sft INFO    : Loading 1 SFTs from H1...\n",
      "25-08-19 17:18:58.886 pyfstat.utils.sft INFO    : Loading 1 SFTs from H1...\n",
      "25-08-19 17:18:58.904 pyfstat.utils.sft INFO    : Loading 1 SFTs from H1...\n",
      "25-08-19 17:18:58.923 pyfstat.utils.sft INFO    : Loading 1 SFTs from H1...\n",
      "25-08-19 17:18:58.934 pyfstat.utils.sft INFO    : Loading 1 SFTs from H1...\n",
      "25-08-19 17:18:58.946 pyfstat.utils.sft INFO    : Loading 1 SFTs from H1...\n"
     ]
    },
    {
     "name": "stderr",
     "output_type": "stream",
     "text": [
      " 41%|████      | 2338/5760 [00:35<00:55, 62.14it/s]"
     ]
    },
    {
     "name": "stdout",
     "output_type": "stream",
     "text": [
      "25-08-19 17:18:58.962 pyfstat.utils.sft INFO    : Loading 1 SFTs from H1...\n",
      "25-08-19 17:18:58.974 pyfstat.utils.sft INFO    : Loading 1 SFTs from H1...\n",
      "25-08-19 17:18:58.990 pyfstat.utils.sft INFO    : Loading 1 SFTs from H1...\n",
      "25-08-19 17:18:59.005 pyfstat.utils.sft INFO    : Loading 1 SFTs from H1...\n",
      "25-08-19 17:18:59.020 pyfstat.utils.sft INFO    : Loading 1 SFTs from H1...\n",
      "25-08-19 17:18:59.036 pyfstat.utils.sft INFO    : Loading 1 SFTs from H1...\n",
      "25-08-19 17:18:59.051 pyfstat.utils.sft INFO    : Loading 1 SFTs from H1...\n"
     ]
    },
    {
     "name": "stderr",
     "output_type": "stream",
     "text": [
      " 41%|████      | 2345/5760 [00:35<00:54, 62.53it/s]"
     ]
    },
    {
     "name": "stdout",
     "output_type": "stream",
     "text": [
      "25-08-19 17:18:59.072 pyfstat.utils.sft INFO    : Loading 1 SFTs from H1...\n",
      "25-08-19 17:18:59.086 pyfstat.utils.sft INFO    : Loading 1 SFTs from H1...\n",
      "25-08-19 17:18:59.102 pyfstat.utils.sft INFO    : Loading 1 SFTs from H1...\n",
      "25-08-19 17:18:59.113 pyfstat.utils.sft INFO    : Loading 1 SFTs from H1...\n",
      "25-08-19 17:18:59.130 pyfstat.utils.sft INFO    : Loading 1 SFTs from H1...\n",
      "25-08-19 17:18:59.145 pyfstat.utils.sft INFO    : Loading 1 SFTs from H1...\n",
      "25-08-19 17:18:59.157 pyfstat.utils.sft INFO    : Loading 1 SFTs from H1...\n"
     ]
    },
    {
     "name": "stderr",
     "output_type": "stream",
     "text": [
      " 41%|████      | 2352/5760 [00:35<00:52, 64.48it/s]"
     ]
    },
    {
     "name": "stdout",
     "output_type": "stream",
     "text": [
      "25-08-19 17:18:59.173 pyfstat.utils.sft INFO    : Loading 1 SFTs from H1...\n",
      "25-08-19 17:18:59.192 pyfstat.utils.sft INFO    : Loading 1 SFTs from H1...\n",
      "25-08-19 17:18:59.213 pyfstat.utils.sft INFO    : Loading 1 SFTs from H1...\n",
      "25-08-19 17:18:59.231 pyfstat.utils.sft INFO    : Loading 1 SFTs from H1...\n",
      "25-08-19 17:18:59.249 pyfstat.utils.sft INFO    : Loading 1 SFTs from H1...\n",
      "25-08-19 17:18:59.267 pyfstat.utils.sft INFO    : Loading 1 SFTs from H1...\n",
      "25-08-19 17:18:59.281 pyfstat.utils.sft INFO    : Loading 1 SFTs from H1...\n"
     ]
    },
    {
     "name": "stderr",
     "output_type": "stream",
     "text": [
      " 41%|████      | 2359/5760 [00:36<00:55, 61.24it/s]"
     ]
    },
    {
     "name": "stdout",
     "output_type": "stream",
     "text": [
      "25-08-19 17:18:59.300 pyfstat.utils.sft INFO    : Loading 1 SFTs from H1...\n",
      "25-08-19 17:18:59.317 pyfstat.utils.sft INFO    : Loading 1 SFTs from H1...\n",
      "25-08-19 17:18:59.332 pyfstat.utils.sft INFO    : Loading 1 SFTs from H1...\n",
      "25-08-19 17:18:59.347 pyfstat.utils.sft INFO    : Loading 1 SFTs from H1...\n",
      "25-08-19 17:18:59.362 pyfstat.utils.sft INFO    : Loading 1 SFTs from H1...\n",
      "25-08-19 17:18:59.380 pyfstat.utils.sft INFO    : Loading 1 SFTs from H1...\n",
      "25-08-19 17:18:59.391 pyfstat.utils.sft INFO    : Loading 1 SFTs from H1...\n"
     ]
    },
    {
     "name": "stderr",
     "output_type": "stream",
     "text": [
      " 41%|████      | 2366/5760 [00:36<00:54, 62.38it/s]"
     ]
    },
    {
     "name": "stdout",
     "output_type": "stream",
     "text": [
      "25-08-19 17:18:59.408 pyfstat.utils.sft INFO    : Loading 1 SFTs from H1...\n",
      "25-08-19 17:18:59.426 pyfstat.utils.sft INFO    : Loading 1 SFTs from H1...\n",
      "25-08-19 17:18:59.444 pyfstat.utils.sft INFO    : Loading 1 SFTs from H1...\n",
      "25-08-19 17:18:59.458 pyfstat.utils.sft INFO    : Loading 1 SFTs from H1...\n",
      "25-08-19 17:18:59.472 pyfstat.utils.sft INFO    : Loading 1 SFTs from H1...\n",
      "25-08-19 17:18:59.491 pyfstat.utils.sft INFO    : Loading 1 SFTs from H1...\n",
      "25-08-19 17:18:59.502 pyfstat.utils.sft INFO    : Loading 1 SFTs from H1...\n"
     ]
    },
    {
     "name": "stderr",
     "output_type": "stream",
     "text": [
      " 41%|████      | 2373/5760 [00:36<00:53, 62.77it/s]"
     ]
    },
    {
     "name": "stdout",
     "output_type": "stream",
     "text": [
      "25-08-19 17:18:59.517 pyfstat.utils.sft INFO    : Loading 1 SFTs from H1...\n",
      "25-08-19 17:18:59.529 pyfstat.utils.sft INFO    : Loading 1 SFTs from H1...\n",
      "25-08-19 17:18:59.544 pyfstat.utils.sft INFO    : Loading 1 SFTs from H1...\n",
      "25-08-19 17:18:59.561 pyfstat.utils.sft INFO    : Loading 1 SFTs from H1...\n",
      "25-08-19 17:18:59.579 pyfstat.utils.sft INFO    : Loading 1 SFTs from H1...\n",
      "25-08-19 17:18:59.596 pyfstat.utils.sft INFO    : Loading 1 SFTs from H1...\n",
      "25-08-19 17:18:59.614 pyfstat.utils.sft INFO    : Loading 1 SFTs from H1...\n"
     ]
    },
    {
     "name": "stderr",
     "output_type": "stream",
     "text": [
      " 41%|████▏     | 2380/5760 [00:36<00:54, 61.81it/s]"
     ]
    },
    {
     "name": "stdout",
     "output_type": "stream",
     "text": [
      "25-08-19 17:18:59.635 pyfstat.utils.sft INFO    : Loading 1 SFTs from H1...\n",
      "25-08-19 17:18:59.653 pyfstat.utils.sft INFO    : Loading 1 SFTs from H1...\n",
      "25-08-19 17:18:59.667 pyfstat.utils.sft INFO    : Loading 1 SFTs from H1...\n",
      "25-08-19 17:18:59.687 pyfstat.utils.sft INFO    : Loading 1 SFTs from H1...\n",
      "25-08-19 17:18:59.698 pyfstat.utils.sft INFO    : Loading 1 SFTs from H1...\n",
      "25-08-19 17:18:59.711 pyfstat.utils.sft INFO    : Loading 1 SFTs from H1...\n",
      "25-08-19 17:18:59.723 pyfstat.utils.sft INFO    : Loading 1 SFTs from H1...\n"
     ]
    },
    {
     "name": "stderr",
     "output_type": "stream",
     "text": [
      " 41%|████▏     | 2387/5760 [00:36<00:53, 63.32it/s]"
     ]
    },
    {
     "name": "stdout",
     "output_type": "stream",
     "text": [
      "25-08-19 17:18:59.735 pyfstat.utils.sft INFO    : Loading 1 SFTs from H1...\n",
      "25-08-19 17:18:59.750 pyfstat.utils.sft INFO    : Loading 1 SFTs from H1...\n",
      "25-08-19 17:18:59.764 pyfstat.utils.sft INFO    : Loading 1 SFTs from H1...\n",
      "25-08-19 17:18:59.783 pyfstat.utils.sft INFO    : Loading 1 SFTs from H1...\n",
      "25-08-19 17:18:59.797 pyfstat.utils.sft INFO    : Loading 1 SFTs from H1...\n",
      "25-08-19 17:18:59.814 pyfstat.utils.sft INFO    : Loading 1 SFTs from H1...\n",
      "25-08-19 17:18:59.828 pyfstat.utils.sft INFO    : Loading 1 SFTs from H1...\n"
     ]
    },
    {
     "name": "stderr",
     "output_type": "stream",
     "text": [
      " 42%|████▏     | 2394/5760 [00:36<00:52, 63.74it/s]"
     ]
    },
    {
     "name": "stdout",
     "output_type": "stream",
     "text": [
      "25-08-19 17:18:59.847 pyfstat.utils.sft INFO    : Loading 1 SFTs from H1...\n",
      "25-08-19 17:18:59.862 pyfstat.utils.sft INFO    : Loading 1 SFTs from H1...\n",
      "25-08-19 17:18:59.878 pyfstat.utils.sft INFO    : Loading 1 SFTs from H1...\n",
      "25-08-19 17:18:59.893 pyfstat.utils.sft INFO    : Loading 1 SFTs from H1...\n",
      "25-08-19 17:18:59.913 pyfstat.utils.sft INFO    : Loading 1 SFTs from H1...\n",
      "25-08-19 17:18:59.931 pyfstat.utils.sft INFO    : Loading 1 SFTs from H1...\n",
      "25-08-19 17:18:59.947 pyfstat.utils.sft INFO    : Loading 1 SFTs from H1...\n"
     ]
    },
    {
     "name": "stderr",
     "output_type": "stream",
     "text": [
      " 42%|████▏     | 2401/5760 [00:36<00:53, 62.64it/s]"
     ]
    },
    {
     "name": "stdout",
     "output_type": "stream",
     "text": [
      "25-08-19 17:18:59.963 pyfstat.utils.sft INFO    : Loading 1 SFTs from H1...\n",
      "25-08-19 17:18:59.977 pyfstat.utils.sft INFO    : Loading 1 SFTs from H1...\n",
      "25-08-19 17:18:59.991 pyfstat.utils.sft INFO    : Loading 1 SFTs from H1...\n",
      "25-08-19 17:19:00.005 pyfstat.utils.sft INFO    : Loading 1 SFTs from H1...\n",
      "25-08-19 17:19:00.022 pyfstat.utils.sft INFO    : Loading 1 SFTs from H1...\n",
      "25-08-19 17:19:00.038 pyfstat.utils.sft INFO    : Loading 1 SFTs from H1...\n",
      "25-08-19 17:19:00.054 pyfstat.utils.sft INFO    : Loading 1 SFTs from H1...\n"
     ]
    },
    {
     "name": "stderr",
     "output_type": "stream",
     "text": [
      " 42%|████▏     | 2408/5760 [00:36<00:52, 63.42it/s]"
     ]
    },
    {
     "name": "stdout",
     "output_type": "stream",
     "text": [
      "25-08-19 17:19:00.070 pyfstat.utils.sft INFO    : Loading 1 SFTs from H1...\n",
      "25-08-19 17:19:00.086 pyfstat.utils.sft INFO    : Loading 1 SFTs from H1...\n",
      "25-08-19 17:19:00.101 pyfstat.utils.sft INFO    : Loading 1 SFTs from H1...\n",
      "25-08-19 17:19:00.119 pyfstat.utils.sft INFO    : Loading 1 SFTs from H1...\n",
      "25-08-19 17:19:00.133 pyfstat.utils.sft INFO    : Loading 1 SFTs from H1...\n",
      "25-08-19 17:19:00.144 pyfstat.utils.sft INFO    : Loading 1 SFTs from H1...\n",
      "25-08-19 17:19:00.158 pyfstat.utils.sft INFO    : Loading 1 SFTs from H1...\n"
     ]
    },
    {
     "name": "stderr",
     "output_type": "stream",
     "text": [
      " 42%|████▏     | 2415/5760 [00:36<00:51, 64.64it/s]"
     ]
    },
    {
     "name": "stdout",
     "output_type": "stream",
     "text": [
      "25-08-19 17:19:00.174 pyfstat.utils.sft INFO    : Loading 1 SFTs from H1...\n",
      "25-08-19 17:19:00.193 pyfstat.utils.sft INFO    : Loading 1 SFTs from H1...\n",
      "25-08-19 17:19:00.204 pyfstat.utils.sft INFO    : Loading 1 SFTs from H1...\n",
      "25-08-19 17:19:00.223 pyfstat.utils.sft INFO    : Loading 1 SFTs from H1...\n",
      "25-08-19 17:19:00.235 pyfstat.utils.sft INFO    : Loading 1 SFTs from H1...\n",
      "25-08-19 17:19:00.250 pyfstat.utils.sft INFO    : Loading 1 SFTs from H1...\n",
      "25-08-19 17:19:00.265 pyfstat.utils.sft INFO    : Loading 1 SFTs from H1...\n"
     ]
    },
    {
     "name": "stderr",
     "output_type": "stream",
     "text": [
      " 42%|████▏     | 2422/5760 [00:37<00:51, 64.20it/s]"
     ]
    },
    {
     "name": "stdout",
     "output_type": "stream",
     "text": [
      "25-08-19 17:19:00.285 pyfstat.utils.sft INFO    : Loading 1 SFTs from H1...\n",
      "25-08-19 17:19:00.305 pyfstat.utils.sft INFO    : Loading 1 SFTs from H1...\n",
      "25-08-19 17:19:00.327 pyfstat.utils.sft INFO    : Loading 1 SFTs from H1...\n",
      "25-08-19 17:19:00.346 pyfstat.utils.sft INFO    : Loading 1 SFTs from H1...\n",
      "25-08-19 17:19:00.365 pyfstat.utils.sft INFO    : Loading 1 SFTs from H1...\n",
      "25-08-19 17:19:00.380 pyfstat.utils.sft INFO    : Loading 1 SFTs from H1...\n",
      "25-08-19 17:19:00.392 pyfstat.utils.sft INFO    : Loading 1 SFTs from H1...\n"
     ]
    },
    {
     "name": "stderr",
     "output_type": "stream",
     "text": [
      " 42%|████▏     | 2429/5760 [00:37<00:54, 61.65it/s]"
     ]
    },
    {
     "name": "stdout",
     "output_type": "stream",
     "text": [
      "25-08-19 17:19:00.405 pyfstat.utils.sft INFO    : Loading 1 SFTs from H1...\n",
      "25-08-19 17:19:00.421 pyfstat.utils.sft INFO    : Loading 1 SFTs from H1...\n",
      "25-08-19 17:19:00.434 pyfstat.utils.sft INFO    : Loading 1 SFTs from H1...\n",
      "25-08-19 17:19:00.450 pyfstat.utils.sft INFO    : Loading 1 SFTs from H1...\n",
      "25-08-19 17:19:00.468 pyfstat.utils.sft INFO    : Loading 1 SFTs from H1...\n",
      "25-08-19 17:19:00.486 pyfstat.utils.sft INFO    : Loading 1 SFTs from H1...\n",
      "25-08-19 17:19:00.505 pyfstat.utils.sft INFO    : Loading 1 SFTs from H1...\n"
     ]
    },
    {
     "name": "stderr",
     "output_type": "stream",
     "text": [
      " 42%|████▏     | 2436/5760 [00:37<00:53, 61.87it/s]"
     ]
    },
    {
     "name": "stdout",
     "output_type": "stream",
     "text": [
      "25-08-19 17:19:00.522 pyfstat.utils.sft INFO    : Loading 1 SFTs from H1...\n",
      "25-08-19 17:19:00.540 pyfstat.utils.sft INFO    : Loading 1 SFTs from H1...\n",
      "25-08-19 17:19:00.559 pyfstat.utils.sft INFO    : Loading 1 SFTs from H1...\n",
      "25-08-19 17:19:00.578 pyfstat.utils.sft INFO    : Loading 1 SFTs from H1...\n",
      "25-08-19 17:19:00.592 pyfstat.utils.sft INFO    : Loading 1 SFTs from H1...\n",
      "25-08-19 17:19:00.608 pyfstat.utils.sft INFO    : Loading 1 SFTs from H1...\n",
      "25-08-19 17:19:00.619 pyfstat.utils.sft INFO    : Loading 1 SFTs from H1...\n"
     ]
    },
    {
     "name": "stderr",
     "output_type": "stream",
     "text": [
      " 42%|████▏     | 2443/5760 [00:37<00:53, 61.83it/s]"
     ]
    },
    {
     "name": "stdout",
     "output_type": "stream",
     "text": [
      "25-08-19 17:19:00.630 pyfstat.utils.sft INFO    : Loading 1 SFTs from H1...\n",
      "25-08-19 17:19:00.645 pyfstat.utils.sft INFO    : Loading 1 SFTs from H1...\n",
      "25-08-19 17:19:00.663 pyfstat.utils.sft INFO    : Loading 1 SFTs from H1...\n",
      "25-08-19 17:19:00.678 pyfstat.utils.sft INFO    : Loading 1 SFTs from H1...\n",
      "25-08-19 17:19:00.692 pyfstat.utils.sft INFO    : Loading 1 SFTs from H1...\n",
      "25-08-19 17:19:00.711 pyfstat.utils.sft INFO    : Loading 1 SFTs from H1...\n",
      "25-08-19 17:19:00.729 pyfstat.utils.sft INFO    : Loading 1 SFTs from H1...\n"
     ]
    },
    {
     "name": "stderr",
     "output_type": "stream",
     "text": [
      " 43%|████▎     | 2450/5760 [00:37<00:53, 62.09it/s]"
     ]
    },
    {
     "name": "stdout",
     "output_type": "stream",
     "text": [
      "25-08-19 17:19:00.745 pyfstat.utils.sft INFO    : Loading 1 SFTs from H1...\n",
      "25-08-19 17:19:00.763 pyfstat.utils.sft INFO    : Loading 1 SFTs from H1...\n",
      "25-08-19 17:19:00.781 pyfstat.utils.sft INFO    : Loading 1 SFTs from H1...\n",
      "25-08-19 17:19:00.793 pyfstat.utils.sft INFO    : Loading 1 SFTs from H1...\n",
      "25-08-19 17:19:00.804 pyfstat.utils.sft INFO    : Loading 1 SFTs from H1...\n",
      "25-08-19 17:19:00.817 pyfstat.utils.sft INFO    : Loading 1 SFTs from H1...\n",
      "25-08-19 17:19:00.836 pyfstat.utils.sft INFO    : Loading 1 SFTs from H1...\n"
     ]
    },
    {
     "name": "stderr",
     "output_type": "stream",
     "text": [
      " 43%|████▎     | 2457/5760 [00:37<00:52, 63.09it/s]"
     ]
    },
    {
     "name": "stdout",
     "output_type": "stream",
     "text": [
      "25-08-19 17:19:00.853 pyfstat.utils.sft INFO    : Loading 1 SFTs from H1...\n",
      "25-08-19 17:19:00.873 pyfstat.utils.sft INFO    : Loading 1 SFTs from H1...\n",
      "25-08-19 17:19:00.889 pyfstat.utils.sft INFO    : Loading 1 SFTs from H1...\n",
      "25-08-19 17:19:00.904 pyfstat.utils.sft INFO    : Loading 1 SFTs from H1...\n",
      "25-08-19 17:19:00.923 pyfstat.utils.sft INFO    : Loading 1 SFTs from H1...\n",
      "25-08-19 17:19:00.939 pyfstat.utils.sft INFO    : Loading 1 SFTs from H1...\n",
      "25-08-19 17:19:00.957 pyfstat.utils.sft INFO    : Loading 1 SFTs from H1...\n"
     ]
    },
    {
     "name": "stderr",
     "output_type": "stream",
     "text": [
      " 43%|████▎     | 2464/5760 [00:37<00:54, 60.84it/s]"
     ]
    },
    {
     "name": "stdout",
     "output_type": "stream",
     "text": [
      "25-08-19 17:19:00.974 pyfstat.utils.sft INFO    : Loading 1 SFTs from H1...\n",
      "25-08-19 17:19:00.990 pyfstat.utils.sft INFO    : Loading 1 SFTs from H1...\n",
      "25-08-19 17:19:01.008 pyfstat.utils.sft INFO    : Loading 1 SFTs from H1...\n",
      "25-08-19 17:19:01.024 pyfstat.utils.sft INFO    : Loading 1 SFTs from H1...\n",
      "25-08-19 17:19:01.039 pyfstat.utils.sft INFO    : Loading 1 SFTs from H1...\n",
      "25-08-19 17:19:01.061 pyfstat.utils.sft INFO    : Loading 1 SFTs from H1...\n",
      "25-08-19 17:19:01.076 pyfstat.utils.sft INFO    : Loading 1 SFTs from H1...\n"
     ]
    },
    {
     "name": "stderr",
     "output_type": "stream",
     "text": [
      " 43%|████▎     | 2471/5760 [00:37<00:54, 60.28it/s]"
     ]
    },
    {
     "name": "stdout",
     "output_type": "stream",
     "text": [
      "25-08-19 17:19:01.096 pyfstat.utils.sft INFO    : Loading 1 SFTs from H1...\n",
      "25-08-19 17:19:01.112 pyfstat.utils.sft INFO    : Loading 1 SFTs from H1...\n",
      "25-08-19 17:19:01.123 pyfstat.utils.sft INFO    : Loading 1 SFTs from H1...\n",
      "25-08-19 17:19:01.135 pyfstat.utils.sft INFO    : Loading 1 SFTs from H1...\n",
      "25-08-19 17:19:01.150 pyfstat.utils.sft INFO    : Loading 1 SFTs from H1...\n",
      "25-08-19 17:19:01.169 pyfstat.utils.sft INFO    : Loading 1 SFTs from H1...\n",
      "25-08-19 17:19:01.184 pyfstat.utils.sft INFO    : Loading 1 SFTs from H1...\n"
     ]
    },
    {
     "name": "stderr",
     "output_type": "stream",
     "text": [
      " 43%|████▎     | 2478/5760 [00:37<00:52, 62.17it/s]"
     ]
    },
    {
     "name": "stdout",
     "output_type": "stream",
     "text": [
      "25-08-19 17:19:01.200 pyfstat.utils.sft INFO    : Loading 1 SFTs from H1...\n",
      "25-08-19 17:19:01.217 pyfstat.utils.sft INFO    : Loading 1 SFTs from H1...\n",
      "25-08-19 17:19:01.232 pyfstat.utils.sft INFO    : Loading 1 SFTs from H1...\n",
      "25-08-19 17:19:01.247 pyfstat.utils.sft INFO    : Loading 1 SFTs from H1...\n",
      "25-08-19 17:19:01.265 pyfstat.utils.sft INFO    : Loading 1 SFTs from H1...\n",
      "25-08-19 17:19:01.278 pyfstat.utils.sft INFO    : Loading 1 SFTs from H1...\n",
      "25-08-19 17:19:01.289 pyfstat.utils.sft INFO    : Loading 1 SFTs from H1...\n"
     ]
    },
    {
     "name": "stderr",
     "output_type": "stream",
     "text": [
      " 43%|████▎     | 2485/5760 [00:38<00:51, 63.50it/s]"
     ]
    },
    {
     "name": "stdout",
     "output_type": "stream",
     "text": [
      "25-08-19 17:19:01.305 pyfstat.utils.sft INFO    : Loading 1 SFTs from H1...\n",
      "25-08-19 17:19:01.324 pyfstat.utils.sft INFO    : Loading 1 SFTs from H1...\n",
      "25-08-19 17:19:01.335 pyfstat.utils.sft INFO    : Loading 1 SFTs from H1...\n",
      "25-08-19 17:19:01.351 pyfstat.utils.sft INFO    : Loading 1 SFTs from H1...\n",
      "25-08-19 17:19:01.362 pyfstat.utils.sft INFO    : Loading 1 SFTs from H1...\n",
      "25-08-19 17:19:01.377 pyfstat.utils.sft INFO    : Loading 1 SFTs from H1...\n",
      "25-08-19 17:19:01.392 pyfstat.utils.sft INFO    : Loading 1 SFTs from H1...\n"
     ]
    },
    {
     "name": "stderr",
     "output_type": "stream",
     "text": [
      " 43%|████▎     | 2492/5760 [00:38<00:50, 64.72it/s]"
     ]
    },
    {
     "name": "stdout",
     "output_type": "stream",
     "text": [
      "25-08-19 17:19:01.408 pyfstat.utils.sft INFO    : Loading 1 SFTs from H1...\n",
      "25-08-19 17:19:01.428 pyfstat.utils.sft INFO    : Loading 1 SFTs from H1...\n",
      "25-08-19 17:19:01.444 pyfstat.utils.sft INFO    : Loading 1 SFTs from H1...\n",
      "25-08-19 17:19:01.460 pyfstat.utils.sft INFO    : Loading 1 SFTs from H1...\n",
      "25-08-19 17:19:01.475 pyfstat.utils.sft INFO    : Loading 1 SFTs from H1...\n",
      "25-08-19 17:19:01.494 pyfstat.utils.sft INFO    : Loading 1 SFTs from H1...\n",
      "25-08-19 17:19:01.513 pyfstat.utils.sft INFO    : Loading 1 SFTs from H1...\n"
     ]
    },
    {
     "name": "stderr",
     "output_type": "stream",
     "text": [
      " 43%|████▎     | 2499/5760 [00:38<00:52, 61.82it/s]"
     ]
    },
    {
     "name": "stdout",
     "output_type": "stream",
     "text": [
      "25-08-19 17:19:01.530 pyfstat.utils.sft INFO    : Loading 1 SFTs from H1...\n",
      "25-08-19 17:19:01.549 pyfstat.utils.sft INFO    : Loading 1 SFTs from H1...\n",
      "25-08-19 17:19:01.568 pyfstat.utils.sft INFO    : Loading 1 SFTs from H1...\n",
      "25-08-19 17:19:01.582 pyfstat.utils.sft INFO    : Loading 1 SFTs from H1...\n",
      "25-08-19 17:19:01.596 pyfstat.utils.sft INFO    : Loading 1 SFTs from H1...\n",
      "25-08-19 17:19:01.610 pyfstat.utils.sft INFO    : Loading 1 SFTs from H1...\n",
      "25-08-19 17:19:01.621 pyfstat.utils.sft INFO    : Loading 1 SFTs from H1...\n"
     ]
    },
    {
     "name": "stderr",
     "output_type": "stream",
     "text": [
      " 44%|████▎     | 2506/5760 [00:38<00:51, 63.52it/s]"
     ]
    },
    {
     "name": "stdout",
     "output_type": "stream",
     "text": [
      "25-08-19 17:19:01.635 pyfstat.utils.sft INFO    : Loading 1 SFTs from H1...\n",
      "25-08-19 17:19:01.656 pyfstat.utils.sft INFO    : Loading 1 SFTs from H1...\n",
      "25-08-19 17:19:01.668 pyfstat.utils.sft INFO    : Loading 1 SFTs from H1...\n",
      "25-08-19 17:19:01.682 pyfstat.utils.sft INFO    : Loading 1 SFTs from H1...\n",
      "25-08-19 17:19:01.697 pyfstat.utils.sft INFO    : Loading 1 SFTs from H1...\n",
      "25-08-19 17:19:01.716 pyfstat.utils.sft INFO    : Loading 1 SFTs from H1...\n",
      "25-08-19 17:19:01.733 pyfstat.utils.sft INFO    : Loading 1 SFTs from H1...\n"
     ]
    },
    {
     "name": "stderr",
     "output_type": "stream",
     "text": [
      " 44%|████▎     | 2513/5760 [00:38<00:51, 63.05it/s]"
     ]
    },
    {
     "name": "stdout",
     "output_type": "stream",
     "text": [
      "25-08-19 17:19:01.749 pyfstat.utils.sft INFO    : Loading 1 SFTs from H1...\n",
      "25-08-19 17:19:01.768 pyfstat.utils.sft INFO    : Loading 1 SFTs from H1...\n",
      "25-08-19 17:19:01.782 pyfstat.utils.sft INFO    : Loading 1 SFTs from H1...\n",
      "25-08-19 17:19:01.801 pyfstat.utils.sft INFO    : Loading 1 SFTs from H1...\n",
      "25-08-19 17:19:01.817 pyfstat.utils.sft INFO    : Loading 1 SFTs from H1...\n",
      "25-08-19 17:19:01.855 pyfstat.utils.sft INFO    : Loading 1 SFTs from H1...\n",
      "25-08-19 17:19:01.878 pyfstat.utils.sft INFO    : Loading 1 SFTs from H1...\n"
     ]
    },
    {
     "name": "stderr",
     "output_type": "stream",
     "text": [
      " 44%|████▍     | 2520/5760 [00:38<00:56, 57.79it/s]"
     ]
    },
    {
     "name": "stdout",
     "output_type": "stream",
     "text": [
      "25-08-19 17:19:01.894 pyfstat.utils.sft INFO    : Loading 1 SFTs from H1...\n",
      "25-08-19 17:19:01.909 pyfstat.utils.sft INFO    : Loading 1 SFTs from H1...\n",
      "25-08-19 17:19:01.928 pyfstat.utils.sft INFO    : Loading 1 SFTs from H1...\n",
      "25-08-19 17:19:01.947 pyfstat.utils.sft INFO    : Loading 1 SFTs from H1...\n",
      "25-08-19 17:19:01.966 pyfstat.utils.sft INFO    : Loading 1 SFTs from H1...\n",
      "25-08-19 17:19:01.982 pyfstat.utils.sft INFO    : Loading 1 SFTs from H1...\n"
     ]
    },
    {
     "name": "stderr",
     "output_type": "stream",
     "text": [
      " 44%|████▍     | 2526/5760 [00:38<00:55, 57.77it/s]"
     ]
    },
    {
     "name": "stdout",
     "output_type": "stream",
     "text": [
      "25-08-19 17:19:01.998 pyfstat.utils.sft INFO    : Loading 1 SFTs from H1...\n",
      "25-08-19 17:19:02.014 pyfstat.utils.sft INFO    : Loading 1 SFTs from H1...\n",
      "25-08-19 17:19:02.029 pyfstat.utils.sft INFO    : Loading 1 SFTs from H1...\n",
      "25-08-19 17:19:02.045 pyfstat.utils.sft INFO    : Loading 1 SFTs from H1...\n",
      "25-08-19 17:19:02.062 pyfstat.utils.sft INFO    : Loading 1 SFTs from H1...\n",
      "25-08-19 17:19:02.084 pyfstat.utils.sft INFO    : Loading 1 SFTs from H1...\n"
     ]
    },
    {
     "name": "stderr",
     "output_type": "stream",
     "text": [
      " 44%|████▍     | 2532/5760 [00:38<00:56, 57.45it/s]"
     ]
    },
    {
     "name": "stdout",
     "output_type": "stream",
     "text": [
      "25-08-19 17:19:02.105 pyfstat.utils.sft INFO    : Loading 1 SFTs from H1...\n",
      "25-08-19 17:19:02.120 pyfstat.utils.sft INFO    : Loading 1 SFTs from H1...\n",
      "25-08-19 17:19:02.137 pyfstat.utils.sft INFO    : Loading 1 SFTs from H1...\n",
      "25-08-19 17:19:02.156 pyfstat.utils.sft INFO    : Loading 1 SFTs from H1...\n",
      "25-08-19 17:19:02.172 pyfstat.utils.sft INFO    : Loading 1 SFTs from H1...\n",
      "25-08-19 17:19:02.187 pyfstat.utils.sft INFO    : Loading 1 SFTs from H1...\n"
     ]
    },
    {
     "name": "stderr",
     "output_type": "stream",
     "text": [
      " 44%|████▍     | 2538/5760 [00:38<00:55, 57.78it/s]"
     ]
    },
    {
     "name": "stdout",
     "output_type": "stream",
     "text": [
      "25-08-19 17:19:02.203 pyfstat.utils.sft INFO    : Loading 1 SFTs from H1...\n",
      "25-08-19 17:19:02.219 pyfstat.utils.sft INFO    : Loading 1 SFTs from H1...\n",
      "25-08-19 17:19:02.235 pyfstat.utils.sft INFO    : Loading 1 SFTs from H1...\n",
      "25-08-19 17:19:02.251 pyfstat.utils.sft INFO    : Loading 1 SFTs from H1...\n",
      "25-08-19 17:19:02.264 pyfstat.utils.sft INFO    : Loading 1 SFTs from H1...\n",
      "25-08-19 17:19:02.279 pyfstat.utils.sft INFO    : Loading 1 SFTs from H1...\n",
      "25-08-19 17:19:02.294 pyfstat.utils.sft INFO    : Loading 1 SFTs from H1...\n"
     ]
    },
    {
     "name": "stderr",
     "output_type": "stream",
     "text": [
      " 44%|████▍     | 2545/5760 [00:39<00:53, 60.60it/s]"
     ]
    },
    {
     "name": "stdout",
     "output_type": "stream",
     "text": [
      "25-08-19 17:19:02.310 pyfstat.utils.sft INFO    : Loading 1 SFTs from H1...\n",
      "25-08-19 17:19:02.321 pyfstat.utils.sft INFO    : Loading 1 SFTs from H1...\n",
      "25-08-19 17:19:02.336 pyfstat.utils.sft INFO    : Loading 1 SFTs from H1...\n",
      "25-08-19 17:19:02.355 pyfstat.utils.sft INFO    : Loading 1 SFTs from H1...\n",
      "25-08-19 17:19:02.370 pyfstat.utils.sft INFO    : Loading 1 SFTs from H1...\n",
      "25-08-19 17:19:02.389 pyfstat.utils.sft INFO    : Loading 1 SFTs from H1...\n",
      "25-08-19 17:19:02.409 pyfstat.utils.sft INFO    : Loading 1 SFTs from H1...\n"
     ]
    },
    {
     "name": "stderr",
     "output_type": "stream",
     "text": [
      " 44%|████▍     | 2552/5760 [00:39<00:53, 60.18it/s]"
     ]
    },
    {
     "name": "stdout",
     "output_type": "stream",
     "text": [
      "25-08-19 17:19:02.428 pyfstat.utils.sft INFO    : Loading 1 SFTs from H1...\n",
      "25-08-19 17:19:02.445 pyfstat.utils.sft INFO    : Loading 1 SFTs from H1...\n",
      "25-08-19 17:19:02.461 pyfstat.utils.sft INFO    : Loading 1 SFTs from H1...\n",
      "25-08-19 17:19:02.481 pyfstat.utils.sft INFO    : Loading 1 SFTs from H1...\n",
      "25-08-19 17:19:02.500 pyfstat.utils.sft INFO    : Loading 1 SFTs from H1...\n",
      "25-08-19 17:19:02.523 pyfstat.utils.sft INFO    : Loading 1 SFTs from H1...\n",
      "25-08-19 17:19:02.542 pyfstat.utils.sft INFO    : Loading 1 SFTs from H1...\n"
     ]
    },
    {
     "name": "stderr",
     "output_type": "stream",
     "text": [
      " 44%|████▍     | 2559/5760 [00:39<00:55, 57.47it/s]"
     ]
    },
    {
     "name": "stdout",
     "output_type": "stream",
     "text": [
      "25-08-19 17:19:02.562 pyfstat.utils.sft INFO    : Loading 1 SFTs from H1...\n",
      "25-08-19 17:19:02.578 pyfstat.utils.sft INFO    : Loading 1 SFTs from H1...\n",
      "25-08-19 17:19:02.600 pyfstat.utils.sft INFO    : Loading 1 SFTs from H1...\n",
      "25-08-19 17:19:02.616 pyfstat.utils.sft INFO    : Loading 1 SFTs from H1...\n",
      "25-08-19 17:19:02.635 pyfstat.utils.sft INFO    : Loading 1 SFTs from H1...\n",
      "25-08-19 17:19:02.650 pyfstat.utils.sft INFO    : Loading 1 SFTs from H1...\n"
     ]
    },
    {
     "name": "stderr",
     "output_type": "stream",
     "text": [
      " 45%|████▍     | 2565/5760 [00:39<00:55, 57.51it/s]"
     ]
    },
    {
     "name": "stdout",
     "output_type": "stream",
     "text": [
      "25-08-19 17:19:02.667 pyfstat.utils.sft INFO    : Loading 1 SFTs from H1...\n",
      "25-08-19 17:19:02.686 pyfstat.utils.sft INFO    : Loading 1 SFTs from H1...\n",
      "25-08-19 17:19:02.701 pyfstat.utils.sft INFO    : Loading 1 SFTs from H1...\n",
      "25-08-19 17:19:02.713 pyfstat.utils.sft INFO    : Loading 1 SFTs from H1...\n",
      "25-08-19 17:19:02.725 pyfstat.utils.sft INFO    : Loading 1 SFTs from H1...\n",
      "25-08-19 17:19:02.740 pyfstat.utils.sft INFO    : Loading 1 SFTs from H1...\n",
      "25-08-19 17:19:02.756 pyfstat.utils.sft INFO    : Loading 1 SFTs from H1...\n"
     ]
    },
    {
     "name": "stderr",
     "output_type": "stream",
     "text": [
      " 45%|████▍     | 2572/5760 [00:39<00:53, 59.48it/s]"
     ]
    },
    {
     "name": "stdout",
     "output_type": "stream",
     "text": [
      "25-08-19 17:19:02.775 pyfstat.utils.sft INFO    : Loading 1 SFTs from H1...\n",
      "25-08-19 17:19:02.791 pyfstat.utils.sft INFO    : Loading 1 SFTs from H1...\n",
      "25-08-19 17:19:02.806 pyfstat.utils.sft INFO    : Loading 1 SFTs from H1...\n",
      "25-08-19 17:19:02.826 pyfstat.utils.sft INFO    : Loading 1 SFTs from H1...\n",
      "25-08-19 17:19:02.842 pyfstat.utils.sft INFO    : Loading 1 SFTs from H1...\n",
      "25-08-19 17:19:02.861 pyfstat.utils.sft INFO    : Loading 1 SFTs from H1...\n"
     ]
    },
    {
     "name": "stderr",
     "output_type": "stream",
     "text": [
      " 45%|████▍     | 2578/5760 [00:39<00:53, 59.11it/s]"
     ]
    },
    {
     "name": "stdout",
     "output_type": "stream",
     "text": [
      "25-08-19 17:19:02.875 pyfstat.utils.sft INFO    : Loading 1 SFTs from H1...\n",
      "25-08-19 17:19:02.890 pyfstat.utils.sft INFO    : Loading 1 SFTs from H1...\n",
      "25-08-19 17:19:02.902 pyfstat.utils.sft INFO    : Loading 1 SFTs from H1...\n",
      "25-08-19 17:19:02.917 pyfstat.utils.sft INFO    : Loading 1 SFTs from H1...\n",
      "25-08-19 17:19:02.929 pyfstat.utils.sft INFO    : Loading 1 SFTs from H1...\n",
      "25-08-19 17:19:02.947 pyfstat.utils.sft INFO    : Loading 1 SFTs from H1...\n",
      "25-08-19 17:19:02.965 pyfstat.utils.sft INFO    : Loading 1 SFTs from H1...\n"
     ]
    },
    {
     "name": "stderr",
     "output_type": "stream",
     "text": [
      " 45%|████▍     | 2585/5760 [00:39<00:51, 61.80it/s]"
     ]
    },
    {
     "name": "stdout",
     "output_type": "stream",
     "text": [
      "25-08-19 17:19:02.980 pyfstat.utils.sft INFO    : Loading 1 SFTs from H1...\n",
      "25-08-19 17:19:02.995 pyfstat.utils.sft INFO    : Loading 1 SFTs from H1...\n",
      "25-08-19 17:19:03.006 pyfstat.utils.sft INFO    : Loading 1 SFTs from H1...\n",
      "25-08-19 17:19:03.017 pyfstat.utils.sft INFO    : Loading 1 SFTs from H1...\n",
      "25-08-19 17:19:03.031 pyfstat.utils.sft INFO    : Loading 1 SFTs from H1...\n",
      "25-08-19 17:19:03.049 pyfstat.utils.sft INFO    : Loading 1 SFTs from H1...\n",
      "25-08-19 17:19:03.063 pyfstat.utils.sft INFO    : Loading 1 SFTs from H1...\n"
     ]
    },
    {
     "name": "stderr",
     "output_type": "stream",
     "text": [
      " 45%|████▌     | 2592/5760 [00:39<00:49, 63.88it/s]"
     ]
    },
    {
     "name": "stdout",
     "output_type": "stream",
     "text": [
      "25-08-19 17:19:03.083 pyfstat.utils.sft INFO    : Loading 1 SFTs from H1...\n",
      "25-08-19 17:19:03.098 pyfstat.utils.sft INFO    : Loading 1 SFTs from H1...\n",
      "25-08-19 17:19:03.116 pyfstat.utils.sft INFO    : Loading 1 SFTs from H1...\n",
      "25-08-19 17:19:03.128 pyfstat.utils.sft INFO    : Loading 1 SFTs from H1...\n",
      "25-08-19 17:19:03.139 pyfstat.utils.sft INFO    : Loading 1 SFTs from H1...\n",
      "25-08-19 17:19:03.155 pyfstat.utils.sft INFO    : Loading 1 SFTs from H1...\n",
      "25-08-19 17:19:03.173 pyfstat.utils.sft INFO    : Loading 1 SFTs from H1...\n"
     ]
    },
    {
     "name": "stderr",
     "output_type": "stream",
     "text": [
      " 45%|████▌     | 2599/5760 [00:39<00:49, 63.57it/s]"
     ]
    },
    {
     "name": "stdout",
     "output_type": "stream",
     "text": [
      "25-08-19 17:19:03.190 pyfstat.utils.sft INFO    : Loading 1 SFTs from H1...\n",
      "25-08-19 17:19:03.206 pyfstat.utils.sft INFO    : Loading 1 SFTs from H1...\n",
      "25-08-19 17:19:03.221 pyfstat.utils.sft INFO    : Loading 1 SFTs from H1...\n",
      "25-08-19 17:19:03.237 pyfstat.utils.sft INFO    : Loading 1 SFTs from H1...\n",
      "25-08-19 17:19:03.253 pyfstat.utils.sft INFO    : Loading 1 SFTs from H1...\n",
      "25-08-19 17:19:03.269 pyfstat.utils.sft INFO    : Loading 1 SFTs from H1...\n",
      "25-08-19 17:19:03.287 pyfstat.utils.sft INFO    : Loading 1 SFTs from H1...\n"
     ]
    },
    {
     "name": "stderr",
     "output_type": "stream",
     "text": [
      " 45%|████▌     | 2606/5760 [00:40<00:49, 63.57it/s]"
     ]
    },
    {
     "name": "stdout",
     "output_type": "stream",
     "text": [
      "25-08-19 17:19:03.303 pyfstat.utils.sft INFO    : Loading 1 SFTs from H1...\n",
      "25-08-19 17:19:03.318 pyfstat.utils.sft INFO    : Loading 1 SFTs from H1...\n",
      "25-08-19 17:19:03.330 pyfstat.utils.sft INFO    : Loading 1 SFTs from H1...\n",
      "25-08-19 17:19:03.345 pyfstat.utils.sft INFO    : Loading 1 SFTs from H1...\n",
      "25-08-19 17:19:03.363 pyfstat.utils.sft INFO    : Loading 1 SFTs from H1...\n",
      "25-08-19 17:19:03.378 pyfstat.utils.sft INFO    : Loading 1 SFTs from H1...\n",
      "25-08-19 17:19:03.398 pyfstat.utils.sft INFO    : Loading 1 SFTs from H1...\n"
     ]
    },
    {
     "name": "stderr",
     "output_type": "stream",
     "text": [
      " 45%|████▌     | 2613/5760 [00:40<00:50, 62.88it/s]"
     ]
    },
    {
     "name": "stdout",
     "output_type": "stream",
     "text": [
      "25-08-19 17:19:03.417 pyfstat.utils.sft INFO    : Loading 1 SFTs from H1...\n",
      "25-08-19 17:19:03.436 pyfstat.utils.sft INFO    : Loading 1 SFTs from H1...\n",
      "25-08-19 17:19:03.455 pyfstat.utils.sft INFO    : Loading 1 SFTs from H1...\n",
      "25-08-19 17:19:03.470 pyfstat.utils.sft INFO    : Loading 1 SFTs from H1...\n",
      "25-08-19 17:19:03.482 pyfstat.utils.sft INFO    : Loading 1 SFTs from H1...\n",
      "25-08-19 17:19:03.497 pyfstat.utils.sft INFO    : Loading 1 SFTs from H1...\n",
      "25-08-19 17:19:03.516 pyfstat.utils.sft INFO    : Loading 1 SFTs from H1...\n"
     ]
    },
    {
     "name": "stderr",
     "output_type": "stream",
     "text": [
      " 45%|████▌     | 2620/5760 [00:40<00:50, 61.65it/s]"
     ]
    },
    {
     "name": "stdout",
     "output_type": "stream",
     "text": [
      "25-08-19 17:19:03.532 pyfstat.utils.sft INFO    : Loading 1 SFTs from H1...\n",
      "25-08-19 17:19:03.547 pyfstat.utils.sft INFO    : Loading 1 SFTs from H1...\n",
      "25-08-19 17:19:03.562 pyfstat.utils.sft INFO    : Loading 1 SFTs from H1...\n",
      "25-08-19 17:19:03.577 pyfstat.utils.sft INFO    : Loading 1 SFTs from H1...\n",
      "25-08-19 17:19:03.591 pyfstat.utils.sft INFO    : Loading 1 SFTs from H1...\n",
      "25-08-19 17:19:03.606 pyfstat.utils.sft INFO    : Loading 1 SFTs from H1...\n",
      "25-08-19 17:19:03.618 pyfstat.utils.sft INFO    : Loading 1 SFTs from H1...\n",
      "25-08-19 17:19:03.631 pyfstat.utils.sft INFO    : Loading 1 SFTs from H1...\n"
     ]
    },
    {
     "name": "stderr",
     "output_type": "stream",
     "text": [
      " 46%|████▌     | 2628/5760 [00:40<00:48, 64.79it/s]"
     ]
    },
    {
     "name": "stdout",
     "output_type": "stream",
     "text": [
      "25-08-19 17:19:03.647 pyfstat.utils.sft INFO    : Loading 1 SFTs from H1...\n",
      "25-08-19 17:19:03.660 pyfstat.utils.sft INFO    : Loading 1 SFTs from H1...\n",
      "25-08-19 17:19:03.670 pyfstat.utils.sft INFO    : Loading 1 SFTs from H1...\n",
      "25-08-19 17:19:03.684 pyfstat.utils.sft INFO    : Loading 1 SFTs from H1...\n",
      "25-08-19 17:19:03.703 pyfstat.utils.sft INFO    : Loading 1 SFTs from H1...\n",
      "25-08-19 17:19:03.718 pyfstat.utils.sft INFO    : Loading 1 SFTs from H1...\n",
      "25-08-19 17:19:03.733 pyfstat.utils.sft INFO    : Loading 1 SFTs from H1...\n"
     ]
    },
    {
     "name": "stderr",
     "output_type": "stream",
     "text": [
      " 46%|████▌     | 2635/5760 [00:40<00:47, 65.91it/s]"
     ]
    },
    {
     "name": "stdout",
     "output_type": "stream",
     "text": [
      "25-08-19 17:19:03.745 pyfstat.utils.sft INFO    : Loading 1 SFTs from H1...\n",
      "25-08-19 17:19:03.759 pyfstat.utils.sft INFO    : Loading 1 SFTs from H1...\n",
      "25-08-19 17:19:03.778 pyfstat.utils.sft INFO    : Loading 1 SFTs from H1...\n",
      "25-08-19 17:19:03.789 pyfstat.utils.sft INFO    : Loading 1 SFTs from H1...\n",
      "25-08-19 17:19:03.808 pyfstat.utils.sft INFO    : Loading 1 SFTs from H1...\n",
      "25-08-19 17:19:03.823 pyfstat.utils.sft INFO    : Loading 1 SFTs from H1...\n",
      "25-08-19 17:19:03.839 pyfstat.utils.sft INFO    : Loading 1 SFTs from H1...\n"
     ]
    },
    {
     "name": "stderr",
     "output_type": "stream",
     "text": [
      " 46%|████▌     | 2642/5760 [00:40<00:47, 66.00it/s]"
     ]
    },
    {
     "name": "stdout",
     "output_type": "stream",
     "text": [
      "25-08-19 17:19:03.856 pyfstat.utils.sft INFO    : Loading 1 SFTs from H1...\n",
      "25-08-19 17:19:03.872 pyfstat.utils.sft INFO    : Loading 1 SFTs from H1...\n",
      "25-08-19 17:19:03.884 pyfstat.utils.sft INFO    : Loading 1 SFTs from H1...\n",
      "25-08-19 17:19:03.899 pyfstat.utils.sft INFO    : Loading 1 SFTs from H1...\n",
      "25-08-19 17:19:03.918 pyfstat.utils.sft INFO    : Loading 1 SFTs from H1...\n",
      "25-08-19 17:19:03.937 pyfstat.utils.sft INFO    : Loading 1 SFTs from H1...\n",
      "25-08-19 17:19:03.952 pyfstat.utils.sft INFO    : Loading 1 SFTs from H1...\n"
     ]
    },
    {
     "name": "stderr",
     "output_type": "stream",
     "text": [
      " 46%|████▌     | 2649/5760 [00:40<00:48, 64.67it/s]"
     ]
    },
    {
     "name": "stdout",
     "output_type": "stream",
     "text": [
      "25-08-19 17:19:03.964 pyfstat.utils.sft INFO    : Loading 1 SFTs from H1...\n",
      "25-08-19 17:19:03.980 pyfstat.utils.sft INFO    : Loading 1 SFTs from H1...\n",
      "25-08-19 17:19:03.997 pyfstat.utils.sft INFO    : Loading 1 SFTs from H1...\n",
      "25-08-19 17:19:04.012 pyfstat.utils.sft INFO    : Loading 1 SFTs from H1...\n",
      "25-08-19 17:19:04.028 pyfstat.utils.sft INFO    : Loading 1 SFTs from H1...\n",
      "25-08-19 17:19:04.039 pyfstat.utils.sft INFO    : Loading 1 SFTs from H1...\n",
      "25-08-19 17:19:04.054 pyfstat.utils.sft INFO    : Loading 1 SFTs from H1...\n"
     ]
    },
    {
     "name": "stderr",
     "output_type": "stream",
     "text": [
      " 46%|████▌     | 2656/5760 [00:40<00:47, 64.93it/s]"
     ]
    },
    {
     "name": "stdout",
     "output_type": "stream",
     "text": [
      "25-08-19 17:19:04.074 pyfstat.utils.sft INFO    : Loading 1 SFTs from H1...\n",
      "25-08-19 17:19:04.093 pyfstat.utils.sft INFO    : Loading 1 SFTs from H1...\n",
      "25-08-19 17:19:04.110 pyfstat.utils.sft INFO    : Loading 1 SFTs from H1...\n",
      "25-08-19 17:19:04.125 pyfstat.utils.sft INFO    : Loading 1 SFTs from H1...\n",
      "25-08-19 17:19:04.136 pyfstat.utils.sft INFO    : Loading 1 SFTs from H1...\n",
      "25-08-19 17:19:04.151 pyfstat.utils.sft INFO    : Loading 1 SFTs from H1...\n",
      "25-08-19 17:19:04.170 pyfstat.utils.sft INFO    : Loading 1 SFTs from H1...\n"
     ]
    },
    {
     "name": "stderr",
     "output_type": "stream",
     "text": [
      " 46%|████▌     | 2663/5760 [00:40<00:48, 64.22it/s]"
     ]
    },
    {
     "name": "stdout",
     "output_type": "stream",
     "text": [
      "25-08-19 17:19:04.183 pyfstat.utils.sft INFO    : Loading 1 SFTs from H1...\n",
      "25-08-19 17:19:04.198 pyfstat.utils.sft INFO    : Loading 1 SFTs from H1...\n",
      "25-08-19 17:19:04.211 pyfstat.utils.sft INFO    : Loading 1 SFTs from H1...\n",
      "25-08-19 17:19:04.227 pyfstat.utils.sft INFO    : Loading 1 SFTs from H1...\n",
      "25-08-19 17:19:04.245 pyfstat.utils.sft INFO    : Loading 1 SFTs from H1...\n",
      "25-08-19 17:19:04.264 pyfstat.utils.sft INFO    : Loading 1 SFTs from H1...\n",
      "25-08-19 17:19:04.278 pyfstat.utils.sft INFO    : Loading 1 SFTs from H1...\n"
     ]
    },
    {
     "name": "stderr",
     "output_type": "stream",
     "text": [
      " 46%|████▋     | 2670/5760 [00:41<00:48, 63.70it/s]"
     ]
    },
    {
     "name": "stdout",
     "output_type": "stream",
     "text": [
      "25-08-19 17:19:04.298 pyfstat.utils.sft INFO    : Loading 1 SFTs from H1...\n",
      "25-08-19 17:19:04.317 pyfstat.utils.sft INFO    : Loading 1 SFTs from H1...\n",
      "25-08-19 17:19:04.332 pyfstat.utils.sft INFO    : Loading 1 SFTs from H1...\n",
      "25-08-19 17:19:04.351 pyfstat.utils.sft INFO    : Loading 1 SFTs from H1...\n",
      "25-08-19 17:19:04.366 pyfstat.utils.sft INFO    : Loading 1 SFTs from H1...\n",
      "25-08-19 17:19:04.381 pyfstat.utils.sft INFO    : Loading 1 SFTs from H1...\n",
      "25-08-19 17:19:04.392 pyfstat.utils.sft INFO    : Loading 1 SFTs from H1...\n"
     ]
    },
    {
     "name": "stderr",
     "output_type": "stream",
     "text": [
      " 46%|████▋     | 2677/5760 [00:41<00:48, 63.83it/s]"
     ]
    },
    {
     "name": "stdout",
     "output_type": "stream",
     "text": [
      "25-08-19 17:19:04.407 pyfstat.utils.sft INFO    : Loading 1 SFTs from H1...\n",
      "25-08-19 17:19:04.426 pyfstat.utils.sft INFO    : Loading 1 SFTs from H1...\n",
      "25-08-19 17:19:04.444 pyfstat.utils.sft INFO    : Loading 1 SFTs from H1...\n",
      "25-08-19 17:19:04.463 pyfstat.utils.sft INFO    : Loading 1 SFTs from H1...\n",
      "25-08-19 17:19:04.474 pyfstat.utils.sft INFO    : Loading 1 SFTs from H1...\n",
      "25-08-19 17:19:04.488 pyfstat.utils.sft INFO    : Loading 1 SFTs from H1...\n",
      "25-08-19 17:19:04.503 pyfstat.utils.sft INFO    : Loading 1 SFTs from H1...\n"
     ]
    },
    {
     "name": "stderr",
     "output_type": "stream",
     "text": [
      " 47%|████▋     | 2684/5760 [00:41<00:48, 63.68it/s]"
     ]
    },
    {
     "name": "stdout",
     "output_type": "stream",
     "text": [
      "25-08-19 17:19:04.514 pyfstat.utils.sft INFO    : Loading 1 SFTs from H1...\n",
      "25-08-19 17:19:04.533 pyfstat.utils.sft INFO    : Loading 1 SFTs from H1...\n",
      "25-08-19 17:19:04.551 pyfstat.utils.sft INFO    : Loading 1 SFTs from H1...\n",
      "25-08-19 17:19:04.573 pyfstat.utils.sft INFO    : Loading 1 SFTs from H1...\n",
      "25-08-19 17:19:04.588 pyfstat.utils.sft INFO    : Loading 1 SFTs from H1...\n",
      "25-08-19 17:19:04.607 pyfstat.utils.sft INFO    : Loading 1 SFTs from H1...\n",
      "25-08-19 17:19:04.625 pyfstat.utils.sft INFO    : Loading 1 SFTs from H1...\n"
     ]
    },
    {
     "name": "stderr",
     "output_type": "stream",
     "text": [
      " 47%|████▋     | 2691/5760 [00:41<00:49, 61.46it/s]"
     ]
    },
    {
     "name": "stdout",
     "output_type": "stream",
     "text": [
      "25-08-19 17:19:04.641 pyfstat.utils.sft INFO    : Loading 1 SFTs from H1...\n",
      "25-08-19 17:19:04.656 pyfstat.utils.sft INFO    : Loading 1 SFTs from H1...\n",
      "25-08-19 17:19:04.675 pyfstat.utils.sft INFO    : Loading 1 SFTs from H1...\n",
      "25-08-19 17:19:04.690 pyfstat.utils.sft INFO    : Loading 1 SFTs from H1...\n",
      "25-08-19 17:19:04.709 pyfstat.utils.sft INFO    : Loading 1 SFTs from H1...\n",
      "25-08-19 17:19:04.728 pyfstat.utils.sft INFO    : Loading 1 SFTs from H1...\n",
      "25-08-19 17:19:04.747 pyfstat.utils.sft INFO    : Loading 1 SFTs from H1...\n"
     ]
    },
    {
     "name": "stderr",
     "output_type": "stream",
     "text": [
      " 47%|████▋     | 2698/5760 [00:41<00:50, 60.14it/s]"
     ]
    },
    {
     "name": "stdout",
     "output_type": "stream",
     "text": [
      "25-08-19 17:19:04.763 pyfstat.utils.sft INFO    : Loading 1 SFTs from H1...\n",
      "25-08-19 17:19:04.782 pyfstat.utils.sft INFO    : Loading 1 SFTs from H1...\n",
      "25-08-19 17:19:04.802 pyfstat.utils.sft INFO    : Loading 1 SFTs from H1...\n",
      "25-08-19 17:19:04.820 pyfstat.utils.sft INFO    : Loading 1 SFTs from H1...\n",
      "25-08-19 17:19:04.835 pyfstat.utils.sft INFO    : Loading 1 SFTs from H1...\n",
      "25-08-19 17:19:04.850 pyfstat.utils.sft INFO    : Loading 1 SFTs from H1...\n",
      "25-08-19 17:19:04.869 pyfstat.utils.sft INFO    : Loading 1 SFTs from H1...\n"
     ]
    },
    {
     "name": "stderr",
     "output_type": "stream",
     "text": [
      " 47%|████▋     | 2705/5760 [00:41<00:51, 59.43it/s]"
     ]
    },
    {
     "name": "stdout",
     "output_type": "stream",
     "text": [
      "25-08-19 17:19:04.885 pyfstat.utils.sft INFO    : Loading 1 SFTs from H1...\n",
      "25-08-19 17:19:04.900 pyfstat.utils.sft INFO    : Loading 1 SFTs from H1...\n",
      "25-08-19 17:19:04.915 pyfstat.utils.sft INFO    : Loading 1 SFTs from H1...\n",
      "25-08-19 17:19:04.936 pyfstat.utils.sft INFO    : Loading 1 SFTs from H1...\n",
      "25-08-19 17:19:04.948 pyfstat.utils.sft INFO    : Loading 1 SFTs from H1...\n",
      "25-08-19 17:19:04.964 pyfstat.utils.sft INFO    : Loading 1 SFTs from H1...\n",
      "25-08-19 17:19:04.982 pyfstat.utils.sft INFO    : Loading 1 SFTs from H1...\n"
     ]
    },
    {
     "name": "stderr",
     "output_type": "stream",
     "text": [
      " 47%|████▋     | 2712/5760 [00:41<00:50, 60.09it/s]"
     ]
    },
    {
     "name": "stdout",
     "output_type": "stream",
     "text": [
      "25-08-19 17:19:04.998 pyfstat.utils.sft INFO    : Loading 1 SFTs from H1...\n",
      "25-08-19 17:19:05.021 pyfstat.utils.sft INFO    : Loading 1 SFTs from H1...\n",
      "25-08-19 17:19:05.036 pyfstat.utils.sft INFO    : Loading 1 SFTs from H1...\n",
      "25-08-19 17:19:05.051 pyfstat.utils.sft INFO    : Loading 1 SFTs from H1...\n",
      "25-08-19 17:19:05.065 pyfstat.utils.sft INFO    : Loading 1 SFTs from H1...\n",
      "25-08-19 17:19:05.082 pyfstat.utils.sft INFO    : Loading 1 SFTs from H1...\n",
      "25-08-19 17:19:05.097 pyfstat.utils.sft INFO    : Loading 1 SFTs from H1...\n"
     ]
    },
    {
     "name": "stderr",
     "output_type": "stream",
     "text": [
      " 47%|████▋     | 2719/5760 [00:41<00:50, 60.33it/s]"
     ]
    },
    {
     "name": "stdout",
     "output_type": "stream",
     "text": [
      "25-08-19 17:19:05.113 pyfstat.utils.sft INFO    : Loading 1 SFTs from H1...\n",
      "25-08-19 17:19:05.132 pyfstat.utils.sft INFO    : Loading 1 SFTs from H1...\n",
      "25-08-19 17:19:05.143 pyfstat.utils.sft INFO    : Loading 1 SFTs from H1...\n",
      "25-08-19 17:19:05.162 pyfstat.utils.sft INFO    : Loading 1 SFTs from H1...\n",
      "25-08-19 17:19:05.177 pyfstat.utils.sft INFO    : Loading 1 SFTs from H1...\n",
      "25-08-19 17:19:05.189 pyfstat.utils.sft INFO    : Loading 1 SFTs from H1...\n",
      "25-08-19 17:19:05.203 pyfstat.utils.sft INFO    : Loading 1 SFTs from H1...\n"
     ]
    },
    {
     "name": "stderr",
     "output_type": "stream",
     "text": [
      " 47%|████▋     | 2726/5760 [00:41<00:49, 61.33it/s]"
     ]
    },
    {
     "name": "stdout",
     "output_type": "stream",
     "text": [
      "25-08-19 17:19:05.223 pyfstat.utils.sft INFO    : Loading 1 SFTs from H1...\n",
      "25-08-19 17:19:05.238 pyfstat.utils.sft INFO    : Loading 1 SFTs from H1...\n",
      "25-08-19 17:19:05.254 pyfstat.utils.sft INFO    : Loading 1 SFTs from H1...\n",
      "25-08-19 17:19:05.270 pyfstat.utils.sft INFO    : Loading 1 SFTs from H1...\n",
      "25-08-19 17:19:05.284 pyfstat.utils.sft INFO    : Loading 1 SFTs from H1...\n",
      "25-08-19 17:19:05.301 pyfstat.utils.sft INFO    : Loading 1 SFTs from H1...\n",
      "25-08-19 17:19:05.318 pyfstat.utils.sft INFO    : Loading 1 SFTs from H1...\n"
     ]
    },
    {
     "name": "stderr",
     "output_type": "stream",
     "text": [
      " 47%|████▋     | 2733/5760 [00:42<00:49, 61.22it/s]"
     ]
    },
    {
     "name": "stdout",
     "output_type": "stream",
     "text": [
      "25-08-19 17:19:05.334 pyfstat.utils.sft INFO    : Loading 1 SFTs from H1...\n",
      "25-08-19 17:19:05.346 pyfstat.utils.sft INFO    : Loading 1 SFTs from H1...\n",
      "25-08-19 17:19:05.362 pyfstat.utils.sft INFO    : Loading 1 SFTs from H1...\n",
      "25-08-19 17:19:05.378 pyfstat.utils.sft INFO    : Loading 1 SFTs from H1...\n",
      "25-08-19 17:19:05.390 pyfstat.utils.sft INFO    : Loading 1 SFTs from H1...\n",
      "25-08-19 17:19:05.405 pyfstat.utils.sft INFO    : Loading 1 SFTs from H1...\n",
      "25-08-19 17:19:05.424 pyfstat.utils.sft INFO    : Loading 1 SFTs from H1...\n"
     ]
    },
    {
     "name": "stderr",
     "output_type": "stream",
     "text": [
      " 48%|████▊     | 2740/5760 [00:42<00:47, 63.09it/s]"
     ]
    },
    {
     "name": "stdout",
     "output_type": "stream",
     "text": [
      "25-08-19 17:19:05.440 pyfstat.utils.sft INFO    : Loading 1 SFTs from H1...\n",
      "25-08-19 17:19:05.460 pyfstat.utils.sft INFO    : Loading 1 SFTs from H1...\n",
      "25-08-19 17:19:05.474 pyfstat.utils.sft INFO    : Loading 1 SFTs from H1...\n",
      "25-08-19 17:19:05.490 pyfstat.utils.sft INFO    : Loading 1 SFTs from H1...\n",
      "25-08-19 17:19:05.505 pyfstat.utils.sft INFO    : Loading 1 SFTs from H1...\n",
      "25-08-19 17:19:05.520 pyfstat.utils.sft INFO    : Loading 1 SFTs from H1...\n",
      "25-08-19 17:19:05.535 pyfstat.utils.sft INFO    : Loading 1 SFTs from H1...\n"
     ]
    },
    {
     "name": "stderr",
     "output_type": "stream",
     "text": [
      " 48%|████▊     | 2747/5760 [00:42<00:47, 63.05it/s]"
     ]
    },
    {
     "name": "stdout",
     "output_type": "stream",
     "text": [
      "25-08-19 17:19:05.551 pyfstat.utils.sft INFO    : Loading 1 SFTs from H1...\n",
      "25-08-19 17:19:05.564 pyfstat.utils.sft INFO    : Loading 1 SFTs from H1...\n",
      "25-08-19 17:19:05.583 pyfstat.utils.sft INFO    : Loading 1 SFTs from H1...\n",
      "25-08-19 17:19:05.602 pyfstat.utils.sft INFO    : Loading 1 SFTs from H1...\n",
      "25-08-19 17:19:05.620 pyfstat.utils.sft INFO    : Loading 1 SFTs from H1...\n",
      "25-08-19 17:19:05.638 pyfstat.utils.sft INFO    : Loading 1 SFTs from H1...\n",
      "25-08-19 17:19:05.653 pyfstat.utils.sft INFO    : Loading 1 SFTs from H1...\n"
     ]
    },
    {
     "name": "stderr",
     "output_type": "stream",
     "text": [
      " 48%|████▊     | 2754/5760 [00:42<00:48, 61.92it/s]"
     ]
    },
    {
     "name": "stdout",
     "output_type": "stream",
     "text": [
      "25-08-19 17:19:05.670 pyfstat.utils.sft INFO    : Loading 1 SFTs from H1...\n",
      "25-08-19 17:19:05.685 pyfstat.utils.sft INFO    : Loading 1 SFTs from H1...\n",
      "25-08-19 17:19:05.703 pyfstat.utils.sft INFO    : Loading 1 SFTs from H1...\n",
      "25-08-19 17:19:05.721 pyfstat.utils.sft INFO    : Loading 1 SFTs from H1...\n",
      "25-08-19 17:19:05.737 pyfstat.utils.sft INFO    : Loading 1 SFTs from H1...\n",
      "25-08-19 17:19:05.752 pyfstat.utils.sft INFO    : Loading 1 SFTs from H1...\n",
      "25-08-19 17:19:05.766 pyfstat.utils.sft INFO    : Loading 1 SFTs from H1...\n"
     ]
    },
    {
     "name": "stderr",
     "output_type": "stream",
     "text": [
      " 48%|████▊     | 2761/5760 [00:42<00:48, 61.43it/s]"
     ]
    },
    {
     "name": "stdout",
     "output_type": "stream",
     "text": [
      "25-08-19 17:19:05.786 pyfstat.utils.sft INFO    : Loading 1 SFTs from H1...\n",
      "25-08-19 17:19:05.809 pyfstat.utils.sft INFO    : Loading 1 SFTs from H1...\n",
      "25-08-19 17:19:05.824 pyfstat.utils.sft INFO    : Loading 1 SFTs from H1...\n",
      "25-08-19 17:19:05.839 pyfstat.utils.sft INFO    : Loading 1 SFTs from H1...\n",
      "25-08-19 17:19:05.854 pyfstat.utils.sft INFO    : Loading 1 SFTs from H1...\n",
      "25-08-19 17:19:05.872 pyfstat.utils.sft INFO    : Loading 1 SFTs from H1...\n",
      "25-08-19 17:19:05.888 pyfstat.utils.sft INFO    : Loading 1 SFTs from H1...\n"
     ]
    },
    {
     "name": "stderr",
     "output_type": "stream",
     "text": [
      " 48%|████▊     | 2768/5760 [00:42<00:49, 60.51it/s]"
     ]
    },
    {
     "name": "stdout",
     "output_type": "stream",
     "text": [
      "25-08-19 17:19:05.905 pyfstat.utils.sft INFO    : Loading 1 SFTs from H1...\n",
      "25-08-19 17:19:05.917 pyfstat.utils.sft INFO    : Loading 1 SFTs from H1...\n",
      "25-08-19 17:19:05.933 pyfstat.utils.sft INFO    : Loading 1 SFTs from H1...\n",
      "25-08-19 17:19:05.948 pyfstat.utils.sft INFO    : Loading 1 SFTs from H1...\n",
      "25-08-19 17:19:05.962 pyfstat.utils.sft INFO    : Loading 1 SFTs from H1...\n",
      "25-08-19 17:19:05.977 pyfstat.utils.sft INFO    : Loading 1 SFTs from H1...\n",
      "25-08-19 17:19:05.991 pyfstat.utils.sft INFO    : Loading 1 SFTs from H1...\n"
     ]
    },
    {
     "name": "stderr",
     "output_type": "stream",
     "text": [
      " 48%|████▊     | 2775/5760 [00:42<00:47, 62.85it/s]"
     ]
    },
    {
     "name": "stdout",
     "output_type": "stream",
     "text": [
      "25-08-19 17:19:06.007 pyfstat.utils.sft INFO    : Loading 1 SFTs from H1...\n",
      "25-08-19 17:19:06.023 pyfstat.utils.sft INFO    : Loading 1 SFTs from H1...\n",
      "25-08-19 17:19:06.038 pyfstat.utils.sft INFO    : Loading 1 SFTs from H1...\n",
      "25-08-19 17:19:06.057 pyfstat.utils.sft INFO    : Loading 1 SFTs from H1...\n",
      "25-08-19 17:19:06.073 pyfstat.utils.sft INFO    : Loading 1 SFTs from H1...\n",
      "25-08-19 17:19:06.088 pyfstat.utils.sft INFO    : Loading 1 SFTs from H1...\n",
      "25-08-19 17:19:06.105 pyfstat.utils.sft INFO    : Loading 1 SFTs from H1...\n"
     ]
    },
    {
     "name": "stderr",
     "output_type": "stream",
     "text": [
      " 48%|████▊     | 2782/5760 [00:42<00:48, 61.72it/s]"
     ]
    },
    {
     "name": "stdout",
     "output_type": "stream",
     "text": [
      "25-08-19 17:19:06.125 pyfstat.utils.sft INFO    : Loading 1 SFTs from H1...\n",
      "25-08-19 17:19:06.144 pyfstat.utils.sft INFO    : Loading 1 SFTs from H1...\n",
      "25-08-19 17:19:06.163 pyfstat.utils.sft INFO    : Loading 1 SFTs from H1...\n",
      "25-08-19 17:19:06.178 pyfstat.utils.sft INFO    : Loading 1 SFTs from H1...\n",
      "25-08-19 17:19:06.196 pyfstat.utils.sft INFO    : Loading 1 SFTs from H1...\n",
      "25-08-19 17:19:06.211 pyfstat.utils.sft INFO    : Loading 1 SFTs from H1...\n",
      "25-08-19 17:19:06.226 pyfstat.utils.sft INFO    : Loading 1 SFTs from H1...\n"
     ]
    },
    {
     "name": "stderr",
     "output_type": "stream",
     "text": [
      " 48%|████▊     | 2789/5760 [00:42<00:49, 60.39it/s]"
     ]
    },
    {
     "name": "stdout",
     "output_type": "stream",
     "text": [
      "25-08-19 17:19:06.248 pyfstat.utils.sft INFO    : Loading 1 SFTs from H1...\n",
      "25-08-19 17:19:06.260 pyfstat.utils.sft INFO    : Loading 1 SFTs from H1...\n",
      "25-08-19 17:19:06.275 pyfstat.utils.sft INFO    : Loading 1 SFTs from H1...\n",
      "25-08-19 17:19:06.294 pyfstat.utils.sft INFO    : Loading 1 SFTs from H1...\n",
      "25-08-19 17:19:06.305 pyfstat.utils.sft INFO    : Loading 1 SFTs from H1...\n",
      "25-08-19 17:19:06.319 pyfstat.utils.sft INFO    : Loading 1 SFTs from H1...\n",
      "25-08-19 17:19:06.334 pyfstat.utils.sft INFO    : Loading 1 SFTs from H1...\n"
     ]
    },
    {
     "name": "stderr",
     "output_type": "stream",
     "text": [
      " 49%|████▊     | 2796/5760 [00:43<00:47, 62.51it/s]"
     ]
    },
    {
     "name": "stdout",
     "output_type": "stream",
     "text": [
      "25-08-19 17:19:06.345 pyfstat.utils.sft INFO    : Loading 1 SFTs from H1...\n",
      "25-08-19 17:19:06.360 pyfstat.utils.sft INFO    : Loading 1 SFTs from H1...\n",
      "25-08-19 17:19:06.375 pyfstat.utils.sft INFO    : Loading 1 SFTs from H1...\n",
      "25-08-19 17:19:06.389 pyfstat.utils.sft INFO    : Loading 1 SFTs from H1...\n",
      "25-08-19 17:19:06.407 pyfstat.utils.sft INFO    : Loading 1 SFTs from H1...\n",
      "25-08-19 17:19:06.425 pyfstat.utils.sft INFO    : Loading 1 SFTs from H1...\n",
      "25-08-19 17:19:06.436 pyfstat.utils.sft INFO    : Loading 1 SFTs from H1...\n"
     ]
    },
    {
     "name": "stderr",
     "output_type": "stream",
     "text": [
      " 49%|████▊     | 2803/5760 [00:43<00:46, 64.15it/s]"
     ]
    },
    {
     "name": "stdout",
     "output_type": "stream",
     "text": [
      "25-08-19 17:19:06.451 pyfstat.utils.sft INFO    : Loading 1 SFTs from H1...\n",
      "25-08-19 17:19:06.470 pyfstat.utils.sft INFO    : Loading 1 SFTs from H1...\n",
      "25-08-19 17:19:06.488 pyfstat.utils.sft INFO    : Loading 1 SFTs from H1...\n",
      "25-08-19 17:19:06.502 pyfstat.utils.sft INFO    : Loading 1 SFTs from H1...\n",
      "25-08-19 17:19:06.519 pyfstat.utils.sft INFO    : Loading 1 SFTs from H1...\n",
      "25-08-19 17:19:06.534 pyfstat.utils.sft INFO    : Loading 1 SFTs from H1...\n",
      "25-08-19 17:19:06.551 pyfstat.utils.sft INFO    : Loading 1 SFTs from H1...\n"
     ]
    },
    {
     "name": "stderr",
     "output_type": "stream",
     "text": [
      " 49%|████▉     | 2810/5760 [00:43<00:47, 62.18it/s]"
     ]
    },
    {
     "name": "stdout",
     "output_type": "stream",
     "text": [
      "25-08-19 17:19:06.573 pyfstat.utils.sft INFO    : Loading 1 SFTs from H1...\n",
      "25-08-19 17:19:06.591 pyfstat.utils.sft INFO    : Loading 1 SFTs from H1...\n",
      "25-08-19 17:19:06.610 pyfstat.utils.sft INFO    : Loading 1 SFTs from H1...\n",
      "25-08-19 17:19:06.629 pyfstat.utils.sft INFO    : Loading 1 SFTs from H1...\n",
      "25-08-19 17:19:06.641 pyfstat.utils.sft INFO    : Loading 1 SFTs from H1...\n",
      "25-08-19 17:19:06.656 pyfstat.utils.sft INFO    : Loading 1 SFTs from H1...\n",
      "25-08-19 17:19:06.671 pyfstat.utils.sft INFO    : Loading 1 SFTs from H1...\n"
     ]
    },
    {
     "name": "stderr",
     "output_type": "stream",
     "text": [
      " 49%|████▉     | 2817/5760 [00:43<00:48, 61.25it/s]"
     ]
    },
    {
     "name": "stdout",
     "output_type": "stream",
     "text": [
      "25-08-19 17:19:06.691 pyfstat.utils.sft INFO    : Loading 1 SFTs from H1...\n",
      "25-08-19 17:19:06.706 pyfstat.utils.sft INFO    : Loading 1 SFTs from H1...\n",
      "25-08-19 17:19:06.720 pyfstat.utils.sft INFO    : Loading 1 SFTs from H1...\n",
      "25-08-19 17:19:06.739 pyfstat.utils.sft INFO    : Loading 1 SFTs from H1...\n",
      "25-08-19 17:19:06.761 pyfstat.utils.sft INFO    : Loading 1 SFTs from H1...\n",
      "25-08-19 17:19:06.776 pyfstat.utils.sft INFO    : Loading 1 SFTs from H1...\n",
      "25-08-19 17:19:06.791 pyfstat.utils.sft INFO    : Loading 1 SFTs from H1...\n"
     ]
    },
    {
     "name": "stderr",
     "output_type": "stream",
     "text": [
      " 49%|████▉     | 2824/5760 [00:43<00:49, 59.79it/s]"
     ]
    },
    {
     "name": "stdout",
     "output_type": "stream",
     "text": [
      "25-08-19 17:19:06.815 pyfstat.utils.sft INFO    : Loading 1 SFTs from H1...\n",
      "25-08-19 17:19:06.832 pyfstat.utils.sft INFO    : Loading 1 SFTs from H1...\n",
      "25-08-19 17:19:06.851 pyfstat.utils.sft INFO    : Loading 1 SFTs from H1...\n",
      "25-08-19 17:19:06.866 pyfstat.utils.sft INFO    : Loading 1 SFTs from H1...\n",
      "25-08-19 17:19:06.885 pyfstat.utils.sft INFO    : Loading 1 SFTs from H1...\n",
      "25-08-19 17:19:06.900 pyfstat.utils.sft INFO    : Loading 1 SFTs from H1...\n",
      "25-08-19 17:19:06.919 pyfstat.utils.sft INFO    : Loading 1 SFTs from H1...\n"
     ]
    },
    {
     "name": "stderr",
     "output_type": "stream",
     "text": [
      " 49%|████▉     | 2831/5760 [00:43<00:49, 58.66it/s]"
     ]
    },
    {
     "name": "stdout",
     "output_type": "stream",
     "text": [
      "25-08-19 17:19:06.939 pyfstat.utils.sft INFO    : Loading 1 SFTs from H1...\n",
      "25-08-19 17:19:06.950 pyfstat.utils.sft INFO    : Loading 1 SFTs from H1...\n",
      "25-08-19 17:19:06.966 pyfstat.utils.sft INFO    : Loading 1 SFTs from H1...\n",
      "25-08-19 17:19:06.985 pyfstat.utils.sft INFO    : Loading 1 SFTs from H1...\n",
      "25-08-19 17:19:06.999 pyfstat.utils.sft INFO    : Loading 1 SFTs from H1...\n",
      "25-08-19 17:19:07.015 pyfstat.utils.sft INFO    : Loading 1 SFTs from H1...\n",
      "25-08-19 17:19:07.030 pyfstat.utils.sft INFO    : Loading 1 SFTs from H1...\n"
     ]
    },
    {
     "name": "stderr",
     "output_type": "stream",
     "text": [
      " 49%|████▉     | 2838/5760 [00:43<00:48, 60.62it/s]"
     ]
    },
    {
     "name": "stdout",
     "output_type": "stream",
     "text": [
      "25-08-19 17:19:07.045 pyfstat.utils.sft INFO    : Loading 1 SFTs from H1...\n",
      "25-08-19 17:19:07.062 pyfstat.utils.sft INFO    : Loading 1 SFTs from H1...\n",
      "25-08-19 17:19:07.081 pyfstat.utils.sft INFO    : Loading 1 SFTs from H1...\n",
      "25-08-19 17:19:07.097 pyfstat.utils.sft INFO    : Loading 1 SFTs from H1...\n",
      "25-08-19 17:19:07.112 pyfstat.utils.sft INFO    : Loading 1 SFTs from H1...\n",
      "25-08-19 17:19:07.128 pyfstat.utils.sft INFO    : Loading 1 SFTs from H1...\n",
      "25-08-19 17:19:07.146 pyfstat.utils.sft INFO    : Loading 1 SFTs from H1...\n"
     ]
    },
    {
     "name": "stderr",
     "output_type": "stream",
     "text": [
      " 49%|████▉     | 2845/5760 [00:43<00:48, 59.98it/s]"
     ]
    },
    {
     "name": "stdout",
     "output_type": "stream",
     "text": [
      "25-08-19 17:19:07.164 pyfstat.utils.sft INFO    : Loading 1 SFTs from H1...\n",
      "25-08-19 17:19:07.182 pyfstat.utils.sft INFO    : Loading 1 SFTs from H1...\n",
      "25-08-19 17:19:07.193 pyfstat.utils.sft INFO    : Loading 1 SFTs from H1...\n",
      "25-08-19 17:19:07.204 pyfstat.utils.sft INFO    : Loading 1 SFTs from H1...\n",
      "25-08-19 17:19:07.220 pyfstat.utils.sft INFO    : Loading 1 SFTs from H1...\n",
      "25-08-19 17:19:07.236 pyfstat.utils.sft INFO    : Loading 1 SFTs from H1...\n",
      "25-08-19 17:19:07.259 pyfstat.utils.sft INFO    : Loading 1 SFTs from H1...\n"
     ]
    },
    {
     "name": "stderr",
     "output_type": "stream",
     "text": [
      " 50%|████▉     | 2852/5760 [00:44<00:47, 60.81it/s]"
     ]
    },
    {
     "name": "stdout",
     "output_type": "stream",
     "text": [
      "25-08-19 17:19:07.277 pyfstat.utils.sft INFO    : Loading 1 SFTs from H1...\n",
      "25-08-19 17:19:07.292 pyfstat.utils.sft INFO    : Loading 1 SFTs from H1...\n",
      "25-08-19 17:19:07.309 pyfstat.utils.sft INFO    : Loading 1 SFTs from H1...\n",
      "25-08-19 17:19:07.327 pyfstat.utils.sft INFO    : Loading 1 SFTs from H1...\n",
      "25-08-19 17:19:07.346 pyfstat.utils.sft INFO    : Loading 1 SFTs from H1...\n",
      "25-08-19 17:19:07.362 pyfstat.utils.sft INFO    : Loading 1 SFTs from H1...\n",
      "25-08-19 17:19:07.381 pyfstat.utils.sft INFO    : Loading 1 SFTs from H1...\n"
     ]
    },
    {
     "name": "stderr",
     "output_type": "stream",
     "text": [
      " 50%|████▉     | 2859/5760 [00:44<00:48, 59.84it/s]"
     ]
    },
    {
     "name": "stdout",
     "output_type": "stream",
     "text": [
      "25-08-19 17:19:07.398 pyfstat.utils.sft INFO    : Loading 1 SFTs from H1...\n",
      "25-08-19 17:19:07.418 pyfstat.utils.sft INFO    : Loading 1 SFTs from H1...\n",
      "25-08-19 17:19:07.434 pyfstat.utils.sft INFO    : Loading 1 SFTs from H1...\n",
      "25-08-19 17:19:07.454 pyfstat.utils.sft INFO    : Loading 1 SFTs from H1...\n",
      "25-08-19 17:19:07.466 pyfstat.utils.sft INFO    : Loading 1 SFTs from H1...\n",
      "25-08-19 17:19:07.482 pyfstat.utils.sft INFO    : Loading 1 SFTs from H1...\n",
      "25-08-19 17:19:07.502 pyfstat.utils.sft INFO    : Loading 1 SFTs from H1...\n"
     ]
    },
    {
     "name": "stderr",
     "output_type": "stream",
     "text": [
      " 50%|████▉     | 2866/5760 [00:44<00:49, 58.65it/s]"
     ]
    },
    {
     "name": "stdout",
     "output_type": "stream",
     "text": [
      "25-08-19 17:19:07.519 pyfstat.utils.sft INFO    : Loading 1 SFTs from H1...\n",
      "25-08-19 17:19:07.534 pyfstat.utils.sft INFO    : Loading 1 SFTs from H1...\n",
      "25-08-19 17:19:07.551 pyfstat.utils.sft INFO    : Loading 1 SFTs from H1...\n",
      "25-08-19 17:19:07.571 pyfstat.utils.sft INFO    : Loading 1 SFTs from H1...\n",
      "25-08-19 17:19:07.584 pyfstat.utils.sft INFO    : Loading 1 SFTs from H1...\n",
      "25-08-19 17:19:07.600 pyfstat.utils.sft INFO    : Loading 1 SFTs from H1...\n",
      "25-08-19 17:19:07.615 pyfstat.utils.sft INFO    : Loading 1 SFTs from H1...\n"
     ]
    },
    {
     "name": "stderr",
     "output_type": "stream",
     "text": [
      " 50%|████▉     | 2873/5760 [00:44<00:47, 60.24it/s]"
     ]
    },
    {
     "name": "stdout",
     "output_type": "stream",
     "text": [
      "25-08-19 17:19:07.632 pyfstat.utils.sft INFO    : Loading 1 SFTs from H1...\n",
      "25-08-19 17:19:07.650 pyfstat.utils.sft INFO    : Loading 1 SFTs from H1...\n",
      "25-08-19 17:19:07.669 pyfstat.utils.sft INFO    : Loading 1 SFTs from H1...\n",
      "25-08-19 17:19:07.685 pyfstat.utils.sft INFO    : Loading 1 SFTs from H1...\n",
      "25-08-19 17:19:07.701 pyfstat.utils.sft INFO    : Loading 1 SFTs from H1...\n",
      "25-08-19 17:19:07.713 pyfstat.utils.sft INFO    : Loading 1 SFTs from H1...\n",
      "25-08-19 17:19:07.728 pyfstat.utils.sft INFO    : Loading 1 SFTs from H1...\n"
     ]
    },
    {
     "name": "stderr",
     "output_type": "stream",
     "text": [
      " 50%|█████     | 2880/5760 [00:44<00:47, 60.67it/s]"
     ]
    },
    {
     "name": "stdout",
     "output_type": "stream",
     "text": [
      "25-08-19 17:19:07.745 pyfstat.utils.sft INFO    : Loading 1 SFTs from H1...\n",
      "25-08-19 17:19:07.757 pyfstat.utils.sft INFO    : Loading 1 SFTs from H1...\n",
      "25-08-19 17:19:07.769 pyfstat.utils.sft INFO    : Loading 1 SFTs from H1...\n",
      "25-08-19 17:19:07.784 pyfstat.utils.sft INFO    : Loading 1 SFTs from H1...\n",
      "25-08-19 17:19:07.800 pyfstat.utils.sft INFO    : Loading 1 SFTs from H1...\n",
      "25-08-19 17:19:07.819 pyfstat.utils.sft INFO    : Loading 1 SFTs from H1...\n",
      "25-08-19 17:19:07.838 pyfstat.utils.sft INFO    : Loading 1 SFTs from H1...\n"
     ]
    },
    {
     "name": "stderr",
     "output_type": "stream",
     "text": [
      " 50%|█████     | 2887/5760 [00:44<00:46, 61.74it/s]"
     ]
    },
    {
     "name": "stdout",
     "output_type": "stream",
     "text": [
      "25-08-19 17:19:07.850 pyfstat.utils.sft INFO    : Loading 1 SFTs from H1...\n",
      "25-08-19 17:19:07.865 pyfstat.utils.sft INFO    : Loading 1 SFTs from H1...\n",
      "25-08-19 17:19:07.880 pyfstat.utils.sft INFO    : Loading 1 SFTs from H1...\n",
      "25-08-19 17:19:07.899 pyfstat.utils.sft INFO    : Loading 1 SFTs from H1...\n",
      "25-08-19 17:19:07.919 pyfstat.utils.sft INFO    : Loading 1 SFTs from H1...\n",
      "25-08-19 17:19:07.934 pyfstat.utils.sft INFO    : Loading 1 SFTs from H1...\n",
      "25-08-19 17:19:07.953 pyfstat.utils.sft INFO    : Loading 1 SFTs from H1...\n"
     ]
    },
    {
     "name": "stderr",
     "output_type": "stream",
     "text": [
      " 50%|█████     | 2894/5760 [00:44<00:47, 60.81it/s]"
     ]
    },
    {
     "name": "stdout",
     "output_type": "stream",
     "text": [
      "25-08-19 17:19:07.969 pyfstat.utils.sft INFO    : Loading 1 SFTs from H1...\n",
      "25-08-19 17:19:07.983 pyfstat.utils.sft INFO    : Loading 1 SFTs from H1...\n",
      "25-08-19 17:19:07.998 pyfstat.utils.sft INFO    : Loading 1 SFTs from H1...\n",
      "25-08-19 17:19:08.014 pyfstat.utils.sft INFO    : Loading 1 SFTs from H1...\n",
      "25-08-19 17:19:08.032 pyfstat.utils.sft INFO    : Loading 1 SFTs from H1...\n",
      "25-08-19 17:19:08.047 pyfstat.utils.sft INFO    : Loading 1 SFTs from H1...\n",
      "25-08-19 17:19:08.065 pyfstat.utils.sft INFO    : Loading 1 SFTs from H1...\n"
     ]
    },
    {
     "name": "stderr",
     "output_type": "stream",
     "text": [
      " 50%|█████     | 2901/5760 [00:44<00:46, 62.04it/s]"
     ]
    },
    {
     "name": "stdout",
     "output_type": "stream",
     "text": [
      "25-08-19 17:19:08.077 pyfstat.utils.sft INFO    : Loading 1 SFTs from H1...\n",
      "25-08-19 17:19:08.093 pyfstat.utils.sft INFO    : Loading 1 SFTs from H1...\n",
      "25-08-19 17:19:08.111 pyfstat.utils.sft INFO    : Loading 1 SFTs from H1...\n",
      "25-08-19 17:19:08.130 pyfstat.utils.sft INFO    : Loading 1 SFTs from H1...\n",
      "25-08-19 17:19:08.148 pyfstat.utils.sft INFO    : Loading 1 SFTs from H1...\n",
      "25-08-19 17:19:08.163 pyfstat.utils.sft INFO    : Loading 1 SFTs from H1...\n",
      "25-08-19 17:19:08.182 pyfstat.utils.sft INFO    : Loading 1 SFTs from H1...\n"
     ]
    },
    {
     "name": "stderr",
     "output_type": "stream",
     "text": [
      " 50%|█████     | 2908/5760 [00:44<00:47, 60.66it/s]"
     ]
    },
    {
     "name": "stdout",
     "output_type": "stream",
     "text": [
      "25-08-19 17:19:08.202 pyfstat.utils.sft INFO    : Loading 1 SFTs from H1...\n",
      "25-08-19 17:19:08.221 pyfstat.utils.sft INFO    : Loading 1 SFTs from H1...\n",
      "25-08-19 17:19:08.240 pyfstat.utils.sft INFO    : Loading 1 SFTs from H1...\n",
      "25-08-19 17:19:08.256 pyfstat.utils.sft INFO    : Loading 1 SFTs from H1...\n",
      "25-08-19 17:19:08.271 pyfstat.utils.sft INFO    : Loading 1 SFTs from H1...\n",
      "25-08-19 17:19:08.290 pyfstat.utils.sft INFO    : Loading 1 SFTs from H1...\n",
      "25-08-19 17:19:08.309 pyfstat.utils.sft INFO    : Loading 1 SFTs from H1...\n"
     ]
    },
    {
     "name": "stderr",
     "output_type": "stream",
     "text": [
      " 51%|█████     | 2915/5760 [00:45<00:47, 59.48it/s]"
     ]
    },
    {
     "name": "stdout",
     "output_type": "stream",
     "text": [
      "25-08-19 17:19:08.325 pyfstat.utils.sft INFO    : Loading 1 SFTs from H1...\n",
      "25-08-19 17:19:08.345 pyfstat.utils.sft INFO    : Loading 1 SFTs from H1...\n",
      "25-08-19 17:19:08.364 pyfstat.utils.sft INFO    : Loading 1 SFTs from H1...\n",
      "25-08-19 17:19:08.377 pyfstat.utils.sft INFO    : Loading 1 SFTs from H1...\n",
      "25-08-19 17:19:08.395 pyfstat.utils.sft INFO    : Loading 1 SFTs from H1...\n",
      "25-08-19 17:19:08.411 pyfstat.utils.sft INFO    : Loading 1 SFTs from H1...\n"
     ]
    },
    {
     "name": "stderr",
     "output_type": "stream",
     "text": [
      " 51%|█████     | 2921/5760 [00:45<00:48, 58.77it/s]"
     ]
    },
    {
     "name": "stdout",
     "output_type": "stream",
     "text": [
      "25-08-19 17:19:08.430 pyfstat.utils.sft INFO    : Loading 1 SFTs from H1...\n",
      "25-08-19 17:19:08.446 pyfstat.utils.sft INFO    : Loading 1 SFTs from H1...\n",
      "25-08-19 17:19:08.466 pyfstat.utils.sft INFO    : Loading 1 SFTs from H1...\n",
      "25-08-19 17:19:08.481 pyfstat.utils.sft INFO    : Loading 1 SFTs from H1...\n",
      "25-08-19 17:19:08.496 pyfstat.utils.sft INFO    : Loading 1 SFTs from H1...\n",
      "25-08-19 17:19:08.511 pyfstat.utils.sft INFO    : Loading 1 SFTs from H1...\n",
      "25-08-19 17:19:08.526 pyfstat.utils.sft INFO    : Loading 1 SFTs from H1...\n"
     ]
    },
    {
     "name": "stderr",
     "output_type": "stream",
     "text": [
      " 51%|█████     | 2928/5760 [00:45<00:47, 60.02it/s]"
     ]
    },
    {
     "name": "stdout",
     "output_type": "stream",
     "text": [
      "25-08-19 17:19:08.541 pyfstat.utils.sft INFO    : Loading 1 SFTs from H1...\n",
      "25-08-19 17:19:08.555 pyfstat.utils.sft INFO    : Loading 1 SFTs from H1...\n",
      "25-08-19 17:19:08.577 pyfstat.utils.sft INFO    : Loading 1 SFTs from H1...\n",
      "25-08-19 17:19:08.589 pyfstat.utils.sft INFO    : Loading 1 SFTs from H1...\n",
      "25-08-19 17:19:08.601 pyfstat.utils.sft INFO    : Loading 1 SFTs from H1...\n",
      "25-08-19 17:19:08.617 pyfstat.utils.sft INFO    : Loading 1 SFTs from H1...\n",
      "25-08-19 17:19:08.638 pyfstat.utils.sft INFO    : Loading 1 SFTs from H1...\n"
     ]
    },
    {
     "name": "stderr",
     "output_type": "stream",
     "text": [
      " 51%|█████     | 2935/5760 [00:45<00:46, 60.53it/s]"
     ]
    },
    {
     "name": "stdout",
     "output_type": "stream",
     "text": [
      "25-08-19 17:19:08.651 pyfstat.utils.sft INFO    : Loading 1 SFTs from H1...\n",
      "25-08-19 17:19:08.666 pyfstat.utils.sft INFO    : Loading 1 SFTs from H1...\n",
      "25-08-19 17:19:08.680 pyfstat.utils.sft INFO    : Loading 1 SFTs from H1...\n",
      "25-08-19 17:19:08.696 pyfstat.utils.sft INFO    : Loading 1 SFTs from H1...\n",
      "25-08-19 17:19:08.712 pyfstat.utils.sft INFO    : Loading 1 SFTs from H1...\n",
      "25-08-19 17:19:08.727 pyfstat.utils.sft INFO    : Loading 1 SFTs from H1...\n",
      "25-08-19 17:19:08.745 pyfstat.utils.sft INFO    : Loading 1 SFTs from H1...\n"
     ]
    },
    {
     "name": "stderr",
     "output_type": "stream",
     "text": [
      " 51%|█████     | 2942/5760 [00:45<00:45, 61.50it/s]"
     ]
    },
    {
     "name": "stdout",
     "output_type": "stream",
     "text": [
      "25-08-19 17:19:08.764 pyfstat.utils.sft INFO    : Loading 1 SFTs from H1...\n",
      "25-08-19 17:19:08.779 pyfstat.utils.sft INFO    : Loading 1 SFTs from H1...\n",
      "25-08-19 17:19:08.799 pyfstat.utils.sft INFO    : Loading 1 SFTs from H1...\n",
      "25-08-19 17:19:08.813 pyfstat.utils.sft INFO    : Loading 1 SFTs from H1...\n",
      "25-08-19 17:19:08.828 pyfstat.utils.sft INFO    : Loading 1 SFTs from H1...\n",
      "25-08-19 17:19:08.843 pyfstat.utils.sft INFO    : Loading 1 SFTs from H1...\n",
      "25-08-19 17:19:08.853 pyfstat.utils.sft INFO    : Loading 1 SFTs from H1...\n"
     ]
    },
    {
     "name": "stderr",
     "output_type": "stream",
     "text": [
      " 51%|█████     | 2949/5760 [00:45<00:45, 62.43it/s]"
     ]
    },
    {
     "name": "stdout",
     "output_type": "stream",
     "text": [
      "25-08-19 17:19:08.873 pyfstat.utils.sft INFO    : Loading 1 SFTs from H1...\n",
      "25-08-19 17:19:08.891 pyfstat.utils.sft INFO    : Loading 1 SFTs from H1...\n",
      "25-08-19 17:19:08.906 pyfstat.utils.sft INFO    : Loading 1 SFTs from H1...\n",
      "25-08-19 17:19:08.921 pyfstat.utils.sft INFO    : Loading 1 SFTs from H1...\n",
      "25-08-19 17:19:08.937 pyfstat.utils.sft INFO    : Loading 1 SFTs from H1...\n",
      "25-08-19 17:19:08.956 pyfstat.utils.sft INFO    : Loading 1 SFTs from H1...\n",
      "25-08-19 17:19:08.968 pyfstat.utils.sft INFO    : Loading 1 SFTs from H1...\n"
     ]
    },
    {
     "name": "stderr",
     "output_type": "stream",
     "text": [
      " 51%|█████▏    | 2956/5760 [00:45<00:44, 62.42it/s]"
     ]
    },
    {
     "name": "stdout",
     "output_type": "stream",
     "text": [
      "25-08-19 17:19:08.985 pyfstat.utils.sft INFO    : Loading 1 SFTs from H1...\n",
      "25-08-19 17:19:09.000 pyfstat.utils.sft INFO    : Loading 1 SFTs from H1...\n",
      "25-08-19 17:19:09.012 pyfstat.utils.sft INFO    : Loading 1 SFTs from H1...\n",
      "25-08-19 17:19:09.027 pyfstat.utils.sft INFO    : Loading 1 SFTs from H1...\n",
      "25-08-19 17:19:09.043 pyfstat.utils.sft INFO    : Loading 1 SFTs from H1...\n",
      "25-08-19 17:19:09.058 pyfstat.utils.sft INFO    : Loading 1 SFTs from H1...\n",
      "25-08-19 17:19:09.073 pyfstat.utils.sft INFO    : Loading 1 SFTs from H1...\n"
     ]
    },
    {
     "name": "stderr",
     "output_type": "stream",
     "text": [
      " 51%|█████▏    | 2963/5760 [00:45<00:43, 63.75it/s]"
     ]
    },
    {
     "name": "stdout",
     "output_type": "stream",
     "text": [
      "25-08-19 17:19:09.092 pyfstat.utils.sft INFO    : Loading 1 SFTs from H1...\n",
      "25-08-19 17:19:09.104 pyfstat.utils.sft INFO    : Loading 1 SFTs from H1...\n",
      "25-08-19 17:19:09.119 pyfstat.utils.sft INFO    : Loading 1 SFTs from H1...\n",
      "25-08-19 17:19:09.133 pyfstat.utils.sft INFO    : Loading 1 SFTs from H1...\n",
      "25-08-19 17:19:09.148 pyfstat.utils.sft INFO    : Loading 1 SFTs from H1...\n",
      "25-08-19 17:19:09.160 pyfstat.utils.sft INFO    : Loading 1 SFTs from H1...\n",
      "25-08-19 17:19:09.171 pyfstat.utils.sft INFO    : Loading 1 SFTs from H1...\n"
     ]
    },
    {
     "name": "stderr",
     "output_type": "stream",
     "text": [
      " 52%|█████▏    | 2970/5760 [00:45<00:42, 65.32it/s]"
     ]
    },
    {
     "name": "stdout",
     "output_type": "stream",
     "text": [
      "25-08-19 17:19:09.186 pyfstat.utils.sft INFO    : Loading 1 SFTs from H1...\n",
      "25-08-19 17:19:09.201 pyfstat.utils.sft INFO    : Loading 1 SFTs from H1...\n",
      "25-08-19 17:19:09.215 pyfstat.utils.sft INFO    : Loading 1 SFTs from H1...\n",
      "25-08-19 17:19:09.230 pyfstat.utils.sft INFO    : Loading 1 SFTs from H1...\n",
      "25-08-19 17:19:09.248 pyfstat.utils.sft INFO    : Loading 1 SFTs from H1...\n",
      "25-08-19 17:19:09.260 pyfstat.utils.sft INFO    : Loading 1 SFTs from H1...\n",
      "25-08-19 17:19:09.275 pyfstat.utils.sft INFO    : Loading 1 SFTs from H1...\n"
     ]
    },
    {
     "name": "stderr",
     "output_type": "stream",
     "text": [
      " 52%|█████▏    | 2977/5760 [00:46<00:41, 66.54it/s]"
     ]
    },
    {
     "name": "stdout",
     "output_type": "stream",
     "text": [
      "25-08-19 17:19:09.290 pyfstat.utils.sft INFO    : Loading 1 SFTs from H1...\n",
      "25-08-19 17:19:09.306 pyfstat.utils.sft INFO    : Loading 1 SFTs from H1...\n",
      "25-08-19 17:19:09.321 pyfstat.utils.sft INFO    : Loading 1 SFTs from H1...\n",
      "25-08-19 17:19:09.340 pyfstat.utils.sft INFO    : Loading 1 SFTs from H1...\n",
      "25-08-19 17:19:09.355 pyfstat.utils.sft INFO    : Loading 1 SFTs from H1...\n",
      "25-08-19 17:19:09.370 pyfstat.utils.sft INFO    : Loading 1 SFTs from H1...\n",
      "25-08-19 17:19:09.388 pyfstat.utils.sft INFO    : Loading 1 SFTs from H1...\n"
     ]
    },
    {
     "name": "stderr",
     "output_type": "stream",
     "text": [
      " 52%|█████▏    | 2984/5760 [00:46<00:43, 64.43it/s]"
     ]
    },
    {
     "name": "stdout",
     "output_type": "stream",
     "text": [
      "25-08-19 17:19:09.407 pyfstat.utils.sft INFO    : Loading 1 SFTs from H1...\n",
      "25-08-19 17:19:09.422 pyfstat.utils.sft INFO    : Loading 1 SFTs from H1...\n",
      "25-08-19 17:19:09.441 pyfstat.utils.sft INFO    : Loading 1 SFTs from H1...\n",
      "25-08-19 17:19:09.459 pyfstat.utils.sft INFO    : Loading 1 SFTs from H1...\n",
      "25-08-19 17:19:09.474 pyfstat.utils.sft INFO    : Loading 1 SFTs from H1...\n",
      "25-08-19 17:19:09.493 pyfstat.utils.sft INFO    : Loading 1 SFTs from H1...\n",
      "25-08-19 17:19:09.505 pyfstat.utils.sft INFO    : Loading 1 SFTs from H1...\n"
     ]
    },
    {
     "name": "stderr",
     "output_type": "stream",
     "text": [
      " 52%|█████▏    | 2991/5760 [00:46<00:43, 63.63it/s]"
     ]
    },
    {
     "name": "stdout",
     "output_type": "stream",
     "text": [
      "25-08-19 17:19:09.520 pyfstat.utils.sft INFO    : Loading 1 SFTs from H1...\n",
      "25-08-19 17:19:09.540 pyfstat.utils.sft INFO    : Loading 1 SFTs from H1...\n",
      "25-08-19 17:19:09.555 pyfstat.utils.sft INFO    : Loading 1 SFTs from H1...\n",
      "25-08-19 17:19:09.570 pyfstat.utils.sft INFO    : Loading 1 SFTs from H1...\n",
      "25-08-19 17:19:09.589 pyfstat.utils.sft INFO    : Loading 1 SFTs from H1...\n",
      "25-08-19 17:19:09.609 pyfstat.utils.sft INFO    : Loading 1 SFTs from H1...\n",
      "25-08-19 17:19:09.625 pyfstat.utils.sft INFO    : Loading 1 SFTs from H1...\n"
     ]
    },
    {
     "name": "stderr",
     "output_type": "stream",
     "text": [
      " 52%|█████▏    | 2998/5760 [00:46<00:45, 61.14it/s]"
     ]
    },
    {
     "name": "stdout",
     "output_type": "stream",
     "text": [
      "25-08-19 17:19:09.642 pyfstat.utils.sft INFO    : Loading 1 SFTs from H1...\n",
      "25-08-19 17:19:09.658 pyfstat.utils.sft INFO    : Loading 1 SFTs from H1...\n",
      "25-08-19 17:19:09.677 pyfstat.utils.sft INFO    : Loading 1 SFTs from H1...\n",
      "25-08-19 17:19:09.696 pyfstat.utils.sft INFO    : Loading 1 SFTs from H1...\n",
      "25-08-19 17:19:09.717 pyfstat.utils.sft INFO    : Loading 1 SFTs from H1...\n",
      "25-08-19 17:19:09.736 pyfstat.utils.sft INFO    : Loading 1 SFTs from H1...\n",
      "25-08-19 17:19:09.749 pyfstat.utils.sft INFO    : Loading 1 SFTs from H1...\n"
     ]
    },
    {
     "name": "stderr",
     "output_type": "stream",
     "text": [
      " 52%|█████▏    | 3005/5760 [00:46<00:45, 60.43it/s]"
     ]
    },
    {
     "name": "stdout",
     "output_type": "stream",
     "text": [
      "25-08-19 17:19:09.765 pyfstat.utils.sft INFO    : Loading 1 SFTs from H1...\n",
      "25-08-19 17:19:09.779 pyfstat.utils.sft INFO    : Loading 1 SFTs from H1...\n",
      "25-08-19 17:19:09.794 pyfstat.utils.sft INFO    : Loading 1 SFTs from H1...\n",
      "25-08-19 17:19:09.813 pyfstat.utils.sft INFO    : Loading 1 SFTs from H1...\n",
      "25-08-19 17:19:09.828 pyfstat.utils.sft INFO    : Loading 1 SFTs from H1...\n",
      "25-08-19 17:19:09.843 pyfstat.utils.sft INFO    : Loading 1 SFTs from H1...\n",
      "25-08-19 17:19:09.858 pyfstat.utils.sft INFO    : Loading 1 SFTs from H1...\n"
     ]
    },
    {
     "name": "stderr",
     "output_type": "stream",
     "text": [
      " 52%|█████▏    | 3012/5760 [00:46<00:44, 61.40it/s]"
     ]
    },
    {
     "name": "stdout",
     "output_type": "stream",
     "text": [
      "25-08-19 17:19:09.874 pyfstat.utils.sft INFO    : Loading 1 SFTs from H1...\n",
      "25-08-19 17:19:09.893 pyfstat.utils.sft INFO    : Loading 1 SFTs from H1...\n",
      "25-08-19 17:19:09.911 pyfstat.utils.sft INFO    : Loading 1 SFTs from H1...\n",
      "25-08-19 17:19:09.929 pyfstat.utils.sft INFO    : Loading 1 SFTs from H1...\n",
      "25-08-19 17:19:09.946 pyfstat.utils.sft INFO    : Loading 1 SFTs from H1...\n",
      "25-08-19 17:19:09.961 pyfstat.utils.sft INFO    : Loading 1 SFTs from H1...\n",
      "25-08-19 17:19:09.977 pyfstat.utils.sft INFO    : Loading 1 SFTs from H1...\n"
     ]
    },
    {
     "name": "stderr",
     "output_type": "stream",
     "text": [
      " 52%|█████▏    | 3019/5760 [00:46<00:45, 60.53it/s]"
     ]
    },
    {
     "name": "stdout",
     "output_type": "stream",
     "text": [
      "25-08-19 17:19:09.994 pyfstat.utils.sft INFO    : Loading 1 SFTs from H1...\n",
      "25-08-19 17:19:10.010 pyfstat.utils.sft INFO    : Loading 1 SFTs from H1...\n",
      "25-08-19 17:19:10.026 pyfstat.utils.sft INFO    : Loading 1 SFTs from H1...\n",
      "25-08-19 17:19:10.045 pyfstat.utils.sft INFO    : Loading 1 SFTs from H1...\n",
      "25-08-19 17:19:10.060 pyfstat.utils.sft INFO    : Loading 1 SFTs from H1...\n",
      "25-08-19 17:19:10.078 pyfstat.utils.sft INFO    : Loading 1 SFTs from H1...\n",
      "25-08-19 17:19:10.093 pyfstat.utils.sft INFO    : Loading 1 SFTs from H1...\n"
     ]
    },
    {
     "name": "stderr",
     "output_type": "stream",
     "text": [
      " 53%|█████▎    | 3026/5760 [00:46<00:45, 60.70it/s]"
     ]
    },
    {
     "name": "stdout",
     "output_type": "stream",
     "text": [
      "25-08-19 17:19:10.109 pyfstat.utils.sft INFO    : Loading 1 SFTs from H1...\n",
      "25-08-19 17:19:10.124 pyfstat.utils.sft INFO    : Loading 1 SFTs from H1...\n",
      "25-08-19 17:19:10.143 pyfstat.utils.sft INFO    : Loading 1 SFTs from H1...\n",
      "25-08-19 17:19:10.154 pyfstat.utils.sft INFO    : Loading 1 SFTs from H1...\n",
      "25-08-19 17:19:10.170 pyfstat.utils.sft INFO    : Loading 1 SFTs from H1...\n",
      "25-08-19 17:19:10.185 pyfstat.utils.sft INFO    : Loading 1 SFTs from H1...\n",
      "25-08-19 17:19:10.200 pyfstat.utils.sft INFO    : Loading 1 SFTs from H1...\n"
     ]
    },
    {
     "name": "stderr",
     "output_type": "stream",
     "text": [
      " 53%|█████▎    | 3033/5760 [00:46<00:44, 61.31it/s]"
     ]
    },
    {
     "name": "stdout",
     "output_type": "stream",
     "text": [
      "25-08-19 17:19:10.220 pyfstat.utils.sft INFO    : Loading 1 SFTs from H1...\n",
      "25-08-19 17:19:10.240 pyfstat.utils.sft INFO    : Loading 1 SFTs from H1...\n",
      "25-08-19 17:19:10.256 pyfstat.utils.sft INFO    : Loading 1 SFTs from H1...\n",
      "25-08-19 17:19:10.276 pyfstat.utils.sft INFO    : Loading 1 SFTs from H1...\n",
      "25-08-19 17:19:10.295 pyfstat.utils.sft INFO    : Loading 1 SFTs from H1...\n",
      "25-08-19 17:19:10.313 pyfstat.utils.sft INFO    : Loading 1 SFTs from H1...\n",
      "25-08-19 17:19:10.328 pyfstat.utils.sft INFO    : Loading 1 SFTs from H1...\n"
     ]
    },
    {
     "name": "stderr",
     "output_type": "stream",
     "text": [
      " 53%|█████▎    | 3040/5760 [00:47<00:46, 59.07it/s]"
     ]
    },
    {
     "name": "stdout",
     "output_type": "stream",
     "text": [
      "25-08-19 17:19:10.348 pyfstat.utils.sft INFO    : Loading 1 SFTs from H1...\n",
      "25-08-19 17:19:10.364 pyfstat.utils.sft INFO    : Loading 1 SFTs from H1...\n",
      "25-08-19 17:19:10.383 pyfstat.utils.sft INFO    : Loading 1 SFTs from H1...\n",
      "25-08-19 17:19:10.401 pyfstat.utils.sft INFO    : Loading 1 SFTs from H1...\n",
      "25-08-19 17:19:10.420 pyfstat.utils.sft INFO    : Loading 1 SFTs from H1...\n",
      "25-08-19 17:19:10.438 pyfstat.utils.sft INFO    : Loading 1 SFTs from H1...\n"
     ]
    },
    {
     "name": "stderr",
     "output_type": "stream",
     "text": [
      " 53%|█████▎    | 3046/5760 [00:47<00:46, 58.45it/s]"
     ]
    },
    {
     "name": "stdout",
     "output_type": "stream",
     "text": [
      "25-08-19 17:19:10.454 pyfstat.utils.sft INFO    : Loading 1 SFTs from H1...\n",
      "25-08-19 17:19:10.470 pyfstat.utils.sft INFO    : Loading 1 SFTs from H1...\n",
      "25-08-19 17:19:10.485 pyfstat.utils.sft INFO    : Loading 1 SFTs from H1...\n",
      "25-08-19 17:19:10.500 pyfstat.utils.sft INFO    : Loading 1 SFTs from H1...\n",
      "25-08-19 17:19:10.518 pyfstat.utils.sft INFO    : Loading 1 SFTs from H1...\n",
      "25-08-19 17:19:10.533 pyfstat.utils.sft INFO    : Loading 1 SFTs from H1...\n",
      "25-08-19 17:19:10.548 pyfstat.utils.sft INFO    : Loading 1 SFTs from H1...\n"
     ]
    },
    {
     "name": "stderr",
     "output_type": "stream",
     "text": [
      " 53%|█████▎    | 3053/5760 [00:47<00:45, 59.90it/s]"
     ]
    },
    {
     "name": "stdout",
     "output_type": "stream",
     "text": [
      "25-08-19 17:19:10.560 pyfstat.utils.sft INFO    : Loading 1 SFTs from H1...\n",
      "25-08-19 17:19:10.578 pyfstat.utils.sft INFO    : Loading 1 SFTs from H1...\n",
      "25-08-19 17:19:10.592 pyfstat.utils.sft INFO    : Loading 1 SFTs from H1...\n",
      "25-08-19 17:19:10.603 pyfstat.utils.sft INFO    : Loading 1 SFTs from H1...\n",
      "25-08-19 17:19:10.618 pyfstat.utils.sft INFO    : Loading 1 SFTs from H1...\n",
      "25-08-19 17:19:10.633 pyfstat.utils.sft INFO    : Loading 1 SFTs from H1...\n",
      "25-08-19 17:19:10.648 pyfstat.utils.sft INFO    : Loading 1 SFTs from H1...\n",
      "25-08-19 17:19:10.662 pyfstat.utils.sft INFO    : Loading 1 SFTs from H1...\n"
     ]
    },
    {
     "name": "stderr",
     "output_type": "stream",
     "text": [
      " 53%|█████▎    | 3061/5760 [00:47<00:42, 62.97it/s]"
     ]
    },
    {
     "name": "stdout",
     "output_type": "stream",
     "text": [
      "25-08-19 17:19:10.678 pyfstat.utils.sft INFO    : Loading 1 SFTs from H1...\n",
      "25-08-19 17:19:10.696 pyfstat.utils.sft INFO    : Loading 1 SFTs from H1...\n",
      "25-08-19 17:19:10.707 pyfstat.utils.sft INFO    : Loading 1 SFTs from H1...\n",
      "25-08-19 17:19:10.722 pyfstat.utils.sft INFO    : Loading 1 SFTs from H1...\n",
      "25-08-19 17:19:10.737 pyfstat.utils.sft INFO    : Loading 1 SFTs from H1...\n",
      "25-08-19 17:19:10.755 pyfstat.utils.sft INFO    : Loading 1 SFTs from H1...\n",
      "25-08-19 17:19:10.774 pyfstat.utils.sft INFO    : Loading 1 SFTs from H1...\n"
     ]
    },
    {
     "name": "stderr",
     "output_type": "stream",
     "text": [
      " 53%|█████▎    | 3068/5760 [00:47<00:42, 62.94it/s]"
     ]
    },
    {
     "name": "stdout",
     "output_type": "stream",
     "text": [
      "25-08-19 17:19:10.790 pyfstat.utils.sft INFO    : Loading 1 SFTs from H1...\n",
      "25-08-19 17:19:10.808 pyfstat.utils.sft INFO    : Loading 1 SFTs from H1...\n",
      "25-08-19 17:19:10.823 pyfstat.utils.sft INFO    : Loading 1 SFTs from H1...\n",
      "25-08-19 17:19:10.842 pyfstat.utils.sft INFO    : Loading 1 SFTs from H1...\n",
      "25-08-19 17:19:10.860 pyfstat.utils.sft INFO    : Loading 1 SFTs from H1...\n",
      "25-08-19 17:19:10.878 pyfstat.utils.sft INFO    : Loading 1 SFTs from H1...\n",
      "25-08-19 17:19:10.897 pyfstat.utils.sft INFO    : Loading 1 SFTs from H1...\n"
     ]
    },
    {
     "name": "stderr",
     "output_type": "stream",
     "text": [
      " 53%|█████▎    | 3075/5760 [00:47<00:43, 61.02it/s]"
     ]
    },
    {
     "name": "stdout",
     "output_type": "stream",
     "text": [
      "25-08-19 17:19:10.912 pyfstat.utils.sft INFO    : Loading 1 SFTs from H1...\n",
      "25-08-19 17:19:10.931 pyfstat.utils.sft INFO    : Loading 1 SFTs from H1...\n",
      "25-08-19 17:19:10.948 pyfstat.utils.sft INFO    : Loading 1 SFTs from H1...\n",
      "25-08-19 17:19:10.966 pyfstat.utils.sft INFO    : Loading 1 SFTs from H1...\n",
      "25-08-19 17:19:10.982 pyfstat.utils.sft INFO    : Loading 1 SFTs from H1...\n",
      "25-08-19 17:19:11.001 pyfstat.utils.sft INFO    : Loading 1 SFTs from H1...\n",
      "25-08-19 17:19:11.016 pyfstat.utils.sft INFO    : Loading 1 SFTs from H1...\n"
     ]
    },
    {
     "name": "stderr",
     "output_type": "stream",
     "text": [
      " 54%|█████▎    | 3082/5760 [00:47<00:44, 60.44it/s]"
     ]
    },
    {
     "name": "stdout",
     "output_type": "stream",
     "text": [
      "25-08-19 17:19:11.031 pyfstat.utils.sft INFO    : Loading 1 SFTs from H1...\n",
      "25-08-19 17:19:11.047 pyfstat.utils.sft INFO    : Loading 1 SFTs from H1...\n",
      "25-08-19 17:19:11.062 pyfstat.utils.sft INFO    : Loading 1 SFTs from H1...\n",
      "25-08-19 17:19:11.081 pyfstat.utils.sft INFO    : Loading 1 SFTs from H1...\n",
      "25-08-19 17:19:11.099 pyfstat.utils.sft INFO    : Loading 1 SFTs from H1...\n",
      "25-08-19 17:19:11.116 pyfstat.utils.sft INFO    : Loading 1 SFTs from H1...\n",
      "25-08-19 17:19:11.135 pyfstat.utils.sft INFO    : Loading 1 SFTs from H1...\n"
     ]
    },
    {
     "name": "stderr",
     "output_type": "stream",
     "text": [
      " 54%|█████▎    | 3089/5760 [00:47<00:45, 59.25it/s]"
     ]
    },
    {
     "name": "stdout",
     "output_type": "stream",
     "text": [
      "25-08-19 17:19:11.155 pyfstat.utils.sft INFO    : Loading 1 SFTs from H1...\n",
      "25-08-19 17:19:11.167 pyfstat.utils.sft INFO    : Loading 1 SFTs from H1...\n",
      "25-08-19 17:19:11.182 pyfstat.utils.sft INFO    : Loading 1 SFTs from H1...\n",
      "25-08-19 17:19:11.197 pyfstat.utils.sft INFO    : Loading 1 SFTs from H1...\n",
      "25-08-19 17:19:11.209 pyfstat.utils.sft INFO    : Loading 1 SFTs from H1...\n",
      "25-08-19 17:19:11.223 pyfstat.utils.sft INFO    : Loading 1 SFTs from H1...\n",
      "25-08-19 17:19:11.242 pyfstat.utils.sft INFO    : Loading 1 SFTs from H1...\n"
     ]
    },
    {
     "name": "stderr",
     "output_type": "stream",
     "text": [
      " 54%|█████▍    | 3096/5760 [00:47<00:43, 61.62it/s]"
     ]
    },
    {
     "name": "stdout",
     "output_type": "stream",
     "text": [
      "25-08-19 17:19:11.258 pyfstat.utils.sft INFO    : Loading 1 SFTs from H1...\n",
      "25-08-19 17:19:11.273 pyfstat.utils.sft INFO    : Loading 1 SFTs from H1...\n",
      "25-08-19 17:19:11.285 pyfstat.utils.sft INFO    : Loading 1 SFTs from H1...\n",
      "25-08-19 17:19:11.302 pyfstat.utils.sft INFO    : Loading 1 SFTs from H1...\n",
      "25-08-19 17:19:11.321 pyfstat.utils.sft INFO    : Loading 1 SFTs from H1...\n",
      "25-08-19 17:19:11.340 pyfstat.utils.sft INFO    : Loading 1 SFTs from H1...\n",
      "25-08-19 17:19:11.358 pyfstat.utils.sft INFO    : Loading 1 SFTs from H1...\n"
     ]
    },
    {
     "name": "stderr",
     "output_type": "stream",
     "text": [
      " 54%|█████▍    | 3103/5760 [00:48<00:43, 61.28it/s]"
     ]
    },
    {
     "name": "stdout",
     "output_type": "stream",
     "text": [
      "25-08-19 17:19:11.374 pyfstat.utils.sft INFO    : Loading 1 SFTs from H1...\n",
      "25-08-19 17:19:11.389 pyfstat.utils.sft INFO    : Loading 1 SFTs from H1...\n",
      "25-08-19 17:19:11.410 pyfstat.utils.sft INFO    : Loading 1 SFTs from H1...\n",
      "25-08-19 17:19:11.425 pyfstat.utils.sft INFO    : Loading 1 SFTs from H1...\n",
      "25-08-19 17:19:11.443 pyfstat.utils.sft INFO    : Loading 1 SFTs from H1...\n",
      "25-08-19 17:19:11.458 pyfstat.utils.sft INFO    : Loading 1 SFTs from H1...\n",
      "25-08-19 17:19:11.472 pyfstat.utils.sft INFO    : Loading 1 SFTs from H1...\n"
     ]
    },
    {
     "name": "stderr",
     "output_type": "stream",
     "text": [
      " 54%|█████▍    | 3110/5760 [00:48<00:43, 60.69it/s]"
     ]
    },
    {
     "name": "stdout",
     "output_type": "stream",
     "text": [
      "25-08-19 17:19:11.491 pyfstat.utils.sft INFO    : Loading 1 SFTs from H1...\n",
      "25-08-19 17:19:11.507 pyfstat.utils.sft INFO    : Loading 1 SFTs from H1...\n",
      "25-08-19 17:19:11.522 pyfstat.utils.sft INFO    : Loading 1 SFTs from H1...\n",
      "25-08-19 17:19:11.534 pyfstat.utils.sft INFO    : Loading 1 SFTs from H1...\n",
      "25-08-19 17:19:11.551 pyfstat.utils.sft INFO    : Loading 1 SFTs from H1...\n",
      "25-08-19 17:19:11.566 pyfstat.utils.sft INFO    : Loading 1 SFTs from H1...\n",
      "25-08-19 17:19:11.585 pyfstat.utils.sft INFO    : Loading 1 SFTs from H1...\n"
     ]
    },
    {
     "name": "stderr",
     "output_type": "stream",
     "text": [
      " 54%|█████▍    | 3117/5760 [00:48<00:43, 61.11it/s]"
     ]
    },
    {
     "name": "stdout",
     "output_type": "stream",
     "text": [
      "25-08-19 17:19:11.604 pyfstat.utils.sft INFO    : Loading 1 SFTs from H1...\n",
      "25-08-19 17:19:11.623 pyfstat.utils.sft INFO    : Loading 1 SFTs from H1...\n",
      "25-08-19 17:19:11.638 pyfstat.utils.sft INFO    : Loading 1 SFTs from H1...\n",
      "25-08-19 17:19:11.652 pyfstat.utils.sft INFO    : Loading 1 SFTs from H1...\n",
      "25-08-19 17:19:11.667 pyfstat.utils.sft INFO    : Loading 1 SFTs from H1...\n",
      "25-08-19 17:19:11.681 pyfstat.utils.sft INFO    : Loading 1 SFTs from H1...\n",
      "25-08-19 17:19:11.696 pyfstat.utils.sft INFO    : Loading 1 SFTs from H1...\n"
     ]
    },
    {
     "name": "stderr",
     "output_type": "stream",
     "text": [
      " 54%|█████▍    | 3124/5760 [00:48<00:42, 61.65it/s]"
     ]
    },
    {
     "name": "stdout",
     "output_type": "stream",
     "text": [
      "25-08-19 17:19:11.711 pyfstat.utils.sft INFO    : Loading 1 SFTs from H1...\n",
      "25-08-19 17:19:11.727 pyfstat.utils.sft INFO    : Loading 1 SFTs from H1...\n",
      "25-08-19 17:19:11.744 pyfstat.utils.sft INFO    : Loading 1 SFTs from H1...\n",
      "25-08-19 17:19:11.759 pyfstat.utils.sft INFO    : Loading 1 SFTs from H1...\n",
      "25-08-19 17:19:11.774 pyfstat.utils.sft INFO    : Loading 1 SFTs from H1...\n",
      "25-08-19 17:19:11.786 pyfstat.utils.sft INFO    : Loading 1 SFTs from H1...\n",
      "25-08-19 17:19:11.801 pyfstat.utils.sft INFO    : Loading 1 SFTs from H1...\n"
     ]
    },
    {
     "name": "stderr",
     "output_type": "stream",
     "text": [
      " 54%|█████▍    | 3131/5760 [00:48<00:41, 63.10it/s]"
     ]
    },
    {
     "name": "stdout",
     "output_type": "stream",
     "text": [
      "25-08-19 17:19:11.820 pyfstat.utils.sft INFO    : Loading 1 SFTs from H1...\n",
      "25-08-19 17:19:11.840 pyfstat.utils.sft INFO    : Loading 1 SFTs from H1...\n",
      "25-08-19 17:19:11.855 pyfstat.utils.sft INFO    : Loading 1 SFTs from H1...\n",
      "25-08-19 17:19:11.867 pyfstat.utils.sft INFO    : Loading 1 SFTs from H1...\n",
      "25-08-19 17:19:11.881 pyfstat.utils.sft INFO    : Loading 1 SFTs from H1...\n",
      "25-08-19 17:19:11.896 pyfstat.utils.sft INFO    : Loading 1 SFTs from H1...\n",
      "25-08-19 17:19:11.907 pyfstat.utils.sft INFO    : Loading 1 SFTs from H1...\n"
     ]
    },
    {
     "name": "stderr",
     "output_type": "stream",
     "text": [
      " 54%|█████▍    | 3138/5760 [00:48<00:41, 63.74it/s]"
     ]
    },
    {
     "name": "stdout",
     "output_type": "stream",
     "text": [
      "25-08-19 17:19:11.925 pyfstat.utils.sft INFO    : Loading 1 SFTs from H1...\n",
      "25-08-19 17:19:11.940 pyfstat.utils.sft INFO    : Loading 1 SFTs from H1...\n",
      "25-08-19 17:19:11.958 pyfstat.utils.sft INFO    : Loading 1 SFTs from H1...\n",
      "25-08-19 17:19:11.976 pyfstat.utils.sft INFO    : Loading 1 SFTs from H1...\n",
      "25-08-19 17:19:11.995 pyfstat.utils.sft INFO    : Loading 1 SFTs from H1...\n",
      "25-08-19 17:19:12.051 pyfstat.utils.sft INFO    : Loading 1 SFTs from H1...\n",
      "25-08-19 17:19:12.067 pyfstat.utils.sft INFO    : Loading 1 SFTs from H1...\n"
     ]
    },
    {
     "name": "stderr",
     "output_type": "stream",
     "text": [
      " 55%|█████▍    | 3145/5760 [00:48<00:46, 56.68it/s]"
     ]
    },
    {
     "name": "stdout",
     "output_type": "stream",
     "text": [
      "25-08-19 17:19:12.082 pyfstat.utils.sft INFO    : Loading 1 SFTs from H1...\n",
      "25-08-19 17:19:12.101 pyfstat.utils.sft INFO    : Loading 1 SFTs from H1...\n",
      "25-08-19 17:19:12.117 pyfstat.utils.sft INFO    : Loading 1 SFTs from H1...\n",
      "25-08-19 17:19:12.132 pyfstat.utils.sft INFO    : Loading 1 SFTs from H1...\n",
      "25-08-19 17:19:12.147 pyfstat.utils.sft INFO    : Loading 1 SFTs from H1...\n",
      "25-08-19 17:19:12.166 pyfstat.utils.sft INFO    : Loading 1 SFTs from H1...\n"
     ]
    },
    {
     "name": "stderr",
     "output_type": "stream",
     "text": [
      " 55%|█████▍    | 3151/5760 [00:48<00:45, 57.12it/s]"
     ]
    },
    {
     "name": "stdout",
     "output_type": "stream",
     "text": [
      "25-08-19 17:19:12.186 pyfstat.utils.sft INFO    : Loading 1 SFTs from H1...\n",
      "25-08-19 17:19:12.202 pyfstat.utils.sft INFO    : Loading 1 SFTs from H1...\n",
      "25-08-19 17:19:12.216 pyfstat.utils.sft INFO    : Loading 1 SFTs from H1...\n",
      "25-08-19 17:19:12.234 pyfstat.utils.sft INFO    : Loading 1 SFTs from H1...\n",
      "25-08-19 17:19:12.248 pyfstat.utils.sft INFO    : Loading 1 SFTs from H1...\n",
      "25-08-19 17:19:12.266 pyfstat.utils.sft INFO    : Loading 1 SFTs from H1...\n",
      "25-08-19 17:19:12.283 pyfstat.utils.sft INFO    : Loading 1 SFTs from H1...\n"
     ]
    },
    {
     "name": "stderr",
     "output_type": "stream",
     "text": [
      " 55%|█████▍    | 3158/5760 [00:49<00:44, 58.49it/s]"
     ]
    },
    {
     "name": "stdout",
     "output_type": "stream",
     "text": [
      "25-08-19 17:19:12.299 pyfstat.utils.sft INFO    : Loading 1 SFTs from H1...\n",
      "25-08-19 17:19:12.315 pyfstat.utils.sft INFO    : Loading 1 SFTs from H1...\n",
      "25-08-19 17:19:12.332 pyfstat.utils.sft INFO    : Loading 1 SFTs from H1...\n",
      "25-08-19 17:19:12.347 pyfstat.utils.sft INFO    : Loading 1 SFTs from H1...\n",
      "25-08-19 17:19:12.363 pyfstat.utils.sft INFO    : Loading 1 SFTs from H1...\n",
      "25-08-19 17:19:12.378 pyfstat.utils.sft INFO    : Loading 1 SFTs from H1...\n"
     ]
    },
    {
     "name": "stderr",
     "output_type": "stream",
     "text": [
      " 55%|█████▍    | 3164/5760 [00:49<00:44, 58.77it/s]"
     ]
    },
    {
     "name": "stdout",
     "output_type": "stream",
     "text": [
      "25-08-19 17:19:12.400 pyfstat.utils.sft INFO    : Loading 1 SFTs from H1...\n",
      "25-08-19 17:19:12.416 pyfstat.utils.sft INFO    : Loading 1 SFTs from H1...\n",
      "25-08-19 17:19:12.436 pyfstat.utils.sft INFO    : Loading 1 SFTs from H1...\n",
      "25-08-19 17:19:12.455 pyfstat.utils.sft INFO    : Loading 1 SFTs from H1...\n",
      "25-08-19 17:19:12.471 pyfstat.utils.sft INFO    : Loading 1 SFTs from H1...\n",
      "25-08-19 17:19:12.487 pyfstat.utils.sft INFO    : Loading 1 SFTs from H1...\n"
     ]
    },
    {
     "name": "stderr",
     "output_type": "stream",
     "text": [
      " 55%|█████▌    | 3170/5760 [00:49<00:44, 58.59it/s]"
     ]
    },
    {
     "name": "stdout",
     "output_type": "stream",
     "text": [
      "25-08-19 17:19:12.503 pyfstat.utils.sft INFO    : Loading 1 SFTs from H1...\n",
      "25-08-19 17:19:12.521 pyfstat.utils.sft INFO    : Loading 1 SFTs from H1...\n",
      "25-08-19 17:19:12.537 pyfstat.utils.sft INFO    : Loading 1 SFTs from H1...\n",
      "25-08-19 17:19:12.548 pyfstat.utils.sft INFO    : Loading 1 SFTs from H1...\n",
      "25-08-19 17:19:12.560 pyfstat.utils.sft INFO    : Loading 1 SFTs from H1...\n",
      "25-08-19 17:19:12.574 pyfstat.utils.sft INFO    : Loading 1 SFTs from H1...\n",
      "25-08-19 17:19:12.591 pyfstat.utils.sft INFO    : Loading 1 SFTs from H1...\n"
     ]
    },
    {
     "name": "stderr",
     "output_type": "stream",
     "text": [
      " 55%|█████▌    | 3177/5760 [00:49<00:42, 61.19it/s]"
     ]
    },
    {
     "name": "stdout",
     "output_type": "stream",
     "text": [
      "25-08-19 17:19:12.607 pyfstat.utils.sft INFO    : Loading 1 SFTs from H1...\n",
      "25-08-19 17:19:12.626 pyfstat.utils.sft INFO    : Loading 1 SFTs from H1...\n",
      "25-08-19 17:19:12.641 pyfstat.utils.sft INFO    : Loading 1 SFTs from H1...\n",
      "25-08-19 17:19:12.660 pyfstat.utils.sft INFO    : Loading 1 SFTs from H1...\n",
      "25-08-19 17:19:12.675 pyfstat.utils.sft INFO    : Loading 1 SFTs from H1...\n",
      "25-08-19 17:19:12.692 pyfstat.utils.sft INFO    : Loading 1 SFTs from H1...\n",
      "25-08-19 17:19:12.703 pyfstat.utils.sft INFO    : Loading 1 SFTs from H1...\n"
     ]
    },
    {
     "name": "stderr",
     "output_type": "stream",
     "text": [
      " 55%|█████▌    | 3184/5760 [00:49<00:41, 61.71it/s]"
     ]
    },
    {
     "name": "stdout",
     "output_type": "stream",
     "text": [
      "25-08-19 17:19:12.718 pyfstat.utils.sft INFO    : Loading 1 SFTs from H1...\n",
      "25-08-19 17:19:12.737 pyfstat.utils.sft INFO    : Loading 1 SFTs from H1...\n",
      "25-08-19 17:19:12.756 pyfstat.utils.sft INFO    : Loading 1 SFTs from H1...\n",
      "25-08-19 17:19:12.771 pyfstat.utils.sft INFO    : Loading 1 SFTs from H1...\n",
      "25-08-19 17:19:12.791 pyfstat.utils.sft INFO    : Loading 1 SFTs from H1...\n",
      "25-08-19 17:19:12.806 pyfstat.utils.sft INFO    : Loading 1 SFTs from H1...\n",
      "25-08-19 17:19:12.825 pyfstat.utils.sft INFO    : Loading 1 SFTs from H1...\n"
     ]
    },
    {
     "name": "stderr",
     "output_type": "stream",
     "text": [
      " 55%|█████▌    | 3191/5760 [00:49<00:43, 59.51it/s]"
     ]
    },
    {
     "name": "stdout",
     "output_type": "stream",
     "text": [
      "25-08-19 17:19:12.845 pyfstat.utils.sft INFO    : Loading 1 SFTs from H1...\n",
      "25-08-19 17:19:12.856 pyfstat.utils.sft INFO    : Loading 1 SFTs from H1...\n",
      "25-08-19 17:19:12.875 pyfstat.utils.sft INFO    : Loading 1 SFTs from H1...\n",
      "25-08-19 17:19:12.894 pyfstat.utils.sft INFO    : Loading 1 SFTs from H1...\n",
      "25-08-19 17:19:12.913 pyfstat.utils.sft INFO    : Loading 1 SFTs from H1...\n",
      "25-08-19 17:19:12.928 pyfstat.utils.sft INFO    : Loading 1 SFTs from H1...\n"
     ]
    },
    {
     "name": "stderr",
     "output_type": "stream",
     "text": [
      " 56%|█████▌    | 3197/5760 [00:49<00:43, 59.23it/s]"
     ]
    },
    {
     "name": "stdout",
     "output_type": "stream",
     "text": [
      "25-08-19 17:19:12.948 pyfstat.utils.sft INFO    : Loading 1 SFTs from H1...\n",
      "25-08-19 17:19:12.963 pyfstat.utils.sft INFO    : Loading 1 SFTs from H1...\n",
      "25-08-19 17:19:12.979 pyfstat.utils.sft INFO    : Loading 1 SFTs from H1...\n",
      "25-08-19 17:19:12.997 pyfstat.utils.sft INFO    : Loading 1 SFTs from H1...\n",
      "25-08-19 17:19:13.017 pyfstat.utils.sft INFO    : Loading 1 SFTs from H1...\n",
      "25-08-19 17:19:13.036 pyfstat.utils.sft INFO    : Loading 1 SFTs from H1...\n"
     ]
    },
    {
     "name": "stderr",
     "output_type": "stream",
     "text": [
      " 56%|█████▌    | 3203/5760 [00:49<00:43, 58.75it/s]"
     ]
    },
    {
     "name": "stdout",
     "output_type": "stream",
     "text": [
      "25-08-19 17:19:13.052 pyfstat.utils.sft INFO    : Loading 1 SFTs from H1...\n",
      "25-08-19 17:19:13.071 pyfstat.utils.sft INFO    : Loading 1 SFTs from H1...\n",
      "25-08-19 17:19:13.085 pyfstat.utils.sft INFO    : Loading 1 SFTs from H1...\n",
      "25-08-19 17:19:13.100 pyfstat.utils.sft INFO    : Loading 1 SFTs from H1...\n",
      "25-08-19 17:19:13.114 pyfstat.utils.sft INFO    : Loading 1 SFTs from H1...\n",
      "25-08-19 17:19:13.125 pyfstat.utils.sft INFO    : Loading 1 SFTs from H1...\n",
      "25-08-19 17:19:13.137 pyfstat.utils.sft INFO    : Loading 1 SFTs from H1...\n"
     ]
    },
    {
     "name": "stderr",
     "output_type": "stream",
     "text": [
      " 56%|█████▌    | 3210/5760 [00:49<00:41, 61.83it/s]"
     ]
    },
    {
     "name": "stdout",
     "output_type": "stream",
     "text": [
      "25-08-19 17:19:13.152 pyfstat.utils.sft INFO    : Loading 1 SFTs from H1...\n",
      "25-08-19 17:19:13.166 pyfstat.utils.sft INFO    : Loading 1 SFTs from H1...\n",
      "25-08-19 17:19:13.180 pyfstat.utils.sft INFO    : Loading 1 SFTs from H1...\n",
      "25-08-19 17:19:13.197 pyfstat.utils.sft INFO    : Loading 1 SFTs from H1...\n",
      "25-08-19 17:19:13.211 pyfstat.utils.sft INFO    : Loading 1 SFTs from H1...\n",
      "25-08-19 17:19:13.224 pyfstat.utils.sft INFO    : Loading 1 SFTs from H1...\n",
      "25-08-19 17:19:13.242 pyfstat.utils.sft INFO    : Loading 1 SFTs from H1...\n"
     ]
    },
    {
     "name": "stderr",
     "output_type": "stream",
     "text": [
      " 56%|█████▌    | 3217/5760 [00:49<00:40, 63.24it/s]"
     ]
    },
    {
     "name": "stdout",
     "output_type": "stream",
     "text": [
      "25-08-19 17:19:13.253 pyfstat.utils.sft INFO    : Loading 1 SFTs from H1...\n",
      "25-08-19 17:19:13.268 pyfstat.utils.sft INFO    : Loading 1 SFTs from H1...\n",
      "25-08-19 17:19:13.283 pyfstat.utils.sft INFO    : Loading 1 SFTs from H1...\n",
      "25-08-19 17:19:13.302 pyfstat.utils.sft INFO    : Loading 1 SFTs from H1...\n",
      "25-08-19 17:19:13.316 pyfstat.utils.sft INFO    : Loading 1 SFTs from H1...\n",
      "25-08-19 17:19:13.328 pyfstat.utils.sft INFO    : Loading 1 SFTs from H1...\n",
      "25-08-19 17:19:13.343 pyfstat.utils.sft INFO    : Loading 1 SFTs from H1...\n"
     ]
    },
    {
     "name": "stderr",
     "output_type": "stream",
     "text": [
      " 56%|█████▌    | 3224/5760 [00:50<00:39, 64.88it/s]"
     ]
    },
    {
     "name": "stdout",
     "output_type": "stream",
     "text": [
      "25-08-19 17:19:13.355 pyfstat.utils.sft INFO    : Loading 1 SFTs from H1...\n",
      "25-08-19 17:19:13.371 pyfstat.utils.sft INFO    : Loading 1 SFTs from H1...\n",
      "25-08-19 17:19:13.390 pyfstat.utils.sft INFO    : Loading 1 SFTs from H1...\n",
      "25-08-19 17:19:13.412 pyfstat.utils.sft INFO    : Loading 1 SFTs from H1...\n",
      "25-08-19 17:19:13.427 pyfstat.utils.sft INFO    : Loading 1 SFTs from H1...\n",
      "25-08-19 17:19:13.445 pyfstat.utils.sft INFO    : Loading 1 SFTs from H1...\n",
      "25-08-19 17:19:13.461 pyfstat.utils.sft INFO    : Loading 1 SFTs from H1...\n"
     ]
    },
    {
     "name": "stderr",
     "output_type": "stream",
     "text": [
      " 56%|█████▌    | 3231/5760 [00:50<00:40, 63.00it/s]"
     ]
    },
    {
     "name": "stdout",
     "output_type": "stream",
     "text": [
      "25-08-19 17:19:13.477 pyfstat.utils.sft INFO    : Loading 1 SFTs from H1...\n",
      "25-08-19 17:19:13.492 pyfstat.utils.sft INFO    : Loading 1 SFTs from H1...\n",
      "25-08-19 17:19:13.507 pyfstat.utils.sft INFO    : Loading 1 SFTs from H1...\n",
      "25-08-19 17:19:13.525 pyfstat.utils.sft INFO    : Loading 1 SFTs from H1...\n",
      "25-08-19 17:19:13.543 pyfstat.utils.sft INFO    : Loading 1 SFTs from H1...\n",
      "25-08-19 17:19:13.561 pyfstat.utils.sft INFO    : Loading 1 SFTs from H1...\n",
      "25-08-19 17:19:13.576 pyfstat.utils.sft INFO    : Loading 1 SFTs from H1...\n"
     ]
    },
    {
     "name": "stderr",
     "output_type": "stream",
     "text": [
      " 56%|█████▌    | 3238/5760 [00:50<00:40, 62.51it/s]"
     ]
    },
    {
     "name": "stdout",
     "output_type": "stream",
     "text": [
      "25-08-19 17:19:13.588 pyfstat.utils.sft INFO    : Loading 1 SFTs from H1...\n",
      "25-08-19 17:19:13.602 pyfstat.utils.sft INFO    : Loading 1 SFTs from H1...\n",
      "25-08-19 17:19:13.620 pyfstat.utils.sft INFO    : Loading 1 SFTs from H1...\n",
      "25-08-19 17:19:13.638 pyfstat.utils.sft INFO    : Loading 1 SFTs from H1...\n",
      "25-08-19 17:19:13.653 pyfstat.utils.sft INFO    : Loading 1 SFTs from H1...\n",
      "25-08-19 17:19:13.671 pyfstat.utils.sft INFO    : Loading 1 SFTs from H1...\n",
      "25-08-19 17:19:13.690 pyfstat.utils.sft INFO    : Loading 1 SFTs from H1...\n"
     ]
    },
    {
     "name": "stderr",
     "output_type": "stream",
     "text": [
      " 56%|█████▋    | 3245/5760 [00:50<00:40, 62.07it/s]"
     ]
    },
    {
     "name": "stdout",
     "output_type": "stream",
     "text": [
      "25-08-19 17:19:13.706 pyfstat.utils.sft INFO    : Loading 1 SFTs from H1...\n",
      "25-08-19 17:19:13.724 pyfstat.utils.sft INFO    : Loading 1 SFTs from H1...\n",
      "25-08-19 17:19:13.739 pyfstat.utils.sft INFO    : Loading 1 SFTs from H1...\n",
      "25-08-19 17:19:13.755 pyfstat.utils.sft INFO    : Loading 1 SFTs from H1...\n",
      "25-08-19 17:19:13.773 pyfstat.utils.sft INFO    : Loading 1 SFTs from H1...\n",
      "25-08-19 17:19:13.791 pyfstat.utils.sft INFO    : Loading 1 SFTs from H1...\n",
      "25-08-19 17:19:13.806 pyfstat.utils.sft INFO    : Loading 1 SFTs from H1...\n"
     ]
    },
    {
     "name": "stderr",
     "output_type": "stream",
     "text": [
      " 56%|█████▋    | 3252/5760 [00:50<00:41, 61.10it/s]"
     ]
    },
    {
     "name": "stdout",
     "output_type": "stream",
     "text": [
      "25-08-19 17:19:13.824 pyfstat.utils.sft INFO    : Loading 1 SFTs from H1...\n",
      "25-08-19 17:19:13.839 pyfstat.utils.sft INFO    : Loading 1 SFTs from H1...\n",
      "25-08-19 17:19:13.858 pyfstat.utils.sft INFO    : Loading 1 SFTs from H1...\n",
      "25-08-19 17:19:13.873 pyfstat.utils.sft INFO    : Loading 1 SFTs from H1...\n",
      "25-08-19 17:19:13.887 pyfstat.utils.sft INFO    : Loading 1 SFTs from H1...\n",
      "25-08-19 17:19:13.905 pyfstat.utils.sft INFO    : Loading 1 SFTs from H1...\n",
      "25-08-19 17:19:13.923 pyfstat.utils.sft INFO    : Loading 1 SFTs from H1...\n"
     ]
    },
    {
     "name": "stderr",
     "output_type": "stream",
     "text": [
      " 57%|█████▋    | 3259/5760 [00:50<00:40, 61.28it/s]"
     ]
    },
    {
     "name": "stdout",
     "output_type": "stream",
     "text": [
      "25-08-19 17:19:13.937 pyfstat.utils.sft INFO    : Loading 1 SFTs from H1...\n",
      "25-08-19 17:19:13.955 pyfstat.utils.sft INFO    : Loading 1 SFTs from H1...\n",
      "25-08-19 17:19:13.970 pyfstat.utils.sft INFO    : Loading 1 SFTs from H1...\n",
      "25-08-19 17:19:13.984 pyfstat.utils.sft INFO    : Loading 1 SFTs from H1...\n",
      "25-08-19 17:19:14.003 pyfstat.utils.sft INFO    : Loading 1 SFTs from H1...\n",
      "25-08-19 17:19:14.021 pyfstat.utils.sft INFO    : Loading 1 SFTs from H1...\n",
      "25-08-19 17:19:14.039 pyfstat.utils.sft INFO    : Loading 1 SFTs from H1...\n"
     ]
    },
    {
     "name": "stderr",
     "output_type": "stream",
     "text": [
      " 57%|█████▋    | 3266/5760 [00:50<00:41, 60.82it/s]"
     ]
    },
    {
     "name": "stdout",
     "output_type": "stream",
     "text": [
      "25-08-19 17:19:14.052 pyfstat.utils.sft INFO    : Loading 1 SFTs from H1...\n",
      "25-08-19 17:19:14.068 pyfstat.utils.sft INFO    : Loading 1 SFTs from H1...\n",
      "25-08-19 17:19:14.082 pyfstat.utils.sft INFO    : Loading 1 SFTs from H1...\n",
      "25-08-19 17:19:14.096 pyfstat.utils.sft INFO    : Loading 1 SFTs from H1...\n",
      "25-08-19 17:19:14.118 pyfstat.utils.sft INFO    : Loading 1 SFTs from H1...\n",
      "25-08-19 17:19:14.133 pyfstat.utils.sft INFO    : Loading 1 SFTs from H1...\n",
      "25-08-19 17:19:14.148 pyfstat.utils.sft INFO    : Loading 1 SFTs from H1...\n"
     ]
    },
    {
     "name": "stderr",
     "output_type": "stream",
     "text": [
      " 57%|█████▋    | 3273/5760 [00:50<00:40, 61.87it/s]"
     ]
    },
    {
     "name": "stdout",
     "output_type": "stream",
     "text": [
      "25-08-19 17:19:14.163 pyfstat.utils.sft INFO    : Loading 1 SFTs from H1...\n",
      "25-08-19 17:19:14.184 pyfstat.utils.sft INFO    : Loading 1 SFTs from H1...\n",
      "25-08-19 17:19:14.202 pyfstat.utils.sft INFO    : Loading 1 SFTs from H1...\n",
      "25-08-19 17:19:14.216 pyfstat.utils.sft INFO    : Loading 1 SFTs from H1...\n",
      "25-08-19 17:19:14.234 pyfstat.utils.sft INFO    : Loading 1 SFTs from H1...\n",
      "25-08-19 17:19:14.249 pyfstat.utils.sft INFO    : Loading 1 SFTs from H1...\n",
      "25-08-19 17:19:14.268 pyfstat.utils.sft INFO    : Loading 1 SFTs from H1...\n"
     ]
    },
    {
     "name": "stderr",
     "output_type": "stream",
     "text": [
      " 57%|█████▋    | 3280/5760 [00:51<00:41, 60.06it/s]"
     ]
    },
    {
     "name": "stdout",
     "output_type": "stream",
     "text": [
      "25-08-19 17:19:14.289 pyfstat.utils.sft INFO    : Loading 1 SFTs from H1...\n",
      "25-08-19 17:19:14.307 pyfstat.utils.sft INFO    : Loading 1 SFTs from H1...\n",
      "25-08-19 17:19:14.325 pyfstat.utils.sft INFO    : Loading 1 SFTs from H1...\n",
      "25-08-19 17:19:14.340 pyfstat.utils.sft INFO    : Loading 1 SFTs from H1...\n",
      "25-08-19 17:19:14.355 pyfstat.utils.sft INFO    : Loading 1 SFTs from H1...\n",
      "25-08-19 17:19:14.370 pyfstat.utils.sft INFO    : Loading 1 SFTs from H1...\n",
      "25-08-19 17:19:14.385 pyfstat.utils.sft INFO    : Loading 1 SFTs from H1...\n"
     ]
    },
    {
     "name": "stderr",
     "output_type": "stream",
     "text": [
      " 57%|█████▋    | 3287/5760 [00:51<00:40, 60.81it/s]"
     ]
    },
    {
     "name": "stdout",
     "output_type": "stream",
     "text": [
      "25-08-19 17:19:14.400 pyfstat.utils.sft INFO    : Loading 1 SFTs from H1...\n",
      "25-08-19 17:19:14.418 pyfstat.utils.sft INFO    : Loading 1 SFTs from H1...\n",
      "25-08-19 17:19:14.437 pyfstat.utils.sft INFO    : Loading 1 SFTs from H1...\n",
      "25-08-19 17:19:14.456 pyfstat.utils.sft INFO    : Loading 1 SFTs from H1...\n",
      "25-08-19 17:19:14.474 pyfstat.utils.sft INFO    : Loading 1 SFTs from H1...\n",
      "25-08-19 17:19:14.485 pyfstat.utils.sft INFO    : Loading 1 SFTs from H1...\n",
      "25-08-19 17:19:14.499 pyfstat.utils.sft INFO    : Loading 1 SFTs from H1...\n"
     ]
    },
    {
     "name": "stderr",
     "output_type": "stream",
     "text": [
      " 57%|█████▋    | 3294/5760 [00:51<00:40, 60.91it/s]"
     ]
    },
    {
     "name": "stdout",
     "output_type": "stream",
     "text": [
      "25-08-19 17:19:14.514 pyfstat.utils.sft INFO    : Loading 1 SFTs from H1...\n",
      "25-08-19 17:19:14.532 pyfstat.utils.sft INFO    : Loading 1 SFTs from H1...\n",
      "25-08-19 17:19:14.542 pyfstat.utils.sft INFO    : Loading 1 SFTs from H1...\n",
      "25-08-19 17:19:14.553 pyfstat.utils.sft INFO    : Loading 1 SFTs from H1...\n",
      "25-08-19 17:19:14.567 pyfstat.utils.sft INFO    : Loading 1 SFTs from H1...\n",
      "25-08-19 17:19:14.581 pyfstat.utils.sft INFO    : Loading 1 SFTs from H1...\n",
      "25-08-19 17:19:14.595 pyfstat.utils.sft INFO    : Loading 1 SFTs from H1...\n",
      "25-08-19 17:19:14.607 pyfstat.utils.sft INFO    : Loading 1 SFTs from H1...\n"
     ]
    },
    {
     "name": "stderr",
     "output_type": "stream",
     "text": [
      " 57%|█████▋    | 3302/5760 [00:51<00:37, 64.77it/s]"
     ]
    },
    {
     "name": "stdout",
     "output_type": "stream",
     "text": [
      "25-08-19 17:19:14.622 pyfstat.utils.sft INFO    : Loading 1 SFTs from H1...\n",
      "25-08-19 17:19:14.637 pyfstat.utils.sft INFO    : Loading 1 SFTs from H1...\n",
      "25-08-19 17:19:14.651 pyfstat.utils.sft INFO    : Loading 1 SFTs from H1...\n",
      "25-08-19 17:19:14.666 pyfstat.utils.sft INFO    : Loading 1 SFTs from H1...\n",
      "25-08-19 17:19:14.680 pyfstat.utils.sft INFO    : Loading 1 SFTs from H1...\n",
      "25-08-19 17:19:14.695 pyfstat.utils.sft INFO    : Loading 1 SFTs from H1...\n",
      "25-08-19 17:19:14.710 pyfstat.utils.sft INFO    : Loading 1 SFTs from H1...\n"
     ]
    },
    {
     "name": "stderr",
     "output_type": "stream",
     "text": [
      " 57%|█████▋    | 3309/5760 [00:51<00:37, 65.64it/s]"
     ]
    },
    {
     "name": "stdout",
     "output_type": "stream",
     "text": [
      "25-08-19 17:19:14.721 pyfstat.utils.sft INFO    : Loading 1 SFTs from H1...\n",
      "25-08-19 17:19:14.736 pyfstat.utils.sft INFO    : Loading 1 SFTs from H1...\n",
      "25-08-19 17:19:14.751 pyfstat.utils.sft INFO    : Loading 1 SFTs from H1...\n",
      "25-08-19 17:19:14.762 pyfstat.utils.sft INFO    : Loading 1 SFTs from H1...\n",
      "25-08-19 17:19:14.776 pyfstat.utils.sft INFO    : Loading 1 SFTs from H1...\n",
      "25-08-19 17:19:14.790 pyfstat.utils.sft INFO    : Loading 1 SFTs from H1...\n",
      "25-08-19 17:19:14.805 pyfstat.utils.sft INFO    : Loading 1 SFTs from H1...\n",
      "25-08-19 17:19:14.820 pyfstat.utils.sft INFO    : Loading 1 SFTs from H1...\n"
     ]
    },
    {
     "name": "stderr",
     "output_type": "stream",
     "text": [
      " 58%|█████▊    | 3317/5760 [00:51<00:36, 67.82it/s]"
     ]
    },
    {
     "name": "stdout",
     "output_type": "stream",
     "text": [
      "25-08-19 17:19:14.832 pyfstat.utils.sft INFO    : Loading 1 SFTs from H1...\n",
      "25-08-19 17:19:14.843 pyfstat.utils.sft INFO    : Loading 1 SFTs from H1...\n",
      "25-08-19 17:19:14.857 pyfstat.utils.sft INFO    : Loading 1 SFTs from H1...\n",
      "25-08-19 17:19:14.876 pyfstat.utils.sft INFO    : Loading 1 SFTs from H1...\n",
      "25-08-19 17:19:14.891 pyfstat.utils.sft INFO    : Loading 1 SFTs from H1...\n",
      "25-08-19 17:19:14.909 pyfstat.utils.sft INFO    : Loading 1 SFTs from H1...\n",
      "25-08-19 17:19:14.927 pyfstat.utils.sft INFO    : Loading 1 SFTs from H1...\n"
     ]
    },
    {
     "name": "stderr",
     "output_type": "stream",
     "text": [
      " 58%|█████▊    | 3324/5760 [00:51<00:36, 66.35it/s]"
     ]
    },
    {
     "name": "stdout",
     "output_type": "stream",
     "text": [
      "25-08-19 17:19:14.946 pyfstat.utils.sft INFO    : Loading 1 SFTs from H1...\n",
      "25-08-19 17:19:14.961 pyfstat.utils.sft INFO    : Loading 1 SFTs from H1...\n",
      "25-08-19 17:19:14.976 pyfstat.utils.sft INFO    : Loading 1 SFTs from H1...\n",
      "25-08-19 17:19:14.991 pyfstat.utils.sft INFO    : Loading 1 SFTs from H1...\n",
      "25-08-19 17:19:15.006 pyfstat.utils.sft INFO    : Loading 1 SFTs from H1...\n",
      "25-08-19 17:19:15.024 pyfstat.utils.sft INFO    : Loading 1 SFTs from H1...\n",
      "25-08-19 17:19:15.043 pyfstat.utils.sft INFO    : Loading 1 SFTs from H1...\n"
     ]
    },
    {
     "name": "stderr",
     "output_type": "stream",
     "text": [
      " 58%|█████▊    | 3331/5760 [00:51<00:37, 65.12it/s]"
     ]
    },
    {
     "name": "stdout",
     "output_type": "stream",
     "text": [
      "25-08-19 17:19:15.058 pyfstat.utils.sft INFO    : Loading 1 SFTs from H1...\n",
      "25-08-19 17:19:15.077 pyfstat.utils.sft INFO    : Loading 1 SFTs from H1...\n",
      "25-08-19 17:19:15.095 pyfstat.utils.sft INFO    : Loading 1 SFTs from H1...\n",
      "25-08-19 17:19:15.113 pyfstat.utils.sft INFO    : Loading 1 SFTs from H1...\n",
      "25-08-19 17:19:15.130 pyfstat.utils.sft INFO    : Loading 1 SFTs from H1...\n",
      "25-08-19 17:19:15.144 pyfstat.utils.sft INFO    : Loading 1 SFTs from H1...\n",
      "25-08-19 17:19:15.163 pyfstat.utils.sft INFO    : Loading 1 SFTs from H1...\n"
     ]
    },
    {
     "name": "stderr",
     "output_type": "stream",
     "text": [
      " 58%|█████▊    | 3338/5760 [00:51<00:38, 63.04it/s]"
     ]
    },
    {
     "name": "stdout",
     "output_type": "stream",
     "text": [
      "25-08-19 17:19:15.174 pyfstat.utils.sft INFO    : Loading 1 SFTs from H1...\n",
      "25-08-19 17:19:15.185 pyfstat.utils.sft INFO    : Loading 1 SFTs from H1...\n",
      "25-08-19 17:19:15.200 pyfstat.utils.sft INFO    : Loading 1 SFTs from H1...\n",
      "25-08-19 17:19:15.215 pyfstat.utils.sft INFO    : Loading 1 SFTs from H1...\n",
      "25-08-19 17:19:15.229 pyfstat.utils.sft INFO    : Loading 1 SFTs from H1...\n",
      "25-08-19 17:19:15.247 pyfstat.utils.sft INFO    : Loading 1 SFTs from H1...\n",
      "25-08-19 17:19:15.258 pyfstat.utils.sft INFO    : Loading 1 SFTs from H1...\n",
      "25-08-19 17:19:15.272 pyfstat.utils.sft INFO    : Loading 1 SFTs from H1...\n"
     ]
    },
    {
     "name": "stderr",
     "output_type": "stream",
     "text": [
      " 58%|█████▊    | 3346/5760 [00:52<00:36, 65.99it/s]"
     ]
    },
    {
     "name": "stdout",
     "output_type": "stream",
     "text": [
      "25-08-19 17:19:15.287 pyfstat.utils.sft INFO    : Loading 1 SFTs from H1...\n",
      "25-08-19 17:19:15.306 pyfstat.utils.sft INFO    : Loading 1 SFTs from H1...\n",
      "25-08-19 17:19:15.320 pyfstat.utils.sft INFO    : Loading 1 SFTs from H1...\n",
      "25-08-19 17:19:15.334 pyfstat.utils.sft INFO    : Loading 1 SFTs from H1...\n",
      "25-08-19 17:19:15.349 pyfstat.utils.sft INFO    : Loading 1 SFTs from H1...\n",
      "25-08-19 17:19:15.360 pyfstat.utils.sft INFO    : Loading 1 SFTs from H1...\n",
      "25-08-19 17:19:15.374 pyfstat.utils.sft INFO    : Loading 1 SFTs from H1...\n"
     ]
    },
    {
     "name": "stderr",
     "output_type": "stream",
     "text": [
      " 58%|█████▊    | 3353/5760 [00:52<00:36, 66.54it/s]"
     ]
    },
    {
     "name": "stdout",
     "output_type": "stream",
     "text": [
      "25-08-19 17:19:15.391 pyfstat.utils.sft INFO    : Loading 1 SFTs from H1...\n",
      "25-08-19 17:19:15.409 pyfstat.utils.sft INFO    : Loading 1 SFTs from H1...\n",
      "25-08-19 17:19:15.424 pyfstat.utils.sft INFO    : Loading 1 SFTs from H1...\n",
      "25-08-19 17:19:15.438 pyfstat.utils.sft INFO    : Loading 1 SFTs from H1...\n",
      "25-08-19 17:19:15.449 pyfstat.utils.sft INFO    : Loading 1 SFTs from H1...\n",
      "25-08-19 17:19:15.467 pyfstat.utils.sft INFO    : Loading 1 SFTs from H1...\n",
      "25-08-19 17:19:15.479 pyfstat.utils.sft INFO    : Loading 1 SFTs from H1...\n"
     ]
    },
    {
     "name": "stderr",
     "output_type": "stream",
     "text": [
      " 58%|█████▊    | 3360/5760 [00:52<00:35, 66.74it/s]"
     ]
    },
    {
     "name": "stdout",
     "output_type": "stream",
     "text": [
      "25-08-19 17:19:15.491 pyfstat.utils.sft INFO    : Loading 1 SFTs from H1...\n",
      "25-08-19 17:19:15.502 pyfstat.utils.sft INFO    : Loading 1 SFTs from H1...\n",
      "25-08-19 17:19:15.516 pyfstat.utils.sft INFO    : Loading 1 SFTs from H1...\n",
      "25-08-19 17:19:15.535 pyfstat.utils.sft INFO    : Loading 1 SFTs from H1...\n",
      "25-08-19 17:19:15.552 pyfstat.utils.sft INFO    : Loading 1 SFTs from H1...\n",
      "25-08-19 17:19:15.571 pyfstat.utils.sft INFO    : Loading 1 SFTs from H1...\n",
      "25-08-19 17:19:15.582 pyfstat.utils.sft INFO    : Loading 1 SFTs from H1...\n"
     ]
    },
    {
     "name": "stderr",
     "output_type": "stream",
     "text": [
      " 58%|█████▊    | 3367/5760 [00:52<00:35, 67.07it/s]"
     ]
    },
    {
     "name": "stdout",
     "output_type": "stream",
     "text": [
      "25-08-19 17:19:15.598 pyfstat.utils.sft INFO    : Loading 1 SFTs from H1...\n",
      "25-08-19 17:19:15.617 pyfstat.utils.sft INFO    : Loading 1 SFTs from H1...\n",
      "25-08-19 17:19:15.633 pyfstat.utils.sft INFO    : Loading 1 SFTs from H1...\n",
      "25-08-19 17:19:15.651 pyfstat.utils.sft INFO    : Loading 1 SFTs from H1...\n",
      "25-08-19 17:19:15.663 pyfstat.utils.sft INFO    : Loading 1 SFTs from H1...\n",
      "25-08-19 17:19:15.677 pyfstat.utils.sft INFO    : Loading 1 SFTs from H1...\n",
      "25-08-19 17:19:15.693 pyfstat.utils.sft INFO    : Loading 1 SFTs from H1...\n"
     ]
    },
    {
     "name": "stderr",
     "output_type": "stream",
     "text": [
      " 59%|█████▊    | 3374/5760 [00:52<00:36, 65.92it/s]"
     ]
    },
    {
     "name": "stdout",
     "output_type": "stream",
     "text": [
      "25-08-19 17:19:15.709 pyfstat.utils.sft INFO    : Loading 1 SFTs from H1...\n",
      "25-08-19 17:19:15.727 pyfstat.utils.sft INFO    : Loading 1 SFTs from H1...\n",
      "25-08-19 17:19:15.742 pyfstat.utils.sft INFO    : Loading 1 SFTs from H1...\n",
      "25-08-19 17:19:15.761 pyfstat.utils.sft INFO    : Loading 1 SFTs from H1...\n",
      "25-08-19 17:19:15.775 pyfstat.utils.sft INFO    : Loading 1 SFTs from H1...\n",
      "25-08-19 17:19:15.790 pyfstat.utils.sft INFO    : Loading 1 SFTs from H1...\n",
      "25-08-19 17:19:15.805 pyfstat.utils.sft INFO    : Loading 1 SFTs from H1...\n"
     ]
    },
    {
     "name": "stderr",
     "output_type": "stream",
     "text": [
      " 59%|█████▊    | 3381/5760 [00:52<00:36, 64.88it/s]"
     ]
    },
    {
     "name": "stdout",
     "output_type": "stream",
     "text": [
      "25-08-19 17:19:15.820 pyfstat.utils.sft INFO    : Loading 1 SFTs from H1...\n",
      "25-08-19 17:19:15.835 pyfstat.utils.sft INFO    : Loading 1 SFTs from H1...\n",
      "25-08-19 17:19:15.854 pyfstat.utils.sft INFO    : Loading 1 SFTs from H1...\n",
      "25-08-19 17:19:15.865 pyfstat.utils.sft INFO    : Loading 1 SFTs from H1...\n",
      "25-08-19 17:19:15.876 pyfstat.utils.sft INFO    : Loading 1 SFTs from H1...\n",
      "25-08-19 17:19:15.894 pyfstat.utils.sft INFO    : Loading 1 SFTs from H1...\n",
      "25-08-19 17:19:15.913 pyfstat.utils.sft INFO    : Loading 1 SFTs from H1...\n"
     ]
    },
    {
     "name": "stderr",
     "output_type": "stream",
     "text": [
      " 59%|█████▉    | 3388/5760 [00:52<00:36, 64.18it/s]"
     ]
    },
    {
     "name": "stdout",
     "output_type": "stream",
     "text": [
      "25-08-19 17:19:15.932 pyfstat.utils.sft INFO    : Loading 1 SFTs from H1...\n",
      "25-08-19 17:19:15.950 pyfstat.utils.sft INFO    : Loading 1 SFTs from H1...\n",
      "25-08-19 17:19:15.967 pyfstat.utils.sft INFO    : Loading 1 SFTs from H1...\n",
      "25-08-19 17:19:15.982 pyfstat.utils.sft INFO    : Loading 1 SFTs from H1...\n",
      "25-08-19 17:19:15.997 pyfstat.utils.sft INFO    : Loading 1 SFTs from H1...\n",
      "25-08-19 17:19:16.013 pyfstat.utils.sft INFO    : Loading 1 SFTs from H1...\n",
      "25-08-19 17:19:16.028 pyfstat.utils.sft INFO    : Loading 1 SFTs from H1...\n"
     ]
    },
    {
     "name": "stderr",
     "output_type": "stream",
     "text": [
      " 59%|█████▉    | 3395/5760 [00:52<00:37, 63.71it/s]"
     ]
    },
    {
     "name": "stdout",
     "output_type": "stream",
     "text": [
      "25-08-19 17:19:16.044 pyfstat.utils.sft INFO    : Loading 1 SFTs from H1...\n",
      "25-08-19 17:19:16.056 pyfstat.utils.sft INFO    : Loading 1 SFTs from H1...\n",
      "25-08-19 17:19:16.071 pyfstat.utils.sft INFO    : Loading 1 SFTs from H1...\n",
      "25-08-19 17:19:16.085 pyfstat.utils.sft INFO    : Loading 1 SFTs from H1...\n",
      "25-08-19 17:19:16.099 pyfstat.utils.sft INFO    : Loading 1 SFTs from H1...\n",
      "25-08-19 17:19:16.114 pyfstat.utils.sft INFO    : Loading 1 SFTs from H1...\n",
      "25-08-19 17:19:16.126 pyfstat.utils.sft INFO    : Loading 1 SFTs from H1...\n",
      "25-08-19 17:19:16.140 pyfstat.utils.sft INFO    : Loading 1 SFTs from H1...\n"
     ]
    },
    {
     "name": "stderr",
     "output_type": "stream",
     "text": [
      " 59%|█████▉    | 3403/5760 [00:52<00:35, 65.97it/s]"
     ]
    },
    {
     "name": "stdout",
     "output_type": "stream",
     "text": [
      "25-08-19 17:19:16.156 pyfstat.utils.sft INFO    : Loading 1 SFTs from H1...\n",
      "25-08-19 17:19:16.175 pyfstat.utils.sft INFO    : Loading 1 SFTs from H1...\n",
      "25-08-19 17:19:16.194 pyfstat.utils.sft INFO    : Loading 1 SFTs from H1...\n",
      "25-08-19 17:19:16.210 pyfstat.utils.sft INFO    : Loading 1 SFTs from H1...\n",
      "25-08-19 17:19:16.224 pyfstat.utils.sft INFO    : Loading 1 SFTs from H1...\n",
      "25-08-19 17:19:16.239 pyfstat.utils.sft INFO    : Loading 1 SFTs from H1...\n",
      "25-08-19 17:19:16.250 pyfstat.utils.sft INFO    : Loading 1 SFTs from H1...\n"
     ]
    },
    {
     "name": "stderr",
     "output_type": "stream",
     "text": [
      " 59%|█████▉    | 3410/5760 [00:52<00:35, 65.45it/s]"
     ]
    },
    {
     "name": "stdout",
     "output_type": "stream",
     "text": [
      "25-08-19 17:19:16.262 pyfstat.utils.sft INFO    : Loading 1 SFTs from H1...\n",
      "25-08-19 17:19:16.280 pyfstat.utils.sft INFO    : Loading 1 SFTs from H1...\n",
      "25-08-19 17:19:16.298 pyfstat.utils.sft INFO    : Loading 1 SFTs from H1...\n",
      "25-08-19 17:19:16.317 pyfstat.utils.sft INFO    : Loading 1 SFTs from H1...\n",
      "25-08-19 17:19:16.329 pyfstat.utils.sft INFO    : Loading 1 SFTs from H1...\n",
      "25-08-19 17:19:16.343 pyfstat.utils.sft INFO    : Loading 1 SFTs from H1...\n",
      "25-08-19 17:19:16.361 pyfstat.utils.sft INFO    : Loading 1 SFTs from H1...\n"
     ]
    },
    {
     "name": "stderr",
     "output_type": "stream",
     "text": [
      " 59%|█████▉    | 3417/5760 [00:53<00:36, 64.58it/s]"
     ]
    },
    {
     "name": "stdout",
     "output_type": "stream",
     "text": [
      "25-08-19 17:19:16.377 pyfstat.utils.sft INFO    : Loading 1 SFTs from H1...\n",
      "25-08-19 17:19:16.395 pyfstat.utils.sft INFO    : Loading 1 SFTs from H1...\n",
      "25-08-19 17:19:16.411 pyfstat.utils.sft INFO    : Loading 1 SFTs from H1...\n",
      "25-08-19 17:19:16.426 pyfstat.utils.sft INFO    : Loading 1 SFTs from H1...\n",
      "25-08-19 17:19:16.440 pyfstat.utils.sft INFO    : Loading 1 SFTs from H1...\n",
      "25-08-19 17:19:16.457 pyfstat.utils.sft INFO    : Loading 1 SFTs from H1...\n",
      "25-08-19 17:19:16.471 pyfstat.utils.sft INFO    : Loading 1 SFTs from H1...\n"
     ]
    },
    {
     "name": "stderr",
     "output_type": "stream",
     "text": [
      " 59%|█████▉    | 3424/5760 [00:53<00:36, 64.42it/s]"
     ]
    },
    {
     "name": "stdout",
     "output_type": "stream",
     "text": [
      "25-08-19 17:19:16.486 pyfstat.utils.sft INFO    : Loading 1 SFTs from H1...\n",
      "25-08-19 17:19:16.501 pyfstat.utils.sft INFO    : Loading 1 SFTs from H1...\n",
      "25-08-19 17:19:16.516 pyfstat.utils.sft INFO    : Loading 1 SFTs from H1...\n",
      "25-08-19 17:19:16.530 pyfstat.utils.sft INFO    : Loading 1 SFTs from H1...\n",
      "25-08-19 17:19:16.548 pyfstat.utils.sft INFO    : Loading 1 SFTs from H1...\n",
      "25-08-19 17:19:16.563 pyfstat.utils.sft INFO    : Loading 1 SFTs from H1...\n",
      "25-08-19 17:19:16.577 pyfstat.utils.sft INFO    : Loading 1 SFTs from H1...\n"
     ]
    },
    {
     "name": "stderr",
     "output_type": "stream",
     "text": [
      " 60%|█████▉    | 3431/5760 [00:53<00:36, 63.86it/s]"
     ]
    },
    {
     "name": "stdout",
     "output_type": "stream",
     "text": [
      "25-08-19 17:19:16.598 pyfstat.utils.sft INFO    : Loading 1 SFTs from H1...\n",
      "25-08-19 17:19:16.613 pyfstat.utils.sft INFO    : Loading 1 SFTs from H1...\n",
      "25-08-19 17:19:16.627 pyfstat.utils.sft INFO    : Loading 1 SFTs from H1...\n",
      "25-08-19 17:19:16.642 pyfstat.utils.sft INFO    : Loading 1 SFTs from H1...\n",
      "25-08-19 17:19:16.661 pyfstat.utils.sft INFO    : Loading 1 SFTs from H1...\n",
      "25-08-19 17:19:16.679 pyfstat.utils.sft INFO    : Loading 1 SFTs from H1...\n",
      "25-08-19 17:19:16.694 pyfstat.utils.sft INFO    : Loading 1 SFTs from H1...\n"
     ]
    },
    {
     "name": "stderr",
     "output_type": "stream",
     "text": [
      " 60%|█████▉    | 3438/5760 [00:53<00:36, 63.48it/s]"
     ]
    },
    {
     "name": "stdout",
     "output_type": "stream",
     "text": [
      "25-08-19 17:19:16.710 pyfstat.utils.sft INFO    : Loading 1 SFTs from H1...\n",
      "25-08-19 17:19:16.728 pyfstat.utils.sft INFO    : Loading 1 SFTs from H1...\n",
      "25-08-19 17:19:16.743 pyfstat.utils.sft INFO    : Loading 1 SFTs from H1...\n",
      "25-08-19 17:19:16.757 pyfstat.utils.sft INFO    : Loading 1 SFTs from H1...\n",
      "25-08-19 17:19:16.772 pyfstat.utils.sft INFO    : Loading 1 SFTs from H1...\n",
      "25-08-19 17:19:16.790 pyfstat.utils.sft INFO    : Loading 1 SFTs from H1...\n",
      "25-08-19 17:19:16.805 pyfstat.utils.sft INFO    : Loading 1 SFTs from H1...\n"
     ]
    },
    {
     "name": "stderr",
     "output_type": "stream",
     "text": [
      " 60%|█████▉    | 3445/5760 [00:53<00:36, 63.43it/s]"
     ]
    },
    {
     "name": "stdout",
     "output_type": "stream",
     "text": [
      "25-08-19 17:19:16.821 pyfstat.utils.sft INFO    : Loading 1 SFTs from H1...\n",
      "25-08-19 17:19:16.840 pyfstat.utils.sft INFO    : Loading 1 SFTs from H1...\n",
      "25-08-19 17:19:16.851 pyfstat.utils.sft INFO    : Loading 1 SFTs from H1...\n",
      "25-08-19 17:19:16.865 pyfstat.utils.sft INFO    : Loading 1 SFTs from H1...\n",
      "25-08-19 17:19:16.883 pyfstat.utils.sft INFO    : Loading 1 SFTs from H1...\n",
      "25-08-19 17:19:16.905 pyfstat.utils.sft INFO    : Loading 1 SFTs from H1...\n",
      "25-08-19 17:19:16.919 pyfstat.utils.sft INFO    : Loading 1 SFTs from H1...\n"
     ]
    },
    {
     "name": "stderr",
     "output_type": "stream",
     "text": [
      " 60%|█████▉    | 3452/5760 [00:53<00:36, 62.85it/s]"
     ]
    },
    {
     "name": "stdout",
     "output_type": "stream",
     "text": [
      "25-08-19 17:19:16.934 pyfstat.utils.sft INFO    : Loading 1 SFTs from H1...\n",
      "25-08-19 17:19:16.955 pyfstat.utils.sft INFO    : Loading 1 SFTs from H1...\n",
      "25-08-19 17:19:16.967 pyfstat.utils.sft INFO    : Loading 1 SFTs from H1...\n",
      "25-08-19 17:19:16.986 pyfstat.utils.sft INFO    : Loading 1 SFTs from H1...\n",
      "25-08-19 17:19:17.002 pyfstat.utils.sft INFO    : Loading 1 SFTs from H1...\n",
      "25-08-19 17:19:17.018 pyfstat.utils.sft INFO    : Loading 1 SFTs from H1...\n",
      "25-08-19 17:19:17.029 pyfstat.utils.sft INFO    : Loading 1 SFTs from H1...\n"
     ]
    },
    {
     "name": "stderr",
     "output_type": "stream",
     "text": [
      " 60%|██████    | 3459/5760 [00:53<00:36, 62.93it/s]"
     ]
    },
    {
     "name": "stdout",
     "output_type": "stream",
     "text": [
      "25-08-19 17:19:17.047 pyfstat.utils.sft INFO    : Loading 1 SFTs from H1...\n",
      "25-08-19 17:19:17.062 pyfstat.utils.sft INFO    : Loading 1 SFTs from H1...\n",
      "25-08-19 17:19:17.078 pyfstat.utils.sft INFO    : Loading 1 SFTs from H1...\n",
      "25-08-19 17:19:17.098 pyfstat.utils.sft INFO    : Loading 1 SFTs from H1...\n",
      "25-08-19 17:19:17.118 pyfstat.utils.sft INFO    : Loading 1 SFTs from H1...\n",
      "25-08-19 17:19:17.132 pyfstat.utils.sft INFO    : Loading 1 SFTs from H1...\n",
      "25-08-19 17:19:17.147 pyfstat.utils.sft INFO    : Loading 1 SFTs from H1...\n"
     ]
    },
    {
     "name": "stderr",
     "output_type": "stream",
     "text": [
      " 60%|██████    | 3466/5760 [00:53<00:37, 61.83it/s]"
     ]
    },
    {
     "name": "stdout",
     "output_type": "stream",
     "text": [
      "25-08-19 17:19:17.163 pyfstat.utils.sft INFO    : Loading 1 SFTs from H1...\n",
      "25-08-19 17:19:17.182 pyfstat.utils.sft INFO    : Loading 1 SFTs from H1...\n",
      "25-08-19 17:19:17.201 pyfstat.utils.sft INFO    : Loading 1 SFTs from H1...\n",
      "25-08-19 17:19:17.219 pyfstat.utils.sft INFO    : Loading 1 SFTs from H1...\n",
      "25-08-19 17:19:17.237 pyfstat.utils.sft INFO    : Loading 1 SFTs from H1...\n",
      "25-08-19 17:19:17.256 pyfstat.utils.sft INFO    : Loading 1 SFTs from H1...\n",
      "25-08-19 17:19:17.271 pyfstat.utils.sft INFO    : Loading 1 SFTs from H1...\n"
     ]
    },
    {
     "name": "stderr",
     "output_type": "stream",
     "text": [
      " 60%|██████    | 3473/5760 [00:54<00:37, 60.26it/s]"
     ]
    },
    {
     "name": "stdout",
     "output_type": "stream",
     "text": [
      "25-08-19 17:19:17.286 pyfstat.utils.sft INFO    : Loading 1 SFTs from H1...\n",
      "25-08-19 17:19:17.301 pyfstat.utils.sft INFO    : Loading 1 SFTs from H1...\n",
      "25-08-19 17:19:17.320 pyfstat.utils.sft INFO    : Loading 1 SFTs from H1...\n",
      "25-08-19 17:19:17.336 pyfstat.utils.sft INFO    : Loading 1 SFTs from H1...\n",
      "25-08-19 17:19:17.355 pyfstat.utils.sft INFO    : Loading 1 SFTs from H1...\n",
      "25-08-19 17:19:17.366 pyfstat.utils.sft INFO    : Loading 1 SFTs from H1...\n",
      "25-08-19 17:19:17.381 pyfstat.utils.sft INFO    : Loading 1 SFTs from H1...\n"
     ]
    },
    {
     "name": "stderr",
     "output_type": "stream",
     "text": [
      " 60%|██████    | 3480/5760 [00:54<00:37, 60.44it/s]"
     ]
    },
    {
     "name": "stdout",
     "output_type": "stream",
     "text": [
      "25-08-19 17:19:17.401 pyfstat.utils.sft INFO    : Loading 1 SFTs from H1...\n",
      "25-08-19 17:19:17.420 pyfstat.utils.sft INFO    : Loading 1 SFTs from H1...\n",
      "25-08-19 17:19:17.439 pyfstat.utils.sft INFO    : Loading 1 SFTs from H1...\n",
      "25-08-19 17:19:17.459 pyfstat.utils.sft INFO    : Loading 1 SFTs from H1...\n",
      "25-08-19 17:19:17.478 pyfstat.utils.sft INFO    : Loading 1 SFTs from H1...\n",
      "25-08-19 17:19:17.498 pyfstat.utils.sft INFO    : Loading 1 SFTs from H1...\n",
      "25-08-19 17:19:17.517 pyfstat.utils.sft INFO    : Loading 1 SFTs from H1...\n"
     ]
    },
    {
     "name": "stderr",
     "output_type": "stream",
     "text": [
      " 61%|██████    | 3487/5760 [00:54<00:39, 57.99it/s]"
     ]
    },
    {
     "name": "stdout",
     "output_type": "stream",
     "text": [
      "25-08-19 17:19:17.533 pyfstat.utils.sft INFO    : Loading 1 SFTs from H1...\n",
      "25-08-19 17:19:17.550 pyfstat.utils.sft INFO    : Loading 1 SFTs from H1...\n",
      "25-08-19 17:19:17.565 pyfstat.utils.sft INFO    : Loading 1 SFTs from H1...\n",
      "25-08-19 17:19:17.584 pyfstat.utils.sft INFO    : Loading 1 SFTs from H1...\n",
      "25-08-19 17:19:17.599 pyfstat.utils.sft INFO    : Loading 1 SFTs from H1...\n",
      "25-08-19 17:19:17.610 pyfstat.utils.sft INFO    : Loading 1 SFTs from H1...\n",
      "25-08-19 17:19:17.622 pyfstat.utils.sft INFO    : Loading 1 SFTs from H1...\n"
     ]
    },
    {
     "name": "stderr",
     "output_type": "stream",
     "text": [
      " 61%|██████    | 3494/5760 [00:54<00:37, 60.26it/s]"
     ]
    },
    {
     "name": "stdout",
     "output_type": "stream",
     "text": [
      "25-08-19 17:19:17.636 pyfstat.utils.sft INFO    : Loading 1 SFTs from H1...\n",
      "25-08-19 17:19:17.652 pyfstat.utils.sft INFO    : Loading 1 SFTs from H1...\n",
      "25-08-19 17:19:17.667 pyfstat.utils.sft INFO    : Loading 1 SFTs from H1...\n",
      "25-08-19 17:19:17.679 pyfstat.utils.sft INFO    : Loading 1 SFTs from H1...\n",
      "25-08-19 17:19:17.698 pyfstat.utils.sft INFO    : Loading 1 SFTs from H1...\n",
      "25-08-19 17:19:17.717 pyfstat.utils.sft INFO    : Loading 1 SFTs from H1...\n",
      "25-08-19 17:19:17.729 pyfstat.utils.sft INFO    : Loading 1 SFTs from H1...\n"
     ]
    },
    {
     "name": "stderr",
     "output_type": "stream",
     "text": [
      " 61%|██████    | 3501/5760 [00:54<00:36, 61.87it/s]"
     ]
    },
    {
     "name": "stdout",
     "output_type": "stream",
     "text": [
      "25-08-19 17:19:17.746 pyfstat.utils.sft INFO    : Loading 1 SFTs from H1...\n",
      "25-08-19 17:19:17.765 pyfstat.utils.sft INFO    : Loading 1 SFTs from H1...\n",
      "25-08-19 17:19:17.779 pyfstat.utils.sft INFO    : Loading 1 SFTs from H1...\n",
      "25-08-19 17:19:17.794 pyfstat.utils.sft INFO    : Loading 1 SFTs from H1...\n",
      "25-08-19 17:19:17.809 pyfstat.utils.sft INFO    : Loading 1 SFTs from H1...\n",
      "25-08-19 17:19:17.828 pyfstat.utils.sft INFO    : Loading 1 SFTs from H1...\n",
      "25-08-19 17:19:17.843 pyfstat.utils.sft INFO    : Loading 1 SFTs from H1...\n"
     ]
    },
    {
     "name": "stderr",
     "output_type": "stream",
     "text": [
      " 61%|██████    | 3508/5760 [00:54<00:36, 61.74it/s]"
     ]
    },
    {
     "name": "stdout",
     "output_type": "stream",
     "text": [
      "25-08-19 17:19:17.859 pyfstat.utils.sft INFO    : Loading 1 SFTs from H1...\n",
      "25-08-19 17:19:17.874 pyfstat.utils.sft INFO    : Loading 1 SFTs from H1...\n",
      "25-08-19 17:19:17.892 pyfstat.utils.sft INFO    : Loading 1 SFTs from H1...\n",
      "25-08-19 17:19:17.907 pyfstat.utils.sft INFO    : Loading 1 SFTs from H1...\n",
      "25-08-19 17:19:17.921 pyfstat.utils.sft INFO    : Loading 1 SFTs from H1...\n",
      "25-08-19 17:19:17.936 pyfstat.utils.sft INFO    : Loading 1 SFTs from H1...\n",
      "25-08-19 17:19:17.950 pyfstat.utils.sft INFO    : Loading 1 SFTs from H1...\n"
     ]
    },
    {
     "name": "stderr",
     "output_type": "stream",
     "text": [
      " 61%|██████    | 3515/5760 [00:54<00:35, 62.89it/s]"
     ]
    },
    {
     "name": "stdout",
     "output_type": "stream",
     "text": [
      "25-08-19 17:19:17.966 pyfstat.utils.sft INFO    : Loading 1 SFTs from H1...\n",
      "25-08-19 17:19:17.978 pyfstat.utils.sft INFO    : Loading 1 SFTs from H1...\n",
      "25-08-19 17:19:17.994 pyfstat.utils.sft INFO    : Loading 1 SFTs from H1...\n",
      "25-08-19 17:19:18.013 pyfstat.utils.sft INFO    : Loading 1 SFTs from H1...\n",
      "25-08-19 17:19:18.031 pyfstat.utils.sft INFO    : Loading 1 SFTs from H1...\n",
      "25-08-19 17:19:18.047 pyfstat.utils.sft INFO    : Loading 1 SFTs from H1...\n",
      "25-08-19 17:19:18.067 pyfstat.utils.sft INFO    : Loading 1 SFTs from H1...\n"
     ]
    },
    {
     "name": "stderr",
     "output_type": "stream",
     "text": [
      " 61%|██████    | 3522/5760 [00:54<00:36, 61.79it/s]"
     ]
    },
    {
     "name": "stdout",
     "output_type": "stream",
     "text": [
      "25-08-19 17:19:18.084 pyfstat.utils.sft INFO    : Loading 1 SFTs from H1...\n",
      "25-08-19 17:19:18.103 pyfstat.utils.sft INFO    : Loading 1 SFTs from H1...\n",
      "25-08-19 17:19:18.118 pyfstat.utils.sft INFO    : Loading 1 SFTs from H1...\n",
      "25-08-19 17:19:18.133 pyfstat.utils.sft INFO    : Loading 1 SFTs from H1...\n",
      "25-08-19 17:19:18.148 pyfstat.utils.sft INFO    : Loading 1 SFTs from H1...\n",
      "25-08-19 17:19:18.164 pyfstat.utils.sft INFO    : Loading 1 SFTs from H1...\n",
      "25-08-19 17:19:18.183 pyfstat.utils.sft INFO    : Loading 1 SFTs from H1...\n"
     ]
    },
    {
     "name": "stderr",
     "output_type": "stream",
     "text": [
      " 61%|██████▏   | 3529/5760 [00:54<00:36, 61.37it/s]"
     ]
    },
    {
     "name": "stdout",
     "output_type": "stream",
     "text": [
      "25-08-19 17:19:18.196 pyfstat.utils.sft INFO    : Loading 1 SFTs from H1...\n",
      "25-08-19 17:19:18.211 pyfstat.utils.sft INFO    : Loading 1 SFTs from H1...\n",
      "25-08-19 17:19:18.227 pyfstat.utils.sft INFO    : Loading 1 SFTs from H1...\n",
      "25-08-19 17:19:18.238 pyfstat.utils.sft INFO    : Loading 1 SFTs from H1...\n",
      "25-08-19 17:19:18.253 pyfstat.utils.sft INFO    : Loading 1 SFTs from H1...\n",
      "25-08-19 17:19:18.268 pyfstat.utils.sft INFO    : Loading 1 SFTs from H1...\n",
      "25-08-19 17:19:18.287 pyfstat.utils.sft INFO    : Loading 1 SFTs from H1...\n"
     ]
    },
    {
     "name": "stderr",
     "output_type": "stream",
     "text": [
      " 61%|██████▏   | 3536/5760 [00:55<00:35, 62.43it/s]"
     ]
    },
    {
     "name": "stdout",
     "output_type": "stream",
     "text": [
      "25-08-19 17:19:18.307 pyfstat.utils.sft INFO    : Loading 1 SFTs from H1...\n",
      "25-08-19 17:19:18.323 pyfstat.utils.sft INFO    : Loading 1 SFTs from H1...\n",
      "25-08-19 17:19:18.338 pyfstat.utils.sft INFO    : Loading 1 SFTs from H1...\n",
      "25-08-19 17:19:18.357 pyfstat.utils.sft INFO    : Loading 1 SFTs from H1...\n",
      "25-08-19 17:19:18.372 pyfstat.utils.sft INFO    : Loading 1 SFTs from H1...\n",
      "25-08-19 17:19:18.391 pyfstat.utils.sft INFO    : Loading 1 SFTs from H1...\n",
      "25-08-19 17:19:18.406 pyfstat.utils.sft INFO    : Loading 1 SFTs from H1...\n"
     ]
    },
    {
     "name": "stderr",
     "output_type": "stream",
     "text": [
      " 62%|██████▏   | 3543/5760 [00:55<00:35, 61.79it/s]"
     ]
    },
    {
     "name": "stdout",
     "output_type": "stream",
     "text": [
      "25-08-19 17:19:18.423 pyfstat.utils.sft INFO    : Loading 1 SFTs from H1...\n",
      "25-08-19 17:19:18.438 pyfstat.utils.sft INFO    : Loading 1 SFTs from H1...\n",
      "25-08-19 17:19:18.456 pyfstat.utils.sft INFO    : Loading 1 SFTs from H1...\n",
      "25-08-19 17:19:18.471 pyfstat.utils.sft INFO    : Loading 1 SFTs from H1...\n",
      "25-08-19 17:19:18.490 pyfstat.utils.sft INFO    : Loading 1 SFTs from H1...\n",
      "25-08-19 17:19:18.509 pyfstat.utils.sft INFO    : Loading 1 SFTs from H1...\n",
      "25-08-19 17:19:18.520 pyfstat.utils.sft INFO    : Loading 1 SFTs from H1...\n"
     ]
    },
    {
     "name": "stderr",
     "output_type": "stream",
     "text": [
      " 62%|██████▏   | 3550/5760 [00:55<00:35, 61.70it/s]"
     ]
    },
    {
     "name": "stdout",
     "output_type": "stream",
     "text": [
      "25-08-19 17:19:18.537 pyfstat.utils.sft INFO    : Loading 1 SFTs from H1...\n",
      "25-08-19 17:19:18.555 pyfstat.utils.sft INFO    : Loading 1 SFTs from H1...\n",
      "25-08-19 17:19:18.571 pyfstat.utils.sft INFO    : Loading 1 SFTs from H1...\n",
      "25-08-19 17:19:18.590 pyfstat.utils.sft INFO    : Loading 1 SFTs from H1...\n",
      "25-08-19 17:19:18.608 pyfstat.utils.sft INFO    : Loading 1 SFTs from H1...\n",
      "25-08-19 17:19:18.620 pyfstat.utils.sft INFO    : Loading 1 SFTs from H1...\n",
      "25-08-19 17:19:18.632 pyfstat.utils.sft INFO    : Loading 1 SFTs from H1...\n"
     ]
    },
    {
     "name": "stderr",
     "output_type": "stream",
     "text": [
      " 62%|██████▏   | 3557/5760 [00:55<00:35, 61.96it/s]"
     ]
    },
    {
     "name": "stdout",
     "output_type": "stream",
     "text": [
      "25-08-19 17:19:18.649 pyfstat.utils.sft INFO    : Loading 1 SFTs from H1...\n",
      "25-08-19 17:19:18.664 pyfstat.utils.sft INFO    : Loading 1 SFTs from H1...\n",
      "25-08-19 17:19:18.677 pyfstat.utils.sft INFO    : Loading 1 SFTs from H1...\n",
      "25-08-19 17:19:18.693 pyfstat.utils.sft INFO    : Loading 1 SFTs from H1...\n",
      "25-08-19 17:19:18.711 pyfstat.utils.sft INFO    : Loading 1 SFTs from H1...\n",
      "25-08-19 17:19:18.723 pyfstat.utils.sft INFO    : Loading 1 SFTs from H1...\n",
      "25-08-19 17:19:18.738 pyfstat.utils.sft INFO    : Loading 1 SFTs from H1...\n"
     ]
    },
    {
     "name": "stderr",
     "output_type": "stream",
     "text": [
      " 62%|██████▏   | 3564/5760 [00:55<00:34, 63.27it/s]"
     ]
    },
    {
     "name": "stdout",
     "output_type": "stream",
     "text": [
      "25-08-19 17:19:18.754 pyfstat.utils.sft INFO    : Loading 1 SFTs from H1...\n",
      "25-08-19 17:19:18.769 pyfstat.utils.sft INFO    : Loading 1 SFTs from H1...\n",
      "25-08-19 17:19:18.784 pyfstat.utils.sft INFO    : Loading 1 SFTs from H1...\n",
      "25-08-19 17:19:18.799 pyfstat.utils.sft INFO    : Loading 1 SFTs from H1...\n",
      "25-08-19 17:19:18.814 pyfstat.utils.sft INFO    : Loading 1 SFTs from H1...\n",
      "25-08-19 17:19:18.828 pyfstat.utils.sft INFO    : Loading 1 SFTs from H1...\n",
      "25-08-19 17:19:18.847 pyfstat.utils.sft INFO    : Loading 1 SFTs from H1...\n"
     ]
    },
    {
     "name": "stderr",
     "output_type": "stream",
     "text": [
      " 62%|██████▏   | 3571/5760 [00:55<00:34, 62.93it/s]"
     ]
    },
    {
     "name": "stdout",
     "output_type": "stream",
     "text": [
      "25-08-19 17:19:18.866 pyfstat.utils.sft INFO    : Loading 1 SFTs from H1...\n",
      "25-08-19 17:19:18.881 pyfstat.utils.sft INFO    : Loading 1 SFTs from H1...\n",
      "25-08-19 17:19:18.899 pyfstat.utils.sft INFO    : Loading 1 SFTs from H1...\n",
      "25-08-19 17:19:18.918 pyfstat.utils.sft INFO    : Loading 1 SFTs from H1...\n",
      "25-08-19 17:19:18.934 pyfstat.utils.sft INFO    : Loading 1 SFTs from H1...\n",
      "25-08-19 17:19:18.950 pyfstat.utils.sft INFO    : Loading 1 SFTs from H1...\n",
      "25-08-19 17:19:18.962 pyfstat.utils.sft INFO    : Loading 1 SFTs from H1...\n"
     ]
    },
    {
     "name": "stderr",
     "output_type": "stream",
     "text": [
      " 62%|██████▏   | 3578/5760 [00:55<00:34, 62.82it/s]"
     ]
    },
    {
     "name": "stdout",
     "output_type": "stream",
     "text": [
      "25-08-19 17:19:18.978 pyfstat.utils.sft INFO    : Loading 1 SFTs from H1...\n",
      "25-08-19 17:19:18.993 pyfstat.utils.sft INFO    : Loading 1 SFTs from H1...\n",
      "25-08-19 17:19:19.003 pyfstat.utils.sft INFO    : Loading 1 SFTs from H1...\n",
      "25-08-19 17:19:19.017 pyfstat.utils.sft INFO    : Loading 1 SFTs from H1...\n",
      "25-08-19 17:19:19.034 pyfstat.utils.sft INFO    : Loading 1 SFTs from H1...\n",
      "25-08-19 17:19:19.050 pyfstat.utils.sft INFO    : Loading 1 SFTs from H1...\n",
      "25-08-19 17:19:19.065 pyfstat.utils.sft INFO    : Loading 1 SFTs from H1...\n"
     ]
    },
    {
     "name": "stderr",
     "output_type": "stream",
     "text": [
      " 62%|██████▏   | 3585/5760 [00:55<00:34, 63.83it/s]"
     ]
    },
    {
     "name": "stdout",
     "output_type": "stream",
     "text": [
      "25-08-19 17:19:19.084 pyfstat.utils.sft INFO    : Loading 1 SFTs from H1...\n",
      "25-08-19 17:19:19.095 pyfstat.utils.sft INFO    : Loading 1 SFTs from H1...\n",
      "25-08-19 17:19:19.106 pyfstat.utils.sft INFO    : Loading 1 SFTs from H1...\n",
      "25-08-19 17:19:19.121 pyfstat.utils.sft INFO    : Loading 1 SFTs from H1...\n",
      "25-08-19 17:19:19.136 pyfstat.utils.sft INFO    : Loading 1 SFTs from H1...\n",
      "25-08-19 17:19:19.147 pyfstat.utils.sft INFO    : Loading 1 SFTs from H1...\n",
      "25-08-19 17:19:19.161 pyfstat.utils.sft INFO    : Loading 1 SFTs from H1...\n",
      "25-08-19 17:19:19.176 pyfstat.utils.sft INFO    : Loading 1 SFTs from H1...\n"
     ]
    },
    {
     "name": "stderr",
     "output_type": "stream",
     "text": [
      " 62%|██████▏   | 3593/5760 [00:55<00:32, 66.40it/s]"
     ]
    },
    {
     "name": "stdout",
     "output_type": "stream",
     "text": [
      "25-08-19 17:19:19.191 pyfstat.utils.sft INFO    : Loading 1 SFTs from H1...\n",
      "25-08-19 17:19:19.202 pyfstat.utils.sft INFO    : Loading 1 SFTs from H1...\n",
      "25-08-19 17:19:19.213 pyfstat.utils.sft INFO    : Loading 1 SFTs from H1...\n",
      "25-08-19 17:19:19.227 pyfstat.utils.sft INFO    : Loading 1 SFTs from H1...\n",
      "25-08-19 17:19:19.245 pyfstat.utils.sft INFO    : Loading 1 SFTs from H1...\n",
      "25-08-19 17:19:19.260 pyfstat.utils.sft INFO    : Loading 1 SFTs from H1...\n",
      "25-08-19 17:19:19.274 pyfstat.utils.sft INFO    : Loading 1 SFTs from H1...\n",
      "25-08-19 17:19:19.289 pyfstat.utils.sft INFO    : Loading 1 SFTs from H1...\n"
     ]
    },
    {
     "name": "stderr",
     "output_type": "stream",
     "text": [
      " 63%|██████▎   | 3601/5760 [00:56<00:31, 67.52it/s]"
     ]
    },
    {
     "name": "stdout",
     "output_type": "stream",
     "text": [
      "25-08-19 17:19:19.309 pyfstat.utils.sft INFO    : Loading 1 SFTs from H1...\n",
      "25-08-19 17:19:19.328 pyfstat.utils.sft INFO    : Loading 1 SFTs from H1...\n",
      "25-08-19 17:19:19.344 pyfstat.utils.sft INFO    : Loading 1 SFTs from H1...\n",
      "25-08-19 17:19:19.359 pyfstat.utils.sft INFO    : Loading 1 SFTs from H1...\n",
      "25-08-19 17:19:19.375 pyfstat.utils.sft INFO    : Loading 1 SFTs from H1...\n",
      "25-08-19 17:19:19.390 pyfstat.utils.sft INFO    : Loading 1 SFTs from H1...\n",
      "25-08-19 17:19:19.409 pyfstat.utils.sft INFO    : Loading 1 SFTs from H1...\n"
     ]
    },
    {
     "name": "stderr",
     "output_type": "stream",
     "text": [
      " 63%|██████▎   | 3608/5760 [00:56<00:33, 65.19it/s]"
     ]
    },
    {
     "name": "stdout",
     "output_type": "stream",
     "text": [
      "25-08-19 17:19:19.426 pyfstat.utils.sft INFO    : Loading 1 SFTs from H1...\n",
      "25-08-19 17:19:19.440 pyfstat.utils.sft INFO    : Loading 1 SFTs from H1...\n",
      "25-08-19 17:19:19.452 pyfstat.utils.sft INFO    : Loading 1 SFTs from H1...\n",
      "25-08-19 17:19:19.467 pyfstat.utils.sft INFO    : Loading 1 SFTs from H1...\n",
      "25-08-19 17:19:19.479 pyfstat.utils.sft INFO    : Loading 1 SFTs from H1...\n",
      "25-08-19 17:19:19.494 pyfstat.utils.sft INFO    : Loading 1 SFTs from H1...\n",
      "25-08-19 17:19:19.512 pyfstat.utils.sft INFO    : Loading 1 SFTs from H1...\n"
     ]
    },
    {
     "name": "stderr",
     "output_type": "stream",
     "text": [
      " 63%|██████▎   | 3615/5760 [00:56<00:32, 66.00it/s]"
     ]
    },
    {
     "name": "stdout",
     "output_type": "stream",
     "text": [
      "25-08-19 17:19:19.528 pyfstat.utils.sft INFO    : Loading 1 SFTs from H1...\n",
      "25-08-19 17:19:19.544 pyfstat.utils.sft INFO    : Loading 1 SFTs from H1...\n",
      "25-08-19 17:19:19.559 pyfstat.utils.sft INFO    : Loading 1 SFTs from H1...\n",
      "25-08-19 17:19:19.574 pyfstat.utils.sft INFO    : Loading 1 SFTs from H1...\n",
      "25-08-19 17:19:19.589 pyfstat.utils.sft INFO    : Loading 1 SFTs from H1...\n",
      "25-08-19 17:19:19.609 pyfstat.utils.sft INFO    : Loading 1 SFTs from H1...\n",
      "25-08-19 17:19:19.624 pyfstat.utils.sft INFO    : Loading 1 SFTs from H1...\n"
     ]
    },
    {
     "name": "stderr",
     "output_type": "stream",
     "text": [
      " 63%|██████▎   | 3622/5760 [00:56<00:32, 64.99it/s]"
     ]
    },
    {
     "name": "stdout",
     "output_type": "stream",
     "text": [
      "25-08-19 17:19:19.640 pyfstat.utils.sft INFO    : Loading 1 SFTs from H1...\n",
      "25-08-19 17:19:19.659 pyfstat.utils.sft INFO    : Loading 1 SFTs from H1...\n",
      "25-08-19 17:19:19.677 pyfstat.utils.sft INFO    : Loading 1 SFTs from H1...\n",
      "25-08-19 17:19:19.695 pyfstat.utils.sft INFO    : Loading 1 SFTs from H1...\n",
      "25-08-19 17:19:19.706 pyfstat.utils.sft INFO    : Loading 1 SFTs from H1...\n",
      "25-08-19 17:19:19.718 pyfstat.utils.sft INFO    : Loading 1 SFTs from H1...\n",
      "25-08-19 17:19:19.734 pyfstat.utils.sft INFO    : Loading 1 SFTs from H1...\n"
     ]
    },
    {
     "name": "stderr",
     "output_type": "stream",
     "text": [
      " 63%|██████▎   | 3629/5760 [00:56<00:33, 63.86it/s]"
     ]
    },
    {
     "name": "stdout",
     "output_type": "stream",
     "text": [
      "25-08-19 17:19:19.754 pyfstat.utils.sft INFO    : Loading 1 SFTs from H1...\n",
      "25-08-19 17:19:19.769 pyfstat.utils.sft INFO    : Loading 1 SFTs from H1...\n",
      "25-08-19 17:19:19.783 pyfstat.utils.sft INFO    : Loading 1 SFTs from H1...\n",
      "25-08-19 17:19:19.798 pyfstat.utils.sft INFO    : Loading 1 SFTs from H1...\n",
      "25-08-19 17:19:19.809 pyfstat.utils.sft INFO    : Loading 1 SFTs from H1...\n",
      "25-08-19 17:19:19.824 pyfstat.utils.sft INFO    : Loading 1 SFTs from H1...\n",
      "25-08-19 17:19:19.842 pyfstat.utils.sft INFO    : Loading 1 SFTs from H1...\n"
     ]
    },
    {
     "name": "stderr",
     "output_type": "stream",
     "text": [
      " 63%|██████▎   | 3636/5760 [00:56<00:33, 64.24it/s]"
     ]
    },
    {
     "name": "stdout",
     "output_type": "stream",
     "text": [
      "25-08-19 17:19:19.861 pyfstat.utils.sft INFO    : Loading 1 SFTs from H1...\n",
      "25-08-19 17:19:19.880 pyfstat.utils.sft INFO    : Loading 1 SFTs from H1...\n",
      "25-08-19 17:19:19.894 pyfstat.utils.sft INFO    : Loading 1 SFTs from H1...\n",
      "25-08-19 17:19:19.908 pyfstat.utils.sft INFO    : Loading 1 SFTs from H1...\n",
      "25-08-19 17:19:19.923 pyfstat.utils.sft INFO    : Loading 1 SFTs from H1...\n",
      "25-08-19 17:19:19.937 pyfstat.utils.sft INFO    : Loading 1 SFTs from H1...\n",
      "25-08-19 17:19:19.949 pyfstat.utils.sft INFO    : Loading 1 SFTs from H1...\n"
     ]
    },
    {
     "name": "stderr",
     "output_type": "stream",
     "text": [
      " 63%|██████▎   | 3643/5760 [00:56<00:32, 65.20it/s]"
     ]
    },
    {
     "name": "stdout",
     "output_type": "stream",
     "text": [
      "25-08-19 17:19:19.962 pyfstat.utils.sft INFO    : Loading 1 SFTs from H1...\n",
      "25-08-19 17:19:19.973 pyfstat.utils.sft INFO    : Loading 1 SFTs from H1...\n",
      "25-08-19 17:19:19.988 pyfstat.utils.sft INFO    : Loading 1 SFTs from H1...\n",
      "25-08-19 17:19:20.007 pyfstat.utils.sft INFO    : Loading 1 SFTs from H1...\n",
      "25-08-19 17:19:20.020 pyfstat.utils.sft INFO    : Loading 1 SFTs from H1...\n",
      "25-08-19 17:19:20.035 pyfstat.utils.sft INFO    : Loading 1 SFTs from H1...\n",
      "25-08-19 17:19:20.050 pyfstat.utils.sft INFO    : Loading 1 SFTs from H1...\n"
     ]
    },
    {
     "name": "stderr",
     "output_type": "stream",
     "text": [
      " 63%|██████▎   | 3650/5760 [00:56<00:32, 65.83it/s]"
     ]
    },
    {
     "name": "stdout",
     "output_type": "stream",
     "text": [
      "25-08-19 17:19:20.069 pyfstat.utils.sft INFO    : Loading 1 SFTs from H1...\n",
      "25-08-19 17:19:20.088 pyfstat.utils.sft INFO    : Loading 1 SFTs from H1...\n",
      "25-08-19 17:19:20.104 pyfstat.utils.sft INFO    : Loading 1 SFTs from H1...\n",
      "25-08-19 17:19:20.120 pyfstat.utils.sft INFO    : Loading 1 SFTs from H1...\n",
      "25-08-19 17:19:20.140 pyfstat.utils.sft INFO    : Loading 1 SFTs from H1...\n",
      "25-08-19 17:19:20.159 pyfstat.utils.sft INFO    : Loading 1 SFTs from H1...\n",
      "25-08-19 17:19:20.177 pyfstat.utils.sft INFO    : Loading 1 SFTs from H1...\n"
     ]
    },
    {
     "name": "stderr",
     "output_type": "stream",
     "text": [
      " 63%|██████▎   | 3657/5760 [00:56<00:33, 62.63it/s]"
     ]
    },
    {
     "name": "stdout",
     "output_type": "stream",
     "text": [
      "25-08-19 17:19:20.194 pyfstat.utils.sft INFO    : Loading 1 SFTs from H1...\n",
      "25-08-19 17:19:20.209 pyfstat.utils.sft INFO    : Loading 1 SFTs from H1...\n",
      "25-08-19 17:19:20.228 pyfstat.utils.sft INFO    : Loading 1 SFTs from H1...\n",
      "25-08-19 17:19:20.243 pyfstat.utils.sft INFO    : Loading 1 SFTs from H1...\n",
      "25-08-19 17:19:20.259 pyfstat.utils.sft INFO    : Loading 1 SFTs from H1...\n",
      "25-08-19 17:19:20.271 pyfstat.utils.sft INFO    : Loading 1 SFTs from H1...\n",
      "25-08-19 17:19:20.287 pyfstat.utils.sft INFO    : Loading 1 SFTs from H1...\n"
     ]
    },
    {
     "name": "stderr",
     "output_type": "stream",
     "text": [
      " 64%|██████▎   | 3664/5760 [00:57<00:33, 63.00it/s]"
     ]
    },
    {
     "name": "stdout",
     "output_type": "stream",
     "text": [
      "25-08-19 17:19:20.300 pyfstat.utils.sft INFO    : Loading 1 SFTs from H1...\n",
      "25-08-19 17:19:20.315 pyfstat.utils.sft INFO    : Loading 1 SFTs from H1...\n",
      "25-08-19 17:19:20.331 pyfstat.utils.sft INFO    : Loading 1 SFTs from H1...\n",
      "25-08-19 17:19:20.350 pyfstat.utils.sft INFO    : Loading 1 SFTs from H1...\n",
      "25-08-19 17:19:20.369 pyfstat.utils.sft INFO    : Loading 1 SFTs from H1...\n",
      "25-08-19 17:19:20.381 pyfstat.utils.sft INFO    : Loading 1 SFTs from H1...\n",
      "25-08-19 17:19:20.397 pyfstat.utils.sft INFO    : Loading 1 SFTs from H1...\n"
     ]
    },
    {
     "name": "stderr",
     "output_type": "stream",
     "text": [
      " 64%|██████▎   | 3671/5760 [00:57<00:33, 62.74it/s]"
     ]
    },
    {
     "name": "stdout",
     "output_type": "stream",
     "text": [
      "25-08-19 17:19:20.412 pyfstat.utils.sft INFO    : Loading 1 SFTs from H1...\n",
      "25-08-19 17:19:20.426 pyfstat.utils.sft INFO    : Loading 1 SFTs from H1...\n",
      "25-08-19 17:19:20.441 pyfstat.utils.sft INFO    : Loading 1 SFTs from H1...\n",
      "25-08-19 17:19:20.459 pyfstat.utils.sft INFO    : Loading 1 SFTs from H1...\n",
      "25-08-19 17:19:20.474 pyfstat.utils.sft INFO    : Loading 1 SFTs from H1...\n",
      "25-08-19 17:19:20.488 pyfstat.utils.sft INFO    : Loading 1 SFTs from H1...\n",
      "25-08-19 17:19:20.499 pyfstat.utils.sft INFO    : Loading 1 SFTs from H1...\n",
      "25-08-19 17:19:20.514 pyfstat.utils.sft INFO    : Loading 1 SFTs from H1...\n"
     ]
    },
    {
     "name": "stderr",
     "output_type": "stream",
     "text": [
      " 64%|██████▍   | 3679/5760 [00:57<00:32, 64.43it/s]"
     ]
    },
    {
     "name": "stdout",
     "output_type": "stream",
     "text": [
      "25-08-19 17:19:20.533 pyfstat.utils.sft INFO    : Loading 1 SFTs from H1...\n",
      "25-08-19 17:19:20.552 pyfstat.utils.sft INFO    : Loading 1 SFTs from H1...\n",
      "25-08-19 17:19:20.563 pyfstat.utils.sft INFO    : Loading 1 SFTs from H1...\n",
      "25-08-19 17:19:20.577 pyfstat.utils.sft INFO    : Loading 1 SFTs from H1...\n",
      "25-08-19 17:19:20.595 pyfstat.utils.sft INFO    : Loading 1 SFTs from H1...\n",
      "25-08-19 17:19:20.610 pyfstat.utils.sft INFO    : Loading 1 SFTs from H1...\n",
      "25-08-19 17:19:20.629 pyfstat.utils.sft INFO    : Loading 1 SFTs from H1...\n"
     ]
    },
    {
     "name": "stderr",
     "output_type": "stream",
     "text": [
      " 64%|██████▍   | 3686/5760 [00:57<00:32, 63.91it/s]"
     ]
    },
    {
     "name": "stdout",
     "output_type": "stream",
     "text": [
      "25-08-19 17:19:20.645 pyfstat.utils.sft INFO    : Loading 1 SFTs from H1...\n",
      "25-08-19 17:19:20.660 pyfstat.utils.sft INFO    : Loading 1 SFTs from H1...\n",
      "25-08-19 17:19:20.676 pyfstat.utils.sft INFO    : Loading 1 SFTs from H1...\n",
      "25-08-19 17:19:20.694 pyfstat.utils.sft INFO    : Loading 1 SFTs from H1...\n",
      "25-08-19 17:19:20.710 pyfstat.utils.sft INFO    : Loading 1 SFTs from H1...\n",
      "25-08-19 17:19:20.725 pyfstat.utils.sft INFO    : Loading 1 SFTs from H1...\n",
      "25-08-19 17:19:20.737 pyfstat.utils.sft INFO    : Loading 1 SFTs from H1...\n"
     ]
    },
    {
     "name": "stderr",
     "output_type": "stream",
     "text": [
      " 64%|██████▍   | 3693/5760 [00:57<00:32, 64.04it/s]"
     ]
    },
    {
     "name": "stdout",
     "output_type": "stream",
     "text": [
      "25-08-19 17:19:20.750 pyfstat.utils.sft INFO    : Loading 1 SFTs from H1...\n",
      "25-08-19 17:19:20.769 pyfstat.utils.sft INFO    : Loading 1 SFTs from H1...\n",
      "25-08-19 17:19:20.785 pyfstat.utils.sft INFO    : Loading 1 SFTs from H1...\n",
      "25-08-19 17:19:20.801 pyfstat.utils.sft INFO    : Loading 1 SFTs from H1...\n",
      "25-08-19 17:19:20.820 pyfstat.utils.sft INFO    : Loading 1 SFTs from H1...\n",
      "25-08-19 17:19:20.836 pyfstat.utils.sft INFO    : Loading 1 SFTs from H1...\n",
      "25-08-19 17:19:20.851 pyfstat.utils.sft INFO    : Loading 1 SFTs from H1...\n"
     ]
    },
    {
     "name": "stderr",
     "output_type": "stream",
     "text": [
      " 64%|██████▍   | 3700/5760 [00:57<00:32, 63.32it/s]"
     ]
    },
    {
     "name": "stdout",
     "output_type": "stream",
     "text": [
      "25-08-19 17:19:20.867 pyfstat.utils.sft INFO    : Loading 1 SFTs from H1...\n",
      "25-08-19 17:19:20.886 pyfstat.utils.sft INFO    : Loading 1 SFTs from H1...\n",
      "25-08-19 17:19:20.904 pyfstat.utils.sft INFO    : Loading 1 SFTs from H1...\n",
      "25-08-19 17:19:20.923 pyfstat.utils.sft INFO    : Loading 1 SFTs from H1...\n",
      "25-08-19 17:19:20.942 pyfstat.utils.sft INFO    : Loading 1 SFTs from H1...\n",
      "25-08-19 17:19:20.961 pyfstat.utils.sft INFO    : Loading 1 SFTs from H1...\n",
      "25-08-19 17:19:20.981 pyfstat.utils.sft INFO    : Loading 1 SFTs from H1...\n"
     ]
    },
    {
     "name": "stderr",
     "output_type": "stream",
     "text": [
      " 64%|██████▍   | 3707/5760 [00:57<00:34, 59.60it/s]"
     ]
    },
    {
     "name": "stdout",
     "output_type": "stream",
     "text": [
      "25-08-19 17:19:21.001 pyfstat.utils.sft INFO    : Loading 1 SFTs from H1...\n",
      "25-08-19 17:19:21.020 pyfstat.utils.sft INFO    : Loading 1 SFTs from H1...\n",
      "25-08-19 17:19:21.036 pyfstat.utils.sft INFO    : Loading 1 SFTs from H1...\n",
      "25-08-19 17:19:21.051 pyfstat.utils.sft INFO    : Loading 1 SFTs from H1...\n",
      "25-08-19 17:19:21.067 pyfstat.utils.sft INFO    : Loading 1 SFTs from H1...\n",
      "25-08-19 17:19:21.082 pyfstat.utils.sft INFO    : Loading 1 SFTs from H1...\n",
      "25-08-19 17:19:21.098 pyfstat.utils.sft INFO    : Loading 1 SFTs from H1...\n"
     ]
    },
    {
     "name": "stderr",
     "output_type": "stream",
     "text": [
      " 64%|██████▍   | 3714/5760 [00:57<00:33, 60.25it/s]"
     ]
    },
    {
     "name": "stdout",
     "output_type": "stream",
     "text": [
      "25-08-19 17:19:21.114 pyfstat.utils.sft INFO    : Loading 1 SFTs from H1...\n",
      "25-08-19 17:19:21.129 pyfstat.utils.sft INFO    : Loading 1 SFTs from H1...\n",
      "25-08-19 17:19:21.144 pyfstat.utils.sft INFO    : Loading 1 SFTs from H1...\n",
      "25-08-19 17:19:21.158 pyfstat.utils.sft INFO    : Loading 1 SFTs from H1...\n",
      "25-08-19 17:19:21.177 pyfstat.utils.sft INFO    : Loading 1 SFTs from H1...\n",
      "25-08-19 17:19:21.195 pyfstat.utils.sft INFO    : Loading 1 SFTs from H1...\n",
      "25-08-19 17:19:21.213 pyfstat.utils.sft INFO    : Loading 1 SFTs from H1...\n"
     ]
    },
    {
     "name": "stderr",
     "output_type": "stream",
     "text": [
      " 65%|██████▍   | 3721/5760 [00:57<00:33, 60.01it/s]"
     ]
    },
    {
     "name": "stdout",
     "output_type": "stream",
     "text": [
      "25-08-19 17:19:21.231 pyfstat.utils.sft INFO    : Loading 1 SFTs from H1...\n",
      "25-08-19 17:19:21.246 pyfstat.utils.sft INFO    : Loading 1 SFTs from H1...\n",
      "25-08-19 17:19:21.260 pyfstat.utils.sft INFO    : Loading 1 SFTs from H1...\n",
      "25-08-19 17:19:21.275 pyfstat.utils.sft INFO    : Loading 1 SFTs from H1...\n",
      "25-08-19 17:19:21.286 pyfstat.utils.sft INFO    : Loading 1 SFTs from H1...\n",
      "25-08-19 17:19:21.302 pyfstat.utils.sft INFO    : Loading 1 SFTs from H1...\n",
      "25-08-19 17:19:21.313 pyfstat.utils.sft INFO    : Loading 1 SFTs from H1...\n",
      "25-08-19 17:19:21.325 pyfstat.utils.sft INFO    : Loading 1 SFTs from H1...\n"
     ]
    },
    {
     "name": "stderr",
     "output_type": "stream",
     "text": [
      " 65%|██████▍   | 3729/5760 [00:58<00:31, 63.80it/s]"
     ]
    },
    {
     "name": "stdout",
     "output_type": "stream",
     "text": [
      "25-08-19 17:19:21.337 pyfstat.utils.sft INFO    : Loading 1 SFTs from H1...\n",
      "25-08-19 17:19:21.353 pyfstat.utils.sft INFO    : Loading 1 SFTs from H1...\n",
      "25-08-19 17:19:21.369 pyfstat.utils.sft INFO    : Loading 1 SFTs from H1...\n",
      "25-08-19 17:19:21.383 pyfstat.utils.sft INFO    : Loading 1 SFTs from H1...\n",
      "25-08-19 17:19:21.401 pyfstat.utils.sft INFO    : Loading 1 SFTs from H1...\n",
      "25-08-19 17:19:21.416 pyfstat.utils.sft INFO    : Loading 1 SFTs from H1...\n",
      "25-08-19 17:19:21.431 pyfstat.utils.sft INFO    : Loading 1 SFTs from H1...\n"
     ]
    },
    {
     "name": "stderr",
     "output_type": "stream",
     "text": [
      " 65%|██████▍   | 3736/5760 [00:58<00:31, 63.82it/s]"
     ]
    },
    {
     "name": "stdout",
     "output_type": "stream",
     "text": [
      "25-08-19 17:19:21.450 pyfstat.utils.sft INFO    : Loading 1 SFTs from H1...\n",
      "25-08-19 17:19:21.465 pyfstat.utils.sft INFO    : Loading 1 SFTs from H1...\n",
      "25-08-19 17:19:21.480 pyfstat.utils.sft INFO    : Loading 1 SFTs from H1...\n",
      "25-08-19 17:19:21.495 pyfstat.utils.sft INFO    : Loading 1 SFTs from H1...\n",
      "25-08-19 17:19:21.510 pyfstat.utils.sft INFO    : Loading 1 SFTs from H1...\n",
      "25-08-19 17:19:21.525 pyfstat.utils.sft INFO    : Loading 1 SFTs from H1...\n",
      "25-08-19 17:19:21.543 pyfstat.utils.sft INFO    : Loading 1 SFTs from H1...\n"
     ]
    },
    {
     "name": "stderr",
     "output_type": "stream",
     "text": [
      " 65%|██████▍   | 3743/5760 [00:58<00:32, 61.65it/s]"
     ]
    },
    {
     "name": "stdout",
     "output_type": "stream",
     "text": [
      "25-08-19 17:19:21.570 pyfstat.utils.sft INFO    : Loading 1 SFTs from H1...\n",
      "25-08-19 17:19:21.586 pyfstat.utils.sft INFO    : Loading 1 SFTs from H1...\n",
      "25-08-19 17:19:21.605 pyfstat.utils.sft INFO    : Loading 1 SFTs from H1...\n",
      "25-08-19 17:19:21.621 pyfstat.utils.sft INFO    : Loading 1 SFTs from H1...\n",
      "25-08-19 17:19:21.641 pyfstat.utils.sft INFO    : Loading 1 SFTs from H1...\n",
      "25-08-19 17:19:21.657 pyfstat.utils.sft INFO    : Loading 1 SFTs from H1...\n",
      "25-08-19 17:19:21.673 pyfstat.utils.sft INFO    : Loading 1 SFTs from H1...\n"
     ]
    },
    {
     "name": "stderr",
     "output_type": "stream",
     "text": [
      " 65%|██████▌   | 3750/5760 [00:58<00:32, 61.25it/s]"
     ]
    },
    {
     "name": "stdout",
     "output_type": "stream",
     "text": [
      "25-08-19 17:19:21.689 pyfstat.utils.sft INFO    : Loading 1 SFTs from H1...\n",
      "25-08-19 17:19:21.705 pyfstat.utils.sft INFO    : Loading 1 SFTs from H1...\n",
      "25-08-19 17:19:21.725 pyfstat.utils.sft INFO    : Loading 1 SFTs from H1...\n",
      "25-08-19 17:19:21.744 pyfstat.utils.sft INFO    : Loading 1 SFTs from H1...\n",
      "25-08-19 17:19:21.759 pyfstat.utils.sft INFO    : Loading 1 SFTs from H1...\n",
      "25-08-19 17:19:21.778 pyfstat.utils.sft INFO    : Loading 1 SFTs from H1...\n",
      "25-08-19 17:19:21.794 pyfstat.utils.sft INFO    : Loading 1 SFTs from H1...\n"
     ]
    },
    {
     "name": "stderr",
     "output_type": "stream",
     "text": [
      " 65%|██████▌   | 3757/5760 [00:58<00:33, 59.76it/s]"
     ]
    },
    {
     "name": "stdout",
     "output_type": "stream",
     "text": [
      "25-08-19 17:19:21.813 pyfstat.utils.sft INFO    : Loading 1 SFTs from H1...\n",
      "25-08-19 17:19:21.829 pyfstat.utils.sft INFO    : Loading 1 SFTs from H1...\n",
      "25-08-19 17:19:21.841 pyfstat.utils.sft INFO    : Loading 1 SFTs from H1...\n",
      "25-08-19 17:19:21.856 pyfstat.utils.sft INFO    : Loading 1 SFTs from H1...\n",
      "25-08-19 17:19:21.872 pyfstat.utils.sft INFO    : Loading 1 SFTs from H1...\n",
      "25-08-19 17:19:21.886 pyfstat.utils.sft INFO    : Loading 1 SFTs from H1...\n",
      "25-08-19 17:19:21.901 pyfstat.utils.sft INFO    : Loading 1 SFTs from H1...\n"
     ]
    },
    {
     "name": "stderr",
     "output_type": "stream",
     "text": [
      " 65%|██████▌   | 3764/5760 [00:58<00:32, 61.92it/s]"
     ]
    },
    {
     "name": "stdout",
     "output_type": "stream",
     "text": [
      "25-08-19 17:19:21.916 pyfstat.utils.sft INFO    : Loading 1 SFTs from H1...\n",
      "25-08-19 17:19:21.932 pyfstat.utils.sft INFO    : Loading 1 SFTs from H1...\n",
      "25-08-19 17:19:21.950 pyfstat.utils.sft INFO    : Loading 1 SFTs from H1...\n",
      "25-08-19 17:19:21.964 pyfstat.utils.sft INFO    : Loading 1 SFTs from H1...\n",
      "25-08-19 17:19:21.979 pyfstat.utils.sft INFO    : Loading 1 SFTs from H1...\n",
      "25-08-19 17:19:21.990 pyfstat.utils.sft INFO    : Loading 1 SFTs from H1...\n",
      "25-08-19 17:19:22.005 pyfstat.utils.sft INFO    : Loading 1 SFTs from H1...\n"
     ]
    },
    {
     "name": "stderr",
     "output_type": "stream",
     "text": [
      " 65%|██████▌   | 3771/5760 [00:58<00:31, 62.85it/s]"
     ]
    },
    {
     "name": "stdout",
     "output_type": "stream",
     "text": [
      "25-08-19 17:19:22.024 pyfstat.utils.sft INFO    : Loading 1 SFTs from H1...\n",
      "25-08-19 17:19:22.042 pyfstat.utils.sft INFO    : Loading 1 SFTs from H1...\n",
      "25-08-19 17:19:22.057 pyfstat.utils.sft INFO    : Loading 1 SFTs from H1...\n",
      "25-08-19 17:19:22.072 pyfstat.utils.sft INFO    : Loading 1 SFTs from H1...\n",
      "25-08-19 17:19:22.087 pyfstat.utils.sft INFO    : Loading 1 SFTs from H1...\n",
      "25-08-19 17:19:22.098 pyfstat.utils.sft INFO    : Loading 1 SFTs from H1...\n",
      "25-08-19 17:19:22.113 pyfstat.utils.sft INFO    : Loading 1 SFTs from H1...\n"
     ]
    },
    {
     "name": "stderr",
     "output_type": "stream",
     "text": [
      " 66%|██████▌   | 3778/5760 [00:58<00:31, 63.91it/s]"
     ]
    },
    {
     "name": "stdout",
     "output_type": "stream",
     "text": [
      "25-08-19 17:19:22.129 pyfstat.utils.sft INFO    : Loading 1 SFTs from H1...\n",
      "25-08-19 17:19:22.140 pyfstat.utils.sft INFO    : Loading 1 SFTs from H1...\n",
      "25-08-19 17:19:22.155 pyfstat.utils.sft INFO    : Loading 1 SFTs from H1...\n",
      "25-08-19 17:19:22.174 pyfstat.utils.sft INFO    : Loading 1 SFTs from H1...\n",
      "25-08-19 17:19:22.189 pyfstat.utils.sft INFO    : Loading 1 SFTs from H1...\n",
      "25-08-19 17:19:22.204 pyfstat.utils.sft INFO    : Loading 1 SFTs from H1...\n",
      "25-08-19 17:19:22.219 pyfstat.utils.sft INFO    : Loading 1 SFTs from H1...\n"
     ]
    },
    {
     "name": "stderr",
     "output_type": "stream",
     "text": [
      " 66%|██████▌   | 3785/5760 [00:58<00:30, 64.68it/s]"
     ]
    },
    {
     "name": "stdout",
     "output_type": "stream",
     "text": [
      "25-08-19 17:19:22.235 pyfstat.utils.sft INFO    : Loading 1 SFTs from H1...\n",
      "25-08-19 17:19:22.250 pyfstat.utils.sft INFO    : Loading 1 SFTs from H1...\n",
      "25-08-19 17:19:22.268 pyfstat.utils.sft INFO    : Loading 1 SFTs from H1...\n",
      "25-08-19 17:19:22.286 pyfstat.utils.sft INFO    : Loading 1 SFTs from H1...\n",
      "25-08-19 17:19:22.305 pyfstat.utils.sft INFO    : Loading 1 SFTs from H1...\n",
      "25-08-19 17:19:22.319 pyfstat.utils.sft INFO    : Loading 1 SFTs from H1...\n",
      "25-08-19 17:19:22.334 pyfstat.utils.sft INFO    : Loading 1 SFTs from H1...\n"
     ]
    },
    {
     "name": "stderr",
     "output_type": "stream",
     "text": [
      " 66%|██████▌   | 3792/5760 [00:59<00:30, 63.49it/s]"
     ]
    },
    {
     "name": "stdout",
     "output_type": "stream",
     "text": [
      "25-08-19 17:19:22.346 pyfstat.utils.sft INFO    : Loading 1 SFTs from H1...\n",
      "25-08-19 17:19:22.364 pyfstat.utils.sft INFO    : Loading 1 SFTs from H1...\n",
      "25-08-19 17:19:22.380 pyfstat.utils.sft INFO    : Loading 1 SFTs from H1...\n",
      "25-08-19 17:19:22.395 pyfstat.utils.sft INFO    : Loading 1 SFTs from H1...\n",
      "25-08-19 17:19:22.410 pyfstat.utils.sft INFO    : Loading 1 SFTs from H1...\n",
      "25-08-19 17:19:22.428 pyfstat.utils.sft INFO    : Loading 1 SFTs from H1...\n",
      "25-08-19 17:19:22.447 pyfstat.utils.sft INFO    : Loading 1 SFTs from H1...\n"
     ]
    },
    {
     "name": "stderr",
     "output_type": "stream",
     "text": [
      " 66%|██████▌   | 3799/5760 [00:59<00:31, 62.37it/s]"
     ]
    },
    {
     "name": "stdout",
     "output_type": "stream",
     "text": [
      "25-08-19 17:19:22.466 pyfstat.utils.sft INFO    : Loading 1 SFTs from H1...\n",
      "25-08-19 17:19:22.485 pyfstat.utils.sft INFO    : Loading 1 SFTs from H1...\n",
      "25-08-19 17:19:22.503 pyfstat.utils.sft INFO    : Loading 1 SFTs from H1...\n",
      "25-08-19 17:19:22.522 pyfstat.utils.sft INFO    : Loading 1 SFTs from H1...\n",
      "25-08-19 17:19:22.540 pyfstat.utils.sft INFO    : Loading 1 SFTs from H1...\n",
      "25-08-19 17:19:22.559 pyfstat.utils.sft INFO    : Loading 1 SFTs from H1...\n",
      "25-08-19 17:19:22.576 pyfstat.utils.sft INFO    : Loading 1 SFTs from H1...\n"
     ]
    },
    {
     "name": "stderr",
     "output_type": "stream",
     "text": [
      " 66%|██████▌   | 3806/5760 [00:59<00:32, 60.38it/s]"
     ]
    },
    {
     "name": "stdout",
     "output_type": "stream",
     "text": [
      "25-08-19 17:19:22.591 pyfstat.utils.sft INFO    : Loading 1 SFTs from H1...\n",
      "25-08-19 17:19:22.602 pyfstat.utils.sft INFO    : Loading 1 SFTs from H1...\n",
      "25-08-19 17:19:22.616 pyfstat.utils.sft INFO    : Loading 1 SFTs from H1...\n",
      "25-08-19 17:19:22.630 pyfstat.utils.sft INFO    : Loading 1 SFTs from H1...\n",
      "25-08-19 17:19:22.645 pyfstat.utils.sft INFO    : Loading 1 SFTs from H1...\n",
      "25-08-19 17:19:22.660 pyfstat.utils.sft INFO    : Loading 1 SFTs from H1...\n",
      "25-08-19 17:19:22.671 pyfstat.utils.sft INFO    : Loading 1 SFTs from H1...\n",
      "25-08-19 17:19:22.690 pyfstat.utils.sft INFO    : Loading 1 SFTs from H1...\n"
     ]
    },
    {
     "name": "stderr",
     "output_type": "stream",
     "text": [
      " 66%|██████▌   | 3814/5760 [00:59<00:31, 62.61it/s]"
     ]
    },
    {
     "name": "stdout",
     "output_type": "stream",
     "text": [
      "25-08-19 17:19:22.709 pyfstat.utils.sft INFO    : Loading 1 SFTs from H1...\n",
      "25-08-19 17:19:22.728 pyfstat.utils.sft INFO    : Loading 1 SFTs from H1...\n",
      "25-08-19 17:19:22.746 pyfstat.utils.sft INFO    : Loading 1 SFTs from H1...\n",
      "25-08-19 17:19:22.762 pyfstat.utils.sft INFO    : Loading 1 SFTs from H1...\n",
      "25-08-19 17:19:22.781 pyfstat.utils.sft INFO    : Loading 1 SFTs from H1...\n",
      "25-08-19 17:19:22.800 pyfstat.utils.sft INFO    : Loading 1 SFTs from H1...\n",
      "25-08-19 17:19:22.815 pyfstat.utils.sft INFO    : Loading 1 SFTs from H1...\n"
     ]
    },
    {
     "name": "stderr",
     "output_type": "stream",
     "text": [
      " 66%|██████▋   | 3821/5760 [00:59<00:32, 60.45it/s]"
     ]
    },
    {
     "name": "stdout",
     "output_type": "stream",
     "text": [
      "25-08-19 17:19:22.834 pyfstat.utils.sft INFO    : Loading 1 SFTs from H1...\n",
      "25-08-19 17:19:22.854 pyfstat.utils.sft INFO    : Loading 1 SFTs from H1...\n",
      "25-08-19 17:19:22.868 pyfstat.utils.sft INFO    : Loading 1 SFTs from H1...\n",
      "25-08-19 17:19:22.886 pyfstat.utils.sft INFO    : Loading 1 SFTs from H1...\n",
      "25-08-19 17:19:22.901 pyfstat.utils.sft INFO    : Loading 1 SFTs from H1...\n",
      "25-08-19 17:19:22.916 pyfstat.utils.sft INFO    : Loading 1 SFTs from H1...\n",
      "25-08-19 17:19:22.931 pyfstat.utils.sft INFO    : Loading 1 SFTs from H1...\n"
     ]
    },
    {
     "name": "stderr",
     "output_type": "stream",
     "text": [
      " 66%|██████▋   | 3828/5760 [00:59<00:31, 60.93it/s]"
     ]
    },
    {
     "name": "stdout",
     "output_type": "stream",
     "text": [
      "25-08-19 17:19:22.944 pyfstat.utils.sft INFO    : Loading 1 SFTs from H1...\n",
      "25-08-19 17:19:22.959 pyfstat.utils.sft INFO    : Loading 1 SFTs from H1...\n",
      "25-08-19 17:19:22.974 pyfstat.utils.sft INFO    : Loading 1 SFTs from H1...\n",
      "25-08-19 17:19:22.993 pyfstat.utils.sft INFO    : Loading 1 SFTs from H1...\n",
      "25-08-19 17:19:23.016 pyfstat.utils.sft INFO    : Loading 1 SFTs from H1...\n",
      "25-08-19 17:19:23.031 pyfstat.utils.sft INFO    : Loading 1 SFTs from H1...\n",
      "25-08-19 17:19:23.051 pyfstat.utils.sft INFO    : Loading 1 SFTs from H1...\n"
     ]
    },
    {
     "name": "stderr",
     "output_type": "stream",
     "text": [
      " 67%|██████▋   | 3835/5760 [00:59<00:32, 59.55it/s]"
     ]
    },
    {
     "name": "stdout",
     "output_type": "stream",
     "text": [
      "25-08-19 17:19:23.071 pyfstat.utils.sft INFO    : Loading 1 SFTs from H1...\n",
      "25-08-19 17:19:23.086 pyfstat.utils.sft INFO    : Loading 1 SFTs from H1...\n",
      "25-08-19 17:19:23.101 pyfstat.utils.sft INFO    : Loading 1 SFTs from H1...\n",
      "25-08-19 17:19:23.116 pyfstat.utils.sft INFO    : Loading 1 SFTs from H1...\n",
      "25-08-19 17:19:23.131 pyfstat.utils.sft INFO    : Loading 1 SFTs from H1...\n",
      "25-08-19 17:19:23.147 pyfstat.utils.sft INFO    : Loading 1 SFTs from H1...\n",
      "25-08-19 17:19:23.165 pyfstat.utils.sft INFO    : Loading 1 SFTs from H1...\n"
     ]
    },
    {
     "name": "stderr",
     "output_type": "stream",
     "text": [
      " 67%|██████▋   | 3842/5760 [00:59<00:31, 60.85it/s]"
     ]
    },
    {
     "name": "stdout",
     "output_type": "stream",
     "text": [
      "25-08-19 17:19:23.176 pyfstat.utils.sft INFO    : Loading 1 SFTs from H1...\n",
      "25-08-19 17:19:23.191 pyfstat.utils.sft INFO    : Loading 1 SFTs from H1...\n",
      "25-08-19 17:19:23.206 pyfstat.utils.sft INFO    : Loading 1 SFTs from H1...\n",
      "25-08-19 17:19:23.225 pyfstat.utils.sft INFO    : Loading 1 SFTs from H1...\n",
      "25-08-19 17:19:23.239 pyfstat.utils.sft INFO    : Loading 1 SFTs from H1...\n",
      "25-08-19 17:19:23.254 pyfstat.utils.sft INFO    : Loading 1 SFTs from H1...\n",
      "25-08-19 17:19:23.269 pyfstat.utils.sft INFO    : Loading 1 SFTs from H1...\n"
     ]
    },
    {
     "name": "stderr",
     "output_type": "stream",
     "text": [
      " 67%|██████▋   | 3849/5760 [01:00<00:30, 62.55it/s]"
     ]
    },
    {
     "name": "stdout",
     "output_type": "stream",
     "text": [
      "25-08-19 17:19:23.285 pyfstat.utils.sft INFO    : Loading 1 SFTs from H1...\n",
      "25-08-19 17:19:23.300 pyfstat.utils.sft INFO    : Loading 1 SFTs from H1...\n",
      "25-08-19 17:19:23.316 pyfstat.utils.sft INFO    : Loading 1 SFTs from H1...\n",
      "25-08-19 17:19:23.334 pyfstat.utils.sft INFO    : Loading 1 SFTs from H1...\n",
      "25-08-19 17:19:23.350 pyfstat.utils.sft INFO    : Loading 1 SFTs from H1...\n",
      "25-08-19 17:19:23.369 pyfstat.utils.sft INFO    : Loading 1 SFTs from H1...\n",
      "25-08-19 17:19:23.388 pyfstat.utils.sft INFO    : Loading 1 SFTs from H1...\n"
     ]
    },
    {
     "name": "stderr",
     "output_type": "stream",
     "text": [
      " 67%|██████▋   | 3856/5760 [01:00<00:31, 60.85it/s]"
     ]
    },
    {
     "name": "stdout",
     "output_type": "stream",
     "text": [
      "25-08-19 17:19:23.407 pyfstat.utils.sft INFO    : Loading 1 SFTs from H1...\n",
      "25-08-19 17:19:23.425 pyfstat.utils.sft INFO    : Loading 1 SFTs from H1...\n",
      "25-08-19 17:19:23.441 pyfstat.utils.sft INFO    : Loading 1 SFTs from H1...\n",
      "25-08-19 17:19:23.452 pyfstat.utils.sft INFO    : Loading 1 SFTs from H1...\n",
      "25-08-19 17:19:23.463 pyfstat.utils.sft INFO    : Loading 1 SFTs from H1...\n",
      "25-08-19 17:19:23.479 pyfstat.utils.sft INFO    : Loading 1 SFTs from H1...\n",
      "25-08-19 17:19:23.494 pyfstat.utils.sft INFO    : Loading 1 SFTs from H1...\n"
     ]
    },
    {
     "name": "stderr",
     "output_type": "stream",
     "text": [
      " 67%|██████▋   | 3863/5760 [01:00<00:30, 62.96it/s]"
     ]
    },
    {
     "name": "stdout",
     "output_type": "stream",
     "text": [
      "25-08-19 17:19:23.509 pyfstat.utils.sft INFO    : Loading 1 SFTs from H1...\n",
      "25-08-19 17:19:23.527 pyfstat.utils.sft INFO    : Loading 1 SFTs from H1...\n",
      "25-08-19 17:19:23.545 pyfstat.utils.sft INFO    : Loading 1 SFTs from H1...\n",
      "25-08-19 17:19:23.560 pyfstat.utils.sft INFO    : Loading 1 SFTs from H1...\n",
      "25-08-19 17:19:23.571 pyfstat.utils.sft INFO    : Loading 1 SFTs from H1...\n",
      "25-08-19 17:19:23.582 pyfstat.utils.sft INFO    : Loading 1 SFTs from H1...\n",
      "25-08-19 17:19:23.594 pyfstat.utils.sft INFO    : Loading 1 SFTs from H1...\n",
      "25-08-19 17:19:23.609 pyfstat.utils.sft INFO    : Loading 1 SFTs from H1...\n"
     ]
    },
    {
     "name": "stderr",
     "output_type": "stream",
     "text": [
      " 67%|██████▋   | 3871/5760 [01:00<00:29, 64.37it/s]"
     ]
    },
    {
     "name": "stdout",
     "output_type": "stream",
     "text": [
      "25-08-19 17:19:23.628 pyfstat.utils.sft INFO    : Loading 1 SFTs from H1...\n",
      "25-08-19 17:19:23.639 pyfstat.utils.sft INFO    : Loading 1 SFTs from H1...\n",
      "25-08-19 17:19:23.654 pyfstat.utils.sft INFO    : Loading 1 SFTs from H1...\n",
      "25-08-19 17:19:23.669 pyfstat.utils.sft INFO    : Loading 1 SFTs from H1...\n",
      "25-08-19 17:19:23.683 pyfstat.utils.sft INFO    : Loading 1 SFTs from H1...\n",
      "25-08-19 17:19:23.698 pyfstat.utils.sft INFO    : Loading 1 SFTs from H1...\n",
      "25-08-19 17:19:23.713 pyfstat.utils.sft INFO    : Loading 1 SFTs from H1...\n"
     ]
    },
    {
     "name": "stderr",
     "output_type": "stream",
     "text": [
      " 67%|██████▋   | 3878/5760 [01:00<00:28, 65.86it/s]"
     ]
    },
    {
     "name": "stdout",
     "output_type": "stream",
     "text": [
      "25-08-19 17:19:23.725 pyfstat.utils.sft INFO    : Loading 1 SFTs from H1...\n",
      "25-08-19 17:19:23.739 pyfstat.utils.sft INFO    : Loading 1 SFTs from H1...\n",
      "25-08-19 17:19:23.754 pyfstat.utils.sft INFO    : Loading 1 SFTs from H1...\n",
      "25-08-19 17:19:23.769 pyfstat.utils.sft INFO    : Loading 1 SFTs from H1...\n",
      "25-08-19 17:19:23.784 pyfstat.utils.sft INFO    : Loading 1 SFTs from H1...\n",
      "25-08-19 17:19:23.798 pyfstat.utils.sft INFO    : Loading 1 SFTs from H1...\n",
      "25-08-19 17:19:23.813 pyfstat.utils.sft INFO    : Loading 1 SFTs from H1...\n"
     ]
    },
    {
     "name": "stderr",
     "output_type": "stream",
     "text": [
      " 67%|██████▋   | 3885/5760 [01:00<00:28, 66.81it/s]"
     ]
    },
    {
     "name": "stdout",
     "output_type": "stream",
     "text": [
      "25-08-19 17:19:23.829 pyfstat.utils.sft INFO    : Loading 1 SFTs from H1...\n",
      "25-08-19 17:19:23.847 pyfstat.utils.sft INFO    : Loading 1 SFTs from H1...\n",
      "25-08-19 17:19:23.862 pyfstat.utils.sft INFO    : Loading 1 SFTs from H1...\n",
      "25-08-19 17:19:23.877 pyfstat.utils.sft INFO    : Loading 1 SFTs from H1...\n",
      "25-08-19 17:19:23.892 pyfstat.utils.sft INFO    : Loading 1 SFTs from H1...\n",
      "25-08-19 17:19:23.903 pyfstat.utils.sft INFO    : Loading 1 SFTs from H1...\n",
      "25-08-19 17:19:23.919 pyfstat.utils.sft INFO    : Loading 1 SFTs from H1...\n"
     ]
    },
    {
     "name": "stderr",
     "output_type": "stream",
     "text": [
      " 68%|██████▊   | 3892/5760 [01:00<00:28, 66.69it/s]"
     ]
    },
    {
     "name": "stdout",
     "output_type": "stream",
     "text": [
      "25-08-19 17:19:23.931 pyfstat.utils.sft INFO    : Loading 1 SFTs from H1...\n",
      "25-08-19 17:19:23.945 pyfstat.utils.sft INFO    : Loading 1 SFTs from H1...\n",
      "25-08-19 17:19:23.963 pyfstat.utils.sft INFO    : Loading 1 SFTs from H1...\n",
      "25-08-19 17:19:23.979 pyfstat.utils.sft INFO    : Loading 1 SFTs from H1...\n",
      "25-08-19 17:19:23.997 pyfstat.utils.sft INFO    : Loading 1 SFTs from H1...\n",
      "25-08-19 17:19:24.011 pyfstat.utils.sft INFO    : Loading 1 SFTs from H1...\n",
      "25-08-19 17:19:24.029 pyfstat.utils.sft INFO    : Loading 1 SFTs from H1...\n"
     ]
    },
    {
     "name": "stderr",
     "output_type": "stream",
     "text": [
      " 68%|██████▊   | 3899/5760 [01:00<00:28, 65.82it/s]"
     ]
    },
    {
     "name": "stdout",
     "output_type": "stream",
     "text": [
      "25-08-19 17:19:24.044 pyfstat.utils.sft INFO    : Loading 1 SFTs from H1...\n",
      "25-08-19 17:19:24.062 pyfstat.utils.sft INFO    : Loading 1 SFTs from H1...\n",
      "25-08-19 17:19:24.076 pyfstat.utils.sft INFO    : Loading 1 SFTs from H1...\n",
      "25-08-19 17:19:24.093 pyfstat.utils.sft INFO    : Loading 1 SFTs from H1...\n",
      "25-08-19 17:19:24.111 pyfstat.utils.sft INFO    : Loading 1 SFTs from H1...\n",
      "25-08-19 17:19:24.122 pyfstat.utils.sft INFO    : Loading 1 SFTs from H1...\n",
      "25-08-19 17:19:24.137 pyfstat.utils.sft INFO    : Loading 1 SFTs from H1...\n"
     ]
    },
    {
     "name": "stderr",
     "output_type": "stream",
     "text": [
      " 68%|██████▊   | 3906/5760 [01:00<00:28, 64.90it/s]"
     ]
    },
    {
     "name": "stdout",
     "output_type": "stream",
     "text": [
      "25-08-19 17:19:24.153 pyfstat.utils.sft INFO    : Loading 1 SFTs from H1...\n",
      "25-08-19 17:19:24.167 pyfstat.utils.sft INFO    : Loading 1 SFTs from H1...\n",
      "25-08-19 17:19:24.182 pyfstat.utils.sft INFO    : Loading 1 SFTs from H1...\n",
      "25-08-19 17:19:24.200 pyfstat.utils.sft INFO    : Loading 1 SFTs from H1...\n",
      "25-08-19 17:19:24.218 pyfstat.utils.sft INFO    : Loading 1 SFTs from H1...\n",
      "25-08-19 17:19:24.233 pyfstat.utils.sft INFO    : Loading 1 SFTs from H1...\n",
      "25-08-19 17:19:24.247 pyfstat.utils.sft INFO    : Loading 1 SFTs from H1...\n"
     ]
    },
    {
     "name": "stderr",
     "output_type": "stream",
     "text": [
      " 68%|██████▊   | 3913/5760 [01:00<00:28, 65.05it/s]"
     ]
    },
    {
     "name": "stdout",
     "output_type": "stream",
     "text": [
      "25-08-19 17:19:24.263 pyfstat.utils.sft INFO    : Loading 1 SFTs from H1...\n",
      "25-08-19 17:19:24.281 pyfstat.utils.sft INFO    : Loading 1 SFTs from H1...\n",
      "25-08-19 17:19:24.296 pyfstat.utils.sft INFO    : Loading 1 SFTs from H1...\n",
      "25-08-19 17:19:24.311 pyfstat.utils.sft INFO    : Loading 1 SFTs from H1...\n",
      "25-08-19 17:19:24.329 pyfstat.utils.sft INFO    : Loading 1 SFTs from H1...\n",
      "25-08-19 17:19:24.343 pyfstat.utils.sft INFO    : Loading 1 SFTs from H1...\n",
      "25-08-19 17:19:24.357 pyfstat.utils.sft INFO    : Loading 1 SFTs from H1...\n"
     ]
    },
    {
     "name": "stderr",
     "output_type": "stream",
     "text": [
      " 68%|██████▊   | 3920/5760 [01:01<00:28, 63.62it/s]"
     ]
    },
    {
     "name": "stdout",
     "output_type": "stream",
     "text": [
      "25-08-19 17:19:24.379 pyfstat.utils.sft INFO    : Loading 1 SFTs from H1...\n",
      "25-08-19 17:19:24.393 pyfstat.utils.sft INFO    : Loading 1 SFTs from H1...\n",
      "25-08-19 17:19:24.408 pyfstat.utils.sft INFO    : Loading 1 SFTs from H1...\n",
      "25-08-19 17:19:24.422 pyfstat.utils.sft INFO    : Loading 1 SFTs from H1...\n",
      "25-08-19 17:19:24.437 pyfstat.utils.sft INFO    : Loading 1 SFTs from H1...\n",
      "25-08-19 17:19:24.455 pyfstat.utils.sft INFO    : Loading 1 SFTs from H1...\n",
      "25-08-19 17:19:24.470 pyfstat.utils.sft INFO    : Loading 1 SFTs from H1...\n"
     ]
    },
    {
     "name": "stderr",
     "output_type": "stream",
     "text": [
      " 68%|██████▊   | 3927/5760 [01:01<00:28, 64.12it/s]"
     ]
    },
    {
     "name": "stdout",
     "output_type": "stream",
     "text": [
      "25-08-19 17:19:24.482 pyfstat.utils.sft INFO    : Loading 1 SFTs from H1...\n",
      "25-08-19 17:19:24.497 pyfstat.utils.sft INFO    : Loading 1 SFTs from H1...\n",
      "25-08-19 17:19:24.513 pyfstat.utils.sft INFO    : Loading 1 SFTs from H1...\n",
      "25-08-19 17:19:24.527 pyfstat.utils.sft INFO    : Loading 1 SFTs from H1...\n",
      "25-08-19 17:19:24.538 pyfstat.utils.sft INFO    : Loading 1 SFTs from H1...\n",
      "25-08-19 17:19:24.553 pyfstat.utils.sft INFO    : Loading 1 SFTs from H1...\n",
      "25-08-19 17:19:24.567 pyfstat.utils.sft INFO    : Loading 1 SFTs from H1...\n",
      "25-08-19 17:19:24.582 pyfstat.utils.sft INFO    : Loading 1 SFTs from H1...\n"
     ]
    },
    {
     "name": "stderr",
     "output_type": "stream",
     "text": [
      " 68%|██████▊   | 3935/5760 [01:01<00:27, 66.42it/s]"
     ]
    },
    {
     "name": "stdout",
     "output_type": "stream",
     "text": [
      "25-08-19 17:19:24.597 pyfstat.utils.sft INFO    : Loading 1 SFTs from H1...\n",
      "25-08-19 17:19:24.612 pyfstat.utils.sft INFO    : Loading 1 SFTs from H1...\n",
      "25-08-19 17:19:24.626 pyfstat.utils.sft INFO    : Loading 1 SFTs from H1...\n",
      "25-08-19 17:19:24.640 pyfstat.utils.sft INFO    : Loading 1 SFTs from H1...\n",
      "25-08-19 17:19:24.658 pyfstat.utils.sft INFO    : Loading 1 SFTs from H1...\n",
      "25-08-19 17:19:24.672 pyfstat.utils.sft INFO    : Loading 1 SFTs from H1...\n",
      "25-08-19 17:19:24.687 pyfstat.utils.sft INFO    : Loading 1 SFTs from H1...\n"
     ]
    },
    {
     "name": "stderr",
     "output_type": "stream",
     "text": [
      " 68%|██████▊   | 3942/5760 [01:01<00:27, 66.48it/s]"
     ]
    },
    {
     "name": "stdout",
     "output_type": "stream",
     "text": [
      "25-08-19 17:19:24.702 pyfstat.utils.sft INFO    : Loading 1 SFTs from H1...\n",
      "25-08-19 17:19:24.717 pyfstat.utils.sft INFO    : Loading 1 SFTs from H1...\n",
      "25-08-19 17:19:24.731 pyfstat.utils.sft INFO    : Loading 1 SFTs from H1...\n",
      "25-08-19 17:19:24.746 pyfstat.utils.sft INFO    : Loading 1 SFTs from H1...\n",
      "25-08-19 17:19:24.760 pyfstat.utils.sft INFO    : Loading 1 SFTs from H1...\n",
      "25-08-19 17:19:24.775 pyfstat.utils.sft INFO    : Loading 1 SFTs from H1...\n",
      "25-08-19 17:19:24.793 pyfstat.utils.sft INFO    : Loading 1 SFTs from H1...\n"
     ]
    },
    {
     "name": "stderr",
     "output_type": "stream",
     "text": [
      " 69%|██████▊   | 3949/5760 [01:01<00:27, 66.30it/s]"
     ]
    },
    {
     "name": "stdout",
     "output_type": "stream",
     "text": [
      "25-08-19 17:19:24.809 pyfstat.utils.sft INFO    : Loading 1 SFTs from H1...\n",
      "25-08-19 17:19:24.820 pyfstat.utils.sft INFO    : Loading 1 SFTs from H1...\n",
      "25-08-19 17:19:24.835 pyfstat.utils.sft INFO    : Loading 1 SFTs from H1...\n",
      "25-08-19 17:19:24.853 pyfstat.utils.sft INFO    : Loading 1 SFTs from H1...\n",
      "25-08-19 17:19:24.864 pyfstat.utils.sft INFO    : Loading 1 SFTs from H1...\n",
      "25-08-19 17:19:24.878 pyfstat.utils.sft INFO    : Loading 1 SFTs from H1...\n",
      "25-08-19 17:19:24.897 pyfstat.utils.sft INFO    : Loading 1 SFTs from H1...\n"
     ]
    },
    {
     "name": "stderr",
     "output_type": "stream",
     "text": [
      " 69%|██████▊   | 3956/5760 [01:01<00:27, 66.56it/s]"
     ]
    },
    {
     "name": "stdout",
     "output_type": "stream",
     "text": [
      "25-08-19 17:19:24.913 pyfstat.utils.sft INFO    : Loading 1 SFTs from H1...\n",
      "25-08-19 17:19:24.928 pyfstat.utils.sft INFO    : Loading 1 SFTs from H1...\n",
      "25-08-19 17:19:24.949 pyfstat.utils.sft INFO    : Loading 1 SFTs from H1...\n",
      "25-08-19 17:19:24.964 pyfstat.utils.sft INFO    : Loading 1 SFTs from H1...\n",
      "25-08-19 17:19:24.979 pyfstat.utils.sft INFO    : Loading 1 SFTs from H1...\n",
      "25-08-19 17:19:24.993 pyfstat.utils.sft INFO    : Loading 1 SFTs from H1...\n",
      "25-08-19 17:19:25.011 pyfstat.utils.sft INFO    : Loading 1 SFTs from H1...\n"
     ]
    },
    {
     "name": "stderr",
     "output_type": "stream",
     "text": [
      " 69%|██████▉   | 3963/5760 [01:01<00:27, 64.98it/s]"
     ]
    },
    {
     "name": "stdout",
     "output_type": "stream",
     "text": [
      "25-08-19 17:19:25.026 pyfstat.utils.sft INFO    : Loading 1 SFTs from H1...\n",
      "25-08-19 17:19:25.044 pyfstat.utils.sft INFO    : Loading 1 SFTs from H1...\n",
      "25-08-19 17:19:25.063 pyfstat.utils.sft INFO    : Loading 1 SFTs from H1...\n",
      "25-08-19 17:19:25.073 pyfstat.utils.sft INFO    : Loading 1 SFTs from H1...\n",
      "25-08-19 17:19:25.088 pyfstat.utils.sft INFO    : Loading 1 SFTs from H1...\n",
      "25-08-19 17:19:25.107 pyfstat.utils.sft INFO    : Loading 1 SFTs from H1...\n",
      "25-08-19 17:19:25.123 pyfstat.utils.sft INFO    : Loading 1 SFTs from H1...\n"
     ]
    },
    {
     "name": "stderr",
     "output_type": "stream",
     "text": [
      " 69%|██████▉   | 3970/5760 [01:01<00:27, 64.27it/s]"
     ]
    },
    {
     "name": "stdout",
     "output_type": "stream",
     "text": [
      "25-08-19 17:19:25.138 pyfstat.utils.sft INFO    : Loading 1 SFTs from H1...\n",
      "25-08-19 17:19:25.154 pyfstat.utils.sft INFO    : Loading 1 SFTs from H1...\n",
      "25-08-19 17:19:25.169 pyfstat.utils.sft INFO    : Loading 1 SFTs from H1...\n",
      "25-08-19 17:19:25.186 pyfstat.utils.sft INFO    : Loading 1 SFTs from H1...\n",
      "25-08-19 17:19:25.201 pyfstat.utils.sft INFO    : Loading 1 SFTs from H1...\n",
      "25-08-19 17:19:25.220 pyfstat.utils.sft INFO    : Loading 1 SFTs from H1...\n",
      "25-08-19 17:19:25.231 pyfstat.utils.sft INFO    : Loading 1 SFTs from H1...\n"
     ]
    },
    {
     "name": "stderr",
     "output_type": "stream",
     "text": [
      " 69%|██████▉   | 3977/5760 [01:01<00:27, 63.83it/s]"
     ]
    },
    {
     "name": "stdout",
     "output_type": "stream",
     "text": [
      "25-08-19 17:19:25.250 pyfstat.utils.sft INFO    : Loading 1 SFTs from H1...\n",
      "25-08-19 17:19:25.261 pyfstat.utils.sft INFO    : Loading 1 SFTs from H1...\n",
      "25-08-19 17:19:25.280 pyfstat.utils.sft INFO    : Loading 1 SFTs from H1...\n",
      "25-08-19 17:19:25.298 pyfstat.utils.sft INFO    : Loading 1 SFTs from H1...\n",
      "25-08-19 17:19:25.309 pyfstat.utils.sft INFO    : Loading 1 SFTs from H1...\n",
      "25-08-19 17:19:25.321 pyfstat.utils.sft INFO    : Loading 1 SFTs from H1...\n",
      "25-08-19 17:19:25.332 pyfstat.utils.sft INFO    : Loading 1 SFTs from H1...\n"
     ]
    },
    {
     "name": "stderr",
     "output_type": "stream",
     "text": [
      " 69%|██████▉   | 3984/5760 [01:02<00:27, 65.30it/s]"
     ]
    },
    {
     "name": "stdout",
     "output_type": "stream",
     "text": [
      "25-08-19 17:19:25.351 pyfstat.utils.sft INFO    : Loading 1 SFTs from H1...\n",
      "25-08-19 17:19:25.366 pyfstat.utils.sft INFO    : Loading 1 SFTs from H1...\n",
      "25-08-19 17:19:25.384 pyfstat.utils.sft INFO    : Loading 1 SFTs from H1...\n",
      "25-08-19 17:19:25.396 pyfstat.utils.sft INFO    : Loading 1 SFTs from H1...\n",
      "25-08-19 17:19:25.410 pyfstat.utils.sft INFO    : Loading 1 SFTs from H1...\n",
      "25-08-19 17:19:25.428 pyfstat.utils.sft INFO    : Loading 1 SFTs from H1...\n",
      "25-08-19 17:19:25.447 pyfstat.utils.sft INFO    : Loading 1 SFTs from H1...\n"
     ]
    },
    {
     "name": "stderr",
     "output_type": "stream",
     "text": [
      " 69%|██████▉   | 3991/5760 [01:02<00:27, 64.63it/s]"
     ]
    },
    {
     "name": "stdout",
     "output_type": "stream",
     "text": [
      "25-08-19 17:19:25.462 pyfstat.utils.sft INFO    : Loading 1 SFTs from H1...\n",
      "25-08-19 17:19:25.481 pyfstat.utils.sft INFO    : Loading 1 SFTs from H1...\n",
      "25-08-19 17:19:25.500 pyfstat.utils.sft INFO    : Loading 1 SFTs from H1...\n",
      "25-08-19 17:19:25.514 pyfstat.utils.sft INFO    : Loading 1 SFTs from H1...\n",
      "25-08-19 17:19:25.533 pyfstat.utils.sft INFO    : Loading 1 SFTs from H1...\n",
      "25-08-19 17:19:25.544 pyfstat.utils.sft INFO    : Loading 1 SFTs from H1...\n",
      "25-08-19 17:19:25.558 pyfstat.utils.sft INFO    : Loading 1 SFTs from H1...\n"
     ]
    },
    {
     "name": "stderr",
     "output_type": "stream",
     "text": [
      " 69%|██████▉   | 3998/5760 [01:02<00:27, 63.40it/s]"
     ]
    },
    {
     "name": "stdout",
     "output_type": "stream",
     "text": [
      "25-08-19 17:19:25.577 pyfstat.utils.sft INFO    : Loading 1 SFTs from H1...\n",
      "25-08-19 17:19:25.589 pyfstat.utils.sft INFO    : Loading 1 SFTs from H1...\n",
      "25-08-19 17:19:25.607 pyfstat.utils.sft INFO    : Loading 1 SFTs from H1...\n",
      "25-08-19 17:19:25.625 pyfstat.utils.sft INFO    : Loading 1 SFTs from H1...\n",
      "25-08-19 17:19:25.636 pyfstat.utils.sft INFO    : Loading 1 SFTs from H1...\n",
      "25-08-19 17:19:25.656 pyfstat.utils.sft INFO    : Loading 1 SFTs from H1...\n",
      "25-08-19 17:19:25.671 pyfstat.utils.sft INFO    : Loading 1 SFTs from H1...\n"
     ]
    },
    {
     "name": "stderr",
     "output_type": "stream",
     "text": [
      " 70%|██████▉   | 4005/5760 [01:02<00:27, 63.58it/s]"
     ]
    },
    {
     "name": "stdout",
     "output_type": "stream",
     "text": [
      "25-08-19 17:19:25.683 pyfstat.utils.sft INFO    : Loading 1 SFTs from H1...\n",
      "25-08-19 17:19:25.698 pyfstat.utils.sft INFO    : Loading 1 SFTs from H1...\n",
      "25-08-19 17:19:25.716 pyfstat.utils.sft INFO    : Loading 1 SFTs from H1...\n",
      "25-08-19 17:19:25.732 pyfstat.utils.sft INFO    : Loading 1 SFTs from H1...\n",
      "25-08-19 17:19:25.744 pyfstat.utils.sft INFO    : Loading 1 SFTs from H1...\n",
      "25-08-19 17:19:25.758 pyfstat.utils.sft INFO    : Loading 1 SFTs from H1...\n",
      "25-08-19 17:19:25.777 pyfstat.utils.sft INFO    : Loading 1 SFTs from H1...\n"
     ]
    },
    {
     "name": "stderr",
     "output_type": "stream",
     "text": [
      " 70%|██████▉   | 4012/5760 [01:02<00:27, 63.68it/s]"
     ]
    },
    {
     "name": "stdout",
     "output_type": "stream",
     "text": [
      "25-08-19 17:19:25.796 pyfstat.utils.sft INFO    : Loading 1 SFTs from H1...\n",
      "25-08-19 17:19:25.811 pyfstat.utils.sft INFO    : Loading 1 SFTs from H1...\n",
      "25-08-19 17:19:25.827 pyfstat.utils.sft INFO    : Loading 1 SFTs from H1...\n",
      "25-08-19 17:19:25.838 pyfstat.utils.sft INFO    : Loading 1 SFTs from H1...\n",
      "25-08-19 17:19:25.850 pyfstat.utils.sft INFO    : Loading 1 SFTs from H1...\n",
      "25-08-19 17:19:25.865 pyfstat.utils.sft INFO    : Loading 1 SFTs from H1...\n",
      "25-08-19 17:19:25.876 pyfstat.utils.sft INFO    : Loading 1 SFTs from H1...\n",
      "25-08-19 17:19:25.887 pyfstat.utils.sft INFO    : Loading 1 SFTs from H1...\n"
     ]
    },
    {
     "name": "stderr",
     "output_type": "stream",
     "text": [
      " 70%|██████▉   | 4020/5760 [01:02<00:25, 67.12it/s]"
     ]
    },
    {
     "name": "stdout",
     "output_type": "stream",
     "text": [
      "25-08-19 17:19:25.899 pyfstat.utils.sft INFO    : Loading 1 SFTs from H1...\n",
      "25-08-19 17:19:25.915 pyfstat.utils.sft INFO    : Loading 1 SFTs from H1...\n",
      "25-08-19 17:19:25.930 pyfstat.utils.sft INFO    : Loading 1 SFTs from H1...\n",
      "25-08-19 17:19:25.945 pyfstat.utils.sft INFO    : Loading 1 SFTs from H1...\n",
      "25-08-19 17:19:25.964 pyfstat.utils.sft INFO    : Loading 1 SFTs from H1...\n",
      "25-08-19 17:19:25.983 pyfstat.utils.sft INFO    : Loading 1 SFTs from H1...\n",
      "25-08-19 17:19:25.998 pyfstat.utils.sft INFO    : Loading 1 SFTs from H1...\n"
     ]
    },
    {
     "name": "stderr",
     "output_type": "stream",
     "text": [
      " 70%|██████▉   | 4027/5760 [01:02<00:26, 65.86it/s]"
     ]
    },
    {
     "name": "stdout",
     "output_type": "stream",
     "text": [
      "25-08-19 17:19:26.014 pyfstat.utils.sft INFO    : Loading 1 SFTs from H1...\n",
      "25-08-19 17:19:26.029 pyfstat.utils.sft INFO    : Loading 1 SFTs from H1...\n",
      "25-08-19 17:19:26.044 pyfstat.utils.sft INFO    : Loading 1 SFTs from H1...\n",
      "25-08-19 17:19:26.059 pyfstat.utils.sft INFO    : Loading 1 SFTs from H1...\n",
      "25-08-19 17:19:26.073 pyfstat.utils.sft INFO    : Loading 1 SFTs from H1...\n",
      "25-08-19 17:19:26.092 pyfstat.utils.sft INFO    : Loading 1 SFTs from H1...\n",
      "25-08-19 17:19:26.107 pyfstat.utils.sft INFO    : Loading 1 SFTs from H1...\n"
     ]
    },
    {
     "name": "stderr",
     "output_type": "stream",
     "text": [
      " 70%|███████   | 4034/5760 [01:02<00:26, 64.62it/s]"
     ]
    },
    {
     "name": "stdout",
     "output_type": "stream",
     "text": [
      "25-08-19 17:19:26.126 pyfstat.utils.sft INFO    : Loading 1 SFTs from H1...\n",
      "25-08-19 17:19:26.146 pyfstat.utils.sft INFO    : Loading 1 SFTs from H1...\n",
      "25-08-19 17:19:26.158 pyfstat.utils.sft INFO    : Loading 1 SFTs from H1...\n",
      "25-08-19 17:19:26.173 pyfstat.utils.sft INFO    : Loading 1 SFTs from H1...\n",
      "25-08-19 17:19:26.189 pyfstat.utils.sft INFO    : Loading 1 SFTs from H1...\n",
      "25-08-19 17:19:26.203 pyfstat.utils.sft INFO    : Loading 1 SFTs from H1...\n",
      "25-08-19 17:19:26.223 pyfstat.utils.sft INFO    : Loading 1 SFTs from H1...\n"
     ]
    },
    {
     "name": "stderr",
     "output_type": "stream",
     "text": [
      " 70%|███████   | 4041/5760 [01:02<00:26, 63.86it/s]"
     ]
    },
    {
     "name": "stdout",
     "output_type": "stream",
     "text": [
      "25-08-19 17:19:26.239 pyfstat.utils.sft INFO    : Loading 1 SFTs from H1...\n",
      "25-08-19 17:19:26.251 pyfstat.utils.sft INFO    : Loading 1 SFTs from H1...\n",
      "25-08-19 17:19:26.266 pyfstat.utils.sft INFO    : Loading 1 SFTs from H1...\n",
      "25-08-19 17:19:26.285 pyfstat.utils.sft INFO    : Loading 1 SFTs from H1...\n",
      "25-08-19 17:19:26.300 pyfstat.utils.sft INFO    : Loading 1 SFTs from H1...\n",
      "25-08-19 17:19:26.316 pyfstat.utils.sft INFO    : Loading 1 SFTs from H1...\n",
      "25-08-19 17:19:26.331 pyfstat.utils.sft INFO    : Loading 1 SFTs from H1...\n"
     ]
    },
    {
     "name": "stderr",
     "output_type": "stream",
     "text": [
      " 70%|███████   | 4048/5760 [01:03<00:26, 63.63it/s]"
     ]
    },
    {
     "name": "stdout",
     "output_type": "stream",
     "text": [
      "25-08-19 17:19:26.351 pyfstat.utils.sft INFO    : Loading 1 SFTs from H1...\n",
      "25-08-19 17:19:26.362 pyfstat.utils.sft INFO    : Loading 1 SFTs from H1...\n",
      "25-08-19 17:19:26.378 pyfstat.utils.sft INFO    : Loading 1 SFTs from H1...\n",
      "25-08-19 17:19:26.390 pyfstat.utils.sft INFO    : Loading 1 SFTs from H1...\n",
      "25-08-19 17:19:26.405 pyfstat.utils.sft INFO    : Loading 1 SFTs from H1...\n",
      "25-08-19 17:19:26.420 pyfstat.utils.sft INFO    : Loading 1 SFTs from H1...\n",
      "25-08-19 17:19:26.439 pyfstat.utils.sft INFO    : Loading 1 SFTs from H1...\n"
     ]
    },
    {
     "name": "stderr",
     "output_type": "stream",
     "text": [
      " 70%|███████   | 4055/5760 [01:03<00:26, 64.57it/s]"
     ]
    },
    {
     "name": "stdout",
     "output_type": "stream",
     "text": [
      "25-08-19 17:19:26.456 pyfstat.utils.sft INFO    : Loading 1 SFTs from H1...\n",
      "25-08-19 17:19:26.468 pyfstat.utils.sft INFO    : Loading 1 SFTs from H1...\n",
      "25-08-19 17:19:26.483 pyfstat.utils.sft INFO    : Loading 1 SFTs from H1...\n",
      "25-08-19 17:19:26.501 pyfstat.utils.sft INFO    : Loading 1 SFTs from H1...\n",
      "25-08-19 17:19:26.513 pyfstat.utils.sft INFO    : Loading 1 SFTs from H1...\n",
      "25-08-19 17:19:26.528 pyfstat.utils.sft INFO    : Loading 1 SFTs from H1...\n",
      "25-08-19 17:19:26.548 pyfstat.utils.sft INFO    : Loading 1 SFTs from H1...\n"
     ]
    },
    {
     "name": "stderr",
     "output_type": "stream",
     "text": [
      " 71%|███████   | 4062/5760 [01:03<00:26, 64.48it/s]"
     ]
    },
    {
     "name": "stdout",
     "output_type": "stream",
     "text": [
      "25-08-19 17:19:26.564 pyfstat.utils.sft INFO    : Loading 1 SFTs from H1...\n",
      "25-08-19 17:19:26.580 pyfstat.utils.sft INFO    : Loading 1 SFTs from H1...\n",
      "25-08-19 17:19:26.593 pyfstat.utils.sft INFO    : Loading 1 SFTs from H1...\n",
      "25-08-19 17:19:26.607 pyfstat.utils.sft INFO    : Loading 1 SFTs from H1...\n",
      "25-08-19 17:19:26.625 pyfstat.utils.sft INFO    : Loading 1 SFTs from H1...\n",
      "25-08-19 17:19:26.635 pyfstat.utils.sft INFO    : Loading 1 SFTs from H1...\n",
      "25-08-19 17:19:26.646 pyfstat.utils.sft INFO    : Loading 1 SFTs from H1...\n",
      "25-08-19 17:19:26.656 pyfstat.utils.sft INFO    : Loading 1 SFTs from H1...\n"
     ]
    },
    {
     "name": "stderr",
     "output_type": "stream",
     "text": [
      " 71%|███████   | 4070/5760 [01:03<00:25, 67.35it/s]"
     ]
    },
    {
     "name": "stdout",
     "output_type": "stream",
     "text": [
      "25-08-19 17:19:26.668 pyfstat.utils.sft INFO    : Loading 1 SFTs from H1...\n",
      "25-08-19 17:19:26.683 pyfstat.utils.sft INFO    : Loading 1 SFTs from H1...\n",
      "25-08-19 17:19:26.697 pyfstat.utils.sft INFO    : Loading 1 SFTs from H1...\n",
      "25-08-19 17:19:26.712 pyfstat.utils.sft INFO    : Loading 1 SFTs from H1...\n",
      "25-08-19 17:19:26.726 pyfstat.utils.sft INFO    : Loading 1 SFTs from H1...\n",
      "25-08-19 17:19:26.744 pyfstat.utils.sft INFO    : Loading 1 SFTs from H1...\n",
      "25-08-19 17:19:26.754 pyfstat.utils.sft INFO    : Loading 1 SFTs from H1...\n",
      "25-08-19 17:19:26.768 pyfstat.utils.sft INFO    : Loading 1 SFTs from H1...\n"
     ]
    },
    {
     "name": "stderr",
     "output_type": "stream",
     "text": [
      " 71%|███████   | 4078/5760 [01:03<00:24, 68.72it/s]"
     ]
    },
    {
     "name": "stdout",
     "output_type": "stream",
     "text": [
      "25-08-19 17:19:26.783 pyfstat.utils.sft INFO    : Loading 1 SFTs from H1...\n",
      "25-08-19 17:19:26.795 pyfstat.utils.sft INFO    : Loading 1 SFTs from H1...\n",
      "25-08-19 17:19:26.811 pyfstat.utils.sft INFO    : Loading 1 SFTs from H1...\n",
      "25-08-19 17:19:26.826 pyfstat.utils.sft INFO    : Loading 1 SFTs from H1...\n",
      "25-08-19 17:19:26.842 pyfstat.utils.sft INFO    : Loading 1 SFTs from H1...\n",
      "25-08-19 17:19:26.861 pyfstat.utils.sft INFO    : Loading 1 SFTs from H1...\n",
      "25-08-19 17:19:26.879 pyfstat.utils.sft INFO    : Loading 1 SFTs from H1...\n"
     ]
    },
    {
     "name": "stderr",
     "output_type": "stream",
     "text": [
      " 71%|███████   | 4085/5760 [01:03<00:25, 66.22it/s]"
     ]
    },
    {
     "name": "stdout",
     "output_type": "stream",
     "text": [
      "25-08-19 17:19:26.899 pyfstat.utils.sft INFO    : Loading 1 SFTs from H1...\n",
      "25-08-19 17:19:26.915 pyfstat.utils.sft INFO    : Loading 1 SFTs from H1...\n",
      "25-08-19 17:19:26.930 pyfstat.utils.sft INFO    : Loading 1 SFTs from H1...\n",
      "25-08-19 17:19:26.946 pyfstat.utils.sft INFO    : Loading 1 SFTs from H1...\n",
      "25-08-19 17:19:26.958 pyfstat.utils.sft INFO    : Loading 1 SFTs from H1...\n",
      "25-08-19 17:19:26.977 pyfstat.utils.sft INFO    : Loading 1 SFTs from H1...\n",
      "25-08-19 17:19:26.992 pyfstat.utils.sft INFO    : Loading 1 SFTs from H1...\n"
     ]
    },
    {
     "name": "stderr",
     "output_type": "stream",
     "text": [
      " 71%|███████   | 4092/5760 [01:03<00:25, 64.96it/s]"
     ]
    },
    {
     "name": "stdout",
     "output_type": "stream",
     "text": [
      "25-08-19 17:19:27.008 pyfstat.utils.sft INFO    : Loading 1 SFTs from H1...\n",
      "25-08-19 17:19:27.023 pyfstat.utils.sft INFO    : Loading 1 SFTs from H1...\n",
      "25-08-19 17:19:27.038 pyfstat.utils.sft INFO    : Loading 1 SFTs from H1...\n",
      "25-08-19 17:19:27.050 pyfstat.utils.sft INFO    : Loading 1 SFTs from H1...\n",
      "25-08-19 17:19:27.062 pyfstat.utils.sft INFO    : Loading 1 SFTs from H1...\n",
      "25-08-19 17:19:27.077 pyfstat.utils.sft INFO    : Loading 1 SFTs from H1...\n",
      "25-08-19 17:19:27.093 pyfstat.utils.sft INFO    : Loading 1 SFTs from H1...\n",
      "25-08-19 17:19:27.108 pyfstat.utils.sft INFO    : Loading 1 SFTs from H1...\n"
     ]
    },
    {
     "name": "stderr",
     "output_type": "stream",
     "text": [
      " 71%|███████   | 4100/5760 [01:03<00:24, 66.87it/s]"
     ]
    },
    {
     "name": "stdout",
     "output_type": "stream",
     "text": [
      "25-08-19 17:19:27.124 pyfstat.utils.sft INFO    : Loading 1 SFTs from H1...\n",
      "25-08-19 17:19:27.142 pyfstat.utils.sft INFO    : Loading 1 SFTs from H1...\n",
      "25-08-19 17:19:27.158 pyfstat.utils.sft INFO    : Loading 1 SFTs from H1...\n",
      "25-08-19 17:19:27.177 pyfstat.utils.sft INFO    : Loading 1 SFTs from H1...\n",
      "25-08-19 17:19:27.192 pyfstat.utils.sft INFO    : Loading 1 SFTs from H1...\n",
      "25-08-19 17:19:27.207 pyfstat.utils.sft INFO    : Loading 1 SFTs from H1...\n",
      "25-08-19 17:19:27.222 pyfstat.utils.sft INFO    : Loading 1 SFTs from H1...\n"
     ]
    },
    {
     "name": "stderr",
     "output_type": "stream",
     "text": [
      " 71%|███████▏  | 4107/5760 [01:03<00:25, 64.56it/s]"
     ]
    },
    {
     "name": "stdout",
     "output_type": "stream",
     "text": [
      "25-08-19 17:19:27.241 pyfstat.utils.sft INFO    : Loading 1 SFTs from H1...\n",
      "25-08-19 17:19:27.260 pyfstat.utils.sft INFO    : Loading 1 SFTs from H1...\n",
      "25-08-19 17:19:27.275 pyfstat.utils.sft INFO    : Loading 1 SFTs from H1...\n",
      "25-08-19 17:19:27.287 pyfstat.utils.sft INFO    : Loading 1 SFTs from H1...\n",
      "25-08-19 17:19:27.302 pyfstat.utils.sft INFO    : Loading 1 SFTs from H1...\n",
      "25-08-19 17:19:27.317 pyfstat.utils.sft INFO    : Loading 1 SFTs from H1...\n",
      "25-08-19 17:19:27.331 pyfstat.utils.sft INFO    : Loading 1 SFTs from H1...\n"
     ]
    },
    {
     "name": "stderr",
     "output_type": "stream",
     "text": [
      " 71%|███████▏  | 4114/5760 [01:04<00:25, 65.20it/s]"
     ]
    },
    {
     "name": "stdout",
     "output_type": "stream",
     "text": [
      "25-08-19 17:19:27.346 pyfstat.utils.sft INFO    : Loading 1 SFTs from H1...\n",
      "25-08-19 17:19:27.358 pyfstat.utils.sft INFO    : Loading 1 SFTs from H1...\n",
      "25-08-19 17:19:27.373 pyfstat.utils.sft INFO    : Loading 1 SFTs from H1...\n",
      "25-08-19 17:19:27.391 pyfstat.utils.sft INFO    : Loading 1 SFTs from H1...\n",
      "25-08-19 17:19:27.403 pyfstat.utils.sft INFO    : Loading 1 SFTs from H1...\n",
      "25-08-19 17:19:27.418 pyfstat.utils.sft INFO    : Loading 1 SFTs from H1...\n",
      "25-08-19 17:19:27.429 pyfstat.utils.sft INFO    : Loading 1 SFTs from H1...\n"
     ]
    },
    {
     "name": "stderr",
     "output_type": "stream",
     "text": [
      " 72%|███████▏  | 4121/5760 [01:04<00:24, 66.14it/s]"
     ]
    },
    {
     "name": "stdout",
     "output_type": "stream",
     "text": [
      "25-08-19 17:19:27.448 pyfstat.utils.sft INFO    : Loading 1 SFTs from H1...\n",
      "25-08-19 17:19:27.467 pyfstat.utils.sft INFO    : Loading 1 SFTs from H1...\n",
      "25-08-19 17:19:27.478 pyfstat.utils.sft INFO    : Loading 1 SFTs from H1...\n",
      "25-08-19 17:19:27.498 pyfstat.utils.sft INFO    : Loading 1 SFTs from H1...\n",
      "25-08-19 17:19:27.515 pyfstat.utils.sft INFO    : Loading 1 SFTs from H1...\n",
      "25-08-19 17:19:27.534 pyfstat.utils.sft INFO    : Loading 1 SFTs from H1...\n",
      "25-08-19 17:19:27.554 pyfstat.utils.sft INFO    : Loading 1 SFTs from H1...\n"
     ]
    },
    {
     "name": "stderr",
     "output_type": "stream",
     "text": [
      " 72%|███████▏  | 4128/5760 [01:04<00:26, 62.69it/s]"
     ]
    },
    {
     "name": "stdout",
     "output_type": "stream",
     "text": [
      "25-08-19 17:19:27.570 pyfstat.utils.sft INFO    : Loading 1 SFTs from H1...\n",
      "25-08-19 17:19:27.585 pyfstat.utils.sft INFO    : Loading 1 SFTs from H1...\n",
      "25-08-19 17:19:27.605 pyfstat.utils.sft INFO    : Loading 1 SFTs from H1...\n",
      "25-08-19 17:19:27.625 pyfstat.utils.sft INFO    : Loading 1 SFTs from H1...\n",
      "25-08-19 17:19:27.640 pyfstat.utils.sft INFO    : Loading 1 SFTs from H1...\n",
      "25-08-19 17:19:27.656 pyfstat.utils.sft INFO    : Loading 1 SFTs from H1...\n",
      "25-08-19 17:19:27.668 pyfstat.utils.sft INFO    : Loading 1 SFTs from H1...\n"
     ]
    },
    {
     "name": "stderr",
     "output_type": "stream",
     "text": [
      " 72%|███████▏  | 4135/5760 [01:04<00:25, 62.89it/s]"
     ]
    },
    {
     "name": "stdout",
     "output_type": "stream",
     "text": [
      "25-08-19 17:19:27.687 pyfstat.utils.sft INFO    : Loading 1 SFTs from H1...\n",
      "25-08-19 17:19:27.699 pyfstat.utils.sft INFO    : Loading 1 SFTs from H1...\n",
      "25-08-19 17:19:27.713 pyfstat.utils.sft INFO    : Loading 1 SFTs from H1...\n",
      "25-08-19 17:19:27.731 pyfstat.utils.sft INFO    : Loading 1 SFTs from H1...\n",
      "25-08-19 17:19:27.746 pyfstat.utils.sft INFO    : Loading 1 SFTs from H1...\n",
      "25-08-19 17:19:27.762 pyfstat.utils.sft INFO    : Loading 1 SFTs from H1...\n",
      "25-08-19 17:19:27.777 pyfstat.utils.sft INFO    : Loading 1 SFTs from H1...\n"
     ]
    },
    {
     "name": "stderr",
     "output_type": "stream",
     "text": [
      " 72%|███████▏  | 4142/5760 [01:04<00:25, 63.20it/s]"
     ]
    },
    {
     "name": "stdout",
     "output_type": "stream",
     "text": [
      "25-08-19 17:19:27.795 pyfstat.utils.sft INFO    : Loading 1 SFTs from H1...\n",
      "25-08-19 17:19:27.814 pyfstat.utils.sft INFO    : Loading 1 SFTs from H1...\n",
      "25-08-19 17:19:27.829 pyfstat.utils.sft INFO    : Loading 1 SFTs from H1...\n",
      "25-08-19 17:19:27.844 pyfstat.utils.sft INFO    : Loading 1 SFTs from H1...\n",
      "25-08-19 17:19:27.863 pyfstat.utils.sft INFO    : Loading 1 SFTs from H1...\n",
      "25-08-19 17:19:27.882 pyfstat.utils.sft INFO    : Loading 1 SFTs from H1...\n",
      "25-08-19 17:19:27.901 pyfstat.utils.sft INFO    : Loading 1 SFTs from H1...\n"
     ]
    },
    {
     "name": "stderr",
     "output_type": "stream",
     "text": [
      " 72%|███████▏  | 4149/5760 [01:04<00:26, 61.15it/s]"
     ]
    },
    {
     "name": "stdout",
     "output_type": "stream",
     "text": [
      "25-08-19 17:19:27.917 pyfstat.utils.sft INFO    : Loading 1 SFTs from H1...\n",
      "25-08-19 17:19:27.935 pyfstat.utils.sft INFO    : Loading 1 SFTs from H1...\n",
      "25-08-19 17:19:27.954 pyfstat.utils.sft INFO    : Loading 1 SFTs from H1...\n",
      "25-08-19 17:19:27.968 pyfstat.utils.sft INFO    : Loading 1 SFTs from H1...\n",
      "25-08-19 17:19:27.983 pyfstat.utils.sft INFO    : Loading 1 SFTs from H1...\n",
      "25-08-19 17:19:28.002 pyfstat.utils.sft INFO    : Loading 1 SFTs from H1...\n",
      "25-08-19 17:19:28.013 pyfstat.utils.sft INFO    : Loading 1 SFTs from H1...\n"
     ]
    },
    {
     "name": "stderr",
     "output_type": "stream",
     "text": [
      " 72%|███████▏  | 4156/5760 [01:04<00:26, 61.62it/s]"
     ]
    },
    {
     "name": "stdout",
     "output_type": "stream",
     "text": [
      "25-08-19 17:19:28.028 pyfstat.utils.sft INFO    : Loading 1 SFTs from H1...\n",
      "25-08-19 17:19:28.047 pyfstat.utils.sft INFO    : Loading 1 SFTs from H1...\n",
      "25-08-19 17:19:28.061 pyfstat.utils.sft INFO    : Loading 1 SFTs from H1...\n",
      "25-08-19 17:19:28.079 pyfstat.utils.sft INFO    : Loading 1 SFTs from H1...\n",
      "25-08-19 17:19:28.094 pyfstat.utils.sft INFO    : Loading 1 SFTs from H1...\n",
      "25-08-19 17:19:28.111 pyfstat.utils.sft INFO    : Loading 1 SFTs from H1...\n",
      "25-08-19 17:19:28.130 pyfstat.utils.sft INFO    : Loading 1 SFTs from H1...\n"
     ]
    },
    {
     "name": "stderr",
     "output_type": "stream",
     "text": [
      " 72%|███████▏  | 4163/5760 [01:04<00:26, 61.07it/s]"
     ]
    },
    {
     "name": "stdout",
     "output_type": "stream",
     "text": [
      "25-08-19 17:19:28.146 pyfstat.utils.sft INFO    : Loading 1 SFTs from H1...\n",
      "25-08-19 17:19:28.157 pyfstat.utils.sft INFO    : Loading 1 SFTs from H1...\n",
      "25-08-19 17:19:28.172 pyfstat.utils.sft INFO    : Loading 1 SFTs from H1...\n",
      "25-08-19 17:19:28.187 pyfstat.utils.sft INFO    : Loading 1 SFTs from H1...\n",
      "25-08-19 17:19:28.206 pyfstat.utils.sft INFO    : Loading 1 SFTs from H1...\n",
      "25-08-19 17:19:28.220 pyfstat.utils.sft INFO    : Loading 1 SFTs from H1...\n",
      "25-08-19 17:19:28.240 pyfstat.utils.sft INFO    : Loading 1 SFTs from H1...\n"
     ]
    },
    {
     "name": "stderr",
     "output_type": "stream",
     "text": [
      " 72%|███████▏  | 4170/5760 [01:04<00:25, 61.83it/s]"
     ]
    },
    {
     "name": "stdout",
     "output_type": "stream",
     "text": [
      "25-08-19 17:19:28.255 pyfstat.utils.sft INFO    : Loading 1 SFTs from H1...\n",
      "25-08-19 17:19:28.272 pyfstat.utils.sft INFO    : Loading 1 SFTs from H1...\n",
      "25-08-19 17:19:28.290 pyfstat.utils.sft INFO    : Loading 1 SFTs from H1...\n",
      "25-08-19 17:19:28.309 pyfstat.utils.sft INFO    : Loading 1 SFTs from H1...\n",
      "25-08-19 17:19:28.320 pyfstat.utils.sft INFO    : Loading 1 SFTs from H1...\n",
      "25-08-19 17:19:28.335 pyfstat.utils.sft INFO    : Loading 1 SFTs from H1...\n",
      "25-08-19 17:19:28.354 pyfstat.utils.sft INFO    : Loading 1 SFTs from H1...\n"
     ]
    },
    {
     "name": "stderr",
     "output_type": "stream",
     "text": [
      " 73%|███████▎  | 4177/5760 [01:05<00:25, 61.74it/s]"
     ]
    },
    {
     "name": "stdout",
     "output_type": "stream",
     "text": [
      "25-08-19 17:19:28.365 pyfstat.utils.sft INFO    : Loading 1 SFTs from H1...\n",
      "25-08-19 17:19:28.377 pyfstat.utils.sft INFO    : Loading 1 SFTs from H1...\n",
      "25-08-19 17:19:28.392 pyfstat.utils.sft INFO    : Loading 1 SFTs from H1...\n",
      "25-08-19 17:19:28.406 pyfstat.utils.sft INFO    : Loading 1 SFTs from H1...\n",
      "25-08-19 17:19:28.418 pyfstat.utils.sft INFO    : Loading 1 SFTs from H1...\n",
      "25-08-19 17:19:28.433 pyfstat.utils.sft INFO    : Loading 1 SFTs from H1...\n",
      "25-08-19 17:19:28.444 pyfstat.utils.sft INFO    : Loading 1 SFTs from H1...\n",
      "25-08-19 17:19:28.455 pyfstat.utils.sft INFO    : Loading 1 SFTs from H1...\n"
     ]
    },
    {
     "name": "stderr",
     "output_type": "stream",
     "text": [
      " 73%|███████▎  | 4185/5760 [01:05<00:23, 66.53it/s]"
     ]
    },
    {
     "name": "stdout",
     "output_type": "stream",
     "text": [
      "25-08-19 17:19:28.470 pyfstat.utils.sft INFO    : Loading 1 SFTs from H1...\n",
      "25-08-19 17:19:28.482 pyfstat.utils.sft INFO    : Loading 1 SFTs from H1...\n",
      "25-08-19 17:19:28.497 pyfstat.utils.sft INFO    : Loading 1 SFTs from H1...\n",
      "25-08-19 17:19:28.512 pyfstat.utils.sft INFO    : Loading 1 SFTs from H1...\n",
      "25-08-19 17:19:28.524 pyfstat.utils.sft INFO    : Loading 1 SFTs from H1...\n",
      "25-08-19 17:19:28.539 pyfstat.utils.sft INFO    : Loading 1 SFTs from H1...\n",
      "25-08-19 17:19:28.557 pyfstat.utils.sft INFO    : Loading 1 SFTs from H1...\n"
     ]
    },
    {
     "name": "stderr",
     "output_type": "stream",
     "text": [
      " 73%|███████▎  | 4192/5760 [01:05<00:23, 67.02it/s]"
     ]
    },
    {
     "name": "stdout",
     "output_type": "stream",
     "text": [
      "25-08-19 17:19:28.573 pyfstat.utils.sft INFO    : Loading 1 SFTs from H1...\n",
      "25-08-19 17:19:28.584 pyfstat.utils.sft INFO    : Loading 1 SFTs from H1...\n",
      "25-08-19 17:19:28.602 pyfstat.utils.sft INFO    : Loading 1 SFTs from H1...\n",
      "25-08-19 17:19:28.613 pyfstat.utils.sft INFO    : Loading 1 SFTs from H1...\n",
      "25-08-19 17:19:28.624 pyfstat.utils.sft INFO    : Loading 1 SFTs from H1...\n",
      "25-08-19 17:19:28.639 pyfstat.utils.sft INFO    : Loading 1 SFTs from H1...\n",
      "25-08-19 17:19:28.657 pyfstat.utils.sft INFO    : Loading 1 SFTs from H1...\n",
      "25-08-19 17:19:28.672 pyfstat.utils.sft INFO    : Loading 1 SFTs from H1...\n"
     ]
    },
    {
     "name": "stderr",
     "output_type": "stream",
     "text": [
      " 73%|███████▎  | 4200/5760 [01:05<00:22, 67.96it/s]"
     ]
    },
    {
     "name": "stdout",
     "output_type": "stream",
     "text": [
      "25-08-19 17:19:28.687 pyfstat.utils.sft INFO    : Loading 1 SFTs from H1...\n",
      "25-08-19 17:19:28.702 pyfstat.utils.sft INFO    : Loading 1 SFTs from H1...\n",
      "25-08-19 17:19:28.717 pyfstat.utils.sft INFO    : Loading 1 SFTs from H1...\n",
      "25-08-19 17:19:28.728 pyfstat.utils.sft INFO    : Loading 1 SFTs from H1...\n",
      "25-08-19 17:19:28.739 pyfstat.utils.sft INFO    : Loading 1 SFTs from H1...\n",
      "25-08-19 17:19:28.754 pyfstat.utils.sft INFO    : Loading 1 SFTs from H1...\n",
      "25-08-19 17:19:28.764 pyfstat.utils.sft INFO    : Loading 1 SFTs from H1...\n",
      "25-08-19 17:19:28.775 pyfstat.utils.sft INFO    : Loading 1 SFTs from H1...\n"
     ]
    },
    {
     "name": "stderr",
     "output_type": "stream",
     "text": [
      " 73%|███████▎  | 4208/5760 [01:05<00:21, 70.70it/s]"
     ]
    },
    {
     "name": "stdout",
     "output_type": "stream",
     "text": [
      "25-08-19 17:19:28.790 pyfstat.utils.sft INFO    : Loading 1 SFTs from H1...\n",
      "25-08-19 17:19:28.808 pyfstat.utils.sft INFO    : Loading 1 SFTs from H1...\n",
      "25-08-19 17:19:28.827 pyfstat.utils.sft INFO    : Loading 1 SFTs from H1...\n",
      "25-08-19 17:19:28.842 pyfstat.utils.sft INFO    : Loading 1 SFTs from H1...\n",
      "25-08-19 17:19:28.857 pyfstat.utils.sft INFO    : Loading 1 SFTs from H1...\n",
      "25-08-19 17:19:28.872 pyfstat.utils.sft INFO    : Loading 1 SFTs from H1...\n",
      "25-08-19 17:19:28.890 pyfstat.utils.sft INFO    : Loading 1 SFTs from H1...\n",
      "25-08-19 17:19:28.906 pyfstat.utils.sft INFO    : Loading 1 SFTs from H1...\n"
     ]
    },
    {
     "name": "stderr",
     "output_type": "stream",
     "text": [
      " 73%|███████▎  | 4216/5760 [01:05<00:23, 66.74it/s]"
     ]
    },
    {
     "name": "stdout",
     "output_type": "stream",
     "text": [
      "25-08-19 17:19:28.926 pyfstat.utils.sft INFO    : Loading 1 SFTs from H1...\n",
      "25-08-19 17:19:28.941 pyfstat.utils.sft INFO    : Loading 1 SFTs from H1...\n",
      "25-08-19 17:19:28.959 pyfstat.utils.sft INFO    : Loading 1 SFTs from H1...\n",
      "25-08-19 17:19:28.974 pyfstat.utils.sft INFO    : Loading 1 SFTs from H1...\n",
      "25-08-19 17:19:28.989 pyfstat.utils.sft INFO    : Loading 1 SFTs from H1...\n",
      "25-08-19 17:19:29.004 pyfstat.utils.sft INFO    : Loading 1 SFTs from H1...\n",
      "25-08-19 17:19:29.016 pyfstat.utils.sft INFO    : Loading 1 SFTs from H1...\n"
     ]
    },
    {
     "name": "stderr",
     "output_type": "stream",
     "text": [
      " 73%|███████▎  | 4223/5760 [01:05<00:23, 65.96it/s]"
     ]
    },
    {
     "name": "stdout",
     "output_type": "stream",
     "text": [
      "25-08-19 17:19:29.031 pyfstat.utils.sft INFO    : Loading 1 SFTs from H1...\n",
      "25-08-19 17:19:29.046 pyfstat.utils.sft INFO    : Loading 1 SFTs from H1...\n",
      "25-08-19 17:19:29.065 pyfstat.utils.sft INFO    : Loading 1 SFTs from H1...\n",
      "25-08-19 17:19:29.084 pyfstat.utils.sft INFO    : Loading 1 SFTs from H1...\n",
      "25-08-19 17:19:29.099 pyfstat.utils.sft INFO    : Loading 1 SFTs from H1...\n",
      "25-08-19 17:19:29.117 pyfstat.utils.sft INFO    : Loading 1 SFTs from H1...\n",
      "25-08-19 17:19:29.133 pyfstat.utils.sft INFO    : Loading 1 SFTs from H1...\n"
     ]
    },
    {
     "name": "stderr",
     "output_type": "stream",
     "text": [
      " 73%|███████▎  | 4230/5760 [01:05<00:23, 64.64it/s]"
     ]
    },
    {
     "name": "stdout",
     "output_type": "stream",
     "text": [
      "25-08-19 17:19:29.148 pyfstat.utils.sft INFO    : Loading 1 SFTs from H1...\n",
      "25-08-19 17:19:29.163 pyfstat.utils.sft INFO    : Loading 1 SFTs from H1...\n",
      "25-08-19 17:19:29.182 pyfstat.utils.sft INFO    : Loading 1 SFTs from H1...\n",
      "25-08-19 17:19:29.201 pyfstat.utils.sft INFO    : Loading 1 SFTs from H1...\n",
      "25-08-19 17:19:29.218 pyfstat.utils.sft INFO    : Loading 1 SFTs from H1...\n",
      "25-08-19 17:19:29.235 pyfstat.utils.sft INFO    : Loading 1 SFTs from H1...\n",
      "25-08-19 17:19:29.247 pyfstat.utils.sft INFO    : Loading 1 SFTs from H1...\n"
     ]
    },
    {
     "name": "stderr",
     "output_type": "stream",
     "text": [
      " 74%|███████▎  | 4237/5760 [01:05<00:23, 63.72it/s]"
     ]
    },
    {
     "name": "stdout",
     "output_type": "stream",
     "text": [
      "25-08-19 17:19:29.258 pyfstat.utils.sft INFO    : Loading 1 SFTs from H1...\n",
      "25-08-19 17:19:29.273 pyfstat.utils.sft INFO    : Loading 1 SFTs from H1...\n",
      "25-08-19 17:19:29.287 pyfstat.utils.sft INFO    : Loading 1 SFTs from H1...\n",
      "25-08-19 17:19:29.302 pyfstat.utils.sft INFO    : Loading 1 SFTs from H1...\n",
      "25-08-19 17:19:29.313 pyfstat.utils.sft INFO    : Loading 1 SFTs from H1...\n",
      "25-08-19 17:19:29.325 pyfstat.utils.sft INFO    : Loading 1 SFTs from H1...\n",
      "25-08-19 17:19:29.339 pyfstat.utils.sft INFO    : Loading 1 SFTs from H1...\n",
      "25-08-19 17:19:29.357 pyfstat.utils.sft INFO    : Loading 1 SFTs from H1...\n"
     ]
    },
    {
     "name": "stderr",
     "output_type": "stream",
     "text": [
      " 74%|███████▎  | 4245/5760 [01:06<00:23, 65.62it/s]"
     ]
    },
    {
     "name": "stdout",
     "output_type": "stream",
     "text": [
      "25-08-19 17:19:29.372 pyfstat.utils.sft INFO    : Loading 1 SFTs from H1...\n",
      "25-08-19 17:19:29.383 pyfstat.utils.sft INFO    : Loading 1 SFTs from H1...\n",
      "25-08-19 17:19:29.401 pyfstat.utils.sft INFO    : Loading 1 SFTs from H1...\n",
      "25-08-19 17:19:29.416 pyfstat.utils.sft INFO    : Loading 1 SFTs from H1...\n",
      "25-08-19 17:19:29.431 pyfstat.utils.sft INFO    : Loading 1 SFTs from H1...\n",
      "25-08-19 17:19:29.446 pyfstat.utils.sft INFO    : Loading 1 SFTs from H1...\n",
      "25-08-19 17:19:29.465 pyfstat.utils.sft INFO    : Loading 1 SFTs from H1...\n"
     ]
    },
    {
     "name": "stderr",
     "output_type": "stream",
     "text": [
      " 74%|███████▍  | 4252/5760 [01:06<00:23, 65.50it/s]"
     ]
    },
    {
     "name": "stdout",
     "output_type": "stream",
     "text": [
      "25-08-19 17:19:29.484 pyfstat.utils.sft INFO    : Loading 1 SFTs from H1...\n",
      "25-08-19 17:19:29.496 pyfstat.utils.sft INFO    : Loading 1 SFTs from H1...\n",
      "25-08-19 17:19:29.510 pyfstat.utils.sft INFO    : Loading 1 SFTs from H1...\n",
      "25-08-19 17:19:29.529 pyfstat.utils.sft INFO    : Loading 1 SFTs from H1...\n",
      "25-08-19 17:19:29.544 pyfstat.utils.sft INFO    : Loading 1 SFTs from H1...\n",
      "25-08-19 17:19:29.560 pyfstat.utils.sft INFO    : Loading 1 SFTs from H1...\n",
      "25-08-19 17:19:29.575 pyfstat.utils.sft INFO    : Loading 1 SFTs from H1...\n"
     ]
    },
    {
     "name": "stderr",
     "output_type": "stream",
     "text": [
      " 74%|███████▍  | 4259/5760 [01:06<00:22, 65.61it/s]"
     ]
    },
    {
     "name": "stdout",
     "output_type": "stream",
     "text": [
      "25-08-19 17:19:29.590 pyfstat.utils.sft INFO    : Loading 1 SFTs from H1...\n",
      "25-08-19 17:19:29.601 pyfstat.utils.sft INFO    : Loading 1 SFTs from H1...\n",
      "25-08-19 17:19:29.616 pyfstat.utils.sft INFO    : Loading 1 SFTs from H1...\n",
      "25-08-19 17:19:29.634 pyfstat.utils.sft INFO    : Loading 1 SFTs from H1...\n",
      "25-08-19 17:19:29.654 pyfstat.utils.sft INFO    : Loading 1 SFTs from H1...\n",
      "25-08-19 17:19:29.668 pyfstat.utils.sft INFO    : Loading 1 SFTs from H1...\n",
      "25-08-19 17:19:29.683 pyfstat.utils.sft INFO    : Loading 1 SFTs from H1...\n"
     ]
    },
    {
     "name": "stderr",
     "output_type": "stream",
     "text": [
      " 74%|███████▍  | 4266/5760 [01:06<00:23, 64.60it/s]"
     ]
    },
    {
     "name": "stdout",
     "output_type": "stream",
     "text": [
      "25-08-19 17:19:29.702 pyfstat.utils.sft INFO    : Loading 1 SFTs from H1...\n",
      "25-08-19 17:19:29.717 pyfstat.utils.sft INFO    : Loading 1 SFTs from H1...\n",
      "25-08-19 17:19:29.732 pyfstat.utils.sft INFO    : Loading 1 SFTs from H1...\n",
      "25-08-19 17:19:29.747 pyfstat.utils.sft INFO    : Loading 1 SFTs from H1...\n",
      "25-08-19 17:19:29.766 pyfstat.utils.sft INFO    : Loading 1 SFTs from H1...\n",
      "25-08-19 17:19:29.777 pyfstat.utils.sft INFO    : Loading 1 SFTs from H1...\n",
      "25-08-19 17:19:29.796 pyfstat.utils.sft INFO    : Loading 1 SFTs from H1...\n"
     ]
    },
    {
     "name": "stderr",
     "output_type": "stream",
     "text": [
      " 74%|███████▍  | 4273/5760 [01:06<00:23, 64.49it/s]"
     ]
    },
    {
     "name": "stdout",
     "output_type": "stream",
     "text": [
      "25-08-19 17:19:29.807 pyfstat.utils.sft INFO    : Loading 1 SFTs from H1...\n",
      "25-08-19 17:19:29.822 pyfstat.utils.sft INFO    : Loading 1 SFTs from H1...\n",
      "25-08-19 17:19:29.837 pyfstat.utils.sft INFO    : Loading 1 SFTs from H1...\n",
      "25-08-19 17:19:29.852 pyfstat.utils.sft INFO    : Loading 1 SFTs from H1...\n",
      "25-08-19 17:19:29.867 pyfstat.utils.sft INFO    : Loading 1 SFTs from H1...\n",
      "25-08-19 17:19:29.878 pyfstat.utils.sft INFO    : Loading 1 SFTs from H1...\n",
      "25-08-19 17:19:29.889 pyfstat.utils.sft INFO    : Loading 1 SFTs from H1...\n",
      "25-08-19 17:19:29.904 pyfstat.utils.sft INFO    : Loading 1 SFTs from H1...\n"
     ]
    },
    {
     "name": "stderr",
     "output_type": "stream",
     "text": [
      " 74%|███████▍  | 4281/5760 [01:06<00:22, 66.63it/s]"
     ]
    },
    {
     "name": "stdout",
     "output_type": "stream",
     "text": [
      "25-08-19 17:19:29.919 pyfstat.utils.sft INFO    : Loading 1 SFTs from H1...\n",
      "25-08-19 17:19:29.934 pyfstat.utils.sft INFO    : Loading 1 SFTs from H1...\n",
      "25-08-19 17:19:29.945 pyfstat.utils.sft INFO    : Loading 1 SFTs from H1...\n",
      "25-08-19 17:19:29.956 pyfstat.utils.sft INFO    : Loading 1 SFTs from H1...\n",
      "25-08-19 17:19:29.970 pyfstat.utils.sft INFO    : Loading 1 SFTs from H1...\n",
      "25-08-19 17:19:29.986 pyfstat.utils.sft INFO    : Loading 1 SFTs from H1...\n",
      "25-08-19 17:19:30.002 pyfstat.utils.sft INFO    : Loading 1 SFTs from H1...\n",
      "25-08-19 17:19:30.013 pyfstat.utils.sft INFO    : Loading 1 SFTs from H1...\n"
     ]
    },
    {
     "name": "stderr",
     "output_type": "stream",
     "text": [
      " 74%|███████▍  | 4289/5760 [01:06<00:21, 69.35it/s]"
     ]
    },
    {
     "name": "stdout",
     "output_type": "stream",
     "text": [
      "25-08-19 17:19:30.027 pyfstat.utils.sft INFO    : Loading 1 SFTs from H1...\n",
      "25-08-19 17:19:30.046 pyfstat.utils.sft INFO    : Loading 1 SFTs from H1...\n",
      "25-08-19 17:19:30.056 pyfstat.utils.sft INFO    : Loading 1 SFTs from H1...\n",
      "25-08-19 17:19:30.078 pyfstat.utils.sft INFO    : Loading 1 SFTs from H1...\n",
      "25-08-19 17:19:30.093 pyfstat.utils.sft INFO    : Loading 1 SFTs from H1...\n",
      "25-08-19 17:19:30.108 pyfstat.utils.sft INFO    : Loading 1 SFTs from H1...\n",
      "25-08-19 17:19:30.123 pyfstat.utils.sft INFO    : Loading 1 SFTs from H1...\n"
     ]
    },
    {
     "name": "stderr",
     "output_type": "stream",
     "text": [
      " 75%|███████▍  | 4296/5760 [01:06<00:21, 67.00it/s]"
     ]
    },
    {
     "name": "stdout",
     "output_type": "stream",
     "text": [
      "25-08-19 17:19:30.142 pyfstat.utils.sft INFO    : Loading 1 SFTs from H1...\n",
      "25-08-19 17:19:30.160 pyfstat.utils.sft INFO    : Loading 1 SFTs from H1...\n",
      "25-08-19 17:19:30.175 pyfstat.utils.sft INFO    : Loading 1 SFTs from H1...\n",
      "25-08-19 17:19:30.189 pyfstat.utils.sft INFO    : Loading 1 SFTs from H1...\n",
      "25-08-19 17:19:30.204 pyfstat.utils.sft INFO    : Loading 1 SFTs from H1...\n",
      "25-08-19 17:19:30.216 pyfstat.utils.sft INFO    : Loading 1 SFTs from H1...\n",
      "25-08-19 17:19:30.230 pyfstat.utils.sft INFO    : Loading 1 SFTs from H1...\n"
     ]
    },
    {
     "name": "stderr",
     "output_type": "stream",
     "text": [
      " 75%|███████▍  | 4303/5760 [01:06<00:21, 66.98it/s]"
     ]
    },
    {
     "name": "stdout",
     "output_type": "stream",
     "text": [
      "25-08-19 17:19:30.246 pyfstat.utils.sft INFO    : Loading 1 SFTs from H1...\n",
      "25-08-19 17:19:30.262 pyfstat.utils.sft INFO    : Loading 1 SFTs from H1...\n",
      "25-08-19 17:19:30.276 pyfstat.utils.sft INFO    : Loading 1 SFTs from H1...\n",
      "25-08-19 17:19:30.291 pyfstat.utils.sft INFO    : Loading 1 SFTs from H1...\n",
      "25-08-19 17:19:30.306 pyfstat.utils.sft INFO    : Loading 1 SFTs from H1...\n",
      "25-08-19 17:19:30.321 pyfstat.utils.sft INFO    : Loading 1 SFTs from H1...\n",
      "25-08-19 17:19:30.335 pyfstat.utils.sft INFO    : Loading 1 SFTs from H1...\n"
     ]
    },
    {
     "name": "stderr",
     "output_type": "stream",
     "text": [
      " 75%|███████▍  | 4310/5760 [01:07<00:21, 67.01it/s]"
     ]
    },
    {
     "name": "stdout",
     "output_type": "stream",
     "text": [
      "25-08-19 17:19:30.347 pyfstat.utils.sft INFO    : Loading 1 SFTs from H1...\n",
      "25-08-19 17:19:30.358 pyfstat.utils.sft INFO    : Loading 1 SFTs from H1...\n",
      "25-08-19 17:19:30.373 pyfstat.utils.sft INFO    : Loading 1 SFTs from H1...\n",
      "25-08-19 17:19:30.387 pyfstat.utils.sft INFO    : Loading 1 SFTs from H1...\n",
      "25-08-19 17:19:30.402 pyfstat.utils.sft INFO    : Loading 1 SFTs from H1...\n",
      "25-08-19 17:19:30.420 pyfstat.utils.sft INFO    : Loading 1 SFTs from H1...\n",
      "25-08-19 17:19:30.435 pyfstat.utils.sft INFO    : Loading 1 SFTs from H1...\n"
     ]
    },
    {
     "name": "stderr",
     "output_type": "stream",
     "text": [
      " 75%|███████▍  | 4317/5760 [01:07<00:21, 67.81it/s]"
     ]
    },
    {
     "name": "stdout",
     "output_type": "stream",
     "text": [
      "25-08-19 17:19:30.447 pyfstat.utils.sft INFO    : Loading 1 SFTs from H1...\n",
      "25-08-19 17:19:30.462 pyfstat.utils.sft INFO    : Loading 1 SFTs from H1...\n",
      "25-08-19 17:19:30.477 pyfstat.utils.sft INFO    : Loading 1 SFTs from H1...\n",
      "25-08-19 17:19:30.492 pyfstat.utils.sft INFO    : Loading 1 SFTs from H1...\n",
      "25-08-19 17:19:30.507 pyfstat.utils.sft INFO    : Loading 1 SFTs from H1...\n",
      "25-08-19 17:19:30.522 pyfstat.utils.sft INFO    : Loading 1 SFTs from H1...\n",
      "25-08-19 17:19:30.537 pyfstat.utils.sft INFO    : Loading 1 SFTs from H1...\n"
     ]
    },
    {
     "name": "stderr",
     "output_type": "stream",
     "text": [
      " 75%|███████▌  | 4324/5760 [01:07<00:21, 67.45it/s]"
     ]
    },
    {
     "name": "stdout",
     "output_type": "stream",
     "text": [
      "25-08-19 17:19:30.556 pyfstat.utils.sft INFO    : Loading 1 SFTs from H1...\n",
      "25-08-19 17:19:30.567 pyfstat.utils.sft INFO    : Loading 1 SFTs from H1...\n",
      "25-08-19 17:19:30.581 pyfstat.utils.sft INFO    : Loading 1 SFTs from H1...\n",
      "25-08-19 17:19:30.592 pyfstat.utils.sft INFO    : Loading 1 SFTs from H1...\n",
      "25-08-19 17:19:30.606 pyfstat.utils.sft INFO    : Loading 1 SFTs from H1...\n",
      "25-08-19 17:19:30.624 pyfstat.utils.sft INFO    : Loading 1 SFTs from H1...\n",
      "25-08-19 17:19:30.636 pyfstat.utils.sft INFO    : Loading 1 SFTs from H1...\n",
      "25-08-19 17:19:30.650 pyfstat.utils.sft INFO    : Loading 1 SFTs from H1...\n"
     ]
    },
    {
     "name": "stderr",
     "output_type": "stream",
     "text": [
      " 75%|███████▌  | 4332/5760 [01:07<00:20, 68.56it/s]"
     ]
    },
    {
     "name": "stdout",
     "output_type": "stream",
     "text": [
      "25-08-19 17:19:30.668 pyfstat.utils.sft INFO    : Loading 1 SFTs from H1...\n",
      "25-08-19 17:19:30.686 pyfstat.utils.sft INFO    : Loading 1 SFTs from H1...\n",
      "25-08-19 17:19:30.699 pyfstat.utils.sft INFO    : Loading 1 SFTs from H1...\n",
      "25-08-19 17:19:30.712 pyfstat.utils.sft INFO    : Loading 1 SFTs from H1...\n",
      "25-08-19 17:19:30.731 pyfstat.utils.sft INFO    : Loading 1 SFTs from H1...\n",
      "25-08-19 17:19:30.748 pyfstat.utils.sft INFO    : Loading 1 SFTs from H1...\n",
      "25-08-19 17:19:30.766 pyfstat.utils.sft INFO    : Loading 1 SFTs from H1...\n"
     ]
    },
    {
     "name": "stderr",
     "output_type": "stream",
     "text": [
      " 75%|███████▌  | 4339/5760 [01:07<00:21, 65.79it/s]"
     ]
    },
    {
     "name": "stdout",
     "output_type": "stream",
     "text": [
      "25-08-19 17:19:30.786 pyfstat.utils.sft INFO    : Loading 1 SFTs from H1...\n",
      "25-08-19 17:19:30.804 pyfstat.utils.sft INFO    : Loading 1 SFTs from H1...\n",
      "25-08-19 17:19:30.819 pyfstat.utils.sft INFO    : Loading 1 SFTs from H1...\n",
      "25-08-19 17:19:30.837 pyfstat.utils.sft INFO    : Loading 1 SFTs from H1...\n",
      "25-08-19 17:19:30.856 pyfstat.utils.sft INFO    : Loading 1 SFTs from H1...\n",
      "25-08-19 17:19:30.871 pyfstat.utils.sft INFO    : Loading 1 SFTs from H1...\n",
      "25-08-19 17:19:30.883 pyfstat.utils.sft INFO    : Loading 1 SFTs from H1...\n"
     ]
    },
    {
     "name": "stderr",
     "output_type": "stream",
     "text": [
      " 75%|███████▌  | 4346/5760 [01:07<00:21, 64.66it/s]"
     ]
    },
    {
     "name": "stdout",
     "output_type": "stream",
     "text": [
      "25-08-19 17:19:30.898 pyfstat.utils.sft INFO    : Loading 1 SFTs from H1...\n",
      "25-08-19 17:19:30.909 pyfstat.utils.sft INFO    : Loading 1 SFTs from H1...\n",
      "25-08-19 17:19:30.920 pyfstat.utils.sft INFO    : Loading 1 SFTs from H1...\n",
      "25-08-19 17:19:30.935 pyfstat.utils.sft INFO    : Loading 1 SFTs from H1...\n",
      "25-08-19 17:19:30.953 pyfstat.utils.sft INFO    : Loading 1 SFTs from H1...\n",
      "25-08-19 17:19:30.968 pyfstat.utils.sft INFO    : Loading 1 SFTs from H1...\n",
      "25-08-19 17:19:30.984 pyfstat.utils.sft INFO    : Loading 1 SFTs from H1...\n"
     ]
    },
    {
     "name": "stderr",
     "output_type": "stream",
     "text": [
      " 76%|███████▌  | 4353/5760 [01:07<00:21, 65.90it/s]"
     ]
    },
    {
     "name": "stdout",
     "output_type": "stream",
     "text": [
      "25-08-19 17:19:31.000 pyfstat.utils.sft INFO    : Loading 1 SFTs from H1...\n",
      "25-08-19 17:19:31.014 pyfstat.utils.sft INFO    : Loading 1 SFTs from H1...\n",
      "25-08-19 17:19:31.029 pyfstat.utils.sft INFO    : Loading 1 SFTs from H1...\n",
      "25-08-19 17:19:31.043 pyfstat.utils.sft INFO    : Loading 1 SFTs from H1...\n",
      "25-08-19 17:19:31.057 pyfstat.utils.sft INFO    : Loading 1 SFTs from H1...\n",
      "25-08-19 17:19:31.068 pyfstat.utils.sft INFO    : Loading 1 SFTs from H1...\n",
      "25-08-19 17:19:31.079 pyfstat.utils.sft INFO    : Loading 1 SFTs from H1...\n",
      "25-08-19 17:19:31.094 pyfstat.utils.sft INFO    : Loading 1 SFTs from H1...\n"
     ]
    },
    {
     "name": "stderr",
     "output_type": "stream",
     "text": [
      " 76%|███████▌  | 4361/5760 [01:07<00:20, 67.78it/s]"
     ]
    },
    {
     "name": "stdout",
     "output_type": "stream",
     "text": [
      "25-08-19 17:19:31.111 pyfstat.utils.sft INFO    : Loading 1 SFTs from H1...\n",
      "25-08-19 17:19:31.127 pyfstat.utils.sft INFO    : Loading 1 SFTs from H1...\n",
      "25-08-19 17:19:31.145 pyfstat.utils.sft INFO    : Loading 1 SFTs from H1...\n",
      "25-08-19 17:19:31.161 pyfstat.utils.sft INFO    : Loading 1 SFTs from H1...\n",
      "25-08-19 17:19:31.172 pyfstat.utils.sft INFO    : Loading 1 SFTs from H1...\n",
      "25-08-19 17:19:31.183 pyfstat.utils.sft INFO    : Loading 1 SFTs from H1...\n",
      "25-08-19 17:19:31.202 pyfstat.utils.sft INFO    : Loading 1 SFTs from H1...\n"
     ]
    },
    {
     "name": "stderr",
     "output_type": "stream",
     "text": [
      " 76%|███████▌  | 4368/5760 [01:07<00:20, 66.94it/s]"
     ]
    },
    {
     "name": "stdout",
     "output_type": "stream",
     "text": [
      "25-08-19 17:19:31.219 pyfstat.utils.sft INFO    : Loading 1 SFTs from H1...\n",
      "25-08-19 17:19:31.236 pyfstat.utils.sft INFO    : Loading 1 SFTs from H1...\n",
      "25-08-19 17:19:31.251 pyfstat.utils.sft INFO    : Loading 1 SFTs from H1...\n",
      "25-08-19 17:19:31.269 pyfstat.utils.sft INFO    : Loading 1 SFTs from H1...\n",
      "25-08-19 17:19:31.283 pyfstat.utils.sft INFO    : Loading 1 SFTs from H1...\n",
      "25-08-19 17:19:31.303 pyfstat.utils.sft INFO    : Loading 1 SFTs from H1...\n",
      "25-08-19 17:19:31.322 pyfstat.utils.sft INFO    : Loading 1 SFTs from H1...\n"
     ]
    },
    {
     "name": "stderr",
     "output_type": "stream",
     "text": [
      " 76%|███████▌  | 4375/5760 [01:08<00:21, 64.37it/s]"
     ]
    },
    {
     "name": "stdout",
     "output_type": "stream",
     "text": [
      "25-08-19 17:19:31.337 pyfstat.utils.sft INFO    : Loading 1 SFTs from H1...\n",
      "25-08-19 17:19:31.352 pyfstat.utils.sft INFO    : Loading 1 SFTs from H1...\n",
      "25-08-19 17:19:31.363 pyfstat.utils.sft INFO    : Loading 1 SFTs from H1...\n",
      "25-08-19 17:19:31.378 pyfstat.utils.sft INFO    : Loading 1 SFTs from H1...\n",
      "25-08-19 17:19:31.389 pyfstat.utils.sft INFO    : Loading 1 SFTs from H1...\n",
      "25-08-19 17:19:31.399 pyfstat.utils.sft INFO    : Loading 1 SFTs from H1...\n",
      "25-08-19 17:19:31.410 pyfstat.utils.sft INFO    : Loading 1 SFTs from H1...\n",
      "25-08-19 17:19:31.423 pyfstat.utils.sft INFO    : Loading 1 SFTs from H1...\n"
     ]
    },
    {
     "name": "stderr",
     "output_type": "stream",
     "text": [
      " 76%|███████▌  | 4383/5760 [01:08<00:20, 68.49it/s]"
     ]
    },
    {
     "name": "stdout",
     "output_type": "stream",
     "text": [
      "25-08-19 17:19:31.440 pyfstat.utils.sft INFO    : Loading 1 SFTs from H1...\n",
      "25-08-19 17:19:31.455 pyfstat.utils.sft INFO    : Loading 1 SFTs from H1...\n",
      "25-08-19 17:19:31.469 pyfstat.utils.sft INFO    : Loading 1 SFTs from H1...\n",
      "25-08-19 17:19:31.484 pyfstat.utils.sft INFO    : Loading 1 SFTs from H1...\n",
      "25-08-19 17:19:31.498 pyfstat.utils.sft INFO    : Loading 1 SFTs from H1...\n",
      "25-08-19 17:19:31.516 pyfstat.utils.sft INFO    : Loading 1 SFTs from H1...\n",
      "25-08-19 17:19:31.531 pyfstat.utils.sft INFO    : Loading 1 SFTs from H1...\n"
     ]
    },
    {
     "name": "stderr",
     "output_type": "stream",
     "text": [
      " 76%|███████▌  | 4390/5760 [01:08<00:20, 67.41it/s]"
     ]
    },
    {
     "name": "stdout",
     "output_type": "stream",
     "text": [
      "25-08-19 17:19:31.547 pyfstat.utils.sft INFO    : Loading 1 SFTs from H1...\n",
      "25-08-19 17:19:31.562 pyfstat.utils.sft INFO    : Loading 1 SFTs from H1...\n",
      "25-08-19 17:19:31.582 pyfstat.utils.sft INFO    : Loading 1 SFTs from H1...\n",
      "25-08-19 17:19:31.596 pyfstat.utils.sft INFO    : Loading 1 SFTs from H1...\n",
      "25-08-19 17:19:31.610 pyfstat.utils.sft INFO    : Loading 1 SFTs from H1...\n",
      "25-08-19 17:19:31.628 pyfstat.utils.sft INFO    : Loading 1 SFTs from H1...\n",
      "25-08-19 17:19:31.644 pyfstat.utils.sft INFO    : Loading 1 SFTs from H1...\n"
     ]
    },
    {
     "name": "stderr",
     "output_type": "stream",
     "text": [
      " 76%|███████▋  | 4397/5760 [01:08<00:20, 65.11it/s]"
     ]
    },
    {
     "name": "stdout",
     "output_type": "stream",
     "text": [
      "25-08-19 17:19:31.659 pyfstat.utils.sft INFO    : Loading 1 SFTs from H1...\n",
      "25-08-19 17:19:31.675 pyfstat.utils.sft INFO    : Loading 1 SFTs from H1...\n",
      "25-08-19 17:19:31.686 pyfstat.utils.sft INFO    : Loading 1 SFTs from H1...\n",
      "25-08-19 17:19:31.697 pyfstat.utils.sft INFO    : Loading 1 SFTs from H1...\n",
      "25-08-19 17:19:31.708 pyfstat.utils.sft INFO    : Loading 1 SFTs from H1...\n",
      "25-08-19 17:19:31.724 pyfstat.utils.sft INFO    : Loading 1 SFTs from H1...\n",
      "25-08-19 17:19:31.735 pyfstat.utils.sft INFO    : Loading 1 SFTs from H1...\n",
      "25-08-19 17:19:31.749 pyfstat.utils.sft INFO    : Loading 1 SFTs from H1...\n"
     ]
    },
    {
     "name": "stderr",
     "output_type": "stream",
     "text": [
      " 76%|███████▋  | 4405/5760 [01:08<00:19, 68.23it/s]"
     ]
    },
    {
     "name": "stdout",
     "output_type": "stream",
     "text": [
      "25-08-19 17:19:31.768 pyfstat.utils.sft INFO    : Loading 1 SFTs from H1...\n",
      "25-08-19 17:19:31.787 pyfstat.utils.sft INFO    : Loading 1 SFTs from H1...\n",
      "25-08-19 17:19:31.805 pyfstat.utils.sft INFO    : Loading 1 SFTs from H1...\n",
      "25-08-19 17:19:31.821 pyfstat.utils.sft INFO    : Loading 1 SFTs from H1...\n",
      "25-08-19 17:19:31.840 pyfstat.utils.sft INFO    : Loading 1 SFTs from H1...\n",
      "25-08-19 17:19:31.855 pyfstat.utils.sft INFO    : Loading 1 SFTs from H1...\n",
      "25-08-19 17:19:31.870 pyfstat.utils.sft INFO    : Loading 1 SFTs from H1...\n"
     ]
    },
    {
     "name": "stderr",
     "output_type": "stream",
     "text": [
      " 77%|███████▋  | 4412/5760 [01:08<00:20, 64.86it/s]"
     ]
    },
    {
     "name": "stdout",
     "output_type": "stream",
     "text": [
      "25-08-19 17:19:31.889 pyfstat.utils.sft INFO    : Loading 1 SFTs from H1...\n",
      "25-08-19 17:19:31.911 pyfstat.utils.sft INFO    : Loading 1 SFTs from H1...\n",
      "25-08-19 17:19:31.929 pyfstat.utils.sft INFO    : Loading 1 SFTs from H1...\n",
      "25-08-19 17:19:31.944 pyfstat.utils.sft INFO    : Loading 1 SFTs from H1...\n",
      "25-08-19 17:19:31.955 pyfstat.utils.sft INFO    : Loading 1 SFTs from H1...\n",
      "25-08-19 17:19:31.966 pyfstat.utils.sft INFO    : Loading 1 SFTs from H1...\n",
      "25-08-19 17:19:31.981 pyfstat.utils.sft INFO    : Loading 1 SFTs from H1...\n"
     ]
    },
    {
     "name": "stderr",
     "output_type": "stream",
     "text": [
      " 77%|███████▋  | 4419/5760 [01:08<00:20, 64.42it/s]"
     ]
    },
    {
     "name": "stdout",
     "output_type": "stream",
     "text": [
      "25-08-19 17:19:31.996 pyfstat.utils.sft INFO    : Loading 1 SFTs from H1...\n",
      "25-08-19 17:19:32.013 pyfstat.utils.sft INFO    : Loading 1 SFTs from H1...\n",
      "25-08-19 17:19:32.028 pyfstat.utils.sft INFO    : Loading 1 SFTs from H1...\n",
      "25-08-19 17:19:32.039 pyfstat.utils.sft INFO    : Loading 1 SFTs from H1...\n",
      "25-08-19 17:19:32.057 pyfstat.utils.sft INFO    : Loading 1 SFTs from H1...\n",
      "25-08-19 17:19:32.071 pyfstat.utils.sft INFO    : Loading 1 SFTs from H1...\n",
      "25-08-19 17:19:32.086 pyfstat.utils.sft INFO    : Loading 1 SFTs from H1...\n"
     ]
    },
    {
     "name": "stderr",
     "output_type": "stream",
     "text": [
      " 77%|███████▋  | 4426/5760 [01:08<00:20, 65.78it/s]"
     ]
    },
    {
     "name": "stdout",
     "output_type": "stream",
     "text": [
      "25-08-19 17:19:32.097 pyfstat.utils.sft INFO    : Loading 1 SFTs from H1...\n",
      "25-08-19 17:19:32.112 pyfstat.utils.sft INFO    : Loading 1 SFTs from H1...\n",
      "25-08-19 17:19:32.130 pyfstat.utils.sft INFO    : Loading 1 SFTs from H1...\n",
      "25-08-19 17:19:32.145 pyfstat.utils.sft INFO    : Loading 1 SFTs from H1...\n",
      "25-08-19 17:19:32.163 pyfstat.utils.sft INFO    : Loading 1 SFTs from H1...\n",
      "25-08-19 17:19:32.182 pyfstat.utils.sft INFO    : Loading 1 SFTs from H1...\n",
      "25-08-19 17:19:32.197 pyfstat.utils.sft INFO    : Loading 1 SFTs from H1...\n"
     ]
    },
    {
     "name": "stderr",
     "output_type": "stream",
     "text": [
      " 77%|███████▋  | 4433/5760 [01:08<00:20, 63.69it/s]"
     ]
    },
    {
     "name": "stdout",
     "output_type": "stream",
     "text": [
      "25-08-19 17:19:32.219 pyfstat.utils.sft INFO    : Loading 1 SFTs from H1...\n",
      "25-08-19 17:19:32.238 pyfstat.utils.sft INFO    : Loading 1 SFTs from H1...\n",
      "25-08-19 17:19:32.256 pyfstat.utils.sft INFO    : Loading 1 SFTs from H1...\n",
      "25-08-19 17:19:32.271 pyfstat.utils.sft INFO    : Loading 1 SFTs from H1...\n",
      "25-08-19 17:19:32.286 pyfstat.utils.sft INFO    : Loading 1 SFTs from H1...\n",
      "25-08-19 17:19:32.296 pyfstat.utils.sft INFO    : Loading 1 SFTs from H1...\n",
      "25-08-19 17:19:32.307 pyfstat.utils.sft INFO    : Loading 1 SFTs from H1...\n"
     ]
    },
    {
     "name": "stderr",
     "output_type": "stream",
     "text": [
      " 77%|███████▋  | 4440/5760 [01:09<00:20, 64.14it/s]"
     ]
    },
    {
     "name": "stdout",
     "output_type": "stream",
     "text": [
      "25-08-19 17:19:32.323 pyfstat.utils.sft INFO    : Loading 1 SFTs from H1...\n",
      "25-08-19 17:19:32.334 pyfstat.utils.sft INFO    : Loading 1 SFTs from H1...\n",
      "25-08-19 17:19:32.351 pyfstat.utils.sft INFO    : Loading 1 SFTs from H1...\n",
      "25-08-19 17:19:32.366 pyfstat.utils.sft INFO    : Loading 1 SFTs from H1...\n",
      "25-08-19 17:19:32.381 pyfstat.utils.sft INFO    : Loading 1 SFTs from H1...\n",
      "25-08-19 17:19:32.400 pyfstat.utils.sft INFO    : Loading 1 SFTs from H1...\n",
      "25-08-19 17:19:32.414 pyfstat.utils.sft INFO    : Loading 1 SFTs from H1...\n"
     ]
    },
    {
     "name": "stderr",
     "output_type": "stream",
     "text": [
      " 77%|███████▋  | 4447/5760 [01:09<00:20, 64.36it/s]"
     ]
    },
    {
     "name": "stdout",
     "output_type": "stream",
     "text": [
      "25-08-19 17:19:32.434 pyfstat.utils.sft INFO    : Loading 1 SFTs from H1...\n",
      "25-08-19 17:19:32.449 pyfstat.utils.sft INFO    : Loading 1 SFTs from H1...\n",
      "25-08-19 17:19:32.464 pyfstat.utils.sft INFO    : Loading 1 SFTs from H1...\n",
      "25-08-19 17:19:32.475 pyfstat.utils.sft INFO    : Loading 1 SFTs from H1...\n",
      "25-08-19 17:19:32.493 pyfstat.utils.sft INFO    : Loading 1 SFTs from H1...\n",
      "25-08-19 17:19:32.508 pyfstat.utils.sft INFO    : Loading 1 SFTs from H1...\n",
      "25-08-19 17:19:32.522 pyfstat.utils.sft INFO    : Loading 1 SFTs from H1...\n"
     ]
    },
    {
     "name": "stderr",
     "output_type": "stream",
     "text": [
      " 77%|███████▋  | 4454/5760 [01:09<00:20, 65.28it/s]"
     ]
    },
    {
     "name": "stdout",
     "output_type": "stream",
     "text": [
      "25-08-19 17:19:32.538 pyfstat.utils.sft INFO    : Loading 1 SFTs from H1...\n",
      "25-08-19 17:19:32.553 pyfstat.utils.sft INFO    : Loading 1 SFTs from H1...\n",
      "25-08-19 17:19:32.565 pyfstat.utils.sft INFO    : Loading 1 SFTs from H1...\n",
      "25-08-19 17:19:32.576 pyfstat.utils.sft INFO    : Loading 1 SFTs from H1...\n",
      "25-08-19 17:19:32.588 pyfstat.utils.sft INFO    : Loading 1 SFTs from H1...\n",
      "25-08-19 17:19:32.602 pyfstat.utils.sft INFO    : Loading 1 SFTs from H1...\n",
      "25-08-19 17:19:32.615 pyfstat.utils.sft INFO    : Loading 1 SFTs from H1...\n",
      "25-08-19 17:19:32.626 pyfstat.utils.sft INFO    : Loading 1 SFTs from H1...\n"
     ]
    },
    {
     "name": "stderr",
     "output_type": "stream",
     "text": [
      " 77%|███████▋  | 4462/5760 [01:09<00:18, 68.84it/s]"
     ]
    },
    {
     "name": "stdout",
     "output_type": "stream",
     "text": [
      "25-08-19 17:19:32.641 pyfstat.utils.sft INFO    : Loading 1 SFTs from H1...\n",
      "25-08-19 17:19:32.656 pyfstat.utils.sft INFO    : Loading 1 SFTs from H1...\n",
      "25-08-19 17:19:32.670 pyfstat.utils.sft INFO    : Loading 1 SFTs from H1...\n",
      "25-08-19 17:19:32.682 pyfstat.utils.sft INFO    : Loading 1 SFTs from H1...\n",
      "25-08-19 17:19:32.697 pyfstat.utils.sft INFO    : Loading 1 SFTs from H1...\n",
      "25-08-19 17:19:32.711 pyfstat.utils.sft INFO    : Loading 1 SFTs from H1...\n",
      "25-08-19 17:19:32.722 pyfstat.utils.sft INFO    : Loading 1 SFTs from H1...\n",
      "25-08-19 17:19:32.733 pyfstat.utils.sft INFO    : Loading 1 SFTs from H1...\n"
     ]
    },
    {
     "name": "stderr",
     "output_type": "stream",
     "text": [
      " 78%|███████▊  | 4470/5760 [01:09<00:18, 70.60it/s]"
     ]
    },
    {
     "name": "stdout",
     "output_type": "stream",
     "text": [
      "25-08-19 17:19:32.744 pyfstat.utils.sft INFO    : Loading 1 SFTs from H1...\n",
      "25-08-19 17:19:32.759 pyfstat.utils.sft INFO    : Loading 1 SFTs from H1...\n",
      "25-08-19 17:19:32.778 pyfstat.utils.sft INFO    : Loading 1 SFTs from H1...\n",
      "25-08-19 17:19:32.792 pyfstat.utils.sft INFO    : Loading 1 SFTs from H1...\n",
      "25-08-19 17:19:32.811 pyfstat.utils.sft INFO    : Loading 1 SFTs from H1...\n",
      "25-08-19 17:19:32.826 pyfstat.utils.sft INFO    : Loading 1 SFTs from H1...\n",
      "25-08-19 17:19:32.837 pyfstat.utils.sft INFO    : Loading 1 SFTs from H1...\n",
      "25-08-19 17:19:32.855 pyfstat.utils.sft INFO    : Loading 1 SFTs from H1...\n"
     ]
    },
    {
     "name": "stderr",
     "output_type": "stream",
     "text": [
      " 78%|███████▊  | 4478/5760 [01:09<00:18, 68.16it/s]"
     ]
    },
    {
     "name": "stdout",
     "output_type": "stream",
     "text": [
      "25-08-19 17:19:32.875 pyfstat.utils.sft INFO    : Loading 1 SFTs from H1...\n",
      "25-08-19 17:19:32.886 pyfstat.utils.sft INFO    : Loading 1 SFTs from H1...\n",
      "25-08-19 17:19:32.906 pyfstat.utils.sft INFO    : Loading 1 SFTs from H1...\n",
      "25-08-19 17:19:32.922 pyfstat.utils.sft INFO    : Loading 1 SFTs from H1...\n",
      "25-08-19 17:19:32.937 pyfstat.utils.sft INFO    : Loading 1 SFTs from H1...\n",
      "25-08-19 17:19:32.956 pyfstat.utils.sft INFO    : Loading 1 SFTs from H1...\n",
      "25-08-19 17:19:32.974 pyfstat.utils.sft INFO    : Loading 1 SFTs from H1...\n"
     ]
    },
    {
     "name": "stderr",
     "output_type": "stream",
     "text": [
      " 78%|███████▊  | 4485/5760 [01:09<00:19, 65.77it/s]"
     ]
    },
    {
     "name": "stdout",
     "output_type": "stream",
     "text": [
      "25-08-19 17:19:32.987 pyfstat.utils.sft INFO    : Loading 1 SFTs from H1...\n",
      "25-08-19 17:19:32.998 pyfstat.utils.sft INFO    : Loading 1 SFTs from H1...\n",
      "25-08-19 17:19:33.010 pyfstat.utils.sft INFO    : Loading 1 SFTs from H1...\n",
      "25-08-19 17:19:33.026 pyfstat.utils.sft INFO    : Loading 1 SFTs from H1...\n",
      "25-08-19 17:19:33.041 pyfstat.utils.sft INFO    : Loading 1 SFTs from H1...\n",
      "25-08-19 17:19:33.059 pyfstat.utils.sft INFO    : Loading 1 SFTs from H1...\n",
      "25-08-19 17:19:33.077 pyfstat.utils.sft INFO    : Loading 1 SFTs from H1...\n"
     ]
    },
    {
     "name": "stderr",
     "output_type": "stream",
     "text": [
      " 78%|███████▊  | 4492/5760 [01:09<00:19, 66.37it/s]"
     ]
    },
    {
     "name": "stdout",
     "output_type": "stream",
     "text": [
      "25-08-19 17:19:33.093 pyfstat.utils.sft INFO    : Loading 1 SFTs from H1...\n",
      "25-08-19 17:19:33.109 pyfstat.utils.sft INFO    : Loading 1 SFTs from H1...\n",
      "25-08-19 17:19:33.124 pyfstat.utils.sft INFO    : Loading 1 SFTs from H1...\n",
      "25-08-19 17:19:33.144 pyfstat.utils.sft INFO    : Loading 1 SFTs from H1...\n",
      "25-08-19 17:19:33.160 pyfstat.utils.sft INFO    : Loading 1 SFTs from H1...\n",
      "25-08-19 17:19:33.178 pyfstat.utils.sft INFO    : Loading 1 SFTs from H1...\n",
      "25-08-19 17:19:33.193 pyfstat.utils.sft INFO    : Loading 1 SFTs from H1...\n"
     ]
    },
    {
     "name": "stderr",
     "output_type": "stream",
     "text": [
      " 78%|███████▊  | 4499/5760 [01:09<00:19, 64.53it/s]"
     ]
    },
    {
     "name": "stdout",
     "output_type": "stream",
     "text": [
      "25-08-19 17:19:33.206 pyfstat.utils.sft INFO    : Loading 1 SFTs from H1...\n",
      "25-08-19 17:19:33.218 pyfstat.utils.sft INFO    : Loading 1 SFTs from H1...\n",
      "25-08-19 17:19:33.240 pyfstat.utils.sft INFO    : Loading 1 SFTs from H1...\n",
      "25-08-19 17:19:33.261 pyfstat.utils.sft INFO    : Loading 1 SFTs from H1...\n",
      "25-08-19 17:19:33.276 pyfstat.utils.sft INFO    : Loading 1 SFTs from H1...\n",
      "25-08-19 17:19:33.291 pyfstat.utils.sft INFO    : Loading 1 SFTs from H1...\n",
      "25-08-19 17:19:33.306 pyfstat.utils.sft INFO    : Loading 1 SFTs from H1...\n"
     ]
    },
    {
     "name": "stderr",
     "output_type": "stream",
     "text": [
      " 78%|███████▊  | 4506/5760 [01:10<00:19, 63.28it/s]"
     ]
    },
    {
     "name": "stdout",
     "output_type": "stream",
     "text": [
      "25-08-19 17:19:33.325 pyfstat.utils.sft INFO    : Loading 1 SFTs from H1...\n",
      "25-08-19 17:19:33.337 pyfstat.utils.sft INFO    : Loading 1 SFTs from H1...\n",
      "25-08-19 17:19:33.352 pyfstat.utils.sft INFO    : Loading 1 SFTs from H1...\n",
      "25-08-19 17:19:33.363 pyfstat.utils.sft INFO    : Loading 1 SFTs from H1...\n",
      "25-08-19 17:19:33.374 pyfstat.utils.sft INFO    : Loading 1 SFTs from H1...\n",
      "25-08-19 17:19:33.389 pyfstat.utils.sft INFO    : Loading 1 SFTs from H1...\n",
      "25-08-19 17:19:33.407 pyfstat.utils.sft INFO    : Loading 1 SFTs from H1...\n",
      "25-08-19 17:19:33.423 pyfstat.utils.sft INFO    : Loading 1 SFTs from H1...\n"
     ]
    },
    {
     "name": "stderr",
     "output_type": "stream",
     "text": [
      " 78%|███████▊  | 4514/5760 [01:10<00:19, 64.74it/s]"
     ]
    },
    {
     "name": "stdout",
     "output_type": "stream",
     "text": [
      "25-08-19 17:19:33.444 pyfstat.utils.sft INFO    : Loading 1 SFTs from H1...\n",
      "25-08-19 17:19:33.459 pyfstat.utils.sft INFO    : Loading 1 SFTs from H1...\n",
      "25-08-19 17:19:33.475 pyfstat.utils.sft INFO    : Loading 1 SFTs from H1...\n",
      "25-08-19 17:19:33.490 pyfstat.utils.sft INFO    : Loading 1 SFTs from H1...\n",
      "25-08-19 17:19:33.506 pyfstat.utils.sft INFO    : Loading 1 SFTs from H1...\n",
      "25-08-19 17:19:33.525 pyfstat.utils.sft INFO    : Loading 1 SFTs from H1...\n",
      "25-08-19 17:19:33.540 pyfstat.utils.sft INFO    : Loading 1 SFTs from H1...\n"
     ]
    },
    {
     "name": "stderr",
     "output_type": "stream",
     "text": [
      " 78%|███████▊  | 4521/5760 [01:10<00:19, 63.34it/s]"
     ]
    },
    {
     "name": "stdout",
     "output_type": "stream",
     "text": [
      "25-08-19 17:19:33.559 pyfstat.utils.sft INFO    : Loading 1 SFTs from H1...\n",
      "25-08-19 17:19:33.570 pyfstat.utils.sft INFO    : Loading 1 SFTs from H1...\n",
      "25-08-19 17:19:33.582 pyfstat.utils.sft INFO    : Loading 1 SFTs from H1...\n",
      "25-08-19 17:19:33.596 pyfstat.utils.sft INFO    : Loading 1 SFTs from H1...\n",
      "25-08-19 17:19:33.611 pyfstat.utils.sft INFO    : Loading 1 SFTs from H1...\n",
      "25-08-19 17:19:33.622 pyfstat.utils.sft INFO    : Loading 1 SFTs from H1...\n",
      "25-08-19 17:19:33.636 pyfstat.utils.sft INFO    : Loading 1 SFTs from H1...\n",
      "25-08-19 17:19:33.652 pyfstat.utils.sft INFO    : Loading 1 SFTs from H1...\n"
     ]
    },
    {
     "name": "stderr",
     "output_type": "stream",
     "text": [
      " 79%|███████▊  | 4529/5760 [01:10<00:18, 66.41it/s]"
     ]
    },
    {
     "name": "stdout",
     "output_type": "stream",
     "text": [
      "25-08-19 17:19:33.667 pyfstat.utils.sft INFO    : Loading 1 SFTs from H1...\n",
      "25-08-19 17:19:33.682 pyfstat.utils.sft INFO    : Loading 1 SFTs from H1...\n",
      "25-08-19 17:19:33.697 pyfstat.utils.sft INFO    : Loading 1 SFTs from H1...\n",
      "25-08-19 17:19:33.716 pyfstat.utils.sft INFO    : Loading 1 SFTs from H1...\n",
      "25-08-19 17:19:33.731 pyfstat.utils.sft INFO    : Loading 1 SFTs from H1...\n",
      "25-08-19 17:19:33.747 pyfstat.utils.sft INFO    : Loading 1 SFTs from H1...\n",
      "25-08-19 17:19:33.762 pyfstat.utils.sft INFO    : Loading 1 SFTs from H1...\n"
     ]
    },
    {
     "name": "stderr",
     "output_type": "stream",
     "text": [
      " 79%|███████▉  | 4536/5760 [01:10<00:18, 64.88it/s]"
     ]
    },
    {
     "name": "stdout",
     "output_type": "stream",
     "text": [
      "25-08-19 17:19:33.782 pyfstat.utils.sft INFO    : Loading 1 SFTs from H1...\n",
      "25-08-19 17:19:33.797 pyfstat.utils.sft INFO    : Loading 1 SFTs from H1...\n",
      "25-08-19 17:19:33.812 pyfstat.utils.sft INFO    : Loading 1 SFTs from H1...\n",
      "25-08-19 17:19:33.828 pyfstat.utils.sft INFO    : Loading 1 SFTs from H1...\n",
      "25-08-19 17:19:33.843 pyfstat.utils.sft INFO    : Loading 1 SFTs from H1...\n",
      "25-08-19 17:19:33.858 pyfstat.utils.sft INFO    : Loading 1 SFTs from H1...\n",
      "25-08-19 17:19:33.874 pyfstat.utils.sft INFO    : Loading 1 SFTs from H1...\n"
     ]
    },
    {
     "name": "stderr",
     "output_type": "stream",
     "text": [
      " 79%|███████▉  | 4543/5760 [01:10<00:18, 64.35it/s]"
     ]
    },
    {
     "name": "stdout",
     "output_type": "stream",
     "text": [
      "25-08-19 17:19:33.892 pyfstat.utils.sft INFO    : Loading 1 SFTs from H1...\n",
      "25-08-19 17:19:33.907 pyfstat.utils.sft INFO    : Loading 1 SFTs from H1...\n",
      "25-08-19 17:19:33.921 pyfstat.utils.sft INFO    : Loading 1 SFTs from H1...\n",
      "25-08-19 17:19:33.933 pyfstat.utils.sft INFO    : Loading 1 SFTs from H1...\n",
      "25-08-19 17:19:33.946 pyfstat.utils.sft INFO    : Loading 1 SFTs from H1...\n",
      "25-08-19 17:19:33.962 pyfstat.utils.sft INFO    : Loading 1 SFTs from H1...\n",
      "25-08-19 17:19:33.977 pyfstat.utils.sft INFO    : Loading 1 SFTs from H1...\n"
     ]
    },
    {
     "name": "stderr",
     "output_type": "stream",
     "text": [
      " 79%|███████▉  | 4550/5760 [01:10<00:18, 65.84it/s]"
     ]
    },
    {
     "name": "stdout",
     "output_type": "stream",
     "text": [
      "25-08-19 17:19:33.989 pyfstat.utils.sft INFO    : Loading 1 SFTs from H1...\n",
      "25-08-19 17:19:34.001 pyfstat.utils.sft INFO    : Loading 1 SFTs from H1...\n",
      "25-08-19 17:19:34.015 pyfstat.utils.sft INFO    : Loading 1 SFTs from H1...\n",
      "25-08-19 17:19:34.030 pyfstat.utils.sft INFO    : Loading 1 SFTs from H1...\n",
      "25-08-19 17:19:34.041 pyfstat.utils.sft INFO    : Loading 1 SFTs from H1...\n",
      "25-08-19 17:19:34.052 pyfstat.utils.sft INFO    : Loading 1 SFTs from H1...\n",
      "25-08-19 17:19:34.063 pyfstat.utils.sft INFO    : Loading 1 SFTs from H1...\n",
      "25-08-19 17:19:34.074 pyfstat.utils.sft INFO    : Loading 1 SFTs from H1...\n",
      "25-08-19 17:19:34.086 pyfstat.utils.sft INFO    : Loading 1 SFTs from H1...\n"
     ]
    },
    {
     "name": "stderr",
     "output_type": "stream",
     "text": [
      " 79%|███████▉  | 4559/5760 [01:10<00:16, 70.96it/s]"
     ]
    },
    {
     "name": "stdout",
     "output_type": "stream",
     "text": [
      "25-08-19 17:19:34.097 pyfstat.utils.sft INFO    : Loading 1 SFTs from H1...\n",
      "25-08-19 17:19:34.109 pyfstat.utils.sft INFO    : Loading 1 SFTs from H1...\n",
      "25-08-19 17:19:34.124 pyfstat.utils.sft INFO    : Loading 1 SFTs from H1...\n",
      "25-08-19 17:19:34.136 pyfstat.utils.sft INFO    : Loading 1 SFTs from H1...\n",
      "25-08-19 17:19:34.152 pyfstat.utils.sft INFO    : Loading 1 SFTs from H1...\n",
      "25-08-19 17:19:34.164 pyfstat.utils.sft INFO    : Loading 1 SFTs from H1...\n",
      "25-08-19 17:19:34.179 pyfstat.utils.sft INFO    : Loading 1 SFTs from H1...\n",
      "25-08-19 17:19:34.193 pyfstat.utils.sft INFO    : Loading 1 SFTs from H1...\n"
     ]
    },
    {
     "name": "stderr",
     "output_type": "stream",
     "text": [
      " 79%|███████▉  | 4567/5760 [01:10<00:16, 71.85it/s]"
     ]
    },
    {
     "name": "stdout",
     "output_type": "stream",
     "text": [
      "25-08-19 17:19:34.209 pyfstat.utils.sft INFO    : Loading 1 SFTs from H1...\n",
      "25-08-19 17:19:34.228 pyfstat.utils.sft INFO    : Loading 1 SFTs from H1...\n",
      "25-08-19 17:19:34.243 pyfstat.utils.sft INFO    : Loading 1 SFTs from H1...\n",
      "25-08-19 17:19:34.258 pyfstat.utils.sft INFO    : Loading 1 SFTs from H1...\n",
      "25-08-19 17:19:34.270 pyfstat.utils.sft INFO    : Loading 1 SFTs from H1...\n",
      "25-08-19 17:19:34.285 pyfstat.utils.sft INFO    : Loading 1 SFTs from H1...\n",
      "25-08-19 17:19:34.308 pyfstat.utils.sft INFO    : Loading 1 SFTs from H1...\n",
      "25-08-19 17:19:34.319 pyfstat.utils.sft INFO    : Loading 1 SFTs from H1...\n"
     ]
    },
    {
     "name": "stderr",
     "output_type": "stream",
     "text": [
      " 79%|███████▉  | 4575/5760 [01:11<00:17, 69.09it/s]"
     ]
    },
    {
     "name": "stdout",
     "output_type": "stream",
     "text": [
      "25-08-19 17:19:34.335 pyfstat.utils.sft INFO    : Loading 1 SFTs from H1...\n",
      "25-08-19 17:19:34.351 pyfstat.utils.sft INFO    : Loading 1 SFTs from H1...\n",
      "25-08-19 17:19:34.370 pyfstat.utils.sft INFO    : Loading 1 SFTs from H1...\n",
      "25-08-19 17:19:34.385 pyfstat.utils.sft INFO    : Loading 1 SFTs from H1...\n",
      "25-08-19 17:19:34.397 pyfstat.utils.sft INFO    : Loading 1 SFTs from H1...\n",
      "25-08-19 17:19:34.409 pyfstat.utils.sft INFO    : Loading 1 SFTs from H1...\n",
      "25-08-19 17:19:34.421 pyfstat.utils.sft INFO    : Loading 1 SFTs from H1...\n"
     ]
    },
    {
     "name": "stderr",
     "output_type": "stream",
     "text": [
      " 80%|███████▉  | 4582/5760 [01:11<00:17, 69.07it/s]"
     ]
    },
    {
     "name": "stdout",
     "output_type": "stream",
     "text": [
      "25-08-19 17:19:34.433 pyfstat.utils.sft INFO    : Loading 1 SFTs from H1...\n",
      "25-08-19 17:19:34.445 pyfstat.utils.sft INFO    : Loading 1 SFTs from H1...\n",
      "25-08-19 17:19:34.457 pyfstat.utils.sft INFO    : Loading 1 SFTs from H1...\n",
      "25-08-19 17:19:34.472 pyfstat.utils.sft INFO    : Loading 1 SFTs from H1...\n",
      "25-08-19 17:19:34.486 pyfstat.utils.sft INFO    : Loading 1 SFTs from H1...\n",
      "25-08-19 17:19:34.501 pyfstat.utils.sft INFO    : Loading 1 SFTs from H1...\n",
      "25-08-19 17:19:34.515 pyfstat.utils.sft INFO    : Loading 1 SFTs from H1...\n",
      "25-08-19 17:19:34.529 pyfstat.utils.sft INFO    : Loading 1 SFTs from H1...\n"
     ]
    },
    {
     "name": "stderr",
     "output_type": "stream",
     "text": [
      " 80%|███████▉  | 4590/5760 [01:11<00:16, 70.58it/s]"
     ]
    },
    {
     "name": "stdout",
     "output_type": "stream",
     "text": [
      "25-08-19 17:19:34.544 pyfstat.utils.sft INFO    : Loading 1 SFTs from H1...\n",
      "25-08-19 17:19:34.559 pyfstat.utils.sft INFO    : Loading 1 SFTs from H1...\n",
      "25-08-19 17:19:34.573 pyfstat.utils.sft INFO    : Loading 1 SFTs from H1...\n",
      "25-08-19 17:19:34.587 pyfstat.utils.sft INFO    : Loading 1 SFTs from H1...\n",
      "25-08-19 17:19:34.601 pyfstat.utils.sft INFO    : Loading 1 SFTs from H1...\n",
      "25-08-19 17:19:34.616 pyfstat.utils.sft INFO    : Loading 1 SFTs from H1...\n",
      "25-08-19 17:19:34.627 pyfstat.utils.sft INFO    : Loading 1 SFTs from H1...\n",
      "25-08-19 17:19:34.641 pyfstat.utils.sft INFO    : Loading 1 SFTs from H1...\n"
     ]
    },
    {
     "name": "stderr",
     "output_type": "stream",
     "text": [
      " 80%|███████▉  | 4598/5760 [01:11<00:16, 70.71it/s]"
     ]
    },
    {
     "name": "stdout",
     "output_type": "stream",
     "text": [
      "25-08-19 17:19:34.657 pyfstat.utils.sft INFO    : Loading 1 SFTs from H1...\n",
      "25-08-19 17:19:34.675 pyfstat.utils.sft INFO    : Loading 1 SFTs from H1...\n",
      "25-08-19 17:19:34.690 pyfstat.utils.sft INFO    : Loading 1 SFTs from H1...\n",
      "25-08-19 17:19:34.701 pyfstat.utils.sft INFO    : Loading 1 SFTs from H1...\n",
      "25-08-19 17:19:34.716 pyfstat.utils.sft INFO    : Loading 1 SFTs from H1...\n",
      "25-08-19 17:19:34.730 pyfstat.utils.sft INFO    : Loading 1 SFTs from H1...\n",
      "25-08-19 17:19:34.741 pyfstat.utils.sft INFO    : Loading 1 SFTs from H1...\n",
      "25-08-19 17:19:34.756 pyfstat.utils.sft INFO    : Loading 1 SFTs from H1...\n"
     ]
    },
    {
     "name": "stderr",
     "output_type": "stream",
     "text": [
      " 80%|███████▉  | 4606/5760 [01:11<00:16, 70.55it/s]"
     ]
    },
    {
     "name": "stdout",
     "output_type": "stream",
     "text": [
      "25-08-19 17:19:34.771 pyfstat.utils.sft INFO    : Loading 1 SFTs from H1...\n",
      "25-08-19 17:19:34.783 pyfstat.utils.sft INFO    : Loading 1 SFTs from H1...\n",
      "25-08-19 17:19:34.798 pyfstat.utils.sft INFO    : Loading 1 SFTs from H1...\n",
      "25-08-19 17:19:34.813 pyfstat.utils.sft INFO    : Loading 1 SFTs from H1...\n",
      "25-08-19 17:19:34.829 pyfstat.utils.sft INFO    : Loading 1 SFTs from H1...\n",
      "25-08-19 17:19:34.849 pyfstat.utils.sft INFO    : Loading 1 SFTs from H1...\n",
      "25-08-19 17:19:34.864 pyfstat.utils.sft INFO    : Loading 1 SFTs from H1...\n",
      "25-08-19 17:19:34.876 pyfstat.utils.sft INFO    : Loading 1 SFTs from H1...\n"
     ]
    },
    {
     "name": "stderr",
     "output_type": "stream",
     "text": [
      " 80%|████████  | 4614/5760 [01:11<00:16, 69.26it/s]"
     ]
    },
    {
     "name": "stdout",
     "output_type": "stream",
     "text": [
      "25-08-19 17:19:34.892 pyfstat.utils.sft INFO    : Loading 1 SFTs from H1...\n",
      "25-08-19 17:19:34.907 pyfstat.utils.sft INFO    : Loading 1 SFTs from H1...\n",
      "25-08-19 17:19:34.922 pyfstat.utils.sft INFO    : Loading 1 SFTs from H1...\n",
      "25-08-19 17:19:34.937 pyfstat.utils.sft INFO    : Loading 1 SFTs from H1...\n",
      "25-08-19 17:19:34.951 pyfstat.utils.sft INFO    : Loading 1 SFTs from H1...\n",
      "25-08-19 17:19:34.966 pyfstat.utils.sft INFO    : Loading 1 SFTs from H1...\n",
      "25-08-19 17:19:34.985 pyfstat.utils.sft INFO    : Loading 1 SFTs from H1...\n"
     ]
    },
    {
     "name": "stderr",
     "output_type": "stream",
     "text": [
      " 80%|████████  | 4621/5760 [01:11<00:16, 67.19it/s]"
     ]
    },
    {
     "name": "stdout",
     "output_type": "stream",
     "text": [
      "25-08-19 17:19:35.000 pyfstat.utils.sft INFO    : Loading 1 SFTs from H1...\n",
      "25-08-19 17:19:35.012 pyfstat.utils.sft INFO    : Loading 1 SFTs from H1...\n",
      "25-08-19 17:19:35.023 pyfstat.utils.sft INFO    : Loading 1 SFTs from H1...\n",
      "25-08-19 17:19:35.038 pyfstat.utils.sft INFO    : Loading 1 SFTs from H1...\n",
      "25-08-19 17:19:35.052 pyfstat.utils.sft INFO    : Loading 1 SFTs from H1...\n",
      "25-08-19 17:19:35.067 pyfstat.utils.sft INFO    : Loading 1 SFTs from H1...\n",
      "25-08-19 17:19:35.082 pyfstat.utils.sft INFO    : Loading 1 SFTs from H1...\n",
      "25-08-19 17:19:35.093 pyfstat.utils.sft INFO    : Loading 1 SFTs from H1...\n"
     ]
    },
    {
     "name": "stderr",
     "output_type": "stream",
     "text": [
      " 80%|████████  | 4629/5760 [01:11<00:16, 69.70it/s]"
     ]
    },
    {
     "name": "stdout",
     "output_type": "stream",
     "text": [
      "25-08-19 17:19:35.109 pyfstat.utils.sft INFO    : Loading 1 SFTs from H1...\n",
      "25-08-19 17:19:35.125 pyfstat.utils.sft INFO    : Loading 1 SFTs from H1...\n",
      "25-08-19 17:19:35.144 pyfstat.utils.sft INFO    : Loading 1 SFTs from H1...\n",
      "25-08-19 17:19:35.163 pyfstat.utils.sft INFO    : Loading 1 SFTs from H1...\n",
      "25-08-19 17:19:35.175 pyfstat.utils.sft INFO    : Loading 1 SFTs from H1...\n",
      "25-08-19 17:19:35.187 pyfstat.utils.sft INFO    : Loading 1 SFTs from H1...\n",
      "25-08-19 17:19:35.203 pyfstat.utils.sft INFO    : Loading 1 SFTs from H1...\n"
     ]
    },
    {
     "name": "stderr",
     "output_type": "stream",
     "text": [
      " 80%|████████  | 4636/5760 [01:11<00:16, 67.25it/s]"
     ]
    },
    {
     "name": "stdout",
     "output_type": "stream",
     "text": [
      "25-08-19 17:19:35.223 pyfstat.utils.sft INFO    : Loading 1 SFTs from H1...\n",
      "25-08-19 17:19:35.239 pyfstat.utils.sft INFO    : Loading 1 SFTs from H1...\n",
      "25-08-19 17:19:35.251 pyfstat.utils.sft INFO    : Loading 1 SFTs from H1...\n",
      "25-08-19 17:19:35.266 pyfstat.utils.sft INFO    : Loading 1 SFTs from H1...\n",
      "25-08-19 17:19:35.281 pyfstat.utils.sft INFO    : Loading 1 SFTs from H1...\n",
      "25-08-19 17:19:35.296 pyfstat.utils.sft INFO    : Loading 1 SFTs from H1...\n",
      "25-08-19 17:19:35.308 pyfstat.utils.sft INFO    : Loading 1 SFTs from H1...\n"
     ]
    },
    {
     "name": "stderr",
     "output_type": "stream",
     "text": [
      " 81%|████████  | 4643/5760 [01:12<00:16, 67.74it/s]"
     ]
    },
    {
     "name": "stdout",
     "output_type": "stream",
     "text": [
      "25-08-19 17:19:35.325 pyfstat.utils.sft INFO    : Loading 1 SFTs from H1...\n",
      "25-08-19 17:19:35.340 pyfstat.utils.sft INFO    : Loading 1 SFTs from H1...\n",
      "25-08-19 17:19:35.359 pyfstat.utils.sft INFO    : Loading 1 SFTs from H1...\n",
      "25-08-19 17:19:35.379 pyfstat.utils.sft INFO    : Loading 1 SFTs from H1...\n",
      "25-08-19 17:19:35.394 pyfstat.utils.sft INFO    : Loading 1 SFTs from H1...\n",
      "25-08-19 17:19:35.413 pyfstat.utils.sft INFO    : Loading 1 SFTs from H1...\n",
      "25-08-19 17:19:35.431 pyfstat.utils.sft INFO    : Loading 1 SFTs from H1...\n"
     ]
    },
    {
     "name": "stderr",
     "output_type": "stream",
     "text": [
      " 81%|████████  | 4650/5760 [01:12<00:17, 64.06it/s]"
     ]
    },
    {
     "name": "stdout",
     "output_type": "stream",
     "text": [
      "25-08-19 17:19:35.445 pyfstat.utils.sft INFO    : Loading 1 SFTs from H1...\n",
      "25-08-19 17:19:35.456 pyfstat.utils.sft INFO    : Loading 1 SFTs from H1...\n",
      "25-08-19 17:19:35.468 pyfstat.utils.sft INFO    : Loading 1 SFTs from H1...\n",
      "25-08-19 17:19:35.487 pyfstat.utils.sft INFO    : Loading 1 SFTs from H1...\n",
      "25-08-19 17:19:35.501 pyfstat.utils.sft INFO    : Loading 1 SFTs from H1...\n",
      "25-08-19 17:19:35.516 pyfstat.utils.sft INFO    : Loading 1 SFTs from H1...\n",
      "25-08-19 17:19:35.531 pyfstat.utils.sft INFO    : Loading 1 SFTs from H1...\n",
      "25-08-19 17:19:35.545 pyfstat.utils.sft INFO    : Loading 1 SFTs from H1...\n"
     ]
    },
    {
     "name": "stderr",
     "output_type": "stream",
     "text": [
      " 81%|████████  | 4658/5760 [01:12<00:16, 66.23it/s]"
     ]
    },
    {
     "name": "stdout",
     "output_type": "stream",
     "text": [
      "25-08-19 17:19:35.560 pyfstat.utils.sft INFO    : Loading 1 SFTs from H1...\n",
      "25-08-19 17:19:35.574 pyfstat.utils.sft INFO    : Loading 1 SFTs from H1...\n",
      "25-08-19 17:19:35.588 pyfstat.utils.sft INFO    : Loading 1 SFTs from H1...\n",
      "25-08-19 17:19:35.603 pyfstat.utils.sft INFO    : Loading 1 SFTs from H1...\n",
      "25-08-19 17:19:35.616 pyfstat.utils.sft INFO    : Loading 1 SFTs from H1...\n",
      "25-08-19 17:19:35.633 pyfstat.utils.sft INFO    : Loading 1 SFTs from H1...\n",
      "25-08-19 17:19:35.648 pyfstat.utils.sft INFO    : Loading 1 SFTs from H1...\n"
     ]
    },
    {
     "name": "stderr",
     "output_type": "stream",
     "text": [
      " 81%|████████  | 4665/5760 [01:12<00:16, 66.69it/s]"
     ]
    },
    {
     "name": "stdout",
     "output_type": "stream",
     "text": [
      "25-08-19 17:19:35.664 pyfstat.utils.sft INFO    : Loading 1 SFTs from H1...\n",
      "25-08-19 17:19:35.678 pyfstat.utils.sft INFO    : Loading 1 SFTs from H1...\n",
      "25-08-19 17:19:35.693 pyfstat.utils.sft INFO    : Loading 1 SFTs from H1...\n",
      "25-08-19 17:19:35.707 pyfstat.utils.sft INFO    : Loading 1 SFTs from H1...\n",
      "25-08-19 17:19:35.721 pyfstat.utils.sft INFO    : Loading 1 SFTs from H1...\n",
      "25-08-19 17:19:35.735 pyfstat.utils.sft INFO    : Loading 1 SFTs from H1...\n",
      "25-08-19 17:19:35.749 pyfstat.utils.sft INFO    : Loading 1 SFTs from H1...\n"
     ]
    },
    {
     "name": "stderr",
     "output_type": "stream",
     "text": [
      " 81%|████████  | 4672/5760 [01:12<00:16, 66.77it/s]"
     ]
    },
    {
     "name": "stdout",
     "output_type": "stream",
     "text": [
      "25-08-19 17:19:35.768 pyfstat.utils.sft INFO    : Loading 1 SFTs from H1...\n",
      "25-08-19 17:19:35.779 pyfstat.utils.sft INFO    : Loading 1 SFTs from H1...\n",
      "25-08-19 17:19:35.790 pyfstat.utils.sft INFO    : Loading 1 SFTs from H1...\n",
      "25-08-19 17:19:35.804 pyfstat.utils.sft INFO    : Loading 1 SFTs from H1...\n",
      "25-08-19 17:19:35.820 pyfstat.utils.sft INFO    : Loading 1 SFTs from H1...\n",
      "25-08-19 17:19:35.838 pyfstat.utils.sft INFO    : Loading 1 SFTs from H1...\n",
      "25-08-19 17:19:35.853 pyfstat.utils.sft INFO    : Loading 1 SFTs from H1...\n"
     ]
    },
    {
     "name": "stderr",
     "output_type": "stream",
     "text": [
      " 81%|████████  | 4679/5760 [01:12<00:16, 67.53it/s]"
     ]
    },
    {
     "name": "stdout",
     "output_type": "stream",
     "text": [
      "25-08-19 17:19:35.869 pyfstat.utils.sft INFO    : Loading 1 SFTs from H1...\n",
      "25-08-19 17:19:35.883 pyfstat.utils.sft INFO    : Loading 1 SFTs from H1...\n",
      "25-08-19 17:19:35.895 pyfstat.utils.sft INFO    : Loading 1 SFTs from H1...\n",
      "25-08-19 17:19:35.909 pyfstat.utils.sft INFO    : Loading 1 SFTs from H1...\n",
      "25-08-19 17:19:35.928 pyfstat.utils.sft INFO    : Loading 1 SFTs from H1...\n",
      "25-08-19 17:19:35.942 pyfstat.utils.sft INFO    : Loading 1 SFTs from H1...\n",
      "25-08-19 17:19:35.956 pyfstat.utils.sft INFO    : Loading 1 SFTs from H1...\n"
     ]
    },
    {
     "name": "stderr",
     "output_type": "stream",
     "text": [
      " 81%|████████▏ | 4686/5760 [01:12<00:15, 67.72it/s]"
     ]
    },
    {
     "name": "stdout",
     "output_type": "stream",
     "text": [
      "25-08-19 17:19:35.971 pyfstat.utils.sft INFO    : Loading 1 SFTs from H1...\n",
      "25-08-19 17:19:35.990 pyfstat.utils.sft INFO    : Loading 1 SFTs from H1...\n",
      "25-08-19 17:19:36.004 pyfstat.utils.sft INFO    : Loading 1 SFTs from H1...\n",
      "25-08-19 17:19:36.019 pyfstat.utils.sft INFO    : Loading 1 SFTs from H1...\n",
      "25-08-19 17:19:36.033 pyfstat.utils.sft INFO    : Loading 1 SFTs from H1...\n",
      "25-08-19 17:19:36.048 pyfstat.utils.sft INFO    : Loading 1 SFTs from H1...\n",
      "25-08-19 17:19:36.062 pyfstat.utils.sft INFO    : Loading 1 SFTs from H1...\n"
     ]
    },
    {
     "name": "stderr",
     "output_type": "stream",
     "text": [
      " 81%|████████▏ | 4693/5760 [01:12<00:15, 67.25it/s]"
     ]
    },
    {
     "name": "stdout",
     "output_type": "stream",
     "text": [
      "25-08-19 17:19:36.077 pyfstat.utils.sft INFO    : Loading 1 SFTs from H1...\n",
      "25-08-19 17:19:36.094 pyfstat.utils.sft INFO    : Loading 1 SFTs from H1...\n",
      "25-08-19 17:19:36.105 pyfstat.utils.sft INFO    : Loading 1 SFTs from H1...\n",
      "25-08-19 17:19:36.118 pyfstat.utils.sft INFO    : Loading 1 SFTs from H1...\n",
      "25-08-19 17:19:36.133 pyfstat.utils.sft INFO    : Loading 1 SFTs from H1...\n",
      "25-08-19 17:19:36.148 pyfstat.utils.sft INFO    : Loading 1 SFTs from H1...\n",
      "25-08-19 17:19:36.168 pyfstat.utils.sft INFO    : Loading 1 SFTs from H1...\n"
     ]
    },
    {
     "name": "stderr",
     "output_type": "stream",
     "text": [
      " 82%|████████▏ | 4700/5760 [01:12<00:16, 66.04it/s]"
     ]
    },
    {
     "name": "stdout",
     "output_type": "stream",
     "text": [
      "25-08-19 17:19:36.188 pyfstat.utils.sft INFO    : Loading 1 SFTs from H1...\n",
      "25-08-19 17:19:36.203 pyfstat.utils.sft INFO    : Loading 1 SFTs from H1...\n",
      "25-08-19 17:19:36.223 pyfstat.utils.sft INFO    : Loading 1 SFTs from H1...\n",
      "25-08-19 17:19:36.239 pyfstat.utils.sft INFO    : Loading 1 SFTs from H1...\n",
      "25-08-19 17:19:36.255 pyfstat.utils.sft INFO    : Loading 1 SFTs from H1...\n",
      "25-08-19 17:19:36.265 pyfstat.utils.sft INFO    : Loading 1 SFTs from H1...\n",
      "25-08-19 17:19:36.279 pyfstat.utils.sft INFO    : Loading 1 SFTs from H1...\n"
     ]
    },
    {
     "name": "stderr",
     "output_type": "stream",
     "text": [
      " 82%|████████▏ | 4707/5760 [01:13<00:16, 65.38it/s]"
     ]
    },
    {
     "name": "stdout",
     "output_type": "stream",
     "text": [
      "25-08-19 17:19:36.293 pyfstat.utils.sft INFO    : Loading 1 SFTs from H1...\n",
      "25-08-19 17:19:36.308 pyfstat.utils.sft INFO    : Loading 1 SFTs from H1...\n",
      "25-08-19 17:19:36.318 pyfstat.utils.sft INFO    : Loading 1 SFTs from H1...\n",
      "25-08-19 17:19:36.333 pyfstat.utils.sft INFO    : Loading 1 SFTs from H1...\n",
      "25-08-19 17:19:36.347 pyfstat.utils.sft INFO    : Loading 1 SFTs from H1...\n",
      "25-08-19 17:19:36.366 pyfstat.utils.sft INFO    : Loading 1 SFTs from H1...\n",
      "25-08-19 17:19:36.384 pyfstat.utils.sft INFO    : Loading 1 SFTs from H1...\n"
     ]
    },
    {
     "name": "stderr",
     "output_type": "stream",
     "text": [
      " 82%|████████▏ | 4714/5760 [01:13<00:15, 65.77it/s]"
     ]
    },
    {
     "name": "stdout",
     "output_type": "stream",
     "text": [
      "25-08-19 17:19:36.398 pyfstat.utils.sft INFO    : Loading 1 SFTs from H1...\n",
      "25-08-19 17:19:36.409 pyfstat.utils.sft INFO    : Loading 1 SFTs from H1...\n",
      "25-08-19 17:19:36.419 pyfstat.utils.sft INFO    : Loading 1 SFTs from H1...\n",
      "25-08-19 17:19:36.433 pyfstat.utils.sft INFO    : Loading 1 SFTs from H1...\n",
      "25-08-19 17:19:36.447 pyfstat.utils.sft INFO    : Loading 1 SFTs from H1...\n",
      "25-08-19 17:19:36.465 pyfstat.utils.sft INFO    : Loading 1 SFTs from H1...\n",
      "25-08-19 17:19:36.484 pyfstat.utils.sft INFO    : Loading 1 SFTs from H1...\n",
      "25-08-19 17:19:36.500 pyfstat.utils.sft INFO    : Loading 1 SFTs from H1...\n"
     ]
    },
    {
     "name": "stderr",
     "output_type": "stream",
     "text": [
      " 82%|████████▏ | 4722/5760 [01:13<00:15, 67.20it/s]"
     ]
    },
    {
     "name": "stdout",
     "output_type": "stream",
     "text": [
      "25-08-19 17:19:36.516 pyfstat.utils.sft INFO    : Loading 1 SFTs from H1...\n",
      "25-08-19 17:19:36.531 pyfstat.utils.sft INFO    : Loading 1 SFTs from H1...\n",
      "25-08-19 17:19:36.547 pyfstat.utils.sft INFO    : Loading 1 SFTs from H1...\n",
      "25-08-19 17:19:36.562 pyfstat.utils.sft INFO    : Loading 1 SFTs from H1...\n",
      "25-08-19 17:19:36.576 pyfstat.utils.sft INFO    : Loading 1 SFTs from H1...\n",
      "25-08-19 17:19:36.595 pyfstat.utils.sft INFO    : Loading 1 SFTs from H1...\n",
      "25-08-19 17:19:36.610 pyfstat.utils.sft INFO    : Loading 1 SFTs from H1...\n"
     ]
    },
    {
     "name": "stderr",
     "output_type": "stream",
     "text": [
      " 82%|████████▏ | 4729/5760 [01:13<00:15, 65.52it/s]"
     ]
    },
    {
     "name": "stdout",
     "output_type": "stream",
     "text": [
      "25-08-19 17:19:36.626 pyfstat.utils.sft INFO    : Loading 1 SFTs from H1...\n",
      "25-08-19 17:19:36.641 pyfstat.utils.sft INFO    : Loading 1 SFTs from H1...\n",
      "25-08-19 17:19:36.657 pyfstat.utils.sft INFO    : Loading 1 SFTs from H1...\n",
      "25-08-19 17:19:36.676 pyfstat.utils.sft INFO    : Loading 1 SFTs from H1...\n",
      "25-08-19 17:19:36.692 pyfstat.utils.sft INFO    : Loading 1 SFTs from H1...\n",
      "25-08-19 17:19:36.708 pyfstat.utils.sft INFO    : Loading 1 SFTs from H1...\n",
      "25-08-19 17:19:36.727 pyfstat.utils.sft INFO    : Loading 1 SFTs from H1...\n"
     ]
    },
    {
     "name": "stderr",
     "output_type": "stream",
     "text": [
      " 82%|████████▏ | 4736/5760 [01:13<00:15, 64.38it/s]"
     ]
    },
    {
     "name": "stdout",
     "output_type": "stream",
     "text": [
      "25-08-19 17:19:36.743 pyfstat.utils.sft INFO    : Loading 1 SFTs from H1...\n",
      "25-08-19 17:19:36.758 pyfstat.utils.sft INFO    : Loading 1 SFTs from H1...\n",
      "25-08-19 17:19:36.770 pyfstat.utils.sft INFO    : Loading 1 SFTs from H1...\n",
      "25-08-19 17:19:36.782 pyfstat.utils.sft INFO    : Loading 1 SFTs from H1...\n",
      "25-08-19 17:19:36.794 pyfstat.utils.sft INFO    : Loading 1 SFTs from H1...\n",
      "25-08-19 17:19:36.808 pyfstat.utils.sft INFO    : Loading 1 SFTs from H1...\n",
      "25-08-19 17:19:36.823 pyfstat.utils.sft INFO    : Loading 1 SFTs from H1...\n",
      "25-08-19 17:19:36.838 pyfstat.utils.sft INFO    : Loading 1 SFTs from H1...\n"
     ]
    },
    {
     "name": "stderr",
     "output_type": "stream",
     "text": [
      " 82%|████████▏ | 4744/5760 [01:13<00:15, 66.67it/s]"
     ]
    },
    {
     "name": "stdout",
     "output_type": "stream",
     "text": [
      "25-08-19 17:19:36.850 pyfstat.utils.sft INFO    : Loading 1 SFTs from H1...\n",
      "25-08-19 17:19:36.864 pyfstat.utils.sft INFO    : Loading 1 SFTs from H1...\n",
      "25-08-19 17:19:36.879 pyfstat.utils.sft INFO    : Loading 1 SFTs from H1...\n",
      "25-08-19 17:19:36.894 pyfstat.utils.sft INFO    : Loading 1 SFTs from H1...\n",
      "25-08-19 17:19:36.904 pyfstat.utils.sft INFO    : Loading 1 SFTs from H1...\n",
      "25-08-19 17:19:36.919 pyfstat.utils.sft INFO    : Loading 1 SFTs from H1...\n",
      "25-08-19 17:19:36.933 pyfstat.utils.sft INFO    : Loading 1 SFTs from H1...\n",
      "25-08-19 17:19:36.949 pyfstat.utils.sft INFO    : Loading 1 SFTs from H1...\n"
     ]
    },
    {
     "name": "stderr",
     "output_type": "stream",
     "text": [
      " 82%|████████▎ | 4752/5760 [01:13<00:14, 68.43it/s]"
     ]
    },
    {
     "name": "stdout",
     "output_type": "stream",
     "text": [
      "25-08-19 17:19:36.963 pyfstat.utils.sft INFO    : Loading 1 SFTs from H1...\n",
      "25-08-19 17:19:36.981 pyfstat.utils.sft INFO    : Loading 1 SFTs from H1...\n",
      "25-08-19 17:19:36.995 pyfstat.utils.sft INFO    : Loading 1 SFTs from H1...\n",
      "25-08-19 17:19:37.009 pyfstat.utils.sft INFO    : Loading 1 SFTs from H1...\n",
      "25-08-19 17:19:37.028 pyfstat.utils.sft INFO    : Loading 1 SFTs from H1...\n",
      "25-08-19 17:19:37.040 pyfstat.utils.sft INFO    : Loading 1 SFTs from H1...\n",
      "25-08-19 17:19:37.052 pyfstat.utils.sft INFO    : Loading 1 SFTs from H1...\n"
     ]
    },
    {
     "name": "stderr",
     "output_type": "stream",
     "text": [
      " 83%|████████▎ | 4759/5760 [01:13<00:14, 68.27it/s]"
     ]
    },
    {
     "name": "stdout",
     "output_type": "stream",
     "text": [
      "25-08-19 17:19:37.067 pyfstat.utils.sft INFO    : Loading 1 SFTs from H1...\n",
      "25-08-19 17:19:37.085 pyfstat.utils.sft INFO    : Loading 1 SFTs from H1...\n",
      "25-08-19 17:19:37.099 pyfstat.utils.sft INFO    : Loading 1 SFTs from H1...\n",
      "25-08-19 17:19:37.118 pyfstat.utils.sft INFO    : Loading 1 SFTs from H1...\n",
      "25-08-19 17:19:37.129 pyfstat.utils.sft INFO    : Loading 1 SFTs from H1...\n",
      "25-08-19 17:19:37.143 pyfstat.utils.sft INFO    : Loading 1 SFTs from H1...\n",
      "25-08-19 17:19:37.158 pyfstat.utils.sft INFO    : Loading 1 SFTs from H1...\n"
     ]
    },
    {
     "name": "stderr",
     "output_type": "stream",
     "text": [
      " 83%|████████▎ | 4766/5760 [01:13<00:14, 67.47it/s]"
     ]
    },
    {
     "name": "stdout",
     "output_type": "stream",
     "text": [
      "25-08-19 17:19:37.170 pyfstat.utils.sft INFO    : Loading 1 SFTs from H1...\n",
      "25-08-19 17:19:37.185 pyfstat.utils.sft INFO    : Loading 1 SFTs from H1...\n",
      "25-08-19 17:19:37.204 pyfstat.utils.sft INFO    : Loading 1 SFTs from H1...\n",
      "25-08-19 17:19:37.220 pyfstat.utils.sft INFO    : Loading 1 SFTs from H1...\n",
      "25-08-19 17:19:37.238 pyfstat.utils.sft INFO    : Loading 1 SFTs from H1...\n",
      "25-08-19 17:19:37.250 pyfstat.utils.sft INFO    : Loading 1 SFTs from H1...\n",
      "25-08-19 17:19:37.264 pyfstat.utils.sft INFO    : Loading 1 SFTs from H1...\n"
     ]
    },
    {
     "name": "stderr",
     "output_type": "stream",
     "text": [
      " 83%|████████▎ | 4773/5760 [01:14<00:14, 66.98it/s]"
     ]
    },
    {
     "name": "stdout",
     "output_type": "stream",
     "text": [
      "25-08-19 17:19:37.276 pyfstat.utils.sft INFO    : Loading 1 SFTs from H1...\n",
      "25-08-19 17:19:37.288 pyfstat.utils.sft INFO    : Loading 1 SFTs from H1...\n",
      "25-08-19 17:19:37.302 pyfstat.utils.sft INFO    : Loading 1 SFTs from H1...\n",
      "25-08-19 17:19:37.321 pyfstat.utils.sft INFO    : Loading 1 SFTs from H1...\n",
      "25-08-19 17:19:37.336 pyfstat.utils.sft INFO    : Loading 1 SFTs from H1...\n",
      "25-08-19 17:19:37.351 pyfstat.utils.sft INFO    : Loading 1 SFTs from H1...\n",
      "25-08-19 17:19:37.366 pyfstat.utils.sft INFO    : Loading 1 SFTs from H1...\n"
     ]
    },
    {
     "name": "stderr",
     "output_type": "stream",
     "text": [
      " 83%|████████▎ | 4780/5760 [01:14<00:14, 67.54it/s]"
     ]
    },
    {
     "name": "stdout",
     "output_type": "stream",
     "text": [
      "25-08-19 17:19:37.381 pyfstat.utils.sft INFO    : Loading 1 SFTs from H1...\n",
      "25-08-19 17:19:37.400 pyfstat.utils.sft INFO    : Loading 1 SFTs from H1...\n",
      "25-08-19 17:19:37.415 pyfstat.utils.sft INFO    : Loading 1 SFTs from H1...\n",
      "25-08-19 17:19:37.429 pyfstat.utils.sft INFO    : Loading 1 SFTs from H1...\n",
      "25-08-19 17:19:37.440 pyfstat.utils.sft INFO    : Loading 1 SFTs from H1...\n",
      "25-08-19 17:19:37.456 pyfstat.utils.sft INFO    : Loading 1 SFTs from H1...\n",
      "25-08-19 17:19:37.467 pyfstat.utils.sft INFO    : Loading 1 SFTs from H1...\n"
     ]
    },
    {
     "name": "stderr",
     "output_type": "stream",
     "text": [
      " 83%|████████▎ | 4787/5760 [01:14<00:14, 68.07it/s]"
     ]
    },
    {
     "name": "stdout",
     "output_type": "stream",
     "text": [
      "25-08-19 17:19:37.483 pyfstat.utils.sft INFO    : Loading 1 SFTs from H1...\n",
      "25-08-19 17:19:37.494 pyfstat.utils.sft INFO    : Loading 1 SFTs from H1...\n",
      "25-08-19 17:19:37.508 pyfstat.utils.sft INFO    : Loading 1 SFTs from H1...\n",
      "25-08-19 17:19:37.523 pyfstat.utils.sft INFO    : Loading 1 SFTs from H1...\n",
      "25-08-19 17:19:37.542 pyfstat.utils.sft INFO    : Loading 1 SFTs from H1...\n",
      "25-08-19 17:19:37.553 pyfstat.utils.sft INFO    : Loading 1 SFTs from H1...\n",
      "25-08-19 17:19:37.568 pyfstat.utils.sft INFO    : Loading 1 SFTs from H1...\n"
     ]
    },
    {
     "name": "stderr",
     "output_type": "stream",
     "text": [
      " 83%|████████▎ | 4794/5760 [01:14<00:14, 68.50it/s]"
     ]
    },
    {
     "name": "stdout",
     "output_type": "stream",
     "text": [
      "25-08-19 17:19:37.579 pyfstat.utils.sft INFO    : Loading 1 SFTs from H1...\n",
      "25-08-19 17:19:37.594 pyfstat.utils.sft INFO    : Loading 1 SFTs from H1...\n",
      "25-08-19 17:19:37.609 pyfstat.utils.sft INFO    : Loading 1 SFTs from H1...\n",
      "25-08-19 17:19:37.623 pyfstat.utils.sft INFO    : Loading 1 SFTs from H1...\n",
      "25-08-19 17:19:37.638 pyfstat.utils.sft INFO    : Loading 1 SFTs from H1...\n",
      "25-08-19 17:19:37.650 pyfstat.utils.sft INFO    : Loading 1 SFTs from H1...\n",
      "25-08-19 17:19:37.665 pyfstat.utils.sft INFO    : Loading 1 SFTs from H1...\n",
      "25-08-19 17:19:37.680 pyfstat.utils.sft INFO    : Loading 1 SFTs from H1...\n"
     ]
    },
    {
     "name": "stderr",
     "output_type": "stream",
     "text": [
      " 83%|████████▎ | 4802/5760 [01:14<00:13, 69.36it/s]"
     ]
    },
    {
     "name": "stdout",
     "output_type": "stream",
     "text": [
      "25-08-19 17:19:37.695 pyfstat.utils.sft INFO    : Loading 1 SFTs from H1...\n",
      "25-08-19 17:19:37.713 pyfstat.utils.sft INFO    : Loading 1 SFTs from H1...\n",
      "25-08-19 17:19:37.727 pyfstat.utils.sft INFO    : Loading 1 SFTs from H1...\n",
      "25-08-19 17:19:37.745 pyfstat.utils.sft INFO    : Loading 1 SFTs from H1...\n",
      "25-08-19 17:19:37.759 pyfstat.utils.sft INFO    : Loading 1 SFTs from H1...\n",
      "25-08-19 17:19:37.774 pyfstat.utils.sft INFO    : Loading 1 SFTs from H1...\n",
      "25-08-19 17:19:37.793 pyfstat.utils.sft INFO    : Loading 1 SFTs from H1...\n"
     ]
    },
    {
     "name": "stderr",
     "output_type": "stream",
     "text": [
      " 83%|████████▎ | 4809/5760 [01:14<00:14, 67.09it/s]"
     ]
    },
    {
     "name": "stdout",
     "output_type": "stream",
     "text": [
      "25-08-19 17:19:37.805 pyfstat.utils.sft INFO    : Loading 1 SFTs from H1...\n",
      "25-08-19 17:19:37.819 pyfstat.utils.sft INFO    : Loading 1 SFTs from H1...\n",
      "25-08-19 17:19:37.834 pyfstat.utils.sft INFO    : Loading 1 SFTs from H1...\n",
      "25-08-19 17:19:37.846 pyfstat.utils.sft INFO    : Loading 1 SFTs from H1...\n",
      "25-08-19 17:19:37.857 pyfstat.utils.sft INFO    : Loading 1 SFTs from H1...\n",
      "25-08-19 17:19:37.871 pyfstat.utils.sft INFO    : Loading 1 SFTs from H1...\n",
      "25-08-19 17:19:37.889 pyfstat.utils.sft INFO    : Loading 1 SFTs from H1...\n",
      "25-08-19 17:19:37.904 pyfstat.utils.sft INFO    : Loading 1 SFTs from H1...\n"
     ]
    },
    {
     "name": "stderr",
     "output_type": "stream",
     "text": [
      " 84%|████████▎ | 4817/5760 [01:14<00:13, 68.46it/s]"
     ]
    },
    {
     "name": "stdout",
     "output_type": "stream",
     "text": [
      "25-08-19 17:19:37.921 pyfstat.utils.sft INFO    : Loading 1 SFTs from H1...\n",
      "25-08-19 17:19:37.932 pyfstat.utils.sft INFO    : Loading 1 SFTs from H1...\n",
      "25-08-19 17:19:37.947 pyfstat.utils.sft INFO    : Loading 1 SFTs from H1...\n",
      "25-08-19 17:19:37.962 pyfstat.utils.sft INFO    : Loading 1 SFTs from H1...\n",
      "25-08-19 17:19:37.973 pyfstat.utils.sft INFO    : Loading 1 SFTs from H1...\n",
      "25-08-19 17:19:37.988 pyfstat.utils.sft INFO    : Loading 1 SFTs from H1...\n",
      "25-08-19 17:19:38.007 pyfstat.utils.sft INFO    : Loading 1 SFTs from H1...\n"
     ]
    },
    {
     "name": "stderr",
     "output_type": "stream",
     "text": [
      " 84%|████████▍ | 4824/5760 [01:14<00:13, 68.48it/s]"
     ]
    },
    {
     "name": "stdout",
     "output_type": "stream",
     "text": [
      "25-08-19 17:19:38.022 pyfstat.utils.sft INFO    : Loading 1 SFTs from H1...\n",
      "25-08-19 17:19:38.040 pyfstat.utils.sft INFO    : Loading 1 SFTs from H1...\n",
      "25-08-19 17:19:38.055 pyfstat.utils.sft INFO    : Loading 1 SFTs from H1...\n",
      "25-08-19 17:19:38.073 pyfstat.utils.sft INFO    : Loading 1 SFTs from H1...\n",
      "25-08-19 17:19:38.088 pyfstat.utils.sft INFO    : Loading 1 SFTs from H1...\n",
      "25-08-19 17:19:38.099 pyfstat.utils.sft INFO    : Loading 1 SFTs from H1...\n",
      "25-08-19 17:19:38.110 pyfstat.utils.sft INFO    : Loading 1 SFTs from H1...\n"
     ]
    },
    {
     "name": "stderr",
     "output_type": "stream",
     "text": [
      " 84%|████████▍ | 4831/5760 [01:14<00:13, 68.12it/s]"
     ]
    },
    {
     "name": "stdout",
     "output_type": "stream",
     "text": [
      "25-08-19 17:19:38.127 pyfstat.utils.sft INFO    : Loading 1 SFTs from H1...\n",
      "25-08-19 17:19:38.139 pyfstat.utils.sft INFO    : Loading 1 SFTs from H1...\n",
      "25-08-19 17:19:38.154 pyfstat.utils.sft INFO    : Loading 1 SFTs from H1...\n",
      "25-08-19 17:19:38.173 pyfstat.utils.sft INFO    : Loading 1 SFTs from H1...\n",
      "25-08-19 17:19:38.191 pyfstat.utils.sft INFO    : Loading 1 SFTs from H1...\n",
      "25-08-19 17:19:38.203 pyfstat.utils.sft INFO    : Loading 1 SFTs from H1...\n",
      "25-08-19 17:19:38.218 pyfstat.utils.sft INFO    : Loading 1 SFTs from H1...\n"
     ]
    },
    {
     "name": "stderr",
     "output_type": "stream",
     "text": [
      " 84%|████████▍ | 4838/5760 [01:14<00:13, 67.34it/s]"
     ]
    },
    {
     "name": "stdout",
     "output_type": "stream",
     "text": [
      "25-08-19 17:19:38.233 pyfstat.utils.sft INFO    : Loading 1 SFTs from H1...\n",
      "25-08-19 17:19:38.246 pyfstat.utils.sft INFO    : Loading 1 SFTs from H1...\n",
      "25-08-19 17:19:38.257 pyfstat.utils.sft INFO    : Loading 1 SFTs from H1...\n",
      "25-08-19 17:19:38.271 pyfstat.utils.sft INFO    : Loading 1 SFTs from H1...\n",
      "25-08-19 17:19:38.282 pyfstat.utils.sft INFO    : Loading 1 SFTs from H1...\n",
      "25-08-19 17:19:38.297 pyfstat.utils.sft INFO    : Loading 1 SFTs from H1...\n",
      "25-08-19 17:19:38.308 pyfstat.utils.sft INFO    : Loading 1 SFTs from H1...\n",
      "25-08-19 17:19:38.323 pyfstat.utils.sft INFO    : Loading 1 SFTs from H1...\n"
     ]
    },
    {
     "name": "stderr",
     "output_type": "stream",
     "text": [
      " 84%|████████▍ | 4846/5760 [01:15<00:13, 69.17it/s]"
     ]
    },
    {
     "name": "stdout",
     "output_type": "stream",
     "text": [
      "25-08-19 17:19:38.342 pyfstat.utils.sft INFO    : Loading 1 SFTs from H1...\n",
      "25-08-19 17:19:38.358 pyfstat.utils.sft INFO    : Loading 1 SFTs from H1...\n",
      "25-08-19 17:19:38.369 pyfstat.utils.sft INFO    : Loading 1 SFTs from H1...\n",
      "25-08-19 17:19:38.384 pyfstat.utils.sft INFO    : Loading 1 SFTs from H1...\n",
      "25-08-19 17:19:38.398 pyfstat.utils.sft INFO    : Loading 1 SFTs from H1...\n",
      "25-08-19 17:19:38.413 pyfstat.utils.sft INFO    : Loading 1 SFTs from H1...\n",
      "25-08-19 17:19:38.424 pyfstat.utils.sft INFO    : Loading 1 SFTs from H1...\n",
      "25-08-19 17:19:38.439 pyfstat.utils.sft INFO    : Loading 1 SFTs from H1...\n"
     ]
    },
    {
     "name": "stderr",
     "output_type": "stream",
     "text": [
      " 84%|████████▍ | 4854/5760 [01:15<00:13, 69.09it/s]"
     ]
    },
    {
     "name": "stdout",
     "output_type": "stream",
     "text": [
      "25-08-19 17:19:38.459 pyfstat.utils.sft INFO    : Loading 1 SFTs from H1...\n",
      "25-08-19 17:19:38.478 pyfstat.utils.sft INFO    : Loading 1 SFTs from H1...\n",
      "25-08-19 17:19:38.494 pyfstat.utils.sft INFO    : Loading 1 SFTs from H1...\n",
      "25-08-19 17:19:38.505 pyfstat.utils.sft INFO    : Loading 1 SFTs from H1...\n",
      "25-08-19 17:19:38.521 pyfstat.utils.sft INFO    : Loading 1 SFTs from H1...\n",
      "25-08-19 17:19:38.532 pyfstat.utils.sft INFO    : Loading 1 SFTs from H1...\n",
      "25-08-19 17:19:38.543 pyfstat.utils.sft INFO    : Loading 1 SFTs from H1...\n"
     ]
    },
    {
     "name": "stderr",
     "output_type": "stream",
     "text": [
      " 84%|████████▍ | 4861/5760 [01:15<00:12, 69.17it/s]"
     ]
    },
    {
     "name": "stdout",
     "output_type": "stream",
     "text": [
      "25-08-19 17:19:38.556 pyfstat.utils.sft INFO    : Loading 1 SFTs from H1...\n",
      "25-08-19 17:19:38.571 pyfstat.utils.sft INFO    : Loading 1 SFTs from H1...\n",
      "25-08-19 17:19:38.582 pyfstat.utils.sft INFO    : Loading 1 SFTs from H1...\n",
      "25-08-19 17:19:38.596 pyfstat.utils.sft INFO    : Loading 1 SFTs from H1...\n",
      "25-08-19 17:19:38.615 pyfstat.utils.sft INFO    : Loading 1 SFTs from H1...\n",
      "25-08-19 17:19:38.630 pyfstat.utils.sft INFO    : Loading 1 SFTs from H1...\n",
      "25-08-19 17:19:38.645 pyfstat.utils.sft INFO    : Loading 1 SFTs from H1...\n"
     ]
    },
    {
     "name": "stderr",
     "output_type": "stream",
     "text": [
      " 85%|████████▍ | 4868/5760 [01:15<00:12, 69.10it/s]"
     ]
    },
    {
     "name": "stdout",
     "output_type": "stream",
     "text": [
      "25-08-19 17:19:38.657 pyfstat.utils.sft INFO    : Loading 1 SFTs from H1...\n",
      "25-08-19 17:19:38.670 pyfstat.utils.sft INFO    : Loading 1 SFTs from H1...\n",
      "25-08-19 17:19:38.685 pyfstat.utils.sft INFO    : Loading 1 SFTs from H1...\n",
      "25-08-19 17:19:38.704 pyfstat.utils.sft INFO    : Loading 1 SFTs from H1...\n",
      "25-08-19 17:19:38.719 pyfstat.utils.sft INFO    : Loading 1 SFTs from H1...\n",
      "25-08-19 17:19:38.734 pyfstat.utils.sft INFO    : Loading 1 SFTs from H1...\n",
      "25-08-19 17:19:38.746 pyfstat.utils.sft INFO    : Loading 1 SFTs from H1...\n"
     ]
    },
    {
     "name": "stderr",
     "output_type": "stream",
     "text": [
      " 85%|████████▍ | 4875/5760 [01:15<00:12, 69.20it/s]"
     ]
    },
    {
     "name": "stdout",
     "output_type": "stream",
     "text": [
      "25-08-19 17:19:38.762 pyfstat.utils.sft INFO    : Loading 1 SFTs from H1...\n",
      "25-08-19 17:19:38.778 pyfstat.utils.sft INFO    : Loading 1 SFTs from H1...\n",
      "25-08-19 17:19:38.798 pyfstat.utils.sft INFO    : Loading 1 SFTs from H1...\n",
      "25-08-19 17:19:38.813 pyfstat.utils.sft INFO    : Loading 1 SFTs from H1...\n",
      "25-08-19 17:19:38.832 pyfstat.utils.sft INFO    : Loading 1 SFTs from H1...\n",
      "25-08-19 17:19:38.848 pyfstat.utils.sft INFO    : Loading 1 SFTs from H1...\n",
      "25-08-19 17:19:38.864 pyfstat.utils.sft INFO    : Loading 1 SFTs from H1...\n"
     ]
    },
    {
     "name": "stderr",
     "output_type": "stream",
     "text": [
      " 85%|████████▍ | 4882/5760 [01:15<00:13, 65.36it/s]"
     ]
    },
    {
     "name": "stdout",
     "output_type": "stream",
     "text": [
      "25-08-19 17:19:38.879 pyfstat.utils.sft INFO    : Loading 1 SFTs from H1...\n",
      "25-08-19 17:19:38.894 pyfstat.utils.sft INFO    : Loading 1 SFTs from H1...\n",
      "25-08-19 17:19:38.905 pyfstat.utils.sft INFO    : Loading 1 SFTs from H1...\n",
      "25-08-19 17:19:38.924 pyfstat.utils.sft INFO    : Loading 1 SFTs from H1...\n",
      "25-08-19 17:19:38.942 pyfstat.utils.sft INFO    : Loading 1 SFTs from H1...\n",
      "25-08-19 17:19:38.960 pyfstat.utils.sft INFO    : Loading 1 SFTs from H1...\n",
      "25-08-19 17:19:38.975 pyfstat.utils.sft INFO    : Loading 1 SFTs from H1...\n"
     ]
    },
    {
     "name": "stderr",
     "output_type": "stream",
     "text": [
      " 85%|████████▍ | 4889/5760 [01:15<00:13, 65.24it/s]"
     ]
    },
    {
     "name": "stdout",
     "output_type": "stream",
     "text": [
      "25-08-19 17:19:38.987 pyfstat.utils.sft INFO    : Loading 1 SFTs from H1...\n",
      "25-08-19 17:19:38.999 pyfstat.utils.sft INFO    : Loading 1 SFTs from H1...\n",
      "25-08-19 17:19:39.014 pyfstat.utils.sft INFO    : Loading 1 SFTs from H1...\n",
      "25-08-19 17:19:39.029 pyfstat.utils.sft INFO    : Loading 1 SFTs from H1...\n",
      "25-08-19 17:19:39.040 pyfstat.utils.sft INFO    : Loading 1 SFTs from H1...\n",
      "25-08-19 17:19:39.055 pyfstat.utils.sft INFO    : Loading 1 SFTs from H1...\n",
      "25-08-19 17:19:39.073 pyfstat.utils.sft INFO    : Loading 1 SFTs from H1...\n"
     ]
    },
    {
     "name": "stderr",
     "output_type": "stream",
     "text": [
      " 85%|████████▌ | 4896/5760 [01:15<00:13, 66.38it/s]"
     ]
    },
    {
     "name": "stdout",
     "output_type": "stream",
     "text": [
      "25-08-19 17:19:39.092 pyfstat.utils.sft INFO    : Loading 1 SFTs from H1...\n",
      "25-08-19 17:19:39.107 pyfstat.utils.sft INFO    : Loading 1 SFTs from H1...\n",
      "25-08-19 17:19:39.119 pyfstat.utils.sft INFO    : Loading 1 SFTs from H1...\n",
      "25-08-19 17:19:39.134 pyfstat.utils.sft INFO    : Loading 1 SFTs from H1...\n",
      "25-08-19 17:19:39.152 pyfstat.utils.sft INFO    : Loading 1 SFTs from H1...\n",
      "25-08-19 17:19:39.171 pyfstat.utils.sft INFO    : Loading 1 SFTs from H1...\n",
      "25-08-19 17:19:39.187 pyfstat.utils.sft INFO    : Loading 1 SFTs from H1...\n"
     ]
    },
    {
     "name": "stderr",
     "output_type": "stream",
     "text": [
      " 85%|████████▌ | 4903/5760 [01:15<00:13, 65.33it/s]"
     ]
    },
    {
     "name": "stdout",
     "output_type": "stream",
     "text": [
      "25-08-19 17:19:39.199 pyfstat.utils.sft INFO    : Loading 1 SFTs from H1...\n",
      "25-08-19 17:19:39.214 pyfstat.utils.sft INFO    : Loading 1 SFTs from H1...\n",
      "25-08-19 17:19:39.230 pyfstat.utils.sft INFO    : Loading 1 SFTs from H1...\n",
      "25-08-19 17:19:39.241 pyfstat.utils.sft INFO    : Loading 1 SFTs from H1...\n",
      "25-08-19 17:19:39.257 pyfstat.utils.sft INFO    : Loading 1 SFTs from H1...\n",
      "25-08-19 17:19:39.272 pyfstat.utils.sft INFO    : Loading 1 SFTs from H1...\n",
      "25-08-19 17:19:39.287 pyfstat.utils.sft INFO    : Loading 1 SFTs from H1...\n"
     ]
    },
    {
     "name": "stderr",
     "output_type": "stream",
     "text": [
      " 85%|████████▌ | 4910/5760 [01:16<00:12, 65.99it/s]"
     ]
    },
    {
     "name": "stdout",
     "output_type": "stream",
     "text": [
      "25-08-19 17:19:39.303 pyfstat.utils.sft INFO    : Loading 1 SFTs from H1...\n",
      "25-08-19 17:19:39.318 pyfstat.utils.sft INFO    : Loading 1 SFTs from H1...\n",
      "25-08-19 17:19:39.333 pyfstat.utils.sft INFO    : Loading 1 SFTs from H1...\n",
      "25-08-19 17:19:39.345 pyfstat.utils.sft INFO    : Loading 1 SFTs from H1...\n",
      "25-08-19 17:19:39.356 pyfstat.utils.sft INFO    : Loading 1 SFTs from H1...\n",
      "25-08-19 17:19:39.371 pyfstat.utils.sft INFO    : Loading 1 SFTs from H1...\n",
      "25-08-19 17:19:39.383 pyfstat.utils.sft INFO    : Loading 1 SFTs from H1...\n",
      "25-08-19 17:19:39.398 pyfstat.utils.sft INFO    : Loading 1 SFTs from H1...\n"
     ]
    },
    {
     "name": "stderr",
     "output_type": "stream",
     "text": [
      " 85%|████████▌ | 4918/5760 [01:16<00:12, 67.90it/s]"
     ]
    },
    {
     "name": "stdout",
     "output_type": "stream",
     "text": [
      "25-08-19 17:19:39.414 pyfstat.utils.sft INFO    : Loading 1 SFTs from H1...\n",
      "25-08-19 17:19:39.429 pyfstat.utils.sft INFO    : Loading 1 SFTs from H1...\n",
      "25-08-19 17:19:39.448 pyfstat.utils.sft INFO    : Loading 1 SFTs from H1...\n",
      "25-08-19 17:19:39.460 pyfstat.utils.sft INFO    : Loading 1 SFTs from H1...\n",
      "25-08-19 17:19:39.472 pyfstat.utils.sft INFO    : Loading 1 SFTs from H1...\n",
      "25-08-19 17:19:39.487 pyfstat.utils.sft INFO    : Loading 1 SFTs from H1...\n",
      "25-08-19 17:19:39.506 pyfstat.utils.sft INFO    : Loading 1 SFTs from H1...\n"
     ]
    },
    {
     "name": "stderr",
     "output_type": "stream",
     "text": [
      " 86%|████████▌ | 4925/5760 [01:16<00:12, 67.08it/s]"
     ]
    },
    {
     "name": "stdout",
     "output_type": "stream",
     "text": [
      "25-08-19 17:19:39.525 pyfstat.utils.sft INFO    : Loading 1 SFTs from H1...\n",
      "25-08-19 17:19:39.540 pyfstat.utils.sft INFO    : Loading 1 SFTs from H1...\n",
      "25-08-19 17:19:39.559 pyfstat.utils.sft INFO    : Loading 1 SFTs from H1...\n",
      "25-08-19 17:19:39.579 pyfstat.utils.sft INFO    : Loading 1 SFTs from H1...\n",
      "25-08-19 17:19:39.595 pyfstat.utils.sft INFO    : Loading 1 SFTs from H1...\n",
      "25-08-19 17:19:39.613 pyfstat.utils.sft INFO    : Loading 1 SFTs from H1...\n",
      "25-08-19 17:19:39.631 pyfstat.utils.sft INFO    : Loading 1 SFTs from H1...\n"
     ]
    },
    {
     "name": "stderr",
     "output_type": "stream",
     "text": [
      " 86%|████████▌ | 4932/5760 [01:16<00:12, 63.94it/s]"
     ]
    },
    {
     "name": "stdout",
     "output_type": "stream",
     "text": [
      "25-08-19 17:19:39.646 pyfstat.utils.sft INFO    : Loading 1 SFTs from H1...\n",
      "25-08-19 17:19:39.661 pyfstat.utils.sft INFO    : Loading 1 SFTs from H1...\n",
      "25-08-19 17:19:39.672 pyfstat.utils.sft INFO    : Loading 1 SFTs from H1...\n",
      "25-08-19 17:19:39.687 pyfstat.utils.sft INFO    : Loading 1 SFTs from H1...\n",
      "25-08-19 17:19:39.702 pyfstat.utils.sft INFO    : Loading 1 SFTs from H1...\n",
      "25-08-19 17:19:39.713 pyfstat.utils.sft INFO    : Loading 1 SFTs from H1...\n",
      "25-08-19 17:19:39.724 pyfstat.utils.sft INFO    : Loading 1 SFTs from H1...\n",
      "25-08-19 17:19:39.738 pyfstat.utils.sft INFO    : Loading 1 SFTs from H1...\n"
     ]
    },
    {
     "name": "stderr",
     "output_type": "stream",
     "text": [
      " 86%|████████▌ | 4940/5760 [01:16<00:12, 67.07it/s]"
     ]
    },
    {
     "name": "stdout",
     "output_type": "stream",
     "text": [
      "25-08-19 17:19:39.750 pyfstat.utils.sft INFO    : Loading 1 SFTs from H1...\n",
      "25-08-19 17:19:39.765 pyfstat.utils.sft INFO    : Loading 1 SFTs from H1...\n",
      "25-08-19 17:19:39.776 pyfstat.utils.sft INFO    : Loading 1 SFTs from H1...\n",
      "25-08-19 17:19:39.791 pyfstat.utils.sft INFO    : Loading 1 SFTs from H1...\n",
      "25-08-19 17:19:39.805 pyfstat.utils.sft INFO    : Loading 1 SFTs from H1...\n",
      "25-08-19 17:19:39.816 pyfstat.utils.sft INFO    : Loading 1 SFTs from H1...\n",
      "25-08-19 17:19:39.831 pyfstat.utils.sft INFO    : Loading 1 SFTs from H1...\n",
      "25-08-19 17:19:39.845 pyfstat.utils.sft INFO    : Loading 1 SFTs from H1...\n"
     ]
    },
    {
     "name": "stderr",
     "output_type": "stream",
     "text": [
      " 86%|████████▌ | 4948/5760 [01:16<00:11, 69.33it/s]"
     ]
    },
    {
     "name": "stdout",
     "output_type": "stream",
     "text": [
      "25-08-19 17:19:39.857 pyfstat.utils.sft INFO    : Loading 1 SFTs from H1...\n",
      "25-08-19 17:19:39.873 pyfstat.utils.sft INFO    : Loading 1 SFTs from H1...\n",
      "25-08-19 17:19:39.888 pyfstat.utils.sft INFO    : Loading 1 SFTs from H1...\n",
      "25-08-19 17:19:39.899 pyfstat.utils.sft INFO    : Loading 1 SFTs from H1...\n",
      "25-08-19 17:19:39.910 pyfstat.utils.sft INFO    : Loading 1 SFTs from H1...\n",
      "25-08-19 17:19:39.925 pyfstat.utils.sft INFO    : Loading 1 SFTs from H1...\n",
      "25-08-19 17:19:39.939 pyfstat.utils.sft INFO    : Loading 1 SFTs from H1...\n",
      "25-08-19 17:19:39.957 pyfstat.utils.sft INFO    : Loading 1 SFTs from H1...\n"
     ]
    },
    {
     "name": "stderr",
     "output_type": "stream",
     "text": [
      " 86%|████████▌ | 4956/5760 [01:16<00:11, 69.35it/s]"
     ]
    },
    {
     "name": "stdout",
     "output_type": "stream",
     "text": [
      "25-08-19 17:19:39.972 pyfstat.utils.sft INFO    : Loading 1 SFTs from H1...\n",
      "25-08-19 17:19:39.987 pyfstat.utils.sft INFO    : Loading 1 SFTs from H1...\n",
      "25-08-19 17:19:40.005 pyfstat.utils.sft INFO    : Loading 1 SFTs from H1...\n",
      "25-08-19 17:19:40.024 pyfstat.utils.sft INFO    : Loading 1 SFTs from H1...\n",
      "25-08-19 17:19:40.035 pyfstat.utils.sft INFO    : Loading 1 SFTs from H1...\n",
      "25-08-19 17:19:40.046 pyfstat.utils.sft INFO    : Loading 1 SFTs from H1...\n",
      "25-08-19 17:19:40.057 pyfstat.utils.sft INFO    : Loading 1 SFTs from H1...\n",
      "25-08-19 17:19:40.072 pyfstat.utils.sft INFO    : Loading 1 SFTs from H1...\n"
     ]
    },
    {
     "name": "stderr",
     "output_type": "stream",
     "text": [
      " 86%|████████▌ | 4964/5760 [01:16<00:11, 69.39it/s]"
     ]
    },
    {
     "name": "stdout",
     "output_type": "stream",
     "text": [
      "25-08-19 17:19:40.087 pyfstat.utils.sft INFO    : Loading 1 SFTs from H1...\n",
      "25-08-19 17:19:40.099 pyfstat.utils.sft INFO    : Loading 1 SFTs from H1...\n",
      "25-08-19 17:19:40.109 pyfstat.utils.sft INFO    : Loading 1 SFTs from H1...\n",
      "25-08-19 17:19:40.124 pyfstat.utils.sft INFO    : Loading 1 SFTs from H1...\n",
      "25-08-19 17:19:40.138 pyfstat.utils.sft INFO    : Loading 1 SFTs from H1...\n",
      "25-08-19 17:19:40.156 pyfstat.utils.sft INFO    : Loading 1 SFTs from H1...\n",
      "25-08-19 17:19:40.174 pyfstat.utils.sft INFO    : Loading 1 SFTs from H1...\n",
      "25-08-19 17:19:40.185 pyfstat.utils.sft INFO    : Loading 1 SFTs from H1...\n"
     ]
    },
    {
     "name": "stderr",
     "output_type": "stream",
     "text": [
      " 86%|████████▋ | 4972/5760 [01:16<00:11, 70.46it/s]"
     ]
    },
    {
     "name": "stdout",
     "output_type": "stream",
     "text": [
      "25-08-19 17:19:40.197 pyfstat.utils.sft INFO    : Loading 1 SFTs from H1...\n",
      "25-08-19 17:19:40.212 pyfstat.utils.sft INFO    : Loading 1 SFTs from H1...\n",
      "25-08-19 17:19:40.227 pyfstat.utils.sft INFO    : Loading 1 SFTs from H1...\n",
      "25-08-19 17:19:40.241 pyfstat.utils.sft INFO    : Loading 1 SFTs from H1...\n",
      "25-08-19 17:19:40.253 pyfstat.utils.sft INFO    : Loading 1 SFTs from H1...\n",
      "25-08-19 17:19:40.264 pyfstat.utils.sft INFO    : Loading 1 SFTs from H1...\n",
      "25-08-19 17:19:40.278 pyfstat.utils.sft INFO    : Loading 1 SFTs from H1...\n",
      "25-08-19 17:19:40.293 pyfstat.utils.sft INFO    : Loading 1 SFTs from H1...\n"
     ]
    },
    {
     "name": "stderr",
     "output_type": "stream",
     "text": [
      " 86%|████████▋ | 4980/5760 [01:17<00:10, 71.46it/s]"
     ]
    },
    {
     "name": "stdout",
     "output_type": "stream",
     "text": [
      "25-08-19 17:19:40.309 pyfstat.utils.sft INFO    : Loading 1 SFTs from H1...\n",
      "25-08-19 17:19:40.327 pyfstat.utils.sft INFO    : Loading 1 SFTs from H1...\n",
      "25-08-19 17:19:40.345 pyfstat.utils.sft INFO    : Loading 1 SFTs from H1...\n",
      "25-08-19 17:19:40.360 pyfstat.utils.sft INFO    : Loading 1 SFTs from H1...\n",
      "25-08-19 17:19:40.378 pyfstat.utils.sft INFO    : Loading 1 SFTs from H1...\n",
      "25-08-19 17:19:40.392 pyfstat.utils.sft INFO    : Loading 1 SFTs from H1...\n",
      "25-08-19 17:19:40.407 pyfstat.utils.sft INFO    : Loading 1 SFTs from H1...\n",
      "25-08-19 17:19:40.422 pyfstat.utils.sft INFO    : Loading 1 SFTs from H1...\n"
     ]
    },
    {
     "name": "stderr",
     "output_type": "stream",
     "text": [
      " 87%|████████▋ | 4988/5760 [01:17<00:11, 68.48it/s]"
     ]
    },
    {
     "name": "stdout",
     "output_type": "stream",
     "text": [
      "25-08-19 17:19:40.433 pyfstat.utils.sft INFO    : Loading 1 SFTs from H1...\n",
      "25-08-19 17:19:40.451 pyfstat.utils.sft INFO    : Loading 1 SFTs from H1...\n",
      "25-08-19 17:19:40.463 pyfstat.utils.sft INFO    : Loading 1 SFTs from H1...\n",
      "25-08-19 17:19:40.482 pyfstat.utils.sft INFO    : Loading 1 SFTs from H1...\n",
      "25-08-19 17:19:40.496 pyfstat.utils.sft INFO    : Loading 1 SFTs from H1...\n",
      "25-08-19 17:19:40.511 pyfstat.utils.sft INFO    : Loading 1 SFTs from H1...\n",
      "25-08-19 17:19:40.526 pyfstat.utils.sft INFO    : Loading 1 SFTs from H1...\n"
     ]
    },
    {
     "name": "stderr",
     "output_type": "stream",
     "text": [
      " 87%|████████▋ | 4995/5760 [01:17<00:11, 67.93it/s]"
     ]
    },
    {
     "name": "stdout",
     "output_type": "stream",
     "text": [
      "25-08-19 17:19:40.539 pyfstat.utils.sft INFO    : Loading 1 SFTs from H1...\n",
      "25-08-19 17:19:40.555 pyfstat.utils.sft INFO    : Loading 1 SFTs from H1...\n",
      "25-08-19 17:19:40.570 pyfstat.utils.sft INFO    : Loading 1 SFTs from H1...\n",
      "25-08-19 17:19:40.581 pyfstat.utils.sft INFO    : Loading 1 SFTs from H1...\n",
      "25-08-19 17:19:40.596 pyfstat.utils.sft INFO    : Loading 1 SFTs from H1...\n",
      "25-08-19 17:19:40.611 pyfstat.utils.sft INFO    : Loading 1 SFTs from H1...\n",
      "25-08-19 17:19:40.623 pyfstat.utils.sft INFO    : Loading 1 SFTs from H1...\n",
      "25-08-19 17:19:40.634 pyfstat.utils.sft INFO    : Loading 1 SFTs from H1...\n"
     ]
    },
    {
     "name": "stderr",
     "output_type": "stream",
     "text": [
      " 87%|████████▋ | 5003/5760 [01:17<00:10, 69.83it/s]"
     ]
    },
    {
     "name": "stdout",
     "output_type": "stream",
     "text": [
      "25-08-19 17:19:40.650 pyfstat.utils.sft INFO    : Loading 1 SFTs from H1...\n",
      "25-08-19 17:19:40.665 pyfstat.utils.sft INFO    : Loading 1 SFTs from H1...\n",
      "25-08-19 17:19:40.676 pyfstat.utils.sft INFO    : Loading 1 SFTs from H1...\n",
      "25-08-19 17:19:40.691 pyfstat.utils.sft INFO    : Loading 1 SFTs from H1...\n",
      "25-08-19 17:19:40.703 pyfstat.utils.sft INFO    : Loading 1 SFTs from H1...\n",
      "25-08-19 17:19:40.716 pyfstat.utils.sft INFO    : Loading 1 SFTs from H1...\n",
      "25-08-19 17:19:40.732 pyfstat.utils.sft INFO    : Loading 1 SFTs from H1...\n",
      "25-08-19 17:19:40.748 pyfstat.utils.sft INFO    : Loading 1 SFTs from H1...\n"
     ]
    },
    {
     "name": "stderr",
     "output_type": "stream",
     "text": [
      " 87%|████████▋ | 5011/5760 [01:17<00:10, 69.32it/s]"
     ]
    },
    {
     "name": "stdout",
     "output_type": "stream",
     "text": [
      "25-08-19 17:19:40.768 pyfstat.utils.sft INFO    : Loading 1 SFTs from H1...\n",
      "25-08-19 17:19:40.783 pyfstat.utils.sft INFO    : Loading 1 SFTs from H1...\n",
      "25-08-19 17:19:40.798 pyfstat.utils.sft INFO    : Loading 1 SFTs from H1...\n",
      "25-08-19 17:19:40.814 pyfstat.utils.sft INFO    : Loading 1 SFTs from H1...\n",
      "25-08-19 17:19:40.829 pyfstat.utils.sft INFO    : Loading 1 SFTs from H1...\n",
      "25-08-19 17:19:40.844 pyfstat.utils.sft INFO    : Loading 1 SFTs from H1...\n",
      "25-08-19 17:19:40.858 pyfstat.utils.sft INFO    : Loading 1 SFTs from H1...\n"
     ]
    },
    {
     "name": "stderr",
     "output_type": "stream",
     "text": [
      " 87%|████████▋ | 5018/5760 [01:17<00:10, 68.21it/s]"
     ]
    },
    {
     "name": "stdout",
     "output_type": "stream",
     "text": [
      "25-08-19 17:19:40.870 pyfstat.utils.sft INFO    : Loading 1 SFTs from H1...\n",
      "25-08-19 17:19:40.885 pyfstat.utils.sft INFO    : Loading 1 SFTs from H1...\n",
      "25-08-19 17:19:40.900 pyfstat.utils.sft INFO    : Loading 1 SFTs from H1...\n",
      "25-08-19 17:19:40.911 pyfstat.utils.sft INFO    : Loading 1 SFTs from H1...\n",
      "25-08-19 17:19:40.924 pyfstat.utils.sft INFO    : Loading 1 SFTs from H1...\n",
      "25-08-19 17:19:41.056 pyfstat.utils.sft INFO    : Loading 1 SFTs from H1...\n",
      "25-08-19 17:19:41.084 pyfstat.utils.sft INFO    : Loading 1 SFTs from H1...\n"
     ]
    },
    {
     "name": "stderr",
     "output_type": "stream",
     "text": [
      " 87%|████████▋ | 5025/5760 [01:17<00:14, 50.52it/s]"
     ]
    },
    {
     "name": "stdout",
     "output_type": "stream",
     "text": [
      "25-08-19 17:19:41.100 pyfstat.utils.sft INFO    : Loading 1 SFTs from H1...\n",
      "25-08-19 17:19:41.114 pyfstat.utils.sft INFO    : Loading 1 SFTs from H1...\n",
      "25-08-19 17:19:41.126 pyfstat.utils.sft INFO    : Loading 1 SFTs from H1...\n",
      "25-08-19 17:19:41.144 pyfstat.utils.sft INFO    : Loading 1 SFTs from H1...\n",
      "25-08-19 17:19:41.158 pyfstat.utils.sft INFO    : Loading 1 SFTs from H1...\n",
      "25-08-19 17:19:41.174 pyfstat.utils.sft INFO    : Loading 1 SFTs from H1...\n",
      "25-08-19 17:19:41.189 pyfstat.utils.sft INFO    : Loading 1 SFTs from H1...\n"
     ]
    },
    {
     "name": "stderr",
     "output_type": "stream",
     "text": [
      " 87%|████████▋ | 5032/5760 [01:17<00:13, 54.77it/s]"
     ]
    },
    {
     "name": "stdout",
     "output_type": "stream",
     "text": [
      "25-08-19 17:19:41.205 pyfstat.utils.sft INFO    : Loading 1 SFTs from H1...\n",
      "25-08-19 17:19:41.216 pyfstat.utils.sft INFO    : Loading 1 SFTs from H1...\n",
      "25-08-19 17:19:41.231 pyfstat.utils.sft INFO    : Loading 1 SFTs from H1...\n",
      "25-08-19 17:19:41.245 pyfstat.utils.sft INFO    : Loading 1 SFTs from H1...\n",
      "25-08-19 17:19:41.264 pyfstat.utils.sft INFO    : Loading 1 SFTs from H1...\n",
      "25-08-19 17:19:41.279 pyfstat.utils.sft INFO    : Loading 1 SFTs from H1...\n",
      "25-08-19 17:19:41.295 pyfstat.utils.sft INFO    : Loading 1 SFTs from H1...\n"
     ]
    },
    {
     "name": "stderr",
     "output_type": "stream",
     "text": [
      " 87%|████████▋ | 5039/5760 [01:18<00:12, 57.57it/s]"
     ]
    },
    {
     "name": "stdout",
     "output_type": "stream",
     "text": [
      "25-08-19 17:19:41.311 pyfstat.utils.sft INFO    : Loading 1 SFTs from H1...\n",
      "25-08-19 17:19:41.326 pyfstat.utils.sft INFO    : Loading 1 SFTs from H1...\n",
      "25-08-19 17:19:41.340 pyfstat.utils.sft INFO    : Loading 1 SFTs from H1...\n",
      "25-08-19 17:19:41.351 pyfstat.utils.sft INFO    : Loading 1 SFTs from H1...\n",
      "25-08-19 17:19:41.365 pyfstat.utils.sft INFO    : Loading 1 SFTs from H1...\n",
      "25-08-19 17:19:41.376 pyfstat.utils.sft INFO    : Loading 1 SFTs from H1...\n",
      "25-08-19 17:19:41.390 pyfstat.utils.sft INFO    : Loading 1 SFTs from H1...\n",
      "25-08-19 17:19:41.405 pyfstat.utils.sft INFO    : Loading 1 SFTs from H1...\n"
     ]
    },
    {
     "name": "stderr",
     "output_type": "stream",
     "text": [
      " 88%|████████▊ | 5047/5760 [01:18<00:11, 61.69it/s]"
     ]
    },
    {
     "name": "stdout",
     "output_type": "stream",
     "text": [
      "25-08-19 17:19:41.422 pyfstat.utils.sft INFO    : Loading 1 SFTs from H1...\n",
      "25-08-19 17:19:41.436 pyfstat.utils.sft INFO    : Loading 1 SFTs from H1...\n",
      "25-08-19 17:19:41.447 pyfstat.utils.sft INFO    : Loading 1 SFTs from H1...\n",
      "25-08-19 17:19:41.462 pyfstat.utils.sft INFO    : Loading 1 SFTs from H1...\n",
      "25-08-19 17:19:41.477 pyfstat.utils.sft INFO    : Loading 1 SFTs from H1...\n",
      "25-08-19 17:19:41.492 pyfstat.utils.sft INFO    : Loading 1 SFTs from H1...\n",
      "25-08-19 17:19:41.506 pyfstat.utils.sft INFO    : Loading 1 SFTs from H1...\n"
     ]
    },
    {
     "name": "stderr",
     "output_type": "stream",
     "text": [
      " 88%|████████▊ | 5054/5760 [01:18<00:11, 63.27it/s]"
     ]
    },
    {
     "name": "stdout",
     "output_type": "stream",
     "text": [
      "25-08-19 17:19:41.521 pyfstat.utils.sft INFO    : Loading 1 SFTs from H1...\n",
      "25-08-19 17:19:41.533 pyfstat.utils.sft INFO    : Loading 1 SFTs from H1...\n",
      "25-08-19 17:19:41.543 pyfstat.utils.sft INFO    : Loading 1 SFTs from H1...\n",
      "25-08-19 17:19:41.554 pyfstat.utils.sft INFO    : Loading 1 SFTs from H1...\n",
      "25-08-19 17:19:41.568 pyfstat.utils.sft INFO    : Loading 1 SFTs from H1...\n",
      "25-08-19 17:19:41.586 pyfstat.utils.sft INFO    : Loading 1 SFTs from H1...\n",
      "25-08-19 17:19:41.598 pyfstat.utils.sft INFO    : Loading 1 SFTs from H1...\n",
      "25-08-19 17:19:41.612 pyfstat.utils.sft INFO    : Loading 1 SFTs from H1...\n"
     ]
    },
    {
     "name": "stderr",
     "output_type": "stream",
     "text": [
      " 88%|████████▊ | 5062/5760 [01:18<00:10, 67.35it/s]"
     ]
    },
    {
     "name": "stdout",
     "output_type": "stream",
     "text": [
      "25-08-19 17:19:41.627 pyfstat.utils.sft INFO    : Loading 1 SFTs from H1...\n",
      "25-08-19 17:19:41.643 pyfstat.utils.sft INFO    : Loading 1 SFTs from H1...\n",
      "25-08-19 17:19:41.658 pyfstat.utils.sft INFO    : Loading 1 SFTs from H1...\n",
      "25-08-19 17:19:41.669 pyfstat.utils.sft INFO    : Loading 1 SFTs from H1...\n",
      "25-08-19 17:19:41.683 pyfstat.utils.sft INFO    : Loading 1 SFTs from H1...\n",
      "25-08-19 17:19:41.701 pyfstat.utils.sft INFO    : Loading 1 SFTs from H1...\n",
      "25-08-19 17:19:41.712 pyfstat.utils.sft INFO    : Loading 1 SFTs from H1...\n",
      "25-08-19 17:19:41.726 pyfstat.utils.sft INFO    : Loading 1 SFTs from H1...\n"
     ]
    },
    {
     "name": "stderr",
     "output_type": "stream",
     "text": [
      " 88%|████████▊ | 5070/5760 [01:18<00:10, 68.25it/s]"
     ]
    },
    {
     "name": "stdout",
     "output_type": "stream",
     "text": [
      "25-08-19 17:19:41.741 pyfstat.utils.sft INFO    : Loading 1 SFTs from H1...\n",
      "25-08-19 17:19:41.756 pyfstat.utils.sft INFO    : Loading 1 SFTs from H1...\n",
      "25-08-19 17:19:41.767 pyfstat.utils.sft INFO    : Loading 1 SFTs from H1...\n",
      "25-08-19 17:19:41.781 pyfstat.utils.sft INFO    : Loading 1 SFTs from H1...\n",
      "25-08-19 17:19:41.795 pyfstat.utils.sft INFO    : Loading 1 SFTs from H1...\n",
      "25-08-19 17:19:41.809 pyfstat.utils.sft INFO    : Loading 1 SFTs from H1...\n",
      "25-08-19 17:19:41.824 pyfstat.utils.sft INFO    : Loading 1 SFTs from H1...\n",
      "25-08-19 17:19:41.839 pyfstat.utils.sft INFO    : Loading 1 SFTs from H1...\n"
     ]
    },
    {
     "name": "stderr",
     "output_type": "stream",
     "text": [
      " 88%|████████▊ | 5078/5760 [01:18<00:09, 69.03it/s]"
     ]
    },
    {
     "name": "stdout",
     "output_type": "stream",
     "text": [
      "25-08-19 17:19:41.851 pyfstat.utils.sft INFO    : Loading 1 SFTs from H1...\n",
      "25-08-19 17:19:41.866 pyfstat.utils.sft INFO    : Loading 1 SFTs from H1...\n",
      "25-08-19 17:19:41.880 pyfstat.utils.sft INFO    : Loading 1 SFTs from H1...\n",
      "25-08-19 17:19:41.895 pyfstat.utils.sft INFO    : Loading 1 SFTs from H1...\n",
      "25-08-19 17:19:41.910 pyfstat.utils.sft INFO    : Loading 1 SFTs from H1...\n",
      "25-08-19 17:19:41.924 pyfstat.utils.sft INFO    : Loading 1 SFTs from H1...\n",
      "25-08-19 17:19:41.938 pyfstat.utils.sft INFO    : Loading 1 SFTs from H1...\n",
      "25-08-19 17:19:41.953 pyfstat.utils.sft INFO    : Loading 1 SFTs from H1...\n"
     ]
    },
    {
     "name": "stderr",
     "output_type": "stream",
     "text": [
      " 88%|████████▊ | 5086/5760 [01:18<00:09, 69.30it/s]"
     ]
    },
    {
     "name": "stdout",
     "output_type": "stream",
     "text": [
      "25-08-19 17:19:41.968 pyfstat.utils.sft INFO    : Loading 1 SFTs from H1...\n",
      "25-08-19 17:19:41.983 pyfstat.utils.sft INFO    : Loading 1 SFTs from H1...\n",
      "25-08-19 17:19:41.994 pyfstat.utils.sft INFO    : Loading 1 SFTs from H1...\n",
      "25-08-19 17:19:42.006 pyfstat.utils.sft INFO    : Loading 1 SFTs from H1...\n",
      "25-08-19 17:19:42.020 pyfstat.utils.sft INFO    : Loading 1 SFTs from H1...\n",
      "25-08-19 17:19:42.042 pyfstat.utils.sft INFO    : Loading 1 SFTs from H1...\n",
      "25-08-19 17:19:42.060 pyfstat.utils.sft INFO    : Loading 1 SFTs from H1...\n",
      "25-08-19 17:19:42.071 pyfstat.utils.sft INFO    : Loading 1 SFTs from H1...\n"
     ]
    },
    {
     "name": "stderr",
     "output_type": "stream",
     "text": [
      " 88%|████████▊ | 5094/5760 [01:18<00:09, 68.81it/s]"
     ]
    },
    {
     "name": "stdout",
     "output_type": "stream",
     "text": [
      "25-08-19 17:19:42.083 pyfstat.utils.sft INFO    : Loading 1 SFTs from H1...\n",
      "25-08-19 17:19:42.098 pyfstat.utils.sft INFO    : Loading 1 SFTs from H1...\n",
      "25-08-19 17:19:42.109 pyfstat.utils.sft INFO    : Loading 1 SFTs from H1...\n",
      "25-08-19 17:19:42.123 pyfstat.utils.sft INFO    : Loading 1 SFTs from H1...\n",
      "25-08-19 17:19:42.138 pyfstat.utils.sft INFO    : Loading 1 SFTs from H1...\n",
      "25-08-19 17:19:42.152 pyfstat.utils.sft INFO    : Loading 1 SFTs from H1...\n",
      "25-08-19 17:19:42.167 pyfstat.utils.sft INFO    : Loading 1 SFTs from H1...\n",
      "25-08-19 17:19:42.181 pyfstat.utils.sft INFO    : Loading 1 SFTs from H1...\n"
     ]
    },
    {
     "name": "stderr",
     "output_type": "stream",
     "text": [
      " 89%|████████▊ | 5102/5760 [01:18<00:09, 69.96it/s]"
     ]
    },
    {
     "name": "stdout",
     "output_type": "stream",
     "text": [
      "25-08-19 17:19:42.197 pyfstat.utils.sft INFO    : Loading 1 SFTs from H1...\n",
      "25-08-19 17:19:42.211 pyfstat.utils.sft INFO    : Loading 1 SFTs from H1...\n",
      "25-08-19 17:19:42.225 pyfstat.utils.sft INFO    : Loading 1 SFTs from H1...\n",
      "25-08-19 17:19:42.240 pyfstat.utils.sft INFO    : Loading 1 SFTs from H1...\n",
      "25-08-19 17:19:42.254 pyfstat.utils.sft INFO    : Loading 1 SFTs from H1...\n",
      "25-08-19 17:19:42.268 pyfstat.utils.sft INFO    : Loading 1 SFTs from H1...\n",
      "25-08-19 17:19:42.286 pyfstat.utils.sft INFO    : Loading 1 SFTs from H1...\n",
      "25-08-19 17:19:42.296 pyfstat.utils.sft INFO    : Loading 1 SFTs from H1...\n"
     ]
    },
    {
     "name": "stderr",
     "output_type": "stream",
     "text": [
      " 89%|████████▊ | 5110/5760 [01:19<00:09, 69.81it/s]"
     ]
    },
    {
     "name": "stdout",
     "output_type": "stream",
     "text": [
      "25-08-19 17:19:42.308 pyfstat.utils.sft INFO    : Loading 1 SFTs from H1...\n",
      "25-08-19 17:19:42.322 pyfstat.utils.sft INFO    : Loading 1 SFTs from H1...\n",
      "25-08-19 17:19:42.337 pyfstat.utils.sft INFO    : Loading 1 SFTs from H1...\n",
      "25-08-19 17:19:42.355 pyfstat.utils.sft INFO    : Loading 1 SFTs from H1...\n",
      "25-08-19 17:19:42.375 pyfstat.utils.sft INFO    : Loading 1 SFTs from H1...\n",
      "25-08-19 17:19:42.385 pyfstat.utils.sft INFO    : Loading 1 SFTs from H1...\n",
      "25-08-19 17:19:42.396 pyfstat.utils.sft INFO    : Loading 1 SFTs from H1...\n",
      "25-08-19 17:19:42.407 pyfstat.utils.sft INFO    : Loading 1 SFTs from H1...\n"
     ]
    },
    {
     "name": "stderr",
     "output_type": "stream",
     "text": [
      " 89%|████████▉ | 5118/5760 [01:19<00:09, 70.57it/s]"
     ]
    },
    {
     "name": "stdout",
     "output_type": "stream",
     "text": [
      "25-08-19 17:19:42.419 pyfstat.utils.sft INFO    : Loading 1 SFTs from H1...\n",
      "25-08-19 17:19:42.434 pyfstat.utils.sft INFO    : Loading 1 SFTs from H1...\n",
      "25-08-19 17:19:42.449 pyfstat.utils.sft INFO    : Loading 1 SFTs from H1...\n",
      "25-08-19 17:19:42.464 pyfstat.utils.sft INFO    : Loading 1 SFTs from H1...\n",
      "25-08-19 17:19:42.482 pyfstat.utils.sft INFO    : Loading 1 SFTs from H1...\n",
      "25-08-19 17:19:42.496 pyfstat.utils.sft INFO    : Loading 1 SFTs from H1...\n",
      "25-08-19 17:19:42.510 pyfstat.utils.sft INFO    : Loading 1 SFTs from H1...\n",
      "25-08-19 17:19:42.521 pyfstat.utils.sft INFO    : Loading 1 SFTs from H1...\n"
     ]
    },
    {
     "name": "stderr",
     "output_type": "stream",
     "text": [
      " 89%|████████▉ | 5126/5760 [01:19<00:08, 70.48it/s]"
     ]
    },
    {
     "name": "stdout",
     "output_type": "stream",
     "text": [
      "25-08-19 17:19:42.536 pyfstat.utils.sft INFO    : Loading 1 SFTs from H1...\n",
      "25-08-19 17:19:42.551 pyfstat.utils.sft INFO    : Loading 1 SFTs from H1...\n",
      "25-08-19 17:19:42.566 pyfstat.utils.sft INFO    : Loading 1 SFTs from H1...\n",
      "25-08-19 17:19:42.584 pyfstat.utils.sft INFO    : Loading 1 SFTs from H1...\n",
      "25-08-19 17:19:42.598 pyfstat.utils.sft INFO    : Loading 1 SFTs from H1...\n",
      "25-08-19 17:19:42.609 pyfstat.utils.sft INFO    : Loading 1 SFTs from H1...\n",
      "25-08-19 17:19:42.623 pyfstat.utils.sft INFO    : Loading 1 SFTs from H1...\n",
      "25-08-19 17:19:42.638 pyfstat.utils.sft INFO    : Loading 1 SFTs from H1...\n"
     ]
    },
    {
     "name": "stderr",
     "output_type": "stream",
     "text": [
      " 89%|████████▉ | 5134/5760 [01:19<00:09, 69.06it/s]"
     ]
    },
    {
     "name": "stdout",
     "output_type": "stream",
     "text": [
      "25-08-19 17:19:42.658 pyfstat.utils.sft INFO    : Loading 1 SFTs from H1...\n",
      "25-08-19 17:19:42.673 pyfstat.utils.sft INFO    : Loading 1 SFTs from H1...\n",
      "25-08-19 17:19:42.687 pyfstat.utils.sft INFO    : Loading 1 SFTs from H1...\n",
      "25-08-19 17:19:42.702 pyfstat.utils.sft INFO    : Loading 1 SFTs from H1...\n",
      "25-08-19 17:19:42.717 pyfstat.utils.sft INFO    : Loading 1 SFTs from H1...\n",
      "25-08-19 17:19:42.732 pyfstat.utils.sft INFO    : Loading 1 SFTs from H1...\n",
      "25-08-19 17:19:42.752 pyfstat.utils.sft INFO    : Loading 1 SFTs from H1...\n"
     ]
    },
    {
     "name": "stderr",
     "output_type": "stream",
     "text": [
      " 89%|████████▉ | 5141/5760 [01:19<00:09, 67.26it/s]"
     ]
    },
    {
     "name": "stdout",
     "output_type": "stream",
     "text": [
      "25-08-19 17:19:42.765 pyfstat.utils.sft INFO    : Loading 1 SFTs from H1...\n",
      "25-08-19 17:19:42.781 pyfstat.utils.sft INFO    : Loading 1 SFTs from H1...\n",
      "25-08-19 17:19:42.796 pyfstat.utils.sft INFO    : Loading 1 SFTs from H1...\n",
      "25-08-19 17:19:42.807 pyfstat.utils.sft INFO    : Loading 1 SFTs from H1...\n",
      "25-08-19 17:19:42.822 pyfstat.utils.sft INFO    : Loading 1 SFTs from H1...\n",
      "25-08-19 17:19:42.837 pyfstat.utils.sft INFO    : Loading 1 SFTs from H1...\n",
      "25-08-19 17:19:42.852 pyfstat.utils.sft INFO    : Loading 1 SFTs from H1...\n"
     ]
    },
    {
     "name": "stderr",
     "output_type": "stream",
     "text": [
      " 89%|████████▉ | 5148/5760 [01:19<00:09, 67.48it/s]"
     ]
    },
    {
     "name": "stdout",
     "output_type": "stream",
     "text": [
      "25-08-19 17:19:42.872 pyfstat.utils.sft INFO    : Loading 1 SFTs from H1...\n",
      "25-08-19 17:19:42.883 pyfstat.utils.sft INFO    : Loading 1 SFTs from H1...\n",
      "25-08-19 17:19:42.898 pyfstat.utils.sft INFO    : Loading 1 SFTs from H1...\n",
      "25-08-19 17:19:42.913 pyfstat.utils.sft INFO    : Loading 1 SFTs from H1...\n",
      "25-08-19 17:19:42.931 pyfstat.utils.sft INFO    : Loading 1 SFTs from H1...\n",
      "25-08-19 17:19:42.946 pyfstat.utils.sft INFO    : Loading 1 SFTs from H1...\n",
      "25-08-19 17:19:42.957 pyfstat.utils.sft INFO    : Loading 1 SFTs from H1...\n"
     ]
    },
    {
     "name": "stderr",
     "output_type": "stream",
     "text": [
      " 89%|████████▉ | 5155/5760 [01:19<00:08, 67.96it/s]"
     ]
    },
    {
     "name": "stdout",
     "output_type": "stream",
     "text": [
      "25-08-19 17:19:42.973 pyfstat.utils.sft INFO    : Loading 1 SFTs from H1...\n",
      "25-08-19 17:19:42.988 pyfstat.utils.sft INFO    : Loading 1 SFTs from H1...\n",
      "25-08-19 17:19:43.002 pyfstat.utils.sft INFO    : Loading 1 SFTs from H1...\n",
      "25-08-19 17:19:43.021 pyfstat.utils.sft INFO    : Loading 1 SFTs from H1...\n",
      "25-08-19 17:19:43.036 pyfstat.utils.sft INFO    : Loading 1 SFTs from H1...\n",
      "25-08-19 17:19:43.050 pyfstat.utils.sft INFO    : Loading 1 SFTs from H1...\n",
      "25-08-19 17:19:43.066 pyfstat.utils.sft INFO    : Loading 1 SFTs from H1...\n"
     ]
    },
    {
     "name": "stderr",
     "output_type": "stream",
     "text": [
      " 90%|████████▉ | 5162/5760 [01:19<00:08, 66.95it/s]"
     ]
    },
    {
     "name": "stdout",
     "output_type": "stream",
     "text": [
      "25-08-19 17:19:43.077 pyfstat.utils.sft INFO    : Loading 1 SFTs from H1...\n",
      "25-08-19 17:19:43.092 pyfstat.utils.sft INFO    : Loading 1 SFTs from H1...\n",
      "25-08-19 17:19:43.107 pyfstat.utils.sft INFO    : Loading 1 SFTs from H1...\n",
      "25-08-19 17:19:43.119 pyfstat.utils.sft INFO    : Loading 1 SFTs from H1...\n",
      "25-08-19 17:19:43.130 pyfstat.utils.sft INFO    : Loading 1 SFTs from H1...\n",
      "25-08-19 17:19:43.145 pyfstat.utils.sft INFO    : Loading 1 SFTs from H1...\n",
      "25-08-19 17:19:43.160 pyfstat.utils.sft INFO    : Loading 1 SFTs from H1...\n",
      "25-08-19 17:19:43.171 pyfstat.utils.sft INFO    : Loading 1 SFTs from H1...\n"
     ]
    },
    {
     "name": "stderr",
     "output_type": "stream",
     "text": [
      " 90%|████████▉ | 5170/5760 [01:19<00:08, 69.58it/s]"
     ]
    },
    {
     "name": "stdout",
     "output_type": "stream",
     "text": [
      "25-08-19 17:19:43.183 pyfstat.utils.sft INFO    : Loading 1 SFTs from H1...\n",
      "25-08-19 17:19:43.194 pyfstat.utils.sft INFO    : Loading 1 SFTs from H1...\n",
      "25-08-19 17:19:43.208 pyfstat.utils.sft INFO    : Loading 1 SFTs from H1...\n",
      "25-08-19 17:19:43.222 pyfstat.utils.sft INFO    : Loading 1 SFTs from H1...\n",
      "25-08-19 17:19:43.236 pyfstat.utils.sft INFO    : Loading 1 SFTs from H1...\n",
      "25-08-19 17:19:43.250 pyfstat.utils.sft INFO    : Loading 1 SFTs from H1...\n",
      "25-08-19 17:19:43.268 pyfstat.utils.sft INFO    : Loading 1 SFTs from H1...\n",
      "25-08-19 17:19:43.280 pyfstat.utils.sft INFO    : Loading 1 SFTs from H1...\n"
     ]
    },
    {
     "name": "stderr",
     "output_type": "stream",
     "text": [
      " 90%|████████▉ | 5178/5760 [01:20<00:08, 70.75it/s]"
     ]
    },
    {
     "name": "stdout",
     "output_type": "stream",
     "text": [
      "25-08-19 17:19:43.292 pyfstat.utils.sft INFO    : Loading 1 SFTs from H1...\n",
      "25-08-19 17:19:43.310 pyfstat.utils.sft INFO    : Loading 1 SFTs from H1...\n",
      "25-08-19 17:19:43.324 pyfstat.utils.sft INFO    : Loading 1 SFTs from H1...\n",
      "25-08-19 17:19:43.339 pyfstat.utils.sft INFO    : Loading 1 SFTs from H1...\n",
      "25-08-19 17:19:43.354 pyfstat.utils.sft INFO    : Loading 1 SFTs from H1...\n",
      "25-08-19 17:19:43.365 pyfstat.utils.sft INFO    : Loading 1 SFTs from H1...\n",
      "25-08-19 17:19:43.380 pyfstat.utils.sft INFO    : Loading 1 SFTs from H1...\n",
      "25-08-19 17:19:43.396 pyfstat.utils.sft INFO    : Loading 1 SFTs from H1...\n"
     ]
    },
    {
     "name": "stderr",
     "output_type": "stream",
     "text": [
      " 90%|█████████ | 5186/5760 [01:20<00:08, 70.20it/s]"
     ]
    },
    {
     "name": "stdout",
     "output_type": "stream",
     "text": [
      "25-08-19 17:19:43.411 pyfstat.utils.sft INFO    : Loading 1 SFTs from H1...\n",
      "25-08-19 17:19:43.427 pyfstat.utils.sft INFO    : Loading 1 SFTs from H1...\n",
      "25-08-19 17:19:43.442 pyfstat.utils.sft INFO    : Loading 1 SFTs from H1...\n",
      "25-08-19 17:19:43.453 pyfstat.utils.sft INFO    : Loading 1 SFTs from H1...\n",
      "25-08-19 17:19:43.467 pyfstat.utils.sft INFO    : Loading 1 SFTs from H1...\n",
      "25-08-19 17:19:43.482 pyfstat.utils.sft INFO    : Loading 1 SFTs from H1...\n",
      "25-08-19 17:19:43.497 pyfstat.utils.sft INFO    : Loading 1 SFTs from H1...\n",
      "25-08-19 17:19:43.512 pyfstat.utils.sft INFO    : Loading 1 SFTs from H1...\n"
     ]
    },
    {
     "name": "stderr",
     "output_type": "stream",
     "text": [
      " 90%|█████████ | 5194/5760 [01:20<00:08, 69.64it/s]"
     ]
    },
    {
     "name": "stdout",
     "output_type": "stream",
     "text": [
      "25-08-19 17:19:43.525 pyfstat.utils.sft INFO    : Loading 1 SFTs from H1...\n",
      "25-08-19 17:19:43.540 pyfstat.utils.sft INFO    : Loading 1 SFTs from H1...\n",
      "25-08-19 17:19:43.558 pyfstat.utils.sft INFO    : Loading 1 SFTs from H1...\n",
      "25-08-19 17:19:43.573 pyfstat.utils.sft INFO    : Loading 1 SFTs from H1...\n",
      "25-08-19 17:19:43.588 pyfstat.utils.sft INFO    : Loading 1 SFTs from H1...\n",
      "25-08-19 17:19:43.599 pyfstat.utils.sft INFO    : Loading 1 SFTs from H1...\n",
      "25-08-19 17:19:43.615 pyfstat.utils.sft INFO    : Loading 1 SFTs from H1...\n"
     ]
    },
    {
     "name": "stderr",
     "output_type": "stream",
     "text": [
      " 90%|█████████ | 5201/5760 [01:20<00:08, 69.37it/s]"
     ]
    },
    {
     "name": "stdout",
     "output_type": "stream",
     "text": [
      "25-08-19 17:19:43.626 pyfstat.utils.sft INFO    : Loading 1 SFTs from H1...\n",
      "25-08-19 17:19:43.642 pyfstat.utils.sft INFO    : Loading 1 SFTs from H1...\n",
      "25-08-19 17:19:43.656 pyfstat.utils.sft INFO    : Loading 1 SFTs from H1...\n",
      "25-08-19 17:19:43.671 pyfstat.utils.sft INFO    : Loading 1 SFTs from H1...\n",
      "25-08-19 17:19:43.690 pyfstat.utils.sft INFO    : Loading 1 SFTs from H1...\n",
      "25-08-19 17:19:43.701 pyfstat.utils.sft INFO    : Loading 1 SFTs from H1...\n",
      "25-08-19 17:19:43.716 pyfstat.utils.sft INFO    : Loading 1 SFTs from H1...\n"
     ]
    },
    {
     "name": "stderr",
     "output_type": "stream",
     "text": [
      " 90%|█████████ | 5208/5760 [01:20<00:08, 68.58it/s]"
     ]
    },
    {
     "name": "stdout",
     "output_type": "stream",
     "text": [
      "25-08-19 17:19:43.735 pyfstat.utils.sft INFO    : Loading 1 SFTs from H1...\n",
      "25-08-19 17:19:43.747 pyfstat.utils.sft INFO    : Loading 1 SFTs from H1...\n",
      "25-08-19 17:19:43.762 pyfstat.utils.sft INFO    : Loading 1 SFTs from H1...\n",
      "25-08-19 17:19:43.773 pyfstat.utils.sft INFO    : Loading 1 SFTs from H1...\n",
      "25-08-19 17:19:43.784 pyfstat.utils.sft INFO    : Loading 1 SFTs from H1...\n",
      "25-08-19 17:19:43.799 pyfstat.utils.sft INFO    : Loading 1 SFTs from H1...\n",
      "25-08-19 17:19:43.815 pyfstat.utils.sft INFO    : Loading 1 SFTs from H1...\n",
      "25-08-19 17:19:43.826 pyfstat.utils.sft INFO    : Loading 1 SFTs from H1...\n"
     ]
    },
    {
     "name": "stderr",
     "output_type": "stream",
     "text": [
      " 91%|█████████ | 5216/5760 [01:20<00:07, 70.39it/s]"
     ]
    },
    {
     "name": "stdout",
     "output_type": "stream",
     "text": [
      "25-08-19 17:19:43.843 pyfstat.utils.sft INFO    : Loading 1 SFTs from H1...\n",
      "25-08-19 17:19:43.855 pyfstat.utils.sft INFO    : Loading 1 SFTs from H1...\n",
      "25-08-19 17:19:43.869 pyfstat.utils.sft INFO    : Loading 1 SFTs from H1...\n",
      "25-08-19 17:19:43.884 pyfstat.utils.sft INFO    : Loading 1 SFTs from H1...\n",
      "25-08-19 17:19:43.898 pyfstat.utils.sft INFO    : Loading 1 SFTs from H1...\n",
      "25-08-19 17:19:43.909 pyfstat.utils.sft INFO    : Loading 1 SFTs from H1...\n",
      "25-08-19 17:19:43.924 pyfstat.utils.sft INFO    : Loading 1 SFTs from H1...\n",
      "25-08-19 17:19:43.939 pyfstat.utils.sft INFO    : Loading 1 SFTs from H1...\n"
     ]
    },
    {
     "name": "stderr",
     "output_type": "stream",
     "text": [
      " 91%|█████████ | 5224/5760 [01:20<00:07, 70.67it/s]"
     ]
    },
    {
     "name": "stdout",
     "output_type": "stream",
     "text": [
      "25-08-19 17:19:43.955 pyfstat.utils.sft INFO    : Loading 1 SFTs from H1...\n",
      "25-08-19 17:19:43.969 pyfstat.utils.sft INFO    : Loading 1 SFTs from H1...\n",
      "25-08-19 17:19:43.983 pyfstat.utils.sft INFO    : Loading 1 SFTs from H1...\n",
      "25-08-19 17:19:43.998 pyfstat.utils.sft INFO    : Loading 1 SFTs from H1...\n",
      "25-08-19 17:19:44.009 pyfstat.utils.sft INFO    : Loading 1 SFTs from H1...\n",
      "25-08-19 17:19:44.024 pyfstat.utils.sft INFO    : Loading 1 SFTs from H1...\n",
      "25-08-19 17:19:44.038 pyfstat.utils.sft INFO    : Loading 1 SFTs from H1...\n",
      "25-08-19 17:19:44.049 pyfstat.utils.sft INFO    : Loading 1 SFTs from H1...\n"
     ]
    },
    {
     "name": "stderr",
     "output_type": "stream",
     "text": [
      " 91%|█████████ | 5232/5760 [01:20<00:07, 71.24it/s]"
     ]
    },
    {
     "name": "stdout",
     "output_type": "stream",
     "text": [
      "25-08-19 17:19:44.065 pyfstat.utils.sft INFO    : Loading 1 SFTs from H1...\n",
      "25-08-19 17:19:44.076 pyfstat.utils.sft INFO    : Loading 1 SFTs from H1...\n",
      "25-08-19 17:19:44.087 pyfstat.utils.sft INFO    : Loading 1 SFTs from H1...\n",
      "25-08-19 17:19:44.102 pyfstat.utils.sft INFO    : Loading 1 SFTs from H1...\n",
      "25-08-19 17:19:44.117 pyfstat.utils.sft INFO    : Loading 1 SFTs from H1...\n",
      "25-08-19 17:19:44.132 pyfstat.utils.sft INFO    : Loading 1 SFTs from H1...\n",
      "25-08-19 17:19:44.147 pyfstat.utils.sft INFO    : Loading 1 SFTs from H1...\n",
      "25-08-19 17:19:44.162 pyfstat.utils.sft INFO    : Loading 1 SFTs from H1...\n"
     ]
    },
    {
     "name": "stderr",
     "output_type": "stream",
     "text": [
      " 91%|█████████ | 5240/5760 [01:20<00:07, 71.10it/s]"
     ]
    },
    {
     "name": "stdout",
     "output_type": "stream",
     "text": [
      "25-08-19 17:19:44.178 pyfstat.utils.sft INFO    : Loading 1 SFTs from H1...\n",
      "25-08-19 17:19:44.193 pyfstat.utils.sft INFO    : Loading 1 SFTs from H1...\n",
      "25-08-19 17:19:44.207 pyfstat.utils.sft INFO    : Loading 1 SFTs from H1...\n",
      "25-08-19 17:19:44.222 pyfstat.utils.sft INFO    : Loading 1 SFTs from H1...\n",
      "25-08-19 17:19:44.238 pyfstat.utils.sft INFO    : Loading 1 SFTs from H1...\n",
      "25-08-19 17:19:44.249 pyfstat.utils.sft INFO    : Loading 1 SFTs from H1...\n",
      "25-08-19 17:19:44.264 pyfstat.utils.sft INFO    : Loading 1 SFTs from H1...\n",
      "25-08-19 17:19:44.279 pyfstat.utils.sft INFO    : Loading 1 SFTs from H1...\n"
     ]
    },
    {
     "name": "stderr",
     "output_type": "stream",
     "text": [
      " 91%|█████████ | 5248/5760 [01:21<00:07, 70.23it/s]"
     ]
    },
    {
     "name": "stdout",
     "output_type": "stream",
     "text": [
      "25-08-19 17:19:44.295 pyfstat.utils.sft INFO    : Loading 1 SFTs from H1...\n",
      "25-08-19 17:19:44.310 pyfstat.utils.sft INFO    : Loading 1 SFTs from H1...\n",
      "25-08-19 17:19:44.325 pyfstat.utils.sft INFO    : Loading 1 SFTs from H1...\n",
      "25-08-19 17:19:44.340 pyfstat.utils.sft INFO    : Loading 1 SFTs from H1...\n",
      "25-08-19 17:19:44.354 pyfstat.utils.sft INFO    : Loading 1 SFTs from H1...\n",
      "25-08-19 17:19:44.370 pyfstat.utils.sft INFO    : Loading 1 SFTs from H1...\n",
      "25-08-19 17:19:44.385 pyfstat.utils.sft INFO    : Loading 1 SFTs from H1...\n",
      "25-08-19 17:19:44.396 pyfstat.utils.sft INFO    : Loading 1 SFTs from H1...\n"
     ]
    },
    {
     "name": "stderr",
     "output_type": "stream",
     "text": [
      " 91%|█████████▏| 5256/5760 [01:21<00:07, 69.71it/s]"
     ]
    },
    {
     "name": "stdout",
     "output_type": "stream",
     "text": [
      "25-08-19 17:19:44.408 pyfstat.utils.sft INFO    : Loading 1 SFTs from H1...\n",
      "25-08-19 17:19:44.423 pyfstat.utils.sft INFO    : Loading 1 SFTs from H1...\n",
      "25-08-19 17:19:44.439 pyfstat.utils.sft INFO    : Loading 1 SFTs from H1...\n",
      "25-08-19 17:19:44.453 pyfstat.utils.sft INFO    : Loading 1 SFTs from H1...\n",
      "25-08-19 17:19:44.472 pyfstat.utils.sft INFO    : Loading 1 SFTs from H1...\n",
      "25-08-19 17:19:44.491 pyfstat.utils.sft INFO    : Loading 1 SFTs from H1...\n",
      "25-08-19 17:19:44.503 pyfstat.utils.sft INFO    : Loading 1 SFTs from H1...\n"
     ]
    },
    {
     "name": "stderr",
     "output_type": "stream",
     "text": [
      " 91%|█████████▏| 5263/5760 [01:21<00:07, 68.60it/s]"
     ]
    },
    {
     "name": "stdout",
     "output_type": "stream",
     "text": [
      "25-08-19 17:19:44.514 pyfstat.utils.sft INFO    : Loading 1 SFTs from H1...\n",
      "25-08-19 17:19:44.526 pyfstat.utils.sft INFO    : Loading 1 SFTs from H1...\n",
      "25-08-19 17:19:44.540 pyfstat.utils.sft INFO    : Loading 1 SFTs from H1...\n",
      "25-08-19 17:19:44.554 pyfstat.utils.sft INFO    : Loading 1 SFTs from H1...\n",
      "25-08-19 17:19:44.569 pyfstat.utils.sft INFO    : Loading 1 SFTs from H1...\n",
      "25-08-19 17:19:44.584 pyfstat.utils.sft INFO    : Loading 1 SFTs from H1...\n",
      "25-08-19 17:19:44.598 pyfstat.utils.sft INFO    : Loading 1 SFTs from H1...\n",
      "25-08-19 17:19:44.612 pyfstat.utils.sft INFO    : Loading 1 SFTs from H1...\n"
     ]
    },
    {
     "name": "stderr",
     "output_type": "stream",
     "text": [
      " 92%|█████████▏| 5271/5760 [01:21<00:06, 69.96it/s]"
     ]
    },
    {
     "name": "stdout",
     "output_type": "stream",
     "text": [
      "25-08-19 17:19:44.628 pyfstat.utils.sft INFO    : Loading 1 SFTs from H1...\n",
      "25-08-19 17:19:44.646 pyfstat.utils.sft INFO    : Loading 1 SFTs from H1...\n",
      "25-08-19 17:19:44.660 pyfstat.utils.sft INFO    : Loading 1 SFTs from H1...\n",
      "25-08-19 17:19:44.671 pyfstat.utils.sft INFO    : Loading 1 SFTs from H1...\n",
      "25-08-19 17:19:44.686 pyfstat.utils.sft INFO    : Loading 1 SFTs from H1...\n",
      "25-08-19 17:19:44.701 pyfstat.utils.sft INFO    : Loading 1 SFTs from H1...\n",
      "25-08-19 17:19:44.713 pyfstat.utils.sft INFO    : Loading 1 SFTs from H1...\n"
     ]
    },
    {
     "name": "stderr",
     "output_type": "stream",
     "text": [
      " 92%|█████████▏| 5278/5760 [01:21<00:06, 69.60it/s]"
     ]
    },
    {
     "name": "stdout",
     "output_type": "stream",
     "text": [
      "25-08-19 17:19:44.730 pyfstat.utils.sft INFO    : Loading 1 SFTs from H1...\n",
      "25-08-19 17:19:44.745 pyfstat.utils.sft INFO    : Loading 1 SFTs from H1...\n",
      "25-08-19 17:19:44.760 pyfstat.utils.sft INFO    : Loading 1 SFTs from H1...\n",
      "25-08-19 17:19:44.772 pyfstat.utils.sft INFO    : Loading 1 SFTs from H1...\n",
      "25-08-19 17:19:44.783 pyfstat.utils.sft INFO    : Loading 1 SFTs from H1...\n",
      "25-08-19 17:19:44.794 pyfstat.utils.sft INFO    : Loading 1 SFTs from H1...\n",
      "25-08-19 17:19:44.808 pyfstat.utils.sft INFO    : Loading 1 SFTs from H1...\n",
      "25-08-19 17:19:44.823 pyfstat.utils.sft INFO    : Loading 1 SFTs from H1...\n"
     ]
    },
    {
     "name": "stderr",
     "output_type": "stream",
     "text": [
      " 92%|█████████▏| 5286/5760 [01:21<00:06, 70.59it/s]"
     ]
    },
    {
     "name": "stdout",
     "output_type": "stream",
     "text": [
      "25-08-19 17:19:44.839 pyfstat.utils.sft INFO    : Loading 1 SFTs from H1...\n",
      "25-08-19 17:19:44.854 pyfstat.utils.sft INFO    : Loading 1 SFTs from H1...\n",
      "25-08-19 17:19:44.869 pyfstat.utils.sft INFO    : Loading 1 SFTs from H1...\n",
      "25-08-19 17:19:44.880 pyfstat.utils.sft INFO    : Loading 1 SFTs from H1...\n",
      "25-08-19 17:19:44.891 pyfstat.utils.sft INFO    : Loading 1 SFTs from H1...\n",
      "25-08-19 17:19:44.906 pyfstat.utils.sft INFO    : Loading 1 SFTs from H1...\n",
      "25-08-19 17:19:44.921 pyfstat.utils.sft INFO    : Loading 1 SFTs from H1...\n",
      "25-08-19 17:19:44.932 pyfstat.utils.sft INFO    : Loading 1 SFTs from H1...\n"
     ]
    },
    {
     "name": "stderr",
     "output_type": "stream",
     "text": [
      " 92%|█████████▏| 5294/5760 [01:21<00:06, 71.43it/s]"
     ]
    },
    {
     "name": "stdout",
     "output_type": "stream",
     "text": [
      "25-08-19 17:19:44.948 pyfstat.utils.sft INFO    : Loading 1 SFTs from H1...\n",
      "25-08-19 17:19:44.967 pyfstat.utils.sft INFO    : Loading 1 SFTs from H1...\n",
      "25-08-19 17:19:44.982 pyfstat.utils.sft INFO    : Loading 1 SFTs from H1...\n",
      "25-08-19 17:19:44.997 pyfstat.utils.sft INFO    : Loading 1 SFTs from H1...\n",
      "25-08-19 17:19:45.008 pyfstat.utils.sft INFO    : Loading 1 SFTs from H1...\n",
      "25-08-19 17:19:45.019 pyfstat.utils.sft INFO    : Loading 1 SFTs from H1...\n",
      "25-08-19 17:19:45.030 pyfstat.utils.sft INFO    : Loading 1 SFTs from H1...\n",
      "25-08-19 17:19:45.046 pyfstat.utils.sft INFO    : Loading 1 SFTs from H1...\n"
     ]
    },
    {
     "name": "stderr",
     "output_type": "stream",
     "text": [
      " 92%|█████████▏| 5302/5760 [01:21<00:06, 70.54it/s]"
     ]
    },
    {
     "name": "stdout",
     "output_type": "stream",
     "text": [
      "25-08-19 17:19:45.065 pyfstat.utils.sft INFO    : Loading 1 SFTs from H1...\n",
      "25-08-19 17:19:45.084 pyfstat.utils.sft INFO    : Loading 1 SFTs from H1...\n",
      "25-08-19 17:19:45.099 pyfstat.utils.sft INFO    : Loading 1 SFTs from H1...\n",
      "25-08-19 17:19:45.111 pyfstat.utils.sft INFO    : Loading 1 SFTs from H1...\n",
      "25-08-19 17:19:45.126 pyfstat.utils.sft INFO    : Loading 1 SFTs from H1...\n",
      "25-08-19 17:19:45.141 pyfstat.utils.sft INFO    : Loading 1 SFTs from H1...\n",
      "25-08-19 17:19:45.159 pyfstat.utils.sft INFO    : Loading 1 SFTs from H1...\n",
      "25-08-19 17:19:45.174 pyfstat.utils.sft INFO    : Loading 1 SFTs from H1...\n"
     ]
    },
    {
     "name": "stderr",
     "output_type": "stream",
     "text": [
      " 92%|█████████▏| 5310/5760 [01:21<00:06, 67.83it/s]"
     ]
    },
    {
     "name": "stdout",
     "output_type": "stream",
     "text": [
      "25-08-19 17:19:45.189 pyfstat.utils.sft INFO    : Loading 1 SFTs from H1...\n",
      "25-08-19 17:19:45.204 pyfstat.utils.sft INFO    : Loading 1 SFTs from H1...\n",
      "25-08-19 17:19:45.214 pyfstat.utils.sft INFO    : Loading 1 SFTs from H1...\n",
      "25-08-19 17:19:45.228 pyfstat.utils.sft INFO    : Loading 1 SFTs from H1...\n",
      "25-08-19 17:19:45.242 pyfstat.utils.sft INFO    : Loading 1 SFTs from H1...\n",
      "25-08-19 17:19:45.256 pyfstat.utils.sft INFO    : Loading 1 SFTs from H1...\n",
      "25-08-19 17:19:45.271 pyfstat.utils.sft INFO    : Loading 1 SFTs from H1...\n",
      "25-08-19 17:19:45.286 pyfstat.utils.sft INFO    : Loading 1 SFTs from H1...\n"
     ]
    },
    {
     "name": "stderr",
     "output_type": "stream",
     "text": [
      " 92%|█████████▏| 5318/5760 [01:22<00:06, 69.56it/s]"
     ]
    },
    {
     "name": "stdout",
     "output_type": "stream",
     "text": [
      "25-08-19 17:19:45.301 pyfstat.utils.sft INFO    : Loading 1 SFTs from H1...\n",
      "25-08-19 17:19:45.315 pyfstat.utils.sft INFO    : Loading 1 SFTs from H1...\n",
      "25-08-19 17:19:45.333 pyfstat.utils.sft INFO    : Loading 1 SFTs from H1...\n",
      "25-08-19 17:19:45.344 pyfstat.utils.sft INFO    : Loading 1 SFTs from H1...\n",
      "25-08-19 17:19:45.357 pyfstat.utils.sft INFO    : Loading 1 SFTs from H1...\n",
      "25-08-19 17:19:45.371 pyfstat.utils.sft INFO    : Loading 1 SFTs from H1...\n",
      "25-08-19 17:19:45.386 pyfstat.utils.sft INFO    : Loading 1 SFTs from H1...\n"
     ]
    },
    {
     "name": "stderr",
     "output_type": "stream",
     "text": [
      " 92%|█████████▏| 5325/5760 [01:22<00:06, 68.86it/s]"
     ]
    },
    {
     "name": "stdout",
     "output_type": "stream",
     "text": [
      "25-08-19 17:19:45.402 pyfstat.utils.sft INFO    : Loading 1 SFTs from H1...\n",
      "25-08-19 17:19:45.414 pyfstat.utils.sft INFO    : Loading 1 SFTs from H1...\n",
      "25-08-19 17:19:45.429 pyfstat.utils.sft INFO    : Loading 1 SFTs from H1...\n",
      "25-08-19 17:19:45.444 pyfstat.utils.sft INFO    : Loading 1 SFTs from H1...\n",
      "25-08-19 17:19:45.458 pyfstat.utils.sft INFO    : Loading 1 SFTs from H1...\n",
      "25-08-19 17:19:45.469 pyfstat.utils.sft INFO    : Loading 1 SFTs from H1...\n",
      "25-08-19 17:19:45.479 pyfstat.utils.sft INFO    : Loading 1 SFTs from H1...\n",
      "25-08-19 17:19:45.489 pyfstat.utils.sft INFO    : Loading 1 SFTs from H1...\n",
      "25-08-19 17:19:45.503 pyfstat.utils.sft INFO    : Loading 1 SFTs from H1...\n"
     ]
    },
    {
     "name": "stderr",
     "output_type": "stream",
     "text": [
      " 93%|█████████▎| 5334/5760 [01:22<00:05, 72.13it/s]"
     ]
    },
    {
     "name": "stdout",
     "output_type": "stream",
     "text": [
      "25-08-19 17:19:45.515 pyfstat.utils.sft INFO    : Loading 1 SFTs from H1...\n",
      "25-08-19 17:19:45.530 pyfstat.utils.sft INFO    : Loading 1 SFTs from H1...\n",
      "25-08-19 17:19:45.547 pyfstat.utils.sft INFO    : Loading 1 SFTs from H1...\n",
      "25-08-19 17:19:45.557 pyfstat.utils.sft INFO    : Loading 1 SFTs from H1...\n",
      "25-08-19 17:19:45.572 pyfstat.utils.sft INFO    : Loading 1 SFTs from H1...\n",
      "25-08-19 17:19:45.590 pyfstat.utils.sft INFO    : Loading 1 SFTs from H1...\n",
      "25-08-19 17:19:45.601 pyfstat.utils.sft INFO    : Loading 1 SFTs from H1...\n",
      "25-08-19 17:19:45.616 pyfstat.utils.sft INFO    : Loading 1 SFTs from H1...\n"
     ]
    },
    {
     "name": "stderr",
     "output_type": "stream",
     "text": [
      " 93%|█████████▎| 5342/5760 [01:22<00:05, 71.10it/s]"
     ]
    },
    {
     "name": "stdout",
     "output_type": "stream",
     "text": [
      "25-08-19 17:19:45.635 pyfstat.utils.sft INFO    : Loading 1 SFTs from H1...\n",
      "25-08-19 17:19:45.646 pyfstat.utils.sft INFO    : Loading 1 SFTs from H1...\n",
      "25-08-19 17:19:45.657 pyfstat.utils.sft INFO    : Loading 1 SFTs from H1...\n",
      "25-08-19 17:19:45.671 pyfstat.utils.sft INFO    : Loading 1 SFTs from H1...\n",
      "25-08-19 17:19:45.681 pyfstat.utils.sft INFO    : Loading 1 SFTs from H1...\n",
      "25-08-19 17:19:45.691 pyfstat.utils.sft INFO    : Loading 1 SFTs from H1...\n",
      "25-08-19 17:19:45.706 pyfstat.utils.sft INFO    : Loading 1 SFTs from H1...\n",
      "25-08-19 17:19:45.721 pyfstat.utils.sft INFO    : Loading 1 SFTs from H1...\n"
     ]
    },
    {
     "name": "stderr",
     "output_type": "stream",
     "text": [
      " 93%|█████████▎| 5350/5760 [01:22<00:05, 73.29it/s]"
     ]
    },
    {
     "name": "stdout",
     "output_type": "stream",
     "text": [
      "25-08-19 17:19:45.737 pyfstat.utils.sft INFO    : Loading 1 SFTs from H1...\n",
      "25-08-19 17:19:45.755 pyfstat.utils.sft INFO    : Loading 1 SFTs from H1...\n",
      "25-08-19 17:19:45.770 pyfstat.utils.sft INFO    : Loading 1 SFTs from H1...\n",
      "25-08-19 17:19:45.781 pyfstat.utils.sft INFO    : Loading 1 SFTs from H1...\n",
      "25-08-19 17:19:45.795 pyfstat.utils.sft INFO    : Loading 1 SFTs from H1...\n",
      "25-08-19 17:19:45.806 pyfstat.utils.sft INFO    : Loading 1 SFTs from H1...\n",
      "25-08-19 17:19:45.817 pyfstat.utils.sft INFO    : Loading 1 SFTs from H1...\n",
      "25-08-19 17:19:45.829 pyfstat.utils.sft INFO    : Loading 1 SFTs from H1...\n"
     ]
    },
    {
     "name": "stderr",
     "output_type": "stream",
     "text": [
      " 93%|█████████▎| 5358/5760 [01:22<00:05, 73.52it/s]"
     ]
    },
    {
     "name": "stdout",
     "output_type": "stream",
     "text": [
      "25-08-19 17:19:45.844 pyfstat.utils.sft INFO    : Loading 1 SFTs from H1...\n",
      "25-08-19 17:19:45.863 pyfstat.utils.sft INFO    : Loading 1 SFTs from H1...\n",
      "25-08-19 17:19:45.874 pyfstat.utils.sft INFO    : Loading 1 SFTs from H1...\n",
      "25-08-19 17:19:45.890 pyfstat.utils.sft INFO    : Loading 1 SFTs from H1...\n",
      "25-08-19 17:19:45.901 pyfstat.utils.sft INFO    : Loading 1 SFTs from H1...\n",
      "25-08-19 17:19:45.915 pyfstat.utils.sft INFO    : Loading 1 SFTs from H1...\n",
      "25-08-19 17:19:45.931 pyfstat.utils.sft INFO    : Loading 1 SFTs from H1...\n",
      "25-08-19 17:19:45.945 pyfstat.utils.sft INFO    : Loading 1 SFTs from H1...\n"
     ]
    },
    {
     "name": "stderr",
     "output_type": "stream",
     "text": [
      " 93%|█████████▎| 5366/5760 [01:22<00:05, 71.24it/s]"
     ]
    },
    {
     "name": "stdout",
     "output_type": "stream",
     "text": [
      "25-08-19 17:19:45.965 pyfstat.utils.sft INFO    : Loading 1 SFTs from H1...\n",
      "25-08-19 17:19:45.980 pyfstat.utils.sft INFO    : Loading 1 SFTs from H1...\n",
      "25-08-19 17:19:45.998 pyfstat.utils.sft INFO    : Loading 1 SFTs from H1...\n",
      "25-08-19 17:19:46.008 pyfstat.utils.sft INFO    : Loading 1 SFTs from H1...\n",
      "25-08-19 17:19:46.022 pyfstat.utils.sft INFO    : Loading 1 SFTs from H1...\n",
      "25-08-19 17:19:46.034 pyfstat.utils.sft INFO    : Loading 1 SFTs from H1...\n",
      "25-08-19 17:19:46.048 pyfstat.utils.sft INFO    : Loading 1 SFTs from H1...\n",
      "25-08-19 17:19:46.065 pyfstat.utils.sft INFO    : Loading 1 SFTs from H1...\n"
     ]
    },
    {
     "name": "stderr",
     "output_type": "stream",
     "text": [
      " 93%|█████████▎| 5374/5760 [01:22<00:05, 70.48it/s]"
     ]
    },
    {
     "name": "stdout",
     "output_type": "stream",
     "text": [
      "25-08-19 17:19:46.077 pyfstat.utils.sft INFO    : Loading 1 SFTs from H1...\n",
      "25-08-19 17:19:46.089 pyfstat.utils.sft INFO    : Loading 1 SFTs from H1...\n",
      "25-08-19 17:19:46.104 pyfstat.utils.sft INFO    : Loading 1 SFTs from H1...\n",
      "25-08-19 17:19:46.115 pyfstat.utils.sft INFO    : Loading 1 SFTs from H1...\n",
      "25-08-19 17:19:46.130 pyfstat.utils.sft INFO    : Loading 1 SFTs from H1...\n",
      "25-08-19 17:19:46.141 pyfstat.utils.sft INFO    : Loading 1 SFTs from H1...\n",
      "25-08-19 17:19:46.152 pyfstat.utils.sft INFO    : Loading 1 SFTs from H1...\n",
      "25-08-19 17:19:46.168 pyfstat.utils.sft INFO    : Loading 1 SFTs from H1...\n"
     ]
    },
    {
     "name": "stderr",
     "output_type": "stream",
     "text": [
      " 93%|█████████▎| 5382/5760 [01:22<00:05, 72.59it/s]"
     ]
    },
    {
     "name": "stdout",
     "output_type": "stream",
     "text": [
      "25-08-19 17:19:46.180 pyfstat.utils.sft INFO    : Loading 1 SFTs from H1...\n",
      "25-08-19 17:19:46.196 pyfstat.utils.sft INFO    : Loading 1 SFTs from H1...\n",
      "25-08-19 17:19:46.212 pyfstat.utils.sft INFO    : Loading 1 SFTs from H1...\n",
      "25-08-19 17:19:46.224 pyfstat.utils.sft INFO    : Loading 1 SFTs from H1...\n",
      "25-08-19 17:19:46.235 pyfstat.utils.sft INFO    : Loading 1 SFTs from H1...\n",
      "25-08-19 17:19:46.250 pyfstat.utils.sft INFO    : Loading 1 SFTs from H1...\n",
      "25-08-19 17:19:46.265 pyfstat.utils.sft INFO    : Loading 1 SFTs from H1...\n",
      "25-08-19 17:19:46.276 pyfstat.utils.sft INFO    : Loading 1 SFTs from H1...\n"
     ]
    },
    {
     "name": "stderr",
     "output_type": "stream",
     "text": [
      " 94%|█████████▎| 5390/5760 [01:23<00:05, 73.11it/s]"
     ]
    },
    {
     "name": "stdout",
     "output_type": "stream",
     "text": [
      "25-08-19 17:19:46.291 pyfstat.utils.sft INFO    : Loading 1 SFTs from H1...\n",
      "25-08-19 17:19:46.302 pyfstat.utils.sft INFO    : Loading 1 SFTs from H1...\n",
      "25-08-19 17:19:46.313 pyfstat.utils.sft INFO    : Loading 1 SFTs from H1...\n",
      "25-08-19 17:19:46.328 pyfstat.utils.sft INFO    : Loading 1 SFTs from H1...\n",
      "25-08-19 17:19:46.342 pyfstat.utils.sft INFO    : Loading 1 SFTs from H1...\n",
      "25-08-19 17:19:46.357 pyfstat.utils.sft INFO    : Loading 1 SFTs from H1...\n",
      "25-08-19 17:19:46.376 pyfstat.utils.sft INFO    : Loading 1 SFTs from H1...\n",
      "25-08-19 17:19:46.391 pyfstat.utils.sft INFO    : Loading 1 SFTs from H1...\n"
     ]
    },
    {
     "name": "stderr",
     "output_type": "stream",
     "text": [
      " 94%|█████████▎| 5398/5760 [01:23<00:05, 71.02it/s]"
     ]
    },
    {
     "name": "stdout",
     "output_type": "stream",
     "text": [
      "25-08-19 17:19:46.412 pyfstat.utils.sft INFO    : Loading 1 SFTs from H1...\n",
      "25-08-19 17:19:46.426 pyfstat.utils.sft INFO    : Loading 1 SFTs from H1...\n",
      "25-08-19 17:19:46.441 pyfstat.utils.sft INFO    : Loading 1 SFTs from H1...\n",
      "25-08-19 17:19:46.460 pyfstat.utils.sft INFO    : Loading 1 SFTs from H1...\n",
      "25-08-19 17:19:46.475 pyfstat.utils.sft INFO    : Loading 1 SFTs from H1...\n",
      "25-08-19 17:19:46.494 pyfstat.utils.sft INFO    : Loading 1 SFTs from H1...\n",
      "25-08-19 17:19:46.509 pyfstat.utils.sft INFO    : Loading 1 SFTs from H1...\n",
      "25-08-19 17:19:46.525 pyfstat.utils.sft INFO    : Loading 1 SFTs from H1...\n"
     ]
    },
    {
     "name": "stderr",
     "output_type": "stream",
     "text": [
      " 94%|█████████▍| 5406/5760 [01:23<00:05, 67.99it/s]"
     ]
    },
    {
     "name": "stdout",
     "output_type": "stream",
     "text": [
      "25-08-19 17:19:46.537 pyfstat.utils.sft INFO    : Loading 1 SFTs from H1...\n",
      "25-08-19 17:19:46.549 pyfstat.utils.sft INFO    : Loading 1 SFTs from H1...\n",
      "25-08-19 17:19:46.560 pyfstat.utils.sft INFO    : Loading 1 SFTs from H1...\n",
      "25-08-19 17:19:46.571 pyfstat.utils.sft INFO    : Loading 1 SFTs from H1...\n",
      "25-08-19 17:19:46.581 pyfstat.utils.sft INFO    : Loading 1 SFTs from H1...\n",
      "25-08-19 17:19:46.596 pyfstat.utils.sft INFO    : Loading 1 SFTs from H1...\n",
      "25-08-19 17:19:46.607 pyfstat.utils.sft INFO    : Loading 1 SFTs from H1...\n",
      "25-08-19 17:19:46.622 pyfstat.utils.sft INFO    : Loading 1 SFTs from H1...\n",
      "25-08-19 17:19:46.633 pyfstat.utils.sft INFO    : Loading 1 SFTs from H1...\n"
     ]
    },
    {
     "name": "stderr",
     "output_type": "stream",
     "text": [
      " 94%|█████████▍| 5415/5760 [01:23<00:04, 72.50it/s]"
     ]
    },
    {
     "name": "stdout",
     "output_type": "stream",
     "text": [
      "25-08-19 17:19:46.647 pyfstat.utils.sft INFO    : Loading 1 SFTs from H1...\n",
      "25-08-19 17:19:46.662 pyfstat.utils.sft INFO    : Loading 1 SFTs from H1...\n",
      "25-08-19 17:19:46.676 pyfstat.utils.sft INFO    : Loading 1 SFTs from H1...\n",
      "25-08-19 17:19:46.687 pyfstat.utils.sft INFO    : Loading 1 SFTs from H1...\n",
      "25-08-19 17:19:46.702 pyfstat.utils.sft INFO    : Loading 1 SFTs from H1...\n",
      "25-08-19 17:19:46.717 pyfstat.utils.sft INFO    : Loading 1 SFTs from H1...\n",
      "25-08-19 17:19:46.731 pyfstat.utils.sft INFO    : Loading 1 SFTs from H1...\n",
      "25-08-19 17:19:46.745 pyfstat.utils.sft INFO    : Loading 1 SFTs from H1...\n"
     ]
    },
    {
     "name": "stderr",
     "output_type": "stream",
     "text": [
      " 94%|█████████▍| 5423/5760 [01:23<00:04, 72.00it/s]"
     ]
    },
    {
     "name": "stdout",
     "output_type": "stream",
     "text": [
      "25-08-19 17:19:46.757 pyfstat.utils.sft INFO    : Loading 1 SFTs from H1...\n",
      "25-08-19 17:19:46.767 pyfstat.utils.sft INFO    : Loading 1 SFTs from H1...\n",
      "25-08-19 17:19:46.781 pyfstat.utils.sft INFO    : Loading 1 SFTs from H1...\n",
      "25-08-19 17:19:46.795 pyfstat.utils.sft INFO    : Loading 1 SFTs from H1...\n",
      "25-08-19 17:19:46.809 pyfstat.utils.sft INFO    : Loading 1 SFTs from H1...\n",
      "25-08-19 17:19:46.823 pyfstat.utils.sft INFO    : Loading 1 SFTs from H1...\n",
      "25-08-19 17:19:46.837 pyfstat.utils.sft INFO    : Loading 1 SFTs from H1...\n",
      "25-08-19 17:19:46.849 pyfstat.utils.sft INFO    : Loading 1 SFTs from H1...\n"
     ]
    },
    {
     "name": "stderr",
     "output_type": "stream",
     "text": [
      " 94%|█████████▍| 5431/5760 [01:23<00:04, 73.11it/s]"
     ]
    },
    {
     "name": "stdout",
     "output_type": "stream",
     "text": [
      "25-08-19 17:19:46.863 pyfstat.utils.sft INFO    : Loading 1 SFTs from H1...\n",
      "25-08-19 17:19:46.875 pyfstat.utils.sft INFO    : Loading 1 SFTs from H1...\n",
      "25-08-19 17:19:46.886 pyfstat.utils.sft INFO    : Loading 1 SFTs from H1...\n",
      "25-08-19 17:19:46.897 pyfstat.utils.sft INFO    : Loading 1 SFTs from H1...\n",
      "25-08-19 17:19:46.908 pyfstat.utils.sft INFO    : Loading 1 SFTs from H1...\n",
      "25-08-19 17:19:46.923 pyfstat.utils.sft INFO    : Loading 1 SFTs from H1...\n",
      "25-08-19 17:19:46.935 pyfstat.utils.sft INFO    : Loading 1 SFTs from H1...\n",
      "25-08-19 17:19:46.946 pyfstat.utils.sft INFO    : Loading 1 SFTs from H1...\n",
      "25-08-19 17:19:46.961 pyfstat.utils.sft INFO    : Loading 1 SFTs from H1...\n"
     ]
    },
    {
     "name": "stderr",
     "output_type": "stream",
     "text": [
      " 94%|█████████▍| 5440/5760 [01:23<00:04, 75.62it/s]"
     ]
    },
    {
     "name": "stdout",
     "output_type": "stream",
     "text": [
      "25-08-19 17:19:46.976 pyfstat.utils.sft INFO    : Loading 1 SFTs from H1...\n",
      "25-08-19 17:19:46.988 pyfstat.utils.sft INFO    : Loading 1 SFTs from H1...\n",
      "25-08-19 17:19:46.999 pyfstat.utils.sft INFO    : Loading 1 SFTs from H1...\n",
      "25-08-19 17:19:47.009 pyfstat.utils.sft INFO    : Loading 1 SFTs from H1...\n",
      "25-08-19 17:19:47.020 pyfstat.utils.sft INFO    : Loading 1 SFTs from H1...\n",
      "25-08-19 17:19:47.031 pyfstat.utils.sft INFO    : Loading 1 SFTs from H1...\n",
      "25-08-19 17:19:47.046 pyfstat.utils.sft INFO    : Loading 1 SFTs from H1...\n",
      "25-08-19 17:19:47.061 pyfstat.utils.sft INFO    : Loading 1 SFTs from H1...\n"
     ]
    },
    {
     "name": "stderr",
     "output_type": "stream",
     "text": [
      " 95%|█████████▍| 5448/5760 [01:23<00:04, 76.69it/s]"
     ]
    },
    {
     "name": "stdout",
     "output_type": "stream",
     "text": [
      "25-08-19 17:19:47.074 pyfstat.utils.sft INFO    : Loading 1 SFTs from H1...\n",
      "25-08-19 17:19:47.085 pyfstat.utils.sft INFO    : Loading 1 SFTs from H1...\n",
      "25-08-19 17:19:47.096 pyfstat.utils.sft INFO    : Loading 1 SFTs from H1...\n",
      "25-08-19 17:19:47.106 pyfstat.utils.sft INFO    : Loading 1 SFTs from H1...\n",
      "25-08-19 17:19:47.118 pyfstat.utils.sft INFO    : Loading 1 SFTs from H1...\n",
      "25-08-19 17:19:47.132 pyfstat.utils.sft INFO    : Loading 1 SFTs from H1...\n",
      "25-08-19 17:19:47.152 pyfstat.utils.sft INFO    : Loading 1 SFTs from H1...\n",
      "25-08-19 17:19:47.171 pyfstat.utils.sft INFO    : Loading 1 SFTs from H1...\n"
     ]
    },
    {
     "name": "stderr",
     "output_type": "stream",
     "text": [
      " 95%|█████████▍| 5456/5760 [01:23<00:04, 74.83it/s]"
     ]
    },
    {
     "name": "stdout",
     "output_type": "stream",
     "text": [
      "25-08-19 17:19:47.191 pyfstat.utils.sft INFO    : Loading 1 SFTs from H1...\n",
      "25-08-19 17:19:47.205 pyfstat.utils.sft INFO    : Loading 1 SFTs from H1...\n",
      "25-08-19 17:19:47.217 pyfstat.utils.sft INFO    : Loading 1 SFTs from H1...\n",
      "25-08-19 17:19:47.231 pyfstat.utils.sft INFO    : Loading 1 SFTs from H1...\n",
      "25-08-19 17:19:47.246 pyfstat.utils.sft INFO    : Loading 1 SFTs from H1...\n",
      "25-08-19 17:19:47.264 pyfstat.utils.sft INFO    : Loading 1 SFTs from H1...\n",
      "25-08-19 17:19:47.275 pyfstat.utils.sft INFO    : Loading 1 SFTs from H1...\n",
      "25-08-19 17:19:47.287 pyfstat.utils.sft INFO    : Loading 1 SFTs from H1...\n"
     ]
    },
    {
     "name": "stderr",
     "output_type": "stream",
     "text": [
      " 95%|█████████▍| 5464/5760 [01:24<00:04, 73.66it/s]"
     ]
    },
    {
     "name": "stdout",
     "output_type": "stream",
     "text": [
      "25-08-19 17:19:47.303 pyfstat.utils.sft INFO    : Loading 1 SFTs from H1...\n",
      "25-08-19 17:19:47.322 pyfstat.utils.sft INFO    : Loading 1 SFTs from H1...\n",
      "25-08-19 17:19:47.334 pyfstat.utils.sft INFO    : Loading 1 SFTs from H1...\n",
      "25-08-19 17:19:47.349 pyfstat.utils.sft INFO    : Loading 1 SFTs from H1...\n",
      "25-08-19 17:19:47.360 pyfstat.utils.sft INFO    : Loading 1 SFTs from H1...\n",
      "25-08-19 17:19:47.371 pyfstat.utils.sft INFO    : Loading 1 SFTs from H1...\n",
      "25-08-19 17:19:47.385 pyfstat.utils.sft INFO    : Loading 1 SFTs from H1...\n",
      "25-08-19 17:19:47.399 pyfstat.utils.sft INFO    : Loading 1 SFTs from H1...\n"
     ]
    },
    {
     "name": "stderr",
     "output_type": "stream",
     "text": [
      " 95%|█████████▌| 5472/5760 [01:24<00:03, 72.35it/s]"
     ]
    },
    {
     "name": "stdout",
     "output_type": "stream",
     "text": [
      "25-08-19 17:19:47.419 pyfstat.utils.sft INFO    : Loading 1 SFTs from H1...\n",
      "25-08-19 17:19:47.430 pyfstat.utils.sft INFO    : Loading 1 SFTs from H1...\n",
      "25-08-19 17:19:47.442 pyfstat.utils.sft INFO    : Loading 1 SFTs from H1...\n",
      "25-08-19 17:19:47.454 pyfstat.utils.sft INFO    : Loading 1 SFTs from H1...\n",
      "25-08-19 17:19:47.469 pyfstat.utils.sft INFO    : Loading 1 SFTs from H1...\n",
      "25-08-19 17:19:47.485 pyfstat.utils.sft INFO    : Loading 1 SFTs from H1...\n",
      "25-08-19 17:19:47.496 pyfstat.utils.sft INFO    : Loading 1 SFTs from H1...\n",
      "25-08-19 17:19:47.512 pyfstat.utils.sft INFO    : Loading 1 SFTs from H1...\n"
     ]
    },
    {
     "name": "stderr",
     "output_type": "stream",
     "text": [
      " 95%|█████████▌| 5480/5760 [01:24<00:03, 72.57it/s]"
     ]
    },
    {
     "name": "stdout",
     "output_type": "stream",
     "text": [
      "25-08-19 17:19:47.528 pyfstat.utils.sft INFO    : Loading 1 SFTs from H1...\n",
      "25-08-19 17:19:47.539 pyfstat.utils.sft INFO    : Loading 1 SFTs from H1...\n",
      "25-08-19 17:19:47.553 pyfstat.utils.sft INFO    : Loading 1 SFTs from H1...\n",
      "25-08-19 17:19:47.568 pyfstat.utils.sft INFO    : Loading 1 SFTs from H1...\n",
      "25-08-19 17:19:47.578 pyfstat.utils.sft INFO    : Loading 1 SFTs from H1...\n",
      "25-08-19 17:19:47.592 pyfstat.utils.sft INFO    : Loading 1 SFTs from H1...\n",
      "25-08-19 17:19:47.603 pyfstat.utils.sft INFO    : Loading 1 SFTs from H1...\n",
      "25-08-19 17:19:47.617 pyfstat.utils.sft INFO    : Loading 1 SFTs from H1...\n"
     ]
    },
    {
     "name": "stderr",
     "output_type": "stream",
     "text": [
      " 95%|█████████▌| 5488/5760 [01:24<00:03, 73.67it/s]"
     ]
    },
    {
     "name": "stdout",
     "output_type": "stream",
     "text": [
      "25-08-19 17:19:47.629 pyfstat.utils.sft INFO    : Loading 1 SFTs from H1...\n",
      "25-08-19 17:19:47.640 pyfstat.utils.sft INFO    : Loading 1 SFTs from H1...\n",
      "25-08-19 17:19:47.654 pyfstat.utils.sft INFO    : Loading 1 SFTs from H1...\n",
      "25-08-19 17:19:47.669 pyfstat.utils.sft INFO    : Loading 1 SFTs from H1...\n",
      "25-08-19 17:19:47.689 pyfstat.utils.sft INFO    : Loading 1 SFTs from H1...\n",
      "25-08-19 17:19:47.704 pyfstat.utils.sft INFO    : Loading 1 SFTs from H1...\n",
      "25-08-19 17:19:47.715 pyfstat.utils.sft INFO    : Loading 1 SFTs from H1...\n",
      "25-08-19 17:19:47.727 pyfstat.utils.sft INFO    : Loading 1 SFTs from H1...\n"
     ]
    },
    {
     "name": "stderr",
     "output_type": "stream",
     "text": [
      " 95%|█████████▌| 5496/5760 [01:24<00:03, 73.44it/s]"
     ]
    },
    {
     "name": "stdout",
     "output_type": "stream",
     "text": [
      "25-08-19 17:19:47.742 pyfstat.utils.sft INFO    : Loading 1 SFTs from H1...\n",
      "25-08-19 17:19:47.757 pyfstat.utils.sft INFO    : Loading 1 SFTs from H1...\n",
      "25-08-19 17:19:47.775 pyfstat.utils.sft INFO    : Loading 1 SFTs from H1...\n",
      "25-08-19 17:19:47.786 pyfstat.utils.sft INFO    : Loading 1 SFTs from H1...\n",
      "25-08-19 17:19:47.797 pyfstat.utils.sft INFO    : Loading 1 SFTs from H1...\n",
      "25-08-19 17:19:47.807 pyfstat.utils.sft INFO    : Loading 1 SFTs from H1...\n",
      "25-08-19 17:19:47.822 pyfstat.utils.sft INFO    : Loading 1 SFTs from H1...\n",
      "25-08-19 17:19:47.841 pyfstat.utils.sft INFO    : Loading 1 SFTs from H1...\n"
     ]
    },
    {
     "name": "stderr",
     "output_type": "stream",
     "text": [
      " 96%|█████████▌| 5504/5760 [01:24<00:03, 72.35it/s]"
     ]
    },
    {
     "name": "stdout",
     "output_type": "stream",
     "text": [
      "25-08-19 17:19:47.853 pyfstat.utils.sft INFO    : Loading 1 SFTs from H1...\n",
      "25-08-19 17:19:47.868 pyfstat.utils.sft INFO    : Loading 1 SFTs from H1...\n",
      "25-08-19 17:19:47.883 pyfstat.utils.sft INFO    : Loading 1 SFTs from H1...\n",
      "25-08-19 17:19:47.901 pyfstat.utils.sft INFO    : Loading 1 SFTs from H1...\n",
      "25-08-19 17:19:47.916 pyfstat.utils.sft INFO    : Loading 1 SFTs from H1...\n",
      "25-08-19 17:19:47.927 pyfstat.utils.sft INFO    : Loading 1 SFTs from H1...\n",
      "25-08-19 17:19:47.941 pyfstat.utils.sft INFO    : Loading 1 SFTs from H1...\n",
      "25-08-19 17:19:47.959 pyfstat.utils.sft INFO    : Loading 1 SFTs from H1...\n"
     ]
    },
    {
     "name": "stderr",
     "output_type": "stream",
     "text": [
      " 96%|█████████▌| 5512/5760 [01:24<00:03, 70.90it/s]"
     ]
    },
    {
     "name": "stdout",
     "output_type": "stream",
     "text": [
      "25-08-19 17:19:47.975 pyfstat.utils.sft INFO    : Loading 1 SFTs from H1...\n",
      "25-08-19 17:19:47.988 pyfstat.utils.sft INFO    : Loading 1 SFTs from H1...\n",
      "25-08-19 17:19:47.999 pyfstat.utils.sft INFO    : Loading 1 SFTs from H1...\n",
      "25-08-19 17:19:48.013 pyfstat.utils.sft INFO    : Loading 1 SFTs from H1...\n",
      "25-08-19 17:19:48.028 pyfstat.utils.sft INFO    : Loading 1 SFTs from H1...\n",
      "25-08-19 17:19:48.043 pyfstat.utils.sft INFO    : Loading 1 SFTs from H1...\n",
      "25-08-19 17:19:48.060 pyfstat.utils.sft INFO    : Loading 1 SFTs from H1...\n",
      "25-08-19 17:19:48.074 pyfstat.utils.sft INFO    : Loading 1 SFTs from H1...\n"
     ]
    },
    {
     "name": "stderr",
     "output_type": "stream",
     "text": [
      " 96%|█████████▌| 5520/5760 [01:24<00:03, 70.53it/s]"
     ]
    },
    {
     "name": "stdout",
     "output_type": "stream",
     "text": [
      "25-08-19 17:19:48.089 pyfstat.utils.sft INFO    : Loading 1 SFTs from H1...\n",
      "25-08-19 17:19:48.099 pyfstat.utils.sft INFO    : Loading 1 SFTs from H1...\n",
      "25-08-19 17:19:48.113 pyfstat.utils.sft INFO    : Loading 1 SFTs from H1...\n",
      "25-08-19 17:19:48.127 pyfstat.utils.sft INFO    : Loading 1 SFTs from H1...\n",
      "25-08-19 17:19:48.138 pyfstat.utils.sft INFO    : Loading 1 SFTs from H1...\n",
      "25-08-19 17:19:48.153 pyfstat.utils.sft INFO    : Loading 1 SFTs from H1...\n",
      "25-08-19 17:19:48.170 pyfstat.utils.sft INFO    : Loading 1 SFTs from H1...\n",
      "25-08-19 17:19:48.185 pyfstat.utils.sft INFO    : Loading 1 SFTs from H1...\n"
     ]
    },
    {
     "name": "stderr",
     "output_type": "stream",
     "text": [
      " 96%|█████████▌| 5528/5760 [01:24<00:03, 71.10it/s]"
     ]
    },
    {
     "name": "stdout",
     "output_type": "stream",
     "text": [
      "25-08-19 17:19:48.200 pyfstat.utils.sft INFO    : Loading 1 SFTs from H1...\n",
      "25-08-19 17:19:48.215 pyfstat.utils.sft INFO    : Loading 1 SFTs from H1...\n",
      "25-08-19 17:19:48.226 pyfstat.utils.sft INFO    : Loading 1 SFTs from H1...\n",
      "25-08-19 17:19:48.240 pyfstat.utils.sft INFO    : Loading 1 SFTs from H1...\n",
      "25-08-19 17:19:48.254 pyfstat.utils.sft INFO    : Loading 1 SFTs from H1...\n",
      "25-08-19 17:19:48.268 pyfstat.utils.sft INFO    : Loading 1 SFTs from H1...\n",
      "25-08-19 17:19:48.285 pyfstat.utils.sft INFO    : Loading 1 SFTs from H1...\n",
      "25-08-19 17:19:48.299 pyfstat.utils.sft INFO    : Loading 1 SFTs from H1...\n"
     ]
    },
    {
     "name": "stderr",
     "output_type": "stream",
     "text": [
      " 96%|█████████▌| 5536/5760 [01:25<00:03, 70.68it/s]"
     ]
    },
    {
     "name": "stdout",
     "output_type": "stream",
     "text": [
      "25-08-19 17:19:48.311 pyfstat.utils.sft INFO    : Loading 1 SFTs from H1...\n",
      "25-08-19 17:19:48.325 pyfstat.utils.sft INFO    : Loading 1 SFTs from H1...\n",
      "25-08-19 17:19:48.339 pyfstat.utils.sft INFO    : Loading 1 SFTs from H1...\n",
      "25-08-19 17:19:48.349 pyfstat.utils.sft INFO    : Loading 1 SFTs from H1...\n",
      "25-08-19 17:19:48.364 pyfstat.utils.sft INFO    : Loading 1 SFTs from H1...\n",
      "25-08-19 17:19:48.379 pyfstat.utils.sft INFO    : Loading 1 SFTs from H1...\n",
      "25-08-19 17:19:48.391 pyfstat.utils.sft INFO    : Loading 1 SFTs from H1...\n",
      "25-08-19 17:19:48.401 pyfstat.utils.sft INFO    : Loading 1 SFTs from H1...\n"
     ]
    },
    {
     "name": "stderr",
     "output_type": "stream",
     "text": [
      " 96%|█████████▋| 5544/5760 [01:25<00:02, 72.77it/s]"
     ]
    },
    {
     "name": "stdout",
     "output_type": "stream",
     "text": [
      "25-08-19 17:19:48.417 pyfstat.utils.sft INFO    : Loading 1 SFTs from H1...\n",
      "25-08-19 17:19:48.433 pyfstat.utils.sft INFO    : Loading 1 SFTs from H1...\n",
      "25-08-19 17:19:48.447 pyfstat.utils.sft INFO    : Loading 1 SFTs from H1...\n",
      "25-08-19 17:19:48.466 pyfstat.utils.sft INFO    : Loading 1 SFTs from H1...\n",
      "25-08-19 17:19:48.478 pyfstat.utils.sft INFO    : Loading 1 SFTs from H1...\n",
      "25-08-19 17:19:48.489 pyfstat.utils.sft INFO    : Loading 1 SFTs from H1...\n",
      "25-08-19 17:19:48.502 pyfstat.utils.sft INFO    : Loading 1 SFTs from H1...\n",
      "25-08-19 17:19:48.513 pyfstat.utils.sft INFO    : Loading 1 SFTs from H1...\n"
     ]
    },
    {
     "name": "stderr",
     "output_type": "stream",
     "text": [
      " 96%|█████████▋| 5552/5760 [01:25<00:02, 72.33it/s]"
     ]
    },
    {
     "name": "stdout",
     "output_type": "stream",
     "text": [
      "25-08-19 17:19:48.529 pyfstat.utils.sft INFO    : Loading 1 SFTs from H1...\n",
      "25-08-19 17:19:48.541 pyfstat.utils.sft INFO    : Loading 1 SFTs from H1...\n",
      "25-08-19 17:19:48.556 pyfstat.utils.sft INFO    : Loading 1 SFTs from H1...\n",
      "25-08-19 17:19:48.567 pyfstat.utils.sft INFO    : Loading 1 SFTs from H1...\n",
      "25-08-19 17:19:48.578 pyfstat.utils.sft INFO    : Loading 1 SFTs from H1...\n",
      "25-08-19 17:19:48.589 pyfstat.utils.sft INFO    : Loading 1 SFTs from H1...\n",
      "25-08-19 17:19:48.601 pyfstat.utils.sft INFO    : Loading 1 SFTs from H1...\n",
      "25-08-19 17:19:48.612 pyfstat.utils.sft INFO    : Loading 1 SFTs from H1...\n",
      "25-08-19 17:19:48.623 pyfstat.utils.sft INFO    : Loading 1 SFTs from H1...\n"
     ]
    },
    {
     "name": "stderr",
     "output_type": "stream",
     "text": [
      " 97%|█████████▋| 5561/5760 [01:25<00:02, 75.34it/s]"
     ]
    },
    {
     "name": "stdout",
     "output_type": "stream",
     "text": [
      "25-08-19 17:19:48.635 pyfstat.utils.sft INFO    : Loading 1 SFTs from H1...\n",
      "25-08-19 17:19:48.647 pyfstat.utils.sft INFO    : Loading 1 SFTs from H1...\n",
      "25-08-19 17:19:48.658 pyfstat.utils.sft INFO    : Loading 1 SFTs from H1...\n",
      "25-08-19 17:19:48.673 pyfstat.utils.sft INFO    : Loading 1 SFTs from H1...\n",
      "25-08-19 17:19:48.687 pyfstat.utils.sft INFO    : Loading 1 SFTs from H1...\n",
      "25-08-19 17:19:48.699 pyfstat.utils.sft INFO    : Loading 1 SFTs from H1...\n",
      "25-08-19 17:19:48.710 pyfstat.utils.sft INFO    : Loading 1 SFTs from H1...\n",
      "25-08-19 17:19:48.722 pyfstat.utils.sft INFO    : Loading 1 SFTs from H1...\n",
      "25-08-19 17:19:48.733 pyfstat.utils.sft INFO    : Loading 1 SFTs from H1...\n"
     ]
    },
    {
     "name": "stderr",
     "output_type": "stream",
     "text": [
      " 97%|█████████▋| 5570/5760 [01:25<00:02, 77.24it/s]"
     ]
    },
    {
     "name": "stdout",
     "output_type": "stream",
     "text": [
      "25-08-19 17:19:48.748 pyfstat.utils.sft INFO    : Loading 1 SFTs from H1...\n",
      "25-08-19 17:19:48.763 pyfstat.utils.sft INFO    : Loading 1 SFTs from H1...\n",
      "25-08-19 17:19:48.775 pyfstat.utils.sft INFO    : Loading 1 SFTs from H1...\n",
      "25-08-19 17:19:48.786 pyfstat.utils.sft INFO    : Loading 1 SFTs from H1...\n",
      "25-08-19 17:19:48.800 pyfstat.utils.sft INFO    : Loading 1 SFTs from H1...\n",
      "25-08-19 17:19:48.815 pyfstat.utils.sft INFO    : Loading 1 SFTs from H1...\n",
      "25-08-19 17:19:48.831 pyfstat.utils.sft INFO    : Loading 1 SFTs from H1...\n",
      "25-08-19 17:19:48.843 pyfstat.utils.sft INFO    : Loading 1 SFTs from H1...\n"
     ]
    },
    {
     "name": "stderr",
     "output_type": "stream",
     "text": [
      " 97%|█████████▋| 5578/5760 [01:25<00:02, 75.90it/s]"
     ]
    },
    {
     "name": "stdout",
     "output_type": "stream",
     "text": [
      "25-08-19 17:19:48.855 pyfstat.utils.sft INFO    : Loading 1 SFTs from H1...\n",
      "25-08-19 17:19:48.871 pyfstat.utils.sft INFO    : Loading 1 SFTs from H1...\n",
      "25-08-19 17:19:48.886 pyfstat.utils.sft INFO    : Loading 1 SFTs from H1...\n",
      "25-08-19 17:19:48.897 pyfstat.utils.sft INFO    : Loading 1 SFTs from H1...\n",
      "25-08-19 17:19:48.912 pyfstat.utils.sft INFO    : Loading 1 SFTs from H1...\n",
      "25-08-19 17:19:48.927 pyfstat.utils.sft INFO    : Loading 1 SFTs from H1...\n",
      "25-08-19 17:19:48.942 pyfstat.utils.sft INFO    : Loading 1 SFTs from H1...\n",
      "25-08-19 17:19:48.957 pyfstat.utils.sft INFO    : Loading 1 SFTs from H1...\n"
     ]
    },
    {
     "name": "stderr",
     "output_type": "stream",
     "text": [
      " 97%|█████████▋| 5586/5760 [01:25<00:02, 74.05it/s]"
     ]
    },
    {
     "name": "stdout",
     "output_type": "stream",
     "text": [
      "25-08-19 17:19:48.970 pyfstat.utils.sft INFO    : Loading 1 SFTs from H1...\n",
      "25-08-19 17:19:48.984 pyfstat.utils.sft INFO    : Loading 1 SFTs from H1...\n",
      "25-08-19 17:19:48.999 pyfstat.utils.sft INFO    : Loading 1 SFTs from H1...\n",
      "25-08-19 17:19:49.010 pyfstat.utils.sft INFO    : Loading 1 SFTs from H1...\n",
      "25-08-19 17:19:49.021 pyfstat.utils.sft INFO    : Loading 1 SFTs from H1...\n",
      "25-08-19 17:19:49.036 pyfstat.utils.sft INFO    : Loading 1 SFTs from H1...\n",
      "25-08-19 17:19:49.055 pyfstat.utils.sft INFO    : Loading 1 SFTs from H1...\n",
      "25-08-19 17:19:49.070 pyfstat.utils.sft INFO    : Loading 1 SFTs from H1...\n"
     ]
    },
    {
     "name": "stderr",
     "output_type": "stream",
     "text": [
      " 97%|█████████▋| 5594/5760 [01:25<00:02, 73.17it/s]"
     ]
    },
    {
     "name": "stdout",
     "output_type": "stream",
     "text": [
      "25-08-19 17:19:49.082 pyfstat.utils.sft INFO    : Loading 1 SFTs from H1...\n",
      "25-08-19 17:19:49.093 pyfstat.utils.sft INFO    : Loading 1 SFTs from H1...\n",
      "25-08-19 17:19:49.103 pyfstat.utils.sft INFO    : Loading 1 SFTs from H1...\n",
      "25-08-19 17:19:49.114 pyfstat.utils.sft INFO    : Loading 1 SFTs from H1...\n",
      "25-08-19 17:19:49.128 pyfstat.utils.sft INFO    : Loading 1 SFTs from H1...\n",
      "25-08-19 17:19:49.143 pyfstat.utils.sft INFO    : Loading 1 SFTs from H1...\n",
      "25-08-19 17:19:49.159 pyfstat.utils.sft INFO    : Loading 1 SFTs from H1...\n",
      "25-08-19 17:19:49.170 pyfstat.utils.sft INFO    : Loading 1 SFTs from H1...\n"
     ]
    },
    {
     "name": "stderr",
     "output_type": "stream",
     "text": [
      " 97%|█████████▋| 5602/5760 [01:25<00:02, 74.89it/s]"
     ]
    },
    {
     "name": "stdout",
     "output_type": "stream",
     "text": [
      "25-08-19 17:19:49.183 pyfstat.utils.sft INFO    : Loading 1 SFTs from H1...\n",
      "25-08-19 17:19:49.196 pyfstat.utils.sft INFO    : Loading 1 SFTs from H1...\n",
      "25-08-19 17:19:49.208 pyfstat.utils.sft INFO    : Loading 1 SFTs from H1...\n",
      "25-08-19 17:19:49.219 pyfstat.utils.sft INFO    : Loading 1 SFTs from H1...\n",
      "25-08-19 17:19:49.231 pyfstat.utils.sft INFO    : Loading 1 SFTs from H1...\n",
      "25-08-19 17:19:49.241 pyfstat.utils.sft INFO    : Loading 1 SFTs from H1...\n",
      "25-08-19 17:19:49.255 pyfstat.utils.sft INFO    : Loading 1 SFTs from H1...\n",
      "25-08-19 17:19:49.266 pyfstat.utils.sft INFO    : Loading 1 SFTs from H1...\n",
      "25-08-19 17:19:49.280 pyfstat.utils.sft INFO    : Loading 1 SFTs from H1...\n"
     ]
    },
    {
     "name": "stderr",
     "output_type": "stream",
     "text": [
      " 97%|█████████▋| 5611/5760 [01:26<00:01, 76.25it/s]"
     ]
    },
    {
     "name": "stdout",
     "output_type": "stream",
     "text": [
      "25-08-19 17:19:49.300 pyfstat.utils.sft INFO    : Loading 1 SFTs from H1...\n",
      "25-08-19 17:19:49.310 pyfstat.utils.sft INFO    : Loading 1 SFTs from H1...\n",
      "25-08-19 17:19:49.324 pyfstat.utils.sft INFO    : Loading 1 SFTs from H1...\n",
      "25-08-19 17:19:49.335 pyfstat.utils.sft INFO    : Loading 1 SFTs from H1...\n",
      "25-08-19 17:19:49.348 pyfstat.utils.sft INFO    : Loading 1 SFTs from H1...\n",
      "25-08-19 17:19:49.362 pyfstat.utils.sft INFO    : Loading 1 SFTs from H1...\n",
      "25-08-19 17:19:49.377 pyfstat.utils.sft INFO    : Loading 1 SFTs from H1...\n",
      "25-08-19 17:19:49.395 pyfstat.utils.sft INFO    : Loading 1 SFTs from H1...\n"
     ]
    },
    {
     "name": "stderr",
     "output_type": "stream",
     "text": [
      " 98%|█████████▊| 5619/5760 [01:26<00:01, 74.95it/s]"
     ]
    },
    {
     "name": "stdout",
     "output_type": "stream",
     "text": [
      "25-08-19 17:19:49.411 pyfstat.utils.sft INFO    : Loading 1 SFTs from H1...\n",
      "25-08-19 17:19:49.423 pyfstat.utils.sft INFO    : Loading 1 SFTs from H1...\n",
      "25-08-19 17:19:49.438 pyfstat.utils.sft INFO    : Loading 1 SFTs from H1...\n",
      "25-08-19 17:19:49.450 pyfstat.utils.sft INFO    : Loading 1 SFTs from H1...\n",
      "25-08-19 17:19:49.464 pyfstat.utils.sft INFO    : Loading 1 SFTs from H1...\n",
      "25-08-19 17:19:49.479 pyfstat.utils.sft INFO    : Loading 1 SFTs from H1...\n",
      "25-08-19 17:19:49.491 pyfstat.utils.sft INFO    : Loading 1 SFTs from H1...\n",
      "25-08-19 17:19:49.506 pyfstat.utils.sft INFO    : Loading 1 SFTs from H1...\n"
     ]
    },
    {
     "name": "stderr",
     "output_type": "stream",
     "text": [
      " 98%|█████████▊| 5627/5760 [01:26<00:01, 74.17it/s]"
     ]
    },
    {
     "name": "stdout",
     "output_type": "stream",
     "text": [
      "25-08-19 17:19:49.518 pyfstat.utils.sft INFO    : Loading 1 SFTs from H1...\n",
      "25-08-19 17:19:49.533 pyfstat.utils.sft INFO    : Loading 1 SFTs from H1...\n",
      "25-08-19 17:19:49.549 pyfstat.utils.sft INFO    : Loading 1 SFTs from H1...\n",
      "25-08-19 17:19:49.564 pyfstat.utils.sft INFO    : Loading 1 SFTs from H1...\n",
      "25-08-19 17:19:49.576 pyfstat.utils.sft INFO    : Loading 1 SFTs from H1...\n",
      "25-08-19 17:19:49.587 pyfstat.utils.sft INFO    : Loading 1 SFTs from H1...\n",
      "25-08-19 17:19:49.598 pyfstat.utils.sft INFO    : Loading 1 SFTs from H1...\n",
      "25-08-19 17:19:49.608 pyfstat.utils.sft INFO    : Loading 1 SFTs from H1...\n"
     ]
    },
    {
     "name": "stderr",
     "output_type": "stream",
     "text": [
      " 98%|█████████▊| 5635/5760 [01:26<00:01, 75.33it/s]"
     ]
    },
    {
     "name": "stdout",
     "output_type": "stream",
     "text": [
      "25-08-19 17:19:49.624 pyfstat.utils.sft INFO    : Loading 1 SFTs from H1...\n",
      "25-08-19 17:19:49.638 pyfstat.utils.sft INFO    : Loading 1 SFTs from H1...\n",
      "25-08-19 17:19:49.653 pyfstat.utils.sft INFO    : Loading 1 SFTs from H1...\n",
      "25-08-19 17:19:49.665 pyfstat.utils.sft INFO    : Loading 1 SFTs from H1...\n",
      "25-08-19 17:19:49.680 pyfstat.utils.sft INFO    : Loading 1 SFTs from H1...\n",
      "25-08-19 17:19:49.696 pyfstat.utils.sft INFO    : Loading 1 SFTs from H1...\n",
      "25-08-19 17:19:49.722 pyfstat.utils.sft INFO    : Loading 1 SFTs from H1...\n",
      "25-08-19 17:19:49.734 pyfstat.utils.sft INFO    : Loading 1 SFTs from H1...\n"
     ]
    },
    {
     "name": "stderr",
     "output_type": "stream",
     "text": [
      " 98%|█████████▊| 5643/5760 [01:26<00:01, 71.39it/s]"
     ]
    },
    {
     "name": "stdout",
     "output_type": "stream",
     "text": [
      "25-08-19 17:19:49.750 pyfstat.utils.sft INFO    : Loading 1 SFTs from H1...\n",
      "25-08-19 17:19:49.766 pyfstat.utils.sft INFO    : Loading 1 SFTs from H1...\n",
      "25-08-19 17:19:49.781 pyfstat.utils.sft INFO    : Loading 1 SFTs from H1...\n",
      "25-08-19 17:19:49.793 pyfstat.utils.sft INFO    : Loading 1 SFTs from H1...\n",
      "25-08-19 17:19:49.808 pyfstat.utils.sft INFO    : Loading 1 SFTs from H1...\n",
      "25-08-19 17:19:49.824 pyfstat.utils.sft INFO    : Loading 1 SFTs from H1...\n",
      "25-08-19 17:19:49.836 pyfstat.utils.sft INFO    : Loading 1 SFTs from H1...\n",
      "25-08-19 17:19:49.851 pyfstat.utils.sft INFO    : Loading 1 SFTs from H1...\n"
     ]
    },
    {
     "name": "stderr",
     "output_type": "stream",
     "text": [
      " 98%|█████████▊| 5651/5760 [01:26<00:01, 70.28it/s]"
     ]
    },
    {
     "name": "stdout",
     "output_type": "stream",
     "text": [
      "25-08-19 17:19:49.868 pyfstat.utils.sft INFO    : Loading 1 SFTs from H1...\n",
      "25-08-19 17:19:49.883 pyfstat.utils.sft INFO    : Loading 1 SFTs from H1...\n",
      "25-08-19 17:19:49.898 pyfstat.utils.sft INFO    : Loading 1 SFTs from H1...\n",
      "25-08-19 17:19:49.913 pyfstat.utils.sft INFO    : Loading 1 SFTs from H1...\n",
      "25-08-19 17:19:49.927 pyfstat.utils.sft INFO    : Loading 1 SFTs from H1...\n",
      "25-08-19 17:19:49.937 pyfstat.utils.sft INFO    : Loading 1 SFTs from H1...\n",
      "25-08-19 17:19:49.948 pyfstat.utils.sft INFO    : Loading 1 SFTs from H1...\n",
      "25-08-19 17:19:49.962 pyfstat.utils.sft INFO    : Loading 1 SFTs from H1...\n"
     ]
    },
    {
     "name": "stderr",
     "output_type": "stream",
     "text": [
      " 98%|█████████▊| 5659/5760 [01:26<00:01, 71.12it/s]"
     ]
    },
    {
     "name": "stdout",
     "output_type": "stream",
     "text": [
      "25-08-19 17:19:49.974 pyfstat.utils.sft INFO    : Loading 1 SFTs from H1...\n",
      "25-08-19 17:19:49.988 pyfstat.utils.sft INFO    : Loading 1 SFTs from H1...\n",
      "25-08-19 17:19:50.003 pyfstat.utils.sft INFO    : Loading 1 SFTs from H1...\n",
      "25-08-19 17:19:50.017 pyfstat.utils.sft INFO    : Loading 1 SFTs from H1...\n",
      "25-08-19 17:19:50.032 pyfstat.utils.sft INFO    : Loading 1 SFTs from H1...\n",
      "25-08-19 17:19:50.042 pyfstat.utils.sft INFO    : Loading 1 SFTs from H1...\n",
      "25-08-19 17:19:50.059 pyfstat.utils.sft INFO    : Loading 1 SFTs from H1...\n",
      "25-08-19 17:19:50.074 pyfstat.utils.sft INFO    : Loading 1 SFTs from H1...\n"
     ]
    },
    {
     "name": "stderr",
     "output_type": "stream",
     "text": [
      " 98%|█████████▊| 5667/5760 [01:26<00:01, 71.06it/s]"
     ]
    },
    {
     "name": "stdout",
     "output_type": "stream",
     "text": [
      "25-08-19 17:19:50.086 pyfstat.utils.sft INFO    : Loading 1 SFTs from H1...\n",
      "25-08-19 17:19:50.097 pyfstat.utils.sft INFO    : Loading 1 SFTs from H1...\n",
      "25-08-19 17:19:50.111 pyfstat.utils.sft INFO    : Loading 1 SFTs from H1...\n",
      "25-08-19 17:19:50.129 pyfstat.utils.sft INFO    : Loading 1 SFTs from H1...\n",
      "25-08-19 17:19:50.140 pyfstat.utils.sft INFO    : Loading 1 SFTs from H1...\n",
      "25-08-19 17:19:50.151 pyfstat.utils.sft INFO    : Loading 1 SFTs from H1...\n",
      "25-08-19 17:19:50.166 pyfstat.utils.sft INFO    : Loading 1 SFTs from H1...\n",
      "25-08-19 17:19:50.181 pyfstat.utils.sft INFO    : Loading 1 SFTs from H1...\n"
     ]
    },
    {
     "name": "stderr",
     "output_type": "stream",
     "text": [
      " 99%|█████████▊| 5675/5760 [01:26<00:01, 72.34it/s]"
     ]
    },
    {
     "name": "stdout",
     "output_type": "stream",
     "text": [
      "25-08-19 17:19:50.192 pyfstat.utils.sft INFO    : Loading 1 SFTs from H1...\n",
      "25-08-19 17:19:50.203 pyfstat.utils.sft INFO    : Loading 1 SFTs from H1...\n",
      "25-08-19 17:19:50.218 pyfstat.utils.sft INFO    : Loading 1 SFTs from H1...\n",
      "25-08-19 17:19:50.232 pyfstat.utils.sft INFO    : Loading 1 SFTs from H1...\n",
      "25-08-19 17:19:50.246 pyfstat.utils.sft INFO    : Loading 1 SFTs from H1...\n",
      "25-08-19 17:19:50.257 pyfstat.utils.sft INFO    : Loading 1 SFTs from H1...\n",
      "25-08-19 17:19:50.268 pyfstat.utils.sft INFO    : Loading 1 SFTs from H1...\n",
      "25-08-19 17:19:50.280 pyfstat.utils.sft INFO    : Loading 1 SFTs from H1...\n"
     ]
    },
    {
     "name": "stderr",
     "output_type": "stream",
     "text": [
      " 99%|█████████▊| 5683/5760 [01:27<00:01, 74.38it/s]"
     ]
    },
    {
     "name": "stdout",
     "output_type": "stream",
     "text": [
      "25-08-19 17:19:50.293 pyfstat.utils.sft INFO    : Loading 1 SFTs from H1...\n",
      "25-08-19 17:19:50.308 pyfstat.utils.sft INFO    : Loading 1 SFTs from H1...\n",
      "25-08-19 17:19:50.323 pyfstat.utils.sft INFO    : Loading 1 SFTs from H1...\n",
      "25-08-19 17:19:50.338 pyfstat.utils.sft INFO    : Loading 1 SFTs from H1...\n",
      "25-08-19 17:19:50.350 pyfstat.utils.sft INFO    : Loading 1 SFTs from H1...\n",
      "25-08-19 17:19:50.365 pyfstat.utils.sft INFO    : Loading 1 SFTs from H1...\n",
      "25-08-19 17:19:50.379 pyfstat.utils.sft INFO    : Loading 1 SFTs from H1...\n",
      "25-08-19 17:19:50.394 pyfstat.utils.sft INFO    : Loading 1 SFTs from H1...\n"
     ]
    },
    {
     "name": "stderr",
     "output_type": "stream",
     "text": [
      " 99%|█████████▉| 5691/5760 [01:27<00:00, 73.14it/s]"
     ]
    },
    {
     "name": "stdout",
     "output_type": "stream",
     "text": [
      "25-08-19 17:19:50.406 pyfstat.utils.sft INFO    : Loading 1 SFTs from H1...\n",
      "25-08-19 17:19:50.418 pyfstat.utils.sft INFO    : Loading 1 SFTs from H1...\n",
      "25-08-19 17:19:50.433 pyfstat.utils.sft INFO    : Loading 1 SFTs from H1...\n",
      "25-08-19 17:19:50.447 pyfstat.utils.sft INFO    : Loading 1 SFTs from H1...\n",
      "25-08-19 17:19:50.459 pyfstat.utils.sft INFO    : Loading 1 SFTs from H1...\n",
      "25-08-19 17:19:50.470 pyfstat.utils.sft INFO    : Loading 1 SFTs from H1...\n",
      "25-08-19 17:19:50.485 pyfstat.utils.sft INFO    : Loading 1 SFTs from H1...\n",
      "25-08-19 17:19:50.500 pyfstat.utils.sft INFO    : Loading 1 SFTs from H1...\n"
     ]
    },
    {
     "name": "stderr",
     "output_type": "stream",
     "text": [
      " 99%|█████████▉| 5699/5760 [01:27<00:00, 73.79it/s]"
     ]
    },
    {
     "name": "stdout",
     "output_type": "stream",
     "text": [
      "25-08-19 17:19:50.513 pyfstat.utils.sft INFO    : Loading 1 SFTs from H1...\n",
      "25-08-19 17:19:50.528 pyfstat.utils.sft INFO    : Loading 1 SFTs from H1...\n",
      "25-08-19 17:19:50.540 pyfstat.utils.sft INFO    : Loading 1 SFTs from H1...\n",
      "25-08-19 17:19:50.551 pyfstat.utils.sft INFO    : Loading 1 SFTs from H1...\n",
      "25-08-19 17:19:50.562 pyfstat.utils.sft INFO    : Loading 1 SFTs from H1...\n",
      "25-08-19 17:19:50.573 pyfstat.utils.sft INFO    : Loading 1 SFTs from H1...\n",
      "25-08-19 17:19:50.588 pyfstat.utils.sft INFO    : Loading 1 SFTs from H1...\n",
      "25-08-19 17:19:50.603 pyfstat.utils.sft INFO    : Loading 1 SFTs from H1...\n"
     ]
    },
    {
     "name": "stderr",
     "output_type": "stream",
     "text": [
      " 99%|█████████▉| 5707/5760 [01:27<00:00, 74.99it/s]"
     ]
    },
    {
     "name": "stdout",
     "output_type": "stream",
     "text": [
      "25-08-19 17:19:50.619 pyfstat.utils.sft INFO    : Loading 1 SFTs from H1...\n",
      "25-08-19 17:19:50.631 pyfstat.utils.sft INFO    : Loading 1 SFTs from H1...\n",
      "25-08-19 17:19:50.646 pyfstat.utils.sft INFO    : Loading 1 SFTs from H1...\n",
      "25-08-19 17:19:50.661 pyfstat.utils.sft INFO    : Loading 1 SFTs from H1...\n",
      "25-08-19 17:19:50.672 pyfstat.utils.sft INFO    : Loading 1 SFTs from H1...\n",
      "25-08-19 17:19:50.683 pyfstat.utils.sft INFO    : Loading 1 SFTs from H1...\n",
      "25-08-19 17:19:50.694 pyfstat.utils.sft INFO    : Loading 1 SFTs from H1...\n",
      "25-08-19 17:19:50.708 pyfstat.utils.sft INFO    : Loading 1 SFTs from H1...\n"
     ]
    },
    {
     "name": "stderr",
     "output_type": "stream",
     "text": [
      " 99%|█████████▉| 5715/5760 [01:27<00:00, 75.40it/s]"
     ]
    },
    {
     "name": "stdout",
     "output_type": "stream",
     "text": [
      "25-08-19 17:19:50.720 pyfstat.utils.sft INFO    : Loading 1 SFTs from H1...\n",
      "25-08-19 17:19:50.735 pyfstat.utils.sft INFO    : Loading 1 SFTs from H1...\n",
      "25-08-19 17:19:50.745 pyfstat.utils.sft INFO    : Loading 1 SFTs from H1...\n",
      "25-08-19 17:19:50.756 pyfstat.utils.sft INFO    : Loading 1 SFTs from H1...\n",
      "25-08-19 17:19:50.766 pyfstat.utils.sft INFO    : Loading 1 SFTs from H1...\n",
      "25-08-19 17:19:50.780 pyfstat.utils.sft INFO    : Loading 1 SFTs from H1...\n",
      "25-08-19 17:19:50.794 pyfstat.utils.sft INFO    : Loading 1 SFTs from H1...\n",
      "25-08-19 17:19:50.808 pyfstat.utils.sft INFO    : Loading 1 SFTs from H1...\n",
      "25-08-19 17:19:50.822 pyfstat.utils.sft INFO    : Loading 1 SFTs from H1...\n"
     ]
    },
    {
     "name": "stderr",
     "output_type": "stream",
     "text": [
      " 99%|█████████▉| 5724/5760 [01:27<00:00, 76.47it/s]"
     ]
    },
    {
     "name": "stdout",
     "output_type": "stream",
     "text": [
      "25-08-19 17:19:50.838 pyfstat.utils.sft INFO    : Loading 1 SFTs from H1...\n",
      "25-08-19 17:19:50.849 pyfstat.utils.sft INFO    : Loading 1 SFTs from H1...\n",
      "25-08-19 17:19:50.860 pyfstat.utils.sft INFO    : Loading 1 SFTs from H1...\n",
      "25-08-19 17:19:50.870 pyfstat.utils.sft INFO    : Loading 1 SFTs from H1...\n",
      "25-08-19 17:19:50.884 pyfstat.utils.sft INFO    : Loading 1 SFTs from H1...\n",
      "25-08-19 17:19:50.894 pyfstat.utils.sft INFO    : Loading 1 SFTs from H1...\n",
      "25-08-19 17:19:50.905 pyfstat.utils.sft INFO    : Loading 1 SFTs from H1...\n",
      "25-08-19 17:19:50.915 pyfstat.utils.sft INFO    : Loading 1 SFTs from H1...\n",
      "25-08-19 17:19:50.929 pyfstat.utils.sft INFO    : Loading 1 SFTs from H1...\n"
     ]
    },
    {
     "name": "stderr",
     "output_type": "stream",
     "text": [
      "100%|█████████▉| 5733/5760 [01:27<00:00, 78.81it/s]"
     ]
    },
    {
     "name": "stdout",
     "output_type": "stream",
     "text": [
      "25-08-19 17:19:50.945 pyfstat.utils.sft INFO    : Loading 1 SFTs from H1...\n",
      "25-08-19 17:19:50.956 pyfstat.utils.sft INFO    : Loading 1 SFTs from H1...\n",
      "25-08-19 17:19:50.971 pyfstat.utils.sft INFO    : Loading 1 SFTs from H1...\n",
      "25-08-19 17:19:50.986 pyfstat.utils.sft INFO    : Loading 1 SFTs from H1...\n",
      "25-08-19 17:19:50.997 pyfstat.utils.sft INFO    : Loading 1 SFTs from H1...\n",
      "25-08-19 17:19:51.012 pyfstat.utils.sft INFO    : Loading 1 SFTs from H1...\n",
      "25-08-19 17:19:51.028 pyfstat.utils.sft INFO    : Loading 1 SFTs from H1...\n",
      "25-08-19 17:19:51.047 pyfstat.utils.sft INFO    : Loading 1 SFTs from H1...\n"
     ]
    },
    {
     "name": "stderr",
     "output_type": "stream",
     "text": [
      "100%|█████████▉| 5741/5760 [01:27<00:00, 75.26it/s]"
     ]
    },
    {
     "name": "stdout",
     "output_type": "stream",
     "text": [
      "25-08-19 17:19:51.063 pyfstat.utils.sft INFO    : Loading 1 SFTs from H1...\n",
      "25-08-19 17:19:51.074 pyfstat.utils.sft INFO    : Loading 1 SFTs from H1...\n",
      "25-08-19 17:19:51.085 pyfstat.utils.sft INFO    : Loading 1 SFTs from H1...\n",
      "25-08-19 17:19:51.096 pyfstat.utils.sft INFO    : Loading 1 SFTs from H1...\n",
      "25-08-19 17:19:51.111 pyfstat.utils.sft INFO    : Loading 1 SFTs from H1...\n",
      "25-08-19 17:19:51.122 pyfstat.utils.sft INFO    : Loading 1 SFTs from H1...\n",
      "25-08-19 17:19:51.137 pyfstat.utils.sft INFO    : Loading 1 SFTs from H1...\n",
      "25-08-19 17:19:51.151 pyfstat.utils.sft INFO    : Loading 1 SFTs from H1...\n"
     ]
    },
    {
     "name": "stderr",
     "output_type": "stream",
     "text": [
      "100%|█████████▉| 5749/5760 [01:27<00:00, 75.67it/s]"
     ]
    },
    {
     "name": "stdout",
     "output_type": "stream",
     "text": [
      "25-08-19 17:19:51.167 pyfstat.utils.sft INFO    : Loading 1 SFTs from H1...\n",
      "25-08-19 17:19:51.182 pyfstat.utils.sft INFO    : Loading 1 SFTs from H1...\n",
      "25-08-19 17:19:51.193 pyfstat.utils.sft INFO    : Loading 1 SFTs from H1...\n",
      "25-08-19 17:19:51.209 pyfstat.utils.sft INFO    : Loading 1 SFTs from H1...\n",
      "25-08-19 17:19:51.224 pyfstat.utils.sft INFO    : Loading 1 SFTs from H1...\n",
      "25-08-19 17:19:51.235 pyfstat.utils.sft INFO    : Loading 1 SFTs from H1...\n",
      "25-08-19 17:19:51.247 pyfstat.utils.sft INFO    : Loading 1 SFTs from H1...\n",
      "25-08-19 17:19:51.261 pyfstat.utils.sft INFO    : Loading 1 SFTs from H1...\n"
     ]
    },
    {
     "name": "stderr",
     "output_type": "stream",
     "text": [
      "100%|█████████▉| 5757/5760 [01:28<00:00, 74.85it/s]"
     ]
    },
    {
     "name": "stdout",
     "output_type": "stream",
     "text": [
      "25-08-19 17:19:51.276 pyfstat.utils.sft INFO    : Loading 1 SFTs from H1...\n",
      "25-08-19 17:19:51.290 pyfstat.utils.sft INFO    : Loading 1 SFTs from H1...\n",
      "25-08-19 17:19:51.309 pyfstat.utils.sft INFO    : Loading 1 SFTs from H1...\n"
     ]
    },
    {
     "name": "stderr",
     "output_type": "stream",
     "text": [
      "100%|██████████| 5760/5760 [01:28<00:00, 65.41it/s]\n"
     ]
    }
   ],
   "source": [
    "\n",
    "ts = 1368970000\n",
    "Tday = 120\n",
    "timestamps, fourier_data = [], []\n",
    "for i in tqdm(range(48*Tday)):\n",
    "    tstart = ts + i * 1800\n",
    "    frequency, _timestamps, _fourier_data = get_sft_as_arrays('sft2/simCW0/H-1_H1_1800SFT_simCW0-{}-1800.sft'.format(tstart))\n",
    "    timestamps.append(_timestamps['H1'])\n",
    "    fourier_data.append(_fourier_data['H1'])"
   ]
  },
  {
   "cell_type": "code",
   "execution_count": 3,
   "id": "9f27005e-28fe-4efe-8edc-8972022c82eb",
   "metadata": {},
   "outputs": [],
   "source": [
    "timestamps = np.concatenate(timestamps)"
   ]
  },
  {
   "cell_type": "code",
   "execution_count": 4,
   "id": "3d3f9882-67b5-402d-8a71-0adda7e63ce3",
   "metadata": {},
   "outputs": [],
   "source": [
    "fourier_data = np.concatenate(fourier_data,axis=1)"
   ]
  },
  {
   "cell_type": "code",
   "execution_count": 5,
   "id": "83658101-9ce1-44a1-b3f1-00dac95e3d3e",
   "metadata": {},
   "outputs": [
    {
     "data": {
      "image/png": "[encoded data removed]",
      "text/plain": [
       "<Figure size 1600x1000 with 2 Axes>"
      ]
     },
     "metadata": {},
     "output_type": "display_data"
    }
   ],
   "source": [
    "idx = np.where((frequency<20.2)*(frequency>19.9))[0]\n",
    "data1 = fourier_data.real ** 2 + fourier_data.imag ** 2\n",
    "\n",
    "fig, ax = plot_spectrograms(\n",
    "    timestamps, frequency[idx], data1[idx],\n",
    ");\n"
   ]
  },
  {
   "cell_type": "code",
   "execution_count": 38,
   "id": "5afc4e9e-6f9a-4289-a627-33f72ad3cdcc",
   "metadata": {},
   "outputs": [
    {
     "data": {
      "image/png": "[encoded data removed]",
      "text/plain": [
       "<Figure size 1600x1000 with 2 Axes>"
      ]
     },
     "metadata": {},
     "output_type": "display_data"
    }
   ],
   "source": [
    "idx = np.where((frequency<20.2)*(frequency>19.9))[0]\n",
    "data1 = fourier_data.real ** 2 + fourier_data.imag ** 2\n",
    "\n",
    "fig, ax = plot_spectrograms(\n",
    "    timestamps, frequency[idx], data1[idx],\n",
    ");\n"
   ]
  },
  {
   "cell_type": "code",
   "execution_count": null,
   "id": "d705ea8d-064e-4eaf-b6dc-2137e15eeef3",
   "metadata": {},
   "outputs": [],
   "source": []
  }
 ],
 "metadata": {
  "kernelspec": {
   "display_name": "glitch",
   "language": "python",
   "name": "glitch"
  },
  "language_info": {
   "codemirror_mode": {
    "name": "ipython",
    "version": 3
   },
   "file_extension": ".py",
   "mimetype": "text/x-python",
   "name": "python",
   "nbconvert_exporter": "python",
   "pygments_lexer": "ipython3",
   "version": "3.10.16"
  }
 },
 "nbformat": 4,
 "nbformat_minor": 5
}
