{
 "cells": [
  {
   "cell_type": "code",
   "execution_count": 89,
   "id": "35f08cf5-db51-44eb-ba5a-7002db353c9d",
   "metadata": {},
   "outputs": [
    {
     "name": "stdout",
     "output_type": "stream",
     "text": [
      "   n_th_signal  m_th_glitch     f0            f1            f2   f3   f4  \\\n",
      "0            0            0  450.0 -2.586804e-08  6.918300e-18  0.0  0.0   \n",
      "1            1            0  450.0 -2.052730e-08  1.297650e-17  0.0  0.0   \n",
      "2            2            0  450.0 -4.667096e-08  2.889312e-17  0.0  0.0   \n",
      "3            3            0  450.0 -1.818705e-08  3.417274e-18  0.0  0.0   \n",
      "4            4            0  450.0 -1.845055e-08  2.948970e-17  0.0  0.0   \n",
      "\n",
      "       phi0       psi      cosi     alpha     delta  \n",
      "0  3.685169  0.251600  0.394858  6.123768  1.026461  \n",
      "1  0.126339 -0.329745 -0.092915  6.123768  1.026461  \n",
      "2  5.208384  0.185378  0.444111  6.123768  1.026461  \n",
      "3  0.029503 -0.111890  0.732765  6.123768  1.026461  \n",
      "4  4.258847 -0.572596  0.951043  6.123768  1.026461  \n",
      "   n_th_signal  m_th_glitch     f0            f1            f2   f3   f4  \\\n",
      "0            0            0  450.0 -2.586804e-08  6.918300e-18  0.0  0.0   \n",
      "1            0            1  450.0 -2.586804e-08  6.918300e-18  0.0  0.0   \n",
      "2            1            0  450.0 -2.052730e-08  1.297650e-17  0.0  0.0   \n",
      "3            1            1  450.0 -2.052730e-08  1.297650e-17  0.0  0.0   \n",
      "4            2            0  450.0 -4.667096e-08  2.889312e-17  0.0  0.0   \n",
      "\n",
      "       phi0       psi      cosi     alpha     delta     tglitch      df_p  \\\n",
      "0  3.685169  0.251600  0.394858  6.123768  1.026461  1370578707  0.000172   \n",
      "1  3.685169  0.251600  0.394858  6.123768  1.026461  1377129377  0.000133   \n",
      "2  0.126339 -0.329745 -0.092915  6.123768  1.026461  1372233775  0.000030   \n",
      "3  0.126339 -0.329745 -0.092915  6.123768  1.026461  1370521775  0.000056   \n",
      "4  5.208384  0.185378  0.444111  6.123768  1.026461  1374698995  0.000064   \n",
      "\n",
      "       df_t         df1_p        tau         Q  tglitch_day  \n",
      "0  0.000943 -3.937795e-11  1728000.0  0.845483        18.62  \n",
      "1  0.000758 -1.270056e-10  1728000.0  0.850871        94.44  \n",
      "2  0.000442 -1.196580e-10  1728000.0  0.935879        37.78  \n",
      "3  0.000455 -1.861835e-10  1728000.0  0.890739        17.96  \n",
      "4  0.000405 -2.937869e-10  1728000.0  0.864003        66.31  \n"
     ]
    }
   ],
   "source": [
    "import pandas as pd\n",
    "\n",
    "# Load CSV file into a DataFrame\n",
    "df = pd.read_csv('./data/no_glitch/signal_glitch_params.csv')\n",
    "# Display the first few rows\n",
    "print(df.head())\n",
    "\n",
    "df2 = pd.read_csv('./data/with_glitch/signal_glitch_params.csv')\n",
    "# Display the first few rows\n",
    "print(df2.head())\n"
   ]
  },
  {
   "cell_type": "code",
   "execution_count": 34,
   "id": "3f7b5b7a-ebf4-40fe-85ce-e8248465e1a0",
   "metadata": {},
   "outputs": [
    {
     "name": "stdout",
     "output_type": "stream",
     "text": [
      "25-09-10 14:54:48.887 pyfstat.utils.sft INFO    : Loading 7338 SFTs from H1...\n"
     ]
    }
   ],
   "source": [
    "from pyfstat.utils import get_sft_as_arrays\n",
    "\n",
    "filename ='/home/hoitim.cheung/SFTs/o4a_data/SFTs/narrowBand_age300yr/240days/H1/100/H-7338_H1_1800SFT_O4RUN+R1+CGDSCALIBSTRAINCLEANGATEDG02+WTKEY5_NBF0099Hz0W0003Hz0-1368980712-20472783.sft'\n",
    "data = get_sft_as_arrays(filename)"
   ]
  },
  {
   "cell_type": "code",
   "execution_count": 42,
   "id": "aec39856-ba76-466f-aded-8248dd01e5ed",
   "metadata": {},
   "outputs": [
    {
     "data": {
      "text/plain": [
       "599"
      ]
     },
     "execution_count": 42,
     "metadata": {},
     "output_type": "execute_result"
    }
   ],
   "source": [
    "x = np.diff(data[1]['H1'])\n",
    "\n",
    "x[x!=1800].size"
   ]
  },
  {
   "cell_type": "code",
   "execution_count": 55,
   "id": "323aebca-dded-45ab-9ccb-43a7889e5328",
   "metadata": {},
   "outputs": [
    {
     "name": "stdout",
     "output_type": "stream",
     "text": [
      "25-09-10 21:43:57.524 pyfstat.utils.sft INFO    : Loading 4800 SFTs from H1...\n"
     ]
    }
   ],
   "source": [
    "from pyfstat.utils import get_sft_as_arrays\n",
    "\n",
    "filename ='./data/no_glitch/simCW0/H-4800_H1_1800SFT_simCW0_NBF0449Hz0W0002Hz0-1368970000-8640000.sft'\n",
    "data = get_sft_as_arrays(filename)"
   ]
  },
  {
   "cell_type": "code",
   "execution_count": 58,
   "id": "69cb255b-7ebc-4c5b-98c2-6ad89db13715",
   "metadata": {},
   "outputs": [
    {
     "data": {
      "text/plain": [
       "(449.0, 450.99944444444446)"
      ]
     },
     "execution_count": 58,
     "metadata": {},
     "output_type": "execute_result"
    }
   ],
   "source": [
    "data[0][0],data[0][-1]"
   ]
  },
  {
   "cell_type": "code",
   "execution_count": null,
   "id": "fdeb4f13-830c-4ab1-ba58-d87f6937903e",
   "metadata": {},
   "outputs": [],
   "source": []
  },
  {
   "cell_type": "code",
   "execution_count": 90,
   "id": "616846bd-7acd-49f9-9901-f563faab6a58",
   "metadata": {},
   "outputs": [],
   "source": [
    "import numpy as np\n",
    "def grid_size(m, T, factor=1):\n",
    "    df = 2 * np.sqrt(3*m) / np.pi / T\n",
    "    df1 = 12 * np.sqrt(5*m) / np.pi / T**2\n",
    "    df2 = 20 * np.sqrt(7*m) / np.pi / T**3\n",
    "    return [df*factor, df1*factor, df2*factor]\n",
    "\n",
    "m = 0.2 \n",
    "tcoh = 86400*5\n",
    "factor = 4\n",
    "dx = grid_size(m, tcoh, factor)"
   ]
  },
  {
   "cell_type": "code",
   "execution_count": 121,
   "id": "e159c9f4-eb31-4fdd-b3dc-4fa61c0ce943",
   "metadata": {},
   "outputs": [],
   "source": [
    "m = 0.2 \n",
    "tcoh = 86400*5\n",
    "factor = 4\n",
    "dx = grid_size(m, tcoh, factor)"
   ]
  },
  {
   "cell_type": "code",
   "execution_count": 123,
   "id": "a81642bf-b0be-4b20-a666-3a112dc8e647",
   "metadata": {},
   "outputs": [],
   "source": [
    "homedir = '/home/hoitim.cheung/glitch/'\n",
    "n = 100\n",
    "\n",
    "for i in range(n):\n",
    "    command = (\n",
    "        f\"lalpulsar_Weave \"\n",
    "        f\"--output-file={homedir+'results/with_glitch_CW'+{i}+'.fts'} \"\n",
    "        f\"--sft-files={homedir+'data/with_glitch/xxx'}' \"\n",
    "        f\"--setup-file={homedir}+'metric/metric_5d.fts' \"\n",
    "        f\"--semi-max-mismatch=0.2 \"\n",
    "        f\"--coh-max-mismatch=0.1 \"\n",
    "        f\"--toplist-limit=1000 \"\n",
    "        f\"--extra-statistics='coh2F_det,mean2F,coh2F_det,mean2F_det' \"\n",
    "        f\"--alpha={df['alpha'][i]}/0 \"\n",
    "        f\"--delta={df['delta'][i]}/0 \"\n",
    "        f\"--freq={df['f0'][i]-dx[0]}/{2*dx[0]} \"\n",
    "        f\"--f1dot={df['f1'][i]-dx[1]}/{2*dx[1]} \"\n",
    "        f\"--f2dot={df['f2'][i]-dx[2]}/{2*dx[2]}\"\n",
    "    )"
   ]
  },
  {
   "cell_type": "markdown",
   "id": "a25a9bc3-9fde-4d70-8975-75dd16d5b083",
   "metadata": {},
   "source": [
    "\"lalpulsar_Weave --output-file='test_glitch_10d.fts' --sft-files='./data/with_glitch/simCW0/H-4800_H1_1800SFT_simCW0_NBF0449Hz0W0002Hz0-1368970000-8640000.sft' --setup-file='test_metric_10d.fts' --semi-max-mismatch=0.2 --coh-max-mismatch=0.1 --toplist-limit=1000 --extra-statistics='coh2F_det,mean2F,coh2F_det,mean2F_det' --alpha=6.12376766/0 --delta=1.0264611/0 --freq=449.9999988585103/2.2829794224499995e-06 --f1dot=-2.587827352833667e-08/2.046745667334045e-11 --f2dot=-1.6439552550458482e-17/4.671570472091696e-17\""
   ]
  },
  {
   "cell_type": "markdown",
   "id": "a6679dd8-fda4-410f-9fa0-d6c2cabe14c9",
   "metadata": {},
   "source": [
    "lalpulsar_Weave --output-file='test_glitch.fts' --sft-files='./data/with_glitch/simCW0/H-4800_H1_1800SFT_simCW0_NBF0449Hz0W0002Hz0-1368970000-8640000.sft' --setup-file='test_metric.fts' --semi-max-mismatch=0.2 --coh-max-mismatch=0.1 --toplist-limit=1000 --extra-statistics='coh2F_det,mean2F,coh2F_det,mean2F_det' --alpha=6.12376766/0 --delta=1.0264611/0 --freq=449.9999988585103/2.2829794224499995e-06 --f1dot=-2.587827352833667e-08/2.046745667334045e-11 --f2dot=-1.6439552550458482e-17/4.671570472091696e-17"
   ]
  },
  {
   "cell_type": "code",
   "execution_count": 77,
   "id": "da53d63f-43e0-4e84-8c66-9885b7e1e152",
   "metadata": {},
   "outputs": [],
   "source": [
    "from astropy.io import fits \n"
   ]
  },
  {
   "cell_type": "code",
   "execution_count": 81,
   "id": "bf310364-a247-4e0c-b8b7-53c1d248554c",
   "metadata": {},
   "outputs": [],
   "source": [
    "d1 = fits.open('./test.fts')\n",
    "d2 = fits.open('./test_glitch.fts')"
   ]
  },
  {
   "cell_type": "code",
   "execution_count": 83,
   "id": "76fb3327-239f-4946-8dcf-1784dc5473f4",
   "metadata": {},
   "outputs": [
    {
     "data": {
      "text/plain": [
       "(array([23.370684, 21.537443, 20.785812, 20.640606, 19.693975], dtype='>f4'),\n",
       " array([8.86996 , 8.861069, 8.838789, 8.599602, 8.578539], dtype='>f4'))"
      ]
     },
     "execution_count": 83,
     "metadata": {},
     "output_type": "execute_result"
    }
   ],
   "source": [
    "d1[1].data['mean2F'][:5], d2[1].data['mean2F'][:5]"
   ]
  },
  {
   "cell_type": "code",
   "execution_count": 87,
   "id": "c2b52742-cd0a-4f8e-99e9-492696e57eaf",
   "metadata": {},
   "outputs": [
    {
     "data": {
      "image/png": "[encoded data removed]",
      "text/plain": [
       "<Figure size 640x480 with 1 Axes>"
      ]
     },
     "metadata": {},
     "output_type": "display_data"
    }
   ],
   "source": [
    "import matplotlib.pyplot as plt\n",
    "%matplotlib inline\n",
    "\n",
    "plt.hist((d1[1].data['mean2F']-d2[1].data['mean2F'])/d1[1].data['mean2F'])\n",
    "plt.show()"
   ]
  },
  {
   "cell_type": "code",
   "execution_count": 115,
   "id": "7bf2ea90-2f82-4c32-b072-c70f11b0d9ec",
   "metadata": {},
   "outputs": [
    {
     "name": "stdout",
     "output_type": "stream",
     "text": [
      "[44.852654 41.658066 39.179073 37.83506  37.467773] [14.147722 13.73482  13.731223 13.126192 13.116727]\n"
     ]
    }
   ],
   "source": [
    "d1 = fits.open('./test_10d.fts')\n",
    "d2 = fits.open('./test_glitch_10d.fts')\n",
    "\n",
    "print(d1[1].data['mean2F'][:5], d2[1].data['mean2F'][:5])"
   ]
  },
  {
   "cell_type": "code",
   "execution_count": 116,
   "id": "c693f3a3-6731-4107-ac00-57d79b0874c3",
   "metadata": {},
   "outputs": [
    {
     "data": {
      "image/png": "[encoded data removed]",
      "text/plain": [
       "<Figure size 640x480 with 1 Axes>"
      ]
     },
     "metadata": {},
     "output_type": "display_data"
    }
   ],
   "source": [
    "plt.hist((d1[1].data['mean2F']-d2[1].data['mean2F'])/d1[1].data['mean2F'])\n",
    "plt.show()"
   ]
  },
  {
   "cell_type": "code",
   "execution_count": 103,
   "id": "d38a343e-0722-4f02-abb5-50fb850a3cc0",
   "metadata": {},
   "outputs": [
    {
     "name": "stdout",
     "output_type": "stream",
     "text": [
      "[23.370684 21.537443 20.785812 20.640606 19.693975] [44.852654 41.658066 39.179073 37.83506  37.467773]\n"
     ]
    },
    {
     "data": {
      "image/png": "[encoded data removed]",
      "text/plain": [
       "<Figure size 640x480 with 1 Axes>"
      ]
     },
     "metadata": {},
     "output_type": "display_data"
    }
   ],
   "source": [
    "d1 = fits.open('./test.fts')\n",
    "d2 = fits.open('./test_10d.fts')\n",
    "\n",
    "print(d1[1].data['mean2F'][:5], d2[1].data['mean2F'][:5])\n",
    "\n",
    "plt.hist((d2[1].data['mean2F'])/d1[1].data['mean2F'])\n",
    "plt.show()"
   ]
  },
  {
   "cell_type": "code",
   "execution_count": 125,
   "id": "3d1d5a98-78a2-480c-9215-78de537efe18",
   "metadata": {},
   "outputs": [
    {
     "name": "stdout",
     "output_type": "stream",
     "text": [
      "[10.913886 10.561692 10.027872  9.731186  9.702815] [14.152377 13.760737 13.742172 13.471229 13.458594]\n"
     ]
    },
    {
     "data": {
      "image/png": "[encoded data removed]",
      "text/plain": [
       "<Figure size 640x480 with 1 Axes>"
      ]
     },
     "metadata": {},
     "output_type": "display_data"
    }
   ],
   "source": [
    "d1 = fits.open('./test_glitch.fts')\n",
    "d2 = fits.open('./test_glitch_10d.fts')\n",
    "\n",
    "print(d1[1].data['mean2F'][:5], d2[1].data['mean2F'][:5])\n",
    "\n",
    "plt.hist((d2[1].data['mean2F'])/d1[1].data['mean2F'])\n",
    "plt.show()"
   ]
  },
  {
   "cell_type": "code",
   "execution_count": null,
   "id": "cb24bf03-b78f-44ec-9124-2360f7f39dd3",
   "metadata": {},
   "outputs": [],
   "source": []
  }
 ],
 "metadata": {
  "kernelspec": {
   "display_name": "glitch",
   "language": "python",
   "name": "glitch"
  },
  "language_info": {
   "codemirror_mode": {
    "name": "ipython",
    "version": 3
   },
   "file_extension": ".py",
   "mimetype": "text/x-python",
   "name": "python",
   "nbconvert_exporter": "python",
   "pygments_lexer": "ipython3",
   "version": "3.10.16"
  }
 },
 "nbformat": 4,
 "nbformat_minor": 5
}
