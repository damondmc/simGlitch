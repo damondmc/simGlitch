{
 "cells": [
  {
   "cell_type": "code",
   "execution_count": 141,
   "id": "35f08cf5-db51-44eb-ba5a-7002db353c9d",
   "metadata": {},
   "outputs": [
    {
     "name": "stdout",
     "output_type": "stream",
     "text": [
      "   n_th_signal  m_th_glitch     f0            f1            f2   f3   f4  \\\n",
      "0            0            0  450.0 -2.586804e-08  6.918300e-18  0.0  0.0   \n",
      "1            1            0  450.0 -2.052730e-08  1.297650e-17  0.0  0.0   \n",
      "2            2            0  450.0 -4.667096e-08  2.889312e-17  0.0  0.0   \n",
      "3            3            0  450.0 -1.818705e-08  3.417274e-18  0.0  0.0   \n",
      "4            4            0  450.0 -1.845055e-08  2.948970e-17  0.0  0.0   \n",
      "\n",
      "       phi0       psi      cosi     alpha     delta  \n",
      "0  3.685169  0.251600  0.394858  6.123768  1.026461  \n",
      "1  0.126339 -0.329745 -0.092915  6.123768  1.026461  \n",
      "2  5.208384  0.185378  0.444111  6.123768  1.026461  \n",
      "3  0.029503 -0.111890  0.732765  6.123768  1.026461  \n",
      "4  4.258847 -0.572596  0.951043  6.123768  1.026461  \n",
      "   n_th_signal  m_th_glitch     f0            f1            f2   f3   f4  \\\n",
      "0            0            0  450.0 -2.586804e-08  6.918300e-18  0.0  0.0   \n",
      "1            0            1  450.0 -2.586804e-08  6.918300e-18  0.0  0.0   \n",
      "2            1            0  450.0 -2.052730e-08  1.297650e-17  0.0  0.0   \n",
      "3            1            1  450.0 -2.052730e-08  1.297650e-17  0.0  0.0   \n",
      "4            2            0  450.0 -4.667096e-08  2.889312e-17  0.0  0.0   \n",
      "\n",
      "       phi0       psi      cosi     alpha     delta     tglitch      df_p  \\\n",
      "0  3.685169  0.251600  0.394858  6.123768  1.026461  1370578707  0.000172   \n",
      "1  3.685169  0.251600  0.394858  6.123768  1.026461  1377129377  0.000133   \n",
      "2  0.126339 -0.329745 -0.092915  6.123768  1.026461  1372233775  0.000030   \n",
      "3  0.126339 -0.329745 -0.092915  6.123768  1.026461  1370521775  0.000056   \n",
      "4  5.208384  0.185378  0.444111  6.123768  1.026461  1374698995  0.000064   \n",
      "\n",
      "       df_t         df1_p        tau         Q  tglitch_day  \n",
      "0  0.000943 -3.937795e-11  1728000.0  0.845483        18.62  \n",
      "1  0.000758 -1.270056e-10  1728000.0  0.850871        94.44  \n",
      "2  0.000442 -1.196580e-10  1728000.0  0.935879        37.78  \n",
      "3  0.000455 -1.861835e-10  1728000.0  0.890739        17.96  \n",
      "4  0.000405 -2.937869e-10  1728000.0  0.864003        66.31  \n"
     ]
    }
   ],
   "source": [
    "import pandas as pd\n",
    "\n",
    "# Load CSV file into a DataFrame\n",
    "df = pd.read_csv('./data/no_glitch/signal_glitch_params.csv')\n",
    "# Display the first few rows\n",
    "print(df.head())\n",
    "\n",
    "df2 = pd.read_csv('./data/with_glitch/signal_glitch_params.csv')\n",
    "# Display the first few rows\n",
    "print(df2.head())\n"
   ]
  },
  {
   "cell_type": "code",
   "execution_count": 34,
   "id": "3f7b5b7a-ebf4-40fe-85ce-e8248465e1a0",
   "metadata": {},
   "outputs": [
    {
     "name": "stdout",
     "output_type": "stream",
     "text": [
      "25-09-10 14:54:48.887 pyfstat.utils.sft INFO    : Loading 7338 SFTs from H1...\n"
     ]
    }
   ],
   "source": [
    "from pyfstat.utils import get_sft_as_arrays\n",
    "\n",
    "filename ='/home/hoitim.cheung/SFTs/o4a_data/SFTs/narrowBand_age300yr/240days/H1/100/H-7338_H1_1800SFT_O4RUN+R1+CGDSCALIBSTRAINCLEANGATEDG02+WTKEY5_NBF0099Hz0W0003Hz0-1368980712-20472783.sft'\n",
    "data = get_sft_as_arrays(filename)"
   ]
  },
  {
   "cell_type": "code",
   "execution_count": 42,
   "id": "aec39856-ba76-466f-aded-8248dd01e5ed",
   "metadata": {},
   "outputs": [
    {
     "data": {
      "text/plain": [
       "599"
      ]
     },
     "execution_count": 42,
     "metadata": {},
     "output_type": "execute_result"
    }
   ],
   "source": [
    "x = np.diff(data[1]['H1'])\n",
    "\n",
    "x[x!=1800].size"
   ]
  },
  {
   "cell_type": "code",
   "execution_count": 55,
   "id": "323aebca-dded-45ab-9ccb-43a7889e5328",
   "metadata": {},
   "outputs": [
    {
     "name": "stdout",
     "output_type": "stream",
     "text": [
      "25-09-10 21:43:57.524 pyfstat.utils.sft INFO    : Loading 4800 SFTs from H1...\n"
     ]
    }
   ],
   "source": [
    "from pyfstat.utils import get_sft_as_arrays\n",
    "\n",
    "filename ='./data/no_glitch/simCW0/H-4800_H1_1800SFT_simCW0_NBF0449Hz0W0002Hz0-1368970000-8640000.sft'\n",
    "data = get_sft_as_arrays(filename)"
   ]
  },
  {
   "cell_type": "code",
   "execution_count": 58,
   "id": "69cb255b-7ebc-4c5b-98c2-6ad89db13715",
   "metadata": {},
   "outputs": [
    {
     "data": {
      "text/plain": [
       "(449.0, 450.99944444444446)"
      ]
     },
     "execution_count": 58,
     "metadata": {},
     "output_type": "execute_result"
    }
   ],
   "source": [
    "data[0][0],data[0][-1]"
   ]
  },
  {
   "cell_type": "code",
   "execution_count": null,
   "id": "fdeb4f13-830c-4ab1-ba58-d87f6937903e",
   "metadata": {},
   "outputs": [],
   "source": []
  },
  {
   "cell_type": "code",
   "execution_count": 90,
   "id": "616846bd-7acd-49f9-9901-f563faab6a58",
   "metadata": {},
   "outputs": [],
   "source": [
    "import numpy as np\n",
    "def grid_size(m, T, factor=1):\n",
    "    df = 2 * np.sqrt(3*m) / np.pi / T\n",
    "    df1 = 12 * np.sqrt(5*m) / np.pi / T**2\n",
    "    df2 = 20 * np.sqrt(7*m) / np.pi / T**3\n",
    "    return [df*factor, df1*factor, df2*factor]\n",
    "\n",
    "m = 0.2 \n",
    "tcoh = 86400*5\n",
    "factor = 4\n",
    "dx = grid_size(m, tcoh, factor)"
   ]
  },
  {
   "cell_type": "code",
   "execution_count": 121,
   "id": "e159c9f4-eb31-4fdd-b3dc-4fa61c0ce943",
   "metadata": {},
   "outputs": [],
   "source": [
    "m = 0.2 \n",
    "tcoh = 86400*5\n",
    "factor = 4\n",
    "dx = grid_size(m, tcoh, factor)"
   ]
  },
  {
   "cell_type": "code",
   "execution_count": 123,
   "id": "a81642bf-b0be-4b20-a666-3a112dc8e647",
   "metadata": {},
   "outputs": [],
   "source": [
    "homedir = '/home/hoitim.cheung/glitch/'\n",
    "n = 100\n",
    "\n",
    "for i in range(n):\n",
    "    command = (\n",
    "        f\"lalpulsar_Weave \"\n",
    "        f\"--output-file={homedir+'results/with_glitch_CW'+{i}+'.fts'} \"\n",
    "        f\"--sft-files={homedir+'data/with_glitch/xxx'}' \"\n",
    "        f\"--setup-file={homedir}+'metric/metric_5d.fts' \"\n",
    "        f\"--semi-max-mismatch=0.2 \"\n",
    "        f\"--coh-max-mismatch=0.1 \"\n",
    "        f\"--toplist-limit=1000 \"\n",
    "        f\"--extra-statistics='coh2F_det,mean2F,coh2F_det,mean2F_det' \"\n",
    "        f\"--alpha={df['alpha'][i]}/0 \"\n",
    "        f\"--delta={df['delta'][i]}/0 \"\n",
    "        f\"--freq={df['f0'][i]-dx[0]}/{2*dx[0]} \"\n",
    "        f\"--f1dot={df['f1'][i]-dx[1]}/{2*dx[1]} \"\n",
    "        f\"--f2dot={df['f2'][i]-dx[2]}/{2*dx[2]}\"\n",
    "    )"
   ]
  },
  {
   "cell_type": "markdown",
   "id": "a25a9bc3-9fde-4d70-8975-75dd16d5b083",
   "metadata": {},
   "source": [
    "\"lalpulsar_Weave --output-file='test_glitch_10d.fts' --sft-files='./data/with_glitch/simCW0/H-4800_H1_1800SFT_simCW0_NBF0449Hz0W0002Hz0-1368970000-8640000.sft' --setup-file='test_metric_10d.fts' --semi-max-mismatch=0.2 --coh-max-mismatch=0.1 --toplist-limit=1000 --extra-statistics='coh2F_det,mean2F,coh2F_det,mean2F_det' --alpha=6.12376766/0 --delta=1.0264611/0 --freq=449.9999988585103/2.2829794224499995e-06 --f1dot=-2.587827352833667e-08/2.046745667334045e-11 --f2dot=-1.6439552550458482e-17/4.671570472091696e-17\""
   ]
  },
  {
   "cell_type": "markdown",
   "id": "a6679dd8-fda4-410f-9fa0-d6c2cabe14c9",
   "metadata": {},
   "source": [
    "lalpulsar_Weave --output-file='test_glitch.fts' --sft-files='./data/with_glitch/simCW0/H-4800_H1_1800SFT_simCW0_NBF0449Hz0W0002Hz0-1368970000-8640000.sft' --setup-file='test_metric.fts' --semi-max-mismatch=0.2 --coh-max-mismatch=0.1 --toplist-limit=1000 --extra-statistics='coh2F_det,mean2F,coh2F_det,mean2F_det' --alpha=6.12376766/0 --delta=1.0264611/0 --freq=449.9999988585103/2.2829794224499995e-06 --f1dot=-2.587827352833667e-08/2.046745667334045e-11 --f2dot=-1.6439552550458482e-17/4.671570472091696e-17"
   ]
  },
  {
   "cell_type": "code",
   "execution_count": 77,
   "id": "da53d63f-43e0-4e84-8c66-9885b7e1e152",
   "metadata": {},
   "outputs": [],
   "source": [
    "from astropy.io import fits \n"
   ]
  },
  {
   "cell_type": "code",
   "execution_count": 81,
   "id": "bf310364-a247-4e0c-b8b7-53c1d248554c",
   "metadata": {},
   "outputs": [],
   "source": [
    "d1 = fits.open('./test.fts')\n",
    "d2 = fits.open('./test_glitch.fts')"
   ]
  },
  {
   "cell_type": "code",
   "execution_count": 83,
   "id": "76fb3327-239f-4946-8dcf-1784dc5473f4",
   "metadata": {},
   "outputs": [
    {
     "data": {
      "text/plain": [
       "(array([23.370684, 21.537443, 20.785812, 20.640606, 19.693975], dtype='>f4'),\n",
       " array([8.86996 , 8.861069, 8.838789, 8.599602, 8.578539], dtype='>f4'))"
      ]
     },
     "execution_count": 83,
     "metadata": {},
     "output_type": "execute_result"
    }
   ],
   "source": [
    "d1[1].data['mean2F'][:5], d2[1].data['mean2F'][:5]"
   ]
  },
  {
   "cell_type": "code",
   "execution_count": 87,
   "id": "c2b52742-cd0a-4f8e-99e9-492696e57eaf",
   "metadata": {},
   "outputs": [
    {
     "data": {
      "image/png": "[encoded data removed]",
      "text/plain": [
       "<Figure size 640x480 with 1 Axes>"
      ]
     },
     "metadata": {},
     "output_type": "display_data"
    }
   ],
   "source": [
    "import matplotlib.pyplot as plt\n",
    "%matplotlib inline\n",
    "\n",
    "plt.hist((d1[1].data['mean2F']-d2[1].data['mean2F'])/d1[1].data['mean2F'])\n",
    "plt.show()"
   ]
  },
  {
   "cell_type": "code",
   "execution_count": 115,
   "id": "7bf2ea90-2f82-4c32-b072-c70f11b0d9ec",
   "metadata": {},
   "outputs": [
    {
     "name": "stdout",
     "output_type": "stream",
     "text": [
      "[44.852654 41.658066 39.179073 37.83506  37.467773] [14.147722 13.73482  13.731223 13.126192 13.116727]\n"
     ]
    }
   ],
   "source": [
    "d1 = fits.open('./test_10d.fts')\n",
    "d2 = fits.open('./test_glitch_10d.fts')\n",
    "\n",
    "print(d1[1].data['mean2F'][:5], d2[1].data['mean2F'][:5])"
   ]
  },
  {
   "cell_type": "code",
   "execution_count": 116,
   "id": "c693f3a3-6731-4107-ac00-57d79b0874c3",
   "metadata": {},
   "outputs": [
    {
     "data": {
      "image/png": "[encoded data removed]",
      "text/plain": [
       "<Figure size 640x480 with 1 Axes>"
      ]
     },
     "metadata": {},
     "output_type": "display_data"
    }
   ],
   "source": [
    "plt.hist((d1[1].data['mean2F']-d2[1].data['mean2F'])/d1[1].data['mean2F'])\n",
    "plt.show()"
   ]
  },
  {
   "cell_type": "code",
   "execution_count": 103,
   "id": "d38a343e-0722-4f02-abb5-50fb850a3cc0",
   "metadata": {},
   "outputs": [
    {
     "name": "stdout",
     "output_type": "stream",
     "text": [
      "[23.370684 21.537443 20.785812 20.640606 19.693975] [44.852654 41.658066 39.179073 37.83506  37.467773]\n"
     ]
    },
    {
     "data": {
      "image/png": "[encoded data removed]",
      "text/plain": [
       "<Figure size 640x480 with 1 Axes>"
      ]
     },
     "metadata": {},
     "output_type": "display_data"
    }
   ],
   "source": [
    "d1 = fits.open('./test.fts')\n",
    "d2 = fits.open('./test_10d.fts')\n",
    "\n",
    "print(d1[1].data['mean2F'][:5], d2[1].data['mean2F'][:5])\n",
    "\n",
    "plt.hist((d2[1].data['mean2F'])/d1[1].data['mean2F'])\n",
    "plt.show()"
   ]
  },
  {
   "cell_type": "code",
   "execution_count": null,
   "id": "3d1d5a98-78a2-480c-9215-78de537efe18",
   "metadata": {},
   "outputs": [],
   "source": [
    "d1 = fits.open('./test_glitch.fts')\n",
    "d2 = fits.open('./test_glitch_10d.fts')\n",
    "\n",
    "print(d1[1].data['mean2F'][:5], d2[1].data['mean2F'][:5])\n",
    "\n",
    "plt.hist((d2[1].data['mean2F'])/d1[1].data['mean2F'])\n",
    "plt.show()"
   ]
  },
  {
   "cell_type": "code",
   "execution_count": null,
   "id": "0e3a3565-6a60-4665-a5b4-da57a234eccc",
   "metadata": {},
   "outputs": [],
   "source": []
  },
  {
   "cell_type": "code",
   "execution_count": 139,
   "id": "819e75d1-28e4-44d6-9ceb-09b4339297ec",
   "metadata": {},
   "outputs": [
    {
     "data": {
      "image/png": "[encoded data removed]",
      "text/plain": [
       "<Figure size 640x480 with 1 Axes>"
      ]
     },
     "metadata": {},
     "output_type": "display_data"
    }
   ],
   "source": [
    "res = []\n",
    "for i in range(32):\n",
    "    d1 = fits.open(f'./results/5d/no_glitch_CW{i}.fts')\n",
    "    d2 = fits.open(f'./results/5d/with_glitch_CW{i}.fts')\n",
    "\n",
    "    r = d1[1].data['mean2F'][:5]/d2[1].data['mean2F'][:5]\n",
    "    res.append(r)\n",
    "\n",
    "plt.hist(np.concatenate(res))\n",
    "#plt.xscale('log')\n",
    "plt.show()"
   ]
  },
  {
   "cell_type": "code",
   "execution_count": 140,
   "id": "a7c25592-0b97-4be2-baae-0e58c96a6ab5",
   "metadata": {},
   "outputs": [
    {
     "data": {
      "image/png": "[encoded data removed]",
      "text/plain": [
       "<Figure size 640x480 with 1 Axes>"
      ]
     },
     "metadata": {},
     "output_type": "display_data"
    }
   ],
   "source": [
    "res = []\n",
    "for i in range(32):\n",
    "    d1 = fits.open(f'./results/10d/no_glitch_CW{i}.fts')\n",
    "    d2 = fits.open(f'./results/10d/with_glitch_CW{i}.fts')\n",
    "\n",
    "    r = d1[1].data['mean2F'][:5]/d2[1].data['mean2F'][:5]\n",
    "    res.append(r)\n",
    "\n",
    "plt.hist(np.concatenate(res))\n",
    "#plt.xscale('log')\n",
    "plt.show()"
   ]
  },
  {
   "cell_type": "code",
   "execution_count": 135,
   "id": "4531a78d-689c-4ebd-8111-fa6f5f1a1cd1",
   "metadata": {},
   "outputs": [
    {
     "data": {
      "image/png": "[encoded data removed]",
      "text/plain": [
       "<Figure size 640x480 with 1 Axes>"
      ]
     },
     "metadata": {},
     "output_type": "display_data"
    }
   ],
   "source": [
    "res = []\n",
    "for i in range(32):\n",
    "    d1 = fits.open(f'./results/10d/no_glitch_CW{i}.fts')\n",
    "    d2 = fits.open(f'./results/5d/no_glitch_CW{i}.fts')\n",
    "\n",
    "    r = d1[1].data['mean2F'][:5]/d2[1].data['mean2F'][:5]\n",
    "    res.append(r)\n",
    "\n",
    "plt.hist(np.concatenate(res))\n",
    "#plt.xscale('log')\n",
    "plt.show()"
   ]
  },
  {
   "cell_type": "code",
   "execution_count": 138,
   "id": "c5260979-8d45-42c6-8a91-73b448d2b7bd",
   "metadata": {},
   "outputs": [
    {
     "data": {
      "image/png": "[encoded data removed]",
      "text/plain": [
       "<Figure size 640x480 with 1 Axes>"
      ]
     },
     "metadata": {},
     "output_type": "display_data"
    }
   ],
   "source": [
    "res = []\n",
    "for i in range(32):\n",
    "    d1 = fits.open(f'./results/10d/with_glitch_CW{i}.fts')\n",
    "    d2 = fits.open(f'./results/5d/with_glitch_CW{i}.fts')\n",
    "\n",
    "    r = d1[1].data['mean2F'][:5]/d2[1].data['mean2F'][:5]\n",
    "    res.append(r)\n",
    "\n",
    "plt.hist(np.concatenate(res))\n",
    "#plt.xscale('log')\n",
    "plt.show()"
   ]
  },
  {
   "cell_type": "code",
   "execution_count": 143,
   "id": "0d5cf9be-f8d3-4548-80d3-28cdfa20ca7d",
   "metadata": {},
   "outputs": [
    {
     "data": {
      "image/png": "[encoded data removed]",
      "text/plain": [
       "<Figure size 640x480 with 1 Axes>"
      ]
     },
     "metadata": {},
     "output_type": "display_data"
    }
   ],
   "source": [
    "res = []\n",
    "for i in range(32):\n",
    "    d1 = fits.open(f'./results/10d/with_glitch_goodCase_CW{i}.fts')\n",
    "    d2 = fits.open(f'./results/5d/with_glitch_goodCase_CW{i}.fts')\n",
    "\n",
    "    r = d1[1].data['mean2F'][:5]/d2[1].data['mean2F'][:5]\n",
    "    res.append(r)\n",
    "\n",
    "plt.hist(np.concatenate(res))\n",
    "#plt.xscale('log')\n",
    "plt.show()"
   ]
  },
  {
   "cell_type": "code",
   "execution_count": 148,
   "id": "17e661cb-a123-42de-ae7f-622413ae18ea",
   "metadata": {},
   "outputs": [
    {
     "data": {
      "image/png": "[encoded data removed]",
      "text/plain": [
       "<Figure size 640x480 with 1 Axes>"
      ]
     },
     "metadata": {},
     "output_type": "display_data"
    }
   ],
   "source": [
    "res = []\n",
    "for i in range(32):\n",
    "    d1 = fits.open(f'./results/5d/with_glitch_CW{i}.fts')\n",
    "    d2 = fits.open(f'./results/5d/with_glitch_goodCase_CW{i}.fts')\n",
    "\n",
    "    r = d1[1].data['mean2F'][:5]/d2[1].data['mean2F'][:5]\n",
    "    res.append(r)\n",
    "\n",
    "plt.hist(np.concatenate(res))\n",
    "#plt.xscale('log')\n",
    "plt.show()"
   ]
  },
  {
   "cell_type": "code",
   "execution_count": 168,
   "id": "7f1d601e-5e89-457e-b78c-e72b06b6fcfe",
   "metadata": {},
   "outputs": [],
   "source": [
    "i = 0 \n",
    "d1 = fits.open(f'./results/5d/no_glitch_CW{i}.fts')\n",
    "d2 = fits.open(f'./results/5d/with_glitch_CW{i}.fts')\n"
   ]
  },
  {
   "cell_type": "code",
   "execution_count": 169,
   "id": "85a945eb-efeb-4bf7-a7f1-e6ee0c1fbc56",
   "metadata": {},
   "outputs": [
    {
     "data": {
      "text/plain": [
       "array([ 8.926504, 47.97625 , 28.363565, 28.213156, 21.3011  , 39.276665,\n",
       "       31.08508 , 38.54354 , 20.048424, 17.25848 , 23.235926, 27.139254,\n",
       "       26.240181, 25.732943, 23.132383, 12.050399,  6.662976, 12.008749,\n",
       "       12.904875, 11.850361], dtype='>f4')"
      ]
     },
     "execution_count": 169,
     "metadata": {},
     "output_type": "execute_result"
    }
   ],
   "source": [
    "d1[1].data['coh2F_H1'][0]"
   ]
  },
  {
   "cell_type": "code",
   "execution_count": 170,
   "id": "98009101-29ca-445d-8b7f-c913c4263a43",
   "metadata": {},
   "outputs": [
    {
     "data": {
      "text/plain": [
       "array([ 2.9927444 , 16.748585  ,  7.502404  , 17.732496  ,  0.39915663,\n",
       "        7.3653107 ,  3.7917538 ,  1.8649892 , 15.974707  ,  1.1791039 ,\n",
       "       27.281052  ,  1.7118919 ,  1.1019003 , 13.509737  ,  2.3654807 ,\n",
       "       10.634584  , 39.07148   , 33.647263  ,  5.302541  ,  8.046624  ],\n",
       "      dtype='>f4')"
      ]
     },
     "execution_count": 170,
     "metadata": {},
     "output_type": "execute_result"
    }
   ],
   "source": [
    "d2[1].data['coh2F_H1'][0]"
   ]
  },
  {
   "cell_type": "code",
   "execution_count": 172,
   "id": "07a77dec-d44f-44d9-badf-a377788b93d1",
   "metadata": {},
   "outputs": [
    {
     "data": {
      "text/plain": [
       "array([0.335265  , 0.34910157, 0.26450852, 0.6285187 , 0.01873878,\n",
       "       0.18752383, 0.12197986, 0.04838656, 0.7968061 , 0.06832026,\n",
       "       1.1740893 , 0.06307808, 0.04199286, 0.5249978 , 0.10225841,\n",
       "       0.88250893, 5.8639684 , 2.8018956 , 0.4108944 , 0.67901933],\n",
       "      dtype=float32)"
      ]
     },
     "execution_count": 172,
     "metadata": {},
     "output_type": "execute_result"
    }
   ],
   "source": [
    "d2[1].data['coh2F_H1'][0]/d1[1].data['coh2F_H1'][0]"
   ]
  },
  {
   "cell_type": "code",
   "execution_count": 173,
   "id": "00cf61de-81fd-4f8c-b283-85448e277920",
   "metadata": {},
   "outputs": [
    {
     "data": {
      "text/plain": [
       "array([1.11878   , 0.02951068, 0.38229975, 0.15585922, 0.3255344 ,\n",
       "       0.06067304, 0.13987195, 0.37490445, 0.80194104, 0.07545131,\n",
       "       1.1740893 , 0.06307808, 0.04199286, 0.39387834, 0.07423865,\n",
       "       1.0950752 , 5.8639684 , 2.8018956 , 0.31021973, 0.6094539 ],\n",
       "      dtype=float32)"
      ]
     },
     "execution_count": 173,
     "metadata": {},
     "output_type": "execute_result"
    }
   ],
   "source": [
    "d2[1].data['coh2F_H1'][1]/d1[1].data['coh2F_H1'][0]"
   ]
  },
  {
   "cell_type": "code",
   "execution_count": 174,
   "id": "15c14572-922d-4270-90d6-ae14a88bb8e7",
   "metadata": {},
   "outputs": [
    {
     "data": {
      "text/plain": [
       "array([0.26844895, 0.2631654 , 0.22823861, 0.6270463 , 0.01873878,\n",
       "       0.10776121, 0.12184732, 0.22101918, 0.80194104, 0.16125968,\n",
       "       1.1161659 , 0.04385437, 0.03187893, 0.5361911 , 0.08787874,\n",
       "       0.88250893, 5.8639684 , 1.3661836 , 0.49712443, 0.5098243 ],\n",
       "      dtype=float32)"
      ]
     },
     "execution_count": 174,
     "metadata": {},
     "output_type": "execute_result"
    }
   ],
   "source": [
    "d2[1].data['coh2F_H1'][2]/d1[1].data['coh2F_H1'][0]"
   ]
  },
  {
   "cell_type": "code",
   "execution_count": 185,
   "id": "c0a2877f-09d4-4059-8d6c-63816562ab49",
   "metadata": {},
   "outputs": [
    {
     "data": {
      "text/plain": [
       "((11988, 6.12376766, 1.0264610999999997, 449.9999989936456, -2.5942609059129485e-08, 2.719483587735046e-17, 10.911191),\n",
       " (14007, 6.12376766, 1.0264610999999997, 449.9999997700804, -2.5867855249727426e-08, 7.017528830068509e-18, 23.097542))"
      ]
     },
     "execution_count": 185,
     "metadata": {},
     "output_type": "execute_result"
    }
   ],
   "source": [
    "d2[1].data[0][:-7], d1[1].data[0][:-7]"
   ]
  },
  {
   "cell_type": "code",
   "execution_count": 188,
   "id": "2272917c-3cf8-44dd-ad07-dac62cd43d36",
   "metadata": {},
   "outputs": [
    {
     "data": {
      "text/plain": [
       "(array([ 2.9927444 , 16.748585  ,  7.502404  , 17.732496  ,  0.39915663,\n",
       "         7.3653107 ,  3.7917538 ,  1.8649892 , 15.974707  ,  1.1791039 ,\n",
       "        27.281052  ,  1.7118919 ,  1.1019003 , 13.509737  ,  2.3654807 ,\n",
       "        10.634584  , 39.07148   , 33.647263  ,  5.302541  ,  8.046624  ],\n",
       "       dtype='>f4'),\n",
       " array([ 8.926504, 47.97625 , 28.363565, 28.213156, 21.3011  , 39.276665,\n",
       "        31.08508 , 38.54354 , 20.048424, 17.25848 , 23.235926, 27.139254,\n",
       "        26.240181, 25.732943, 23.132383, 12.050399,  6.662976, 12.008749,\n",
       "        12.904875, 11.850361], dtype='>f4'))"
      ]
     },
     "execution_count": 188,
     "metadata": {},
     "output_type": "execute_result"
    }
   ],
   "source": [
    "d2[1].data[0]['coh2F_H1'], d1[1].data[0]['coh2F_H1']"
   ]
  },
  {
   "cell_type": "code",
   "execution_count": 189,
   "id": "79f4519a-4971-4ce9-a496-7dcfa251ecc6",
   "metadata": {},
   "outputs": [
    {
     "name": "stdout",
     "output_type": "stream",
     "text": [
      "[ 2.9927444  16.748585    7.502404   17.732496    0.39915663  7.3653107\n",
      "  3.7917538   1.8649892  15.974707    1.1791039  27.281052    1.7118919\n",
      "  1.1019003  13.509737    2.3654807  10.634584   39.07148    33.647263\n",
      "  5.302541    8.046624  ]\n",
      "[ 9.986794   1.4158119 10.843384   4.39728    6.934241   2.3830345\n",
      "  4.347931  14.450145  16.077654   1.302175  27.281052   1.7118919\n",
      "  1.1019003 10.135649   1.717317  13.196094  39.07148   33.647263\n",
      "  4.003347   7.2222486]\n",
      "[ 2.3963106  12.6256895   6.473661   17.690954    0.39915663  4.232501\n",
      "  3.7876334   8.518862   16.077654    2.783097   25.935148    1.1901748\n",
      "  0.836509   13.797774    2.0328448  10.634584   39.07148    16.406157\n",
      "  6.4153285   6.0416017 ]\n",
      "[ 4.665436   9.367485   8.195313   2.129436  10.253812  13.426019\n",
      "  2.4853518 11.565009   7.136861   3.650414   2.3104448  4.5205235\n",
      " 14.957213   5.222825  13.94949   13.953859  26.103312  29.536533\n",
      "  5.13714    5.832962 ]\n",
      "[ 1.6074452  3.0851526  8.82842    6.1679792  7.19799    6.354485\n",
      "  0.7310077  7.4522557 10.641141  12.719951  25.261011   5.3530226\n",
      "  9.101701   1.8491863  6.5039845 25.373772  35.23002   14.511215\n",
      "  2.0210006  4.1415896]\n"
     ]
    }
   ],
   "source": [
    "for i in range(5):\n",
    "    print(d2[1].data[i]['coh2F_H1'])"
   ]
  },
  {
   "cell_type": "code",
   "execution_count": 186,
   "id": "ef1989cd-af8d-4c53-80cc-155a7a8630b0",
   "metadata": {},
   "outputs": [
    {
     "data": {
      "text/plain": [
       "n_th_signal    0.000000e+00\n",
       "m_th_glitch    0.000000e+00\n",
       "f0             4.500000e+02\n",
       "f1            -2.586804e-08\n",
       "f2             6.918300e-18\n",
       "Name: 0, dtype: float64"
      ]
     },
     "execution_count": 186,
     "metadata": {},
     "output_type": "execute_result"
    }
   ],
   "source": [
    "df.iloc[0][:-7]"
   ]
  },
  {
   "cell_type": "code",
   "execution_count": 171,
   "id": "8a6cd3d6-ce39-4f68-af2a-dcd618c19f96",
   "metadata": {},
   "outputs": [
    {
     "data": {
      "text/plain": [
       "tglitch        1.370579e+09\n",
       "df_p           1.723786e-04\n",
       "df_t           9.432171e-04\n",
       "df1_p         -3.937795e-11\n",
       "tau            1.728000e+06\n",
       "Q              8.454829e-01\n",
       "tglitch_day    1.862000e+01\n",
       "Name: 0, dtype: float64"
      ]
     },
     "execution_count": 171,
     "metadata": {},
     "output_type": "execute_result"
    }
   ],
   "source": [
    "df2.iloc[0][-7:]"
   ]
  }
 ],
 "metadata": {
  "kernelspec": {
   "display_name": "glitch",
   "language": "python",
   "name": "glitch"
  },
  "language_info": {
   "codemirror_mode": {
    "name": "ipython",
    "version": 3
   },
   "file_extension": ".py",
   "mimetype": "text/x-python",
   "name": "python",
   "nbconvert_exporter": "python",
   "pygments_lexer": "ipython3",
   "version": "3.10.16"
  }
 },
 "nbformat": 4,
 "nbformat_minor": 5
}
