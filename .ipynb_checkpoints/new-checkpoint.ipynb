{
 "cells": [
  {
   "cell_type": "code",
   "execution_count": 1,
   "id": "92c7a07a-9fbf-4126-9cac-ae09d92ac32e",
   "metadata": {},
   "outputs": [
    {
     "name": "stdout",
     "output_type": "stream",
     "text": [
      "25-07-20 02:00:13.526 pyfstat INFO    : Running PyFstat version 2.2.1+3.6fbce518.dirty\n"
     ]
    },
    {
     "name": "stderr",
     "output_type": "stream",
     "text": [
      "/home/hoitim.cheung/.conda/envs/glitch/lib/python3.10/site-packages/PyFstat-2.2.1+3.6fbce518.dirty-py3.10.egg/pyfstat/core.py:13: UserWarning: Wswiglal-redir-stdio:\n",
      "\n",
      "SWIGLAL standard output/error redirection is enabled in IPython.\n",
      "This may lead to performance penalties. To disable locally, use:\n",
      "\n",
      "with lal.no_swig_redirect_standard_output_error():\n",
      "    ...\n",
      "\n",
      "To disable globally, use:\n",
      "\n",
      "lal.swig_redirect_standard_output_error(False)\n",
      "\n",
      "Note however that this will likely lead to error messages from\n",
      "LAL functions being either misdirected or lost when called from\n",
      "Jupyter notebooks.\n",
      "\n",
      "To suppress this warning, use:\n",
      "\n",
      "import warnings\n",
      "warnings.filterwarnings(\"ignore\", \"Wswiglal-redir-stdio\")\n",
      "import lal\n",
      "\n",
      "  import lal\n"
     ]
    },
    {
     "name": "stdout",
     "output_type": "stream",
     "text": [
      "25-07-20 02:00:17.064 pyfstat.utils.importing INFO    : No $DISPLAY environment variable found, so importing matplotlib.pyplot with non-interactive 'Agg' backend.\n"
     ]
    }
   ],
   "source": [
    "import os\n",
    "from tqdm import tqdm\n",
    "import numpy as np\n",
    "\n",
    "from pyfstat import GlitchWriter, Writer\n",
    "from pyfstat.utils import get_sft_as_arrays\n",
    "import matplotlib.pyplot as plt\n",
    "from matplotlib import colors\n",
    "\n",
    "%matplotlib inline\n",
    "\n",
    "plt.rcParams[\"font.family\"] = \"serif\"\n",
    "plt.rcParams[\"font.size\"] = 20\n",
    "\n",
    "\n",
    "def normalize_array_with_nan(arr):\n",
    "    \"\"\"\n",
    "    Normalizes a 2D array while ignoring NaN values.\n",
    "    \n",
    "    Parameters:\n",
    "    arr (np.ndarray): Input 2D array with shape (m, n)\n",
    "    \n",
    "    Returns:\n",
    "    np.ndarray: Normalized array with NaN values preserved\n",
    "    \"\"\"\n",
    "    # Compute mean and standard deviation, ignoring NaN values\n",
    "    max = np.nanmax(arr)\n",
    "    min = np.nanmin(arr)\n",
    "    \n",
    "    # Normalize the array, keeping NaN values as they are\n",
    "    normalized_arr = (arr - min)/(max-min)\n",
    "    \n",
    "    return normalized_arr\n",
    "\n",
    "def plot_spectrograms(timestamps, frequency, fourier_data):\n",
    "    fig, axs = plt.subplots(1, 1, figsize=(16, 10))\n",
    "    axs = [axs]\n",
    "    for ax in axs:\n",
    "        ax.set(xlabel=\"Days\", ylabel=\"Frequency [Hz]\")\n",
    "\n",
    "    time_in_days = (timestamps - timestamps[0]) / 86400\n",
    "\n",
    "    axs[0].set_title(\"H1\")\n",
    "    c = axs[0].pcolormesh(\n",
    "        time_in_days,\n",
    "        frequency,\n",
    "        fourier_data,\n",
    "        norm=colors.CenteredNorm(),\n",
    "    )\n",
    "    fig.colorbar(c, ax=axs[0], orientation=\"horizontal\", label=\"Fourier Amplitude\")\n",
    "    return fig, axs\n",
    "\n",
    "\n",
    "\n",
    "label = \"test\"\n",
    "outdir = os.path.join(\"testdata\", label)\n"
   ]
  },
  {
   "cell_type": "code",
   "execution_count": 15,
   "id": "46f5fa38-0f01-4462-b344-bbbc763d3bc3",
   "metadata": {
    "scrolled": true,
    "tags": []
   },
   "outputs": [
    {
     "name": "stderr",
     "output_type": "stream",
     "text": [
      "  0%|          | 0/4800 [00:00<?, ?it/s]"
     ]
    },
    {
     "name": "stdout",
     "output_type": "stream",
     "text": [
      "25-07-20 02:18:26.279 pyfstat.utils.sft INFO    : Loading 1 SFTs from H1...\n",
      "25-07-20 02:18:26.288 pyfstat.utils.sft INFO    : Loading 1 SFTs from H1...\n",
      "25-07-20 02:18:26.296 pyfstat.utils.sft INFO    : Loading 1 SFTs from H1...\n",
      "25-07-20 02:18:26.305 pyfstat.utils.sft INFO    : Loading 1 SFTs from H1...\n",
      "25-07-20 02:18:26.314 pyfstat.utils.sft INFO    : Loading 1 SFTs from H1...\n",
      "25-07-20 02:18:26.322 pyfstat.utils.sft INFO    : Loading 1 SFTs from H1...\n",
      "25-07-20 02:18:26.331 pyfstat.utils.sft INFO    : Loading 1 SFTs from H1...\n",
      "25-07-20 02:18:26.339 pyfstat.utils.sft INFO    : Loading 1 SFTs from H1...\n",
      "25-07-20 02:18:26.348 pyfstat.utils.sft INFO    : Loading 1 SFTs from H1...\n",
      "25-07-20 02:18:26.356 pyfstat.utils.sft INFO    : Loading 1 SFTs from H1...\n",
      "25-07-20 02:18:26.365 pyfstat.utils.sft INFO    : Loading 1 SFTs from H1...\n",
      "25-07-20 02:18:26.374 pyfstat.utils.sft INFO    : Loading 1 SFTs from H1...\n"
     ]
    },
    {
     "name": "stderr",
     "output_type": "stream",
     "text": [
      "  0%|          | 12/4800 [00:00<00:41, 114.69it/s]"
     ]
    },
    {
     "name": "stdout",
     "output_type": "stream",
     "text": [
      "25-07-20 02:18:26.382 pyfstat.utils.sft INFO    : Loading 1 SFTs from H1...\n",
      "25-07-20 02:18:26.391 pyfstat.utils.sft INFO    : Loading 1 SFTs from H1...\n",
      "25-07-20 02:18:26.400 pyfstat.utils.sft INFO    : Loading 1 SFTs from H1...\n",
      "25-07-20 02:18:26.408 pyfstat.utils.sft INFO    : Loading 1 SFTs from H1...\n",
      "25-07-20 02:18:26.416 pyfstat.utils.sft INFO    : Loading 1 SFTs from H1...\n",
      "25-07-20 02:18:26.424 pyfstat.utils.sft INFO    : Loading 1 SFTs from H1...\n",
      "25-07-20 02:18:26.432 pyfstat.utils.sft INFO    : Loading 1 SFTs from H1...\n",
      "25-07-20 02:18:26.440 pyfstat.utils.sft INFO    : Loading 1 SFTs from H1...\n",
      "25-07-20 02:18:26.450 pyfstat.utils.sft INFO    : Loading 1 SFTs from H1...\n",
      "25-07-20 02:18:26.459 pyfstat.utils.sft INFO    : Loading 1 SFTs from H1...\n",
      "25-07-20 02:18:26.467 pyfstat.utils.sft INFO    : Loading 1 SFTs from H1...\n",
      "25-07-20 02:18:26.476 pyfstat.utils.sft INFO    : Loading 1 SFTs from H1...\n"
     ]
    },
    {
     "name": "stderr",
     "output_type": "stream",
     "text": [
      "  0%|          | 24/4800 [00:00<00:41, 116.09it/s]"
     ]
    },
    {
     "name": "stdout",
     "output_type": "stream",
     "text": [
      "25-07-20 02:18:26.485 pyfstat.utils.sft INFO    : Loading 1 SFTs from H1...\n",
      "25-07-20 02:18:26.493 pyfstat.utils.sft INFO    : Loading 1 SFTs from H1...\n",
      "25-07-20 02:18:26.502 pyfstat.utils.sft INFO    : Loading 1 SFTs from H1...\n",
      "25-07-20 02:18:26.510 pyfstat.utils.sft INFO    : Loading 1 SFTs from H1...\n",
      "25-07-20 02:18:26.519 pyfstat.utils.sft INFO    : Loading 1 SFTs from H1...\n",
      "25-07-20 02:18:26.528 pyfstat.utils.sft INFO    : Loading 1 SFTs from H1...\n",
      "25-07-20 02:18:26.537 pyfstat.utils.sft INFO    : Loading 1 SFTs from H1...\n",
      "25-07-20 02:18:26.545 pyfstat.utils.sft INFO    : Loading 1 SFTs from H1...\n",
      "25-07-20 02:18:26.554 pyfstat.utils.sft INFO    : Loading 1 SFTs from H1...\n",
      "25-07-20 02:18:26.563 pyfstat.utils.sft INFO    : Loading 1 SFTs from H1...\n",
      "25-07-20 02:18:26.571 pyfstat.utils.sft INFO    : Loading 1 SFTs from H1...\n",
      "25-07-20 02:18:26.580 pyfstat.utils.sft INFO    : Loading 1 SFTs from H1...\n"
     ]
    },
    {
     "name": "stderr",
     "output_type": "stream",
     "text": [
      "  1%|          | 36/4800 [00:00<00:41, 115.85it/s]"
     ]
    },
    {
     "name": "stdout",
     "output_type": "stream",
     "text": [
      "25-07-20 02:18:26.589 pyfstat.utils.sft INFO    : Loading 1 SFTs from H1...\n",
      "25-07-20 02:18:26.597 pyfstat.utils.sft INFO    : Loading 1 SFTs from H1...\n",
      "25-07-20 02:18:26.606 pyfstat.utils.sft INFO    : Loading 1 SFTs from H1...\n",
      "25-07-20 02:18:26.614 pyfstat.utils.sft INFO    : Loading 1 SFTs from H1...\n",
      "25-07-20 02:18:26.622 pyfstat.utils.sft INFO    : Loading 1 SFTs from H1...\n",
      "25-07-20 02:18:26.630 pyfstat.utils.sft INFO    : Loading 1 SFTs from H1...\n",
      "25-07-20 02:18:26.638 pyfstat.utils.sft INFO    : Loading 1 SFTs from H1...\n",
      "25-07-20 02:18:26.646 pyfstat.utils.sft INFO    : Loading 1 SFTs from H1...\n",
      "25-07-20 02:18:26.655 pyfstat.utils.sft INFO    : Loading 1 SFTs from H1...\n",
      "25-07-20 02:18:26.663 pyfstat.utils.sft INFO    : Loading 1 SFTs from H1...\n",
      "25-07-20 02:18:26.673 pyfstat.utils.sft INFO    : Loading 1 SFTs from H1...\n",
      "25-07-20 02:18:26.681 pyfstat.utils.sft INFO    : Loading 1 SFTs from H1...\n"
     ]
    },
    {
     "name": "stderr",
     "output_type": "stream",
     "text": [
      "  1%|          | 48/4800 [00:00<00:40, 117.04it/s]"
     ]
    },
    {
     "name": "stdout",
     "output_type": "stream",
     "text": [
      "25-07-20 02:18:26.690 pyfstat.utils.sft INFO    : Loading 1 SFTs from H1...\n",
      "25-07-20 02:18:26.699 pyfstat.utils.sft INFO    : Loading 1 SFTs from H1...\n",
      "25-07-20 02:18:26.707 pyfstat.utils.sft INFO    : Loading 1 SFTs from H1...\n",
      "25-07-20 02:18:26.715 pyfstat.utils.sft INFO    : Loading 1 SFTs from H1...\n",
      "25-07-20 02:18:26.724 pyfstat.utils.sft INFO    : Loading 1 SFTs from H1...\n",
      "25-07-20 02:18:26.732 pyfstat.utils.sft INFO    : Loading 1 SFTs from H1...\n",
      "25-07-20 02:18:26.741 pyfstat.utils.sft INFO    : Loading 1 SFTs from H1...\n",
      "25-07-20 02:18:26.748 pyfstat.utils.sft INFO    : Loading 1 SFTs from H1...\n",
      "25-07-20 02:18:26.757 pyfstat.utils.sft INFO    : Loading 1 SFTs from H1...\n",
      "25-07-20 02:18:26.766 pyfstat.utils.sft INFO    : Loading 1 SFTs from H1...\n",
      "25-07-20 02:18:26.774 pyfstat.utils.sft INFO    : Loading 1 SFTs from H1...\n",
      "25-07-20 02:18:26.784 pyfstat.utils.sft INFO    : Loading 1 SFTs from H1...\n"
     ]
    },
    {
     "name": "stderr",
     "output_type": "stream",
     "text": [
      "  1%|▏         | 60/4800 [00:00<00:40, 116.56it/s]"
     ]
    },
    {
     "name": "stdout",
     "output_type": "stream",
     "text": [
      "25-07-20 02:18:26.793 pyfstat.utils.sft INFO    : Loading 1 SFTs from H1...\n",
      "25-07-20 02:18:26.802 pyfstat.utils.sft INFO    : Loading 1 SFTs from H1...\n",
      "25-07-20 02:18:26.810 pyfstat.utils.sft INFO    : Loading 1 SFTs from H1...\n",
      "25-07-20 02:18:26.819 pyfstat.utils.sft INFO    : Loading 1 SFTs from H1...\n",
      "25-07-20 02:18:26.827 pyfstat.utils.sft INFO    : Loading 1 SFTs from H1...\n",
      "25-07-20 02:18:26.836 pyfstat.utils.sft INFO    : Loading 1 SFTs from H1...\n",
      "25-07-20 02:18:26.844 pyfstat.utils.sft INFO    : Loading 1 SFTs from H1...\n",
      "25-07-20 02:18:26.853 pyfstat.utils.sft INFO    : Loading 1 SFTs from H1...\n",
      "25-07-20 02:18:26.861 pyfstat.utils.sft INFO    : Loading 1 SFTs from H1...\n",
      "25-07-20 02:18:26.870 pyfstat.utils.sft INFO    : Loading 1 SFTs from H1...\n",
      "25-07-20 02:18:26.878 pyfstat.utils.sft INFO    : Loading 1 SFTs from H1...\n",
      "25-07-20 02:18:26.886 pyfstat.utils.sft INFO    : Loading 1 SFTs from H1...\n"
     ]
    },
    {
     "name": "stderr",
     "output_type": "stream",
     "text": [
      "  2%|▏         | 72/4800 [00:00<00:40, 117.19it/s]"
     ]
    },
    {
     "name": "stdout",
     "output_type": "stream",
     "text": [
      "25-07-20 02:18:26.895 pyfstat.utils.sft INFO    : Loading 1 SFTs from H1...\n",
      "25-07-20 02:18:26.903 pyfstat.utils.sft INFO    : Loading 1 SFTs from H1...\n",
      "25-07-20 02:18:26.911 pyfstat.utils.sft INFO    : Loading 1 SFTs from H1...\n",
      "25-07-20 02:18:26.919 pyfstat.utils.sft INFO    : Loading 1 SFTs from H1...\n",
      "25-07-20 02:18:26.928 pyfstat.utils.sft INFO    : Loading 1 SFTs from H1...\n",
      "25-07-20 02:18:26.936 pyfstat.utils.sft INFO    : Loading 1 SFTs from H1...\n",
      "25-07-20 02:18:26.944 pyfstat.utils.sft INFO    : Loading 1 SFTs from H1...\n",
      "25-07-20 02:18:26.952 pyfstat.utils.sft INFO    : Loading 1 SFTs from H1...\n",
      "25-07-20 02:18:26.960 pyfstat.utils.sft INFO    : Loading 1 SFTs from H1...\n",
      "25-07-20 02:18:26.969 pyfstat.utils.sft INFO    : Loading 1 SFTs from H1...\n",
      "25-07-20 02:18:26.977 pyfstat.utils.sft INFO    : Loading 1 SFTs from H1...\n",
      "25-07-20 02:18:26.985 pyfstat.utils.sft INFO    : Loading 1 SFTs from H1...\n",
      "25-07-20 02:18:26.994 pyfstat.utils.sft INFO    : Loading 1 SFTs from H1...\n"
     ]
    },
    {
     "name": "stderr",
     "output_type": "stream",
     "text": [
      "  2%|▏         | 85/4800 [00:00<00:39, 118.40it/s]"
     ]
    },
    {
     "name": "stdout",
     "output_type": "stream",
     "text": [
      "25-07-20 02:18:27.003 pyfstat.utils.sft INFO    : Loading 1 SFTs from H1...\n",
      "25-07-20 02:18:27.011 pyfstat.utils.sft INFO    : Loading 1 SFTs from H1...\n",
      "25-07-20 02:18:27.019 pyfstat.utils.sft INFO    : Loading 1 SFTs from H1...\n",
      "25-07-20 02:18:27.027 pyfstat.utils.sft INFO    : Loading 1 SFTs from H1...\n",
      "25-07-20 02:18:27.035 pyfstat.utils.sft INFO    : Loading 1 SFTs from H1...\n",
      "25-07-20 02:18:27.043 pyfstat.utils.sft INFO    : Loading 1 SFTs from H1...\n",
      "25-07-20 02:18:27.051 pyfstat.utils.sft INFO    : Loading 1 SFTs from H1...\n",
      "25-07-20 02:18:27.060 pyfstat.utils.sft INFO    : Loading 1 SFTs from H1...\n",
      "25-07-20 02:18:27.069 pyfstat.utils.sft INFO    : Loading 1 SFTs from H1...\n",
      "25-07-20 02:18:27.077 pyfstat.utils.sft INFO    : Loading 1 SFTs from H1...\n",
      "25-07-20 02:18:27.086 pyfstat.utils.sft INFO    : Loading 1 SFTs from H1...\n",
      "25-07-20 02:18:27.094 pyfstat.utils.sft INFO    : Loading 1 SFTs from H1...\n"
     ]
    },
    {
     "name": "stderr",
     "output_type": "stream",
     "text": [
      "  2%|▏         | 97/4800 [00:00<00:39, 118.52it/s]"
     ]
    },
    {
     "name": "stdout",
     "output_type": "stream",
     "text": [
      "25-07-20 02:18:27.104 pyfstat.utils.sft INFO    : Loading 1 SFTs from H1...\n",
      "25-07-20 02:18:27.113 pyfstat.utils.sft INFO    : Loading 1 SFTs from H1...\n",
      "25-07-20 02:18:27.122 pyfstat.utils.sft INFO    : Loading 1 SFTs from H1...\n",
      "25-07-20 02:18:27.131 pyfstat.utils.sft INFO    : Loading 1 SFTs from H1...\n",
      "25-07-20 02:18:27.140 pyfstat.utils.sft INFO    : Loading 1 SFTs from H1...\n",
      "25-07-20 02:18:27.148 pyfstat.utils.sft INFO    : Loading 1 SFTs from H1...\n",
      "25-07-20 02:18:27.156 pyfstat.utils.sft INFO    : Loading 1 SFTs from H1...\n",
      "25-07-20 02:18:27.165 pyfstat.utils.sft INFO    : Loading 1 SFTs from H1...\n",
      "25-07-20 02:18:27.174 pyfstat.utils.sft INFO    : Loading 1 SFTs from H1...\n",
      "25-07-20 02:18:27.182 pyfstat.utils.sft INFO    : Loading 1 SFTs from H1...\n",
      "25-07-20 02:18:27.191 pyfstat.utils.sft INFO    : Loading 1 SFTs from H1...\n",
      "25-07-20 02:18:27.200 pyfstat.utils.sft INFO    : Loading 1 SFTs from H1...\n"
     ]
    },
    {
     "name": "stderr",
     "output_type": "stream",
     "text": [
      "  2%|▏         | 109/4800 [00:00<00:40, 117.14it/s]"
     ]
    },
    {
     "name": "stdout",
     "output_type": "stream",
     "text": [
      "25-07-20 02:18:27.209 pyfstat.utils.sft INFO    : Loading 1 SFTs from H1...\n",
      "25-07-20 02:18:27.216 pyfstat.utils.sft INFO    : Loading 1 SFTs from H1...\n",
      "25-07-20 02:18:27.225 pyfstat.utils.sft INFO    : Loading 1 SFTs from H1...\n",
      "25-07-20 02:18:27.234 pyfstat.utils.sft INFO    : Loading 1 SFTs from H1...\n",
      "25-07-20 02:18:27.241 pyfstat.utils.sft INFO    : Loading 1 SFTs from H1...\n",
      "25-07-20 02:18:27.249 pyfstat.utils.sft INFO    : Loading 1 SFTs from H1...\n",
      "25-07-20 02:18:27.257 pyfstat.utils.sft INFO    : Loading 1 SFTs from H1...\n",
      "25-07-20 02:18:27.265 pyfstat.utils.sft INFO    : Loading 1 SFTs from H1...\n",
      "25-07-20 02:18:27.273 pyfstat.utils.sft INFO    : Loading 1 SFTs from H1...\n",
      "25-07-20 02:18:27.282 pyfstat.utils.sft INFO    : Loading 1 SFTs from H1...\n",
      "25-07-20 02:18:27.290 pyfstat.utils.sft INFO    : Loading 1 SFTs from H1...\n",
      "25-07-20 02:18:27.298 pyfstat.utils.sft INFO    : Loading 1 SFTs from H1...\n",
      "25-07-20 02:18:27.306 pyfstat.utils.sft INFO    : Loading 1 SFTs from H1...\n"
     ]
    },
    {
     "name": "stderr",
     "output_type": "stream",
     "text": [
      "  3%|▎         | 122/4800 [00:01<00:39, 118.91it/s]"
     ]
    },
    {
     "name": "stdout",
     "output_type": "stream",
     "text": [
      "25-07-20 02:18:27.314 pyfstat.utils.sft INFO    : Loading 1 SFTs from H1...\n",
      "25-07-20 02:18:27.322 pyfstat.utils.sft INFO    : Loading 1 SFTs from H1...\n",
      "25-07-20 02:18:27.331 pyfstat.utils.sft INFO    : Loading 1 SFTs from H1...\n",
      "25-07-20 02:18:27.339 pyfstat.utils.sft INFO    : Loading 1 SFTs from H1...\n",
      "25-07-20 02:18:27.347 pyfstat.utils.sft INFO    : Loading 1 SFTs from H1...\n",
      "25-07-20 02:18:27.355 pyfstat.utils.sft INFO    : Loading 1 SFTs from H1...\n",
      "25-07-20 02:18:27.362 pyfstat.utils.sft INFO    : Loading 1 SFTs from H1...\n",
      "25-07-20 02:18:27.370 pyfstat.utils.sft INFO    : Loading 1 SFTs from H1...\n",
      "25-07-20 02:18:27.378 pyfstat.utils.sft INFO    : Loading 1 SFTs from H1...\n",
      "25-07-20 02:18:27.386 pyfstat.utils.sft INFO    : Loading 1 SFTs from H1...\n",
      "25-07-20 02:18:27.394 pyfstat.utils.sft INFO    : Loading 1 SFTs from H1...\n",
      "25-07-20 02:18:27.402 pyfstat.utils.sft INFO    : Loading 1 SFTs from H1...\n",
      "25-07-20 02:18:27.410 pyfstat.utils.sft INFO    : Loading 1 SFTs from H1...\n"
     ]
    },
    {
     "name": "stderr",
     "output_type": "stream",
     "text": [
      "  3%|▎         | 135/4800 [00:01<00:38, 120.77it/s]"
     ]
    },
    {
     "name": "stdout",
     "output_type": "stream",
     "text": [
      "25-07-20 02:18:27.418 pyfstat.utils.sft INFO    : Loading 1 SFTs from H1...\n",
      "25-07-20 02:18:27.426 pyfstat.utils.sft INFO    : Loading 1 SFTs from H1...\n",
      "25-07-20 02:18:27.434 pyfstat.utils.sft INFO    : Loading 1 SFTs from H1...\n",
      "25-07-20 02:18:27.442 pyfstat.utils.sft INFO    : Loading 1 SFTs from H1...\n",
      "25-07-20 02:18:27.451 pyfstat.utils.sft INFO    : Loading 1 SFTs from H1...\n",
      "25-07-20 02:18:27.459 pyfstat.utils.sft INFO    : Loading 1 SFTs from H1...\n",
      "25-07-20 02:18:27.467 pyfstat.utils.sft INFO    : Loading 1 SFTs from H1...\n",
      "25-07-20 02:18:27.475 pyfstat.utils.sft INFO    : Loading 1 SFTs from H1...\n",
      "25-07-20 02:18:27.482 pyfstat.utils.sft INFO    : Loading 1 SFTs from H1...\n",
      "25-07-20 02:18:27.490 pyfstat.utils.sft INFO    : Loading 1 SFTs from H1...\n",
      "25-07-20 02:18:27.498 pyfstat.utils.sft INFO    : Loading 1 SFTs from H1...\n",
      "25-07-20 02:18:27.507 pyfstat.utils.sft INFO    : Loading 1 SFTs from H1...\n",
      "25-07-20 02:18:27.515 pyfstat.utils.sft INFO    : Loading 1 SFTs from H1...\n"
     ]
    },
    {
     "name": "stderr",
     "output_type": "stream",
     "text": [
      "  3%|▎         | 148/4800 [00:01<00:38, 121.57it/s]"
     ]
    },
    {
     "name": "stdout",
     "output_type": "stream",
     "text": [
      "25-07-20 02:18:27.524 pyfstat.utils.sft INFO    : Loading 1 SFTs from H1...\n",
      "25-07-20 02:18:27.533 pyfstat.utils.sft INFO    : Loading 1 SFTs from H1...\n",
      "25-07-20 02:18:27.541 pyfstat.utils.sft INFO    : Loading 1 SFTs from H1...\n",
      "25-07-20 02:18:27.548 pyfstat.utils.sft INFO    : Loading 1 SFTs from H1...\n",
      "25-07-20 02:18:27.557 pyfstat.utils.sft INFO    : Loading 1 SFTs from H1...\n",
      "25-07-20 02:18:27.565 pyfstat.utils.sft INFO    : Loading 1 SFTs from H1...\n",
      "25-07-20 02:18:27.573 pyfstat.utils.sft INFO    : Loading 1 SFTs from H1...\n",
      "25-07-20 02:18:27.581 pyfstat.utils.sft INFO    : Loading 1 SFTs from H1...\n",
      "25-07-20 02:18:27.589 pyfstat.utils.sft INFO    : Loading 1 SFTs from H1...\n",
      "25-07-20 02:18:27.596 pyfstat.utils.sft INFO    : Loading 1 SFTs from H1...\n",
      "25-07-20 02:18:27.605 pyfstat.utils.sft INFO    : Loading 1 SFTs from H1...\n",
      "25-07-20 02:18:27.613 pyfstat.utils.sft INFO    : Loading 1 SFTs from H1...\n",
      "25-07-20 02:18:27.621 pyfstat.utils.sft INFO    : Loading 1 SFTs from H1...\n"
     ]
    },
    {
     "name": "stderr",
     "output_type": "stream",
     "text": [
      "  3%|▎         | 161/4800 [00:01<00:38, 121.85it/s]"
     ]
    },
    {
     "name": "stdout",
     "output_type": "stream",
     "text": [
      "25-07-20 02:18:27.630 pyfstat.utils.sft INFO    : Loading 1 SFTs from H1...\n",
      "25-07-20 02:18:27.638 pyfstat.utils.sft INFO    : Loading 1 SFTs from H1...\n",
      "25-07-20 02:18:27.646 pyfstat.utils.sft INFO    : Loading 1 SFTs from H1...\n",
      "25-07-20 02:18:27.654 pyfstat.utils.sft INFO    : Loading 1 SFTs from H1...\n",
      "25-07-20 02:18:27.662 pyfstat.utils.sft INFO    : Loading 1 SFTs from H1...\n",
      "25-07-20 02:18:27.670 pyfstat.utils.sft INFO    : Loading 1 SFTs from H1...\n",
      "25-07-20 02:18:27.679 pyfstat.utils.sft INFO    : Loading 1 SFTs from H1...\n",
      "25-07-20 02:18:27.686 pyfstat.utils.sft INFO    : Loading 1 SFTs from H1...\n",
      "25-07-20 02:18:27.694 pyfstat.utils.sft INFO    : Loading 1 SFTs from H1...\n",
      "25-07-20 02:18:27.702 pyfstat.utils.sft INFO    : Loading 1 SFTs from H1...\n",
      "25-07-20 02:18:27.709 pyfstat.utils.sft INFO    : Loading 1 SFTs from H1...\n",
      "25-07-20 02:18:27.717 pyfstat.utils.sft INFO    : Loading 1 SFTs from H1...\n",
      "25-07-20 02:18:27.724 pyfstat.utils.sft INFO    : Loading 1 SFTs from H1...\n"
     ]
    },
    {
     "name": "stderr",
     "output_type": "stream",
     "text": [
      "  4%|▎         | 174/4800 [00:01<00:37, 123.40it/s]"
     ]
    },
    {
     "name": "stdout",
     "output_type": "stream",
     "text": [
      "25-07-20 02:18:27.732 pyfstat.utils.sft INFO    : Loading 1 SFTs from H1...\n",
      "25-07-20 02:18:27.741 pyfstat.utils.sft INFO    : Loading 1 SFTs from H1...\n",
      "25-07-20 02:18:27.748 pyfstat.utils.sft INFO    : Loading 1 SFTs from H1...\n",
      "25-07-20 02:18:27.756 pyfstat.utils.sft INFO    : Loading 1 SFTs from H1...\n",
      "25-07-20 02:18:27.764 pyfstat.utils.sft INFO    : Loading 1 SFTs from H1...\n",
      "25-07-20 02:18:27.772 pyfstat.utils.sft INFO    : Loading 1 SFTs from H1...\n",
      "25-07-20 02:18:27.780 pyfstat.utils.sft INFO    : Loading 1 SFTs from H1...\n",
      "25-07-20 02:18:27.789 pyfstat.utils.sft INFO    : Loading 1 SFTs from H1...\n",
      "25-07-20 02:18:27.796 pyfstat.utils.sft INFO    : Loading 1 SFTs from H1...\n",
      "25-07-20 02:18:27.804 pyfstat.utils.sft INFO    : Loading 1 SFTs from H1...\n",
      "25-07-20 02:18:27.812 pyfstat.utils.sft INFO    : Loading 1 SFTs from H1...\n",
      "25-07-20 02:18:27.819 pyfstat.utils.sft INFO    : Loading 1 SFTs from H1...\n",
      "25-07-20 02:18:27.827 pyfstat.utils.sft INFO    : Loading 1 SFTs from H1...\n"
     ]
    },
    {
     "name": "stderr",
     "output_type": "stream",
     "text": [
      "  4%|▍         | 187/4800 [00:01<00:37, 124.08it/s]"
     ]
    },
    {
     "name": "stdout",
     "output_type": "stream",
     "text": [
      "25-07-20 02:18:27.835 pyfstat.utils.sft INFO    : Loading 1 SFTs from H1...\n",
      "25-07-20 02:18:27.844 pyfstat.utils.sft INFO    : Loading 1 SFTs from H1...\n",
      "25-07-20 02:18:27.851 pyfstat.utils.sft INFO    : Loading 1 SFTs from H1...\n",
      "25-07-20 02:18:27.859 pyfstat.utils.sft INFO    : Loading 1 SFTs from H1...\n",
      "25-07-20 02:18:27.866 pyfstat.utils.sft INFO    : Loading 1 SFTs from H1...\n",
      "25-07-20 02:18:27.874 pyfstat.utils.sft INFO    : Loading 1 SFTs from H1...\n",
      "25-07-20 02:18:27.882 pyfstat.utils.sft INFO    : Loading 1 SFTs from H1...\n",
      "25-07-20 02:18:27.889 pyfstat.utils.sft INFO    : Loading 1 SFTs from H1...\n",
      "25-07-20 02:18:27.898 pyfstat.utils.sft INFO    : Loading 1 SFTs from H1...\n",
      "25-07-20 02:18:27.905 pyfstat.utils.sft INFO    : Loading 1 SFTs from H1...\n",
      "25-07-20 02:18:27.914 pyfstat.utils.sft INFO    : Loading 1 SFTs from H1...\n",
      "25-07-20 02:18:27.922 pyfstat.utils.sft INFO    : Loading 1 SFTs from H1...\n",
      "25-07-20 02:18:27.929 pyfstat.utils.sft INFO    : Loading 1 SFTs from H1...\n"
     ]
    },
    {
     "name": "stderr",
     "output_type": "stream",
     "text": [
      "  4%|▍         | 200/4800 [00:01<00:36, 125.12it/s]"
     ]
    },
    {
     "name": "stdout",
     "output_type": "stream",
     "text": [
      "25-07-20 02:18:27.938 pyfstat.utils.sft INFO    : Loading 1 SFTs from H1...\n",
      "25-07-20 02:18:27.946 pyfstat.utils.sft INFO    : Loading 1 SFTs from H1...\n",
      "25-07-20 02:18:27.953 pyfstat.utils.sft INFO    : Loading 1 SFTs from H1...\n",
      "25-07-20 02:18:27.962 pyfstat.utils.sft INFO    : Loading 1 SFTs from H1...\n",
      "25-07-20 02:18:27.970 pyfstat.utils.sft INFO    : Loading 1 SFTs from H1...\n",
      "25-07-20 02:18:27.978 pyfstat.utils.sft INFO    : Loading 1 SFTs from H1...\n",
      "25-07-20 02:18:27.985 pyfstat.utils.sft INFO    : Loading 1 SFTs from H1...\n",
      "25-07-20 02:18:27.993 pyfstat.utils.sft INFO    : Loading 1 SFTs from H1...\n",
      "25-07-20 02:18:28.001 pyfstat.utils.sft INFO    : Loading 1 SFTs from H1...\n",
      "25-07-20 02:18:28.009 pyfstat.utils.sft INFO    : Loading 1 SFTs from H1...\n",
      "25-07-20 02:18:28.017 pyfstat.utils.sft INFO    : Loading 1 SFTs from H1...\n",
      "25-07-20 02:18:28.026 pyfstat.utils.sft INFO    : Loading 1 SFTs from H1...\n",
      "25-07-20 02:18:28.034 pyfstat.utils.sft INFO    : Loading 1 SFTs from H1...\n"
     ]
    },
    {
     "name": "stderr",
     "output_type": "stream",
     "text": [
      "  4%|▍         | 213/4800 [00:01<00:36, 124.74it/s]"
     ]
    },
    {
     "name": "stdout",
     "output_type": "stream",
     "text": [
      "25-07-20 02:18:28.043 pyfstat.utils.sft INFO    : Loading 1 SFTs from H1...\n",
      "25-07-20 02:18:28.051 pyfstat.utils.sft INFO    : Loading 1 SFTs from H1...\n",
      "25-07-20 02:18:28.059 pyfstat.utils.sft INFO    : Loading 1 SFTs from H1...\n",
      "25-07-20 02:18:28.067 pyfstat.utils.sft INFO    : Loading 1 SFTs from H1...\n",
      "25-07-20 02:18:28.075 pyfstat.utils.sft INFO    : Loading 1 SFTs from H1...\n",
      "25-07-20 02:18:28.083 pyfstat.utils.sft INFO    : Loading 1 SFTs from H1...\n",
      "25-07-20 02:18:28.091 pyfstat.utils.sft INFO    : Loading 1 SFTs from H1...\n",
      "25-07-20 02:18:28.100 pyfstat.utils.sft INFO    : Loading 1 SFTs from H1...\n",
      "25-07-20 02:18:28.108 pyfstat.utils.sft INFO    : Loading 1 SFTs from H1...\n",
      "25-07-20 02:18:28.117 pyfstat.utils.sft INFO    : Loading 1 SFTs from H1...\n",
      "25-07-20 02:18:28.125 pyfstat.utils.sft INFO    : Loading 1 SFTs from H1...\n",
      "25-07-20 02:18:28.134 pyfstat.utils.sft INFO    : Loading 1 SFTs from H1...\n",
      "25-07-20 02:18:28.141 pyfstat.utils.sft INFO    : Loading 1 SFTs from H1...\n"
     ]
    },
    {
     "name": "stderr",
     "output_type": "stream",
     "text": [
      "  5%|▍         | 226/4800 [00:01<00:37, 123.43it/s]"
     ]
    },
    {
     "name": "stdout",
     "output_type": "stream",
     "text": [
      "25-07-20 02:18:28.151 pyfstat.utils.sft INFO    : Loading 1 SFTs from H1...\n",
      "25-07-20 02:18:28.159 pyfstat.utils.sft INFO    : Loading 1 SFTs from H1...\n",
      "25-07-20 02:18:28.167 pyfstat.utils.sft INFO    : Loading 1 SFTs from H1...\n",
      "25-07-20 02:18:28.176 pyfstat.utils.sft INFO    : Loading 1 SFTs from H1...\n",
      "25-07-20 02:18:28.184 pyfstat.utils.sft INFO    : Loading 1 SFTs from H1...\n",
      "25-07-20 02:18:28.192 pyfstat.utils.sft INFO    : Loading 1 SFTs from H1...\n",
      "25-07-20 02:18:28.200 pyfstat.utils.sft INFO    : Loading 1 SFTs from H1...\n",
      "25-07-20 02:18:28.208 pyfstat.utils.sft INFO    : Loading 1 SFTs from H1...\n",
      "25-07-20 02:18:28.216 pyfstat.utils.sft INFO    : Loading 1 SFTs from H1...\n",
      "25-07-20 02:18:28.225 pyfstat.utils.sft INFO    : Loading 1 SFTs from H1...\n",
      "25-07-20 02:18:28.234 pyfstat.utils.sft INFO    : Loading 1 SFTs from H1...\n",
      "25-07-20 02:18:28.242 pyfstat.utils.sft INFO    : Loading 1 SFTs from H1...\n",
      "25-07-20 02:18:28.250 pyfstat.utils.sft INFO    : Loading 1 SFTs from H1...\n"
     ]
    },
    {
     "name": "stderr",
     "output_type": "stream",
     "text": [
      "  5%|▍         | 239/4800 [00:01<00:37, 122.50it/s]"
     ]
    },
    {
     "name": "stdout",
     "output_type": "stream",
     "text": [
      "25-07-20 02:18:28.259 pyfstat.utils.sft INFO    : Loading 1 SFTs from H1...\n",
      "25-07-20 02:18:28.267 pyfstat.utils.sft INFO    : Loading 1 SFTs from H1...\n",
      "25-07-20 02:18:28.275 pyfstat.utils.sft INFO    : Loading 1 SFTs from H1...\n",
      "25-07-20 02:18:28.283 pyfstat.utils.sft INFO    : Loading 1 SFTs from H1...\n",
      "25-07-20 02:18:28.292 pyfstat.utils.sft INFO    : Loading 1 SFTs from H1...\n",
      "25-07-20 02:18:28.300 pyfstat.utils.sft INFO    : Loading 1 SFTs from H1...\n",
      "25-07-20 02:18:28.308 pyfstat.utils.sft INFO    : Loading 1 SFTs from H1...\n",
      "25-07-20 02:18:28.316 pyfstat.utils.sft INFO    : Loading 1 SFTs from H1...\n",
      "25-07-20 02:18:28.324 pyfstat.utils.sft INFO    : Loading 1 SFTs from H1...\n",
      "25-07-20 02:18:28.333 pyfstat.utils.sft INFO    : Loading 1 SFTs from H1...\n",
      "25-07-20 02:18:28.342 pyfstat.utils.sft INFO    : Loading 1 SFTs from H1...\n",
      "25-07-20 02:18:28.351 pyfstat.utils.sft INFO    : Loading 1 SFTs from H1...\n",
      "25-07-20 02:18:28.359 pyfstat.utils.sft INFO    : Loading 1 SFTs from H1...\n"
     ]
    },
    {
     "name": "stderr",
     "output_type": "stream",
     "text": [
      "  5%|▌         | 252/4800 [00:02<00:37, 121.47it/s]"
     ]
    },
    {
     "name": "stdout",
     "output_type": "stream",
     "text": [
      "25-07-20 02:18:28.368 pyfstat.utils.sft INFO    : Loading 1 SFTs from H1...\n",
      "25-07-20 02:18:28.376 pyfstat.utils.sft INFO    : Loading 1 SFTs from H1...\n",
      "25-07-20 02:18:28.384 pyfstat.utils.sft INFO    : Loading 1 SFTs from H1...\n",
      "25-07-20 02:18:28.392 pyfstat.utils.sft INFO    : Loading 1 SFTs from H1...\n",
      "25-07-20 02:18:28.400 pyfstat.utils.sft INFO    : Loading 1 SFTs from H1...\n",
      "25-07-20 02:18:28.408 pyfstat.utils.sft INFO    : Loading 1 SFTs from H1...\n",
      "25-07-20 02:18:28.416 pyfstat.utils.sft INFO    : Loading 1 SFTs from H1...\n",
      "25-07-20 02:18:28.424 pyfstat.utils.sft INFO    : Loading 1 SFTs from H1...\n",
      "25-07-20 02:18:28.432 pyfstat.utils.sft INFO    : Loading 1 SFTs from H1...\n",
      "25-07-20 02:18:28.440 pyfstat.utils.sft INFO    : Loading 1 SFTs from H1...\n",
      "25-07-20 02:18:28.450 pyfstat.utils.sft INFO    : Loading 1 SFTs from H1...\n",
      "25-07-20 02:18:28.458 pyfstat.utils.sft INFO    : Loading 1 SFTs from H1...\n",
      "25-07-20 02:18:28.466 pyfstat.utils.sft INFO    : Loading 1 SFTs from H1...\n"
     ]
    },
    {
     "name": "stderr",
     "output_type": "stream",
     "text": [
      "  6%|▌         | 265/4800 [00:02<00:37, 121.35it/s]"
     ]
    },
    {
     "name": "stdout",
     "output_type": "stream",
     "text": [
      "25-07-20 02:18:28.475 pyfstat.utils.sft INFO    : Loading 1 SFTs from H1...\n",
      "25-07-20 02:18:28.483 pyfstat.utils.sft INFO    : Loading 1 SFTs from H1...\n",
      "25-07-20 02:18:28.491 pyfstat.utils.sft INFO    : Loading 1 SFTs from H1...\n",
      "25-07-20 02:18:28.500 pyfstat.utils.sft INFO    : Loading 1 SFTs from H1...\n",
      "25-07-20 02:18:28.508 pyfstat.utils.sft INFO    : Loading 1 SFTs from H1...\n",
      "25-07-20 02:18:28.516 pyfstat.utils.sft INFO    : Loading 1 SFTs from H1...\n",
      "25-07-20 02:18:28.525 pyfstat.utils.sft INFO    : Loading 1 SFTs from H1...\n",
      "25-07-20 02:18:28.533 pyfstat.utils.sft INFO    : Loading 1 SFTs from H1...\n",
      "25-07-20 02:18:28.542 pyfstat.utils.sft INFO    : Loading 1 SFTs from H1...\n",
      "25-07-20 02:18:28.550 pyfstat.utils.sft INFO    : Loading 1 SFTs from H1...\n",
      "25-07-20 02:18:28.560 pyfstat.utils.sft INFO    : Loading 1 SFTs from H1...\n",
      "25-07-20 02:18:28.568 pyfstat.utils.sft INFO    : Loading 1 SFTs from H1...\n",
      "25-07-20 02:18:28.577 pyfstat.utils.sft INFO    : Loading 1 SFTs from H1...\n"
     ]
    },
    {
     "name": "stderr",
     "output_type": "stream",
     "text": [
      "  6%|▌         | 278/4800 [00:02<00:37, 120.14it/s]"
     ]
    },
    {
     "name": "stdout",
     "output_type": "stream",
     "text": [
      "25-07-20 02:18:28.586 pyfstat.utils.sft INFO    : Loading 1 SFTs from H1...\n",
      "25-07-20 02:18:28.594 pyfstat.utils.sft INFO    : Loading 1 SFTs from H1...\n",
      "25-07-20 02:18:28.603 pyfstat.utils.sft INFO    : Loading 1 SFTs from H1...\n",
      "25-07-20 02:18:28.611 pyfstat.utils.sft INFO    : Loading 1 SFTs from H1...\n",
      "25-07-20 02:18:28.620 pyfstat.utils.sft INFO    : Loading 1 SFTs from H1...\n",
      "25-07-20 02:18:28.628 pyfstat.utils.sft INFO    : Loading 1 SFTs from H1...\n",
      "25-07-20 02:18:28.636 pyfstat.utils.sft INFO    : Loading 1 SFTs from H1...\n",
      "25-07-20 02:18:28.645 pyfstat.utils.sft INFO    : Loading 1 SFTs from H1...\n",
      "25-07-20 02:18:28.654 pyfstat.utils.sft INFO    : Loading 1 SFTs from H1...\n",
      "25-07-20 02:18:28.662 pyfstat.utils.sft INFO    : Loading 1 SFTs from H1...\n",
      "25-07-20 02:18:28.672 pyfstat.utils.sft INFO    : Loading 1 SFTs from H1...\n",
      "25-07-20 02:18:28.680 pyfstat.utils.sft INFO    : Loading 1 SFTs from H1...\n",
      "25-07-20 02:18:28.689 pyfstat.utils.sft INFO    : Loading 1 SFTs from H1...\n"
     ]
    },
    {
     "name": "stderr",
     "output_type": "stream",
     "text": [
      "  6%|▌         | 291/4800 [00:02<00:37, 118.96it/s]"
     ]
    },
    {
     "name": "stdout",
     "output_type": "stream",
     "text": [
      "25-07-20 02:18:28.698 pyfstat.utils.sft INFO    : Loading 1 SFTs from H1...\n",
      "25-07-20 02:18:28.706 pyfstat.utils.sft INFO    : Loading 1 SFTs from H1...\n",
      "25-07-20 02:18:28.714 pyfstat.utils.sft INFO    : Loading 1 SFTs from H1...\n",
      "25-07-20 02:18:28.724 pyfstat.utils.sft INFO    : Loading 1 SFTs from H1...\n",
      "25-07-20 02:18:28.732 pyfstat.utils.sft INFO    : Loading 1 SFTs from H1...\n",
      "25-07-20 02:18:28.741 pyfstat.utils.sft INFO    : Loading 1 SFTs from H1...\n",
      "25-07-20 02:18:28.749 pyfstat.utils.sft INFO    : Loading 1 SFTs from H1...\n",
      "25-07-20 02:18:28.758 pyfstat.utils.sft INFO    : Loading 1 SFTs from H1...\n",
      "25-07-20 02:18:28.766 pyfstat.utils.sft INFO    : Loading 1 SFTs from H1...\n",
      "25-07-20 02:18:28.775 pyfstat.utils.sft INFO    : Loading 1 SFTs from H1...\n",
      "25-07-20 02:18:28.786 pyfstat.utils.sft INFO    : Loading 1 SFTs from H1...\n",
      "25-07-20 02:18:28.795 pyfstat.utils.sft INFO    : Loading 1 SFTs from H1...\n"
     ]
    },
    {
     "name": "stderr",
     "output_type": "stream",
     "text": [
      "  6%|▋         | 303/4800 [00:02<00:38, 117.21it/s]"
     ]
    },
    {
     "name": "stdout",
     "output_type": "stream",
     "text": [
      "25-07-20 02:18:28.804 pyfstat.utils.sft INFO    : Loading 1 SFTs from H1...\n",
      "25-07-20 02:18:28.812 pyfstat.utils.sft INFO    : Loading 1 SFTs from H1...\n",
      "25-07-20 02:18:28.821 pyfstat.utils.sft INFO    : Loading 1 SFTs from H1...\n",
      "25-07-20 02:18:28.830 pyfstat.utils.sft INFO    : Loading 1 SFTs from H1...\n",
      "25-07-20 02:18:28.838 pyfstat.utils.sft INFO    : Loading 1 SFTs from H1...\n",
      "25-07-20 02:18:28.847 pyfstat.utils.sft INFO    : Loading 1 SFTs from H1...\n",
      "25-07-20 02:18:28.855 pyfstat.utils.sft INFO    : Loading 1 SFTs from H1...\n",
      "25-07-20 02:18:28.863 pyfstat.utils.sft INFO    : Loading 1 SFTs from H1...\n",
      "25-07-20 02:18:28.871 pyfstat.utils.sft INFO    : Loading 1 SFTs from H1...\n",
      "25-07-20 02:18:28.880 pyfstat.utils.sft INFO    : Loading 1 SFTs from H1...\n",
      "25-07-20 02:18:28.889 pyfstat.utils.sft INFO    : Loading 1 SFTs from H1...\n",
      "25-07-20 02:18:28.897 pyfstat.utils.sft INFO    : Loading 1 SFTs from H1...\n"
     ]
    },
    {
     "name": "stderr",
     "output_type": "stream",
     "text": [
      "  7%|▋         | 315/4800 [00:02<00:38, 117.07it/s]"
     ]
    },
    {
     "name": "stdout",
     "output_type": "stream",
     "text": [
      "25-07-20 02:18:28.906 pyfstat.utils.sft INFO    : Loading 1 SFTs from H1...\n",
      "25-07-20 02:18:28.915 pyfstat.utils.sft INFO    : Loading 1 SFTs from H1...\n",
      "25-07-20 02:18:28.923 pyfstat.utils.sft INFO    : Loading 1 SFTs from H1...\n",
      "25-07-20 02:18:28.932 pyfstat.utils.sft INFO    : Loading 1 SFTs from H1...\n",
      "25-07-20 02:18:28.940 pyfstat.utils.sft INFO    : Loading 1 SFTs from H1...\n",
      "25-07-20 02:18:28.948 pyfstat.utils.sft INFO    : Loading 1 SFTs from H1...\n",
      "25-07-20 02:18:28.957 pyfstat.utils.sft INFO    : Loading 1 SFTs from H1...\n",
      "25-07-20 02:18:28.965 pyfstat.utils.sft INFO    : Loading 1 SFTs from H1...\n",
      "25-07-20 02:18:28.973 pyfstat.utils.sft INFO    : Loading 1 SFTs from H1...\n",
      "25-07-20 02:18:28.981 pyfstat.utils.sft INFO    : Loading 1 SFTs from H1...\n",
      "25-07-20 02:18:28.990 pyfstat.utils.sft INFO    : Loading 1 SFTs from H1...\n",
      "25-07-20 02:18:28.998 pyfstat.utils.sft INFO    : Loading 1 SFTs from H1...\n"
     ]
    },
    {
     "name": "stderr",
     "output_type": "stream",
     "text": [
      "  7%|▋         | 327/4800 [00:02<00:38, 117.40it/s]"
     ]
    },
    {
     "name": "stdout",
     "output_type": "stream",
     "text": [
      "25-07-20 02:18:29.008 pyfstat.utils.sft INFO    : Loading 1 SFTs from H1...\n",
      "25-07-20 02:18:29.017 pyfstat.utils.sft INFO    : Loading 1 SFTs from H1...\n",
      "25-07-20 02:18:29.026 pyfstat.utils.sft INFO    : Loading 1 SFTs from H1...\n",
      "25-07-20 02:18:29.035 pyfstat.utils.sft INFO    : Loading 1 SFTs from H1...\n",
      "25-07-20 02:18:29.043 pyfstat.utils.sft INFO    : Loading 1 SFTs from H1...\n",
      "25-07-20 02:18:29.052 pyfstat.utils.sft INFO    : Loading 1 SFTs from H1...\n",
      "25-07-20 02:18:29.060 pyfstat.utils.sft INFO    : Loading 1 SFTs from H1...\n",
      "25-07-20 02:18:29.069 pyfstat.utils.sft INFO    : Loading 1 SFTs from H1...\n",
      "25-07-20 02:18:29.077 pyfstat.utils.sft INFO    : Loading 1 SFTs from H1...\n",
      "25-07-20 02:18:29.086 pyfstat.utils.sft INFO    : Loading 1 SFTs from H1...\n",
      "25-07-20 02:18:29.095 pyfstat.utils.sft INFO    : Loading 1 SFTs from H1...\n",
      "25-07-20 02:18:29.103 pyfstat.utils.sft INFO    : Loading 1 SFTs from H1...\n"
     ]
    },
    {
     "name": "stderr",
     "output_type": "stream",
     "text": [
      "  7%|▋         | 339/4800 [00:02<00:38, 116.47it/s]"
     ]
    },
    {
     "name": "stdout",
     "output_type": "stream",
     "text": [
      "25-07-20 02:18:29.113 pyfstat.utils.sft INFO    : Loading 1 SFTs from H1...\n",
      "25-07-20 02:18:29.122 pyfstat.utils.sft INFO    : Loading 1 SFTs from H1...\n",
      "25-07-20 02:18:29.131 pyfstat.utils.sft INFO    : Loading 1 SFTs from H1...\n",
      "25-07-20 02:18:29.140 pyfstat.utils.sft INFO    : Loading 1 SFTs from H1...\n",
      "25-07-20 02:18:29.148 pyfstat.utils.sft INFO    : Loading 1 SFTs from H1...\n",
      "25-07-20 02:18:29.157 pyfstat.utils.sft INFO    : Loading 1 SFTs from H1...\n",
      "25-07-20 02:18:29.166 pyfstat.utils.sft INFO    : Loading 1 SFTs from H1...\n",
      "25-07-20 02:18:29.174 pyfstat.utils.sft INFO    : Loading 1 SFTs from H1...\n",
      "25-07-20 02:18:29.183 pyfstat.utils.sft INFO    : Loading 1 SFTs from H1...\n",
      "25-07-20 02:18:29.191 pyfstat.utils.sft INFO    : Loading 1 SFTs from H1...\n",
      "25-07-20 02:18:29.200 pyfstat.utils.sft INFO    : Loading 1 SFTs from H1...\n",
      "25-07-20 02:18:29.208 pyfstat.utils.sft INFO    : Loading 1 SFTs from H1...\n"
     ]
    },
    {
     "name": "stderr",
     "output_type": "stream",
     "text": [
      "  7%|▋         | 351/4800 [00:02<00:38, 116.32it/s]"
     ]
    },
    {
     "name": "stdout",
     "output_type": "stream",
     "text": [
      "25-07-20 02:18:29.216 pyfstat.utils.sft INFO    : Loading 1 SFTs from H1...\n",
      "25-07-20 02:18:29.225 pyfstat.utils.sft INFO    : Loading 1 SFTs from H1...\n",
      "25-07-20 02:18:29.234 pyfstat.utils.sft INFO    : Loading 1 SFTs from H1...\n",
      "25-07-20 02:18:29.243 pyfstat.utils.sft INFO    : Loading 1 SFTs from H1...\n",
      "25-07-20 02:18:29.251 pyfstat.utils.sft INFO    : Loading 1 SFTs from H1...\n",
      "25-07-20 02:18:29.260 pyfstat.utils.sft INFO    : Loading 1 SFTs from H1...\n",
      "25-07-20 02:18:29.268 pyfstat.utils.sft INFO    : Loading 1 SFTs from H1...\n",
      "25-07-20 02:18:29.277 pyfstat.utils.sft INFO    : Loading 1 SFTs from H1...\n",
      "25-07-20 02:18:29.285 pyfstat.utils.sft INFO    : Loading 1 SFTs from H1...\n",
      "25-07-20 02:18:29.294 pyfstat.utils.sft INFO    : Loading 1 SFTs from H1...\n",
      "25-07-20 02:18:29.302 pyfstat.utils.sft INFO    : Loading 1 SFTs from H1...\n",
      "25-07-20 02:18:29.311 pyfstat.utils.sft INFO    : Loading 1 SFTs from H1...\n"
     ]
    },
    {
     "name": "stderr",
     "output_type": "stream",
     "text": [
      "  8%|▊         | 363/4800 [00:03<00:38, 116.18it/s]"
     ]
    },
    {
     "name": "stdout",
     "output_type": "stream",
     "text": [
      "25-07-20 02:18:29.320 pyfstat.utils.sft INFO    : Loading 1 SFTs from H1...\n",
      "25-07-20 02:18:29.329 pyfstat.utils.sft INFO    : Loading 1 SFTs from H1...\n",
      "25-07-20 02:18:29.337 pyfstat.utils.sft INFO    : Loading 1 SFTs from H1...\n",
      "25-07-20 02:18:29.346 pyfstat.utils.sft INFO    : Loading 1 SFTs from H1...\n",
      "25-07-20 02:18:29.354 pyfstat.utils.sft INFO    : Loading 1 SFTs from H1...\n",
      "25-07-20 02:18:29.363 pyfstat.utils.sft INFO    : Loading 1 SFTs from H1...\n",
      "25-07-20 02:18:29.371 pyfstat.utils.sft INFO    : Loading 1 SFTs from H1...\n",
      "25-07-20 02:18:29.379 pyfstat.utils.sft INFO    : Loading 1 SFTs from H1...\n",
      "25-07-20 02:18:29.387 pyfstat.utils.sft INFO    : Loading 1 SFTs from H1...\n",
      "25-07-20 02:18:29.395 pyfstat.utils.sft INFO    : Loading 1 SFTs from H1...\n",
      "25-07-20 02:18:29.403 pyfstat.utils.sft INFO    : Loading 1 SFTs from H1...\n",
      "25-07-20 02:18:29.411 pyfstat.utils.sft INFO    : Loading 1 SFTs from H1...\n",
      "25-07-20 02:18:29.419 pyfstat.utils.sft INFO    : Loading 1 SFTs from H1...\n"
     ]
    },
    {
     "name": "stderr",
     "output_type": "stream",
     "text": [
      "  8%|▊         | 376/4800 [00:03<00:37, 117.67it/s]"
     ]
    },
    {
     "name": "stdout",
     "output_type": "stream",
     "text": [
      "25-07-20 02:18:29.427 pyfstat.utils.sft INFO    : Loading 1 SFTs from H1...\n",
      "25-07-20 02:18:29.435 pyfstat.utils.sft INFO    : Loading 1 SFTs from H1...\n",
      "25-07-20 02:18:29.443 pyfstat.utils.sft INFO    : Loading 1 SFTs from H1...\n",
      "25-07-20 02:18:29.452 pyfstat.utils.sft INFO    : Loading 1 SFTs from H1...\n",
      "25-07-20 02:18:29.460 pyfstat.utils.sft INFO    : Loading 1 SFTs from H1...\n",
      "25-07-20 02:18:29.468 pyfstat.utils.sft INFO    : Loading 1 SFTs from H1...\n",
      "25-07-20 02:18:29.476 pyfstat.utils.sft INFO    : Loading 1 SFTs from H1...\n",
      "25-07-20 02:18:29.484 pyfstat.utils.sft INFO    : Loading 1 SFTs from H1...\n",
      "25-07-20 02:18:29.492 pyfstat.utils.sft INFO    : Loading 1 SFTs from H1...\n",
      "25-07-20 02:18:29.499 pyfstat.utils.sft INFO    : Loading 1 SFTs from H1...\n",
      "25-07-20 02:18:29.508 pyfstat.utils.sft INFO    : Loading 1 SFTs from H1...\n",
      "25-07-20 02:18:29.516 pyfstat.utils.sft INFO    : Loading 1 SFTs from H1...\n",
      "25-07-20 02:18:29.524 pyfstat.utils.sft INFO    : Loading 1 SFTs from H1...\n"
     ]
    },
    {
     "name": "stderr",
     "output_type": "stream",
     "text": [
      "  8%|▊         | 389/4800 [00:03<00:36, 119.61it/s]"
     ]
    },
    {
     "name": "stdout",
     "output_type": "stream",
     "text": [
      "25-07-20 02:18:29.532 pyfstat.utils.sft INFO    : Loading 1 SFTs from H1...\n",
      "25-07-20 02:18:29.540 pyfstat.utils.sft INFO    : Loading 1 SFTs from H1...\n",
      "25-07-20 02:18:29.548 pyfstat.utils.sft INFO    : Loading 1 SFTs from H1...\n",
      "25-07-20 02:18:29.557 pyfstat.utils.sft INFO    : Loading 1 SFTs from H1...\n",
      "25-07-20 02:18:29.565 pyfstat.utils.sft INFO    : Loading 1 SFTs from H1...\n",
      "25-07-20 02:18:29.573 pyfstat.utils.sft INFO    : Loading 1 SFTs from H1...\n",
      "25-07-20 02:18:29.582 pyfstat.utils.sft INFO    : Loading 1 SFTs from H1...\n",
      "25-07-20 02:18:29.590 pyfstat.utils.sft INFO    : Loading 1 SFTs from H1...\n",
      "25-07-20 02:18:29.600 pyfstat.utils.sft INFO    : Loading 1 SFTs from H1...\n",
      "25-07-20 02:18:29.609 pyfstat.utils.sft INFO    : Loading 1 SFTs from H1...\n",
      "25-07-20 02:18:29.617 pyfstat.utils.sft INFO    : Loading 1 SFTs from H1...\n",
      "25-07-20 02:18:29.626 pyfstat.utils.sft INFO    : Loading 1 SFTs from H1...\n"
     ]
    },
    {
     "name": "stderr",
     "output_type": "stream",
     "text": [
      "  8%|▊         | 401/4800 [00:03<00:37, 118.68it/s]"
     ]
    },
    {
     "name": "stdout",
     "output_type": "stream",
     "text": [
      "25-07-20 02:18:29.635 pyfstat.utils.sft INFO    : Loading 1 SFTs from H1...\n",
      "25-07-20 02:18:29.644 pyfstat.utils.sft INFO    : Loading 1 SFTs from H1...\n",
      "25-07-20 02:18:29.653 pyfstat.utils.sft INFO    : Loading 1 SFTs from H1...\n",
      "25-07-20 02:18:29.661 pyfstat.utils.sft INFO    : Loading 1 SFTs from H1...\n",
      "25-07-20 02:18:29.670 pyfstat.utils.sft INFO    : Loading 1 SFTs from H1...\n",
      "25-07-20 02:18:29.679 pyfstat.utils.sft INFO    : Loading 1 SFTs from H1...\n",
      "25-07-20 02:18:29.687 pyfstat.utils.sft INFO    : Loading 1 SFTs from H1...\n",
      "25-07-20 02:18:29.696 pyfstat.utils.sft INFO    : Loading 1 SFTs from H1...\n",
      "25-07-20 02:18:29.704 pyfstat.utils.sft INFO    : Loading 1 SFTs from H1...\n",
      "25-07-20 02:18:29.713 pyfstat.utils.sft INFO    : Loading 1 SFTs from H1...\n",
      "25-07-20 02:18:29.723 pyfstat.utils.sft INFO    : Loading 1 SFTs from H1...\n",
      "25-07-20 02:18:29.732 pyfstat.utils.sft INFO    : Loading 1 SFTs from H1...\n"
     ]
    },
    {
     "name": "stderr",
     "output_type": "stream",
     "text": [
      "  9%|▊         | 413/4800 [00:03<00:37, 116.91it/s]"
     ]
    },
    {
     "name": "stdout",
     "output_type": "stream",
     "text": [
      "25-07-20 02:18:29.742 pyfstat.utils.sft INFO    : Loading 1 SFTs from H1...\n",
      "25-07-20 02:18:29.751 pyfstat.utils.sft INFO    : Loading 1 SFTs from H1...\n",
      "25-07-20 02:18:29.759 pyfstat.utils.sft INFO    : Loading 1 SFTs from H1...\n",
      "25-07-20 02:18:29.768 pyfstat.utils.sft INFO    : Loading 1 SFTs from H1...\n",
      "25-07-20 02:18:29.776 pyfstat.utils.sft INFO    : Loading 1 SFTs from H1...\n",
      "25-07-20 02:18:29.785 pyfstat.utils.sft INFO    : Loading 1 SFTs from H1...\n",
      "25-07-20 02:18:29.793 pyfstat.utils.sft INFO    : Loading 1 SFTs from H1...\n",
      "25-07-20 02:18:29.802 pyfstat.utils.sft INFO    : Loading 1 SFTs from H1...\n",
      "25-07-20 02:18:29.813 pyfstat.utils.sft INFO    : Loading 1 SFTs from H1...\n",
      "25-07-20 02:18:29.825 pyfstat.utils.sft INFO    : Loading 1 SFTs from H1...\n",
      "25-07-20 02:18:29.834 pyfstat.utils.sft INFO    : Loading 1 SFTs from H1...\n",
      "25-07-20 02:18:29.843 pyfstat.utils.sft INFO    : Loading 1 SFTs from H1...\n"
     ]
    },
    {
     "name": "stderr",
     "output_type": "stream",
     "text": [
      "  9%|▉         | 425/4800 [00:03<00:38, 114.07it/s]"
     ]
    },
    {
     "name": "stdout",
     "output_type": "stream",
     "text": [
      "25-07-20 02:18:29.853 pyfstat.utils.sft INFO    : Loading 1 SFTs from H1...\n",
      "25-07-20 02:18:29.862 pyfstat.utils.sft INFO    : Loading 1 SFTs from H1...\n",
      "25-07-20 02:18:29.871 pyfstat.utils.sft INFO    : Loading 1 SFTs from H1...\n",
      "25-07-20 02:18:29.880 pyfstat.utils.sft INFO    : Loading 1 SFTs from H1...\n",
      "25-07-20 02:18:29.888 pyfstat.utils.sft INFO    : Loading 1 SFTs from H1...\n",
      "25-07-20 02:18:29.897 pyfstat.utils.sft INFO    : Loading 1 SFTs from H1...\n",
      "25-07-20 02:18:29.908 pyfstat.utils.sft INFO    : Loading 1 SFTs from H1...\n",
      "25-07-20 02:18:29.918 pyfstat.utils.sft INFO    : Loading 1 SFTs from H1...\n",
      "25-07-20 02:18:29.927 pyfstat.utils.sft INFO    : Loading 1 SFTs from H1...\n",
      "25-07-20 02:18:29.936 pyfstat.utils.sft INFO    : Loading 1 SFTs from H1...\n",
      "25-07-20 02:18:29.946 pyfstat.utils.sft INFO    : Loading 1 SFTs from H1...\n",
      "25-07-20 02:18:29.955 pyfstat.utils.sft INFO    : Loading 1 SFTs from H1...\n"
     ]
    },
    {
     "name": "stderr",
     "output_type": "stream",
     "text": [
      "  9%|▉         | 437/4800 [00:03<00:38, 112.10it/s]"
     ]
    },
    {
     "name": "stdout",
     "output_type": "stream",
     "text": [
      "25-07-20 02:18:29.964 pyfstat.utils.sft INFO    : Loading 1 SFTs from H1...\n",
      "25-07-20 02:18:29.973 pyfstat.utils.sft INFO    : Loading 1 SFTs from H1...\n",
      "25-07-20 02:18:29.981 pyfstat.utils.sft INFO    : Loading 1 SFTs from H1...\n",
      "25-07-20 02:18:29.989 pyfstat.utils.sft INFO    : Loading 1 SFTs from H1...\n",
      "25-07-20 02:18:29.998 pyfstat.utils.sft INFO    : Loading 1 SFTs from H1...\n",
      "25-07-20 02:18:30.006 pyfstat.utils.sft INFO    : Loading 1 SFTs from H1...\n",
      "25-07-20 02:18:30.015 pyfstat.utils.sft INFO    : Loading 1 SFTs from H1...\n",
      "25-07-20 02:18:30.025 pyfstat.utils.sft INFO    : Loading 1 SFTs from H1...\n",
      "25-07-20 02:18:30.035 pyfstat.utils.sft INFO    : Loading 1 SFTs from H1...\n",
      "25-07-20 02:18:30.045 pyfstat.utils.sft INFO    : Loading 1 SFTs from H1...\n",
      "25-07-20 02:18:30.054 pyfstat.utils.sft INFO    : Loading 1 SFTs from H1...\n",
      "25-07-20 02:18:30.071 pyfstat.utils.sft INFO    : Loading 1 SFTs from H1...\n"
     ]
    },
    {
     "name": "stderr",
     "output_type": "stream",
     "text": [
      "  9%|▉         | 449/4800 [00:03<00:39, 109.18it/s]"
     ]
    },
    {
     "name": "stdout",
     "output_type": "stream",
     "text": [
      "25-07-20 02:18:30.081 pyfstat.utils.sft INFO    : Loading 1 SFTs from H1...\n",
      "25-07-20 02:18:30.091 pyfstat.utils.sft INFO    : Loading 1 SFTs from H1...\n",
      "25-07-20 02:18:30.100 pyfstat.utils.sft INFO    : Loading 1 SFTs from H1...\n",
      "25-07-20 02:18:30.109 pyfstat.utils.sft INFO    : Loading 1 SFTs from H1...\n",
      "25-07-20 02:18:30.118 pyfstat.utils.sft INFO    : Loading 1 SFTs from H1...\n",
      "25-07-20 02:18:30.133 pyfstat.utils.sft INFO    : Loading 1 SFTs from H1...\n",
      "25-07-20 02:18:30.142 pyfstat.utils.sft INFO    : Loading 1 SFTs from H1...\n",
      "25-07-20 02:18:30.151 pyfstat.utils.sft INFO    : Loading 1 SFTs from H1...\n",
      "25-07-20 02:18:30.161 pyfstat.utils.sft INFO    : Loading 1 SFTs from H1...\n",
      "25-07-20 02:18:30.169 pyfstat.utils.sft INFO    : Loading 1 SFTs from H1...\n",
      "25-07-20 02:18:30.177 pyfstat.utils.sft INFO    : Loading 1 SFTs from H1...\n"
     ]
    },
    {
     "name": "stderr",
     "output_type": "stream",
     "text": [
      " 10%|▉         | 460/4800 [00:03<00:40, 107.89it/s]"
     ]
    },
    {
     "name": "stdout",
     "output_type": "stream",
     "text": [
      "25-07-20 02:18:30.186 pyfstat.utils.sft INFO    : Loading 1 SFTs from H1...\n",
      "25-07-20 02:18:30.195 pyfstat.utils.sft INFO    : Loading 1 SFTs from H1...\n",
      "25-07-20 02:18:30.203 pyfstat.utils.sft INFO    : Loading 1 SFTs from H1...\n",
      "25-07-20 02:18:30.211 pyfstat.utils.sft INFO    : Loading 1 SFTs from H1...\n",
      "25-07-20 02:18:30.219 pyfstat.utils.sft INFO    : Loading 1 SFTs from H1...\n",
      "25-07-20 02:18:30.227 pyfstat.utils.sft INFO    : Loading 1 SFTs from H1...\n",
      "25-07-20 02:18:30.236 pyfstat.utils.sft INFO    : Loading 1 SFTs from H1...\n",
      "25-07-20 02:18:30.245 pyfstat.utils.sft INFO    : Loading 1 SFTs from H1...\n",
      "25-07-20 02:18:30.253 pyfstat.utils.sft INFO    : Loading 1 SFTs from H1...\n",
      "25-07-20 02:18:30.262 pyfstat.utils.sft INFO    : Loading 1 SFTs from H1...\n",
      "25-07-20 02:18:30.271 pyfstat.utils.sft INFO    : Loading 1 SFTs from H1...\n",
      "25-07-20 02:18:30.280 pyfstat.utils.sft INFO    : Loading 1 SFTs from H1...\n"
     ]
    },
    {
     "name": "stderr",
     "output_type": "stream",
     "text": [
      " 10%|▉         | 472/4800 [00:04<00:39, 110.49it/s]"
     ]
    },
    {
     "name": "stdout",
     "output_type": "stream",
     "text": [
      "25-07-20 02:18:30.289 pyfstat.utils.sft INFO    : Loading 1 SFTs from H1...\n",
      "25-07-20 02:18:30.297 pyfstat.utils.sft INFO    : Loading 1 SFTs from H1...\n",
      "25-07-20 02:18:30.306 pyfstat.utils.sft INFO    : Loading 1 SFTs from H1...\n",
      "25-07-20 02:18:30.314 pyfstat.utils.sft INFO    : Loading 1 SFTs from H1...\n",
      "25-07-20 02:18:30.322 pyfstat.utils.sft INFO    : Loading 1 SFTs from H1...\n",
      "25-07-20 02:18:30.330 pyfstat.utils.sft INFO    : Loading 1 SFTs from H1...\n",
      "25-07-20 02:18:30.339 pyfstat.utils.sft INFO    : Loading 1 SFTs from H1...\n",
      "25-07-20 02:18:30.347 pyfstat.utils.sft INFO    : Loading 1 SFTs from H1...\n",
      "25-07-20 02:18:30.355 pyfstat.utils.sft INFO    : Loading 1 SFTs from H1...\n",
      "25-07-20 02:18:30.364 pyfstat.utils.sft INFO    : Loading 1 SFTs from H1...\n",
      "25-07-20 02:18:30.372 pyfstat.utils.sft INFO    : Loading 1 SFTs from H1...\n",
      "25-07-20 02:18:30.381 pyfstat.utils.sft INFO    : Loading 1 SFTs from H1...\n"
     ]
    },
    {
     "name": "stderr",
     "output_type": "stream",
     "text": [
      " 10%|█         | 484/4800 [00:04<00:38, 112.67it/s]"
     ]
    },
    {
     "name": "stdout",
     "output_type": "stream",
     "text": [
      "25-07-20 02:18:30.390 pyfstat.utils.sft INFO    : Loading 1 SFTs from H1...\n",
      "25-07-20 02:18:30.399 pyfstat.utils.sft INFO    : Loading 1 SFTs from H1...\n",
      "25-07-20 02:18:30.407 pyfstat.utils.sft INFO    : Loading 1 SFTs from H1...\n",
      "25-07-20 02:18:30.415 pyfstat.utils.sft INFO    : Loading 1 SFTs from H1...\n",
      "25-07-20 02:18:30.424 pyfstat.utils.sft INFO    : Loading 1 SFTs from H1...\n",
      "25-07-20 02:18:30.432 pyfstat.utils.sft INFO    : Loading 1 SFTs from H1...\n",
      "25-07-20 02:18:30.441 pyfstat.utils.sft INFO    : Loading 1 SFTs from H1...\n",
      "25-07-20 02:18:30.449 pyfstat.utils.sft INFO    : Loading 1 SFTs from H1...\n",
      "25-07-20 02:18:30.457 pyfstat.utils.sft INFO    : Loading 1 SFTs from H1...\n",
      "25-07-20 02:18:30.466 pyfstat.utils.sft INFO    : Loading 1 SFTs from H1...\n",
      "25-07-20 02:18:30.474 pyfstat.utils.sft INFO    : Loading 1 SFTs from H1...\n",
      "25-07-20 02:18:30.483 pyfstat.utils.sft INFO    : Loading 1 SFTs from H1...\n"
     ]
    },
    {
     "name": "stderr",
     "output_type": "stream",
     "text": [
      " 10%|█         | 496/4800 [00:04<00:37, 114.09it/s]"
     ]
    },
    {
     "name": "stdout",
     "output_type": "stream",
     "text": [
      "25-07-20 02:18:30.493 pyfstat.utils.sft INFO    : Loading 1 SFTs from H1...\n",
      "25-07-20 02:18:30.503 pyfstat.utils.sft INFO    : Loading 1 SFTs from H1...\n",
      "25-07-20 02:18:30.511 pyfstat.utils.sft INFO    : Loading 1 SFTs from H1...\n",
      "25-07-20 02:18:30.520 pyfstat.utils.sft INFO    : Loading 1 SFTs from H1...\n",
      "25-07-20 02:18:30.528 pyfstat.utils.sft INFO    : Loading 1 SFTs from H1...\n",
      "25-07-20 02:18:30.536 pyfstat.utils.sft INFO    : Loading 1 SFTs from H1...\n",
      "25-07-20 02:18:30.545 pyfstat.utils.sft INFO    : Loading 1 SFTs from H1...\n",
      "25-07-20 02:18:30.553 pyfstat.utils.sft INFO    : Loading 1 SFTs from H1...\n",
      "25-07-20 02:18:30.562 pyfstat.utils.sft INFO    : Loading 1 SFTs from H1...\n",
      "25-07-20 02:18:30.570 pyfstat.utils.sft INFO    : Loading 1 SFTs from H1...\n",
      "25-07-20 02:18:30.579 pyfstat.utils.sft INFO    : Loading 1 SFTs from H1...\n",
      "25-07-20 02:18:30.587 pyfstat.utils.sft INFO    : Loading 1 SFTs from H1...\n"
     ]
    },
    {
     "name": "stderr",
     "output_type": "stream",
     "text": [
      " 11%|█         | 508/4800 [00:04<00:37, 114.43it/s]"
     ]
    },
    {
     "name": "stdout",
     "output_type": "stream",
     "text": [
      "25-07-20 02:18:30.597 pyfstat.utils.sft INFO    : Loading 1 SFTs from H1...\n",
      "25-07-20 02:18:30.606 pyfstat.utils.sft INFO    : Loading 1 SFTs from H1...\n",
      "25-07-20 02:18:30.615 pyfstat.utils.sft INFO    : Loading 1 SFTs from H1...\n",
      "25-07-20 02:18:30.623 pyfstat.utils.sft INFO    : Loading 1 SFTs from H1...\n",
      "25-07-20 02:18:30.632 pyfstat.utils.sft INFO    : Loading 1 SFTs from H1...\n",
      "25-07-20 02:18:30.640 pyfstat.utils.sft INFO    : Loading 1 SFTs from H1...\n",
      "25-07-20 02:18:30.649 pyfstat.utils.sft INFO    : Loading 1 SFTs from H1...\n",
      "25-07-20 02:18:30.657 pyfstat.utils.sft INFO    : Loading 1 SFTs from H1...\n",
      "25-07-20 02:18:30.665 pyfstat.utils.sft INFO    : Loading 1 SFTs from H1...\n",
      "25-07-20 02:18:30.674 pyfstat.utils.sft INFO    : Loading 1 SFTs from H1...\n",
      "25-07-20 02:18:30.682 pyfstat.utils.sft INFO    : Loading 1 SFTs from H1...\n",
      "25-07-20 02:18:30.691 pyfstat.utils.sft INFO    : Loading 1 SFTs from H1...\n"
     ]
    },
    {
     "name": "stderr",
     "output_type": "stream",
     "text": [
      " 11%|█         | 520/4800 [00:04<00:37, 115.05it/s]"
     ]
    },
    {
     "name": "stdout",
     "output_type": "stream",
     "text": [
      "25-07-20 02:18:30.700 pyfstat.utils.sft INFO    : Loading 1 SFTs from H1...\n",
      "25-07-20 02:18:30.708 pyfstat.utils.sft INFO    : Loading 1 SFTs from H1...\n",
      "25-07-20 02:18:30.717 pyfstat.utils.sft INFO    : Loading 1 SFTs from H1...\n",
      "25-07-20 02:18:30.726 pyfstat.utils.sft INFO    : Loading 1 SFTs from H1...\n",
      "25-07-20 02:18:30.734 pyfstat.utils.sft INFO    : Loading 1 SFTs from H1...\n",
      "25-07-20 02:18:30.742 pyfstat.utils.sft INFO    : Loading 1 SFTs from H1...\n",
      "25-07-20 02:18:30.750 pyfstat.utils.sft INFO    : Loading 1 SFTs from H1...\n",
      "25-07-20 02:18:30.759 pyfstat.utils.sft INFO    : Loading 1 SFTs from H1...\n",
      "25-07-20 02:18:30.767 pyfstat.utils.sft INFO    : Loading 1 SFTs from H1...\n",
      "25-07-20 02:18:30.775 pyfstat.utils.sft INFO    : Loading 1 SFTs from H1...\n",
      "25-07-20 02:18:30.783 pyfstat.utils.sft INFO    : Loading 1 SFTs from H1...\n",
      "25-07-20 02:18:30.791 pyfstat.utils.sft INFO    : Loading 1 SFTs from H1...\n"
     ]
    },
    {
     "name": "stderr",
     "output_type": "stream",
     "text": [
      " 11%|█         | 532/4800 [00:04<00:36, 116.25it/s]"
     ]
    },
    {
     "name": "stdout",
     "output_type": "stream",
     "text": [
      "25-07-20 02:18:30.800 pyfstat.utils.sft INFO    : Loading 1 SFTs from H1...\n",
      "25-07-20 02:18:30.808 pyfstat.utils.sft INFO    : Loading 1 SFTs from H1...\n",
      "25-07-20 02:18:30.817 pyfstat.utils.sft INFO    : Loading 1 SFTs from H1...\n",
      "25-07-20 02:18:30.825 pyfstat.utils.sft INFO    : Loading 1 SFTs from H1...\n",
      "25-07-20 02:18:30.834 pyfstat.utils.sft INFO    : Loading 1 SFTs from H1...\n",
      "25-07-20 02:18:30.842 pyfstat.utils.sft INFO    : Loading 1 SFTs from H1...\n",
      "25-07-20 02:18:30.850 pyfstat.utils.sft INFO    : Loading 1 SFTs from H1...\n",
      "25-07-20 02:18:30.858 pyfstat.utils.sft INFO    : Loading 1 SFTs from H1...\n",
      "25-07-20 02:18:30.866 pyfstat.utils.sft INFO    : Loading 1 SFTs from H1...\n",
      "25-07-20 02:18:30.875 pyfstat.utils.sft INFO    : Loading 1 SFTs from H1...\n",
      "25-07-20 02:18:30.884 pyfstat.utils.sft INFO    : Loading 1 SFTs from H1...\n",
      "25-07-20 02:18:30.892 pyfstat.utils.sft INFO    : Loading 1 SFTs from H1...\n"
     ]
    },
    {
     "name": "stderr",
     "output_type": "stream",
     "text": [
      " 11%|█▏        | 544/4800 [00:04<00:36, 117.19it/s]"
     ]
    },
    {
     "name": "stdout",
     "output_type": "stream",
     "text": [
      "25-07-20 02:18:30.901 pyfstat.utils.sft INFO    : Loading 1 SFTs from H1...\n",
      "25-07-20 02:18:30.909 pyfstat.utils.sft INFO    : Loading 1 SFTs from H1...\n",
      "25-07-20 02:18:30.918 pyfstat.utils.sft INFO    : Loading 1 SFTs from H1...\n",
      "25-07-20 02:18:30.926 pyfstat.utils.sft INFO    : Loading 1 SFTs from H1...\n",
      "25-07-20 02:18:30.935 pyfstat.utils.sft INFO    : Loading 1 SFTs from H1...\n",
      "25-07-20 02:18:30.944 pyfstat.utils.sft INFO    : Loading 1 SFTs from H1...\n",
      "25-07-20 02:18:30.953 pyfstat.utils.sft INFO    : Loading 1 SFTs from H1...\n",
      "25-07-20 02:18:30.961 pyfstat.utils.sft INFO    : Loading 1 SFTs from H1...\n",
      "25-07-20 02:18:30.969 pyfstat.utils.sft INFO    : Loading 1 SFTs from H1...\n",
      "25-07-20 02:18:30.978 pyfstat.utils.sft INFO    : Loading 1 SFTs from H1...\n",
      "25-07-20 02:18:30.986 pyfstat.utils.sft INFO    : Loading 1 SFTs from H1...\n",
      "25-07-20 02:18:30.995 pyfstat.utils.sft INFO    : Loading 1 SFTs from H1...\n"
     ]
    },
    {
     "name": "stderr",
     "output_type": "stream",
     "text": [
      " 12%|█▏        | 556/4800 [00:04<00:36, 116.80it/s]"
     ]
    },
    {
     "name": "stdout",
     "output_type": "stream",
     "text": [
      "25-07-20 02:18:31.004 pyfstat.utils.sft INFO    : Loading 1 SFTs from H1...\n",
      "25-07-20 02:18:31.013 pyfstat.utils.sft INFO    : Loading 1 SFTs from H1...\n",
      "25-07-20 02:18:31.022 pyfstat.utils.sft INFO    : Loading 1 SFTs from H1...\n",
      "25-07-20 02:18:31.031 pyfstat.utils.sft INFO    : Loading 1 SFTs from H1...\n",
      "25-07-20 02:18:31.039 pyfstat.utils.sft INFO    : Loading 1 SFTs from H1...\n",
      "25-07-20 02:18:31.048 pyfstat.utils.sft INFO    : Loading 1 SFTs from H1...\n",
      "25-07-20 02:18:31.056 pyfstat.utils.sft INFO    : Loading 1 SFTs from H1...\n",
      "25-07-20 02:18:31.064 pyfstat.utils.sft INFO    : Loading 1 SFTs from H1...\n",
      "25-07-20 02:18:31.073 pyfstat.utils.sft INFO    : Loading 1 SFTs from H1...\n",
      "25-07-20 02:18:31.080 pyfstat.utils.sft INFO    : Loading 1 SFTs from H1...\n",
      "25-07-20 02:18:31.089 pyfstat.utils.sft INFO    : Loading 1 SFTs from H1...\n",
      "25-07-20 02:18:31.097 pyfstat.utils.sft INFO    : Loading 1 SFTs from H1...\n"
     ]
    },
    {
     "name": "stderr",
     "output_type": "stream",
     "text": [
      " 12%|█▏        | 568/4800 [00:04<00:36, 117.10it/s]"
     ]
    },
    {
     "name": "stdout",
     "output_type": "stream",
     "text": [
      "25-07-20 02:18:31.106 pyfstat.utils.sft INFO    : Loading 1 SFTs from H1...\n",
      "25-07-20 02:18:31.114 pyfstat.utils.sft INFO    : Loading 1 SFTs from H1...\n",
      "25-07-20 02:18:31.123 pyfstat.utils.sft INFO    : Loading 1 SFTs from H1...\n",
      "25-07-20 02:18:31.131 pyfstat.utils.sft INFO    : Loading 1 SFTs from H1...\n",
      "25-07-20 02:18:31.139 pyfstat.utils.sft INFO    : Loading 1 SFTs from H1...\n",
      "25-07-20 02:18:31.147 pyfstat.utils.sft INFO    : Loading 1 SFTs from H1...\n",
      "25-07-20 02:18:31.157 pyfstat.utils.sft INFO    : Loading 1 SFTs from H1...\n",
      "25-07-20 02:18:31.165 pyfstat.utils.sft INFO    : Loading 1 SFTs from H1...\n",
      "25-07-20 02:18:31.174 pyfstat.utils.sft INFO    : Loading 1 SFTs from H1...\n",
      "25-07-20 02:18:31.183 pyfstat.utils.sft INFO    : Loading 1 SFTs from H1...\n",
      "25-07-20 02:18:31.192 pyfstat.utils.sft INFO    : Loading 1 SFTs from H1...\n",
      "25-07-20 02:18:31.200 pyfstat.utils.sft INFO    : Loading 1 SFTs from H1...\n"
     ]
    },
    {
     "name": "stderr",
     "output_type": "stream",
     "text": [
      " 12%|█▏        | 580/4800 [00:04<00:36, 116.96it/s]"
     ]
    },
    {
     "name": "stdout",
     "output_type": "stream",
     "text": [
      "25-07-20 02:18:31.209 pyfstat.utils.sft INFO    : Loading 1 SFTs from H1...\n",
      "25-07-20 02:18:31.218 pyfstat.utils.sft INFO    : Loading 1 SFTs from H1...\n",
      "25-07-20 02:18:31.226 pyfstat.utils.sft INFO    : Loading 1 SFTs from H1...\n",
      "25-07-20 02:18:31.234 pyfstat.utils.sft INFO    : Loading 1 SFTs from H1...\n",
      "25-07-20 02:18:31.242 pyfstat.utils.sft INFO    : Loading 1 SFTs from H1...\n",
      "25-07-20 02:18:31.251 pyfstat.utils.sft INFO    : Loading 1 SFTs from H1...\n",
      "25-07-20 02:18:31.260 pyfstat.utils.sft INFO    : Loading 1 SFTs from H1...\n",
      "25-07-20 02:18:31.269 pyfstat.utils.sft INFO    : Loading 1 SFTs from H1...\n",
      "25-07-20 02:18:31.278 pyfstat.utils.sft INFO    : Loading 1 SFTs from H1...\n",
      "25-07-20 02:18:31.286 pyfstat.utils.sft INFO    : Loading 1 SFTs from H1...\n",
      "25-07-20 02:18:31.295 pyfstat.utils.sft INFO    : Loading 1 SFTs from H1...\n",
      "25-07-20 02:18:31.303 pyfstat.utils.sft INFO    : Loading 1 SFTs from H1...\n"
     ]
    },
    {
     "name": "stderr",
     "output_type": "stream",
     "text": [
      " 12%|█▏        | 592/4800 [00:05<00:36, 116.47it/s]"
     ]
    },
    {
     "name": "stdout",
     "output_type": "stream",
     "text": [
      "25-07-20 02:18:31.313 pyfstat.utils.sft INFO    : Loading 1 SFTs from H1...\n",
      "25-07-20 02:18:31.322 pyfstat.utils.sft INFO    : Loading 1 SFTs from H1...\n",
      "25-07-20 02:18:31.331 pyfstat.utils.sft INFO    : Loading 1 SFTs from H1...\n",
      "25-07-20 02:18:31.340 pyfstat.utils.sft INFO    : Loading 1 SFTs from H1...\n",
      "25-07-20 02:18:31.348 pyfstat.utils.sft INFO    : Loading 1 SFTs from H1...\n",
      "25-07-20 02:18:31.356 pyfstat.utils.sft INFO    : Loading 1 SFTs from H1...\n",
      "25-07-20 02:18:31.365 pyfstat.utils.sft INFO    : Loading 1 SFTs from H1...\n",
      "25-07-20 02:18:31.374 pyfstat.utils.sft INFO    : Loading 1 SFTs from H1...\n",
      "25-07-20 02:18:31.383 pyfstat.utils.sft INFO    : Loading 1 SFTs from H1...\n",
      "25-07-20 02:18:31.391 pyfstat.utils.sft INFO    : Loading 1 SFTs from H1...\n",
      "25-07-20 02:18:31.400 pyfstat.utils.sft INFO    : Loading 1 SFTs from H1...\n",
      "25-07-20 02:18:31.409 pyfstat.utils.sft INFO    : Loading 1 SFTs from H1...\n"
     ]
    },
    {
     "name": "stderr",
     "output_type": "stream",
     "text": [
      " 13%|█▎        | 604/4800 [00:05<00:36, 116.01it/s]"
     ]
    },
    {
     "name": "stdout",
     "output_type": "stream",
     "text": [
      "25-07-20 02:18:31.418 pyfstat.utils.sft INFO    : Loading 1 SFTs from H1...\n",
      "25-07-20 02:18:31.426 pyfstat.utils.sft INFO    : Loading 1 SFTs from H1...\n",
      "25-07-20 02:18:31.435 pyfstat.utils.sft INFO    : Loading 1 SFTs from H1...\n",
      "25-07-20 02:18:31.443 pyfstat.utils.sft INFO    : Loading 1 SFTs from H1...\n",
      "25-07-20 02:18:31.451 pyfstat.utils.sft INFO    : Loading 1 SFTs from H1...\n",
      "25-07-20 02:18:31.460 pyfstat.utils.sft INFO    : Loading 1 SFTs from H1...\n",
      "25-07-20 02:18:31.468 pyfstat.utils.sft INFO    : Loading 1 SFTs from H1...\n",
      "25-07-20 02:18:31.476 pyfstat.utils.sft INFO    : Loading 1 SFTs from H1...\n",
      "25-07-20 02:18:31.485 pyfstat.utils.sft INFO    : Loading 1 SFTs from H1...\n",
      "25-07-20 02:18:31.494 pyfstat.utils.sft INFO    : Loading 1 SFTs from H1...\n",
      "25-07-20 02:18:31.502 pyfstat.utils.sft INFO    : Loading 1 SFTs from H1...\n",
      "25-07-20 02:18:31.511 pyfstat.utils.sft INFO    : Loading 1 SFTs from H1...\n"
     ]
    },
    {
     "name": "stderr",
     "output_type": "stream",
     "text": [
      " 13%|█▎        | 616/4800 [00:05<00:36, 116.12it/s]"
     ]
    },
    {
     "name": "stdout",
     "output_type": "stream",
     "text": [
      "25-07-20 02:18:31.521 pyfstat.utils.sft INFO    : Loading 1 SFTs from H1...\n",
      "25-07-20 02:18:31.529 pyfstat.utils.sft INFO    : Loading 1 SFTs from H1...\n",
      "25-07-20 02:18:31.537 pyfstat.utils.sft INFO    : Loading 1 SFTs from H1...\n",
      "25-07-20 02:18:31.546 pyfstat.utils.sft INFO    : Loading 1 SFTs from H1...\n",
      "25-07-20 02:18:31.554 pyfstat.utils.sft INFO    : Loading 1 SFTs from H1...\n",
      "25-07-20 02:18:31.563 pyfstat.utils.sft INFO    : Loading 1 SFTs from H1...\n",
      "25-07-20 02:18:31.571 pyfstat.utils.sft INFO    : Loading 1 SFTs from H1...\n",
      "25-07-20 02:18:31.580 pyfstat.utils.sft INFO    : Loading 1 SFTs from H1...\n",
      "25-07-20 02:18:31.589 pyfstat.utils.sft INFO    : Loading 1 SFTs from H1...\n",
      "25-07-20 02:18:31.598 pyfstat.utils.sft INFO    : Loading 1 SFTs from H1...\n",
      "25-07-20 02:18:31.607 pyfstat.utils.sft INFO    : Loading 1 SFTs from H1...\n",
      "25-07-20 02:18:31.616 pyfstat.utils.sft INFO    : Loading 1 SFTs from H1...\n"
     ]
    },
    {
     "name": "stderr",
     "output_type": "stream",
     "text": [
      " 13%|█▎        | 628/4800 [00:05<00:36, 115.72it/s]"
     ]
    },
    {
     "name": "stdout",
     "output_type": "stream",
     "text": [
      "25-07-20 02:18:31.625 pyfstat.utils.sft INFO    : Loading 1 SFTs from H1...\n",
      "25-07-20 02:18:31.634 pyfstat.utils.sft INFO    : Loading 1 SFTs from H1...\n",
      "25-07-20 02:18:31.643 pyfstat.utils.sft INFO    : Loading 1 SFTs from H1...\n",
      "25-07-20 02:18:31.652 pyfstat.utils.sft INFO    : Loading 1 SFTs from H1...\n",
      "25-07-20 02:18:31.660 pyfstat.utils.sft INFO    : Loading 1 SFTs from H1...\n",
      "25-07-20 02:18:31.669 pyfstat.utils.sft INFO    : Loading 1 SFTs from H1...\n",
      "25-07-20 02:18:31.677 pyfstat.utils.sft INFO    : Loading 1 SFTs from H1...\n",
      "25-07-20 02:18:31.685 pyfstat.utils.sft INFO    : Loading 1 SFTs from H1...\n",
      "25-07-20 02:18:31.693 pyfstat.utils.sft INFO    : Loading 1 SFTs from H1...\n",
      "25-07-20 02:18:31.702 pyfstat.utils.sft INFO    : Loading 1 SFTs from H1...\n",
      "25-07-20 02:18:31.711 pyfstat.utils.sft INFO    : Loading 1 SFTs from H1...\n",
      "25-07-20 02:18:31.720 pyfstat.utils.sft INFO    : Loading 1 SFTs from H1...\n"
     ]
    },
    {
     "name": "stderr",
     "output_type": "stream",
     "text": [
      " 13%|█▎        | 640/4800 [00:05<00:35, 115.84it/s]"
     ]
    },
    {
     "name": "stdout",
     "output_type": "stream",
     "text": [
      "25-07-20 02:18:31.728 pyfstat.utils.sft INFO    : Loading 1 SFTs from H1...\n",
      "25-07-20 02:18:31.737 pyfstat.utils.sft INFO    : Loading 1 SFTs from H1...\n",
      "25-07-20 02:18:31.745 pyfstat.utils.sft INFO    : Loading 1 SFTs from H1...\n",
      "25-07-20 02:18:31.754 pyfstat.utils.sft INFO    : Loading 1 SFTs from H1...\n",
      "25-07-20 02:18:31.763 pyfstat.utils.sft INFO    : Loading 1 SFTs from H1...\n",
      "25-07-20 02:18:31.771 pyfstat.utils.sft INFO    : Loading 1 SFTs from H1...\n",
      "25-07-20 02:18:31.779 pyfstat.utils.sft INFO    : Loading 1 SFTs from H1...\n",
      "25-07-20 02:18:31.787 pyfstat.utils.sft INFO    : Loading 1 SFTs from H1...\n",
      "25-07-20 02:18:31.796 pyfstat.utils.sft INFO    : Loading 1 SFTs from H1...\n",
      "25-07-20 02:18:31.804 pyfstat.utils.sft INFO    : Loading 1 SFTs from H1...\n",
      "25-07-20 02:18:31.812 pyfstat.utils.sft INFO    : Loading 1 SFTs from H1...\n",
      "25-07-20 02:18:31.820 pyfstat.utils.sft INFO    : Loading 1 SFTs from H1...\n"
     ]
    },
    {
     "name": "stderr",
     "output_type": "stream",
     "text": [
      " 14%|█▎        | 652/4800 [00:05<00:35, 116.65it/s]"
     ]
    },
    {
     "name": "stdout",
     "output_type": "stream",
     "text": [
      "25-07-20 02:18:31.830 pyfstat.utils.sft INFO    : Loading 1 SFTs from H1...\n",
      "25-07-20 02:18:31.838 pyfstat.utils.sft INFO    : Loading 1 SFTs from H1...\n",
      "25-07-20 02:18:31.847 pyfstat.utils.sft INFO    : Loading 1 SFTs from H1...\n",
      "25-07-20 02:18:31.856 pyfstat.utils.sft INFO    : Loading 1 SFTs from H1...\n",
      "25-07-20 02:18:31.865 pyfstat.utils.sft INFO    : Loading 1 SFTs from H1...\n",
      "25-07-20 02:18:31.873 pyfstat.utils.sft INFO    : Loading 1 SFTs from H1...\n",
      "25-07-20 02:18:31.882 pyfstat.utils.sft INFO    : Loading 1 SFTs from H1...\n",
      "25-07-20 02:18:31.890 pyfstat.utils.sft INFO    : Loading 1 SFTs from H1...\n",
      "25-07-20 02:18:31.899 pyfstat.utils.sft INFO    : Loading 1 SFTs from H1...\n",
      "25-07-20 02:18:31.908 pyfstat.utils.sft INFO    : Loading 1 SFTs from H1...\n",
      "25-07-20 02:18:31.917 pyfstat.utils.sft INFO    : Loading 1 SFTs from H1...\n",
      "25-07-20 02:18:31.925 pyfstat.utils.sft INFO    : Loading 1 SFTs from H1...\n"
     ]
    },
    {
     "name": "stderr",
     "output_type": "stream",
     "text": [
      " 14%|█▍        | 664/4800 [00:05<00:35, 115.86it/s]"
     ]
    },
    {
     "name": "stdout",
     "output_type": "stream",
     "text": [
      "25-07-20 02:18:31.935 pyfstat.utils.sft INFO    : Loading 1 SFTs from H1...\n",
      "25-07-20 02:18:31.944 pyfstat.utils.sft INFO    : Loading 1 SFTs from H1...\n",
      "25-07-20 02:18:31.953 pyfstat.utils.sft INFO    : Loading 1 SFTs from H1...\n",
      "25-07-20 02:18:31.961 pyfstat.utils.sft INFO    : Loading 1 SFTs from H1...\n",
      "25-07-20 02:18:31.970 pyfstat.utils.sft INFO    : Loading 1 SFTs from H1...\n",
      "25-07-20 02:18:31.978 pyfstat.utils.sft INFO    : Loading 1 SFTs from H1...\n",
      "25-07-20 02:18:31.986 pyfstat.utils.sft INFO    : Loading 1 SFTs from H1...\n",
      "25-07-20 02:18:31.994 pyfstat.utils.sft INFO    : Loading 1 SFTs from H1...\n",
      "25-07-20 02:18:32.003 pyfstat.utils.sft INFO    : Loading 1 SFTs from H1...\n",
      "25-07-20 02:18:32.011 pyfstat.utils.sft INFO    : Loading 1 SFTs from H1...\n",
      "25-07-20 02:18:32.020 pyfstat.utils.sft INFO    : Loading 1 SFTs from H1...\n",
      "25-07-20 02:18:32.029 pyfstat.utils.sft INFO    : Loading 1 SFTs from H1...\n"
     ]
    },
    {
     "name": "stderr",
     "output_type": "stream",
     "text": [
      " 14%|█▍        | 676/4800 [00:05<00:35, 115.91it/s]"
     ]
    },
    {
     "name": "stdout",
     "output_type": "stream",
     "text": [
      "25-07-20 02:18:32.038 pyfstat.utils.sft INFO    : Loading 1 SFTs from H1...\n",
      "25-07-20 02:18:32.048 pyfstat.utils.sft INFO    : Loading 1 SFTs from H1...\n",
      "25-07-20 02:18:32.056 pyfstat.utils.sft INFO    : Loading 1 SFTs from H1...\n",
      "25-07-20 02:18:32.064 pyfstat.utils.sft INFO    : Loading 1 SFTs from H1...\n",
      "25-07-20 02:18:32.072 pyfstat.utils.sft INFO    : Loading 1 SFTs from H1...\n",
      "25-07-20 02:18:32.080 pyfstat.utils.sft INFO    : Loading 1 SFTs from H1...\n",
      "25-07-20 02:18:32.089 pyfstat.utils.sft INFO    : Loading 1 SFTs from H1...\n",
      "25-07-20 02:18:32.097 pyfstat.utils.sft INFO    : Loading 1 SFTs from H1...\n",
      "25-07-20 02:18:32.105 pyfstat.utils.sft INFO    : Loading 1 SFTs from H1...\n",
      "25-07-20 02:18:32.113 pyfstat.utils.sft INFO    : Loading 1 SFTs from H1...\n",
      "25-07-20 02:18:32.122 pyfstat.utils.sft INFO    : Loading 1 SFTs from H1...\n",
      "25-07-20 02:18:32.130 pyfstat.utils.sft INFO    : Loading 1 SFTs from H1...\n"
     ]
    },
    {
     "name": "stderr",
     "output_type": "stream",
     "text": [
      " 14%|█▍        | 688/4800 [00:05<00:35, 116.75it/s]"
     ]
    },
    {
     "name": "stdout",
     "output_type": "stream",
     "text": [
      "25-07-20 02:18:32.139 pyfstat.utils.sft INFO    : Loading 1 SFTs from H1...\n",
      "25-07-20 02:18:32.148 pyfstat.utils.sft INFO    : Loading 1 SFTs from H1...\n",
      "25-07-20 02:18:32.157 pyfstat.utils.sft INFO    : Loading 1 SFTs from H1...\n",
      "25-07-20 02:18:32.166 pyfstat.utils.sft INFO    : Loading 1 SFTs from H1...\n",
      "25-07-20 02:18:32.175 pyfstat.utils.sft INFO    : Loading 1 SFTs from H1...\n",
      "25-07-20 02:18:32.184 pyfstat.utils.sft INFO    : Loading 1 SFTs from H1...\n",
      "25-07-20 02:18:32.192 pyfstat.utils.sft INFO    : Loading 1 SFTs from H1...\n",
      "25-07-20 02:18:32.201 pyfstat.utils.sft INFO    : Loading 1 SFTs from H1...\n",
      "25-07-20 02:18:32.209 pyfstat.utils.sft INFO    : Loading 1 SFTs from H1...\n",
      "25-07-20 02:18:32.218 pyfstat.utils.sft INFO    : Loading 1 SFTs from H1...\n",
      "25-07-20 02:18:32.226 pyfstat.utils.sft INFO    : Loading 1 SFTs from H1...\n",
      "25-07-20 02:18:32.235 pyfstat.utils.sft INFO    : Loading 1 SFTs from H1...\n"
     ]
    },
    {
     "name": "stderr",
     "output_type": "stream",
     "text": [
      " 15%|█▍        | 700/4800 [00:05<00:35, 116.05it/s]"
     ]
    },
    {
     "name": "stdout",
     "output_type": "stream",
     "text": [
      "25-07-20 02:18:32.244 pyfstat.utils.sft INFO    : Loading 1 SFTs from H1...\n",
      "25-07-20 02:18:32.253 pyfstat.utils.sft INFO    : Loading 1 SFTs from H1...\n",
      "25-07-20 02:18:32.261 pyfstat.utils.sft INFO    : Loading 1 SFTs from H1...\n",
      "25-07-20 02:18:32.270 pyfstat.utils.sft INFO    : Loading 1 SFTs from H1...\n",
      "25-07-20 02:18:32.279 pyfstat.utils.sft INFO    : Loading 1 SFTs from H1...\n",
      "25-07-20 02:18:32.288 pyfstat.utils.sft INFO    : Loading 1 SFTs from H1...\n",
      "25-07-20 02:18:32.296 pyfstat.utils.sft INFO    : Loading 1 SFTs from H1...\n",
      "25-07-20 02:18:32.305 pyfstat.utils.sft INFO    : Loading 1 SFTs from H1...\n",
      "25-07-20 02:18:32.314 pyfstat.utils.sft INFO    : Loading 1 SFTs from H1...\n",
      "25-07-20 02:18:32.322 pyfstat.utils.sft INFO    : Loading 1 SFTs from H1...\n",
      "25-07-20 02:18:32.330 pyfstat.utils.sft INFO    : Loading 1 SFTs from H1...\n",
      "25-07-20 02:18:32.339 pyfstat.utils.sft INFO    : Loading 1 SFTs from H1...\n"
     ]
    },
    {
     "name": "stderr",
     "output_type": "stream",
     "text": [
      " 15%|█▍        | 712/4800 [00:06<00:35, 115.81it/s]"
     ]
    },
    {
     "name": "stdout",
     "output_type": "stream",
     "text": [
      "25-07-20 02:18:32.348 pyfstat.utils.sft INFO    : Loading 1 SFTs from H1...\n",
      "25-07-20 02:18:32.357 pyfstat.utils.sft INFO    : Loading 1 SFTs from H1...\n",
      "25-07-20 02:18:32.365 pyfstat.utils.sft INFO    : Loading 1 SFTs from H1...\n",
      "25-07-20 02:18:32.374 pyfstat.utils.sft INFO    : Loading 1 SFTs from H1...\n",
      "25-07-20 02:18:32.383 pyfstat.utils.sft INFO    : Loading 1 SFTs from H1...\n",
      "25-07-20 02:18:32.391 pyfstat.utils.sft INFO    : Loading 1 SFTs from H1...\n",
      "25-07-20 02:18:32.399 pyfstat.utils.sft INFO    : Loading 1 SFTs from H1...\n",
      "25-07-20 02:18:32.408 pyfstat.utils.sft INFO    : Loading 1 SFTs from H1...\n",
      "25-07-20 02:18:32.416 pyfstat.utils.sft INFO    : Loading 1 SFTs from H1...\n",
      "25-07-20 02:18:32.424 pyfstat.utils.sft INFO    : Loading 1 SFTs from H1...\n",
      "25-07-20 02:18:32.433 pyfstat.utils.sft INFO    : Loading 1 SFTs from H1...\n",
      "25-07-20 02:18:32.441 pyfstat.utils.sft INFO    : Loading 1 SFTs from H1...\n"
     ]
    },
    {
     "name": "stderr",
     "output_type": "stream",
     "text": [
      " 15%|█▌        | 724/4800 [00:06<00:35, 116.43it/s]"
     ]
    },
    {
     "name": "stdout",
     "output_type": "stream",
     "text": [
      "25-07-20 02:18:32.450 pyfstat.utils.sft INFO    : Loading 1 SFTs from H1...\n",
      "25-07-20 02:18:32.458 pyfstat.utils.sft INFO    : Loading 1 SFTs from H1...\n",
      "25-07-20 02:18:32.466 pyfstat.utils.sft INFO    : Loading 1 SFTs from H1...\n",
      "25-07-20 02:18:32.474 pyfstat.utils.sft INFO    : Loading 1 SFTs from H1...\n",
      "25-07-20 02:18:32.483 pyfstat.utils.sft INFO    : Loading 1 SFTs from H1...\n",
      "25-07-20 02:18:32.492 pyfstat.utils.sft INFO    : Loading 1 SFTs from H1...\n",
      "25-07-20 02:18:32.501 pyfstat.utils.sft INFO    : Loading 1 SFTs from H1...\n",
      "25-07-20 02:18:32.511 pyfstat.utils.sft INFO    : Loading 1 SFTs from H1...\n",
      "25-07-20 02:18:32.519 pyfstat.utils.sft INFO    : Loading 1 SFTs from H1...\n",
      "25-07-20 02:18:32.528 pyfstat.utils.sft INFO    : Loading 1 SFTs from H1...\n",
      "25-07-20 02:18:32.536 pyfstat.utils.sft INFO    : Loading 1 SFTs from H1...\n",
      "25-07-20 02:18:32.544 pyfstat.utils.sft INFO    : Loading 1 SFTs from H1...\n"
     ]
    },
    {
     "name": "stderr",
     "output_type": "stream",
     "text": [
      " 15%|█▌        | 736/4800 [00:06<00:34, 116.21it/s]"
     ]
    },
    {
     "name": "stdout",
     "output_type": "stream",
     "text": [
      "25-07-20 02:18:32.554 pyfstat.utils.sft INFO    : Loading 1 SFTs from H1...\n",
      "25-07-20 02:18:32.562 pyfstat.utils.sft INFO    : Loading 1 SFTs from H1...\n",
      "25-07-20 02:18:32.571 pyfstat.utils.sft INFO    : Loading 1 SFTs from H1...\n",
      "25-07-20 02:18:32.579 pyfstat.utils.sft INFO    : Loading 1 SFTs from H1...\n",
      "25-07-20 02:18:32.587 pyfstat.utils.sft INFO    : Loading 1 SFTs from H1...\n",
      "25-07-20 02:18:32.595 pyfstat.utils.sft INFO    : Loading 1 SFTs from H1...\n",
      "25-07-20 02:18:32.604 pyfstat.utils.sft INFO    : Loading 1 SFTs from H1...\n",
      "25-07-20 02:18:32.612 pyfstat.utils.sft INFO    : Loading 1 SFTs from H1...\n",
      "25-07-20 02:18:32.621 pyfstat.utils.sft INFO    : Loading 1 SFTs from H1...\n",
      "25-07-20 02:18:32.630 pyfstat.utils.sft INFO    : Loading 1 SFTs from H1...\n",
      "25-07-20 02:18:32.638 pyfstat.utils.sft INFO    : Loading 1 SFTs from H1...\n",
      "25-07-20 02:18:32.647 pyfstat.utils.sft INFO    : Loading 1 SFTs from H1...\n"
     ]
    },
    {
     "name": "stderr",
     "output_type": "stream",
     "text": [
      " 16%|█▌        | 748/4800 [00:06<00:34, 116.44it/s]"
     ]
    },
    {
     "name": "stdout",
     "output_type": "stream",
     "text": [
      "25-07-20 02:18:32.656 pyfstat.utils.sft INFO    : Loading 1 SFTs from H1...\n",
      "25-07-20 02:18:32.666 pyfstat.utils.sft INFO    : Loading 1 SFTs from H1...\n",
      "25-07-20 02:18:32.674 pyfstat.utils.sft INFO    : Loading 1 SFTs from H1...\n",
      "25-07-20 02:18:32.683 pyfstat.utils.sft INFO    : Loading 1 SFTs from H1...\n",
      "25-07-20 02:18:32.692 pyfstat.utils.sft INFO    : Loading 1 SFTs from H1...\n",
      "25-07-20 02:18:32.700 pyfstat.utils.sft INFO    : Loading 1 SFTs from H1...\n",
      "25-07-20 02:18:32.710 pyfstat.utils.sft INFO    : Loading 1 SFTs from H1...\n",
      "25-07-20 02:18:32.719 pyfstat.utils.sft INFO    : Loading 1 SFTs from H1...\n",
      "25-07-20 02:18:32.727 pyfstat.utils.sft INFO    : Loading 1 SFTs from H1...\n",
      "25-07-20 02:18:32.736 pyfstat.utils.sft INFO    : Loading 1 SFTs from H1...\n",
      "25-07-20 02:18:32.744 pyfstat.utils.sft INFO    : Loading 1 SFTs from H1...\n",
      "25-07-20 02:18:32.753 pyfstat.utils.sft INFO    : Loading 1 SFTs from H1...\n"
     ]
    },
    {
     "name": "stderr",
     "output_type": "stream",
     "text": [
      " 16%|█▌        | 760/4800 [00:06<00:34, 115.62it/s]"
     ]
    },
    {
     "name": "stdout",
     "output_type": "stream",
     "text": [
      "25-07-20 02:18:32.762 pyfstat.utils.sft INFO    : Loading 1 SFTs from H1...\n",
      "25-07-20 02:18:32.771 pyfstat.utils.sft INFO    : Loading 1 SFTs from H1...\n",
      "25-07-20 02:18:32.779 pyfstat.utils.sft INFO    : Loading 1 SFTs from H1...\n",
      "25-07-20 02:18:32.786 pyfstat.utils.sft INFO    : Loading 1 SFTs from H1...\n",
      "25-07-20 02:18:32.794 pyfstat.utils.sft INFO    : Loading 1 SFTs from H1...\n",
      "25-07-20 02:18:32.802 pyfstat.utils.sft INFO    : Loading 1 SFTs from H1...\n",
      "25-07-20 02:18:32.810 pyfstat.utils.sft INFO    : Loading 1 SFTs from H1...\n",
      "25-07-20 02:18:32.818 pyfstat.utils.sft INFO    : Loading 1 SFTs from H1...\n",
      "25-07-20 02:18:32.827 pyfstat.utils.sft INFO    : Loading 1 SFTs from H1...\n",
      "25-07-20 02:18:32.835 pyfstat.utils.sft INFO    : Loading 1 SFTs from H1...\n",
      "25-07-20 02:18:32.844 pyfstat.utils.sft INFO    : Loading 1 SFTs from H1...\n",
      "25-07-20 02:18:32.853 pyfstat.utils.sft INFO    : Loading 1 SFTs from H1...\n"
     ]
    },
    {
     "name": "stderr",
     "output_type": "stream",
     "text": [
      " 16%|█▌        | 772/4800 [00:06<00:34, 116.68it/s]"
     ]
    },
    {
     "name": "stdout",
     "output_type": "stream",
     "text": [
      "25-07-20 02:18:32.862 pyfstat.utils.sft INFO    : Loading 1 SFTs from H1...\n",
      "25-07-20 02:18:32.871 pyfstat.utils.sft INFO    : Loading 1 SFTs from H1...\n",
      "25-07-20 02:18:32.880 pyfstat.utils.sft INFO    : Loading 1 SFTs from H1...\n",
      "25-07-20 02:18:32.889 pyfstat.utils.sft INFO    : Loading 1 SFTs from H1...\n",
      "25-07-20 02:18:32.897 pyfstat.utils.sft INFO    : Loading 1 SFTs from H1...\n",
      "25-07-20 02:18:32.906 pyfstat.utils.sft INFO    : Loading 1 SFTs from H1...\n",
      "25-07-20 02:18:32.915 pyfstat.utils.sft INFO    : Loading 1 SFTs from H1...\n",
      "25-07-20 02:18:32.923 pyfstat.utils.sft INFO    : Loading 1 SFTs from H1...\n",
      "25-07-20 02:18:32.932 pyfstat.utils.sft INFO    : Loading 1 SFTs from H1...\n",
      "25-07-20 02:18:32.941 pyfstat.utils.sft INFO    : Loading 1 SFTs from H1...\n",
      "25-07-20 02:18:32.949 pyfstat.utils.sft INFO    : Loading 1 SFTs from H1...\n",
      "25-07-20 02:18:32.958 pyfstat.utils.sft INFO    : Loading 1 SFTs from H1...\n"
     ]
    },
    {
     "name": "stderr",
     "output_type": "stream",
     "text": [
      " 16%|█▋        | 784/4800 [00:06<00:34, 115.99it/s]"
     ]
    },
    {
     "name": "stdout",
     "output_type": "stream",
     "text": [
      "25-07-20 02:18:32.968 pyfstat.utils.sft INFO    : Loading 1 SFTs from H1...\n",
      "25-07-20 02:18:32.976 pyfstat.utils.sft INFO    : Loading 1 SFTs from H1...\n",
      "25-07-20 02:18:32.985 pyfstat.utils.sft INFO    : Loading 1 SFTs from H1...\n",
      "25-07-20 02:18:32.994 pyfstat.utils.sft INFO    : Loading 1 SFTs from H1...\n",
      "25-07-20 02:18:33.002 pyfstat.utils.sft INFO    : Loading 1 SFTs from H1...\n",
      "25-07-20 02:18:33.011 pyfstat.utils.sft INFO    : Loading 1 SFTs from H1...\n",
      "25-07-20 02:18:33.019 pyfstat.utils.sft INFO    : Loading 1 SFTs from H1...\n",
      "25-07-20 02:18:33.028 pyfstat.utils.sft INFO    : Loading 1 SFTs from H1...\n",
      "25-07-20 02:18:33.036 pyfstat.utils.sft INFO    : Loading 1 SFTs from H1...\n",
      "25-07-20 02:18:33.045 pyfstat.utils.sft INFO    : Loading 1 SFTs from H1...\n",
      "25-07-20 02:18:33.054 pyfstat.utils.sft INFO    : Loading 1 SFTs from H1...\n",
      "25-07-20 02:18:33.062 pyfstat.utils.sft INFO    : Loading 1 SFTs from H1...\n"
     ]
    },
    {
     "name": "stderr",
     "output_type": "stream",
     "text": [
      " 17%|█▋        | 796/4800 [00:06<00:34, 115.89it/s]"
     ]
    },
    {
     "name": "stdout",
     "output_type": "stream",
     "text": [
      "25-07-20 02:18:33.071 pyfstat.utils.sft INFO    : Loading 1 SFTs from H1...\n",
      "25-07-20 02:18:33.080 pyfstat.utils.sft INFO    : Loading 1 SFTs from H1...\n",
      "25-07-20 02:18:33.088 pyfstat.utils.sft INFO    : Loading 1 SFTs from H1...\n",
      "25-07-20 02:18:33.096 pyfstat.utils.sft INFO    : Loading 1 SFTs from H1...\n",
      "25-07-20 02:18:33.104 pyfstat.utils.sft INFO    : Loading 1 SFTs from H1...\n",
      "25-07-20 02:18:33.112 pyfstat.utils.sft INFO    : Loading 1 SFTs from H1...\n",
      "25-07-20 02:18:33.121 pyfstat.utils.sft INFO    : Loading 1 SFTs from H1...\n",
      "25-07-20 02:18:33.129 pyfstat.utils.sft INFO    : Loading 1 SFTs from H1...\n",
      "25-07-20 02:18:33.137 pyfstat.utils.sft INFO    : Loading 1 SFTs from H1...\n",
      "25-07-20 02:18:33.145 pyfstat.utils.sft INFO    : Loading 1 SFTs from H1...\n",
      "25-07-20 02:18:33.154 pyfstat.utils.sft INFO    : Loading 1 SFTs from H1...\n",
      "25-07-20 02:18:33.162 pyfstat.utils.sft INFO    : Loading 1 SFTs from H1...\n"
     ]
    },
    {
     "name": "stderr",
     "output_type": "stream",
     "text": [
      " 17%|█▋        | 808/4800 [00:06<00:34, 116.84it/s]"
     ]
    },
    {
     "name": "stdout",
     "output_type": "stream",
     "text": [
      "25-07-20 02:18:33.172 pyfstat.utils.sft INFO    : Loading 1 SFTs from H1...\n",
      "25-07-20 02:18:33.180 pyfstat.utils.sft INFO    : Loading 1 SFTs from H1...\n",
      "25-07-20 02:18:33.189 pyfstat.utils.sft INFO    : Loading 1 SFTs from H1...\n",
      "25-07-20 02:18:33.197 pyfstat.utils.sft INFO    : Loading 1 SFTs from H1...\n",
      "25-07-20 02:18:33.205 pyfstat.utils.sft INFO    : Loading 1 SFTs from H1...\n",
      "25-07-20 02:18:33.213 pyfstat.utils.sft INFO    : Loading 1 SFTs from H1...\n",
      "25-07-20 02:18:33.220 pyfstat.utils.sft INFO    : Loading 1 SFTs from H1...\n",
      "25-07-20 02:18:33.228 pyfstat.utils.sft INFO    : Loading 1 SFTs from H1...\n",
      "25-07-20 02:18:33.236 pyfstat.utils.sft INFO    : Loading 1 SFTs from H1...\n",
      "25-07-20 02:18:33.245 pyfstat.utils.sft INFO    : Loading 1 SFTs from H1...\n",
      "25-07-20 02:18:33.253 pyfstat.utils.sft INFO    : Loading 1 SFTs from H1...\n",
      "25-07-20 02:18:33.261 pyfstat.utils.sft INFO    : Loading 1 SFTs from H1...\n",
      "25-07-20 02:18:33.270 pyfstat.utils.sft INFO    : Loading 1 SFTs from H1...\n"
     ]
    },
    {
     "name": "stderr",
     "output_type": "stream",
     "text": [
      " 17%|█▋        | 821/4800 [00:07<00:33, 118.27it/s]"
     ]
    },
    {
     "name": "stdout",
     "output_type": "stream",
     "text": [
      "25-07-20 02:18:33.279 pyfstat.utils.sft INFO    : Loading 1 SFTs from H1...\n",
      "25-07-20 02:18:33.287 pyfstat.utils.sft INFO    : Loading 1 SFTs from H1...\n",
      "25-07-20 02:18:33.296 pyfstat.utils.sft INFO    : Loading 1 SFTs from H1...\n",
      "25-07-20 02:18:33.304 pyfstat.utils.sft INFO    : Loading 1 SFTs from H1...\n",
      "25-07-20 02:18:33.312 pyfstat.utils.sft INFO    : Loading 1 SFTs from H1...\n",
      "25-07-20 02:18:33.321 pyfstat.utils.sft INFO    : Loading 1 SFTs from H1...\n",
      "25-07-20 02:18:33.329 pyfstat.utils.sft INFO    : Loading 1 SFTs from H1...\n",
      "25-07-20 02:18:33.337 pyfstat.utils.sft INFO    : Loading 1 SFTs from H1...\n",
      "25-07-20 02:18:33.345 pyfstat.utils.sft INFO    : Loading 1 SFTs from H1...\n",
      "25-07-20 02:18:33.354 pyfstat.utils.sft INFO    : Loading 1 SFTs from H1...\n",
      "25-07-20 02:18:33.362 pyfstat.utils.sft INFO    : Loading 1 SFTs from H1...\n",
      "25-07-20 02:18:33.371 pyfstat.utils.sft INFO    : Loading 1 SFTs from H1...\n"
     ]
    },
    {
     "name": "stderr",
     "output_type": "stream",
     "text": [
      " 17%|█▋        | 833/4800 [00:07<00:33, 118.34it/s]"
     ]
    },
    {
     "name": "stdout",
     "output_type": "stream",
     "text": [
      "25-07-20 02:18:33.381 pyfstat.utils.sft INFO    : Loading 1 SFTs from H1...\n",
      "25-07-20 02:18:33.390 pyfstat.utils.sft INFO    : Loading 1 SFTs from H1...\n",
      "25-07-20 02:18:33.398 pyfstat.utils.sft INFO    : Loading 1 SFTs from H1...\n",
      "25-07-20 02:18:33.406 pyfstat.utils.sft INFO    : Loading 1 SFTs from H1...\n",
      "25-07-20 02:18:33.415 pyfstat.utils.sft INFO    : Loading 1 SFTs from H1...\n",
      "25-07-20 02:18:33.423 pyfstat.utils.sft INFO    : Loading 1 SFTs from H1...\n",
      "25-07-20 02:18:33.431 pyfstat.utils.sft INFO    : Loading 1 SFTs from H1...\n",
      "25-07-20 02:18:33.440 pyfstat.utils.sft INFO    : Loading 1 SFTs from H1...\n",
      "25-07-20 02:18:33.448 pyfstat.utils.sft INFO    : Loading 1 SFTs from H1...\n",
      "25-07-20 02:18:33.457 pyfstat.utils.sft INFO    : Loading 1 SFTs from H1...\n",
      "25-07-20 02:18:33.466 pyfstat.utils.sft INFO    : Loading 1 SFTs from H1...\n",
      "25-07-20 02:18:33.475 pyfstat.utils.sft INFO    : Loading 1 SFTs from H1...\n"
     ]
    },
    {
     "name": "stderr",
     "output_type": "stream",
     "text": [
      " 18%|█▊        | 845/4800 [00:07<00:33, 117.57it/s]"
     ]
    },
    {
     "name": "stdout",
     "output_type": "stream",
     "text": [
      "25-07-20 02:18:33.484 pyfstat.utils.sft INFO    : Loading 1 SFTs from H1...\n",
      "25-07-20 02:18:33.493 pyfstat.utils.sft INFO    : Loading 1 SFTs from H1...\n",
      "25-07-20 02:18:33.503 pyfstat.utils.sft INFO    : Loading 1 SFTs from H1...\n",
      "25-07-20 02:18:33.512 pyfstat.utils.sft INFO    : Loading 1 SFTs from H1...\n",
      "25-07-20 02:18:33.520 pyfstat.utils.sft INFO    : Loading 1 SFTs from H1...\n",
      "25-07-20 02:18:33.529 pyfstat.utils.sft INFO    : Loading 1 SFTs from H1...\n",
      "25-07-20 02:18:33.537 pyfstat.utils.sft INFO    : Loading 1 SFTs from H1...\n",
      "25-07-20 02:18:33.545 pyfstat.utils.sft INFO    : Loading 1 SFTs from H1...\n",
      "25-07-20 02:18:33.554 pyfstat.utils.sft INFO    : Loading 1 SFTs from H1...\n",
      "25-07-20 02:18:33.563 pyfstat.utils.sft INFO    : Loading 1 SFTs from H1...\n",
      "25-07-20 02:18:33.571 pyfstat.utils.sft INFO    : Loading 1 SFTs from H1...\n",
      "25-07-20 02:18:33.579 pyfstat.utils.sft INFO    : Loading 1 SFTs from H1...\n"
     ]
    },
    {
     "name": "stderr",
     "output_type": "stream",
     "text": [
      " 18%|█▊        | 857/4800 [00:07<00:33, 116.66it/s]"
     ]
    },
    {
     "name": "stdout",
     "output_type": "stream",
     "text": [
      "25-07-20 02:18:33.589 pyfstat.utils.sft INFO    : Loading 1 SFTs from H1...\n",
      "25-07-20 02:18:33.598 pyfstat.utils.sft INFO    : Loading 1 SFTs from H1...\n",
      "25-07-20 02:18:33.607 pyfstat.utils.sft INFO    : Loading 1 SFTs from H1...\n",
      "25-07-20 02:18:33.615 pyfstat.utils.sft INFO    : Loading 1 SFTs from H1...\n",
      "25-07-20 02:18:33.624 pyfstat.utils.sft INFO    : Loading 1 SFTs from H1...\n",
      "25-07-20 02:18:33.633 pyfstat.utils.sft INFO    : Loading 1 SFTs from H1...\n",
      "25-07-20 02:18:33.641 pyfstat.utils.sft INFO    : Loading 1 SFTs from H1...\n",
      "25-07-20 02:18:33.650 pyfstat.utils.sft INFO    : Loading 1 SFTs from H1...\n",
      "25-07-20 02:18:33.659 pyfstat.utils.sft INFO    : Loading 1 SFTs from H1...\n",
      "25-07-20 02:18:33.667 pyfstat.utils.sft INFO    : Loading 1 SFTs from H1...\n",
      "25-07-20 02:18:33.676 pyfstat.utils.sft INFO    : Loading 1 SFTs from H1...\n",
      "25-07-20 02:18:33.684 pyfstat.utils.sft INFO    : Loading 1 SFTs from H1...\n"
     ]
    },
    {
     "name": "stderr",
     "output_type": "stream",
     "text": [
      " 18%|█▊        | 869/4800 [00:07<00:33, 116.13it/s]"
     ]
    },
    {
     "name": "stdout",
     "output_type": "stream",
     "text": [
      "25-07-20 02:18:33.693 pyfstat.utils.sft INFO    : Loading 1 SFTs from H1...\n",
      "25-07-20 02:18:33.702 pyfstat.utils.sft INFO    : Loading 1 SFTs from H1...\n",
      "25-07-20 02:18:33.710 pyfstat.utils.sft INFO    : Loading 1 SFTs from H1...\n",
      "25-07-20 02:18:33.719 pyfstat.utils.sft INFO    : Loading 1 SFTs from H1...\n",
      "25-07-20 02:18:33.727 pyfstat.utils.sft INFO    : Loading 1 SFTs from H1...\n",
      "25-07-20 02:18:33.736 pyfstat.utils.sft INFO    : Loading 1 SFTs from H1...\n",
      "25-07-20 02:18:33.744 pyfstat.utils.sft INFO    : Loading 1 SFTs from H1...\n",
      "25-07-20 02:18:33.753 pyfstat.utils.sft INFO    : Loading 1 SFTs from H1...\n",
      "25-07-20 02:18:33.761 pyfstat.utils.sft INFO    : Loading 1 SFTs from H1...\n",
      "25-07-20 02:18:33.769 pyfstat.utils.sft INFO    : Loading 1 SFTs from H1...\n",
      "25-07-20 02:18:33.778 pyfstat.utils.sft INFO    : Loading 1 SFTs from H1...\n",
      "25-07-20 02:18:33.786 pyfstat.utils.sft INFO    : Loading 1 SFTs from H1...\n"
     ]
    },
    {
     "name": "stderr",
     "output_type": "stream",
     "text": [
      " 18%|█▊        | 881/4800 [00:07<00:33, 116.35it/s]"
     ]
    },
    {
     "name": "stdout",
     "output_type": "stream",
     "text": [
      "25-07-20 02:18:33.796 pyfstat.utils.sft INFO    : Loading 1 SFTs from H1...\n",
      "25-07-20 02:18:33.804 pyfstat.utils.sft INFO    : Loading 1 SFTs from H1...\n",
      "25-07-20 02:18:33.813 pyfstat.utils.sft INFO    : Loading 1 SFTs from H1...\n",
      "25-07-20 02:18:33.823 pyfstat.utils.sft INFO    : Loading 1 SFTs from H1...\n",
      "25-07-20 02:18:33.832 pyfstat.utils.sft INFO    : Loading 1 SFTs from H1...\n",
      "25-07-20 02:18:33.840 pyfstat.utils.sft INFO    : Loading 1 SFTs from H1...\n",
      "25-07-20 02:18:33.849 pyfstat.utils.sft INFO    : Loading 1 SFTs from H1...\n",
      "25-07-20 02:18:33.857 pyfstat.utils.sft INFO    : Loading 1 SFTs from H1...\n",
      "25-07-20 02:18:33.867 pyfstat.utils.sft INFO    : Loading 1 SFTs from H1...\n",
      "25-07-20 02:18:33.875 pyfstat.utils.sft INFO    : Loading 1 SFTs from H1...\n",
      "25-07-20 02:18:33.884 pyfstat.utils.sft INFO    : Loading 1 SFTs from H1...\n",
      "25-07-20 02:18:33.893 pyfstat.utils.sft INFO    : Loading 1 SFTs from H1...\n"
     ]
    },
    {
     "name": "stderr",
     "output_type": "stream",
     "text": [
      " 19%|█▊        | 893/4800 [00:07<00:33, 115.19it/s]"
     ]
    },
    {
     "name": "stdout",
     "output_type": "stream",
     "text": [
      "25-07-20 02:18:33.902 pyfstat.utils.sft INFO    : Loading 1 SFTs from H1...\n",
      "25-07-20 02:18:33.911 pyfstat.utils.sft INFO    : Loading 1 SFTs from H1...\n",
      "25-07-20 02:18:33.919 pyfstat.utils.sft INFO    : Loading 1 SFTs from H1...\n",
      "25-07-20 02:18:33.928 pyfstat.utils.sft INFO    : Loading 1 SFTs from H1...\n",
      "25-07-20 02:18:33.937 pyfstat.utils.sft INFO    : Loading 1 SFTs from H1...\n",
      "25-07-20 02:18:33.946 pyfstat.utils.sft INFO    : Loading 1 SFTs from H1...\n",
      "25-07-20 02:18:33.954 pyfstat.utils.sft INFO    : Loading 1 SFTs from H1...\n",
      "25-07-20 02:18:33.963 pyfstat.utils.sft INFO    : Loading 1 SFTs from H1...\n",
      "25-07-20 02:18:33.971 pyfstat.utils.sft INFO    : Loading 1 SFTs from H1...\n",
      "25-07-20 02:18:33.980 pyfstat.utils.sft INFO    : Loading 1 SFTs from H1...\n",
      "25-07-20 02:18:33.988 pyfstat.utils.sft INFO    : Loading 1 SFTs from H1...\n",
      "25-07-20 02:18:33.997 pyfstat.utils.sft INFO    : Loading 1 SFTs from H1...\n"
     ]
    },
    {
     "name": "stderr",
     "output_type": "stream",
     "text": [
      " 19%|█▉        | 905/4800 [00:07<00:33, 115.34it/s]"
     ]
    },
    {
     "name": "stdout",
     "output_type": "stream",
     "text": [
      "25-07-20 02:18:34.006 pyfstat.utils.sft INFO    : Loading 1 SFTs from H1...\n",
      "25-07-20 02:18:34.015 pyfstat.utils.sft INFO    : Loading 1 SFTs from H1...\n",
      "25-07-20 02:18:34.023 pyfstat.utils.sft INFO    : Loading 1 SFTs from H1...\n",
      "25-07-20 02:18:34.032 pyfstat.utils.sft INFO    : Loading 1 SFTs from H1...\n",
      "25-07-20 02:18:34.040 pyfstat.utils.sft INFO    : Loading 1 SFTs from H1...\n",
      "25-07-20 02:18:34.049 pyfstat.utils.sft INFO    : Loading 1 SFTs from H1...\n",
      "25-07-20 02:18:34.057 pyfstat.utils.sft INFO    : Loading 1 SFTs from H1...\n",
      "25-07-20 02:18:34.065 pyfstat.utils.sft INFO    : Loading 1 SFTs from H1...\n",
      "25-07-20 02:18:34.074 pyfstat.utils.sft INFO    : Loading 1 SFTs from H1...\n",
      "25-07-20 02:18:34.082 pyfstat.utils.sft INFO    : Loading 1 SFTs from H1...\n",
      "25-07-20 02:18:34.090 pyfstat.utils.sft INFO    : Loading 1 SFTs from H1...\n",
      "25-07-20 02:18:34.098 pyfstat.utils.sft INFO    : Loading 1 SFTs from H1...\n"
     ]
    },
    {
     "name": "stderr",
     "output_type": "stream",
     "text": [
      " 19%|█▉        | 917/4800 [00:07<00:33, 116.13it/s]"
     ]
    },
    {
     "name": "stdout",
     "output_type": "stream",
     "text": [
      "25-07-20 02:18:34.108 pyfstat.utils.sft INFO    : Loading 1 SFTs from H1...\n",
      "25-07-20 02:18:34.117 pyfstat.utils.sft INFO    : Loading 1 SFTs from H1...\n",
      "25-07-20 02:18:34.126 pyfstat.utils.sft INFO    : Loading 1 SFTs from H1...\n",
      "25-07-20 02:18:34.134 pyfstat.utils.sft INFO    : Loading 1 SFTs from H1...\n",
      "25-07-20 02:18:34.143 pyfstat.utils.sft INFO    : Loading 1 SFTs from H1...\n",
      "25-07-20 02:18:34.152 pyfstat.utils.sft INFO    : Loading 1 SFTs from H1...\n",
      "25-07-20 02:18:34.162 pyfstat.utils.sft INFO    : Loading 1 SFTs from H1...\n",
      "25-07-20 02:18:34.171 pyfstat.utils.sft INFO    : Loading 1 SFTs from H1...\n",
      "25-07-20 02:18:34.179 pyfstat.utils.sft INFO    : Loading 1 SFTs from H1...\n",
      "25-07-20 02:18:34.188 pyfstat.utils.sft INFO    : Loading 1 SFTs from H1...\n",
      "25-07-20 02:18:34.196 pyfstat.utils.sft INFO    : Loading 1 SFTs from H1...\n",
      "25-07-20 02:18:34.205 pyfstat.utils.sft INFO    : Loading 1 SFTs from H1...\n"
     ]
    },
    {
     "name": "stderr",
     "output_type": "stream",
     "text": [
      " 19%|█▉        | 929/4800 [00:07<00:33, 115.03it/s]"
     ]
    },
    {
     "name": "stdout",
     "output_type": "stream",
     "text": [
      "25-07-20 02:18:34.214 pyfstat.utils.sft INFO    : Loading 1 SFTs from H1...\n",
      "25-07-20 02:18:34.223 pyfstat.utils.sft INFO    : Loading 1 SFTs from H1...\n",
      "25-07-20 02:18:34.232 pyfstat.utils.sft INFO    : Loading 1 SFTs from H1...\n",
      "25-07-20 02:18:34.240 pyfstat.utils.sft INFO    : Loading 1 SFTs from H1...\n",
      "25-07-20 02:18:34.249 pyfstat.utils.sft INFO    : Loading 1 SFTs from H1...\n",
      "25-07-20 02:18:34.257 pyfstat.utils.sft INFO    : Loading 1 SFTs from H1...\n",
      "25-07-20 02:18:34.265 pyfstat.utils.sft INFO    : Loading 1 SFTs from H1...\n",
      "25-07-20 02:18:34.274 pyfstat.utils.sft INFO    : Loading 1 SFTs from H1...\n",
      "25-07-20 02:18:34.282 pyfstat.utils.sft INFO    : Loading 1 SFTs from H1...\n",
      "25-07-20 02:18:34.291 pyfstat.utils.sft INFO    : Loading 1 SFTs from H1...\n",
      "25-07-20 02:18:34.299 pyfstat.utils.sft INFO    : Loading 1 SFTs from H1...\n",
      "25-07-20 02:18:34.307 pyfstat.utils.sft INFO    : Loading 1 SFTs from H1...\n"
     ]
    },
    {
     "name": "stderr",
     "output_type": "stream",
     "text": [
      " 20%|█▉        | 941/4800 [00:08<00:33, 115.72it/s]"
     ]
    },
    {
     "name": "stdout",
     "output_type": "stream",
     "text": [
      "25-07-20 02:18:34.317 pyfstat.utils.sft INFO    : Loading 1 SFTs from H1...\n",
      "25-07-20 02:18:34.326 pyfstat.utils.sft INFO    : Loading 1 SFTs from H1...\n",
      "25-07-20 02:18:34.334 pyfstat.utils.sft INFO    : Loading 1 SFTs from H1...\n",
      "25-07-20 02:18:34.342 pyfstat.utils.sft INFO    : Loading 1 SFTs from H1...\n",
      "25-07-20 02:18:34.350 pyfstat.utils.sft INFO    : Loading 1 SFTs from H1...\n",
      "25-07-20 02:18:34.359 pyfstat.utils.sft INFO    : Loading 1 SFTs from H1...\n",
      "25-07-20 02:18:34.367 pyfstat.utils.sft INFO    : Loading 1 SFTs from H1...\n",
      "25-07-20 02:18:34.376 pyfstat.utils.sft INFO    : Loading 1 SFTs from H1...\n",
      "25-07-20 02:18:34.386 pyfstat.utils.sft INFO    : Loading 1 SFTs from H1...\n",
      "25-07-20 02:18:34.394 pyfstat.utils.sft INFO    : Loading 1 SFTs from H1...\n",
      "25-07-20 02:18:34.403 pyfstat.utils.sft INFO    : Loading 1 SFTs from H1...\n",
      "25-07-20 02:18:34.412 pyfstat.utils.sft INFO    : Loading 1 SFTs from H1...\n"
     ]
    },
    {
     "name": "stderr",
     "output_type": "stream",
     "text": [
      " 20%|█▉        | 953/4800 [00:08<00:33, 115.15it/s]"
     ]
    },
    {
     "name": "stdout",
     "output_type": "stream",
     "text": [
      "25-07-20 02:18:34.422 pyfstat.utils.sft INFO    : Loading 1 SFTs from H1...\n",
      "25-07-20 02:18:34.431 pyfstat.utils.sft INFO    : Loading 1 SFTs from H1...\n",
      "25-07-20 02:18:34.439 pyfstat.utils.sft INFO    : Loading 1 SFTs from H1...\n",
      "25-07-20 02:18:34.448 pyfstat.utils.sft INFO    : Loading 1 SFTs from H1...\n",
      "25-07-20 02:18:34.457 pyfstat.utils.sft INFO    : Loading 1 SFTs from H1...\n",
      "25-07-20 02:18:34.465 pyfstat.utils.sft INFO    : Loading 1 SFTs from H1...\n",
      "25-07-20 02:18:34.473 pyfstat.utils.sft INFO    : Loading 1 SFTs from H1...\n",
      "25-07-20 02:18:34.482 pyfstat.utils.sft INFO    : Loading 1 SFTs from H1...\n",
      "25-07-20 02:18:34.492 pyfstat.utils.sft INFO    : Loading 1 SFTs from H1...\n",
      "25-07-20 02:18:34.500 pyfstat.utils.sft INFO    : Loading 1 SFTs from H1...\n",
      "25-07-20 02:18:34.510 pyfstat.utils.sft INFO    : Loading 1 SFTs from H1...\n",
      "25-07-20 02:18:34.518 pyfstat.utils.sft INFO    : Loading 1 SFTs from H1...\n"
     ]
    },
    {
     "name": "stderr",
     "output_type": "stream",
     "text": [
      " 20%|██        | 965/4800 [00:08<00:33, 114.76it/s]"
     ]
    },
    {
     "name": "stdout",
     "output_type": "stream",
     "text": [
      "25-07-20 02:18:34.527 pyfstat.utils.sft INFO    : Loading 1 SFTs from H1...\n",
      "25-07-20 02:18:34.536 pyfstat.utils.sft INFO    : Loading 1 SFTs from H1...\n",
      "25-07-20 02:18:34.544 pyfstat.utils.sft INFO    : Loading 1 SFTs from H1...\n",
      "25-07-20 02:18:34.552 pyfstat.utils.sft INFO    : Loading 1 SFTs from H1...\n",
      "25-07-20 02:18:34.560 pyfstat.utils.sft INFO    : Loading 1 SFTs from H1...\n",
      "25-07-20 02:18:34.569 pyfstat.utils.sft INFO    : Loading 1 SFTs from H1...\n",
      "25-07-20 02:18:34.577 pyfstat.utils.sft INFO    : Loading 1 SFTs from H1...\n",
      "25-07-20 02:18:34.586 pyfstat.utils.sft INFO    : Loading 1 SFTs from H1...\n",
      "25-07-20 02:18:34.594 pyfstat.utils.sft INFO    : Loading 1 SFTs from H1...\n",
      "25-07-20 02:18:34.603 pyfstat.utils.sft INFO    : Loading 1 SFTs from H1...\n",
      "25-07-20 02:18:34.612 pyfstat.utils.sft INFO    : Loading 1 SFTs from H1...\n",
      "25-07-20 02:18:34.621 pyfstat.utils.sft INFO    : Loading 1 SFTs from H1...\n"
     ]
    },
    {
     "name": "stderr",
     "output_type": "stream",
     "text": [
      " 20%|██        | 977/4800 [00:08<00:33, 115.58it/s]"
     ]
    },
    {
     "name": "stdout",
     "output_type": "stream",
     "text": [
      "25-07-20 02:18:34.629 pyfstat.utils.sft INFO    : Loading 1 SFTs from H1...\n",
      "25-07-20 02:18:34.637 pyfstat.utils.sft INFO    : Loading 1 SFTs from H1...\n",
      "25-07-20 02:18:34.646 pyfstat.utils.sft INFO    : Loading 1 SFTs from H1...\n",
      "25-07-20 02:18:34.654 pyfstat.utils.sft INFO    : Loading 1 SFTs from H1...\n",
      "25-07-20 02:18:34.662 pyfstat.utils.sft INFO    : Loading 1 SFTs from H1...\n",
      "25-07-20 02:18:34.671 pyfstat.utils.sft INFO    : Loading 1 SFTs from H1...\n",
      "25-07-20 02:18:34.679 pyfstat.utils.sft INFO    : Loading 1 SFTs from H1...\n",
      "25-07-20 02:18:34.688 pyfstat.utils.sft INFO    : Loading 1 SFTs from H1...\n",
      "25-07-20 02:18:34.696 pyfstat.utils.sft INFO    : Loading 1 SFTs from H1...\n",
      "25-07-20 02:18:34.705 pyfstat.utils.sft INFO    : Loading 1 SFTs from H1...\n",
      "25-07-20 02:18:34.715 pyfstat.utils.sft INFO    : Loading 1 SFTs from H1...\n",
      "25-07-20 02:18:34.724 pyfstat.utils.sft INFO    : Loading 1 SFTs from H1...\n"
     ]
    },
    {
     "name": "stderr",
     "output_type": "stream",
     "text": [
      " 21%|██        | 989/4800 [00:08<00:32, 115.74it/s]"
     ]
    },
    {
     "name": "stdout",
     "output_type": "stream",
     "text": [
      "25-07-20 02:18:34.733 pyfstat.utils.sft INFO    : Loading 1 SFTs from H1...\n",
      "25-07-20 02:18:34.741 pyfstat.utils.sft INFO    : Loading 1 SFTs from H1...\n",
      "25-07-20 02:18:34.750 pyfstat.utils.sft INFO    : Loading 1 SFTs from H1...\n",
      "25-07-20 02:18:34.758 pyfstat.utils.sft INFO    : Loading 1 SFTs from H1...\n",
      "25-07-20 02:18:34.767 pyfstat.utils.sft INFO    : Loading 1 SFTs from H1...\n",
      "25-07-20 02:18:34.776 pyfstat.utils.sft INFO    : Loading 1 SFTs from H1...\n",
      "25-07-20 02:18:34.785 pyfstat.utils.sft INFO    : Loading 1 SFTs from H1...\n",
      "25-07-20 02:18:34.794 pyfstat.utils.sft INFO    : Loading 1 SFTs from H1...\n",
      "25-07-20 02:18:34.803 pyfstat.utils.sft INFO    : Loading 1 SFTs from H1...\n",
      "25-07-20 02:18:34.811 pyfstat.utils.sft INFO    : Loading 1 SFTs from H1...\n",
      "25-07-20 02:18:34.820 pyfstat.utils.sft INFO    : Loading 1 SFTs from H1...\n",
      "25-07-20 02:18:34.830 pyfstat.utils.sft INFO    : Loading 1 SFTs from H1...\n"
     ]
    },
    {
     "name": "stderr",
     "output_type": "stream",
     "text": [
      " 21%|██        | 1001/4800 [00:08<00:33, 114.73it/s]"
     ]
    },
    {
     "name": "stdout",
     "output_type": "stream",
     "text": [
      "25-07-20 02:18:34.840 pyfstat.utils.sft INFO    : Loading 1 SFTs from H1...\n",
      "25-07-20 02:18:34.848 pyfstat.utils.sft INFO    : Loading 1 SFTs from H1...\n",
      "25-07-20 02:18:34.857 pyfstat.utils.sft INFO    : Loading 1 SFTs from H1...\n",
      "25-07-20 02:18:34.866 pyfstat.utils.sft INFO    : Loading 1 SFTs from H1...\n",
      "25-07-20 02:18:34.874 pyfstat.utils.sft INFO    : Loading 1 SFTs from H1...\n",
      "25-07-20 02:18:34.882 pyfstat.utils.sft INFO    : Loading 1 SFTs from H1...\n",
      "25-07-20 02:18:34.891 pyfstat.utils.sft INFO    : Loading 1 SFTs from H1...\n",
      "25-07-20 02:18:34.899 pyfstat.utils.sft INFO    : Loading 1 SFTs from H1...\n",
      "25-07-20 02:18:34.907 pyfstat.utils.sft INFO    : Loading 1 SFTs from H1...\n",
      "25-07-20 02:18:34.916 pyfstat.utils.sft INFO    : Loading 1 SFTs from H1...\n",
      "25-07-20 02:18:34.924 pyfstat.utils.sft INFO    : Loading 1 SFTs from H1...\n",
      "25-07-20 02:18:34.937 pyfstat.utils.sft INFO    : Loading 1 SFTs from H1...\n"
     ]
    },
    {
     "name": "stderr",
     "output_type": "stream",
     "text": [
      " 21%|██        | 1013/4800 [00:08<00:33, 113.81it/s]"
     ]
    },
    {
     "name": "stdout",
     "output_type": "stream",
     "text": [
      "25-07-20 02:18:34.947 pyfstat.utils.sft INFO    : Loading 1 SFTs from H1...\n",
      "25-07-20 02:18:34.955 pyfstat.utils.sft INFO    : Loading 1 SFTs from H1...\n",
      "25-07-20 02:18:34.964 pyfstat.utils.sft INFO    : Loading 1 SFTs from H1...\n",
      "25-07-20 02:18:34.972 pyfstat.utils.sft INFO    : Loading 1 SFTs from H1...\n",
      "25-07-20 02:18:34.981 pyfstat.utils.sft INFO    : Loading 1 SFTs from H1...\n",
      "25-07-20 02:18:34.990 pyfstat.utils.sft INFO    : Loading 1 SFTs from H1...\n",
      "25-07-20 02:18:34.998 pyfstat.utils.sft INFO    : Loading 1 SFTs from H1...\n",
      "25-07-20 02:18:35.007 pyfstat.utils.sft INFO    : Loading 1 SFTs from H1...\n",
      "25-07-20 02:18:35.015 pyfstat.utils.sft INFO    : Loading 1 SFTs from H1...\n",
      "25-07-20 02:18:35.023 pyfstat.utils.sft INFO    : Loading 1 SFTs from H1...\n",
      "25-07-20 02:18:35.031 pyfstat.utils.sft INFO    : Loading 1 SFTs from H1...\n",
      "25-07-20 02:18:35.040 pyfstat.utils.sft INFO    : Loading 1 SFTs from H1...\n"
     ]
    },
    {
     "name": "stderr",
     "output_type": "stream",
     "text": [
      " 21%|██▏       | 1025/4800 [00:08<00:32, 115.07it/s]"
     ]
    },
    {
     "name": "stdout",
     "output_type": "stream",
     "text": [
      "25-07-20 02:18:35.049 pyfstat.utils.sft INFO    : Loading 1 SFTs from H1...\n",
      "25-07-20 02:18:35.057 pyfstat.utils.sft INFO    : Loading 1 SFTs from H1...\n",
      "25-07-20 02:18:35.065 pyfstat.utils.sft INFO    : Loading 1 SFTs from H1...\n",
      "25-07-20 02:18:35.074 pyfstat.utils.sft INFO    : Loading 1 SFTs from H1...\n",
      "25-07-20 02:18:35.083 pyfstat.utils.sft INFO    : Loading 1 SFTs from H1...\n",
      "25-07-20 02:18:35.092 pyfstat.utils.sft INFO    : Loading 1 SFTs from H1...\n",
      "25-07-20 02:18:35.100 pyfstat.utils.sft INFO    : Loading 1 SFTs from H1...\n",
      "25-07-20 02:18:35.109 pyfstat.utils.sft INFO    : Loading 1 SFTs from H1...\n",
      "25-07-20 02:18:35.117 pyfstat.utils.sft INFO    : Loading 1 SFTs from H1...\n",
      "25-07-20 02:18:35.126 pyfstat.utils.sft INFO    : Loading 1 SFTs from H1...\n",
      "25-07-20 02:18:35.135 pyfstat.utils.sft INFO    : Loading 1 SFTs from H1...\n",
      "25-07-20 02:18:35.144 pyfstat.utils.sft INFO    : Loading 1 SFTs from H1...\n"
     ]
    },
    {
     "name": "stderr",
     "output_type": "stream",
     "text": [
      " 22%|██▏       | 1037/4800 [00:08<00:32, 115.05it/s]"
     ]
    },
    {
     "name": "stdout",
     "output_type": "stream",
     "text": [
      "25-07-20 02:18:35.153 pyfstat.utils.sft INFO    : Loading 1 SFTs from H1...\n",
      "25-07-20 02:18:35.162 pyfstat.utils.sft INFO    : Loading 1 SFTs from H1...\n",
      "25-07-20 02:18:35.171 pyfstat.utils.sft INFO    : Loading 1 SFTs from H1...\n",
      "25-07-20 02:18:35.179 pyfstat.utils.sft INFO    : Loading 1 SFTs from H1...\n",
      "25-07-20 02:18:35.188 pyfstat.utils.sft INFO    : Loading 1 SFTs from H1...\n",
      "25-07-20 02:18:35.197 pyfstat.utils.sft INFO    : Loading 1 SFTs from H1...\n",
      "25-07-20 02:18:35.205 pyfstat.utils.sft INFO    : Loading 1 SFTs from H1...\n",
      "25-07-20 02:18:35.214 pyfstat.utils.sft INFO    : Loading 1 SFTs from H1...\n",
      "25-07-20 02:18:35.223 pyfstat.utils.sft INFO    : Loading 1 SFTs from H1...\n",
      "25-07-20 02:18:35.232 pyfstat.utils.sft INFO    : Loading 1 SFTs from H1...\n",
      "25-07-20 02:18:35.240 pyfstat.utils.sft INFO    : Loading 1 SFTs from H1...\n",
      "25-07-20 02:18:35.248 pyfstat.utils.sft INFO    : Loading 1 SFTs from H1...\n"
     ]
    },
    {
     "name": "stderr",
     "output_type": "stream",
     "text": [
      " 22%|██▏       | 1049/4800 [00:08<00:32, 114.97it/s]"
     ]
    },
    {
     "name": "stdout",
     "output_type": "stream",
     "text": [
      "25-07-20 02:18:35.258 pyfstat.utils.sft INFO    : Loading 1 SFTs from H1...\n",
      "25-07-20 02:18:35.266 pyfstat.utils.sft INFO    : Loading 1 SFTs from H1...\n",
      "25-07-20 02:18:35.275 pyfstat.utils.sft INFO    : Loading 1 SFTs from H1...\n",
      "25-07-20 02:18:35.284 pyfstat.utils.sft INFO    : Loading 1 SFTs from H1...\n",
      "25-07-20 02:18:35.292 pyfstat.utils.sft INFO    : Loading 1 SFTs from H1...\n",
      "25-07-20 02:18:35.300 pyfstat.utils.sft INFO    : Loading 1 SFTs from H1...\n",
      "25-07-20 02:18:35.310 pyfstat.utils.sft INFO    : Loading 1 SFTs from H1...\n",
      "25-07-20 02:18:35.319 pyfstat.utils.sft INFO    : Loading 1 SFTs from H1...\n",
      "25-07-20 02:18:35.327 pyfstat.utils.sft INFO    : Loading 1 SFTs from H1...\n",
      "25-07-20 02:18:35.335 pyfstat.utils.sft INFO    : Loading 1 SFTs from H1...\n",
      "25-07-20 02:18:35.344 pyfstat.utils.sft INFO    : Loading 1 SFTs from H1...\n",
      "25-07-20 02:18:35.352 pyfstat.utils.sft INFO    : Loading 1 SFTs from H1...\n"
     ]
    },
    {
     "name": "stderr",
     "output_type": "stream",
     "text": [
      " 22%|██▏       | 1061/4800 [00:09<00:32, 115.09it/s]"
     ]
    },
    {
     "name": "stdout",
     "output_type": "stream",
     "text": [
      "25-07-20 02:18:35.361 pyfstat.utils.sft INFO    : Loading 1 SFTs from H1...\n",
      "25-07-20 02:18:35.370 pyfstat.utils.sft INFO    : Loading 1 SFTs from H1...\n",
      "25-07-20 02:18:35.378 pyfstat.utils.sft INFO    : Loading 1 SFTs from H1...\n",
      "25-07-20 02:18:35.387 pyfstat.utils.sft INFO    : Loading 1 SFTs from H1...\n",
      "25-07-20 02:18:35.395 pyfstat.utils.sft INFO    : Loading 1 SFTs from H1...\n",
      "25-07-20 02:18:35.404 pyfstat.utils.sft INFO    : Loading 1 SFTs from H1...\n",
      "25-07-20 02:18:35.413 pyfstat.utils.sft INFO    : Loading 1 SFTs from H1...\n",
      "25-07-20 02:18:35.422 pyfstat.utils.sft INFO    : Loading 1 SFTs from H1...\n",
      "25-07-20 02:18:35.430 pyfstat.utils.sft INFO    : Loading 1 SFTs from H1...\n",
      "25-07-20 02:18:35.439 pyfstat.utils.sft INFO    : Loading 1 SFTs from H1...\n",
      "25-07-20 02:18:35.448 pyfstat.utils.sft INFO    : Loading 1 SFTs from H1...\n",
      "25-07-20 02:18:35.457 pyfstat.utils.sft INFO    : Loading 1 SFTs from H1...\n"
     ]
    },
    {
     "name": "stderr",
     "output_type": "stream",
     "text": [
      " 22%|██▏       | 1073/4800 [00:09<00:32, 114.96it/s]"
     ]
    },
    {
     "name": "stdout",
     "output_type": "stream",
     "text": [
      "25-07-20 02:18:35.466 pyfstat.utils.sft INFO    : Loading 1 SFTs from H1...\n",
      "25-07-20 02:18:35.475 pyfstat.utils.sft INFO    : Loading 1 SFTs from H1...\n",
      "25-07-20 02:18:35.483 pyfstat.utils.sft INFO    : Loading 1 SFTs from H1...\n",
      "25-07-20 02:18:35.491 pyfstat.utils.sft INFO    : Loading 1 SFTs from H1...\n",
      "25-07-20 02:18:35.500 pyfstat.utils.sft INFO    : Loading 1 SFTs from H1...\n",
      "25-07-20 02:18:35.509 pyfstat.utils.sft INFO    : Loading 1 SFTs from H1...\n",
      "25-07-20 02:18:35.517 pyfstat.utils.sft INFO    : Loading 1 SFTs from H1...\n",
      "25-07-20 02:18:35.526 pyfstat.utils.sft INFO    : Loading 1 SFTs from H1...\n",
      "25-07-20 02:18:35.534 pyfstat.utils.sft INFO    : Loading 1 SFTs from H1...\n",
      "25-07-20 02:18:35.542 pyfstat.utils.sft INFO    : Loading 1 SFTs from H1...\n",
      "25-07-20 02:18:35.551 pyfstat.utils.sft INFO    : Loading 1 SFTs from H1...\n",
      "25-07-20 02:18:35.559 pyfstat.utils.sft INFO    : Loading 1 SFTs from H1...\n"
     ]
    },
    {
     "name": "stderr",
     "output_type": "stream",
     "text": [
      " 23%|██▎       | 1085/4800 [00:09<00:32, 115.72it/s]"
     ]
    },
    {
     "name": "stdout",
     "output_type": "stream",
     "text": [
      "25-07-20 02:18:35.568 pyfstat.utils.sft INFO    : Loading 1 SFTs from H1...\n",
      "25-07-20 02:18:35.577 pyfstat.utils.sft INFO    : Loading 1 SFTs from H1...\n",
      "25-07-20 02:18:35.585 pyfstat.utils.sft INFO    : Loading 1 SFTs from H1...\n",
      "25-07-20 02:18:35.594 pyfstat.utils.sft INFO    : Loading 1 SFTs from H1...\n",
      "25-07-20 02:18:35.602 pyfstat.utils.sft INFO    : Loading 1 SFTs from H1...\n",
      "25-07-20 02:18:35.609 pyfstat.utils.sft INFO    : Loading 1 SFTs from H1...\n",
      "25-07-20 02:18:35.617 pyfstat.utils.sft INFO    : Loading 1 SFTs from H1...\n",
      "25-07-20 02:18:35.626 pyfstat.utils.sft INFO    : Loading 1 SFTs from H1...\n",
      "25-07-20 02:18:35.634 pyfstat.utils.sft INFO    : Loading 1 SFTs from H1...\n",
      "25-07-20 02:18:35.643 pyfstat.utils.sft INFO    : Loading 1 SFTs from H1...\n",
      "25-07-20 02:18:35.651 pyfstat.utils.sft INFO    : Loading 1 SFTs from H1...\n",
      "25-07-20 02:18:35.659 pyfstat.utils.sft INFO    : Loading 1 SFTs from H1...\n",
      "25-07-20 02:18:35.666 pyfstat.utils.sft INFO    : Loading 1 SFTs from H1...\n"
     ]
    },
    {
     "name": "stderr",
     "output_type": "stream",
     "text": [
      " 23%|██▎       | 1098/4800 [00:09<00:31, 117.56it/s]"
     ]
    },
    {
     "name": "stdout",
     "output_type": "stream",
     "text": [
      "25-07-20 02:18:35.675 pyfstat.utils.sft INFO    : Loading 1 SFTs from H1...\n",
      "25-07-20 02:18:35.683 pyfstat.utils.sft INFO    : Loading 1 SFTs from H1...\n",
      "25-07-20 02:18:35.691 pyfstat.utils.sft INFO    : Loading 1 SFTs from H1...\n",
      "25-07-20 02:18:35.699 pyfstat.utils.sft INFO    : Loading 1 SFTs from H1...\n",
      "25-07-20 02:18:35.707 pyfstat.utils.sft INFO    : Loading 1 SFTs from H1...\n",
      "25-07-20 02:18:35.715 pyfstat.utils.sft INFO    : Loading 1 SFTs from H1...\n",
      "25-07-20 02:18:35.724 pyfstat.utils.sft INFO    : Loading 1 SFTs from H1...\n",
      "25-07-20 02:18:35.732 pyfstat.utils.sft INFO    : Loading 1 SFTs from H1...\n",
      "25-07-20 02:18:35.740 pyfstat.utils.sft INFO    : Loading 1 SFTs from H1...\n",
      "25-07-20 02:18:35.749 pyfstat.utils.sft INFO    : Loading 1 SFTs from H1...\n",
      "25-07-20 02:18:35.757 pyfstat.utils.sft INFO    : Loading 1 SFTs from H1...\n",
      "25-07-20 02:18:35.765 pyfstat.utils.sft INFO    : Loading 1 SFTs from H1...\n",
      "25-07-20 02:18:35.773 pyfstat.utils.sft INFO    : Loading 1 SFTs from H1...\n"
     ]
    },
    {
     "name": "stderr",
     "output_type": "stream",
     "text": [
      " 23%|██▎       | 1111/4800 [00:09<00:31, 118.72it/s]"
     ]
    },
    {
     "name": "stdout",
     "output_type": "stream",
     "text": [
      "25-07-20 02:18:35.782 pyfstat.utils.sft INFO    : Loading 1 SFTs from H1...\n",
      "25-07-20 02:18:35.790 pyfstat.utils.sft INFO    : Loading 1 SFTs from H1...\n",
      "25-07-20 02:18:35.798 pyfstat.utils.sft INFO    : Loading 1 SFTs from H1...\n",
      "25-07-20 02:18:35.807 pyfstat.utils.sft INFO    : Loading 1 SFTs from H1...\n",
      "25-07-20 02:18:35.815 pyfstat.utils.sft INFO    : Loading 1 SFTs from H1...\n",
      "25-07-20 02:18:35.823 pyfstat.utils.sft INFO    : Loading 1 SFTs from H1...\n",
      "25-07-20 02:18:35.831 pyfstat.utils.sft INFO    : Loading 1 SFTs from H1...\n",
      "25-07-20 02:18:35.839 pyfstat.utils.sft INFO    : Loading 1 SFTs from H1...\n",
      "25-07-20 02:18:35.846 pyfstat.utils.sft INFO    : Loading 1 SFTs from H1...\n",
      "25-07-20 02:18:35.855 pyfstat.utils.sft INFO    : Loading 1 SFTs from H1...\n",
      "25-07-20 02:18:35.864 pyfstat.utils.sft INFO    : Loading 1 SFTs from H1...\n",
      "25-07-20 02:18:35.872 pyfstat.utils.sft INFO    : Loading 1 SFTs from H1...\n",
      "25-07-20 02:18:35.881 pyfstat.utils.sft INFO    : Loading 1 SFTs from H1...\n"
     ]
    },
    {
     "name": "stderr",
     "output_type": "stream",
     "text": [
      " 23%|██▎       | 1124/4800 [00:09<00:30, 119.29it/s]"
     ]
    },
    {
     "name": "stdout",
     "output_type": "stream",
     "text": [
      "25-07-20 02:18:35.890 pyfstat.utils.sft INFO    : Loading 1 SFTs from H1...\n",
      "25-07-20 02:18:35.899 pyfstat.utils.sft INFO    : Loading 1 SFTs from H1...\n",
      "25-07-20 02:18:35.907 pyfstat.utils.sft INFO    : Loading 1 SFTs from H1...\n",
      "25-07-20 02:18:35.915 pyfstat.utils.sft INFO    : Loading 1 SFTs from H1...\n",
      "25-07-20 02:18:35.923 pyfstat.utils.sft INFO    : Loading 1 SFTs from H1...\n",
      "25-07-20 02:18:35.932 pyfstat.utils.sft INFO    : Loading 1 SFTs from H1...\n",
      "25-07-20 02:18:35.940 pyfstat.utils.sft INFO    : Loading 1 SFTs from H1...\n",
      "25-07-20 02:18:35.948 pyfstat.utils.sft INFO    : Loading 1 SFTs from H1...\n",
      "25-07-20 02:18:35.957 pyfstat.utils.sft INFO    : Loading 1 SFTs from H1...\n",
      "25-07-20 02:18:35.965 pyfstat.utils.sft INFO    : Loading 1 SFTs from H1...\n",
      "25-07-20 02:18:35.974 pyfstat.utils.sft INFO    : Loading 1 SFTs from H1...\n",
      "25-07-20 02:18:35.982 pyfstat.utils.sft INFO    : Loading 1 SFTs from H1...\n"
     ]
    },
    {
     "name": "stderr",
     "output_type": "stream",
     "text": [
      " 24%|██▎       | 1136/4800 [00:09<00:30, 119.29it/s]"
     ]
    },
    {
     "name": "stdout",
     "output_type": "stream",
     "text": [
      "25-07-20 02:18:35.991 pyfstat.utils.sft INFO    : Loading 1 SFTs from H1...\n",
      "25-07-20 02:18:35.999 pyfstat.utils.sft INFO    : Loading 1 SFTs from H1...\n",
      "25-07-20 02:18:36.006 pyfstat.utils.sft INFO    : Loading 1 SFTs from H1...\n",
      "25-07-20 02:18:36.014 pyfstat.utils.sft INFO    : Loading 1 SFTs from H1...\n",
      "25-07-20 02:18:36.022 pyfstat.utils.sft INFO    : Loading 1 SFTs from H1...\n",
      "25-07-20 02:18:36.031 pyfstat.utils.sft INFO    : Loading 1 SFTs from H1...\n",
      "25-07-20 02:18:36.039 pyfstat.utils.sft INFO    : Loading 1 SFTs from H1...\n",
      "25-07-20 02:18:36.047 pyfstat.utils.sft INFO    : Loading 1 SFTs from H1...\n",
      "25-07-20 02:18:36.056 pyfstat.utils.sft INFO    : Loading 1 SFTs from H1...\n",
      "25-07-20 02:18:36.064 pyfstat.utils.sft INFO    : Loading 1 SFTs from H1...\n",
      "25-07-20 02:18:36.072 pyfstat.utils.sft INFO    : Loading 1 SFTs from H1...\n",
      "25-07-20 02:18:36.080 pyfstat.utils.sft INFO    : Loading 1 SFTs from H1...\n",
      "25-07-20 02:18:36.088 pyfstat.utils.sft INFO    : Loading 1 SFTs from H1...\n"
     ]
    },
    {
     "name": "stderr",
     "output_type": "stream",
     "text": [
      " 24%|██▍       | 1149/4800 [00:09<00:30, 120.04it/s]"
     ]
    },
    {
     "name": "stdout",
     "output_type": "stream",
     "text": [
      "25-07-20 02:18:36.097 pyfstat.utils.sft INFO    : Loading 1 SFTs from H1...\n",
      "25-07-20 02:18:36.106 pyfstat.utils.sft INFO    : Loading 1 SFTs from H1...\n",
      "25-07-20 02:18:36.114 pyfstat.utils.sft INFO    : Loading 1 SFTs from H1...\n",
      "25-07-20 02:18:36.123 pyfstat.utils.sft INFO    : Loading 1 SFTs from H1...\n",
      "25-07-20 02:18:36.131 pyfstat.utils.sft INFO    : Loading 1 SFTs from H1...\n",
      "25-07-20 02:18:36.139 pyfstat.utils.sft INFO    : Loading 1 SFTs from H1...\n",
      "25-07-20 02:18:36.147 pyfstat.utils.sft INFO    : Loading 1 SFTs from H1...\n",
      "25-07-20 02:18:36.156 pyfstat.utils.sft INFO    : Loading 1 SFTs from H1...\n",
      "25-07-20 02:18:36.164 pyfstat.utils.sft INFO    : Loading 1 SFTs from H1...\n",
      "25-07-20 02:18:36.173 pyfstat.utils.sft INFO    : Loading 1 SFTs from H1...\n",
      "25-07-20 02:18:36.181 pyfstat.utils.sft INFO    : Loading 1 SFTs from H1...\n",
      "25-07-20 02:18:36.190 pyfstat.utils.sft INFO    : Loading 1 SFTs from H1...\n",
      "25-07-20 02:18:36.199 pyfstat.utils.sft INFO    : Loading 1 SFTs from H1...\n"
     ]
    },
    {
     "name": "stderr",
     "output_type": "stream",
     "text": [
      " 24%|██▍       | 1162/4800 [00:09<00:30, 119.32it/s]"
     ]
    },
    {
     "name": "stdout",
     "output_type": "stream",
     "text": [
      "25-07-20 02:18:36.208 pyfstat.utils.sft INFO    : Loading 1 SFTs from H1...\n",
      "25-07-20 02:18:36.216 pyfstat.utils.sft INFO    : Loading 1 SFTs from H1...\n",
      "25-07-20 02:18:36.224 pyfstat.utils.sft INFO    : Loading 1 SFTs from H1...\n",
      "25-07-20 02:18:36.233 pyfstat.utils.sft INFO    : Loading 1 SFTs from H1...\n",
      "25-07-20 02:18:36.241 pyfstat.utils.sft INFO    : Loading 1 SFTs from H1...\n",
      "25-07-20 02:18:36.249 pyfstat.utils.sft INFO    : Loading 1 SFTs from H1...\n",
      "25-07-20 02:18:36.257 pyfstat.utils.sft INFO    : Loading 1 SFTs from H1...\n",
      "25-07-20 02:18:36.265 pyfstat.utils.sft INFO    : Loading 1 SFTs from H1...\n",
      "25-07-20 02:18:36.274 pyfstat.utils.sft INFO    : Loading 1 SFTs from H1...\n",
      "25-07-20 02:18:36.282 pyfstat.utils.sft INFO    : Loading 1 SFTs from H1...\n",
      "25-07-20 02:18:36.290 pyfstat.utils.sft INFO    : Loading 1 SFTs from H1...\n",
      "25-07-20 02:18:36.299 pyfstat.utils.sft INFO    : Loading 1 SFTs from H1...\n"
     ]
    },
    {
     "name": "stderr",
     "output_type": "stream",
     "text": [
      " 24%|██▍       | 1174/4800 [00:10<00:30, 119.31it/s]"
     ]
    },
    {
     "name": "stdout",
     "output_type": "stream",
     "text": [
      "25-07-20 02:18:36.308 pyfstat.utils.sft INFO    : Loading 1 SFTs from H1...\n",
      "25-07-20 02:18:36.317 pyfstat.utils.sft INFO    : Loading 1 SFTs from H1...\n",
      "25-07-20 02:18:36.325 pyfstat.utils.sft INFO    : Loading 1 SFTs from H1...\n",
      "25-07-20 02:18:36.334 pyfstat.utils.sft INFO    : Loading 1 SFTs from H1...\n",
      "25-07-20 02:18:36.342 pyfstat.utils.sft INFO    : Loading 1 SFTs from H1...\n",
      "25-07-20 02:18:36.350 pyfstat.utils.sft INFO    : Loading 1 SFTs from H1...\n",
      "25-07-20 02:18:36.357 pyfstat.utils.sft INFO    : Loading 1 SFTs from H1...\n",
      "25-07-20 02:18:36.366 pyfstat.utils.sft INFO    : Loading 1 SFTs from H1...\n",
      "25-07-20 02:18:36.374 pyfstat.utils.sft INFO    : Loading 1 SFTs from H1...\n",
      "25-07-20 02:18:36.382 pyfstat.utils.sft INFO    : Loading 1 SFTs from H1...\n",
      "25-07-20 02:18:36.390 pyfstat.utils.sft INFO    : Loading 1 SFTs from H1...\n",
      "25-07-20 02:18:36.398 pyfstat.utils.sft INFO    : Loading 1 SFTs from H1...\n",
      "25-07-20 02:18:36.406 pyfstat.utils.sft INFO    : Loading 1 SFTs from H1...\n"
     ]
    },
    {
     "name": "stderr",
     "output_type": "stream",
     "text": [
      " 25%|██▍       | 1187/4800 [00:10<00:30, 119.78it/s]"
     ]
    },
    {
     "name": "stdout",
     "output_type": "stream",
     "text": [
      "25-07-20 02:18:36.416 pyfstat.utils.sft INFO    : Loading 1 SFTs from H1...\n",
      "25-07-20 02:18:36.425 pyfstat.utils.sft INFO    : Loading 1 SFTs from H1...\n",
      "25-07-20 02:18:36.433 pyfstat.utils.sft INFO    : Loading 1 SFTs from H1...\n",
      "25-07-20 02:18:36.441 pyfstat.utils.sft INFO    : Loading 1 SFTs from H1...\n",
      "25-07-20 02:18:36.449 pyfstat.utils.sft INFO    : Loading 1 SFTs from H1...\n",
      "25-07-20 02:18:36.458 pyfstat.utils.sft INFO    : Loading 1 SFTs from H1...\n",
      "25-07-20 02:18:36.467 pyfstat.utils.sft INFO    : Loading 1 SFTs from H1...\n",
      "25-07-20 02:18:36.475 pyfstat.utils.sft INFO    : Loading 1 SFTs from H1...\n",
      "25-07-20 02:18:36.484 pyfstat.utils.sft INFO    : Loading 1 SFTs from H1...\n",
      "25-07-20 02:18:36.493 pyfstat.utils.sft INFO    : Loading 1 SFTs from H1...\n",
      "25-07-20 02:18:36.502 pyfstat.utils.sft INFO    : Loading 1 SFTs from H1...\n",
      "25-07-20 02:18:36.510 pyfstat.utils.sft INFO    : Loading 1 SFTs from H1...\n"
     ]
    },
    {
     "name": "stderr",
     "output_type": "stream",
     "text": [
      " 25%|██▍       | 1199/4800 [00:10<00:30, 118.52it/s]"
     ]
    },
    {
     "name": "stdout",
     "output_type": "stream",
     "text": [
      "25-07-20 02:18:36.520 pyfstat.utils.sft INFO    : Loading 1 SFTs from H1...\n",
      "25-07-20 02:18:36.529 pyfstat.utils.sft INFO    : Loading 1 SFTs from H1...\n",
      "25-07-20 02:18:36.538 pyfstat.utils.sft INFO    : Loading 1 SFTs from H1...\n",
      "25-07-20 02:18:36.546 pyfstat.utils.sft INFO    : Loading 1 SFTs from H1...\n",
      "25-07-20 02:18:36.555 pyfstat.utils.sft INFO    : Loading 1 SFTs from H1...\n",
      "25-07-20 02:18:36.563 pyfstat.utils.sft INFO    : Loading 1 SFTs from H1...\n",
      "25-07-20 02:18:36.572 pyfstat.utils.sft INFO    : Loading 1 SFTs from H1...\n",
      "25-07-20 02:18:36.580 pyfstat.utils.sft INFO    : Loading 1 SFTs from H1...\n",
      "25-07-20 02:18:36.589 pyfstat.utils.sft INFO    : Loading 1 SFTs from H1...\n",
      "25-07-20 02:18:36.598 pyfstat.utils.sft INFO    : Loading 1 SFTs from H1...\n",
      "25-07-20 02:18:36.606 pyfstat.utils.sft INFO    : Loading 1 SFTs from H1...\n",
      "25-07-20 02:18:36.614 pyfstat.utils.sft INFO    : Loading 1 SFTs from H1...\n"
     ]
    },
    {
     "name": "stderr",
     "output_type": "stream",
     "text": [
      " 25%|██▌       | 1211/4800 [00:10<00:30, 117.69it/s]"
     ]
    },
    {
     "name": "stdout",
     "output_type": "stream",
     "text": [
      "25-07-20 02:18:36.623 pyfstat.utils.sft INFO    : Loading 1 SFTs from H1...\n",
      "25-07-20 02:18:36.633 pyfstat.utils.sft INFO    : Loading 1 SFTs from H1...\n",
      "25-07-20 02:18:36.642 pyfstat.utils.sft INFO    : Loading 1 SFTs from H1...\n",
      "25-07-20 02:18:36.651 pyfstat.utils.sft INFO    : Loading 1 SFTs from H1...\n",
      "25-07-20 02:18:36.660 pyfstat.utils.sft INFO    : Loading 1 SFTs from H1...\n",
      "25-07-20 02:18:36.668 pyfstat.utils.sft INFO    : Loading 1 SFTs from H1...\n",
      "25-07-20 02:18:36.677 pyfstat.utils.sft INFO    : Loading 1 SFTs from H1...\n",
      "25-07-20 02:18:36.685 pyfstat.utils.sft INFO    : Loading 1 SFTs from H1...\n",
      "25-07-20 02:18:36.694 pyfstat.utils.sft INFO    : Loading 1 SFTs from H1...\n",
      "25-07-20 02:18:36.703 pyfstat.utils.sft INFO    : Loading 1 SFTs from H1...\n",
      "25-07-20 02:18:36.711 pyfstat.utils.sft INFO    : Loading 1 SFTs from H1...\n",
      "25-07-20 02:18:36.720 pyfstat.utils.sft INFO    : Loading 1 SFTs from H1...\n"
     ]
    },
    {
     "name": "stderr",
     "output_type": "stream",
     "text": [
      " 25%|██▌       | 1223/4800 [00:10<00:30, 116.40it/s]"
     ]
    },
    {
     "name": "stdout",
     "output_type": "stream",
     "text": [
      "25-07-20 02:18:36.729 pyfstat.utils.sft INFO    : Loading 1 SFTs from H1...\n",
      "25-07-20 02:18:36.738 pyfstat.utils.sft INFO    : Loading 1 SFTs from H1...\n",
      "25-07-20 02:18:36.747 pyfstat.utils.sft INFO    : Loading 1 SFTs from H1...\n",
      "25-07-20 02:18:36.755 pyfstat.utils.sft INFO    : Loading 1 SFTs from H1...\n",
      "25-07-20 02:18:36.763 pyfstat.utils.sft INFO    : Loading 1 SFTs from H1...\n",
      "25-07-20 02:18:36.772 pyfstat.utils.sft INFO    : Loading 1 SFTs from H1...\n",
      "25-07-20 02:18:36.781 pyfstat.utils.sft INFO    : Loading 1 SFTs from H1...\n",
      "25-07-20 02:18:36.789 pyfstat.utils.sft INFO    : Loading 1 SFTs from H1...\n",
      "25-07-20 02:18:36.797 pyfstat.utils.sft INFO    : Loading 1 SFTs from H1...\n",
      "25-07-20 02:18:36.804 pyfstat.utils.sft INFO    : Loading 1 SFTs from H1...\n",
      "25-07-20 02:18:36.812 pyfstat.utils.sft INFO    : Loading 1 SFTs from H1...\n",
      "25-07-20 02:18:36.820 pyfstat.utils.sft INFO    : Loading 1 SFTs from H1...\n",
      "25-07-20 02:18:36.827 pyfstat.utils.sft INFO    : Loading 1 SFTs from H1...\n"
     ]
    },
    {
     "name": "stderr",
     "output_type": "stream",
     "text": [
      " 26%|██▌       | 1236/4800 [00:10<00:30, 118.06it/s]"
     ]
    },
    {
     "name": "stdout",
     "output_type": "stream",
     "text": [
      "25-07-20 02:18:36.836 pyfstat.utils.sft INFO    : Loading 1 SFTs from H1...\n",
      "25-07-20 02:18:36.844 pyfstat.utils.sft INFO    : Loading 1 SFTs from H1...\n",
      "25-07-20 02:18:36.852 pyfstat.utils.sft INFO    : Loading 1 SFTs from H1...\n",
      "25-07-20 02:18:36.860 pyfstat.utils.sft INFO    : Loading 1 SFTs from H1...\n",
      "25-07-20 02:18:36.869 pyfstat.utils.sft INFO    : Loading 1 SFTs from H1...\n",
      "25-07-20 02:18:36.877 pyfstat.utils.sft INFO    : Loading 1 SFTs from H1...\n",
      "25-07-20 02:18:36.885 pyfstat.utils.sft INFO    : Loading 1 SFTs from H1...\n",
      "25-07-20 02:18:36.892 pyfstat.utils.sft INFO    : Loading 1 SFTs from H1...\n",
      "25-07-20 02:18:36.900 pyfstat.utils.sft INFO    : Loading 1 SFTs from H1...\n",
      "25-07-20 02:18:36.908 pyfstat.utils.sft INFO    : Loading 1 SFTs from H1...\n",
      "25-07-20 02:18:36.915 pyfstat.utils.sft INFO    : Loading 1 SFTs from H1...\n",
      "25-07-20 02:18:36.923 pyfstat.utils.sft INFO    : Loading 1 SFTs from H1...\n",
      "25-07-20 02:18:36.931 pyfstat.utils.sft INFO    : Loading 1 SFTs from H1...\n"
     ]
    },
    {
     "name": "stderr",
     "output_type": "stream",
     "text": [
      " 26%|██▌       | 1249/4800 [00:10<00:29, 120.39it/s]"
     ]
    },
    {
     "name": "stdout",
     "output_type": "stream",
     "text": [
      "25-07-20 02:18:36.939 pyfstat.utils.sft INFO    : Loading 1 SFTs from H1...\n",
      "25-07-20 02:18:36.947 pyfstat.utils.sft INFO    : Loading 1 SFTs from H1...\n",
      "25-07-20 02:18:36.955 pyfstat.utils.sft INFO    : Loading 1 SFTs from H1...\n",
      "25-07-20 02:18:36.963 pyfstat.utils.sft INFO    : Loading 1 SFTs from H1...\n",
      "25-07-20 02:18:36.972 pyfstat.utils.sft INFO    : Loading 1 SFTs from H1...\n",
      "25-07-20 02:18:36.980 pyfstat.utils.sft INFO    : Loading 1 SFTs from H1...\n",
      "25-07-20 02:18:36.988 pyfstat.utils.sft INFO    : Loading 1 SFTs from H1...\n",
      "25-07-20 02:18:36.997 pyfstat.utils.sft INFO    : Loading 1 SFTs from H1...\n",
      "25-07-20 02:18:37.005 pyfstat.utils.sft INFO    : Loading 1 SFTs from H1...\n",
      "25-07-20 02:18:37.013 pyfstat.utils.sft INFO    : Loading 1 SFTs from H1...\n",
      "25-07-20 02:18:37.021 pyfstat.utils.sft INFO    : Loading 1 SFTs from H1...\n",
      "25-07-20 02:18:37.029 pyfstat.utils.sft INFO    : Loading 1 SFTs from H1...\n",
      "25-07-20 02:18:37.037 pyfstat.utils.sft INFO    : Loading 1 SFTs from H1...\n"
     ]
    },
    {
     "name": "stderr",
     "output_type": "stream",
     "text": [
      " 26%|██▋       | 1262/4800 [00:10<00:29, 120.77it/s]"
     ]
    },
    {
     "name": "stdout",
     "output_type": "stream",
     "text": [
      "25-07-20 02:18:37.046 pyfstat.utils.sft INFO    : Loading 1 SFTs from H1...\n",
      "25-07-20 02:18:37.054 pyfstat.utils.sft INFO    : Loading 1 SFTs from H1...\n",
      "25-07-20 02:18:37.062 pyfstat.utils.sft INFO    : Loading 1 SFTs from H1...\n",
      "25-07-20 02:18:37.071 pyfstat.utils.sft INFO    : Loading 1 SFTs from H1...\n",
      "25-07-20 02:18:37.079 pyfstat.utils.sft INFO    : Loading 1 SFTs from H1...\n",
      "25-07-20 02:18:37.087 pyfstat.utils.sft INFO    : Loading 1 SFTs from H1...\n",
      "25-07-20 02:18:37.095 pyfstat.utils.sft INFO    : Loading 1 SFTs from H1...\n",
      "25-07-20 02:18:37.103 pyfstat.utils.sft INFO    : Loading 1 SFTs from H1...\n",
      "25-07-20 02:18:37.114 pyfstat.utils.sft INFO    : Loading 1 SFTs from H1...\n",
      "25-07-20 02:18:37.122 pyfstat.utils.sft INFO    : Loading 1 SFTs from H1...\n",
      "25-07-20 02:18:37.129 pyfstat.utils.sft INFO    : Loading 1 SFTs from H1...\n",
      "25-07-20 02:18:37.137 pyfstat.utils.sft INFO    : Loading 1 SFTs from H1...\n",
      "25-07-20 02:18:37.146 pyfstat.utils.sft INFO    : Loading 1 SFTs from H1...\n"
     ]
    },
    {
     "name": "stderr",
     "output_type": "stream",
     "text": [
      " 27%|██▋       | 1275/4800 [00:10<00:29, 120.50it/s]"
     ]
    },
    {
     "name": "stdout",
     "output_type": "stream",
     "text": [
      "25-07-20 02:18:37.154 pyfstat.utils.sft INFO    : Loading 1 SFTs from H1...\n",
      "25-07-20 02:18:37.163 pyfstat.utils.sft INFO    : Loading 1 SFTs from H1...\n",
      "25-07-20 02:18:37.171 pyfstat.utils.sft INFO    : Loading 1 SFTs from H1...\n",
      "25-07-20 02:18:37.179 pyfstat.utils.sft INFO    : Loading 1 SFTs from H1...\n",
      "25-07-20 02:18:37.189 pyfstat.utils.sft INFO    : Loading 1 SFTs from H1...\n",
      "25-07-20 02:18:37.197 pyfstat.utils.sft INFO    : Loading 1 SFTs from H1...\n",
      "25-07-20 02:18:37.205 pyfstat.utils.sft INFO    : Loading 1 SFTs from H1...\n",
      "25-07-20 02:18:37.214 pyfstat.utils.sft INFO    : Loading 1 SFTs from H1...\n",
      "25-07-20 02:18:37.222 pyfstat.utils.sft INFO    : Loading 1 SFTs from H1...\n",
      "25-07-20 02:18:37.230 pyfstat.utils.sft INFO    : Loading 1 SFTs from H1...\n",
      "25-07-20 02:18:37.238 pyfstat.utils.sft INFO    : Loading 1 SFTs from H1...\n",
      "25-07-20 02:18:37.247 pyfstat.utils.sft INFO    : Loading 1 SFTs from H1...\n",
      "25-07-20 02:18:37.254 pyfstat.utils.sft INFO    : Loading 1 SFTs from H1...\n"
     ]
    },
    {
     "name": "stderr",
     "output_type": "stream",
     "text": [
      " 27%|██▋       | 1288/4800 [00:10<00:29, 120.28it/s]"
     ]
    },
    {
     "name": "stdout",
     "output_type": "stream",
     "text": [
      "25-07-20 02:18:37.263 pyfstat.utils.sft INFO    : Loading 1 SFTs from H1...\n",
      "25-07-20 02:18:37.271 pyfstat.utils.sft INFO    : Loading 1 SFTs from H1...\n",
      "25-07-20 02:18:37.279 pyfstat.utils.sft INFO    : Loading 1 SFTs from H1...\n",
      "25-07-20 02:18:37.287 pyfstat.utils.sft INFO    : Loading 1 SFTs from H1...\n",
      "25-07-20 02:18:37.296 pyfstat.utils.sft INFO    : Loading 1 SFTs from H1...\n",
      "25-07-20 02:18:37.305 pyfstat.utils.sft INFO    : Loading 1 SFTs from H1...\n",
      "25-07-20 02:18:37.314 pyfstat.utils.sft INFO    : Loading 1 SFTs from H1...\n",
      "25-07-20 02:18:37.323 pyfstat.utils.sft INFO    : Loading 1 SFTs from H1...\n",
      "25-07-20 02:18:37.331 pyfstat.utils.sft INFO    : Loading 1 SFTs from H1...\n",
      "25-07-20 02:18:37.340 pyfstat.utils.sft INFO    : Loading 1 SFTs from H1...\n",
      "25-07-20 02:18:37.348 pyfstat.utils.sft INFO    : Loading 1 SFTs from H1...\n",
      "25-07-20 02:18:37.356 pyfstat.utils.sft INFO    : Loading 1 SFTs from H1...\n",
      "25-07-20 02:18:37.365 pyfstat.utils.sft INFO    : Loading 1 SFTs from H1...\n"
     ]
    },
    {
     "name": "stderr",
     "output_type": "stream",
     "text": [
      " 27%|██▋       | 1301/4800 [00:11<00:29, 119.24it/s]"
     ]
    },
    {
     "name": "stdout",
     "output_type": "stream",
     "text": [
      "25-07-20 02:18:37.374 pyfstat.utils.sft INFO    : Loading 1 SFTs from H1...\n",
      "25-07-20 02:18:37.383 pyfstat.utils.sft INFO    : Loading 1 SFTs from H1...\n",
      "25-07-20 02:18:37.392 pyfstat.utils.sft INFO    : Loading 1 SFTs from H1...\n",
      "25-07-20 02:18:37.400 pyfstat.utils.sft INFO    : Loading 1 SFTs from H1...\n",
      "25-07-20 02:18:37.408 pyfstat.utils.sft INFO    : Loading 1 SFTs from H1...\n",
      "25-07-20 02:18:37.417 pyfstat.utils.sft INFO    : Loading 1 SFTs from H1...\n",
      "25-07-20 02:18:37.426 pyfstat.utils.sft INFO    : Loading 1 SFTs from H1...\n",
      "25-07-20 02:18:37.434 pyfstat.utils.sft INFO    : Loading 1 SFTs from H1...\n",
      "25-07-20 02:18:37.443 pyfstat.utils.sft INFO    : Loading 1 SFTs from H1...\n",
      "25-07-20 02:18:37.451 pyfstat.utils.sft INFO    : Loading 1 SFTs from H1...\n",
      "25-07-20 02:18:37.460 pyfstat.utils.sft INFO    : Loading 1 SFTs from H1...\n",
      "25-07-20 02:18:37.469 pyfstat.utils.sft INFO    : Loading 1 SFTs from H1...\n"
     ]
    },
    {
     "name": "stderr",
     "output_type": "stream",
     "text": [
      " 27%|██▋       | 1313/4800 [00:11<00:29, 118.37it/s]"
     ]
    },
    {
     "name": "stdout",
     "output_type": "stream",
     "text": [
      "25-07-20 02:18:37.477 pyfstat.utils.sft INFO    : Loading 1 SFTs from H1...\n",
      "25-07-20 02:18:37.486 pyfstat.utils.sft INFO    : Loading 1 SFTs from H1...\n",
      "25-07-20 02:18:37.495 pyfstat.utils.sft INFO    : Loading 1 SFTs from H1...\n",
      "25-07-20 02:18:37.503 pyfstat.utils.sft INFO    : Loading 1 SFTs from H1...\n",
      "25-07-20 02:18:37.512 pyfstat.utils.sft INFO    : Loading 1 SFTs from H1...\n",
      "25-07-20 02:18:37.522 pyfstat.utils.sft INFO    : Loading 1 SFTs from H1...\n",
      "25-07-20 02:18:37.530 pyfstat.utils.sft INFO    : Loading 1 SFTs from H1...\n",
      "25-07-20 02:18:37.538 pyfstat.utils.sft INFO    : Loading 1 SFTs from H1...\n",
      "25-07-20 02:18:37.546 pyfstat.utils.sft INFO    : Loading 1 SFTs from H1...\n",
      "25-07-20 02:18:37.554 pyfstat.utils.sft INFO    : Loading 1 SFTs from H1...\n",
      "25-07-20 02:18:37.562 pyfstat.utils.sft INFO    : Loading 1 SFTs from H1...\n",
      "25-07-20 02:18:37.570 pyfstat.utils.sft INFO    : Loading 1 SFTs from H1...\n"
     ]
    },
    {
     "name": "stderr",
     "output_type": "stream",
     "text": [
      " 28%|██▊       | 1325/4800 [00:11<00:29, 118.52it/s]"
     ]
    },
    {
     "name": "stdout",
     "output_type": "stream",
     "text": [
      "25-07-20 02:18:37.578 pyfstat.utils.sft INFO    : Loading 1 SFTs from H1...\n",
      "25-07-20 02:18:37.587 pyfstat.utils.sft INFO    : Loading 1 SFTs from H1...\n",
      "25-07-20 02:18:37.595 pyfstat.utils.sft INFO    : Loading 1 SFTs from H1...\n",
      "25-07-20 02:18:37.603 pyfstat.utils.sft INFO    : Loading 1 SFTs from H1...\n",
      "25-07-20 02:18:37.611 pyfstat.utils.sft INFO    : Loading 1 SFTs from H1...\n",
      "25-07-20 02:18:37.619 pyfstat.utils.sft INFO    : Loading 1 SFTs from H1...\n",
      "25-07-20 02:18:37.627 pyfstat.utils.sft INFO    : Loading 1 SFTs from H1...\n",
      "25-07-20 02:18:37.635 pyfstat.utils.sft INFO    : Loading 1 SFTs from H1...\n",
      "25-07-20 02:18:37.643 pyfstat.utils.sft INFO    : Loading 1 SFTs from H1...\n",
      "25-07-20 02:18:37.651 pyfstat.utils.sft INFO    : Loading 1 SFTs from H1...\n",
      "25-07-20 02:18:37.660 pyfstat.utils.sft INFO    : Loading 1 SFTs from H1...\n",
      "25-07-20 02:18:37.668 pyfstat.utils.sft INFO    : Loading 1 SFTs from H1...\n",
      "25-07-20 02:18:37.677 pyfstat.utils.sft INFO    : Loading 1 SFTs from H1...\n"
     ]
    },
    {
     "name": "stderr",
     "output_type": "stream",
     "text": [
      " 28%|██▊       | 1338/4800 [00:11<00:29, 119.08it/s]"
     ]
    },
    {
     "name": "stdout",
     "output_type": "stream",
     "text": [
      "25-07-20 02:18:37.686 pyfstat.utils.sft INFO    : Loading 1 SFTs from H1...\n",
      "25-07-20 02:18:37.695 pyfstat.utils.sft INFO    : Loading 1 SFTs from H1...\n",
      "25-07-20 02:18:37.703 pyfstat.utils.sft INFO    : Loading 1 SFTs from H1...\n",
      "25-07-20 02:18:37.710 pyfstat.utils.sft INFO    : Loading 1 SFTs from H1...\n",
      "25-07-20 02:18:37.718 pyfstat.utils.sft INFO    : Loading 1 SFTs from H1...\n",
      "25-07-20 02:18:37.726 pyfstat.utils.sft INFO    : Loading 1 SFTs from H1...\n",
      "25-07-20 02:18:37.734 pyfstat.utils.sft INFO    : Loading 1 SFTs from H1...\n",
      "25-07-20 02:18:37.742 pyfstat.utils.sft INFO    : Loading 1 SFTs from H1...\n",
      "25-07-20 02:18:37.751 pyfstat.utils.sft INFO    : Loading 1 SFTs from H1...\n",
      "25-07-20 02:18:37.758 pyfstat.utils.sft INFO    : Loading 1 SFTs from H1...\n",
      "25-07-20 02:18:37.766 pyfstat.utils.sft INFO    : Loading 1 SFTs from H1...\n",
      "25-07-20 02:18:37.774 pyfstat.utils.sft INFO    : Loading 1 SFTs from H1...\n",
      "25-07-20 02:18:37.782 pyfstat.utils.sft INFO    : Loading 1 SFTs from H1...\n"
     ]
    },
    {
     "name": "stderr",
     "output_type": "stream",
     "text": [
      " 28%|██▊       | 1351/4800 [00:11<00:28, 120.81it/s]"
     ]
    },
    {
     "name": "stdout",
     "output_type": "stream",
     "text": [
      "25-07-20 02:18:37.790 pyfstat.utils.sft INFO    : Loading 1 SFTs from H1...\n",
      "25-07-20 02:18:37.799 pyfstat.utils.sft INFO    : Loading 1 SFTs from H1...\n",
      "25-07-20 02:18:37.807 pyfstat.utils.sft INFO    : Loading 1 SFTs from H1...\n",
      "25-07-20 02:18:37.815 pyfstat.utils.sft INFO    : Loading 1 SFTs from H1...\n",
      "25-07-20 02:18:37.824 pyfstat.utils.sft INFO    : Loading 1 SFTs from H1...\n",
      "25-07-20 02:18:37.832 pyfstat.utils.sft INFO    : Loading 1 SFTs from H1...\n",
      "25-07-20 02:18:37.840 pyfstat.utils.sft INFO    : Loading 1 SFTs from H1...\n",
      "25-07-20 02:18:37.848 pyfstat.utils.sft INFO    : Loading 1 SFTs from H1...\n",
      "25-07-20 02:18:37.857 pyfstat.utils.sft INFO    : Loading 1 SFTs from H1...\n",
      "25-07-20 02:18:37.866 pyfstat.utils.sft INFO    : Loading 1 SFTs from H1...\n",
      "25-07-20 02:18:37.874 pyfstat.utils.sft INFO    : Loading 1 SFTs from H1...\n",
      "25-07-20 02:18:37.883 pyfstat.utils.sft INFO    : Loading 1 SFTs from H1...\n",
      "25-07-20 02:18:37.891 pyfstat.utils.sft INFO    : Loading 1 SFTs from H1...\n"
     ]
    },
    {
     "name": "stderr",
     "output_type": "stream",
     "text": [
      " 28%|██▊       | 1364/4800 [00:11<00:28, 120.19it/s]"
     ]
    },
    {
     "name": "stdout",
     "output_type": "stream",
     "text": [
      "25-07-20 02:18:37.900 pyfstat.utils.sft INFO    : Loading 1 SFTs from H1...\n",
      "25-07-20 02:18:37.908 pyfstat.utils.sft INFO    : Loading 1 SFTs from H1...\n",
      "25-07-20 02:18:37.917 pyfstat.utils.sft INFO    : Loading 1 SFTs from H1...\n",
      "25-07-20 02:18:37.925 pyfstat.utils.sft INFO    : Loading 1 SFTs from H1...\n",
      "25-07-20 02:18:37.933 pyfstat.utils.sft INFO    : Loading 1 SFTs from H1...\n",
      "25-07-20 02:18:37.941 pyfstat.utils.sft INFO    : Loading 1 SFTs from H1...\n",
      "25-07-20 02:18:37.949 pyfstat.utils.sft INFO    : Loading 1 SFTs from H1...\n",
      "25-07-20 02:18:37.958 pyfstat.utils.sft INFO    : Loading 1 SFTs from H1...\n",
      "25-07-20 02:18:37.967 pyfstat.utils.sft INFO    : Loading 1 SFTs from H1...\n",
      "25-07-20 02:18:37.976 pyfstat.utils.sft INFO    : Loading 1 SFTs from H1...\n",
      "25-07-20 02:18:37.985 pyfstat.utils.sft INFO    : Loading 1 SFTs from H1...\n",
      "25-07-20 02:18:37.994 pyfstat.utils.sft INFO    : Loading 1 SFTs from H1...\n",
      "25-07-20 02:18:38.002 pyfstat.utils.sft INFO    : Loading 1 SFTs from H1...\n"
     ]
    },
    {
     "name": "stderr",
     "output_type": "stream",
     "text": [
      " 29%|██▊       | 1377/4800 [00:11<00:28, 119.04it/s]"
     ]
    },
    {
     "name": "stdout",
     "output_type": "stream",
     "text": [
      "25-07-20 02:18:38.012 pyfstat.utils.sft INFO    : Loading 1 SFTs from H1...\n",
      "25-07-20 02:18:38.020 pyfstat.utils.sft INFO    : Loading 1 SFTs from H1...\n",
      "25-07-20 02:18:38.029 pyfstat.utils.sft INFO    : Loading 1 SFTs from H1...\n",
      "25-07-20 02:18:38.037 pyfstat.utils.sft INFO    : Loading 1 SFTs from H1...\n",
      "25-07-20 02:18:38.046 pyfstat.utils.sft INFO    : Loading 1 SFTs from H1...\n",
      "25-07-20 02:18:38.055 pyfstat.utils.sft INFO    : Loading 1 SFTs from H1...\n",
      "25-07-20 02:18:38.063 pyfstat.utils.sft INFO    : Loading 1 SFTs from H1...\n",
      "25-07-20 02:18:38.072 pyfstat.utils.sft INFO    : Loading 1 SFTs from H1...\n",
      "25-07-20 02:18:38.081 pyfstat.utils.sft INFO    : Loading 1 SFTs from H1...\n",
      "25-07-20 02:18:38.090 pyfstat.utils.sft INFO    : Loading 1 SFTs from H1...\n",
      "25-07-20 02:18:38.099 pyfstat.utils.sft INFO    : Loading 1 SFTs from H1...\n",
      "25-07-20 02:18:38.107 pyfstat.utils.sft INFO    : Loading 1 SFTs from H1...\n"
     ]
    },
    {
     "name": "stderr",
     "output_type": "stream",
     "text": [
      " 29%|██▉       | 1389/4800 [00:11<00:28, 117.79it/s]"
     ]
    },
    {
     "name": "stdout",
     "output_type": "stream",
     "text": [
      "25-07-20 02:18:38.116 pyfstat.utils.sft INFO    : Loading 1 SFTs from H1...\n",
      "25-07-20 02:18:38.126 pyfstat.utils.sft INFO    : Loading 1 SFTs from H1...\n",
      "25-07-20 02:18:38.135 pyfstat.utils.sft INFO    : Loading 1 SFTs from H1...\n",
      "25-07-20 02:18:38.143 pyfstat.utils.sft INFO    : Loading 1 SFTs from H1...\n",
      "25-07-20 02:18:38.152 pyfstat.utils.sft INFO    : Loading 1 SFTs from H1...\n",
      "25-07-20 02:18:38.160 pyfstat.utils.sft INFO    : Loading 1 SFTs from H1...\n",
      "25-07-20 02:18:38.169 pyfstat.utils.sft INFO    : Loading 1 SFTs from H1...\n",
      "25-07-20 02:18:38.178 pyfstat.utils.sft INFO    : Loading 1 SFTs from H1...\n",
      "25-07-20 02:18:38.187 pyfstat.utils.sft INFO    : Loading 1 SFTs from H1...\n",
      "25-07-20 02:18:38.196 pyfstat.utils.sft INFO    : Loading 1 SFTs from H1...\n",
      "25-07-20 02:18:38.205 pyfstat.utils.sft INFO    : Loading 1 SFTs from H1...\n",
      "25-07-20 02:18:38.213 pyfstat.utils.sft INFO    : Loading 1 SFTs from H1...\n"
     ]
    },
    {
     "name": "stderr",
     "output_type": "stream",
     "text": [
      " 29%|██▉       | 1401/4800 [00:11<00:29, 116.34it/s]"
     ]
    },
    {
     "name": "stdout",
     "output_type": "stream",
     "text": [
      "25-07-20 02:18:38.223 pyfstat.utils.sft INFO    : Loading 1 SFTs from H1...\n",
      "25-07-20 02:18:38.232 pyfstat.utils.sft INFO    : Loading 1 SFTs from H1...\n",
      "25-07-20 02:18:38.240 pyfstat.utils.sft INFO    : Loading 1 SFTs from H1...\n",
      "25-07-20 02:18:38.249 pyfstat.utils.sft INFO    : Loading 1 SFTs from H1...\n",
      "25-07-20 02:18:38.258 pyfstat.utils.sft INFO    : Loading 1 SFTs from H1...\n",
      "25-07-20 02:18:38.266 pyfstat.utils.sft INFO    : Loading 1 SFTs from H1...\n",
      "25-07-20 02:18:38.275 pyfstat.utils.sft INFO    : Loading 1 SFTs from H1...\n",
      "25-07-20 02:18:38.284 pyfstat.utils.sft INFO    : Loading 1 SFTs from H1...\n",
      "25-07-20 02:18:38.292 pyfstat.utils.sft INFO    : Loading 1 SFTs from H1...\n",
      "25-07-20 02:18:38.301 pyfstat.utils.sft INFO    : Loading 1 SFTs from H1...\n",
      "25-07-20 02:18:38.309 pyfstat.utils.sft INFO    : Loading 1 SFTs from H1...\n",
      "25-07-20 02:18:38.318 pyfstat.utils.sft INFO    : Loading 1 SFTs from H1...\n"
     ]
    },
    {
     "name": "stderr",
     "output_type": "stream",
     "text": [
      " 29%|██▉       | 1413/4800 [00:12<00:29, 115.89it/s]"
     ]
    },
    {
     "name": "stdout",
     "output_type": "stream",
     "text": [
      "25-07-20 02:18:38.327 pyfstat.utils.sft INFO    : Loading 1 SFTs from H1...\n",
      "25-07-20 02:18:38.335 pyfstat.utils.sft INFO    : Loading 1 SFTs from H1...\n",
      "25-07-20 02:18:38.344 pyfstat.utils.sft INFO    : Loading 1 SFTs from H1...\n",
      "25-07-20 02:18:38.352 pyfstat.utils.sft INFO    : Loading 1 SFTs from H1...\n",
      "25-07-20 02:18:38.361 pyfstat.utils.sft INFO    : Loading 1 SFTs from H1...\n",
      "25-07-20 02:18:38.370 pyfstat.utils.sft INFO    : Loading 1 SFTs from H1...\n",
      "25-07-20 02:18:38.378 pyfstat.utils.sft INFO    : Loading 1 SFTs from H1...\n",
      "25-07-20 02:18:38.386 pyfstat.utils.sft INFO    : Loading 1 SFTs from H1...\n",
      "25-07-20 02:18:38.395 pyfstat.utils.sft INFO    : Loading 1 SFTs from H1...\n",
      "25-07-20 02:18:38.403 pyfstat.utils.sft INFO    : Loading 1 SFTs from H1...\n",
      "25-07-20 02:18:38.413 pyfstat.utils.sft INFO    : Loading 1 SFTs from H1...\n",
      "25-07-20 02:18:38.422 pyfstat.utils.sft INFO    : Loading 1 SFTs from H1...\n"
     ]
    },
    {
     "name": "stderr",
     "output_type": "stream",
     "text": [
      " 30%|██▉       | 1425/4800 [00:12<00:29, 115.91it/s]"
     ]
    },
    {
     "name": "stdout",
     "output_type": "stream",
     "text": [
      "25-07-20 02:18:38.430 pyfstat.utils.sft INFO    : Loading 1 SFTs from H1...\n",
      "25-07-20 02:18:38.439 pyfstat.utils.sft INFO    : Loading 1 SFTs from H1...\n",
      "25-07-20 02:18:38.446 pyfstat.utils.sft INFO    : Loading 1 SFTs from H1...\n",
      "25-07-20 02:18:38.454 pyfstat.utils.sft INFO    : Loading 1 SFTs from H1...\n",
      "25-07-20 02:18:38.463 pyfstat.utils.sft INFO    : Loading 1 SFTs from H1...\n",
      "25-07-20 02:18:38.471 pyfstat.utils.sft INFO    : Loading 1 SFTs from H1...\n",
      "25-07-20 02:18:38.480 pyfstat.utils.sft INFO    : Loading 1 SFTs from H1...\n",
      "25-07-20 02:18:38.488 pyfstat.utils.sft INFO    : Loading 1 SFTs from H1...\n",
      "25-07-20 02:18:38.496 pyfstat.utils.sft INFO    : Loading 1 SFTs from H1...\n",
      "25-07-20 02:18:38.505 pyfstat.utils.sft INFO    : Loading 1 SFTs from H1...\n",
      "25-07-20 02:18:38.513 pyfstat.utils.sft INFO    : Loading 1 SFTs from H1...\n",
      "25-07-20 02:18:38.522 pyfstat.utils.sft INFO    : Loading 1 SFTs from H1...\n"
     ]
    },
    {
     "name": "stderr",
     "output_type": "stream",
     "text": [
      " 30%|██▉       | 1437/4800 [00:12<00:28, 116.53it/s]"
     ]
    },
    {
     "name": "stdout",
     "output_type": "stream",
     "text": [
      "25-07-20 02:18:38.532 pyfstat.utils.sft INFO    : Loading 1 SFTs from H1...\n",
      "25-07-20 02:18:38.541 pyfstat.utils.sft INFO    : Loading 1 SFTs from H1...\n",
      "25-07-20 02:18:38.550 pyfstat.utils.sft INFO    : Loading 1 SFTs from H1...\n",
      "25-07-20 02:18:38.558 pyfstat.utils.sft INFO    : Loading 1 SFTs from H1...\n",
      "25-07-20 02:18:38.566 pyfstat.utils.sft INFO    : Loading 1 SFTs from H1...\n",
      "25-07-20 02:18:38.575 pyfstat.utils.sft INFO    : Loading 1 SFTs from H1...\n",
      "25-07-20 02:18:38.584 pyfstat.utils.sft INFO    : Loading 1 SFTs from H1...\n",
      "25-07-20 02:18:38.594 pyfstat.utils.sft INFO    : Loading 1 SFTs from H1...\n",
      "25-07-20 02:18:38.602 pyfstat.utils.sft INFO    : Loading 1 SFTs from H1...\n",
      "25-07-20 02:18:38.611 pyfstat.utils.sft INFO    : Loading 1 SFTs from H1...\n",
      "25-07-20 02:18:38.619 pyfstat.utils.sft INFO    : Loading 1 SFTs from H1...\n",
      "25-07-20 02:18:38.628 pyfstat.utils.sft INFO    : Loading 1 SFTs from H1...\n"
     ]
    },
    {
     "name": "stderr",
     "output_type": "stream",
     "text": [
      " 30%|███       | 1449/4800 [00:12<00:28, 115.64it/s]"
     ]
    },
    {
     "name": "stdout",
     "output_type": "stream",
     "text": [
      "25-07-20 02:18:38.638 pyfstat.utils.sft INFO    : Loading 1 SFTs from H1...\n",
      "25-07-20 02:18:38.646 pyfstat.utils.sft INFO    : Loading 1 SFTs from H1...\n",
      "25-07-20 02:18:38.655 pyfstat.utils.sft INFO    : Loading 1 SFTs from H1...\n",
      "25-07-20 02:18:38.663 pyfstat.utils.sft INFO    : Loading 1 SFTs from H1...\n",
      "25-07-20 02:18:38.672 pyfstat.utils.sft INFO    : Loading 1 SFTs from H1...\n",
      "25-07-20 02:18:38.680 pyfstat.utils.sft INFO    : Loading 1 SFTs from H1...\n",
      "25-07-20 02:18:38.688 pyfstat.utils.sft INFO    : Loading 1 SFTs from H1...\n",
      "25-07-20 02:18:38.696 pyfstat.utils.sft INFO    : Loading 1 SFTs from H1...\n",
      "25-07-20 02:18:38.705 pyfstat.utils.sft INFO    : Loading 1 SFTs from H1...\n",
      "25-07-20 02:18:38.713 pyfstat.utils.sft INFO    : Loading 1 SFTs from H1...\n",
      "25-07-20 02:18:38.721 pyfstat.utils.sft INFO    : Loading 1 SFTs from H1...\n",
      "25-07-20 02:18:38.730 pyfstat.utils.sft INFO    : Loading 1 SFTs from H1...\n"
     ]
    },
    {
     "name": "stderr",
     "output_type": "stream",
     "text": [
      " 30%|███       | 1461/4800 [00:12<00:28, 116.50it/s]"
     ]
    },
    {
     "name": "stdout",
     "output_type": "stream",
     "text": [
      "25-07-20 02:18:38.739 pyfstat.utils.sft INFO    : Loading 1 SFTs from H1...\n",
      "25-07-20 02:18:38.748 pyfstat.utils.sft INFO    : Loading 1 SFTs from H1...\n",
      "25-07-20 02:18:38.757 pyfstat.utils.sft INFO    : Loading 1 SFTs from H1...\n",
      "25-07-20 02:18:38.765 pyfstat.utils.sft INFO    : Loading 1 SFTs from H1...\n",
      "25-07-20 02:18:38.773 pyfstat.utils.sft INFO    : Loading 1 SFTs from H1...\n",
      "25-07-20 02:18:38.781 pyfstat.utils.sft INFO    : Loading 1 SFTs from H1...\n",
      "25-07-20 02:18:38.789 pyfstat.utils.sft INFO    : Loading 1 SFTs from H1...\n",
      "25-07-20 02:18:38.797 pyfstat.utils.sft INFO    : Loading 1 SFTs from H1...\n",
      "25-07-20 02:18:38.806 pyfstat.utils.sft INFO    : Loading 1 SFTs from H1...\n",
      "25-07-20 02:18:38.814 pyfstat.utils.sft INFO    : Loading 1 SFTs from H1...\n",
      "25-07-20 02:18:38.823 pyfstat.utils.sft INFO    : Loading 1 SFTs from H1...\n",
      "25-07-20 02:18:38.831 pyfstat.utils.sft INFO    : Loading 1 SFTs from H1...\n"
     ]
    },
    {
     "name": "stderr",
     "output_type": "stream",
     "text": [
      " 31%|███       | 1473/4800 [00:12<00:28, 117.11it/s]"
     ]
    },
    {
     "name": "stdout",
     "output_type": "stream",
     "text": [
      "25-07-20 02:18:38.840 pyfstat.utils.sft INFO    : Loading 1 SFTs from H1...\n",
      "25-07-20 02:18:38.849 pyfstat.utils.sft INFO    : Loading 1 SFTs from H1...\n",
      "25-07-20 02:18:38.858 pyfstat.utils.sft INFO    : Loading 1 SFTs from H1...\n",
      "25-07-20 02:18:38.867 pyfstat.utils.sft INFO    : Loading 1 SFTs from H1...\n",
      "25-07-20 02:18:38.875 pyfstat.utils.sft INFO    : Loading 1 SFTs from H1...\n",
      "25-07-20 02:18:38.884 pyfstat.utils.sft INFO    : Loading 1 SFTs from H1...\n",
      "25-07-20 02:18:38.892 pyfstat.utils.sft INFO    : Loading 1 SFTs from H1...\n",
      "25-07-20 02:18:38.900 pyfstat.utils.sft INFO    : Loading 1 SFTs from H1...\n",
      "25-07-20 02:18:38.909 pyfstat.utils.sft INFO    : Loading 1 SFTs from H1...\n",
      "25-07-20 02:18:38.922 pyfstat.utils.sft INFO    : Loading 1 SFTs from H1...\n",
      "25-07-20 02:18:38.930 pyfstat.utils.sft INFO    : Loading 1 SFTs from H1...\n",
      "25-07-20 02:18:38.939 pyfstat.utils.sft INFO    : Loading 1 SFTs from H1...\n"
     ]
    },
    {
     "name": "stderr",
     "output_type": "stream",
     "text": [
      " 31%|███       | 1485/4800 [00:12<00:28, 115.13it/s]"
     ]
    },
    {
     "name": "stdout",
     "output_type": "stream",
     "text": [
      "25-07-20 02:18:38.948 pyfstat.utils.sft INFO    : Loading 1 SFTs from H1...\n",
      "25-07-20 02:18:38.957 pyfstat.utils.sft INFO    : Loading 1 SFTs from H1...\n",
      "25-07-20 02:18:38.966 pyfstat.utils.sft INFO    : Loading 1 SFTs from H1...\n",
      "25-07-20 02:18:38.975 pyfstat.utils.sft INFO    : Loading 1 SFTs from H1...\n",
      "25-07-20 02:18:38.983 pyfstat.utils.sft INFO    : Loading 1 SFTs from H1...\n",
      "25-07-20 02:18:38.991 pyfstat.utils.sft INFO    : Loading 1 SFTs from H1...\n",
      "25-07-20 02:18:39.000 pyfstat.utils.sft INFO    : Loading 1 SFTs from H1...\n",
      "25-07-20 02:18:39.008 pyfstat.utils.sft INFO    : Loading 1 SFTs from H1...\n",
      "25-07-20 02:18:39.016 pyfstat.utils.sft INFO    : Loading 1 SFTs from H1...\n",
      "25-07-20 02:18:39.024 pyfstat.utils.sft INFO    : Loading 1 SFTs from H1...\n",
      "25-07-20 02:18:39.033 pyfstat.utils.sft INFO    : Loading 1 SFTs from H1...\n",
      "25-07-20 02:18:39.041 pyfstat.utils.sft INFO    : Loading 1 SFTs from H1...\n"
     ]
    },
    {
     "name": "stderr",
     "output_type": "stream",
     "text": [
      " 31%|███       | 1497/4800 [00:12<00:28, 116.06it/s]"
     ]
    },
    {
     "name": "stdout",
     "output_type": "stream",
     "text": [
      "25-07-20 02:18:39.050 pyfstat.utils.sft INFO    : Loading 1 SFTs from H1...\n",
      "25-07-20 02:18:39.058 pyfstat.utils.sft INFO    : Loading 1 SFTs from H1...\n",
      "25-07-20 02:18:39.067 pyfstat.utils.sft INFO    : Loading 1 SFTs from H1...\n",
      "25-07-20 02:18:39.075 pyfstat.utils.sft INFO    : Loading 1 SFTs from H1...\n",
      "25-07-20 02:18:39.083 pyfstat.utils.sft INFO    : Loading 1 SFTs from H1...\n",
      "25-07-20 02:18:39.092 pyfstat.utils.sft INFO    : Loading 1 SFTs from H1...\n",
      "25-07-20 02:18:39.100 pyfstat.utils.sft INFO    : Loading 1 SFTs from H1...\n",
      "25-07-20 02:18:39.107 pyfstat.utils.sft INFO    : Loading 1 SFTs from H1...\n",
      "25-07-20 02:18:39.116 pyfstat.utils.sft INFO    : Loading 1 SFTs from H1...\n",
      "25-07-20 02:18:39.124 pyfstat.utils.sft INFO    : Loading 1 SFTs from H1...\n",
      "25-07-20 02:18:39.133 pyfstat.utils.sft INFO    : Loading 1 SFTs from H1...\n",
      "25-07-20 02:18:39.141 pyfstat.utils.sft INFO    : Loading 1 SFTs from H1...\n",
      "25-07-20 02:18:39.149 pyfstat.utils.sft INFO    : Loading 1 SFTs from H1...\n"
     ]
    },
    {
     "name": "stderr",
     "output_type": "stream",
     "text": [
      " 31%|███▏      | 1510/4800 [00:12<00:28, 117.34it/s]"
     ]
    },
    {
     "name": "stdout",
     "output_type": "stream",
     "text": [
      "25-07-20 02:18:39.158 pyfstat.utils.sft INFO    : Loading 1 SFTs from H1...\n",
      "25-07-20 02:18:39.166 pyfstat.utils.sft INFO    : Loading 1 SFTs from H1...\n",
      "25-07-20 02:18:39.174 pyfstat.utils.sft INFO    : Loading 1 SFTs from H1...\n",
      "25-07-20 02:18:39.182 pyfstat.utils.sft INFO    : Loading 1 SFTs from H1...\n",
      "25-07-20 02:18:39.190 pyfstat.utils.sft INFO    : Loading 1 SFTs from H1...\n",
      "25-07-20 02:18:39.199 pyfstat.utils.sft INFO    : Loading 1 SFTs from H1...\n",
      "25-07-20 02:18:39.207 pyfstat.utils.sft INFO    : Loading 1 SFTs from H1...\n",
      "25-07-20 02:18:39.215 pyfstat.utils.sft INFO    : Loading 1 SFTs from H1...\n",
      "25-07-20 02:18:39.223 pyfstat.utils.sft INFO    : Loading 1 SFTs from H1...\n",
      "25-07-20 02:18:39.231 pyfstat.utils.sft INFO    : Loading 1 SFTs from H1...\n",
      "25-07-20 02:18:39.240 pyfstat.utils.sft INFO    : Loading 1 SFTs from H1...\n",
      "25-07-20 02:18:39.248 pyfstat.utils.sft INFO    : Loading 1 SFTs from H1...\n",
      "25-07-20 02:18:39.256 pyfstat.utils.sft INFO    : Loading 1 SFTs from H1...\n"
     ]
    },
    {
     "name": "stderr",
     "output_type": "stream",
     "text": [
      " 32%|███▏      | 1523/4800 [00:12<00:27, 118.52it/s]"
     ]
    },
    {
     "name": "stdout",
     "output_type": "stream",
     "text": [
      "25-07-20 02:18:39.265 pyfstat.utils.sft INFO    : Loading 1 SFTs from H1...\n",
      "25-07-20 02:18:39.274 pyfstat.utils.sft INFO    : Loading 1 SFTs from H1...\n",
      "25-07-20 02:18:39.282 pyfstat.utils.sft INFO    : Loading 1 SFTs from H1...\n",
      "25-07-20 02:18:39.290 pyfstat.utils.sft INFO    : Loading 1 SFTs from H1...\n",
      "25-07-20 02:18:39.298 pyfstat.utils.sft INFO    : Loading 1 SFTs from H1...\n",
      "25-07-20 02:18:39.306 pyfstat.utils.sft INFO    : Loading 1 SFTs from H1...\n",
      "25-07-20 02:18:39.314 pyfstat.utils.sft INFO    : Loading 1 SFTs from H1...\n",
      "25-07-20 02:18:39.322 pyfstat.utils.sft INFO    : Loading 1 SFTs from H1...\n",
      "25-07-20 02:18:39.330 pyfstat.utils.sft INFO    : Loading 1 SFTs from H1...\n",
      "25-07-20 02:18:39.338 pyfstat.utils.sft INFO    : Loading 1 SFTs from H1...\n",
      "25-07-20 02:18:39.346 pyfstat.utils.sft INFO    : Loading 1 SFTs from H1...\n",
      "25-07-20 02:18:39.355 pyfstat.utils.sft INFO    : Loading 1 SFTs from H1...\n",
      "25-07-20 02:18:39.363 pyfstat.utils.sft INFO    : Loading 1 SFTs from H1...\n"
     ]
    },
    {
     "name": "stderr",
     "output_type": "stream",
     "text": [
      " 32%|███▏      | 1536/4800 [00:13<00:27, 119.77it/s]"
     ]
    },
    {
     "name": "stdout",
     "output_type": "stream",
     "text": [
      "25-07-20 02:18:39.371 pyfstat.utils.sft INFO    : Loading 1 SFTs from H1...\n",
      "25-07-20 02:18:39.379 pyfstat.utils.sft INFO    : Loading 1 SFTs from H1...\n",
      "25-07-20 02:18:39.388 pyfstat.utils.sft INFO    : Loading 1 SFTs from H1...\n",
      "25-07-20 02:18:39.396 pyfstat.utils.sft INFO    : Loading 1 SFTs from H1...\n",
      "25-07-20 02:18:39.404 pyfstat.utils.sft INFO    : Loading 1 SFTs from H1...\n",
      "25-07-20 02:18:39.412 pyfstat.utils.sft INFO    : Loading 1 SFTs from H1...\n",
      "25-07-20 02:18:39.421 pyfstat.utils.sft INFO    : Loading 1 SFTs from H1...\n",
      "25-07-20 02:18:39.428 pyfstat.utils.sft INFO    : Loading 1 SFTs from H1...\n",
      "25-07-20 02:18:39.436 pyfstat.utils.sft INFO    : Loading 1 SFTs from H1...\n",
      "25-07-20 02:18:39.445 pyfstat.utils.sft INFO    : Loading 1 SFTs from H1...\n",
      "25-07-20 02:18:39.453 pyfstat.utils.sft INFO    : Loading 1 SFTs from H1...\n",
      "25-07-20 02:18:39.461 pyfstat.utils.sft INFO    : Loading 1 SFTs from H1...\n",
      "25-07-20 02:18:39.470 pyfstat.utils.sft INFO    : Loading 1 SFTs from H1...\n"
     ]
    },
    {
     "name": "stderr",
     "output_type": "stream",
     "text": [
      " 32%|███▏      | 1549/4800 [00:13<00:27, 120.04it/s]"
     ]
    },
    {
     "name": "stdout",
     "output_type": "stream",
     "text": [
      "25-07-20 02:18:39.479 pyfstat.utils.sft INFO    : Loading 1 SFTs from H1...\n",
      "25-07-20 02:18:39.488 pyfstat.utils.sft INFO    : Loading 1 SFTs from H1...\n",
      "25-07-20 02:18:39.496 pyfstat.utils.sft INFO    : Loading 1 SFTs from H1...\n",
      "25-07-20 02:18:39.504 pyfstat.utils.sft INFO    : Loading 1 SFTs from H1...\n",
      "25-07-20 02:18:39.513 pyfstat.utils.sft INFO    : Loading 1 SFTs from H1...\n",
      "25-07-20 02:18:39.521 pyfstat.utils.sft INFO    : Loading 1 SFTs from H1...\n",
      "25-07-20 02:18:39.530 pyfstat.utils.sft INFO    : Loading 1 SFTs from H1...\n",
      "25-07-20 02:18:39.538 pyfstat.utils.sft INFO    : Loading 1 SFTs from H1...\n",
      "25-07-20 02:18:39.547 pyfstat.utils.sft INFO    : Loading 1 SFTs from H1...\n",
      "25-07-20 02:18:39.556 pyfstat.utils.sft INFO    : Loading 1 SFTs from H1...\n",
      "25-07-20 02:18:39.564 pyfstat.utils.sft INFO    : Loading 1 SFTs from H1...\n",
      "25-07-20 02:18:39.572 pyfstat.utils.sft INFO    : Loading 1 SFTs from H1...\n",
      "25-07-20 02:18:39.580 pyfstat.utils.sft INFO    : Loading 1 SFTs from H1...\n"
     ]
    },
    {
     "name": "stderr",
     "output_type": "stream",
     "text": [
      " 33%|███▎      | 1562/4800 [00:13<00:27, 119.63it/s]"
     ]
    },
    {
     "name": "stdout",
     "output_type": "stream",
     "text": [
      "25-07-20 02:18:39.589 pyfstat.utils.sft INFO    : Loading 1 SFTs from H1...\n",
      "25-07-20 02:18:39.597 pyfstat.utils.sft INFO    : Loading 1 SFTs from H1...\n",
      "25-07-20 02:18:39.605 pyfstat.utils.sft INFO    : Loading 1 SFTs from H1...\n",
      "25-07-20 02:18:39.613 pyfstat.utils.sft INFO    : Loading 1 SFTs from H1...\n",
      "25-07-20 02:18:39.622 pyfstat.utils.sft INFO    : Loading 1 SFTs from H1...\n",
      "25-07-20 02:18:39.630 pyfstat.utils.sft INFO    : Loading 1 SFTs from H1...\n",
      "25-07-20 02:18:39.639 pyfstat.utils.sft INFO    : Loading 1 SFTs from H1...\n",
      "25-07-20 02:18:39.648 pyfstat.utils.sft INFO    : Loading 1 SFTs from H1...\n",
      "25-07-20 02:18:39.656 pyfstat.utils.sft INFO    : Loading 1 SFTs from H1...\n",
      "25-07-20 02:18:39.664 pyfstat.utils.sft INFO    : Loading 1 SFTs from H1...\n",
      "25-07-20 02:18:39.672 pyfstat.utils.sft INFO    : Loading 1 SFTs from H1...\n",
      "25-07-20 02:18:39.681 pyfstat.utils.sft INFO    : Loading 1 SFTs from H1...\n"
     ]
    },
    {
     "name": "stderr",
     "output_type": "stream",
     "text": [
      " 33%|███▎      | 1574/4800 [00:13<00:27, 119.23it/s]"
     ]
    },
    {
     "name": "stdout",
     "output_type": "stream",
     "text": [
      "25-07-20 02:18:39.690 pyfstat.utils.sft INFO    : Loading 1 SFTs from H1...\n",
      "25-07-20 02:18:39.698 pyfstat.utils.sft INFO    : Loading 1 SFTs from H1...\n",
      "25-07-20 02:18:39.706 pyfstat.utils.sft INFO    : Loading 1 SFTs from H1...\n",
      "25-07-20 02:18:39.714 pyfstat.utils.sft INFO    : Loading 1 SFTs from H1...\n",
      "25-07-20 02:18:39.723 pyfstat.utils.sft INFO    : Loading 1 SFTs from H1...\n",
      "25-07-20 02:18:39.731 pyfstat.utils.sft INFO    : Loading 1 SFTs from H1...\n",
      "25-07-20 02:18:39.740 pyfstat.utils.sft INFO    : Loading 1 SFTs from H1...\n",
      "25-07-20 02:18:39.749 pyfstat.utils.sft INFO    : Loading 1 SFTs from H1...\n",
      "25-07-20 02:18:39.757 pyfstat.utils.sft INFO    : Loading 1 SFTs from H1...\n",
      "25-07-20 02:18:39.766 pyfstat.utils.sft INFO    : Loading 1 SFTs from H1...\n",
      "25-07-20 02:18:39.774 pyfstat.utils.sft INFO    : Loading 1 SFTs from H1...\n",
      "25-07-20 02:18:39.783 pyfstat.utils.sft INFO    : Loading 1 SFTs from H1...\n"
     ]
    },
    {
     "name": "stderr",
     "output_type": "stream",
     "text": [
      " 33%|███▎      | 1586/4800 [00:13<00:27, 117.14it/s]"
     ]
    },
    {
     "name": "stdout",
     "output_type": "stream",
     "text": [
      "25-07-20 02:18:39.797 pyfstat.utils.sft INFO    : Loading 1 SFTs from H1...\n",
      "25-07-20 02:18:39.806 pyfstat.utils.sft INFO    : Loading 1 SFTs from H1...\n",
      "25-07-20 02:18:39.814 pyfstat.utils.sft INFO    : Loading 1 SFTs from H1...\n",
      "25-07-20 02:18:39.823 pyfstat.utils.sft INFO    : Loading 1 SFTs from H1...\n",
      "25-07-20 02:18:39.831 pyfstat.utils.sft INFO    : Loading 1 SFTs from H1...\n",
      "25-07-20 02:18:39.840 pyfstat.utils.sft INFO    : Loading 1 SFTs from H1...\n",
      "25-07-20 02:18:39.848 pyfstat.utils.sft INFO    : Loading 1 SFTs from H1...\n",
      "25-07-20 02:18:39.857 pyfstat.utils.sft INFO    : Loading 1 SFTs from H1...\n",
      "25-07-20 02:18:39.866 pyfstat.utils.sft INFO    : Loading 1 SFTs from H1...\n",
      "25-07-20 02:18:39.874 pyfstat.utils.sft INFO    : Loading 1 SFTs from H1...\n",
      "25-07-20 02:18:39.883 pyfstat.utils.sft INFO    : Loading 1 SFTs from H1...\n",
      "25-07-20 02:18:39.891 pyfstat.utils.sft INFO    : Loading 1 SFTs from H1...\n"
     ]
    },
    {
     "name": "stderr",
     "output_type": "stream",
     "text": [
      " 33%|███▎      | 1598/4800 [00:13<00:27, 116.76it/s]"
     ]
    },
    {
     "name": "stdout",
     "output_type": "stream",
     "text": [
      "25-07-20 02:18:39.901 pyfstat.utils.sft INFO    : Loading 1 SFTs from H1...\n",
      "25-07-20 02:18:39.909 pyfstat.utils.sft INFO    : Loading 1 SFTs from H1...\n",
      "25-07-20 02:18:39.917 pyfstat.utils.sft INFO    : Loading 1 SFTs from H1...\n",
      "25-07-20 02:18:39.926 pyfstat.utils.sft INFO    : Loading 1 SFTs from H1...\n",
      "25-07-20 02:18:39.934 pyfstat.utils.sft INFO    : Loading 1 SFTs from H1...\n",
      "25-07-20 02:18:39.943 pyfstat.utils.sft INFO    : Loading 1 SFTs from H1...\n",
      "25-07-20 02:18:39.951 pyfstat.utils.sft INFO    : Loading 1 SFTs from H1...\n",
      "25-07-20 02:18:39.959 pyfstat.utils.sft INFO    : Loading 1 SFTs from H1...\n",
      "25-07-20 02:18:39.968 pyfstat.utils.sft INFO    : Loading 1 SFTs from H1...\n",
      "25-07-20 02:18:39.977 pyfstat.utils.sft INFO    : Loading 1 SFTs from H1...\n",
      "25-07-20 02:18:39.985 pyfstat.utils.sft INFO    : Loading 1 SFTs from H1...\n",
      "25-07-20 02:18:39.993 pyfstat.utils.sft INFO    : Loading 1 SFTs from H1...\n"
     ]
    },
    {
     "name": "stderr",
     "output_type": "stream",
     "text": [
      " 34%|███▎      | 1610/4800 [00:13<00:27, 117.13it/s]"
     ]
    },
    {
     "name": "stdout",
     "output_type": "stream",
     "text": [
      "25-07-20 02:18:40.002 pyfstat.utils.sft INFO    : Loading 1 SFTs from H1...\n",
      "25-07-20 02:18:40.010 pyfstat.utils.sft INFO    : Loading 1 SFTs from H1...\n",
      "25-07-20 02:18:40.019 pyfstat.utils.sft INFO    : Loading 1 SFTs from H1...\n",
      "25-07-20 02:18:40.027 pyfstat.utils.sft INFO    : Loading 1 SFTs from H1...\n",
      "25-07-20 02:18:40.036 pyfstat.utils.sft INFO    : Loading 1 SFTs from H1...\n",
      "25-07-20 02:18:40.044 pyfstat.utils.sft INFO    : Loading 1 SFTs from H1...\n",
      "25-07-20 02:18:40.056 pyfstat.utils.sft INFO    : Loading 1 SFTs from H1...\n",
      "25-07-20 02:18:40.065 pyfstat.utils.sft INFO    : Loading 1 SFTs from H1...\n",
      "25-07-20 02:18:40.074 pyfstat.utils.sft INFO    : Loading 1 SFTs from H1...\n",
      "25-07-20 02:18:40.082 pyfstat.utils.sft INFO    : Loading 1 SFTs from H1...\n",
      "25-07-20 02:18:40.091 pyfstat.utils.sft INFO    : Loading 1 SFTs from H1...\n",
      "25-07-20 02:18:40.099 pyfstat.utils.sft INFO    : Loading 1 SFTs from H1...\n"
     ]
    },
    {
     "name": "stderr",
     "output_type": "stream",
     "text": [
      " 34%|███▍      | 1622/4800 [00:13<00:27, 115.82it/s]"
     ]
    },
    {
     "name": "stdout",
     "output_type": "stream",
     "text": [
      "25-07-20 02:18:40.108 pyfstat.utils.sft INFO    : Loading 1 SFTs from H1...\n",
      "25-07-20 02:18:40.117 pyfstat.utils.sft INFO    : Loading 1 SFTs from H1...\n",
      "25-07-20 02:18:40.126 pyfstat.utils.sft INFO    : Loading 1 SFTs from H1...\n",
      "25-07-20 02:18:40.135 pyfstat.utils.sft INFO    : Loading 1 SFTs from H1...\n",
      "25-07-20 02:18:40.143 pyfstat.utils.sft INFO    : Loading 1 SFTs from H1...\n",
      "25-07-20 02:18:40.151 pyfstat.utils.sft INFO    : Loading 1 SFTs from H1...\n",
      "25-07-20 02:18:40.160 pyfstat.utils.sft INFO    : Loading 1 SFTs from H1...\n",
      "25-07-20 02:18:40.169 pyfstat.utils.sft INFO    : Loading 1 SFTs from H1...\n",
      "25-07-20 02:18:40.178 pyfstat.utils.sft INFO    : Loading 1 SFTs from H1...\n",
      "25-07-20 02:18:40.187 pyfstat.utils.sft INFO    : Loading 1 SFTs from H1...\n",
      "25-07-20 02:18:40.195 pyfstat.utils.sft INFO    : Loading 1 SFTs from H1...\n",
      "25-07-20 02:18:40.204 pyfstat.utils.sft INFO    : Loading 1 SFTs from H1...\n"
     ]
    },
    {
     "name": "stderr",
     "output_type": "stream",
     "text": [
      " 34%|███▍      | 1634/4800 [00:13<00:27, 115.53it/s]"
     ]
    },
    {
     "name": "stdout",
     "output_type": "stream",
     "text": [
      "25-07-20 02:18:40.213 pyfstat.utils.sft INFO    : Loading 1 SFTs from H1...\n",
      "25-07-20 02:18:40.222 pyfstat.utils.sft INFO    : Loading 1 SFTs from H1...\n",
      "25-07-20 02:18:40.230 pyfstat.utils.sft INFO    : Loading 1 SFTs from H1...\n",
      "25-07-20 02:18:40.239 pyfstat.utils.sft INFO    : Loading 1 SFTs from H1...\n",
      "25-07-20 02:18:40.247 pyfstat.utils.sft INFO    : Loading 1 SFTs from H1...\n",
      "25-07-20 02:18:40.255 pyfstat.utils.sft INFO    : Loading 1 SFTs from H1...\n",
      "25-07-20 02:18:40.264 pyfstat.utils.sft INFO    : Loading 1 SFTs from H1...\n",
      "25-07-20 02:18:40.273 pyfstat.utils.sft INFO    : Loading 1 SFTs from H1...\n",
      "25-07-20 02:18:40.282 pyfstat.utils.sft INFO    : Loading 1 SFTs from H1...\n",
      "25-07-20 02:18:40.292 pyfstat.utils.sft INFO    : Loading 1 SFTs from H1...\n",
      "25-07-20 02:18:40.299 pyfstat.utils.sft INFO    : Loading 1 SFTs from H1...\n",
      "25-07-20 02:18:40.308 pyfstat.utils.sft INFO    : Loading 1 SFTs from H1...\n"
     ]
    },
    {
     "name": "stderr",
     "output_type": "stream",
     "text": [
      " 34%|███▍      | 1646/4800 [00:14<00:27, 115.52it/s]"
     ]
    },
    {
     "name": "stdout",
     "output_type": "stream",
     "text": [
      "25-07-20 02:18:40.317 pyfstat.utils.sft INFO    : Loading 1 SFTs from H1...\n",
      "25-07-20 02:18:40.325 pyfstat.utils.sft INFO    : Loading 1 SFTs from H1...\n",
      "25-07-20 02:18:40.333 pyfstat.utils.sft INFO    : Loading 1 SFTs from H1...\n",
      "25-07-20 02:18:40.341 pyfstat.utils.sft INFO    : Loading 1 SFTs from H1...\n",
      "25-07-20 02:18:40.349 pyfstat.utils.sft INFO    : Loading 1 SFTs from H1...\n",
      "25-07-20 02:18:40.358 pyfstat.utils.sft INFO    : Loading 1 SFTs from H1...\n",
      "25-07-20 02:18:40.366 pyfstat.utils.sft INFO    : Loading 1 SFTs from H1...\n",
      "25-07-20 02:18:40.375 pyfstat.utils.sft INFO    : Loading 1 SFTs from H1...\n",
      "25-07-20 02:18:40.384 pyfstat.utils.sft INFO    : Loading 1 SFTs from H1...\n",
      "25-07-20 02:18:40.393 pyfstat.utils.sft INFO    : Loading 1 SFTs from H1...\n",
      "25-07-20 02:18:40.402 pyfstat.utils.sft INFO    : Loading 1 SFTs from H1...\n",
      "25-07-20 02:18:40.411 pyfstat.utils.sft INFO    : Loading 1 SFTs from H1...\n"
     ]
    },
    {
     "name": "stderr",
     "output_type": "stream",
     "text": [
      " 35%|███▍      | 1658/4800 [00:14<00:27, 115.73it/s]"
     ]
    },
    {
     "name": "stdout",
     "output_type": "stream",
     "text": [
      "25-07-20 02:18:40.420 pyfstat.utils.sft INFO    : Loading 1 SFTs from H1...\n",
      "25-07-20 02:18:40.428 pyfstat.utils.sft INFO    : Loading 1 SFTs from H1...\n",
      "25-07-20 02:18:40.437 pyfstat.utils.sft INFO    : Loading 1 SFTs from H1...\n",
      "25-07-20 02:18:40.446 pyfstat.utils.sft INFO    : Loading 1 SFTs from H1...\n",
      "25-07-20 02:18:40.454 pyfstat.utils.sft INFO    : Loading 1 SFTs from H1...\n",
      "25-07-20 02:18:40.463 pyfstat.utils.sft INFO    : Loading 1 SFTs from H1...\n",
      "25-07-20 02:18:40.471 pyfstat.utils.sft INFO    : Loading 1 SFTs from H1...\n",
      "25-07-20 02:18:40.481 pyfstat.utils.sft INFO    : Loading 1 SFTs from H1...\n",
      "25-07-20 02:18:40.489 pyfstat.utils.sft INFO    : Loading 1 SFTs from H1...\n",
      "25-07-20 02:18:40.498 pyfstat.utils.sft INFO    : Loading 1 SFTs from H1...\n",
      "25-07-20 02:18:40.507 pyfstat.utils.sft INFO    : Loading 1 SFTs from H1...\n",
      "25-07-20 02:18:40.516 pyfstat.utils.sft INFO    : Loading 1 SFTs from H1...\n"
     ]
    },
    {
     "name": "stderr",
     "output_type": "stream",
     "text": [
      " 35%|███▍      | 1670/4800 [00:14<00:27, 115.25it/s]"
     ]
    },
    {
     "name": "stdout",
     "output_type": "stream",
     "text": [
      "25-07-20 02:18:40.525 pyfstat.utils.sft INFO    : Loading 1 SFTs from H1...\n",
      "25-07-20 02:18:40.534 pyfstat.utils.sft INFO    : Loading 1 SFTs from H1...\n",
      "25-07-20 02:18:40.542 pyfstat.utils.sft INFO    : Loading 1 SFTs from H1...\n",
      "25-07-20 02:18:40.551 pyfstat.utils.sft INFO    : Loading 1 SFTs from H1...\n",
      "25-07-20 02:18:40.559 pyfstat.utils.sft INFO    : Loading 1 SFTs from H1...\n",
      "25-07-20 02:18:40.568 pyfstat.utils.sft INFO    : Loading 1 SFTs from H1...\n",
      "25-07-20 02:18:40.576 pyfstat.utils.sft INFO    : Loading 1 SFTs from H1...\n",
      "25-07-20 02:18:40.585 pyfstat.utils.sft INFO    : Loading 1 SFTs from H1...\n",
      "25-07-20 02:18:40.593 pyfstat.utils.sft INFO    : Loading 1 SFTs from H1...\n",
      "25-07-20 02:18:40.602 pyfstat.utils.sft INFO    : Loading 1 SFTs from H1...\n",
      "25-07-20 02:18:40.611 pyfstat.utils.sft INFO    : Loading 1 SFTs from H1...\n",
      "25-07-20 02:18:40.620 pyfstat.utils.sft INFO    : Loading 1 SFTs from H1...\n"
     ]
    },
    {
     "name": "stderr",
     "output_type": "stream",
     "text": [
      " 35%|███▌      | 1682/4800 [00:14<00:27, 115.20it/s]"
     ]
    },
    {
     "name": "stdout",
     "output_type": "stream",
     "text": [
      "25-07-20 02:18:40.630 pyfstat.utils.sft INFO    : Loading 1 SFTs from H1...\n",
      "25-07-20 02:18:40.638 pyfstat.utils.sft INFO    : Loading 1 SFTs from H1...\n",
      "25-07-20 02:18:40.646 pyfstat.utils.sft INFO    : Loading 1 SFTs from H1...\n",
      "25-07-20 02:18:40.655 pyfstat.utils.sft INFO    : Loading 1 SFTs from H1...\n",
      "25-07-20 02:18:40.663 pyfstat.utils.sft INFO    : Loading 1 SFTs from H1...\n",
      "25-07-20 02:18:40.672 pyfstat.utils.sft INFO    : Loading 1 SFTs from H1...\n",
      "25-07-20 02:18:40.680 pyfstat.utils.sft INFO    : Loading 1 SFTs from H1...\n",
      "25-07-20 02:18:40.688 pyfstat.utils.sft INFO    : Loading 1 SFTs from H1...\n",
      "25-07-20 02:18:40.696 pyfstat.utils.sft INFO    : Loading 1 SFTs from H1...\n",
      "25-07-20 02:18:40.705 pyfstat.utils.sft INFO    : Loading 1 SFTs from H1...\n",
      "25-07-20 02:18:40.713 pyfstat.utils.sft INFO    : Loading 1 SFTs from H1...\n",
      "25-07-20 02:18:40.722 pyfstat.utils.sft INFO    : Loading 1 SFTs from H1...\n"
     ]
    },
    {
     "name": "stderr",
     "output_type": "stream",
     "text": [
      " 35%|███▌      | 1694/4800 [00:14<00:27, 114.05it/s]"
     ]
    },
    {
     "name": "stdout",
     "output_type": "stream",
     "text": [
      "25-07-20 02:18:40.737 pyfstat.utils.sft INFO    : Loading 1 SFTs from H1...\n",
      "25-07-20 02:18:40.746 pyfstat.utils.sft INFO    : Loading 1 SFTs from H1...\n",
      "25-07-20 02:18:40.754 pyfstat.utils.sft INFO    : Loading 1 SFTs from H1...\n",
      "25-07-20 02:18:40.762 pyfstat.utils.sft INFO    : Loading 1 SFTs from H1...\n",
      "25-07-20 02:18:40.770 pyfstat.utils.sft INFO    : Loading 1 SFTs from H1...\n",
      "25-07-20 02:18:40.778 pyfstat.utils.sft INFO    : Loading 1 SFTs from H1...\n",
      "25-07-20 02:18:40.786 pyfstat.utils.sft INFO    : Loading 1 SFTs from H1...\n",
      "25-07-20 02:18:40.795 pyfstat.utils.sft INFO    : Loading 1 SFTs from H1...\n",
      "25-07-20 02:18:40.803 pyfstat.utils.sft INFO    : Loading 1 SFTs from H1...\n",
      "25-07-20 02:18:40.811 pyfstat.utils.sft INFO    : Loading 1 SFTs from H1...\n",
      "25-07-20 02:18:40.819 pyfstat.utils.sft INFO    : Loading 1 SFTs from H1...\n",
      "25-07-20 02:18:40.827 pyfstat.utils.sft INFO    : Loading 1 SFTs from H1...\n",
      "25-07-20 02:18:40.836 pyfstat.utils.sft INFO    : Loading 1 SFTs from H1...\n"
     ]
    },
    {
     "name": "stderr",
     "output_type": "stream",
     "text": [
      " 36%|███▌      | 1707/4800 [00:14<00:26, 115.99it/s]"
     ]
    },
    {
     "name": "stdout",
     "output_type": "stream",
     "text": [
      "25-07-20 02:18:40.845 pyfstat.utils.sft INFO    : Loading 1 SFTs from H1...\n",
      "25-07-20 02:18:40.855 pyfstat.utils.sft INFO    : Loading 1 SFTs from H1...\n",
      "25-07-20 02:18:40.864 pyfstat.utils.sft INFO    : Loading 1 SFTs from H1...\n",
      "25-07-20 02:18:40.872 pyfstat.utils.sft INFO    : Loading 1 SFTs from H1...\n",
      "25-07-20 02:18:40.881 pyfstat.utils.sft INFO    : Loading 1 SFTs from H1...\n",
      "25-07-20 02:18:40.890 pyfstat.utils.sft INFO    : Loading 1 SFTs from H1...\n",
      "25-07-20 02:18:40.898 pyfstat.utils.sft INFO    : Loading 1 SFTs from H1...\n",
      "25-07-20 02:18:40.907 pyfstat.utils.sft INFO    : Loading 1 SFTs from H1...\n",
      "25-07-20 02:18:40.916 pyfstat.utils.sft INFO    : Loading 1 SFTs from H1...\n",
      "25-07-20 02:18:40.925 pyfstat.utils.sft INFO    : Loading 1 SFTs from H1...\n",
      "25-07-20 02:18:40.933 pyfstat.utils.sft INFO    : Loading 1 SFTs from H1...\n",
      "25-07-20 02:18:40.942 pyfstat.utils.sft INFO    : Loading 1 SFTs from H1...\n"
     ]
    },
    {
     "name": "stderr",
     "output_type": "stream",
     "text": [
      " 36%|███▌      | 1719/4800 [00:14<00:26, 115.12it/s]"
     ]
    },
    {
     "name": "stdout",
     "output_type": "stream",
     "text": [
      "25-07-20 02:18:40.951 pyfstat.utils.sft INFO    : Loading 1 SFTs from H1...\n",
      "25-07-20 02:18:40.960 pyfstat.utils.sft INFO    : Loading 1 SFTs from H1...\n",
      "25-07-20 02:18:40.969 pyfstat.utils.sft INFO    : Loading 1 SFTs from H1...\n",
      "25-07-20 02:18:40.977 pyfstat.utils.sft INFO    : Loading 1 SFTs from H1...\n",
      "25-07-20 02:18:40.986 pyfstat.utils.sft INFO    : Loading 1 SFTs from H1...\n",
      "25-07-20 02:18:40.994 pyfstat.utils.sft INFO    : Loading 1 SFTs from H1...\n",
      "25-07-20 02:18:41.002 pyfstat.utils.sft INFO    : Loading 1 SFTs from H1...\n",
      "25-07-20 02:18:41.010 pyfstat.utils.sft INFO    : Loading 1 SFTs from H1...\n",
      "25-07-20 02:18:41.018 pyfstat.utils.sft INFO    : Loading 1 SFTs from H1...\n",
      "25-07-20 02:18:41.027 pyfstat.utils.sft INFO    : Loading 1 SFTs from H1...\n",
      "25-07-20 02:18:41.035 pyfstat.utils.sft INFO    : Loading 1 SFTs from H1...\n",
      "25-07-20 02:18:41.043 pyfstat.utils.sft INFO    : Loading 1 SFTs from H1...\n"
     ]
    },
    {
     "name": "stderr",
     "output_type": "stream",
     "text": [
      " 36%|███▌      | 1731/4800 [00:14<00:26, 116.19it/s]"
     ]
    },
    {
     "name": "stdout",
     "output_type": "stream",
     "text": [
      "25-07-20 02:18:41.052 pyfstat.utils.sft INFO    : Loading 1 SFTs from H1...\n",
      "25-07-20 02:18:41.061 pyfstat.utils.sft INFO    : Loading 1 SFTs from H1...\n",
      "25-07-20 02:18:41.070 pyfstat.utils.sft INFO    : Loading 1 SFTs from H1...\n",
      "25-07-20 02:18:41.078 pyfstat.utils.sft INFO    : Loading 1 SFTs from H1...\n",
      "25-07-20 02:18:41.086 pyfstat.utils.sft INFO    : Loading 1 SFTs from H1...\n",
      "25-07-20 02:18:41.094 pyfstat.utils.sft INFO    : Loading 1 SFTs from H1...\n",
      "25-07-20 02:18:41.102 pyfstat.utils.sft INFO    : Loading 1 SFTs from H1...\n",
      "25-07-20 02:18:41.110 pyfstat.utils.sft INFO    : Loading 1 SFTs from H1...\n",
      "25-07-20 02:18:41.119 pyfstat.utils.sft INFO    : Loading 1 SFTs from H1...\n",
      "25-07-20 02:18:41.126 pyfstat.utils.sft INFO    : Loading 1 SFTs from H1...\n",
      "25-07-20 02:18:41.134 pyfstat.utils.sft INFO    : Loading 1 SFTs from H1...\n",
      "25-07-20 02:18:41.143 pyfstat.utils.sft INFO    : Loading 1 SFTs from H1...\n",
      "25-07-20 02:18:41.151 pyfstat.utils.sft INFO    : Loading 1 SFTs from H1...\n"
     ]
    },
    {
     "name": "stderr",
     "output_type": "stream",
     "text": [
      " 36%|███▋      | 1744/4800 [00:14<00:25, 117.56it/s]"
     ]
    },
    {
     "name": "stdout",
     "output_type": "stream",
     "text": [
      "25-07-20 02:18:41.160 pyfstat.utils.sft INFO    : Loading 1 SFTs from H1...\n",
      "25-07-20 02:18:41.169 pyfstat.utils.sft INFO    : Loading 1 SFTs from H1...\n",
      "25-07-20 02:18:41.177 pyfstat.utils.sft INFO    : Loading 1 SFTs from H1...\n",
      "25-07-20 02:18:41.186 pyfstat.utils.sft INFO    : Loading 1 SFTs from H1...\n",
      "25-07-20 02:18:41.194 pyfstat.utils.sft INFO    : Loading 1 SFTs from H1...\n",
      "25-07-20 02:18:41.202 pyfstat.utils.sft INFO    : Loading 1 SFTs from H1...\n",
      "25-07-20 02:18:41.211 pyfstat.utils.sft INFO    : Loading 1 SFTs from H1...\n",
      "25-07-20 02:18:41.219 pyfstat.utils.sft INFO    : Loading 1 SFTs from H1...\n",
      "25-07-20 02:18:41.228 pyfstat.utils.sft INFO    : Loading 1 SFTs from H1...\n",
      "25-07-20 02:18:41.236 pyfstat.utils.sft INFO    : Loading 1 SFTs from H1...\n",
      "25-07-20 02:18:41.245 pyfstat.utils.sft INFO    : Loading 1 SFTs from H1...\n",
      "25-07-20 02:18:41.254 pyfstat.utils.sft INFO    : Loading 1 SFTs from H1...\n"
     ]
    },
    {
     "name": "stderr",
     "output_type": "stream",
     "text": [
      " 37%|███▋      | 1756/4800 [00:14<00:25, 117.21it/s]"
     ]
    },
    {
     "name": "stdout",
     "output_type": "stream",
     "text": [
      "25-07-20 02:18:41.263 pyfstat.utils.sft INFO    : Loading 1 SFTs from H1...\n",
      "25-07-20 02:18:41.272 pyfstat.utils.sft INFO    : Loading 1 SFTs from H1...\n",
      "25-07-20 02:18:41.280 pyfstat.utils.sft INFO    : Loading 1 SFTs from H1...\n",
      "25-07-20 02:18:41.289 pyfstat.utils.sft INFO    : Loading 1 SFTs from H1...\n",
      "25-07-20 02:18:41.297 pyfstat.utils.sft INFO    : Loading 1 SFTs from H1...\n",
      "25-07-20 02:18:41.305 pyfstat.utils.sft INFO    : Loading 1 SFTs from H1...\n",
      "25-07-20 02:18:41.313 pyfstat.utils.sft INFO    : Loading 1 SFTs from H1...\n",
      "25-07-20 02:18:41.321 pyfstat.utils.sft INFO    : Loading 1 SFTs from H1...\n",
      "25-07-20 02:18:41.329 pyfstat.utils.sft INFO    : Loading 1 SFTs from H1...\n",
      "25-07-20 02:18:41.337 pyfstat.utils.sft INFO    : Loading 1 SFTs from H1...\n",
      "25-07-20 02:18:41.345 pyfstat.utils.sft INFO    : Loading 1 SFTs from H1...\n",
      "25-07-20 02:18:41.354 pyfstat.utils.sft INFO    : Loading 1 SFTs from H1...\n",
      "25-07-20 02:18:41.362 pyfstat.utils.sft INFO    : Loading 1 SFTs from H1...\n"
     ]
    },
    {
     "name": "stderr",
     "output_type": "stream",
     "text": [
      " 37%|███▋      | 1769/4800 [00:15<00:25, 118.19it/s]"
     ]
    },
    {
     "name": "stdout",
     "output_type": "stream",
     "text": [
      "25-07-20 02:18:41.371 pyfstat.utils.sft INFO    : Loading 1 SFTs from H1...\n",
      "25-07-20 02:18:41.380 pyfstat.utils.sft INFO    : Loading 1 SFTs from H1...\n",
      "25-07-20 02:18:41.388 pyfstat.utils.sft INFO    : Loading 1 SFTs from H1...\n",
      "25-07-20 02:18:41.397 pyfstat.utils.sft INFO    : Loading 1 SFTs from H1...\n",
      "25-07-20 02:18:41.405 pyfstat.utils.sft INFO    : Loading 1 SFTs from H1...\n",
      "25-07-20 02:18:41.414 pyfstat.utils.sft INFO    : Loading 1 SFTs from H1...\n",
      "25-07-20 02:18:41.422 pyfstat.utils.sft INFO    : Loading 1 SFTs from H1...\n",
      "25-07-20 02:18:41.430 pyfstat.utils.sft INFO    : Loading 1 SFTs from H1...\n",
      "25-07-20 02:18:41.438 pyfstat.utils.sft INFO    : Loading 1 SFTs from H1...\n",
      "25-07-20 02:18:41.446 pyfstat.utils.sft INFO    : Loading 1 SFTs from H1...\n",
      "25-07-20 02:18:41.454 pyfstat.utils.sft INFO    : Loading 1 SFTs from H1...\n",
      "25-07-20 02:18:41.462 pyfstat.utils.sft INFO    : Loading 1 SFTs from H1...\n"
     ]
    },
    {
     "name": "stderr",
     "output_type": "stream",
     "text": [
      " 37%|███▋      | 1781/4800 [00:15<00:25, 118.55it/s]"
     ]
    },
    {
     "name": "stdout",
     "output_type": "stream",
     "text": [
      "25-07-20 02:18:41.471 pyfstat.utils.sft INFO    : Loading 1 SFTs from H1...\n",
      "25-07-20 02:18:41.480 pyfstat.utils.sft INFO    : Loading 1 SFTs from H1...\n",
      "25-07-20 02:18:41.488 pyfstat.utils.sft INFO    : Loading 1 SFTs from H1...\n",
      "25-07-20 02:18:41.497 pyfstat.utils.sft INFO    : Loading 1 SFTs from H1...\n",
      "25-07-20 02:18:41.506 pyfstat.utils.sft INFO    : Loading 1 SFTs from H1...\n",
      "25-07-20 02:18:41.515 pyfstat.utils.sft INFO    : Loading 1 SFTs from H1...\n",
      "25-07-20 02:18:41.523 pyfstat.utils.sft INFO    : Loading 1 SFTs from H1...\n",
      "25-07-20 02:18:41.532 pyfstat.utils.sft INFO    : Loading 1 SFTs from H1...\n",
      "25-07-20 02:18:41.541 pyfstat.utils.sft INFO    : Loading 1 SFTs from H1...\n",
      "25-07-20 02:18:41.549 pyfstat.utils.sft INFO    : Loading 1 SFTs from H1...\n",
      "25-07-20 02:18:41.557 pyfstat.utils.sft INFO    : Loading 1 SFTs from H1...\n",
      "25-07-20 02:18:41.566 pyfstat.utils.sft INFO    : Loading 1 SFTs from H1...\n"
     ]
    },
    {
     "name": "stderr",
     "output_type": "stream",
     "text": [
      " 37%|███▋      | 1793/4800 [00:15<00:25, 117.85it/s]"
     ]
    },
    {
     "name": "stdout",
     "output_type": "stream",
     "text": [
      "25-07-20 02:18:41.575 pyfstat.utils.sft INFO    : Loading 1 SFTs from H1...\n",
      "25-07-20 02:18:41.584 pyfstat.utils.sft INFO    : Loading 1 SFTs from H1...\n",
      "25-07-20 02:18:41.593 pyfstat.utils.sft INFO    : Loading 1 SFTs from H1...\n",
      "25-07-20 02:18:41.601 pyfstat.utils.sft INFO    : Loading 1 SFTs from H1...\n",
      "25-07-20 02:18:41.612 pyfstat.utils.sft INFO    : Loading 1 SFTs from H1...\n",
      "25-07-20 02:18:41.623 pyfstat.utils.sft INFO    : Loading 1 SFTs from H1...\n",
      "25-07-20 02:18:41.631 pyfstat.utils.sft INFO    : Loading 1 SFTs from H1...\n",
      "25-07-20 02:18:41.640 pyfstat.utils.sft INFO    : Loading 1 SFTs from H1...\n",
      "25-07-20 02:18:41.649 pyfstat.utils.sft INFO    : Loading 1 SFTs from H1...\n",
      "25-07-20 02:18:41.657 pyfstat.utils.sft INFO    : Loading 1 SFTs from H1...\n",
      "25-07-20 02:18:41.665 pyfstat.utils.sft INFO    : Loading 1 SFTs from H1...\n",
      "25-07-20 02:18:41.673 pyfstat.utils.sft INFO    : Loading 1 SFTs from H1...\n"
     ]
    },
    {
     "name": "stderr",
     "output_type": "stream",
     "text": [
      " 38%|███▊      | 1805/4800 [00:15<00:25, 115.92it/s]"
     ]
    },
    {
     "name": "stdout",
     "output_type": "stream",
     "text": [
      "25-07-20 02:18:41.682 pyfstat.utils.sft INFO    : Loading 1 SFTs from H1...\n",
      "25-07-20 02:18:41.691 pyfstat.utils.sft INFO    : Loading 1 SFTs from H1...\n",
      "25-07-20 02:18:41.701 pyfstat.utils.sft INFO    : Loading 1 SFTs from H1...\n",
      "25-07-20 02:18:41.709 pyfstat.utils.sft INFO    : Loading 1 SFTs from H1...\n",
      "25-07-20 02:18:41.718 pyfstat.utils.sft INFO    : Loading 1 SFTs from H1...\n",
      "25-07-20 02:18:41.726 pyfstat.utils.sft INFO    : Loading 1 SFTs from H1...\n",
      "25-07-20 02:18:41.735 pyfstat.utils.sft INFO    : Loading 1 SFTs from H1...\n",
      "25-07-20 02:18:41.743 pyfstat.utils.sft INFO    : Loading 1 SFTs from H1...\n",
      "25-07-20 02:18:41.752 pyfstat.utils.sft INFO    : Loading 1 SFTs from H1...\n",
      "25-07-20 02:18:41.760 pyfstat.utils.sft INFO    : Loading 1 SFTs from H1...\n",
      "25-07-20 02:18:41.769 pyfstat.utils.sft INFO    : Loading 1 SFTs from H1...\n",
      "25-07-20 02:18:41.777 pyfstat.utils.sft INFO    : Loading 1 SFTs from H1...\n"
     ]
    },
    {
     "name": "stderr",
     "output_type": "stream",
     "text": [
      " 38%|███▊      | 1817/4800 [00:15<00:25, 115.84it/s]"
     ]
    },
    {
     "name": "stdout",
     "output_type": "stream",
     "text": [
      "25-07-20 02:18:41.786 pyfstat.utils.sft INFO    : Loading 1 SFTs from H1...\n",
      "25-07-20 02:18:41.794 pyfstat.utils.sft INFO    : Loading 1 SFTs from H1...\n",
      "25-07-20 02:18:41.803 pyfstat.utils.sft INFO    : Loading 1 SFTs from H1...\n",
      "25-07-20 02:18:41.811 pyfstat.utils.sft INFO    : Loading 1 SFTs from H1...\n",
      "25-07-20 02:18:41.819 pyfstat.utils.sft INFO    : Loading 1 SFTs from H1...\n",
      "25-07-20 02:18:41.827 pyfstat.utils.sft INFO    : Loading 1 SFTs from H1...\n",
      "25-07-20 02:18:41.835 pyfstat.utils.sft INFO    : Loading 1 SFTs from H1...\n",
      "25-07-20 02:18:41.843 pyfstat.utils.sft INFO    : Loading 1 SFTs from H1...\n",
      "25-07-20 02:18:41.852 pyfstat.utils.sft INFO    : Loading 1 SFTs from H1...\n",
      "25-07-20 02:18:41.860 pyfstat.utils.sft INFO    : Loading 1 SFTs from H1...\n",
      "25-07-20 02:18:41.868 pyfstat.utils.sft INFO    : Loading 1 SFTs from H1...\n",
      "25-07-20 02:18:41.876 pyfstat.utils.sft INFO    : Loading 1 SFTs from H1...\n",
      "25-07-20 02:18:41.885 pyfstat.utils.sft INFO    : Loading 1 SFTs from H1...\n"
     ]
    },
    {
     "name": "stderr",
     "output_type": "stream",
     "text": [
      " 38%|███▊      | 1830/4800 [00:15<00:25, 117.44it/s]"
     ]
    },
    {
     "name": "stdout",
     "output_type": "stream",
     "text": [
      "25-07-20 02:18:41.893 pyfstat.utils.sft INFO    : Loading 1 SFTs from H1...\n",
      "25-07-20 02:18:41.902 pyfstat.utils.sft INFO    : Loading 1 SFTs from H1...\n",
      "25-07-20 02:18:41.911 pyfstat.utils.sft INFO    : Loading 1 SFTs from H1...\n",
      "25-07-20 02:18:41.920 pyfstat.utils.sft INFO    : Loading 1 SFTs from H1...\n",
      "25-07-20 02:18:41.927 pyfstat.utils.sft INFO    : Loading 1 SFTs from H1...\n",
      "25-07-20 02:18:41.935 pyfstat.utils.sft INFO    : Loading 1 SFTs from H1...\n",
      "25-07-20 02:18:41.944 pyfstat.utils.sft INFO    : Loading 1 SFTs from H1...\n",
      "25-07-20 02:18:41.952 pyfstat.utils.sft INFO    : Loading 1 SFTs from H1...\n",
      "25-07-20 02:18:41.960 pyfstat.utils.sft INFO    : Loading 1 SFTs from H1...\n",
      "25-07-20 02:18:41.968 pyfstat.utils.sft INFO    : Loading 1 SFTs from H1...\n",
      "25-07-20 02:18:41.976 pyfstat.utils.sft INFO    : Loading 1 SFTs from H1...\n",
      "25-07-20 02:18:41.984 pyfstat.utils.sft INFO    : Loading 1 SFTs from H1...\n",
      "25-07-20 02:18:41.993 pyfstat.utils.sft INFO    : Loading 1 SFTs from H1...\n"
     ]
    },
    {
     "name": "stderr",
     "output_type": "stream",
     "text": [
      " 38%|███▊      | 1843/4800 [00:15<00:24, 118.33it/s]"
     ]
    },
    {
     "name": "stdout",
     "output_type": "stream",
     "text": [
      "25-07-20 02:18:42.002 pyfstat.utils.sft INFO    : Loading 1 SFTs from H1...\n",
      "25-07-20 02:18:42.010 pyfstat.utils.sft INFO    : Loading 1 SFTs from H1...\n",
      "25-07-20 02:18:42.018 pyfstat.utils.sft INFO    : Loading 1 SFTs from H1...\n",
      "25-07-20 02:18:42.026 pyfstat.utils.sft INFO    : Loading 1 SFTs from H1...\n",
      "25-07-20 02:18:42.034 pyfstat.utils.sft INFO    : Loading 1 SFTs from H1...\n",
      "25-07-20 02:18:42.043 pyfstat.utils.sft INFO    : Loading 1 SFTs from H1...\n",
      "25-07-20 02:18:42.051 pyfstat.utils.sft INFO    : Loading 1 SFTs from H1...\n",
      "25-07-20 02:18:42.060 pyfstat.utils.sft INFO    : Loading 1 SFTs from H1...\n",
      "25-07-20 02:18:42.068 pyfstat.utils.sft INFO    : Loading 1 SFTs from H1...\n",
      "25-07-20 02:18:42.076 pyfstat.utils.sft INFO    : Loading 1 SFTs from H1...\n",
      "25-07-20 02:18:42.084 pyfstat.utils.sft INFO    : Loading 1 SFTs from H1...\n",
      "25-07-20 02:18:42.092 pyfstat.utils.sft INFO    : Loading 1 SFTs from H1...\n",
      "25-07-20 02:18:42.099 pyfstat.utils.sft INFO    : Loading 1 SFTs from H1...\n"
     ]
    },
    {
     "name": "stderr",
     "output_type": "stream",
     "text": [
      " 39%|███▊      | 1856/4800 [00:15<00:24, 119.48it/s]"
     ]
    },
    {
     "name": "stdout",
     "output_type": "stream",
     "text": [
      "25-07-20 02:18:42.108 pyfstat.utils.sft INFO    : Loading 1 SFTs from H1...\n",
      "25-07-20 02:18:42.115 pyfstat.utils.sft INFO    : Loading 1 SFTs from H1...\n",
      "25-07-20 02:18:42.123 pyfstat.utils.sft INFO    : Loading 1 SFTs from H1...\n",
      "25-07-20 02:18:42.131 pyfstat.utils.sft INFO    : Loading 1 SFTs from H1...\n",
      "25-07-20 02:18:42.139 pyfstat.utils.sft INFO    : Loading 1 SFTs from H1...\n",
      "25-07-20 02:18:42.147 pyfstat.utils.sft INFO    : Loading 1 SFTs from H1...\n",
      "25-07-20 02:18:42.156 pyfstat.utils.sft INFO    : Loading 1 SFTs from H1...\n",
      "25-07-20 02:18:42.165 pyfstat.utils.sft INFO    : Loading 1 SFTs from H1...\n",
      "25-07-20 02:18:42.174 pyfstat.utils.sft INFO    : Loading 1 SFTs from H1...\n",
      "25-07-20 02:18:42.182 pyfstat.utils.sft INFO    : Loading 1 SFTs from H1...\n",
      "25-07-20 02:18:42.190 pyfstat.utils.sft INFO    : Loading 1 SFTs from H1...\n",
      "25-07-20 02:18:42.199 pyfstat.utils.sft INFO    : Loading 1 SFTs from H1...\n",
      "25-07-20 02:18:42.207 pyfstat.utils.sft INFO    : Loading 1 SFTs from H1...\n"
     ]
    },
    {
     "name": "stderr",
     "output_type": "stream",
     "text": [
      " 39%|███▉      | 1869/4800 [00:15<00:24, 119.89it/s]"
     ]
    },
    {
     "name": "stdout",
     "output_type": "stream",
     "text": [
      "25-07-20 02:18:42.215 pyfstat.utils.sft INFO    : Loading 1 SFTs from H1...\n",
      "25-07-20 02:18:42.224 pyfstat.utils.sft INFO    : Loading 1 SFTs from H1...\n",
      "25-07-20 02:18:42.232 pyfstat.utils.sft INFO    : Loading 1 SFTs from H1...\n",
      "25-07-20 02:18:42.240 pyfstat.utils.sft INFO    : Loading 1 SFTs from H1...\n",
      "25-07-20 02:18:42.249 pyfstat.utils.sft INFO    : Loading 1 SFTs from H1...\n",
      "25-07-20 02:18:42.257 pyfstat.utils.sft INFO    : Loading 1 SFTs from H1...\n",
      "25-07-20 02:18:42.265 pyfstat.utils.sft INFO    : Loading 1 SFTs from H1...\n",
      "25-07-20 02:18:42.274 pyfstat.utils.sft INFO    : Loading 1 SFTs from H1...\n",
      "25-07-20 02:18:42.282 pyfstat.utils.sft INFO    : Loading 1 SFTs from H1...\n",
      "25-07-20 02:18:42.290 pyfstat.utils.sft INFO    : Loading 1 SFTs from H1...\n",
      "25-07-20 02:18:42.299 pyfstat.utils.sft INFO    : Loading 1 SFTs from H1...\n",
      "25-07-20 02:18:42.307 pyfstat.utils.sft INFO    : Loading 1 SFTs from H1...\n"
     ]
    },
    {
     "name": "stderr",
     "output_type": "stream",
     "text": [
      " 39%|███▉      | 1881/4800 [00:16<00:24, 119.68it/s]"
     ]
    },
    {
     "name": "stdout",
     "output_type": "stream",
     "text": [
      "25-07-20 02:18:42.316 pyfstat.utils.sft INFO    : Loading 1 SFTs from H1...\n",
      "25-07-20 02:18:42.325 pyfstat.utils.sft INFO    : Loading 1 SFTs from H1...\n",
      "25-07-20 02:18:42.333 pyfstat.utils.sft INFO    : Loading 1 SFTs from H1...\n",
      "25-07-20 02:18:42.342 pyfstat.utils.sft INFO    : Loading 1 SFTs from H1...\n",
      "25-07-20 02:18:42.351 pyfstat.utils.sft INFO    : Loading 1 SFTs from H1...\n",
      "25-07-20 02:18:42.360 pyfstat.utils.sft INFO    : Loading 1 SFTs from H1...\n",
      "25-07-20 02:18:42.369 pyfstat.utils.sft INFO    : Loading 1 SFTs from H1...\n",
      "25-07-20 02:18:42.377 pyfstat.utils.sft INFO    : Loading 1 SFTs from H1...\n",
      "25-07-20 02:18:42.386 pyfstat.utils.sft INFO    : Loading 1 SFTs from H1...\n",
      "25-07-20 02:18:42.395 pyfstat.utils.sft INFO    : Loading 1 SFTs from H1...\n",
      "25-07-20 02:18:42.404 pyfstat.utils.sft INFO    : Loading 1 SFTs from H1...\n",
      "25-07-20 02:18:42.412 pyfstat.utils.sft INFO    : Loading 1 SFTs from H1...\n"
     ]
    },
    {
     "name": "stderr",
     "output_type": "stream",
     "text": [
      " 39%|███▉      | 1893/4800 [00:16<00:24, 117.99it/s]"
     ]
    },
    {
     "name": "stdout",
     "output_type": "stream",
     "text": [
      "25-07-20 02:18:42.421 pyfstat.utils.sft INFO    : Loading 1 SFTs from H1...\n",
      "25-07-20 02:18:42.429 pyfstat.utils.sft INFO    : Loading 1 SFTs from H1...\n",
      "25-07-20 02:18:42.438 pyfstat.utils.sft INFO    : Loading 1 SFTs from H1...\n",
      "25-07-20 02:18:42.446 pyfstat.utils.sft INFO    : Loading 1 SFTs from H1...\n",
      "25-07-20 02:18:42.454 pyfstat.utils.sft INFO    : Loading 1 SFTs from H1...\n",
      "25-07-20 02:18:42.463 pyfstat.utils.sft INFO    : Loading 1 SFTs from H1...\n",
      "25-07-20 02:18:42.472 pyfstat.utils.sft INFO    : Loading 1 SFTs from H1...\n",
      "25-07-20 02:18:42.480 pyfstat.utils.sft INFO    : Loading 1 SFTs from H1...\n",
      "25-07-20 02:18:42.489 pyfstat.utils.sft INFO    : Loading 1 SFTs from H1...\n",
      "25-07-20 02:18:42.499 pyfstat.utils.sft INFO    : Loading 1 SFTs from H1...\n",
      "25-07-20 02:18:42.507 pyfstat.utils.sft INFO    : Loading 1 SFTs from H1...\n",
      "25-07-20 02:18:42.515 pyfstat.utils.sft INFO    : Loading 1 SFTs from H1...\n"
     ]
    },
    {
     "name": "stderr",
     "output_type": "stream",
     "text": [
      " 40%|███▉      | 1905/4800 [00:16<00:24, 117.61it/s]"
     ]
    },
    {
     "name": "stdout",
     "output_type": "stream",
     "text": [
      "25-07-20 02:18:42.524 pyfstat.utils.sft INFO    : Loading 1 SFTs from H1...\n",
      "25-07-20 02:18:42.534 pyfstat.utils.sft INFO    : Loading 1 SFTs from H1...\n",
      "25-07-20 02:18:42.542 pyfstat.utils.sft INFO    : Loading 1 SFTs from H1...\n",
      "25-07-20 02:18:42.551 pyfstat.utils.sft INFO    : Loading 1 SFTs from H1...\n",
      "25-07-20 02:18:42.559 pyfstat.utils.sft INFO    : Loading 1 SFTs from H1...\n",
      "25-07-20 02:18:42.568 pyfstat.utils.sft INFO    : Loading 1 SFTs from H1...\n",
      "25-07-20 02:18:42.576 pyfstat.utils.sft INFO    : Loading 1 SFTs from H1...\n",
      "25-07-20 02:18:42.584 pyfstat.utils.sft INFO    : Loading 1 SFTs from H1...\n",
      "25-07-20 02:18:42.593 pyfstat.utils.sft INFO    : Loading 1 SFTs from H1...\n",
      "25-07-20 02:18:42.601 pyfstat.utils.sft INFO    : Loading 1 SFTs from H1...\n",
      "25-07-20 02:18:42.610 pyfstat.utils.sft INFO    : Loading 1 SFTs from H1...\n",
      "25-07-20 02:18:42.619 pyfstat.utils.sft INFO    : Loading 1 SFTs from H1...\n"
     ]
    },
    {
     "name": "stderr",
     "output_type": "stream",
     "text": [
      " 40%|███▉      | 1917/4800 [00:16<00:24, 117.20it/s]"
     ]
    },
    {
     "name": "stdout",
     "output_type": "stream",
     "text": [
      "25-07-20 02:18:42.627 pyfstat.utils.sft INFO    : Loading 1 SFTs from H1...\n",
      "25-07-20 02:18:42.636 pyfstat.utils.sft INFO    : Loading 1 SFTs from H1...\n",
      "25-07-20 02:18:42.644 pyfstat.utils.sft INFO    : Loading 1 SFTs from H1...\n",
      "25-07-20 02:18:42.652 pyfstat.utils.sft INFO    : Loading 1 SFTs from H1...\n",
      "25-07-20 02:18:42.660 pyfstat.utils.sft INFO    : Loading 1 SFTs from H1...\n",
      "25-07-20 02:18:42.668 pyfstat.utils.sft INFO    : Loading 1 SFTs from H1...\n",
      "25-07-20 02:18:42.677 pyfstat.utils.sft INFO    : Loading 1 SFTs from H1...\n",
      "25-07-20 02:18:42.685 pyfstat.utils.sft INFO    : Loading 1 SFTs from H1...\n",
      "25-07-20 02:18:42.692 pyfstat.utils.sft INFO    : Loading 1 SFTs from H1...\n",
      "25-07-20 02:18:42.700 pyfstat.utils.sft INFO    : Loading 1 SFTs from H1...\n",
      "25-07-20 02:18:42.708 pyfstat.utils.sft INFO    : Loading 1 SFTs from H1...\n",
      "25-07-20 02:18:42.716 pyfstat.utils.sft INFO    : Loading 1 SFTs from H1...\n",
      "25-07-20 02:18:42.725 pyfstat.utils.sft INFO    : Loading 1 SFTs from H1...\n"
     ]
    },
    {
     "name": "stderr",
     "output_type": "stream",
     "text": [
      " 40%|████      | 1930/4800 [00:16<00:24, 118.78it/s]"
     ]
    },
    {
     "name": "stdout",
     "output_type": "stream",
     "text": [
      "25-07-20 02:18:42.733 pyfstat.utils.sft INFO    : Loading 1 SFTs from H1...\n",
      "25-07-20 02:18:42.742 pyfstat.utils.sft INFO    : Loading 1 SFTs from H1...\n",
      "25-07-20 02:18:42.750 pyfstat.utils.sft INFO    : Loading 1 SFTs from H1...\n",
      "25-07-20 02:18:42.758 pyfstat.utils.sft INFO    : Loading 1 SFTs from H1...\n",
      "25-07-20 02:18:42.766 pyfstat.utils.sft INFO    : Loading 1 SFTs from H1...\n",
      "25-07-20 02:18:42.774 pyfstat.utils.sft INFO    : Loading 1 SFTs from H1...\n",
      "25-07-20 02:18:42.782 pyfstat.utils.sft INFO    : Loading 1 SFTs from H1...\n",
      "25-07-20 02:18:42.790 pyfstat.utils.sft INFO    : Loading 1 SFTs from H1...\n",
      "25-07-20 02:18:42.798 pyfstat.utils.sft INFO    : Loading 1 SFTs from H1...\n",
      "25-07-20 02:18:42.806 pyfstat.utils.sft INFO    : Loading 1 SFTs from H1...\n",
      "25-07-20 02:18:42.814 pyfstat.utils.sft INFO    : Loading 1 SFTs from H1...\n",
      "25-07-20 02:18:42.822 pyfstat.utils.sft INFO    : Loading 1 SFTs from H1...\n",
      "25-07-20 02:18:42.831 pyfstat.utils.sft INFO    : Loading 1 SFTs from H1...\n"
     ]
    },
    {
     "name": "stderr",
     "output_type": "stream",
     "text": [
      " 40%|████      | 1943/4800 [00:16<00:23, 119.72it/s]"
     ]
    },
    {
     "name": "stdout",
     "output_type": "stream",
     "text": [
      "25-07-20 02:18:42.840 pyfstat.utils.sft INFO    : Loading 1 SFTs from H1...\n",
      "25-07-20 02:18:42.849 pyfstat.utils.sft INFO    : Loading 1 SFTs from H1...\n",
      "25-07-20 02:18:42.857 pyfstat.utils.sft INFO    : Loading 1 SFTs from H1...\n",
      "25-07-20 02:18:42.866 pyfstat.utils.sft INFO    : Loading 1 SFTs from H1...\n",
      "25-07-20 02:18:42.874 pyfstat.utils.sft INFO    : Loading 1 SFTs from H1...\n",
      "25-07-20 02:18:42.882 pyfstat.utils.sft INFO    : Loading 1 SFTs from H1...\n",
      "25-07-20 02:18:42.891 pyfstat.utils.sft INFO    : Loading 1 SFTs from H1...\n",
      "25-07-20 02:18:42.899 pyfstat.utils.sft INFO    : Loading 1 SFTs from H1...\n",
      "25-07-20 02:18:42.908 pyfstat.utils.sft INFO    : Loading 1 SFTs from H1...\n",
      "25-07-20 02:18:42.916 pyfstat.utils.sft INFO    : Loading 1 SFTs from H1...\n",
      "25-07-20 02:18:42.924 pyfstat.utils.sft INFO    : Loading 1 SFTs from H1...\n",
      "25-07-20 02:18:42.933 pyfstat.utils.sft INFO    : Loading 1 SFTs from H1...\n"
     ]
    },
    {
     "name": "stderr",
     "output_type": "stream",
     "text": [
      " 41%|████      | 1955/4800 [00:16<00:23, 119.09it/s]"
     ]
    },
    {
     "name": "stdout",
     "output_type": "stream",
     "text": [
      "25-07-20 02:18:42.943 pyfstat.utils.sft INFO    : Loading 1 SFTs from H1...\n",
      "25-07-20 02:18:42.951 pyfstat.utils.sft INFO    : Loading 1 SFTs from H1...\n",
      "25-07-20 02:18:42.959 pyfstat.utils.sft INFO    : Loading 1 SFTs from H1...\n",
      "25-07-20 02:18:42.968 pyfstat.utils.sft INFO    : Loading 1 SFTs from H1...\n",
      "25-07-20 02:18:42.976 pyfstat.utils.sft INFO    : Loading 1 SFTs from H1...\n",
      "25-07-20 02:18:42.984 pyfstat.utils.sft INFO    : Loading 1 SFTs from H1...\n",
      "25-07-20 02:18:42.992 pyfstat.utils.sft INFO    : Loading 1 SFTs from H1...\n",
      "25-07-20 02:18:43.000 pyfstat.utils.sft INFO    : Loading 1 SFTs from H1...\n",
      "25-07-20 02:18:43.009 pyfstat.utils.sft INFO    : Loading 1 SFTs from H1...\n",
      "25-07-20 02:18:43.017 pyfstat.utils.sft INFO    : Loading 1 SFTs from H1...\n",
      "25-07-20 02:18:43.025 pyfstat.utils.sft INFO    : Loading 1 SFTs from H1...\n",
      "25-07-20 02:18:43.033 pyfstat.utils.sft INFO    : Loading 1 SFTs from H1...\n",
      "25-07-20 02:18:43.042 pyfstat.utils.sft INFO    : Loading 1 SFTs from H1...\n"
     ]
    },
    {
     "name": "stderr",
     "output_type": "stream",
     "text": [
      " 41%|████      | 1968/4800 [00:16<00:23, 119.26it/s]"
     ]
    },
    {
     "name": "stdout",
     "output_type": "stream",
     "text": [
      "25-07-20 02:18:43.051 pyfstat.utils.sft INFO    : Loading 1 SFTs from H1...\n",
      "25-07-20 02:18:43.060 pyfstat.utils.sft INFO    : Loading 1 SFTs from H1...\n",
      "25-07-20 02:18:43.068 pyfstat.utils.sft INFO    : Loading 1 SFTs from H1...\n",
      "25-07-20 02:18:43.076 pyfstat.utils.sft INFO    : Loading 1 SFTs from H1...\n",
      "25-07-20 02:18:43.084 pyfstat.utils.sft INFO    : Loading 1 SFTs from H1...\n",
      "25-07-20 02:18:43.092 pyfstat.utils.sft INFO    : Loading 1 SFTs from H1...\n",
      "25-07-20 02:18:43.100 pyfstat.utils.sft INFO    : Loading 1 SFTs from H1...\n",
      "25-07-20 02:18:43.108 pyfstat.utils.sft INFO    : Loading 1 SFTs from H1...\n",
      "25-07-20 02:18:43.116 pyfstat.utils.sft INFO    : Loading 1 SFTs from H1...\n",
      "25-07-20 02:18:43.124 pyfstat.utils.sft INFO    : Loading 1 SFTs from H1...\n",
      "25-07-20 02:18:43.132 pyfstat.utils.sft INFO    : Loading 1 SFTs from H1...\n",
      "25-07-20 02:18:43.140 pyfstat.utils.sft INFO    : Loading 1 SFTs from H1...\n",
      "25-07-20 02:18:43.148 pyfstat.utils.sft INFO    : Loading 1 SFTs from H1...\n"
     ]
    },
    {
     "name": "stderr",
     "output_type": "stream",
     "text": [
      " 41%|████▏     | 1981/4800 [00:16<00:23, 120.34it/s]"
     ]
    },
    {
     "name": "stdout",
     "output_type": "stream",
     "text": [
      "25-07-20 02:18:43.157 pyfstat.utils.sft INFO    : Loading 1 SFTs from H1...\n",
      "25-07-20 02:18:43.166 pyfstat.utils.sft INFO    : Loading 1 SFTs from H1...\n",
      "25-07-20 02:18:43.174 pyfstat.utils.sft INFO    : Loading 1 SFTs from H1...\n",
      "25-07-20 02:18:43.183 pyfstat.utils.sft INFO    : Loading 1 SFTs from H1...\n",
      "25-07-20 02:18:43.192 pyfstat.utils.sft INFO    : Loading 1 SFTs from H1...\n",
      "25-07-20 02:18:43.200 pyfstat.utils.sft INFO    : Loading 1 SFTs from H1...\n",
      "25-07-20 02:18:43.208 pyfstat.utils.sft INFO    : Loading 1 SFTs from H1...\n",
      "25-07-20 02:18:43.217 pyfstat.utils.sft INFO    : Loading 1 SFTs from H1...\n",
      "25-07-20 02:18:43.226 pyfstat.utils.sft INFO    : Loading 1 SFTs from H1...\n",
      "25-07-20 02:18:43.234 pyfstat.utils.sft INFO    : Loading 1 SFTs from H1...\n",
      "25-07-20 02:18:43.243 pyfstat.utils.sft INFO    : Loading 1 SFTs from H1...\n",
      "25-07-20 02:18:43.251 pyfstat.utils.sft INFO    : Loading 1 SFTs from H1...\n",
      "25-07-20 02:18:43.259 pyfstat.utils.sft INFO    : Loading 1 SFTs from H1...\n"
     ]
    },
    {
     "name": "stderr",
     "output_type": "stream",
     "text": [
      " 42%|████▏     | 1994/4800 [00:16<00:23, 119.23it/s]"
     ]
    },
    {
     "name": "stdout",
     "output_type": "stream",
     "text": [
      "25-07-20 02:18:43.268 pyfstat.utils.sft INFO    : Loading 1 SFTs from H1...\n",
      "25-07-20 02:18:43.277 pyfstat.utils.sft INFO    : Loading 1 SFTs from H1...\n",
      "25-07-20 02:18:43.285 pyfstat.utils.sft INFO    : Loading 1 SFTs from H1...\n",
      "25-07-20 02:18:43.293 pyfstat.utils.sft INFO    : Loading 1 SFTs from H1...\n",
      "25-07-20 02:18:43.301 pyfstat.utils.sft INFO    : Loading 1 SFTs from H1...\n",
      "25-07-20 02:18:43.309 pyfstat.utils.sft INFO    : Loading 1 SFTs from H1...\n",
      "25-07-20 02:18:43.317 pyfstat.utils.sft INFO    : Loading 1 SFTs from H1...\n",
      "25-07-20 02:18:43.325 pyfstat.utils.sft INFO    : Loading 1 SFTs from H1...\n",
      "25-07-20 02:18:43.333 pyfstat.utils.sft INFO    : Loading 1 SFTs from H1...\n",
      "25-07-20 02:18:43.342 pyfstat.utils.sft INFO    : Loading 1 SFTs from H1...\n",
      "25-07-20 02:18:43.351 pyfstat.utils.sft INFO    : Loading 1 SFTs from H1...\n",
      "25-07-20 02:18:43.359 pyfstat.utils.sft INFO    : Loading 1 SFTs from H1...\n",
      "25-07-20 02:18:43.367 pyfstat.utils.sft INFO    : Loading 1 SFTs from H1...\n"
     ]
    },
    {
     "name": "stderr",
     "output_type": "stream",
     "text": [
      " 42%|████▏     | 2007/4800 [00:17<00:23, 119.72it/s]"
     ]
    },
    {
     "name": "stdout",
     "output_type": "stream",
     "text": [
      "25-07-20 02:18:43.376 pyfstat.utils.sft INFO    : Loading 1 SFTs from H1...\n",
      "25-07-20 02:18:43.385 pyfstat.utils.sft INFO    : Loading 1 SFTs from H1...\n",
      "25-07-20 02:18:43.394 pyfstat.utils.sft INFO    : Loading 1 SFTs from H1...\n",
      "25-07-20 02:18:43.402 pyfstat.utils.sft INFO    : Loading 1 SFTs from H1...\n",
      "25-07-20 02:18:43.410 pyfstat.utils.sft INFO    : Loading 1 SFTs from H1...\n",
      "25-07-20 02:18:43.418 pyfstat.utils.sft INFO    : Loading 1 SFTs from H1...\n",
      "25-07-20 02:18:43.427 pyfstat.utils.sft INFO    : Loading 1 SFTs from H1...\n",
      "25-07-20 02:18:43.435 pyfstat.utils.sft INFO    : Loading 1 SFTs from H1...\n",
      "25-07-20 02:18:43.443 pyfstat.utils.sft INFO    : Loading 1 SFTs from H1...\n",
      "25-07-20 02:18:43.451 pyfstat.utils.sft INFO    : Loading 1 SFTs from H1...\n",
      "25-07-20 02:18:43.460 pyfstat.utils.sft INFO    : Loading 1 SFTs from H1...\n",
      "25-07-20 02:18:43.468 pyfstat.utils.sft INFO    : Loading 1 SFTs from H1...\n"
     ]
    },
    {
     "name": "stderr",
     "output_type": "stream",
     "text": [
      " 42%|████▏     | 2019/4800 [00:17<00:23, 118.61it/s]"
     ]
    },
    {
     "name": "stdout",
     "output_type": "stream",
     "text": [
      "25-07-20 02:18:43.481 pyfstat.utils.sft INFO    : Loading 1 SFTs from H1...\n",
      "25-07-20 02:18:43.491 pyfstat.utils.sft INFO    : Loading 1 SFTs from H1...\n",
      "25-07-20 02:18:43.500 pyfstat.utils.sft INFO    : Loading 1 SFTs from H1...\n",
      "25-07-20 02:18:43.509 pyfstat.utils.sft INFO    : Loading 1 SFTs from H1...\n",
      "25-07-20 02:18:43.518 pyfstat.utils.sft INFO    : Loading 1 SFTs from H1...\n",
      "25-07-20 02:18:43.527 pyfstat.utils.sft INFO    : Loading 1 SFTs from H1...\n",
      "25-07-20 02:18:43.535 pyfstat.utils.sft INFO    : Loading 1 SFTs from H1...\n",
      "25-07-20 02:18:43.544 pyfstat.utils.sft INFO    : Loading 1 SFTs from H1...\n",
      "25-07-20 02:18:43.553 pyfstat.utils.sft INFO    : Loading 1 SFTs from H1...\n",
      "25-07-20 02:18:43.561 pyfstat.utils.sft INFO    : Loading 1 SFTs from H1...\n",
      "25-07-20 02:18:43.569 pyfstat.utils.sft INFO    : Loading 1 SFTs from H1...\n",
      "25-07-20 02:18:43.578 pyfstat.utils.sft INFO    : Loading 1 SFTs from H1...\n"
     ]
    },
    {
     "name": "stderr",
     "output_type": "stream",
     "text": [
      " 42%|████▏     | 2031/4800 [00:17<00:23, 116.55it/s]"
     ]
    },
    {
     "name": "stdout",
     "output_type": "stream",
     "text": [
      "25-07-20 02:18:43.587 pyfstat.utils.sft INFO    : Loading 1 SFTs from H1...\n",
      "25-07-20 02:18:43.596 pyfstat.utils.sft INFO    : Loading 1 SFTs from H1...\n",
      "25-07-20 02:18:43.604 pyfstat.utils.sft INFO    : Loading 1 SFTs from H1...\n",
      "25-07-20 02:18:43.613 pyfstat.utils.sft INFO    : Loading 1 SFTs from H1...\n",
      "25-07-20 02:18:43.621 pyfstat.utils.sft INFO    : Loading 1 SFTs from H1...\n",
      "25-07-20 02:18:43.630 pyfstat.utils.sft INFO    : Loading 1 SFTs from H1...\n",
      "25-07-20 02:18:43.638 pyfstat.utils.sft INFO    : Loading 1 SFTs from H1...\n",
      "25-07-20 02:18:43.647 pyfstat.utils.sft INFO    : Loading 1 SFTs from H1...\n",
      "25-07-20 02:18:43.655 pyfstat.utils.sft INFO    : Loading 1 SFTs from H1...\n",
      "25-07-20 02:18:43.664 pyfstat.utils.sft INFO    : Loading 1 SFTs from H1...\n",
      "25-07-20 02:18:43.673 pyfstat.utils.sft INFO    : Loading 1 SFTs from H1...\n",
      "25-07-20 02:18:43.682 pyfstat.utils.sft INFO    : Loading 1 SFTs from H1...\n"
     ]
    },
    {
     "name": "stderr",
     "output_type": "stream",
     "text": [
      " 43%|████▎     | 2043/4800 [00:17<00:23, 116.04it/s]"
     ]
    },
    {
     "name": "stdout",
     "output_type": "stream",
     "text": [
      "25-07-20 02:18:43.691 pyfstat.utils.sft INFO    : Loading 1 SFTs from H1...\n",
      "25-07-20 02:18:43.700 pyfstat.utils.sft INFO    : Loading 1 SFTs from H1...\n",
      "25-07-20 02:18:43.708 pyfstat.utils.sft INFO    : Loading 1 SFTs from H1...\n",
      "25-07-20 02:18:43.717 pyfstat.utils.sft INFO    : Loading 1 SFTs from H1...\n",
      "25-07-20 02:18:43.726 pyfstat.utils.sft INFO    : Loading 1 SFTs from H1...\n",
      "25-07-20 02:18:43.734 pyfstat.utils.sft INFO    : Loading 1 SFTs from H1...\n",
      "25-07-20 02:18:43.742 pyfstat.utils.sft INFO    : Loading 1 SFTs from H1...\n",
      "25-07-20 02:18:43.750 pyfstat.utils.sft INFO    : Loading 1 SFTs from H1...\n",
      "25-07-20 02:18:43.759 pyfstat.utils.sft INFO    : Loading 1 SFTs from H1...\n",
      "25-07-20 02:18:43.767 pyfstat.utils.sft INFO    : Loading 1 SFTs from H1...\n",
      "25-07-20 02:18:43.775 pyfstat.utils.sft INFO    : Loading 1 SFTs from H1...\n",
      "25-07-20 02:18:43.783 pyfstat.utils.sft INFO    : Loading 1 SFTs from H1...\n"
     ]
    },
    {
     "name": "stderr",
     "output_type": "stream",
     "text": [
      " 43%|████▎     | 2055/4800 [00:17<00:23, 116.90it/s]"
     ]
    },
    {
     "name": "stdout",
     "output_type": "stream",
     "text": [
      "25-07-20 02:18:43.792 pyfstat.utils.sft INFO    : Loading 1 SFTs from H1...\n",
      "25-07-20 02:18:43.800 pyfstat.utils.sft INFO    : Loading 1 SFTs from H1...\n",
      "25-07-20 02:18:43.808 pyfstat.utils.sft INFO    : Loading 1 SFTs from H1...\n",
      "25-07-20 02:18:43.816 pyfstat.utils.sft INFO    : Loading 1 SFTs from H1...\n",
      "25-07-20 02:18:43.824 pyfstat.utils.sft INFO    : Loading 1 SFTs from H1...\n",
      "25-07-20 02:18:43.833 pyfstat.utils.sft INFO    : Loading 1 SFTs from H1...\n",
      "25-07-20 02:18:43.841 pyfstat.utils.sft INFO    : Loading 1 SFTs from H1...\n",
      "25-07-20 02:18:43.850 pyfstat.utils.sft INFO    : Loading 1 SFTs from H1...\n",
      "25-07-20 02:18:43.858 pyfstat.utils.sft INFO    : Loading 1 SFTs from H1...\n",
      "25-07-20 02:18:43.866 pyfstat.utils.sft INFO    : Loading 1 SFTs from H1...\n",
      "25-07-20 02:18:43.874 pyfstat.utils.sft INFO    : Loading 1 SFTs from H1...\n",
      "25-07-20 02:18:43.881 pyfstat.utils.sft INFO    : Loading 1 SFTs from H1...\n",
      "25-07-20 02:18:43.889 pyfstat.utils.sft INFO    : Loading 1 SFTs from H1...\n"
     ]
    },
    {
     "name": "stderr",
     "output_type": "stream",
     "text": [
      " 43%|████▎     | 2068/4800 [00:17<00:23, 118.58it/s]"
     ]
    },
    {
     "name": "stdout",
     "output_type": "stream",
     "text": [
      "25-07-20 02:18:43.898 pyfstat.utils.sft INFO    : Loading 1 SFTs from H1...\n",
      "25-07-20 02:18:43.907 pyfstat.utils.sft INFO    : Loading 1 SFTs from H1...\n",
      "25-07-20 02:18:43.915 pyfstat.utils.sft INFO    : Loading 1 SFTs from H1...\n",
      "25-07-20 02:18:43.924 pyfstat.utils.sft INFO    : Loading 1 SFTs from H1...\n",
      "25-07-20 02:18:43.933 pyfstat.utils.sft INFO    : Loading 1 SFTs from H1...\n",
      "25-07-20 02:18:43.942 pyfstat.utils.sft INFO    : Loading 1 SFTs from H1...\n",
      "25-07-20 02:18:43.950 pyfstat.utils.sft INFO    : Loading 1 SFTs from H1...\n",
      "25-07-20 02:18:43.959 pyfstat.utils.sft INFO    : Loading 1 SFTs from H1...\n",
      "25-07-20 02:18:43.968 pyfstat.utils.sft INFO    : Loading 1 SFTs from H1...\n",
      "25-07-20 02:18:43.977 pyfstat.utils.sft INFO    : Loading 1 SFTs from H1...\n",
      "25-07-20 02:18:43.985 pyfstat.utils.sft INFO    : Loading 1 SFTs from H1...\n",
      "25-07-20 02:18:43.993 pyfstat.utils.sft INFO    : Loading 1 SFTs from H1...\n"
     ]
    },
    {
     "name": "stderr",
     "output_type": "stream",
     "text": [
      " 43%|████▎     | 2080/4800 [00:17<00:23, 117.57it/s]"
     ]
    },
    {
     "name": "stdout",
     "output_type": "stream",
     "text": [
      "25-07-20 02:18:44.002 pyfstat.utils.sft INFO    : Loading 1 SFTs from H1...\n",
      "25-07-20 02:18:44.010 pyfstat.utils.sft INFO    : Loading 1 SFTs from H1...\n",
      "25-07-20 02:18:44.018 pyfstat.utils.sft INFO    : Loading 1 SFTs from H1...\n",
      "25-07-20 02:18:44.027 pyfstat.utils.sft INFO    : Loading 1 SFTs from H1...\n",
      "25-07-20 02:18:44.035 pyfstat.utils.sft INFO    : Loading 1 SFTs from H1...\n",
      "25-07-20 02:18:44.043 pyfstat.utils.sft INFO    : Loading 1 SFTs from H1...\n",
      "25-07-20 02:18:44.052 pyfstat.utils.sft INFO    : Loading 1 SFTs from H1...\n",
      "25-07-20 02:18:44.060 pyfstat.utils.sft INFO    : Loading 1 SFTs from H1...\n",
      "25-07-20 02:18:44.068 pyfstat.utils.sft INFO    : Loading 1 SFTs from H1...\n",
      "25-07-20 02:18:44.076 pyfstat.utils.sft INFO    : Loading 1 SFTs from H1...\n",
      "25-07-20 02:18:44.085 pyfstat.utils.sft INFO    : Loading 1 SFTs from H1...\n",
      "25-07-20 02:18:44.093 pyfstat.utils.sft INFO    : Loading 1 SFTs from H1...\n",
      "25-07-20 02:18:44.101 pyfstat.utils.sft INFO    : Loading 1 SFTs from H1...\n"
     ]
    },
    {
     "name": "stderr",
     "output_type": "stream",
     "text": [
      " 44%|████▎     | 2093/4800 [00:17<00:22, 118.57it/s]"
     ]
    },
    {
     "name": "stdout",
     "output_type": "stream",
     "text": [
      "25-07-20 02:18:44.110 pyfstat.utils.sft INFO    : Loading 1 SFTs from H1...\n",
      "25-07-20 02:18:44.119 pyfstat.utils.sft INFO    : Loading 1 SFTs from H1...\n",
      "25-07-20 02:18:44.127 pyfstat.utils.sft INFO    : Loading 1 SFTs from H1...\n",
      "25-07-20 02:18:44.135 pyfstat.utils.sft INFO    : Loading 1 SFTs from H1...\n",
      "25-07-20 02:18:44.143 pyfstat.utils.sft INFO    : Loading 1 SFTs from H1...\n",
      "25-07-20 02:18:44.152 pyfstat.utils.sft INFO    : Loading 1 SFTs from H1...\n",
      "25-07-20 02:18:44.161 pyfstat.utils.sft INFO    : Loading 1 SFTs from H1...\n",
      "25-07-20 02:18:44.170 pyfstat.utils.sft INFO    : Loading 1 SFTs from H1...\n",
      "25-07-20 02:18:44.177 pyfstat.utils.sft INFO    : Loading 1 SFTs from H1...\n",
      "25-07-20 02:18:44.185 pyfstat.utils.sft INFO    : Loading 1 SFTs from H1...\n",
      "25-07-20 02:18:44.193 pyfstat.utils.sft INFO    : Loading 1 SFTs from H1...\n",
      "25-07-20 02:18:44.200 pyfstat.utils.sft INFO    : Loading 1 SFTs from H1...\n",
      "25-07-20 02:18:44.208 pyfstat.utils.sft INFO    : Loading 1 SFTs from H1...\n"
     ]
    },
    {
     "name": "stderr",
     "output_type": "stream",
     "text": [
      " 44%|████▍     | 2106/4800 [00:17<00:22, 119.44it/s]"
     ]
    },
    {
     "name": "stdout",
     "output_type": "stream",
     "text": [
      "25-07-20 02:18:44.217 pyfstat.utils.sft INFO    : Loading 1 SFTs from H1...\n",
      "25-07-20 02:18:44.226 pyfstat.utils.sft INFO    : Loading 1 SFTs from H1...\n",
      "25-07-20 02:18:44.235 pyfstat.utils.sft INFO    : Loading 1 SFTs from H1...\n",
      "25-07-20 02:18:44.243 pyfstat.utils.sft INFO    : Loading 1 SFTs from H1...\n",
      "25-07-20 02:18:44.252 pyfstat.utils.sft INFO    : Loading 1 SFTs from H1...\n",
      "25-07-20 02:18:44.261 pyfstat.utils.sft INFO    : Loading 1 SFTs from H1...\n",
      "25-07-20 02:18:44.270 pyfstat.utils.sft INFO    : Loading 1 SFTs from H1...\n",
      "25-07-20 02:18:44.280 pyfstat.utils.sft INFO    : Loading 1 SFTs from H1...\n",
      "25-07-20 02:18:44.288 pyfstat.utils.sft INFO    : Loading 1 SFTs from H1...\n",
      "25-07-20 02:18:44.297 pyfstat.utils.sft INFO    : Loading 1 SFTs from H1...\n",
      "25-07-20 02:18:44.305 pyfstat.utils.sft INFO    : Loading 1 SFTs from H1...\n",
      "25-07-20 02:18:44.313 pyfstat.utils.sft INFO    : Loading 1 SFTs from H1...\n"
     ]
    },
    {
     "name": "stderr",
     "output_type": "stream",
     "text": [
      " 44%|████▍     | 2118/4800 [00:18<00:22, 117.87it/s]"
     ]
    },
    {
     "name": "stdout",
     "output_type": "stream",
     "text": [
      "25-07-20 02:18:44.322 pyfstat.utils.sft INFO    : Loading 1 SFTs from H1...\n",
      "25-07-20 02:18:44.330 pyfstat.utils.sft INFO    : Loading 1 SFTs from H1...\n",
      "25-07-20 02:18:44.339 pyfstat.utils.sft INFO    : Loading 1 SFTs from H1...\n",
      "25-07-20 02:18:44.347 pyfstat.utils.sft INFO    : Loading 1 SFTs from H1...\n",
      "25-07-20 02:18:44.356 pyfstat.utils.sft INFO    : Loading 1 SFTs from H1...\n",
      "25-07-20 02:18:44.365 pyfstat.utils.sft INFO    : Loading 1 SFTs from H1...\n",
      "25-07-20 02:18:44.373 pyfstat.utils.sft INFO    : Loading 1 SFTs from H1...\n",
      "25-07-20 02:18:44.382 pyfstat.utils.sft INFO    : Loading 1 SFTs from H1...\n",
      "25-07-20 02:18:44.391 pyfstat.utils.sft INFO    : Loading 1 SFTs from H1...\n",
      "25-07-20 02:18:44.399 pyfstat.utils.sft INFO    : Loading 1 SFTs from H1...\n",
      "25-07-20 02:18:44.407 pyfstat.utils.sft INFO    : Loading 1 SFTs from H1...\n",
      "25-07-20 02:18:44.415 pyfstat.utils.sft INFO    : Loading 1 SFTs from H1...\n"
     ]
    },
    {
     "name": "stderr",
     "output_type": "stream",
     "text": [
      " 44%|████▍     | 2130/4800 [00:18<00:22, 117.70it/s]"
     ]
    },
    {
     "name": "stdout",
     "output_type": "stream",
     "text": [
      "25-07-20 02:18:44.424 pyfstat.utils.sft INFO    : Loading 1 SFTs from H1...\n",
      "25-07-20 02:18:44.433 pyfstat.utils.sft INFO    : Loading 1 SFTs from H1...\n",
      "25-07-20 02:18:44.441 pyfstat.utils.sft INFO    : Loading 1 SFTs from H1...\n",
      "25-07-20 02:18:44.449 pyfstat.utils.sft INFO    : Loading 1 SFTs from H1...\n",
      "25-07-20 02:18:44.459 pyfstat.utils.sft INFO    : Loading 1 SFTs from H1...\n",
      "25-07-20 02:18:44.467 pyfstat.utils.sft INFO    : Loading 1 SFTs from H1...\n",
      "25-07-20 02:18:44.475 pyfstat.utils.sft INFO    : Loading 1 SFTs from H1...\n",
      "25-07-20 02:18:44.483 pyfstat.utils.sft INFO    : Loading 1 SFTs from H1...\n",
      "25-07-20 02:18:44.492 pyfstat.utils.sft INFO    : Loading 1 SFTs from H1...\n",
      "25-07-20 02:18:44.502 pyfstat.utils.sft INFO    : Loading 1 SFTs from H1...\n",
      "25-07-20 02:18:44.510 pyfstat.utils.sft INFO    : Loading 1 SFTs from H1...\n",
      "25-07-20 02:18:44.519 pyfstat.utils.sft INFO    : Loading 1 SFTs from H1...\n"
     ]
    },
    {
     "name": "stderr",
     "output_type": "stream",
     "text": [
      " 45%|████▍     | 2142/4800 [00:18<00:22, 117.16it/s]"
     ]
    },
    {
     "name": "stdout",
     "output_type": "stream",
     "text": [
      "25-07-20 02:18:44.528 pyfstat.utils.sft INFO    : Loading 1 SFTs from H1...\n",
      "25-07-20 02:18:44.536 pyfstat.utils.sft INFO    : Loading 1 SFTs from H1...\n",
      "25-07-20 02:18:44.545 pyfstat.utils.sft INFO    : Loading 1 SFTs from H1...\n",
      "25-07-20 02:18:44.553 pyfstat.utils.sft INFO    : Loading 1 SFTs from H1...\n",
      "25-07-20 02:18:44.561 pyfstat.utils.sft INFO    : Loading 1 SFTs from H1...\n",
      "25-07-20 02:18:44.569 pyfstat.utils.sft INFO    : Loading 1 SFTs from H1...\n",
      "25-07-20 02:18:44.578 pyfstat.utils.sft INFO    : Loading 1 SFTs from H1...\n",
      "25-07-20 02:18:44.586 pyfstat.utils.sft INFO    : Loading 1 SFTs from H1...\n",
      "25-07-20 02:18:44.595 pyfstat.utils.sft INFO    : Loading 1 SFTs from H1...\n",
      "25-07-20 02:18:44.603 pyfstat.utils.sft INFO    : Loading 1 SFTs from H1...\n",
      "25-07-20 02:18:44.612 pyfstat.utils.sft INFO    : Loading 1 SFTs from H1...\n",
      "25-07-20 02:18:44.620 pyfstat.utils.sft INFO    : Loading 1 SFTs from H1...\n"
     ]
    },
    {
     "name": "stderr",
     "output_type": "stream",
     "text": [
      " 45%|████▍     | 2154/4800 [00:18<00:22, 117.51it/s]"
     ]
    },
    {
     "name": "stdout",
     "output_type": "stream",
     "text": [
      "25-07-20 02:18:44.630 pyfstat.utils.sft INFO    : Loading 1 SFTs from H1...\n",
      "25-07-20 02:18:44.638 pyfstat.utils.sft INFO    : Loading 1 SFTs from H1...\n",
      "25-07-20 02:18:44.647 pyfstat.utils.sft INFO    : Loading 1 SFTs from H1...\n",
      "25-07-20 02:18:44.656 pyfstat.utils.sft INFO    : Loading 1 SFTs from H1...\n",
      "25-07-20 02:18:44.664 pyfstat.utils.sft INFO    : Loading 1 SFTs from H1...\n",
      "25-07-20 02:18:44.672 pyfstat.utils.sft INFO    : Loading 1 SFTs from H1...\n",
      "25-07-20 02:18:44.681 pyfstat.utils.sft INFO    : Loading 1 SFTs from H1...\n",
      "25-07-20 02:18:44.689 pyfstat.utils.sft INFO    : Loading 1 SFTs from H1...\n",
      "25-07-20 02:18:44.698 pyfstat.utils.sft INFO    : Loading 1 SFTs from H1...\n",
      "25-07-20 02:18:44.706 pyfstat.utils.sft INFO    : Loading 1 SFTs from H1...\n",
      "25-07-20 02:18:44.715 pyfstat.utils.sft INFO    : Loading 1 SFTs from H1...\n",
      "25-07-20 02:18:44.724 pyfstat.utils.sft INFO    : Loading 1 SFTs from H1...\n"
     ]
    },
    {
     "name": "stderr",
     "output_type": "stream",
     "text": [
      " 45%|████▌     | 2166/4800 [00:18<00:22, 117.04it/s]"
     ]
    },
    {
     "name": "stdout",
     "output_type": "stream",
     "text": [
      "25-07-20 02:18:44.733 pyfstat.utils.sft INFO    : Loading 1 SFTs from H1...\n",
      "25-07-20 02:18:44.741 pyfstat.utils.sft INFO    : Loading 1 SFTs from H1...\n",
      "25-07-20 02:18:44.750 pyfstat.utils.sft INFO    : Loading 1 SFTs from H1...\n",
      "25-07-20 02:18:44.758 pyfstat.utils.sft INFO    : Loading 1 SFTs from H1...\n",
      "25-07-20 02:18:44.767 pyfstat.utils.sft INFO    : Loading 1 SFTs from H1...\n",
      "25-07-20 02:18:44.775 pyfstat.utils.sft INFO    : Loading 1 SFTs from H1...\n",
      "25-07-20 02:18:44.783 pyfstat.utils.sft INFO    : Loading 1 SFTs from H1...\n",
      "25-07-20 02:18:44.792 pyfstat.utils.sft INFO    : Loading 1 SFTs from H1...\n",
      "25-07-20 02:18:44.801 pyfstat.utils.sft INFO    : Loading 1 SFTs from H1...\n",
      "25-07-20 02:18:44.809 pyfstat.utils.sft INFO    : Loading 1 SFTs from H1...\n",
      "25-07-20 02:18:44.817 pyfstat.utils.sft INFO    : Loading 1 SFTs from H1...\n",
      "25-07-20 02:18:44.826 pyfstat.utils.sft INFO    : Loading 1 SFTs from H1...\n"
     ]
    },
    {
     "name": "stderr",
     "output_type": "stream",
     "text": [
      " 45%|████▌     | 2178/4800 [00:18<00:22, 117.18it/s]"
     ]
    },
    {
     "name": "stdout",
     "output_type": "stream",
     "text": [
      "25-07-20 02:18:44.835 pyfstat.utils.sft INFO    : Loading 1 SFTs from H1...\n",
      "25-07-20 02:18:44.844 pyfstat.utils.sft INFO    : Loading 1 SFTs from H1...\n",
      "25-07-20 02:18:44.852 pyfstat.utils.sft INFO    : Loading 1 SFTs from H1...\n",
      "25-07-20 02:18:44.860 pyfstat.utils.sft INFO    : Loading 1 SFTs from H1...\n",
      "25-07-20 02:18:44.868 pyfstat.utils.sft INFO    : Loading 1 SFTs from H1...\n",
      "25-07-20 02:18:44.877 pyfstat.utils.sft INFO    : Loading 1 SFTs from H1...\n",
      "25-07-20 02:18:44.885 pyfstat.utils.sft INFO    : Loading 1 SFTs from H1...\n",
      "25-07-20 02:18:44.893 pyfstat.utils.sft INFO    : Loading 1 SFTs from H1...\n",
      "25-07-20 02:18:44.901 pyfstat.utils.sft INFO    : Loading 1 SFTs from H1...\n",
      "25-07-20 02:18:44.909 pyfstat.utils.sft INFO    : Loading 1 SFTs from H1...\n",
      "25-07-20 02:18:44.917 pyfstat.utils.sft INFO    : Loading 1 SFTs from H1...\n",
      "25-07-20 02:18:44.926 pyfstat.utils.sft INFO    : Loading 1 SFTs from H1...\n",
      "25-07-20 02:18:44.934 pyfstat.utils.sft INFO    : Loading 1 SFTs from H1...\n"
     ]
    },
    {
     "name": "stderr",
     "output_type": "stream",
     "text": [
      " 46%|████▌     | 2191/4800 [00:18<00:22, 118.15it/s]"
     ]
    },
    {
     "name": "stdout",
     "output_type": "stream",
     "text": [
      "25-07-20 02:18:44.943 pyfstat.utils.sft INFO    : Loading 1 SFTs from H1...\n",
      "25-07-20 02:18:44.952 pyfstat.utils.sft INFO    : Loading 1 SFTs from H1...\n",
      "25-07-20 02:18:44.961 pyfstat.utils.sft INFO    : Loading 1 SFTs from H1...\n",
      "25-07-20 02:18:44.969 pyfstat.utils.sft INFO    : Loading 1 SFTs from H1...\n",
      "25-07-20 02:18:44.978 pyfstat.utils.sft INFO    : Loading 1 SFTs from H1...\n",
      "25-07-20 02:18:44.986 pyfstat.utils.sft INFO    : Loading 1 SFTs from H1...\n",
      "25-07-20 02:18:44.994 pyfstat.utils.sft INFO    : Loading 1 SFTs from H1...\n",
      "25-07-20 02:18:45.002 pyfstat.utils.sft INFO    : Loading 1 SFTs from H1...\n",
      "25-07-20 02:18:45.010 pyfstat.utils.sft INFO    : Loading 1 SFTs from H1...\n",
      "25-07-20 02:18:45.018 pyfstat.utils.sft INFO    : Loading 1 SFTs from H1...\n",
      "25-07-20 02:18:45.027 pyfstat.utils.sft INFO    : Loading 1 SFTs from H1...\n",
      "25-07-20 02:18:45.035 pyfstat.utils.sft INFO    : Loading 1 SFTs from H1...\n"
     ]
    },
    {
     "name": "stderr",
     "output_type": "stream",
     "text": [
      " 46%|████▌     | 2203/4800 [00:18<00:21, 118.36it/s]"
     ]
    },
    {
     "name": "stdout",
     "output_type": "stream",
     "text": [
      "25-07-20 02:18:45.044 pyfstat.utils.sft INFO    : Loading 1 SFTs from H1...\n",
      "25-07-20 02:18:45.053 pyfstat.utils.sft INFO    : Loading 1 SFTs from H1...\n",
      "25-07-20 02:18:45.062 pyfstat.utils.sft INFO    : Loading 1 SFTs from H1...\n",
      "25-07-20 02:18:45.070 pyfstat.utils.sft INFO    : Loading 1 SFTs from H1...\n",
      "25-07-20 02:18:45.077 pyfstat.utils.sft INFO    : Loading 1 SFTs from H1...\n",
      "25-07-20 02:18:45.085 pyfstat.utils.sft INFO    : Loading 1 SFTs from H1...\n",
      "25-07-20 02:18:45.093 pyfstat.utils.sft INFO    : Loading 1 SFTs from H1...\n",
      "25-07-20 02:18:45.102 pyfstat.utils.sft INFO    : Loading 1 SFTs from H1...\n",
      "25-07-20 02:18:45.110 pyfstat.utils.sft INFO    : Loading 1 SFTs from H1...\n",
      "25-07-20 02:18:45.117 pyfstat.utils.sft INFO    : Loading 1 SFTs from H1...\n",
      "25-07-20 02:18:45.125 pyfstat.utils.sft INFO    : Loading 1 SFTs from H1...\n",
      "25-07-20 02:18:45.133 pyfstat.utils.sft INFO    : Loading 1 SFTs from H1...\n",
      "25-07-20 02:18:45.142 pyfstat.utils.sft INFO    : Loading 1 SFTs from H1...\n"
     ]
    },
    {
     "name": "stderr",
     "output_type": "stream",
     "text": [
      " 46%|████▌     | 2216/4800 [00:18<00:21, 119.50it/s]"
     ]
    },
    {
     "name": "stdout",
     "output_type": "stream",
     "text": [
      "25-07-20 02:18:45.150 pyfstat.utils.sft INFO    : Loading 1 SFTs from H1...\n",
      "25-07-20 02:18:45.159 pyfstat.utils.sft INFO    : Loading 1 SFTs from H1...\n",
      "25-07-20 02:18:45.171 pyfstat.utils.sft INFO    : Loading 1 SFTs from H1...\n",
      "25-07-20 02:18:45.182 pyfstat.utils.sft INFO    : Loading 1 SFTs from H1...\n",
      "25-07-20 02:18:45.191 pyfstat.utils.sft INFO    : Loading 1 SFTs from H1...\n",
      "25-07-20 02:18:45.199 pyfstat.utils.sft INFO    : Loading 1 SFTs from H1...\n",
      "25-07-20 02:18:45.208 pyfstat.utils.sft INFO    : Loading 1 SFTs from H1...\n",
      "25-07-20 02:18:45.217 pyfstat.utils.sft INFO    : Loading 1 SFTs from H1...\n",
      "25-07-20 02:18:45.225 pyfstat.utils.sft INFO    : Loading 1 SFTs from H1...\n",
      "25-07-20 02:18:45.233 pyfstat.utils.sft INFO    : Loading 1 SFTs from H1...\n",
      "25-07-20 02:18:45.242 pyfstat.utils.sft INFO    : Loading 1 SFTs from H1...\n",
      "25-07-20 02:18:45.250 pyfstat.utils.sft INFO    : Loading 1 SFTs from H1...\n"
     ]
    },
    {
     "name": "stderr",
     "output_type": "stream",
     "text": [
      " 46%|████▋     | 2228/4800 [00:18<00:22, 116.73it/s]"
     ]
    },
    {
     "name": "stdout",
     "output_type": "stream",
     "text": [
      "25-07-20 02:18:45.259 pyfstat.utils.sft INFO    : Loading 1 SFTs from H1...\n",
      "25-07-20 02:18:45.267 pyfstat.utils.sft INFO    : Loading 1 SFTs from H1...\n",
      "25-07-20 02:18:45.276 pyfstat.utils.sft INFO    : Loading 1 SFTs from H1...\n",
      "25-07-20 02:18:45.284 pyfstat.utils.sft INFO    : Loading 1 SFTs from H1...\n",
      "25-07-20 02:18:45.293 pyfstat.utils.sft INFO    : Loading 1 SFTs from H1...\n",
      "25-07-20 02:18:45.301 pyfstat.utils.sft INFO    : Loading 1 SFTs from H1...\n",
      "25-07-20 02:18:45.310 pyfstat.utils.sft INFO    : Loading 1 SFTs from H1...\n",
      "25-07-20 02:18:45.319 pyfstat.utils.sft INFO    : Loading 1 SFTs from H1...\n",
      "25-07-20 02:18:45.328 pyfstat.utils.sft INFO    : Loading 1 SFTs from H1...\n",
      "25-07-20 02:18:45.336 pyfstat.utils.sft INFO    : Loading 1 SFTs from H1...\n",
      "25-07-20 02:18:45.346 pyfstat.utils.sft INFO    : Loading 1 SFTs from H1...\n",
      "25-07-20 02:18:45.355 pyfstat.utils.sft INFO    : Loading 1 SFTs from H1...\n"
     ]
    },
    {
     "name": "stderr",
     "output_type": "stream",
     "text": [
      " 47%|████▋     | 2240/4800 [00:19<00:22, 116.04it/s]"
     ]
    },
    {
     "name": "stdout",
     "output_type": "stream",
     "text": [
      "25-07-20 02:18:45.364 pyfstat.utils.sft INFO    : Loading 1 SFTs from H1...\n",
      "25-07-20 02:18:45.373 pyfstat.utils.sft INFO    : Loading 1 SFTs from H1...\n",
      "25-07-20 02:18:45.381 pyfstat.utils.sft INFO    : Loading 1 SFTs from H1...\n",
      "25-07-20 02:18:45.389 pyfstat.utils.sft INFO    : Loading 1 SFTs from H1...\n",
      "25-07-20 02:18:45.398 pyfstat.utils.sft INFO    : Loading 1 SFTs from H1...\n",
      "25-07-20 02:18:45.406 pyfstat.utils.sft INFO    : Loading 1 SFTs from H1...\n",
      "25-07-20 02:18:45.415 pyfstat.utils.sft INFO    : Loading 1 SFTs from H1...\n",
      "25-07-20 02:18:45.424 pyfstat.utils.sft INFO    : Loading 1 SFTs from H1...\n",
      "25-07-20 02:18:45.432 pyfstat.utils.sft INFO    : Loading 1 SFTs from H1...\n",
      "25-07-20 02:18:45.441 pyfstat.utils.sft INFO    : Loading 1 SFTs from H1...\n",
      "25-07-20 02:18:45.449 pyfstat.utils.sft INFO    : Loading 1 SFTs from H1...\n",
      "25-07-20 02:18:45.459 pyfstat.utils.sft INFO    : Loading 1 SFTs from H1...\n"
     ]
    },
    {
     "name": "stderr",
     "output_type": "stream",
     "text": [
      " 47%|████▋     | 2252/4800 [00:19<00:22, 115.75it/s]"
     ]
    },
    {
     "name": "stdout",
     "output_type": "stream",
     "text": [
      "25-07-20 02:18:45.468 pyfstat.utils.sft INFO    : Loading 1 SFTs from H1...\n",
      "25-07-20 02:18:45.477 pyfstat.utils.sft INFO    : Loading 1 SFTs from H1...\n",
      "25-07-20 02:18:45.485 pyfstat.utils.sft INFO    : Loading 1 SFTs from H1...\n",
      "25-07-20 02:18:45.494 pyfstat.utils.sft INFO    : Loading 1 SFTs from H1...\n",
      "25-07-20 02:18:45.503 pyfstat.utils.sft INFO    : Loading 1 SFTs from H1...\n",
      "25-07-20 02:18:45.511 pyfstat.utils.sft INFO    : Loading 1 SFTs from H1...\n",
      "25-07-20 02:18:45.520 pyfstat.utils.sft INFO    : Loading 1 SFTs from H1...\n",
      "25-07-20 02:18:45.528 pyfstat.utils.sft INFO    : Loading 1 SFTs from H1...\n",
      "25-07-20 02:18:45.537 pyfstat.utils.sft INFO    : Loading 1 SFTs from H1...\n",
      "25-07-20 02:18:45.545 pyfstat.utils.sft INFO    : Loading 1 SFTs from H1...\n",
      "25-07-20 02:18:45.554 pyfstat.utils.sft INFO    : Loading 1 SFTs from H1...\n",
      "25-07-20 02:18:45.562 pyfstat.utils.sft INFO    : Loading 1 SFTs from H1...\n"
     ]
    },
    {
     "name": "stderr",
     "output_type": "stream",
     "text": [
      " 47%|████▋     | 2264/4800 [00:19<00:21, 115.94it/s]"
     ]
    },
    {
     "name": "stdout",
     "output_type": "stream",
     "text": [
      "25-07-20 02:18:45.571 pyfstat.utils.sft INFO    : Loading 1 SFTs from H1...\n",
      "25-07-20 02:18:45.580 pyfstat.utils.sft INFO    : Loading 1 SFTs from H1...\n",
      "25-07-20 02:18:45.588 pyfstat.utils.sft INFO    : Loading 1 SFTs from H1...\n",
      "25-07-20 02:18:45.596 pyfstat.utils.sft INFO    : Loading 1 SFTs from H1...\n",
      "25-07-20 02:18:45.604 pyfstat.utils.sft INFO    : Loading 1 SFTs from H1...\n",
      "25-07-20 02:18:45.613 pyfstat.utils.sft INFO    : Loading 1 SFTs from H1...\n",
      "25-07-20 02:18:45.621 pyfstat.utils.sft INFO    : Loading 1 SFTs from H1...\n",
      "25-07-20 02:18:45.629 pyfstat.utils.sft INFO    : Loading 1 SFTs from H1...\n",
      "25-07-20 02:18:45.637 pyfstat.utils.sft INFO    : Loading 1 SFTs from H1...\n",
      "25-07-20 02:18:45.646 pyfstat.utils.sft INFO    : Loading 1 SFTs from H1...\n",
      "25-07-20 02:18:45.655 pyfstat.utils.sft INFO    : Loading 1 SFTs from H1...\n",
      "25-07-20 02:18:45.663 pyfstat.utils.sft INFO    : Loading 1 SFTs from H1...\n"
     ]
    },
    {
     "name": "stderr",
     "output_type": "stream",
     "text": [
      " 47%|████▋     | 2276/4800 [00:19<00:21, 116.88it/s]"
     ]
    },
    {
     "name": "stdout",
     "output_type": "stream",
     "text": [
      "25-07-20 02:18:45.672 pyfstat.utils.sft INFO    : Loading 1 SFTs from H1...\n",
      "25-07-20 02:18:45.681 pyfstat.utils.sft INFO    : Loading 1 SFTs from H1...\n",
      "25-07-20 02:18:45.689 pyfstat.utils.sft INFO    : Loading 1 SFTs from H1...\n",
      "25-07-20 02:18:45.697 pyfstat.utils.sft INFO    : Loading 1 SFTs from H1...\n",
      "25-07-20 02:18:45.706 pyfstat.utils.sft INFO    : Loading 1 SFTs from H1...\n",
      "25-07-20 02:18:45.714 pyfstat.utils.sft INFO    : Loading 1 SFTs from H1...\n",
      "25-07-20 02:18:45.723 pyfstat.utils.sft INFO    : Loading 1 SFTs from H1...\n",
      "25-07-20 02:18:45.731 pyfstat.utils.sft INFO    : Loading 1 SFTs from H1...\n",
      "25-07-20 02:18:45.740 pyfstat.utils.sft INFO    : Loading 1 SFTs from H1...\n",
      "25-07-20 02:18:45.748 pyfstat.utils.sft INFO    : Loading 1 SFTs from H1...\n",
      "25-07-20 02:18:45.757 pyfstat.utils.sft INFO    : Loading 1 SFTs from H1...\n",
      "25-07-20 02:18:45.766 pyfstat.utils.sft INFO    : Loading 1 SFTs from H1...\n"
     ]
    },
    {
     "name": "stderr",
     "output_type": "stream",
     "text": [
      " 48%|████▊     | 2288/4800 [00:19<00:21, 116.97it/s]"
     ]
    },
    {
     "name": "stdout",
     "output_type": "stream",
     "text": [
      "25-07-20 02:18:45.774 pyfstat.utils.sft INFO    : Loading 1 SFTs from H1...\n",
      "25-07-20 02:18:45.783 pyfstat.utils.sft INFO    : Loading 1 SFTs from H1...\n",
      "25-07-20 02:18:45.792 pyfstat.utils.sft INFO    : Loading 1 SFTs from H1...\n",
      "25-07-20 02:18:45.800 pyfstat.utils.sft INFO    : Loading 1 SFTs from H1...\n",
      "25-07-20 02:18:45.808 pyfstat.utils.sft INFO    : Loading 1 SFTs from H1...\n",
      "25-07-20 02:18:45.817 pyfstat.utils.sft INFO    : Loading 1 SFTs from H1...\n",
      "25-07-20 02:18:45.825 pyfstat.utils.sft INFO    : Loading 1 SFTs from H1...\n",
      "25-07-20 02:18:45.833 pyfstat.utils.sft INFO    : Loading 1 SFTs from H1...\n",
      "25-07-20 02:18:45.841 pyfstat.utils.sft INFO    : Loading 1 SFTs from H1...\n",
      "25-07-20 02:18:45.849 pyfstat.utils.sft INFO    : Loading 1 SFTs from H1...\n",
      "25-07-20 02:18:45.857 pyfstat.utils.sft INFO    : Loading 1 SFTs from H1...\n",
      "25-07-20 02:18:45.866 pyfstat.utils.sft INFO    : Loading 1 SFTs from H1...\n"
     ]
    },
    {
     "name": "stderr",
     "output_type": "stream",
     "text": [
      " 48%|████▊     | 2300/4800 [00:19<00:21, 117.44it/s]"
     ]
    },
    {
     "name": "stdout",
     "output_type": "stream",
     "text": [
      "25-07-20 02:18:45.876 pyfstat.utils.sft INFO    : Loading 1 SFTs from H1...\n",
      "25-07-20 02:18:45.885 pyfstat.utils.sft INFO    : Loading 1 SFTs from H1...\n",
      "25-07-20 02:18:45.893 pyfstat.utils.sft INFO    : Loading 1 SFTs from H1...\n",
      "25-07-20 02:18:45.901 pyfstat.utils.sft INFO    : Loading 1 SFTs from H1...\n",
      "25-07-20 02:18:45.910 pyfstat.utils.sft INFO    : Loading 1 SFTs from H1...\n",
      "25-07-20 02:18:45.918 pyfstat.utils.sft INFO    : Loading 1 SFTs from H1...\n",
      "25-07-20 02:18:45.927 pyfstat.utils.sft INFO    : Loading 1 SFTs from H1...\n",
      "25-07-20 02:18:45.935 pyfstat.utils.sft INFO    : Loading 1 SFTs from H1...\n",
      "25-07-20 02:18:45.943 pyfstat.utils.sft INFO    : Loading 1 SFTs from H1...\n",
      "25-07-20 02:18:45.952 pyfstat.utils.sft INFO    : Loading 1 SFTs from H1...\n",
      "25-07-20 02:18:45.960 pyfstat.utils.sft INFO    : Loading 1 SFTs from H1...\n",
      "25-07-20 02:18:45.969 pyfstat.utils.sft INFO    : Loading 1 SFTs from H1...\n"
     ]
    },
    {
     "name": "stderr",
     "output_type": "stream",
     "text": [
      " 48%|████▊     | 2312/4800 [00:19<00:21, 117.47it/s]"
     ]
    },
    {
     "name": "stdout",
     "output_type": "stream",
     "text": [
      "25-07-20 02:18:45.978 pyfstat.utils.sft INFO    : Loading 1 SFTs from H1...\n",
      "25-07-20 02:18:45.987 pyfstat.utils.sft INFO    : Loading 1 SFTs from H1...\n",
      "25-07-20 02:18:45.996 pyfstat.utils.sft INFO    : Loading 1 SFTs from H1...\n",
      "25-07-20 02:18:46.004 pyfstat.utils.sft INFO    : Loading 1 SFTs from H1...\n",
      "25-07-20 02:18:46.012 pyfstat.utils.sft INFO    : Loading 1 SFTs from H1...\n",
      "25-07-20 02:18:46.021 pyfstat.utils.sft INFO    : Loading 1 SFTs from H1...\n",
      "25-07-20 02:18:46.029 pyfstat.utils.sft INFO    : Loading 1 SFTs from H1...\n",
      "25-07-20 02:18:46.037 pyfstat.utils.sft INFO    : Loading 1 SFTs from H1...\n",
      "25-07-20 02:18:46.046 pyfstat.utils.sft INFO    : Loading 1 SFTs from H1...\n",
      "25-07-20 02:18:46.054 pyfstat.utils.sft INFO    : Loading 1 SFTs from H1...\n",
      "25-07-20 02:18:46.063 pyfstat.utils.sft INFO    : Loading 1 SFTs from H1...\n",
      "25-07-20 02:18:46.071 pyfstat.utils.sft INFO    : Loading 1 SFTs from H1...\n"
     ]
    },
    {
     "name": "stderr",
     "output_type": "stream",
     "text": [
      " 48%|████▊     | 2324/4800 [00:19<00:21, 117.49it/s]"
     ]
    },
    {
     "name": "stdout",
     "output_type": "stream",
     "text": [
      "25-07-20 02:18:46.080 pyfstat.utils.sft INFO    : Loading 1 SFTs from H1...\n",
      "25-07-20 02:18:46.089 pyfstat.utils.sft INFO    : Loading 1 SFTs from H1...\n",
      "25-07-20 02:18:46.097 pyfstat.utils.sft INFO    : Loading 1 SFTs from H1...\n",
      "25-07-20 02:18:46.105 pyfstat.utils.sft INFO    : Loading 1 SFTs from H1...\n",
      "25-07-20 02:18:46.113 pyfstat.utils.sft INFO    : Loading 1 SFTs from H1...\n",
      "25-07-20 02:18:46.121 pyfstat.utils.sft INFO    : Loading 1 SFTs from H1...\n",
      "25-07-20 02:18:46.130 pyfstat.utils.sft INFO    : Loading 1 SFTs from H1...\n",
      "25-07-20 02:18:46.138 pyfstat.utils.sft INFO    : Loading 1 SFTs from H1...\n",
      "25-07-20 02:18:46.147 pyfstat.utils.sft INFO    : Loading 1 SFTs from H1...\n",
      "25-07-20 02:18:46.155 pyfstat.utils.sft INFO    : Loading 1 SFTs from H1...\n",
      "25-07-20 02:18:46.163 pyfstat.utils.sft INFO    : Loading 1 SFTs from H1...\n",
      "25-07-20 02:18:46.172 pyfstat.utils.sft INFO    : Loading 1 SFTs from H1...\n"
     ]
    },
    {
     "name": "stderr",
     "output_type": "stream",
     "text": [
      " 49%|████▊     | 2336/4800 [00:19<00:20, 117.81it/s]"
     ]
    },
    {
     "name": "stdout",
     "output_type": "stream",
     "text": [
      "25-07-20 02:18:46.181 pyfstat.utils.sft INFO    : Loading 1 SFTs from H1...\n",
      "25-07-20 02:18:46.189 pyfstat.utils.sft INFO    : Loading 1 SFTs from H1...\n",
      "25-07-20 02:18:46.199 pyfstat.utils.sft INFO    : Loading 1 SFTs from H1...\n",
      "25-07-20 02:18:46.208 pyfstat.utils.sft INFO    : Loading 1 SFTs from H1...\n",
      "25-07-20 02:18:46.216 pyfstat.utils.sft INFO    : Loading 1 SFTs from H1...\n",
      "25-07-20 02:18:46.224 pyfstat.utils.sft INFO    : Loading 1 SFTs from H1...\n",
      "25-07-20 02:18:46.232 pyfstat.utils.sft INFO    : Loading 1 SFTs from H1...\n",
      "25-07-20 02:18:46.240 pyfstat.utils.sft INFO    : Loading 1 SFTs from H1...\n",
      "25-07-20 02:18:46.249 pyfstat.utils.sft INFO    : Loading 1 SFTs from H1...\n",
      "25-07-20 02:18:46.257 pyfstat.utils.sft INFO    : Loading 1 SFTs from H1...\n",
      "25-07-20 02:18:46.265 pyfstat.utils.sft INFO    : Loading 1 SFTs from H1...\n",
      "25-07-20 02:18:46.273 pyfstat.utils.sft INFO    : Loading 1 SFTs from H1...\n"
     ]
    },
    {
     "name": "stderr",
     "output_type": "stream",
     "text": [
      " 49%|████▉     | 2348/4800 [00:20<00:20, 117.98it/s]"
     ]
    },
    {
     "name": "stdout",
     "output_type": "stream",
     "text": [
      "25-07-20 02:18:46.282 pyfstat.utils.sft INFO    : Loading 1 SFTs from H1...\n",
      "25-07-20 02:18:46.291 pyfstat.utils.sft INFO    : Loading 1 SFTs from H1...\n",
      "25-07-20 02:18:46.299 pyfstat.utils.sft INFO    : Loading 1 SFTs from H1...\n",
      "25-07-20 02:18:46.308 pyfstat.utils.sft INFO    : Loading 1 SFTs from H1...\n",
      "25-07-20 02:18:46.317 pyfstat.utils.sft INFO    : Loading 1 SFTs from H1...\n",
      "25-07-20 02:18:46.325 pyfstat.utils.sft INFO    : Loading 1 SFTs from H1...\n",
      "25-07-20 02:18:46.334 pyfstat.utils.sft INFO    : Loading 1 SFTs from H1...\n",
      "25-07-20 02:18:46.342 pyfstat.utils.sft INFO    : Loading 1 SFTs from H1...\n",
      "25-07-20 02:18:46.350 pyfstat.utils.sft INFO    : Loading 1 SFTs from H1...\n",
      "25-07-20 02:18:46.358 pyfstat.utils.sft INFO    : Loading 1 SFTs from H1...\n",
      "25-07-20 02:18:46.367 pyfstat.utils.sft INFO    : Loading 1 SFTs from H1...\n",
      "25-07-20 02:18:46.375 pyfstat.utils.sft INFO    : Loading 1 SFTs from H1...\n"
     ]
    },
    {
     "name": "stderr",
     "output_type": "stream",
     "text": [
      " 49%|████▉     | 2360/4800 [00:20<00:20, 118.21it/s]"
     ]
    },
    {
     "name": "stdout",
     "output_type": "stream",
     "text": [
      "25-07-20 02:18:46.383 pyfstat.utils.sft INFO    : Loading 1 SFTs from H1...\n",
      "25-07-20 02:18:46.392 pyfstat.utils.sft INFO    : Loading 1 SFTs from H1...\n",
      "25-07-20 02:18:46.401 pyfstat.utils.sft INFO    : Loading 1 SFTs from H1...\n",
      "25-07-20 02:18:46.409 pyfstat.utils.sft INFO    : Loading 1 SFTs from H1...\n",
      "25-07-20 02:18:46.417 pyfstat.utils.sft INFO    : Loading 1 SFTs from H1...\n",
      "25-07-20 02:18:46.427 pyfstat.utils.sft INFO    : Loading 1 SFTs from H1...\n",
      "25-07-20 02:18:46.435 pyfstat.utils.sft INFO    : Loading 1 SFTs from H1...\n",
      "25-07-20 02:18:46.444 pyfstat.utils.sft INFO    : Loading 1 SFTs from H1...\n",
      "25-07-20 02:18:46.452 pyfstat.utils.sft INFO    : Loading 1 SFTs from H1...\n",
      "25-07-20 02:18:46.461 pyfstat.utils.sft INFO    : Loading 1 SFTs from H1...\n",
      "25-07-20 02:18:46.469 pyfstat.utils.sft INFO    : Loading 1 SFTs from H1...\n",
      "25-07-20 02:18:46.477 pyfstat.utils.sft INFO    : Loading 1 SFTs from H1...\n"
     ]
    },
    {
     "name": "stderr",
     "output_type": "stream",
     "text": [
      " 49%|████▉     | 2372/4800 [00:20<00:20, 117.79it/s]"
     ]
    },
    {
     "name": "stdout",
     "output_type": "stream",
     "text": [
      "25-07-20 02:18:46.486 pyfstat.utils.sft INFO    : Loading 1 SFTs from H1...\n",
      "25-07-20 02:18:46.495 pyfstat.utils.sft INFO    : Loading 1 SFTs from H1...\n",
      "25-07-20 02:18:46.503 pyfstat.utils.sft INFO    : Loading 1 SFTs from H1...\n",
      "25-07-20 02:18:46.511 pyfstat.utils.sft INFO    : Loading 1 SFTs from H1...\n",
      "25-07-20 02:18:46.519 pyfstat.utils.sft INFO    : Loading 1 SFTs from H1...\n",
      "25-07-20 02:18:46.528 pyfstat.utils.sft INFO    : Loading 1 SFTs from H1...\n",
      "25-07-20 02:18:46.537 pyfstat.utils.sft INFO    : Loading 1 SFTs from H1...\n",
      "25-07-20 02:18:46.546 pyfstat.utils.sft INFO    : Loading 1 SFTs from H1...\n",
      "25-07-20 02:18:46.555 pyfstat.utils.sft INFO    : Loading 1 SFTs from H1...\n",
      "25-07-20 02:18:46.563 pyfstat.utils.sft INFO    : Loading 1 SFTs from H1...\n",
      "25-07-20 02:18:46.571 pyfstat.utils.sft INFO    : Loading 1 SFTs from H1...\n",
      "25-07-20 02:18:46.579 pyfstat.utils.sft INFO    : Loading 1 SFTs from H1...\n"
     ]
    },
    {
     "name": "stderr",
     "output_type": "stream",
     "text": [
      " 50%|████▉     | 2384/4800 [00:20<00:20, 117.83it/s]"
     ]
    },
    {
     "name": "stdout",
     "output_type": "stream",
     "text": [
      "25-07-20 02:18:46.588 pyfstat.utils.sft INFO    : Loading 1 SFTs from H1...\n",
      "25-07-20 02:18:46.596 pyfstat.utils.sft INFO    : Loading 1 SFTs from H1...\n",
      "25-07-20 02:18:46.605 pyfstat.utils.sft INFO    : Loading 1 SFTs from H1...\n",
      "25-07-20 02:18:46.613 pyfstat.utils.sft INFO    : Loading 1 SFTs from H1...\n",
      "25-07-20 02:18:46.621 pyfstat.utils.sft INFO    : Loading 1 SFTs from H1...\n",
      "25-07-20 02:18:46.629 pyfstat.utils.sft INFO    : Loading 1 SFTs from H1...\n",
      "25-07-20 02:18:46.637 pyfstat.utils.sft INFO    : Loading 1 SFTs from H1...\n",
      "25-07-20 02:18:46.646 pyfstat.utils.sft INFO    : Loading 1 SFTs from H1...\n",
      "25-07-20 02:18:46.655 pyfstat.utils.sft INFO    : Loading 1 SFTs from H1...\n",
      "25-07-20 02:18:46.663 pyfstat.utils.sft INFO    : Loading 1 SFTs from H1...\n",
      "25-07-20 02:18:46.671 pyfstat.utils.sft INFO    : Loading 1 SFTs from H1...\n",
      "25-07-20 02:18:46.679 pyfstat.utils.sft INFO    : Loading 1 SFTs from H1...\n"
     ]
    },
    {
     "name": "stderr",
     "output_type": "stream",
     "text": [
      " 50%|████▉     | 2396/4800 [00:20<00:20, 118.42it/s]"
     ]
    },
    {
     "name": "stdout",
     "output_type": "stream",
     "text": [
      "25-07-20 02:18:46.688 pyfstat.utils.sft INFO    : Loading 1 SFTs from H1...\n",
      "25-07-20 02:18:46.696 pyfstat.utils.sft INFO    : Loading 1 SFTs from H1...\n",
      "25-07-20 02:18:46.705 pyfstat.utils.sft INFO    : Loading 1 SFTs from H1...\n",
      "25-07-20 02:18:46.713 pyfstat.utils.sft INFO    : Loading 1 SFTs from H1...\n",
      "25-07-20 02:18:46.722 pyfstat.utils.sft INFO    : Loading 1 SFTs from H1...\n",
      "25-07-20 02:18:46.730 pyfstat.utils.sft INFO    : Loading 1 SFTs from H1...\n",
      "25-07-20 02:18:46.739 pyfstat.utils.sft INFO    : Loading 1 SFTs from H1...\n",
      "25-07-20 02:18:46.747 pyfstat.utils.sft INFO    : Loading 1 SFTs from H1...\n",
      "25-07-20 02:18:46.756 pyfstat.utils.sft INFO    : Loading 1 SFTs from H1...\n",
      "25-07-20 02:18:46.765 pyfstat.utils.sft INFO    : Loading 1 SFTs from H1...\n",
      "25-07-20 02:18:46.774 pyfstat.utils.sft INFO    : Loading 1 SFTs from H1...\n",
      "25-07-20 02:18:46.782 pyfstat.utils.sft INFO    : Loading 1 SFTs from H1...\n"
     ]
    },
    {
     "name": "stderr",
     "output_type": "stream",
     "text": [
      " 50%|█████     | 2408/4800 [00:20<00:20, 117.70it/s]"
     ]
    },
    {
     "name": "stdout",
     "output_type": "stream",
     "text": [
      "25-07-20 02:18:46.792 pyfstat.utils.sft INFO    : Loading 1 SFTs from H1...\n",
      "25-07-20 02:18:46.801 pyfstat.utils.sft INFO    : Loading 1 SFTs from H1...\n",
      "25-07-20 02:18:46.809 pyfstat.utils.sft INFO    : Loading 1 SFTs from H1...\n",
      "25-07-20 02:18:46.818 pyfstat.utils.sft INFO    : Loading 1 SFTs from H1...\n",
      "25-07-20 02:18:46.826 pyfstat.utils.sft INFO    : Loading 1 SFTs from H1...\n",
      "25-07-20 02:18:46.835 pyfstat.utils.sft INFO    : Loading 1 SFTs from H1...\n",
      "25-07-20 02:18:46.844 pyfstat.utils.sft INFO    : Loading 1 SFTs from H1...\n",
      "25-07-20 02:18:46.853 pyfstat.utils.sft INFO    : Loading 1 SFTs from H1...\n",
      "25-07-20 02:18:46.861 pyfstat.utils.sft INFO    : Loading 1 SFTs from H1...\n",
      "25-07-20 02:18:46.870 pyfstat.utils.sft INFO    : Loading 1 SFTs from H1...\n",
      "25-07-20 02:18:46.878 pyfstat.utils.sft INFO    : Loading 1 SFTs from H1...\n",
      "25-07-20 02:18:46.886 pyfstat.utils.sft INFO    : Loading 1 SFTs from H1...\n"
     ]
    },
    {
     "name": "stderr",
     "output_type": "stream",
     "text": [
      " 50%|█████     | 2420/4800 [00:20<00:20, 116.90it/s]"
     ]
    },
    {
     "name": "stdout",
     "output_type": "stream",
     "text": [
      "25-07-20 02:18:46.896 pyfstat.utils.sft INFO    : Loading 1 SFTs from H1...\n",
      "25-07-20 02:18:46.904 pyfstat.utils.sft INFO    : Loading 1 SFTs from H1...\n",
      "25-07-20 02:18:46.912 pyfstat.utils.sft INFO    : Loading 1 SFTs from H1...\n",
      "25-07-20 02:18:46.921 pyfstat.utils.sft INFO    : Loading 1 SFTs from H1...\n",
      "25-07-20 02:18:46.929 pyfstat.utils.sft INFO    : Loading 1 SFTs from H1...\n",
      "25-07-20 02:18:46.937 pyfstat.utils.sft INFO    : Loading 1 SFTs from H1...\n",
      "25-07-20 02:18:46.946 pyfstat.utils.sft INFO    : Loading 1 SFTs from H1...\n",
      "25-07-20 02:18:46.955 pyfstat.utils.sft INFO    : Loading 1 SFTs from H1...\n",
      "25-07-20 02:18:46.963 pyfstat.utils.sft INFO    : Loading 1 SFTs from H1...\n",
      "25-07-20 02:18:46.972 pyfstat.utils.sft INFO    : Loading 1 SFTs from H1...\n",
      "25-07-20 02:18:46.981 pyfstat.utils.sft INFO    : Loading 1 SFTs from H1...\n",
      "25-07-20 02:18:46.990 pyfstat.utils.sft INFO    : Loading 1 SFTs from H1...\n"
     ]
    },
    {
     "name": "stderr",
     "output_type": "stream",
     "text": [
      " 51%|█████     | 2432/4800 [00:20<00:20, 116.89it/s]"
     ]
    },
    {
     "name": "stdout",
     "output_type": "stream",
     "text": [
      "25-07-20 02:18:46.999 pyfstat.utils.sft INFO    : Loading 1 SFTs from H1...\n",
      "25-07-20 02:18:47.008 pyfstat.utils.sft INFO    : Loading 1 SFTs from H1...\n",
      "25-07-20 02:18:47.017 pyfstat.utils.sft INFO    : Loading 1 SFTs from H1...\n",
      "25-07-20 02:18:47.026 pyfstat.utils.sft INFO    : Loading 1 SFTs from H1...\n",
      "25-07-20 02:18:47.038 pyfstat.utils.sft INFO    : Loading 1 SFTs from H1...\n",
      "25-07-20 02:18:47.049 pyfstat.utils.sft INFO    : Loading 1 SFTs from H1...\n",
      "25-07-20 02:18:47.058 pyfstat.utils.sft INFO    : Loading 1 SFTs from H1...\n",
      "25-07-20 02:18:47.067 pyfstat.utils.sft INFO    : Loading 1 SFTs from H1...\n",
      "25-07-20 02:18:47.076 pyfstat.utils.sft INFO    : Loading 1 SFTs from H1...\n",
      "25-07-20 02:18:47.084 pyfstat.utils.sft INFO    : Loading 1 SFTs from H1...\n",
      "25-07-20 02:18:47.093 pyfstat.utils.sft INFO    : Loading 1 SFTs from H1...\n",
      "25-07-20 02:18:47.102 pyfstat.utils.sft INFO    : Loading 1 SFTs from H1...\n"
     ]
    },
    {
     "name": "stderr",
     "output_type": "stream",
     "text": [
      " 51%|█████     | 2444/4800 [00:20<00:20, 113.69it/s]"
     ]
    },
    {
     "name": "stdout",
     "output_type": "stream",
     "text": [
      "25-07-20 02:18:47.111 pyfstat.utils.sft INFO    : Loading 1 SFTs from H1...\n",
      "25-07-20 02:18:47.120 pyfstat.utils.sft INFO    : Loading 1 SFTs from H1...\n",
      "25-07-20 02:18:47.129 pyfstat.utils.sft INFO    : Loading 1 SFTs from H1...\n",
      "25-07-20 02:18:47.138 pyfstat.utils.sft INFO    : Loading 1 SFTs from H1...\n",
      "25-07-20 02:18:47.147 pyfstat.utils.sft INFO    : Loading 1 SFTs from H1...\n",
      "25-07-20 02:18:47.155 pyfstat.utils.sft INFO    : Loading 1 SFTs from H1...\n",
      "25-07-20 02:18:47.164 pyfstat.utils.sft INFO    : Loading 1 SFTs from H1...\n",
      "25-07-20 02:18:47.173 pyfstat.utils.sft INFO    : Loading 1 SFTs from H1...\n",
      "25-07-20 02:18:47.181 pyfstat.utils.sft INFO    : Loading 1 SFTs from H1...\n",
      "25-07-20 02:18:47.190 pyfstat.utils.sft INFO    : Loading 1 SFTs from H1...\n",
      "25-07-20 02:18:47.199 pyfstat.utils.sft INFO    : Loading 1 SFTs from H1...\n",
      "25-07-20 02:18:47.208 pyfstat.utils.sft INFO    : Loading 1 SFTs from H1...\n"
     ]
    },
    {
     "name": "stderr",
     "output_type": "stream",
     "text": [
      " 51%|█████     | 2456/4800 [00:20<00:20, 113.32it/s]"
     ]
    },
    {
     "name": "stdout",
     "output_type": "stream",
     "text": [
      "25-07-20 02:18:47.217 pyfstat.utils.sft INFO    : Loading 1 SFTs from H1...\n",
      "25-07-20 02:18:47.227 pyfstat.utils.sft INFO    : Loading 1 SFTs from H1...\n",
      "25-07-20 02:18:47.235 pyfstat.utils.sft INFO    : Loading 1 SFTs from H1...\n",
      "25-07-20 02:18:47.244 pyfstat.utils.sft INFO    : Loading 1 SFTs from H1...\n",
      "25-07-20 02:18:47.252 pyfstat.utils.sft INFO    : Loading 1 SFTs from H1...\n",
      "25-07-20 02:18:47.261 pyfstat.utils.sft INFO    : Loading 1 SFTs from H1...\n",
      "25-07-20 02:18:47.269 pyfstat.utils.sft INFO    : Loading 1 SFTs from H1...\n",
      "25-07-20 02:18:47.278 pyfstat.utils.sft INFO    : Loading 1 SFTs from H1...\n",
      "25-07-20 02:18:47.287 pyfstat.utils.sft INFO    : Loading 1 SFTs from H1...\n",
      "25-07-20 02:18:47.296 pyfstat.utils.sft INFO    : Loading 1 SFTs from H1...\n",
      "25-07-20 02:18:47.305 pyfstat.utils.sft INFO    : Loading 1 SFTs from H1...\n",
      "25-07-20 02:18:47.314 pyfstat.utils.sft INFO    : Loading 1 SFTs from H1...\n"
     ]
    },
    {
     "name": "stderr",
     "output_type": "stream",
     "text": [
      " 51%|█████▏    | 2468/4800 [00:21<00:20, 113.19it/s]"
     ]
    },
    {
     "name": "stdout",
     "output_type": "stream",
     "text": [
      "25-07-20 02:18:47.324 pyfstat.utils.sft INFO    : Loading 1 SFTs from H1...\n",
      "25-07-20 02:18:47.332 pyfstat.utils.sft INFO    : Loading 1 SFTs from H1...\n",
      "25-07-20 02:18:47.341 pyfstat.utils.sft INFO    : Loading 1 SFTs from H1...\n",
      "25-07-20 02:18:47.350 pyfstat.utils.sft INFO    : Loading 1 SFTs from H1...\n",
      "25-07-20 02:18:47.358 pyfstat.utils.sft INFO    : Loading 1 SFTs from H1...\n",
      "25-07-20 02:18:47.366 pyfstat.utils.sft INFO    : Loading 1 SFTs from H1...\n",
      "25-07-20 02:18:47.375 pyfstat.utils.sft INFO    : Loading 1 SFTs from H1...\n",
      "25-07-20 02:18:47.383 pyfstat.utils.sft INFO    : Loading 1 SFTs from H1...\n",
      "25-07-20 02:18:47.392 pyfstat.utils.sft INFO    : Loading 1 SFTs from H1...\n",
      "25-07-20 02:18:47.401 pyfstat.utils.sft INFO    : Loading 1 SFTs from H1...\n",
      "25-07-20 02:18:47.409 pyfstat.utils.sft INFO    : Loading 1 SFTs from H1...\n",
      "25-07-20 02:18:47.418 pyfstat.utils.sft INFO    : Loading 1 SFTs from H1...\n"
     ]
    },
    {
     "name": "stderr",
     "output_type": "stream",
     "text": [
      " 52%|█████▏    | 2480/4800 [00:21<00:20, 114.10it/s]"
     ]
    },
    {
     "name": "stdout",
     "output_type": "stream",
     "text": [
      "25-07-20 02:18:47.427 pyfstat.utils.sft INFO    : Loading 1 SFTs from H1...\n",
      "25-07-20 02:18:47.435 pyfstat.utils.sft INFO    : Loading 1 SFTs from H1...\n",
      "25-07-20 02:18:47.444 pyfstat.utils.sft INFO    : Loading 1 SFTs from H1...\n",
      "25-07-20 02:18:47.453 pyfstat.utils.sft INFO    : Loading 1 SFTs from H1...\n",
      "25-07-20 02:18:47.462 pyfstat.utils.sft INFO    : Loading 1 SFTs from H1...\n",
      "25-07-20 02:18:47.470 pyfstat.utils.sft INFO    : Loading 1 SFTs from H1...\n",
      "25-07-20 02:18:47.479 pyfstat.utils.sft INFO    : Loading 1 SFTs from H1...\n",
      "25-07-20 02:18:47.487 pyfstat.utils.sft INFO    : Loading 1 SFTs from H1...\n",
      "25-07-20 02:18:47.495 pyfstat.utils.sft INFO    : Loading 1 SFTs from H1...\n",
      "25-07-20 02:18:47.504 pyfstat.utils.sft INFO    : Loading 1 SFTs from H1...\n",
      "25-07-20 02:18:47.512 pyfstat.utils.sft INFO    : Loading 1 SFTs from H1...\n",
      "25-07-20 02:18:47.521 pyfstat.utils.sft INFO    : Loading 1 SFTs from H1...\n"
     ]
    },
    {
     "name": "stderr",
     "output_type": "stream",
     "text": [
      " 52%|█████▏    | 2492/4800 [00:21<00:20, 114.95it/s]"
     ]
    },
    {
     "name": "stdout",
     "output_type": "stream",
     "text": [
      "25-07-20 02:18:47.530 pyfstat.utils.sft INFO    : Loading 1 SFTs from H1...\n",
      "25-07-20 02:18:47.539 pyfstat.utils.sft INFO    : Loading 1 SFTs from H1...\n",
      "25-07-20 02:18:47.548 pyfstat.utils.sft INFO    : Loading 1 SFTs from H1...\n",
      "25-07-20 02:18:47.556 pyfstat.utils.sft INFO    : Loading 1 SFTs from H1...\n",
      "25-07-20 02:18:47.564 pyfstat.utils.sft INFO    : Loading 1 SFTs from H1...\n",
      "25-07-20 02:18:47.573 pyfstat.utils.sft INFO    : Loading 1 SFTs from H1...\n",
      "25-07-20 02:18:47.582 pyfstat.utils.sft INFO    : Loading 1 SFTs from H1...\n",
      "25-07-20 02:18:47.591 pyfstat.utils.sft INFO    : Loading 1 SFTs from H1...\n",
      "25-07-20 02:18:47.599 pyfstat.utils.sft INFO    : Loading 1 SFTs from H1...\n",
      "25-07-20 02:18:47.608 pyfstat.utils.sft INFO    : Loading 1 SFTs from H1...\n",
      "25-07-20 02:18:47.616 pyfstat.utils.sft INFO    : Loading 1 SFTs from H1...\n",
      "25-07-20 02:18:47.625 pyfstat.utils.sft INFO    : Loading 1 SFTs from H1...\n"
     ]
    },
    {
     "name": "stderr",
     "output_type": "stream",
     "text": [
      " 52%|█████▏    | 2504/4800 [00:21<00:19, 115.00it/s]"
     ]
    },
    {
     "name": "stdout",
     "output_type": "stream",
     "text": [
      "25-07-20 02:18:47.634 pyfstat.utils.sft INFO    : Loading 1 SFTs from H1...\n",
      "25-07-20 02:18:47.642 pyfstat.utils.sft INFO    : Loading 1 SFTs from H1...\n",
      "25-07-20 02:18:47.651 pyfstat.utils.sft INFO    : Loading 1 SFTs from H1...\n",
      "25-07-20 02:18:47.660 pyfstat.utils.sft INFO    : Loading 1 SFTs from H1...\n",
      "25-07-20 02:18:47.669 pyfstat.utils.sft INFO    : Loading 1 SFTs from H1...\n",
      "25-07-20 02:18:47.677 pyfstat.utils.sft INFO    : Loading 1 SFTs from H1...\n",
      "25-07-20 02:18:47.685 pyfstat.utils.sft INFO    : Loading 1 SFTs from H1...\n",
      "25-07-20 02:18:47.694 pyfstat.utils.sft INFO    : Loading 1 SFTs from H1...\n",
      "25-07-20 02:18:47.703 pyfstat.utils.sft INFO    : Loading 1 SFTs from H1...\n",
      "25-07-20 02:18:47.711 pyfstat.utils.sft INFO    : Loading 1 SFTs from H1...\n",
      "25-07-20 02:18:47.720 pyfstat.utils.sft INFO    : Loading 1 SFTs from H1...\n",
      "25-07-20 02:18:47.729 pyfstat.utils.sft INFO    : Loading 1 SFTs from H1...\n"
     ]
    },
    {
     "name": "stderr",
     "output_type": "stream",
     "text": [
      " 52%|█████▏    | 2516/4800 [00:21<00:19, 115.09it/s]"
     ]
    },
    {
     "name": "stdout",
     "output_type": "stream",
     "text": [
      "25-07-20 02:18:47.738 pyfstat.utils.sft INFO    : Loading 1 SFTs from H1...\n",
      "25-07-20 02:18:47.747 pyfstat.utils.sft INFO    : Loading 1 SFTs from H1...\n",
      "25-07-20 02:18:47.756 pyfstat.utils.sft INFO    : Loading 1 SFTs from H1...\n",
      "25-07-20 02:18:47.765 pyfstat.utils.sft INFO    : Loading 1 SFTs from H1...\n",
      "25-07-20 02:18:47.774 pyfstat.utils.sft INFO    : Loading 1 SFTs from H1...\n",
      "25-07-20 02:18:47.783 pyfstat.utils.sft INFO    : Loading 1 SFTs from H1...\n",
      "25-07-20 02:18:47.791 pyfstat.utils.sft INFO    : Loading 1 SFTs from H1...\n",
      "25-07-20 02:18:47.799 pyfstat.utils.sft INFO    : Loading 1 SFTs from H1...\n",
      "25-07-20 02:18:47.808 pyfstat.utils.sft INFO    : Loading 1 SFTs from H1...\n",
      "25-07-20 02:18:47.816 pyfstat.utils.sft INFO    : Loading 1 SFTs from H1...\n",
      "25-07-20 02:18:47.824 pyfstat.utils.sft INFO    : Loading 1 SFTs from H1...\n",
      "25-07-20 02:18:47.833 pyfstat.utils.sft INFO    : Loading 1 SFTs from H1...\n"
     ]
    },
    {
     "name": "stderr",
     "output_type": "stream",
     "text": [
      " 53%|█████▎    | 2528/4800 [00:21<00:19, 115.12it/s]"
     ]
    },
    {
     "name": "stdout",
     "output_type": "stream",
     "text": [
      "25-07-20 02:18:47.842 pyfstat.utils.sft INFO    : Loading 1 SFTs from H1...\n",
      "25-07-20 02:18:47.851 pyfstat.utils.sft INFO    : Loading 1 SFTs from H1...\n",
      "25-07-20 02:18:47.859 pyfstat.utils.sft INFO    : Loading 1 SFTs from H1...\n",
      "25-07-20 02:18:47.867 pyfstat.utils.sft INFO    : Loading 1 SFTs from H1...\n",
      "25-07-20 02:18:47.876 pyfstat.utils.sft INFO    : Loading 1 SFTs from H1...\n",
      "25-07-20 02:18:47.884 pyfstat.utils.sft INFO    : Loading 1 SFTs from H1...\n",
      "25-07-20 02:18:47.893 pyfstat.utils.sft INFO    : Loading 1 SFTs from H1...\n",
      "25-07-20 02:18:47.901 pyfstat.utils.sft INFO    : Loading 1 SFTs from H1...\n",
      "25-07-20 02:18:47.909 pyfstat.utils.sft INFO    : Loading 1 SFTs from H1...\n",
      "25-07-20 02:18:47.918 pyfstat.utils.sft INFO    : Loading 1 SFTs from H1...\n",
      "25-07-20 02:18:47.926 pyfstat.utils.sft INFO    : Loading 1 SFTs from H1...\n",
      "25-07-20 02:18:47.934 pyfstat.utils.sft INFO    : Loading 1 SFTs from H1...\n"
     ]
    },
    {
     "name": "stderr",
     "output_type": "stream",
     "text": [
      " 53%|█████▎    | 2540/4800 [00:21<00:19, 116.13it/s]"
     ]
    },
    {
     "name": "stdout",
     "output_type": "stream",
     "text": [
      "25-07-20 02:18:47.943 pyfstat.utils.sft INFO    : Loading 1 SFTs from H1...\n",
      "25-07-20 02:18:47.951 pyfstat.utils.sft INFO    : Loading 1 SFTs from H1...\n",
      "25-07-20 02:18:47.960 pyfstat.utils.sft INFO    : Loading 1 SFTs from H1...\n",
      "25-07-20 02:18:47.968 pyfstat.utils.sft INFO    : Loading 1 SFTs from H1...\n",
      "25-07-20 02:18:47.977 pyfstat.utils.sft INFO    : Loading 1 SFTs from H1...\n",
      "25-07-20 02:18:47.986 pyfstat.utils.sft INFO    : Loading 1 SFTs from H1...\n",
      "25-07-20 02:18:47.995 pyfstat.utils.sft INFO    : Loading 1 SFTs from H1...\n",
      "25-07-20 02:18:48.003 pyfstat.utils.sft INFO    : Loading 1 SFTs from H1...\n",
      "25-07-20 02:18:48.012 pyfstat.utils.sft INFO    : Loading 1 SFTs from H1...\n",
      "25-07-20 02:18:48.021 pyfstat.utils.sft INFO    : Loading 1 SFTs from H1...\n",
      "25-07-20 02:18:48.030 pyfstat.utils.sft INFO    : Loading 1 SFTs from H1...\n",
      "25-07-20 02:18:48.038 pyfstat.utils.sft INFO    : Loading 1 SFTs from H1...\n"
     ]
    },
    {
     "name": "stderr",
     "output_type": "stream",
     "text": [
      " 53%|█████▎    | 2552/4800 [00:21<00:19, 115.85it/s]"
     ]
    },
    {
     "name": "stdout",
     "output_type": "stream",
     "text": [
      "25-07-20 02:18:48.048 pyfstat.utils.sft INFO    : Loading 1 SFTs from H1...\n",
      "25-07-20 02:18:48.056 pyfstat.utils.sft INFO    : Loading 1 SFTs from H1...\n",
      "25-07-20 02:18:48.065 pyfstat.utils.sft INFO    : Loading 1 SFTs from H1...\n",
      "25-07-20 02:18:48.074 pyfstat.utils.sft INFO    : Loading 1 SFTs from H1...\n",
      "25-07-20 02:18:48.082 pyfstat.utils.sft INFO    : Loading 1 SFTs from H1...\n",
      "25-07-20 02:18:48.091 pyfstat.utils.sft INFO    : Loading 1 SFTs from H1...\n",
      "25-07-20 02:18:48.100 pyfstat.utils.sft INFO    : Loading 1 SFTs from H1...\n",
      "25-07-20 02:18:48.108 pyfstat.utils.sft INFO    : Loading 1 SFTs from H1...\n",
      "25-07-20 02:18:48.117 pyfstat.utils.sft INFO    : Loading 1 SFTs from H1...\n",
      "25-07-20 02:18:48.125 pyfstat.utils.sft INFO    : Loading 1 SFTs from H1...\n",
      "25-07-20 02:18:48.134 pyfstat.utils.sft INFO    : Loading 1 SFTs from H1...\n",
      "25-07-20 02:18:48.141 pyfstat.utils.sft INFO    : Loading 1 SFTs from H1...\n"
     ]
    },
    {
     "name": "stderr",
     "output_type": "stream",
     "text": [
      " 53%|█████▎    | 2564/4800 [00:21<00:19, 116.05it/s]"
     ]
    },
    {
     "name": "stdout",
     "output_type": "stream",
     "text": [
      "25-07-20 02:18:48.150 pyfstat.utils.sft INFO    : Loading 1 SFTs from H1...\n",
      "25-07-20 02:18:48.159 pyfstat.utils.sft INFO    : Loading 1 SFTs from H1...\n",
      "25-07-20 02:18:48.168 pyfstat.utils.sft INFO    : Loading 1 SFTs from H1...\n",
      "25-07-20 02:18:48.176 pyfstat.utils.sft INFO    : Loading 1 SFTs from H1...\n",
      "25-07-20 02:18:48.185 pyfstat.utils.sft INFO    : Loading 1 SFTs from H1...\n",
      "25-07-20 02:18:48.193 pyfstat.utils.sft INFO    : Loading 1 SFTs from H1...\n",
      "25-07-20 02:18:48.202 pyfstat.utils.sft INFO    : Loading 1 SFTs from H1...\n",
      "25-07-20 02:18:48.211 pyfstat.utils.sft INFO    : Loading 1 SFTs from H1...\n",
      "25-07-20 02:18:48.219 pyfstat.utils.sft INFO    : Loading 1 SFTs from H1...\n",
      "25-07-20 02:18:48.227 pyfstat.utils.sft INFO    : Loading 1 SFTs from H1...\n",
      "25-07-20 02:18:48.236 pyfstat.utils.sft INFO    : Loading 1 SFTs from H1...\n",
      "25-07-20 02:18:48.244 pyfstat.utils.sft INFO    : Loading 1 SFTs from H1...\n"
     ]
    },
    {
     "name": "stderr",
     "output_type": "stream",
     "text": [
      " 54%|█████▎    | 2576/4800 [00:21<00:19, 116.25it/s]"
     ]
    },
    {
     "name": "stdout",
     "output_type": "stream",
     "text": [
      "25-07-20 02:18:48.253 pyfstat.utils.sft INFO    : Loading 1 SFTs from H1...\n",
      "25-07-20 02:18:48.262 pyfstat.utils.sft INFO    : Loading 1 SFTs from H1...\n",
      "25-07-20 02:18:48.271 pyfstat.utils.sft INFO    : Loading 1 SFTs from H1...\n",
      "25-07-20 02:18:48.279 pyfstat.utils.sft INFO    : Loading 1 SFTs from H1...\n",
      "25-07-20 02:18:48.288 pyfstat.utils.sft INFO    : Loading 1 SFTs from H1...\n",
      "25-07-20 02:18:48.296 pyfstat.utils.sft INFO    : Loading 1 SFTs from H1...\n",
      "25-07-20 02:18:48.304 pyfstat.utils.sft INFO    : Loading 1 SFTs from H1...\n",
      "25-07-20 02:18:48.314 pyfstat.utils.sft INFO    : Loading 1 SFTs from H1...\n",
      "25-07-20 02:18:48.323 pyfstat.utils.sft INFO    : Loading 1 SFTs from H1...\n",
      "25-07-20 02:18:48.331 pyfstat.utils.sft INFO    : Loading 1 SFTs from H1...\n",
      "25-07-20 02:18:48.340 pyfstat.utils.sft INFO    : Loading 1 SFTs from H1...\n",
      "25-07-20 02:18:48.348 pyfstat.utils.sft INFO    : Loading 1 SFTs from H1...\n"
     ]
    },
    {
     "name": "stderr",
     "output_type": "stream",
     "text": [
      " 54%|█████▍    | 2588/4800 [00:22<00:19, 115.75it/s]"
     ]
    },
    {
     "name": "stdout",
     "output_type": "stream",
     "text": [
      "25-07-20 02:18:48.358 pyfstat.utils.sft INFO    : Loading 1 SFTs from H1...\n",
      "25-07-20 02:18:48.368 pyfstat.utils.sft INFO    : Loading 1 SFTs from H1...\n",
      "25-07-20 02:18:48.377 pyfstat.utils.sft INFO    : Loading 1 SFTs from H1...\n",
      "25-07-20 02:18:48.386 pyfstat.utils.sft INFO    : Loading 1 SFTs from H1...\n",
      "25-07-20 02:18:48.395 pyfstat.utils.sft INFO    : Loading 1 SFTs from H1...\n",
      "25-07-20 02:18:48.404 pyfstat.utils.sft INFO    : Loading 1 SFTs from H1...\n",
      "25-07-20 02:18:48.413 pyfstat.utils.sft INFO    : Loading 1 SFTs from H1...\n",
      "25-07-20 02:18:48.421 pyfstat.utils.sft INFO    : Loading 1 SFTs from H1...\n",
      "25-07-20 02:18:48.431 pyfstat.utils.sft INFO    : Loading 1 SFTs from H1...\n",
      "25-07-20 02:18:48.440 pyfstat.utils.sft INFO    : Loading 1 SFTs from H1...\n",
      "25-07-20 02:18:48.449 pyfstat.utils.sft INFO    : Loading 1 SFTs from H1...\n",
      "25-07-20 02:18:48.457 pyfstat.utils.sft INFO    : Loading 1 SFTs from H1...\n"
     ]
    },
    {
     "name": "stderr",
     "output_type": "stream",
     "text": [
      " 54%|█████▍    | 2600/4800 [00:22<00:19, 114.37it/s]"
     ]
    },
    {
     "name": "stdout",
     "output_type": "stream",
     "text": [
      "25-07-20 02:18:48.466 pyfstat.utils.sft INFO    : Loading 1 SFTs from H1...\n",
      "25-07-20 02:18:48.474 pyfstat.utils.sft INFO    : Loading 1 SFTs from H1...\n",
      "25-07-20 02:18:48.483 pyfstat.utils.sft INFO    : Loading 1 SFTs from H1...\n",
      "25-07-20 02:18:48.491 pyfstat.utils.sft INFO    : Loading 1 SFTs from H1...\n",
      "25-07-20 02:18:48.500 pyfstat.utils.sft INFO    : Loading 1 SFTs from H1...\n",
      "25-07-20 02:18:48.508 pyfstat.utils.sft INFO    : Loading 1 SFTs from H1...\n",
      "25-07-20 02:18:48.516 pyfstat.utils.sft INFO    : Loading 1 SFTs from H1...\n",
      "25-07-20 02:18:48.525 pyfstat.utils.sft INFO    : Loading 1 SFTs from H1...\n",
      "25-07-20 02:18:48.533 pyfstat.utils.sft INFO    : Loading 1 SFTs from H1...\n",
      "25-07-20 02:18:48.542 pyfstat.utils.sft INFO    : Loading 1 SFTs from H1...\n",
      "25-07-20 02:18:48.550 pyfstat.utils.sft INFO    : Loading 1 SFTs from H1...\n",
      "25-07-20 02:18:48.559 pyfstat.utils.sft INFO    : Loading 1 SFTs from H1...\n"
     ]
    },
    {
     "name": "stderr",
     "output_type": "stream",
     "text": [
      " 54%|█████▍    | 2612/4800 [00:22<00:18, 115.23it/s]"
     ]
    },
    {
     "name": "stdout",
     "output_type": "stream",
     "text": [
      "25-07-20 02:18:48.568 pyfstat.utils.sft INFO    : Loading 1 SFTs from H1...\n",
      "25-07-20 02:18:48.576 pyfstat.utils.sft INFO    : Loading 1 SFTs from H1...\n",
      "25-07-20 02:18:48.585 pyfstat.utils.sft INFO    : Loading 1 SFTs from H1...\n",
      "25-07-20 02:18:48.593 pyfstat.utils.sft INFO    : Loading 1 SFTs from H1...\n",
      "25-07-20 02:18:48.601 pyfstat.utils.sft INFO    : Loading 1 SFTs from H1...\n",
      "25-07-20 02:18:48.609 pyfstat.utils.sft INFO    : Loading 1 SFTs from H1...\n",
      "25-07-20 02:18:48.618 pyfstat.utils.sft INFO    : Loading 1 SFTs from H1...\n",
      "25-07-20 02:18:48.626 pyfstat.utils.sft INFO    : Loading 1 SFTs from H1...\n",
      "25-07-20 02:18:48.635 pyfstat.utils.sft INFO    : Loading 1 SFTs from H1...\n",
      "25-07-20 02:18:48.643 pyfstat.utils.sft INFO    : Loading 1 SFTs from H1...\n",
      "25-07-20 02:18:48.652 pyfstat.utils.sft INFO    : Loading 1 SFTs from H1...\n",
      "25-07-20 02:18:48.661 pyfstat.utils.sft INFO    : Loading 1 SFTs from H1...\n"
     ]
    },
    {
     "name": "stderr",
     "output_type": "stream",
     "text": [
      " 55%|█████▍    | 2624/4800 [00:22<00:18, 116.21it/s]"
     ]
    },
    {
     "name": "stdout",
     "output_type": "stream",
     "text": [
      "25-07-20 02:18:48.669 pyfstat.utils.sft INFO    : Loading 1 SFTs from H1...\n",
      "25-07-20 02:18:48.678 pyfstat.utils.sft INFO    : Loading 1 SFTs from H1...\n",
      "25-07-20 02:18:48.686 pyfstat.utils.sft INFO    : Loading 1 SFTs from H1...\n",
      "25-07-20 02:18:48.695 pyfstat.utils.sft INFO    : Loading 1 SFTs from H1...\n",
      "25-07-20 02:18:48.703 pyfstat.utils.sft INFO    : Loading 1 SFTs from H1...\n",
      "25-07-20 02:18:48.711 pyfstat.utils.sft INFO    : Loading 1 SFTs from H1...\n",
      "25-07-20 02:18:48.719 pyfstat.utils.sft INFO    : Loading 1 SFTs from H1...\n",
      "25-07-20 02:18:48.727 pyfstat.utils.sft INFO    : Loading 1 SFTs from H1...\n",
      "25-07-20 02:18:48.735 pyfstat.utils.sft INFO    : Loading 1 SFTs from H1...\n",
      "25-07-20 02:18:48.743 pyfstat.utils.sft INFO    : Loading 1 SFTs from H1...\n",
      "25-07-20 02:18:48.751 pyfstat.utils.sft INFO    : Loading 1 SFTs from H1...\n",
      "25-07-20 02:18:48.760 pyfstat.utils.sft INFO    : Loading 1 SFTs from H1...\n",
      "25-07-20 02:18:48.768 pyfstat.utils.sft INFO    : Loading 1 SFTs from H1...\n"
     ]
    },
    {
     "name": "stderr",
     "output_type": "stream",
     "text": [
      " 55%|█████▍    | 2637/4800 [00:22<00:18, 117.45it/s]"
     ]
    },
    {
     "name": "stdout",
     "output_type": "stream",
     "text": [
      "25-07-20 02:18:48.777 pyfstat.utils.sft INFO    : Loading 1 SFTs from H1...\n",
      "25-07-20 02:18:48.786 pyfstat.utils.sft INFO    : Loading 1 SFTs from H1...\n",
      "25-07-20 02:18:48.794 pyfstat.utils.sft INFO    : Loading 1 SFTs from H1...\n",
      "25-07-20 02:18:48.802 pyfstat.utils.sft INFO    : Loading 1 SFTs from H1...\n",
      "25-07-20 02:18:48.811 pyfstat.utils.sft INFO    : Loading 1 SFTs from H1...\n",
      "25-07-20 02:18:48.819 pyfstat.utils.sft INFO    : Loading 1 SFTs from H1...\n",
      "25-07-20 02:18:48.827 pyfstat.utils.sft INFO    : Loading 1 SFTs from H1...\n",
      "25-07-20 02:18:48.837 pyfstat.utils.sft INFO    : Loading 1 SFTs from H1...\n",
      "25-07-20 02:18:48.846 pyfstat.utils.sft INFO    : Loading 1 SFTs from H1...\n",
      "25-07-20 02:18:48.854 pyfstat.utils.sft INFO    : Loading 1 SFTs from H1...\n",
      "25-07-20 02:18:48.863 pyfstat.utils.sft INFO    : Loading 1 SFTs from H1...\n",
      "25-07-20 02:18:48.872 pyfstat.utils.sft INFO    : Loading 1 SFTs from H1...\n"
     ]
    },
    {
     "name": "stderr",
     "output_type": "stream",
     "text": [
      " 55%|█████▌    | 2649/4800 [00:22<00:18, 117.06it/s]"
     ]
    },
    {
     "name": "stdout",
     "output_type": "stream",
     "text": [
      "25-07-20 02:18:48.881 pyfstat.utils.sft INFO    : Loading 1 SFTs from H1...\n",
      "25-07-20 02:18:48.889 pyfstat.utils.sft INFO    : Loading 1 SFTs from H1...\n",
      "25-07-20 02:18:48.898 pyfstat.utils.sft INFO    : Loading 1 SFTs from H1...\n",
      "25-07-20 02:18:48.906 pyfstat.utils.sft INFO    : Loading 1 SFTs from H1...\n",
      "25-07-20 02:18:48.915 pyfstat.utils.sft INFO    : Loading 1 SFTs from H1...\n",
      "25-07-20 02:18:48.923 pyfstat.utils.sft INFO    : Loading 1 SFTs from H1...\n",
      "25-07-20 02:18:48.932 pyfstat.utils.sft INFO    : Loading 1 SFTs from H1...\n",
      "25-07-20 02:18:48.940 pyfstat.utils.sft INFO    : Loading 1 SFTs from H1...\n",
      "25-07-20 02:18:48.949 pyfstat.utils.sft INFO    : Loading 1 SFTs from H1...\n",
      "25-07-20 02:18:48.957 pyfstat.utils.sft INFO    : Loading 1 SFTs from H1...\n",
      "25-07-20 02:18:48.965 pyfstat.utils.sft INFO    : Loading 1 SFTs from H1...\n",
      "25-07-20 02:18:48.974 pyfstat.utils.sft INFO    : Loading 1 SFTs from H1...\n"
     ]
    },
    {
     "name": "stderr",
     "output_type": "stream",
     "text": [
      " 55%|█████▌    | 2661/4800 [00:22<00:18, 117.07it/s]"
     ]
    },
    {
     "name": "stdout",
     "output_type": "stream",
     "text": [
      "25-07-20 02:18:48.983 pyfstat.utils.sft INFO    : Loading 1 SFTs from H1...\n",
      "25-07-20 02:18:48.993 pyfstat.utils.sft INFO    : Loading 1 SFTs from H1...\n",
      "25-07-20 02:18:49.002 pyfstat.utils.sft INFO    : Loading 1 SFTs from H1...\n",
      "25-07-20 02:18:49.010 pyfstat.utils.sft INFO    : Loading 1 SFTs from H1...\n",
      "25-07-20 02:18:49.020 pyfstat.utils.sft INFO    : Loading 1 SFTs from H1...\n",
      "25-07-20 02:18:49.028 pyfstat.utils.sft INFO    : Loading 1 SFTs from H1...\n",
      "25-07-20 02:18:49.036 pyfstat.utils.sft INFO    : Loading 1 SFTs from H1...\n",
      "25-07-20 02:18:49.044 pyfstat.utils.sft INFO    : Loading 1 SFTs from H1...\n",
      "25-07-20 02:18:49.052 pyfstat.utils.sft INFO    : Loading 1 SFTs from H1...\n",
      "25-07-20 02:18:49.061 pyfstat.utils.sft INFO    : Loading 1 SFTs from H1...\n",
      "25-07-20 02:18:49.068 pyfstat.utils.sft INFO    : Loading 1 SFTs from H1...\n",
      "25-07-20 02:18:49.076 pyfstat.utils.sft INFO    : Loading 1 SFTs from H1...\n"
     ]
    },
    {
     "name": "stderr",
     "output_type": "stream",
     "text": [
      " 56%|█████▌    | 2673/4800 [00:22<00:18, 117.37it/s]"
     ]
    },
    {
     "name": "stdout",
     "output_type": "stream",
     "text": [
      "25-07-20 02:18:49.085 pyfstat.utils.sft INFO    : Loading 1 SFTs from H1...\n",
      "25-07-20 02:18:49.094 pyfstat.utils.sft INFO    : Loading 1 SFTs from H1...\n",
      "25-07-20 02:18:49.102 pyfstat.utils.sft INFO    : Loading 1 SFTs from H1...\n",
      "25-07-20 02:18:49.110 pyfstat.utils.sft INFO    : Loading 1 SFTs from H1...\n",
      "25-07-20 02:18:49.118 pyfstat.utils.sft INFO    : Loading 1 SFTs from H1...\n",
      "25-07-20 02:18:49.126 pyfstat.utils.sft INFO    : Loading 1 SFTs from H1...\n",
      "25-07-20 02:18:49.135 pyfstat.utils.sft INFO    : Loading 1 SFTs from H1...\n",
      "25-07-20 02:18:49.143 pyfstat.utils.sft INFO    : Loading 1 SFTs from H1...\n",
      "25-07-20 02:18:49.151 pyfstat.utils.sft INFO    : Loading 1 SFTs from H1...\n",
      "25-07-20 02:18:49.159 pyfstat.utils.sft INFO    : Loading 1 SFTs from H1...\n",
      "25-07-20 02:18:49.168 pyfstat.utils.sft INFO    : Loading 1 SFTs from H1...\n",
      "25-07-20 02:18:49.177 pyfstat.utils.sft INFO    : Loading 1 SFTs from H1...\n"
     ]
    },
    {
     "name": "stderr",
     "output_type": "stream",
     "text": [
      " 56%|█████▌    | 2685/4800 [00:22<00:17, 117.91it/s]"
     ]
    },
    {
     "name": "stdout",
     "output_type": "stream",
     "text": [
      "25-07-20 02:18:49.186 pyfstat.utils.sft INFO    : Loading 1 SFTs from H1...\n",
      "25-07-20 02:18:49.194 pyfstat.utils.sft INFO    : Loading 1 SFTs from H1...\n",
      "25-07-20 02:18:49.203 pyfstat.utils.sft INFO    : Loading 1 SFTs from H1...\n",
      "25-07-20 02:18:49.212 pyfstat.utils.sft INFO    : Loading 1 SFTs from H1...\n",
      "25-07-20 02:18:49.220 pyfstat.utils.sft INFO    : Loading 1 SFTs from H1...\n",
      "25-07-20 02:18:49.229 pyfstat.utils.sft INFO    : Loading 1 SFTs from H1...\n",
      "25-07-20 02:18:49.237 pyfstat.utils.sft INFO    : Loading 1 SFTs from H1...\n",
      "25-07-20 02:18:49.245 pyfstat.utils.sft INFO    : Loading 1 SFTs from H1...\n",
      "25-07-20 02:18:49.252 pyfstat.utils.sft INFO    : Loading 1 SFTs from H1...\n",
      "25-07-20 02:18:49.261 pyfstat.utils.sft INFO    : Loading 1 SFTs from H1...\n",
      "25-07-20 02:18:49.269 pyfstat.utils.sft INFO    : Loading 1 SFTs from H1...\n",
      "25-07-20 02:18:49.277 pyfstat.utils.sft INFO    : Loading 1 SFTs from H1...\n",
      "25-07-20 02:18:49.285 pyfstat.utils.sft INFO    : Loading 1 SFTs from H1...\n"
     ]
    },
    {
     "name": "stderr",
     "output_type": "stream",
     "text": [
      " 56%|█████▌    | 2698/4800 [00:23<00:17, 118.79it/s]"
     ]
    },
    {
     "name": "stdout",
     "output_type": "stream",
     "text": [
      "25-07-20 02:18:49.293 pyfstat.utils.sft INFO    : Loading 1 SFTs from H1...\n",
      "25-07-20 02:18:49.301 pyfstat.utils.sft INFO    : Loading 1 SFTs from H1...\n",
      "25-07-20 02:18:49.310 pyfstat.utils.sft INFO    : Loading 1 SFTs from H1...\n",
      "25-07-20 02:18:49.318 pyfstat.utils.sft INFO    : Loading 1 SFTs from H1...\n",
      "25-07-20 02:18:49.327 pyfstat.utils.sft INFO    : Loading 1 SFTs from H1...\n",
      "25-07-20 02:18:49.335 pyfstat.utils.sft INFO    : Loading 1 SFTs from H1...\n",
      "25-07-20 02:18:49.343 pyfstat.utils.sft INFO    : Loading 1 SFTs from H1...\n",
      "25-07-20 02:18:49.351 pyfstat.utils.sft INFO    : Loading 1 SFTs from H1...\n",
      "25-07-20 02:18:49.359 pyfstat.utils.sft INFO    : Loading 1 SFTs from H1...\n",
      "25-07-20 02:18:49.367 pyfstat.utils.sft INFO    : Loading 1 SFTs from H1...\n",
      "25-07-20 02:18:49.376 pyfstat.utils.sft INFO    : Loading 1 SFTs from H1...\n",
      "25-07-20 02:18:49.383 pyfstat.utils.sft INFO    : Loading 1 SFTs from H1...\n",
      "25-07-20 02:18:49.392 pyfstat.utils.sft INFO    : Loading 1 SFTs from H1...\n"
     ]
    },
    {
     "name": "stderr",
     "output_type": "stream",
     "text": [
      " 56%|█████▋    | 2711/4800 [00:23<00:17, 119.56it/s]"
     ]
    },
    {
     "name": "stdout",
     "output_type": "stream",
     "text": [
      "25-07-20 02:18:49.400 pyfstat.utils.sft INFO    : Loading 1 SFTs from H1...\n",
      "25-07-20 02:18:49.408 pyfstat.utils.sft INFO    : Loading 1 SFTs from H1...\n",
      "25-07-20 02:18:49.416 pyfstat.utils.sft INFO    : Loading 1 SFTs from H1...\n",
      "25-07-20 02:18:49.424 pyfstat.utils.sft INFO    : Loading 1 SFTs from H1...\n",
      "25-07-20 02:18:49.432 pyfstat.utils.sft INFO    : Loading 1 SFTs from H1...\n",
      "25-07-20 02:18:49.440 pyfstat.utils.sft INFO    : Loading 1 SFTs from H1...\n",
      "25-07-20 02:18:49.449 pyfstat.utils.sft INFO    : Loading 1 SFTs from H1...\n",
      "25-07-20 02:18:49.460 pyfstat.utils.sft INFO    : Loading 1 SFTs from H1...\n",
      "25-07-20 02:18:49.468 pyfstat.utils.sft INFO    : Loading 1 SFTs from H1...\n",
      "25-07-20 02:18:49.476 pyfstat.utils.sft INFO    : Loading 1 SFTs from H1...\n",
      "25-07-20 02:18:49.485 pyfstat.utils.sft INFO    : Loading 1 SFTs from H1...\n",
      "25-07-20 02:18:49.492 pyfstat.utils.sft INFO    : Loading 1 SFTs from H1...\n"
     ]
    },
    {
     "name": "stderr",
     "output_type": "stream",
     "text": [
      " 57%|█████▋    | 2723/4800 [00:23<00:17, 119.43it/s]"
     ]
    },
    {
     "name": "stdout",
     "output_type": "stream",
     "text": [
      "25-07-20 02:18:49.501 pyfstat.utils.sft INFO    : Loading 1 SFTs from H1...\n",
      "25-07-20 02:18:49.509 pyfstat.utils.sft INFO    : Loading 1 SFTs from H1...\n",
      "25-07-20 02:18:49.517 pyfstat.utils.sft INFO    : Loading 1 SFTs from H1...\n",
      "25-07-20 02:18:49.525 pyfstat.utils.sft INFO    : Loading 1 SFTs from H1...\n",
      "25-07-20 02:18:49.534 pyfstat.utils.sft INFO    : Loading 1 SFTs from H1...\n",
      "25-07-20 02:18:49.543 pyfstat.utils.sft INFO    : Loading 1 SFTs from H1...\n",
      "25-07-20 02:18:49.552 pyfstat.utils.sft INFO    : Loading 1 SFTs from H1...\n",
      "25-07-20 02:18:49.560 pyfstat.utils.sft INFO    : Loading 1 SFTs from H1...\n",
      "25-07-20 02:18:49.568 pyfstat.utils.sft INFO    : Loading 1 SFTs from H1...\n",
      "25-07-20 02:18:49.576 pyfstat.utils.sft INFO    : Loading 1 SFTs from H1...\n",
      "25-07-20 02:18:49.584 pyfstat.utils.sft INFO    : Loading 1 SFTs from H1...\n",
      "25-07-20 02:18:49.592 pyfstat.utils.sft INFO    : Loading 1 SFTs from H1...\n",
      "25-07-20 02:18:49.600 pyfstat.utils.sft INFO    : Loading 1 SFTs from H1...\n"
     ]
    },
    {
     "name": "stderr",
     "output_type": "stream",
     "text": [
      " 57%|█████▋    | 2736/4800 [00:23<00:17, 119.80it/s]"
     ]
    },
    {
     "name": "stdout",
     "output_type": "stream",
     "text": [
      "25-07-20 02:18:49.609 pyfstat.utils.sft INFO    : Loading 1 SFTs from H1...\n",
      "25-07-20 02:18:49.617 pyfstat.utils.sft INFO    : Loading 1 SFTs from H1...\n",
      "25-07-20 02:18:49.625 pyfstat.utils.sft INFO    : Loading 1 SFTs from H1...\n",
      "25-07-20 02:18:49.634 pyfstat.utils.sft INFO    : Loading 1 SFTs from H1...\n",
      "25-07-20 02:18:49.642 pyfstat.utils.sft INFO    : Loading 1 SFTs from H1...\n",
      "25-07-20 02:18:49.651 pyfstat.utils.sft INFO    : Loading 1 SFTs from H1...\n",
      "25-07-20 02:18:49.659 pyfstat.utils.sft INFO    : Loading 1 SFTs from H1...\n",
      "25-07-20 02:18:49.668 pyfstat.utils.sft INFO    : Loading 1 SFTs from H1...\n",
      "25-07-20 02:18:49.675 pyfstat.utils.sft INFO    : Loading 1 SFTs from H1...\n",
      "25-07-20 02:18:49.684 pyfstat.utils.sft INFO    : Loading 1 SFTs from H1...\n",
      "25-07-20 02:18:49.692 pyfstat.utils.sft INFO    : Loading 1 SFTs from H1...\n",
      "25-07-20 02:18:49.700 pyfstat.utils.sft INFO    : Loading 1 SFTs from H1...\n"
     ]
    },
    {
     "name": "stderr",
     "output_type": "stream",
     "text": [
      " 57%|█████▋    | 2748/4800 [00:23<00:17, 119.82it/s]"
     ]
    },
    {
     "name": "stdout",
     "output_type": "stream",
     "text": [
      "25-07-20 02:18:49.709 pyfstat.utils.sft INFO    : Loading 1 SFTs from H1...\n",
      "25-07-20 02:18:49.717 pyfstat.utils.sft INFO    : Loading 1 SFTs from H1...\n",
      "25-07-20 02:18:49.725 pyfstat.utils.sft INFO    : Loading 1 SFTs from H1...\n",
      "25-07-20 02:18:49.733 pyfstat.utils.sft INFO    : Loading 1 SFTs from H1...\n",
      "25-07-20 02:18:49.741 pyfstat.utils.sft INFO    : Loading 1 SFTs from H1...\n",
      "25-07-20 02:18:49.749 pyfstat.utils.sft INFO    : Loading 1 SFTs from H1...\n",
      "25-07-20 02:18:49.758 pyfstat.utils.sft INFO    : Loading 1 SFTs from H1...\n",
      "25-07-20 02:18:49.766 pyfstat.utils.sft INFO    : Loading 1 SFTs from H1...\n",
      "25-07-20 02:18:49.774 pyfstat.utils.sft INFO    : Loading 1 SFTs from H1...\n",
      "25-07-20 02:18:49.783 pyfstat.utils.sft INFO    : Loading 1 SFTs from H1...\n",
      "25-07-20 02:18:49.791 pyfstat.utils.sft INFO    : Loading 1 SFTs from H1...\n",
      "25-07-20 02:18:49.799 pyfstat.utils.sft INFO    : Loading 1 SFTs from H1...\n",
      "25-07-20 02:18:49.808 pyfstat.utils.sft INFO    : Loading 1 SFTs from H1...\n"
     ]
    },
    {
     "name": "stderr",
     "output_type": "stream",
     "text": [
      " 58%|█████▊    | 2761/4800 [00:23<00:16, 120.08it/s]"
     ]
    },
    {
     "name": "stdout",
     "output_type": "stream",
     "text": [
      "25-07-20 02:18:49.817 pyfstat.utils.sft INFO    : Loading 1 SFTs from H1...\n",
      "25-07-20 02:18:49.825 pyfstat.utils.sft INFO    : Loading 1 SFTs from H1...\n",
      "25-07-20 02:18:49.834 pyfstat.utils.sft INFO    : Loading 1 SFTs from H1...\n",
      "25-07-20 02:18:49.842 pyfstat.utils.sft INFO    : Loading 1 SFTs from H1...\n",
      "25-07-20 02:18:49.850 pyfstat.utils.sft INFO    : Loading 1 SFTs from H1...\n",
      "25-07-20 02:18:49.858 pyfstat.utils.sft INFO    : Loading 1 SFTs from H1...\n",
      "25-07-20 02:18:49.866 pyfstat.utils.sft INFO    : Loading 1 SFTs from H1...\n",
      "25-07-20 02:18:49.875 pyfstat.utils.sft INFO    : Loading 1 SFTs from H1...\n",
      "25-07-20 02:18:49.883 pyfstat.utils.sft INFO    : Loading 1 SFTs from H1...\n",
      "25-07-20 02:18:49.892 pyfstat.utils.sft INFO    : Loading 1 SFTs from H1...\n",
      "25-07-20 02:18:49.900 pyfstat.utils.sft INFO    : Loading 1 SFTs from H1...\n",
      "25-07-20 02:18:49.909 pyfstat.utils.sft INFO    : Loading 1 SFTs from H1...\n",
      "25-07-20 02:18:49.918 pyfstat.utils.sft INFO    : Loading 1 SFTs from H1...\n"
     ]
    },
    {
     "name": "stderr",
     "output_type": "stream",
     "text": [
      " 58%|█████▊    | 2774/4800 [00:23<00:16, 119.46it/s]"
     ]
    },
    {
     "name": "stdout",
     "output_type": "stream",
     "text": [
      "25-07-20 02:18:49.927 pyfstat.utils.sft INFO    : Loading 1 SFTs from H1...\n",
      "25-07-20 02:18:49.935 pyfstat.utils.sft INFO    : Loading 1 SFTs from H1...\n",
      "25-07-20 02:18:49.944 pyfstat.utils.sft INFO    : Loading 1 SFTs from H1...\n",
      "25-07-20 02:18:49.952 pyfstat.utils.sft INFO    : Loading 1 SFTs from H1...\n",
      "25-07-20 02:18:49.961 pyfstat.utils.sft INFO    : Loading 1 SFTs from H1...\n",
      "25-07-20 02:18:49.969 pyfstat.utils.sft INFO    : Loading 1 SFTs from H1...\n",
      "25-07-20 02:18:49.978 pyfstat.utils.sft INFO    : Loading 1 SFTs from H1...\n",
      "25-07-20 02:18:49.987 pyfstat.utils.sft INFO    : Loading 1 SFTs from H1...\n",
      "25-07-20 02:18:49.995 pyfstat.utils.sft INFO    : Loading 1 SFTs from H1...\n",
      "25-07-20 02:18:50.003 pyfstat.utils.sft INFO    : Loading 1 SFTs from H1...\n",
      "25-07-20 02:18:50.012 pyfstat.utils.sft INFO    : Loading 1 SFTs from H1...\n",
      "25-07-20 02:18:50.020 pyfstat.utils.sft INFO    : Loading 1 SFTs from H1...\n"
     ]
    },
    {
     "name": "stderr",
     "output_type": "stream",
     "text": [
      " 58%|█████▊    | 2786/4800 [00:23<00:16, 118.74it/s]"
     ]
    },
    {
     "name": "stdout",
     "output_type": "stream",
     "text": [
      "25-07-20 02:18:50.029 pyfstat.utils.sft INFO    : Loading 1 SFTs from H1...\n",
      "25-07-20 02:18:50.038 pyfstat.utils.sft INFO    : Loading 1 SFTs from H1...\n",
      "25-07-20 02:18:50.046 pyfstat.utils.sft INFO    : Loading 1 SFTs from H1...\n",
      "25-07-20 02:18:50.054 pyfstat.utils.sft INFO    : Loading 1 SFTs from H1...\n",
      "25-07-20 02:18:50.063 pyfstat.utils.sft INFO    : Loading 1 SFTs from H1...\n",
      "25-07-20 02:18:50.071 pyfstat.utils.sft INFO    : Loading 1 SFTs from H1...\n",
      "25-07-20 02:18:50.079 pyfstat.utils.sft INFO    : Loading 1 SFTs from H1...\n",
      "25-07-20 02:18:50.089 pyfstat.utils.sft INFO    : Loading 1 SFTs from H1...\n",
      "25-07-20 02:18:50.098 pyfstat.utils.sft INFO    : Loading 1 SFTs from H1...\n",
      "25-07-20 02:18:50.106 pyfstat.utils.sft INFO    : Loading 1 SFTs from H1...\n",
      "25-07-20 02:18:50.115 pyfstat.utils.sft INFO    : Loading 1 SFTs from H1...\n",
      "25-07-20 02:18:50.123 pyfstat.utils.sft INFO    : Loading 1 SFTs from H1...\n"
     ]
    },
    {
     "name": "stderr",
     "output_type": "stream",
     "text": [
      " 58%|█████▊    | 2798/4800 [00:23<00:16, 118.38it/s]"
     ]
    },
    {
     "name": "stdout",
     "output_type": "stream",
     "text": [
      "25-07-20 02:18:50.132 pyfstat.utils.sft INFO    : Loading 1 SFTs from H1...\n",
      "25-07-20 02:18:50.140 pyfstat.utils.sft INFO    : Loading 1 SFTs from H1...\n",
      "25-07-20 02:18:50.149 pyfstat.utils.sft INFO    : Loading 1 SFTs from H1...\n",
      "25-07-20 02:18:50.158 pyfstat.utils.sft INFO    : Loading 1 SFTs from H1...\n",
      "25-07-20 02:18:50.166 pyfstat.utils.sft INFO    : Loading 1 SFTs from H1...\n",
      "25-07-20 02:18:50.174 pyfstat.utils.sft INFO    : Loading 1 SFTs from H1...\n",
      "25-07-20 02:18:50.182 pyfstat.utils.sft INFO    : Loading 1 SFTs from H1...\n",
      "25-07-20 02:18:50.191 pyfstat.utils.sft INFO    : Loading 1 SFTs from H1...\n",
      "25-07-20 02:18:50.199 pyfstat.utils.sft INFO    : Loading 1 SFTs from H1...\n",
      "25-07-20 02:18:50.209 pyfstat.utils.sft INFO    : Loading 1 SFTs from H1...\n",
      "25-07-20 02:18:50.217 pyfstat.utils.sft INFO    : Loading 1 SFTs from H1...\n",
      "25-07-20 02:18:50.225 pyfstat.utils.sft INFO    : Loading 1 SFTs from H1...\n"
     ]
    },
    {
     "name": "stderr",
     "output_type": "stream",
     "text": [
      " 59%|█████▊    | 2810/4800 [00:23<00:16, 117.72it/s]"
     ]
    },
    {
     "name": "stdout",
     "output_type": "stream",
     "text": [
      "25-07-20 02:18:50.235 pyfstat.utils.sft INFO    : Loading 1 SFTs from H1...\n",
      "25-07-20 02:18:50.244 pyfstat.utils.sft INFO    : Loading 1 SFTs from H1...\n",
      "25-07-20 02:18:50.252 pyfstat.utils.sft INFO    : Loading 1 SFTs from H1...\n",
      "25-07-20 02:18:50.260 pyfstat.utils.sft INFO    : Loading 1 SFTs from H1...\n",
      "25-07-20 02:18:50.268 pyfstat.utils.sft INFO    : Loading 1 SFTs from H1...\n",
      "25-07-20 02:18:50.277 pyfstat.utils.sft INFO    : Loading 1 SFTs from H1...\n",
      "25-07-20 02:18:50.285 pyfstat.utils.sft INFO    : Loading 1 SFTs from H1...\n",
      "25-07-20 02:18:50.299 pyfstat.utils.sft INFO    : Loading 1 SFTs from H1...\n",
      "25-07-20 02:18:50.307 pyfstat.utils.sft INFO    : Loading 1 SFTs from H1...\n",
      "25-07-20 02:18:50.316 pyfstat.utils.sft INFO    : Loading 1 SFTs from H1...\n",
      "25-07-20 02:18:50.325 pyfstat.utils.sft INFO    : Loading 1 SFTs from H1...\n",
      "25-07-20 02:18:50.333 pyfstat.utils.sft INFO    : Loading 1 SFTs from H1...\n"
     ]
    },
    {
     "name": "stderr",
     "output_type": "stream",
     "text": [
      " 59%|█████▉    | 2822/4800 [00:24<00:17, 115.83it/s]"
     ]
    },
    {
     "name": "stdout",
     "output_type": "stream",
     "text": [
      "25-07-20 02:18:50.342 pyfstat.utils.sft INFO    : Loading 1 SFTs from H1...\n",
      "25-07-20 02:18:50.351 pyfstat.utils.sft INFO    : Loading 1 SFTs from H1...\n",
      "25-07-20 02:18:50.360 pyfstat.utils.sft INFO    : Loading 1 SFTs from H1...\n",
      "25-07-20 02:18:50.369 pyfstat.utils.sft INFO    : Loading 1 SFTs from H1...\n",
      "25-07-20 02:18:50.377 pyfstat.utils.sft INFO    : Loading 1 SFTs from H1...\n",
      "25-07-20 02:18:50.386 pyfstat.utils.sft INFO    : Loading 1 SFTs from H1...\n",
      "25-07-20 02:18:50.394 pyfstat.utils.sft INFO    : Loading 1 SFTs from H1...\n",
      "25-07-20 02:18:50.403 pyfstat.utils.sft INFO    : Loading 1 SFTs from H1...\n",
      "25-07-20 02:18:50.411 pyfstat.utils.sft INFO    : Loading 1 SFTs from H1...\n",
      "25-07-20 02:18:50.419 pyfstat.utils.sft INFO    : Loading 1 SFTs from H1...\n",
      "25-07-20 02:18:50.429 pyfstat.utils.sft INFO    : Loading 1 SFTs from H1...\n",
      "25-07-20 02:18:50.437 pyfstat.utils.sft INFO    : Loading 1 SFTs from H1...\n"
     ]
    },
    {
     "name": "stderr",
     "output_type": "stream",
     "text": [
      " 59%|█████▉    | 2834/4800 [00:24<00:16, 115.71it/s]"
     ]
    },
    {
     "name": "stdout",
     "output_type": "stream",
     "text": [
      "25-07-20 02:18:50.447 pyfstat.utils.sft INFO    : Loading 1 SFTs from H1...\n",
      "25-07-20 02:18:50.456 pyfstat.utils.sft INFO    : Loading 1 SFTs from H1...\n",
      "25-07-20 02:18:50.465 pyfstat.utils.sft INFO    : Loading 1 SFTs from H1...\n",
      "25-07-20 02:18:50.474 pyfstat.utils.sft INFO    : Loading 1 SFTs from H1...\n",
      "25-07-20 02:18:50.482 pyfstat.utils.sft INFO    : Loading 1 SFTs from H1...\n",
      "25-07-20 02:18:50.490 pyfstat.utils.sft INFO    : Loading 1 SFTs from H1...\n",
      "25-07-20 02:18:50.499 pyfstat.utils.sft INFO    : Loading 1 SFTs from H1...\n",
      "25-07-20 02:18:50.507 pyfstat.utils.sft INFO    : Loading 1 SFTs from H1...\n",
      "25-07-20 02:18:50.515 pyfstat.utils.sft INFO    : Loading 1 SFTs from H1...\n",
      "25-07-20 02:18:50.523 pyfstat.utils.sft INFO    : Loading 1 SFTs from H1...\n",
      "25-07-20 02:18:50.531 pyfstat.utils.sft INFO    : Loading 1 SFTs from H1...\n",
      "25-07-20 02:18:50.541 pyfstat.utils.sft INFO    : Loading 1 SFTs from H1...\n"
     ]
    },
    {
     "name": "stderr",
     "output_type": "stream",
     "text": [
      " 59%|█████▉    | 2846/4800 [00:24<00:16, 115.70it/s]"
     ]
    },
    {
     "name": "stdout",
     "output_type": "stream",
     "text": [
      "25-07-20 02:18:50.550 pyfstat.utils.sft INFO    : Loading 1 SFTs from H1...\n",
      "25-07-20 02:18:50.559 pyfstat.utils.sft INFO    : Loading 1 SFTs from H1...\n",
      "25-07-20 02:18:50.567 pyfstat.utils.sft INFO    : Loading 1 SFTs from H1...\n",
      "25-07-20 02:18:50.575 pyfstat.utils.sft INFO    : Loading 1 SFTs from H1...\n",
      "25-07-20 02:18:50.583 pyfstat.utils.sft INFO    : Loading 1 SFTs from H1...\n",
      "25-07-20 02:18:50.591 pyfstat.utils.sft INFO    : Loading 1 SFTs from H1...\n",
      "25-07-20 02:18:50.599 pyfstat.utils.sft INFO    : Loading 1 SFTs from H1...\n",
      "25-07-20 02:18:50.608 pyfstat.utils.sft INFO    : Loading 1 SFTs from H1...\n",
      "25-07-20 02:18:50.616 pyfstat.utils.sft INFO    : Loading 1 SFTs from H1...\n",
      "25-07-20 02:18:50.625 pyfstat.utils.sft INFO    : Loading 1 SFTs from H1...\n",
      "25-07-20 02:18:50.633 pyfstat.utils.sft INFO    : Loading 1 SFTs from H1...\n",
      "25-07-20 02:18:50.641 pyfstat.utils.sft INFO    : Loading 1 SFTs from H1...\n"
     ]
    },
    {
     "name": "stderr",
     "output_type": "stream",
     "text": [
      " 60%|█████▉    | 2858/4800 [00:24<00:16, 116.92it/s]"
     ]
    },
    {
     "name": "stdout",
     "output_type": "stream",
     "text": [
      "25-07-20 02:18:50.650 pyfstat.utils.sft INFO    : Loading 1 SFTs from H1...\n",
      "25-07-20 02:18:50.659 pyfstat.utils.sft INFO    : Loading 1 SFTs from H1...\n",
      "25-07-20 02:18:50.667 pyfstat.utils.sft INFO    : Loading 1 SFTs from H1...\n",
      "25-07-20 02:18:50.675 pyfstat.utils.sft INFO    : Loading 1 SFTs from H1...\n",
      "25-07-20 02:18:50.683 pyfstat.utils.sft INFO    : Loading 1 SFTs from H1...\n",
      "25-07-20 02:18:50.692 pyfstat.utils.sft INFO    : Loading 1 SFTs from H1...\n",
      "25-07-20 02:18:50.700 pyfstat.utils.sft INFO    : Loading 1 SFTs from H1...\n",
      "25-07-20 02:18:50.709 pyfstat.utils.sft INFO    : Loading 1 SFTs from H1...\n",
      "25-07-20 02:18:50.717 pyfstat.utils.sft INFO    : Loading 1 SFTs from H1...\n",
      "25-07-20 02:18:50.725 pyfstat.utils.sft INFO    : Loading 1 SFTs from H1...\n",
      "25-07-20 02:18:50.734 pyfstat.utils.sft INFO    : Loading 1 SFTs from H1...\n",
      "25-07-20 02:18:50.742 pyfstat.utils.sft INFO    : Loading 1 SFTs from H1...\n"
     ]
    },
    {
     "name": "stderr",
     "output_type": "stream",
     "text": [
      " 60%|█████▉    | 2870/4800 [00:24<00:16, 117.57it/s]"
     ]
    },
    {
     "name": "stdout",
     "output_type": "stream",
     "text": [
      "25-07-20 02:18:50.751 pyfstat.utils.sft INFO    : Loading 1 SFTs from H1...\n",
      "25-07-20 02:18:50.760 pyfstat.utils.sft INFO    : Loading 1 SFTs from H1...\n",
      "25-07-20 02:18:50.769 pyfstat.utils.sft INFO    : Loading 1 SFTs from H1...\n",
      "25-07-20 02:18:50.777 pyfstat.utils.sft INFO    : Loading 1 SFTs from H1...\n",
      "25-07-20 02:18:50.785 pyfstat.utils.sft INFO    : Loading 1 SFTs from H1...\n",
      "25-07-20 02:18:50.793 pyfstat.utils.sft INFO    : Loading 1 SFTs from H1...\n",
      "25-07-20 02:18:50.802 pyfstat.utils.sft INFO    : Loading 1 SFTs from H1...\n",
      "25-07-20 02:18:50.810 pyfstat.utils.sft INFO    : Loading 1 SFTs from H1...\n",
      "25-07-20 02:18:50.818 pyfstat.utils.sft INFO    : Loading 1 SFTs from H1...\n",
      "25-07-20 02:18:50.826 pyfstat.utils.sft INFO    : Loading 1 SFTs from H1...\n",
      "25-07-20 02:18:50.834 pyfstat.utils.sft INFO    : Loading 1 SFTs from H1...\n",
      "25-07-20 02:18:50.842 pyfstat.utils.sft INFO    : Loading 1 SFTs from H1...\n"
     ]
    },
    {
     "name": "stderr",
     "output_type": "stream",
     "text": [
      " 60%|██████    | 2882/4800 [00:24<00:16, 118.23it/s]"
     ]
    },
    {
     "name": "stdout",
     "output_type": "stream",
     "text": [
      "25-07-20 02:18:50.851 pyfstat.utils.sft INFO    : Loading 1 SFTs from H1...\n",
      "25-07-20 02:18:50.859 pyfstat.utils.sft INFO    : Loading 1 SFTs from H1...\n",
      "25-07-20 02:18:50.868 pyfstat.utils.sft INFO    : Loading 1 SFTs from H1...\n",
      "25-07-20 02:18:50.876 pyfstat.utils.sft INFO    : Loading 1 SFTs from H1...\n",
      "25-07-20 02:18:50.884 pyfstat.utils.sft INFO    : Loading 1 SFTs from H1...\n",
      "25-07-20 02:18:50.892 pyfstat.utils.sft INFO    : Loading 1 SFTs from H1...\n",
      "25-07-20 02:18:50.900 pyfstat.utils.sft INFO    : Loading 1 SFTs from H1...\n",
      "25-07-20 02:18:50.908 pyfstat.utils.sft INFO    : Loading 1 SFTs from H1...\n",
      "25-07-20 02:18:50.917 pyfstat.utils.sft INFO    : Loading 1 SFTs from H1...\n",
      "25-07-20 02:18:50.925 pyfstat.utils.sft INFO    : Loading 1 SFTs from H1...\n",
      "25-07-20 02:18:50.933 pyfstat.utils.sft INFO    : Loading 1 SFTs from H1...\n",
      "25-07-20 02:18:50.941 pyfstat.utils.sft INFO    : Loading 1 SFTs from H1...\n",
      "25-07-20 02:18:50.949 pyfstat.utils.sft INFO    : Loading 1 SFTs from H1...\n"
     ]
    },
    {
     "name": "stderr",
     "output_type": "stream",
     "text": [
      " 60%|██████    | 2895/4800 [00:24<00:15, 119.27it/s]"
     ]
    },
    {
     "name": "stdout",
     "output_type": "stream",
     "text": [
      "25-07-20 02:18:50.958 pyfstat.utils.sft INFO    : Loading 1 SFTs from H1...\n",
      "25-07-20 02:18:50.966 pyfstat.utils.sft INFO    : Loading 1 SFTs from H1...\n",
      "25-07-20 02:18:50.975 pyfstat.utils.sft INFO    : Loading 1 SFTs from H1...\n",
      "25-07-20 02:18:50.984 pyfstat.utils.sft INFO    : Loading 1 SFTs from H1...\n",
      "25-07-20 02:18:50.992 pyfstat.utils.sft INFO    : Loading 1 SFTs from H1...\n",
      "25-07-20 02:18:51.000 pyfstat.utils.sft INFO    : Loading 1 SFTs from H1...\n",
      "25-07-20 02:18:51.008 pyfstat.utils.sft INFO    : Loading 1 SFTs from H1...\n",
      "25-07-20 02:18:51.016 pyfstat.utils.sft INFO    : Loading 1 SFTs from H1...\n",
      "25-07-20 02:18:51.026 pyfstat.utils.sft INFO    : Loading 1 SFTs from H1...\n",
      "25-07-20 02:18:51.034 pyfstat.utils.sft INFO    : Loading 1 SFTs from H1...\n",
      "25-07-20 02:18:51.042 pyfstat.utils.sft INFO    : Loading 1 SFTs from H1...\n",
      "25-07-20 02:18:51.050 pyfstat.utils.sft INFO    : Loading 1 SFTs from H1...\n"
     ]
    },
    {
     "name": "stderr",
     "output_type": "stream",
     "text": [
      " 61%|██████    | 2907/4800 [00:24<00:15, 119.04it/s]"
     ]
    },
    {
     "name": "stdout",
     "output_type": "stream",
     "text": [
      "25-07-20 02:18:51.059 pyfstat.utils.sft INFO    : Loading 1 SFTs from H1...\n",
      "25-07-20 02:18:51.068 pyfstat.utils.sft INFO    : Loading 1 SFTs from H1...\n",
      "25-07-20 02:18:51.077 pyfstat.utils.sft INFO    : Loading 1 SFTs from H1...\n",
      "25-07-20 02:18:51.085 pyfstat.utils.sft INFO    : Loading 1 SFTs from H1...\n",
      "25-07-20 02:18:51.093 pyfstat.utils.sft INFO    : Loading 1 SFTs from H1...\n",
      "25-07-20 02:18:51.102 pyfstat.utils.sft INFO    : Loading 1 SFTs from H1...\n",
      "25-07-20 02:18:51.110 pyfstat.utils.sft INFO    : Loading 1 SFTs from H1...\n",
      "25-07-20 02:18:51.118 pyfstat.utils.sft INFO    : Loading 1 SFTs from H1...\n",
      "25-07-20 02:18:51.126 pyfstat.utils.sft INFO    : Loading 1 SFTs from H1...\n",
      "25-07-20 02:18:51.134 pyfstat.utils.sft INFO    : Loading 1 SFTs from H1...\n",
      "25-07-20 02:18:51.142 pyfstat.utils.sft INFO    : Loading 1 SFTs from H1...\n",
      "25-07-20 02:18:51.150 pyfstat.utils.sft INFO    : Loading 1 SFTs from H1...\n",
      "25-07-20 02:18:51.158 pyfstat.utils.sft INFO    : Loading 1 SFTs from H1...\n"
     ]
    },
    {
     "name": "stderr",
     "output_type": "stream",
     "text": [
      " 61%|██████    | 2920/4800 [00:24<00:15, 119.44it/s]"
     ]
    },
    {
     "name": "stdout",
     "output_type": "stream",
     "text": [
      "25-07-20 02:18:51.167 pyfstat.utils.sft INFO    : Loading 1 SFTs from H1...\n",
      "25-07-20 02:18:51.175 pyfstat.utils.sft INFO    : Loading 1 SFTs from H1...\n",
      "25-07-20 02:18:51.184 pyfstat.utils.sft INFO    : Loading 1 SFTs from H1...\n",
      "25-07-20 02:18:51.192 pyfstat.utils.sft INFO    : Loading 1 SFTs from H1...\n",
      "25-07-20 02:18:51.201 pyfstat.utils.sft INFO    : Loading 1 SFTs from H1...\n",
      "25-07-20 02:18:51.210 pyfstat.utils.sft INFO    : Loading 1 SFTs from H1...\n",
      "25-07-20 02:18:51.219 pyfstat.utils.sft INFO    : Loading 1 SFTs from H1...\n",
      "25-07-20 02:18:51.227 pyfstat.utils.sft INFO    : Loading 1 SFTs from H1...\n",
      "25-07-20 02:18:51.236 pyfstat.utils.sft INFO    : Loading 1 SFTs from H1...\n",
      "25-07-20 02:18:51.244 pyfstat.utils.sft INFO    : Loading 1 SFTs from H1...\n",
      "25-07-20 02:18:51.252 pyfstat.utils.sft INFO    : Loading 1 SFTs from H1...\n",
      "25-07-20 02:18:51.261 pyfstat.utils.sft INFO    : Loading 1 SFTs from H1...\n"
     ]
    },
    {
     "name": "stderr",
     "output_type": "stream",
     "text": [
      " 61%|██████    | 2932/4800 [00:24<00:15, 118.70it/s]"
     ]
    },
    {
     "name": "stdout",
     "output_type": "stream",
     "text": [
      "25-07-20 02:18:51.270 pyfstat.utils.sft INFO    : Loading 1 SFTs from H1...\n",
      "25-07-20 02:18:51.278 pyfstat.utils.sft INFO    : Loading 1 SFTs from H1...\n",
      "25-07-20 02:18:51.286 pyfstat.utils.sft INFO    : Loading 1 SFTs from H1...\n",
      "25-07-20 02:18:51.295 pyfstat.utils.sft INFO    : Loading 1 SFTs from H1...\n",
      "25-07-20 02:18:51.303 pyfstat.utils.sft INFO    : Loading 1 SFTs from H1...\n",
      "25-07-20 02:18:51.312 pyfstat.utils.sft INFO    : Loading 1 SFTs from H1...\n",
      "25-07-20 02:18:51.321 pyfstat.utils.sft INFO    : Loading 1 SFTs from H1...\n",
      "25-07-20 02:18:51.329 pyfstat.utils.sft INFO    : Loading 1 SFTs from H1...\n",
      "25-07-20 02:18:51.337 pyfstat.utils.sft INFO    : Loading 1 SFTs from H1...\n",
      "25-07-20 02:18:51.346 pyfstat.utils.sft INFO    : Loading 1 SFTs from H1...\n",
      "25-07-20 02:18:51.354 pyfstat.utils.sft INFO    : Loading 1 SFTs from H1...\n",
      "25-07-20 02:18:51.363 pyfstat.utils.sft INFO    : Loading 1 SFTs from H1...\n"
     ]
    },
    {
     "name": "stderr",
     "output_type": "stream",
     "text": [
      " 61%|██████▏   | 2944/4800 [00:25<00:15, 118.42it/s]"
     ]
    },
    {
     "name": "stdout",
     "output_type": "stream",
     "text": [
      "25-07-20 02:18:51.372 pyfstat.utils.sft INFO    : Loading 1 SFTs from H1...\n",
      "25-07-20 02:18:51.381 pyfstat.utils.sft INFO    : Loading 1 SFTs from H1...\n",
      "25-07-20 02:18:51.389 pyfstat.utils.sft INFO    : Loading 1 SFTs from H1...\n",
      "25-07-20 02:18:51.397 pyfstat.utils.sft INFO    : Loading 1 SFTs from H1...\n",
      "25-07-20 02:18:51.406 pyfstat.utils.sft INFO    : Loading 1 SFTs from H1...\n",
      "25-07-20 02:18:51.414 pyfstat.utils.sft INFO    : Loading 1 SFTs from H1...\n",
      "25-07-20 02:18:51.423 pyfstat.utils.sft INFO    : Loading 1 SFTs from H1...\n",
      "25-07-20 02:18:51.432 pyfstat.utils.sft INFO    : Loading 1 SFTs from H1...\n",
      "25-07-20 02:18:51.440 pyfstat.utils.sft INFO    : Loading 1 SFTs from H1...\n",
      "25-07-20 02:18:51.449 pyfstat.utils.sft INFO    : Loading 1 SFTs from H1...\n",
      "25-07-20 02:18:51.458 pyfstat.utils.sft INFO    : Loading 1 SFTs from H1...\n",
      "25-07-20 02:18:51.466 pyfstat.utils.sft INFO    : Loading 1 SFTs from H1...\n"
     ]
    },
    {
     "name": "stderr",
     "output_type": "stream",
     "text": [
      " 62%|██████▏   | 2956/4800 [00:25<00:15, 117.56it/s]"
     ]
    },
    {
     "name": "stdout",
     "output_type": "stream",
     "text": [
      "25-07-20 02:18:51.476 pyfstat.utils.sft INFO    : Loading 1 SFTs from H1...\n",
      "25-07-20 02:18:51.485 pyfstat.utils.sft INFO    : Loading 1 SFTs from H1...\n",
      "25-07-20 02:18:51.493 pyfstat.utils.sft INFO    : Loading 1 SFTs from H1...\n",
      "25-07-20 02:18:51.502 pyfstat.utils.sft INFO    : Loading 1 SFTs from H1...\n",
      "25-07-20 02:18:51.510 pyfstat.utils.sft INFO    : Loading 1 SFTs from H1...\n",
      "25-07-20 02:18:51.518 pyfstat.utils.sft INFO    : Loading 1 SFTs from H1...\n",
      "25-07-20 02:18:51.526 pyfstat.utils.sft INFO    : Loading 1 SFTs from H1...\n",
      "25-07-20 02:18:51.535 pyfstat.utils.sft INFO    : Loading 1 SFTs from H1...\n",
      "25-07-20 02:18:51.544 pyfstat.utils.sft INFO    : Loading 1 SFTs from H1...\n",
      "25-07-20 02:18:51.552 pyfstat.utils.sft INFO    : Loading 1 SFTs from H1...\n",
      "25-07-20 02:18:51.560 pyfstat.utils.sft INFO    : Loading 1 SFTs from H1...\n",
      "25-07-20 02:18:51.568 pyfstat.utils.sft INFO    : Loading 1 SFTs from H1...\n"
     ]
    },
    {
     "name": "stderr",
     "output_type": "stream",
     "text": [
      " 62%|██████▏   | 2968/4800 [00:25<00:15, 117.64it/s]"
     ]
    },
    {
     "name": "stdout",
     "output_type": "stream",
     "text": [
      "25-07-20 02:18:51.578 pyfstat.utils.sft INFO    : Loading 1 SFTs from H1...\n",
      "25-07-20 02:18:51.586 pyfstat.utils.sft INFO    : Loading 1 SFTs from H1...\n",
      "25-07-20 02:18:51.595 pyfstat.utils.sft INFO    : Loading 1 SFTs from H1...\n",
      "25-07-20 02:18:51.603 pyfstat.utils.sft INFO    : Loading 1 SFTs from H1...\n",
      "25-07-20 02:18:51.611 pyfstat.utils.sft INFO    : Loading 1 SFTs from H1...\n",
      "25-07-20 02:18:51.620 pyfstat.utils.sft INFO    : Loading 1 SFTs from H1...\n",
      "25-07-20 02:18:51.628 pyfstat.utils.sft INFO    : Loading 1 SFTs from H1...\n",
      "25-07-20 02:18:51.637 pyfstat.utils.sft INFO    : Loading 1 SFTs from H1...\n",
      "25-07-20 02:18:51.645 pyfstat.utils.sft INFO    : Loading 1 SFTs from H1...\n",
      "25-07-20 02:18:51.653 pyfstat.utils.sft INFO    : Loading 1 SFTs from H1...\n",
      "25-07-20 02:18:51.661 pyfstat.utils.sft INFO    : Loading 1 SFTs from H1...\n",
      "25-07-20 02:18:51.669 pyfstat.utils.sft INFO    : Loading 1 SFTs from H1...\n"
     ]
    },
    {
     "name": "stderr",
     "output_type": "stream",
     "text": [
      " 62%|██████▏   | 2980/4800 [00:25<00:15, 118.22it/s]"
     ]
    },
    {
     "name": "stdout",
     "output_type": "stream",
     "text": [
      "25-07-20 02:18:51.678 pyfstat.utils.sft INFO    : Loading 1 SFTs from H1...\n",
      "25-07-20 02:18:51.686 pyfstat.utils.sft INFO    : Loading 1 SFTs from H1...\n",
      "25-07-20 02:18:51.694 pyfstat.utils.sft INFO    : Loading 1 SFTs from H1...\n",
      "25-07-20 02:18:51.702 pyfstat.utils.sft INFO    : Loading 1 SFTs from H1...\n",
      "25-07-20 02:18:51.711 pyfstat.utils.sft INFO    : Loading 1 SFTs from H1...\n",
      "25-07-20 02:18:51.719 pyfstat.utils.sft INFO    : Loading 1 SFTs from H1...\n",
      "25-07-20 02:18:51.727 pyfstat.utils.sft INFO    : Loading 1 SFTs from H1...\n",
      "25-07-20 02:18:51.735 pyfstat.utils.sft INFO    : Loading 1 SFTs from H1...\n",
      "25-07-20 02:18:51.743 pyfstat.utils.sft INFO    : Loading 1 SFTs from H1...\n",
      "25-07-20 02:18:51.750 pyfstat.utils.sft INFO    : Loading 1 SFTs from H1...\n",
      "25-07-20 02:18:51.759 pyfstat.utils.sft INFO    : Loading 1 SFTs from H1...\n",
      "25-07-20 02:18:51.768 pyfstat.utils.sft INFO    : Loading 1 SFTs from H1...\n",
      "25-07-20 02:18:51.776 pyfstat.utils.sft INFO    : Loading 1 SFTs from H1...\n"
     ]
    },
    {
     "name": "stderr",
     "output_type": "stream",
     "text": [
      " 62%|██████▏   | 2993/4800 [00:25<00:15, 119.10it/s]"
     ]
    },
    {
     "name": "stdout",
     "output_type": "stream",
     "text": [
      "25-07-20 02:18:51.785 pyfstat.utils.sft INFO    : Loading 1 SFTs from H1...\n",
      "25-07-20 02:18:51.793 pyfstat.utils.sft INFO    : Loading 1 SFTs from H1...\n",
      "25-07-20 02:18:51.801 pyfstat.utils.sft INFO    : Loading 1 SFTs from H1...\n",
      "25-07-20 02:18:51.810 pyfstat.utils.sft INFO    : Loading 1 SFTs from H1...\n",
      "25-07-20 02:18:51.818 pyfstat.utils.sft INFO    : Loading 1 SFTs from H1...\n",
      "25-07-20 02:18:51.828 pyfstat.utils.sft INFO    : Loading 1 SFTs from H1...\n",
      "25-07-20 02:18:51.836 pyfstat.utils.sft INFO    : Loading 1 SFTs from H1...\n",
      "25-07-20 02:18:51.844 pyfstat.utils.sft INFO    : Loading 1 SFTs from H1...\n",
      "25-07-20 02:18:51.853 pyfstat.utils.sft INFO    : Loading 1 SFTs from H1...\n",
      "25-07-20 02:18:51.861 pyfstat.utils.sft INFO    : Loading 1 SFTs from H1...\n",
      "25-07-20 02:18:51.870 pyfstat.utils.sft INFO    : Loading 1 SFTs from H1...\n",
      "25-07-20 02:18:51.878 pyfstat.utils.sft INFO    : Loading 1 SFTs from H1...\n"
     ]
    },
    {
     "name": "stderr",
     "output_type": "stream",
     "text": [
      " 63%|██████▎   | 3005/4800 [00:25<00:15, 118.71it/s]"
     ]
    },
    {
     "name": "stdout",
     "output_type": "stream",
     "text": [
      "25-07-20 02:18:51.887 pyfstat.utils.sft INFO    : Loading 1 SFTs from H1...\n",
      "25-07-20 02:18:51.895 pyfstat.utils.sft INFO    : Loading 1 SFTs from H1...\n",
      "25-07-20 02:18:51.903 pyfstat.utils.sft INFO    : Loading 1 SFTs from H1...\n",
      "25-07-20 02:18:51.912 pyfstat.utils.sft INFO    : Loading 1 SFTs from H1...\n",
      "25-07-20 02:18:51.920 pyfstat.utils.sft INFO    : Loading 1 SFTs from H1...\n",
      "25-07-20 02:18:51.929 pyfstat.utils.sft INFO    : Loading 1 SFTs from H1...\n",
      "25-07-20 02:18:51.941 pyfstat.utils.sft INFO    : Loading 1 SFTs from H1...\n",
      "25-07-20 02:18:51.950 pyfstat.utils.sft INFO    : Loading 1 SFTs from H1...\n",
      "25-07-20 02:18:51.958 pyfstat.utils.sft INFO    : Loading 1 SFTs from H1...\n",
      "25-07-20 02:18:51.966 pyfstat.utils.sft INFO    : Loading 1 SFTs from H1...\n",
      "25-07-20 02:18:51.974 pyfstat.utils.sft INFO    : Loading 1 SFTs from H1...\n",
      "25-07-20 02:18:51.982 pyfstat.utils.sft INFO    : Loading 1 SFTs from H1...\n"
     ]
    },
    {
     "name": "stderr",
     "output_type": "stream",
     "text": [
      " 63%|██████▎   | 3017/4800 [00:25<00:15, 117.65it/s]"
     ]
    },
    {
     "name": "stdout",
     "output_type": "stream",
     "text": [
      "25-07-20 02:18:51.991 pyfstat.utils.sft INFO    : Loading 1 SFTs from H1...\n",
      "25-07-20 02:18:52.000 pyfstat.utils.sft INFO    : Loading 1 SFTs from H1...\n",
      "25-07-20 02:18:52.008 pyfstat.utils.sft INFO    : Loading 1 SFTs from H1...\n",
      "25-07-20 02:18:52.017 pyfstat.utils.sft INFO    : Loading 1 SFTs from H1...\n",
      "25-07-20 02:18:52.025 pyfstat.utils.sft INFO    : Loading 1 SFTs from H1...\n",
      "25-07-20 02:18:52.033 pyfstat.utils.sft INFO    : Loading 1 SFTs from H1...\n",
      "25-07-20 02:18:52.042 pyfstat.utils.sft INFO    : Loading 1 SFTs from H1...\n",
      "25-07-20 02:18:52.050 pyfstat.utils.sft INFO    : Loading 1 SFTs from H1...\n",
      "25-07-20 02:18:52.058 pyfstat.utils.sft INFO    : Loading 1 SFTs from H1...\n",
      "25-07-20 02:18:52.066 pyfstat.utils.sft INFO    : Loading 1 SFTs from H1...\n",
      "25-07-20 02:18:52.074 pyfstat.utils.sft INFO    : Loading 1 SFTs from H1...\n",
      "25-07-20 02:18:52.082 pyfstat.utils.sft INFO    : Loading 1 SFTs from H1...\n",
      "25-07-20 02:18:52.091 pyfstat.utils.sft INFO    : Loading 1 SFTs from H1...\n"
     ]
    },
    {
     "name": "stderr",
     "output_type": "stream",
     "text": [
      " 63%|██████▎   | 3030/4800 [00:25<00:14, 118.41it/s]"
     ]
    },
    {
     "name": "stdout",
     "output_type": "stream",
     "text": [
      "25-07-20 02:18:52.099 pyfstat.utils.sft INFO    : Loading 1 SFTs from H1...\n",
      "25-07-20 02:18:52.108 pyfstat.utils.sft INFO    : Loading 1 SFTs from H1...\n",
      "25-07-20 02:18:52.117 pyfstat.utils.sft INFO    : Loading 1 SFTs from H1...\n",
      "25-07-20 02:18:52.125 pyfstat.utils.sft INFO    : Loading 1 SFTs from H1...\n",
      "25-07-20 02:18:52.133 pyfstat.utils.sft INFO    : Loading 1 SFTs from H1...\n",
      "25-07-20 02:18:52.141 pyfstat.utils.sft INFO    : Loading 1 SFTs from H1...\n",
      "25-07-20 02:18:52.150 pyfstat.utils.sft INFO    : Loading 1 SFTs from H1...\n",
      "25-07-20 02:18:52.158 pyfstat.utils.sft INFO    : Loading 1 SFTs from H1...\n",
      "25-07-20 02:18:52.166 pyfstat.utils.sft INFO    : Loading 1 SFTs from H1...\n",
      "25-07-20 02:18:52.175 pyfstat.utils.sft INFO    : Loading 1 SFTs from H1...\n",
      "25-07-20 02:18:52.184 pyfstat.utils.sft INFO    : Loading 1 SFTs from H1...\n",
      "25-07-20 02:18:52.192 pyfstat.utils.sft INFO    : Loading 1 SFTs from H1...\n"
     ]
    },
    {
     "name": "stderr",
     "output_type": "stream",
     "text": [
      " 63%|██████▎   | 3042/4800 [00:25<00:14, 118.44it/s]"
     ]
    },
    {
     "name": "stdout",
     "output_type": "stream",
     "text": [
      "25-07-20 02:18:52.201 pyfstat.utils.sft INFO    : Loading 1 SFTs from H1...\n",
      "25-07-20 02:18:52.210 pyfstat.utils.sft INFO    : Loading 1 SFTs from H1...\n",
      "25-07-20 02:18:52.219 pyfstat.utils.sft INFO    : Loading 1 SFTs from H1...\n",
      "25-07-20 02:18:52.227 pyfstat.utils.sft INFO    : Loading 1 SFTs from H1...\n",
      "25-07-20 02:18:52.235 pyfstat.utils.sft INFO    : Loading 1 SFTs from H1...\n",
      "25-07-20 02:18:52.243 pyfstat.utils.sft INFO    : Loading 1 SFTs from H1...\n",
      "25-07-20 02:18:52.251 pyfstat.utils.sft INFO    : Loading 1 SFTs from H1...\n",
      "25-07-20 02:18:52.259 pyfstat.utils.sft INFO    : Loading 1 SFTs from H1...\n",
      "25-07-20 02:18:52.267 pyfstat.utils.sft INFO    : Loading 1 SFTs from H1...\n",
      "25-07-20 02:18:52.275 pyfstat.utils.sft INFO    : Loading 1 SFTs from H1...\n",
      "25-07-20 02:18:52.283 pyfstat.utils.sft INFO    : Loading 1 SFTs from H1...\n",
      "25-07-20 02:18:52.291 pyfstat.utils.sft INFO    : Loading 1 SFTs from H1...\n",
      "25-07-20 02:18:52.299 pyfstat.utils.sft INFO    : Loading 1 SFTs from H1...\n"
     ]
    },
    {
     "name": "stderr",
     "output_type": "stream",
     "text": [
      " 64%|██████▎   | 3055/4800 [00:26<00:14, 119.61it/s]"
     ]
    },
    {
     "name": "stdout",
     "output_type": "stream",
     "text": [
      "25-07-20 02:18:52.307 pyfstat.utils.sft INFO    : Loading 1 SFTs from H1...\n",
      "25-07-20 02:18:52.316 pyfstat.utils.sft INFO    : Loading 1 SFTs from H1...\n",
      "25-07-20 02:18:52.325 pyfstat.utils.sft INFO    : Loading 1 SFTs from H1...\n",
      "25-07-20 02:18:52.334 pyfstat.utils.sft INFO    : Loading 1 SFTs from H1...\n",
      "25-07-20 02:18:52.342 pyfstat.utils.sft INFO    : Loading 1 SFTs from H1...\n",
      "25-07-20 02:18:52.350 pyfstat.utils.sft INFO    : Loading 1 SFTs from H1...\n",
      "25-07-20 02:18:52.359 pyfstat.utils.sft INFO    : Loading 1 SFTs from H1...\n",
      "25-07-20 02:18:52.367 pyfstat.utils.sft INFO    : Loading 1 SFTs from H1...\n",
      "25-07-20 02:18:52.375 pyfstat.utils.sft INFO    : Loading 1 SFTs from H1...\n",
      "25-07-20 02:18:52.384 pyfstat.utils.sft INFO    : Loading 1 SFTs from H1...\n",
      "25-07-20 02:18:52.392 pyfstat.utils.sft INFO    : Loading 1 SFTs from H1...\n",
      "25-07-20 02:18:52.401 pyfstat.utils.sft INFO    : Loading 1 SFTs from H1...\n"
     ]
    },
    {
     "name": "stderr",
     "output_type": "stream",
     "text": [
      " 64%|██████▍   | 3067/4800 [00:26<00:14, 118.73it/s]"
     ]
    },
    {
     "name": "stdout",
     "output_type": "stream",
     "text": [
      "25-07-20 02:18:52.410 pyfstat.utils.sft INFO    : Loading 1 SFTs from H1...\n",
      "25-07-20 02:18:52.418 pyfstat.utils.sft INFO    : Loading 1 SFTs from H1...\n",
      "25-07-20 02:18:52.427 pyfstat.utils.sft INFO    : Loading 1 SFTs from H1...\n",
      "25-07-20 02:18:52.436 pyfstat.utils.sft INFO    : Loading 1 SFTs from H1...\n",
      "25-07-20 02:18:52.444 pyfstat.utils.sft INFO    : Loading 1 SFTs from H1...\n",
      "25-07-20 02:18:52.453 pyfstat.utils.sft INFO    : Loading 1 SFTs from H1...\n",
      "25-07-20 02:18:52.461 pyfstat.utils.sft INFO    : Loading 1 SFTs from H1...\n",
      "25-07-20 02:18:52.468 pyfstat.utils.sft INFO    : Loading 1 SFTs from H1...\n",
      "25-07-20 02:18:52.476 pyfstat.utils.sft INFO    : Loading 1 SFTs from H1...\n",
      "25-07-20 02:18:52.485 pyfstat.utils.sft INFO    : Loading 1 SFTs from H1...\n",
      "25-07-20 02:18:52.493 pyfstat.utils.sft INFO    : Loading 1 SFTs from H1...\n",
      "25-07-20 02:18:52.501 pyfstat.utils.sft INFO    : Loading 1 SFTs from H1...\n"
     ]
    },
    {
     "name": "stderr",
     "output_type": "stream",
     "text": [
      " 64%|██████▍   | 3079/4800 [00:26<00:14, 119.04it/s]"
     ]
    },
    {
     "name": "stdout",
     "output_type": "stream",
     "text": [
      "25-07-20 02:18:52.510 pyfstat.utils.sft INFO    : Loading 1 SFTs from H1...\n",
      "25-07-20 02:18:52.519 pyfstat.utils.sft INFO    : Loading 1 SFTs from H1...\n",
      "25-07-20 02:18:52.528 pyfstat.utils.sft INFO    : Loading 1 SFTs from H1...\n",
      "25-07-20 02:18:52.536 pyfstat.utils.sft INFO    : Loading 1 SFTs from H1...\n",
      "25-07-20 02:18:52.545 pyfstat.utils.sft INFO    : Loading 1 SFTs from H1...\n",
      "25-07-20 02:18:52.553 pyfstat.utils.sft INFO    : Loading 1 SFTs from H1...\n",
      "25-07-20 02:18:52.561 pyfstat.utils.sft INFO    : Loading 1 SFTs from H1...\n",
      "25-07-20 02:18:52.570 pyfstat.utils.sft INFO    : Loading 1 SFTs from H1...\n",
      "25-07-20 02:18:52.578 pyfstat.utils.sft INFO    : Loading 1 SFTs from H1...\n",
      "25-07-20 02:18:52.587 pyfstat.utils.sft INFO    : Loading 1 SFTs from H1...\n",
      "25-07-20 02:18:52.596 pyfstat.utils.sft INFO    : Loading 1 SFTs from H1...\n",
      "25-07-20 02:18:52.604 pyfstat.utils.sft INFO    : Loading 1 SFTs from H1...\n"
     ]
    },
    {
     "name": "stderr",
     "output_type": "stream",
     "text": [
      " 64%|██████▍   | 3091/4800 [00:26<00:14, 118.33it/s]"
     ]
    },
    {
     "name": "stdout",
     "output_type": "stream",
     "text": [
      "25-07-20 02:18:52.613 pyfstat.utils.sft INFO    : Loading 1 SFTs from H1...\n",
      "25-07-20 02:18:52.621 pyfstat.utils.sft INFO    : Loading 1 SFTs from H1...\n",
      "25-07-20 02:18:52.630 pyfstat.utils.sft INFO    : Loading 1 SFTs from H1...\n",
      "25-07-20 02:18:52.640 pyfstat.utils.sft INFO    : Loading 1 SFTs from H1...\n",
      "25-07-20 02:18:52.648 pyfstat.utils.sft INFO    : Loading 1 SFTs from H1...\n",
      "25-07-20 02:18:52.656 pyfstat.utils.sft INFO    : Loading 1 SFTs from H1...\n",
      "25-07-20 02:18:52.664 pyfstat.utils.sft INFO    : Loading 1 SFTs from H1...\n",
      "25-07-20 02:18:52.673 pyfstat.utils.sft INFO    : Loading 1 SFTs from H1...\n",
      "25-07-20 02:18:52.681 pyfstat.utils.sft INFO    : Loading 1 SFTs from H1...\n",
      "25-07-20 02:18:52.689 pyfstat.utils.sft INFO    : Loading 1 SFTs from H1...\n",
      "25-07-20 02:18:52.697 pyfstat.utils.sft INFO    : Loading 1 SFTs from H1...\n",
      "25-07-20 02:18:52.706 pyfstat.utils.sft INFO    : Loading 1 SFTs from H1...\n"
     ]
    },
    {
     "name": "stderr",
     "output_type": "stream",
     "text": [
      " 65%|██████▍   | 3103/4800 [00:26<00:14, 118.16it/s]"
     ]
    },
    {
     "name": "stdout",
     "output_type": "stream",
     "text": [
      "25-07-20 02:18:52.715 pyfstat.utils.sft INFO    : Loading 1 SFTs from H1...\n",
      "25-07-20 02:18:52.723 pyfstat.utils.sft INFO    : Loading 1 SFTs from H1...\n",
      "25-07-20 02:18:52.731 pyfstat.utils.sft INFO    : Loading 1 SFTs from H1...\n",
      "25-07-20 02:18:52.740 pyfstat.utils.sft INFO    : Loading 1 SFTs from H1...\n",
      "25-07-20 02:18:52.748 pyfstat.utils.sft INFO    : Loading 1 SFTs from H1...\n",
      "25-07-20 02:18:52.756 pyfstat.utils.sft INFO    : Loading 1 SFTs from H1...\n",
      "25-07-20 02:18:52.765 pyfstat.utils.sft INFO    : Loading 1 SFTs from H1...\n",
      "25-07-20 02:18:52.773 pyfstat.utils.sft INFO    : Loading 1 SFTs from H1...\n",
      "25-07-20 02:18:52.781 pyfstat.utils.sft INFO    : Loading 1 SFTs from H1...\n",
      "25-07-20 02:18:52.789 pyfstat.utils.sft INFO    : Loading 1 SFTs from H1...\n",
      "25-07-20 02:18:52.798 pyfstat.utils.sft INFO    : Loading 1 SFTs from H1...\n",
      "25-07-20 02:18:52.806 pyfstat.utils.sft INFO    : Loading 1 SFTs from H1...\n",
      "25-07-20 02:18:52.814 pyfstat.utils.sft INFO    : Loading 1 SFTs from H1...\n"
     ]
    },
    {
     "name": "stderr",
     "output_type": "stream",
     "text": [
      " 65%|██████▍   | 3116/4800 [00:26<00:14, 118.71it/s]"
     ]
    },
    {
     "name": "stdout",
     "output_type": "stream",
     "text": [
      "25-07-20 02:18:52.823 pyfstat.utils.sft INFO    : Loading 1 SFTs from H1...\n",
      "25-07-20 02:18:52.832 pyfstat.utils.sft INFO    : Loading 1 SFTs from H1...\n",
      "25-07-20 02:18:52.840 pyfstat.utils.sft INFO    : Loading 1 SFTs from H1...\n",
      "25-07-20 02:18:52.848 pyfstat.utils.sft INFO    : Loading 1 SFTs from H1...\n",
      "25-07-20 02:18:52.855 pyfstat.utils.sft INFO    : Loading 1 SFTs from H1...\n",
      "25-07-20 02:18:52.863 pyfstat.utils.sft INFO    : Loading 1 SFTs from H1...\n",
      "25-07-20 02:18:52.873 pyfstat.utils.sft INFO    : Loading 1 SFTs from H1...\n",
      "25-07-20 02:18:52.882 pyfstat.utils.sft INFO    : Loading 1 SFTs from H1...\n",
      "25-07-20 02:18:52.890 pyfstat.utils.sft INFO    : Loading 1 SFTs from H1...\n",
      "25-07-20 02:18:52.898 pyfstat.utils.sft INFO    : Loading 1 SFTs from H1...\n",
      "25-07-20 02:18:52.906 pyfstat.utils.sft INFO    : Loading 1 SFTs from H1...\n",
      "25-07-20 02:18:52.915 pyfstat.utils.sft INFO    : Loading 1 SFTs from H1...\n"
     ]
    },
    {
     "name": "stderr",
     "output_type": "stream",
     "text": [
      " 65%|██████▌   | 3128/4800 [00:26<00:14, 119.03it/s]"
     ]
    },
    {
     "name": "stdout",
     "output_type": "stream",
     "text": [
      "25-07-20 02:18:52.924 pyfstat.utils.sft INFO    : Loading 1 SFTs from H1...\n",
      "25-07-20 02:18:52.932 pyfstat.utils.sft INFO    : Loading 1 SFTs from H1...\n",
      "25-07-20 02:18:52.940 pyfstat.utils.sft INFO    : Loading 1 SFTs from H1...\n",
      "25-07-20 02:18:52.948 pyfstat.utils.sft INFO    : Loading 1 SFTs from H1...\n",
      "25-07-20 02:18:52.956 pyfstat.utils.sft INFO    : Loading 1 SFTs from H1...\n",
      "25-07-20 02:18:52.964 pyfstat.utils.sft INFO    : Loading 1 SFTs from H1...\n",
      "25-07-20 02:18:52.973 pyfstat.utils.sft INFO    : Loading 1 SFTs from H1...\n",
      "25-07-20 02:18:52.981 pyfstat.utils.sft INFO    : Loading 1 SFTs from H1...\n",
      "25-07-20 02:18:52.990 pyfstat.utils.sft INFO    : Loading 1 SFTs from H1...\n",
      "25-07-20 02:18:52.999 pyfstat.utils.sft INFO    : Loading 1 SFTs from H1...\n",
      "25-07-20 02:18:53.007 pyfstat.utils.sft INFO    : Loading 1 SFTs from H1...\n",
      "25-07-20 02:18:53.016 pyfstat.utils.sft INFO    : Loading 1 SFTs from H1...\n"
     ]
    },
    {
     "name": "stderr",
     "output_type": "stream",
     "text": [
      " 65%|██████▌   | 3140/4800 [00:26<00:13, 118.96it/s]"
     ]
    },
    {
     "name": "stdout",
     "output_type": "stream",
     "text": [
      "25-07-20 02:18:53.025 pyfstat.utils.sft INFO    : Loading 1 SFTs from H1...\n",
      "25-07-20 02:18:53.033 pyfstat.utils.sft INFO    : Loading 1 SFTs from H1...\n",
      "25-07-20 02:18:53.041 pyfstat.utils.sft INFO    : Loading 1 SFTs from H1...\n",
      "25-07-20 02:18:53.050 pyfstat.utils.sft INFO    : Loading 1 SFTs from H1...\n",
      "25-07-20 02:18:53.058 pyfstat.utils.sft INFO    : Loading 1 SFTs from H1...\n",
      "25-07-20 02:18:53.067 pyfstat.utils.sft INFO    : Loading 1 SFTs from H1...\n",
      "25-07-20 02:18:53.075 pyfstat.utils.sft INFO    : Loading 1 SFTs from H1...\n",
      "25-07-20 02:18:53.084 pyfstat.utils.sft INFO    : Loading 1 SFTs from H1...\n",
      "25-07-20 02:18:53.092 pyfstat.utils.sft INFO    : Loading 1 SFTs from H1...\n",
      "25-07-20 02:18:53.101 pyfstat.utils.sft INFO    : Loading 1 SFTs from H1...\n",
      "25-07-20 02:18:53.109 pyfstat.utils.sft INFO    : Loading 1 SFTs from H1...\n",
      "25-07-20 02:18:53.117 pyfstat.utils.sft INFO    : Loading 1 SFTs from H1...\n"
     ]
    },
    {
     "name": "stderr",
     "output_type": "stream",
     "text": [
      " 66%|██████▌   | 3152/4800 [00:26<00:13, 118.86it/s]"
     ]
    },
    {
     "name": "stdout",
     "output_type": "stream",
     "text": [
      "25-07-20 02:18:53.126 pyfstat.utils.sft INFO    : Loading 1 SFTs from H1...\n",
      "25-07-20 02:18:53.135 pyfstat.utils.sft INFO    : Loading 1 SFTs from H1...\n",
      "25-07-20 02:18:53.143 pyfstat.utils.sft INFO    : Loading 1 SFTs from H1...\n",
      "25-07-20 02:18:53.151 pyfstat.utils.sft INFO    : Loading 1 SFTs from H1...\n",
      "25-07-20 02:18:53.159 pyfstat.utils.sft INFO    : Loading 1 SFTs from H1...\n",
      "25-07-20 02:18:53.167 pyfstat.utils.sft INFO    : Loading 1 SFTs from H1...\n",
      "25-07-20 02:18:53.176 pyfstat.utils.sft INFO    : Loading 1 SFTs from H1...\n",
      "25-07-20 02:18:53.184 pyfstat.utils.sft INFO    : Loading 1 SFTs from H1...\n",
      "25-07-20 02:18:53.193 pyfstat.utils.sft INFO    : Loading 1 SFTs from H1...\n",
      "25-07-20 02:18:53.201 pyfstat.utils.sft INFO    : Loading 1 SFTs from H1...\n",
      "25-07-20 02:18:53.209 pyfstat.utils.sft INFO    : Loading 1 SFTs from H1...\n",
      "25-07-20 02:18:53.218 pyfstat.utils.sft INFO    : Loading 1 SFTs from H1...\n"
     ]
    },
    {
     "name": "stderr",
     "output_type": "stream",
     "text": [
      " 66%|██████▌   | 3164/4800 [00:26<00:13, 118.87it/s]"
     ]
    },
    {
     "name": "stdout",
     "output_type": "stream",
     "text": [
      "25-07-20 02:18:53.227 pyfstat.utils.sft INFO    : Loading 1 SFTs from H1...\n",
      "25-07-20 02:18:53.235 pyfstat.utils.sft INFO    : Loading 1 SFTs from H1...\n",
      "25-07-20 02:18:53.243 pyfstat.utils.sft INFO    : Loading 1 SFTs from H1...\n",
      "25-07-20 02:18:53.251 pyfstat.utils.sft INFO    : Loading 1 SFTs from H1...\n",
      "25-07-20 02:18:53.259 pyfstat.utils.sft INFO    : Loading 1 SFTs from H1...\n",
      "25-07-20 02:18:53.268 pyfstat.utils.sft INFO    : Loading 1 SFTs from H1...\n",
      "25-07-20 02:18:53.276 pyfstat.utils.sft INFO    : Loading 1 SFTs from H1...\n",
      "25-07-20 02:18:53.285 pyfstat.utils.sft INFO    : Loading 1 SFTs from H1...\n",
      "25-07-20 02:18:53.293 pyfstat.utils.sft INFO    : Loading 1 SFTs from H1...\n",
      "25-07-20 02:18:53.303 pyfstat.utils.sft INFO    : Loading 1 SFTs from H1...\n",
      "25-07-20 02:18:53.311 pyfstat.utils.sft INFO    : Loading 1 SFTs from H1...\n",
      "25-07-20 02:18:53.319 pyfstat.utils.sft INFO    : Loading 1 SFTs from H1...\n"
     ]
    },
    {
     "name": "stderr",
     "output_type": "stream",
     "text": [
      " 66%|██████▌   | 3176/4800 [00:27<00:13, 118.54it/s]"
     ]
    },
    {
     "name": "stdout",
     "output_type": "stream",
     "text": [
      "25-07-20 02:18:53.329 pyfstat.utils.sft INFO    : Loading 1 SFTs from H1...\n",
      "25-07-20 02:18:53.337 pyfstat.utils.sft INFO    : Loading 1 SFTs from H1...\n",
      "25-07-20 02:18:53.345 pyfstat.utils.sft INFO    : Loading 1 SFTs from H1...\n",
      "25-07-20 02:18:53.354 pyfstat.utils.sft INFO    : Loading 1 SFTs from H1...\n",
      "25-07-20 02:18:53.362 pyfstat.utils.sft INFO    : Loading 1 SFTs from H1...\n",
      "25-07-20 02:18:53.370 pyfstat.utils.sft INFO    : Loading 1 SFTs from H1...\n",
      "25-07-20 02:18:53.379 pyfstat.utils.sft INFO    : Loading 1 SFTs from H1...\n",
      "25-07-20 02:18:53.388 pyfstat.utils.sft INFO    : Loading 1 SFTs from H1...\n",
      "25-07-20 02:18:53.396 pyfstat.utils.sft INFO    : Loading 1 SFTs from H1...\n",
      "25-07-20 02:18:53.404 pyfstat.utils.sft INFO    : Loading 1 SFTs from H1...\n",
      "25-07-20 02:18:53.413 pyfstat.utils.sft INFO    : Loading 1 SFTs from H1...\n",
      "25-07-20 02:18:53.422 pyfstat.utils.sft INFO    : Loading 1 SFTs from H1...\n"
     ]
    },
    {
     "name": "stderr",
     "output_type": "stream",
     "text": [
      " 66%|██████▋   | 3188/4800 [00:27<00:13, 117.98it/s]"
     ]
    },
    {
     "name": "stdout",
     "output_type": "stream",
     "text": [
      "25-07-20 02:18:53.432 pyfstat.utils.sft INFO    : Loading 1 SFTs from H1...\n",
      "25-07-20 02:18:53.440 pyfstat.utils.sft INFO    : Loading 1 SFTs from H1...\n",
      "25-07-20 02:18:53.448 pyfstat.utils.sft INFO    : Loading 1 SFTs from H1...\n",
      "25-07-20 02:18:53.457 pyfstat.utils.sft INFO    : Loading 1 SFTs from H1...\n",
      "25-07-20 02:18:53.465 pyfstat.utils.sft INFO    : Loading 1 SFTs from H1...\n",
      "25-07-20 02:18:53.474 pyfstat.utils.sft INFO    : Loading 1 SFTs from H1...\n",
      "25-07-20 02:18:53.482 pyfstat.utils.sft INFO    : Loading 1 SFTs from H1...\n",
      "25-07-20 02:18:53.490 pyfstat.utils.sft INFO    : Loading 1 SFTs from H1...\n",
      "25-07-20 02:18:53.499 pyfstat.utils.sft INFO    : Loading 1 SFTs from H1...\n",
      "25-07-20 02:18:53.508 pyfstat.utils.sft INFO    : Loading 1 SFTs from H1...\n",
      "25-07-20 02:18:53.517 pyfstat.utils.sft INFO    : Loading 1 SFTs from H1...\n",
      "25-07-20 02:18:53.527 pyfstat.utils.sft INFO    : Loading 1 SFTs from H1...\n"
     ]
    },
    {
     "name": "stderr",
     "output_type": "stream",
     "text": [
      " 67%|██████▋   | 3200/4800 [00:27<00:13, 116.73it/s]"
     ]
    },
    {
     "name": "stdout",
     "output_type": "stream",
     "text": [
      "25-07-20 02:18:53.537 pyfstat.utils.sft INFO    : Loading 1 SFTs from H1...\n",
      "25-07-20 02:18:53.545 pyfstat.utils.sft INFO    : Loading 1 SFTs from H1...\n",
      "25-07-20 02:18:53.553 pyfstat.utils.sft INFO    : Loading 1 SFTs from H1...\n",
      "25-07-20 02:18:53.562 pyfstat.utils.sft INFO    : Loading 1 SFTs from H1...\n",
      "25-07-20 02:18:53.570 pyfstat.utils.sft INFO    : Loading 1 SFTs from H1...\n",
      "25-07-20 02:18:53.578 pyfstat.utils.sft INFO    : Loading 1 SFTs from H1...\n",
      "25-07-20 02:18:53.586 pyfstat.utils.sft INFO    : Loading 1 SFTs from H1...\n",
      "25-07-20 02:18:53.594 pyfstat.utils.sft INFO    : Loading 1 SFTs from H1...\n",
      "25-07-20 02:18:53.602 pyfstat.utils.sft INFO    : Loading 1 SFTs from H1...\n",
      "25-07-20 02:18:53.610 pyfstat.utils.sft INFO    : Loading 1 SFTs from H1...\n",
      "25-07-20 02:18:53.618 pyfstat.utils.sft INFO    : Loading 1 SFTs from H1...\n",
      "25-07-20 02:18:53.627 pyfstat.utils.sft INFO    : Loading 1 SFTs from H1...\n",
      "25-07-20 02:18:53.634 pyfstat.utils.sft INFO    : Loading 1 SFTs from H1...\n"
     ]
    },
    {
     "name": "stderr",
     "output_type": "stream",
     "text": [
      " 67%|██████▋   | 3213/4800 [00:27<00:13, 118.08it/s]"
     ]
    },
    {
     "name": "stdout",
     "output_type": "stream",
     "text": [
      "25-07-20 02:18:53.644 pyfstat.utils.sft INFO    : Loading 1 SFTs from H1...\n",
      "25-07-20 02:18:53.653 pyfstat.utils.sft INFO    : Loading 1 SFTs from H1...\n",
      "25-07-20 02:18:53.661 pyfstat.utils.sft INFO    : Loading 1 SFTs from H1...\n",
      "25-07-20 02:18:53.669 pyfstat.utils.sft INFO    : Loading 1 SFTs from H1...\n",
      "25-07-20 02:18:53.677 pyfstat.utils.sft INFO    : Loading 1 SFTs from H1...\n",
      "25-07-20 02:18:53.686 pyfstat.utils.sft INFO    : Loading 1 SFTs from H1...\n",
      "25-07-20 02:18:53.694 pyfstat.utils.sft INFO    : Loading 1 SFTs from H1...\n",
      "25-07-20 02:18:53.702 pyfstat.utils.sft INFO    : Loading 1 SFTs from H1...\n",
      "25-07-20 02:18:53.711 pyfstat.utils.sft INFO    : Loading 1 SFTs from H1...\n",
      "25-07-20 02:18:53.719 pyfstat.utils.sft INFO    : Loading 1 SFTs from H1...\n",
      "25-07-20 02:18:53.728 pyfstat.utils.sft INFO    : Loading 1 SFTs from H1...\n",
      "25-07-20 02:18:53.737 pyfstat.utils.sft INFO    : Loading 1 SFTs from H1...\n"
     ]
    },
    {
     "name": "stderr",
     "output_type": "stream",
     "text": [
      " 67%|██████▋   | 3225/4800 [00:27<00:13, 118.01it/s]"
     ]
    },
    {
     "name": "stdout",
     "output_type": "stream",
     "text": [
      "25-07-20 02:18:53.746 pyfstat.utils.sft INFO    : Loading 1 SFTs from H1...\n",
      "25-07-20 02:18:53.754 pyfstat.utils.sft INFO    : Loading 1 SFTs from H1...\n",
      "25-07-20 02:18:53.763 pyfstat.utils.sft INFO    : Loading 1 SFTs from H1...\n",
      "25-07-20 02:18:53.771 pyfstat.utils.sft INFO    : Loading 1 SFTs from H1...\n",
      "25-07-20 02:18:53.779 pyfstat.utils.sft INFO    : Loading 1 SFTs from H1...\n",
      "25-07-20 02:18:53.787 pyfstat.utils.sft INFO    : Loading 1 SFTs from H1...\n",
      "25-07-20 02:18:53.795 pyfstat.utils.sft INFO    : Loading 1 SFTs from H1...\n",
      "25-07-20 02:18:53.804 pyfstat.utils.sft INFO    : Loading 1 SFTs from H1...\n",
      "25-07-20 02:18:53.812 pyfstat.utils.sft INFO    : Loading 1 SFTs from H1...\n",
      "25-07-20 02:18:53.821 pyfstat.utils.sft INFO    : Loading 1 SFTs from H1...\n",
      "25-07-20 02:18:53.829 pyfstat.utils.sft INFO    : Loading 1 SFTs from H1...\n",
      "25-07-20 02:18:53.836 pyfstat.utils.sft INFO    : Loading 1 SFTs from H1...\n",
      "25-07-20 02:18:53.844 pyfstat.utils.sft INFO    : Loading 1 SFTs from H1...\n"
     ]
    },
    {
     "name": "stderr",
     "output_type": "stream",
     "text": [
      " 67%|██████▋   | 3238/4800 [00:27<00:13, 118.94it/s]"
     ]
    },
    {
     "name": "stdout",
     "output_type": "stream",
     "text": [
      "25-07-20 02:18:53.853 pyfstat.utils.sft INFO    : Loading 1 SFTs from H1...\n",
      "25-07-20 02:18:53.862 pyfstat.utils.sft INFO    : Loading 1 SFTs from H1...\n",
      "25-07-20 02:18:53.870 pyfstat.utils.sft INFO    : Loading 1 SFTs from H1...\n",
      "25-07-20 02:18:53.878 pyfstat.utils.sft INFO    : Loading 1 SFTs from H1...\n",
      "25-07-20 02:18:53.887 pyfstat.utils.sft INFO    : Loading 1 SFTs from H1...\n",
      "25-07-20 02:18:53.895 pyfstat.utils.sft INFO    : Loading 1 SFTs from H1...\n",
      "25-07-20 02:18:53.904 pyfstat.utils.sft INFO    : Loading 1 SFTs from H1...\n",
      "25-07-20 02:18:53.912 pyfstat.utils.sft INFO    : Loading 1 SFTs from H1...\n",
      "25-07-20 02:18:53.921 pyfstat.utils.sft INFO    : Loading 1 SFTs from H1...\n",
      "25-07-20 02:18:53.929 pyfstat.utils.sft INFO    : Loading 1 SFTs from H1...\n",
      "25-07-20 02:18:53.938 pyfstat.utils.sft INFO    : Loading 1 SFTs from H1...\n",
      "25-07-20 02:18:53.946 pyfstat.utils.sft INFO    : Loading 1 SFTs from H1...\n"
     ]
    },
    {
     "name": "stderr",
     "output_type": "stream",
     "text": [
      " 68%|██████▊   | 3250/4800 [00:27<00:13, 118.46it/s]"
     ]
    },
    {
     "name": "stdout",
     "output_type": "stream",
     "text": [
      "25-07-20 02:18:53.956 pyfstat.utils.sft INFO    : Loading 1 SFTs from H1...\n",
      "25-07-20 02:18:53.965 pyfstat.utils.sft INFO    : Loading 1 SFTs from H1...\n",
      "25-07-20 02:18:53.974 pyfstat.utils.sft INFO    : Loading 1 SFTs from H1...\n",
      "25-07-20 02:18:53.982 pyfstat.utils.sft INFO    : Loading 1 SFTs from H1...\n",
      "25-07-20 02:18:53.991 pyfstat.utils.sft INFO    : Loading 1 SFTs from H1...\n",
      "25-07-20 02:18:53.999 pyfstat.utils.sft INFO    : Loading 1 SFTs from H1...\n",
      "25-07-20 02:18:54.007 pyfstat.utils.sft INFO    : Loading 1 SFTs from H1...\n",
      "25-07-20 02:18:54.015 pyfstat.utils.sft INFO    : Loading 1 SFTs from H1...\n",
      "25-07-20 02:18:54.023 pyfstat.utils.sft INFO    : Loading 1 SFTs from H1...\n",
      "25-07-20 02:18:54.032 pyfstat.utils.sft INFO    : Loading 1 SFTs from H1...\n",
      "25-07-20 02:18:54.040 pyfstat.utils.sft INFO    : Loading 1 SFTs from H1...\n",
      "25-07-20 02:18:54.048 pyfstat.utils.sft INFO    : Loading 1 SFTs from H1...\n"
     ]
    },
    {
     "name": "stderr",
     "output_type": "stream",
     "text": [
      " 68%|██████▊   | 3262/4800 [00:27<00:13, 118.28it/s]"
     ]
    },
    {
     "name": "stdout",
     "output_type": "stream",
     "text": [
      "25-07-20 02:18:54.058 pyfstat.utils.sft INFO    : Loading 1 SFTs from H1...\n",
      "25-07-20 02:18:54.066 pyfstat.utils.sft INFO    : Loading 1 SFTs from H1...\n",
      "25-07-20 02:18:54.074 pyfstat.utils.sft INFO    : Loading 1 SFTs from H1...\n",
      "25-07-20 02:18:54.082 pyfstat.utils.sft INFO    : Loading 1 SFTs from H1...\n",
      "25-07-20 02:18:54.091 pyfstat.utils.sft INFO    : Loading 1 SFTs from H1...\n",
      "25-07-20 02:18:54.099 pyfstat.utils.sft INFO    : Loading 1 SFTs from H1...\n",
      "25-07-20 02:18:54.106 pyfstat.utils.sft INFO    : Loading 1 SFTs from H1...\n",
      "25-07-20 02:18:54.114 pyfstat.utils.sft INFO    : Loading 1 SFTs from H1...\n",
      "25-07-20 02:18:54.122 pyfstat.utils.sft INFO    : Loading 1 SFTs from H1...\n",
      "25-07-20 02:18:54.130 pyfstat.utils.sft INFO    : Loading 1 SFTs from H1...\n",
      "25-07-20 02:18:54.139 pyfstat.utils.sft INFO    : Loading 1 SFTs from H1...\n",
      "25-07-20 02:18:54.147 pyfstat.utils.sft INFO    : Loading 1 SFTs from H1...\n",
      "25-07-20 02:18:54.156 pyfstat.utils.sft INFO    : Loading 1 SFTs from H1...\n"
     ]
    },
    {
     "name": "stderr",
     "output_type": "stream",
     "text": [
      " 68%|██████▊   | 3275/4800 [00:27<00:12, 119.13it/s]"
     ]
    },
    {
     "name": "stdout",
     "output_type": "stream",
     "text": [
      "25-07-20 02:18:54.165 pyfstat.utils.sft INFO    : Loading 1 SFTs from H1...\n",
      "25-07-20 02:18:54.173 pyfstat.utils.sft INFO    : Loading 1 SFTs from H1...\n",
      "25-07-20 02:18:54.182 pyfstat.utils.sft INFO    : Loading 1 SFTs from H1...\n",
      "25-07-20 02:18:54.191 pyfstat.utils.sft INFO    : Loading 1 SFTs from H1...\n",
      "25-07-20 02:18:54.199 pyfstat.utils.sft INFO    : Loading 1 SFTs from H1...\n",
      "25-07-20 02:18:54.207 pyfstat.utils.sft INFO    : Loading 1 SFTs from H1...\n",
      "25-07-20 02:18:54.216 pyfstat.utils.sft INFO    : Loading 1 SFTs from H1...\n",
      "25-07-20 02:18:54.224 pyfstat.utils.sft INFO    : Loading 1 SFTs from H1...\n",
      "25-07-20 02:18:54.233 pyfstat.utils.sft INFO    : Loading 1 SFTs from H1...\n",
      "25-07-20 02:18:54.242 pyfstat.utils.sft INFO    : Loading 1 SFTs from H1...\n",
      "25-07-20 02:18:54.250 pyfstat.utils.sft INFO    : Loading 1 SFTs from H1...\n",
      "25-07-20 02:18:54.259 pyfstat.utils.sft INFO    : Loading 1 SFTs from H1...\n"
     ]
    },
    {
     "name": "stderr",
     "output_type": "stream",
     "text": [
      " 68%|██████▊   | 3287/4800 [00:27<00:12, 118.31it/s]"
     ]
    },
    {
     "name": "stdout",
     "output_type": "stream",
     "text": [
      "25-07-20 02:18:54.268 pyfstat.utils.sft INFO    : Loading 1 SFTs from H1...\n",
      "25-07-20 02:18:54.277 pyfstat.utils.sft INFO    : Loading 1 SFTs from H1...\n",
      "25-07-20 02:18:54.286 pyfstat.utils.sft INFO    : Loading 1 SFTs from H1...\n",
      "25-07-20 02:18:54.295 pyfstat.utils.sft INFO    : Loading 1 SFTs from H1...\n",
      "25-07-20 02:18:54.304 pyfstat.utils.sft INFO    : Loading 1 SFTs from H1...\n",
      "25-07-20 02:18:54.313 pyfstat.utils.sft INFO    : Loading 1 SFTs from H1...\n",
      "25-07-20 02:18:54.321 pyfstat.utils.sft INFO    : Loading 1 SFTs from H1...\n",
      "25-07-20 02:18:54.329 pyfstat.utils.sft INFO    : Loading 1 SFTs from H1...\n",
      "25-07-20 02:18:54.338 pyfstat.utils.sft INFO    : Loading 1 SFTs from H1...\n",
      "25-07-20 02:18:54.346 pyfstat.utils.sft INFO    : Loading 1 SFTs from H1...\n",
      "25-07-20 02:18:54.355 pyfstat.utils.sft INFO    : Loading 1 SFTs from H1...\n",
      "25-07-20 02:18:54.363 pyfstat.utils.sft INFO    : Loading 1 SFTs from H1...\n"
     ]
    },
    {
     "name": "stderr",
     "output_type": "stream",
     "text": [
      " 69%|██████▊   | 3299/4800 [00:28<00:12, 117.40it/s]"
     ]
    },
    {
     "name": "stdout",
     "output_type": "stream",
     "text": [
      "25-07-20 02:18:54.372 pyfstat.utils.sft INFO    : Loading 1 SFTs from H1...\n",
      "25-07-20 02:18:54.380 pyfstat.utils.sft INFO    : Loading 1 SFTs from H1...\n",
      "25-07-20 02:18:54.389 pyfstat.utils.sft INFO    : Loading 1 SFTs from H1...\n",
      "25-07-20 02:18:54.397 pyfstat.utils.sft INFO    : Loading 1 SFTs from H1...\n",
      "25-07-20 02:18:54.406 pyfstat.utils.sft INFO    : Loading 1 SFTs from H1...\n",
      "25-07-20 02:18:54.414 pyfstat.utils.sft INFO    : Loading 1 SFTs from H1...\n",
      "25-07-20 02:18:54.423 pyfstat.utils.sft INFO    : Loading 1 SFTs from H1...\n",
      "25-07-20 02:18:54.432 pyfstat.utils.sft INFO    : Loading 1 SFTs from H1...\n",
      "25-07-20 02:18:54.440 pyfstat.utils.sft INFO    : Loading 1 SFTs from H1...\n",
      "25-07-20 02:18:54.449 pyfstat.utils.sft INFO    : Loading 1 SFTs from H1...\n",
      "25-07-20 02:18:54.458 pyfstat.utils.sft INFO    : Loading 1 SFTs from H1...\n",
      "25-07-20 02:18:54.466 pyfstat.utils.sft INFO    : Loading 1 SFTs from H1...\n"
     ]
    },
    {
     "name": "stderr",
     "output_type": "stream",
     "text": [
      " 69%|██████▉   | 3311/4800 [00:28<00:12, 116.87it/s]"
     ]
    },
    {
     "name": "stdout",
     "output_type": "stream",
     "text": [
      "25-07-20 02:18:54.476 pyfstat.utils.sft INFO    : Loading 1 SFTs from H1...\n",
      "25-07-20 02:18:54.485 pyfstat.utils.sft INFO    : Loading 1 SFTs from H1...\n",
      "25-07-20 02:18:54.493 pyfstat.utils.sft INFO    : Loading 1 SFTs from H1...\n",
      "25-07-20 02:18:54.502 pyfstat.utils.sft INFO    : Loading 1 SFTs from H1...\n",
      "25-07-20 02:18:54.512 pyfstat.utils.sft INFO    : Loading 1 SFTs from H1...\n",
      "25-07-20 02:18:54.521 pyfstat.utils.sft INFO    : Loading 1 SFTs from H1...\n",
      "25-07-20 02:18:54.530 pyfstat.utils.sft INFO    : Loading 1 SFTs from H1...\n",
      "25-07-20 02:18:54.538 pyfstat.utils.sft INFO    : Loading 1 SFTs from H1...\n",
      "25-07-20 02:18:54.547 pyfstat.utils.sft INFO    : Loading 1 SFTs from H1...\n",
      "25-07-20 02:18:54.556 pyfstat.utils.sft INFO    : Loading 1 SFTs from H1...\n",
      "25-07-20 02:18:54.564 pyfstat.utils.sft INFO    : Loading 1 SFTs from H1...\n",
      "25-07-20 02:18:54.573 pyfstat.utils.sft INFO    : Loading 1 SFTs from H1...\n"
     ]
    },
    {
     "name": "stderr",
     "output_type": "stream",
     "text": [
      " 69%|██████▉   | 3323/4800 [00:28<00:12, 115.71it/s]"
     ]
    },
    {
     "name": "stdout",
     "output_type": "stream",
     "text": [
      "25-07-20 02:18:54.582 pyfstat.utils.sft INFO    : Loading 1 SFTs from H1...\n",
      "25-07-20 02:18:54.591 pyfstat.utils.sft INFO    : Loading 1 SFTs from H1...\n",
      "25-07-20 02:18:54.599 pyfstat.utils.sft INFO    : Loading 1 SFTs from H1...\n",
      "25-07-20 02:18:54.608 pyfstat.utils.sft INFO    : Loading 1 SFTs from H1...\n",
      "25-07-20 02:18:54.616 pyfstat.utils.sft INFO    : Loading 1 SFTs from H1...\n",
      "25-07-20 02:18:54.625 pyfstat.utils.sft INFO    : Loading 1 SFTs from H1...\n",
      "25-07-20 02:18:54.634 pyfstat.utils.sft INFO    : Loading 1 SFTs from H1...\n",
      "25-07-20 02:18:54.643 pyfstat.utils.sft INFO    : Loading 1 SFTs from H1...\n",
      "25-07-20 02:18:54.651 pyfstat.utils.sft INFO    : Loading 1 SFTs from H1...\n",
      "25-07-20 02:18:54.659 pyfstat.utils.sft INFO    : Loading 1 SFTs from H1...\n",
      "25-07-20 02:18:54.667 pyfstat.utils.sft INFO    : Loading 1 SFTs from H1...\n",
      "25-07-20 02:18:54.675 pyfstat.utils.sft INFO    : Loading 1 SFTs from H1...\n"
     ]
    },
    {
     "name": "stderr",
     "output_type": "stream",
     "text": [
      " 69%|██████▉   | 3335/4800 [00:28<00:12, 116.13it/s]"
     ]
    },
    {
     "name": "stdout",
     "output_type": "stream",
     "text": [
      "25-07-20 02:18:54.684 pyfstat.utils.sft INFO    : Loading 1 SFTs from H1...\n",
      "25-07-20 02:18:54.692 pyfstat.utils.sft INFO    : Loading 1 SFTs from H1...\n",
      "25-07-20 02:18:54.700 pyfstat.utils.sft INFO    : Loading 1 SFTs from H1...\n",
      "25-07-20 02:18:54.709 pyfstat.utils.sft INFO    : Loading 1 SFTs from H1...\n",
      "25-07-20 02:18:54.717 pyfstat.utils.sft INFO    : Loading 1 SFTs from H1...\n",
      "25-07-20 02:18:54.726 pyfstat.utils.sft INFO    : Loading 1 SFTs from H1...\n",
      "25-07-20 02:18:54.735 pyfstat.utils.sft INFO    : Loading 1 SFTs from H1...\n",
      "25-07-20 02:18:54.745 pyfstat.utils.sft INFO    : Loading 1 SFTs from H1...\n",
      "25-07-20 02:18:54.753 pyfstat.utils.sft INFO    : Loading 1 SFTs from H1...\n",
      "25-07-20 02:18:54.762 pyfstat.utils.sft INFO    : Loading 1 SFTs from H1...\n",
      "25-07-20 02:18:54.770 pyfstat.utils.sft INFO    : Loading 1 SFTs from H1...\n",
      "25-07-20 02:18:54.779 pyfstat.utils.sft INFO    : Loading 1 SFTs from H1...\n"
     ]
    },
    {
     "name": "stderr",
     "output_type": "stream",
     "text": [
      " 70%|██████▉   | 3347/4800 [00:28<00:12, 116.20it/s]"
     ]
    },
    {
     "name": "stdout",
     "output_type": "stream",
     "text": [
      "25-07-20 02:18:54.788 pyfstat.utils.sft INFO    : Loading 1 SFTs from H1...\n",
      "25-07-20 02:18:54.796 pyfstat.utils.sft INFO    : Loading 1 SFTs from H1...\n",
      "25-07-20 02:18:54.805 pyfstat.utils.sft INFO    : Loading 1 SFTs from H1...\n",
      "25-07-20 02:18:54.813 pyfstat.utils.sft INFO    : Loading 1 SFTs from H1...\n",
      "25-07-20 02:18:54.822 pyfstat.utils.sft INFO    : Loading 1 SFTs from H1...\n",
      "25-07-20 02:18:54.830 pyfstat.utils.sft INFO    : Loading 1 SFTs from H1...\n",
      "25-07-20 02:18:54.838 pyfstat.utils.sft INFO    : Loading 1 SFTs from H1...\n",
      "25-07-20 02:18:54.847 pyfstat.utils.sft INFO    : Loading 1 SFTs from H1...\n",
      "25-07-20 02:18:54.856 pyfstat.utils.sft INFO    : Loading 1 SFTs from H1...\n",
      "25-07-20 02:18:54.864 pyfstat.utils.sft INFO    : Loading 1 SFTs from H1...\n",
      "25-07-20 02:18:54.873 pyfstat.utils.sft INFO    : Loading 1 SFTs from H1...\n",
      "25-07-20 02:18:54.881 pyfstat.utils.sft INFO    : Loading 1 SFTs from H1...\n"
     ]
    },
    {
     "name": "stderr",
     "output_type": "stream",
     "text": [
      " 70%|██████▉   | 3359/4800 [00:28<00:12, 116.37it/s]"
     ]
    },
    {
     "name": "stdout",
     "output_type": "stream",
     "text": [
      "25-07-20 02:18:54.890 pyfstat.utils.sft INFO    : Loading 1 SFTs from H1...\n",
      "25-07-20 02:18:54.899 pyfstat.utils.sft INFO    : Loading 1 SFTs from H1...\n",
      "25-07-20 02:18:54.907 pyfstat.utils.sft INFO    : Loading 1 SFTs from H1...\n",
      "25-07-20 02:18:54.915 pyfstat.utils.sft INFO    : Loading 1 SFTs from H1...\n",
      "25-07-20 02:18:54.924 pyfstat.utils.sft INFO    : Loading 1 SFTs from H1...\n",
      "25-07-20 02:18:54.933 pyfstat.utils.sft INFO    : Loading 1 SFTs from H1...\n",
      "25-07-20 02:18:54.941 pyfstat.utils.sft INFO    : Loading 1 SFTs from H1...\n",
      "25-07-20 02:18:54.949 pyfstat.utils.sft INFO    : Loading 1 SFTs from H1...\n",
      "25-07-20 02:18:54.958 pyfstat.utils.sft INFO    : Loading 1 SFTs from H1...\n",
      "25-07-20 02:18:54.967 pyfstat.utils.sft INFO    : Loading 1 SFTs from H1...\n",
      "25-07-20 02:18:54.975 pyfstat.utils.sft INFO    : Loading 1 SFTs from H1...\n",
      "25-07-20 02:18:54.984 pyfstat.utils.sft INFO    : Loading 1 SFTs from H1...\n"
     ]
    },
    {
     "name": "stderr",
     "output_type": "stream",
     "text": [
      " 70%|███████   | 3371/4800 [00:28<00:12, 116.65it/s]"
     ]
    },
    {
     "name": "stdout",
     "output_type": "stream",
     "text": [
      "25-07-20 02:18:54.992 pyfstat.utils.sft INFO    : Loading 1 SFTs from H1...\n",
      "25-07-20 02:18:55.001 pyfstat.utils.sft INFO    : Loading 1 SFTs from H1...\n",
      "25-07-20 02:18:55.010 pyfstat.utils.sft INFO    : Loading 1 SFTs from H1...\n",
      "25-07-20 02:18:55.018 pyfstat.utils.sft INFO    : Loading 1 SFTs from H1...\n",
      "25-07-20 02:18:55.026 pyfstat.utils.sft INFO    : Loading 1 SFTs from H1...\n",
      "25-07-20 02:18:55.035 pyfstat.utils.sft INFO    : Loading 1 SFTs from H1...\n",
      "25-07-20 02:18:55.043 pyfstat.utils.sft INFO    : Loading 1 SFTs from H1...\n",
      "25-07-20 02:18:55.051 pyfstat.utils.sft INFO    : Loading 1 SFTs from H1...\n",
      "25-07-20 02:18:55.060 pyfstat.utils.sft INFO    : Loading 1 SFTs from H1...\n",
      "25-07-20 02:18:55.069 pyfstat.utils.sft INFO    : Loading 1 SFTs from H1...\n",
      "25-07-20 02:18:55.077 pyfstat.utils.sft INFO    : Loading 1 SFTs from H1...\n",
      "25-07-20 02:18:55.086 pyfstat.utils.sft INFO    : Loading 1 SFTs from H1...\n"
     ]
    },
    {
     "name": "stderr",
     "output_type": "stream",
     "text": [
      " 70%|███████   | 3383/4800 [00:28<00:12, 116.77it/s]"
     ]
    },
    {
     "name": "stdout",
     "output_type": "stream",
     "text": [
      "25-07-20 02:18:55.095 pyfstat.utils.sft INFO    : Loading 1 SFTs from H1...\n",
      "25-07-20 02:18:55.104 pyfstat.utils.sft INFO    : Loading 1 SFTs from H1...\n",
      "25-07-20 02:18:55.112 pyfstat.utils.sft INFO    : Loading 1 SFTs from H1...\n",
      "25-07-20 02:18:55.120 pyfstat.utils.sft INFO    : Loading 1 SFTs from H1...\n",
      "25-07-20 02:18:55.128 pyfstat.utils.sft INFO    : Loading 1 SFTs from H1...\n",
      "25-07-20 02:18:55.138 pyfstat.utils.sft INFO    : Loading 1 SFTs from H1...\n",
      "25-07-20 02:18:55.146 pyfstat.utils.sft INFO    : Loading 1 SFTs from H1...\n",
      "25-07-20 02:18:55.155 pyfstat.utils.sft INFO    : Loading 1 SFTs from H1...\n",
      "25-07-20 02:18:55.163 pyfstat.utils.sft INFO    : Loading 1 SFTs from H1...\n",
      "25-07-20 02:18:55.171 pyfstat.utils.sft INFO    : Loading 1 SFTs from H1...\n",
      "25-07-20 02:18:55.180 pyfstat.utils.sft INFO    : Loading 1 SFTs from H1...\n",
      "25-07-20 02:18:55.188 pyfstat.utils.sft INFO    : Loading 1 SFTs from H1...\n"
     ]
    },
    {
     "name": "stderr",
     "output_type": "stream",
     "text": [
      " 71%|███████   | 3395/4800 [00:28<00:11, 117.12it/s]"
     ]
    },
    {
     "name": "stdout",
     "output_type": "stream",
     "text": [
      "25-07-20 02:18:55.197 pyfstat.utils.sft INFO    : Loading 1 SFTs from H1...\n",
      "25-07-20 02:18:55.205 pyfstat.utils.sft INFO    : Loading 1 SFTs from H1...\n",
      "25-07-20 02:18:55.213 pyfstat.utils.sft INFO    : Loading 1 SFTs from H1...\n",
      "25-07-20 02:18:55.222 pyfstat.utils.sft INFO    : Loading 1 SFTs from H1...\n",
      "25-07-20 02:18:55.231 pyfstat.utils.sft INFO    : Loading 1 SFTs from H1...\n",
      "25-07-20 02:18:55.239 pyfstat.utils.sft INFO    : Loading 1 SFTs from H1...\n",
      "25-07-20 02:18:55.248 pyfstat.utils.sft INFO    : Loading 1 SFTs from H1...\n",
      "25-07-20 02:18:55.256 pyfstat.utils.sft INFO    : Loading 1 SFTs from H1...\n",
      "25-07-20 02:18:55.265 pyfstat.utils.sft INFO    : Loading 1 SFTs from H1...\n",
      "25-07-20 02:18:55.273 pyfstat.utils.sft INFO    : Loading 1 SFTs from H1...\n",
      "25-07-20 02:18:55.282 pyfstat.utils.sft INFO    : Loading 1 SFTs from H1...\n",
      "25-07-20 02:18:55.291 pyfstat.utils.sft INFO    : Loading 1 SFTs from H1...\n"
     ]
    },
    {
     "name": "stderr",
     "output_type": "stream",
     "text": [
      " 71%|███████   | 3407/4800 [00:29<00:11, 116.89it/s]"
     ]
    },
    {
     "name": "stdout",
     "output_type": "stream",
     "text": [
      "25-07-20 02:18:55.300 pyfstat.utils.sft INFO    : Loading 1 SFTs from H1...\n",
      "25-07-20 02:18:55.308 pyfstat.utils.sft INFO    : Loading 1 SFTs from H1...\n",
      "25-07-20 02:18:55.317 pyfstat.utils.sft INFO    : Loading 1 SFTs from H1...\n",
      "25-07-20 02:18:55.326 pyfstat.utils.sft INFO    : Loading 1 SFTs from H1...\n",
      "25-07-20 02:18:55.335 pyfstat.utils.sft INFO    : Loading 1 SFTs from H1...\n",
      "25-07-20 02:18:55.344 pyfstat.utils.sft INFO    : Loading 1 SFTs from H1...\n",
      "25-07-20 02:18:55.352 pyfstat.utils.sft INFO    : Loading 1 SFTs from H1...\n",
      "25-07-20 02:18:55.361 pyfstat.utils.sft INFO    : Loading 1 SFTs from H1...\n",
      "25-07-20 02:18:55.370 pyfstat.utils.sft INFO    : Loading 1 SFTs from H1...\n",
      "25-07-20 02:18:55.378 pyfstat.utils.sft INFO    : Loading 1 SFTs from H1...\n",
      "25-07-20 02:18:55.387 pyfstat.utils.sft INFO    : Loading 1 SFTs from H1...\n",
      "25-07-20 02:18:55.395 pyfstat.utils.sft INFO    : Loading 1 SFTs from H1...\n"
     ]
    },
    {
     "name": "stderr",
     "output_type": "stream",
     "text": [
      " 71%|███████   | 3419/4800 [00:29<00:11, 116.26it/s]"
     ]
    },
    {
     "name": "stdout",
     "output_type": "stream",
     "text": [
      "25-07-20 02:18:55.404 pyfstat.utils.sft INFO    : Loading 1 SFTs from H1...\n",
      "25-07-20 02:18:55.417 pyfstat.utils.sft INFO    : Loading 1 SFTs from H1...\n",
      "25-07-20 02:18:55.426 pyfstat.utils.sft INFO    : Loading 1 SFTs from H1...\n",
      "25-07-20 02:18:55.434 pyfstat.utils.sft INFO    : Loading 1 SFTs from H1...\n",
      "25-07-20 02:18:55.442 pyfstat.utils.sft INFO    : Loading 1 SFTs from H1...\n",
      "25-07-20 02:18:55.450 pyfstat.utils.sft INFO    : Loading 1 SFTs from H1...\n",
      "25-07-20 02:18:55.459 pyfstat.utils.sft INFO    : Loading 1 SFTs from H1...\n",
      "25-07-20 02:18:55.467 pyfstat.utils.sft INFO    : Loading 1 SFTs from H1...\n",
      "25-07-20 02:18:55.475 pyfstat.utils.sft INFO    : Loading 1 SFTs from H1...\n",
      "25-07-20 02:18:55.483 pyfstat.utils.sft INFO    : Loading 1 SFTs from H1...\n",
      "25-07-20 02:18:55.491 pyfstat.utils.sft INFO    : Loading 1 SFTs from H1...\n",
      "25-07-20 02:18:55.499 pyfstat.utils.sft INFO    : Loading 1 SFTs from H1...\n"
     ]
    },
    {
     "name": "stderr",
     "output_type": "stream",
     "text": [
      " 71%|███████▏  | 3431/4800 [00:29<00:11, 116.15it/s]"
     ]
    },
    {
     "name": "stdout",
     "output_type": "stream",
     "text": [
      "25-07-20 02:18:55.508 pyfstat.utils.sft INFO    : Loading 1 SFTs from H1...\n",
      "25-07-20 02:18:55.517 pyfstat.utils.sft INFO    : Loading 1 SFTs from H1...\n",
      "25-07-20 02:18:55.525 pyfstat.utils.sft INFO    : Loading 1 SFTs from H1...\n",
      "25-07-20 02:18:55.534 pyfstat.utils.sft INFO    : Loading 1 SFTs from H1...\n",
      "25-07-20 02:18:55.544 pyfstat.utils.sft INFO    : Loading 1 SFTs from H1...\n",
      "25-07-20 02:18:55.552 pyfstat.utils.sft INFO    : Loading 1 SFTs from H1...\n",
      "25-07-20 02:18:55.560 pyfstat.utils.sft INFO    : Loading 1 SFTs from H1...\n",
      "25-07-20 02:18:55.569 pyfstat.utils.sft INFO    : Loading 1 SFTs from H1...\n",
      "25-07-20 02:18:55.577 pyfstat.utils.sft INFO    : Loading 1 SFTs from H1...\n",
      "25-07-20 02:18:55.585 pyfstat.utils.sft INFO    : Loading 1 SFTs from H1...\n",
      "25-07-20 02:18:55.594 pyfstat.utils.sft INFO    : Loading 1 SFTs from H1...\n",
      "25-07-20 02:18:55.602 pyfstat.utils.sft INFO    : Loading 1 SFTs from H1...\n"
     ]
    },
    {
     "name": "stderr",
     "output_type": "stream",
     "text": [
      " 72%|███████▏  | 3443/4800 [00:29<00:11, 116.20it/s]"
     ]
    },
    {
     "name": "stdout",
     "output_type": "stream",
     "text": [
      "25-07-20 02:18:55.611 pyfstat.utils.sft INFO    : Loading 1 SFTs from H1...\n",
      "25-07-20 02:18:55.620 pyfstat.utils.sft INFO    : Loading 1 SFTs from H1...\n",
      "25-07-20 02:18:55.628 pyfstat.utils.sft INFO    : Loading 1 SFTs from H1...\n",
      "25-07-20 02:18:55.637 pyfstat.utils.sft INFO    : Loading 1 SFTs from H1...\n",
      "25-07-20 02:18:55.646 pyfstat.utils.sft INFO    : Loading 1 SFTs from H1...\n",
      "25-07-20 02:18:55.654 pyfstat.utils.sft INFO    : Loading 1 SFTs from H1...\n",
      "25-07-20 02:18:55.662 pyfstat.utils.sft INFO    : Loading 1 SFTs from H1...\n",
      "25-07-20 02:18:55.670 pyfstat.utils.sft INFO    : Loading 1 SFTs from H1...\n",
      "25-07-20 02:18:55.678 pyfstat.utils.sft INFO    : Loading 1 SFTs from H1...\n",
      "25-07-20 02:18:55.686 pyfstat.utils.sft INFO    : Loading 1 SFTs from H1...\n",
      "25-07-20 02:18:55.695 pyfstat.utils.sft INFO    : Loading 1 SFTs from H1...\n",
      "25-07-20 02:18:55.704 pyfstat.utils.sft INFO    : Loading 1 SFTs from H1...\n"
     ]
    },
    {
     "name": "stderr",
     "output_type": "stream",
     "text": [
      " 72%|███████▏  | 3455/4800 [00:29<00:11, 116.71it/s]"
     ]
    },
    {
     "name": "stdout",
     "output_type": "stream",
     "text": [
      "25-07-20 02:18:55.713 pyfstat.utils.sft INFO    : Loading 1 SFTs from H1...\n",
      "25-07-20 02:18:55.721 pyfstat.utils.sft INFO    : Loading 1 SFTs from H1...\n",
      "25-07-20 02:18:55.730 pyfstat.utils.sft INFO    : Loading 1 SFTs from H1...\n",
      "25-07-20 02:18:55.738 pyfstat.utils.sft INFO    : Loading 1 SFTs from H1...\n",
      "25-07-20 02:18:55.746 pyfstat.utils.sft INFO    : Loading 1 SFTs from H1...\n",
      "25-07-20 02:18:55.755 pyfstat.utils.sft INFO    : Loading 1 SFTs from H1...\n",
      "25-07-20 02:18:55.764 pyfstat.utils.sft INFO    : Loading 1 SFTs from H1...\n",
      "25-07-20 02:18:55.773 pyfstat.utils.sft INFO    : Loading 1 SFTs from H1...\n",
      "25-07-20 02:18:55.782 pyfstat.utils.sft INFO    : Loading 1 SFTs from H1...\n",
      "25-07-20 02:18:55.790 pyfstat.utils.sft INFO    : Loading 1 SFTs from H1...\n",
      "25-07-20 02:18:55.799 pyfstat.utils.sft INFO    : Loading 1 SFTs from H1...\n",
      "25-07-20 02:18:55.807 pyfstat.utils.sft INFO    : Loading 1 SFTs from H1...\n"
     ]
    },
    {
     "name": "stderr",
     "output_type": "stream",
     "text": [
      " 72%|███████▏  | 3467/4800 [00:29<00:11, 116.55it/s]"
     ]
    },
    {
     "name": "stdout",
     "output_type": "stream",
     "text": [
      "25-07-20 02:18:55.816 pyfstat.utils.sft INFO    : Loading 1 SFTs from H1...\n",
      "25-07-20 02:18:55.825 pyfstat.utils.sft INFO    : Loading 1 SFTs from H1...\n",
      "25-07-20 02:18:55.833 pyfstat.utils.sft INFO    : Loading 1 SFTs from H1...\n",
      "25-07-20 02:18:55.841 pyfstat.utils.sft INFO    : Loading 1 SFTs from H1...\n",
      "25-07-20 02:18:55.849 pyfstat.utils.sft INFO    : Loading 1 SFTs from H1...\n",
      "25-07-20 02:18:55.858 pyfstat.utils.sft INFO    : Loading 1 SFTs from H1...\n",
      "25-07-20 02:18:55.866 pyfstat.utils.sft INFO    : Loading 1 SFTs from H1...\n",
      "25-07-20 02:18:55.875 pyfstat.utils.sft INFO    : Loading 1 SFTs from H1...\n",
      "25-07-20 02:18:55.884 pyfstat.utils.sft INFO    : Loading 1 SFTs from H1...\n",
      "25-07-20 02:18:55.892 pyfstat.utils.sft INFO    : Loading 1 SFTs from H1...\n",
      "25-07-20 02:18:55.901 pyfstat.utils.sft INFO    : Loading 1 SFTs from H1...\n",
      "25-07-20 02:18:55.909 pyfstat.utils.sft INFO    : Loading 1 SFTs from H1...\n"
     ]
    },
    {
     "name": "stderr",
     "output_type": "stream",
     "text": [
      " 72%|███████▏  | 3479/4800 [00:29<00:11, 116.98it/s]"
     ]
    },
    {
     "name": "stdout",
     "output_type": "stream",
     "text": [
      "25-07-20 02:18:55.918 pyfstat.utils.sft INFO    : Loading 1 SFTs from H1...\n",
      "25-07-20 02:18:55.927 pyfstat.utils.sft INFO    : Loading 1 SFTs from H1...\n",
      "25-07-20 02:18:55.935 pyfstat.utils.sft INFO    : Loading 1 SFTs from H1...\n",
      "25-07-20 02:18:55.944 pyfstat.utils.sft INFO    : Loading 1 SFTs from H1...\n",
      "25-07-20 02:18:55.952 pyfstat.utils.sft INFO    : Loading 1 SFTs from H1...\n",
      "25-07-20 02:18:55.961 pyfstat.utils.sft INFO    : Loading 1 SFTs from H1...\n",
      "25-07-20 02:18:55.969 pyfstat.utils.sft INFO    : Loading 1 SFTs from H1...\n",
      "25-07-20 02:18:55.978 pyfstat.utils.sft INFO    : Loading 1 SFTs from H1...\n",
      "25-07-20 02:18:55.986 pyfstat.utils.sft INFO    : Loading 1 SFTs from H1...\n",
      "25-07-20 02:18:55.995 pyfstat.utils.sft INFO    : Loading 1 SFTs from H1...\n",
      "25-07-20 02:18:56.004 pyfstat.utils.sft INFO    : Loading 1 SFTs from H1...\n",
      "25-07-20 02:18:56.012 pyfstat.utils.sft INFO    : Loading 1 SFTs from H1...\n"
     ]
    },
    {
     "name": "stderr",
     "output_type": "stream",
     "text": [
      " 73%|███████▎  | 3491/4800 [00:29<00:11, 116.68it/s]"
     ]
    },
    {
     "name": "stdout",
     "output_type": "stream",
     "text": [
      "25-07-20 02:18:56.021 pyfstat.utils.sft INFO    : Loading 1 SFTs from H1...\n",
      "25-07-20 02:18:56.030 pyfstat.utils.sft INFO    : Loading 1 SFTs from H1...\n",
      "25-07-20 02:18:56.039 pyfstat.utils.sft INFO    : Loading 1 SFTs from H1...\n",
      "25-07-20 02:18:56.048 pyfstat.utils.sft INFO    : Loading 1 SFTs from H1...\n",
      "25-07-20 02:18:56.057 pyfstat.utils.sft INFO    : Loading 1 SFTs from H1...\n",
      "25-07-20 02:18:56.065 pyfstat.utils.sft INFO    : Loading 1 SFTs from H1...\n",
      "25-07-20 02:18:56.073 pyfstat.utils.sft INFO    : Loading 1 SFTs from H1...\n",
      "25-07-20 02:18:56.082 pyfstat.utils.sft INFO    : Loading 1 SFTs from H1...\n",
      "25-07-20 02:18:56.090 pyfstat.utils.sft INFO    : Loading 1 SFTs from H1...\n",
      "25-07-20 02:18:56.099 pyfstat.utils.sft INFO    : Loading 1 SFTs from H1...\n",
      "25-07-20 02:18:56.107 pyfstat.utils.sft INFO    : Loading 1 SFTs from H1...\n",
      "25-07-20 02:18:56.116 pyfstat.utils.sft INFO    : Loading 1 SFTs from H1...\n"
     ]
    },
    {
     "name": "stderr",
     "output_type": "stream",
     "text": [
      " 73%|███████▎  | 3503/4800 [00:29<00:11, 116.33it/s]"
     ]
    },
    {
     "name": "stdout",
     "output_type": "stream",
     "text": [
      "25-07-20 02:18:56.125 pyfstat.utils.sft INFO    : Loading 1 SFTs from H1...\n",
      "25-07-20 02:18:56.133 pyfstat.utils.sft INFO    : Loading 1 SFTs from H1...\n",
      "25-07-20 02:18:56.142 pyfstat.utils.sft INFO    : Loading 1 SFTs from H1...\n",
      "25-07-20 02:18:56.150 pyfstat.utils.sft INFO    : Loading 1 SFTs from H1...\n",
      "25-07-20 02:18:56.159 pyfstat.utils.sft INFO    : Loading 1 SFTs from H1...\n",
      "25-07-20 02:18:56.168 pyfstat.utils.sft INFO    : Loading 1 SFTs from H1...\n",
      "25-07-20 02:18:56.176 pyfstat.utils.sft INFO    : Loading 1 SFTs from H1...\n",
      "25-07-20 02:18:56.185 pyfstat.utils.sft INFO    : Loading 1 SFTs from H1...\n",
      "25-07-20 02:18:56.194 pyfstat.utils.sft INFO    : Loading 1 SFTs from H1...\n",
      "25-07-20 02:18:56.203 pyfstat.utils.sft INFO    : Loading 1 SFTs from H1...\n",
      "25-07-20 02:18:56.212 pyfstat.utils.sft INFO    : Loading 1 SFTs from H1...\n",
      "25-07-20 02:18:56.220 pyfstat.utils.sft INFO    : Loading 1 SFTs from H1...\n"
     ]
    },
    {
     "name": "stderr",
     "output_type": "stream",
     "text": [
      " 73%|███████▎  | 3515/4800 [00:29<00:11, 116.09it/s]"
     ]
    },
    {
     "name": "stdout",
     "output_type": "stream",
     "text": [
      "25-07-20 02:18:56.229 pyfstat.utils.sft INFO    : Loading 1 SFTs from H1...\n",
      "25-07-20 02:18:56.238 pyfstat.utils.sft INFO    : Loading 1 SFTs from H1...\n",
      "25-07-20 02:18:56.246 pyfstat.utils.sft INFO    : Loading 1 SFTs from H1...\n",
      "25-07-20 02:18:56.254 pyfstat.utils.sft INFO    : Loading 1 SFTs from H1...\n",
      "25-07-20 02:18:56.262 pyfstat.utils.sft INFO    : Loading 1 SFTs from H1...\n",
      "25-07-20 02:18:56.270 pyfstat.utils.sft INFO    : Loading 1 SFTs from H1...\n",
      "25-07-20 02:18:56.279 pyfstat.utils.sft INFO    : Loading 1 SFTs from H1...\n",
      "25-07-20 02:18:56.288 pyfstat.utils.sft INFO    : Loading 1 SFTs from H1...\n",
      "25-07-20 02:18:56.297 pyfstat.utils.sft INFO    : Loading 1 SFTs from H1...\n",
      "25-07-20 02:18:56.306 pyfstat.utils.sft INFO    : Loading 1 SFTs from H1...\n",
      "25-07-20 02:18:56.315 pyfstat.utils.sft INFO    : Loading 1 SFTs from H1...\n",
      "25-07-20 02:18:56.324 pyfstat.utils.sft INFO    : Loading 1 SFTs from H1...\n"
     ]
    },
    {
     "name": "stderr",
     "output_type": "stream",
     "text": [
      " 73%|███████▎  | 3527/4800 [00:30<00:10, 115.89it/s]"
     ]
    },
    {
     "name": "stdout",
     "output_type": "stream",
     "text": [
      "25-07-20 02:18:56.333 pyfstat.utils.sft INFO    : Loading 1 SFTs from H1...\n",
      "25-07-20 02:18:56.343 pyfstat.utils.sft INFO    : Loading 1 SFTs from H1...\n",
      "25-07-20 02:18:56.351 pyfstat.utils.sft INFO    : Loading 1 SFTs from H1...\n",
      "25-07-20 02:18:56.360 pyfstat.utils.sft INFO    : Loading 1 SFTs from H1...\n",
      "25-07-20 02:18:56.369 pyfstat.utils.sft INFO    : Loading 1 SFTs from H1...\n",
      "25-07-20 02:18:56.377 pyfstat.utils.sft INFO    : Loading 1 SFTs from H1...\n",
      "25-07-20 02:18:56.386 pyfstat.utils.sft INFO    : Loading 1 SFTs from H1...\n",
      "25-07-20 02:18:56.394 pyfstat.utils.sft INFO    : Loading 1 SFTs from H1...\n",
      "25-07-20 02:18:56.403 pyfstat.utils.sft INFO    : Loading 1 SFTs from H1...\n",
      "25-07-20 02:18:56.411 pyfstat.utils.sft INFO    : Loading 1 SFTs from H1...\n",
      "25-07-20 02:18:56.420 pyfstat.utils.sft INFO    : Loading 1 SFTs from H1...\n",
      "25-07-20 02:18:56.428 pyfstat.utils.sft INFO    : Loading 1 SFTs from H1...\n"
     ]
    },
    {
     "name": "stderr",
     "output_type": "stream",
     "text": [
      " 74%|███████▎  | 3539/4800 [00:30<00:10, 115.45it/s]"
     ]
    },
    {
     "name": "stdout",
     "output_type": "stream",
     "text": [
      "25-07-20 02:18:56.438 pyfstat.utils.sft INFO    : Loading 1 SFTs from H1...\n",
      "25-07-20 02:18:56.447 pyfstat.utils.sft INFO    : Loading 1 SFTs from H1...\n",
      "25-07-20 02:18:56.455 pyfstat.utils.sft INFO    : Loading 1 SFTs from H1...\n",
      "25-07-20 02:18:56.464 pyfstat.utils.sft INFO    : Loading 1 SFTs from H1...\n",
      "25-07-20 02:18:56.472 pyfstat.utils.sft INFO    : Loading 1 SFTs from H1...\n",
      "25-07-20 02:18:56.481 pyfstat.utils.sft INFO    : Loading 1 SFTs from H1...\n",
      "25-07-20 02:18:56.489 pyfstat.utils.sft INFO    : Loading 1 SFTs from H1...\n",
      "25-07-20 02:18:56.499 pyfstat.utils.sft INFO    : Loading 1 SFTs from H1...\n",
      "25-07-20 02:18:56.508 pyfstat.utils.sft INFO    : Loading 1 SFTs from H1...\n",
      "25-07-20 02:18:56.517 pyfstat.utils.sft INFO    : Loading 1 SFTs from H1...\n",
      "25-07-20 02:18:56.526 pyfstat.utils.sft INFO    : Loading 1 SFTs from H1...\n",
      "25-07-20 02:18:56.535 pyfstat.utils.sft INFO    : Loading 1 SFTs from H1...\n"
     ]
    },
    {
     "name": "stderr",
     "output_type": "stream",
     "text": [
      " 74%|███████▍  | 3551/4800 [00:30<00:10, 114.60it/s]"
     ]
    },
    {
     "name": "stdout",
     "output_type": "stream",
     "text": [
      "25-07-20 02:18:56.545 pyfstat.utils.sft INFO    : Loading 1 SFTs from H1...\n",
      "25-07-20 02:18:56.553 pyfstat.utils.sft INFO    : Loading 1 SFTs from H1...\n",
      "25-07-20 02:18:56.562 pyfstat.utils.sft INFO    : Loading 1 SFTs from H1...\n",
      "25-07-20 02:18:56.570 pyfstat.utils.sft INFO    : Loading 1 SFTs from H1...\n",
      "25-07-20 02:18:56.579 pyfstat.utils.sft INFO    : Loading 1 SFTs from H1...\n",
      "25-07-20 02:18:56.588 pyfstat.utils.sft INFO    : Loading 1 SFTs from H1...\n",
      "25-07-20 02:18:56.597 pyfstat.utils.sft INFO    : Loading 1 SFTs from H1...\n",
      "25-07-20 02:18:56.605 pyfstat.utils.sft INFO    : Loading 1 SFTs from H1...\n",
      "25-07-20 02:18:56.614 pyfstat.utils.sft INFO    : Loading 1 SFTs from H1...\n",
      "25-07-20 02:18:56.622 pyfstat.utils.sft INFO    : Loading 1 SFTs from H1...\n",
      "25-07-20 02:18:56.631 pyfstat.utils.sft INFO    : Loading 1 SFTs from H1...\n",
      "25-07-20 02:18:56.640 pyfstat.utils.sft INFO    : Loading 1 SFTs from H1...\n"
     ]
    },
    {
     "name": "stderr",
     "output_type": "stream",
     "text": [
      " 74%|███████▍  | 3563/4800 [00:30<00:10, 114.57it/s]"
     ]
    },
    {
     "name": "stdout",
     "output_type": "stream",
     "text": [
      "25-07-20 02:18:56.649 pyfstat.utils.sft INFO    : Loading 1 SFTs from H1...\n",
      "25-07-20 02:18:56.658 pyfstat.utils.sft INFO    : Loading 1 SFTs from H1...\n",
      "25-07-20 02:18:56.666 pyfstat.utils.sft INFO    : Loading 1 SFTs from H1...\n",
      "25-07-20 02:18:56.675 pyfstat.utils.sft INFO    : Loading 1 SFTs from H1...\n",
      "25-07-20 02:18:56.684 pyfstat.utils.sft INFO    : Loading 1 SFTs from H1...\n",
      "25-07-20 02:18:56.693 pyfstat.utils.sft INFO    : Loading 1 SFTs from H1...\n",
      "25-07-20 02:18:56.701 pyfstat.utils.sft INFO    : Loading 1 SFTs from H1...\n",
      "25-07-20 02:18:56.710 pyfstat.utils.sft INFO    : Loading 1 SFTs from H1...\n",
      "25-07-20 02:18:56.718 pyfstat.utils.sft INFO    : Loading 1 SFTs from H1...\n",
      "25-07-20 02:18:56.727 pyfstat.utils.sft INFO    : Loading 1 SFTs from H1...\n",
      "25-07-20 02:18:56.735 pyfstat.utils.sft INFO    : Loading 1 SFTs from H1...\n",
      "25-07-20 02:18:56.744 pyfstat.utils.sft INFO    : Loading 1 SFTs from H1...\n"
     ]
    },
    {
     "name": "stderr",
     "output_type": "stream",
     "text": [
      " 74%|███████▍  | 3575/4800 [00:30<00:10, 114.92it/s]"
     ]
    },
    {
     "name": "stdout",
     "output_type": "stream",
     "text": [
      "25-07-20 02:18:56.753 pyfstat.utils.sft INFO    : Loading 1 SFTs from H1...\n",
      "25-07-20 02:18:56.761 pyfstat.utils.sft INFO    : Loading 1 SFTs from H1...\n",
      "25-07-20 02:18:56.769 pyfstat.utils.sft INFO    : Loading 1 SFTs from H1...\n",
      "25-07-20 02:18:56.777 pyfstat.utils.sft INFO    : Loading 1 SFTs from H1...\n",
      "25-07-20 02:18:56.785 pyfstat.utils.sft INFO    : Loading 1 SFTs from H1...\n",
      "25-07-20 02:18:56.794 pyfstat.utils.sft INFO    : Loading 1 SFTs from H1...\n",
      "25-07-20 02:18:56.802 pyfstat.utils.sft INFO    : Loading 1 SFTs from H1...\n",
      "25-07-20 02:18:56.811 pyfstat.utils.sft INFO    : Loading 1 SFTs from H1...\n",
      "25-07-20 02:18:56.820 pyfstat.utils.sft INFO    : Loading 1 SFTs from H1...\n",
      "25-07-20 02:18:56.828 pyfstat.utils.sft INFO    : Loading 1 SFTs from H1...\n",
      "25-07-20 02:18:56.837 pyfstat.utils.sft INFO    : Loading 1 SFTs from H1...\n",
      "25-07-20 02:18:56.847 pyfstat.utils.sft INFO    : Loading 1 SFTs from H1...\n"
     ]
    },
    {
     "name": "stderr",
     "output_type": "stream",
     "text": [
      " 75%|███████▍  | 3587/4800 [00:30<00:10, 115.19it/s]"
     ]
    },
    {
     "name": "stdout",
     "output_type": "stream",
     "text": [
      "25-07-20 02:18:56.857 pyfstat.utils.sft INFO    : Loading 1 SFTs from H1...\n",
      "25-07-20 02:18:56.866 pyfstat.utils.sft INFO    : Loading 1 SFTs from H1...\n",
      "25-07-20 02:18:56.875 pyfstat.utils.sft INFO    : Loading 1 SFTs from H1...\n",
      "25-07-20 02:18:56.883 pyfstat.utils.sft INFO    : Loading 1 SFTs from H1...\n",
      "25-07-20 02:18:56.892 pyfstat.utils.sft INFO    : Loading 1 SFTs from H1...\n",
      "25-07-20 02:18:56.900 pyfstat.utils.sft INFO    : Loading 1 SFTs from H1...\n",
      "25-07-20 02:18:56.909 pyfstat.utils.sft INFO    : Loading 1 SFTs from H1...\n",
      "25-07-20 02:18:56.917 pyfstat.utils.sft INFO    : Loading 1 SFTs from H1...\n",
      "25-07-20 02:18:56.926 pyfstat.utils.sft INFO    : Loading 1 SFTs from H1...\n",
      "25-07-20 02:18:56.934 pyfstat.utils.sft INFO    : Loading 1 SFTs from H1...\n",
      "25-07-20 02:18:56.942 pyfstat.utils.sft INFO    : Loading 1 SFTs from H1...\n",
      "25-07-20 02:18:56.952 pyfstat.utils.sft INFO    : Loading 1 SFTs from H1...\n"
     ]
    },
    {
     "name": "stderr",
     "output_type": "stream",
     "text": [
      " 75%|███████▍  | 3599/4800 [00:30<00:10, 115.24it/s]"
     ]
    },
    {
     "name": "stdout",
     "output_type": "stream",
     "text": [
      "25-07-20 02:18:56.961 pyfstat.utils.sft INFO    : Loading 1 SFTs from H1...\n",
      "25-07-20 02:18:56.970 pyfstat.utils.sft INFO    : Loading 1 SFTs from H1...\n",
      "25-07-20 02:18:56.978 pyfstat.utils.sft INFO    : Loading 1 SFTs from H1...\n",
      "25-07-20 02:18:56.986 pyfstat.utils.sft INFO    : Loading 1 SFTs from H1...\n",
      "25-07-20 02:18:56.994 pyfstat.utils.sft INFO    : Loading 1 SFTs from H1...\n",
      "25-07-20 02:18:57.003 pyfstat.utils.sft INFO    : Loading 1 SFTs from H1...\n",
      "25-07-20 02:18:57.011 pyfstat.utils.sft INFO    : Loading 1 SFTs from H1...\n",
      "25-07-20 02:18:57.020 pyfstat.utils.sft INFO    : Loading 1 SFTs from H1...\n",
      "25-07-20 02:18:57.029 pyfstat.utils.sft INFO    : Loading 1 SFTs from H1...\n",
      "25-07-20 02:18:57.037 pyfstat.utils.sft INFO    : Loading 1 SFTs from H1...\n",
      "25-07-20 02:18:57.045 pyfstat.utils.sft INFO    : Loading 1 SFTs from H1...\n",
      "25-07-20 02:18:57.054 pyfstat.utils.sft INFO    : Loading 1 SFTs from H1...\n"
     ]
    },
    {
     "name": "stderr",
     "output_type": "stream",
     "text": [
      " 75%|███████▌  | 3611/4800 [00:30<00:10, 116.05it/s]"
     ]
    },
    {
     "name": "stdout",
     "output_type": "stream",
     "text": [
      "25-07-20 02:18:57.062 pyfstat.utils.sft INFO    : Loading 1 SFTs from H1...\n",
      "25-07-20 02:18:57.071 pyfstat.utils.sft INFO    : Loading 1 SFTs from H1...\n",
      "25-07-20 02:18:57.079 pyfstat.utils.sft INFO    : Loading 1 SFTs from H1...\n",
      "25-07-20 02:18:57.088 pyfstat.utils.sft INFO    : Loading 1 SFTs from H1...\n",
      "25-07-20 02:18:57.097 pyfstat.utils.sft INFO    : Loading 1 SFTs from H1...\n",
      "25-07-20 02:18:57.106 pyfstat.utils.sft INFO    : Loading 1 SFTs from H1...\n",
      "25-07-20 02:18:57.114 pyfstat.utils.sft INFO    : Loading 1 SFTs from H1...\n",
      "25-07-20 02:18:57.123 pyfstat.utils.sft INFO    : Loading 1 SFTs from H1...\n",
      "25-07-20 02:18:57.132 pyfstat.utils.sft INFO    : Loading 1 SFTs from H1...\n",
      "25-07-20 02:18:57.141 pyfstat.utils.sft INFO    : Loading 1 SFTs from H1...\n",
      "25-07-20 02:18:57.149 pyfstat.utils.sft INFO    : Loading 1 SFTs from H1...\n",
      "25-07-20 02:18:57.157 pyfstat.utils.sft INFO    : Loading 1 SFTs from H1...\n"
     ]
    },
    {
     "name": "stderr",
     "output_type": "stream",
     "text": [
      " 75%|███████▌  | 3623/4800 [00:30<00:10, 115.96it/s]"
     ]
    },
    {
     "name": "stdout",
     "output_type": "stream",
     "text": [
      "25-07-20 02:18:57.166 pyfstat.utils.sft INFO    : Loading 1 SFTs from H1...\n",
      "25-07-20 02:18:57.174 pyfstat.utils.sft INFO    : Loading 1 SFTs from H1...\n",
      "25-07-20 02:18:57.183 pyfstat.utils.sft INFO    : Loading 1 SFTs from H1...\n",
      "25-07-20 02:18:57.192 pyfstat.utils.sft INFO    : Loading 1 SFTs from H1...\n",
      "25-07-20 02:18:57.200 pyfstat.utils.sft INFO    : Loading 1 SFTs from H1...\n",
      "25-07-20 02:18:57.209 pyfstat.utils.sft INFO    : Loading 1 SFTs from H1...\n",
      "25-07-20 02:18:57.218 pyfstat.utils.sft INFO    : Loading 1 SFTs from H1...\n",
      "25-07-20 02:18:57.226 pyfstat.utils.sft INFO    : Loading 1 SFTs from H1...\n",
      "25-07-20 02:18:57.235 pyfstat.utils.sft INFO    : Loading 1 SFTs from H1...\n",
      "25-07-20 02:18:57.243 pyfstat.utils.sft INFO    : Loading 1 SFTs from H1...\n",
      "25-07-20 02:18:57.251 pyfstat.utils.sft INFO    : Loading 1 SFTs from H1...\n",
      "25-07-20 02:18:57.260 pyfstat.utils.sft INFO    : Loading 1 SFTs from H1...\n"
     ]
    },
    {
     "name": "stderr",
     "output_type": "stream",
     "text": [
      " 76%|███████▌  | 3635/4800 [00:30<00:10, 115.88it/s]"
     ]
    },
    {
     "name": "stdout",
     "output_type": "stream",
     "text": [
      "25-07-20 02:18:57.270 pyfstat.utils.sft INFO    : Loading 1 SFTs from H1...\n",
      "25-07-20 02:18:57.278 pyfstat.utils.sft INFO    : Loading 1 SFTs from H1...\n",
      "25-07-20 02:18:57.287 pyfstat.utils.sft INFO    : Loading 1 SFTs from H1...\n",
      "25-07-20 02:18:57.296 pyfstat.utils.sft INFO    : Loading 1 SFTs from H1...\n",
      "25-07-20 02:18:57.304 pyfstat.utils.sft INFO    : Loading 1 SFTs from H1...\n",
      "25-07-20 02:18:57.313 pyfstat.utils.sft INFO    : Loading 1 SFTs from H1...\n",
      "25-07-20 02:18:57.322 pyfstat.utils.sft INFO    : Loading 1 SFTs from H1...\n",
      "25-07-20 02:18:57.330 pyfstat.utils.sft INFO    : Loading 1 SFTs from H1...\n",
      "25-07-20 02:18:57.338 pyfstat.utils.sft INFO    : Loading 1 SFTs from H1...\n",
      "25-07-20 02:18:57.347 pyfstat.utils.sft INFO    : Loading 1 SFTs from H1...\n",
      "25-07-20 02:18:57.355 pyfstat.utils.sft INFO    : Loading 1 SFTs from H1...\n",
      "25-07-20 02:18:57.363 pyfstat.utils.sft INFO    : Loading 1 SFTs from H1...\n"
     ]
    },
    {
     "name": "stderr",
     "output_type": "stream",
     "text": [
      " 76%|███████▌  | 3647/4800 [00:31<00:09, 116.14it/s]"
     ]
    },
    {
     "name": "stdout",
     "output_type": "stream",
     "text": [
      "25-07-20 02:18:57.372 pyfstat.utils.sft INFO    : Loading 1 SFTs from H1...\n",
      "25-07-20 02:18:57.380 pyfstat.utils.sft INFO    : Loading 1 SFTs from H1...\n",
      "25-07-20 02:18:57.388 pyfstat.utils.sft INFO    : Loading 1 SFTs from H1...\n",
      "25-07-20 02:18:57.397 pyfstat.utils.sft INFO    : Loading 1 SFTs from H1...\n",
      "25-07-20 02:18:57.405 pyfstat.utils.sft INFO    : Loading 1 SFTs from H1...\n",
      "25-07-20 02:18:57.413 pyfstat.utils.sft INFO    : Loading 1 SFTs from H1...\n",
      "25-07-20 02:18:57.421 pyfstat.utils.sft INFO    : Loading 1 SFTs from H1...\n",
      "25-07-20 02:18:57.429 pyfstat.utils.sft INFO    : Loading 1 SFTs from H1...\n",
      "25-07-20 02:18:57.437 pyfstat.utils.sft INFO    : Loading 1 SFTs from H1...\n",
      "25-07-20 02:18:57.446 pyfstat.utils.sft INFO    : Loading 1 SFTs from H1...\n",
      "25-07-20 02:18:57.454 pyfstat.utils.sft INFO    : Loading 1 SFTs from H1...\n",
      "25-07-20 02:18:57.462 pyfstat.utils.sft INFO    : Loading 1 SFTs from H1...\n",
      "25-07-20 02:18:57.471 pyfstat.utils.sft INFO    : Loading 1 SFTs from H1...\n"
     ]
    },
    {
     "name": "stderr",
     "output_type": "stream",
     "text": [
      " 76%|███████▋  | 3660/4800 [00:31<00:09, 117.58it/s]"
     ]
    },
    {
     "name": "stdout",
     "output_type": "stream",
     "text": [
      "25-07-20 02:18:57.480 pyfstat.utils.sft INFO    : Loading 1 SFTs from H1...\n",
      "25-07-20 02:18:57.489 pyfstat.utils.sft INFO    : Loading 1 SFTs from H1...\n",
      "25-07-20 02:18:57.498 pyfstat.utils.sft INFO    : Loading 1 SFTs from H1...\n",
      "25-07-20 02:18:57.506 pyfstat.utils.sft INFO    : Loading 1 SFTs from H1...\n",
      "25-07-20 02:18:57.515 pyfstat.utils.sft INFO    : Loading 1 SFTs from H1...\n",
      "25-07-20 02:18:57.524 pyfstat.utils.sft INFO    : Loading 1 SFTs from H1...\n",
      "25-07-20 02:18:57.532 pyfstat.utils.sft INFO    : Loading 1 SFTs from H1...\n",
      "25-07-20 02:18:57.541 pyfstat.utils.sft INFO    : Loading 1 SFTs from H1...\n",
      "25-07-20 02:18:57.550 pyfstat.utils.sft INFO    : Loading 1 SFTs from H1...\n",
      "25-07-20 02:18:57.558 pyfstat.utils.sft INFO    : Loading 1 SFTs from H1...\n",
      "25-07-20 02:18:57.567 pyfstat.utils.sft INFO    : Loading 1 SFTs from H1...\n",
      "25-07-20 02:18:57.575 pyfstat.utils.sft INFO    : Loading 1 SFTs from H1...\n"
     ]
    },
    {
     "name": "stderr",
     "output_type": "stream",
     "text": [
      " 76%|███████▋  | 3672/4800 [00:31<00:09, 116.88it/s]"
     ]
    },
    {
     "name": "stdout",
     "output_type": "stream",
     "text": [
      "25-07-20 02:18:57.584 pyfstat.utils.sft INFO    : Loading 1 SFTs from H1...\n",
      "25-07-20 02:18:57.593 pyfstat.utils.sft INFO    : Loading 1 SFTs from H1...\n",
      "25-07-20 02:18:57.601 pyfstat.utils.sft INFO    : Loading 1 SFTs from H1...\n",
      "25-07-20 02:18:57.610 pyfstat.utils.sft INFO    : Loading 1 SFTs from H1...\n",
      "25-07-20 02:18:57.618 pyfstat.utils.sft INFO    : Loading 1 SFTs from H1...\n",
      "25-07-20 02:18:57.627 pyfstat.utils.sft INFO    : Loading 1 SFTs from H1...\n",
      "25-07-20 02:18:57.635 pyfstat.utils.sft INFO    : Loading 1 SFTs from H1...\n",
      "25-07-20 02:18:57.644 pyfstat.utils.sft INFO    : Loading 1 SFTs from H1...\n",
      "25-07-20 02:18:57.652 pyfstat.utils.sft INFO    : Loading 1 SFTs from H1...\n",
      "25-07-20 02:18:57.661 pyfstat.utils.sft INFO    : Loading 1 SFTs from H1...\n",
      "25-07-20 02:18:57.670 pyfstat.utils.sft INFO    : Loading 1 SFTs from H1...\n",
      "25-07-20 02:18:57.679 pyfstat.utils.sft INFO    : Loading 1 SFTs from H1...\n"
     ]
    },
    {
     "name": "stderr",
     "output_type": "stream",
     "text": [
      " 77%|███████▋  | 3684/4800 [00:31<00:09, 116.42it/s]"
     ]
    },
    {
     "name": "stdout",
     "output_type": "stream",
     "text": [
      "25-07-20 02:18:57.688 pyfstat.utils.sft INFO    : Loading 1 SFTs from H1...\n",
      "25-07-20 02:18:57.697 pyfstat.utils.sft INFO    : Loading 1 SFTs from H1...\n",
      "25-07-20 02:18:57.705 pyfstat.utils.sft INFO    : Loading 1 SFTs from H1...\n",
      "25-07-20 02:18:57.713 pyfstat.utils.sft INFO    : Loading 1 SFTs from H1...\n",
      "25-07-20 02:18:57.722 pyfstat.utils.sft INFO    : Loading 1 SFTs from H1...\n",
      "25-07-20 02:18:57.731 pyfstat.utils.sft INFO    : Loading 1 SFTs from H1...\n",
      "25-07-20 02:18:57.740 pyfstat.utils.sft INFO    : Loading 1 SFTs from H1...\n",
      "25-07-20 02:18:57.749 pyfstat.utils.sft INFO    : Loading 1 SFTs from H1...\n",
      "25-07-20 02:18:57.758 pyfstat.utils.sft INFO    : Loading 1 SFTs from H1...\n",
      "25-07-20 02:18:57.766 pyfstat.utils.sft INFO    : Loading 1 SFTs from H1...\n",
      "25-07-20 02:18:57.774 pyfstat.utils.sft INFO    : Loading 1 SFTs from H1...\n",
      "25-07-20 02:18:57.783 pyfstat.utils.sft INFO    : Loading 1 SFTs from H1...\n"
     ]
    },
    {
     "name": "stderr",
     "output_type": "stream",
     "text": [
      " 77%|███████▋  | 3696/4800 [00:31<00:09, 116.08it/s]"
     ]
    },
    {
     "name": "stdout",
     "output_type": "stream",
     "text": [
      "25-07-20 02:18:57.792 pyfstat.utils.sft INFO    : Loading 1 SFTs from H1...\n",
      "25-07-20 02:18:57.801 pyfstat.utils.sft INFO    : Loading 1 SFTs from H1...\n",
      "25-07-20 02:18:57.809 pyfstat.utils.sft INFO    : Loading 1 SFTs from H1...\n",
      "25-07-20 02:18:57.818 pyfstat.utils.sft INFO    : Loading 1 SFTs from H1...\n",
      "25-07-20 02:18:57.827 pyfstat.utils.sft INFO    : Loading 1 SFTs from H1...\n",
      "25-07-20 02:18:57.835 pyfstat.utils.sft INFO    : Loading 1 SFTs from H1...\n",
      "25-07-20 02:18:57.844 pyfstat.utils.sft INFO    : Loading 1 SFTs from H1...\n",
      "25-07-20 02:18:57.852 pyfstat.utils.sft INFO    : Loading 1 SFTs from H1...\n",
      "25-07-20 02:18:57.861 pyfstat.utils.sft INFO    : Loading 1 SFTs from H1...\n",
      "25-07-20 02:18:57.869 pyfstat.utils.sft INFO    : Loading 1 SFTs from H1...\n",
      "25-07-20 02:18:57.878 pyfstat.utils.sft INFO    : Loading 1 SFTs from H1...\n",
      "25-07-20 02:18:57.886 pyfstat.utils.sft INFO    : Loading 1 SFTs from H1...\n"
     ]
    },
    {
     "name": "stderr",
     "output_type": "stream",
     "text": [
      " 77%|███████▋  | 3708/4800 [00:31<00:09, 116.23it/s]"
     ]
    },
    {
     "name": "stdout",
     "output_type": "stream",
     "text": [
      "25-07-20 02:18:57.895 pyfstat.utils.sft INFO    : Loading 1 SFTs from H1...\n",
      "25-07-20 02:18:57.904 pyfstat.utils.sft INFO    : Loading 1 SFTs from H1...\n",
      "25-07-20 02:18:57.912 pyfstat.utils.sft INFO    : Loading 1 SFTs from H1...\n",
      "25-07-20 02:18:57.920 pyfstat.utils.sft INFO    : Loading 1 SFTs from H1...\n",
      "25-07-20 02:18:57.929 pyfstat.utils.sft INFO    : Loading 1 SFTs from H1...\n",
      "25-07-20 02:18:57.937 pyfstat.utils.sft INFO    : Loading 1 SFTs from H1...\n",
      "25-07-20 02:18:57.946 pyfstat.utils.sft INFO    : Loading 1 SFTs from H1...\n",
      "25-07-20 02:18:57.955 pyfstat.utils.sft INFO    : Loading 1 SFTs from H1...\n",
      "25-07-20 02:18:57.963 pyfstat.utils.sft INFO    : Loading 1 SFTs from H1...\n",
      "25-07-20 02:18:57.972 pyfstat.utils.sft INFO    : Loading 1 SFTs from H1...\n",
      "25-07-20 02:18:57.980 pyfstat.utils.sft INFO    : Loading 1 SFTs from H1...\n",
      "25-07-20 02:18:57.988 pyfstat.utils.sft INFO    : Loading 1 SFTs from H1...\n"
     ]
    },
    {
     "name": "stderr",
     "output_type": "stream",
     "text": [
      " 78%|███████▊  | 3720/4800 [00:31<00:09, 116.47it/s]"
     ]
    },
    {
     "name": "stdout",
     "output_type": "stream",
     "text": [
      "25-07-20 02:18:57.998 pyfstat.utils.sft INFO    : Loading 1 SFTs from H1...\n",
      "25-07-20 02:18:58.006 pyfstat.utils.sft INFO    : Loading 1 SFTs from H1...\n",
      "25-07-20 02:18:58.015 pyfstat.utils.sft INFO    : Loading 1 SFTs from H1...\n",
      "25-07-20 02:18:58.024 pyfstat.utils.sft INFO    : Loading 1 SFTs from H1...\n",
      "25-07-20 02:18:58.033 pyfstat.utils.sft INFO    : Loading 1 SFTs from H1...\n",
      "25-07-20 02:18:58.042 pyfstat.utils.sft INFO    : Loading 1 SFTs from H1...\n",
      "25-07-20 02:18:58.050 pyfstat.utils.sft INFO    : Loading 1 SFTs from H1...\n",
      "25-07-20 02:18:58.058 pyfstat.utils.sft INFO    : Loading 1 SFTs from H1...\n",
      "25-07-20 02:18:58.068 pyfstat.utils.sft INFO    : Loading 1 SFTs from H1...\n",
      "25-07-20 02:18:58.076 pyfstat.utils.sft INFO    : Loading 1 SFTs from H1...\n",
      "25-07-20 02:18:58.086 pyfstat.utils.sft INFO    : Loading 1 SFTs from H1...\n",
      "25-07-20 02:18:58.094 pyfstat.utils.sft INFO    : Loading 1 SFTs from H1...\n"
     ]
    },
    {
     "name": "stderr",
     "output_type": "stream",
     "text": [
      " 78%|███████▊  | 3732/4800 [00:31<00:09, 115.53it/s]"
     ]
    },
    {
     "name": "stdout",
     "output_type": "stream",
     "text": [
      "25-07-20 02:18:58.104 pyfstat.utils.sft INFO    : Loading 1 SFTs from H1...\n",
      "25-07-20 02:18:58.113 pyfstat.utils.sft INFO    : Loading 1 SFTs from H1...\n",
      "25-07-20 02:18:58.121 pyfstat.utils.sft INFO    : Loading 1 SFTs from H1...\n",
      "25-07-20 02:18:58.129 pyfstat.utils.sft INFO    : Loading 1 SFTs from H1...\n",
      "25-07-20 02:18:58.137 pyfstat.utils.sft INFO    : Loading 1 SFTs from H1...\n",
      "25-07-20 02:18:58.145 pyfstat.utils.sft INFO    : Loading 1 SFTs from H1...\n",
      "25-07-20 02:18:58.154 pyfstat.utils.sft INFO    : Loading 1 SFTs from H1...\n",
      "25-07-20 02:18:58.163 pyfstat.utils.sft INFO    : Loading 1 SFTs from H1...\n",
      "25-07-20 02:18:58.172 pyfstat.utils.sft INFO    : Loading 1 SFTs from H1...\n",
      "25-07-20 02:18:58.180 pyfstat.utils.sft INFO    : Loading 1 SFTs from H1...\n",
      "25-07-20 02:18:58.189 pyfstat.utils.sft INFO    : Loading 1 SFTs from H1...\n",
      "25-07-20 02:18:58.198 pyfstat.utils.sft INFO    : Loading 1 SFTs from H1...\n"
     ]
    },
    {
     "name": "stderr",
     "output_type": "stream",
     "text": [
      " 78%|███████▊  | 3744/4800 [00:31<00:09, 115.76it/s]"
     ]
    },
    {
     "name": "stdout",
     "output_type": "stream",
     "text": [
      "25-07-20 02:18:58.207 pyfstat.utils.sft INFO    : Loading 1 SFTs from H1...\n",
      "25-07-20 02:18:58.216 pyfstat.utils.sft INFO    : Loading 1 SFTs from H1...\n",
      "25-07-20 02:18:58.224 pyfstat.utils.sft INFO    : Loading 1 SFTs from H1...\n",
      "25-07-20 02:18:58.233 pyfstat.utils.sft INFO    : Loading 1 SFTs from H1...\n",
      "25-07-20 02:18:58.241 pyfstat.utils.sft INFO    : Loading 1 SFTs from H1...\n",
      "25-07-20 02:18:58.250 pyfstat.utils.sft INFO    : Loading 1 SFTs from H1...\n",
      "25-07-20 02:18:58.259 pyfstat.utils.sft INFO    : Loading 1 SFTs from H1...\n",
      "25-07-20 02:18:58.267 pyfstat.utils.sft INFO    : Loading 1 SFTs from H1...\n",
      "25-07-20 02:18:58.275 pyfstat.utils.sft INFO    : Loading 1 SFTs from H1...\n",
      "25-07-20 02:18:58.284 pyfstat.utils.sft INFO    : Loading 1 SFTs from H1...\n",
      "25-07-20 02:18:58.294 pyfstat.utils.sft INFO    : Loading 1 SFTs from H1...\n",
      "25-07-20 02:18:58.303 pyfstat.utils.sft INFO    : Loading 1 SFTs from H1...\n"
     ]
    },
    {
     "name": "stderr",
     "output_type": "stream",
     "text": [
      " 78%|███████▊  | 3756/4800 [00:32<00:09, 115.40it/s]"
     ]
    },
    {
     "name": "stdout",
     "output_type": "stream",
     "text": [
      "25-07-20 02:18:58.311 pyfstat.utils.sft INFO    : Loading 1 SFTs from H1...\n",
      "25-07-20 02:18:58.320 pyfstat.utils.sft INFO    : Loading 1 SFTs from H1...\n",
      "25-07-20 02:18:58.329 pyfstat.utils.sft INFO    : Loading 1 SFTs from H1...\n",
      "25-07-20 02:18:58.337 pyfstat.utils.sft INFO    : Loading 1 SFTs from H1...\n",
      "25-07-20 02:18:58.346 pyfstat.utils.sft INFO    : Loading 1 SFTs from H1...\n",
      "25-07-20 02:18:58.355 pyfstat.utils.sft INFO    : Loading 1 SFTs from H1...\n",
      "25-07-20 02:18:58.363 pyfstat.utils.sft INFO    : Loading 1 SFTs from H1...\n",
      "25-07-20 02:18:58.371 pyfstat.utils.sft INFO    : Loading 1 SFTs from H1...\n",
      "25-07-20 02:18:58.380 pyfstat.utils.sft INFO    : Loading 1 SFTs from H1...\n",
      "25-07-20 02:18:58.389 pyfstat.utils.sft INFO    : Loading 1 SFTs from H1...\n",
      "25-07-20 02:18:58.398 pyfstat.utils.sft INFO    : Loading 1 SFTs from H1...\n",
      "25-07-20 02:18:58.408 pyfstat.utils.sft INFO    : Loading 1 SFTs from H1...\n"
     ]
    },
    {
     "name": "stderr",
     "output_type": "stream",
     "text": [
      " 78%|███████▊  | 3768/4800 [00:32<00:08, 115.07it/s]"
     ]
    },
    {
     "name": "stdout",
     "output_type": "stream",
     "text": [
      "25-07-20 02:18:58.417 pyfstat.utils.sft INFO    : Loading 1 SFTs from H1...\n",
      "25-07-20 02:18:58.425 pyfstat.utils.sft INFO    : Loading 1 SFTs from H1...\n",
      "25-07-20 02:18:58.434 pyfstat.utils.sft INFO    : Loading 1 SFTs from H1...\n",
      "25-07-20 02:18:58.442 pyfstat.utils.sft INFO    : Loading 1 SFTs from H1...\n",
      "25-07-20 02:18:58.451 pyfstat.utils.sft INFO    : Loading 1 SFTs from H1...\n",
      "25-07-20 02:18:58.459 pyfstat.utils.sft INFO    : Loading 1 SFTs from H1...\n",
      "25-07-20 02:18:58.468 pyfstat.utils.sft INFO    : Loading 1 SFTs from H1...\n",
      "25-07-20 02:18:58.476 pyfstat.utils.sft INFO    : Loading 1 SFTs from H1...\n",
      "25-07-20 02:18:58.485 pyfstat.utils.sft INFO    : Loading 1 SFTs from H1...\n",
      "25-07-20 02:18:58.493 pyfstat.utils.sft INFO    : Loading 1 SFTs from H1...\n",
      "25-07-20 02:18:58.502 pyfstat.utils.sft INFO    : Loading 1 SFTs from H1...\n",
      "25-07-20 02:18:58.510 pyfstat.utils.sft INFO    : Loading 1 SFTs from H1...\n"
     ]
    },
    {
     "name": "stderr",
     "output_type": "stream",
     "text": [
      " 79%|███████▉  | 3780/4800 [00:32<00:08, 115.66it/s]"
     ]
    },
    {
     "name": "stdout",
     "output_type": "stream",
     "text": [
      "25-07-20 02:18:58.519 pyfstat.utils.sft INFO    : Loading 1 SFTs from H1...\n",
      "25-07-20 02:18:58.527 pyfstat.utils.sft INFO    : Loading 1 SFTs from H1...\n",
      "25-07-20 02:18:58.535 pyfstat.utils.sft INFO    : Loading 1 SFTs from H1...\n",
      "25-07-20 02:18:58.544 pyfstat.utils.sft INFO    : Loading 1 SFTs from H1...\n",
      "25-07-20 02:18:58.551 pyfstat.utils.sft INFO    : Loading 1 SFTs from H1...\n",
      "25-07-20 02:18:58.560 pyfstat.utils.sft INFO    : Loading 1 SFTs from H1...\n",
      "25-07-20 02:18:58.568 pyfstat.utils.sft INFO    : Loading 1 SFTs from H1...\n",
      "25-07-20 02:18:58.576 pyfstat.utils.sft INFO    : Loading 1 SFTs from H1...\n",
      "25-07-20 02:18:58.585 pyfstat.utils.sft INFO    : Loading 1 SFTs from H1...\n",
      "25-07-20 02:18:58.594 pyfstat.utils.sft INFO    : Loading 1 SFTs from H1...\n",
      "25-07-20 02:18:58.602 pyfstat.utils.sft INFO    : Loading 1 SFTs from H1...\n",
      "25-07-20 02:18:58.610 pyfstat.utils.sft INFO    : Loading 1 SFTs from H1...\n",
      "25-07-20 02:18:58.618 pyfstat.utils.sft INFO    : Loading 1 SFTs from H1...\n"
     ]
    },
    {
     "name": "stderr",
     "output_type": "stream",
     "text": [
      " 79%|███████▉  | 3793/4800 [00:32<00:08, 116.92it/s]"
     ]
    },
    {
     "name": "stdout",
     "output_type": "stream",
     "text": [
      "25-07-20 02:18:58.628 pyfstat.utils.sft INFO    : Loading 1 SFTs from H1...\n",
      "25-07-20 02:18:58.636 pyfstat.utils.sft INFO    : Loading 1 SFTs from H1...\n",
      "25-07-20 02:18:58.644 pyfstat.utils.sft INFO    : Loading 1 SFTs from H1...\n",
      "25-07-20 02:18:58.653 pyfstat.utils.sft INFO    : Loading 1 SFTs from H1...\n",
      "25-07-20 02:18:58.661 pyfstat.utils.sft INFO    : Loading 1 SFTs from H1...\n",
      "25-07-20 02:18:58.670 pyfstat.utils.sft INFO    : Loading 1 SFTs from H1...\n",
      "25-07-20 02:18:58.678 pyfstat.utils.sft INFO    : Loading 1 SFTs from H1...\n",
      "25-07-20 02:18:58.686 pyfstat.utils.sft INFO    : Loading 1 SFTs from H1...\n",
      "25-07-20 02:18:58.695 pyfstat.utils.sft INFO    : Loading 1 SFTs from H1...\n",
      "25-07-20 02:18:58.704 pyfstat.utils.sft INFO    : Loading 1 SFTs from H1...\n",
      "25-07-20 02:18:58.712 pyfstat.utils.sft INFO    : Loading 1 SFTs from H1...\n",
      "25-07-20 02:18:58.721 pyfstat.utils.sft INFO    : Loading 1 SFTs from H1...\n"
     ]
    },
    {
     "name": "stderr",
     "output_type": "stream",
     "text": [
      " 79%|███████▉  | 3805/4800 [00:32<00:08, 117.09it/s]"
     ]
    },
    {
     "name": "stdout",
     "output_type": "stream",
     "text": [
      "25-07-20 02:18:58.730 pyfstat.utils.sft INFO    : Loading 1 SFTs from H1...\n",
      "25-07-20 02:18:58.739 pyfstat.utils.sft INFO    : Loading 1 SFTs from H1...\n",
      "25-07-20 02:18:58.748 pyfstat.utils.sft INFO    : Loading 1 SFTs from H1...\n",
      "25-07-20 02:18:58.756 pyfstat.utils.sft INFO    : Loading 1 SFTs from H1...\n",
      "25-07-20 02:18:58.764 pyfstat.utils.sft INFO    : Loading 1 SFTs from H1...\n",
      "25-07-20 02:18:58.772 pyfstat.utils.sft INFO    : Loading 1 SFTs from H1...\n",
      "25-07-20 02:18:58.780 pyfstat.utils.sft INFO    : Loading 1 SFTs from H1...\n",
      "25-07-20 02:18:58.788 pyfstat.utils.sft INFO    : Loading 1 SFTs from H1...\n",
      "25-07-20 02:18:58.796 pyfstat.utils.sft INFO    : Loading 1 SFTs from H1...\n",
      "25-07-20 02:18:58.804 pyfstat.utils.sft INFO    : Loading 1 SFTs from H1...\n",
      "25-07-20 02:18:58.812 pyfstat.utils.sft INFO    : Loading 1 SFTs from H1...\n",
      "25-07-20 02:18:58.820 pyfstat.utils.sft INFO    : Loading 1 SFTs from H1...\n",
      "25-07-20 02:18:58.828 pyfstat.utils.sft INFO    : Loading 1 SFTs from H1...\n"
     ]
    },
    {
     "name": "stderr",
     "output_type": "stream",
     "text": [
      " 80%|███████▉  | 3818/4800 [00:32<00:08, 118.39it/s]"
     ]
    },
    {
     "name": "stdout",
     "output_type": "stream",
     "text": [
      "25-07-20 02:18:58.837 pyfstat.utils.sft INFO    : Loading 1 SFTs from H1...\n",
      "25-07-20 02:18:58.847 pyfstat.utils.sft INFO    : Loading 1 SFTs from H1...\n",
      "25-07-20 02:18:58.855 pyfstat.utils.sft INFO    : Loading 1 SFTs from H1...\n",
      "25-07-20 02:18:58.864 pyfstat.utils.sft INFO    : Loading 1 SFTs from H1...\n",
      "25-07-20 02:18:58.872 pyfstat.utils.sft INFO    : Loading 1 SFTs from H1...\n",
      "25-07-20 02:18:58.881 pyfstat.utils.sft INFO    : Loading 1 SFTs from H1...\n",
      "25-07-20 02:18:58.889 pyfstat.utils.sft INFO    : Loading 1 SFTs from H1...\n",
      "25-07-20 02:18:58.897 pyfstat.utils.sft INFO    : Loading 1 SFTs from H1...\n",
      "25-07-20 02:18:58.905 pyfstat.utils.sft INFO    : Loading 1 SFTs from H1...\n",
      "25-07-20 02:18:58.913 pyfstat.utils.sft INFO    : Loading 1 SFTs from H1...\n",
      "25-07-20 02:18:58.921 pyfstat.utils.sft INFO    : Loading 1 SFTs from H1...\n",
      "25-07-20 02:18:58.929 pyfstat.utils.sft INFO    : Loading 1 SFTs from H1...\n"
     ]
    },
    {
     "name": "stderr",
     "output_type": "stream",
     "text": [
      " 80%|███████▉  | 3830/4800 [00:32<00:08, 118.37it/s]"
     ]
    },
    {
     "name": "stdout",
     "output_type": "stream",
     "text": [
      "25-07-20 02:18:58.938 pyfstat.utils.sft INFO    : Loading 1 SFTs from H1...\n",
      "25-07-20 02:18:58.947 pyfstat.utils.sft INFO    : Loading 1 SFTs from H1...\n",
      "25-07-20 02:18:58.956 pyfstat.utils.sft INFO    : Loading 1 SFTs from H1...\n",
      "25-07-20 02:18:58.964 pyfstat.utils.sft INFO    : Loading 1 SFTs from H1...\n",
      "25-07-20 02:18:58.973 pyfstat.utils.sft INFO    : Loading 1 SFTs from H1...\n",
      "25-07-20 02:18:58.981 pyfstat.utils.sft INFO    : Loading 1 SFTs from H1...\n",
      "25-07-20 02:18:58.990 pyfstat.utils.sft INFO    : Loading 1 SFTs from H1...\n",
      "25-07-20 02:18:58.998 pyfstat.utils.sft INFO    : Loading 1 SFTs from H1...\n",
      "25-07-20 02:18:59.006 pyfstat.utils.sft INFO    : Loading 1 SFTs from H1...\n",
      "25-07-20 02:18:59.015 pyfstat.utils.sft INFO    : Loading 1 SFTs from H1...\n",
      "25-07-20 02:18:59.023 pyfstat.utils.sft INFO    : Loading 1 SFTs from H1...\n",
      "25-07-20 02:18:59.031 pyfstat.utils.sft INFO    : Loading 1 SFTs from H1...\n"
     ]
    },
    {
     "name": "stderr",
     "output_type": "stream",
     "text": [
      " 80%|████████  | 3842/4800 [00:32<00:08, 118.28it/s]"
     ]
    },
    {
     "name": "stdout",
     "output_type": "stream",
     "text": [
      "25-07-20 02:18:59.040 pyfstat.utils.sft INFO    : Loading 1 SFTs from H1...\n",
      "25-07-20 02:18:59.048 pyfstat.utils.sft INFO    : Loading 1 SFTs from H1...\n",
      "25-07-20 02:18:59.056 pyfstat.utils.sft INFO    : Loading 1 SFTs from H1...\n",
      "25-07-20 02:18:59.064 pyfstat.utils.sft INFO    : Loading 1 SFTs from H1...\n",
      "25-07-20 02:18:59.073 pyfstat.utils.sft INFO    : Loading 1 SFTs from H1...\n",
      "25-07-20 02:18:59.082 pyfstat.utils.sft INFO    : Loading 1 SFTs from H1...\n",
      "25-07-20 02:18:59.089 pyfstat.utils.sft INFO    : Loading 1 SFTs from H1...\n",
      "25-07-20 02:18:59.097 pyfstat.utils.sft INFO    : Loading 1 SFTs from H1...\n",
      "25-07-20 02:18:59.105 pyfstat.utils.sft INFO    : Loading 1 SFTs from H1...\n",
      "25-07-20 02:18:59.113 pyfstat.utils.sft INFO    : Loading 1 SFTs from H1...\n",
      "25-07-20 02:18:59.121 pyfstat.utils.sft INFO    : Loading 1 SFTs from H1...\n",
      "25-07-20 02:18:59.129 pyfstat.utils.sft INFO    : Loading 1 SFTs from H1...\n",
      "25-07-20 02:18:59.137 pyfstat.utils.sft INFO    : Loading 1 SFTs from H1...\n"
     ]
    },
    {
     "name": "stderr",
     "output_type": "stream",
     "text": [
      " 80%|████████  | 3855/4800 [00:32<00:07, 119.90it/s]"
     ]
    },
    {
     "name": "stdout",
     "output_type": "stream",
     "text": [
      "25-07-20 02:18:59.145 pyfstat.utils.sft INFO    : Loading 1 SFTs from H1...\n",
      "25-07-20 02:18:59.153 pyfstat.utils.sft INFO    : Loading 1 SFTs from H1...\n",
      "25-07-20 02:18:59.162 pyfstat.utils.sft INFO    : Loading 1 SFTs from H1...\n",
      "25-07-20 02:18:59.170 pyfstat.utils.sft INFO    : Loading 1 SFTs from H1...\n",
      "25-07-20 02:18:59.179 pyfstat.utils.sft INFO    : Loading 1 SFTs from H1...\n",
      "25-07-20 02:18:59.187 pyfstat.utils.sft INFO    : Loading 1 SFTs from H1...\n",
      "25-07-20 02:18:59.195 pyfstat.utils.sft INFO    : Loading 1 SFTs from H1...\n",
      "25-07-20 02:18:59.203 pyfstat.utils.sft INFO    : Loading 1 SFTs from H1...\n",
      "25-07-20 02:18:59.211 pyfstat.utils.sft INFO    : Loading 1 SFTs from H1...\n",
      "25-07-20 02:18:59.220 pyfstat.utils.sft INFO    : Loading 1 SFTs from H1...\n",
      "25-07-20 02:18:59.229 pyfstat.utils.sft INFO    : Loading 1 SFTs from H1...\n",
      "25-07-20 02:18:59.237 pyfstat.utils.sft INFO    : Loading 1 SFTs from H1...\n"
     ]
    },
    {
     "name": "stderr",
     "output_type": "stream",
     "text": [
      " 81%|████████  | 3867/4800 [00:32<00:07, 119.64it/s]"
     ]
    },
    {
     "name": "stdout",
     "output_type": "stream",
     "text": [
      "25-07-20 02:18:59.246 pyfstat.utils.sft INFO    : Loading 1 SFTs from H1...\n",
      "25-07-20 02:18:59.255 pyfstat.utils.sft INFO    : Loading 1 SFTs from H1...\n",
      "25-07-20 02:18:59.263 pyfstat.utils.sft INFO    : Loading 1 SFTs from H1...\n",
      "25-07-20 02:18:59.271 pyfstat.utils.sft INFO    : Loading 1 SFTs from H1...\n",
      "25-07-20 02:18:59.279 pyfstat.utils.sft INFO    : Loading 1 SFTs from H1...\n",
      "25-07-20 02:18:59.288 pyfstat.utils.sft INFO    : Loading 1 SFTs from H1...\n",
      "25-07-20 02:18:59.297 pyfstat.utils.sft INFO    : Loading 1 SFTs from H1...\n",
      "25-07-20 02:18:59.305 pyfstat.utils.sft INFO    : Loading 1 SFTs from H1...\n",
      "25-07-20 02:18:59.314 pyfstat.utils.sft INFO    : Loading 1 SFTs from H1...\n",
      "25-07-20 02:18:59.323 pyfstat.utils.sft INFO    : Loading 1 SFTs from H1...\n",
      "25-07-20 02:18:59.331 pyfstat.utils.sft INFO    : Loading 1 SFTs from H1...\n",
      "25-07-20 02:18:59.338 pyfstat.utils.sft INFO    : Loading 1 SFTs from H1...\n"
     ]
    },
    {
     "name": "stderr",
     "output_type": "stream",
     "text": [
      " 81%|████████  | 3879/4800 [00:33<00:07, 119.32it/s]"
     ]
    },
    {
     "name": "stdout",
     "output_type": "stream",
     "text": [
      "25-07-20 02:18:59.347 pyfstat.utils.sft INFO    : Loading 1 SFTs from H1...\n",
      "25-07-20 02:18:59.355 pyfstat.utils.sft INFO    : Loading 1 SFTs from H1...\n",
      "25-07-20 02:18:59.363 pyfstat.utils.sft INFO    : Loading 1 SFTs from H1...\n",
      "25-07-20 02:18:59.370 pyfstat.utils.sft INFO    : Loading 1 SFTs from H1...\n",
      "25-07-20 02:18:59.378 pyfstat.utils.sft INFO    : Loading 1 SFTs from H1...\n",
      "25-07-20 02:18:59.387 pyfstat.utils.sft INFO    : Loading 1 SFTs from H1...\n",
      "25-07-20 02:18:59.396 pyfstat.utils.sft INFO    : Loading 1 SFTs from H1...\n",
      "25-07-20 02:18:59.405 pyfstat.utils.sft INFO    : Loading 1 SFTs from H1...\n",
      "25-07-20 02:18:59.413 pyfstat.utils.sft INFO    : Loading 1 SFTs from H1...\n",
      "25-07-20 02:18:59.422 pyfstat.utils.sft INFO    : Loading 1 SFTs from H1...\n",
      "25-07-20 02:18:59.430 pyfstat.utils.sft INFO    : Loading 1 SFTs from H1...\n",
      "25-07-20 02:18:59.438 pyfstat.utils.sft INFO    : Loading 1 SFTs from H1...\n"
     ]
    },
    {
     "name": "stderr",
     "output_type": "stream",
     "text": [
      " 81%|████████  | 3891/4800 [00:33<00:07, 119.40it/s]"
     ]
    },
    {
     "name": "stdout",
     "output_type": "stream",
     "text": [
      "25-07-20 02:18:59.447 pyfstat.utils.sft INFO    : Loading 1 SFTs from H1...\n",
      "25-07-20 02:18:59.456 pyfstat.utils.sft INFO    : Loading 1 SFTs from H1...\n",
      "25-07-20 02:18:59.465 pyfstat.utils.sft INFO    : Loading 1 SFTs from H1...\n",
      "25-07-20 02:18:59.474 pyfstat.utils.sft INFO    : Loading 1 SFTs from H1...\n",
      "25-07-20 02:18:59.482 pyfstat.utils.sft INFO    : Loading 1 SFTs from H1...\n",
      "25-07-20 02:18:59.491 pyfstat.utils.sft INFO    : Loading 1 SFTs from H1...\n",
      "25-07-20 02:18:59.501 pyfstat.utils.sft INFO    : Loading 1 SFTs from H1...\n",
      "25-07-20 02:18:59.510 pyfstat.utils.sft INFO    : Loading 1 SFTs from H1...\n",
      "25-07-20 02:18:59.519 pyfstat.utils.sft INFO    : Loading 1 SFTs from H1...\n",
      "25-07-20 02:18:59.527 pyfstat.utils.sft INFO    : Loading 1 SFTs from H1...\n",
      "25-07-20 02:18:59.536 pyfstat.utils.sft INFO    : Loading 1 SFTs from H1...\n",
      "25-07-20 02:18:59.545 pyfstat.utils.sft INFO    : Loading 1 SFTs from H1...\n"
     ]
    },
    {
     "name": "stderr",
     "output_type": "stream",
     "text": [
      " 81%|████████▏ | 3903/4800 [00:33<00:07, 117.25it/s]"
     ]
    },
    {
     "name": "stdout",
     "output_type": "stream",
     "text": [
      "25-07-20 02:18:59.554 pyfstat.utils.sft INFO    : Loading 1 SFTs from H1...\n",
      "25-07-20 02:18:59.563 pyfstat.utils.sft INFO    : Loading 1 SFTs from H1...\n",
      "25-07-20 02:18:59.572 pyfstat.utils.sft INFO    : Loading 1 SFTs from H1...\n",
      "25-07-20 02:18:59.581 pyfstat.utils.sft INFO    : Loading 1 SFTs from H1...\n",
      "25-07-20 02:18:59.589 pyfstat.utils.sft INFO    : Loading 1 SFTs from H1...\n",
      "25-07-20 02:18:59.597 pyfstat.utils.sft INFO    : Loading 1 SFTs from H1...\n",
      "25-07-20 02:18:59.606 pyfstat.utils.sft INFO    : Loading 1 SFTs from H1...\n",
      "25-07-20 02:18:59.614 pyfstat.utils.sft INFO    : Loading 1 SFTs from H1...\n",
      "25-07-20 02:18:59.623 pyfstat.utils.sft INFO    : Loading 1 SFTs from H1...\n",
      "25-07-20 02:18:59.631 pyfstat.utils.sft INFO    : Loading 1 SFTs from H1...\n",
      "25-07-20 02:18:59.640 pyfstat.utils.sft INFO    : Loading 1 SFTs from H1...\n",
      "25-07-20 02:18:59.649 pyfstat.utils.sft INFO    : Loading 1 SFTs from H1...\n"
     ]
    },
    {
     "name": "stderr",
     "output_type": "stream",
     "text": [
      " 82%|████████▏ | 3915/4800 [00:33<00:07, 116.63it/s]"
     ]
    },
    {
     "name": "stdout",
     "output_type": "stream",
     "text": [
      "25-07-20 02:18:59.658 pyfstat.utils.sft INFO    : Loading 1 SFTs from H1...\n",
      "25-07-20 02:18:59.667 pyfstat.utils.sft INFO    : Loading 1 SFTs from H1...\n",
      "25-07-20 02:18:59.675 pyfstat.utils.sft INFO    : Loading 1 SFTs from H1...\n",
      "25-07-20 02:18:59.684 pyfstat.utils.sft INFO    : Loading 1 SFTs from H1...\n",
      "25-07-20 02:18:59.692 pyfstat.utils.sft INFO    : Loading 1 SFTs from H1...\n",
      "25-07-20 02:18:59.700 pyfstat.utils.sft INFO    : Loading 1 SFTs from H1...\n",
      "25-07-20 02:18:59.708 pyfstat.utils.sft INFO    : Loading 1 SFTs from H1...\n",
      "25-07-20 02:18:59.716 pyfstat.utils.sft INFO    : Loading 1 SFTs from H1...\n",
      "25-07-20 02:18:59.725 pyfstat.utils.sft INFO    : Loading 1 SFTs from H1...\n",
      "25-07-20 02:18:59.732 pyfstat.utils.sft INFO    : Loading 1 SFTs from H1...\n",
      "25-07-20 02:18:59.741 pyfstat.utils.sft INFO    : Loading 1 SFTs from H1...\n",
      "25-07-20 02:18:59.749 pyfstat.utils.sft INFO    : Loading 1 SFTs from H1...\n",
      "25-07-20 02:18:59.758 pyfstat.utils.sft INFO    : Loading 1 SFTs from H1...\n"
     ]
    },
    {
     "name": "stderr",
     "output_type": "stream",
     "text": [
      " 82%|████████▏ | 3928/4800 [00:33<00:07, 117.73it/s]"
     ]
    },
    {
     "name": "stdout",
     "output_type": "stream",
     "text": [
      "25-07-20 02:18:59.767 pyfstat.utils.sft INFO    : Loading 1 SFTs from H1...\n",
      "25-07-20 02:18:59.775 pyfstat.utils.sft INFO    : Loading 1 SFTs from H1...\n",
      "25-07-20 02:18:59.783 pyfstat.utils.sft INFO    : Loading 1 SFTs from H1...\n",
      "25-07-20 02:18:59.792 pyfstat.utils.sft INFO    : Loading 1 SFTs from H1...\n",
      "25-07-20 02:18:59.800 pyfstat.utils.sft INFO    : Loading 1 SFTs from H1...\n",
      "25-07-20 02:18:59.809 pyfstat.utils.sft INFO    : Loading 1 SFTs from H1...\n",
      "25-07-20 02:18:59.817 pyfstat.utils.sft INFO    : Loading 1 SFTs from H1...\n",
      "25-07-20 02:18:59.826 pyfstat.utils.sft INFO    : Loading 1 SFTs from H1...\n",
      "25-07-20 02:18:59.834 pyfstat.utils.sft INFO    : Loading 1 SFTs from H1...\n",
      "25-07-20 02:18:59.843 pyfstat.utils.sft INFO    : Loading 1 SFTs from H1...\n",
      "25-07-20 02:18:59.851 pyfstat.utils.sft INFO    : Loading 1 SFTs from H1...\n",
      "25-07-20 02:18:59.860 pyfstat.utils.sft INFO    : Loading 1 SFTs from H1...\n"
     ]
    },
    {
     "name": "stderr",
     "output_type": "stream",
     "text": [
      " 82%|████████▏ | 3940/4800 [00:33<00:07, 117.64it/s]"
     ]
    },
    {
     "name": "stdout",
     "output_type": "stream",
     "text": [
      "25-07-20 02:18:59.869 pyfstat.utils.sft INFO    : Loading 1 SFTs from H1...\n",
      "25-07-20 02:18:59.877 pyfstat.utils.sft INFO    : Loading 1 SFTs from H1...\n",
      "25-07-20 02:18:59.886 pyfstat.utils.sft INFO    : Loading 1 SFTs from H1...\n",
      "25-07-20 02:18:59.894 pyfstat.utils.sft INFO    : Loading 1 SFTs from H1...\n",
      "25-07-20 02:18:59.902 pyfstat.utils.sft INFO    : Loading 1 SFTs from H1...\n",
      "25-07-20 02:18:59.910 pyfstat.utils.sft INFO    : Loading 1 SFTs from H1...\n",
      "25-07-20 02:18:59.918 pyfstat.utils.sft INFO    : Loading 1 SFTs from H1...\n",
      "25-07-20 02:18:59.927 pyfstat.utils.sft INFO    : Loading 1 SFTs from H1...\n",
      "25-07-20 02:18:59.936 pyfstat.utils.sft INFO    : Loading 1 SFTs from H1...\n",
      "25-07-20 02:18:59.945 pyfstat.utils.sft INFO    : Loading 1 SFTs from H1...\n",
      "25-07-20 02:18:59.953 pyfstat.utils.sft INFO    : Loading 1 SFTs from H1...\n",
      "25-07-20 02:18:59.962 pyfstat.utils.sft INFO    : Loading 1 SFTs from H1...\n"
     ]
    },
    {
     "name": "stderr",
     "output_type": "stream",
     "text": [
      " 82%|████████▏ | 3952/4800 [00:33<00:07, 117.57it/s]"
     ]
    },
    {
     "name": "stdout",
     "output_type": "stream",
     "text": [
      "25-07-20 02:18:59.971 pyfstat.utils.sft INFO    : Loading 1 SFTs from H1...\n",
      "25-07-20 02:18:59.979 pyfstat.utils.sft INFO    : Loading 1 SFTs from H1...\n",
      "25-07-20 02:18:59.987 pyfstat.utils.sft INFO    : Loading 1 SFTs from H1...\n",
      "25-07-20 02:18:59.996 pyfstat.utils.sft INFO    : Loading 1 SFTs from H1...\n",
      "25-07-20 02:19:00.004 pyfstat.utils.sft INFO    : Loading 1 SFTs from H1...\n",
      "25-07-20 02:19:00.012 pyfstat.utils.sft INFO    : Loading 1 SFTs from H1...\n",
      "25-07-20 02:19:00.020 pyfstat.utils.sft INFO    : Loading 1 SFTs from H1...\n",
      "25-07-20 02:19:00.029 pyfstat.utils.sft INFO    : Loading 1 SFTs from H1...\n",
      "25-07-20 02:19:00.037 pyfstat.utils.sft INFO    : Loading 1 SFTs from H1...\n",
      "25-07-20 02:19:00.045 pyfstat.utils.sft INFO    : Loading 1 SFTs from H1...\n",
      "25-07-20 02:19:00.054 pyfstat.utils.sft INFO    : Loading 1 SFTs from H1...\n",
      "25-07-20 02:19:00.062 pyfstat.utils.sft INFO    : Loading 1 SFTs from H1...\n"
     ]
    },
    {
     "name": "stderr",
     "output_type": "stream",
     "text": [
      " 83%|████████▎ | 3964/4800 [00:33<00:07, 118.27it/s]"
     ]
    },
    {
     "name": "stdout",
     "output_type": "stream",
     "text": [
      "25-07-20 02:19:00.071 pyfstat.utils.sft INFO    : Loading 1 SFTs from H1...\n",
      "25-07-20 02:19:00.079 pyfstat.utils.sft INFO    : Loading 1 SFTs from H1...\n",
      "25-07-20 02:19:00.087 pyfstat.utils.sft INFO    : Loading 1 SFTs from H1...\n",
      "25-07-20 02:19:00.095 pyfstat.utils.sft INFO    : Loading 1 SFTs from H1...\n",
      "25-07-20 02:19:00.104 pyfstat.utils.sft INFO    : Loading 1 SFTs from H1...\n",
      "25-07-20 02:19:00.112 pyfstat.utils.sft INFO    : Loading 1 SFTs from H1...\n",
      "25-07-20 02:19:00.120 pyfstat.utils.sft INFO    : Loading 1 SFTs from H1...\n",
      "25-07-20 02:19:00.128 pyfstat.utils.sft INFO    : Loading 1 SFTs from H1...\n",
      "25-07-20 02:19:00.137 pyfstat.utils.sft INFO    : Loading 1 SFTs from H1...\n",
      "25-07-20 02:19:00.145 pyfstat.utils.sft INFO    : Loading 1 SFTs from H1...\n",
      "25-07-20 02:19:00.153 pyfstat.utils.sft INFO    : Loading 1 SFTs from H1...\n",
      "25-07-20 02:19:00.162 pyfstat.utils.sft INFO    : Loading 1 SFTs from H1...\n"
     ]
    },
    {
     "name": "stderr",
     "output_type": "stream",
     "text": [
      " 83%|████████▎ | 3976/4800 [00:33<00:06, 118.69it/s]"
     ]
    },
    {
     "name": "stdout",
     "output_type": "stream",
     "text": [
      "25-07-20 02:19:00.171 pyfstat.utils.sft INFO    : Loading 1 SFTs from H1...\n",
      "25-07-20 02:19:00.180 pyfstat.utils.sft INFO    : Loading 1 SFTs from H1...\n",
      "25-07-20 02:19:00.188 pyfstat.utils.sft INFO    : Loading 1 SFTs from H1...\n",
      "25-07-20 02:19:00.196 pyfstat.utils.sft INFO    : Loading 1 SFTs from H1...\n",
      "25-07-20 02:19:00.204 pyfstat.utils.sft INFO    : Loading 1 SFTs from H1...\n",
      "25-07-20 02:19:00.213 pyfstat.utils.sft INFO    : Loading 1 SFTs from H1...\n",
      "25-07-20 02:19:00.221 pyfstat.utils.sft INFO    : Loading 1 SFTs from H1...\n",
      "25-07-20 02:19:00.229 pyfstat.utils.sft INFO    : Loading 1 SFTs from H1...\n",
      "25-07-20 02:19:00.237 pyfstat.utils.sft INFO    : Loading 1 SFTs from H1...\n",
      "25-07-20 02:19:00.245 pyfstat.utils.sft INFO    : Loading 1 SFTs from H1...\n",
      "25-07-20 02:19:00.254 pyfstat.utils.sft INFO    : Loading 1 SFTs from H1...\n",
      "25-07-20 02:19:00.263 pyfstat.utils.sft INFO    : Loading 1 SFTs from H1...\n"
     ]
    },
    {
     "name": "stderr",
     "output_type": "stream",
     "text": [
      " 83%|████████▎ | 3988/4800 [00:33<00:06, 118.78it/s]"
     ]
    },
    {
     "name": "stdout",
     "output_type": "stream",
     "text": [
      "25-07-20 02:19:00.272 pyfstat.utils.sft INFO    : Loading 1 SFTs from H1...\n",
      "25-07-20 02:19:00.281 pyfstat.utils.sft INFO    : Loading 1 SFTs from H1...\n",
      "25-07-20 02:19:00.289 pyfstat.utils.sft INFO    : Loading 1 SFTs from H1...\n",
      "25-07-20 02:19:00.297 pyfstat.utils.sft INFO    : Loading 1 SFTs from H1...\n",
      "25-07-20 02:19:00.305 pyfstat.utils.sft INFO    : Loading 1 SFTs from H1...\n",
      "25-07-20 02:19:00.313 pyfstat.utils.sft INFO    : Loading 1 SFTs from H1...\n",
      "25-07-20 02:19:00.321 pyfstat.utils.sft INFO    : Loading 1 SFTs from H1...\n",
      "25-07-20 02:19:00.329 pyfstat.utils.sft INFO    : Loading 1 SFTs from H1...\n",
      "25-07-20 02:19:00.337 pyfstat.utils.sft INFO    : Loading 1 SFTs from H1...\n",
      "25-07-20 02:19:00.346 pyfstat.utils.sft INFO    : Loading 1 SFTs from H1...\n",
      "25-07-20 02:19:00.354 pyfstat.utils.sft INFO    : Loading 1 SFTs from H1...\n",
      "25-07-20 02:19:00.363 pyfstat.utils.sft INFO    : Loading 1 SFTs from H1...\n",
      "25-07-20 02:19:00.371 pyfstat.utils.sft INFO    : Loading 1 SFTs from H1...\n"
     ]
    },
    {
     "name": "stderr",
     "output_type": "stream",
     "text": [
      " 83%|████████▎ | 4001/4800 [00:34<00:06, 119.10it/s]"
     ]
    },
    {
     "name": "stdout",
     "output_type": "stream",
     "text": [
      "25-07-20 02:19:00.380 pyfstat.utils.sft INFO    : Loading 1 SFTs from H1...\n",
      "25-07-20 02:19:00.388 pyfstat.utils.sft INFO    : Loading 1 SFTs from H1...\n",
      "25-07-20 02:19:00.396 pyfstat.utils.sft INFO    : Loading 1 SFTs from H1...\n",
      "25-07-20 02:19:00.404 pyfstat.utils.sft INFO    : Loading 1 SFTs from H1...\n",
      "25-07-20 02:19:00.412 pyfstat.utils.sft INFO    : Loading 1 SFTs from H1...\n",
      "25-07-20 02:19:00.420 pyfstat.utils.sft INFO    : Loading 1 SFTs from H1...\n",
      "25-07-20 02:19:00.428 pyfstat.utils.sft INFO    : Loading 1 SFTs from H1...\n",
      "25-07-20 02:19:00.437 pyfstat.utils.sft INFO    : Loading 1 SFTs from H1...\n",
      "25-07-20 02:19:00.445 pyfstat.utils.sft INFO    : Loading 1 SFTs from H1...\n",
      "25-07-20 02:19:00.454 pyfstat.utils.sft INFO    : Loading 1 SFTs from H1...\n",
      "25-07-20 02:19:00.462 pyfstat.utils.sft INFO    : Loading 1 SFTs from H1...\n",
      "25-07-20 02:19:00.471 pyfstat.utils.sft INFO    : Loading 1 SFTs from H1...\n",
      "25-07-20 02:19:00.479 pyfstat.utils.sft INFO    : Loading 1 SFTs from H1...\n"
     ]
    },
    {
     "name": "stderr",
     "output_type": "stream",
     "text": [
      " 84%|████████▎ | 4014/4800 [00:34<00:06, 119.68it/s]"
     ]
    },
    {
     "name": "stdout",
     "output_type": "stream",
     "text": [
      "25-07-20 02:19:00.488 pyfstat.utils.sft INFO    : Loading 1 SFTs from H1...\n",
      "25-07-20 02:19:00.496 pyfstat.utils.sft INFO    : Loading 1 SFTs from H1...\n",
      "25-07-20 02:19:00.505 pyfstat.utils.sft INFO    : Loading 1 SFTs from H1...\n",
      "25-07-20 02:19:00.514 pyfstat.utils.sft INFO    : Loading 1 SFTs from H1...\n",
      "25-07-20 02:19:00.522 pyfstat.utils.sft INFO    : Loading 1 SFTs from H1...\n",
      "25-07-20 02:19:00.534 pyfstat.utils.sft INFO    : Loading 1 SFTs from H1...\n",
      "25-07-20 02:19:00.544 pyfstat.utils.sft INFO    : Loading 1 SFTs from H1...\n",
      "25-07-20 02:19:00.553 pyfstat.utils.sft INFO    : Loading 1 SFTs from H1...\n",
      "25-07-20 02:19:00.561 pyfstat.utils.sft INFO    : Loading 1 SFTs from H1...\n",
      "25-07-20 02:19:00.570 pyfstat.utils.sft INFO    : Loading 1 SFTs from H1...\n",
      "25-07-20 02:19:00.578 pyfstat.utils.sft INFO    : Loading 1 SFTs from H1...\n",
      "25-07-20 02:19:00.586 pyfstat.utils.sft INFO    : Loading 1 SFTs from H1...\n"
     ]
    },
    {
     "name": "stderr",
     "output_type": "stream",
     "text": [
      " 84%|████████▍ | 4026/4800 [00:34<00:06, 117.40it/s]"
     ]
    },
    {
     "name": "stdout",
     "output_type": "stream",
     "text": [
      "25-07-20 02:19:00.595 pyfstat.utils.sft INFO    : Loading 1 SFTs from H1...\n",
      "25-07-20 02:19:00.604 pyfstat.utils.sft INFO    : Loading 1 SFTs from H1...\n",
      "25-07-20 02:19:00.613 pyfstat.utils.sft INFO    : Loading 1 SFTs from H1...\n",
      "25-07-20 02:19:00.621 pyfstat.utils.sft INFO    : Loading 1 SFTs from H1...\n",
      "25-07-20 02:19:00.629 pyfstat.utils.sft INFO    : Loading 1 SFTs from H1...\n",
      "25-07-20 02:19:00.637 pyfstat.utils.sft INFO    : Loading 1 SFTs from H1...\n",
      "25-07-20 02:19:00.646 pyfstat.utils.sft INFO    : Loading 1 SFTs from H1...\n",
      "25-07-20 02:19:00.655 pyfstat.utils.sft INFO    : Loading 1 SFTs from H1...\n",
      "25-07-20 02:19:00.664 pyfstat.utils.sft INFO    : Loading 1 SFTs from H1...\n",
      "25-07-20 02:19:00.673 pyfstat.utils.sft INFO    : Loading 1 SFTs from H1...\n",
      "25-07-20 02:19:00.681 pyfstat.utils.sft INFO    : Loading 1 SFTs from H1...\n",
      "25-07-20 02:19:00.690 pyfstat.utils.sft INFO    : Loading 1 SFTs from H1...\n"
     ]
    },
    {
     "name": "stderr",
     "output_type": "stream",
     "text": [
      " 84%|████████▍ | 4038/4800 [00:34<00:06, 116.67it/s]"
     ]
    },
    {
     "name": "stdout",
     "output_type": "stream",
     "text": [
      "25-07-20 02:19:00.700 pyfstat.utils.sft INFO    : Loading 1 SFTs from H1...\n",
      "25-07-20 02:19:00.708 pyfstat.utils.sft INFO    : Loading 1 SFTs from H1...\n",
      "25-07-20 02:19:00.717 pyfstat.utils.sft INFO    : Loading 1 SFTs from H1...\n",
      "25-07-20 02:19:00.725 pyfstat.utils.sft INFO    : Loading 1 SFTs from H1...\n",
      "25-07-20 02:19:00.734 pyfstat.utils.sft INFO    : Loading 1 SFTs from H1...\n",
      "25-07-20 02:19:00.742 pyfstat.utils.sft INFO    : Loading 1 SFTs from H1...\n",
      "25-07-20 02:19:00.750 pyfstat.utils.sft INFO    : Loading 1 SFTs from H1...\n",
      "25-07-20 02:19:00.759 pyfstat.utils.sft INFO    : Loading 1 SFTs from H1...\n",
      "25-07-20 02:19:00.768 pyfstat.utils.sft INFO    : Loading 1 SFTs from H1...\n",
      "25-07-20 02:19:00.777 pyfstat.utils.sft INFO    : Loading 1 SFTs from H1...\n",
      "25-07-20 02:19:00.786 pyfstat.utils.sft INFO    : Loading 1 SFTs from H1...\n",
      "25-07-20 02:19:00.794 pyfstat.utils.sft INFO    : Loading 1 SFTs from H1...\n"
     ]
    },
    {
     "name": "stderr",
     "output_type": "stream",
     "text": [
      " 84%|████████▍ | 4050/4800 [00:34<00:06, 116.32it/s]"
     ]
    },
    {
     "name": "stdout",
     "output_type": "stream",
     "text": [
      "25-07-20 02:19:00.803 pyfstat.utils.sft INFO    : Loading 1 SFTs from H1...\n",
      "25-07-20 02:19:00.812 pyfstat.utils.sft INFO    : Loading 1 SFTs from H1...\n",
      "25-07-20 02:19:00.821 pyfstat.utils.sft INFO    : Loading 1 SFTs from H1...\n",
      "25-07-20 02:19:00.830 pyfstat.utils.sft INFO    : Loading 1 SFTs from H1...\n",
      "25-07-20 02:19:00.840 pyfstat.utils.sft INFO    : Loading 1 SFTs from H1...\n",
      "25-07-20 02:19:00.848 pyfstat.utils.sft INFO    : Loading 1 SFTs from H1...\n",
      "25-07-20 02:19:00.857 pyfstat.utils.sft INFO    : Loading 1 SFTs from H1...\n",
      "25-07-20 02:19:00.867 pyfstat.utils.sft INFO    : Loading 1 SFTs from H1...\n",
      "25-07-20 02:19:00.875 pyfstat.utils.sft INFO    : Loading 1 SFTs from H1...\n",
      "25-07-20 02:19:00.885 pyfstat.utils.sft INFO    : Loading 1 SFTs from H1...\n",
      "25-07-20 02:19:00.893 pyfstat.utils.sft INFO    : Loading 1 SFTs from H1...\n",
      "25-07-20 02:19:00.902 pyfstat.utils.sft INFO    : Loading 1 SFTs from H1...\n"
     ]
    },
    {
     "name": "stderr",
     "output_type": "stream",
     "text": [
      " 85%|████████▍ | 4062/4800 [00:34<00:06, 114.70it/s]"
     ]
    },
    {
     "name": "stdout",
     "output_type": "stream",
     "text": [
      "25-07-20 02:19:00.912 pyfstat.utils.sft INFO    : Loading 1 SFTs from H1...\n",
      "25-07-20 02:19:00.921 pyfstat.utils.sft INFO    : Loading 1 SFTs from H1...\n",
      "25-07-20 02:19:00.929 pyfstat.utils.sft INFO    : Loading 1 SFTs from H1...\n",
      "25-07-20 02:19:00.938 pyfstat.utils.sft INFO    : Loading 1 SFTs from H1...\n",
      "25-07-20 02:19:00.947 pyfstat.utils.sft INFO    : Loading 1 SFTs from H1...\n",
      "25-07-20 02:19:00.955 pyfstat.utils.sft INFO    : Loading 1 SFTs from H1...\n",
      "25-07-20 02:19:00.963 pyfstat.utils.sft INFO    : Loading 1 SFTs from H1...\n",
      "25-07-20 02:19:00.972 pyfstat.utils.sft INFO    : Loading 1 SFTs from H1...\n",
      "25-07-20 02:19:00.981 pyfstat.utils.sft INFO    : Loading 1 SFTs from H1...\n",
      "25-07-20 02:19:00.989 pyfstat.utils.sft INFO    : Loading 1 SFTs from H1...\n",
      "25-07-20 02:19:00.998 pyfstat.utils.sft INFO    : Loading 1 SFTs from H1...\n",
      "25-07-20 02:19:01.007 pyfstat.utils.sft INFO    : Loading 1 SFTs from H1...\n"
     ]
    },
    {
     "name": "stderr",
     "output_type": "stream",
     "text": [
      " 85%|████████▍ | 4074/4800 [00:34<00:06, 114.68it/s]"
     ]
    },
    {
     "name": "stdout",
     "output_type": "stream",
     "text": [
      "25-07-20 02:19:01.016 pyfstat.utils.sft INFO    : Loading 1 SFTs from H1...\n",
      "25-07-20 02:19:01.025 pyfstat.utils.sft INFO    : Loading 1 SFTs from H1...\n",
      "25-07-20 02:19:01.034 pyfstat.utils.sft INFO    : Loading 1 SFTs from H1...\n",
      "25-07-20 02:19:01.043 pyfstat.utils.sft INFO    : Loading 1 SFTs from H1...\n",
      "25-07-20 02:19:01.052 pyfstat.utils.sft INFO    : Loading 1 SFTs from H1...\n",
      "25-07-20 02:19:01.061 pyfstat.utils.sft INFO    : Loading 1 SFTs from H1...\n",
      "25-07-20 02:19:01.070 pyfstat.utils.sft INFO    : Loading 1 SFTs from H1...\n",
      "25-07-20 02:19:01.078 pyfstat.utils.sft INFO    : Loading 1 SFTs from H1...\n",
      "25-07-20 02:19:01.087 pyfstat.utils.sft INFO    : Loading 1 SFTs from H1...\n",
      "25-07-20 02:19:01.096 pyfstat.utils.sft INFO    : Loading 1 SFTs from H1...\n",
      "25-07-20 02:19:01.107 pyfstat.utils.sft INFO    : Loading 1 SFTs from H1...\n",
      "25-07-20 02:19:01.116 pyfstat.utils.sft INFO    : Loading 1 SFTs from H1...\n"
     ]
    },
    {
     "name": "stderr",
     "output_type": "stream",
     "text": [
      " 85%|████████▌ | 4086/4800 [00:34<00:06, 113.28it/s]"
     ]
    },
    {
     "name": "stdout",
     "output_type": "stream",
     "text": [
      "25-07-20 02:19:01.125 pyfstat.utils.sft INFO    : Loading 1 SFTs from H1...\n",
      "25-07-20 02:19:01.134 pyfstat.utils.sft INFO    : Loading 1 SFTs from H1...\n",
      "25-07-20 02:19:01.142 pyfstat.utils.sft INFO    : Loading 1 SFTs from H1...\n",
      "25-07-20 02:19:01.151 pyfstat.utils.sft INFO    : Loading 1 SFTs from H1...\n",
      "25-07-20 02:19:01.160 pyfstat.utils.sft INFO    : Loading 1 SFTs from H1...\n",
      "25-07-20 02:19:01.168 pyfstat.utils.sft INFO    : Loading 1 SFTs from H1...\n",
      "25-07-20 02:19:01.177 pyfstat.utils.sft INFO    : Loading 1 SFTs from H1...\n",
      "25-07-20 02:19:01.186 pyfstat.utils.sft INFO    : Loading 1 SFTs from H1...\n",
      "25-07-20 02:19:01.195 pyfstat.utils.sft INFO    : Loading 1 SFTs from H1...\n",
      "25-07-20 02:19:01.203 pyfstat.utils.sft INFO    : Loading 1 SFTs from H1...\n",
      "25-07-20 02:19:01.212 pyfstat.utils.sft INFO    : Loading 1 SFTs from H1...\n",
      "25-07-20 02:19:01.222 pyfstat.utils.sft INFO    : Loading 1 SFTs from H1...\n"
     ]
    },
    {
     "name": "stderr",
     "output_type": "stream",
     "text": [
      " 85%|████████▌ | 4098/4800 [00:34<00:06, 113.26it/s]"
     ]
    },
    {
     "name": "stdout",
     "output_type": "stream",
     "text": [
      "25-07-20 02:19:01.231 pyfstat.utils.sft INFO    : Loading 1 SFTs from H1...\n",
      "25-07-20 02:19:01.239 pyfstat.utils.sft INFO    : Loading 1 SFTs from H1...\n",
      "25-07-20 02:19:01.248 pyfstat.utils.sft INFO    : Loading 1 SFTs from H1...\n",
      "25-07-20 02:19:01.256 pyfstat.utils.sft INFO    : Loading 1 SFTs from H1...\n",
      "25-07-20 02:19:01.264 pyfstat.utils.sft INFO    : Loading 1 SFTs from H1...\n",
      "25-07-20 02:19:01.272 pyfstat.utils.sft INFO    : Loading 1 SFTs from H1...\n",
      "25-07-20 02:19:01.280 pyfstat.utils.sft INFO    : Loading 1 SFTs from H1...\n",
      "25-07-20 02:19:01.288 pyfstat.utils.sft INFO    : Loading 1 SFTs from H1...\n",
      "25-07-20 02:19:01.297 pyfstat.utils.sft INFO    : Loading 1 SFTs from H1...\n",
      "25-07-20 02:19:01.305 pyfstat.utils.sft INFO    : Loading 1 SFTs from H1...\n",
      "25-07-20 02:19:01.313 pyfstat.utils.sft INFO    : Loading 1 SFTs from H1...\n",
      "25-07-20 02:19:01.322 pyfstat.utils.sft INFO    : Loading 1 SFTs from H1...\n",
      "25-07-20 02:19:01.330 pyfstat.utils.sft INFO    : Loading 1 SFTs from H1...\n"
     ]
    },
    {
     "name": "stderr",
     "output_type": "stream",
     "text": [
      " 86%|████████▌ | 4111/4800 [00:35<00:05, 115.35it/s]"
     ]
    },
    {
     "name": "stdout",
     "output_type": "stream",
     "text": [
      "25-07-20 02:19:01.339 pyfstat.utils.sft INFO    : Loading 1 SFTs from H1...\n",
      "25-07-20 02:19:01.348 pyfstat.utils.sft INFO    : Loading 1 SFTs from H1...\n",
      "25-07-20 02:19:01.357 pyfstat.utils.sft INFO    : Loading 1 SFTs from H1...\n",
      "25-07-20 02:19:01.366 pyfstat.utils.sft INFO    : Loading 1 SFTs from H1...\n",
      "25-07-20 02:19:01.375 pyfstat.utils.sft INFO    : Loading 1 SFTs from H1...\n",
      "25-07-20 02:19:01.384 pyfstat.utils.sft INFO    : Loading 1 SFTs from H1...\n",
      "25-07-20 02:19:01.392 pyfstat.utils.sft INFO    : Loading 1 SFTs from H1...\n",
      "25-07-20 02:19:01.401 pyfstat.utils.sft INFO    : Loading 1 SFTs from H1...\n",
      "25-07-20 02:19:01.409 pyfstat.utils.sft INFO    : Loading 1 SFTs from H1...\n",
      "25-07-20 02:19:01.418 pyfstat.utils.sft INFO    : Loading 1 SFTs from H1...\n",
      "25-07-20 02:19:01.426 pyfstat.utils.sft INFO    : Loading 1 SFTs from H1...\n",
      "25-07-20 02:19:01.435 pyfstat.utils.sft INFO    : Loading 1 SFTs from H1...\n"
     ]
    },
    {
     "name": "stderr",
     "output_type": "stream",
     "text": [
      " 86%|████████▌ | 4123/4800 [00:35<00:05, 115.21it/s]"
     ]
    },
    {
     "name": "stdout",
     "output_type": "stream",
     "text": [
      "25-07-20 02:19:01.444 pyfstat.utils.sft INFO    : Loading 1 SFTs from H1...\n",
      "25-07-20 02:19:01.452 pyfstat.utils.sft INFO    : Loading 1 SFTs from H1...\n",
      "25-07-20 02:19:01.461 pyfstat.utils.sft INFO    : Loading 1 SFTs from H1...\n",
      "25-07-20 02:19:01.469 pyfstat.utils.sft INFO    : Loading 1 SFTs from H1...\n",
      "25-07-20 02:19:01.477 pyfstat.utils.sft INFO    : Loading 1 SFTs from H1...\n",
      "25-07-20 02:19:01.485 pyfstat.utils.sft INFO    : Loading 1 SFTs from H1...\n",
      "25-07-20 02:19:01.493 pyfstat.utils.sft INFO    : Loading 1 SFTs from H1...\n",
      "25-07-20 02:19:01.501 pyfstat.utils.sft INFO    : Loading 1 SFTs from H1...\n",
      "25-07-20 02:19:01.510 pyfstat.utils.sft INFO    : Loading 1 SFTs from H1...\n",
      "25-07-20 02:19:01.518 pyfstat.utils.sft INFO    : Loading 1 SFTs from H1...\n",
      "25-07-20 02:19:01.526 pyfstat.utils.sft INFO    : Loading 1 SFTs from H1...\n",
      "25-07-20 02:19:01.535 pyfstat.utils.sft INFO    : Loading 1 SFTs from H1...\n"
     ]
    },
    {
     "name": "stderr",
     "output_type": "stream",
     "text": [
      " 86%|████████▌ | 4135/4800 [00:35<00:05, 116.44it/s]"
     ]
    },
    {
     "name": "stdout",
     "output_type": "stream",
     "text": [
      "25-07-20 02:19:01.544 pyfstat.utils.sft INFO    : Loading 1 SFTs from H1...\n",
      "25-07-20 02:19:01.552 pyfstat.utils.sft INFO    : Loading 1 SFTs from H1...\n",
      "25-07-20 02:19:01.561 pyfstat.utils.sft INFO    : Loading 1 SFTs from H1...\n",
      "25-07-20 02:19:01.569 pyfstat.utils.sft INFO    : Loading 1 SFTs from H1...\n",
      "25-07-20 02:19:01.577 pyfstat.utils.sft INFO    : Loading 1 SFTs from H1...\n",
      "25-07-20 02:19:01.585 pyfstat.utils.sft INFO    : Loading 1 SFTs from H1...\n",
      "25-07-20 02:19:01.593 pyfstat.utils.sft INFO    : Loading 1 SFTs from H1...\n",
      "25-07-20 02:19:01.601 pyfstat.utils.sft INFO    : Loading 1 SFTs from H1...\n",
      "25-07-20 02:19:01.609 pyfstat.utils.sft INFO    : Loading 1 SFTs from H1...\n",
      "25-07-20 02:19:01.618 pyfstat.utils.sft INFO    : Loading 1 SFTs from H1...\n",
      "25-07-20 02:19:01.626 pyfstat.utils.sft INFO    : Loading 1 SFTs from H1...\n",
      "25-07-20 02:19:01.634 pyfstat.utils.sft INFO    : Loading 1 SFTs from H1...\n",
      "25-07-20 02:19:01.642 pyfstat.utils.sft INFO    : Loading 1 SFTs from H1...\n"
     ]
    },
    {
     "name": "stderr",
     "output_type": "stream",
     "text": [
      " 86%|████████▋ | 4148/4800 [00:35<00:05, 117.84it/s]"
     ]
    },
    {
     "name": "stdout",
     "output_type": "stream",
     "text": [
      "25-07-20 02:19:01.652 pyfstat.utils.sft INFO    : Loading 1 SFTs from H1...\n",
      "25-07-20 02:19:01.661 pyfstat.utils.sft INFO    : Loading 1 SFTs from H1...\n",
      "25-07-20 02:19:01.669 pyfstat.utils.sft INFO    : Loading 1 SFTs from H1...\n",
      "25-07-20 02:19:01.677 pyfstat.utils.sft INFO    : Loading 1 SFTs from H1...\n",
      "25-07-20 02:19:01.686 pyfstat.utils.sft INFO    : Loading 1 SFTs from H1...\n",
      "25-07-20 02:19:01.694 pyfstat.utils.sft INFO    : Loading 1 SFTs from H1...\n",
      "25-07-20 02:19:01.703 pyfstat.utils.sft INFO    : Loading 1 SFTs from H1...\n",
      "25-07-20 02:19:01.711 pyfstat.utils.sft INFO    : Loading 1 SFTs from H1...\n",
      "25-07-20 02:19:01.719 pyfstat.utils.sft INFO    : Loading 1 SFTs from H1...\n",
      "25-07-20 02:19:01.727 pyfstat.utils.sft INFO    : Loading 1 SFTs from H1...\n",
      "25-07-20 02:19:01.735 pyfstat.utils.sft INFO    : Loading 1 SFTs from H1...\n",
      "25-07-20 02:19:01.743 pyfstat.utils.sft INFO    : Loading 1 SFTs from H1...\n"
     ]
    },
    {
     "name": "stderr",
     "output_type": "stream",
     "text": [
      " 87%|████████▋ | 4160/4800 [00:35<00:05, 118.06it/s]"
     ]
    },
    {
     "name": "stdout",
     "output_type": "stream",
     "text": [
      "25-07-20 02:19:01.753 pyfstat.utils.sft INFO    : Loading 1 SFTs from H1...\n",
      "25-07-20 02:19:01.761 pyfstat.utils.sft INFO    : Loading 1 SFTs from H1...\n",
      "25-07-20 02:19:01.769 pyfstat.utils.sft INFO    : Loading 1 SFTs from H1...\n",
      "25-07-20 02:19:01.778 pyfstat.utils.sft INFO    : Loading 1 SFTs from H1...\n",
      "25-07-20 02:19:01.786 pyfstat.utils.sft INFO    : Loading 1 SFTs from H1...\n",
      "25-07-20 02:19:01.795 pyfstat.utils.sft INFO    : Loading 1 SFTs from H1...\n",
      "25-07-20 02:19:01.803 pyfstat.utils.sft INFO    : Loading 1 SFTs from H1...\n",
      "25-07-20 02:19:01.811 pyfstat.utils.sft INFO    : Loading 1 SFTs from H1...\n",
      "25-07-20 02:19:01.819 pyfstat.utils.sft INFO    : Loading 1 SFTs from H1...\n",
      "25-07-20 02:19:01.828 pyfstat.utils.sft INFO    : Loading 1 SFTs from H1...\n",
      "25-07-20 02:19:01.836 pyfstat.utils.sft INFO    : Loading 1 SFTs from H1...\n",
      "25-07-20 02:19:01.845 pyfstat.utils.sft INFO    : Loading 1 SFTs from H1...\n"
     ]
    },
    {
     "name": "stderr",
     "output_type": "stream",
     "text": [
      " 87%|████████▋ | 4172/4800 [00:35<00:05, 118.19it/s]"
     ]
    },
    {
     "name": "stdout",
     "output_type": "stream",
     "text": [
      "25-07-20 02:19:01.854 pyfstat.utils.sft INFO    : Loading 1 SFTs from H1...\n",
      "25-07-20 02:19:01.864 pyfstat.utils.sft INFO    : Loading 1 SFTs from H1...\n",
      "25-07-20 02:19:01.873 pyfstat.utils.sft INFO    : Loading 1 SFTs from H1...\n",
      "25-07-20 02:19:01.881 pyfstat.utils.sft INFO    : Loading 1 SFTs from H1...\n",
      "25-07-20 02:19:01.890 pyfstat.utils.sft INFO    : Loading 1 SFTs from H1...\n",
      "25-07-20 02:19:01.899 pyfstat.utils.sft INFO    : Loading 1 SFTs from H1...\n",
      "25-07-20 02:19:01.907 pyfstat.utils.sft INFO    : Loading 1 SFTs from H1...\n",
      "25-07-20 02:19:01.916 pyfstat.utils.sft INFO    : Loading 1 SFTs from H1...\n",
      "25-07-20 02:19:01.924 pyfstat.utils.sft INFO    : Loading 1 SFTs from H1...\n",
      "25-07-20 02:19:01.933 pyfstat.utils.sft INFO    : Loading 1 SFTs from H1...\n",
      "25-07-20 02:19:01.941 pyfstat.utils.sft INFO    : Loading 1 SFTs from H1...\n",
      "25-07-20 02:19:01.949 pyfstat.utils.sft INFO    : Loading 1 SFTs from H1...\n"
     ]
    },
    {
     "name": "stderr",
     "output_type": "stream",
     "text": [
      " 87%|████████▋ | 4184/4800 [00:35<00:05, 117.21it/s]"
     ]
    },
    {
     "name": "stdout",
     "output_type": "stream",
     "text": [
      "25-07-20 02:19:01.958 pyfstat.utils.sft INFO    : Loading 1 SFTs from H1...\n",
      "25-07-20 02:19:01.967 pyfstat.utils.sft INFO    : Loading 1 SFTs from H1...\n",
      "25-07-20 02:19:01.976 pyfstat.utils.sft INFO    : Loading 1 SFTs from H1...\n",
      "25-07-20 02:19:01.985 pyfstat.utils.sft INFO    : Loading 1 SFTs from H1...\n",
      "25-07-20 02:19:01.994 pyfstat.utils.sft INFO    : Loading 1 SFTs from H1...\n",
      "25-07-20 02:19:02.002 pyfstat.utils.sft INFO    : Loading 1 SFTs from H1...\n",
      "25-07-20 02:19:02.011 pyfstat.utils.sft INFO    : Loading 1 SFTs from H1...\n",
      "25-07-20 02:19:02.019 pyfstat.utils.sft INFO    : Loading 1 SFTs from H1...\n",
      "25-07-20 02:19:02.028 pyfstat.utils.sft INFO    : Loading 1 SFTs from H1...\n",
      "25-07-20 02:19:02.036 pyfstat.utils.sft INFO    : Loading 1 SFTs from H1...\n",
      "25-07-20 02:19:02.045 pyfstat.utils.sft INFO    : Loading 1 SFTs from H1...\n",
      "25-07-20 02:19:02.054 pyfstat.utils.sft INFO    : Loading 1 SFTs from H1...\n"
     ]
    },
    {
     "name": "stderr",
     "output_type": "stream",
     "text": [
      " 87%|████████▋ | 4196/4800 [00:35<00:05, 116.46it/s]"
     ]
    },
    {
     "name": "stdout",
     "output_type": "stream",
     "text": [
      "25-07-20 02:19:02.063 pyfstat.utils.sft INFO    : Loading 1 SFTs from H1...\n",
      "25-07-20 02:19:02.072 pyfstat.utils.sft INFO    : Loading 1 SFTs from H1...\n",
      "25-07-20 02:19:02.080 pyfstat.utils.sft INFO    : Loading 1 SFTs from H1...\n",
      "25-07-20 02:19:02.089 pyfstat.utils.sft INFO    : Loading 1 SFTs from H1...\n",
      "25-07-20 02:19:02.097 pyfstat.utils.sft INFO    : Loading 1 SFTs from H1...\n",
      "25-07-20 02:19:02.106 pyfstat.utils.sft INFO    : Loading 1 SFTs from H1...\n",
      "25-07-20 02:19:02.114 pyfstat.utils.sft INFO    : Loading 1 SFTs from H1...\n",
      "25-07-20 02:19:02.123 pyfstat.utils.sft INFO    : Loading 1 SFTs from H1...\n",
      "25-07-20 02:19:02.131 pyfstat.utils.sft INFO    : Loading 1 SFTs from H1...\n",
      "25-07-20 02:19:02.140 pyfstat.utils.sft INFO    : Loading 1 SFTs from H1...\n",
      "25-07-20 02:19:02.149 pyfstat.utils.sft INFO    : Loading 1 SFTs from H1...\n",
      "25-07-20 02:19:02.157 pyfstat.utils.sft INFO    : Loading 1 SFTs from H1...\n"
     ]
    },
    {
     "name": "stderr",
     "output_type": "stream",
     "text": [
      " 88%|████████▊ | 4208/4800 [00:35<00:05, 116.60it/s]"
     ]
    },
    {
     "name": "stdout",
     "output_type": "stream",
     "text": [
      "25-07-20 02:19:02.166 pyfstat.utils.sft INFO    : Loading 1 SFTs from H1...\n",
      "25-07-20 02:19:02.174 pyfstat.utils.sft INFO    : Loading 1 SFTs from H1...\n",
      "25-07-20 02:19:02.183 pyfstat.utils.sft INFO    : Loading 1 SFTs from H1...\n",
      "25-07-20 02:19:02.191 pyfstat.utils.sft INFO    : Loading 1 SFTs from H1...\n",
      "25-07-20 02:19:02.200 pyfstat.utils.sft INFO    : Loading 1 SFTs from H1...\n",
      "25-07-20 02:19:02.208 pyfstat.utils.sft INFO    : Loading 1 SFTs from H1...\n",
      "25-07-20 02:19:02.217 pyfstat.utils.sft INFO    : Loading 1 SFTs from H1...\n",
      "25-07-20 02:19:02.226 pyfstat.utils.sft INFO    : Loading 1 SFTs from H1...\n",
      "25-07-20 02:19:02.235 pyfstat.utils.sft INFO    : Loading 1 SFTs from H1...\n",
      "25-07-20 02:19:02.244 pyfstat.utils.sft INFO    : Loading 1 SFTs from H1...\n",
      "25-07-20 02:19:02.253 pyfstat.utils.sft INFO    : Loading 1 SFTs from H1...\n",
      "25-07-20 02:19:02.262 pyfstat.utils.sft INFO    : Loading 1 SFTs from H1...\n"
     ]
    },
    {
     "name": "stderr",
     "output_type": "stream",
     "text": [
      " 88%|████████▊ | 4220/4800 [00:35<00:05, 115.77it/s]"
     ]
    },
    {
     "name": "stdout",
     "output_type": "stream",
     "text": [
      "25-07-20 02:19:02.271 pyfstat.utils.sft INFO    : Loading 1 SFTs from H1...\n",
      "25-07-20 02:19:02.279 pyfstat.utils.sft INFO    : Loading 1 SFTs from H1...\n",
      "25-07-20 02:19:02.288 pyfstat.utils.sft INFO    : Loading 1 SFTs from H1...\n",
      "25-07-20 02:19:02.296 pyfstat.utils.sft INFO    : Loading 1 SFTs from H1...\n",
      "25-07-20 02:19:02.310 pyfstat.utils.sft INFO    : Loading 1 SFTs from H1...\n",
      "25-07-20 02:19:02.318 pyfstat.utils.sft INFO    : Loading 1 SFTs from H1...\n",
      "25-07-20 02:19:02.327 pyfstat.utils.sft INFO    : Loading 1 SFTs from H1...\n",
      "25-07-20 02:19:02.335 pyfstat.utils.sft INFO    : Loading 1 SFTs from H1...\n",
      "25-07-20 02:19:02.343 pyfstat.utils.sft INFO    : Loading 1 SFTs from H1...\n",
      "25-07-20 02:19:02.352 pyfstat.utils.sft INFO    : Loading 1 SFTs from H1...\n",
      "25-07-20 02:19:02.361 pyfstat.utils.sft INFO    : Loading 1 SFTs from H1...\n",
      "25-07-20 02:19:02.369 pyfstat.utils.sft INFO    : Loading 1 SFTs from H1...\n"
     ]
    },
    {
     "name": "stderr",
     "output_type": "stream",
     "text": [
      " 88%|████████▊ | 4232/4800 [00:36<00:04, 114.61it/s]"
     ]
    },
    {
     "name": "stdout",
     "output_type": "stream",
     "text": [
      "25-07-20 02:19:02.378 pyfstat.utils.sft INFO    : Loading 1 SFTs from H1...\n",
      "25-07-20 02:19:02.387 pyfstat.utils.sft INFO    : Loading 1 SFTs from H1...\n",
      "25-07-20 02:19:02.395 pyfstat.utils.sft INFO    : Loading 1 SFTs from H1...\n",
      "25-07-20 02:19:02.404 pyfstat.utils.sft INFO    : Loading 1 SFTs from H1...\n",
      "25-07-20 02:19:02.412 pyfstat.utils.sft INFO    : Loading 1 SFTs from H1...\n",
      "25-07-20 02:19:02.421 pyfstat.utils.sft INFO    : Loading 1 SFTs from H1...\n",
      "25-07-20 02:19:02.430 pyfstat.utils.sft INFO    : Loading 1 SFTs from H1...\n",
      "25-07-20 02:19:02.437 pyfstat.utils.sft INFO    : Loading 1 SFTs from H1...\n",
      "25-07-20 02:19:02.445 pyfstat.utils.sft INFO    : Loading 1 SFTs from H1...\n",
      "25-07-20 02:19:02.453 pyfstat.utils.sft INFO    : Loading 1 SFTs from H1...\n",
      "25-07-20 02:19:02.462 pyfstat.utils.sft INFO    : Loading 1 SFTs from H1...\n",
      "25-07-20 02:19:02.470 pyfstat.utils.sft INFO    : Loading 1 SFTs from H1...\n"
     ]
    },
    {
     "name": "stderr",
     "output_type": "stream",
     "text": [
      " 88%|████████▊ | 4244/4800 [00:36<00:04, 115.71it/s]"
     ]
    },
    {
     "name": "stdout",
     "output_type": "stream",
     "text": [
      "25-07-20 02:19:02.480 pyfstat.utils.sft INFO    : Loading 1 SFTs from H1...\n",
      "25-07-20 02:19:02.488 pyfstat.utils.sft INFO    : Loading 1 SFTs from H1...\n",
      "25-07-20 02:19:02.496 pyfstat.utils.sft INFO    : Loading 1 SFTs from H1...\n",
      "25-07-20 02:19:02.504 pyfstat.utils.sft INFO    : Loading 1 SFTs from H1...\n",
      "25-07-20 02:19:02.512 pyfstat.utils.sft INFO    : Loading 1 SFTs from H1...\n",
      "25-07-20 02:19:02.520 pyfstat.utils.sft INFO    : Loading 1 SFTs from H1...\n",
      "25-07-20 02:19:02.529 pyfstat.utils.sft INFO    : Loading 1 SFTs from H1...\n",
      "25-07-20 02:19:02.538 pyfstat.utils.sft INFO    : Loading 1 SFTs from H1...\n",
      "25-07-20 02:19:02.546 pyfstat.utils.sft INFO    : Loading 1 SFTs from H1...\n",
      "25-07-20 02:19:02.555 pyfstat.utils.sft INFO    : Loading 1 SFTs from H1...\n",
      "25-07-20 02:19:02.563 pyfstat.utils.sft INFO    : Loading 1 SFTs from H1...\n",
      "25-07-20 02:19:02.572 pyfstat.utils.sft INFO    : Loading 1 SFTs from H1...\n"
     ]
    },
    {
     "name": "stderr",
     "output_type": "stream",
     "text": [
      " 89%|████████▊ | 4256/4800 [00:36<00:04, 115.39it/s]"
     ]
    },
    {
     "name": "stdout",
     "output_type": "stream",
     "text": [
      "25-07-20 02:19:02.584 pyfstat.utils.sft INFO    : Loading 1 SFTs from H1...\n",
      "25-07-20 02:19:02.592 pyfstat.utils.sft INFO    : Loading 1 SFTs from H1...\n",
      "25-07-20 02:19:02.600 pyfstat.utils.sft INFO    : Loading 1 SFTs from H1...\n",
      "25-07-20 02:19:02.608 pyfstat.utils.sft INFO    : Loading 1 SFTs from H1...\n",
      "25-07-20 02:19:02.616 pyfstat.utils.sft INFO    : Loading 1 SFTs from H1...\n",
      "25-07-20 02:19:02.625 pyfstat.utils.sft INFO    : Loading 1 SFTs from H1...\n",
      "25-07-20 02:19:02.633 pyfstat.utils.sft INFO    : Loading 1 SFTs from H1...\n",
      "25-07-20 02:19:02.641 pyfstat.utils.sft INFO    : Loading 1 SFTs from H1...\n",
      "25-07-20 02:19:02.649 pyfstat.utils.sft INFO    : Loading 1 SFTs from H1...\n",
      "25-07-20 02:19:02.658 pyfstat.utils.sft INFO    : Loading 1 SFTs from H1...\n",
      "25-07-20 02:19:02.666 pyfstat.utils.sft INFO    : Loading 1 SFTs from H1...\n",
      "25-07-20 02:19:02.674 pyfstat.utils.sft INFO    : Loading 1 SFTs from H1...\n",
      "25-07-20 02:19:02.683 pyfstat.utils.sft INFO    : Loading 1 SFTs from H1...\n"
     ]
    },
    {
     "name": "stderr",
     "output_type": "stream",
     "text": [
      " 89%|████████▉ | 4269/4800 [00:36<00:04, 117.00it/s]"
     ]
    },
    {
     "name": "stdout",
     "output_type": "stream",
     "text": [
      "25-07-20 02:19:02.692 pyfstat.utils.sft INFO    : Loading 1 SFTs from H1...\n",
      "25-07-20 02:19:02.700 pyfstat.utils.sft INFO    : Loading 1 SFTs from H1...\n",
      "25-07-20 02:19:02.709 pyfstat.utils.sft INFO    : Loading 1 SFTs from H1...\n",
      "25-07-20 02:19:02.717 pyfstat.utils.sft INFO    : Loading 1 SFTs from H1...\n",
      "25-07-20 02:19:02.725 pyfstat.utils.sft INFO    : Loading 1 SFTs from H1...\n",
      "25-07-20 02:19:02.734 pyfstat.utils.sft INFO    : Loading 1 SFTs from H1...\n",
      "25-07-20 02:19:02.743 pyfstat.utils.sft INFO    : Loading 1 SFTs from H1...\n",
      "25-07-20 02:19:02.752 pyfstat.utils.sft INFO    : Loading 1 SFTs from H1...\n",
      "25-07-20 02:19:02.760 pyfstat.utils.sft INFO    : Loading 1 SFTs from H1...\n",
      "25-07-20 02:19:02.771 pyfstat.utils.sft INFO    : Loading 1 SFTs from H1...\n",
      "25-07-20 02:19:02.779 pyfstat.utils.sft INFO    : Loading 1 SFTs from H1...\n",
      "25-07-20 02:19:02.787 pyfstat.utils.sft INFO    : Loading 1 SFTs from H1...\n"
     ]
    },
    {
     "name": "stderr",
     "output_type": "stream",
     "text": [
      " 89%|████████▉ | 4281/4800 [00:36<00:04, 116.64it/s]"
     ]
    },
    {
     "name": "stdout",
     "output_type": "stream",
     "text": [
      "25-07-20 02:19:02.796 pyfstat.utils.sft INFO    : Loading 1 SFTs from H1...\n",
      "25-07-20 02:19:02.804 pyfstat.utils.sft INFO    : Loading 1 SFTs from H1...\n",
      "25-07-20 02:19:02.812 pyfstat.utils.sft INFO    : Loading 1 SFTs from H1...\n",
      "25-07-20 02:19:02.820 pyfstat.utils.sft INFO    : Loading 1 SFTs from H1...\n",
      "25-07-20 02:19:02.828 pyfstat.utils.sft INFO    : Loading 1 SFTs from H1...\n",
      "25-07-20 02:19:02.837 pyfstat.utils.sft INFO    : Loading 1 SFTs from H1...\n",
      "25-07-20 02:19:02.845 pyfstat.utils.sft INFO    : Loading 1 SFTs from H1...\n",
      "25-07-20 02:19:02.854 pyfstat.utils.sft INFO    : Loading 1 SFTs from H1...\n",
      "25-07-20 02:19:02.863 pyfstat.utils.sft INFO    : Loading 1 SFTs from H1...\n",
      "25-07-20 02:19:02.871 pyfstat.utils.sft INFO    : Loading 1 SFTs from H1...\n",
      "25-07-20 02:19:02.880 pyfstat.utils.sft INFO    : Loading 1 SFTs from H1...\n",
      "25-07-20 02:19:02.888 pyfstat.utils.sft INFO    : Loading 1 SFTs from H1...\n"
     ]
    },
    {
     "name": "stderr",
     "output_type": "stream",
     "text": [
      " 89%|████████▉ | 4293/4800 [00:36<00:04, 117.08it/s]"
     ]
    },
    {
     "name": "stdout",
     "output_type": "stream",
     "text": [
      "25-07-20 02:19:02.897 pyfstat.utils.sft INFO    : Loading 1 SFTs from H1...\n",
      "25-07-20 02:19:02.906 pyfstat.utils.sft INFO    : Loading 1 SFTs from H1...\n",
      "25-07-20 02:19:02.913 pyfstat.utils.sft INFO    : Loading 1 SFTs from H1...\n",
      "25-07-20 02:19:02.921 pyfstat.utils.sft INFO    : Loading 1 SFTs from H1...\n",
      "25-07-20 02:19:02.929 pyfstat.utils.sft INFO    : Loading 1 SFTs from H1...\n",
      "25-07-20 02:19:02.937 pyfstat.utils.sft INFO    : Loading 1 SFTs from H1...\n",
      "25-07-20 02:19:02.945 pyfstat.utils.sft INFO    : Loading 1 SFTs from H1...\n",
      "25-07-20 02:19:02.953 pyfstat.utils.sft INFO    : Loading 1 SFTs from H1...\n",
      "25-07-20 02:19:02.962 pyfstat.utils.sft INFO    : Loading 1 SFTs from H1...\n",
      "25-07-20 02:19:02.970 pyfstat.utils.sft INFO    : Loading 1 SFTs from H1...\n",
      "25-07-20 02:19:02.978 pyfstat.utils.sft INFO    : Loading 1 SFTs from H1...\n",
      "25-07-20 02:19:02.987 pyfstat.utils.sft INFO    : Loading 1 SFTs from H1...\n",
      "25-07-20 02:19:02.996 pyfstat.utils.sft INFO    : Loading 1 SFTs from H1...\n"
     ]
    },
    {
     "name": "stderr",
     "output_type": "stream",
     "text": [
      " 90%|████████▉ | 4306/4800 [00:36<00:04, 118.35it/s]"
     ]
    },
    {
     "name": "stdout",
     "output_type": "stream",
     "text": [
      "25-07-20 02:19:03.005 pyfstat.utils.sft INFO    : Loading 1 SFTs from H1...\n",
      "25-07-20 02:19:03.013 pyfstat.utils.sft INFO    : Loading 1 SFTs from H1...\n",
      "25-07-20 02:19:03.022 pyfstat.utils.sft INFO    : Loading 1 SFTs from H1...\n",
      "25-07-20 02:19:03.031 pyfstat.utils.sft INFO    : Loading 1 SFTs from H1...\n",
      "25-07-20 02:19:03.040 pyfstat.utils.sft INFO    : Loading 1 SFTs from H1...\n",
      "25-07-20 02:19:03.048 pyfstat.utils.sft INFO    : Loading 1 SFTs from H1...\n",
      "25-07-20 02:19:03.057 pyfstat.utils.sft INFO    : Loading 1 SFTs from H1...\n",
      "25-07-20 02:19:03.066 pyfstat.utils.sft INFO    : Loading 1 SFTs from H1...\n",
      "25-07-20 02:19:03.075 pyfstat.utils.sft INFO    : Loading 1 SFTs from H1...\n",
      "25-07-20 02:19:03.085 pyfstat.utils.sft INFO    : Loading 1 SFTs from H1...\n",
      "25-07-20 02:19:03.093 pyfstat.utils.sft INFO    : Loading 1 SFTs from H1...\n",
      "25-07-20 02:19:03.101 pyfstat.utils.sft INFO    : Loading 1 SFTs from H1...\n"
     ]
    },
    {
     "name": "stderr",
     "output_type": "stream",
     "text": [
      " 90%|████████▉ | 4318/4800 [00:36<00:04, 116.79it/s]"
     ]
    },
    {
     "name": "stdout",
     "output_type": "stream",
     "text": [
      "25-07-20 02:19:03.110 pyfstat.utils.sft INFO    : Loading 1 SFTs from H1...\n",
      "25-07-20 02:19:03.119 pyfstat.utils.sft INFO    : Loading 1 SFTs from H1...\n",
      "25-07-20 02:19:03.128 pyfstat.utils.sft INFO    : Loading 1 SFTs from H1...\n",
      "25-07-20 02:19:03.136 pyfstat.utils.sft INFO    : Loading 1 SFTs from H1...\n",
      "25-07-20 02:19:03.144 pyfstat.utils.sft INFO    : Loading 1 SFTs from H1...\n",
      "25-07-20 02:19:03.152 pyfstat.utils.sft INFO    : Loading 1 SFTs from H1...\n",
      "25-07-20 02:19:03.160 pyfstat.utils.sft INFO    : Loading 1 SFTs from H1...\n",
      "25-07-20 02:19:03.170 pyfstat.utils.sft INFO    : Loading 1 SFTs from H1...\n",
      "25-07-20 02:19:03.179 pyfstat.utils.sft INFO    : Loading 1 SFTs from H1...\n",
      "25-07-20 02:19:03.191 pyfstat.utils.sft INFO    : Loading 1 SFTs from H1...\n",
      "25-07-20 02:19:03.201 pyfstat.utils.sft INFO    : Loading 1 SFTs from H1...\n",
      "25-07-20 02:19:03.209 pyfstat.utils.sft INFO    : Loading 1 SFTs from H1...\n"
     ]
    },
    {
     "name": "stderr",
     "output_type": "stream",
     "text": [
      " 90%|█████████ | 4330/4800 [00:36<00:04, 115.06it/s]"
     ]
    },
    {
     "name": "stdout",
     "output_type": "stream",
     "text": [
      "25-07-20 02:19:03.219 pyfstat.utils.sft INFO    : Loading 1 SFTs from H1...\n",
      "25-07-20 02:19:03.227 pyfstat.utils.sft INFO    : Loading 1 SFTs from H1...\n",
      "25-07-20 02:19:03.236 pyfstat.utils.sft INFO    : Loading 1 SFTs from H1...\n",
      "25-07-20 02:19:03.244 pyfstat.utils.sft INFO    : Loading 1 SFTs from H1...\n",
      "25-07-20 02:19:03.253 pyfstat.utils.sft INFO    : Loading 1 SFTs from H1...\n",
      "25-07-20 02:19:03.261 pyfstat.utils.sft INFO    : Loading 1 SFTs from H1...\n",
      "25-07-20 02:19:03.270 pyfstat.utils.sft INFO    : Loading 1 SFTs from H1...\n",
      "25-07-20 02:19:03.277 pyfstat.utils.sft INFO    : Loading 1 SFTs from H1...\n",
      "25-07-20 02:19:03.286 pyfstat.utils.sft INFO    : Loading 1 SFTs from H1...\n",
      "25-07-20 02:19:03.294 pyfstat.utils.sft INFO    : Loading 1 SFTs from H1...\n",
      "25-07-20 02:19:03.302 pyfstat.utils.sft INFO    : Loading 1 SFTs from H1...\n",
      "25-07-20 02:19:03.310 pyfstat.utils.sft INFO    : Loading 1 SFTs from H1...\n"
     ]
    },
    {
     "name": "stderr",
     "output_type": "stream",
     "text": [
      " 90%|█████████ | 4342/4800 [00:37<00:03, 116.29it/s]"
     ]
    },
    {
     "name": "stdout",
     "output_type": "stream",
     "text": [
      "25-07-20 02:19:03.319 pyfstat.utils.sft INFO    : Loading 1 SFTs from H1...\n",
      "25-07-20 02:19:03.327 pyfstat.utils.sft INFO    : Loading 1 SFTs from H1...\n",
      "25-07-20 02:19:03.335 pyfstat.utils.sft INFO    : Loading 1 SFTs from H1...\n",
      "25-07-20 02:19:03.343 pyfstat.utils.sft INFO    : Loading 1 SFTs from H1...\n",
      "25-07-20 02:19:03.351 pyfstat.utils.sft INFO    : Loading 1 SFTs from H1...\n",
      "25-07-20 02:19:03.359 pyfstat.utils.sft INFO    : Loading 1 SFTs from H1...\n",
      "25-07-20 02:19:03.367 pyfstat.utils.sft INFO    : Loading 1 SFTs from H1...\n",
      "25-07-20 02:19:03.375 pyfstat.utils.sft INFO    : Loading 1 SFTs from H1...\n",
      "25-07-20 02:19:03.383 pyfstat.utils.sft INFO    : Loading 1 SFTs from H1...\n",
      "25-07-20 02:19:03.391 pyfstat.utils.sft INFO    : Loading 1 SFTs from H1...\n",
      "25-07-20 02:19:03.399 pyfstat.utils.sft INFO    : Loading 1 SFTs from H1...\n",
      "25-07-20 02:19:03.408 pyfstat.utils.sft INFO    : Loading 1 SFTs from H1...\n",
      "25-07-20 02:19:03.416 pyfstat.utils.sft INFO    : Loading 1 SFTs from H1...\n"
     ]
    },
    {
     "name": "stderr",
     "output_type": "stream",
     "text": [
      " 91%|█████████ | 4355/4800 [00:37<00:03, 118.34it/s]"
     ]
    },
    {
     "name": "stdout",
     "output_type": "stream",
     "text": [
      "25-07-20 02:19:03.425 pyfstat.utils.sft INFO    : Loading 1 SFTs from H1...\n",
      "25-07-20 02:19:03.433 pyfstat.utils.sft INFO    : Loading 1 SFTs from H1...\n",
      "25-07-20 02:19:03.441 pyfstat.utils.sft INFO    : Loading 1 SFTs from H1...\n",
      "25-07-20 02:19:03.449 pyfstat.utils.sft INFO    : Loading 1 SFTs from H1...\n",
      "25-07-20 02:19:03.458 pyfstat.utils.sft INFO    : Loading 1 SFTs from H1...\n",
      "25-07-20 02:19:03.466 pyfstat.utils.sft INFO    : Loading 1 SFTs from H1...\n",
      "25-07-20 02:19:03.475 pyfstat.utils.sft INFO    : Loading 1 SFTs from H1...\n",
      "25-07-20 02:19:03.483 pyfstat.utils.sft INFO    : Loading 1 SFTs from H1...\n",
      "25-07-20 02:19:03.490 pyfstat.utils.sft INFO    : Loading 1 SFTs from H1...\n",
      "25-07-20 02:19:03.499 pyfstat.utils.sft INFO    : Loading 1 SFTs from H1...\n",
      "25-07-20 02:19:03.507 pyfstat.utils.sft INFO    : Loading 1 SFTs from H1...\n",
      "25-07-20 02:19:03.516 pyfstat.utils.sft INFO    : Loading 1 SFTs from H1...\n"
     ]
    },
    {
     "name": "stderr",
     "output_type": "stream",
     "text": [
      " 91%|█████████ | 4367/4800 [00:37<00:03, 118.73it/s]"
     ]
    },
    {
     "name": "stdout",
     "output_type": "stream",
     "text": [
      "25-07-20 02:19:03.525 pyfstat.utils.sft INFO    : Loading 1 SFTs from H1...\n",
      "25-07-20 02:19:03.533 pyfstat.utils.sft INFO    : Loading 1 SFTs from H1...\n",
      "25-07-20 02:19:03.541 pyfstat.utils.sft INFO    : Loading 1 SFTs from H1...\n",
      "25-07-20 02:19:03.549 pyfstat.utils.sft INFO    : Loading 1 SFTs from H1...\n",
      "25-07-20 02:19:03.557 pyfstat.utils.sft INFO    : Loading 1 SFTs from H1...\n",
      "25-07-20 02:19:03.565 pyfstat.utils.sft INFO    : Loading 1 SFTs from H1...\n",
      "25-07-20 02:19:03.573 pyfstat.utils.sft INFO    : Loading 1 SFTs from H1...\n",
      "25-07-20 02:19:03.581 pyfstat.utils.sft INFO    : Loading 1 SFTs from H1...\n",
      "25-07-20 02:19:03.589 pyfstat.utils.sft INFO    : Loading 1 SFTs from H1...\n",
      "25-07-20 02:19:03.598 pyfstat.utils.sft INFO    : Loading 1 SFTs from H1...\n",
      "25-07-20 02:19:03.606 pyfstat.utils.sft INFO    : Loading 1 SFTs from H1...\n",
      "25-07-20 02:19:03.614 pyfstat.utils.sft INFO    : Loading 1 SFTs from H1...\n",
      "25-07-20 02:19:03.623 pyfstat.utils.sft INFO    : Loading 1 SFTs from H1...\n"
     ]
    },
    {
     "name": "stderr",
     "output_type": "stream",
     "text": [
      " 91%|█████████▏| 4380/4800 [00:37<00:03, 119.29it/s]"
     ]
    },
    {
     "name": "stdout",
     "output_type": "stream",
     "text": [
      "25-07-20 02:19:03.633 pyfstat.utils.sft INFO    : Loading 1 SFTs from H1...\n",
      "25-07-20 02:19:03.642 pyfstat.utils.sft INFO    : Loading 1 SFTs from H1...\n",
      "25-07-20 02:19:03.650 pyfstat.utils.sft INFO    : Loading 1 SFTs from H1...\n",
      "25-07-20 02:19:03.658 pyfstat.utils.sft INFO    : Loading 1 SFTs from H1...\n",
      "25-07-20 02:19:03.666 pyfstat.utils.sft INFO    : Loading 1 SFTs from H1...\n",
      "25-07-20 02:19:03.674 pyfstat.utils.sft INFO    : Loading 1 SFTs from H1...\n",
      "25-07-20 02:19:03.683 pyfstat.utils.sft INFO    : Loading 1 SFTs from H1...\n",
      "25-07-20 02:19:03.691 pyfstat.utils.sft INFO    : Loading 1 SFTs from H1...\n",
      "25-07-20 02:19:03.699 pyfstat.utils.sft INFO    : Loading 1 SFTs from H1...\n",
      "25-07-20 02:19:03.708 pyfstat.utils.sft INFO    : Loading 1 SFTs from H1...\n",
      "25-07-20 02:19:03.716 pyfstat.utils.sft INFO    : Loading 1 SFTs from H1...\n",
      "25-07-20 02:19:03.724 pyfstat.utils.sft INFO    : Loading 1 SFTs from H1...\n",
      "25-07-20 02:19:03.732 pyfstat.utils.sft INFO    : Loading 1 SFTs from H1...\n"
     ]
    },
    {
     "name": "stderr",
     "output_type": "stream",
     "text": [
      " 92%|█████████▏| 4393/4800 [00:37<00:03, 119.74it/s]"
     ]
    },
    {
     "name": "stdout",
     "output_type": "stream",
     "text": [
      "25-07-20 02:19:03.740 pyfstat.utils.sft INFO    : Loading 1 SFTs from H1...\n",
      "25-07-20 02:19:03.749 pyfstat.utils.sft INFO    : Loading 1 SFTs from H1...\n",
      "25-07-20 02:19:03.756 pyfstat.utils.sft INFO    : Loading 1 SFTs from H1...\n",
      "25-07-20 02:19:03.764 pyfstat.utils.sft INFO    : Loading 1 SFTs from H1...\n",
      "25-07-20 02:19:03.772 pyfstat.utils.sft INFO    : Loading 1 SFTs from H1...\n",
      "25-07-20 02:19:03.781 pyfstat.utils.sft INFO    : Loading 1 SFTs from H1...\n",
      "25-07-20 02:19:03.789 pyfstat.utils.sft INFO    : Loading 1 SFTs from H1...\n",
      "25-07-20 02:19:03.797 pyfstat.utils.sft INFO    : Loading 1 SFTs from H1...\n",
      "25-07-20 02:19:03.806 pyfstat.utils.sft INFO    : Loading 1 SFTs from H1...\n",
      "25-07-20 02:19:03.814 pyfstat.utils.sft INFO    : Loading 1 SFTs from H1...\n",
      "25-07-20 02:19:03.823 pyfstat.utils.sft INFO    : Loading 1 SFTs from H1...\n",
      "25-07-20 02:19:03.831 pyfstat.utils.sft INFO    : Loading 1 SFTs from H1...\n",
      "25-07-20 02:19:03.840 pyfstat.utils.sft INFO    : Loading 1 SFTs from H1...\n"
     ]
    },
    {
     "name": "stderr",
     "output_type": "stream",
     "text": [
      " 92%|█████████▏| 4406/4800 [00:37<00:03, 119.87it/s]"
     ]
    },
    {
     "name": "stdout",
     "output_type": "stream",
     "text": [
      "25-07-20 02:19:03.849 pyfstat.utils.sft INFO    : Loading 1 SFTs from H1...\n",
      "25-07-20 02:19:03.858 pyfstat.utils.sft INFO    : Loading 1 SFTs from H1...\n",
      "25-07-20 02:19:03.866 pyfstat.utils.sft INFO    : Loading 1 SFTs from H1...\n",
      "25-07-20 02:19:03.875 pyfstat.utils.sft INFO    : Loading 1 SFTs from H1...\n",
      "25-07-20 02:19:03.884 pyfstat.utils.sft INFO    : Loading 1 SFTs from H1...\n",
      "25-07-20 02:19:03.892 pyfstat.utils.sft INFO    : Loading 1 SFTs from H1...\n",
      "25-07-20 02:19:03.901 pyfstat.utils.sft INFO    : Loading 1 SFTs from H1...\n",
      "25-07-20 02:19:03.908 pyfstat.utils.sft INFO    : Loading 1 SFTs from H1...\n",
      "25-07-20 02:19:03.916 pyfstat.utils.sft INFO    : Loading 1 SFTs from H1...\n",
      "25-07-20 02:19:03.925 pyfstat.utils.sft INFO    : Loading 1 SFTs from H1...\n",
      "25-07-20 02:19:03.933 pyfstat.utils.sft INFO    : Loading 1 SFTs from H1...\n",
      "25-07-20 02:19:03.941 pyfstat.utils.sft INFO    : Loading 1 SFTs from H1...\n"
     ]
    },
    {
     "name": "stderr",
     "output_type": "stream",
     "text": [
      " 92%|█████████▏| 4418/4800 [00:37<00:03, 119.46it/s]"
     ]
    },
    {
     "name": "stdout",
     "output_type": "stream",
     "text": [
      "25-07-20 02:19:03.950 pyfstat.utils.sft INFO    : Loading 1 SFTs from H1...\n",
      "25-07-20 02:19:03.958 pyfstat.utils.sft INFO    : Loading 1 SFTs from H1...\n",
      "25-07-20 02:19:03.966 pyfstat.utils.sft INFO    : Loading 1 SFTs from H1...\n",
      "25-07-20 02:19:03.974 pyfstat.utils.sft INFO    : Loading 1 SFTs from H1...\n",
      "25-07-20 02:19:03.982 pyfstat.utils.sft INFO    : Loading 1 SFTs from H1...\n",
      "25-07-20 02:19:03.991 pyfstat.utils.sft INFO    : Loading 1 SFTs from H1...\n",
      "25-07-20 02:19:03.999 pyfstat.utils.sft INFO    : Loading 1 SFTs from H1...\n",
      "25-07-20 02:19:04.007 pyfstat.utils.sft INFO    : Loading 1 SFTs from H1...\n",
      "25-07-20 02:19:04.015 pyfstat.utils.sft INFO    : Loading 1 SFTs from H1...\n",
      "25-07-20 02:19:04.023 pyfstat.utils.sft INFO    : Loading 1 SFTs from H1...\n",
      "25-07-20 02:19:04.032 pyfstat.utils.sft INFO    : Loading 1 SFTs from H1...\n",
      "25-07-20 02:19:04.040 pyfstat.utils.sft INFO    : Loading 1 SFTs from H1...\n",
      "25-07-20 02:19:04.049 pyfstat.utils.sft INFO    : Loading 1 SFTs from H1...\n"
     ]
    },
    {
     "name": "stderr",
     "output_type": "stream",
     "text": [
      " 92%|█████████▏| 4431/4800 [00:37<00:03, 119.76it/s]"
     ]
    },
    {
     "name": "stdout",
     "output_type": "stream",
     "text": [
      "25-07-20 02:19:04.058 pyfstat.utils.sft INFO    : Loading 1 SFTs from H1...\n",
      "25-07-20 02:19:04.066 pyfstat.utils.sft INFO    : Loading 1 SFTs from H1...\n",
      "25-07-20 02:19:04.074 pyfstat.utils.sft INFO    : Loading 1 SFTs from H1...\n",
      "25-07-20 02:19:04.082 pyfstat.utils.sft INFO    : Loading 1 SFTs from H1...\n",
      "25-07-20 02:19:04.090 pyfstat.utils.sft INFO    : Loading 1 SFTs from H1...\n",
      "25-07-20 02:19:04.098 pyfstat.utils.sft INFO    : Loading 1 SFTs from H1...\n",
      "25-07-20 02:19:04.108 pyfstat.utils.sft INFO    : Loading 1 SFTs from H1...\n",
      "25-07-20 02:19:04.117 pyfstat.utils.sft INFO    : Loading 1 SFTs from H1...\n",
      "25-07-20 02:19:04.127 pyfstat.utils.sft INFO    : Loading 1 SFTs from H1...\n",
      "25-07-20 02:19:04.136 pyfstat.utils.sft INFO    : Loading 1 SFTs from H1...\n",
      "25-07-20 02:19:04.145 pyfstat.utils.sft INFO    : Loading 1 SFTs from H1...\n",
      "25-07-20 02:19:04.155 pyfstat.utils.sft INFO    : Loading 1 SFTs from H1...\n"
     ]
    },
    {
     "name": "stderr",
     "output_type": "stream",
     "text": [
      " 93%|█████████▎| 4443/4800 [00:37<00:03, 117.58it/s]"
     ]
    },
    {
     "name": "stdout",
     "output_type": "stream",
     "text": [
      "25-07-20 02:19:04.165 pyfstat.utils.sft INFO    : Loading 1 SFTs from H1...\n",
      "25-07-20 02:19:04.173 pyfstat.utils.sft INFO    : Loading 1 SFTs from H1...\n",
      "25-07-20 02:19:04.181 pyfstat.utils.sft INFO    : Loading 1 SFTs from H1...\n",
      "25-07-20 02:19:04.189 pyfstat.utils.sft INFO    : Loading 1 SFTs from H1...\n",
      "25-07-20 02:19:04.197 pyfstat.utils.sft INFO    : Loading 1 SFTs from H1...\n",
      "25-07-20 02:19:04.205 pyfstat.utils.sft INFO    : Loading 1 SFTs from H1...\n",
      "25-07-20 02:19:04.212 pyfstat.utils.sft INFO    : Loading 1 SFTs from H1...\n",
      "25-07-20 02:19:04.220 pyfstat.utils.sft INFO    : Loading 1 SFTs from H1...\n",
      "25-07-20 02:19:04.229 pyfstat.utils.sft INFO    : Loading 1 SFTs from H1...\n",
      "25-07-20 02:19:04.237 pyfstat.utils.sft INFO    : Loading 1 SFTs from H1...\n",
      "25-07-20 02:19:04.245 pyfstat.utils.sft INFO    : Loading 1 SFTs from H1...\n",
      "25-07-20 02:19:04.253 pyfstat.utils.sft INFO    : Loading 1 SFTs from H1...\n",
      "25-07-20 02:19:04.261 pyfstat.utils.sft INFO    : Loading 1 SFTs from H1...\n"
     ]
    },
    {
     "name": "stderr",
     "output_type": "stream",
     "text": [
      " 93%|█████████▎| 4456/4800 [00:37<00:02, 119.29it/s]"
     ]
    },
    {
     "name": "stdout",
     "output_type": "stream",
     "text": [
      "25-07-20 02:19:04.270 pyfstat.utils.sft INFO    : Loading 1 SFTs from H1...\n",
      "25-07-20 02:19:04.278 pyfstat.utils.sft INFO    : Loading 1 SFTs from H1...\n",
      "25-07-20 02:19:04.286 pyfstat.utils.sft INFO    : Loading 1 SFTs from H1...\n",
      "25-07-20 02:19:04.295 pyfstat.utils.sft INFO    : Loading 1 SFTs from H1...\n",
      "25-07-20 02:19:04.303 pyfstat.utils.sft INFO    : Loading 1 SFTs from H1...\n",
      "25-07-20 02:19:04.311 pyfstat.utils.sft INFO    : Loading 1 SFTs from H1...\n",
      "25-07-20 02:19:04.319 pyfstat.utils.sft INFO    : Loading 1 SFTs from H1...\n",
      "25-07-20 02:19:04.327 pyfstat.utils.sft INFO    : Loading 1 SFTs from H1...\n",
      "25-07-20 02:19:04.335 pyfstat.utils.sft INFO    : Loading 1 SFTs from H1...\n",
      "25-07-20 02:19:04.343 pyfstat.utils.sft INFO    : Loading 1 SFTs from H1...\n",
      "25-07-20 02:19:04.352 pyfstat.utils.sft INFO    : Loading 1 SFTs from H1...\n",
      "25-07-20 02:19:04.360 pyfstat.utils.sft INFO    : Loading 1 SFTs from H1...\n",
      "25-07-20 02:19:04.368 pyfstat.utils.sft INFO    : Loading 1 SFTs from H1...\n"
     ]
    },
    {
     "name": "stderr",
     "output_type": "stream",
     "text": [
      " 93%|█████████▎| 4469/4800 [00:38<00:02, 119.88it/s]"
     ]
    },
    {
     "name": "stdout",
     "output_type": "stream",
     "text": [
      "25-07-20 02:19:04.377 pyfstat.utils.sft INFO    : Loading 1 SFTs from H1...\n",
      "25-07-20 02:19:04.386 pyfstat.utils.sft INFO    : Loading 1 SFTs from H1...\n",
      "25-07-20 02:19:04.394 pyfstat.utils.sft INFO    : Loading 1 SFTs from H1...\n",
      "25-07-20 02:19:04.402 pyfstat.utils.sft INFO    : Loading 1 SFTs from H1...\n",
      "25-07-20 02:19:04.410 pyfstat.utils.sft INFO    : Loading 1 SFTs from H1...\n",
      "25-07-20 02:19:04.418 pyfstat.utils.sft INFO    : Loading 1 SFTs from H1...\n",
      "25-07-20 02:19:04.426 pyfstat.utils.sft INFO    : Loading 1 SFTs from H1...\n",
      "25-07-20 02:19:04.434 pyfstat.utils.sft INFO    : Loading 1 SFTs from H1...\n",
      "25-07-20 02:19:04.442 pyfstat.utils.sft INFO    : Loading 1 SFTs from H1...\n",
      "25-07-20 02:19:04.451 pyfstat.utils.sft INFO    : Loading 1 SFTs from H1...\n",
      "25-07-20 02:19:04.459 pyfstat.utils.sft INFO    : Loading 1 SFTs from H1...\n",
      "25-07-20 02:19:04.467 pyfstat.utils.sft INFO    : Loading 1 SFTs from H1...\n",
      "25-07-20 02:19:04.475 pyfstat.utils.sft INFO    : Loading 1 SFTs from H1...\n"
     ]
    },
    {
     "name": "stderr",
     "output_type": "stream",
     "text": [
      " 93%|█████████▎| 4482/4800 [00:38<00:02, 120.23it/s]"
     ]
    },
    {
     "name": "stdout",
     "output_type": "stream",
     "text": [
      "25-07-20 02:19:04.485 pyfstat.utils.sft INFO    : Loading 1 SFTs from H1...\n",
      "25-07-20 02:19:04.494 pyfstat.utils.sft INFO    : Loading 1 SFTs from H1...\n",
      "25-07-20 02:19:04.502 pyfstat.utils.sft INFO    : Loading 1 SFTs from H1...\n",
      "25-07-20 02:19:04.510 pyfstat.utils.sft INFO    : Loading 1 SFTs from H1...\n",
      "25-07-20 02:19:04.518 pyfstat.utils.sft INFO    : Loading 1 SFTs from H1...\n",
      "25-07-20 02:19:04.526 pyfstat.utils.sft INFO    : Loading 1 SFTs from H1...\n",
      "25-07-20 02:19:04.535 pyfstat.utils.sft INFO    : Loading 1 SFTs from H1...\n",
      "25-07-20 02:19:04.543 pyfstat.utils.sft INFO    : Loading 1 SFTs from H1...\n",
      "25-07-20 02:19:04.551 pyfstat.utils.sft INFO    : Loading 1 SFTs from H1...\n",
      "25-07-20 02:19:04.560 pyfstat.utils.sft INFO    : Loading 1 SFTs from H1...\n",
      "25-07-20 02:19:04.568 pyfstat.utils.sft INFO    : Loading 1 SFTs from H1...\n",
      "25-07-20 02:19:04.577 pyfstat.utils.sft INFO    : Loading 1 SFTs from H1...\n",
      "25-07-20 02:19:04.585 pyfstat.utils.sft INFO    : Loading 1 SFTs from H1...\n"
     ]
    },
    {
     "name": "stderr",
     "output_type": "stream",
     "text": [
      " 94%|█████████▎| 4495/4800 [00:38<00:02, 119.66it/s]"
     ]
    },
    {
     "name": "stdout",
     "output_type": "stream",
     "text": [
      "25-07-20 02:19:04.595 pyfstat.utils.sft INFO    : Loading 1 SFTs from H1...\n",
      "25-07-20 02:19:04.604 pyfstat.utils.sft INFO    : Loading 1 SFTs from H1...\n",
      "25-07-20 02:19:04.612 pyfstat.utils.sft INFO    : Loading 1 SFTs from H1...\n",
      "25-07-20 02:19:04.621 pyfstat.utils.sft INFO    : Loading 1 SFTs from H1...\n",
      "25-07-20 02:19:04.629 pyfstat.utils.sft INFO    : Loading 1 SFTs from H1...\n",
      "25-07-20 02:19:04.638 pyfstat.utils.sft INFO    : Loading 1 SFTs from H1...\n",
      "25-07-20 02:19:04.647 pyfstat.utils.sft INFO    : Loading 1 SFTs from H1...\n",
      "25-07-20 02:19:04.655 pyfstat.utils.sft INFO    : Loading 1 SFTs from H1...\n",
      "25-07-20 02:19:04.664 pyfstat.utils.sft INFO    : Loading 1 SFTs from H1...\n",
      "25-07-20 02:19:04.673 pyfstat.utils.sft INFO    : Loading 1 SFTs from H1...\n",
      "25-07-20 02:19:04.682 pyfstat.utils.sft INFO    : Loading 1 SFTs from H1...\n",
      "25-07-20 02:19:04.690 pyfstat.utils.sft INFO    : Loading 1 SFTs from H1...\n"
     ]
    },
    {
     "name": "stderr",
     "output_type": "stream",
     "text": [
      " 94%|█████████▍| 4507/4800 [00:38<00:02, 116.91it/s]"
     ]
    },
    {
     "name": "stdout",
     "output_type": "stream",
     "text": [
      "25-07-20 02:19:04.703 pyfstat.utils.sft INFO    : Loading 1 SFTs from H1...\n",
      "25-07-20 02:19:04.712 pyfstat.utils.sft INFO    : Loading 1 SFTs from H1...\n",
      "25-07-20 02:19:04.721 pyfstat.utils.sft INFO    : Loading 1 SFTs from H1...\n",
      "25-07-20 02:19:04.729 pyfstat.utils.sft INFO    : Loading 1 SFTs from H1...\n",
      "25-07-20 02:19:04.738 pyfstat.utils.sft INFO    : Loading 1 SFTs from H1...\n",
      "25-07-20 02:19:04.746 pyfstat.utils.sft INFO    : Loading 1 SFTs from H1...\n",
      "25-07-20 02:19:04.755 pyfstat.utils.sft INFO    : Loading 1 SFTs from H1...\n",
      "25-07-20 02:19:04.763 pyfstat.utils.sft INFO    : Loading 1 SFTs from H1...\n",
      "25-07-20 02:19:04.772 pyfstat.utils.sft INFO    : Loading 1 SFTs from H1...\n",
      "25-07-20 02:19:04.780 pyfstat.utils.sft INFO    : Loading 1 SFTs from H1...\n",
      "25-07-20 02:19:04.789 pyfstat.utils.sft INFO    : Loading 1 SFTs from H1...\n",
      "25-07-20 02:19:04.797 pyfstat.utils.sft INFO    : Loading 1 SFTs from H1...\n"
     ]
    },
    {
     "name": "stderr",
     "output_type": "stream",
     "text": [
      " 94%|█████████▍| 4519/4800 [00:38<00:02, 116.67it/s]"
     ]
    },
    {
     "name": "stdout",
     "output_type": "stream",
     "text": [
      "25-07-20 02:19:04.806 pyfstat.utils.sft INFO    : Loading 1 SFTs from H1...\n",
      "25-07-20 02:19:04.814 pyfstat.utils.sft INFO    : Loading 1 SFTs from H1...\n",
      "25-07-20 02:19:04.823 pyfstat.utils.sft INFO    : Loading 1 SFTs from H1...\n",
      "25-07-20 02:19:04.831 pyfstat.utils.sft INFO    : Loading 1 SFTs from H1...\n",
      "25-07-20 02:19:04.840 pyfstat.utils.sft INFO    : Loading 1 SFTs from H1...\n",
      "25-07-20 02:19:04.848 pyfstat.utils.sft INFO    : Loading 1 SFTs from H1...\n",
      "25-07-20 02:19:04.857 pyfstat.utils.sft INFO    : Loading 1 SFTs from H1...\n",
      "25-07-20 02:19:04.865 pyfstat.utils.sft INFO    : Loading 1 SFTs from H1...\n",
      "25-07-20 02:19:04.874 pyfstat.utils.sft INFO    : Loading 1 SFTs from H1...\n",
      "25-07-20 02:19:04.882 pyfstat.utils.sft INFO    : Loading 1 SFTs from H1...\n",
      "25-07-20 02:19:04.891 pyfstat.utils.sft INFO    : Loading 1 SFTs from H1...\n",
      "25-07-20 02:19:04.899 pyfstat.utils.sft INFO    : Loading 1 SFTs from H1...\n"
     ]
    },
    {
     "name": "stderr",
     "output_type": "stream",
     "text": [
      " 94%|█████████▍| 4531/4800 [00:38<00:02, 116.89it/s]"
     ]
    },
    {
     "name": "stdout",
     "output_type": "stream",
     "text": [
      "25-07-20 02:19:04.909 pyfstat.utils.sft INFO    : Loading 1 SFTs from H1...\n",
      "25-07-20 02:19:04.917 pyfstat.utils.sft INFO    : Loading 1 SFTs from H1...\n",
      "25-07-20 02:19:04.925 pyfstat.utils.sft INFO    : Loading 1 SFTs from H1...\n",
      "25-07-20 02:19:04.934 pyfstat.utils.sft INFO    : Loading 1 SFTs from H1...\n",
      "25-07-20 02:19:04.943 pyfstat.utils.sft INFO    : Loading 1 SFTs from H1...\n",
      "25-07-20 02:19:04.952 pyfstat.utils.sft INFO    : Loading 1 SFTs from H1...\n",
      "25-07-20 02:19:04.961 pyfstat.utils.sft INFO    : Loading 1 SFTs from H1...\n",
      "25-07-20 02:19:04.969 pyfstat.utils.sft INFO    : Loading 1 SFTs from H1...\n",
      "25-07-20 02:19:04.978 pyfstat.utils.sft INFO    : Loading 1 SFTs from H1...\n",
      "25-07-20 02:19:04.987 pyfstat.utils.sft INFO    : Loading 1 SFTs from H1...\n",
      "25-07-20 02:19:04.995 pyfstat.utils.sft INFO    : Loading 1 SFTs from H1...\n",
      "25-07-20 02:19:05.004 pyfstat.utils.sft INFO    : Loading 1 SFTs from H1...\n"
     ]
    },
    {
     "name": "stderr",
     "output_type": "stream",
     "text": [
      " 95%|█████████▍| 4543/4800 [00:38<00:02, 116.21it/s]"
     ]
    },
    {
     "name": "stdout",
     "output_type": "stream",
     "text": [
      "25-07-20 02:19:05.013 pyfstat.utils.sft INFO    : Loading 1 SFTs from H1...\n",
      "25-07-20 02:19:05.022 pyfstat.utils.sft INFO    : Loading 1 SFTs from H1...\n",
      "25-07-20 02:19:05.030 pyfstat.utils.sft INFO    : Loading 1 SFTs from H1...\n",
      "25-07-20 02:19:05.039 pyfstat.utils.sft INFO    : Loading 1 SFTs from H1...\n",
      "25-07-20 02:19:05.049 pyfstat.utils.sft INFO    : Loading 1 SFTs from H1...\n",
      "25-07-20 02:19:05.058 pyfstat.utils.sft INFO    : Loading 1 SFTs from H1...\n",
      "25-07-20 02:19:05.067 pyfstat.utils.sft INFO    : Loading 1 SFTs from H1...\n",
      "25-07-20 02:19:05.075 pyfstat.utils.sft INFO    : Loading 1 SFTs from H1...\n",
      "25-07-20 02:19:05.083 pyfstat.utils.sft INFO    : Loading 1 SFTs from H1...\n",
      "25-07-20 02:19:05.092 pyfstat.utils.sft INFO    : Loading 1 SFTs from H1...\n",
      "25-07-20 02:19:05.100 pyfstat.utils.sft INFO    : Loading 1 SFTs from H1...\n",
      "25-07-20 02:19:05.108 pyfstat.utils.sft INFO    : Loading 1 SFTs from H1...\n"
     ]
    },
    {
     "name": "stderr",
     "output_type": "stream",
     "text": [
      " 95%|█████████▍| 4555/4800 [00:38<00:02, 115.92it/s]"
     ]
    },
    {
     "name": "stdout",
     "output_type": "stream",
     "text": [
      "25-07-20 02:19:05.117 pyfstat.utils.sft INFO    : Loading 1 SFTs from H1...\n",
      "25-07-20 02:19:05.126 pyfstat.utils.sft INFO    : Loading 1 SFTs from H1...\n",
      "25-07-20 02:19:05.134 pyfstat.utils.sft INFO    : Loading 1 SFTs from H1...\n",
      "25-07-20 02:19:05.142 pyfstat.utils.sft INFO    : Loading 1 SFTs from H1...\n",
      "25-07-20 02:19:05.151 pyfstat.utils.sft INFO    : Loading 1 SFTs from H1...\n",
      "25-07-20 02:19:05.160 pyfstat.utils.sft INFO    : Loading 1 SFTs from H1...\n",
      "25-07-20 02:19:05.168 pyfstat.utils.sft INFO    : Loading 1 SFTs from H1...\n",
      "25-07-20 02:19:05.177 pyfstat.utils.sft INFO    : Loading 1 SFTs from H1...\n",
      "25-07-20 02:19:05.185 pyfstat.utils.sft INFO    : Loading 1 SFTs from H1...\n",
      "25-07-20 02:19:05.193 pyfstat.utils.sft INFO    : Loading 1 SFTs from H1...\n",
      "25-07-20 02:19:05.202 pyfstat.utils.sft INFO    : Loading 1 SFTs from H1...\n",
      "25-07-20 02:19:05.210 pyfstat.utils.sft INFO    : Loading 1 SFTs from H1...\n"
     ]
    },
    {
     "name": "stderr",
     "output_type": "stream",
     "text": [
      " 95%|█████████▌| 4567/4800 [00:38<00:01, 116.59it/s]"
     ]
    },
    {
     "name": "stdout",
     "output_type": "stream",
     "text": [
      "25-07-20 02:19:05.219 pyfstat.utils.sft INFO    : Loading 1 SFTs from H1...\n",
      "25-07-20 02:19:05.228 pyfstat.utils.sft INFO    : Loading 1 SFTs from H1...\n",
      "25-07-20 02:19:05.236 pyfstat.utils.sft INFO    : Loading 1 SFTs from H1...\n",
      "25-07-20 02:19:05.244 pyfstat.utils.sft INFO    : Loading 1 SFTs from H1...\n",
      "25-07-20 02:19:05.252 pyfstat.utils.sft INFO    : Loading 1 SFTs from H1...\n",
      "25-07-20 02:19:05.260 pyfstat.utils.sft INFO    : Loading 1 SFTs from H1...\n",
      "25-07-20 02:19:05.269 pyfstat.utils.sft INFO    : Loading 1 SFTs from H1...\n",
      "25-07-20 02:19:05.277 pyfstat.utils.sft INFO    : Loading 1 SFTs from H1...\n",
      "25-07-20 02:19:05.285 pyfstat.utils.sft INFO    : Loading 1 SFTs from H1...\n",
      "25-07-20 02:19:05.294 pyfstat.utils.sft INFO    : Loading 1 SFTs from H1...\n",
      "25-07-20 02:19:05.302 pyfstat.utils.sft INFO    : Loading 1 SFTs from H1...\n",
      "25-07-20 02:19:05.310 pyfstat.utils.sft INFO    : Loading 1 SFTs from H1...\n",
      "25-07-20 02:19:05.318 pyfstat.utils.sft INFO    : Loading 1 SFTs from H1...\n"
     ]
    },
    {
     "name": "stderr",
     "output_type": "stream",
     "text": [
      " 95%|█████████▌| 4580/4800 [00:39<00:01, 117.72it/s]"
     ]
    },
    {
     "name": "stdout",
     "output_type": "stream",
     "text": [
      "25-07-20 02:19:05.327 pyfstat.utils.sft INFO    : Loading 1 SFTs from H1...\n",
      "25-07-20 02:19:05.336 pyfstat.utils.sft INFO    : Loading 1 SFTs from H1...\n",
      "25-07-20 02:19:05.345 pyfstat.utils.sft INFO    : Loading 1 SFTs from H1...\n",
      "25-07-20 02:19:05.353 pyfstat.utils.sft INFO    : Loading 1 SFTs from H1...\n",
      "25-07-20 02:19:05.361 pyfstat.utils.sft INFO    : Loading 1 SFTs from H1...\n",
      "25-07-20 02:19:05.370 pyfstat.utils.sft INFO    : Loading 1 SFTs from H1...\n",
      "25-07-20 02:19:05.379 pyfstat.utils.sft INFO    : Loading 1 SFTs from H1...\n",
      "25-07-20 02:19:05.387 pyfstat.utils.sft INFO    : Loading 1 SFTs from H1...\n",
      "25-07-20 02:19:05.396 pyfstat.utils.sft INFO    : Loading 1 SFTs from H1...\n",
      "25-07-20 02:19:05.404 pyfstat.utils.sft INFO    : Loading 1 SFTs from H1...\n",
      "25-07-20 02:19:05.413 pyfstat.utils.sft INFO    : Loading 1 SFTs from H1...\n",
      "25-07-20 02:19:05.421 pyfstat.utils.sft INFO    : Loading 1 SFTs from H1...\n"
     ]
    },
    {
     "name": "stderr",
     "output_type": "stream",
     "text": [
      " 96%|█████████▌| 4592/4800 [00:39<00:01, 117.49it/s]"
     ]
    },
    {
     "name": "stdout",
     "output_type": "stream",
     "text": [
      "25-07-20 02:19:05.430 pyfstat.utils.sft INFO    : Loading 1 SFTs from H1...\n",
      "25-07-20 02:19:05.438 pyfstat.utils.sft INFO    : Loading 1 SFTs from H1...\n",
      "25-07-20 02:19:05.446 pyfstat.utils.sft INFO    : Loading 1 SFTs from H1...\n",
      "25-07-20 02:19:05.454 pyfstat.utils.sft INFO    : Loading 1 SFTs from H1...\n",
      "25-07-20 02:19:05.463 pyfstat.utils.sft INFO    : Loading 1 SFTs from H1...\n",
      "25-07-20 02:19:05.471 pyfstat.utils.sft INFO    : Loading 1 SFTs from H1...\n",
      "25-07-20 02:19:05.480 pyfstat.utils.sft INFO    : Loading 1 SFTs from H1...\n",
      "25-07-20 02:19:05.489 pyfstat.utils.sft INFO    : Loading 1 SFTs from H1...\n",
      "25-07-20 02:19:05.497 pyfstat.utils.sft INFO    : Loading 1 SFTs from H1...\n",
      "25-07-20 02:19:05.505 pyfstat.utils.sft INFO    : Loading 1 SFTs from H1...\n",
      "25-07-20 02:19:05.513 pyfstat.utils.sft INFO    : Loading 1 SFTs from H1...\n",
      "25-07-20 02:19:05.521 pyfstat.utils.sft INFO    : Loading 1 SFTs from H1...\n"
     ]
    },
    {
     "name": "stderr",
     "output_type": "stream",
     "text": [
      " 96%|█████████▌| 4604/4800 [00:39<00:01, 118.09it/s]"
     ]
    },
    {
     "name": "stdout",
     "output_type": "stream",
     "text": [
      "25-07-20 02:19:05.530 pyfstat.utils.sft INFO    : Loading 1 SFTs from H1...\n",
      "25-07-20 02:19:05.538 pyfstat.utils.sft INFO    : Loading 1 SFTs from H1...\n",
      "25-07-20 02:19:05.546 pyfstat.utils.sft INFO    : Loading 1 SFTs from H1...\n",
      "25-07-20 02:19:05.555 pyfstat.utils.sft INFO    : Loading 1 SFTs from H1...\n",
      "25-07-20 02:19:05.563 pyfstat.utils.sft INFO    : Loading 1 SFTs from H1...\n",
      "25-07-20 02:19:05.571 pyfstat.utils.sft INFO    : Loading 1 SFTs from H1...\n",
      "25-07-20 02:19:05.580 pyfstat.utils.sft INFO    : Loading 1 SFTs from H1...\n",
      "25-07-20 02:19:05.588 pyfstat.utils.sft INFO    : Loading 1 SFTs from H1...\n",
      "25-07-20 02:19:05.597 pyfstat.utils.sft INFO    : Loading 1 SFTs from H1...\n",
      "25-07-20 02:19:05.606 pyfstat.utils.sft INFO    : Loading 1 SFTs from H1...\n",
      "25-07-20 02:19:05.615 pyfstat.utils.sft INFO    : Loading 1 SFTs from H1...\n",
      "25-07-20 02:19:05.624 pyfstat.utils.sft INFO    : Loading 1 SFTs from H1...\n"
     ]
    },
    {
     "name": "stderr",
     "output_type": "stream",
     "text": [
      " 96%|█████████▌| 4616/4800 [00:39<00:01, 117.63it/s]"
     ]
    },
    {
     "name": "stdout",
     "output_type": "stream",
     "text": [
      "25-07-20 02:19:05.633 pyfstat.utils.sft INFO    : Loading 1 SFTs from H1...\n",
      "25-07-20 02:19:05.642 pyfstat.utils.sft INFO    : Loading 1 SFTs from H1...\n",
      "25-07-20 02:19:05.653 pyfstat.utils.sft INFO    : Loading 1 SFTs from H1...\n",
      "25-07-20 02:19:05.664 pyfstat.utils.sft INFO    : Loading 1 SFTs from H1...\n",
      "25-07-20 02:19:05.673 pyfstat.utils.sft INFO    : Loading 1 SFTs from H1...\n",
      "25-07-20 02:19:05.681 pyfstat.utils.sft INFO    : Loading 1 SFTs from H1...\n",
      "25-07-20 02:19:05.690 pyfstat.utils.sft INFO    : Loading 1 SFTs from H1...\n",
      "25-07-20 02:19:05.699 pyfstat.utils.sft INFO    : Loading 1 SFTs from H1...\n",
      "25-07-20 02:19:05.707 pyfstat.utils.sft INFO    : Loading 1 SFTs from H1...\n",
      "25-07-20 02:19:05.716 pyfstat.utils.sft INFO    : Loading 1 SFTs from H1...\n",
      "25-07-20 02:19:05.724 pyfstat.utils.sft INFO    : Loading 1 SFTs from H1...\n",
      "25-07-20 02:19:05.733 pyfstat.utils.sft INFO    : Loading 1 SFTs from H1...\n"
     ]
    },
    {
     "name": "stderr",
     "output_type": "stream",
     "text": [
      " 96%|█████████▋| 4628/4800 [00:39<00:01, 115.13it/s]"
     ]
    },
    {
     "name": "stdout",
     "output_type": "stream",
     "text": [
      "25-07-20 02:19:05.745 pyfstat.utils.sft INFO    : Loading 1 SFTs from H1...\n",
      "25-07-20 02:19:05.754 pyfstat.utils.sft INFO    : Loading 1 SFTs from H1...\n",
      "25-07-20 02:19:05.763 pyfstat.utils.sft INFO    : Loading 1 SFTs from H1...\n",
      "25-07-20 02:19:05.771 pyfstat.utils.sft INFO    : Loading 1 SFTs from H1...\n",
      "25-07-20 02:19:05.780 pyfstat.utils.sft INFO    : Loading 1 SFTs from H1...\n",
      "25-07-20 02:19:05.788 pyfstat.utils.sft INFO    : Loading 1 SFTs from H1...\n",
      "25-07-20 02:19:05.797 pyfstat.utils.sft INFO    : Loading 1 SFTs from H1...\n",
      "25-07-20 02:19:05.805 pyfstat.utils.sft INFO    : Loading 1 SFTs from H1...\n",
      "25-07-20 02:19:05.814 pyfstat.utils.sft INFO    : Loading 1 SFTs from H1...\n",
      "25-07-20 02:19:05.822 pyfstat.utils.sft INFO    : Loading 1 SFTs from H1...\n",
      "25-07-20 02:19:05.831 pyfstat.utils.sft INFO    : Loading 1 SFTs from H1...\n",
      "25-07-20 02:19:05.840 pyfstat.utils.sft INFO    : Loading 1 SFTs from H1...\n"
     ]
    },
    {
     "name": "stderr",
     "output_type": "stream",
     "text": [
      " 97%|█████████▋| 4640/4800 [00:39<00:01, 114.34it/s]"
     ]
    },
    {
     "name": "stdout",
     "output_type": "stream",
     "text": [
      "25-07-20 02:19:05.849 pyfstat.utils.sft INFO    : Loading 1 SFTs from H1...\n",
      "25-07-20 02:19:05.858 pyfstat.utils.sft INFO    : Loading 1 SFTs from H1...\n",
      "25-07-20 02:19:05.867 pyfstat.utils.sft INFO    : Loading 1 SFTs from H1...\n",
      "25-07-20 02:19:05.876 pyfstat.utils.sft INFO    : Loading 1 SFTs from H1...\n",
      "25-07-20 02:19:05.884 pyfstat.utils.sft INFO    : Loading 1 SFTs from H1...\n",
      "25-07-20 02:19:05.893 pyfstat.utils.sft INFO    : Loading 1 SFTs from H1...\n",
      "25-07-20 02:19:05.902 pyfstat.utils.sft INFO    : Loading 1 SFTs from H1...\n",
      "25-07-20 02:19:05.910 pyfstat.utils.sft INFO    : Loading 1 SFTs from H1...\n",
      "25-07-20 02:19:05.919 pyfstat.utils.sft INFO    : Loading 1 SFTs from H1...\n",
      "25-07-20 02:19:05.927 pyfstat.utils.sft INFO    : Loading 1 SFTs from H1...\n",
      "25-07-20 02:19:05.936 pyfstat.utils.sft INFO    : Loading 1 SFTs from H1...\n",
      "25-07-20 02:19:05.944 pyfstat.utils.sft INFO    : Loading 1 SFTs from H1...\n"
     ]
    },
    {
     "name": "stderr",
     "output_type": "stream",
     "text": [
      " 97%|█████████▋| 4652/4800 [00:39<00:01, 114.52it/s]"
     ]
    },
    {
     "name": "stdout",
     "output_type": "stream",
     "text": [
      "25-07-20 02:19:05.953 pyfstat.utils.sft INFO    : Loading 1 SFTs from H1...\n",
      "25-07-20 02:19:05.963 pyfstat.utils.sft INFO    : Loading 1 SFTs from H1...\n",
      "25-07-20 02:19:05.972 pyfstat.utils.sft INFO    : Loading 1 SFTs from H1...\n",
      "25-07-20 02:19:05.981 pyfstat.utils.sft INFO    : Loading 1 SFTs from H1...\n",
      "25-07-20 02:19:05.989 pyfstat.utils.sft INFO    : Loading 1 SFTs from H1...\n",
      "25-07-20 02:19:05.998 pyfstat.utils.sft INFO    : Loading 1 SFTs from H1...\n",
      "25-07-20 02:19:06.006 pyfstat.utils.sft INFO    : Loading 1 SFTs from H1...\n",
      "25-07-20 02:19:06.015 pyfstat.utils.sft INFO    : Loading 1 SFTs from H1...\n",
      "25-07-20 02:19:06.024 pyfstat.utils.sft INFO    : Loading 1 SFTs from H1...\n",
      "25-07-20 02:19:06.032 pyfstat.utils.sft INFO    : Loading 1 SFTs from H1...\n",
      "25-07-20 02:19:06.041 pyfstat.utils.sft INFO    : Loading 1 SFTs from H1...\n",
      "25-07-20 02:19:06.050 pyfstat.utils.sft INFO    : Loading 1 SFTs from H1...\n"
     ]
    },
    {
     "name": "stderr",
     "output_type": "stream",
     "text": [
      " 97%|█████████▋| 4664/4800 [00:39<00:01, 114.25it/s]"
     ]
    },
    {
     "name": "stdout",
     "output_type": "stream",
     "text": [
      "25-07-20 02:19:06.059 pyfstat.utils.sft INFO    : Loading 1 SFTs from H1...\n",
      "25-07-20 02:19:06.069 pyfstat.utils.sft INFO    : Loading 1 SFTs from H1...\n",
      "25-07-20 02:19:06.078 pyfstat.utils.sft INFO    : Loading 1 SFTs from H1...\n",
      "25-07-20 02:19:06.087 pyfstat.utils.sft INFO    : Loading 1 SFTs from H1...\n",
      "25-07-20 02:19:06.096 pyfstat.utils.sft INFO    : Loading 1 SFTs from H1...\n",
      "25-07-20 02:19:06.105 pyfstat.utils.sft INFO    : Loading 1 SFTs from H1...\n",
      "25-07-20 02:19:06.114 pyfstat.utils.sft INFO    : Loading 1 SFTs from H1...\n",
      "25-07-20 02:19:06.122 pyfstat.utils.sft INFO    : Loading 1 SFTs from H1...\n",
      "25-07-20 02:19:06.131 pyfstat.utils.sft INFO    : Loading 1 SFTs from H1...\n",
      "25-07-20 02:19:06.140 pyfstat.utils.sft INFO    : Loading 1 SFTs from H1...\n",
      "25-07-20 02:19:06.148 pyfstat.utils.sft INFO    : Loading 1 SFTs from H1...\n",
      "25-07-20 02:19:06.157 pyfstat.utils.sft INFO    : Loading 1 SFTs from H1...\n"
     ]
    },
    {
     "name": "stderr",
     "output_type": "stream",
     "text": [
      " 97%|█████████▋| 4676/4800 [00:39<00:01, 113.61it/s]"
     ]
    },
    {
     "name": "stdout",
     "output_type": "stream",
     "text": [
      "25-07-20 02:19:06.167 pyfstat.utils.sft INFO    : Loading 1 SFTs from H1...\n",
      "25-07-20 02:19:06.176 pyfstat.utils.sft INFO    : Loading 1 SFTs from H1...\n",
      "25-07-20 02:19:06.184 pyfstat.utils.sft INFO    : Loading 1 SFTs from H1...\n",
      "25-07-20 02:19:06.193 pyfstat.utils.sft INFO    : Loading 1 SFTs from H1...\n",
      "25-07-20 02:19:06.202 pyfstat.utils.sft INFO    : Loading 1 SFTs from H1...\n",
      "25-07-20 02:19:06.211 pyfstat.utils.sft INFO    : Loading 1 SFTs from H1...\n",
      "25-07-20 02:19:06.220 pyfstat.utils.sft INFO    : Loading 1 SFTs from H1...\n",
      "25-07-20 02:19:06.228 pyfstat.utils.sft INFO    : Loading 1 SFTs from H1...\n",
      "25-07-20 02:19:06.237 pyfstat.utils.sft INFO    : Loading 1 SFTs from H1...\n",
      "25-07-20 02:19:06.246 pyfstat.utils.sft INFO    : Loading 1 SFTs from H1...\n",
      "25-07-20 02:19:06.254 pyfstat.utils.sft INFO    : Loading 1 SFTs from H1...\n",
      "25-07-20 02:19:06.263 pyfstat.utils.sft INFO    : Loading 1 SFTs from H1...\n"
     ]
    },
    {
     "name": "stderr",
     "output_type": "stream",
     "text": [
      " 98%|█████████▊| 4688/4800 [00:39<00:00, 113.39it/s]"
     ]
    },
    {
     "name": "stdout",
     "output_type": "stream",
     "text": [
      "25-07-20 02:19:06.273 pyfstat.utils.sft INFO    : Loading 1 SFTs from H1...\n",
      "25-07-20 02:19:06.281 pyfstat.utils.sft INFO    : Loading 1 SFTs from H1...\n",
      "25-07-20 02:19:06.290 pyfstat.utils.sft INFO    : Loading 1 SFTs from H1...\n",
      "25-07-20 02:19:06.299 pyfstat.utils.sft INFO    : Loading 1 SFTs from H1...\n",
      "25-07-20 02:19:06.308 pyfstat.utils.sft INFO    : Loading 1 SFTs from H1...\n",
      "25-07-20 02:19:06.316 pyfstat.utils.sft INFO    : Loading 1 SFTs from H1...\n",
      "25-07-20 02:19:06.325 pyfstat.utils.sft INFO    : Loading 1 SFTs from H1...\n",
      "25-07-20 02:19:06.334 pyfstat.utils.sft INFO    : Loading 1 SFTs from H1...\n",
      "25-07-20 02:19:06.342 pyfstat.utils.sft INFO    : Loading 1 SFTs from H1...\n",
      "25-07-20 02:19:06.351 pyfstat.utils.sft INFO    : Loading 1 SFTs from H1...\n",
      "25-07-20 02:19:06.360 pyfstat.utils.sft INFO    : Loading 1 SFTs from H1...\n",
      "25-07-20 02:19:06.369 pyfstat.utils.sft INFO    : Loading 1 SFTs from H1...\n"
     ]
    },
    {
     "name": "stderr",
     "output_type": "stream",
     "text": [
      " 98%|█████████▊| 4700/4800 [00:40<00:00, 113.51it/s]"
     ]
    },
    {
     "name": "stdout",
     "output_type": "stream",
     "text": [
      "25-07-20 02:19:06.380 pyfstat.utils.sft INFO    : Loading 1 SFTs from H1...\n",
      "25-07-20 02:19:06.390 pyfstat.utils.sft INFO    : Loading 1 SFTs from H1...\n",
      "25-07-20 02:19:06.399 pyfstat.utils.sft INFO    : Loading 1 SFTs from H1...\n",
      "25-07-20 02:19:06.407 pyfstat.utils.sft INFO    : Loading 1 SFTs from H1...\n",
      "25-07-20 02:19:06.415 pyfstat.utils.sft INFO    : Loading 1 SFTs from H1...\n",
      "25-07-20 02:19:06.424 pyfstat.utils.sft INFO    : Loading 1 SFTs from H1...\n",
      "25-07-20 02:19:06.432 pyfstat.utils.sft INFO    : Loading 1 SFTs from H1...\n",
      "25-07-20 02:19:06.440 pyfstat.utils.sft INFO    : Loading 1 SFTs from H1...\n",
      "25-07-20 02:19:06.448 pyfstat.utils.sft INFO    : Loading 1 SFTs from H1...\n",
      "25-07-20 02:19:06.456 pyfstat.utils.sft INFO    : Loading 1 SFTs from H1...\n",
      "25-07-20 02:19:06.464 pyfstat.utils.sft INFO    : Loading 1 SFTs from H1...\n",
      "25-07-20 02:19:06.472 pyfstat.utils.sft INFO    : Loading 1 SFTs from H1...\n"
     ]
    },
    {
     "name": "stderr",
     "output_type": "stream",
     "text": [
      " 98%|█████████▊| 4712/4800 [00:40<00:00, 114.17it/s]"
     ]
    },
    {
     "name": "stdout",
     "output_type": "stream",
     "text": [
      "25-07-20 02:19:06.482 pyfstat.utils.sft INFO    : Loading 1 SFTs from H1...\n",
      "25-07-20 02:19:06.490 pyfstat.utils.sft INFO    : Loading 1 SFTs from H1...\n",
      "25-07-20 02:19:06.499 pyfstat.utils.sft INFO    : Loading 1 SFTs from H1...\n",
      "25-07-20 02:19:06.508 pyfstat.utils.sft INFO    : Loading 1 SFTs from H1...\n",
      "25-07-20 02:19:06.516 pyfstat.utils.sft INFO    : Loading 1 SFTs from H1...\n",
      "25-07-20 02:19:06.525 pyfstat.utils.sft INFO    : Loading 1 SFTs from H1...\n",
      "25-07-20 02:19:06.534 pyfstat.utils.sft INFO    : Loading 1 SFTs from H1...\n",
      "25-07-20 02:19:06.542 pyfstat.utils.sft INFO    : Loading 1 SFTs from H1...\n",
      "25-07-20 02:19:06.550 pyfstat.utils.sft INFO    : Loading 1 SFTs from H1...\n",
      "25-07-20 02:19:06.559 pyfstat.utils.sft INFO    : Loading 1 SFTs from H1...\n",
      "25-07-20 02:19:06.567 pyfstat.utils.sft INFO    : Loading 1 SFTs from H1...\n",
      "25-07-20 02:19:06.576 pyfstat.utils.sft INFO    : Loading 1 SFTs from H1...\n"
     ]
    },
    {
     "name": "stderr",
     "output_type": "stream",
     "text": [
      " 98%|█████████▊| 4724/4800 [00:40<00:00, 114.44it/s]"
     ]
    },
    {
     "name": "stdout",
     "output_type": "stream",
     "text": [
      "25-07-20 02:19:06.586 pyfstat.utils.sft INFO    : Loading 1 SFTs from H1...\n",
      "25-07-20 02:19:06.594 pyfstat.utils.sft INFO    : Loading 1 SFTs from H1...\n",
      "25-07-20 02:19:06.603 pyfstat.utils.sft INFO    : Loading 1 SFTs from H1...\n",
      "25-07-20 02:19:06.611 pyfstat.utils.sft INFO    : Loading 1 SFTs from H1...\n",
      "25-07-20 02:19:06.620 pyfstat.utils.sft INFO    : Loading 1 SFTs from H1...\n",
      "25-07-20 02:19:06.627 pyfstat.utils.sft INFO    : Loading 1 SFTs from H1...\n",
      "25-07-20 02:19:06.635 pyfstat.utils.sft INFO    : Loading 1 SFTs from H1...\n",
      "25-07-20 02:19:06.644 pyfstat.utils.sft INFO    : Loading 1 SFTs from H1...\n",
      "25-07-20 02:19:06.652 pyfstat.utils.sft INFO    : Loading 1 SFTs from H1...\n",
      "25-07-20 02:19:06.661 pyfstat.utils.sft INFO    : Loading 1 SFTs from H1...\n",
      "25-07-20 02:19:06.669 pyfstat.utils.sft INFO    : Loading 1 SFTs from H1...\n",
      "25-07-20 02:19:06.677 pyfstat.utils.sft INFO    : Loading 1 SFTs from H1...\n"
     ]
    },
    {
     "name": "stderr",
     "output_type": "stream",
     "text": [
      " 99%|█████████▊| 4736/4800 [00:40<00:00, 115.76it/s]"
     ]
    },
    {
     "name": "stdout",
     "output_type": "stream",
     "text": [
      "25-07-20 02:19:06.687 pyfstat.utils.sft INFO    : Loading 1 SFTs from H1...\n",
      "25-07-20 02:19:06.695 pyfstat.utils.sft INFO    : Loading 1 SFTs from H1...\n",
      "25-07-20 02:19:06.704 pyfstat.utils.sft INFO    : Loading 1 SFTs from H1...\n",
      "25-07-20 02:19:06.712 pyfstat.utils.sft INFO    : Loading 1 SFTs from H1...\n",
      "25-07-20 02:19:06.721 pyfstat.utils.sft INFO    : Loading 1 SFTs from H1...\n",
      "25-07-20 02:19:06.730 pyfstat.utils.sft INFO    : Loading 1 SFTs from H1...\n",
      "25-07-20 02:19:06.738 pyfstat.utils.sft INFO    : Loading 1 SFTs from H1...\n",
      "25-07-20 02:19:06.746 pyfstat.utils.sft INFO    : Loading 1 SFTs from H1...\n",
      "25-07-20 02:19:06.755 pyfstat.utils.sft INFO    : Loading 1 SFTs from H1...\n",
      "25-07-20 02:19:06.763 pyfstat.utils.sft INFO    : Loading 1 SFTs from H1...\n",
      "25-07-20 02:19:06.772 pyfstat.utils.sft INFO    : Loading 1 SFTs from H1...\n",
      "25-07-20 02:19:06.780 pyfstat.utils.sft INFO    : Loading 1 SFTs from H1...\n"
     ]
    },
    {
     "name": "stderr",
     "output_type": "stream",
     "text": [
      " 99%|█████████▉| 4748/4800 [00:40<00:00, 116.03it/s]"
     ]
    },
    {
     "name": "stdout",
     "output_type": "stream",
     "text": [
      "25-07-20 02:19:06.790 pyfstat.utils.sft INFO    : Loading 1 SFTs from H1...\n",
      "25-07-20 02:19:06.798 pyfstat.utils.sft INFO    : Loading 1 SFTs from H1...\n",
      "25-07-20 02:19:06.807 pyfstat.utils.sft INFO    : Loading 1 SFTs from H1...\n",
      "25-07-20 02:19:06.815 pyfstat.utils.sft INFO    : Loading 1 SFTs from H1...\n",
      "25-07-20 02:19:06.824 pyfstat.utils.sft INFO    : Loading 1 SFTs from H1...\n",
      "25-07-20 02:19:06.832 pyfstat.utils.sft INFO    : Loading 1 SFTs from H1...\n",
      "25-07-20 02:19:06.840 pyfstat.utils.sft INFO    : Loading 1 SFTs from H1...\n",
      "25-07-20 02:19:06.848 pyfstat.utils.sft INFO    : Loading 1 SFTs from H1...\n",
      "25-07-20 02:19:06.856 pyfstat.utils.sft INFO    : Loading 1 SFTs from H1...\n",
      "25-07-20 02:19:06.865 pyfstat.utils.sft INFO    : Loading 1 SFTs from H1...\n",
      "25-07-20 02:19:06.873 pyfstat.utils.sft INFO    : Loading 1 SFTs from H1...\n",
      "25-07-20 02:19:06.881 pyfstat.utils.sft INFO    : Loading 1 SFTs from H1...\n"
     ]
    },
    {
     "name": "stderr",
     "output_type": "stream",
     "text": [
      " 99%|█████████▉| 4760/4800 [00:40<00:00, 117.00it/s]"
     ]
    },
    {
     "name": "stdout",
     "output_type": "stream",
     "text": [
      "25-07-20 02:19:06.890 pyfstat.utils.sft INFO    : Loading 1 SFTs from H1...\n",
      "25-07-20 02:19:06.899 pyfstat.utils.sft INFO    : Loading 1 SFTs from H1...\n",
      "25-07-20 02:19:06.907 pyfstat.utils.sft INFO    : Loading 1 SFTs from H1...\n",
      "25-07-20 02:19:06.915 pyfstat.utils.sft INFO    : Loading 1 SFTs from H1...\n",
      "25-07-20 02:19:06.924 pyfstat.utils.sft INFO    : Loading 1 SFTs from H1...\n",
      "25-07-20 02:19:06.933 pyfstat.utils.sft INFO    : Loading 1 SFTs from H1...\n",
      "25-07-20 02:19:06.942 pyfstat.utils.sft INFO    : Loading 1 SFTs from H1...\n",
      "25-07-20 02:19:06.950 pyfstat.utils.sft INFO    : Loading 1 SFTs from H1...\n",
      "25-07-20 02:19:06.959 pyfstat.utils.sft INFO    : Loading 1 SFTs from H1...\n",
      "25-07-20 02:19:06.967 pyfstat.utils.sft INFO    : Loading 1 SFTs from H1...\n",
      "25-07-20 02:19:06.975 pyfstat.utils.sft INFO    : Loading 1 SFTs from H1...\n",
      "25-07-20 02:19:06.984 pyfstat.utils.sft INFO    : Loading 1 SFTs from H1...\n"
     ]
    },
    {
     "name": "stderr",
     "output_type": "stream",
     "text": [
      " 99%|█████████▉| 4772/4800 [00:40<00:00, 116.87it/s]"
     ]
    },
    {
     "name": "stdout",
     "output_type": "stream",
     "text": [
      "25-07-20 02:19:06.993 pyfstat.utils.sft INFO    : Loading 1 SFTs from H1...\n",
      "25-07-20 02:19:07.002 pyfstat.utils.sft INFO    : Loading 1 SFTs from H1...\n",
      "25-07-20 02:19:07.010 pyfstat.utils.sft INFO    : Loading 1 SFTs from H1...\n",
      "25-07-20 02:19:07.018 pyfstat.utils.sft INFO    : Loading 1 SFTs from H1...\n",
      "25-07-20 02:19:07.027 pyfstat.utils.sft INFO    : Loading 1 SFTs from H1...\n",
      "25-07-20 02:19:07.035 pyfstat.utils.sft INFO    : Loading 1 SFTs from H1...\n",
      "25-07-20 02:19:07.043 pyfstat.utils.sft INFO    : Loading 1 SFTs from H1...\n",
      "25-07-20 02:19:07.051 pyfstat.utils.sft INFO    : Loading 1 SFTs from H1...\n",
      "25-07-20 02:19:07.060 pyfstat.utils.sft INFO    : Loading 1 SFTs from H1...\n",
      "25-07-20 02:19:07.068 pyfstat.utils.sft INFO    : Loading 1 SFTs from H1...\n",
      "25-07-20 02:19:07.076 pyfstat.utils.sft INFO    : Loading 1 SFTs from H1...\n",
      "25-07-20 02:19:07.084 pyfstat.utils.sft INFO    : Loading 1 SFTs from H1...\n"
     ]
    },
    {
     "name": "stderr",
     "output_type": "stream",
     "text": [
      "100%|█████████▉| 4784/4800 [00:40<00:00, 117.78it/s]"
     ]
    },
    {
     "name": "stdout",
     "output_type": "stream",
     "text": [
      "25-07-20 02:19:07.093 pyfstat.utils.sft INFO    : Loading 1 SFTs from H1...\n",
      "25-07-20 02:19:07.102 pyfstat.utils.sft INFO    : Loading 1 SFTs from H1...\n",
      "25-07-20 02:19:07.110 pyfstat.utils.sft INFO    : Loading 1 SFTs from H1...\n",
      "25-07-20 02:19:07.118 pyfstat.utils.sft INFO    : Loading 1 SFTs from H1...\n",
      "25-07-20 02:19:07.127 pyfstat.utils.sft INFO    : Loading 1 SFTs from H1...\n",
      "25-07-20 02:19:07.135 pyfstat.utils.sft INFO    : Loading 1 SFTs from H1...\n",
      "25-07-20 02:19:07.144 pyfstat.utils.sft INFO    : Loading 1 SFTs from H1...\n",
      "25-07-20 02:19:07.153 pyfstat.utils.sft INFO    : Loading 1 SFTs from H1...\n",
      "25-07-20 02:19:07.162 pyfstat.utils.sft INFO    : Loading 1 SFTs from H1...\n",
      "25-07-20 02:19:07.170 pyfstat.utils.sft INFO    : Loading 1 SFTs from H1...\n",
      "25-07-20 02:19:07.178 pyfstat.utils.sft INFO    : Loading 1 SFTs from H1...\n",
      "25-07-20 02:19:07.187 pyfstat.utils.sft INFO    : Loading 1 SFTs from H1...\n"
     ]
    },
    {
     "name": "stderr",
     "output_type": "stream",
     "text": [
      "100%|█████████▉| 4796/4800 [00:40<00:00, 117.43it/s]"
     ]
    },
    {
     "name": "stdout",
     "output_type": "stream",
     "text": [
      "25-07-20 02:19:07.196 pyfstat.utils.sft INFO    : Loading 1 SFTs from H1...\n",
      "25-07-20 02:19:07.205 pyfstat.utils.sft INFO    : Loading 1 SFTs from H1...\n",
      "25-07-20 02:19:07.213 pyfstat.utils.sft INFO    : Loading 1 SFTs from H1...\n",
      "25-07-20 02:19:07.221 pyfstat.utils.sft INFO    : Loading 1 SFTs from H1...\n"
     ]
    },
    {
     "name": "stderr",
     "output_type": "stream",
     "text": [
      "100%|██████████| 4800/4800 [00:40<00:00, 117.21it/s]\n"
     ]
    }
   ],
   "source": [
    "\n",
    "ts = 1368970000\n",
    "Tday = 100\n",
    "timestamps, fourier_data = [], []\n",
    "for i in tqdm(range(48*Tday)):\n",
    "    tstart = ts + i * 1800\n",
    "    frequency, _timestamps, _fourier_data = get_sft_as_arrays('sfts/H-1_H1_1800SFT_simCW-{}-1800.sft'.format(tstart))\n",
    "    timestamps.append(_timestamps['H1'])\n",
    "    fourier_data.append(_fourier_data['H1'])"
   ]
  },
  {
   "cell_type": "code",
   "execution_count": 16,
   "id": "9f27005e-28fe-4efe-8edc-8972022c82eb",
   "metadata": {},
   "outputs": [],
   "source": [
    "timestamps = np.concatenate(timestamps)"
   ]
  },
  {
   "cell_type": "code",
   "execution_count": 17,
   "id": "3d3f9882-67b5-402d-8a71-0adda7e63ce3",
   "metadata": {},
   "outputs": [],
   "source": [
    "fourier_data = np.concatenate(fourier_data,axis=1)"
   ]
  },
  {
   "cell_type": "code",
   "execution_count": 18,
   "id": "5afc4e9e-6f9a-4289-a627-33f72ad3cdcc",
   "metadata": {},
   "outputs": [
    {
     "data": {
      "image/png": "[encoded data removed]",
      "text/plain": [
       "<Figure size 1600x1000 with 2 Axes>"
      ]
     },
     "metadata": {},
     "output_type": "display_data"
    }
   ],
   "source": [
    "idx = np.where((frequency<22)*(frequency>20))[0]\n",
    "data1 = fourier_data.real ** 2 + fourier_data.imag ** 2\n",
    "\n",
    "fig, ax = plot_spectrograms(\n",
    "    timestamps, frequency[idx], data1[idx],\n",
    ");\n"
   ]
  },
  {
   "cell_type": "code",
   "execution_count": null,
   "id": "d0c2859f-bf82-40b1-bbf8-c28fc1473a6e",
   "metadata": {},
   "outputs": [],
   "source": []
  }
 ],
 "metadata": {
  "kernelspec": {
   "display_name": "glitch",
   "language": "python",
   "name": "glitch"
  },
  "language_info": {
   "codemirror_mode": {
    "name": "ipython",
    "version": 3
   },
   "file_extension": ".py",
   "mimetype": "text/x-python",
   "name": "python",
   "nbconvert_exporter": "python",
   "pygments_lexer": "ipython3",
   "version": "3.10.16"
  }
 },
 "nbformat": 4,
 "nbformat_minor": 5
}
