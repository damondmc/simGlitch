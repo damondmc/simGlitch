{
 "cells": [
  {
   "cell_type": "code",
   "execution_count": 1,
   "id": "92c7a07a-9fbf-4126-9cac-ae09d92ac32e",
   "metadata": {},
   "outputs": [
    {
     "name": "stdout",
     "output_type": "stream",
     "text": [
      "25-07-20 02:00:13.526 pyfstat INFO    : Running PyFstat version 2.2.1+3.6fbce518.dirty\n"
     ]
    },
    {
     "name": "stderr",
     "output_type": "stream",
     "text": [
      "/home/hoitim.cheung/.conda/envs/glitch/lib/python3.10/site-packages/PyFstat-2.2.1+3.6fbce518.dirty-py3.10.egg/pyfstat/core.py:13: UserWarning: Wswiglal-redir-stdio:\n",
      "\n",
      "SWIGLAL standard output/error redirection is enabled in IPython.\n",
      "This may lead to performance penalties. To disable locally, use:\n",
      "\n",
      "with lal.no_swig_redirect_standard_output_error():\n",
      "    ...\n",
      "\n",
      "To disable globally, use:\n",
      "\n",
      "lal.swig_redirect_standard_output_error(False)\n",
      "\n",
      "Note however that this will likely lead to error messages from\n",
      "LAL functions being either misdirected or lost when called from\n",
      "Jupyter notebooks.\n",
      "\n",
      "To suppress this warning, use:\n",
      "\n",
      "import warnings\n",
      "warnings.filterwarnings(\"ignore\", \"Wswiglal-redir-stdio\")\n",
      "import lal\n",
      "\n",
      "  import lal\n"
     ]
    },
    {
     "name": "stdout",
     "output_type": "stream",
     "text": [
      "25-07-20 02:00:17.064 pyfstat.utils.importing INFO    : No $DISPLAY environment variable found, so importing matplotlib.pyplot with non-interactive 'Agg' backend.\n"
     ]
    }
   ],
   "source": [
    "import os\n",
    "from tqdm import tqdm\n",
    "import numpy as np\n",
    "\n",
    "from pyfstat import GlitchWriter, Writer\n",
    "from pyfstat.utils import get_sft_as_arrays\n",
    "import matplotlib.pyplot as plt\n",
    "from matplotlib import colors\n",
    "\n",
    "%matplotlib inline\n",
    "\n",
    "plt.rcParams[\"font.family\"] = \"serif\"\n",
    "plt.rcParams[\"font.size\"] = 20\n",
    "\n",
    "\n",
    "def normalize_array_with_nan(arr):\n",
    "    \"\"\"\n",
    "    Normalizes a 2D array while ignoring NaN values.\n",
    "    \n",
    "    Parameters:\n",
    "    arr (np.ndarray): Input 2D array with shape (m, n)\n",
    "    \n",
    "    Returns:\n",
    "    np.ndarray: Normalized array with NaN values preserved\n",
    "    \"\"\"\n",
    "    # Compute mean and standard deviation, ignoring NaN values\n",
    "    max = np.nanmax(arr)\n",
    "    min = np.nanmin(arr)\n",
    "    \n",
    "    # Normalize the array, keeping NaN values as they are\n",
    "    normalized_arr = (arr - min)/(max-min)\n",
    "    \n",
    "    return normalized_arr\n",
    "\n",
    "def plot_spectrograms(timestamps, frequency, fourier_data):\n",
    "    fig, axs = plt.subplots(1, 1, figsize=(16, 10))\n",
    "    axs = [axs]\n",
    "    for ax in axs:\n",
    "        ax.set(xlabel=\"Days\", ylabel=\"Frequency [Hz]\")\n",
    "\n",
    "    time_in_days = (timestamps - timestamps[0]) / 86400\n",
    "\n",
    "    axs[0].set_title(\"H1\")\n",
    "    c = axs[0].pcolormesh(\n",
    "        time_in_days,\n",
    "        frequency,\n",
    "        fourier_data,\n",
    "        norm=colors.CenteredNorm(),\n",
    "    )\n",
    "    fig.colorbar(c, ax=axs[0], orientation=\"horizontal\", label=\"Fourier Amplitude\")\n",
    "    return fig, axs\n",
    "\n",
    "\n",
    "\n",
    "label = \"test\"\n",
    "outdir = os.path.join(\"testdata\", label)\n"
   ]
  },
  {
   "cell_type": "code",
   "execution_count": null,
   "id": "46f5fa38-0f01-4462-b344-bbbc763d3bc3",
   "metadata": {
    "scrolled": true,
    "tags": []
   },
   "outputs": [
    {
     "name": "stderr",
     "output_type": "stream",
     "text": [
      "  0%|          | 0/19200 [00:00<?, ?it/s]"
     ]
    },
    {
     "name": "stdout",
     "output_type": "stream",
     "text": [
      "25-07-20 12:31:38.047 pyfstat.utils.sft INFO    : Loading 1 SFTs from H1...\n"
     ]
    },
    {
     "name": "stderr",
     "output_type": "stream",
     "text": [
      "  0%|          | 1/19200 [00:00<1:00:20,  5.30it/s]"
     ]
    },
    {
     "name": "stdout",
     "output_type": "stream",
     "text": [
      "25-07-20 12:31:38.126 pyfstat.utils.sft INFO    : Loading 1 SFTs from H1...\n",
      "25-07-20 12:31:38.136 pyfstat.utils.sft INFO    : Loading 1 SFTs from H1...\n",
      "25-07-20 12:31:38.146 pyfstat.utils.sft INFO    : Loading 1 SFTs from H1...\n",
      "25-07-20 12:31:38.157 pyfstat.utils.sft INFO    : Loading 1 SFTs from H1...\n",
      "25-07-20 12:31:38.167 pyfstat.utils.sft INFO    : Loading 1 SFTs from H1...\n",
      "25-07-20 12:31:38.177 pyfstat.utils.sft INFO    : Loading 1 SFTs from H1...\n",
      "25-07-20 12:31:38.186 pyfstat.utils.sft INFO    : Loading 1 SFTs from H1...\n",
      "25-07-20 12:31:38.196 pyfstat.utils.sft INFO    : Loading 1 SFTs from H1...\n",
      "25-07-20 12:31:38.206 pyfstat.utils.sft INFO    : Loading 1 SFTs from H1...\n",
      "25-07-20 12:31:38.216 pyfstat.utils.sft INFO    : Loading 1 SFTs from H1...\n"
     ]
    },
    {
     "name": "stderr",
     "output_type": "stream",
     "text": [
      "  0%|          | 11/19200 [00:00<06:57, 45.95it/s] "
     ]
    },
    {
     "name": "stdout",
     "output_type": "stream",
     "text": [
      "25-07-20 12:31:38.226 pyfstat.utils.sft INFO    : Loading 1 SFTs from H1...\n",
      "25-07-20 12:31:38.237 pyfstat.utils.sft INFO    : Loading 1 SFTs from H1...\n",
      "25-07-20 12:31:38.246 pyfstat.utils.sft INFO    : Loading 1 SFTs from H1...\n",
      "25-07-20 12:31:38.256 pyfstat.utils.sft INFO    : Loading 1 SFTs from H1...\n",
      "25-07-20 12:31:38.265 pyfstat.utils.sft INFO    : Loading 1 SFTs from H1...\n",
      "25-07-20 12:31:38.275 pyfstat.utils.sft INFO    : Loading 1 SFTs from H1...\n",
      "25-07-20 12:31:38.285 pyfstat.utils.sft INFO    : Loading 1 SFTs from H1...\n",
      "25-07-20 12:31:38.295 pyfstat.utils.sft INFO    : Loading 1 SFTs from H1...\n",
      "25-07-20 12:31:38.304 pyfstat.utils.sft INFO    : Loading 1 SFTs from H1...\n",
      "25-07-20 12:31:38.314 pyfstat.utils.sft INFO    : Loading 1 SFTs from H1...\n",
      "25-07-20 12:31:38.324 pyfstat.utils.sft INFO    : Loading 1 SFTs from H1...\n"
     ]
    },
    {
     "name": "stderr",
     "output_type": "stream",
     "text": [
      "  0%|          | 22/19200 [00:00<04:41, 68.13it/s]"
     ]
    },
    {
     "name": "stdout",
     "output_type": "stream",
     "text": [
      "25-07-20 12:31:38.335 pyfstat.utils.sft INFO    : Loading 1 SFTs from H1...\n",
      "25-07-20 12:31:38.345 pyfstat.utils.sft INFO    : Loading 1 SFTs from H1...\n",
      "25-07-20 12:31:38.354 pyfstat.utils.sft INFO    : Loading 1 SFTs from H1...\n",
      "25-07-20 12:31:38.364 pyfstat.utils.sft INFO    : Loading 1 SFTs from H1...\n",
      "25-07-20 12:31:38.374 pyfstat.utils.sft INFO    : Loading 1 SFTs from H1...\n",
      "25-07-20 12:31:38.385 pyfstat.utils.sft INFO    : Loading 1 SFTs from H1...\n",
      "25-07-20 12:31:38.395 pyfstat.utils.sft INFO    : Loading 1 SFTs from H1...\n",
      "25-07-20 12:31:38.404 pyfstat.utils.sft INFO    : Loading 1 SFTs from H1...\n",
      "25-07-20 12:31:38.414 pyfstat.utils.sft INFO    : Loading 1 SFTs from H1...\n",
      "25-07-20 12:31:38.424 pyfstat.utils.sft INFO    : Loading 1 SFTs from H1...\n",
      "25-07-20 12:31:38.433 pyfstat.utils.sft INFO    : Loading 1 SFTs from H1...\n"
     ]
    },
    {
     "name": "stderr",
     "output_type": "stream",
     "text": [
      "  0%|          | 33/19200 [00:00<03:59, 80.09it/s]"
     ]
    },
    {
     "name": "stdout",
     "output_type": "stream",
     "text": [
      "25-07-20 12:31:38.444 pyfstat.utils.sft INFO    : Loading 1 SFTs from H1...\n",
      "25-07-20 12:31:38.454 pyfstat.utils.sft INFO    : Loading 1 SFTs from H1...\n",
      "25-07-20 12:31:38.464 pyfstat.utils.sft INFO    : Loading 1 SFTs from H1...\n",
      "25-07-20 12:31:38.473 pyfstat.utils.sft INFO    : Loading 1 SFTs from H1...\n",
      "25-07-20 12:31:38.483 pyfstat.utils.sft INFO    : Loading 1 SFTs from H1...\n",
      "25-07-20 12:31:38.493 pyfstat.utils.sft INFO    : Loading 1 SFTs from H1...\n",
      "25-07-20 12:31:38.503 pyfstat.utils.sft INFO    : Loading 1 SFTs from H1...\n",
      "25-07-20 12:31:38.512 pyfstat.utils.sft INFO    : Loading 1 SFTs from H1...\n",
      "25-07-20 12:31:38.522 pyfstat.utils.sft INFO    : Loading 1 SFTs from H1...\n",
      "25-07-20 12:31:38.531 pyfstat.utils.sft INFO    : Loading 1 SFTs from H1...\n",
      "25-07-20 12:31:38.541 pyfstat.utils.sft INFO    : Loading 1 SFTs from H1...\n"
     ]
    },
    {
     "name": "stderr",
     "output_type": "stream",
     "text": [
      "  0%|          | 44/19200 [00:00<03:38, 87.50it/s]"
     ]
    },
    {
     "name": "stdout",
     "output_type": "stream",
     "text": [
      "25-07-20 12:31:38.552 pyfstat.utils.sft INFO    : Loading 1 SFTs from H1...\n",
      "25-07-20 12:31:38.562 pyfstat.utils.sft INFO    : Loading 1 SFTs from H1...\n",
      "25-07-20 12:31:38.571 pyfstat.utils.sft INFO    : Loading 1 SFTs from H1...\n",
      "25-07-20 12:31:38.581 pyfstat.utils.sft INFO    : Loading 1 SFTs from H1...\n",
      "25-07-20 12:31:38.590 pyfstat.utils.sft INFO    : Loading 1 SFTs from H1...\n",
      "25-07-20 12:31:38.600 pyfstat.utils.sft INFO    : Loading 1 SFTs from H1...\n",
      "25-07-20 12:31:38.610 pyfstat.utils.sft INFO    : Loading 1 SFTs from H1...\n",
      "25-07-20 12:31:38.619 pyfstat.utils.sft INFO    : Loading 1 SFTs from H1...\n",
      "25-07-20 12:31:38.628 pyfstat.utils.sft INFO    : Loading 1 SFTs from H1...\n",
      "25-07-20 12:31:38.638 pyfstat.utils.sft INFO    : Loading 1 SFTs from H1...\n",
      "25-07-20 12:31:38.648 pyfstat.utils.sft INFO    : Loading 1 SFTs from H1...\n"
     ]
    },
    {
     "name": "stderr",
     "output_type": "stream",
     "text": [
      "  0%|          | 55/19200 [00:00<03:26, 92.60it/s]"
     ]
    },
    {
     "name": "stdout",
     "output_type": "stream",
     "text": [
      "25-07-20 12:31:38.658 pyfstat.utils.sft INFO    : Loading 1 SFTs from H1...\n",
      "25-07-20 12:31:38.668 pyfstat.utils.sft INFO    : Loading 1 SFTs from H1...\n",
      "25-07-20 12:31:38.678 pyfstat.utils.sft INFO    : Loading 1 SFTs from H1...\n",
      "25-07-20 12:31:38.687 pyfstat.utils.sft INFO    : Loading 1 SFTs from H1...\n",
      "25-07-20 12:31:38.697 pyfstat.utils.sft INFO    : Loading 1 SFTs from H1...\n",
      "25-07-20 12:31:38.708 pyfstat.utils.sft INFO    : Loading 1 SFTs from H1...\n",
      "25-07-20 12:31:38.718 pyfstat.utils.sft INFO    : Loading 1 SFTs from H1...\n",
      "25-07-20 12:31:38.728 pyfstat.utils.sft INFO    : Loading 1 SFTs from H1...\n",
      "25-07-20 12:31:38.737 pyfstat.utils.sft INFO    : Loading 1 SFTs from H1...\n",
      "25-07-20 12:31:38.747 pyfstat.utils.sft INFO    : Loading 1 SFTs from H1...\n",
      "25-07-20 12:31:38.757 pyfstat.utils.sft INFO    : Loading 1 SFTs from H1...\n"
     ]
    },
    {
     "name": "stderr",
     "output_type": "stream",
     "text": [
      "  0%|          | 66/19200 [00:00<03:20, 95.37it/s]"
     ]
    },
    {
     "name": "stdout",
     "output_type": "stream",
     "text": [
      "25-07-20 12:31:38.767 pyfstat.utils.sft INFO    : Loading 1 SFTs from H1...\n",
      "25-07-20 12:31:38.777 pyfstat.utils.sft INFO    : Loading 1 SFTs from H1...\n",
      "25-07-20 12:31:38.787 pyfstat.utils.sft INFO    : Loading 1 SFTs from H1...\n",
      "25-07-20 12:31:38.796 pyfstat.utils.sft INFO    : Loading 1 SFTs from H1...\n",
      "25-07-20 12:31:38.806 pyfstat.utils.sft INFO    : Loading 1 SFTs from H1...\n",
      "25-07-20 12:31:38.816 pyfstat.utils.sft INFO    : Loading 1 SFTs from H1...\n",
      "25-07-20 12:31:38.827 pyfstat.utils.sft INFO    : Loading 1 SFTs from H1...\n",
      "25-07-20 12:31:38.836 pyfstat.utils.sft INFO    : Loading 1 SFTs from H1...\n",
      "25-07-20 12:31:38.846 pyfstat.utils.sft INFO    : Loading 1 SFTs from H1...\n",
      "25-07-20 12:31:38.856 pyfstat.utils.sft INFO    : Loading 1 SFTs from H1...\n",
      "25-07-20 12:31:38.865 pyfstat.utils.sft INFO    : Loading 1 SFTs from H1...\n"
     ]
    },
    {
     "name": "stderr",
     "output_type": "stream",
     "text": [
      "  0%|          | 77/19200 [00:00<03:16, 97.31it/s]"
     ]
    },
    {
     "name": "stdout",
     "output_type": "stream",
     "text": [
      "25-07-20 12:31:38.875 pyfstat.utils.sft INFO    : Loading 1 SFTs from H1...\n",
      "25-07-20 12:31:38.885 pyfstat.utils.sft INFO    : Loading 1 SFTs from H1...\n",
      "25-07-20 12:31:38.894 pyfstat.utils.sft INFO    : Loading 1 SFTs from H1...\n",
      "25-07-20 12:31:38.904 pyfstat.utils.sft INFO    : Loading 1 SFTs from H1...\n",
      "25-07-20 12:31:38.914 pyfstat.utils.sft INFO    : Loading 1 SFTs from H1...\n",
      "25-07-20 12:31:38.924 pyfstat.utils.sft INFO    : Loading 1 SFTs from H1...\n",
      "25-07-20 12:31:38.934 pyfstat.utils.sft INFO    : Loading 1 SFTs from H1...\n",
      "25-07-20 12:31:38.944 pyfstat.utils.sft INFO    : Loading 1 SFTs from H1...\n",
      "25-07-20 12:31:38.954 pyfstat.utils.sft INFO    : Loading 1 SFTs from H1...\n",
      "25-07-20 12:31:38.964 pyfstat.utils.sft INFO    : Loading 1 SFTs from H1...\n",
      "25-07-20 12:31:38.974 pyfstat.utils.sft INFO    : Loading 1 SFTs from H1...\n"
     ]
    },
    {
     "name": "stderr",
     "output_type": "stream",
     "text": [
      "  0%|          | 88/19200 [00:01<03:14, 98.39it/s]"
     ]
    },
    {
     "name": "stdout",
     "output_type": "stream",
     "text": [
      "25-07-20 12:31:38.984 pyfstat.utils.sft INFO    : Loading 1 SFTs from H1...\n",
      "25-07-20 12:31:38.994 pyfstat.utils.sft INFO    : Loading 1 SFTs from H1...\n",
      "25-07-20 12:31:39.004 pyfstat.utils.sft INFO    : Loading 1 SFTs from H1...\n",
      "25-07-20 12:31:39.013 pyfstat.utils.sft INFO    : Loading 1 SFTs from H1...\n",
      "25-07-20 12:31:39.023 pyfstat.utils.sft INFO    : Loading 1 SFTs from H1...\n",
      "25-07-20 12:31:39.032 pyfstat.utils.sft INFO    : Loading 1 SFTs from H1...\n",
      "25-07-20 12:31:39.042 pyfstat.utils.sft INFO    : Loading 1 SFTs from H1...\n",
      "25-07-20 12:31:39.051 pyfstat.utils.sft INFO    : Loading 1 SFTs from H1...\n",
      "25-07-20 12:31:39.061 pyfstat.utils.sft INFO    : Loading 1 SFTs from H1...\n",
      "25-07-20 12:31:39.071 pyfstat.utils.sft INFO    : Loading 1 SFTs from H1...\n",
      "25-07-20 12:31:39.082 pyfstat.utils.sft INFO    : Loading 1 SFTs from H1...\n"
     ]
    },
    {
     "name": "stderr",
     "output_type": "stream",
     "text": [
      "  1%|          | 99/19200 [00:01<03:11, 99.49it/s]"
     ]
    },
    {
     "name": "stdout",
     "output_type": "stream",
     "text": [
      "25-07-20 12:31:39.092 pyfstat.utils.sft INFO    : Loading 1 SFTs from H1...\n",
      "25-07-20 12:31:39.103 pyfstat.utils.sft INFO    : Loading 1 SFTs from H1...\n",
      "25-07-20 12:31:39.113 pyfstat.utils.sft INFO    : Loading 1 SFTs from H1...\n",
      "25-07-20 12:31:39.123 pyfstat.utils.sft INFO    : Loading 1 SFTs from H1...\n",
      "25-07-20 12:31:39.132 pyfstat.utils.sft INFO    : Loading 1 SFTs from H1...\n",
      "25-07-20 12:31:39.143 pyfstat.utils.sft INFO    : Loading 1 SFTs from H1...\n",
      "25-07-20 12:31:39.153 pyfstat.utils.sft INFO    : Loading 1 SFTs from H1...\n",
      "25-07-20 12:31:39.164 pyfstat.utils.sft INFO    : Loading 1 SFTs from H1...\n",
      "25-07-20 12:31:39.174 pyfstat.utils.sft INFO    : Loading 1 SFTs from H1...\n",
      "25-07-20 12:31:39.184 pyfstat.utils.sft INFO    : Loading 1 SFTs from H1...\n",
      "25-07-20 12:31:39.194 pyfstat.utils.sft INFO    : Loading 1 SFTs from H1...\n"
     ]
    },
    {
     "name": "stderr",
     "output_type": "stream",
     "text": [
      "  1%|          | 110/19200 [00:01<03:12, 99.02it/s]"
     ]
    },
    {
     "name": "stdout",
     "output_type": "stream",
     "text": [
      "25-07-20 12:31:39.205 pyfstat.utils.sft INFO    : Loading 1 SFTs from H1...\n",
      "25-07-20 12:31:39.215 pyfstat.utils.sft INFO    : Loading 1 SFTs from H1...\n",
      "25-07-20 12:31:39.225 pyfstat.utils.sft INFO    : Loading 1 SFTs from H1...\n",
      "25-07-20 12:31:39.235 pyfstat.utils.sft INFO    : Loading 1 SFTs from H1...\n",
      "25-07-20 12:31:39.245 pyfstat.utils.sft INFO    : Loading 1 SFTs from H1...\n",
      "25-07-20 12:31:39.255 pyfstat.utils.sft INFO    : Loading 1 SFTs from H1...\n",
      "25-07-20 12:31:39.265 pyfstat.utils.sft INFO    : Loading 1 SFTs from H1...\n",
      "25-07-20 12:31:39.275 pyfstat.utils.sft INFO    : Loading 1 SFTs from H1...\n",
      "25-07-20 12:31:39.285 pyfstat.utils.sft INFO    : Loading 1 SFTs from H1...\n",
      "25-07-20 12:31:39.295 pyfstat.utils.sft INFO    : Loading 1 SFTs from H1...\n"
     ]
    },
    {
     "name": "stderr",
     "output_type": "stream",
     "text": [
      "  1%|          | 120/19200 [00:01<03:12, 98.97it/s]"
     ]
    },
    {
     "name": "stdout",
     "output_type": "stream",
     "text": [
      "25-07-20 12:31:39.306 pyfstat.utils.sft INFO    : Loading 1 SFTs from H1...\n",
      "25-07-20 12:31:39.316 pyfstat.utils.sft INFO    : Loading 1 SFTs from H1...\n",
      "25-07-20 12:31:39.326 pyfstat.utils.sft INFO    : Loading 1 SFTs from H1...\n",
      "25-07-20 12:31:39.336 pyfstat.utils.sft INFO    : Loading 1 SFTs from H1...\n",
      "25-07-20 12:31:39.346 pyfstat.utils.sft INFO    : Loading 1 SFTs from H1...\n",
      "25-07-20 12:31:39.355 pyfstat.utils.sft INFO    : Loading 1 SFTs from H1...\n",
      "25-07-20 12:31:39.364 pyfstat.utils.sft INFO    : Loading 1 SFTs from H1...\n",
      "25-07-20 12:31:39.372 pyfstat.utils.sft INFO    : Loading 1 SFTs from H1...\n",
      "25-07-20 12:31:39.382 pyfstat.utils.sft INFO    : Loading 1 SFTs from H1...\n",
      "25-07-20 12:31:39.391 pyfstat.utils.sft INFO    : Loading 1 SFTs from H1...\n",
      "25-07-20 12:31:39.400 pyfstat.utils.sft INFO    : Loading 1 SFTs from H1...\n"
     ]
    },
    {
     "name": "stderr",
     "output_type": "stream",
     "text": [
      "  1%|          | 131/19200 [00:01<03:08, 100.98it/s]"
     ]
    },
    {
     "name": "stdout",
     "output_type": "stream",
     "text": [
      "25-07-20 12:31:39.410 pyfstat.utils.sft INFO    : Loading 1 SFTs from H1...\n",
      "25-07-20 12:31:39.419 pyfstat.utils.sft INFO    : Loading 1 SFTs from H1...\n",
      "25-07-20 12:31:39.428 pyfstat.utils.sft INFO    : Loading 1 SFTs from H1...\n",
      "25-07-20 12:31:39.437 pyfstat.utils.sft INFO    : Loading 1 SFTs from H1...\n",
      "25-07-20 12:31:39.446 pyfstat.utils.sft INFO    : Loading 1 SFTs from H1...\n",
      "25-07-20 12:31:39.455 pyfstat.utils.sft INFO    : Loading 1 SFTs from H1...\n",
      "25-07-20 12:31:39.465 pyfstat.utils.sft INFO    : Loading 1 SFTs from H1...\n",
      "25-07-20 12:31:39.474 pyfstat.utils.sft INFO    : Loading 1 SFTs from H1...\n",
      "25-07-20 12:31:39.484 pyfstat.utils.sft INFO    : Loading 1 SFTs from H1...\n",
      "25-07-20 12:31:39.494 pyfstat.utils.sft INFO    : Loading 1 SFTs from H1...\n",
      "25-07-20 12:31:39.504 pyfstat.utils.sft INFO    : Loading 1 SFTs from H1...\n"
     ]
    },
    {
     "name": "stderr",
     "output_type": "stream",
     "text": [
      "  1%|          | 142/19200 [00:01<03:06, 102.35it/s]"
     ]
    },
    {
     "name": "stdout",
     "output_type": "stream",
     "text": [
      "25-07-20 12:31:39.514 pyfstat.utils.sft INFO    : Loading 1 SFTs from H1...\n",
      "25-07-20 12:31:39.524 pyfstat.utils.sft INFO    : Loading 1 SFTs from H1...\n",
      "25-07-20 12:31:39.533 pyfstat.utils.sft INFO    : Loading 1 SFTs from H1...\n",
      "25-07-20 12:31:39.542 pyfstat.utils.sft INFO    : Loading 1 SFTs from H1...\n",
      "25-07-20 12:31:39.551 pyfstat.utils.sft INFO    : Loading 1 SFTs from H1...\n",
      "25-07-20 12:31:39.560 pyfstat.utils.sft INFO    : Loading 1 SFTs from H1...\n",
      "25-07-20 12:31:39.569 pyfstat.utils.sft INFO    : Loading 1 SFTs from H1...\n",
      "25-07-20 12:31:39.578 pyfstat.utils.sft INFO    : Loading 1 SFTs from H1...\n",
      "25-07-20 12:31:39.588 pyfstat.utils.sft INFO    : Loading 1 SFTs from H1...\n",
      "25-07-20 12:31:39.597 pyfstat.utils.sft INFO    : Loading 1 SFTs from H1...\n",
      "25-07-20 12:31:39.606 pyfstat.utils.sft INFO    : Loading 1 SFTs from H1...\n"
     ]
    },
    {
     "name": "stderr",
     "output_type": "stream",
     "text": [
      "  1%|          | 153/19200 [00:01<03:03, 103.94it/s]"
     ]
    },
    {
     "name": "stdout",
     "output_type": "stream",
     "text": [
      "25-07-20 12:31:39.616 pyfstat.utils.sft INFO    : Loading 1 SFTs from H1...\n",
      "25-07-20 12:31:39.625 pyfstat.utils.sft INFO    : Loading 1 SFTs from H1...\n",
      "25-07-20 12:31:39.634 pyfstat.utils.sft INFO    : Loading 1 SFTs from H1...\n",
      "25-07-20 12:31:39.643 pyfstat.utils.sft INFO    : Loading 1 SFTs from H1...\n",
      "25-07-20 12:31:39.653 pyfstat.utils.sft INFO    : Loading 1 SFTs from H1...\n",
      "25-07-20 12:31:39.662 pyfstat.utils.sft INFO    : Loading 1 SFTs from H1...\n",
      "25-07-20 12:31:39.671 pyfstat.utils.sft INFO    : Loading 1 SFTs from H1...\n",
      "25-07-20 12:31:39.679 pyfstat.utils.sft INFO    : Loading 1 SFTs from H1...\n",
      "25-07-20 12:31:39.688 pyfstat.utils.sft INFO    : Loading 1 SFTs from H1...\n",
      "25-07-20 12:31:39.697 pyfstat.utils.sft INFO    : Loading 1 SFTs from H1...\n",
      "25-07-20 12:31:39.706 pyfstat.utils.sft INFO    : Loading 1 SFTs from H1...\n"
     ]
    },
    {
     "name": "stderr",
     "output_type": "stream",
     "text": [
      "  1%|          | 164/19200 [00:01<03:00, 105.57it/s]"
     ]
    },
    {
     "name": "stdout",
     "output_type": "stream",
     "text": [
      "25-07-20 12:31:39.717 pyfstat.utils.sft INFO    : Loading 1 SFTs from H1...\n",
      "25-07-20 12:31:39.726 pyfstat.utils.sft INFO    : Loading 1 SFTs from H1...\n",
      "25-07-20 12:31:39.735 pyfstat.utils.sft INFO    : Loading 1 SFTs from H1...\n",
      "25-07-20 12:31:39.745 pyfstat.utils.sft INFO    : Loading 1 SFTs from H1...\n",
      "25-07-20 12:31:39.754 pyfstat.utils.sft INFO    : Loading 1 SFTs from H1...\n",
      "25-07-20 12:31:39.764 pyfstat.utils.sft INFO    : Loading 1 SFTs from H1...\n",
      "25-07-20 12:31:39.773 pyfstat.utils.sft INFO    : Loading 1 SFTs from H1...\n",
      "25-07-20 12:31:39.783 pyfstat.utils.sft INFO    : Loading 1 SFTs from H1...\n",
      "25-07-20 12:31:39.792 pyfstat.utils.sft INFO    : Loading 1 SFTs from H1...\n",
      "25-07-20 12:31:39.802 pyfstat.utils.sft INFO    : Loading 1 SFTs from H1...\n",
      "25-07-20 12:31:39.811 pyfstat.utils.sft INFO    : Loading 1 SFTs from H1...\n"
     ]
    },
    {
     "name": "stderr",
     "output_type": "stream",
     "text": [
      "  1%|          | 175/19200 [00:01<03:00, 105.28it/s]"
     ]
    },
    {
     "name": "stdout",
     "output_type": "stream",
     "text": [
      "25-07-20 12:31:39.822 pyfstat.utils.sft INFO    : Loading 1 SFTs from H1...\n",
      "25-07-20 12:31:39.832 pyfstat.utils.sft INFO    : Loading 1 SFTs from H1...\n",
      "25-07-20 12:31:39.841 pyfstat.utils.sft INFO    : Loading 1 SFTs from H1...\n",
      "25-07-20 12:31:39.851 pyfstat.utils.sft INFO    : Loading 1 SFTs from H1...\n",
      "25-07-20 12:31:39.861 pyfstat.utils.sft INFO    : Loading 1 SFTs from H1...\n",
      "25-07-20 12:31:39.870 pyfstat.utils.sft INFO    : Loading 1 SFTs from H1...\n",
      "25-07-20 12:31:39.880 pyfstat.utils.sft INFO    : Loading 1 SFTs from H1...\n",
      "25-07-20 12:31:39.889 pyfstat.utils.sft INFO    : Loading 1 SFTs from H1...\n",
      "25-07-20 12:31:39.899 pyfstat.utils.sft INFO    : Loading 1 SFTs from H1...\n",
      "25-07-20 12:31:39.909 pyfstat.utils.sft INFO    : Loading 1 SFTs from H1...\n",
      "25-07-20 12:31:39.918 pyfstat.utils.sft INFO    : Loading 1 SFTs from H1...\n"
     ]
    },
    {
     "name": "stderr",
     "output_type": "stream",
     "text": [
      "  1%|          | 186/19200 [00:01<03:01, 104.71it/s]"
     ]
    },
    {
     "name": "stdout",
     "output_type": "stream",
     "text": [
      "25-07-20 12:31:39.928 pyfstat.utils.sft INFO    : Loading 1 SFTs from H1...\n",
      "25-07-20 12:31:39.938 pyfstat.utils.sft INFO    : Loading 1 SFTs from H1...\n",
      "25-07-20 12:31:39.947 pyfstat.utils.sft INFO    : Loading 1 SFTs from H1...\n",
      "25-07-20 12:31:39.957 pyfstat.utils.sft INFO    : Loading 1 SFTs from H1...\n",
      "25-07-20 12:31:39.967 pyfstat.utils.sft INFO    : Loading 1 SFTs from H1...\n",
      "25-07-20 12:31:39.977 pyfstat.utils.sft INFO    : Loading 1 SFTs from H1...\n",
      "25-07-20 12:31:39.986 pyfstat.utils.sft INFO    : Loading 1 SFTs from H1...\n",
      "25-07-20 12:31:39.996 pyfstat.utils.sft INFO    : Loading 1 SFTs from H1...\n",
      "25-07-20 12:31:40.005 pyfstat.utils.sft INFO    : Loading 1 SFTs from H1...\n",
      "25-07-20 12:31:40.015 pyfstat.utils.sft INFO    : Loading 1 SFTs from H1...\n",
      "25-07-20 12:31:40.025 pyfstat.utils.sft INFO    : Loading 1 SFTs from H1...\n"
     ]
    },
    {
     "name": "stderr",
     "output_type": "stream",
     "text": [
      "  1%|          | 197/19200 [00:02<03:02, 104.15it/s]"
     ]
    },
    {
     "name": "stdout",
     "output_type": "stream",
     "text": [
      "25-07-20 12:31:40.035 pyfstat.utils.sft INFO    : Loading 1 SFTs from H1...\n",
      "25-07-20 12:31:40.045 pyfstat.utils.sft INFO    : Loading 1 SFTs from H1...\n",
      "25-07-20 12:31:40.055 pyfstat.utils.sft INFO    : Loading 1 SFTs from H1...\n",
      "25-07-20 12:31:40.064 pyfstat.utils.sft INFO    : Loading 1 SFTs from H1...\n",
      "25-07-20 12:31:40.074 pyfstat.utils.sft INFO    : Loading 1 SFTs from H1...\n",
      "25-07-20 12:31:40.084 pyfstat.utils.sft INFO    : Loading 1 SFTs from H1...\n",
      "25-07-20 12:31:40.093 pyfstat.utils.sft INFO    : Loading 1 SFTs from H1...\n",
      "25-07-20 12:31:40.102 pyfstat.utils.sft INFO    : Loading 1 SFTs from H1...\n",
      "25-07-20 12:31:40.111 pyfstat.utils.sft INFO    : Loading 1 SFTs from H1...\n",
      "25-07-20 12:31:40.121 pyfstat.utils.sft INFO    : Loading 1 SFTs from H1...\n",
      "25-07-20 12:31:40.130 pyfstat.utils.sft INFO    : Loading 1 SFTs from H1...\n"
     ]
    },
    {
     "name": "stderr",
     "output_type": "stream",
     "text": [
      "  1%|          | 208/19200 [00:02<03:02, 104.26it/s]"
     ]
    },
    {
     "name": "stdout",
     "output_type": "stream",
     "text": [
      "25-07-20 12:31:40.140 pyfstat.utils.sft INFO    : Loading 1 SFTs from H1...\n",
      "25-07-20 12:31:40.150 pyfstat.utils.sft INFO    : Loading 1 SFTs from H1...\n",
      "25-07-20 12:31:40.160 pyfstat.utils.sft INFO    : Loading 1 SFTs from H1...\n",
      "25-07-20 12:31:40.170 pyfstat.utils.sft INFO    : Loading 1 SFTs from H1...\n",
      "25-07-20 12:31:40.179 pyfstat.utils.sft INFO    : Loading 1 SFTs from H1...\n",
      "25-07-20 12:31:40.188 pyfstat.utils.sft INFO    : Loading 1 SFTs from H1...\n",
      "25-07-20 12:31:40.197 pyfstat.utils.sft INFO    : Loading 1 SFTs from H1...\n",
      "25-07-20 12:31:40.206 pyfstat.utils.sft INFO    : Loading 1 SFTs from H1...\n",
      "25-07-20 12:31:40.215 pyfstat.utils.sft INFO    : Loading 1 SFTs from H1...\n",
      "25-07-20 12:31:40.225 pyfstat.utils.sft INFO    : Loading 1 SFTs from H1...\n",
      "25-07-20 12:31:40.235 pyfstat.utils.sft INFO    : Loading 1 SFTs from H1...\n"
     ]
    },
    {
     "name": "stderr",
     "output_type": "stream",
     "text": [
      "  1%|          | 219/19200 [00:02<03:01, 104.55it/s]"
     ]
    },
    {
     "name": "stdout",
     "output_type": "stream",
     "text": [
      "25-07-20 12:31:40.245 pyfstat.utils.sft INFO    : Loading 1 SFTs from H1...\n",
      "25-07-20 12:31:40.254 pyfstat.utils.sft INFO    : Loading 1 SFTs from H1...\n",
      "25-07-20 12:31:40.268 pyfstat.utils.sft INFO    : Loading 1 SFTs from H1...\n",
      "25-07-20 12:31:40.277 pyfstat.utils.sft INFO    : Loading 1 SFTs from H1...\n",
      "25-07-20 12:31:40.286 pyfstat.utils.sft INFO    : Loading 1 SFTs from H1...\n",
      "25-07-20 12:31:40.295 pyfstat.utils.sft INFO    : Loading 1 SFTs from H1...\n",
      "25-07-20 12:31:40.304 pyfstat.utils.sft INFO    : Loading 1 SFTs from H1...\n",
      "25-07-20 12:31:40.313 pyfstat.utils.sft INFO    : Loading 1 SFTs from H1...\n",
      "25-07-20 12:31:40.322 pyfstat.utils.sft INFO    : Loading 1 SFTs from H1...\n",
      "25-07-20 12:31:40.331 pyfstat.utils.sft INFO    : Loading 1 SFTs from H1...\n",
      "25-07-20 12:31:40.340 pyfstat.utils.sft INFO    : Loading 1 SFTs from H1...\n"
     ]
    },
    {
     "name": "stderr",
     "output_type": "stream",
     "text": [
      "  1%|          | 230/19200 [00:02<03:01, 104.56it/s]"
     ]
    },
    {
     "name": "stdout",
     "output_type": "stream",
     "text": [
      "25-07-20 12:31:40.350 pyfstat.utils.sft INFO    : Loading 1 SFTs from H1...\n",
      "25-07-20 12:31:40.360 pyfstat.utils.sft INFO    : Loading 1 SFTs from H1...\n",
      "25-07-20 12:31:40.369 pyfstat.utils.sft INFO    : Loading 1 SFTs from H1...\n",
      "25-07-20 12:31:40.379 pyfstat.utils.sft INFO    : Loading 1 SFTs from H1...\n",
      "25-07-20 12:31:40.388 pyfstat.utils.sft INFO    : Loading 1 SFTs from H1...\n",
      "25-07-20 12:31:40.397 pyfstat.utils.sft INFO    : Loading 1 SFTs from H1...\n",
      "25-07-20 12:31:40.407 pyfstat.utils.sft INFO    : Loading 1 SFTs from H1...\n",
      "25-07-20 12:31:40.416 pyfstat.utils.sft INFO    : Loading 1 SFTs from H1...\n",
      "25-07-20 12:31:40.425 pyfstat.utils.sft INFO    : Loading 1 SFTs from H1...\n",
      "25-07-20 12:31:40.435 pyfstat.utils.sft INFO    : Loading 1 SFTs from H1...\n",
      "25-07-20 12:31:40.444 pyfstat.utils.sft INFO    : Loading 1 SFTs from H1...\n"
     ]
    },
    {
     "name": "stderr",
     "output_type": "stream",
     "text": [
      "  1%|▏         | 241/19200 [00:02<03:01, 104.71it/s]"
     ]
    },
    {
     "name": "stdout",
     "output_type": "stream",
     "text": [
      "25-07-20 12:31:40.454 pyfstat.utils.sft INFO    : Loading 1 SFTs from H1...\n",
      "25-07-20 12:31:40.464 pyfstat.utils.sft INFO    : Loading 1 SFTs from H1...\n",
      "25-07-20 12:31:40.473 pyfstat.utils.sft INFO    : Loading 1 SFTs from H1...\n",
      "25-07-20 12:31:40.483 pyfstat.utils.sft INFO    : Loading 1 SFTs from H1...\n",
      "25-07-20 12:31:40.493 pyfstat.utils.sft INFO    : Loading 1 SFTs from H1...\n",
      "25-07-20 12:31:40.503 pyfstat.utils.sft INFO    : Loading 1 SFTs from H1...\n",
      "25-07-20 12:31:40.512 pyfstat.utils.sft INFO    : Loading 1 SFTs from H1...\n",
      "25-07-20 12:31:40.521 pyfstat.utils.sft INFO    : Loading 1 SFTs from H1...\n",
      "25-07-20 12:31:40.531 pyfstat.utils.sft INFO    : Loading 1 SFTs from H1...\n",
      "25-07-20 12:31:40.541 pyfstat.utils.sft INFO    : Loading 1 SFTs from H1...\n",
      "25-07-20 12:31:40.550 pyfstat.utils.sft INFO    : Loading 1 SFTs from H1...\n"
     ]
    },
    {
     "name": "stderr",
     "output_type": "stream",
     "text": [
      "  1%|▏         | 252/19200 [00:02<03:01, 104.44it/s]"
     ]
    },
    {
     "name": "stdout",
     "output_type": "stream",
     "text": [
      "25-07-20 12:31:40.560 pyfstat.utils.sft INFO    : Loading 1 SFTs from H1...\n",
      "25-07-20 12:31:40.570 pyfstat.utils.sft INFO    : Loading 1 SFTs from H1...\n",
      "25-07-20 12:31:40.580 pyfstat.utils.sft INFO    : Loading 1 SFTs from H1...\n",
      "25-07-20 12:31:40.589 pyfstat.utils.sft INFO    : Loading 1 SFTs from H1...\n",
      "25-07-20 12:31:40.599 pyfstat.utils.sft INFO    : Loading 1 SFTs from H1...\n",
      "25-07-20 12:31:40.610 pyfstat.utils.sft INFO    : Loading 1 SFTs from H1...\n",
      "25-07-20 12:31:40.620 pyfstat.utils.sft INFO    : Loading 1 SFTs from H1...\n",
      "25-07-20 12:31:40.630 pyfstat.utils.sft INFO    : Loading 1 SFTs from H1...\n",
      "25-07-20 12:31:40.640 pyfstat.utils.sft INFO    : Loading 1 SFTs from H1...\n",
      "25-07-20 12:31:40.650 pyfstat.utils.sft INFO    : Loading 1 SFTs from H1...\n",
      "25-07-20 12:31:40.660 pyfstat.utils.sft INFO    : Loading 1 SFTs from H1...\n"
     ]
    },
    {
     "name": "stderr",
     "output_type": "stream",
     "text": [
      "  1%|▏         | 263/19200 [00:02<03:03, 103.33it/s]"
     ]
    },
    {
     "name": "stdout",
     "output_type": "stream",
     "text": [
      "25-07-20 12:31:40.669 pyfstat.utils.sft INFO    : Loading 1 SFTs from H1...\n",
      "25-07-20 12:31:40.678 pyfstat.utils.sft INFO    : Loading 1 SFTs from H1...\n",
      "25-07-20 12:31:40.688 pyfstat.utils.sft INFO    : Loading 1 SFTs from H1...\n",
      "25-07-20 12:31:40.698 pyfstat.utils.sft INFO    : Loading 1 SFTs from H1...\n",
      "25-07-20 12:31:40.707 pyfstat.utils.sft INFO    : Loading 1 SFTs from H1...\n",
      "25-07-20 12:31:40.717 pyfstat.utils.sft INFO    : Loading 1 SFTs from H1...\n",
      "25-07-20 12:31:40.726 pyfstat.utils.sft INFO    : Loading 1 SFTs from H1...\n",
      "25-07-20 12:31:40.735 pyfstat.utils.sft INFO    : Loading 1 SFTs from H1...\n",
      "25-07-20 12:31:40.745 pyfstat.utils.sft INFO    : Loading 1 SFTs from H1...\n",
      "25-07-20 12:31:40.754 pyfstat.utils.sft INFO    : Loading 1 SFTs from H1...\n",
      "25-07-20 12:31:40.764 pyfstat.utils.sft INFO    : Loading 1 SFTs from H1...\n"
     ]
    },
    {
     "name": "stderr",
     "output_type": "stream",
     "text": [
      "  1%|▏         | 274/19200 [00:02<03:01, 104.06it/s]"
     ]
    },
    {
     "name": "stdout",
     "output_type": "stream",
     "text": [
      "25-07-20 12:31:40.774 pyfstat.utils.sft INFO    : Loading 1 SFTs from H1...\n",
      "25-07-20 12:31:40.783 pyfstat.utils.sft INFO    : Loading 1 SFTs from H1...\n",
      "25-07-20 12:31:40.792 pyfstat.utils.sft INFO    : Loading 1 SFTs from H1...\n",
      "25-07-20 12:31:40.801 pyfstat.utils.sft INFO    : Loading 1 SFTs from H1...\n",
      "25-07-20 12:31:40.811 pyfstat.utils.sft INFO    : Loading 1 SFTs from H1...\n",
      "25-07-20 12:31:40.820 pyfstat.utils.sft INFO    : Loading 1 SFTs from H1...\n",
      "25-07-20 12:31:40.830 pyfstat.utils.sft INFO    : Loading 1 SFTs from H1...\n",
      "25-07-20 12:31:40.839 pyfstat.utils.sft INFO    : Loading 1 SFTs from H1...\n",
      "25-07-20 12:31:40.849 pyfstat.utils.sft INFO    : Loading 1 SFTs from H1...\n",
      "25-07-20 12:31:40.858 pyfstat.utils.sft INFO    : Loading 1 SFTs from H1...\n",
      "25-07-20 12:31:40.868 pyfstat.utils.sft INFO    : Loading 1 SFTs from H1...\n"
     ]
    },
    {
     "name": "stderr",
     "output_type": "stream",
     "text": [
      "  1%|▏         | 285/19200 [00:02<03:00, 104.57it/s]"
     ]
    },
    {
     "name": "stdout",
     "output_type": "stream",
     "text": [
      "25-07-20 12:31:40.877 pyfstat.utils.sft INFO    : Loading 1 SFTs from H1...\n",
      "25-07-20 12:31:40.887 pyfstat.utils.sft INFO    : Loading 1 SFTs from H1...\n",
      "25-07-20 12:31:40.897 pyfstat.utils.sft INFO    : Loading 1 SFTs from H1...\n",
      "25-07-20 12:31:40.906 pyfstat.utils.sft INFO    : Loading 1 SFTs from H1...\n",
      "25-07-20 12:31:40.916 pyfstat.utils.sft INFO    : Loading 1 SFTs from H1...\n",
      "25-07-20 12:31:40.926 pyfstat.utils.sft INFO    : Loading 1 SFTs from H1...\n",
      "25-07-20 12:31:40.937 pyfstat.utils.sft INFO    : Loading 1 SFTs from H1...\n",
      "25-07-20 12:31:40.947 pyfstat.utils.sft INFO    : Loading 1 SFTs from H1...\n",
      "25-07-20 12:31:40.957 pyfstat.utils.sft INFO    : Loading 1 SFTs from H1...\n",
      "25-07-20 12:31:40.967 pyfstat.utils.sft INFO    : Loading 1 SFTs from H1...\n",
      "25-07-20 12:31:40.977 pyfstat.utils.sft INFO    : Loading 1 SFTs from H1...\n"
     ]
    },
    {
     "name": "stderr",
     "output_type": "stream",
     "text": [
      "  2%|▏         | 296/19200 [00:03<03:03, 103.06it/s]"
     ]
    },
    {
     "name": "stdout",
     "output_type": "stream",
     "text": [
      "25-07-20 12:31:40.988 pyfstat.utils.sft INFO    : Loading 1 SFTs from H1...\n",
      "25-07-20 12:31:40.999 pyfstat.utils.sft INFO    : Loading 1 SFTs from H1...\n",
      "25-07-20 12:31:41.009 pyfstat.utils.sft INFO    : Loading 1 SFTs from H1...\n",
      "25-07-20 12:31:41.018 pyfstat.utils.sft INFO    : Loading 1 SFTs from H1...\n",
      "25-07-20 12:31:41.027 pyfstat.utils.sft INFO    : Loading 1 SFTs from H1...\n",
      "25-07-20 12:31:41.036 pyfstat.utils.sft INFO    : Loading 1 SFTs from H1...\n",
      "25-07-20 12:31:41.046 pyfstat.utils.sft INFO    : Loading 1 SFTs from H1...\n",
      "25-07-20 12:31:41.055 pyfstat.utils.sft INFO    : Loading 1 SFTs from H1...\n",
      "25-07-20 12:31:41.066 pyfstat.utils.sft INFO    : Loading 1 SFTs from H1...\n",
      "25-07-20 12:31:41.075 pyfstat.utils.sft INFO    : Loading 1 SFTs from H1...\n",
      "25-07-20 12:31:41.084 pyfstat.utils.sft INFO    : Loading 1 SFTs from H1...\n"
     ]
    },
    {
     "name": "stderr",
     "output_type": "stream",
     "text": [
      "  2%|▏         | 307/19200 [00:03<03:02, 103.32it/s]"
     ]
    },
    {
     "name": "stdout",
     "output_type": "stream",
     "text": [
      "25-07-20 12:31:41.094 pyfstat.utils.sft INFO    : Loading 1 SFTs from H1...\n",
      "25-07-20 12:31:41.103 pyfstat.utils.sft INFO    : Loading 1 SFTs from H1...\n",
      "25-07-20 12:31:41.113 pyfstat.utils.sft INFO    : Loading 1 SFTs from H1...\n",
      "25-07-20 12:31:41.122 pyfstat.utils.sft INFO    : Loading 1 SFTs from H1...\n",
      "25-07-20 12:31:41.131 pyfstat.utils.sft INFO    : Loading 1 SFTs from H1...\n",
      "25-07-20 12:31:41.141 pyfstat.utils.sft INFO    : Loading 1 SFTs from H1...\n",
      "25-07-20 12:31:41.150 pyfstat.utils.sft INFO    : Loading 1 SFTs from H1...\n",
      "25-07-20 12:31:41.160 pyfstat.utils.sft INFO    : Loading 1 SFTs from H1...\n",
      "25-07-20 12:31:41.169 pyfstat.utils.sft INFO    : Loading 1 SFTs from H1...\n",
      "25-07-20 12:31:41.178 pyfstat.utils.sft INFO    : Loading 1 SFTs from H1...\n",
      "25-07-20 12:31:41.187 pyfstat.utils.sft INFO    : Loading 1 SFTs from H1...\n"
     ]
    },
    {
     "name": "stderr",
     "output_type": "stream",
     "text": [
      "  2%|▏         | 318/19200 [00:03<03:01, 104.13it/s]"
     ]
    },
    {
     "name": "stdout",
     "output_type": "stream",
     "text": [
      "25-07-20 12:31:41.197 pyfstat.utils.sft INFO    : Loading 1 SFTs from H1...\n",
      "25-07-20 12:31:41.207 pyfstat.utils.sft INFO    : Loading 1 SFTs from H1...\n",
      "25-07-20 12:31:41.216 pyfstat.utils.sft INFO    : Loading 1 SFTs from H1...\n",
      "25-07-20 12:31:41.225 pyfstat.utils.sft INFO    : Loading 1 SFTs from H1...\n",
      "25-07-20 12:31:41.234 pyfstat.utils.sft INFO    : Loading 1 SFTs from H1...\n",
      "25-07-20 12:31:41.245 pyfstat.utils.sft INFO    : Loading 1 SFTs from H1...\n",
      "25-07-20 12:31:41.254 pyfstat.utils.sft INFO    : Loading 1 SFTs from H1...\n",
      "25-07-20 12:31:41.264 pyfstat.utils.sft INFO    : Loading 1 SFTs from H1...\n",
      "25-07-20 12:31:41.274 pyfstat.utils.sft INFO    : Loading 1 SFTs from H1...\n",
      "25-07-20 12:31:41.284 pyfstat.utils.sft INFO    : Loading 1 SFTs from H1...\n",
      "25-07-20 12:31:41.293 pyfstat.utils.sft INFO    : Loading 1 SFTs from H1...\n"
     ]
    },
    {
     "name": "stderr",
     "output_type": "stream",
     "text": [
      "  2%|▏         | 329/19200 [00:03<03:01, 103.95it/s]"
     ]
    },
    {
     "name": "stdout",
     "output_type": "stream",
     "text": [
      "25-07-20 12:31:41.304 pyfstat.utils.sft INFO    : Loading 1 SFTs from H1...\n",
      "25-07-20 12:31:41.314 pyfstat.utils.sft INFO    : Loading 1 SFTs from H1...\n",
      "25-07-20 12:31:41.323 pyfstat.utils.sft INFO    : Loading 1 SFTs from H1...\n",
      "25-07-20 12:31:41.333 pyfstat.utils.sft INFO    : Loading 1 SFTs from H1...\n",
      "25-07-20 12:31:41.342 pyfstat.utils.sft INFO    : Loading 1 SFTs from H1...\n",
      "25-07-20 12:31:41.352 pyfstat.utils.sft INFO    : Loading 1 SFTs from H1...\n",
      "25-07-20 12:31:41.362 pyfstat.utils.sft INFO    : Loading 1 SFTs from H1...\n",
      "25-07-20 12:31:41.371 pyfstat.utils.sft INFO    : Loading 1 SFTs from H1...\n",
      "25-07-20 12:31:41.382 pyfstat.utils.sft INFO    : Loading 1 SFTs from H1...\n",
      "25-07-20 12:31:41.392 pyfstat.utils.sft INFO    : Loading 1 SFTs from H1...\n",
      "25-07-20 12:31:41.402 pyfstat.utils.sft INFO    : Loading 1 SFTs from H1...\n"
     ]
    },
    {
     "name": "stderr",
     "output_type": "stream",
     "text": [
      "  2%|▏         | 340/19200 [00:03<03:02, 103.24it/s]"
     ]
    },
    {
     "name": "stdout",
     "output_type": "stream",
     "text": [
      "25-07-20 12:31:41.412 pyfstat.utils.sft INFO    : Loading 1 SFTs from H1...\n",
      "25-07-20 12:31:41.422 pyfstat.utils.sft INFO    : Loading 1 SFTs from H1...\n",
      "25-07-20 12:31:41.431 pyfstat.utils.sft INFO    : Loading 1 SFTs from H1...\n",
      "25-07-20 12:31:41.441 pyfstat.utils.sft INFO    : Loading 1 SFTs from H1...\n",
      "25-07-20 12:31:41.451 pyfstat.utils.sft INFO    : Loading 1 SFTs from H1...\n",
      "25-07-20 12:31:41.461 pyfstat.utils.sft INFO    : Loading 1 SFTs from H1...\n",
      "25-07-20 12:31:41.471 pyfstat.utils.sft INFO    : Loading 1 SFTs from H1...\n",
      "25-07-20 12:31:41.481 pyfstat.utils.sft INFO    : Loading 1 SFTs from H1...\n",
      "25-07-20 12:31:41.491 pyfstat.utils.sft INFO    : Loading 1 SFTs from H1...\n",
      "25-07-20 12:31:41.501 pyfstat.utils.sft INFO    : Loading 1 SFTs from H1...\n",
      "25-07-20 12:31:41.511 pyfstat.utils.sft INFO    : Loading 1 SFTs from H1...\n"
     ]
    },
    {
     "name": "stderr",
     "output_type": "stream",
     "text": [
      "  2%|▏         | 351/19200 [00:03<03:04, 102.40it/s]"
     ]
    },
    {
     "name": "stdout",
     "output_type": "stream",
     "text": [
      "25-07-20 12:31:41.521 pyfstat.utils.sft INFO    : Loading 1 SFTs from H1...\n",
      "25-07-20 12:31:41.531 pyfstat.utils.sft INFO    : Loading 1 SFTs from H1...\n",
      "25-07-20 12:31:41.541 pyfstat.utils.sft INFO    : Loading 1 SFTs from H1...\n",
      "25-07-20 12:31:41.551 pyfstat.utils.sft INFO    : Loading 1 SFTs from H1...\n",
      "25-07-20 12:31:41.561 pyfstat.utils.sft INFO    : Loading 1 SFTs from H1...\n",
      "25-07-20 12:31:41.571 pyfstat.utils.sft INFO    : Loading 1 SFTs from H1...\n",
      "25-07-20 12:31:41.580 pyfstat.utils.sft INFO    : Loading 1 SFTs from H1...\n",
      "25-07-20 12:31:41.590 pyfstat.utils.sft INFO    : Loading 1 SFTs from H1...\n",
      "25-07-20 12:31:41.600 pyfstat.utils.sft INFO    : Loading 1 SFTs from H1...\n",
      "25-07-20 12:31:41.610 pyfstat.utils.sft INFO    : Loading 1 SFTs from H1...\n",
      "25-07-20 12:31:41.620 pyfstat.utils.sft INFO    : Loading 1 SFTs from H1...\n"
     ]
    },
    {
     "name": "stderr",
     "output_type": "stream",
     "text": [
      "  2%|▏         | 362/19200 [00:03<03:04, 102.03it/s]"
     ]
    },
    {
     "name": "stdout",
     "output_type": "stream",
     "text": [
      "25-07-20 12:31:41.630 pyfstat.utils.sft INFO    : Loading 1 SFTs from H1...\n",
      "25-07-20 12:31:41.641 pyfstat.utils.sft INFO    : Loading 1 SFTs from H1...\n",
      "25-07-20 12:31:41.651 pyfstat.utils.sft INFO    : Loading 1 SFTs from H1...\n",
      "25-07-20 12:31:41.661 pyfstat.utils.sft INFO    : Loading 1 SFTs from H1...\n",
      "25-07-20 12:31:41.670 pyfstat.utils.sft INFO    : Loading 1 SFTs from H1...\n",
      "25-07-20 12:31:41.680 pyfstat.utils.sft INFO    : Loading 1 SFTs from H1...\n",
      "25-07-20 12:31:41.690 pyfstat.utils.sft INFO    : Loading 1 SFTs from H1...\n",
      "25-07-20 12:31:41.699 pyfstat.utils.sft INFO    : Loading 1 SFTs from H1...\n",
      "25-07-20 12:31:41.709 pyfstat.utils.sft INFO    : Loading 1 SFTs from H1...\n",
      "25-07-20 12:31:41.719 pyfstat.utils.sft INFO    : Loading 1 SFTs from H1...\n",
      "25-07-20 12:31:41.729 pyfstat.utils.sft INFO    : Loading 1 SFTs from H1...\n"
     ]
    },
    {
     "name": "stderr",
     "output_type": "stream",
     "text": [
      "  2%|▏         | 373/19200 [00:03<03:05, 101.61it/s]"
     ]
    },
    {
     "name": "stdout",
     "output_type": "stream",
     "text": [
      "25-07-20 12:31:41.739 pyfstat.utils.sft INFO    : Loading 1 SFTs from H1...\n",
      "25-07-20 12:31:41.749 pyfstat.utils.sft INFO    : Loading 1 SFTs from H1...\n",
      "25-07-20 12:31:41.759 pyfstat.utils.sft INFO    : Loading 1 SFTs from H1...\n",
      "25-07-20 12:31:41.769 pyfstat.utils.sft INFO    : Loading 1 SFTs from H1...\n",
      "25-07-20 12:31:41.779 pyfstat.utils.sft INFO    : Loading 1 SFTs from H1...\n",
      "25-07-20 12:31:41.789 pyfstat.utils.sft INFO    : Loading 1 SFTs from H1...\n",
      "25-07-20 12:31:41.799 pyfstat.utils.sft INFO    : Loading 1 SFTs from H1...\n",
      "25-07-20 12:31:41.808 pyfstat.utils.sft INFO    : Loading 1 SFTs from H1...\n",
      "25-07-20 12:31:41.818 pyfstat.utils.sft INFO    : Loading 1 SFTs from H1...\n",
      "25-07-20 12:31:41.829 pyfstat.utils.sft INFO    : Loading 1 SFTs from H1...\n",
      "25-07-20 12:31:41.839 pyfstat.utils.sft INFO    : Loading 1 SFTs from H1...\n"
     ]
    },
    {
     "name": "stderr",
     "output_type": "stream",
     "text": [
      "  2%|▏         | 384/19200 [00:03<03:05, 101.26it/s]"
     ]
    },
    {
     "name": "stdout",
     "output_type": "stream",
     "text": [
      "25-07-20 12:31:41.849 pyfstat.utils.sft INFO    : Loading 1 SFTs from H1...\n",
      "25-07-20 12:31:41.859 pyfstat.utils.sft INFO    : Loading 1 SFTs from H1...\n",
      "25-07-20 12:31:41.869 pyfstat.utils.sft INFO    : Loading 1 SFTs from H1...\n",
      "25-07-20 12:31:41.879 pyfstat.utils.sft INFO    : Loading 1 SFTs from H1...\n",
      "25-07-20 12:31:41.889 pyfstat.utils.sft INFO    : Loading 1 SFTs from H1...\n",
      "25-07-20 12:31:41.899 pyfstat.utils.sft INFO    : Loading 1 SFTs from H1...\n",
      "25-07-20 12:31:41.909 pyfstat.utils.sft INFO    : Loading 1 SFTs from H1...\n",
      "25-07-20 12:31:41.919 pyfstat.utils.sft INFO    : Loading 1 SFTs from H1...\n",
      "25-07-20 12:31:41.928 pyfstat.utils.sft INFO    : Loading 1 SFTs from H1...\n",
      "25-07-20 12:31:41.938 pyfstat.utils.sft INFO    : Loading 1 SFTs from H1...\n",
      "25-07-20 12:31:41.949 pyfstat.utils.sft INFO    : Loading 1 SFTs from H1...\n"
     ]
    },
    {
     "name": "stderr",
     "output_type": "stream",
     "text": [
      "  2%|▏         | 395/19200 [00:04<03:06, 100.79it/s]"
     ]
    },
    {
     "name": "stdout",
     "output_type": "stream",
     "text": [
      "25-07-20 12:31:41.959 pyfstat.utils.sft INFO    : Loading 1 SFTs from H1...\n",
      "25-07-20 12:31:41.970 pyfstat.utils.sft INFO    : Loading 1 SFTs from H1...\n",
      "25-07-20 12:31:41.979 pyfstat.utils.sft INFO    : Loading 1 SFTs from H1...\n",
      "25-07-20 12:31:41.989 pyfstat.utils.sft INFO    : Loading 1 SFTs from H1...\n",
      "25-07-20 12:31:41.999 pyfstat.utils.sft INFO    : Loading 1 SFTs from H1...\n",
      "25-07-20 12:31:42.008 pyfstat.utils.sft INFO    : Loading 1 SFTs from H1...\n",
      "25-07-20 12:31:42.017 pyfstat.utils.sft INFO    : Loading 1 SFTs from H1...\n",
      "25-07-20 12:31:42.027 pyfstat.utils.sft INFO    : Loading 1 SFTs from H1...\n",
      "25-07-20 12:31:42.037 pyfstat.utils.sft INFO    : Loading 1 SFTs from H1...\n",
      "25-07-20 12:31:42.048 pyfstat.utils.sft INFO    : Loading 1 SFTs from H1...\n",
      "25-07-20 12:31:42.058 pyfstat.utils.sft INFO    : Loading 1 SFTs from H1...\n"
     ]
    },
    {
     "name": "stderr",
     "output_type": "stream",
     "text": [
      "  2%|▏         | 406/19200 [00:04<03:06, 100.79it/s]"
     ]
    },
    {
     "name": "stdout",
     "output_type": "stream",
     "text": [
      "25-07-20 12:31:42.068 pyfstat.utils.sft INFO    : Loading 1 SFTs from H1...\n",
      "25-07-20 12:31:42.079 pyfstat.utils.sft INFO    : Loading 1 SFTs from H1...\n",
      "25-07-20 12:31:42.089 pyfstat.utils.sft INFO    : Loading 1 SFTs from H1...\n",
      "25-07-20 12:31:42.099 pyfstat.utils.sft INFO    : Loading 1 SFTs from H1...\n",
      "25-07-20 12:31:42.108 pyfstat.utils.sft INFO    : Loading 1 SFTs from H1...\n",
      "25-07-20 12:31:42.118 pyfstat.utils.sft INFO    : Loading 1 SFTs from H1...\n",
      "25-07-20 12:31:42.130 pyfstat.utils.sft INFO    : Loading 1 SFTs from H1...\n",
      "25-07-20 12:31:42.143 pyfstat.utils.sft INFO    : Loading 1 SFTs from H1...\n",
      "25-07-20 12:31:42.153 pyfstat.utils.sft INFO    : Loading 1 SFTs from H1...\n",
      "25-07-20 12:31:42.163 pyfstat.utils.sft INFO    : Loading 1 SFTs from H1...\n",
      "25-07-20 12:31:42.173 pyfstat.utils.sft INFO    : Loading 1 SFTs from H1...\n"
     ]
    },
    {
     "name": "stderr",
     "output_type": "stream",
     "text": [
      "  2%|▏         | 417/19200 [00:04<03:09, 99.36it/s] "
     ]
    },
    {
     "name": "stdout",
     "output_type": "stream",
     "text": [
      "25-07-20 12:31:42.183 pyfstat.utils.sft INFO    : Loading 1 SFTs from H1...\n",
      "25-07-20 12:31:42.192 pyfstat.utils.sft INFO    : Loading 1 SFTs from H1...\n",
      "25-07-20 12:31:42.202 pyfstat.utils.sft INFO    : Loading 1 SFTs from H1...\n",
      "25-07-20 12:31:42.211 pyfstat.utils.sft INFO    : Loading 1 SFTs from H1...\n",
      "25-07-20 12:31:42.221 pyfstat.utils.sft INFO    : Loading 1 SFTs from H1...\n",
      "25-07-20 12:31:42.231 pyfstat.utils.sft INFO    : Loading 1 SFTs from H1...\n",
      "25-07-20 12:31:42.240 pyfstat.utils.sft INFO    : Loading 1 SFTs from H1...\n",
      "25-07-20 12:31:42.251 pyfstat.utils.sft INFO    : Loading 1 SFTs from H1...\n",
      "25-07-20 12:31:42.261 pyfstat.utils.sft INFO    : Loading 1 SFTs from H1...\n",
      "25-07-20 12:31:42.271 pyfstat.utils.sft INFO    : Loading 1 SFTs from H1...\n",
      "25-07-20 12:31:42.282 pyfstat.utils.sft INFO    : Loading 1 SFTs from H1...\n"
     ]
    },
    {
     "name": "stderr",
     "output_type": "stream",
     "text": [
      "  2%|▏         | 428/19200 [00:04<03:08, 99.72it/s]"
     ]
    },
    {
     "name": "stdout",
     "output_type": "stream",
     "text": [
      "25-07-20 12:31:42.292 pyfstat.utils.sft INFO    : Loading 1 SFTs from H1...\n",
      "25-07-20 12:31:42.302 pyfstat.utils.sft INFO    : Loading 1 SFTs from H1...\n",
      "25-07-20 12:31:42.312 pyfstat.utils.sft INFO    : Loading 1 SFTs from H1...\n",
      "25-07-20 12:31:42.321 pyfstat.utils.sft INFO    : Loading 1 SFTs from H1...\n",
      "25-07-20 12:31:42.331 pyfstat.utils.sft INFO    : Loading 1 SFTs from H1...\n",
      "25-07-20 12:31:42.340 pyfstat.utils.sft INFO    : Loading 1 SFTs from H1...\n",
      "25-07-20 12:31:42.349 pyfstat.utils.sft INFO    : Loading 1 SFTs from H1...\n",
      "25-07-20 12:31:42.359 pyfstat.utils.sft INFO    : Loading 1 SFTs from H1...\n",
      "25-07-20 12:31:42.369 pyfstat.utils.sft INFO    : Loading 1 SFTs from H1...\n",
      "25-07-20 12:31:42.378 pyfstat.utils.sft INFO    : Loading 1 SFTs from H1...\n",
      "25-07-20 12:31:42.389 pyfstat.utils.sft INFO    : Loading 1 SFTs from H1...\n"
     ]
    },
    {
     "name": "stderr",
     "output_type": "stream",
     "text": [
      "  2%|▏         | 439/19200 [00:04<03:06, 100.71it/s]"
     ]
    },
    {
     "name": "stdout",
     "output_type": "stream",
     "text": [
      "25-07-20 12:31:42.399 pyfstat.utils.sft INFO    : Loading 1 SFTs from H1...\n",
      "25-07-20 12:31:42.409 pyfstat.utils.sft INFO    : Loading 1 SFTs from H1...\n",
      "25-07-20 12:31:42.418 pyfstat.utils.sft INFO    : Loading 1 SFTs from H1...\n",
      "25-07-20 12:31:42.427 pyfstat.utils.sft INFO    : Loading 1 SFTs from H1...\n",
      "25-07-20 12:31:42.437 pyfstat.utils.sft INFO    : Loading 1 SFTs from H1...\n",
      "25-07-20 12:31:42.446 pyfstat.utils.sft INFO    : Loading 1 SFTs from H1...\n",
      "25-07-20 12:31:42.455 pyfstat.utils.sft INFO    : Loading 1 SFTs from H1...\n",
      "25-07-20 12:31:42.465 pyfstat.utils.sft INFO    : Loading 1 SFTs from H1...\n",
      "25-07-20 12:31:42.474 pyfstat.utils.sft INFO    : Loading 1 SFTs from H1...\n",
      "25-07-20 12:31:42.483 pyfstat.utils.sft INFO    : Loading 1 SFTs from H1...\n",
      "25-07-20 12:31:42.492 pyfstat.utils.sft INFO    : Loading 1 SFTs from H1...\n"
     ]
    },
    {
     "name": "stderr",
     "output_type": "stream",
     "text": [
      "  2%|▏         | 450/19200 [00:04<03:03, 102.26it/s]"
     ]
    },
    {
     "name": "stdout",
     "output_type": "stream",
     "text": [
      "25-07-20 12:31:42.502 pyfstat.utils.sft INFO    : Loading 1 SFTs from H1...\n",
      "25-07-20 12:31:42.512 pyfstat.utils.sft INFO    : Loading 1 SFTs from H1...\n",
      "25-07-20 12:31:42.521 pyfstat.utils.sft INFO    : Loading 1 SFTs from H1...\n",
      "25-07-20 12:31:42.530 pyfstat.utils.sft INFO    : Loading 1 SFTs from H1...\n",
      "25-07-20 12:31:42.539 pyfstat.utils.sft INFO    : Loading 1 SFTs from H1...\n",
      "25-07-20 12:31:42.547 pyfstat.utils.sft INFO    : Loading 1 SFTs from H1...\n",
      "25-07-20 12:31:42.556 pyfstat.utils.sft INFO    : Loading 1 SFTs from H1...\n",
      "25-07-20 12:31:42.565 pyfstat.utils.sft INFO    : Loading 1 SFTs from H1...\n",
      "25-07-20 12:31:42.575 pyfstat.utils.sft INFO    : Loading 1 SFTs from H1...\n",
      "25-07-20 12:31:42.584 pyfstat.utils.sft INFO    : Loading 1 SFTs from H1...\n",
      "25-07-20 12:31:42.594 pyfstat.utils.sft INFO    : Loading 1 SFTs from H1...\n"
     ]
    },
    {
     "name": "stderr",
     "output_type": "stream",
     "text": [
      "  2%|▏         | 461/19200 [00:04<03:00, 103.99it/s]"
     ]
    },
    {
     "name": "stdout",
     "output_type": "stream",
     "text": [
      "25-07-20 12:31:42.604 pyfstat.utils.sft INFO    : Loading 1 SFTs from H1...\n",
      "25-07-20 12:31:42.614 pyfstat.utils.sft INFO    : Loading 1 SFTs from H1...\n",
      "25-07-20 12:31:42.624 pyfstat.utils.sft INFO    : Loading 1 SFTs from H1...\n",
      "25-07-20 12:31:42.633 pyfstat.utils.sft INFO    : Loading 1 SFTs from H1...\n",
      "25-07-20 12:31:42.644 pyfstat.utils.sft INFO    : Loading 1 SFTs from H1...\n",
      "25-07-20 12:31:42.653 pyfstat.utils.sft INFO    : Loading 1 SFTs from H1...\n",
      "25-07-20 12:31:42.662 pyfstat.utils.sft INFO    : Loading 1 SFTs from H1...\n",
      "25-07-20 12:31:42.672 pyfstat.utils.sft INFO    : Loading 1 SFTs from H1...\n",
      "25-07-20 12:31:42.683 pyfstat.utils.sft INFO    : Loading 1 SFTs from H1...\n",
      "25-07-20 12:31:42.692 pyfstat.utils.sft INFO    : Loading 1 SFTs from H1...\n",
      "25-07-20 12:31:42.701 pyfstat.utils.sft INFO    : Loading 1 SFTs from H1...\n"
     ]
    },
    {
     "name": "stderr",
     "output_type": "stream",
     "text": [
      "  2%|▏         | 472/19200 [00:04<03:00, 103.69it/s]"
     ]
    },
    {
     "name": "stdout",
     "output_type": "stream",
     "text": [
      "25-07-20 12:31:42.711 pyfstat.utils.sft INFO    : Loading 1 SFTs from H1...\n",
      "25-07-20 12:31:42.721 pyfstat.utils.sft INFO    : Loading 1 SFTs from H1...\n",
      "25-07-20 12:31:42.730 pyfstat.utils.sft INFO    : Loading 1 SFTs from H1...\n",
      "25-07-20 12:31:42.739 pyfstat.utils.sft INFO    : Loading 1 SFTs from H1...\n",
      "25-07-20 12:31:42.748 pyfstat.utils.sft INFO    : Loading 1 SFTs from H1...\n",
      "25-07-20 12:31:42.758 pyfstat.utils.sft INFO    : Loading 1 SFTs from H1...\n",
      "25-07-20 12:31:42.766 pyfstat.utils.sft INFO    : Loading 1 SFTs from H1...\n",
      "25-07-20 12:31:42.775 pyfstat.utils.sft INFO    : Loading 1 SFTs from H1...\n",
      "25-07-20 12:31:42.784 pyfstat.utils.sft INFO    : Loading 1 SFTs from H1...\n",
      "25-07-20 12:31:42.793 pyfstat.utils.sft INFO    : Loading 1 SFTs from H1...\n",
      "25-07-20 12:31:42.802 pyfstat.utils.sft INFO    : Loading 1 SFTs from H1...\n"
     ]
    },
    {
     "name": "stderr",
     "output_type": "stream",
     "text": [
      "  3%|▎         | 483/19200 [00:04<02:57, 105.32it/s]"
     ]
    },
    {
     "name": "stdout",
     "output_type": "stream",
     "text": [
      "25-07-20 12:31:42.811 pyfstat.utils.sft INFO    : Loading 1 SFTs from H1...\n",
      "25-07-20 12:31:42.820 pyfstat.utils.sft INFO    : Loading 1 SFTs from H1...\n",
      "25-07-20 12:31:42.830 pyfstat.utils.sft INFO    : Loading 1 SFTs from H1...\n",
      "25-07-20 12:31:42.840 pyfstat.utils.sft INFO    : Loading 1 SFTs from H1...\n",
      "25-07-20 12:31:42.849 pyfstat.utils.sft INFO    : Loading 1 SFTs from H1...\n",
      "25-07-20 12:31:42.858 pyfstat.utils.sft INFO    : Loading 1 SFTs from H1...\n",
      "25-07-20 12:31:42.867 pyfstat.utils.sft INFO    : Loading 1 SFTs from H1...\n",
      "25-07-20 12:31:42.877 pyfstat.utils.sft INFO    : Loading 1 SFTs from H1...\n",
      "25-07-20 12:31:42.886 pyfstat.utils.sft INFO    : Loading 1 SFTs from H1...\n",
      "25-07-20 12:31:42.895 pyfstat.utils.sft INFO    : Loading 1 SFTs from H1...\n",
      "25-07-20 12:31:42.904 pyfstat.utils.sft INFO    : Loading 1 SFTs from H1...\n"
     ]
    },
    {
     "name": "stderr",
     "output_type": "stream",
     "text": [
      "  3%|▎         | 494/19200 [00:04<02:56, 105.94it/s]"
     ]
    },
    {
     "name": "stdout",
     "output_type": "stream",
     "text": [
      "25-07-20 12:31:42.914 pyfstat.utils.sft INFO    : Loading 1 SFTs from H1...\n",
      "25-07-20 12:31:42.923 pyfstat.utils.sft INFO    : Loading 1 SFTs from H1...\n",
      "25-07-20 12:31:42.932 pyfstat.utils.sft INFO    : Loading 1 SFTs from H1...\n",
      "25-07-20 12:31:42.941 pyfstat.utils.sft INFO    : Loading 1 SFTs from H1...\n",
      "25-07-20 12:31:42.949 pyfstat.utils.sft INFO    : Loading 1 SFTs from H1...\n",
      "25-07-20 12:31:42.958 pyfstat.utils.sft INFO    : Loading 1 SFTs from H1...\n",
      "25-07-20 12:31:42.967 pyfstat.utils.sft INFO    : Loading 1 SFTs from H1...\n",
      "25-07-20 12:31:42.976 pyfstat.utils.sft INFO    : Loading 1 SFTs from H1...\n",
      "25-07-20 12:31:42.985 pyfstat.utils.sft INFO    : Loading 1 SFTs from H1...\n",
      "25-07-20 12:31:42.994 pyfstat.utils.sft INFO    : Loading 1 SFTs from H1...\n",
      "25-07-20 12:31:43.003 pyfstat.utils.sft INFO    : Loading 1 SFTs from H1...\n",
      "25-07-20 12:31:43.013 pyfstat.utils.sft INFO    : Loading 1 SFTs from H1...\n"
     ]
    },
    {
     "name": "stderr",
     "output_type": "stream",
     "text": [
      "  3%|▎         | 506/19200 [00:05<02:54, 107.27it/s]"
     ]
    },
    {
     "name": "stdout",
     "output_type": "stream",
     "text": [
      "25-07-20 12:31:43.023 pyfstat.utils.sft INFO    : Loading 1 SFTs from H1...\n",
      "25-07-20 12:31:43.032 pyfstat.utils.sft INFO    : Loading 1 SFTs from H1...\n",
      "25-07-20 12:31:43.040 pyfstat.utils.sft INFO    : Loading 1 SFTs from H1...\n",
      "25-07-20 12:31:43.050 pyfstat.utils.sft INFO    : Loading 1 SFTs from H1...\n",
      "25-07-20 12:31:43.060 pyfstat.utils.sft INFO    : Loading 1 SFTs from H1...\n",
      "25-07-20 12:31:43.068 pyfstat.utils.sft INFO    : Loading 1 SFTs from H1...\n",
      "25-07-20 12:31:43.078 pyfstat.utils.sft INFO    : Loading 1 SFTs from H1...\n",
      "25-07-20 12:31:43.087 pyfstat.utils.sft INFO    : Loading 1 SFTs from H1...\n",
      "25-07-20 12:31:43.096 pyfstat.utils.sft INFO    : Loading 1 SFTs from H1...\n",
      "25-07-20 12:31:43.107 pyfstat.utils.sft INFO    : Loading 1 SFTs from H1...\n",
      "25-07-20 12:31:43.116 pyfstat.utils.sft INFO    : Loading 1 SFTs from H1...\n"
     ]
    },
    {
     "name": "stderr",
     "output_type": "stream",
     "text": [
      "  3%|▎         | 517/19200 [00:05<02:54, 106.99it/s]"
     ]
    },
    {
     "name": "stdout",
     "output_type": "stream",
     "text": [
      "25-07-20 12:31:43.126 pyfstat.utils.sft INFO    : Loading 1 SFTs from H1...\n",
      "25-07-20 12:31:43.135 pyfstat.utils.sft INFO    : Loading 1 SFTs from H1...\n",
      "25-07-20 12:31:43.144 pyfstat.utils.sft INFO    : Loading 1 SFTs from H1...\n",
      "25-07-20 12:31:43.153 pyfstat.utils.sft INFO    : Loading 1 SFTs from H1...\n",
      "25-07-20 12:31:43.163 pyfstat.utils.sft INFO    : Loading 1 SFTs from H1...\n",
      "25-07-20 12:31:43.172 pyfstat.utils.sft INFO    : Loading 1 SFTs from H1...\n",
      "25-07-20 12:31:43.182 pyfstat.utils.sft INFO    : Loading 1 SFTs from H1...\n",
      "25-07-20 12:31:43.191 pyfstat.utils.sft INFO    : Loading 1 SFTs from H1...\n",
      "25-07-20 12:31:43.200 pyfstat.utils.sft INFO    : Loading 1 SFTs from H1...\n",
      "25-07-20 12:31:43.209 pyfstat.utils.sft INFO    : Loading 1 SFTs from H1...\n",
      "25-07-20 12:31:43.220 pyfstat.utils.sft INFO    : Loading 1 SFTs from H1...\n"
     ]
    },
    {
     "name": "stderr",
     "output_type": "stream",
     "text": [
      "  3%|▎         | 528/19200 [00:05<02:54, 106.92it/s]"
     ]
    },
    {
     "name": "stdout",
     "output_type": "stream",
     "text": [
      "25-07-20 12:31:43.229 pyfstat.utils.sft INFO    : Loading 1 SFTs from H1...\n",
      "25-07-20 12:31:43.238 pyfstat.utils.sft INFO    : Loading 1 SFTs from H1...\n",
      "25-07-20 12:31:43.247 pyfstat.utils.sft INFO    : Loading 1 SFTs from H1...\n",
      "25-07-20 12:31:43.257 pyfstat.utils.sft INFO    : Loading 1 SFTs from H1...\n",
      "25-07-20 12:31:43.266 pyfstat.utils.sft INFO    : Loading 1 SFTs from H1...\n",
      "25-07-20 12:31:43.276 pyfstat.utils.sft INFO    : Loading 1 SFTs from H1...\n",
      "25-07-20 12:31:43.285 pyfstat.utils.sft INFO    : Loading 1 SFTs from H1...\n",
      "25-07-20 12:31:43.294 pyfstat.utils.sft INFO    : Loading 1 SFTs from H1...\n",
      "25-07-20 12:31:43.303 pyfstat.utils.sft INFO    : Loading 1 SFTs from H1...\n",
      "25-07-20 12:31:43.312 pyfstat.utils.sft INFO    : Loading 1 SFTs from H1...\n",
      "25-07-20 12:31:43.321 pyfstat.utils.sft INFO    : Loading 1 SFTs from H1...\n"
     ]
    },
    {
     "name": "stderr",
     "output_type": "stream",
     "text": [
      "  3%|▎         | 539/19200 [00:05<02:53, 107.43it/s]"
     ]
    },
    {
     "name": "stdout",
     "output_type": "stream",
     "text": [
      "25-07-20 12:31:43.331 pyfstat.utils.sft INFO    : Loading 1 SFTs from H1...\n",
      "25-07-20 12:31:43.340 pyfstat.utils.sft INFO    : Loading 1 SFTs from H1...\n",
      "25-07-20 12:31:43.350 pyfstat.utils.sft INFO    : Loading 1 SFTs from H1...\n",
      "25-07-20 12:31:43.359 pyfstat.utils.sft INFO    : Loading 1 SFTs from H1...\n",
      "25-07-20 12:31:43.369 pyfstat.utils.sft INFO    : Loading 1 SFTs from H1...\n",
      "25-07-20 12:31:43.378 pyfstat.utils.sft INFO    : Loading 1 SFTs from H1...\n",
      "25-07-20 12:31:43.394 pyfstat.utils.sft INFO    : Loading 1 SFTs from H1...\n",
      "25-07-20 12:31:43.403 pyfstat.utils.sft INFO    : Loading 1 SFTs from H1...\n",
      "25-07-20 12:31:43.412 pyfstat.utils.sft INFO    : Loading 1 SFTs from H1...\n",
      "25-07-20 12:31:43.421 pyfstat.utils.sft INFO    : Loading 1 SFTs from H1...\n",
      "25-07-20 12:31:43.430 pyfstat.utils.sft INFO    : Loading 1 SFTs from H1...\n"
     ]
    },
    {
     "name": "stderr",
     "output_type": "stream",
     "text": [
      "  3%|▎         | 550/19200 [00:05<02:56, 105.37it/s]"
     ]
    },
    {
     "name": "stdout",
     "output_type": "stream",
     "text": [
      "25-07-20 12:31:43.440 pyfstat.utils.sft INFO    : Loading 1 SFTs from H1...\n",
      "25-07-20 12:31:43.449 pyfstat.utils.sft INFO    : Loading 1 SFTs from H1...\n",
      "25-07-20 12:31:43.458 pyfstat.utils.sft INFO    : Loading 1 SFTs from H1...\n",
      "25-07-20 12:31:43.466 pyfstat.utils.sft INFO    : Loading 1 SFTs from H1...\n",
      "25-07-20 12:31:43.475 pyfstat.utils.sft INFO    : Loading 1 SFTs from H1...\n",
      "25-07-20 12:31:43.483 pyfstat.utils.sft INFO    : Loading 1 SFTs from H1...\n",
      "25-07-20 12:31:43.493 pyfstat.utils.sft INFO    : Loading 1 SFTs from H1...\n",
      "25-07-20 12:31:43.502 pyfstat.utils.sft INFO    : Loading 1 SFTs from H1...\n",
      "25-07-20 12:31:43.510 pyfstat.utils.sft INFO    : Loading 1 SFTs from H1...\n",
      "25-07-20 12:31:43.519 pyfstat.utils.sft INFO    : Loading 1 SFTs from H1...\n",
      "25-07-20 12:31:43.527 pyfstat.utils.sft INFO    : Loading 1 SFTs from H1...\n",
      "25-07-20 12:31:43.535 pyfstat.utils.sft INFO    : Loading 1 SFTs from H1...\n"
     ]
    },
    {
     "name": "stderr",
     "output_type": "stream",
     "text": [
      "  3%|▎         | 562/19200 [00:05<02:52, 107.88it/s]"
     ]
    },
    {
     "name": "stdout",
     "output_type": "stream",
     "text": [
      "25-07-20 12:31:43.545 pyfstat.utils.sft INFO    : Loading 1 SFTs from H1...\n",
      "25-07-20 12:31:43.554 pyfstat.utils.sft INFO    : Loading 1 SFTs from H1...\n",
      "25-07-20 12:31:43.562 pyfstat.utils.sft INFO    : Loading 1 SFTs from H1...\n",
      "25-07-20 12:31:43.571 pyfstat.utils.sft INFO    : Loading 1 SFTs from H1...\n",
      "25-07-20 12:31:43.580 pyfstat.utils.sft INFO    : Loading 1 SFTs from H1...\n",
      "25-07-20 12:31:43.588 pyfstat.utils.sft INFO    : Loading 1 SFTs from H1...\n",
      "25-07-20 12:31:43.596 pyfstat.utils.sft INFO    : Loading 1 SFTs from H1...\n",
      "25-07-20 12:31:43.605 pyfstat.utils.sft INFO    : Loading 1 SFTs from H1...\n",
      "25-07-20 12:31:43.614 pyfstat.utils.sft INFO    : Loading 1 SFTs from H1...\n",
      "25-07-20 12:31:43.623 pyfstat.utils.sft INFO    : Loading 1 SFTs from H1...\n",
      "25-07-20 12:31:43.634 pyfstat.utils.sft INFO    : Loading 1 SFTs from H1...\n",
      "25-07-20 12:31:43.643 pyfstat.utils.sft INFO    : Loading 1 SFTs from H1...\n"
     ]
    },
    {
     "name": "stderr",
     "output_type": "stream",
     "text": [
      "  3%|▎         | 574/19200 [00:05<02:51, 108.78it/s]"
     ]
    },
    {
     "name": "stdout",
     "output_type": "stream",
     "text": [
      "25-07-20 12:31:43.658 pyfstat.utils.sft INFO    : Loading 1 SFTs from H1...\n",
      "25-07-20 12:31:43.668 pyfstat.utils.sft INFO    : Loading 1 SFTs from H1...\n",
      "25-07-20 12:31:43.685 pyfstat.utils.sft INFO    : Loading 1 SFTs from H1...\n",
      "25-07-20 12:31:43.694 pyfstat.utils.sft INFO    : Loading 1 SFTs from H1...\n",
      "25-07-20 12:31:43.704 pyfstat.utils.sft INFO    : Loading 1 SFTs from H1...\n",
      "25-07-20 12:31:43.714 pyfstat.utils.sft INFO    : Loading 1 SFTs from H1...\n",
      "25-07-20 12:31:43.723 pyfstat.utils.sft INFO    : Loading 1 SFTs from H1...\n",
      "25-07-20 12:31:43.733 pyfstat.utils.sft INFO    : Loading 1 SFTs from H1...\n",
      "25-07-20 12:31:43.742 pyfstat.utils.sft INFO    : Loading 1 SFTs from H1...\n",
      "25-07-20 12:31:43.751 pyfstat.utils.sft INFO    : Loading 1 SFTs from H1...\n",
      "25-07-20 12:31:43.760 pyfstat.utils.sft INFO    : Loading 1 SFTs from H1...\n"
     ]
    },
    {
     "name": "stderr",
     "output_type": "stream",
     "text": [
      "  3%|▎         | 585/19200 [00:05<02:58, 104.05it/s]"
     ]
    },
    {
     "name": "stdout",
     "output_type": "stream",
     "text": [
      "25-07-20 12:31:43.771 pyfstat.utils.sft INFO    : Loading 1 SFTs from H1...\n",
      "25-07-20 12:31:43.779 pyfstat.utils.sft INFO    : Loading 1 SFTs from H1...\n",
      "25-07-20 12:31:43.789 pyfstat.utils.sft INFO    : Loading 1 SFTs from H1...\n",
      "25-07-20 12:31:43.798 pyfstat.utils.sft INFO    : Loading 1 SFTs from H1...\n",
      "25-07-20 12:31:43.809 pyfstat.utils.sft INFO    : Loading 1 SFTs from H1...\n",
      "25-07-20 12:31:43.818 pyfstat.utils.sft INFO    : Loading 1 SFTs from H1...\n",
      "25-07-20 12:31:43.828 pyfstat.utils.sft INFO    : Loading 1 SFTs from H1...\n",
      "25-07-20 12:31:43.837 pyfstat.utils.sft INFO    : Loading 1 SFTs from H1...\n",
      "25-07-20 12:31:43.846 pyfstat.utils.sft INFO    : Loading 1 SFTs from H1...\n",
      "25-07-20 12:31:43.855 pyfstat.utils.sft INFO    : Loading 1 SFTs from H1...\n",
      "25-07-20 12:31:43.864 pyfstat.utils.sft INFO    : Loading 1 SFTs from H1...\n"
     ]
    },
    {
     "name": "stderr",
     "output_type": "stream",
     "text": [
      "  3%|▎         | 596/19200 [00:05<02:58, 104.42it/s]"
     ]
    },
    {
     "name": "stdout",
     "output_type": "stream",
     "text": [
      "25-07-20 12:31:43.875 pyfstat.utils.sft INFO    : Loading 1 SFTs from H1...\n",
      "25-07-20 12:31:43.886 pyfstat.utils.sft INFO    : Loading 1 SFTs from H1...\n",
      "25-07-20 12:31:43.896 pyfstat.utils.sft INFO    : Loading 1 SFTs from H1...\n",
      "25-07-20 12:31:43.905 pyfstat.utils.sft INFO    : Loading 1 SFTs from H1...\n",
      "25-07-20 12:31:43.915 pyfstat.utils.sft INFO    : Loading 1 SFTs from H1...\n",
      "25-07-20 12:31:43.924 pyfstat.utils.sft INFO    : Loading 1 SFTs from H1...\n",
      "25-07-20 12:31:43.933 pyfstat.utils.sft INFO    : Loading 1 SFTs from H1...\n",
      "25-07-20 12:31:43.942 pyfstat.utils.sft INFO    : Loading 1 SFTs from H1...\n",
      "25-07-20 12:31:43.952 pyfstat.utils.sft INFO    : Loading 1 SFTs from H1...\n",
      "25-07-20 12:31:43.961 pyfstat.utils.sft INFO    : Loading 1 SFTs from H1...\n",
      "25-07-20 12:31:43.970 pyfstat.utils.sft INFO    : Loading 1 SFTs from H1...\n"
     ]
    },
    {
     "name": "stderr",
     "output_type": "stream",
     "text": [
      "  3%|▎         | 607/19200 [00:06<02:58, 104.20it/s]"
     ]
    },
    {
     "name": "stdout",
     "output_type": "stream",
     "text": [
      "25-07-20 12:31:43.981 pyfstat.utils.sft INFO    : Loading 1 SFTs from H1...\n",
      "25-07-20 12:31:43.991 pyfstat.utils.sft INFO    : Loading 1 SFTs from H1...\n",
      "25-07-20 12:31:44.000 pyfstat.utils.sft INFO    : Loading 1 SFTs from H1...\n",
      "25-07-20 12:31:44.009 pyfstat.utils.sft INFO    : Loading 1 SFTs from H1...\n",
      "25-07-20 12:31:44.018 pyfstat.utils.sft INFO    : Loading 1 SFTs from H1...\n",
      "25-07-20 12:31:44.027 pyfstat.utils.sft INFO    : Loading 1 SFTs from H1...\n",
      "25-07-20 12:31:44.036 pyfstat.utils.sft INFO    : Loading 1 SFTs from H1...\n",
      "25-07-20 12:31:44.046 pyfstat.utils.sft INFO    : Loading 1 SFTs from H1...\n",
      "25-07-20 12:31:44.055 pyfstat.utils.sft INFO    : Loading 1 SFTs from H1...\n",
      "25-07-20 12:31:44.065 pyfstat.utils.sft INFO    : Loading 1 SFTs from H1...\n",
      "25-07-20 12:31:44.074 pyfstat.utils.sft INFO    : Loading 1 SFTs from H1...\n"
     ]
    },
    {
     "name": "stderr",
     "output_type": "stream",
     "text": [
      "  3%|▎         | 618/19200 [00:06<02:57, 104.93it/s]"
     ]
    },
    {
     "name": "stdout",
     "output_type": "stream",
     "text": [
      "25-07-20 12:31:44.084 pyfstat.utils.sft INFO    : Loading 1 SFTs from H1...\n",
      "25-07-20 12:31:44.094 pyfstat.utils.sft INFO    : Loading 1 SFTs from H1...\n",
      "25-07-20 12:31:44.103 pyfstat.utils.sft INFO    : Loading 1 SFTs from H1...\n",
      "25-07-20 12:31:44.112 pyfstat.utils.sft INFO    : Loading 1 SFTs from H1...\n",
      "25-07-20 12:31:44.121 pyfstat.utils.sft INFO    : Loading 1 SFTs from H1...\n",
      "25-07-20 12:31:44.130 pyfstat.utils.sft INFO    : Loading 1 SFTs from H1...\n",
      "25-07-20 12:31:44.139 pyfstat.utils.sft INFO    : Loading 1 SFTs from H1...\n",
      "25-07-20 12:31:44.149 pyfstat.utils.sft INFO    : Loading 1 SFTs from H1...\n",
      "25-07-20 12:31:44.157 pyfstat.utils.sft INFO    : Loading 1 SFTs from H1...\n",
      "25-07-20 12:31:44.167 pyfstat.utils.sft INFO    : Loading 1 SFTs from H1...\n",
      "25-07-20 12:31:44.177 pyfstat.utils.sft INFO    : Loading 1 SFTs from H1...\n"
     ]
    },
    {
     "name": "stderr",
     "output_type": "stream",
     "text": [
      "  3%|▎         | 629/19200 [00:06<02:55, 105.58it/s]"
     ]
    },
    {
     "name": "stdout",
     "output_type": "stream",
     "text": [
      "25-07-20 12:31:44.187 pyfstat.utils.sft INFO    : Loading 1 SFTs from H1...\n",
      "25-07-20 12:31:44.196 pyfstat.utils.sft INFO    : Loading 1 SFTs from H1...\n",
      "25-07-20 12:31:44.205 pyfstat.utils.sft INFO    : Loading 1 SFTs from H1...\n",
      "25-07-20 12:31:44.214 pyfstat.utils.sft INFO    : Loading 1 SFTs from H1...\n",
      "25-07-20 12:31:44.223 pyfstat.utils.sft INFO    : Loading 1 SFTs from H1...\n",
      "25-07-20 12:31:44.234 pyfstat.utils.sft INFO    : Loading 1 SFTs from H1...\n",
      "25-07-20 12:31:44.245 pyfstat.utils.sft INFO    : Loading 1 SFTs from H1...\n",
      "25-07-20 12:31:44.256 pyfstat.utils.sft INFO    : Loading 1 SFTs from H1...\n",
      "25-07-20 12:31:44.267 pyfstat.utils.sft INFO    : Loading 1 SFTs from H1...\n",
      "25-07-20 12:31:44.279 pyfstat.utils.sft INFO    : Loading 1 SFTs from H1...\n",
      "25-07-20 12:31:44.290 pyfstat.utils.sft INFO    : Loading 1 SFTs from H1...\n"
     ]
    },
    {
     "name": "stderr",
     "output_type": "stream",
     "text": [
      "  3%|▎         | 640/19200 [00:06<03:00, 102.76it/s]"
     ]
    },
    {
     "name": "stdout",
     "output_type": "stream",
     "text": [
      "25-07-20 12:31:44.301 pyfstat.utils.sft INFO    : Loading 1 SFTs from H1...\n",
      "25-07-20 12:31:44.311 pyfstat.utils.sft INFO    : Loading 1 SFTs from H1...\n",
      "25-07-20 12:31:44.320 pyfstat.utils.sft INFO    : Loading 1 SFTs from H1...\n",
      "25-07-20 12:31:44.330 pyfstat.utils.sft INFO    : Loading 1 SFTs from H1...\n",
      "25-07-20 12:31:44.339 pyfstat.utils.sft INFO    : Loading 1 SFTs from H1...\n",
      "25-07-20 12:31:44.348 pyfstat.utils.sft INFO    : Loading 1 SFTs from H1...\n",
      "25-07-20 12:31:44.358 pyfstat.utils.sft INFO    : Loading 1 SFTs from H1...\n",
      "25-07-20 12:31:44.367 pyfstat.utils.sft INFO    : Loading 1 SFTs from H1...\n",
      "25-07-20 12:31:44.377 pyfstat.utils.sft INFO    : Loading 1 SFTs from H1...\n",
      "25-07-20 12:31:44.387 pyfstat.utils.sft INFO    : Loading 1 SFTs from H1...\n",
      "25-07-20 12:31:44.397 pyfstat.utils.sft INFO    : Loading 1 SFTs from H1...\n"
     ]
    },
    {
     "name": "stderr",
     "output_type": "stream",
     "text": [
      "  3%|▎         | 651/19200 [00:06<02:59, 103.05it/s]"
     ]
    },
    {
     "name": "stdout",
     "output_type": "stream",
     "text": [
      "25-07-20 12:31:44.407 pyfstat.utils.sft INFO    : Loading 1 SFTs from H1...\n",
      "25-07-20 12:31:44.416 pyfstat.utils.sft INFO    : Loading 1 SFTs from H1...\n",
      "25-07-20 12:31:44.425 pyfstat.utils.sft INFO    : Loading 1 SFTs from H1...\n",
      "25-07-20 12:31:44.434 pyfstat.utils.sft INFO    : Loading 1 SFTs from H1...\n",
      "25-07-20 12:31:44.443 pyfstat.utils.sft INFO    : Loading 1 SFTs from H1...\n",
      "25-07-20 12:31:44.452 pyfstat.utils.sft INFO    : Loading 1 SFTs from H1...\n",
      "25-07-20 12:31:44.462 pyfstat.utils.sft INFO    : Loading 1 SFTs from H1...\n",
      "25-07-20 12:31:44.475 pyfstat.utils.sft INFO    : Loading 1 SFTs from H1...\n",
      "25-07-20 12:31:44.484 pyfstat.utils.sft INFO    : Loading 1 SFTs from H1...\n",
      "25-07-20 12:31:44.494 pyfstat.utils.sft INFO    : Loading 1 SFTs from H1...\n",
      "25-07-20 12:31:44.504 pyfstat.utils.sft INFO    : Loading 1 SFTs from H1...\n"
     ]
    },
    {
     "name": "stderr",
     "output_type": "stream",
     "text": [
      "  3%|▎         | 662/19200 [00:06<03:00, 102.71it/s]"
     ]
    },
    {
     "name": "stdout",
     "output_type": "stream",
     "text": [
      "25-07-20 12:31:44.515 pyfstat.utils.sft INFO    : Loading 1 SFTs from H1...\n",
      "25-07-20 12:31:44.525 pyfstat.utils.sft INFO    : Loading 1 SFTs from H1...\n",
      "25-07-20 12:31:44.534 pyfstat.utils.sft INFO    : Loading 1 SFTs from H1...\n",
      "25-07-20 12:31:44.544 pyfstat.utils.sft INFO    : Loading 1 SFTs from H1...\n",
      "25-07-20 12:31:44.553 pyfstat.utils.sft INFO    : Loading 1 SFTs from H1...\n",
      "25-07-20 12:31:44.563 pyfstat.utils.sft INFO    : Loading 1 SFTs from H1...\n",
      "25-07-20 12:31:44.572 pyfstat.utils.sft INFO    : Loading 1 SFTs from H1...\n",
      "25-07-20 12:31:44.582 pyfstat.utils.sft INFO    : Loading 1 SFTs from H1...\n",
      "25-07-20 12:31:44.591 pyfstat.utils.sft INFO    : Loading 1 SFTs from H1...\n",
      "25-07-20 12:31:44.602 pyfstat.utils.sft INFO    : Loading 1 SFTs from H1...\n",
      "25-07-20 12:31:44.612 pyfstat.utils.sft INFO    : Loading 1 SFTs from H1...\n"
     ]
    },
    {
     "name": "stderr",
     "output_type": "stream",
     "text": [
      "  4%|▎         | 673/19200 [00:06<03:00, 102.56it/s]"
     ]
    },
    {
     "name": "stdout",
     "output_type": "stream",
     "text": [
      "25-07-20 12:31:44.622 pyfstat.utils.sft INFO    : Loading 1 SFTs from H1...\n",
      "25-07-20 12:31:44.632 pyfstat.utils.sft INFO    : Loading 1 SFTs from H1...\n",
      "25-07-20 12:31:44.641 pyfstat.utils.sft INFO    : Loading 1 SFTs from H1...\n",
      "25-07-20 12:31:44.651 pyfstat.utils.sft INFO    : Loading 1 SFTs from H1...\n",
      "25-07-20 12:31:44.660 pyfstat.utils.sft INFO    : Loading 1 SFTs from H1...\n",
      "25-07-20 12:31:44.669 pyfstat.utils.sft INFO    : Loading 1 SFTs from H1...\n",
      "25-07-20 12:31:44.678 pyfstat.utils.sft INFO    : Loading 1 SFTs from H1...\n",
      "25-07-20 12:31:44.687 pyfstat.utils.sft INFO    : Loading 1 SFTs from H1...\n",
      "25-07-20 12:31:44.697 pyfstat.utils.sft INFO    : Loading 1 SFTs from H1...\n",
      "25-07-20 12:31:44.706 pyfstat.utils.sft INFO    : Loading 1 SFTs from H1...\n",
      "25-07-20 12:31:44.715 pyfstat.utils.sft INFO    : Loading 1 SFTs from H1...\n"
     ]
    },
    {
     "name": "stderr",
     "output_type": "stream",
     "text": [
      "  4%|▎         | 684/19200 [00:06<02:58, 103.74it/s]"
     ]
    },
    {
     "name": "stdout",
     "output_type": "stream",
     "text": [
      "25-07-20 12:31:44.726 pyfstat.utils.sft INFO    : Loading 1 SFTs from H1...\n",
      "25-07-20 12:31:44.736 pyfstat.utils.sft INFO    : Loading 1 SFTs from H1...\n",
      "25-07-20 12:31:44.746 pyfstat.utils.sft INFO    : Loading 1 SFTs from H1...\n",
      "25-07-20 12:31:44.754 pyfstat.utils.sft INFO    : Loading 1 SFTs from H1...\n",
      "25-07-20 12:31:44.763 pyfstat.utils.sft INFO    : Loading 1 SFTs from H1...\n",
      "25-07-20 12:31:44.772 pyfstat.utils.sft INFO    : Loading 1 SFTs from H1...\n",
      "25-07-20 12:31:44.781 pyfstat.utils.sft INFO    : Loading 1 SFTs from H1...\n",
      "25-07-20 12:31:44.790 pyfstat.utils.sft INFO    : Loading 1 SFTs from H1...\n",
      "25-07-20 12:31:44.799 pyfstat.utils.sft INFO    : Loading 1 SFTs from H1...\n",
      "25-07-20 12:31:44.808 pyfstat.utils.sft INFO    : Loading 1 SFTs from H1...\n",
      "25-07-20 12:31:44.818 pyfstat.utils.sft INFO    : Loading 1 SFTs from H1...\n"
     ]
    },
    {
     "name": "stderr",
     "output_type": "stream",
     "text": [
      "  4%|▎         | 695/19200 [00:06<02:56, 104.73it/s]"
     ]
    },
    {
     "name": "stdout",
     "output_type": "stream",
     "text": [
      "25-07-20 12:31:44.828 pyfstat.utils.sft INFO    : Loading 1 SFTs from H1...\n",
      "25-07-20 12:31:44.838 pyfstat.utils.sft INFO    : Loading 1 SFTs from H1...\n",
      "25-07-20 12:31:44.848 pyfstat.utils.sft INFO    : Loading 1 SFTs from H1...\n",
      "25-07-20 12:31:44.857 pyfstat.utils.sft INFO    : Loading 1 SFTs from H1...\n",
      "25-07-20 12:31:44.867 pyfstat.utils.sft INFO    : Loading 1 SFTs from H1...\n",
      "25-07-20 12:31:44.876 pyfstat.utils.sft INFO    : Loading 1 SFTs from H1...\n",
      "25-07-20 12:31:44.886 pyfstat.utils.sft INFO    : Loading 1 SFTs from H1...\n",
      "25-07-20 12:31:44.895 pyfstat.utils.sft INFO    : Loading 1 SFTs from H1...\n",
      "25-07-20 12:31:44.908 pyfstat.utils.sft INFO    : Loading 1 SFTs from H1...\n",
      "25-07-20 12:31:44.918 pyfstat.utils.sft INFO    : Loading 1 SFTs from H1...\n",
      "25-07-20 12:31:44.927 pyfstat.utils.sft INFO    : Loading 1 SFTs from H1...\n"
     ]
    },
    {
     "name": "stderr",
     "output_type": "stream",
     "text": [
      "  4%|▎         | 706/19200 [00:06<02:58, 103.59it/s]"
     ]
    },
    {
     "name": "stdout",
     "output_type": "stream",
     "text": [
      "25-07-20 12:31:44.937 pyfstat.utils.sft INFO    : Loading 1 SFTs from H1...\n",
      "25-07-20 12:31:44.947 pyfstat.utils.sft INFO    : Loading 1 SFTs from H1...\n",
      "25-07-20 12:31:44.957 pyfstat.utils.sft INFO    : Loading 1 SFTs from H1...\n",
      "25-07-20 12:31:44.966 pyfstat.utils.sft INFO    : Loading 1 SFTs from H1...\n",
      "25-07-20 12:31:44.975 pyfstat.utils.sft INFO    : Loading 1 SFTs from H1...\n",
      "25-07-20 12:31:44.984 pyfstat.utils.sft INFO    : Loading 1 SFTs from H1...\n",
      "25-07-20 12:31:44.993 pyfstat.utils.sft INFO    : Loading 1 SFTs from H1...\n",
      "25-07-20 12:31:45.002 pyfstat.utils.sft INFO    : Loading 1 SFTs from H1...\n",
      "25-07-20 12:31:45.010 pyfstat.utils.sft INFO    : Loading 1 SFTs from H1...\n",
      "25-07-20 12:31:45.020 pyfstat.utils.sft INFO    : Loading 1 SFTs from H1...\n",
      "25-07-20 12:31:45.029 pyfstat.utils.sft INFO    : Loading 1 SFTs from H1...\n"
     ]
    },
    {
     "name": "stderr",
     "output_type": "stream",
     "text": [
      "  4%|▎         | 717/19200 [00:07<02:56, 104.69it/s]"
     ]
    },
    {
     "name": "stdout",
     "output_type": "stream",
     "text": [
      "25-07-20 12:31:45.039 pyfstat.utils.sft INFO    : Loading 1 SFTs from H1...\n",
      "25-07-20 12:31:45.049 pyfstat.utils.sft INFO    : Loading 1 SFTs from H1...\n",
      "25-07-20 12:31:45.059 pyfstat.utils.sft INFO    : Loading 1 SFTs from H1...\n",
      "25-07-20 12:31:45.068 pyfstat.utils.sft INFO    : Loading 1 SFTs from H1...\n",
      "25-07-20 12:31:45.077 pyfstat.utils.sft INFO    : Loading 1 SFTs from H1...\n",
      "25-07-20 12:31:45.086 pyfstat.utils.sft INFO    : Loading 1 SFTs from H1...\n",
      "25-07-20 12:31:45.095 pyfstat.utils.sft INFO    : Loading 1 SFTs from H1...\n",
      "25-07-20 12:31:45.105 pyfstat.utils.sft INFO    : Loading 1 SFTs from H1...\n",
      "25-07-20 12:31:45.114 pyfstat.utils.sft INFO    : Loading 1 SFTs from H1...\n",
      "25-07-20 12:31:45.124 pyfstat.utils.sft INFO    : Loading 1 SFTs from H1...\n",
      "25-07-20 12:31:45.133 pyfstat.utils.sft INFO    : Loading 1 SFTs from H1...\n"
     ]
    },
    {
     "name": "stderr",
     "output_type": "stream",
     "text": [
      "  4%|▍         | 728/19200 [00:07<02:55, 105.23it/s]"
     ]
    },
    {
     "name": "stdout",
     "output_type": "stream",
     "text": [
      "25-07-20 12:31:45.142 pyfstat.utils.sft INFO    : Loading 1 SFTs from H1...\n",
      "25-07-20 12:31:45.151 pyfstat.utils.sft INFO    : Loading 1 SFTs from H1...\n",
      "25-07-20 12:31:45.160 pyfstat.utils.sft INFO    : Loading 1 SFTs from H1...\n",
      "25-07-20 12:31:45.169 pyfstat.utils.sft INFO    : Loading 1 SFTs from H1...\n",
      "25-07-20 12:31:45.178 pyfstat.utils.sft INFO    : Loading 1 SFTs from H1...\n",
      "25-07-20 12:31:45.187 pyfstat.utils.sft INFO    : Loading 1 SFTs from H1...\n",
      "25-07-20 12:31:45.195 pyfstat.utils.sft INFO    : Loading 1 SFTs from H1...\n",
      "25-07-20 12:31:45.204 pyfstat.utils.sft INFO    : Loading 1 SFTs from H1...\n",
      "25-07-20 12:31:45.213 pyfstat.utils.sft INFO    : Loading 1 SFTs from H1...\n",
      "25-07-20 12:31:45.222 pyfstat.utils.sft INFO    : Loading 1 SFTs from H1...\n",
      "25-07-20 12:31:45.230 pyfstat.utils.sft INFO    : Loading 1 SFTs from H1...\n",
      "25-07-20 12:31:45.239 pyfstat.utils.sft INFO    : Loading 1 SFTs from H1...\n"
     ]
    },
    {
     "name": "stderr",
     "output_type": "stream",
     "text": [
      "  4%|▍         | 740/19200 [00:07<02:51, 107.65it/s]"
     ]
    },
    {
     "name": "stdout",
     "output_type": "stream",
     "text": [
      "25-07-20 12:31:45.248 pyfstat.utils.sft INFO    : Loading 1 SFTs from H1...\n",
      "25-07-20 12:31:45.258 pyfstat.utils.sft INFO    : Loading 1 SFTs from H1...\n",
      "25-07-20 12:31:45.267 pyfstat.utils.sft INFO    : Loading 1 SFTs from H1...\n",
      "25-07-20 12:31:45.276 pyfstat.utils.sft INFO    : Loading 1 SFTs from H1...\n",
      "25-07-20 12:31:45.285 pyfstat.utils.sft INFO    : Loading 1 SFTs from H1...\n",
      "25-07-20 12:31:45.294 pyfstat.utils.sft INFO    : Loading 1 SFTs from H1...\n",
      "25-07-20 12:31:45.303 pyfstat.utils.sft INFO    : Loading 1 SFTs from H1...\n",
      "25-07-20 12:31:45.312 pyfstat.utils.sft INFO    : Loading 1 SFTs from H1...\n",
      "25-07-20 12:31:45.322 pyfstat.utils.sft INFO    : Loading 1 SFTs from H1...\n",
      "25-07-20 12:31:45.331 pyfstat.utils.sft INFO    : Loading 1 SFTs from H1...\n",
      "25-07-20 12:31:45.340 pyfstat.utils.sft INFO    : Loading 1 SFTs from H1...\n"
     ]
    },
    {
     "name": "stderr",
     "output_type": "stream",
     "text": [
      "  4%|▍         | 751/19200 [00:07<02:50, 108.05it/s]"
     ]
    },
    {
     "name": "stdout",
     "output_type": "stream",
     "text": [
      "25-07-20 12:31:45.349 pyfstat.utils.sft INFO    : Loading 1 SFTs from H1...\n",
      "25-07-20 12:31:45.358 pyfstat.utils.sft INFO    : Loading 1 SFTs from H1...\n",
      "25-07-20 12:31:45.367 pyfstat.utils.sft INFO    : Loading 1 SFTs from H1...\n",
      "25-07-20 12:31:45.375 pyfstat.utils.sft INFO    : Loading 1 SFTs from H1...\n",
      "25-07-20 12:31:45.384 pyfstat.utils.sft INFO    : Loading 1 SFTs from H1...\n",
      "25-07-20 12:31:45.394 pyfstat.utils.sft INFO    : Loading 1 SFTs from H1...\n",
      "25-07-20 12:31:45.402 pyfstat.utils.sft INFO    : Loading 1 SFTs from H1...\n",
      "25-07-20 12:31:45.411 pyfstat.utils.sft INFO    : Loading 1 SFTs from H1...\n",
      "25-07-20 12:31:45.421 pyfstat.utils.sft INFO    : Loading 1 SFTs from H1...\n",
      "25-07-20 12:31:45.430 pyfstat.utils.sft INFO    : Loading 1 SFTs from H1...\n",
      "25-07-20 12:31:45.439 pyfstat.utils.sft INFO    : Loading 1 SFTs from H1...\n",
      "25-07-20 12:31:45.448 pyfstat.utils.sft INFO    : Loading 1 SFTs from H1...\n"
     ]
    },
    {
     "name": "stderr",
     "output_type": "stream",
     "text": [
      "  4%|▍         | 763/19200 [00:07<02:49, 108.94it/s]"
     ]
    },
    {
     "name": "stdout",
     "output_type": "stream",
     "text": [
      "25-07-20 12:31:45.457 pyfstat.utils.sft INFO    : Loading 1 SFTs from H1...\n",
      "25-07-20 12:31:45.467 pyfstat.utils.sft INFO    : Loading 1 SFTs from H1...\n",
      "25-07-20 12:31:45.476 pyfstat.utils.sft INFO    : Loading 1 SFTs from H1...\n",
      "25-07-20 12:31:45.485 pyfstat.utils.sft INFO    : Loading 1 SFTs from H1...\n",
      "25-07-20 12:31:45.495 pyfstat.utils.sft INFO    : Loading 1 SFTs from H1...\n",
      "25-07-20 12:31:45.504 pyfstat.utils.sft INFO    : Loading 1 SFTs from H1...\n",
      "25-07-20 12:31:45.513 pyfstat.utils.sft INFO    : Loading 1 SFTs from H1...\n",
      "25-07-20 12:31:45.522 pyfstat.utils.sft INFO    : Loading 1 SFTs from H1...\n",
      "25-07-20 12:31:45.531 pyfstat.utils.sft INFO    : Loading 1 SFTs from H1...\n",
      "25-07-20 12:31:45.540 pyfstat.utils.sft INFO    : Loading 1 SFTs from H1...\n",
      "25-07-20 12:31:45.550 pyfstat.utils.sft INFO    : Loading 1 SFTs from H1...\n"
     ]
    },
    {
     "name": "stderr",
     "output_type": "stream",
     "text": [
      "  4%|▍         | 774/19200 [00:07<02:49, 108.63it/s]"
     ]
    },
    {
     "name": "stdout",
     "output_type": "stream",
     "text": [
      "25-07-20 12:31:45.559 pyfstat.utils.sft INFO    : Loading 1 SFTs from H1...\n",
      "25-07-20 12:31:45.569 pyfstat.utils.sft INFO    : Loading 1 SFTs from H1...\n",
      "25-07-20 12:31:45.578 pyfstat.utils.sft INFO    : Loading 1 SFTs from H1...\n",
      "25-07-20 12:31:45.587 pyfstat.utils.sft INFO    : Loading 1 SFTs from H1...\n",
      "25-07-20 12:31:45.597 pyfstat.utils.sft INFO    : Loading 1 SFTs from H1...\n",
      "25-07-20 12:31:45.606 pyfstat.utils.sft INFO    : Loading 1 SFTs from H1...\n",
      "25-07-20 12:31:45.616 pyfstat.utils.sft INFO    : Loading 1 SFTs from H1...\n",
      "25-07-20 12:31:45.626 pyfstat.utils.sft INFO    : Loading 1 SFTs from H1...\n",
      "25-07-20 12:31:45.635 pyfstat.utils.sft INFO    : Loading 1 SFTs from H1...\n",
      "25-07-20 12:31:45.644 pyfstat.utils.sft INFO    : Loading 1 SFTs from H1...\n",
      "25-07-20 12:31:45.653 pyfstat.utils.sft INFO    : Loading 1 SFTs from H1...\n"
     ]
    },
    {
     "name": "stderr",
     "output_type": "stream",
     "text": [
      "  4%|▍         | 785/19200 [00:07<02:50, 107.87it/s]"
     ]
    },
    {
     "name": "stdout",
     "output_type": "stream",
     "text": [
      "25-07-20 12:31:45.663 pyfstat.utils.sft INFO    : Loading 1 SFTs from H1...\n",
      "25-07-20 12:31:45.676 pyfstat.utils.sft INFO    : Loading 1 SFTs from H1...\n",
      "25-07-20 12:31:45.685 pyfstat.utils.sft INFO    : Loading 1 SFTs from H1...\n",
      "25-07-20 12:31:45.694 pyfstat.utils.sft INFO    : Loading 1 SFTs from H1...\n",
      "25-07-20 12:31:45.703 pyfstat.utils.sft INFO    : Loading 1 SFTs from H1...\n",
      "25-07-20 12:31:45.712 pyfstat.utils.sft INFO    : Loading 1 SFTs from H1...\n",
      "25-07-20 12:31:45.721 pyfstat.utils.sft INFO    : Loading 1 SFTs from H1...\n",
      "25-07-20 12:31:45.731 pyfstat.utils.sft INFO    : Loading 1 SFTs from H1...\n",
      "25-07-20 12:31:45.740 pyfstat.utils.sft INFO    : Loading 1 SFTs from H1...\n",
      "25-07-20 12:31:45.749 pyfstat.utils.sft INFO    : Loading 1 SFTs from H1...\n",
      "25-07-20 12:31:45.759 pyfstat.utils.sft INFO    : Loading 1 SFTs from H1...\n"
     ]
    },
    {
     "name": "stderr",
     "output_type": "stream",
     "text": [
      "  4%|▍         | 796/19200 [00:07<02:52, 106.81it/s]"
     ]
    },
    {
     "name": "stdout",
     "output_type": "stream",
     "text": [
      "25-07-20 12:31:45.769 pyfstat.utils.sft INFO    : Loading 1 SFTs from H1...\n",
      "25-07-20 12:31:45.778 pyfstat.utils.sft INFO    : Loading 1 SFTs from H1...\n",
      "25-07-20 12:31:45.787 pyfstat.utils.sft INFO    : Loading 1 SFTs from H1...\n",
      "25-07-20 12:31:45.797 pyfstat.utils.sft INFO    : Loading 1 SFTs from H1...\n",
      "25-07-20 12:31:45.806 pyfstat.utils.sft INFO    : Loading 1 SFTs from H1...\n",
      "25-07-20 12:31:45.815 pyfstat.utils.sft INFO    : Loading 1 SFTs from H1...\n",
      "25-07-20 12:31:45.823 pyfstat.utils.sft INFO    : Loading 1 SFTs from H1...\n",
      "25-07-20 12:31:45.833 pyfstat.utils.sft INFO    : Loading 1 SFTs from H1...\n",
      "25-07-20 12:31:45.842 pyfstat.utils.sft INFO    : Loading 1 SFTs from H1...\n",
      "25-07-20 12:31:45.851 pyfstat.utils.sft INFO    : Loading 1 SFTs from H1...\n",
      "25-07-20 12:31:45.860 pyfstat.utils.sft INFO    : Loading 1 SFTs from H1...\n"
     ]
    },
    {
     "name": "stderr",
     "output_type": "stream",
     "text": [
      "  4%|▍         | 807/19200 [00:07<02:51, 107.45it/s]"
     ]
    },
    {
     "name": "stdout",
     "output_type": "stream",
     "text": [
      "25-07-20 12:31:45.869 pyfstat.utils.sft INFO    : Loading 1 SFTs from H1...\n",
      "25-07-20 12:31:45.879 pyfstat.utils.sft INFO    : Loading 1 SFTs from H1...\n",
      "25-07-20 12:31:45.888 pyfstat.utils.sft INFO    : Loading 1 SFTs from H1...\n",
      "25-07-20 12:31:45.898 pyfstat.utils.sft INFO    : Loading 1 SFTs from H1...\n",
      "25-07-20 12:31:45.907 pyfstat.utils.sft INFO    : Loading 1 SFTs from H1...\n",
      "25-07-20 12:31:45.917 pyfstat.utils.sft INFO    : Loading 1 SFTs from H1...\n",
      "25-07-20 12:31:45.926 pyfstat.utils.sft INFO    : Loading 1 SFTs from H1...\n",
      "25-07-20 12:31:45.935 pyfstat.utils.sft INFO    : Loading 1 SFTs from H1...\n",
      "25-07-20 12:31:45.944 pyfstat.utils.sft INFO    : Loading 1 SFTs from H1...\n",
      "25-07-20 12:31:45.953 pyfstat.utils.sft INFO    : Loading 1 SFTs from H1...\n",
      "25-07-20 12:31:45.962 pyfstat.utils.sft INFO    : Loading 1 SFTs from H1...\n"
     ]
    },
    {
     "name": "stderr",
     "output_type": "stream",
     "text": [
      "  4%|▍         | 818/19200 [00:08<02:50, 107.58it/s]"
     ]
    },
    {
     "name": "stdout",
     "output_type": "stream",
     "text": [
      "25-07-20 12:31:45.971 pyfstat.utils.sft INFO    : Loading 1 SFTs from H1...\n",
      "25-07-20 12:31:45.981 pyfstat.utils.sft INFO    : Loading 1 SFTs from H1...\n",
      "25-07-20 12:31:45.991 pyfstat.utils.sft INFO    : Loading 1 SFTs from H1...\n",
      "25-07-20 12:31:46.000 pyfstat.utils.sft INFO    : Loading 1 SFTs from H1...\n",
      "25-07-20 12:31:46.009 pyfstat.utils.sft INFO    : Loading 1 SFTs from H1...\n",
      "25-07-20 12:31:46.018 pyfstat.utils.sft INFO    : Loading 1 SFTs from H1...\n",
      "25-07-20 12:31:46.027 pyfstat.utils.sft INFO    : Loading 1 SFTs from H1...\n",
      "25-07-20 12:31:46.036 pyfstat.utils.sft INFO    : Loading 1 SFTs from H1...\n",
      "25-07-20 12:31:46.045 pyfstat.utils.sft INFO    : Loading 1 SFTs from H1...\n",
      "25-07-20 12:31:46.054 pyfstat.utils.sft INFO    : Loading 1 SFTs from H1...\n",
      "25-07-20 12:31:46.064 pyfstat.utils.sft INFO    : Loading 1 SFTs from H1...\n"
     ]
    },
    {
     "name": "stderr",
     "output_type": "stream",
     "text": [
      "  4%|▍         | 829/19200 [00:08<02:50, 107.55it/s]"
     ]
    },
    {
     "name": "stdout",
     "output_type": "stream",
     "text": [
      "25-07-20 12:31:46.074 pyfstat.utils.sft INFO    : Loading 1 SFTs from H1...\n",
      "25-07-20 12:31:46.084 pyfstat.utils.sft INFO    : Loading 1 SFTs from H1...\n",
      "25-07-20 12:31:46.094 pyfstat.utils.sft INFO    : Loading 1 SFTs from H1...\n",
      "25-07-20 12:31:46.103 pyfstat.utils.sft INFO    : Loading 1 SFTs from H1...\n",
      "25-07-20 12:31:46.112 pyfstat.utils.sft INFO    : Loading 1 SFTs from H1...\n",
      "25-07-20 12:31:46.122 pyfstat.utils.sft INFO    : Loading 1 SFTs from H1...\n",
      "25-07-20 12:31:46.131 pyfstat.utils.sft INFO    : Loading 1 SFTs from H1...\n",
      "25-07-20 12:31:46.141 pyfstat.utils.sft INFO    : Loading 1 SFTs from H1...\n",
      "25-07-20 12:31:46.150 pyfstat.utils.sft INFO    : Loading 1 SFTs from H1...\n",
      "25-07-20 12:31:46.160 pyfstat.utils.sft INFO    : Loading 1 SFTs from H1...\n",
      "25-07-20 12:31:46.170 pyfstat.utils.sft INFO    : Loading 1 SFTs from H1...\n"
     ]
    },
    {
     "name": "stderr",
     "output_type": "stream",
     "text": [
      "  4%|▍         | 840/19200 [00:08<02:52, 106.47it/s]"
     ]
    },
    {
     "name": "stdout",
     "output_type": "stream",
     "text": [
      "25-07-20 12:31:46.179 pyfstat.utils.sft INFO    : Loading 1 SFTs from H1...\n",
      "25-07-20 12:31:46.189 pyfstat.utils.sft INFO    : Loading 1 SFTs from H1...\n",
      "25-07-20 12:31:46.199 pyfstat.utils.sft INFO    : Loading 1 SFTs from H1...\n",
      "25-07-20 12:31:46.208 pyfstat.utils.sft INFO    : Loading 1 SFTs from H1...\n",
      "25-07-20 12:31:46.217 pyfstat.utils.sft INFO    : Loading 1 SFTs from H1...\n",
      "25-07-20 12:31:46.226 pyfstat.utils.sft INFO    : Loading 1 SFTs from H1...\n",
      "25-07-20 12:31:46.235 pyfstat.utils.sft INFO    : Loading 1 SFTs from H1...\n",
      "25-07-20 12:31:46.244 pyfstat.utils.sft INFO    : Loading 1 SFTs from H1...\n",
      "25-07-20 12:31:46.253 pyfstat.utils.sft INFO    : Loading 1 SFTs from H1...\n",
      "25-07-20 12:31:46.262 pyfstat.utils.sft INFO    : Loading 1 SFTs from H1...\n",
      "25-07-20 12:31:46.272 pyfstat.utils.sft INFO    : Loading 1 SFTs from H1...\n"
     ]
    },
    {
     "name": "stderr",
     "output_type": "stream",
     "text": [
      "  4%|▍         | 851/19200 [00:08<02:52, 106.58it/s]"
     ]
    },
    {
     "name": "stdout",
     "output_type": "stream",
     "text": [
      "25-07-20 12:31:46.283 pyfstat.utils.sft INFO    : Loading 1 SFTs from H1...\n",
      "25-07-20 12:31:46.293 pyfstat.utils.sft INFO    : Loading 1 SFTs from H1...\n",
      "25-07-20 12:31:46.302 pyfstat.utils.sft INFO    : Loading 1 SFTs from H1...\n",
      "25-07-20 12:31:46.312 pyfstat.utils.sft INFO    : Loading 1 SFTs from H1...\n",
      "25-07-20 12:31:46.321 pyfstat.utils.sft INFO    : Loading 1 SFTs from H1...\n",
      "25-07-20 12:31:46.330 pyfstat.utils.sft INFO    : Loading 1 SFTs from H1...\n",
      "25-07-20 12:31:46.340 pyfstat.utils.sft INFO    : Loading 1 SFTs from H1...\n",
      "25-07-20 12:31:46.349 pyfstat.utils.sft INFO    : Loading 1 SFTs from H1...\n",
      "25-07-20 12:31:46.358 pyfstat.utils.sft INFO    : Loading 1 SFTs from H1...\n",
      "25-07-20 12:31:46.371 pyfstat.utils.sft INFO    : Loading 1 SFTs from H1...\n",
      "25-07-20 12:31:46.380 pyfstat.utils.sft INFO    : Loading 1 SFTs from H1...\n"
     ]
    },
    {
     "name": "stderr",
     "output_type": "stream",
     "text": [
      "  4%|▍         | 862/19200 [00:08<02:54, 105.07it/s]"
     ]
    },
    {
     "name": "stdout",
     "output_type": "stream",
     "text": [
      "25-07-20 12:31:46.391 pyfstat.utils.sft INFO    : Loading 1 SFTs from H1...\n",
      "25-07-20 12:31:46.400 pyfstat.utils.sft INFO    : Loading 1 SFTs from H1...\n",
      "25-07-20 12:31:46.409 pyfstat.utils.sft INFO    : Loading 1 SFTs from H1...\n",
      "25-07-20 12:31:46.418 pyfstat.utils.sft INFO    : Loading 1 SFTs from H1...\n",
      "25-07-20 12:31:46.427 pyfstat.utils.sft INFO    : Loading 1 SFTs from H1...\n",
      "25-07-20 12:31:46.436 pyfstat.utils.sft INFO    : Loading 1 SFTs from H1...\n",
      "25-07-20 12:31:46.445 pyfstat.utils.sft INFO    : Loading 1 SFTs from H1...\n",
      "25-07-20 12:31:46.454 pyfstat.utils.sft INFO    : Loading 1 SFTs from H1...\n",
      "25-07-20 12:31:46.463 pyfstat.utils.sft INFO    : Loading 1 SFTs from H1...\n",
      "25-07-20 12:31:46.471 pyfstat.utils.sft INFO    : Loading 1 SFTs from H1...\n",
      "25-07-20 12:31:46.480 pyfstat.utils.sft INFO    : Loading 1 SFTs from H1...\n",
      "25-07-20 12:31:46.489 pyfstat.utils.sft INFO    : Loading 1 SFTs from H1...\n"
     ]
    },
    {
     "name": "stderr",
     "output_type": "stream",
     "text": [
      "  5%|▍         | 874/19200 [00:08<02:51, 107.01it/s]"
     ]
    },
    {
     "name": "stdout",
     "output_type": "stream",
     "text": [
      "25-07-20 12:31:46.499 pyfstat.utils.sft INFO    : Loading 1 SFTs from H1...\n",
      "25-07-20 12:31:46.509 pyfstat.utils.sft INFO    : Loading 1 SFTs from H1...\n",
      "25-07-20 12:31:46.518 pyfstat.utils.sft INFO    : Loading 1 SFTs from H1...\n",
      "25-07-20 12:31:46.527 pyfstat.utils.sft INFO    : Loading 1 SFTs from H1...\n",
      "25-07-20 12:31:46.536 pyfstat.utils.sft INFO    : Loading 1 SFTs from H1...\n",
      "25-07-20 12:31:46.545 pyfstat.utils.sft INFO    : Loading 1 SFTs from H1...\n",
      "25-07-20 12:31:46.554 pyfstat.utils.sft INFO    : Loading 1 SFTs from H1...\n",
      "25-07-20 12:31:46.563 pyfstat.utils.sft INFO    : Loading 1 SFTs from H1...\n",
      "25-07-20 12:31:46.572 pyfstat.utils.sft INFO    : Loading 1 SFTs from H1...\n",
      "25-07-20 12:31:46.581 pyfstat.utils.sft INFO    : Loading 1 SFTs from H1...\n",
      "25-07-20 12:31:46.590 pyfstat.utils.sft INFO    : Loading 1 SFTs from H1...\n"
     ]
    },
    {
     "name": "stderr",
     "output_type": "stream",
     "text": [
      "  5%|▍         | 885/19200 [00:08<02:50, 107.47it/s]"
     ]
    },
    {
     "name": "stdout",
     "output_type": "stream",
     "text": [
      "25-07-20 12:31:46.600 pyfstat.utils.sft INFO    : Loading 1 SFTs from H1...\n",
      "25-07-20 12:31:46.609 pyfstat.utils.sft INFO    : Loading 1 SFTs from H1...\n",
      "25-07-20 12:31:46.619 pyfstat.utils.sft INFO    : Loading 1 SFTs from H1...\n",
      "25-07-20 12:31:46.628 pyfstat.utils.sft INFO    : Loading 1 SFTs from H1...\n",
      "25-07-20 12:31:46.638 pyfstat.utils.sft INFO    : Loading 1 SFTs from H1...\n",
      "25-07-20 12:31:46.647 pyfstat.utils.sft INFO    : Loading 1 SFTs from H1...\n",
      "25-07-20 12:31:46.656 pyfstat.utils.sft INFO    : Loading 1 SFTs from H1...\n",
      "25-07-20 12:31:46.665 pyfstat.utils.sft INFO    : Loading 1 SFTs from H1...\n",
      "25-07-20 12:31:46.674 pyfstat.utils.sft INFO    : Loading 1 SFTs from H1...\n",
      "25-07-20 12:31:46.683 pyfstat.utils.sft INFO    : Loading 1 SFTs from H1...\n",
      "25-07-20 12:31:46.692 pyfstat.utils.sft INFO    : Loading 1 SFTs from H1...\n"
     ]
    },
    {
     "name": "stderr",
     "output_type": "stream",
     "text": [
      "  5%|▍         | 896/19200 [00:08<02:50, 107.41it/s]"
     ]
    },
    {
     "name": "stdout",
     "output_type": "stream",
     "text": [
      "25-07-20 12:31:46.702 pyfstat.utils.sft INFO    : Loading 1 SFTs from H1...\n",
      "25-07-20 12:31:46.711 pyfstat.utils.sft INFO    : Loading 1 SFTs from H1...\n",
      "25-07-20 12:31:46.721 pyfstat.utils.sft INFO    : Loading 1 SFTs from H1...\n",
      "25-07-20 12:31:46.730 pyfstat.utils.sft INFO    : Loading 1 SFTs from H1...\n",
      "25-07-20 12:31:46.739 pyfstat.utils.sft INFO    : Loading 1 SFTs from H1...\n",
      "25-07-20 12:31:46.749 pyfstat.utils.sft INFO    : Loading 1 SFTs from H1...\n",
      "25-07-20 12:31:46.758 pyfstat.utils.sft INFO    : Loading 1 SFTs from H1...\n",
      "25-07-20 12:31:46.767 pyfstat.utils.sft INFO    : Loading 1 SFTs from H1...\n",
      "25-07-20 12:31:46.776 pyfstat.utils.sft INFO    : Loading 1 SFTs from H1...\n",
      "25-07-20 12:31:46.785 pyfstat.utils.sft INFO    : Loading 1 SFTs from H1...\n",
      "25-07-20 12:31:46.794 pyfstat.utils.sft INFO    : Loading 1 SFTs from H1...\n"
     ]
    },
    {
     "name": "stderr",
     "output_type": "stream",
     "text": [
      "  5%|▍         | 907/19200 [00:08<02:50, 107.60it/s]"
     ]
    },
    {
     "name": "stdout",
     "output_type": "stream",
     "text": [
      "25-07-20 12:31:46.804 pyfstat.utils.sft INFO    : Loading 1 SFTs from H1...\n",
      "25-07-20 12:31:46.814 pyfstat.utils.sft INFO    : Loading 1 SFTs from H1...\n",
      "25-07-20 12:31:46.823 pyfstat.utils.sft INFO    : Loading 1 SFTs from H1...\n",
      "25-07-20 12:31:46.833 pyfstat.utils.sft INFO    : Loading 1 SFTs from H1...\n",
      "25-07-20 12:31:46.843 pyfstat.utils.sft INFO    : Loading 1 SFTs from H1...\n",
      "25-07-20 12:31:46.852 pyfstat.utils.sft INFO    : Loading 1 SFTs from H1...\n",
      "25-07-20 12:31:46.862 pyfstat.utils.sft INFO    : Loading 1 SFTs from H1...\n",
      "25-07-20 12:31:46.872 pyfstat.utils.sft INFO    : Loading 1 SFTs from H1...\n",
      "25-07-20 12:31:46.881 pyfstat.utils.sft INFO    : Loading 1 SFTs from H1...\n",
      "25-07-20 12:31:46.890 pyfstat.utils.sft INFO    : Loading 1 SFTs from H1...\n",
      "25-07-20 12:31:46.900 pyfstat.utils.sft INFO    : Loading 1 SFTs from H1...\n"
     ]
    },
    {
     "name": "stderr",
     "output_type": "stream",
     "text": [
      "  5%|▍         | 918/19200 [00:08<02:54, 104.66it/s]"
     ]
    },
    {
     "name": "stdout",
     "output_type": "stream",
     "text": [
      "25-07-20 12:31:46.916 pyfstat.utils.sft INFO    : Loading 1 SFTs from H1...\n",
      "25-07-20 12:31:46.925 pyfstat.utils.sft INFO    : Loading 1 SFTs from H1...\n",
      "25-07-20 12:31:46.935 pyfstat.utils.sft INFO    : Loading 1 SFTs from H1...\n",
      "25-07-20 12:31:46.944 pyfstat.utils.sft INFO    : Loading 1 SFTs from H1...\n",
      "25-07-20 12:31:46.953 pyfstat.utils.sft INFO    : Loading 1 SFTs from H1...\n",
      "25-07-20 12:31:46.962 pyfstat.utils.sft INFO    : Loading 1 SFTs from H1...\n",
      "25-07-20 12:31:46.971 pyfstat.utils.sft INFO    : Loading 1 SFTs from H1...\n",
      "25-07-20 12:31:46.980 pyfstat.utils.sft INFO    : Loading 1 SFTs from H1...\n",
      "25-07-20 12:31:46.989 pyfstat.utils.sft INFO    : Loading 1 SFTs from H1...\n",
      "25-07-20 12:31:46.999 pyfstat.utils.sft INFO    : Loading 1 SFTs from H1...\n",
      "25-07-20 12:31:47.008 pyfstat.utils.sft INFO    : Loading 1 SFTs from H1...\n"
     ]
    },
    {
     "name": "stderr",
     "output_type": "stream",
     "text": [
      "  5%|▍         | 929/19200 [00:09<02:52, 105.64it/s]"
     ]
    },
    {
     "name": "stdout",
     "output_type": "stream",
     "text": [
      "25-07-20 12:31:47.018 pyfstat.utils.sft INFO    : Loading 1 SFTs from H1...\n",
      "25-07-20 12:31:47.027 pyfstat.utils.sft INFO    : Loading 1 SFTs from H1...\n",
      "25-07-20 12:31:47.036 pyfstat.utils.sft INFO    : Loading 1 SFTs from H1...\n",
      "25-07-20 12:31:47.046 pyfstat.utils.sft INFO    : Loading 1 SFTs from H1...\n",
      "25-07-20 12:31:47.055 pyfstat.utils.sft INFO    : Loading 1 SFTs from H1...\n",
      "25-07-20 12:31:47.065 pyfstat.utils.sft INFO    : Loading 1 SFTs from H1...\n",
      "25-07-20 12:31:47.075 pyfstat.utils.sft INFO    : Loading 1 SFTs from H1...\n",
      "25-07-20 12:31:47.084 pyfstat.utils.sft INFO    : Loading 1 SFTs from H1...\n",
      "25-07-20 12:31:47.093 pyfstat.utils.sft INFO    : Loading 1 SFTs from H1...\n",
      "25-07-20 12:31:47.103 pyfstat.utils.sft INFO    : Loading 1 SFTs from H1...\n",
      "25-07-20 12:31:47.112 pyfstat.utils.sft INFO    : Loading 1 SFTs from H1...\n"
     ]
    },
    {
     "name": "stderr",
     "output_type": "stream",
     "text": [
      "  5%|▍         | 940/19200 [00:09<02:53, 105.52it/s]"
     ]
    },
    {
     "name": "stdout",
     "output_type": "stream",
     "text": [
      "25-07-20 12:31:47.126 pyfstat.utils.sft INFO    : Loading 1 SFTs from H1...\n",
      "25-07-20 12:31:47.135 pyfstat.utils.sft INFO    : Loading 1 SFTs from H1...\n",
      "25-07-20 12:31:47.145 pyfstat.utils.sft INFO    : Loading 1 SFTs from H1...\n",
      "25-07-20 12:31:47.154 pyfstat.utils.sft INFO    : Loading 1 SFTs from H1...\n",
      "25-07-20 12:31:47.163 pyfstat.utils.sft INFO    : Loading 1 SFTs from H1...\n",
      "25-07-20 12:31:47.173 pyfstat.utils.sft INFO    : Loading 1 SFTs from H1...\n",
      "25-07-20 12:31:47.182 pyfstat.utils.sft INFO    : Loading 1 SFTs from H1...\n",
      "25-07-20 12:31:47.192 pyfstat.utils.sft INFO    : Loading 1 SFTs from H1...\n",
      "25-07-20 12:31:47.201 pyfstat.utils.sft INFO    : Loading 1 SFTs from H1...\n",
      "25-07-20 12:31:47.210 pyfstat.utils.sft INFO    : Loading 1 SFTs from H1...\n",
      "25-07-20 12:31:47.219 pyfstat.utils.sft INFO    : Loading 1 SFTs from H1...\n"
     ]
    },
    {
     "name": "stderr",
     "output_type": "stream",
     "text": [
      "  5%|▍         | 951/19200 [00:09<02:54, 104.81it/s]"
     ]
    },
    {
     "name": "stdout",
     "output_type": "stream",
     "text": [
      "25-07-20 12:31:47.229 pyfstat.utils.sft INFO    : Loading 1 SFTs from H1...\n",
      "25-07-20 12:31:47.238 pyfstat.utils.sft INFO    : Loading 1 SFTs from H1...\n",
      "25-07-20 12:31:47.247 pyfstat.utils.sft INFO    : Loading 1 SFTs from H1...\n",
      "25-07-20 12:31:47.260 pyfstat.utils.sft INFO    : Loading 1 SFTs from H1...\n",
      "25-07-20 12:31:47.270 pyfstat.utils.sft INFO    : Loading 1 SFTs from H1...\n",
      "25-07-20 12:31:47.280 pyfstat.utils.sft INFO    : Loading 1 SFTs from H1...\n",
      "25-07-20 12:31:47.289 pyfstat.utils.sft INFO    : Loading 1 SFTs from H1...\n",
      "25-07-20 12:31:47.298 pyfstat.utils.sft INFO    : Loading 1 SFTs from H1...\n",
      "25-07-20 12:31:47.308 pyfstat.utils.sft INFO    : Loading 1 SFTs from H1...\n",
      "25-07-20 12:31:47.318 pyfstat.utils.sft INFO    : Loading 1 SFTs from H1...\n",
      "25-07-20 12:31:47.327 pyfstat.utils.sft INFO    : Loading 1 SFTs from H1...\n"
     ]
    },
    {
     "name": "stderr",
     "output_type": "stream",
     "text": [
      "  5%|▌         | 962/19200 [00:09<02:55, 103.95it/s]"
     ]
    },
    {
     "name": "stdout",
     "output_type": "stream",
     "text": [
      "25-07-20 12:31:47.337 pyfstat.utils.sft INFO    : Loading 1 SFTs from H1...\n",
      "25-07-20 12:31:47.347 pyfstat.utils.sft INFO    : Loading 1 SFTs from H1...\n",
      "25-07-20 12:31:47.356 pyfstat.utils.sft INFO    : Loading 1 SFTs from H1...\n",
      "25-07-20 12:31:47.365 pyfstat.utils.sft INFO    : Loading 1 SFTs from H1...\n",
      "25-07-20 12:31:47.375 pyfstat.utils.sft INFO    : Loading 1 SFTs from H1...\n",
      "25-07-20 12:31:47.385 pyfstat.utils.sft INFO    : Loading 1 SFTs from H1...\n",
      "25-07-20 12:31:47.394 pyfstat.utils.sft INFO    : Loading 1 SFTs from H1...\n",
      "25-07-20 12:31:47.404 pyfstat.utils.sft INFO    : Loading 1 SFTs from H1...\n",
      "25-07-20 12:31:47.413 pyfstat.utils.sft INFO    : Loading 1 SFTs from H1...\n",
      "25-07-20 12:31:47.422 pyfstat.utils.sft INFO    : Loading 1 SFTs from H1...\n",
      "25-07-20 12:31:47.432 pyfstat.utils.sft INFO    : Loading 1 SFTs from H1...\n"
     ]
    },
    {
     "name": "stderr",
     "output_type": "stream",
     "text": [
      "  5%|▌         | 973/19200 [00:09<02:55, 104.13it/s]"
     ]
    },
    {
     "name": "stdout",
     "output_type": "stream",
     "text": [
      "25-07-20 12:31:47.442 pyfstat.utils.sft INFO    : Loading 1 SFTs from H1...\n",
      "25-07-20 12:31:47.451 pyfstat.utils.sft INFO    : Loading 1 SFTs from H1...\n",
      "25-07-20 12:31:47.461 pyfstat.utils.sft INFO    : Loading 1 SFTs from H1...\n",
      "25-07-20 12:31:47.470 pyfstat.utils.sft INFO    : Loading 1 SFTs from H1...\n",
      "25-07-20 12:31:47.479 pyfstat.utils.sft INFO    : Loading 1 SFTs from H1...\n",
      "25-07-20 12:31:47.488 pyfstat.utils.sft INFO    : Loading 1 SFTs from H1...\n",
      "25-07-20 12:31:47.498 pyfstat.utils.sft INFO    : Loading 1 SFTs from H1...\n",
      "25-07-20 12:31:47.507 pyfstat.utils.sft INFO    : Loading 1 SFTs from H1...\n",
      "25-07-20 12:31:47.516 pyfstat.utils.sft INFO    : Loading 1 SFTs from H1...\n",
      "25-07-20 12:31:47.525 pyfstat.utils.sft INFO    : Loading 1 SFTs from H1...\n",
      "25-07-20 12:31:47.534 pyfstat.utils.sft INFO    : Loading 1 SFTs from H1...\n"
     ]
    },
    {
     "name": "stderr",
     "output_type": "stream",
     "text": [
      "  5%|▌         | 984/19200 [00:09<02:53, 105.12it/s]"
     ]
    },
    {
     "name": "stdout",
     "output_type": "stream",
     "text": [
      "25-07-20 12:31:47.544 pyfstat.utils.sft INFO    : Loading 1 SFTs from H1...\n",
      "25-07-20 12:31:47.553 pyfstat.utils.sft INFO    : Loading 1 SFTs from H1...\n",
      "25-07-20 12:31:47.563 pyfstat.utils.sft INFO    : Loading 1 SFTs from H1...\n",
      "25-07-20 12:31:47.572 pyfstat.utils.sft INFO    : Loading 1 SFTs from H1...\n",
      "25-07-20 12:31:47.581 pyfstat.utils.sft INFO    : Loading 1 SFTs from H1...\n",
      "25-07-20 12:31:47.591 pyfstat.utils.sft INFO    : Loading 1 SFTs from H1...\n",
      "25-07-20 12:31:47.601 pyfstat.utils.sft INFO    : Loading 1 SFTs from H1...\n",
      "25-07-20 12:31:47.610 pyfstat.utils.sft INFO    : Loading 1 SFTs from H1...\n",
      "25-07-20 12:31:47.619 pyfstat.utils.sft INFO    : Loading 1 SFTs from H1...\n",
      "25-07-20 12:31:47.628 pyfstat.utils.sft INFO    : Loading 1 SFTs from H1...\n",
      "25-07-20 12:31:47.637 pyfstat.utils.sft INFO    : Loading 1 SFTs from H1...\n"
     ]
    },
    {
     "name": "stderr",
     "output_type": "stream",
     "text": [
      "  5%|▌         | 995/19200 [00:09<02:52, 105.66it/s]"
     ]
    },
    {
     "name": "stdout",
     "output_type": "stream",
     "text": [
      "25-07-20 12:31:47.647 pyfstat.utils.sft INFO    : Loading 1 SFTs from H1...\n",
      "25-07-20 12:31:47.657 pyfstat.utils.sft INFO    : Loading 1 SFTs from H1...\n",
      "25-07-20 12:31:47.666 pyfstat.utils.sft INFO    : Loading 1 SFTs from H1...\n",
      "25-07-20 12:31:47.675 pyfstat.utils.sft INFO    : Loading 1 SFTs from H1...\n",
      "25-07-20 12:31:47.685 pyfstat.utils.sft INFO    : Loading 1 SFTs from H1...\n",
      "25-07-20 12:31:47.695 pyfstat.utils.sft INFO    : Loading 1 SFTs from H1...\n",
      "25-07-20 12:31:47.704 pyfstat.utils.sft INFO    : Loading 1 SFTs from H1...\n",
      "25-07-20 12:31:47.714 pyfstat.utils.sft INFO    : Loading 1 SFTs from H1...\n",
      "25-07-20 12:31:47.724 pyfstat.utils.sft INFO    : Loading 1 SFTs from H1...\n",
      "25-07-20 12:31:47.733 pyfstat.utils.sft INFO    : Loading 1 SFTs from H1...\n",
      "25-07-20 12:31:47.743 pyfstat.utils.sft INFO    : Loading 1 SFTs from H1...\n"
     ]
    },
    {
     "name": "stderr",
     "output_type": "stream",
     "text": [
      "  5%|▌         | 1006/19200 [00:09<02:53, 105.06it/s]"
     ]
    },
    {
     "name": "stdout",
     "output_type": "stream",
     "text": [
      "25-07-20 12:31:47.753 pyfstat.utils.sft INFO    : Loading 1 SFTs from H1...\n",
      "25-07-20 12:31:47.763 pyfstat.utils.sft INFO    : Loading 1 SFTs from H1...\n",
      "25-07-20 12:31:47.773 pyfstat.utils.sft INFO    : Loading 1 SFTs from H1...\n",
      "25-07-20 12:31:47.782 pyfstat.utils.sft INFO    : Loading 1 SFTs from H1...\n",
      "25-07-20 12:31:47.792 pyfstat.utils.sft INFO    : Loading 1 SFTs from H1...\n",
      "25-07-20 12:31:47.802 pyfstat.utils.sft INFO    : Loading 1 SFTs from H1...\n",
      "25-07-20 12:31:47.813 pyfstat.utils.sft INFO    : Loading 1 SFTs from H1...\n",
      "25-07-20 12:31:47.822 pyfstat.utils.sft INFO    : Loading 1 SFTs from H1...\n",
      "25-07-20 12:31:47.832 pyfstat.utils.sft INFO    : Loading 1 SFTs from H1...\n",
      "25-07-20 12:31:47.842 pyfstat.utils.sft INFO    : Loading 1 SFTs from H1...\n",
      "25-07-20 12:31:47.851 pyfstat.utils.sft INFO    : Loading 1 SFTs from H1...\n"
     ]
    },
    {
     "name": "stderr",
     "output_type": "stream",
     "text": [
      "  5%|▌         | 1017/19200 [00:09<02:54, 104.07it/s]"
     ]
    },
    {
     "name": "stdout",
     "output_type": "stream",
     "text": [
      "25-07-20 12:31:47.861 pyfstat.utils.sft INFO    : Loading 1 SFTs from H1...\n",
      "25-07-20 12:31:47.871 pyfstat.utils.sft INFO    : Loading 1 SFTs from H1...\n",
      "25-07-20 12:31:47.881 pyfstat.utils.sft INFO    : Loading 1 SFTs from H1...\n",
      "25-07-20 12:31:47.890 pyfstat.utils.sft INFO    : Loading 1 SFTs from H1...\n",
      "25-07-20 12:31:47.900 pyfstat.utils.sft INFO    : Loading 1 SFTs from H1...\n",
      "25-07-20 12:31:47.909 pyfstat.utils.sft INFO    : Loading 1 SFTs from H1...\n",
      "25-07-20 12:31:47.919 pyfstat.utils.sft INFO    : Loading 1 SFTs from H1...\n",
      "25-07-20 12:31:47.929 pyfstat.utils.sft INFO    : Loading 1 SFTs from H1...\n",
      "25-07-20 12:31:47.946 pyfstat.utils.sft INFO    : Loading 1 SFTs from H1...\n",
      "25-07-20 12:31:47.958 pyfstat.utils.sft INFO    : Loading 1 SFTs from H1...\n",
      "25-07-20 12:31:47.968 pyfstat.utils.sft INFO    : Loading 1 SFTs from H1...\n"
     ]
    },
    {
     "name": "stderr",
     "output_type": "stream",
     "text": [
      "  5%|▌         | 1028/19200 [00:10<02:59, 100.97it/s]"
     ]
    },
    {
     "name": "stdout",
     "output_type": "stream",
     "text": [
      "25-07-20 12:31:47.978 pyfstat.utils.sft INFO    : Loading 1 SFTs from H1...\n",
      "25-07-20 12:31:47.988 pyfstat.utils.sft INFO    : Loading 1 SFTs from H1...\n",
      "25-07-20 12:31:47.998 pyfstat.utils.sft INFO    : Loading 1 SFTs from H1...\n",
      "25-07-20 12:31:48.008 pyfstat.utils.sft INFO    : Loading 1 SFTs from H1...\n",
      "25-07-20 12:31:48.018 pyfstat.utils.sft INFO    : Loading 1 SFTs from H1...\n",
      "25-07-20 12:31:48.028 pyfstat.utils.sft INFO    : Loading 1 SFTs from H1...\n",
      "25-07-20 12:31:48.037 pyfstat.utils.sft INFO    : Loading 1 SFTs from H1...\n",
      "25-07-20 12:31:48.047 pyfstat.utils.sft INFO    : Loading 1 SFTs from H1...\n",
      "25-07-20 12:31:48.057 pyfstat.utils.sft INFO    : Loading 1 SFTs from H1...\n",
      "25-07-20 12:31:48.067 pyfstat.utils.sft INFO    : Loading 1 SFTs from H1...\n",
      "25-07-20 12:31:48.077 pyfstat.utils.sft INFO    : Loading 1 SFTs from H1...\n"
     ]
    },
    {
     "name": "stderr",
     "output_type": "stream",
     "text": [
      "  5%|▌         | 1039/19200 [00:10<03:00, 100.86it/s]"
     ]
    },
    {
     "name": "stdout",
     "output_type": "stream",
     "text": [
      "25-07-20 12:31:48.087 pyfstat.utils.sft INFO    : Loading 1 SFTs from H1...\n",
      "25-07-20 12:31:48.097 pyfstat.utils.sft INFO    : Loading 1 SFTs from H1...\n",
      "25-07-20 12:31:48.107 pyfstat.utils.sft INFO    : Loading 1 SFTs from H1...\n",
      "25-07-20 12:31:48.116 pyfstat.utils.sft INFO    : Loading 1 SFTs from H1...\n",
      "25-07-20 12:31:48.125 pyfstat.utils.sft INFO    : Loading 1 SFTs from H1...\n",
      "25-07-20 12:31:48.135 pyfstat.utils.sft INFO    : Loading 1 SFTs from H1...\n",
      "25-07-20 12:31:48.144 pyfstat.utils.sft INFO    : Loading 1 SFTs from H1...\n",
      "25-07-20 12:31:48.153 pyfstat.utils.sft INFO    : Loading 1 SFTs from H1...\n",
      "25-07-20 12:31:48.164 pyfstat.utils.sft INFO    : Loading 1 SFTs from H1...\n",
      "25-07-20 12:31:48.173 pyfstat.utils.sft INFO    : Loading 1 SFTs from H1...\n",
      "25-07-20 12:31:48.183 pyfstat.utils.sft INFO    : Loading 1 SFTs from H1...\n"
     ]
    },
    {
     "name": "stderr",
     "output_type": "stream",
     "text": [
      "  5%|▌         | 1050/19200 [00:10<02:58, 101.79it/s]"
     ]
    },
    {
     "name": "stdout",
     "output_type": "stream",
     "text": [
      "25-07-20 12:31:48.193 pyfstat.utils.sft INFO    : Loading 1 SFTs from H1...\n",
      "25-07-20 12:31:48.203 pyfstat.utils.sft INFO    : Loading 1 SFTs from H1...\n",
      "25-07-20 12:31:48.213 pyfstat.utils.sft INFO    : Loading 1 SFTs from H1...\n",
      "25-07-20 12:31:48.222 pyfstat.utils.sft INFO    : Loading 1 SFTs from H1...\n",
      "25-07-20 12:31:48.231 pyfstat.utils.sft INFO    : Loading 1 SFTs from H1...\n",
      "25-07-20 12:31:48.241 pyfstat.utils.sft INFO    : Loading 1 SFTs from H1...\n",
      "25-07-20 12:31:48.250 pyfstat.utils.sft INFO    : Loading 1 SFTs from H1...\n",
      "25-07-20 12:31:48.259 pyfstat.utils.sft INFO    : Loading 1 SFTs from H1...\n",
      "25-07-20 12:31:48.268 pyfstat.utils.sft INFO    : Loading 1 SFTs from H1...\n",
      "25-07-20 12:31:48.279 pyfstat.utils.sft INFO    : Loading 1 SFTs from H1...\n",
      "25-07-20 12:31:48.289 pyfstat.utils.sft INFO    : Loading 1 SFTs from H1...\n"
     ]
    },
    {
     "name": "stderr",
     "output_type": "stream",
     "text": [
      "  6%|▌         | 1061/19200 [00:10<02:57, 102.39it/s]"
     ]
    },
    {
     "name": "stdout",
     "output_type": "stream",
     "text": [
      "25-07-20 12:31:48.299 pyfstat.utils.sft INFO    : Loading 1 SFTs from H1...\n",
      "25-07-20 12:31:48.309 pyfstat.utils.sft INFO    : Loading 1 SFTs from H1...\n",
      "25-07-20 12:31:48.318 pyfstat.utils.sft INFO    : Loading 1 SFTs from H1...\n",
      "25-07-20 12:31:48.327 pyfstat.utils.sft INFO    : Loading 1 SFTs from H1...\n",
      "25-07-20 12:31:48.337 pyfstat.utils.sft INFO    : Loading 1 SFTs from H1...\n",
      "25-07-20 12:31:48.347 pyfstat.utils.sft INFO    : Loading 1 SFTs from H1...\n",
      "25-07-20 12:31:48.356 pyfstat.utils.sft INFO    : Loading 1 SFTs from H1...\n",
      "25-07-20 12:31:48.366 pyfstat.utils.sft INFO    : Loading 1 SFTs from H1...\n",
      "25-07-20 12:31:48.375 pyfstat.utils.sft INFO    : Loading 1 SFTs from H1...\n",
      "25-07-20 12:31:48.386 pyfstat.utils.sft INFO    : Loading 1 SFTs from H1...\n",
      "25-07-20 12:31:48.395 pyfstat.utils.sft INFO    : Loading 1 SFTs from H1...\n"
     ]
    },
    {
     "name": "stderr",
     "output_type": "stream",
     "text": [
      "  6%|▌         | 1072/19200 [00:10<02:56, 102.64it/s]"
     ]
    },
    {
     "name": "stdout",
     "output_type": "stream",
     "text": [
      "25-07-20 12:31:48.406 pyfstat.utils.sft INFO    : Loading 1 SFTs from H1...\n",
      "25-07-20 12:31:48.415 pyfstat.utils.sft INFO    : Loading 1 SFTs from H1...\n",
      "25-07-20 12:31:48.424 pyfstat.utils.sft INFO    : Loading 1 SFTs from H1...\n",
      "25-07-20 12:31:48.434 pyfstat.utils.sft INFO    : Loading 1 SFTs from H1...\n",
      "25-07-20 12:31:48.444 pyfstat.utils.sft INFO    : Loading 1 SFTs from H1...\n",
      "25-07-20 12:31:48.454 pyfstat.utils.sft INFO    : Loading 1 SFTs from H1...\n",
      "25-07-20 12:31:48.463 pyfstat.utils.sft INFO    : Loading 1 SFTs from H1...\n",
      "25-07-20 12:31:48.473 pyfstat.utils.sft INFO    : Loading 1 SFTs from H1...\n",
      "25-07-20 12:31:48.482 pyfstat.utils.sft INFO    : Loading 1 SFTs from H1...\n",
      "25-07-20 12:31:48.491 pyfstat.utils.sft INFO    : Loading 1 SFTs from H1...\n",
      "25-07-20 12:31:48.501 pyfstat.utils.sft INFO    : Loading 1 SFTs from H1...\n"
     ]
    },
    {
     "name": "stderr",
     "output_type": "stream",
     "text": [
      "  6%|▌         | 1083/19200 [00:10<02:55, 103.18it/s]"
     ]
    },
    {
     "name": "stdout",
     "output_type": "stream",
     "text": [
      "25-07-20 12:31:48.511 pyfstat.utils.sft INFO    : Loading 1 SFTs from H1...\n",
      "25-07-20 12:31:48.520 pyfstat.utils.sft INFO    : Loading 1 SFTs from H1...\n",
      "25-07-20 12:31:48.529 pyfstat.utils.sft INFO    : Loading 1 SFTs from H1...\n",
      "25-07-20 12:31:48.539 pyfstat.utils.sft INFO    : Loading 1 SFTs from H1...\n",
      "25-07-20 12:31:48.548 pyfstat.utils.sft INFO    : Loading 1 SFTs from H1...\n",
      "25-07-20 12:31:48.558 pyfstat.utils.sft INFO    : Loading 1 SFTs from H1...\n",
      "25-07-20 12:31:48.567 pyfstat.utils.sft INFO    : Loading 1 SFTs from H1...\n",
      "25-07-20 12:31:48.577 pyfstat.utils.sft INFO    : Loading 1 SFTs from H1...\n",
      "25-07-20 12:31:48.587 pyfstat.utils.sft INFO    : Loading 1 SFTs from H1...\n",
      "25-07-20 12:31:48.597 pyfstat.utils.sft INFO    : Loading 1 SFTs from H1...\n",
      "25-07-20 12:31:48.607 pyfstat.utils.sft INFO    : Loading 1 SFTs from H1...\n"
     ]
    },
    {
     "name": "stderr",
     "output_type": "stream",
     "text": [
      "  6%|▌         | 1094/19200 [00:10<02:55, 103.26it/s]"
     ]
    },
    {
     "name": "stdout",
     "output_type": "stream",
     "text": [
      "25-07-20 12:31:48.618 pyfstat.utils.sft INFO    : Loading 1 SFTs from H1...\n",
      "25-07-20 12:31:48.627 pyfstat.utils.sft INFO    : Loading 1 SFTs from H1...\n",
      "25-07-20 12:31:48.636 pyfstat.utils.sft INFO    : Loading 1 SFTs from H1...\n",
      "25-07-20 12:31:48.646 pyfstat.utils.sft INFO    : Loading 1 SFTs from H1...\n",
      "25-07-20 12:31:48.656 pyfstat.utils.sft INFO    : Loading 1 SFTs from H1...\n",
      "25-07-20 12:31:48.666 pyfstat.utils.sft INFO    : Loading 1 SFTs from H1...\n",
      "25-07-20 12:31:48.675 pyfstat.utils.sft INFO    : Loading 1 SFTs from H1...\n",
      "25-07-20 12:31:48.685 pyfstat.utils.sft INFO    : Loading 1 SFTs from H1...\n",
      "25-07-20 12:31:48.694 pyfstat.utils.sft INFO    : Loading 1 SFTs from H1...\n",
      "25-07-20 12:31:48.704 pyfstat.utils.sft INFO    : Loading 1 SFTs from H1...\n",
      "25-07-20 12:31:48.713 pyfstat.utils.sft INFO    : Loading 1 SFTs from H1...\n"
     ]
    },
    {
     "name": "stderr",
     "output_type": "stream",
     "text": [
      "  6%|▌         | 1105/19200 [00:10<02:54, 103.40it/s]"
     ]
    },
    {
     "name": "stdout",
     "output_type": "stream",
     "text": [
      "25-07-20 12:31:48.723 pyfstat.utils.sft INFO    : Loading 1 SFTs from H1...\n",
      "25-07-20 12:31:48.732 pyfstat.utils.sft INFO    : Loading 1 SFTs from H1...\n",
      "25-07-20 12:31:48.741 pyfstat.utils.sft INFO    : Loading 1 SFTs from H1...\n",
      "25-07-20 12:31:48.750 pyfstat.utils.sft INFO    : Loading 1 SFTs from H1...\n",
      "25-07-20 12:31:48.759 pyfstat.utils.sft INFO    : Loading 1 SFTs from H1...\n",
      "25-07-20 12:31:48.768 pyfstat.utils.sft INFO    : Loading 1 SFTs from H1...\n",
      "25-07-20 12:31:48.778 pyfstat.utils.sft INFO    : Loading 1 SFTs from H1...\n",
      "25-07-20 12:31:48.787 pyfstat.utils.sft INFO    : Loading 1 SFTs from H1...\n",
      "25-07-20 12:31:48.796 pyfstat.utils.sft INFO    : Loading 1 SFTs from H1...\n",
      "25-07-20 12:31:48.805 pyfstat.utils.sft INFO    : Loading 1 SFTs from H1...\n",
      "25-07-20 12:31:48.815 pyfstat.utils.sft INFO    : Loading 1 SFTs from H1...\n"
     ]
    },
    {
     "name": "stderr",
     "output_type": "stream",
     "text": [
      "  6%|▌         | 1116/19200 [00:10<02:52, 104.90it/s]"
     ]
    },
    {
     "name": "stdout",
     "output_type": "stream",
     "text": [
      "25-07-20 12:31:48.825 pyfstat.utils.sft INFO    : Loading 1 SFTs from H1...\n",
      "25-07-20 12:31:48.835 pyfstat.utils.sft INFO    : Loading 1 SFTs from H1...\n",
      "25-07-20 12:31:48.845 pyfstat.utils.sft INFO    : Loading 1 SFTs from H1...\n",
      "25-07-20 12:31:48.855 pyfstat.utils.sft INFO    : Loading 1 SFTs from H1...\n",
      "25-07-20 12:31:48.865 pyfstat.utils.sft INFO    : Loading 1 SFTs from H1...\n",
      "25-07-20 12:31:48.874 pyfstat.utils.sft INFO    : Loading 1 SFTs from H1...\n",
      "25-07-20 12:31:48.884 pyfstat.utils.sft INFO    : Loading 1 SFTs from H1...\n",
      "25-07-20 12:31:48.893 pyfstat.utils.sft INFO    : Loading 1 SFTs from H1...\n",
      "25-07-20 12:31:48.902 pyfstat.utils.sft INFO    : Loading 1 SFTs from H1...\n",
      "25-07-20 12:31:48.912 pyfstat.utils.sft INFO    : Loading 1 SFTs from H1...\n",
      "25-07-20 12:31:48.921 pyfstat.utils.sft INFO    : Loading 1 SFTs from H1...\n"
     ]
    },
    {
     "name": "stderr",
     "output_type": "stream",
     "text": [
      "  6%|▌         | 1127/19200 [00:10<02:52, 104.56it/s]"
     ]
    },
    {
     "name": "stdout",
     "output_type": "stream",
     "text": [
      "25-07-20 12:31:48.930 pyfstat.utils.sft INFO    : Loading 1 SFTs from H1...\n",
      "25-07-20 12:31:48.940 pyfstat.utils.sft INFO    : Loading 1 SFTs from H1...\n",
      "25-07-20 12:31:48.949 pyfstat.utils.sft INFO    : Loading 1 SFTs from H1...\n",
      "25-07-20 12:31:48.959 pyfstat.utils.sft INFO    : Loading 1 SFTs from H1...\n",
      "25-07-20 12:31:48.968 pyfstat.utils.sft INFO    : Loading 1 SFTs from H1...\n",
      "25-07-20 12:31:48.977 pyfstat.utils.sft INFO    : Loading 1 SFTs from H1...\n",
      "25-07-20 12:31:48.986 pyfstat.utils.sft INFO    : Loading 1 SFTs from H1...\n",
      "25-07-20 12:31:48.995 pyfstat.utils.sft INFO    : Loading 1 SFTs from H1...\n",
      "25-07-20 12:31:49.008 pyfstat.utils.sft INFO    : Loading 1 SFTs from H1...\n",
      "25-07-20 12:31:49.017 pyfstat.utils.sft INFO    : Loading 1 SFTs from H1...\n",
      "25-07-20 12:31:49.027 pyfstat.utils.sft INFO    : Loading 1 SFTs from H1...\n"
     ]
    },
    {
     "name": "stderr",
     "output_type": "stream",
     "text": [
      "  6%|▌         | 1138/19200 [00:11<02:53, 104.25it/s]"
     ]
    },
    {
     "name": "stdout",
     "output_type": "stream",
     "text": [
      "25-07-20 12:31:49.037 pyfstat.utils.sft INFO    : Loading 1 SFTs from H1...\n",
      "25-07-20 12:31:49.046 pyfstat.utils.sft INFO    : Loading 1 SFTs from H1...\n",
      "25-07-20 12:31:49.056 pyfstat.utils.sft INFO    : Loading 1 SFTs from H1...\n",
      "25-07-20 12:31:49.065 pyfstat.utils.sft INFO    : Loading 1 SFTs from H1...\n",
      "25-07-20 12:31:49.075 pyfstat.utils.sft INFO    : Loading 1 SFTs from H1...\n",
      "25-07-20 12:31:49.084 pyfstat.utils.sft INFO    : Loading 1 SFTs from H1...\n",
      "25-07-20 12:31:49.093 pyfstat.utils.sft INFO    : Loading 1 SFTs from H1...\n",
      "25-07-20 12:31:49.102 pyfstat.utils.sft INFO    : Loading 1 SFTs from H1...\n",
      "25-07-20 12:31:49.111 pyfstat.utils.sft INFO    : Loading 1 SFTs from H1...\n",
      "25-07-20 12:31:49.121 pyfstat.utils.sft INFO    : Loading 1 SFTs from H1...\n",
      "25-07-20 12:31:49.130 pyfstat.utils.sft INFO    : Loading 1 SFTs from H1...\n"
     ]
    },
    {
     "name": "stderr",
     "output_type": "stream",
     "text": [
      "  6%|▌         | 1149/19200 [00:11<02:51, 105.10it/s]"
     ]
    },
    {
     "name": "stdout",
     "output_type": "stream",
     "text": [
      "25-07-20 12:31:49.139 pyfstat.utils.sft INFO    : Loading 1 SFTs from H1...\n",
      "25-07-20 12:31:49.149 pyfstat.utils.sft INFO    : Loading 1 SFTs from H1...\n",
      "25-07-20 12:31:49.158 pyfstat.utils.sft INFO    : Loading 1 SFTs from H1...\n",
      "25-07-20 12:31:49.167 pyfstat.utils.sft INFO    : Loading 1 SFTs from H1...\n",
      "25-07-20 12:31:49.176 pyfstat.utils.sft INFO    : Loading 1 SFTs from H1...\n",
      "25-07-20 12:31:49.185 pyfstat.utils.sft INFO    : Loading 1 SFTs from H1...\n",
      "25-07-20 12:31:49.194 pyfstat.utils.sft INFO    : Loading 1 SFTs from H1...\n",
      "25-07-20 12:31:49.203 pyfstat.utils.sft INFO    : Loading 1 SFTs from H1...\n",
      "25-07-20 12:31:49.212 pyfstat.utils.sft INFO    : Loading 1 SFTs from H1...\n",
      "25-07-20 12:31:49.222 pyfstat.utils.sft INFO    : Loading 1 SFTs from H1...\n",
      "25-07-20 12:31:49.231 pyfstat.utils.sft INFO    : Loading 1 SFTs from H1...\n"
     ]
    },
    {
     "name": "stderr",
     "output_type": "stream",
     "text": [
      "  6%|▌         | 1160/19200 [00:11<02:49, 106.24it/s]"
     ]
    },
    {
     "name": "stdout",
     "output_type": "stream",
     "text": [
      "25-07-20 12:31:49.240 pyfstat.utils.sft INFO    : Loading 1 SFTs from H1...\n",
      "25-07-20 12:31:49.250 pyfstat.utils.sft INFO    : Loading 1 SFTs from H1...\n",
      "25-07-20 12:31:49.259 pyfstat.utils.sft INFO    : Loading 1 SFTs from H1...\n",
      "25-07-20 12:31:49.268 pyfstat.utils.sft INFO    : Loading 1 SFTs from H1...\n",
      "25-07-20 12:31:49.278 pyfstat.utils.sft INFO    : Loading 1 SFTs from H1...\n",
      "25-07-20 12:31:49.287 pyfstat.utils.sft INFO    : Loading 1 SFTs from H1...\n",
      "25-07-20 12:31:49.296 pyfstat.utils.sft INFO    : Loading 1 SFTs from H1...\n",
      "25-07-20 12:31:49.306 pyfstat.utils.sft INFO    : Loading 1 SFTs from H1...\n",
      "25-07-20 12:31:49.314 pyfstat.utils.sft INFO    : Loading 1 SFTs from H1...\n",
      "25-07-20 12:31:49.324 pyfstat.utils.sft INFO    : Loading 1 SFTs from H1...\n",
      "25-07-20 12:31:49.333 pyfstat.utils.sft INFO    : Loading 1 SFTs from H1...\n"
     ]
    },
    {
     "name": "stderr",
     "output_type": "stream",
     "text": [
      "  6%|▌         | 1171/19200 [00:11<02:49, 106.51it/s]"
     ]
    },
    {
     "name": "stdout",
     "output_type": "stream",
     "text": [
      "25-07-20 12:31:49.343 pyfstat.utils.sft INFO    : Loading 1 SFTs from H1...\n",
      "25-07-20 12:31:49.352 pyfstat.utils.sft INFO    : Loading 1 SFTs from H1...\n",
      "25-07-20 12:31:49.361 pyfstat.utils.sft INFO    : Loading 1 SFTs from H1...\n",
      "25-07-20 12:31:49.370 pyfstat.utils.sft INFO    : Loading 1 SFTs from H1...\n",
      "25-07-20 12:31:49.380 pyfstat.utils.sft INFO    : Loading 1 SFTs from H1...\n",
      "25-07-20 12:31:49.389 pyfstat.utils.sft INFO    : Loading 1 SFTs from H1...\n",
      "25-07-20 12:31:49.399 pyfstat.utils.sft INFO    : Loading 1 SFTs from H1...\n",
      "25-07-20 12:31:49.409 pyfstat.utils.sft INFO    : Loading 1 SFTs from H1...\n",
      "25-07-20 12:31:49.419 pyfstat.utils.sft INFO    : Loading 1 SFTs from H1...\n",
      "25-07-20 12:31:49.429 pyfstat.utils.sft INFO    : Loading 1 SFTs from H1...\n",
      "25-07-20 12:31:49.439 pyfstat.utils.sft INFO    : Loading 1 SFTs from H1...\n"
     ]
    },
    {
     "name": "stderr",
     "output_type": "stream",
     "text": [
      "  6%|▌         | 1182/19200 [00:11<02:50, 105.45it/s]"
     ]
    },
    {
     "name": "stdout",
     "output_type": "stream",
     "text": [
      "25-07-20 12:31:49.450 pyfstat.utils.sft INFO    : Loading 1 SFTs from H1...\n",
      "25-07-20 12:31:49.460 pyfstat.utils.sft INFO    : Loading 1 SFTs from H1...\n",
      "25-07-20 12:31:49.470 pyfstat.utils.sft INFO    : Loading 1 SFTs from H1...\n",
      "25-07-20 12:31:49.480 pyfstat.utils.sft INFO    : Loading 1 SFTs from H1...\n",
      "25-07-20 12:31:49.489 pyfstat.utils.sft INFO    : Loading 1 SFTs from H1...\n",
      "25-07-20 12:31:49.499 pyfstat.utils.sft INFO    : Loading 1 SFTs from H1...\n",
      "25-07-20 12:31:49.508 pyfstat.utils.sft INFO    : Loading 1 SFTs from H1...\n",
      "25-07-20 12:31:49.517 pyfstat.utils.sft INFO    : Loading 1 SFTs from H1...\n",
      "25-07-20 12:31:49.526 pyfstat.utils.sft INFO    : Loading 1 SFTs from H1...\n",
      "25-07-20 12:31:49.535 pyfstat.utils.sft INFO    : Loading 1 SFTs from H1...\n",
      "25-07-20 12:31:49.544 pyfstat.utils.sft INFO    : Loading 1 SFTs from H1...\n"
     ]
    },
    {
     "name": "stderr",
     "output_type": "stream",
     "text": [
      "  6%|▌         | 1193/19200 [00:11<02:50, 105.31it/s]"
     ]
    },
    {
     "name": "stdout",
     "output_type": "stream",
     "text": [
      "25-07-20 12:31:49.555 pyfstat.utils.sft INFO    : Loading 1 SFTs from H1...\n",
      "25-07-20 12:31:49.564 pyfstat.utils.sft INFO    : Loading 1 SFTs from H1...\n",
      "25-07-20 12:31:49.573 pyfstat.utils.sft INFO    : Loading 1 SFTs from H1...\n",
      "25-07-20 12:31:49.582 pyfstat.utils.sft INFO    : Loading 1 SFTs from H1...\n",
      "25-07-20 12:31:49.592 pyfstat.utils.sft INFO    : Loading 1 SFTs from H1...\n",
      "25-07-20 12:31:49.601 pyfstat.utils.sft INFO    : Loading 1 SFTs from H1...\n",
      "25-07-20 12:31:49.611 pyfstat.utils.sft INFO    : Loading 1 SFTs from H1...\n",
      "25-07-20 12:31:49.620 pyfstat.utils.sft INFO    : Loading 1 SFTs from H1...\n",
      "25-07-20 12:31:49.629 pyfstat.utils.sft INFO    : Loading 1 SFTs from H1...\n",
      "25-07-20 12:31:49.639 pyfstat.utils.sft INFO    : Loading 1 SFTs from H1...\n",
      "25-07-20 12:31:49.648 pyfstat.utils.sft INFO    : Loading 1 SFTs from H1...\n"
     ]
    },
    {
     "name": "stderr",
     "output_type": "stream",
     "text": [
      "  6%|▋         | 1204/19200 [00:11<02:50, 105.64it/s]"
     ]
    },
    {
     "name": "stdout",
     "output_type": "stream",
     "text": [
      "25-07-20 12:31:49.658 pyfstat.utils.sft INFO    : Loading 1 SFTs from H1...\n",
      "25-07-20 12:31:49.667 pyfstat.utils.sft INFO    : Loading 1 SFTs from H1...\n",
      "25-07-20 12:31:49.678 pyfstat.utils.sft INFO    : Loading 1 SFTs from H1...\n",
      "25-07-20 12:31:49.688 pyfstat.utils.sft INFO    : Loading 1 SFTs from H1...\n",
      "25-07-20 12:31:49.697 pyfstat.utils.sft INFO    : Loading 1 SFTs from H1...\n",
      "25-07-20 12:31:49.706 pyfstat.utils.sft INFO    : Loading 1 SFTs from H1...\n",
      "25-07-20 12:31:49.716 pyfstat.utils.sft INFO    : Loading 1 SFTs from H1...\n",
      "25-07-20 12:31:49.726 pyfstat.utils.sft INFO    : Loading 1 SFTs from H1...\n",
      "25-07-20 12:31:49.736 pyfstat.utils.sft INFO    : Loading 1 SFTs from H1...\n",
      "25-07-20 12:31:49.745 pyfstat.utils.sft INFO    : Loading 1 SFTs from H1...\n",
      "25-07-20 12:31:49.755 pyfstat.utils.sft INFO    : Loading 1 SFTs from H1...\n"
     ]
    },
    {
     "name": "stderr",
     "output_type": "stream",
     "text": [
      "  6%|▋         | 1215/19200 [00:11<02:51, 104.73it/s]"
     ]
    },
    {
     "name": "stdout",
     "output_type": "stream",
     "text": [
      "25-07-20 12:31:49.765 pyfstat.utils.sft INFO    : Loading 1 SFTs from H1...\n",
      "25-07-20 12:31:49.775 pyfstat.utils.sft INFO    : Loading 1 SFTs from H1...\n",
      "25-07-20 12:31:49.785 pyfstat.utils.sft INFO    : Loading 1 SFTs from H1...\n",
      "25-07-20 12:31:49.795 pyfstat.utils.sft INFO    : Loading 1 SFTs from H1...\n",
      "25-07-20 12:31:49.804 pyfstat.utils.sft INFO    : Loading 1 SFTs from H1...\n",
      "25-07-20 12:31:49.818 pyfstat.utils.sft INFO    : Loading 1 SFTs from H1...\n",
      "25-07-20 12:31:49.828 pyfstat.utils.sft INFO    : Loading 1 SFTs from H1...\n",
      "25-07-20 12:31:49.838 pyfstat.utils.sft INFO    : Loading 1 SFTs from H1...\n",
      "25-07-20 12:31:49.847 pyfstat.utils.sft INFO    : Loading 1 SFTs from H1...\n",
      "25-07-20 12:31:49.856 pyfstat.utils.sft INFO    : Loading 1 SFTs from H1...\n",
      "25-07-20 12:31:49.864 pyfstat.utils.sft INFO    : Loading 1 SFTs from H1...\n"
     ]
    },
    {
     "name": "stderr",
     "output_type": "stream",
     "text": [
      "  6%|▋         | 1226/19200 [00:11<02:53, 103.45it/s]"
     ]
    },
    {
     "name": "stdout",
     "output_type": "stream",
     "text": [
      "25-07-20 12:31:49.874 pyfstat.utils.sft INFO    : Loading 1 SFTs from H1...\n",
      "25-07-20 12:31:49.883 pyfstat.utils.sft INFO    : Loading 1 SFTs from H1...\n",
      "25-07-20 12:31:49.893 pyfstat.utils.sft INFO    : Loading 1 SFTs from H1...\n",
      "25-07-20 12:31:49.902 pyfstat.utils.sft INFO    : Loading 1 SFTs from H1...\n",
      "25-07-20 12:31:49.911 pyfstat.utils.sft INFO    : Loading 1 SFTs from H1...\n",
      "25-07-20 12:31:49.920 pyfstat.utils.sft INFO    : Loading 1 SFTs from H1...\n",
      "25-07-20 12:31:49.929 pyfstat.utils.sft INFO    : Loading 1 SFTs from H1...\n",
      "25-07-20 12:31:49.939 pyfstat.utils.sft INFO    : Loading 1 SFTs from H1...\n",
      "25-07-20 12:31:49.949 pyfstat.utils.sft INFO    : Loading 1 SFTs from H1...\n",
      "25-07-20 12:31:49.959 pyfstat.utils.sft INFO    : Loading 1 SFTs from H1...\n",
      "25-07-20 12:31:49.968 pyfstat.utils.sft INFO    : Loading 1 SFTs from H1...\n"
     ]
    },
    {
     "name": "stderr",
     "output_type": "stream",
     "text": [
      "  6%|▋         | 1237/19200 [00:12<02:52, 103.97it/s]"
     ]
    },
    {
     "name": "stdout",
     "output_type": "stream",
     "text": [
      "25-07-20 12:31:49.979 pyfstat.utils.sft INFO    : Loading 1 SFTs from H1...\n",
      "25-07-20 12:31:49.990 pyfstat.utils.sft INFO    : Loading 1 SFTs from H1...\n",
      "25-07-20 12:31:50.000 pyfstat.utils.sft INFO    : Loading 1 SFTs from H1...\n",
      "25-07-20 12:31:50.010 pyfstat.utils.sft INFO    : Loading 1 SFTs from H1...\n",
      "25-07-20 12:31:50.020 pyfstat.utils.sft INFO    : Loading 1 SFTs from H1...\n",
      "25-07-20 12:31:50.029 pyfstat.utils.sft INFO    : Loading 1 SFTs from H1...\n",
      "25-07-20 12:31:50.039 pyfstat.utils.sft INFO    : Loading 1 SFTs from H1...\n",
      "25-07-20 12:31:50.050 pyfstat.utils.sft INFO    : Loading 1 SFTs from H1...\n",
      "25-07-20 12:31:50.061 pyfstat.utils.sft INFO    : Loading 1 SFTs from H1...\n",
      "25-07-20 12:31:50.071 pyfstat.utils.sft INFO    : Loading 1 SFTs from H1...\n",
      "25-07-20 12:31:50.081 pyfstat.utils.sft INFO    : Loading 1 SFTs from H1...\n"
     ]
    },
    {
     "name": "stderr",
     "output_type": "stream",
     "text": [
      "  6%|▋         | 1248/19200 [00:12<02:55, 102.17it/s]"
     ]
    },
    {
     "name": "stdout",
     "output_type": "stream",
     "text": [
      "25-07-20 12:31:50.091 pyfstat.utils.sft INFO    : Loading 1 SFTs from H1...\n",
      "25-07-20 12:31:50.101 pyfstat.utils.sft INFO    : Loading 1 SFTs from H1...\n",
      "25-07-20 12:31:50.110 pyfstat.utils.sft INFO    : Loading 1 SFTs from H1...\n",
      "25-07-20 12:31:50.120 pyfstat.utils.sft INFO    : Loading 1 SFTs from H1...\n",
      "25-07-20 12:31:50.130 pyfstat.utils.sft INFO    : Loading 1 SFTs from H1...\n",
      "25-07-20 12:31:50.139 pyfstat.utils.sft INFO    : Loading 1 SFTs from H1...\n",
      "25-07-20 12:31:50.149 pyfstat.utils.sft INFO    : Loading 1 SFTs from H1...\n",
      "25-07-20 12:31:50.159 pyfstat.utils.sft INFO    : Loading 1 SFTs from H1...\n",
      "25-07-20 12:31:50.169 pyfstat.utils.sft INFO    : Loading 1 SFTs from H1...\n",
      "25-07-20 12:31:50.178 pyfstat.utils.sft INFO    : Loading 1 SFTs from H1...\n",
      "25-07-20 12:31:50.187 pyfstat.utils.sft INFO    : Loading 1 SFTs from H1...\n"
     ]
    },
    {
     "name": "stderr",
     "output_type": "stream",
     "text": [
      "  7%|▋         | 1259/19200 [00:12<02:55, 102.49it/s]"
     ]
    },
    {
     "name": "stdout",
     "output_type": "stream",
     "text": [
      "25-07-20 12:31:50.198 pyfstat.utils.sft INFO    : Loading 1 SFTs from H1...\n",
      "25-07-20 12:31:50.207 pyfstat.utils.sft INFO    : Loading 1 SFTs from H1...\n",
      "25-07-20 12:31:50.216 pyfstat.utils.sft INFO    : Loading 1 SFTs from H1...\n",
      "25-07-20 12:31:50.226 pyfstat.utils.sft INFO    : Loading 1 SFTs from H1...\n",
      "25-07-20 12:31:50.236 pyfstat.utils.sft INFO    : Loading 1 SFTs from H1...\n",
      "25-07-20 12:31:50.247 pyfstat.utils.sft INFO    : Loading 1 SFTs from H1...\n",
      "25-07-20 12:31:50.258 pyfstat.utils.sft INFO    : Loading 1 SFTs from H1...\n",
      "25-07-20 12:31:50.269 pyfstat.utils.sft INFO    : Loading 1 SFTs from H1...\n",
      "25-07-20 12:31:50.281 pyfstat.utils.sft INFO    : Loading 1 SFTs from H1...\n",
      "25-07-20 12:31:50.292 pyfstat.utils.sft INFO    : Loading 1 SFTs from H1...\n",
      "25-07-20 12:31:50.303 pyfstat.utils.sft INFO    : Loading 1 SFTs from H1...\n"
     ]
    },
    {
     "name": "stderr",
     "output_type": "stream",
     "text": [
      "  7%|▋         | 1270/19200 [00:12<02:59, 100.01it/s]"
     ]
    },
    {
     "name": "stdout",
     "output_type": "stream",
     "text": [
      "25-07-20 12:31:50.314 pyfstat.utils.sft INFO    : Loading 1 SFTs from H1...\n",
      "25-07-20 12:31:50.325 pyfstat.utils.sft INFO    : Loading 1 SFTs from H1...\n",
      "25-07-20 12:31:50.335 pyfstat.utils.sft INFO    : Loading 1 SFTs from H1...\n",
      "25-07-20 12:31:50.344 pyfstat.utils.sft INFO    : Loading 1 SFTs from H1...\n",
      "25-07-20 12:31:50.354 pyfstat.utils.sft INFO    : Loading 1 SFTs from H1...\n",
      "25-07-20 12:31:50.364 pyfstat.utils.sft INFO    : Loading 1 SFTs from H1...\n",
      "25-07-20 12:31:50.374 pyfstat.utils.sft INFO    : Loading 1 SFTs from H1...\n",
      "25-07-20 12:31:50.385 pyfstat.utils.sft INFO    : Loading 1 SFTs from H1...\n",
      "25-07-20 12:31:50.395 pyfstat.utils.sft INFO    : Loading 1 SFTs from H1...\n",
      "25-07-20 12:31:50.406 pyfstat.utils.sft INFO    : Loading 1 SFTs from H1...\n",
      "25-07-20 12:31:50.416 pyfstat.utils.sft INFO    : Loading 1 SFTs from H1...\n"
     ]
    },
    {
     "name": "stderr",
     "output_type": "stream",
     "text": [
      "  7%|▋         | 1281/19200 [00:12<03:00, 99.27it/s] "
     ]
    },
    {
     "name": "stdout",
     "output_type": "stream",
     "text": [
      "25-07-20 12:31:50.426 pyfstat.utils.sft INFO    : Loading 1 SFTs from H1...\n",
      "25-07-20 12:31:50.436 pyfstat.utils.sft INFO    : Loading 1 SFTs from H1...\n",
      "25-07-20 12:31:50.445 pyfstat.utils.sft INFO    : Loading 1 SFTs from H1...\n",
      "25-07-20 12:31:50.455 pyfstat.utils.sft INFO    : Loading 1 SFTs from H1...\n",
      "25-07-20 12:31:50.465 pyfstat.utils.sft INFO    : Loading 1 SFTs from H1...\n",
      "25-07-20 12:31:50.475 pyfstat.utils.sft INFO    : Loading 1 SFTs from H1...\n",
      "25-07-20 12:31:50.485 pyfstat.utils.sft INFO    : Loading 1 SFTs from H1...\n",
      "25-07-20 12:31:50.496 pyfstat.utils.sft INFO    : Loading 1 SFTs from H1...\n",
      "25-07-20 12:31:50.507 pyfstat.utils.sft INFO    : Loading 1 SFTs from H1...\n",
      "25-07-20 12:31:50.517 pyfstat.utils.sft INFO    : Loading 1 SFTs from H1...\n"
     ]
    },
    {
     "name": "stderr",
     "output_type": "stream",
     "text": [
      "  7%|▋         | 1291/19200 [00:12<03:00, 99.07it/s]"
     ]
    },
    {
     "name": "stdout",
     "output_type": "stream",
     "text": [
      "25-07-20 12:31:50.528 pyfstat.utils.sft INFO    : Loading 1 SFTs from H1...\n",
      "25-07-20 12:31:50.538 pyfstat.utils.sft INFO    : Loading 1 SFTs from H1...\n",
      "25-07-20 12:31:50.548 pyfstat.utils.sft INFO    : Loading 1 SFTs from H1...\n",
      "25-07-20 12:31:50.557 pyfstat.utils.sft INFO    : Loading 1 SFTs from H1...\n",
      "25-07-20 12:31:50.567 pyfstat.utils.sft INFO    : Loading 1 SFTs from H1...\n",
      "25-07-20 12:31:50.576 pyfstat.utils.sft INFO    : Loading 1 SFTs from H1...\n",
      "25-07-20 12:31:50.586 pyfstat.utils.sft INFO    : Loading 1 SFTs from H1...\n",
      "25-07-20 12:31:50.596 pyfstat.utils.sft INFO    : Loading 1 SFTs from H1...\n",
      "25-07-20 12:31:50.606 pyfstat.utils.sft INFO    : Loading 1 SFTs from H1...\n",
      "25-07-20 12:31:50.616 pyfstat.utils.sft INFO    : Loading 1 SFTs from H1...\n",
      "25-07-20 12:31:50.625 pyfstat.utils.sft INFO    : Loading 1 SFTs from H1...\n"
     ]
    },
    {
     "name": "stderr",
     "output_type": "stream",
     "text": [
      "  7%|▋         | 1302/19200 [00:12<02:58, 100.09it/s]"
     ]
    },
    {
     "name": "stdout",
     "output_type": "stream",
     "text": [
      "25-07-20 12:31:50.635 pyfstat.utils.sft INFO    : Loading 1 SFTs from H1...\n",
      "25-07-20 12:31:50.644 pyfstat.utils.sft INFO    : Loading 1 SFTs from H1...\n",
      "25-07-20 12:31:50.654 pyfstat.utils.sft INFO    : Loading 1 SFTs from H1...\n",
      "25-07-20 12:31:50.663 pyfstat.utils.sft INFO    : Loading 1 SFTs from H1...\n",
      "25-07-20 12:31:50.673 pyfstat.utils.sft INFO    : Loading 1 SFTs from H1...\n",
      "25-07-20 12:31:50.685 pyfstat.utils.sft INFO    : Loading 1 SFTs from H1...\n",
      "25-07-20 12:31:50.694 pyfstat.utils.sft INFO    : Loading 1 SFTs from H1...\n",
      "25-07-20 12:31:50.703 pyfstat.utils.sft INFO    : Loading 1 SFTs from H1...\n",
      "25-07-20 12:31:50.712 pyfstat.utils.sft INFO    : Loading 1 SFTs from H1...\n",
      "25-07-20 12:31:50.722 pyfstat.utils.sft INFO    : Loading 1 SFTs from H1...\n",
      "25-07-20 12:31:50.731 pyfstat.utils.sft INFO    : Loading 1 SFTs from H1...\n"
     ]
    },
    {
     "name": "stderr",
     "output_type": "stream",
     "text": [
      "  7%|▋         | 1313/19200 [00:12<02:56, 101.10it/s]"
     ]
    },
    {
     "name": "stdout",
     "output_type": "stream",
     "text": [
      "25-07-20 12:31:50.741 pyfstat.utils.sft INFO    : Loading 1 SFTs from H1...\n",
      "25-07-20 12:31:50.751 pyfstat.utils.sft INFO    : Loading 1 SFTs from H1...\n",
      "25-07-20 12:31:50.760 pyfstat.utils.sft INFO    : Loading 1 SFTs from H1...\n",
      "25-07-20 12:31:50.769 pyfstat.utils.sft INFO    : Loading 1 SFTs from H1...\n",
      "25-07-20 12:31:50.778 pyfstat.utils.sft INFO    : Loading 1 SFTs from H1...\n",
      "25-07-20 12:31:50.788 pyfstat.utils.sft INFO    : Loading 1 SFTs from H1...\n",
      "25-07-20 12:31:50.797 pyfstat.utils.sft INFO    : Loading 1 SFTs from H1...\n",
      "25-07-20 12:31:50.807 pyfstat.utils.sft INFO    : Loading 1 SFTs from H1...\n",
      "25-07-20 12:31:50.816 pyfstat.utils.sft INFO    : Loading 1 SFTs from H1...\n",
      "25-07-20 12:31:50.826 pyfstat.utils.sft INFO    : Loading 1 SFTs from H1...\n",
      "25-07-20 12:31:50.835 pyfstat.utils.sft INFO    : Loading 1 SFTs from H1...\n"
     ]
    },
    {
     "name": "stderr",
     "output_type": "stream",
     "text": [
      "  7%|▋         | 1324/19200 [00:12<02:53, 102.74it/s]"
     ]
    },
    {
     "name": "stdout",
     "output_type": "stream",
     "text": [
      "25-07-20 12:31:50.844 pyfstat.utils.sft INFO    : Loading 1 SFTs from H1...\n",
      "25-07-20 12:31:50.853 pyfstat.utils.sft INFO    : Loading 1 SFTs from H1...\n",
      "25-07-20 12:31:50.863 pyfstat.utils.sft INFO    : Loading 1 SFTs from H1...\n",
      "25-07-20 12:31:50.872 pyfstat.utils.sft INFO    : Loading 1 SFTs from H1...\n",
      "25-07-20 12:31:50.881 pyfstat.utils.sft INFO    : Loading 1 SFTs from H1...\n",
      "25-07-20 12:31:50.890 pyfstat.utils.sft INFO    : Loading 1 SFTs from H1...\n",
      "25-07-20 12:31:50.899 pyfstat.utils.sft INFO    : Loading 1 SFTs from H1...\n",
      "25-07-20 12:31:50.908 pyfstat.utils.sft INFO    : Loading 1 SFTs from H1...\n",
      "25-07-20 12:31:50.917 pyfstat.utils.sft INFO    : Loading 1 SFTs from H1...\n",
      "25-07-20 12:31:50.926 pyfstat.utils.sft INFO    : Loading 1 SFTs from H1...\n",
      "25-07-20 12:31:50.935 pyfstat.utils.sft INFO    : Loading 1 SFTs from H1...\n"
     ]
    },
    {
     "name": "stderr",
     "output_type": "stream",
     "text": [
      "  7%|▋         | 1335/19200 [00:13<02:50, 104.55it/s]"
     ]
    },
    {
     "name": "stdout",
     "output_type": "stream",
     "text": [
      "25-07-20 12:31:50.946 pyfstat.utils.sft INFO    : Loading 1 SFTs from H1...\n",
      "25-07-20 12:31:50.955 pyfstat.utils.sft INFO    : Loading 1 SFTs from H1...\n",
      "25-07-20 12:31:50.964 pyfstat.utils.sft INFO    : Loading 1 SFTs from H1...\n",
      "25-07-20 12:31:50.974 pyfstat.utils.sft INFO    : Loading 1 SFTs from H1...\n",
      "25-07-20 12:31:50.984 pyfstat.utils.sft INFO    : Loading 1 SFTs from H1...\n",
      "25-07-20 12:31:50.994 pyfstat.utils.sft INFO    : Loading 1 SFTs from H1...\n",
      "25-07-20 12:31:51.003 pyfstat.utils.sft INFO    : Loading 1 SFTs from H1...\n",
      "25-07-20 12:31:51.012 pyfstat.utils.sft INFO    : Loading 1 SFTs from H1...\n",
      "25-07-20 12:31:51.021 pyfstat.utils.sft INFO    : Loading 1 SFTs from H1...\n",
      "25-07-20 12:31:51.030 pyfstat.utils.sft INFO    : Loading 1 SFTs from H1...\n",
      "25-07-20 12:31:51.038 pyfstat.utils.sft INFO    : Loading 1 SFTs from H1...\n"
     ]
    },
    {
     "name": "stderr",
     "output_type": "stream",
     "text": [
      "  7%|▋         | 1346/19200 [00:13<02:49, 105.38it/s]"
     ]
    },
    {
     "name": "stdout",
     "output_type": "stream",
     "text": [
      "25-07-20 12:31:51.048 pyfstat.utils.sft INFO    : Loading 1 SFTs from H1...\n",
      "25-07-20 12:31:51.059 pyfstat.utils.sft INFO    : Loading 1 SFTs from H1...\n",
      "25-07-20 12:31:51.068 pyfstat.utils.sft INFO    : Loading 1 SFTs from H1...\n",
      "25-07-20 12:31:51.077 pyfstat.utils.sft INFO    : Loading 1 SFTs from H1...\n",
      "25-07-20 12:31:51.086 pyfstat.utils.sft INFO    : Loading 1 SFTs from H1...\n",
      "25-07-20 12:31:51.095 pyfstat.utils.sft INFO    : Loading 1 SFTs from H1...\n",
      "25-07-20 12:31:51.104 pyfstat.utils.sft INFO    : Loading 1 SFTs from H1...\n",
      "25-07-20 12:31:51.113 pyfstat.utils.sft INFO    : Loading 1 SFTs from H1...\n",
      "25-07-20 12:31:51.121 pyfstat.utils.sft INFO    : Loading 1 SFTs from H1...\n",
      "25-07-20 12:31:51.130 pyfstat.utils.sft INFO    : Loading 1 SFTs from H1...\n",
      "25-07-20 12:31:51.139 pyfstat.utils.sft INFO    : Loading 1 SFTs from H1...\n"
     ]
    },
    {
     "name": "stderr",
     "output_type": "stream",
     "text": [
      "  7%|▋         | 1357/19200 [00:13<02:47, 106.53it/s]"
     ]
    },
    {
     "name": "stdout",
     "output_type": "stream",
     "text": [
      "25-07-20 12:31:51.150 pyfstat.utils.sft INFO    : Loading 1 SFTs from H1...\n",
      "25-07-20 12:31:51.160 pyfstat.utils.sft INFO    : Loading 1 SFTs from H1...\n",
      "25-07-20 12:31:51.169 pyfstat.utils.sft INFO    : Loading 1 SFTs from H1...\n",
      "25-07-20 12:31:51.178 pyfstat.utils.sft INFO    : Loading 1 SFTs from H1...\n",
      "25-07-20 12:31:51.187 pyfstat.utils.sft INFO    : Loading 1 SFTs from H1...\n",
      "25-07-20 12:31:51.196 pyfstat.utils.sft INFO    : Loading 1 SFTs from H1...\n",
      "25-07-20 12:31:51.205 pyfstat.utils.sft INFO    : Loading 1 SFTs from H1...\n",
      "25-07-20 12:31:51.214 pyfstat.utils.sft INFO    : Loading 1 SFTs from H1...\n",
      "25-07-20 12:31:51.223 pyfstat.utils.sft INFO    : Loading 1 SFTs from H1...\n",
      "25-07-20 12:31:51.232 pyfstat.utils.sft INFO    : Loading 1 SFTs from H1...\n",
      "25-07-20 12:31:51.240 pyfstat.utils.sft INFO    : Loading 1 SFTs from H1...\n"
     ]
    },
    {
     "name": "stderr",
     "output_type": "stream",
     "text": [
      "  7%|▋         | 1368/19200 [00:13<02:46, 107.31it/s]"
     ]
    },
    {
     "name": "stdout",
     "output_type": "stream",
     "text": [
      "25-07-20 12:31:51.249 pyfstat.utils.sft INFO    : Loading 1 SFTs from H1...\n",
      "25-07-20 12:31:51.259 pyfstat.utils.sft INFO    : Loading 1 SFTs from H1...\n",
      "25-07-20 12:31:51.269 pyfstat.utils.sft INFO    : Loading 1 SFTs from H1...\n",
      "25-07-20 12:31:51.279 pyfstat.utils.sft INFO    : Loading 1 SFTs from H1...\n",
      "25-07-20 12:31:51.288 pyfstat.utils.sft INFO    : Loading 1 SFTs from H1...\n",
      "25-07-20 12:31:51.297 pyfstat.utils.sft INFO    : Loading 1 SFTs from H1...\n",
      "25-07-20 12:31:51.307 pyfstat.utils.sft INFO    : Loading 1 SFTs from H1...\n",
      "25-07-20 12:31:51.316 pyfstat.utils.sft INFO    : Loading 1 SFTs from H1...\n",
      "25-07-20 12:31:51.325 pyfstat.utils.sft INFO    : Loading 1 SFTs from H1...\n",
      "25-07-20 12:31:51.334 pyfstat.utils.sft INFO    : Loading 1 SFTs from H1...\n",
      "25-07-20 12:31:51.345 pyfstat.utils.sft INFO    : Loading 1 SFTs from H1...\n"
     ]
    },
    {
     "name": "stderr",
     "output_type": "stream",
     "text": [
      "  7%|▋         | 1379/19200 [00:13<02:47, 106.13it/s]"
     ]
    },
    {
     "name": "stdout",
     "output_type": "stream",
     "text": [
      "25-07-20 12:31:51.356 pyfstat.utils.sft INFO    : Loading 1 SFTs from H1...\n",
      "25-07-20 12:31:51.366 pyfstat.utils.sft INFO    : Loading 1 SFTs from H1...\n",
      "25-07-20 12:31:51.375 pyfstat.utils.sft INFO    : Loading 1 SFTs from H1...\n",
      "25-07-20 12:31:51.384 pyfstat.utils.sft INFO    : Loading 1 SFTs from H1...\n",
      "25-07-20 12:31:51.394 pyfstat.utils.sft INFO    : Loading 1 SFTs from H1...\n",
      "25-07-20 12:31:51.403 pyfstat.utils.sft INFO    : Loading 1 SFTs from H1...\n",
      "25-07-20 12:31:51.413 pyfstat.utils.sft INFO    : Loading 1 SFTs from H1...\n",
      "25-07-20 12:31:51.423 pyfstat.utils.sft INFO    : Loading 1 SFTs from H1...\n",
      "25-07-20 12:31:51.432 pyfstat.utils.sft INFO    : Loading 1 SFTs from H1...\n",
      "25-07-20 12:31:51.441 pyfstat.utils.sft INFO    : Loading 1 SFTs from H1...\n",
      "25-07-20 12:31:51.451 pyfstat.utils.sft INFO    : Loading 1 SFTs from H1...\n"
     ]
    },
    {
     "name": "stderr",
     "output_type": "stream",
     "text": [
      "  7%|▋         | 1390/19200 [00:13<02:48, 105.55it/s]"
     ]
    },
    {
     "name": "stdout",
     "output_type": "stream",
     "text": [
      "25-07-20 12:31:51.461 pyfstat.utils.sft INFO    : Loading 1 SFTs from H1...\n",
      "25-07-20 12:31:51.471 pyfstat.utils.sft INFO    : Loading 1 SFTs from H1...\n",
      "25-07-20 12:31:51.480 pyfstat.utils.sft INFO    : Loading 1 SFTs from H1...\n",
      "25-07-20 12:31:51.489 pyfstat.utils.sft INFO    : Loading 1 SFTs from H1...\n",
      "25-07-20 12:31:51.499 pyfstat.utils.sft INFO    : Loading 1 SFTs from H1...\n",
      "25-07-20 12:31:51.508 pyfstat.utils.sft INFO    : Loading 1 SFTs from H1...\n",
      "25-07-20 12:31:51.518 pyfstat.utils.sft INFO    : Loading 1 SFTs from H1...\n",
      "25-07-20 12:31:51.527 pyfstat.utils.sft INFO    : Loading 1 SFTs from H1...\n",
      "25-07-20 12:31:51.536 pyfstat.utils.sft INFO    : Loading 1 SFTs from H1...\n",
      "25-07-20 12:31:51.546 pyfstat.utils.sft INFO    : Loading 1 SFTs from H1...\n",
      "25-07-20 12:31:51.556 pyfstat.utils.sft INFO    : Loading 1 SFTs from H1...\n"
     ]
    },
    {
     "name": "stderr",
     "output_type": "stream",
     "text": [
      "  7%|▋         | 1401/19200 [00:13<02:48, 105.60it/s]"
     ]
    },
    {
     "name": "stdout",
     "output_type": "stream",
     "text": [
      "25-07-20 12:31:51.565 pyfstat.utils.sft INFO    : Loading 1 SFTs from H1...\n",
      "25-07-20 12:31:51.576 pyfstat.utils.sft INFO    : Loading 1 SFTs from H1...\n",
      "25-07-20 12:31:51.586 pyfstat.utils.sft INFO    : Loading 1 SFTs from H1...\n",
      "25-07-20 12:31:51.595 pyfstat.utils.sft INFO    : Loading 1 SFTs from H1...\n",
      "25-07-20 12:31:51.605 pyfstat.utils.sft INFO    : Loading 1 SFTs from H1...\n",
      "25-07-20 12:31:51.614 pyfstat.utils.sft INFO    : Loading 1 SFTs from H1...\n",
      "25-07-20 12:31:51.624 pyfstat.utils.sft INFO    : Loading 1 SFTs from H1...\n",
      "25-07-20 12:31:51.633 pyfstat.utils.sft INFO    : Loading 1 SFTs from H1...\n",
      "25-07-20 12:31:51.642 pyfstat.utils.sft INFO    : Loading 1 SFTs from H1...\n",
      "25-07-20 12:31:51.651 pyfstat.utils.sft INFO    : Loading 1 SFTs from H1...\n",
      "25-07-20 12:31:51.660 pyfstat.utils.sft INFO    : Loading 1 SFTs from H1...\n"
     ]
    },
    {
     "name": "stderr",
     "output_type": "stream",
     "text": [
      "  7%|▋         | 1412/19200 [00:13<02:48, 105.35it/s]"
     ]
    },
    {
     "name": "stdout",
     "output_type": "stream",
     "text": [
      "25-07-20 12:31:51.670 pyfstat.utils.sft INFO    : Loading 1 SFTs from H1...\n",
      "25-07-20 12:31:51.680 pyfstat.utils.sft INFO    : Loading 1 SFTs from H1...\n",
      "25-07-20 12:31:51.691 pyfstat.utils.sft INFO    : Loading 1 SFTs from H1...\n",
      "25-07-20 12:31:51.701 pyfstat.utils.sft INFO    : Loading 1 SFTs from H1...\n",
      "25-07-20 12:31:51.711 pyfstat.utils.sft INFO    : Loading 1 SFTs from H1...\n",
      "25-07-20 12:31:51.721 pyfstat.utils.sft INFO    : Loading 1 SFTs from H1...\n",
      "25-07-20 12:31:51.731 pyfstat.utils.sft INFO    : Loading 1 SFTs from H1...\n",
      "25-07-20 12:31:51.740 pyfstat.utils.sft INFO    : Loading 1 SFTs from H1...\n",
      "25-07-20 12:31:51.750 pyfstat.utils.sft INFO    : Loading 1 SFTs from H1...\n",
      "25-07-20 12:31:51.759 pyfstat.utils.sft INFO    : Loading 1 SFTs from H1...\n",
      "25-07-20 12:31:51.769 pyfstat.utils.sft INFO    : Loading 1 SFTs from H1...\n"
     ]
    },
    {
     "name": "stderr",
     "output_type": "stream",
     "text": [
      "  7%|▋         | 1423/19200 [00:13<02:50, 104.12it/s]"
     ]
    },
    {
     "name": "stdout",
     "output_type": "stream",
     "text": [
      "25-07-20 12:31:51.779 pyfstat.utils.sft INFO    : Loading 1 SFTs from H1...\n",
      "25-07-20 12:31:51.789 pyfstat.utils.sft INFO    : Loading 1 SFTs from H1...\n",
      "25-07-20 12:31:51.798 pyfstat.utils.sft INFO    : Loading 1 SFTs from H1...\n",
      "25-07-20 12:31:51.807 pyfstat.utils.sft INFO    : Loading 1 SFTs from H1...\n",
      "25-07-20 12:31:51.817 pyfstat.utils.sft INFO    : Loading 1 SFTs from H1...\n",
      "25-07-20 12:31:51.826 pyfstat.utils.sft INFO    : Loading 1 SFTs from H1...\n",
      "25-07-20 12:31:51.835 pyfstat.utils.sft INFO    : Loading 1 SFTs from H1...\n",
      "25-07-20 12:31:51.844 pyfstat.utils.sft INFO    : Loading 1 SFTs from H1...\n",
      "25-07-20 12:31:51.857 pyfstat.utils.sft INFO    : Loading 1 SFTs from H1...\n",
      "25-07-20 12:31:51.868 pyfstat.utils.sft INFO    : Loading 1 SFTs from H1...\n",
      "25-07-20 12:31:51.878 pyfstat.utils.sft INFO    : Loading 1 SFTs from H1...\n"
     ]
    },
    {
     "name": "stderr",
     "output_type": "stream",
     "text": [
      "  7%|▋         | 1434/19200 [00:13<02:52, 102.96it/s]"
     ]
    },
    {
     "name": "stdout",
     "output_type": "stream",
     "text": [
      "25-07-20 12:31:51.888 pyfstat.utils.sft INFO    : Loading 1 SFTs from H1...\n",
      "25-07-20 12:31:51.898 pyfstat.utils.sft INFO    : Loading 1 SFTs from H1...\n",
      "25-07-20 12:31:51.907 pyfstat.utils.sft INFO    : Loading 1 SFTs from H1...\n",
      "25-07-20 12:31:51.915 pyfstat.utils.sft INFO    : Loading 1 SFTs from H1...\n",
      "25-07-20 12:31:51.924 pyfstat.utils.sft INFO    : Loading 1 SFTs from H1...\n",
      "25-07-20 12:31:51.933 pyfstat.utils.sft INFO    : Loading 1 SFTs from H1...\n",
      "25-07-20 12:31:51.942 pyfstat.utils.sft INFO    : Loading 1 SFTs from H1...\n",
      "25-07-20 12:31:51.952 pyfstat.utils.sft INFO    : Loading 1 SFTs from H1...\n",
      "25-07-20 12:31:51.961 pyfstat.utils.sft INFO    : Loading 1 SFTs from H1...\n",
      "25-07-20 12:31:51.971 pyfstat.utils.sft INFO    : Loading 1 SFTs from H1...\n",
      "25-07-20 12:31:51.980 pyfstat.utils.sft INFO    : Loading 1 SFTs from H1...\n"
     ]
    },
    {
     "name": "stderr",
     "output_type": "stream",
     "text": [
      "  8%|▊         | 1445/19200 [00:14<02:49, 104.49it/s]"
     ]
    },
    {
     "name": "stdout",
     "output_type": "stream",
     "text": [
      "25-07-20 12:31:51.990 pyfstat.utils.sft INFO    : Loading 1 SFTs from H1...\n",
      "25-07-20 12:31:52.000 pyfstat.utils.sft INFO    : Loading 1 SFTs from H1...\n",
      "25-07-20 12:31:52.009 pyfstat.utils.sft INFO    : Loading 1 SFTs from H1...\n",
      "25-07-20 12:31:52.018 pyfstat.utils.sft INFO    : Loading 1 SFTs from H1...\n",
      "25-07-20 12:31:52.027 pyfstat.utils.sft INFO    : Loading 1 SFTs from H1...\n",
      "25-07-20 12:31:52.036 pyfstat.utils.sft INFO    : Loading 1 SFTs from H1...\n",
      "25-07-20 12:31:52.045 pyfstat.utils.sft INFO    : Loading 1 SFTs from H1...\n",
      "25-07-20 12:31:52.054 pyfstat.utils.sft INFO    : Loading 1 SFTs from H1...\n",
      "25-07-20 12:31:52.064 pyfstat.utils.sft INFO    : Loading 1 SFTs from H1...\n",
      "25-07-20 12:31:52.073 pyfstat.utils.sft INFO    : Loading 1 SFTs from H1...\n",
      "25-07-20 12:31:52.083 pyfstat.utils.sft INFO    : Loading 1 SFTs from H1...\n"
     ]
    },
    {
     "name": "stderr",
     "output_type": "stream",
     "text": [
      "  8%|▊         | 1456/19200 [00:14<02:48, 105.23it/s]"
     ]
    },
    {
     "name": "stdout",
     "output_type": "stream",
     "text": [
      "25-07-20 12:31:52.093 pyfstat.utils.sft INFO    : Loading 1 SFTs from H1...\n",
      "25-07-20 12:31:52.102 pyfstat.utils.sft INFO    : Loading 1 SFTs from H1...\n",
      "25-07-20 12:31:52.112 pyfstat.utils.sft INFO    : Loading 1 SFTs from H1...\n",
      "25-07-20 12:31:52.121 pyfstat.utils.sft INFO    : Loading 1 SFTs from H1...\n",
      "25-07-20 12:31:52.130 pyfstat.utils.sft INFO    : Loading 1 SFTs from H1...\n",
      "25-07-20 12:31:52.139 pyfstat.utils.sft INFO    : Loading 1 SFTs from H1...\n",
      "25-07-20 12:31:52.148 pyfstat.utils.sft INFO    : Loading 1 SFTs from H1...\n",
      "25-07-20 12:31:52.158 pyfstat.utils.sft INFO    : Loading 1 SFTs from H1...\n",
      "25-07-20 12:31:52.167 pyfstat.utils.sft INFO    : Loading 1 SFTs from H1...\n",
      "25-07-20 12:31:52.176 pyfstat.utils.sft INFO    : Loading 1 SFTs from H1...\n",
      "25-07-20 12:31:52.185 pyfstat.utils.sft INFO    : Loading 1 SFTs from H1...\n"
     ]
    },
    {
     "name": "stderr",
     "output_type": "stream",
     "text": [
      "  8%|▊         | 1467/19200 [00:14<02:47, 105.90it/s]"
     ]
    },
    {
     "name": "stdout",
     "output_type": "stream",
     "text": [
      "25-07-20 12:31:52.195 pyfstat.utils.sft INFO    : Loading 1 SFTs from H1...\n",
      "25-07-20 12:31:52.204 pyfstat.utils.sft INFO    : Loading 1 SFTs from H1...\n",
      "25-07-20 12:31:52.214 pyfstat.utils.sft INFO    : Loading 1 SFTs from H1...\n",
      "25-07-20 12:31:52.223 pyfstat.utils.sft INFO    : Loading 1 SFTs from H1...\n",
      "25-07-20 12:31:52.232 pyfstat.utils.sft INFO    : Loading 1 SFTs from H1...\n",
      "25-07-20 12:31:52.241 pyfstat.utils.sft INFO    : Loading 1 SFTs from H1...\n",
      "25-07-20 12:31:52.249 pyfstat.utils.sft INFO    : Loading 1 SFTs from H1...\n",
      "25-07-20 12:31:52.258 pyfstat.utils.sft INFO    : Loading 1 SFTs from H1...\n",
      "25-07-20 12:31:52.267 pyfstat.utils.sft INFO    : Loading 1 SFTs from H1...\n",
      "25-07-20 12:31:52.276 pyfstat.utils.sft INFO    : Loading 1 SFTs from H1...\n",
      "25-07-20 12:31:52.286 pyfstat.utils.sft INFO    : Loading 1 SFTs from H1...\n"
     ]
    },
    {
     "name": "stderr",
     "output_type": "stream",
     "text": [
      "  8%|▊         | 1478/19200 [00:14<02:45, 106.96it/s]"
     ]
    },
    {
     "name": "stdout",
     "output_type": "stream",
     "text": [
      "25-07-20 12:31:52.295 pyfstat.utils.sft INFO    : Loading 1 SFTs from H1...\n",
      "25-07-20 12:31:52.305 pyfstat.utils.sft INFO    : Loading 1 SFTs from H1...\n",
      "25-07-20 12:31:52.314 pyfstat.utils.sft INFO    : Loading 1 SFTs from H1...\n",
      "25-07-20 12:31:52.323 pyfstat.utils.sft INFO    : Loading 1 SFTs from H1...\n",
      "25-07-20 12:31:52.332 pyfstat.utils.sft INFO    : Loading 1 SFTs from H1...\n",
      "25-07-20 12:31:52.341 pyfstat.utils.sft INFO    : Loading 1 SFTs from H1...\n",
      "25-07-20 12:31:52.350 pyfstat.utils.sft INFO    : Loading 1 SFTs from H1...\n",
      "25-07-20 12:31:52.359 pyfstat.utils.sft INFO    : Loading 1 SFTs from H1...\n",
      "25-07-20 12:31:52.371 pyfstat.utils.sft INFO    : Loading 1 SFTs from H1...\n",
      "25-07-20 12:31:52.383 pyfstat.utils.sft INFO    : Loading 1 SFTs from H1...\n",
      "25-07-20 12:31:52.393 pyfstat.utils.sft INFO    : Loading 1 SFTs from H1...\n"
     ]
    },
    {
     "name": "stderr",
     "output_type": "stream",
     "text": [
      "  8%|▊         | 1489/19200 [00:14<02:47, 105.58it/s]"
     ]
    },
    {
     "name": "stdout",
     "output_type": "stream",
     "text": [
      "25-07-20 12:31:52.403 pyfstat.utils.sft INFO    : Loading 1 SFTs from H1...\n",
      "25-07-20 12:31:52.412 pyfstat.utils.sft INFO    : Loading 1 SFTs from H1...\n",
      "25-07-20 12:31:52.421 pyfstat.utils.sft INFO    : Loading 1 SFTs from H1...\n",
      "25-07-20 12:31:52.430 pyfstat.utils.sft INFO    : Loading 1 SFTs from H1...\n",
      "25-07-20 12:31:52.439 pyfstat.utils.sft INFO    : Loading 1 SFTs from H1...\n",
      "25-07-20 12:31:52.448 pyfstat.utils.sft INFO    : Loading 1 SFTs from H1...\n",
      "25-07-20 12:31:52.458 pyfstat.utils.sft INFO    : Loading 1 SFTs from H1...\n",
      "25-07-20 12:31:52.467 pyfstat.utils.sft INFO    : Loading 1 SFTs from H1...\n",
      "25-07-20 12:31:52.476 pyfstat.utils.sft INFO    : Loading 1 SFTs from H1...\n",
      "25-07-20 12:31:52.485 pyfstat.utils.sft INFO    : Loading 1 SFTs from H1...\n",
      "25-07-20 12:31:52.494 pyfstat.utils.sft INFO    : Loading 1 SFTs from H1...\n"
     ]
    },
    {
     "name": "stderr",
     "output_type": "stream",
     "text": [
      "  8%|▊         | 1500/19200 [00:14<02:46, 106.26it/s]"
     ]
    },
    {
     "name": "stdout",
     "output_type": "stream",
     "text": [
      "25-07-20 12:31:52.505 pyfstat.utils.sft INFO    : Loading 1 SFTs from H1...\n",
      "25-07-20 12:31:52.514 pyfstat.utils.sft INFO    : Loading 1 SFTs from H1...\n",
      "25-07-20 12:31:52.524 pyfstat.utils.sft INFO    : Loading 1 SFTs from H1...\n",
      "25-07-20 12:31:52.533 pyfstat.utils.sft INFO    : Loading 1 SFTs from H1...\n",
      "25-07-20 12:31:52.542 pyfstat.utils.sft INFO    : Loading 1 SFTs from H1...\n",
      "25-07-20 12:31:52.551 pyfstat.utils.sft INFO    : Loading 1 SFTs from H1...\n",
      "25-07-20 12:31:52.561 pyfstat.utils.sft INFO    : Loading 1 SFTs from H1...\n",
      "25-07-20 12:31:52.570 pyfstat.utils.sft INFO    : Loading 1 SFTs from H1...\n",
      "25-07-20 12:31:52.581 pyfstat.utils.sft INFO    : Loading 1 SFTs from H1...\n",
      "25-07-20 12:31:52.591 pyfstat.utils.sft INFO    : Loading 1 SFTs from H1...\n",
      "25-07-20 12:31:52.600 pyfstat.utils.sft INFO    : Loading 1 SFTs from H1...\n"
     ]
    },
    {
     "name": "stderr",
     "output_type": "stream",
     "text": [
      "  8%|▊         | 1511/19200 [00:14<02:47, 105.70it/s]"
     ]
    },
    {
     "name": "stdout",
     "output_type": "stream",
     "text": [
      "25-07-20 12:31:52.610 pyfstat.utils.sft INFO    : Loading 1 SFTs from H1...\n",
      "25-07-20 12:31:52.620 pyfstat.utils.sft INFO    : Loading 1 SFTs from H1...\n",
      "25-07-20 12:31:52.631 pyfstat.utils.sft INFO    : Loading 1 SFTs from H1...\n",
      "25-07-20 12:31:52.641 pyfstat.utils.sft INFO    : Loading 1 SFTs from H1...\n",
      "25-07-20 12:31:52.650 pyfstat.utils.sft INFO    : Loading 1 SFTs from H1...\n",
      "25-07-20 12:31:52.659 pyfstat.utils.sft INFO    : Loading 1 SFTs from H1...\n",
      "25-07-20 12:31:52.668 pyfstat.utils.sft INFO    : Loading 1 SFTs from H1...\n",
      "25-07-20 12:31:52.683 pyfstat.utils.sft INFO    : Loading 1 SFTs from H1...\n",
      "25-07-20 12:31:52.693 pyfstat.utils.sft INFO    : Loading 1 SFTs from H1...\n",
      "25-07-20 12:31:52.702 pyfstat.utils.sft INFO    : Loading 1 SFTs from H1...\n",
      "25-07-20 12:31:52.711 pyfstat.utils.sft INFO    : Loading 1 SFTs from H1...\n"
     ]
    },
    {
     "name": "stderr",
     "output_type": "stream",
     "text": [
      "  8%|▊         | 1522/19200 [00:14<02:50, 103.86it/s]"
     ]
    },
    {
     "name": "stdout",
     "output_type": "stream",
     "text": [
      "25-07-20 12:31:52.721 pyfstat.utils.sft INFO    : Loading 1 SFTs from H1...\n",
      "25-07-20 12:31:52.730 pyfstat.utils.sft INFO    : Loading 1 SFTs from H1...\n",
      "25-07-20 12:31:52.740 pyfstat.utils.sft INFO    : Loading 1 SFTs from H1...\n",
      "25-07-20 12:31:52.749 pyfstat.utils.sft INFO    : Loading 1 SFTs from H1...\n",
      "25-07-20 12:31:52.758 pyfstat.utils.sft INFO    : Loading 1 SFTs from H1...\n",
      "25-07-20 12:31:52.767 pyfstat.utils.sft INFO    : Loading 1 SFTs from H1...\n",
      "25-07-20 12:31:52.776 pyfstat.utils.sft INFO    : Loading 1 SFTs from H1...\n",
      "25-07-20 12:31:52.785 pyfstat.utils.sft INFO    : Loading 1 SFTs from H1...\n",
      "25-07-20 12:31:52.794 pyfstat.utils.sft INFO    : Loading 1 SFTs from H1...\n",
      "25-07-20 12:31:52.806 pyfstat.utils.sft INFO    : Loading 1 SFTs from H1...\n",
      "25-07-20 12:31:52.814 pyfstat.utils.sft INFO    : Loading 1 SFTs from H1...\n"
     ]
    },
    {
     "name": "stderr",
     "output_type": "stream",
     "text": [
      "  8%|▊         | 1533/19200 [00:14<02:49, 104.20it/s]"
     ]
    },
    {
     "name": "stdout",
     "output_type": "stream",
     "text": [
      "25-07-20 12:31:52.825 pyfstat.utils.sft INFO    : Loading 1 SFTs from H1...\n",
      "25-07-20 12:31:52.835 pyfstat.utils.sft INFO    : Loading 1 SFTs from H1...\n",
      "25-07-20 12:31:52.844 pyfstat.utils.sft INFO    : Loading 1 SFTs from H1...\n",
      "25-07-20 12:31:52.853 pyfstat.utils.sft INFO    : Loading 1 SFTs from H1...\n",
      "25-07-20 12:31:52.863 pyfstat.utils.sft INFO    : Loading 1 SFTs from H1...\n",
      "25-07-20 12:31:52.872 pyfstat.utils.sft INFO    : Loading 1 SFTs from H1...\n",
      "25-07-20 12:31:52.881 pyfstat.utils.sft INFO    : Loading 1 SFTs from H1...\n",
      "25-07-20 12:31:52.890 pyfstat.utils.sft INFO    : Loading 1 SFTs from H1...\n",
      "25-07-20 12:31:52.899 pyfstat.utils.sft INFO    : Loading 1 SFTs from H1...\n",
      "25-07-20 12:31:52.909 pyfstat.utils.sft INFO    : Loading 1 SFTs from H1...\n",
      "25-07-20 12:31:52.918 pyfstat.utils.sft INFO    : Loading 1 SFTs from H1...\n"
     ]
    },
    {
     "name": "stderr",
     "output_type": "stream",
     "text": [
      "  8%|▊         | 1544/19200 [00:14<02:47, 105.19it/s]"
     ]
    },
    {
     "name": "stdout",
     "output_type": "stream",
     "text": [
      "25-07-20 12:31:52.927 pyfstat.utils.sft INFO    : Loading 1 SFTs from H1...\n",
      "25-07-20 12:31:52.937 pyfstat.utils.sft INFO    : Loading 1 SFTs from H1...\n",
      "25-07-20 12:31:52.946 pyfstat.utils.sft INFO    : Loading 1 SFTs from H1...\n",
      "25-07-20 12:31:52.955 pyfstat.utils.sft INFO    : Loading 1 SFTs from H1...\n",
      "25-07-20 12:31:52.965 pyfstat.utils.sft INFO    : Loading 1 SFTs from H1...\n",
      "25-07-20 12:31:52.974 pyfstat.utils.sft INFO    : Loading 1 SFTs from H1...\n",
      "25-07-20 12:31:52.984 pyfstat.utils.sft INFO    : Loading 1 SFTs from H1...\n",
      "25-07-20 12:31:52.992 pyfstat.utils.sft INFO    : Loading 1 SFTs from H1...\n",
      "25-07-20 12:31:53.001 pyfstat.utils.sft INFO    : Loading 1 SFTs from H1...\n",
      "25-07-20 12:31:53.011 pyfstat.utils.sft INFO    : Loading 1 SFTs from H1...\n",
      "25-07-20 12:31:53.020 pyfstat.utils.sft INFO    : Loading 1 SFTs from H1...\n"
     ]
    },
    {
     "name": "stderr",
     "output_type": "stream",
     "text": [
      "  8%|▊         | 1555/19200 [00:15<02:46, 105.95it/s]"
     ]
    },
    {
     "name": "stdout",
     "output_type": "stream",
     "text": [
      "25-07-20 12:31:53.030 pyfstat.utils.sft INFO    : Loading 1 SFTs from H1...\n",
      "25-07-20 12:31:53.039 pyfstat.utils.sft INFO    : Loading 1 SFTs from H1...\n",
      "25-07-20 12:31:53.047 pyfstat.utils.sft INFO    : Loading 1 SFTs from H1...\n",
      "25-07-20 12:31:53.056 pyfstat.utils.sft INFO    : Loading 1 SFTs from H1...\n",
      "25-07-20 12:31:53.066 pyfstat.utils.sft INFO    : Loading 1 SFTs from H1...\n",
      "25-07-20 12:31:53.075 pyfstat.utils.sft INFO    : Loading 1 SFTs from H1...\n",
      "25-07-20 12:31:53.084 pyfstat.utils.sft INFO    : Loading 1 SFTs from H1...\n",
      "25-07-20 12:31:53.094 pyfstat.utils.sft INFO    : Loading 1 SFTs from H1...\n",
      "25-07-20 12:31:53.103 pyfstat.utils.sft INFO    : Loading 1 SFTs from H1...\n",
      "25-07-20 12:31:53.112 pyfstat.utils.sft INFO    : Loading 1 SFTs from H1...\n",
      "25-07-20 12:31:53.121 pyfstat.utils.sft INFO    : Loading 1 SFTs from H1...\n"
     ]
    },
    {
     "name": "stderr",
     "output_type": "stream",
     "text": [
      "  8%|▊         | 1566/19200 [00:15<02:45, 106.66it/s]"
     ]
    },
    {
     "name": "stdout",
     "output_type": "stream",
     "text": [
      "25-07-20 12:31:53.131 pyfstat.utils.sft INFO    : Loading 1 SFTs from H1...\n",
      "25-07-20 12:31:53.141 pyfstat.utils.sft INFO    : Loading 1 SFTs from H1...\n",
      "25-07-20 12:31:53.150 pyfstat.utils.sft INFO    : Loading 1 SFTs from H1...\n",
      "25-07-20 12:31:53.159 pyfstat.utils.sft INFO    : Loading 1 SFTs from H1...\n",
      "25-07-20 12:31:53.169 pyfstat.utils.sft INFO    : Loading 1 SFTs from H1...\n",
      "25-07-20 12:31:53.178 pyfstat.utils.sft INFO    : Loading 1 SFTs from H1...\n",
      "25-07-20 12:31:53.187 pyfstat.utils.sft INFO    : Loading 1 SFTs from H1...\n",
      "25-07-20 12:31:53.196 pyfstat.utils.sft INFO    : Loading 1 SFTs from H1...\n",
      "25-07-20 12:31:53.205 pyfstat.utils.sft INFO    : Loading 1 SFTs from H1...\n",
      "25-07-20 12:31:53.214 pyfstat.utils.sft INFO    : Loading 1 SFTs from H1...\n",
      "25-07-20 12:31:53.224 pyfstat.utils.sft INFO    : Loading 1 SFTs from H1...\n"
     ]
    },
    {
     "name": "stderr",
     "output_type": "stream",
     "text": [
      "  8%|▊         | 1577/19200 [00:15<02:44, 106.86it/s]"
     ]
    },
    {
     "name": "stdout",
     "output_type": "stream",
     "text": [
      "25-07-20 12:31:53.234 pyfstat.utils.sft INFO    : Loading 1 SFTs from H1...\n",
      "25-07-20 12:31:53.243 pyfstat.utils.sft INFO    : Loading 1 SFTs from H1...\n",
      "25-07-20 12:31:53.252 pyfstat.utils.sft INFO    : Loading 1 SFTs from H1...\n",
      "25-07-20 12:31:53.261 pyfstat.utils.sft INFO    : Loading 1 SFTs from H1...\n",
      "25-07-20 12:31:53.278 pyfstat.utils.sft INFO    : Loading 1 SFTs from H1...\n",
      "25-07-20 12:31:53.293 pyfstat.utils.sft INFO    : Loading 1 SFTs from H1...\n",
      "25-07-20 12:31:53.308 pyfstat.utils.sft INFO    : Loading 1 SFTs from H1...\n",
      "25-07-20 12:31:53.318 pyfstat.utils.sft INFO    : Loading 1 SFTs from H1...\n",
      "25-07-20 12:31:53.328 pyfstat.utils.sft INFO    : Loading 1 SFTs from H1...\n",
      "25-07-20 12:31:53.337 pyfstat.utils.sft INFO    : Loading 1 SFTs from H1...\n",
      "25-07-20 12:31:53.346 pyfstat.utils.sft INFO    : Loading 1 SFTs from H1...\n"
     ]
    },
    {
     "name": "stderr",
     "output_type": "stream",
     "text": [
      "  8%|▊         | 1588/19200 [00:15<02:54, 101.16it/s]"
     ]
    },
    {
     "name": "stdout",
     "output_type": "stream",
     "text": [
      "25-07-20 12:31:53.356 pyfstat.utils.sft INFO    : Loading 1 SFTs from H1...\n",
      "25-07-20 12:31:53.365 pyfstat.utils.sft INFO    : Loading 1 SFTs from H1...\n",
      "25-07-20 12:31:53.374 pyfstat.utils.sft INFO    : Loading 1 SFTs from H1...\n",
      "25-07-20 12:31:53.383 pyfstat.utils.sft INFO    : Loading 1 SFTs from H1...\n",
      "25-07-20 12:31:53.393 pyfstat.utils.sft INFO    : Loading 1 SFTs from H1...\n",
      "25-07-20 12:31:53.403 pyfstat.utils.sft INFO    : Loading 1 SFTs from H1...\n",
      "25-07-20 12:31:53.412 pyfstat.utils.sft INFO    : Loading 1 SFTs from H1...\n",
      "25-07-20 12:31:53.421 pyfstat.utils.sft INFO    : Loading 1 SFTs from H1...\n",
      "25-07-20 12:31:53.430 pyfstat.utils.sft INFO    : Loading 1 SFTs from H1...\n",
      "25-07-20 12:31:53.439 pyfstat.utils.sft INFO    : Loading 1 SFTs from H1...\n",
      "25-07-20 12:31:53.449 pyfstat.utils.sft INFO    : Loading 1 SFTs from H1...\n"
     ]
    },
    {
     "name": "stderr",
     "output_type": "stream",
     "text": [
      "  8%|▊         | 1599/19200 [00:15<02:51, 102.82it/s]"
     ]
    },
    {
     "name": "stdout",
     "output_type": "stream",
     "text": [
      "25-07-20 12:31:53.459 pyfstat.utils.sft INFO    : Loading 1 SFTs from H1...\n",
      "25-07-20 12:31:53.469 pyfstat.utils.sft INFO    : Loading 1 SFTs from H1...\n",
      "25-07-20 12:31:53.478 pyfstat.utils.sft INFO    : Loading 1 SFTs from H1...\n",
      "25-07-20 12:31:53.487 pyfstat.utils.sft INFO    : Loading 1 SFTs from H1...\n",
      "25-07-20 12:31:53.496 pyfstat.utils.sft INFO    : Loading 1 SFTs from H1...\n",
      "25-07-20 12:31:53.506 pyfstat.utils.sft INFO    : Loading 1 SFTs from H1...\n",
      "25-07-20 12:31:53.515 pyfstat.utils.sft INFO    : Loading 1 SFTs from H1...\n",
      "25-07-20 12:31:53.524 pyfstat.utils.sft INFO    : Loading 1 SFTs from H1...\n",
      "25-07-20 12:31:53.533 pyfstat.utils.sft INFO    : Loading 1 SFTs from H1...\n",
      "25-07-20 12:31:53.542 pyfstat.utils.sft INFO    : Loading 1 SFTs from H1...\n",
      "25-07-20 12:31:53.551 pyfstat.utils.sft INFO    : Loading 1 SFTs from H1...\n"
     ]
    },
    {
     "name": "stderr",
     "output_type": "stream",
     "text": [
      "  8%|▊         | 1610/19200 [00:15<02:49, 104.07it/s]"
     ]
    },
    {
     "name": "stdout",
     "output_type": "stream",
     "text": [
      "25-07-20 12:31:53.561 pyfstat.utils.sft INFO    : Loading 1 SFTs from H1...\n",
      "25-07-20 12:31:53.571 pyfstat.utils.sft INFO    : Loading 1 SFTs from H1...\n",
      "25-07-20 12:31:53.581 pyfstat.utils.sft INFO    : Loading 1 SFTs from H1...\n",
      "25-07-20 12:31:53.592 pyfstat.utils.sft INFO    : Loading 1 SFTs from H1...\n",
      "25-07-20 12:31:53.603 pyfstat.utils.sft INFO    : Loading 1 SFTs from H1...\n",
      "25-07-20 12:31:53.613 pyfstat.utils.sft INFO    : Loading 1 SFTs from H1...\n",
      "25-07-20 12:31:53.623 pyfstat.utils.sft INFO    : Loading 1 SFTs from H1...\n",
      "25-07-20 12:31:53.634 pyfstat.utils.sft INFO    : Loading 1 SFTs from H1...\n",
      "25-07-20 12:31:53.643 pyfstat.utils.sft INFO    : Loading 1 SFTs from H1...\n",
      "25-07-20 12:31:53.654 pyfstat.utils.sft INFO    : Loading 1 SFTs from H1...\n",
      "25-07-20 12:31:53.664 pyfstat.utils.sft INFO    : Loading 1 SFTs from H1...\n"
     ]
    },
    {
     "name": "stderr",
     "output_type": "stream",
     "text": [
      "  8%|▊         | 1621/19200 [00:15<02:51, 102.23it/s]"
     ]
    },
    {
     "name": "stdout",
     "output_type": "stream",
     "text": [
      "25-07-20 12:31:53.674 pyfstat.utils.sft INFO    : Loading 1 SFTs from H1...\n",
      "25-07-20 12:31:53.683 pyfstat.utils.sft INFO    : Loading 1 SFTs from H1...\n",
      "25-07-20 12:31:53.693 pyfstat.utils.sft INFO    : Loading 1 SFTs from H1...\n",
      "25-07-20 12:31:53.701 pyfstat.utils.sft INFO    : Loading 1 SFTs from H1...\n",
      "25-07-20 12:31:53.711 pyfstat.utils.sft INFO    : Loading 1 SFTs from H1...\n",
      "25-07-20 12:31:53.719 pyfstat.utils.sft INFO    : Loading 1 SFTs from H1...\n",
      "25-07-20 12:31:53.730 pyfstat.utils.sft INFO    : Loading 1 SFTs from H1...\n",
      "25-07-20 12:31:53.741 pyfstat.utils.sft INFO    : Loading 1 SFTs from H1...\n",
      "25-07-20 12:31:53.751 pyfstat.utils.sft INFO    : Loading 1 SFTs from H1...\n",
      "25-07-20 12:31:53.761 pyfstat.utils.sft INFO    : Loading 1 SFTs from H1...\n",
      "25-07-20 12:31:53.770 pyfstat.utils.sft INFO    : Loading 1 SFTs from H1...\n"
     ]
    },
    {
     "name": "stderr",
     "output_type": "stream",
     "text": [
      "  8%|▊         | 1632/19200 [00:15<02:51, 102.53it/s]"
     ]
    },
    {
     "name": "stdout",
     "output_type": "stream",
     "text": [
      "25-07-20 12:31:53.780 pyfstat.utils.sft INFO    : Loading 1 SFTs from H1...\n",
      "25-07-20 12:31:53.790 pyfstat.utils.sft INFO    : Loading 1 SFTs from H1...\n",
      "25-07-20 12:31:53.799 pyfstat.utils.sft INFO    : Loading 1 SFTs from H1...\n",
      "25-07-20 12:31:53.808 pyfstat.utils.sft INFO    : Loading 1 SFTs from H1...\n",
      "25-07-20 12:31:53.817 pyfstat.utils.sft INFO    : Loading 1 SFTs from H1...\n",
      "25-07-20 12:31:53.826 pyfstat.utils.sft INFO    : Loading 1 SFTs from H1...\n",
      "25-07-20 12:31:53.836 pyfstat.utils.sft INFO    : Loading 1 SFTs from H1...\n",
      "25-07-20 12:31:53.846 pyfstat.utils.sft INFO    : Loading 1 SFTs from H1...\n",
      "25-07-20 12:31:53.856 pyfstat.utils.sft INFO    : Loading 1 SFTs from H1...\n",
      "25-07-20 12:31:53.866 pyfstat.utils.sft INFO    : Loading 1 SFTs from H1...\n",
      "25-07-20 12:31:53.876 pyfstat.utils.sft INFO    : Loading 1 SFTs from H1...\n"
     ]
    },
    {
     "name": "stderr",
     "output_type": "stream",
     "text": [
      "  9%|▊         | 1643/19200 [00:15<02:50, 103.01it/s]"
     ]
    },
    {
     "name": "stdout",
     "output_type": "stream",
     "text": [
      "25-07-20 12:31:53.885 pyfstat.utils.sft INFO    : Loading 1 SFTs from H1...\n",
      "25-07-20 12:31:53.895 pyfstat.utils.sft INFO    : Loading 1 SFTs from H1...\n",
      "25-07-20 12:31:53.906 pyfstat.utils.sft INFO    : Loading 1 SFTs from H1...\n",
      "25-07-20 12:31:53.916 pyfstat.utils.sft INFO    : Loading 1 SFTs from H1...\n",
      "25-07-20 12:31:53.925 pyfstat.utils.sft INFO    : Loading 1 SFTs from H1...\n",
      "25-07-20 12:31:53.935 pyfstat.utils.sft INFO    : Loading 1 SFTs from H1...\n",
      "25-07-20 12:31:53.945 pyfstat.utils.sft INFO    : Loading 1 SFTs from H1...\n",
      "25-07-20 12:31:53.955 pyfstat.utils.sft INFO    : Loading 1 SFTs from H1...\n",
      "25-07-20 12:31:53.964 pyfstat.utils.sft INFO    : Loading 1 SFTs from H1...\n",
      "25-07-20 12:31:53.974 pyfstat.utils.sft INFO    : Loading 1 SFTs from H1...\n",
      "25-07-20 12:31:53.984 pyfstat.utils.sft INFO    : Loading 1 SFTs from H1...\n"
     ]
    },
    {
     "name": "stderr",
     "output_type": "stream",
     "text": [
      "  9%|▊         | 1654/19200 [00:16<02:51, 102.58it/s]"
     ]
    },
    {
     "name": "stdout",
     "output_type": "stream",
     "text": [
      "25-07-20 12:31:53.994 pyfstat.utils.sft INFO    : Loading 1 SFTs from H1...\n",
      "25-07-20 12:31:54.003 pyfstat.utils.sft INFO    : Loading 1 SFTs from H1...\n",
      "25-07-20 12:31:54.013 pyfstat.utils.sft INFO    : Loading 1 SFTs from H1...\n",
      "25-07-20 12:31:54.023 pyfstat.utils.sft INFO    : Loading 1 SFTs from H1...\n",
      "25-07-20 12:31:54.032 pyfstat.utils.sft INFO    : Loading 1 SFTs from H1...\n",
      "25-07-20 12:31:54.042 pyfstat.utils.sft INFO    : Loading 1 SFTs from H1...\n",
      "25-07-20 12:31:54.051 pyfstat.utils.sft INFO    : Loading 1 SFTs from H1...\n",
      "25-07-20 12:31:54.061 pyfstat.utils.sft INFO    : Loading 1 SFTs from H1...\n",
      "25-07-20 12:31:54.071 pyfstat.utils.sft INFO    : Loading 1 SFTs from H1...\n",
      "25-07-20 12:31:54.081 pyfstat.utils.sft INFO    : Loading 1 SFTs from H1...\n",
      "25-07-20 12:31:54.090 pyfstat.utils.sft INFO    : Loading 1 SFTs from H1...\n"
     ]
    },
    {
     "name": "stderr",
     "output_type": "stream",
     "text": [
      "  9%|▊         | 1665/19200 [00:16<02:50, 102.87it/s]"
     ]
    },
    {
     "name": "stdout",
     "output_type": "stream",
     "text": [
      "25-07-20 12:31:54.100 pyfstat.utils.sft INFO    : Loading 1 SFTs from H1...\n",
      "25-07-20 12:31:54.110 pyfstat.utils.sft INFO    : Loading 1 SFTs from H1...\n",
      "25-07-20 12:31:54.119 pyfstat.utils.sft INFO    : Loading 1 SFTs from H1...\n",
      "25-07-20 12:31:54.129 pyfstat.utils.sft INFO    : Loading 1 SFTs from H1...\n",
      "25-07-20 12:31:54.138 pyfstat.utils.sft INFO    : Loading 1 SFTs from H1...\n",
      "25-07-20 12:31:54.146 pyfstat.utils.sft INFO    : Loading 1 SFTs from H1...\n",
      "25-07-20 12:31:54.156 pyfstat.utils.sft INFO    : Loading 1 SFTs from H1...\n",
      "25-07-20 12:31:54.164 pyfstat.utils.sft INFO    : Loading 1 SFTs from H1...\n",
      "25-07-20 12:31:54.174 pyfstat.utils.sft INFO    : Loading 1 SFTs from H1...\n",
      "25-07-20 12:31:54.183 pyfstat.utils.sft INFO    : Loading 1 SFTs from H1...\n",
      "25-07-20 12:31:54.192 pyfstat.utils.sft INFO    : Loading 1 SFTs from H1...\n"
     ]
    },
    {
     "name": "stderr",
     "output_type": "stream",
     "text": [
      "  9%|▊         | 1676/19200 [00:16<02:47, 104.45it/s]"
     ]
    },
    {
     "name": "stdout",
     "output_type": "stream",
     "text": [
      "25-07-20 12:31:54.202 pyfstat.utils.sft INFO    : Loading 1 SFTs from H1...\n",
      "25-07-20 12:31:54.211 pyfstat.utils.sft INFO    : Loading 1 SFTs from H1...\n",
      "25-07-20 12:31:54.220 pyfstat.utils.sft INFO    : Loading 1 SFTs from H1...\n",
      "25-07-20 12:31:54.229 pyfstat.utils.sft INFO    : Loading 1 SFTs from H1...\n",
      "25-07-20 12:31:54.237 pyfstat.utils.sft INFO    : Loading 1 SFTs from H1...\n",
      "25-07-20 12:31:54.246 pyfstat.utils.sft INFO    : Loading 1 SFTs from H1...\n",
      "25-07-20 12:31:54.255 pyfstat.utils.sft INFO    : Loading 1 SFTs from H1...\n",
      "25-07-20 12:31:54.264 pyfstat.utils.sft INFO    : Loading 1 SFTs from H1...\n",
      "25-07-20 12:31:54.273 pyfstat.utils.sft INFO    : Loading 1 SFTs from H1...\n",
      "25-07-20 12:31:54.283 pyfstat.utils.sft INFO    : Loading 1 SFTs from H1...\n",
      "25-07-20 12:31:54.293 pyfstat.utils.sft INFO    : Loading 1 SFTs from H1...\n"
     ]
    },
    {
     "name": "stderr",
     "output_type": "stream",
     "text": [
      "  9%|▉         | 1687/19200 [00:16<02:45, 105.67it/s]"
     ]
    },
    {
     "name": "stdout",
     "output_type": "stream",
     "text": [
      "25-07-20 12:31:54.303 pyfstat.utils.sft INFO    : Loading 1 SFTs from H1...\n",
      "25-07-20 12:31:54.312 pyfstat.utils.sft INFO    : Loading 1 SFTs from H1...\n",
      "25-07-20 12:31:54.321 pyfstat.utils.sft INFO    : Loading 1 SFTs from H1...\n",
      "25-07-20 12:31:54.330 pyfstat.utils.sft INFO    : Loading 1 SFTs from H1...\n",
      "25-07-20 12:31:54.340 pyfstat.utils.sft INFO    : Loading 1 SFTs from H1...\n",
      "25-07-20 12:31:54.349 pyfstat.utils.sft INFO    : Loading 1 SFTs from H1...\n",
      "25-07-20 12:31:54.359 pyfstat.utils.sft INFO    : Loading 1 SFTs from H1...\n",
      "25-07-20 12:31:54.368 pyfstat.utils.sft INFO    : Loading 1 SFTs from H1...\n",
      "25-07-20 12:31:54.377 pyfstat.utils.sft INFO    : Loading 1 SFTs from H1...\n",
      "25-07-20 12:31:54.386 pyfstat.utils.sft INFO    : Loading 1 SFTs from H1...\n",
      "25-07-20 12:31:54.396 pyfstat.utils.sft INFO    : Loading 1 SFTs from H1...\n"
     ]
    },
    {
     "name": "stderr",
     "output_type": "stream",
     "text": [
      "  9%|▉         | 1698/19200 [00:16<02:45, 106.01it/s]"
     ]
    },
    {
     "name": "stdout",
     "output_type": "stream",
     "text": [
      "25-07-20 12:31:54.406 pyfstat.utils.sft INFO    : Loading 1 SFTs from H1...\n",
      "25-07-20 12:31:54.415 pyfstat.utils.sft INFO    : Loading 1 SFTs from H1...\n",
      "25-07-20 12:31:54.424 pyfstat.utils.sft INFO    : Loading 1 SFTs from H1...\n",
      "25-07-20 12:31:54.434 pyfstat.utils.sft INFO    : Loading 1 SFTs from H1...\n",
      "25-07-20 12:31:54.443 pyfstat.utils.sft INFO    : Loading 1 SFTs from H1...\n",
      "25-07-20 12:31:54.452 pyfstat.utils.sft INFO    : Loading 1 SFTs from H1...\n",
      "25-07-20 12:31:54.462 pyfstat.utils.sft INFO    : Loading 1 SFTs from H1...\n",
      "25-07-20 12:31:54.471 pyfstat.utils.sft INFO    : Loading 1 SFTs from H1...\n",
      "25-07-20 12:31:54.480 pyfstat.utils.sft INFO    : Loading 1 SFTs from H1...\n",
      "25-07-20 12:31:54.490 pyfstat.utils.sft INFO    : Loading 1 SFTs from H1...\n",
      "25-07-20 12:31:54.499 pyfstat.utils.sft INFO    : Loading 1 SFTs from H1...\n"
     ]
    },
    {
     "name": "stderr",
     "output_type": "stream",
     "text": [
      "  9%|▉         | 1709/19200 [00:16<02:44, 106.10it/s]"
     ]
    },
    {
     "name": "stdout",
     "output_type": "stream",
     "text": [
      "25-07-20 12:31:54.510 pyfstat.utils.sft INFO    : Loading 1 SFTs from H1...\n",
      "25-07-20 12:31:54.519 pyfstat.utils.sft INFO    : Loading 1 SFTs from H1...\n",
      "25-07-20 12:31:54.528 pyfstat.utils.sft INFO    : Loading 1 SFTs from H1...\n",
      "25-07-20 12:31:54.537 pyfstat.utils.sft INFO    : Loading 1 SFTs from H1...\n",
      "25-07-20 12:31:54.546 pyfstat.utils.sft INFO    : Loading 1 SFTs from H1...\n",
      "25-07-20 12:31:54.555 pyfstat.utils.sft INFO    : Loading 1 SFTs from H1...\n",
      "25-07-20 12:31:54.564 pyfstat.utils.sft INFO    : Loading 1 SFTs from H1...\n",
      "25-07-20 12:31:54.574 pyfstat.utils.sft INFO    : Loading 1 SFTs from H1...\n",
      "25-07-20 12:31:54.584 pyfstat.utils.sft INFO    : Loading 1 SFTs from H1...\n",
      "25-07-20 12:31:54.594 pyfstat.utils.sft INFO    : Loading 1 SFTs from H1...\n",
      "25-07-20 12:31:54.603 pyfstat.utils.sft INFO    : Loading 1 SFTs from H1...\n"
     ]
    },
    {
     "name": "stderr",
     "output_type": "stream",
     "text": [
      "  9%|▉         | 1720/19200 [00:16<02:44, 106.29it/s]"
     ]
    },
    {
     "name": "stdout",
     "output_type": "stream",
     "text": [
      "25-07-20 12:31:54.613 pyfstat.utils.sft INFO    : Loading 1 SFTs from H1...\n",
      "25-07-20 12:31:54.623 pyfstat.utils.sft INFO    : Loading 1 SFTs from H1...\n",
      "25-07-20 12:31:54.632 pyfstat.utils.sft INFO    : Loading 1 SFTs from H1...\n",
      "25-07-20 12:31:54.641 pyfstat.utils.sft INFO    : Loading 1 SFTs from H1...\n",
      "25-07-20 12:31:54.650 pyfstat.utils.sft INFO    : Loading 1 SFTs from H1...\n",
      "25-07-20 12:31:54.659 pyfstat.utils.sft INFO    : Loading 1 SFTs from H1...\n",
      "25-07-20 12:31:54.669 pyfstat.utils.sft INFO    : Loading 1 SFTs from H1...\n",
      "25-07-20 12:31:54.679 pyfstat.utils.sft INFO    : Loading 1 SFTs from H1...\n",
      "25-07-20 12:31:54.690 pyfstat.utils.sft INFO    : Loading 1 SFTs from H1...\n",
      "25-07-20 12:31:54.700 pyfstat.utils.sft INFO    : Loading 1 SFTs from H1...\n",
      "25-07-20 12:31:54.709 pyfstat.utils.sft INFO    : Loading 1 SFTs from H1...\n"
     ]
    },
    {
     "name": "stderr",
     "output_type": "stream",
     "text": [
      "  9%|▉         | 1731/19200 [00:16<02:46, 105.14it/s]"
     ]
    },
    {
     "name": "stdout",
     "output_type": "stream",
     "text": [
      "25-07-20 12:31:54.720 pyfstat.utils.sft INFO    : Loading 1 SFTs from H1...\n",
      "25-07-20 12:31:54.731 pyfstat.utils.sft INFO    : Loading 1 SFTs from H1...\n",
      "25-07-20 12:31:54.741 pyfstat.utils.sft INFO    : Loading 1 SFTs from H1...\n",
      "25-07-20 12:31:54.751 pyfstat.utils.sft INFO    : Loading 1 SFTs from H1...\n",
      "25-07-20 12:31:54.760 pyfstat.utils.sft INFO    : Loading 1 SFTs from H1...\n",
      "25-07-20 12:31:54.770 pyfstat.utils.sft INFO    : Loading 1 SFTs from H1...\n",
      "25-07-20 12:31:54.780 pyfstat.utils.sft INFO    : Loading 1 SFTs from H1...\n",
      "25-07-20 12:31:54.789 pyfstat.utils.sft INFO    : Loading 1 SFTs from H1...\n",
      "25-07-20 12:31:54.799 pyfstat.utils.sft INFO    : Loading 1 SFTs from H1...\n",
      "25-07-20 12:31:54.809 pyfstat.utils.sft INFO    : Loading 1 SFTs from H1...\n",
      "25-07-20 12:31:54.819 pyfstat.utils.sft INFO    : Loading 1 SFTs from H1...\n"
     ]
    },
    {
     "name": "stderr",
     "output_type": "stream",
     "text": [
      "  9%|▉         | 1742/19200 [00:16<02:48, 103.83it/s]"
     ]
    },
    {
     "name": "stdout",
     "output_type": "stream",
     "text": [
      "25-07-20 12:31:54.829 pyfstat.utils.sft INFO    : Loading 1 SFTs from H1...\n",
      "25-07-20 12:31:54.839 pyfstat.utils.sft INFO    : Loading 1 SFTs from H1...\n",
      "25-07-20 12:31:54.849 pyfstat.utils.sft INFO    : Loading 1 SFTs from H1...\n",
      "25-07-20 12:31:54.858 pyfstat.utils.sft INFO    : Loading 1 SFTs from H1...\n",
      "25-07-20 12:31:54.868 pyfstat.utils.sft INFO    : Loading 1 SFTs from H1...\n",
      "25-07-20 12:31:54.877 pyfstat.utils.sft INFO    : Loading 1 SFTs from H1...\n",
      "25-07-20 12:31:54.887 pyfstat.utils.sft INFO    : Loading 1 SFTs from H1...\n",
      "25-07-20 12:31:54.897 pyfstat.utils.sft INFO    : Loading 1 SFTs from H1...\n",
      "25-07-20 12:31:54.907 pyfstat.utils.sft INFO    : Loading 1 SFTs from H1...\n",
      "25-07-20 12:31:54.917 pyfstat.utils.sft INFO    : Loading 1 SFTs from H1...\n",
      "25-07-20 12:31:54.926 pyfstat.utils.sft INFO    : Loading 1 SFTs from H1...\n"
     ]
    },
    {
     "name": "stderr",
     "output_type": "stream",
     "text": [
      "  9%|▉         | 1753/19200 [00:16<02:48, 103.33it/s]"
     ]
    },
    {
     "name": "stdout",
     "output_type": "stream",
     "text": [
      "25-07-20 12:31:54.936 pyfstat.utils.sft INFO    : Loading 1 SFTs from H1...\n",
      "25-07-20 12:31:54.946 pyfstat.utils.sft INFO    : Loading 1 SFTs from H1...\n",
      "25-07-20 12:31:54.957 pyfstat.utils.sft INFO    : Loading 1 SFTs from H1...\n",
      "25-07-20 12:31:54.966 pyfstat.utils.sft INFO    : Loading 1 SFTs from H1...\n",
      "25-07-20 12:31:54.976 pyfstat.utils.sft INFO    : Loading 1 SFTs from H1...\n",
      "25-07-20 12:31:54.986 pyfstat.utils.sft INFO    : Loading 1 SFTs from H1...\n",
      "25-07-20 12:31:54.995 pyfstat.utils.sft INFO    : Loading 1 SFTs from H1...\n",
      "25-07-20 12:31:55.005 pyfstat.utils.sft INFO    : Loading 1 SFTs from H1...\n",
      "25-07-20 12:31:55.015 pyfstat.utils.sft INFO    : Loading 1 SFTs from H1...\n",
      "25-07-20 12:31:55.024 pyfstat.utils.sft INFO    : Loading 1 SFTs from H1...\n",
      "25-07-20 12:31:55.034 pyfstat.utils.sft INFO    : Loading 1 SFTs from H1...\n"
     ]
    },
    {
     "name": "stderr",
     "output_type": "stream",
     "text": [
      "  9%|▉         | 1764/19200 [00:17<02:49, 102.84it/s]"
     ]
    },
    {
     "name": "stdout",
     "output_type": "stream",
     "text": [
      "25-07-20 12:31:55.045 pyfstat.utils.sft INFO    : Loading 1 SFTs from H1...\n",
      "25-07-20 12:31:55.055 pyfstat.utils.sft INFO    : Loading 1 SFTs from H1...\n",
      "25-07-20 12:31:55.065 pyfstat.utils.sft INFO    : Loading 1 SFTs from H1...\n",
      "25-07-20 12:31:55.075 pyfstat.utils.sft INFO    : Loading 1 SFTs from H1...\n",
      "25-07-20 12:31:55.085 pyfstat.utils.sft INFO    : Loading 1 SFTs from H1...\n",
      "25-07-20 12:31:55.094 pyfstat.utils.sft INFO    : Loading 1 SFTs from H1...\n",
      "25-07-20 12:31:55.104 pyfstat.utils.sft INFO    : Loading 1 SFTs from H1...\n",
      "25-07-20 12:31:55.114 pyfstat.utils.sft INFO    : Loading 1 SFTs from H1...\n",
      "25-07-20 12:31:55.124 pyfstat.utils.sft INFO    : Loading 1 SFTs from H1...\n",
      "25-07-20 12:31:55.133 pyfstat.utils.sft INFO    : Loading 1 SFTs from H1...\n",
      "25-07-20 12:31:55.144 pyfstat.utils.sft INFO    : Loading 1 SFTs from H1...\n"
     ]
    },
    {
     "name": "stderr",
     "output_type": "stream",
     "text": [
      "  9%|▉         | 1775/19200 [00:17<02:51, 101.89it/s]"
     ]
    },
    {
     "name": "stdout",
     "output_type": "stream",
     "text": [
      "25-07-20 12:31:55.155 pyfstat.utils.sft INFO    : Loading 1 SFTs from H1...\n",
      "25-07-20 12:31:55.166 pyfstat.utils.sft INFO    : Loading 1 SFTs from H1...\n",
      "25-07-20 12:31:55.176 pyfstat.utils.sft INFO    : Loading 1 SFTs from H1...\n",
      "25-07-20 12:31:55.186 pyfstat.utils.sft INFO    : Loading 1 SFTs from H1...\n",
      "25-07-20 12:31:55.196 pyfstat.utils.sft INFO    : Loading 1 SFTs from H1...\n",
      "25-07-20 12:31:55.206 pyfstat.utils.sft INFO    : Loading 1 SFTs from H1...\n",
      "25-07-20 12:31:55.216 pyfstat.utils.sft INFO    : Loading 1 SFTs from H1...\n",
      "25-07-20 12:31:55.226 pyfstat.utils.sft INFO    : Loading 1 SFTs from H1...\n",
      "25-07-20 12:31:55.236 pyfstat.utils.sft INFO    : Loading 1 SFTs from H1...\n",
      "25-07-20 12:31:55.246 pyfstat.utils.sft INFO    : Loading 1 SFTs from H1...\n",
      "25-07-20 12:31:55.256 pyfstat.utils.sft INFO    : Loading 1 SFTs from H1...\n"
     ]
    },
    {
     "name": "stderr",
     "output_type": "stream",
     "text": [
      "  9%|▉         | 1786/19200 [00:17<02:52, 100.90it/s]"
     ]
    },
    {
     "name": "stdout",
     "output_type": "stream",
     "text": [
      "25-07-20 12:31:55.266 pyfstat.utils.sft INFO    : Loading 1 SFTs from H1...\n",
      "25-07-20 12:31:55.276 pyfstat.utils.sft INFO    : Loading 1 SFTs from H1...\n",
      "25-07-20 12:31:55.287 pyfstat.utils.sft INFO    : Loading 1 SFTs from H1...\n",
      "25-07-20 12:31:55.297 pyfstat.utils.sft INFO    : Loading 1 SFTs from H1...\n",
      "25-07-20 12:31:55.306 pyfstat.utils.sft INFO    : Loading 1 SFTs from H1...\n",
      "25-07-20 12:31:55.316 pyfstat.utils.sft INFO    : Loading 1 SFTs from H1...\n",
      "25-07-20 12:31:55.326 pyfstat.utils.sft INFO    : Loading 1 SFTs from H1...\n",
      "25-07-20 12:31:55.336 pyfstat.utils.sft INFO    : Loading 1 SFTs from H1...\n",
      "25-07-20 12:31:55.345 pyfstat.utils.sft INFO    : Loading 1 SFTs from H1...\n",
      "25-07-20 12:31:55.355 pyfstat.utils.sft INFO    : Loading 1 SFTs from H1...\n",
      "25-07-20 12:31:55.365 pyfstat.utils.sft INFO    : Loading 1 SFTs from H1...\n"
     ]
    },
    {
     "name": "stderr",
     "output_type": "stream",
     "text": [
      "  9%|▉         | 1797/19200 [00:17<02:52, 100.84it/s]"
     ]
    },
    {
     "name": "stdout",
     "output_type": "stream",
     "text": [
      "25-07-20 12:31:55.376 pyfstat.utils.sft INFO    : Loading 1 SFTs from H1...\n",
      "25-07-20 12:31:55.386 pyfstat.utils.sft INFO    : Loading 1 SFTs from H1...\n",
      "25-07-20 12:31:55.396 pyfstat.utils.sft INFO    : Loading 1 SFTs from H1...\n",
      "25-07-20 12:31:55.406 pyfstat.utils.sft INFO    : Loading 1 SFTs from H1...\n",
      "25-07-20 12:31:55.415 pyfstat.utils.sft INFO    : Loading 1 SFTs from H1...\n",
      "25-07-20 12:31:55.425 pyfstat.utils.sft INFO    : Loading 1 SFTs from H1...\n",
      "25-07-20 12:31:55.434 pyfstat.utils.sft INFO    : Loading 1 SFTs from H1...\n",
      "25-07-20 12:31:55.444 pyfstat.utils.sft INFO    : Loading 1 SFTs from H1...\n",
      "25-07-20 12:31:55.453 pyfstat.utils.sft INFO    : Loading 1 SFTs from H1...\n",
      "25-07-20 12:31:55.463 pyfstat.utils.sft INFO    : Loading 1 SFTs from H1...\n",
      "25-07-20 12:31:55.472 pyfstat.utils.sft INFO    : Loading 1 SFTs from H1...\n"
     ]
    },
    {
     "name": "stderr",
     "output_type": "stream",
     "text": [
      "  9%|▉         | 1808/19200 [00:17<02:51, 101.55it/s]"
     ]
    },
    {
     "name": "stdout",
     "output_type": "stream",
     "text": [
      "25-07-20 12:31:55.482 pyfstat.utils.sft INFO    : Loading 1 SFTs from H1...\n",
      "25-07-20 12:31:55.492 pyfstat.utils.sft INFO    : Loading 1 SFTs from H1...\n",
      "25-07-20 12:31:55.501 pyfstat.utils.sft INFO    : Loading 1 SFTs from H1...\n",
      "25-07-20 12:31:55.511 pyfstat.utils.sft INFO    : Loading 1 SFTs from H1...\n",
      "25-07-20 12:31:55.520 pyfstat.utils.sft INFO    : Loading 1 SFTs from H1...\n",
      "25-07-20 12:31:55.529 pyfstat.utils.sft INFO    : Loading 1 SFTs from H1...\n",
      "25-07-20 12:31:55.539 pyfstat.utils.sft INFO    : Loading 1 SFTs from H1...\n",
      "25-07-20 12:31:55.549 pyfstat.utils.sft INFO    : Loading 1 SFTs from H1...\n",
      "25-07-20 12:31:55.558 pyfstat.utils.sft INFO    : Loading 1 SFTs from H1...\n",
      "25-07-20 12:31:55.568 pyfstat.utils.sft INFO    : Loading 1 SFTs from H1...\n",
      "25-07-20 12:31:55.579 pyfstat.utils.sft INFO    : Loading 1 SFTs from H1...\n"
     ]
    },
    {
     "name": "stderr",
     "output_type": "stream",
     "text": [
      "  9%|▉         | 1819/19200 [00:17<02:50, 101.85it/s]"
     ]
    },
    {
     "name": "stdout",
     "output_type": "stream",
     "text": [
      "25-07-20 12:31:55.590 pyfstat.utils.sft INFO    : Loading 1 SFTs from H1...\n",
      "25-07-20 12:31:55.600 pyfstat.utils.sft INFO    : Loading 1 SFTs from H1...\n",
      "25-07-20 12:31:55.610 pyfstat.utils.sft INFO    : Loading 1 SFTs from H1...\n",
      "25-07-20 12:31:55.620 pyfstat.utils.sft INFO    : Loading 1 SFTs from H1...\n",
      "25-07-20 12:31:55.630 pyfstat.utils.sft INFO    : Loading 1 SFTs from H1...\n",
      "25-07-20 12:31:55.640 pyfstat.utils.sft INFO    : Loading 1 SFTs from H1...\n",
      "25-07-20 12:31:55.649 pyfstat.utils.sft INFO    : Loading 1 SFTs from H1...\n",
      "25-07-20 12:31:55.660 pyfstat.utils.sft INFO    : Loading 1 SFTs from H1...\n",
      "25-07-20 12:31:55.670 pyfstat.utils.sft INFO    : Loading 1 SFTs from H1...\n",
      "25-07-20 12:31:55.680 pyfstat.utils.sft INFO    : Loading 1 SFTs from H1...\n",
      "25-07-20 12:31:55.689 pyfstat.utils.sft INFO    : Loading 1 SFTs from H1...\n"
     ]
    },
    {
     "name": "stderr",
     "output_type": "stream",
     "text": [
      " 10%|▉         | 1830/19200 [00:17<02:51, 101.27it/s]"
     ]
    },
    {
     "name": "stdout",
     "output_type": "stream",
     "text": [
      "25-07-20 12:31:55.699 pyfstat.utils.sft INFO    : Loading 1 SFTs from H1...\n",
      "25-07-20 12:31:55.709 pyfstat.utils.sft INFO    : Loading 1 SFTs from H1...\n",
      "25-07-20 12:31:55.719 pyfstat.utils.sft INFO    : Loading 1 SFTs from H1...\n",
      "25-07-20 12:31:55.729 pyfstat.utils.sft INFO    : Loading 1 SFTs from H1...\n",
      "25-07-20 12:31:55.739 pyfstat.utils.sft INFO    : Loading 1 SFTs from H1...\n",
      "25-07-20 12:31:55.748 pyfstat.utils.sft INFO    : Loading 1 SFTs from H1...\n",
      "25-07-20 12:31:55.758 pyfstat.utils.sft INFO    : Loading 1 SFTs from H1...\n",
      "25-07-20 12:31:55.768 pyfstat.utils.sft INFO    : Loading 1 SFTs from H1...\n",
      "25-07-20 12:31:55.777 pyfstat.utils.sft INFO    : Loading 1 SFTs from H1...\n",
      "25-07-20 12:31:55.787 pyfstat.utils.sft INFO    : Loading 1 SFTs from H1...\n",
      "25-07-20 12:31:55.797 pyfstat.utils.sft INFO    : Loading 1 SFTs from H1...\n"
     ]
    },
    {
     "name": "stderr",
     "output_type": "stream",
     "text": [
      " 10%|▉         | 1841/19200 [00:17<02:50, 101.60it/s]"
     ]
    },
    {
     "name": "stdout",
     "output_type": "stream",
     "text": [
      "25-07-20 12:31:55.807 pyfstat.utils.sft INFO    : Loading 1 SFTs from H1...\n",
      "25-07-20 12:31:55.817 pyfstat.utils.sft INFO    : Loading 1 SFTs from H1...\n",
      "25-07-20 12:31:55.826 pyfstat.utils.sft INFO    : Loading 1 SFTs from H1...\n",
      "25-07-20 12:31:55.836 pyfstat.utils.sft INFO    : Loading 1 SFTs from H1...\n",
      "25-07-20 12:31:55.846 pyfstat.utils.sft INFO    : Loading 1 SFTs from H1...\n",
      "25-07-20 12:31:55.855 pyfstat.utils.sft INFO    : Loading 1 SFTs from H1...\n",
      "25-07-20 12:31:55.865 pyfstat.utils.sft INFO    : Loading 1 SFTs from H1...\n",
      "25-07-20 12:31:55.874 pyfstat.utils.sft INFO    : Loading 1 SFTs from H1...\n",
      "25-07-20 12:31:55.884 pyfstat.utils.sft INFO    : Loading 1 SFTs from H1...\n",
      "25-07-20 12:31:55.893 pyfstat.utils.sft INFO    : Loading 1 SFTs from H1...\n",
      "25-07-20 12:31:55.903 pyfstat.utils.sft INFO    : Loading 1 SFTs from H1...\n"
     ]
    },
    {
     "name": "stderr",
     "output_type": "stream",
     "text": [
      " 10%|▉         | 1852/19200 [00:17<02:49, 102.24it/s]"
     ]
    },
    {
     "name": "stdout",
     "output_type": "stream",
     "text": [
      "25-07-20 12:31:55.913 pyfstat.utils.sft INFO    : Loading 1 SFTs from H1...\n",
      "25-07-20 12:31:55.922 pyfstat.utils.sft INFO    : Loading 1 SFTs from H1...\n",
      "25-07-20 12:31:55.931 pyfstat.utils.sft INFO    : Loading 1 SFTs from H1...\n",
      "25-07-20 12:31:55.941 pyfstat.utils.sft INFO    : Loading 1 SFTs from H1...\n",
      "25-07-20 12:31:55.951 pyfstat.utils.sft INFO    : Loading 1 SFTs from H1...\n",
      "25-07-20 12:31:55.961 pyfstat.utils.sft INFO    : Loading 1 SFTs from H1...\n",
      "25-07-20 12:31:55.971 pyfstat.utils.sft INFO    : Loading 1 SFTs from H1...\n",
      "25-07-20 12:31:55.980 pyfstat.utils.sft INFO    : Loading 1 SFTs from H1...\n",
      "25-07-20 12:31:55.989 pyfstat.utils.sft INFO    : Loading 1 SFTs from H1...\n",
      "25-07-20 12:31:55.999 pyfstat.utils.sft INFO    : Loading 1 SFTs from H1...\n",
      "25-07-20 12:31:56.008 pyfstat.utils.sft INFO    : Loading 1 SFTs from H1...\n"
     ]
    },
    {
     "name": "stderr",
     "output_type": "stream",
     "text": [
      " 10%|▉         | 1863/19200 [00:18<02:48, 103.05it/s]"
     ]
    },
    {
     "name": "stdout",
     "output_type": "stream",
     "text": [
      "25-07-20 12:31:56.018 pyfstat.utils.sft INFO    : Loading 1 SFTs from H1...\n",
      "25-07-20 12:31:56.027 pyfstat.utils.sft INFO    : Loading 1 SFTs from H1...\n",
      "25-07-20 12:31:56.036 pyfstat.utils.sft INFO    : Loading 1 SFTs from H1...\n",
      "25-07-20 12:31:56.045 pyfstat.utils.sft INFO    : Loading 1 SFTs from H1...\n",
      "25-07-20 12:31:56.054 pyfstat.utils.sft INFO    : Loading 1 SFTs from H1...\n",
      "25-07-20 12:31:56.064 pyfstat.utils.sft INFO    : Loading 1 SFTs from H1...\n",
      "25-07-20 12:31:56.073 pyfstat.utils.sft INFO    : Loading 1 SFTs from H1...\n",
      "25-07-20 12:31:56.082 pyfstat.utils.sft INFO    : Loading 1 SFTs from H1...\n",
      "25-07-20 12:31:56.090 pyfstat.utils.sft INFO    : Loading 1 SFTs from H1...\n",
      "25-07-20 12:31:56.100 pyfstat.utils.sft INFO    : Loading 1 SFTs from H1...\n",
      "25-07-20 12:31:56.109 pyfstat.utils.sft INFO    : Loading 1 SFTs from H1...\n"
     ]
    },
    {
     "name": "stderr",
     "output_type": "stream",
     "text": [
      " 10%|▉         | 1874/19200 [00:18<02:45, 104.61it/s]"
     ]
    },
    {
     "name": "stdout",
     "output_type": "stream",
     "text": [
      "25-07-20 12:31:56.119 pyfstat.utils.sft INFO    : Loading 1 SFTs from H1...\n",
      "25-07-20 12:31:56.128 pyfstat.utils.sft INFO    : Loading 1 SFTs from H1...\n",
      "25-07-20 12:31:56.137 pyfstat.utils.sft INFO    : Loading 1 SFTs from H1...\n",
      "25-07-20 12:31:56.147 pyfstat.utils.sft INFO    : Loading 1 SFTs from H1...\n",
      "25-07-20 12:31:56.156 pyfstat.utils.sft INFO    : Loading 1 SFTs from H1...\n",
      "25-07-20 12:31:56.165 pyfstat.utils.sft INFO    : Loading 1 SFTs from H1...\n",
      "25-07-20 12:31:56.175 pyfstat.utils.sft INFO    : Loading 1 SFTs from H1...\n",
      "25-07-20 12:31:56.184 pyfstat.utils.sft INFO    : Loading 1 SFTs from H1...\n",
      "25-07-20 12:31:56.193 pyfstat.utils.sft INFO    : Loading 1 SFTs from H1...\n",
      "25-07-20 12:31:56.202 pyfstat.utils.sft INFO    : Loading 1 SFTs from H1...\n",
      "25-07-20 12:31:56.212 pyfstat.utils.sft INFO    : Loading 1 SFTs from H1...\n"
     ]
    },
    {
     "name": "stderr",
     "output_type": "stream",
     "text": [
      " 10%|▉         | 1885/19200 [00:18<02:44, 105.32it/s]"
     ]
    },
    {
     "name": "stdout",
     "output_type": "stream",
     "text": [
      "25-07-20 12:31:56.223 pyfstat.utils.sft INFO    : Loading 1 SFTs from H1...\n",
      "25-07-20 12:31:56.233 pyfstat.utils.sft INFO    : Loading 1 SFTs from H1...\n",
      "25-07-20 12:31:56.242 pyfstat.utils.sft INFO    : Loading 1 SFTs from H1...\n",
      "25-07-20 12:31:56.251 pyfstat.utils.sft INFO    : Loading 1 SFTs from H1...\n",
      "25-07-20 12:31:56.260 pyfstat.utils.sft INFO    : Loading 1 SFTs from H1...\n",
      "25-07-20 12:31:56.269 pyfstat.utils.sft INFO    : Loading 1 SFTs from H1...\n",
      "25-07-20 12:31:56.278 pyfstat.utils.sft INFO    : Loading 1 SFTs from H1...\n",
      "25-07-20 12:31:56.288 pyfstat.utils.sft INFO    : Loading 1 SFTs from H1...\n",
      "25-07-20 12:31:56.298 pyfstat.utils.sft INFO    : Loading 1 SFTs from H1...\n",
      "25-07-20 12:31:56.307 pyfstat.utils.sft INFO    : Loading 1 SFTs from H1...\n",
      "25-07-20 12:31:56.316 pyfstat.utils.sft INFO    : Loading 1 SFTs from H1...\n"
     ]
    },
    {
     "name": "stderr",
     "output_type": "stream",
     "text": [
      " 10%|▉         | 1896/19200 [00:18<02:44, 105.50it/s]"
     ]
    },
    {
     "name": "stdout",
     "output_type": "stream",
     "text": [
      "25-07-20 12:31:56.326 pyfstat.utils.sft INFO    : Loading 1 SFTs from H1...\n",
      "25-07-20 12:31:56.335 pyfstat.utils.sft INFO    : Loading 1 SFTs from H1...\n",
      "25-07-20 12:31:56.344 pyfstat.utils.sft INFO    : Loading 1 SFTs from H1...\n",
      "25-07-20 12:31:56.353 pyfstat.utils.sft INFO    : Loading 1 SFTs from H1...\n",
      "25-07-20 12:31:56.362 pyfstat.utils.sft INFO    : Loading 1 SFTs from H1...\n",
      "25-07-20 12:31:56.371 pyfstat.utils.sft INFO    : Loading 1 SFTs from H1...\n",
      "25-07-20 12:31:56.380 pyfstat.utils.sft INFO    : Loading 1 SFTs from H1...\n",
      "25-07-20 12:31:56.388 pyfstat.utils.sft INFO    : Loading 1 SFTs from H1...\n",
      "25-07-20 12:31:56.398 pyfstat.utils.sft INFO    : Loading 1 SFTs from H1...\n",
      "25-07-20 12:31:56.407 pyfstat.utils.sft INFO    : Loading 1 SFTs from H1...\n",
      "25-07-20 12:31:56.416 pyfstat.utils.sft INFO    : Loading 1 SFTs from H1...\n"
     ]
    },
    {
     "name": "stderr",
     "output_type": "stream",
     "text": [
      " 10%|▉         | 1907/19200 [00:18<02:42, 106.60it/s]"
     ]
    },
    {
     "name": "stdout",
     "output_type": "stream",
     "text": [
      "25-07-20 12:31:56.426 pyfstat.utils.sft INFO    : Loading 1 SFTs from H1...\n",
      "25-07-20 12:31:56.436 pyfstat.utils.sft INFO    : Loading 1 SFTs from H1...\n",
      "25-07-20 12:31:56.445 pyfstat.utils.sft INFO    : Loading 1 SFTs from H1...\n",
      "25-07-20 12:31:56.454 pyfstat.utils.sft INFO    : Loading 1 SFTs from H1...\n",
      "25-07-20 12:31:56.462 pyfstat.utils.sft INFO    : Loading 1 SFTs from H1...\n",
      "25-07-20 12:31:56.472 pyfstat.utils.sft INFO    : Loading 1 SFTs from H1...\n",
      "25-07-20 12:31:56.481 pyfstat.utils.sft INFO    : Loading 1 SFTs from H1...\n",
      "25-07-20 12:31:56.491 pyfstat.utils.sft INFO    : Loading 1 SFTs from H1...\n",
      "25-07-20 12:31:56.501 pyfstat.utils.sft INFO    : Loading 1 SFTs from H1...\n",
      "25-07-20 12:31:56.511 pyfstat.utils.sft INFO    : Loading 1 SFTs from H1...\n",
      "25-07-20 12:31:56.521 pyfstat.utils.sft INFO    : Loading 1 SFTs from H1...\n"
     ]
    },
    {
     "name": "stderr",
     "output_type": "stream",
     "text": [
      " 10%|▉         | 1918/19200 [00:18<02:42, 106.34it/s]"
     ]
    },
    {
     "name": "stdout",
     "output_type": "stream",
     "text": [
      "25-07-20 12:31:56.530 pyfstat.utils.sft INFO    : Loading 1 SFTs from H1...\n",
      "25-07-20 12:31:56.540 pyfstat.utils.sft INFO    : Loading 1 SFTs from H1...\n",
      "25-07-20 12:31:56.550 pyfstat.utils.sft INFO    : Loading 1 SFTs from H1...\n",
      "25-07-20 12:31:56.559 pyfstat.utils.sft INFO    : Loading 1 SFTs from H1...\n",
      "25-07-20 12:31:56.568 pyfstat.utils.sft INFO    : Loading 1 SFTs from H1...\n",
      "25-07-20 12:31:56.577 pyfstat.utils.sft INFO    : Loading 1 SFTs from H1...\n",
      "25-07-20 12:31:56.587 pyfstat.utils.sft INFO    : Loading 1 SFTs from H1...\n",
      "25-07-20 12:31:56.596 pyfstat.utils.sft INFO    : Loading 1 SFTs from H1...\n",
      "25-07-20 12:31:56.605 pyfstat.utils.sft INFO    : Loading 1 SFTs from H1...\n",
      "25-07-20 12:31:56.614 pyfstat.utils.sft INFO    : Loading 1 SFTs from H1...\n",
      "25-07-20 12:31:56.623 pyfstat.utils.sft INFO    : Loading 1 SFTs from H1...\n"
     ]
    },
    {
     "name": "stderr",
     "output_type": "stream",
     "text": [
      " 10%|█         | 1929/19200 [00:18<02:41, 106.61it/s]"
     ]
    },
    {
     "name": "stdout",
     "output_type": "stream",
     "text": [
      "25-07-20 12:31:56.633 pyfstat.utils.sft INFO    : Loading 1 SFTs from H1...\n",
      "25-07-20 12:31:56.642 pyfstat.utils.sft INFO    : Loading 1 SFTs from H1...\n",
      "25-07-20 12:31:56.650 pyfstat.utils.sft INFO    : Loading 1 SFTs from H1...\n",
      "25-07-20 12:31:56.660 pyfstat.utils.sft INFO    : Loading 1 SFTs from H1...\n",
      "25-07-20 12:31:56.669 pyfstat.utils.sft INFO    : Loading 1 SFTs from H1...\n",
      "25-07-20 12:31:56.678 pyfstat.utils.sft INFO    : Loading 1 SFTs from H1...\n",
      "25-07-20 12:31:56.687 pyfstat.utils.sft INFO    : Loading 1 SFTs from H1...\n",
      "25-07-20 12:31:56.696 pyfstat.utils.sft INFO    : Loading 1 SFTs from H1...\n",
      "25-07-20 12:31:56.705 pyfstat.utils.sft INFO    : Loading 1 SFTs from H1...\n",
      "25-07-20 12:31:56.713 pyfstat.utils.sft INFO    : Loading 1 SFTs from H1...\n",
      "25-07-20 12:31:56.723 pyfstat.utils.sft INFO    : Loading 1 SFTs from H1...\n",
      "25-07-20 12:31:56.732 pyfstat.utils.sft INFO    : Loading 1 SFTs from H1...\n"
     ]
    },
    {
     "name": "stderr",
     "output_type": "stream",
     "text": [
      " 10%|█         | 1941/19200 [00:18<02:40, 107.67it/s]"
     ]
    },
    {
     "name": "stdout",
     "output_type": "stream",
     "text": [
      "25-07-20 12:31:56.742 pyfstat.utils.sft INFO    : Loading 1 SFTs from H1...\n",
      "25-07-20 12:31:56.751 pyfstat.utils.sft INFO    : Loading 1 SFTs from H1...\n",
      "25-07-20 12:31:56.763 pyfstat.utils.sft INFO    : Loading 1 SFTs from H1...\n",
      "25-07-20 12:31:56.772 pyfstat.utils.sft INFO    : Loading 1 SFTs from H1...\n",
      "25-07-20 12:31:56.781 pyfstat.utils.sft INFO    : Loading 1 SFTs from H1...\n",
      "25-07-20 12:31:56.790 pyfstat.utils.sft INFO    : Loading 1 SFTs from H1...\n",
      "25-07-20 12:31:56.799 pyfstat.utils.sft INFO    : Loading 1 SFTs from H1...\n",
      "25-07-20 12:31:56.808 pyfstat.utils.sft INFO    : Loading 1 SFTs from H1...\n",
      "25-07-20 12:31:56.817 pyfstat.utils.sft INFO    : Loading 1 SFTs from H1...\n",
      "25-07-20 12:31:56.826 pyfstat.utils.sft INFO    : Loading 1 SFTs from H1...\n",
      "25-07-20 12:31:56.835 pyfstat.utils.sft INFO    : Loading 1 SFTs from H1...\n"
     ]
    },
    {
     "name": "stderr",
     "output_type": "stream",
     "text": [
      " 10%|█         | 1952/19200 [00:18<02:40, 107.54it/s]"
     ]
    },
    {
     "name": "stdout",
     "output_type": "stream",
     "text": [
      "25-07-20 12:31:56.844 pyfstat.utils.sft INFO    : Loading 1 SFTs from H1...\n",
      "25-07-20 12:31:56.854 pyfstat.utils.sft INFO    : Loading 1 SFTs from H1...\n",
      "25-07-20 12:31:56.863 pyfstat.utils.sft INFO    : Loading 1 SFTs from H1...\n",
      "25-07-20 12:31:56.872 pyfstat.utils.sft INFO    : Loading 1 SFTs from H1...\n",
      "25-07-20 12:31:56.881 pyfstat.utils.sft INFO    : Loading 1 SFTs from H1...\n",
      "25-07-20 12:31:56.891 pyfstat.utils.sft INFO    : Loading 1 SFTs from H1...\n",
      "25-07-20 12:31:56.900 pyfstat.utils.sft INFO    : Loading 1 SFTs from H1...\n",
      "25-07-20 12:31:56.910 pyfstat.utils.sft INFO    : Loading 1 SFTs from H1...\n",
      "25-07-20 12:31:56.919 pyfstat.utils.sft INFO    : Loading 1 SFTs from H1...\n",
      "25-07-20 12:31:56.928 pyfstat.utils.sft INFO    : Loading 1 SFTs from H1...\n",
      "25-07-20 12:31:56.938 pyfstat.utils.sft INFO    : Loading 1 SFTs from H1...\n"
     ]
    },
    {
     "name": "stderr",
     "output_type": "stream",
     "text": [
      " 10%|█         | 1963/19200 [00:19<02:40, 107.37it/s]"
     ]
    },
    {
     "name": "stdout",
     "output_type": "stream",
     "text": [
      "25-07-20 12:31:56.948 pyfstat.utils.sft INFO    : Loading 1 SFTs from H1...\n",
      "25-07-20 12:31:56.958 pyfstat.utils.sft INFO    : Loading 1 SFTs from H1...\n",
      "25-07-20 12:31:56.967 pyfstat.utils.sft INFO    : Loading 1 SFTs from H1...\n",
      "25-07-20 12:31:56.977 pyfstat.utils.sft INFO    : Loading 1 SFTs from H1...\n",
      "25-07-20 12:31:56.986 pyfstat.utils.sft INFO    : Loading 1 SFTs from H1...\n",
      "25-07-20 12:31:56.995 pyfstat.utils.sft INFO    : Loading 1 SFTs from H1...\n",
      "25-07-20 12:31:57.005 pyfstat.utils.sft INFO    : Loading 1 SFTs from H1...\n",
      "25-07-20 12:31:57.014 pyfstat.utils.sft INFO    : Loading 1 SFTs from H1...\n",
      "25-07-20 12:31:57.023 pyfstat.utils.sft INFO    : Loading 1 SFTs from H1...\n",
      "25-07-20 12:31:57.033 pyfstat.utils.sft INFO    : Loading 1 SFTs from H1...\n",
      "25-07-20 12:31:57.042 pyfstat.utils.sft INFO    : Loading 1 SFTs from H1...\n"
     ]
    },
    {
     "name": "stderr",
     "output_type": "stream",
     "text": [
      " 10%|█         | 1974/19200 [00:19<02:41, 106.71it/s]"
     ]
    },
    {
     "name": "stdout",
     "output_type": "stream",
     "text": [
      "25-07-20 12:31:57.052 pyfstat.utils.sft INFO    : Loading 1 SFTs from H1...\n",
      "25-07-20 12:31:57.061 pyfstat.utils.sft INFO    : Loading 1 SFTs from H1...\n",
      "25-07-20 12:31:57.070 pyfstat.utils.sft INFO    : Loading 1 SFTs from H1...\n",
      "25-07-20 12:31:57.079 pyfstat.utils.sft INFO    : Loading 1 SFTs from H1...\n",
      "25-07-20 12:31:57.088 pyfstat.utils.sft INFO    : Loading 1 SFTs from H1...\n",
      "25-07-20 12:31:57.097 pyfstat.utils.sft INFO    : Loading 1 SFTs from H1...\n",
      "25-07-20 12:31:57.106 pyfstat.utils.sft INFO    : Loading 1 SFTs from H1...\n",
      "25-07-20 12:31:57.115 pyfstat.utils.sft INFO    : Loading 1 SFTs from H1...\n",
      "25-07-20 12:31:57.124 pyfstat.utils.sft INFO    : Loading 1 SFTs from H1...\n",
      "25-07-20 12:31:57.133 pyfstat.utils.sft INFO    : Loading 1 SFTs from H1...\n",
      "25-07-20 12:31:57.141 pyfstat.utils.sft INFO    : Loading 1 SFTs from H1...\n",
      "25-07-20 12:31:57.150 pyfstat.utils.sft INFO    : Loading 1 SFTs from H1...\n"
     ]
    },
    {
     "name": "stderr",
     "output_type": "stream",
     "text": [
      " 10%|█         | 1986/19200 [00:19<02:39, 108.14it/s]"
     ]
    },
    {
     "name": "stdout",
     "output_type": "stream",
     "text": [
      "25-07-20 12:31:57.160 pyfstat.utils.sft INFO    : Loading 1 SFTs from H1...\n",
      "25-07-20 12:31:57.169 pyfstat.utils.sft INFO    : Loading 1 SFTs from H1...\n",
      "25-07-20 12:31:57.178 pyfstat.utils.sft INFO    : Loading 1 SFTs from H1...\n",
      "25-07-20 12:31:57.187 pyfstat.utils.sft INFO    : Loading 1 SFTs from H1...\n",
      "25-07-20 12:31:57.196 pyfstat.utils.sft INFO    : Loading 1 SFTs from H1...\n",
      "25-07-20 12:31:57.204 pyfstat.utils.sft INFO    : Loading 1 SFTs from H1...\n",
      "25-07-20 12:31:57.213 pyfstat.utils.sft INFO    : Loading 1 SFTs from H1...\n",
      "25-07-20 12:31:57.222 pyfstat.utils.sft INFO    : Loading 1 SFTs from H1...\n",
      "25-07-20 12:31:57.231 pyfstat.utils.sft INFO    : Loading 1 SFTs from H1...\n",
      "25-07-20 12:31:57.240 pyfstat.utils.sft INFO    : Loading 1 SFTs from H1...\n",
      "25-07-20 12:31:57.249 pyfstat.utils.sft INFO    : Loading 1 SFTs from H1...\n",
      "25-07-20 12:31:57.259 pyfstat.utils.sft INFO    : Loading 1 SFTs from H1...\n"
     ]
    },
    {
     "name": "stderr",
     "output_type": "stream",
     "text": [
      " 10%|█         | 1998/19200 [00:19<02:38, 108.83it/s]"
     ]
    },
    {
     "name": "stdout",
     "output_type": "stream",
     "text": [
      "25-07-20 12:31:57.268 pyfstat.utils.sft INFO    : Loading 1 SFTs from H1...\n",
      "25-07-20 12:31:57.277 pyfstat.utils.sft INFO    : Loading 1 SFTs from H1...\n",
      "25-07-20 12:31:57.286 pyfstat.utils.sft INFO    : Loading 1 SFTs from H1...\n",
      "25-07-20 12:31:57.295 pyfstat.utils.sft INFO    : Loading 1 SFTs from H1...\n",
      "25-07-20 12:31:57.304 pyfstat.utils.sft INFO    : Loading 1 SFTs from H1...\n",
      "25-07-20 12:31:57.313 pyfstat.utils.sft INFO    : Loading 1 SFTs from H1...\n",
      "25-07-20 12:31:57.322 pyfstat.utils.sft INFO    : Loading 1 SFTs from H1...\n",
      "25-07-20 12:31:57.331 pyfstat.utils.sft INFO    : Loading 1 SFTs from H1...\n",
      "25-07-20 12:31:57.339 pyfstat.utils.sft INFO    : Loading 1 SFTs from H1...\n",
      "25-07-20 12:31:57.348 pyfstat.utils.sft INFO    : Loading 1 SFTs from H1...\n",
      "25-07-20 12:31:57.357 pyfstat.utils.sft INFO    : Loading 1 SFTs from H1...\n",
      "25-07-20 12:31:57.366 pyfstat.utils.sft INFO    : Loading 1 SFTs from H1...\n"
     ]
    },
    {
     "name": "stderr",
     "output_type": "stream",
     "text": [
      " 10%|█         | 2010/19200 [00:19<02:36, 109.75it/s]"
     ]
    },
    {
     "name": "stdout",
     "output_type": "stream",
     "text": [
      "25-07-20 12:31:57.376 pyfstat.utils.sft INFO    : Loading 1 SFTs from H1...\n",
      "25-07-20 12:31:57.386 pyfstat.utils.sft INFO    : Loading 1 SFTs from H1...\n",
      "25-07-20 12:31:57.395 pyfstat.utils.sft INFO    : Loading 1 SFTs from H1...\n",
      "25-07-20 12:31:57.405 pyfstat.utils.sft INFO    : Loading 1 SFTs from H1...\n",
      "25-07-20 12:31:57.414 pyfstat.utils.sft INFO    : Loading 1 SFTs from H1...\n",
      "25-07-20 12:31:57.423 pyfstat.utils.sft INFO    : Loading 1 SFTs from H1...\n",
      "25-07-20 12:31:57.433 pyfstat.utils.sft INFO    : Loading 1 SFTs from H1...\n",
      "25-07-20 12:31:57.442 pyfstat.utils.sft INFO    : Loading 1 SFTs from H1...\n",
      "25-07-20 12:31:57.451 pyfstat.utils.sft INFO    : Loading 1 SFTs from H1...\n",
      "25-07-20 12:31:57.461 pyfstat.utils.sft INFO    : Loading 1 SFTs from H1...\n",
      "25-07-20 12:31:57.471 pyfstat.utils.sft INFO    : Loading 1 SFTs from H1...\n"
     ]
    },
    {
     "name": "stderr",
     "output_type": "stream",
     "text": [
      " 11%|█         | 2021/19200 [00:19<02:38, 108.34it/s]"
     ]
    },
    {
     "name": "stdout",
     "output_type": "stream",
     "text": [
      "25-07-20 12:31:57.480 pyfstat.utils.sft INFO    : Loading 1 SFTs from H1...\n",
      "25-07-20 12:31:57.491 pyfstat.utils.sft INFO    : Loading 1 SFTs from H1...\n",
      "25-07-20 12:31:57.503 pyfstat.utils.sft INFO    : Loading 1 SFTs from H1...\n",
      "25-07-20 12:31:57.512 pyfstat.utils.sft INFO    : Loading 1 SFTs from H1...\n",
      "25-07-20 12:31:57.521 pyfstat.utils.sft INFO    : Loading 1 SFTs from H1...\n",
      "25-07-20 12:31:57.530 pyfstat.utils.sft INFO    : Loading 1 SFTs from H1...\n",
      "25-07-20 12:31:57.539 pyfstat.utils.sft INFO    : Loading 1 SFTs from H1...\n",
      "25-07-20 12:31:57.547 pyfstat.utils.sft INFO    : Loading 1 SFTs from H1...\n",
      "25-07-20 12:31:57.556 pyfstat.utils.sft INFO    : Loading 1 SFTs from H1...\n",
      "25-07-20 12:31:57.565 pyfstat.utils.sft INFO    : Loading 1 SFTs from H1...\n",
      "25-07-20 12:31:57.574 pyfstat.utils.sft INFO    : Loading 1 SFTs from H1...\n"
     ]
    },
    {
     "name": "stderr",
     "output_type": "stream",
     "text": [
      " 11%|█         | 2032/19200 [00:19<02:39, 107.70it/s]"
     ]
    },
    {
     "name": "stdout",
     "output_type": "stream",
     "text": [
      "25-07-20 12:31:57.584 pyfstat.utils.sft INFO    : Loading 1 SFTs from H1...\n",
      "25-07-20 12:31:57.593 pyfstat.utils.sft INFO    : Loading 1 SFTs from H1...\n",
      "25-07-20 12:31:57.602 pyfstat.utils.sft INFO    : Loading 1 SFTs from H1...\n",
      "25-07-20 12:31:57.611 pyfstat.utils.sft INFO    : Loading 1 SFTs from H1...\n",
      "25-07-20 12:31:57.620 pyfstat.utils.sft INFO    : Loading 1 SFTs from H1...\n",
      "25-07-20 12:31:57.629 pyfstat.utils.sft INFO    : Loading 1 SFTs from H1...\n",
      "25-07-20 12:31:57.638 pyfstat.utils.sft INFO    : Loading 1 SFTs from H1...\n",
      "25-07-20 12:31:57.646 pyfstat.utils.sft INFO    : Loading 1 SFTs from H1...\n",
      "25-07-20 12:31:57.655 pyfstat.utils.sft INFO    : Loading 1 SFTs from H1...\n",
      "25-07-20 12:31:57.664 pyfstat.utils.sft INFO    : Loading 1 SFTs from H1...\n",
      "25-07-20 12:31:57.673 pyfstat.utils.sft INFO    : Loading 1 SFTs from H1...\n",
      "25-07-20 12:31:57.682 pyfstat.utils.sft INFO    : Loading 1 SFTs from H1...\n"
     ]
    },
    {
     "name": "stderr",
     "output_type": "stream",
     "text": [
      " 11%|█         | 2044/19200 [00:19<02:37, 108.75it/s]"
     ]
    },
    {
     "name": "stdout",
     "output_type": "stream",
     "text": [
      "25-07-20 12:31:57.692 pyfstat.utils.sft INFO    : Loading 1 SFTs from H1...\n",
      "25-07-20 12:31:57.701 pyfstat.utils.sft INFO    : Loading 1 SFTs from H1...\n",
      "25-07-20 12:31:57.710 pyfstat.utils.sft INFO    : Loading 1 SFTs from H1...\n",
      "25-07-20 12:31:57.719 pyfstat.utils.sft INFO    : Loading 1 SFTs from H1...\n",
      "25-07-20 12:31:57.728 pyfstat.utils.sft INFO    : Loading 1 SFTs from H1...\n",
      "25-07-20 12:31:57.737 pyfstat.utils.sft INFO    : Loading 1 SFTs from H1...\n",
      "25-07-20 12:31:57.746 pyfstat.utils.sft INFO    : Loading 1 SFTs from H1...\n",
      "25-07-20 12:31:57.755 pyfstat.utils.sft INFO    : Loading 1 SFTs from H1...\n",
      "25-07-20 12:31:57.764 pyfstat.utils.sft INFO    : Loading 1 SFTs from H1...\n",
      "25-07-20 12:31:57.772 pyfstat.utils.sft INFO    : Loading 1 SFTs from H1...\n",
      "25-07-20 12:31:57.782 pyfstat.utils.sft INFO    : Loading 1 SFTs from H1...\n",
      "25-07-20 12:31:57.791 pyfstat.utils.sft INFO    : Loading 1 SFTs from H1...\n"
     ]
    },
    {
     "name": "stderr",
     "output_type": "stream",
     "text": [
      " 11%|█         | 2056/19200 [00:19<02:36, 109.36it/s]"
     ]
    },
    {
     "name": "stdout",
     "output_type": "stream",
     "text": [
      "25-07-20 12:31:57.800 pyfstat.utils.sft INFO    : Loading 1 SFTs from H1...\n",
      "25-07-20 12:31:57.809 pyfstat.utils.sft INFO    : Loading 1 SFTs from H1...\n",
      "25-07-20 12:31:57.818 pyfstat.utils.sft INFO    : Loading 1 SFTs from H1...\n",
      "25-07-20 12:31:57.827 pyfstat.utils.sft INFO    : Loading 1 SFTs from H1...\n",
      "25-07-20 12:31:57.836 pyfstat.utils.sft INFO    : Loading 1 SFTs from H1...\n",
      "25-07-20 12:31:57.845 pyfstat.utils.sft INFO    : Loading 1 SFTs from H1...\n",
      "25-07-20 12:31:57.854 pyfstat.utils.sft INFO    : Loading 1 SFTs from H1...\n",
      "25-07-20 12:31:57.863 pyfstat.utils.sft INFO    : Loading 1 SFTs from H1...\n",
      "25-07-20 12:31:57.871 pyfstat.utils.sft INFO    : Loading 1 SFTs from H1...\n",
      "25-07-20 12:31:57.880 pyfstat.utils.sft INFO    : Loading 1 SFTs from H1...\n",
      "25-07-20 12:31:57.889 pyfstat.utils.sft INFO    : Loading 1 SFTs from H1...\n",
      "25-07-20 12:31:57.899 pyfstat.utils.sft INFO    : Loading 1 SFTs from H1...\n"
     ]
    },
    {
     "name": "stderr",
     "output_type": "stream",
     "text": [
      " 11%|█         | 2068/19200 [00:19<02:35, 109.91it/s]"
     ]
    },
    {
     "name": "stdout",
     "output_type": "stream",
     "text": [
      "25-07-20 12:31:57.908 pyfstat.utils.sft INFO    : Loading 1 SFTs from H1...\n",
      "25-07-20 12:31:57.917 pyfstat.utils.sft INFO    : Loading 1 SFTs from H1...\n",
      "25-07-20 12:31:57.926 pyfstat.utils.sft INFO    : Loading 1 SFTs from H1...\n",
      "25-07-20 12:31:57.935 pyfstat.utils.sft INFO    : Loading 1 SFTs from H1...\n",
      "25-07-20 12:31:57.944 pyfstat.utils.sft INFO    : Loading 1 SFTs from H1...\n",
      "25-07-20 12:31:57.953 pyfstat.utils.sft INFO    : Loading 1 SFTs from H1...\n",
      "25-07-20 12:31:57.962 pyfstat.utils.sft INFO    : Loading 1 SFTs from H1...\n",
      "25-07-20 12:31:57.972 pyfstat.utils.sft INFO    : Loading 1 SFTs from H1...\n",
      "25-07-20 12:31:57.981 pyfstat.utils.sft INFO    : Loading 1 SFTs from H1...\n",
      "25-07-20 12:31:57.990 pyfstat.utils.sft INFO    : Loading 1 SFTs from H1...\n",
      "25-07-20 12:31:57.999 pyfstat.utils.sft INFO    : Loading 1 SFTs from H1...\n"
     ]
    },
    {
     "name": "stderr",
     "output_type": "stream",
     "text": [
      " 11%|█         | 2079/19200 [00:20<02:36, 109.14it/s]"
     ]
    },
    {
     "name": "stdout",
     "output_type": "stream",
     "text": [
      "25-07-20 12:31:58.011 pyfstat.utils.sft INFO    : Loading 1 SFTs from H1...\n",
      "25-07-20 12:31:58.021 pyfstat.utils.sft INFO    : Loading 1 SFTs from H1...\n",
      "25-07-20 12:31:58.031 pyfstat.utils.sft INFO    : Loading 1 SFTs from H1...\n",
      "25-07-20 12:31:58.040 pyfstat.utils.sft INFO    : Loading 1 SFTs from H1...\n",
      "25-07-20 12:31:58.050 pyfstat.utils.sft INFO    : Loading 1 SFTs from H1...\n",
      "25-07-20 12:31:58.059 pyfstat.utils.sft INFO    : Loading 1 SFTs from H1...\n",
      "25-07-20 12:31:58.068 pyfstat.utils.sft INFO    : Loading 1 SFTs from H1...\n",
      "25-07-20 12:31:58.077 pyfstat.utils.sft INFO    : Loading 1 SFTs from H1...\n",
      "25-07-20 12:31:58.087 pyfstat.utils.sft INFO    : Loading 1 SFTs from H1...\n",
      "25-07-20 12:31:58.096 pyfstat.utils.sft INFO    : Loading 1 SFTs from H1...\n",
      "25-07-20 12:31:58.106 pyfstat.utils.sft INFO    : Loading 1 SFTs from H1...\n"
     ]
    },
    {
     "name": "stderr",
     "output_type": "stream",
     "text": [
      " 11%|█         | 2090/19200 [00:20<02:38, 107.75it/s]"
     ]
    },
    {
     "name": "stdout",
     "output_type": "stream",
     "text": [
      "25-07-20 12:31:58.116 pyfstat.utils.sft INFO    : Loading 1 SFTs from H1...\n",
      "25-07-20 12:31:58.126 pyfstat.utils.sft INFO    : Loading 1 SFTs from H1...\n",
      "25-07-20 12:31:58.135 pyfstat.utils.sft INFO    : Loading 1 SFTs from H1...\n",
      "25-07-20 12:31:58.144 pyfstat.utils.sft INFO    : Loading 1 SFTs from H1...\n",
      "25-07-20 12:31:58.154 pyfstat.utils.sft INFO    : Loading 1 SFTs from H1...\n",
      "25-07-20 12:31:58.163 pyfstat.utils.sft INFO    : Loading 1 SFTs from H1...\n",
      "25-07-20 12:31:58.172 pyfstat.utils.sft INFO    : Loading 1 SFTs from H1...\n",
      "25-07-20 12:31:58.181 pyfstat.utils.sft INFO    : Loading 1 SFTs from H1...\n",
      "25-07-20 12:31:58.191 pyfstat.utils.sft INFO    : Loading 1 SFTs from H1...\n",
      "25-07-20 12:31:58.200 pyfstat.utils.sft INFO    : Loading 1 SFTs from H1...\n",
      "25-07-20 12:31:58.209 pyfstat.utils.sft INFO    : Loading 1 SFTs from H1...\n"
     ]
    },
    {
     "name": "stderr",
     "output_type": "stream",
     "text": [
      " 11%|█         | 2101/19200 [00:20<02:38, 107.60it/s]"
     ]
    },
    {
     "name": "stdout",
     "output_type": "stream",
     "text": [
      "25-07-20 12:31:58.219 pyfstat.utils.sft INFO    : Loading 1 SFTs from H1...\n",
      "25-07-20 12:31:58.229 pyfstat.utils.sft INFO    : Loading 1 SFTs from H1...\n",
      "25-07-20 12:31:58.239 pyfstat.utils.sft INFO    : Loading 1 SFTs from H1...\n",
      "25-07-20 12:31:58.248 pyfstat.utils.sft INFO    : Loading 1 SFTs from H1...\n",
      "25-07-20 12:31:58.257 pyfstat.utils.sft INFO    : Loading 1 SFTs from H1...\n",
      "25-07-20 12:31:58.267 pyfstat.utils.sft INFO    : Loading 1 SFTs from H1...\n",
      "25-07-20 12:31:58.276 pyfstat.utils.sft INFO    : Loading 1 SFTs from H1...\n",
      "25-07-20 12:31:58.286 pyfstat.utils.sft INFO    : Loading 1 SFTs from H1...\n",
      "25-07-20 12:31:58.296 pyfstat.utils.sft INFO    : Loading 1 SFTs from H1...\n",
      "25-07-20 12:31:58.305 pyfstat.utils.sft INFO    : Loading 1 SFTs from H1...\n",
      "25-07-20 12:31:58.322 pyfstat.utils.sft INFO    : Loading 1 SFTs from H1...\n"
     ]
    },
    {
     "name": "stderr",
     "output_type": "stream",
     "text": [
      " 11%|█         | 2112/19200 [00:20<02:44, 104.10it/s]"
     ]
    },
    {
     "name": "stdout",
     "output_type": "stream",
     "text": [
      "25-07-20 12:31:58.333 pyfstat.utils.sft INFO    : Loading 1 SFTs from H1...\n",
      "25-07-20 12:31:58.343 pyfstat.utils.sft INFO    : Loading 1 SFTs from H1...\n",
      "25-07-20 12:31:58.353 pyfstat.utils.sft INFO    : Loading 1 SFTs from H1...\n",
      "25-07-20 12:31:58.362 pyfstat.utils.sft INFO    : Loading 1 SFTs from H1...\n",
      "25-07-20 12:31:58.371 pyfstat.utils.sft INFO    : Loading 1 SFTs from H1...\n",
      "25-07-20 12:31:58.381 pyfstat.utils.sft INFO    : Loading 1 SFTs from H1...\n",
      "25-07-20 12:31:58.391 pyfstat.utils.sft INFO    : Loading 1 SFTs from H1...\n",
      "25-07-20 12:31:58.400 pyfstat.utils.sft INFO    : Loading 1 SFTs from H1...\n",
      "25-07-20 12:31:58.410 pyfstat.utils.sft INFO    : Loading 1 SFTs from H1...\n",
      "25-07-20 12:31:58.420 pyfstat.utils.sft INFO    : Loading 1 SFTs from H1...\n",
      "25-07-20 12:31:58.429 pyfstat.utils.sft INFO    : Loading 1 SFTs from H1...\n"
     ]
    },
    {
     "name": "stderr",
     "output_type": "stream",
     "text": [
      " 11%|█         | 2123/19200 [00:20<02:44, 103.75it/s]"
     ]
    },
    {
     "name": "stdout",
     "output_type": "stream",
     "text": [
      "25-07-20 12:31:58.440 pyfstat.utils.sft INFO    : Loading 1 SFTs from H1...\n",
      "25-07-20 12:31:58.450 pyfstat.utils.sft INFO    : Loading 1 SFTs from H1...\n",
      "25-07-20 12:31:58.460 pyfstat.utils.sft INFO    : Loading 1 SFTs from H1...\n",
      "25-07-20 12:31:58.469 pyfstat.utils.sft INFO    : Loading 1 SFTs from H1...\n",
      "25-07-20 12:31:58.478 pyfstat.utils.sft INFO    : Loading 1 SFTs from H1...\n",
      "25-07-20 12:31:58.488 pyfstat.utils.sft INFO    : Loading 1 SFTs from H1...\n",
      "25-07-20 12:31:58.497 pyfstat.utils.sft INFO    : Loading 1 SFTs from H1...\n",
      "25-07-20 12:31:58.506 pyfstat.utils.sft INFO    : Loading 1 SFTs from H1...\n",
      "25-07-20 12:31:58.515 pyfstat.utils.sft INFO    : Loading 1 SFTs from H1...\n",
      "25-07-20 12:31:58.524 pyfstat.utils.sft INFO    : Loading 1 SFTs from H1...\n",
      "25-07-20 12:31:58.534 pyfstat.utils.sft INFO    : Loading 1 SFTs from H1...\n"
     ]
    },
    {
     "name": "stderr",
     "output_type": "stream",
     "text": [
      " 11%|█         | 2134/19200 [00:20<02:43, 104.25it/s]"
     ]
    },
    {
     "name": "stdout",
     "output_type": "stream",
     "text": [
      "25-07-20 12:31:58.544 pyfstat.utils.sft INFO    : Loading 1 SFTs from H1...\n",
      "25-07-20 12:31:58.553 pyfstat.utils.sft INFO    : Loading 1 SFTs from H1...\n",
      "25-07-20 12:31:58.563 pyfstat.utils.sft INFO    : Loading 1 SFTs from H1...\n",
      "25-07-20 12:31:58.572 pyfstat.utils.sft INFO    : Loading 1 SFTs from H1...\n",
      "25-07-20 12:31:58.582 pyfstat.utils.sft INFO    : Loading 1 SFTs from H1...\n",
      "25-07-20 12:31:58.591 pyfstat.utils.sft INFO    : Loading 1 SFTs from H1...\n",
      "25-07-20 12:31:58.600 pyfstat.utils.sft INFO    : Loading 1 SFTs from H1...\n",
      "25-07-20 12:31:58.614 pyfstat.utils.sft INFO    : Loading 1 SFTs from H1...\n",
      "25-07-20 12:31:58.623 pyfstat.utils.sft INFO    : Loading 1 SFTs from H1...\n",
      "25-07-20 12:31:58.632 pyfstat.utils.sft INFO    : Loading 1 SFTs from H1...\n",
      "25-07-20 12:31:58.641 pyfstat.utils.sft INFO    : Loading 1 SFTs from H1...\n"
     ]
    },
    {
     "name": "stderr",
     "output_type": "stream",
     "text": [
      " 11%|█         | 2145/19200 [00:20<02:44, 103.80it/s]"
     ]
    },
    {
     "name": "stdout",
     "output_type": "stream",
     "text": [
      "25-07-20 12:31:58.651 pyfstat.utils.sft INFO    : Loading 1 SFTs from H1...\n",
      "25-07-20 12:31:58.660 pyfstat.utils.sft INFO    : Loading 1 SFTs from H1...\n",
      "25-07-20 12:31:58.670 pyfstat.utils.sft INFO    : Loading 1 SFTs from H1...\n",
      "25-07-20 12:31:58.679 pyfstat.utils.sft INFO    : Loading 1 SFTs from H1...\n",
      "25-07-20 12:31:58.688 pyfstat.utils.sft INFO    : Loading 1 SFTs from H1...\n",
      "25-07-20 12:31:58.698 pyfstat.utils.sft INFO    : Loading 1 SFTs from H1...\n",
      "25-07-20 12:31:58.707 pyfstat.utils.sft INFO    : Loading 1 SFTs from H1...\n",
      "25-07-20 12:31:58.716 pyfstat.utils.sft INFO    : Loading 1 SFTs from H1...\n",
      "25-07-20 12:31:58.725 pyfstat.utils.sft INFO    : Loading 1 SFTs from H1...\n",
      "25-07-20 12:31:58.733 pyfstat.utils.sft INFO    : Loading 1 SFTs from H1...\n",
      "25-07-20 12:31:58.742 pyfstat.utils.sft INFO    : Loading 1 SFTs from H1...\n"
     ]
    },
    {
     "name": "stderr",
     "output_type": "stream",
     "text": [
      " 11%|█         | 2156/19200 [00:20<02:42, 105.04it/s]"
     ]
    },
    {
     "name": "stdout",
     "output_type": "stream",
     "text": [
      "25-07-20 12:31:58.753 pyfstat.utils.sft INFO    : Loading 1 SFTs from H1...\n",
      "25-07-20 12:31:58.762 pyfstat.utils.sft INFO    : Loading 1 SFTs from H1...\n",
      "25-07-20 12:31:58.771 pyfstat.utils.sft INFO    : Loading 1 SFTs from H1...\n",
      "25-07-20 12:31:58.780 pyfstat.utils.sft INFO    : Loading 1 SFTs from H1...\n",
      "25-07-20 12:31:58.790 pyfstat.utils.sft INFO    : Loading 1 SFTs from H1...\n",
      "25-07-20 12:31:58.800 pyfstat.utils.sft INFO    : Loading 1 SFTs from H1...\n",
      "25-07-20 12:31:58.811 pyfstat.utils.sft INFO    : Loading 1 SFTs from H1...\n",
      "25-07-20 12:31:58.821 pyfstat.utils.sft INFO    : Loading 1 SFTs from H1...\n",
      "25-07-20 12:31:58.831 pyfstat.utils.sft INFO    : Loading 1 SFTs from H1...\n",
      "25-07-20 12:31:58.840 pyfstat.utils.sft INFO    : Loading 1 SFTs from H1...\n",
      "25-07-20 12:31:58.849 pyfstat.utils.sft INFO    : Loading 1 SFTs from H1...\n"
     ]
    },
    {
     "name": "stderr",
     "output_type": "stream",
     "text": [
      " 11%|█▏        | 2167/19200 [00:20<02:42, 104.63it/s]"
     ]
    },
    {
     "name": "stdout",
     "output_type": "stream",
     "text": [
      "25-07-20 12:31:58.859 pyfstat.utils.sft INFO    : Loading 1 SFTs from H1...\n",
      "25-07-20 12:31:58.870 pyfstat.utils.sft INFO    : Loading 1 SFTs from H1...\n",
      "25-07-20 12:31:58.878 pyfstat.utils.sft INFO    : Loading 1 SFTs from H1...\n",
      "25-07-20 12:31:58.888 pyfstat.utils.sft INFO    : Loading 1 SFTs from H1...\n",
      "25-07-20 12:31:58.897 pyfstat.utils.sft INFO    : Loading 1 SFTs from H1...\n",
      "25-07-20 12:31:58.906 pyfstat.utils.sft INFO    : Loading 1 SFTs from H1...\n",
      "25-07-20 12:31:58.915 pyfstat.utils.sft INFO    : Loading 1 SFTs from H1...\n",
      "25-07-20 12:31:58.925 pyfstat.utils.sft INFO    : Loading 1 SFTs from H1...\n",
      "25-07-20 12:31:58.934 pyfstat.utils.sft INFO    : Loading 1 SFTs from H1...\n",
      "25-07-20 12:31:58.944 pyfstat.utils.sft INFO    : Loading 1 SFTs from H1...\n",
      "25-07-20 12:31:58.953 pyfstat.utils.sft INFO    : Loading 1 SFTs from H1...\n"
     ]
    },
    {
     "name": "stderr",
     "output_type": "stream",
     "text": [
      " 11%|█▏        | 2178/19200 [00:21<02:42, 104.73it/s]"
     ]
    },
    {
     "name": "stdout",
     "output_type": "stream",
     "text": [
      "25-07-20 12:31:58.964 pyfstat.utils.sft INFO    : Loading 1 SFTs from H1...\n",
      "25-07-20 12:31:58.973 pyfstat.utils.sft INFO    : Loading 1 SFTs from H1...\n",
      "25-07-20 12:31:58.981 pyfstat.utils.sft INFO    : Loading 1 SFTs from H1...\n",
      "25-07-20 12:31:58.990 pyfstat.utils.sft INFO    : Loading 1 SFTs from H1...\n",
      "25-07-20 12:31:58.999 pyfstat.utils.sft INFO    : Loading 1 SFTs from H1...\n",
      "25-07-20 12:31:59.009 pyfstat.utils.sft INFO    : Loading 1 SFTs from H1...\n",
      "25-07-20 12:31:59.018 pyfstat.utils.sft INFO    : Loading 1 SFTs from H1...\n",
      "25-07-20 12:31:59.029 pyfstat.utils.sft INFO    : Loading 1 SFTs from H1...\n",
      "25-07-20 12:31:59.038 pyfstat.utils.sft INFO    : Loading 1 SFTs from H1...\n",
      "25-07-20 12:31:59.047 pyfstat.utils.sft INFO    : Loading 1 SFTs from H1...\n",
      "25-07-20 12:31:59.056 pyfstat.utils.sft INFO    : Loading 1 SFTs from H1...\n"
     ]
    },
    {
     "name": "stderr",
     "output_type": "stream",
     "text": [
      " 11%|█▏        | 2189/19200 [00:21<02:41, 105.47it/s]"
     ]
    },
    {
     "name": "stdout",
     "output_type": "stream",
     "text": [
      "25-07-20 12:31:59.066 pyfstat.utils.sft INFO    : Loading 1 SFTs from H1...\n",
      "25-07-20 12:31:59.075 pyfstat.utils.sft INFO    : Loading 1 SFTs from H1...\n",
      "25-07-20 12:31:59.084 pyfstat.utils.sft INFO    : Loading 1 SFTs from H1...\n",
      "25-07-20 12:31:59.094 pyfstat.utils.sft INFO    : Loading 1 SFTs from H1...\n",
      "25-07-20 12:31:59.103 pyfstat.utils.sft INFO    : Loading 1 SFTs from H1...\n",
      "25-07-20 12:31:59.112 pyfstat.utils.sft INFO    : Loading 1 SFTs from H1...\n",
      "25-07-20 12:31:59.122 pyfstat.utils.sft INFO    : Loading 1 SFTs from H1...\n",
      "25-07-20 12:31:59.132 pyfstat.utils.sft INFO    : Loading 1 SFTs from H1...\n",
      "25-07-20 12:31:59.141 pyfstat.utils.sft INFO    : Loading 1 SFTs from H1...\n",
      "25-07-20 12:31:59.151 pyfstat.utils.sft INFO    : Loading 1 SFTs from H1...\n",
      "25-07-20 12:31:59.160 pyfstat.utils.sft INFO    : Loading 1 SFTs from H1...\n"
     ]
    },
    {
     "name": "stderr",
     "output_type": "stream",
     "text": [
      " 11%|█▏        | 2200/19200 [00:21<02:41, 105.53it/s]"
     ]
    },
    {
     "name": "stdout",
     "output_type": "stream",
     "text": [
      "25-07-20 12:31:59.170 pyfstat.utils.sft INFO    : Loading 1 SFTs from H1...\n",
      "25-07-20 12:31:59.180 pyfstat.utils.sft INFO    : Loading 1 SFTs from H1...\n",
      "25-07-20 12:31:59.189 pyfstat.utils.sft INFO    : Loading 1 SFTs from H1...\n",
      "25-07-20 12:31:59.198 pyfstat.utils.sft INFO    : Loading 1 SFTs from H1...\n",
      "25-07-20 12:31:59.207 pyfstat.utils.sft INFO    : Loading 1 SFTs from H1...\n",
      "25-07-20 12:31:59.216 pyfstat.utils.sft INFO    : Loading 1 SFTs from H1...\n",
      "25-07-20 12:31:59.225 pyfstat.utils.sft INFO    : Loading 1 SFTs from H1...\n",
      "25-07-20 12:31:59.234 pyfstat.utils.sft INFO    : Loading 1 SFTs from H1...\n",
      "25-07-20 12:31:59.244 pyfstat.utils.sft INFO    : Loading 1 SFTs from H1...\n",
      "25-07-20 12:31:59.253 pyfstat.utils.sft INFO    : Loading 1 SFTs from H1...\n",
      "25-07-20 12:31:59.262 pyfstat.utils.sft INFO    : Loading 1 SFTs from H1...\n"
     ]
    },
    {
     "name": "stderr",
     "output_type": "stream",
     "text": [
      " 12%|█▏        | 2211/19200 [00:21<02:40, 106.01it/s]"
     ]
    },
    {
     "name": "stdout",
     "output_type": "stream",
     "text": [
      "25-07-20 12:31:59.273 pyfstat.utils.sft INFO    : Loading 1 SFTs from H1...\n",
      "25-07-20 12:31:59.283 pyfstat.utils.sft INFO    : Loading 1 SFTs from H1...\n",
      "25-07-20 12:31:59.292 pyfstat.utils.sft INFO    : Loading 1 SFTs from H1...\n",
      "25-07-20 12:31:59.302 pyfstat.utils.sft INFO    : Loading 1 SFTs from H1...\n",
      "25-07-20 12:31:59.311 pyfstat.utils.sft INFO    : Loading 1 SFTs from H1...\n",
      "25-07-20 12:31:59.321 pyfstat.utils.sft INFO    : Loading 1 SFTs from H1...\n",
      "25-07-20 12:31:59.331 pyfstat.utils.sft INFO    : Loading 1 SFTs from H1...\n",
      "25-07-20 12:31:59.341 pyfstat.utils.sft INFO    : Loading 1 SFTs from H1...\n",
      "25-07-20 12:31:59.351 pyfstat.utils.sft INFO    : Loading 1 SFTs from H1...\n",
      "25-07-20 12:31:59.361 pyfstat.utils.sft INFO    : Loading 1 SFTs from H1...\n",
      "25-07-20 12:31:59.371 pyfstat.utils.sft INFO    : Loading 1 SFTs from H1...\n"
     ]
    },
    {
     "name": "stderr",
     "output_type": "stream",
     "text": [
      " 12%|█▏        | 2222/19200 [00:21<02:42, 104.26it/s]"
     ]
    },
    {
     "name": "stdout",
     "output_type": "stream",
     "text": [
      "25-07-20 12:31:59.383 pyfstat.utils.sft INFO    : Loading 1 SFTs from H1...\n",
      "25-07-20 12:31:59.393 pyfstat.utils.sft INFO    : Loading 1 SFTs from H1...\n",
      "25-07-20 12:31:59.402 pyfstat.utils.sft INFO    : Loading 1 SFTs from H1...\n",
      "25-07-20 12:31:59.412 pyfstat.utils.sft INFO    : Loading 1 SFTs from H1...\n",
      "25-07-20 12:31:59.421 pyfstat.utils.sft INFO    : Loading 1 SFTs from H1...\n",
      "25-07-20 12:31:59.430 pyfstat.utils.sft INFO    : Loading 1 SFTs from H1...\n",
      "25-07-20 12:31:59.440 pyfstat.utils.sft INFO    : Loading 1 SFTs from H1...\n",
      "25-07-20 12:31:59.450 pyfstat.utils.sft INFO    : Loading 1 SFTs from H1...\n",
      "25-07-20 12:31:59.459 pyfstat.utils.sft INFO    : Loading 1 SFTs from H1...\n",
      "25-07-20 12:31:59.469 pyfstat.utils.sft INFO    : Loading 1 SFTs from H1...\n",
      "25-07-20 12:31:59.478 pyfstat.utils.sft INFO    : Loading 1 SFTs from H1...\n"
     ]
    },
    {
     "name": "stderr",
     "output_type": "stream",
     "text": [
      " 12%|█▏        | 2233/19200 [00:21<02:42, 104.12it/s]"
     ]
    },
    {
     "name": "stdout",
     "output_type": "stream",
     "text": [
      "25-07-20 12:31:59.489 pyfstat.utils.sft INFO    : Loading 1 SFTs from H1...\n",
      "25-07-20 12:31:59.500 pyfstat.utils.sft INFO    : Loading 1 SFTs from H1...\n",
      "25-07-20 12:31:59.510 pyfstat.utils.sft INFO    : Loading 1 SFTs from H1...\n",
      "25-07-20 12:31:59.520 pyfstat.utils.sft INFO    : Loading 1 SFTs from H1...\n",
      "25-07-20 12:31:59.530 pyfstat.utils.sft INFO    : Loading 1 SFTs from H1...\n",
      "25-07-20 12:31:59.539 pyfstat.utils.sft INFO    : Loading 1 SFTs from H1...\n",
      "25-07-20 12:31:59.550 pyfstat.utils.sft INFO    : Loading 1 SFTs from H1...\n",
      "25-07-20 12:31:59.559 pyfstat.utils.sft INFO    : Loading 1 SFTs from H1...\n",
      "25-07-20 12:31:59.569 pyfstat.utils.sft INFO    : Loading 1 SFTs from H1...\n",
      "25-07-20 12:31:59.579 pyfstat.utils.sft INFO    : Loading 1 SFTs from H1...\n",
      "25-07-20 12:31:59.588 pyfstat.utils.sft INFO    : Loading 1 SFTs from H1...\n"
     ]
    },
    {
     "name": "stderr",
     "output_type": "stream",
     "text": [
      " 12%|█▏        | 2244/19200 [00:21<02:44, 103.22it/s]"
     ]
    },
    {
     "name": "stdout",
     "output_type": "stream",
     "text": [
      "25-07-20 12:31:59.597 pyfstat.utils.sft INFO    : Loading 1 SFTs from H1...\n",
      "25-07-20 12:31:59.607 pyfstat.utils.sft INFO    : Loading 1 SFTs from H1...\n",
      "25-07-20 12:31:59.616 pyfstat.utils.sft INFO    : Loading 1 SFTs from H1...\n",
      "25-07-20 12:31:59.625 pyfstat.utils.sft INFO    : Loading 1 SFTs from H1...\n",
      "25-07-20 12:31:59.634 pyfstat.utils.sft INFO    : Loading 1 SFTs from H1...\n",
      "25-07-20 12:31:59.644 pyfstat.utils.sft INFO    : Loading 1 SFTs from H1...\n",
      "25-07-20 12:31:59.654 pyfstat.utils.sft INFO    : Loading 1 SFTs from H1...\n",
      "25-07-20 12:31:59.663 pyfstat.utils.sft INFO    : Loading 1 SFTs from H1...\n",
      "25-07-20 12:31:59.673 pyfstat.utils.sft INFO    : Loading 1 SFTs from H1...\n",
      "25-07-20 12:31:59.682 pyfstat.utils.sft INFO    : Loading 1 SFTs from H1...\n",
      "25-07-20 12:31:59.692 pyfstat.utils.sft INFO    : Loading 1 SFTs from H1...\n"
     ]
    },
    {
     "name": "stderr",
     "output_type": "stream",
     "text": [
      " 12%|█▏        | 2255/19200 [00:21<02:43, 103.82it/s]"
     ]
    },
    {
     "name": "stdout",
     "output_type": "stream",
     "text": [
      "25-07-20 12:31:59.702 pyfstat.utils.sft INFO    : Loading 1 SFTs from H1...\n",
      "25-07-20 12:31:59.711 pyfstat.utils.sft INFO    : Loading 1 SFTs from H1...\n",
      "25-07-20 12:31:59.720 pyfstat.utils.sft INFO    : Loading 1 SFTs from H1...\n",
      "25-07-20 12:31:59.729 pyfstat.utils.sft INFO    : Loading 1 SFTs from H1...\n",
      "25-07-20 12:31:59.739 pyfstat.utils.sft INFO    : Loading 1 SFTs from H1...\n",
      "25-07-20 12:31:59.748 pyfstat.utils.sft INFO    : Loading 1 SFTs from H1...\n",
      "25-07-20 12:31:59.757 pyfstat.utils.sft INFO    : Loading 1 SFTs from H1...\n",
      "25-07-20 12:31:59.767 pyfstat.utils.sft INFO    : Loading 1 SFTs from H1...\n",
      "25-07-20 12:31:59.777 pyfstat.utils.sft INFO    : Loading 1 SFTs from H1...\n",
      "25-07-20 12:31:59.787 pyfstat.utils.sft INFO    : Loading 1 SFTs from H1...\n",
      "25-07-20 12:31:59.797 pyfstat.utils.sft INFO    : Loading 1 SFTs from H1...\n"
     ]
    },
    {
     "name": "stderr",
     "output_type": "stream",
     "text": [
      " 12%|█▏        | 2266/19200 [00:21<02:42, 104.03it/s]"
     ]
    },
    {
     "name": "stdout",
     "output_type": "stream",
     "text": [
      "25-07-20 12:31:59.807 pyfstat.utils.sft INFO    : Loading 1 SFTs from H1...\n",
      "25-07-20 12:31:59.817 pyfstat.utils.sft INFO    : Loading 1 SFTs from H1...\n",
      "25-07-20 12:31:59.826 pyfstat.utils.sft INFO    : Loading 1 SFTs from H1...\n",
      "25-07-20 12:31:59.836 pyfstat.utils.sft INFO    : Loading 1 SFTs from H1...\n",
      "25-07-20 12:31:59.845 pyfstat.utils.sft INFO    : Loading 1 SFTs from H1...\n",
      "25-07-20 12:31:59.855 pyfstat.utils.sft INFO    : Loading 1 SFTs from H1...\n",
      "25-07-20 12:31:59.865 pyfstat.utils.sft INFO    : Loading 1 SFTs from H1...\n",
      "25-07-20 12:31:59.875 pyfstat.utils.sft INFO    : Loading 1 SFTs from H1...\n",
      "25-07-20 12:31:59.885 pyfstat.utils.sft INFO    : Loading 1 SFTs from H1...\n",
      "25-07-20 12:31:59.895 pyfstat.utils.sft INFO    : Loading 1 SFTs from H1...\n",
      "25-07-20 12:31:59.905 pyfstat.utils.sft INFO    : Loading 1 SFTs from H1...\n"
     ]
    },
    {
     "name": "stderr",
     "output_type": "stream",
     "text": [
      " 12%|█▏        | 2277/19200 [00:21<02:43, 103.46it/s]"
     ]
    },
    {
     "name": "stdout",
     "output_type": "stream",
     "text": [
      "25-07-20 12:31:59.915 pyfstat.utils.sft INFO    : Loading 1 SFTs from H1...\n",
      "25-07-20 12:31:59.924 pyfstat.utils.sft INFO    : Loading 1 SFTs from H1...\n",
      "25-07-20 12:31:59.933 pyfstat.utils.sft INFO    : Loading 1 SFTs from H1...\n",
      "25-07-20 12:31:59.942 pyfstat.utils.sft INFO    : Loading 1 SFTs from H1...\n",
      "25-07-20 12:31:59.951 pyfstat.utils.sft INFO    : Loading 1 SFTs from H1...\n",
      "25-07-20 12:31:59.960 pyfstat.utils.sft INFO    : Loading 1 SFTs from H1...\n",
      "25-07-20 12:31:59.970 pyfstat.utils.sft INFO    : Loading 1 SFTs from H1...\n",
      "25-07-20 12:31:59.979 pyfstat.utils.sft INFO    : Loading 1 SFTs from H1...\n",
      "25-07-20 12:31:59.989 pyfstat.utils.sft INFO    : Loading 1 SFTs from H1...\n",
      "25-07-20 12:31:59.997 pyfstat.utils.sft INFO    : Loading 1 SFTs from H1...\n",
      "25-07-20 12:32:00.007 pyfstat.utils.sft INFO    : Loading 1 SFTs from H1...\n"
     ]
    },
    {
     "name": "stderr",
     "output_type": "stream",
     "text": [
      " 12%|█▏        | 2288/19200 [00:22<02:41, 104.62it/s]"
     ]
    },
    {
     "name": "stdout",
     "output_type": "stream",
     "text": [
      "25-07-20 12:32:00.017 pyfstat.utils.sft INFO    : Loading 1 SFTs from H1...\n",
      "25-07-20 12:32:00.027 pyfstat.utils.sft INFO    : Loading 1 SFTs from H1...\n",
      "25-07-20 12:32:00.036 pyfstat.utils.sft INFO    : Loading 1 SFTs from H1...\n",
      "25-07-20 12:32:00.045 pyfstat.utils.sft INFO    : Loading 1 SFTs from H1...\n",
      "25-07-20 12:32:00.054 pyfstat.utils.sft INFO    : Loading 1 SFTs from H1...\n",
      "25-07-20 12:32:00.063 pyfstat.utils.sft INFO    : Loading 1 SFTs from H1...\n",
      "25-07-20 12:32:00.072 pyfstat.utils.sft INFO    : Loading 1 SFTs from H1...\n",
      "25-07-20 12:32:00.082 pyfstat.utils.sft INFO    : Loading 1 SFTs from H1...\n",
      "25-07-20 12:32:00.092 pyfstat.utils.sft INFO    : Loading 1 SFTs from H1...\n",
      "25-07-20 12:32:00.101 pyfstat.utils.sft INFO    : Loading 1 SFTs from H1...\n",
      "25-07-20 12:32:00.110 pyfstat.utils.sft INFO    : Loading 1 SFTs from H1...\n"
     ]
    },
    {
     "name": "stderr",
     "output_type": "stream",
     "text": [
      " 12%|█▏        | 2299/19200 [00:22<02:40, 105.05it/s]"
     ]
    },
    {
     "name": "stdout",
     "output_type": "stream",
     "text": [
      "25-07-20 12:32:00.121 pyfstat.utils.sft INFO    : Loading 1 SFTs from H1...\n",
      "25-07-20 12:32:00.131 pyfstat.utils.sft INFO    : Loading 1 SFTs from H1...\n",
      "25-07-20 12:32:00.140 pyfstat.utils.sft INFO    : Loading 1 SFTs from H1...\n",
      "25-07-20 12:32:00.150 pyfstat.utils.sft INFO    : Loading 1 SFTs from H1...\n",
      "25-07-20 12:32:00.159 pyfstat.utils.sft INFO    : Loading 1 SFTs from H1...\n",
      "25-07-20 12:32:00.168 pyfstat.utils.sft INFO    : Loading 1 SFTs from H1...\n",
      "25-07-20 12:32:00.177 pyfstat.utils.sft INFO    : Loading 1 SFTs from H1...\n",
      "25-07-20 12:32:00.187 pyfstat.utils.sft INFO    : Loading 1 SFTs from H1...\n",
      "25-07-20 12:32:00.196 pyfstat.utils.sft INFO    : Loading 1 SFTs from H1...\n",
      "25-07-20 12:32:00.205 pyfstat.utils.sft INFO    : Loading 1 SFTs from H1...\n",
      "25-07-20 12:32:00.215 pyfstat.utils.sft INFO    : Loading 1 SFTs from H1...\n"
     ]
    },
    {
     "name": "stderr",
     "output_type": "stream",
     "text": [
      " 12%|█▏        | 2310/19200 [00:22<02:40, 105.10it/s]"
     ]
    },
    {
     "name": "stdout",
     "output_type": "stream",
     "text": [
      "25-07-20 12:32:00.225 pyfstat.utils.sft INFO    : Loading 1 SFTs from H1...\n",
      "25-07-20 12:32:00.235 pyfstat.utils.sft INFO    : Loading 1 SFTs from H1...\n",
      "25-07-20 12:32:00.245 pyfstat.utils.sft INFO    : Loading 1 SFTs from H1...\n",
      "25-07-20 12:32:00.255 pyfstat.utils.sft INFO    : Loading 1 SFTs from H1...\n",
      "25-07-20 12:32:00.264 pyfstat.utils.sft INFO    : Loading 1 SFTs from H1...\n",
      "25-07-20 12:32:00.274 pyfstat.utils.sft INFO    : Loading 1 SFTs from H1...\n",
      "25-07-20 12:32:00.285 pyfstat.utils.sft INFO    : Loading 1 SFTs from H1...\n",
      "25-07-20 12:32:00.298 pyfstat.utils.sft INFO    : Loading 1 SFTs from H1...\n",
      "25-07-20 12:32:00.307 pyfstat.utils.sft INFO    : Loading 1 SFTs from H1...\n",
      "25-07-20 12:32:00.317 pyfstat.utils.sft INFO    : Loading 1 SFTs from H1...\n",
      "25-07-20 12:32:00.327 pyfstat.utils.sft INFO    : Loading 1 SFTs from H1...\n"
     ]
    },
    {
     "name": "stderr",
     "output_type": "stream",
     "text": [
      " 12%|█▏        | 2321/19200 [00:22<02:43, 103.07it/s]"
     ]
    },
    {
     "name": "stdout",
     "output_type": "stream",
     "text": [
      "25-07-20 12:32:00.338 pyfstat.utils.sft INFO    : Loading 1 SFTs from H1...\n",
      "25-07-20 12:32:00.348 pyfstat.utils.sft INFO    : Loading 1 SFTs from H1...\n",
      "25-07-20 12:32:00.358 pyfstat.utils.sft INFO    : Loading 1 SFTs from H1...\n",
      "25-07-20 12:32:00.367 pyfstat.utils.sft INFO    : Loading 1 SFTs from H1...\n",
      "25-07-20 12:32:00.377 pyfstat.utils.sft INFO    : Loading 1 SFTs from H1...\n",
      "25-07-20 12:32:00.387 pyfstat.utils.sft INFO    : Loading 1 SFTs from H1...\n",
      "25-07-20 12:32:00.396 pyfstat.utils.sft INFO    : Loading 1 SFTs from H1...\n",
      "25-07-20 12:32:00.406 pyfstat.utils.sft INFO    : Loading 1 SFTs from H1...\n",
      "25-07-20 12:32:00.416 pyfstat.utils.sft INFO    : Loading 1 SFTs from H1...\n",
      "25-07-20 12:32:00.425 pyfstat.utils.sft INFO    : Loading 1 SFTs from H1...\n",
      "25-07-20 12:32:00.435 pyfstat.utils.sft INFO    : Loading 1 SFTs from H1...\n"
     ]
    },
    {
     "name": "stderr",
     "output_type": "stream",
     "text": [
      " 12%|█▏        | 2332/19200 [00:22<02:44, 102.64it/s]"
     ]
    },
    {
     "name": "stdout",
     "output_type": "stream",
     "text": [
      "25-07-20 12:32:00.445 pyfstat.utils.sft INFO    : Loading 1 SFTs from H1...\n",
      "25-07-20 12:32:00.456 pyfstat.utils.sft INFO    : Loading 1 SFTs from H1...\n",
      "25-07-20 12:32:00.466 pyfstat.utils.sft INFO    : Loading 1 SFTs from H1...\n",
      "25-07-20 12:32:00.476 pyfstat.utils.sft INFO    : Loading 1 SFTs from H1...\n",
      "25-07-20 12:32:00.485 pyfstat.utils.sft INFO    : Loading 1 SFTs from H1...\n",
      "25-07-20 12:32:00.495 pyfstat.utils.sft INFO    : Loading 1 SFTs from H1...\n",
      "25-07-20 12:32:00.504 pyfstat.utils.sft INFO    : Loading 1 SFTs from H1...\n",
      "25-07-20 12:32:00.513 pyfstat.utils.sft INFO    : Loading 1 SFTs from H1...\n",
      "25-07-20 12:32:00.523 pyfstat.utils.sft INFO    : Loading 1 SFTs from H1...\n",
      "25-07-20 12:32:00.532 pyfstat.utils.sft INFO    : Loading 1 SFTs from H1...\n",
      "25-07-20 12:32:00.542 pyfstat.utils.sft INFO    : Loading 1 SFTs from H1...\n"
     ]
    },
    {
     "name": "stderr",
     "output_type": "stream",
     "text": [
      " 12%|█▏        | 2343/19200 [00:22<02:44, 102.75it/s]"
     ]
    },
    {
     "name": "stdout",
     "output_type": "stream",
     "text": [
      "25-07-20 12:32:00.552 pyfstat.utils.sft INFO    : Loading 1 SFTs from H1...\n",
      "25-07-20 12:32:00.562 pyfstat.utils.sft INFO    : Loading 1 SFTs from H1...\n",
      "25-07-20 12:32:00.572 pyfstat.utils.sft INFO    : Loading 1 SFTs from H1...\n",
      "25-07-20 12:32:00.582 pyfstat.utils.sft INFO    : Loading 1 SFTs from H1...\n",
      "25-07-20 12:32:00.592 pyfstat.utils.sft INFO    : Loading 1 SFTs from H1...\n",
      "25-07-20 12:32:00.601 pyfstat.utils.sft INFO    : Loading 1 SFTs from H1...\n",
      "25-07-20 12:32:00.610 pyfstat.utils.sft INFO    : Loading 1 SFTs from H1...\n",
      "25-07-20 12:32:00.620 pyfstat.utils.sft INFO    : Loading 1 SFTs from H1...\n",
      "25-07-20 12:32:00.630 pyfstat.utils.sft INFO    : Loading 1 SFTs from H1...\n",
      "25-07-20 12:32:00.639 pyfstat.utils.sft INFO    : Loading 1 SFTs from H1...\n",
      "25-07-20 12:32:00.648 pyfstat.utils.sft INFO    : Loading 1 SFTs from H1...\n"
     ]
    },
    {
     "name": "stderr",
     "output_type": "stream",
     "text": [
      " 12%|█▏        | 2354/19200 [00:22<02:43, 103.01it/s]"
     ]
    },
    {
     "name": "stdout",
     "output_type": "stream",
     "text": [
      "25-07-20 12:32:00.658 pyfstat.utils.sft INFO    : Loading 1 SFTs from H1...\n",
      "25-07-20 12:32:00.667 pyfstat.utils.sft INFO    : Loading 1 SFTs from H1...\n",
      "25-07-20 12:32:00.677 pyfstat.utils.sft INFO    : Loading 1 SFTs from H1...\n",
      "25-07-20 12:32:00.686 pyfstat.utils.sft INFO    : Loading 1 SFTs from H1...\n",
      "25-07-20 12:32:00.695 pyfstat.utils.sft INFO    : Loading 1 SFTs from H1...\n",
      "25-07-20 12:32:00.704 pyfstat.utils.sft INFO    : Loading 1 SFTs from H1...\n",
      "25-07-20 12:32:00.714 pyfstat.utils.sft INFO    : Loading 1 SFTs from H1...\n",
      "25-07-20 12:32:00.723 pyfstat.utils.sft INFO    : Loading 1 SFTs from H1...\n",
      "25-07-20 12:32:00.732 pyfstat.utils.sft INFO    : Loading 1 SFTs from H1...\n",
      "25-07-20 12:32:00.741 pyfstat.utils.sft INFO    : Loading 1 SFTs from H1...\n",
      "25-07-20 12:32:00.749 pyfstat.utils.sft INFO    : Loading 1 SFTs from H1...\n"
     ]
    },
    {
     "name": "stderr",
     "output_type": "stream",
     "text": [
      " 12%|█▏        | 2365/19200 [00:22<02:40, 104.66it/s]"
     ]
    },
    {
     "name": "stdout",
     "output_type": "stream",
     "text": [
      "25-07-20 12:32:00.759 pyfstat.utils.sft INFO    : Loading 1 SFTs from H1...\n",
      "25-07-20 12:32:00.769 pyfstat.utils.sft INFO    : Loading 1 SFTs from H1...\n",
      "25-07-20 12:32:00.778 pyfstat.utils.sft INFO    : Loading 1 SFTs from H1...\n",
      "25-07-20 12:32:00.788 pyfstat.utils.sft INFO    : Loading 1 SFTs from H1...\n",
      "25-07-20 12:32:00.798 pyfstat.utils.sft INFO    : Loading 1 SFTs from H1...\n",
      "25-07-20 12:32:00.807 pyfstat.utils.sft INFO    : Loading 1 SFTs from H1...\n",
      "25-07-20 12:32:00.817 pyfstat.utils.sft INFO    : Loading 1 SFTs from H1...\n",
      "25-07-20 12:32:00.826 pyfstat.utils.sft INFO    : Loading 1 SFTs from H1...\n",
      "25-07-20 12:32:00.835 pyfstat.utils.sft INFO    : Loading 1 SFTs from H1...\n",
      "25-07-20 12:32:00.844 pyfstat.utils.sft INFO    : Loading 1 SFTs from H1...\n",
      "25-07-20 12:32:00.852 pyfstat.utils.sft INFO    : Loading 1 SFTs from H1...\n"
     ]
    },
    {
     "name": "stderr",
     "output_type": "stream",
     "text": [
      " 12%|█▏        | 2376/19200 [00:22<02:39, 105.48it/s]"
     ]
    },
    {
     "name": "stdout",
     "output_type": "stream",
     "text": [
      "25-07-20 12:32:00.862 pyfstat.utils.sft INFO    : Loading 1 SFTs from H1...\n",
      "25-07-20 12:32:00.871 pyfstat.utils.sft INFO    : Loading 1 SFTs from H1...\n",
      "25-07-20 12:32:00.880 pyfstat.utils.sft INFO    : Loading 1 SFTs from H1...\n",
      "25-07-20 12:32:00.890 pyfstat.utils.sft INFO    : Loading 1 SFTs from H1...\n",
      "25-07-20 12:32:00.899 pyfstat.utils.sft INFO    : Loading 1 SFTs from H1...\n",
      "25-07-20 12:32:00.908 pyfstat.utils.sft INFO    : Loading 1 SFTs from H1...\n",
      "25-07-20 12:32:00.918 pyfstat.utils.sft INFO    : Loading 1 SFTs from H1...\n",
      "25-07-20 12:32:00.927 pyfstat.utils.sft INFO    : Loading 1 SFTs from H1...\n",
      "25-07-20 12:32:00.936 pyfstat.utils.sft INFO    : Loading 1 SFTs from H1...\n",
      "25-07-20 12:32:00.945 pyfstat.utils.sft INFO    : Loading 1 SFTs from H1...\n",
      "25-07-20 12:32:00.955 pyfstat.utils.sft INFO    : Loading 1 SFTs from H1...\n"
     ]
    },
    {
     "name": "stderr",
     "output_type": "stream",
     "text": [
      " 12%|█▏        | 2387/19200 [00:23<02:38, 105.91it/s]"
     ]
    },
    {
     "name": "stdout",
     "output_type": "stream",
     "text": [
      "25-07-20 12:32:00.964 pyfstat.utils.sft INFO    : Loading 1 SFTs from H1...\n",
      "25-07-20 12:32:00.974 pyfstat.utils.sft INFO    : Loading 1 SFTs from H1...\n",
      "25-07-20 12:32:00.983 pyfstat.utils.sft INFO    : Loading 1 SFTs from H1...\n",
      "25-07-20 12:32:00.992 pyfstat.utils.sft INFO    : Loading 1 SFTs from H1...\n",
      "25-07-20 12:32:01.002 pyfstat.utils.sft INFO    : Loading 1 SFTs from H1...\n",
      "25-07-20 12:32:01.011 pyfstat.utils.sft INFO    : Loading 1 SFTs from H1...\n",
      "25-07-20 12:32:01.021 pyfstat.utils.sft INFO    : Loading 1 SFTs from H1...\n",
      "25-07-20 12:32:01.032 pyfstat.utils.sft INFO    : Loading 1 SFTs from H1...\n",
      "25-07-20 12:32:01.042 pyfstat.utils.sft INFO    : Loading 1 SFTs from H1...\n",
      "25-07-20 12:32:01.052 pyfstat.utils.sft INFO    : Loading 1 SFTs from H1...\n",
      "25-07-20 12:32:01.060 pyfstat.utils.sft INFO    : Loading 1 SFTs from H1...\n"
     ]
    },
    {
     "name": "stderr",
     "output_type": "stream",
     "text": [
      " 12%|█▏        | 2398/19200 [00:23<02:39, 105.24it/s]"
     ]
    },
    {
     "name": "stdout",
     "output_type": "stream",
     "text": [
      "25-07-20 12:32:01.070 pyfstat.utils.sft INFO    : Loading 1 SFTs from H1...\n",
      "25-07-20 12:32:01.080 pyfstat.utils.sft INFO    : Loading 1 SFTs from H1...\n",
      "25-07-20 12:32:01.089 pyfstat.utils.sft INFO    : Loading 1 SFTs from H1...\n",
      "25-07-20 12:32:01.098 pyfstat.utils.sft INFO    : Loading 1 SFTs from H1...\n",
      "25-07-20 12:32:01.108 pyfstat.utils.sft INFO    : Loading 1 SFTs from H1...\n",
      "25-07-20 12:32:01.118 pyfstat.utils.sft INFO    : Loading 1 SFTs from H1...\n",
      "25-07-20 12:32:01.127 pyfstat.utils.sft INFO    : Loading 1 SFTs from H1...\n",
      "25-07-20 12:32:01.136 pyfstat.utils.sft INFO    : Loading 1 SFTs from H1...\n",
      "25-07-20 12:32:01.145 pyfstat.utils.sft INFO    : Loading 1 SFTs from H1...\n",
      "25-07-20 12:32:01.154 pyfstat.utils.sft INFO    : Loading 1 SFTs from H1...\n",
      "25-07-20 12:32:01.164 pyfstat.utils.sft INFO    : Loading 1 SFTs from H1...\n"
     ]
    },
    {
     "name": "stderr",
     "output_type": "stream",
     "text": [
      " 13%|█▎        | 2409/19200 [00:23<02:38, 105.77it/s]"
     ]
    },
    {
     "name": "stdout",
     "output_type": "stream",
     "text": [
      "25-07-20 12:32:01.173 pyfstat.utils.sft INFO    : Loading 1 SFTs from H1...\n",
      "25-07-20 12:32:01.182 pyfstat.utils.sft INFO    : Loading 1 SFTs from H1...\n",
      "25-07-20 12:32:01.192 pyfstat.utils.sft INFO    : Loading 1 SFTs from H1...\n",
      "25-07-20 12:32:01.201 pyfstat.utils.sft INFO    : Loading 1 SFTs from H1...\n",
      "25-07-20 12:32:01.210 pyfstat.utils.sft INFO    : Loading 1 SFTs from H1...\n",
      "25-07-20 12:32:01.219 pyfstat.utils.sft INFO    : Loading 1 SFTs from H1...\n",
      "25-07-20 12:32:01.229 pyfstat.utils.sft INFO    : Loading 1 SFTs from H1...\n",
      "25-07-20 12:32:01.238 pyfstat.utils.sft INFO    : Loading 1 SFTs from H1...\n",
      "25-07-20 12:32:01.247 pyfstat.utils.sft INFO    : Loading 1 SFTs from H1...\n",
      "25-07-20 12:32:01.256 pyfstat.utils.sft INFO    : Loading 1 SFTs from H1...\n",
      "25-07-20 12:32:01.265 pyfstat.utils.sft INFO    : Loading 1 SFTs from H1...\n"
     ]
    },
    {
     "name": "stderr",
     "output_type": "stream",
     "text": [
      " 13%|█▎        | 2420/19200 [00:23<02:37, 106.59it/s]"
     ]
    },
    {
     "name": "stdout",
     "output_type": "stream",
     "text": [
      "25-07-20 12:32:01.274 pyfstat.utils.sft INFO    : Loading 1 SFTs from H1...\n",
      "25-07-20 12:32:01.284 pyfstat.utils.sft INFO    : Loading 1 SFTs from H1...\n",
      "25-07-20 12:32:01.293 pyfstat.utils.sft INFO    : Loading 1 SFTs from H1...\n",
      "25-07-20 12:32:01.302 pyfstat.utils.sft INFO    : Loading 1 SFTs from H1...\n",
      "25-07-20 12:32:01.311 pyfstat.utils.sft INFO    : Loading 1 SFTs from H1...\n",
      "25-07-20 12:32:01.320 pyfstat.utils.sft INFO    : Loading 1 SFTs from H1...\n",
      "25-07-20 12:32:01.328 pyfstat.utils.sft INFO    : Loading 1 SFTs from H1...\n",
      "25-07-20 12:32:01.338 pyfstat.utils.sft INFO    : Loading 1 SFTs from H1...\n",
      "25-07-20 12:32:01.347 pyfstat.utils.sft INFO    : Loading 1 SFTs from H1...\n",
      "25-07-20 12:32:01.356 pyfstat.utils.sft INFO    : Loading 1 SFTs from H1...\n",
      "25-07-20 12:32:01.365 pyfstat.utils.sft INFO    : Loading 1 SFTs from H1...\n"
     ]
    },
    {
     "name": "stderr",
     "output_type": "stream",
     "text": [
      " 13%|█▎        | 2431/19200 [00:23<02:36, 107.42it/s]"
     ]
    },
    {
     "name": "stdout",
     "output_type": "stream",
     "text": [
      "25-07-20 12:32:01.375 pyfstat.utils.sft INFO    : Loading 1 SFTs from H1...\n",
      "25-07-20 12:32:01.385 pyfstat.utils.sft INFO    : Loading 1 SFTs from H1...\n",
      "25-07-20 12:32:01.394 pyfstat.utils.sft INFO    : Loading 1 SFTs from H1...\n",
      "25-07-20 12:32:01.403 pyfstat.utils.sft INFO    : Loading 1 SFTs from H1...\n",
      "25-07-20 12:32:01.412 pyfstat.utils.sft INFO    : Loading 1 SFTs from H1...\n",
      "25-07-20 12:32:01.421 pyfstat.utils.sft INFO    : Loading 1 SFTs from H1...\n",
      "25-07-20 12:32:01.431 pyfstat.utils.sft INFO    : Loading 1 SFTs from H1...\n",
      "25-07-20 12:32:01.440 pyfstat.utils.sft INFO    : Loading 1 SFTs from H1...\n",
      "25-07-20 12:32:01.449 pyfstat.utils.sft INFO    : Loading 1 SFTs from H1...\n",
      "25-07-20 12:32:01.459 pyfstat.utils.sft INFO    : Loading 1 SFTs from H1...\n",
      "25-07-20 12:32:01.468 pyfstat.utils.sft INFO    : Loading 1 SFTs from H1...\n"
     ]
    },
    {
     "name": "stderr",
     "output_type": "stream",
     "text": [
      " 13%|█▎        | 2442/19200 [00:23<02:36, 107.24it/s]"
     ]
    },
    {
     "name": "stdout",
     "output_type": "stream",
     "text": [
      "25-07-20 12:32:01.478 pyfstat.utils.sft INFO    : Loading 1 SFTs from H1...\n",
      "25-07-20 12:32:01.487 pyfstat.utils.sft INFO    : Loading 1 SFTs from H1...\n",
      "25-07-20 12:32:01.496 pyfstat.utils.sft INFO    : Loading 1 SFTs from H1...\n",
      "25-07-20 12:32:01.504 pyfstat.utils.sft INFO    : Loading 1 SFTs from H1...\n",
      "25-07-20 12:32:01.512 pyfstat.utils.sft INFO    : Loading 1 SFTs from H1...\n",
      "25-07-20 12:32:01.521 pyfstat.utils.sft INFO    : Loading 1 SFTs from H1...\n",
      "25-07-20 12:32:01.530 pyfstat.utils.sft INFO    : Loading 1 SFTs from H1...\n",
      "25-07-20 12:32:01.539 pyfstat.utils.sft INFO    : Loading 1 SFTs from H1...\n",
      "25-07-20 12:32:01.548 pyfstat.utils.sft INFO    : Loading 1 SFTs from H1...\n",
      "25-07-20 12:32:01.557 pyfstat.utils.sft INFO    : Loading 1 SFTs from H1...\n",
      "25-07-20 12:32:01.567 pyfstat.utils.sft INFO    : Loading 1 SFTs from H1...\n",
      "25-07-20 12:32:01.575 pyfstat.utils.sft INFO    : Loading 1 SFTs from H1...\n"
     ]
    },
    {
     "name": "stderr",
     "output_type": "stream",
     "text": [
      " 13%|█▎        | 2454/19200 [00:23<02:33, 108.82it/s]"
     ]
    },
    {
     "name": "stdout",
     "output_type": "stream",
     "text": [
      "25-07-20 12:32:01.585 pyfstat.utils.sft INFO    : Loading 1 SFTs from H1...\n",
      "25-07-20 12:32:01.594 pyfstat.utils.sft INFO    : Loading 1 SFTs from H1...\n",
      "25-07-20 12:32:01.602 pyfstat.utils.sft INFO    : Loading 1 SFTs from H1...\n",
      "25-07-20 12:32:01.611 pyfstat.utils.sft INFO    : Loading 1 SFTs from H1...\n",
      "25-07-20 12:32:01.620 pyfstat.utils.sft INFO    : Loading 1 SFTs from H1...\n",
      "25-07-20 12:32:01.628 pyfstat.utils.sft INFO    : Loading 1 SFTs from H1...\n",
      "25-07-20 12:32:01.637 pyfstat.utils.sft INFO    : Loading 1 SFTs from H1...\n",
      "25-07-20 12:32:01.646 pyfstat.utils.sft INFO    : Loading 1 SFTs from H1...\n",
      "25-07-20 12:32:01.655 pyfstat.utils.sft INFO    : Loading 1 SFTs from H1...\n",
      "25-07-20 12:32:01.664 pyfstat.utils.sft INFO    : Loading 1 SFTs from H1...\n",
      "25-07-20 12:32:01.673 pyfstat.utils.sft INFO    : Loading 1 SFTs from H1...\n",
      "25-07-20 12:32:01.682 pyfstat.utils.sft INFO    : Loading 1 SFTs from H1...\n"
     ]
    },
    {
     "name": "stderr",
     "output_type": "stream",
     "text": [
      " 13%|█▎        | 2466/19200 [00:23<02:32, 109.91it/s]"
     ]
    },
    {
     "name": "stdout",
     "output_type": "stream",
     "text": [
      "25-07-20 12:32:01.692 pyfstat.utils.sft INFO    : Loading 1 SFTs from H1...\n",
      "25-07-20 12:32:01.701 pyfstat.utils.sft INFO    : Loading 1 SFTs from H1...\n",
      "25-07-20 12:32:01.710 pyfstat.utils.sft INFO    : Loading 1 SFTs from H1...\n",
      "25-07-20 12:32:01.719 pyfstat.utils.sft INFO    : Loading 1 SFTs from H1...\n",
      "25-07-20 12:32:01.728 pyfstat.utils.sft INFO    : Loading 1 SFTs from H1...\n",
      "25-07-20 12:32:01.737 pyfstat.utils.sft INFO    : Loading 1 SFTs from H1...\n",
      "25-07-20 12:32:01.746 pyfstat.utils.sft INFO    : Loading 1 SFTs from H1...\n",
      "25-07-20 12:32:01.754 pyfstat.utils.sft INFO    : Loading 1 SFTs from H1...\n",
      "25-07-20 12:32:01.763 pyfstat.utils.sft INFO    : Loading 1 SFTs from H1...\n",
      "25-07-20 12:32:01.771 pyfstat.utils.sft INFO    : Loading 1 SFTs from H1...\n",
      "25-07-20 12:32:01.780 pyfstat.utils.sft INFO    : Loading 1 SFTs from H1...\n",
      "25-07-20 12:32:01.789 pyfstat.utils.sft INFO    : Loading 1 SFTs from H1...\n"
     ]
    },
    {
     "name": "stderr",
     "output_type": "stream",
     "text": [
      " 13%|█▎        | 2478/19200 [00:23<02:31, 110.60it/s]"
     ]
    },
    {
     "name": "stdout",
     "output_type": "stream",
     "text": [
      "25-07-20 12:32:01.799 pyfstat.utils.sft INFO    : Loading 1 SFTs from H1...\n",
      "25-07-20 12:32:01.808 pyfstat.utils.sft INFO    : Loading 1 SFTs from H1...\n",
      "25-07-20 12:32:01.817 pyfstat.utils.sft INFO    : Loading 1 SFTs from H1...\n",
      "25-07-20 12:32:01.826 pyfstat.utils.sft INFO    : Loading 1 SFTs from H1...\n",
      "25-07-20 12:32:01.835 pyfstat.utils.sft INFO    : Loading 1 SFTs from H1...\n",
      "25-07-20 12:32:01.844 pyfstat.utils.sft INFO    : Loading 1 SFTs from H1...\n",
      "25-07-20 12:32:01.853 pyfstat.utils.sft INFO    : Loading 1 SFTs from H1...\n",
      "25-07-20 12:32:01.862 pyfstat.utils.sft INFO    : Loading 1 SFTs from H1...\n",
      "25-07-20 12:32:01.871 pyfstat.utils.sft INFO    : Loading 1 SFTs from H1...\n",
      "25-07-20 12:32:01.881 pyfstat.utils.sft INFO    : Loading 1 SFTs from H1...\n",
      "25-07-20 12:32:01.890 pyfstat.utils.sft INFO    : Loading 1 SFTs from H1...\n",
      "25-07-20 12:32:01.899 pyfstat.utils.sft INFO    : Loading 1 SFTs from H1...\n"
     ]
    },
    {
     "name": "stderr",
     "output_type": "stream",
     "text": [
      " 13%|█▎        | 2490/19200 [00:23<02:33, 109.11it/s]"
     ]
    },
    {
     "name": "stdout",
     "output_type": "stream",
     "text": [
      "25-07-20 12:32:01.912 pyfstat.utils.sft INFO    : Loading 1 SFTs from H1...\n",
      "25-07-20 12:32:01.922 pyfstat.utils.sft INFO    : Loading 1 SFTs from H1...\n",
      "25-07-20 12:32:01.931 pyfstat.utils.sft INFO    : Loading 1 SFTs from H1...\n",
      "25-07-20 12:32:01.940 pyfstat.utils.sft INFO    : Loading 1 SFTs from H1...\n",
      "25-07-20 12:32:01.950 pyfstat.utils.sft INFO    : Loading 1 SFTs from H1...\n",
      "25-07-20 12:32:01.959 pyfstat.utils.sft INFO    : Loading 1 SFTs from H1...\n",
      "25-07-20 12:32:01.969 pyfstat.utils.sft INFO    : Loading 1 SFTs from H1...\n",
      "25-07-20 12:32:01.978 pyfstat.utils.sft INFO    : Loading 1 SFTs from H1...\n",
      "25-07-20 12:32:01.987 pyfstat.utils.sft INFO    : Loading 1 SFTs from H1...\n",
      "25-07-20 12:32:01.996 pyfstat.utils.sft INFO    : Loading 1 SFTs from H1...\n",
      "25-07-20 12:32:02.006 pyfstat.utils.sft INFO    : Loading 1 SFTs from H1...\n"
     ]
    },
    {
     "name": "stderr",
     "output_type": "stream",
     "text": [
      " 13%|█▎        | 2501/19200 [00:24<02:34, 108.20it/s]"
     ]
    },
    {
     "name": "stdout",
     "output_type": "stream",
     "text": [
      "25-07-20 12:32:02.016 pyfstat.utils.sft INFO    : Loading 1 SFTs from H1...\n",
      "25-07-20 12:32:02.025 pyfstat.utils.sft INFO    : Loading 1 SFTs from H1...\n",
      "25-07-20 12:32:02.035 pyfstat.utils.sft INFO    : Loading 1 SFTs from H1...\n",
      "25-07-20 12:32:02.044 pyfstat.utils.sft INFO    : Loading 1 SFTs from H1...\n",
      "25-07-20 12:32:02.056 pyfstat.utils.sft INFO    : Loading 1 SFTs from H1...\n",
      "25-07-20 12:32:02.065 pyfstat.utils.sft INFO    : Loading 1 SFTs from H1...\n",
      "25-07-20 12:32:02.074 pyfstat.utils.sft INFO    : Loading 1 SFTs from H1...\n",
      "25-07-20 12:32:02.083 pyfstat.utils.sft INFO    : Loading 1 SFTs from H1...\n",
      "25-07-20 12:32:02.092 pyfstat.utils.sft INFO    : Loading 1 SFTs from H1...\n",
      "25-07-20 12:32:02.102 pyfstat.utils.sft INFO    : Loading 1 SFTs from H1...\n",
      "25-07-20 12:32:02.112 pyfstat.utils.sft INFO    : Loading 1 SFTs from H1...\n"
     ]
    },
    {
     "name": "stderr",
     "output_type": "stream",
     "text": [
      " 13%|█▎        | 2512/19200 [00:24<02:36, 106.64it/s]"
     ]
    },
    {
     "name": "stdout",
     "output_type": "stream",
     "text": [
      "25-07-20 12:32:02.122 pyfstat.utils.sft INFO    : Loading 1 SFTs from H1...\n",
      "25-07-20 12:32:02.132 pyfstat.utils.sft INFO    : Loading 1 SFTs from H1...\n",
      "25-07-20 12:32:02.142 pyfstat.utils.sft INFO    : Loading 1 SFTs from H1...\n",
      "25-07-20 12:32:02.151 pyfstat.utils.sft INFO    : Loading 1 SFTs from H1...\n",
      "25-07-20 12:32:02.160 pyfstat.utils.sft INFO    : Loading 1 SFTs from H1...\n",
      "25-07-20 12:32:02.169 pyfstat.utils.sft INFO    : Loading 1 SFTs from H1...\n",
      "25-07-20 12:32:02.178 pyfstat.utils.sft INFO    : Loading 1 SFTs from H1...\n",
      "25-07-20 12:32:02.187 pyfstat.utils.sft INFO    : Loading 1 SFTs from H1...\n",
      "25-07-20 12:32:02.197 pyfstat.utils.sft INFO    : Loading 1 SFTs from H1...\n",
      "25-07-20 12:32:02.205 pyfstat.utils.sft INFO    : Loading 1 SFTs from H1...\n",
      "25-07-20 12:32:02.215 pyfstat.utils.sft INFO    : Loading 1 SFTs from H1...\n"
     ]
    },
    {
     "name": "stderr",
     "output_type": "stream",
     "text": [
      " 13%|█▎        | 2523/19200 [00:24<02:35, 107.03it/s]"
     ]
    },
    {
     "name": "stdout",
     "output_type": "stream",
     "text": [
      "25-07-20 12:32:02.224 pyfstat.utils.sft INFO    : Loading 1 SFTs from H1...\n",
      "25-07-20 12:32:02.234 pyfstat.utils.sft INFO    : Loading 1 SFTs from H1...\n",
      "25-07-20 12:32:02.244 pyfstat.utils.sft INFO    : Loading 1 SFTs from H1...\n",
      "25-07-20 12:32:02.254 pyfstat.utils.sft INFO    : Loading 1 SFTs from H1...\n",
      "25-07-20 12:32:02.264 pyfstat.utils.sft INFO    : Loading 1 SFTs from H1...\n",
      "25-07-20 12:32:02.274 pyfstat.utils.sft INFO    : Loading 1 SFTs from H1...\n",
      "25-07-20 12:32:02.283 pyfstat.utils.sft INFO    : Loading 1 SFTs from H1...\n",
      "25-07-20 12:32:02.293 pyfstat.utils.sft INFO    : Loading 1 SFTs from H1...\n",
      "25-07-20 12:32:02.303 pyfstat.utils.sft INFO    : Loading 1 SFTs from H1...\n"
     ]
    }
   ],
   "source": [
    "\n",
    "ts = 1368970000\n",
    "Tday = 400\n",
    "timestamps, fourier_data = [], []\n",
    "for i in tqdm(range(48*Tday)):\n",
    "    tstart = ts + i * 1800\n",
    "    frequency, _timestamps, _fourier_data = get_sft_as_arrays('sfts/H-1_H1_1800SFT_simCW-{}-1800.sft'.format(tstart))\n",
    "    timestamps.append(_timestamps['H1'])\n",
    "    fourier_data.append(_fourier_data['H1'])"
   ]
  },
  {
   "cell_type": "code",
   "execution_count": null,
   "id": "9f27005e-28fe-4efe-8edc-8972022c82eb",
   "metadata": {},
   "outputs": [],
   "source": [
    "timestamps = np.concatenate(timestamps)"
   ]
  },
  {
   "cell_type": "code",
   "execution_count": null,
   "id": "3d3f9882-67b5-402d-8a71-0adda7e63ce3",
   "metadata": {},
   "outputs": [],
   "source": [
    "fourier_data = np.concatenate(fourier_data,axis=1)"
   ]
  },
  {
   "cell_type": "code",
   "execution_count": null,
   "id": "5afc4e9e-6f9a-4289-a627-33f72ad3cdcc",
   "metadata": {},
   "outputs": [],
   "source": [
    "idx = np.where((frequency<20.2)*(frequency>19.9))[0]\n",
    "data1 = fourier_data.real ** 2 + fourier_data.imag ** 2\n",
    "\n",
    "fig, ax = plot_spectrograms(\n",
    "    timestamps, frequency[idx], data1[idx],\n",
    ");\n"
   ]
  },
  {
   "cell_type": "code",
   "execution_count": null,
   "id": "83658101-9ce1-44a1-b3f1-00dac95e3d3e",
   "metadata": {},
   "outputs": [],
   "source": []
  }
 ],
 "metadata": {
  "kernelspec": {
   "display_name": "glitch",
   "language": "python",
   "name": "glitch"
  },
  "language_info": {
   "codemirror_mode": {
    "name": "ipython",
    "version": 3
   },
   "file_extension": ".py",
   "mimetype": "text/x-python",
   "name": "python",
   "nbconvert_exporter": "python",
   "pygments_lexer": "ipython3",
   "version": "3.10.16"
  }
 },
 "nbformat": 4,
 "nbformat_minor": 5
}
